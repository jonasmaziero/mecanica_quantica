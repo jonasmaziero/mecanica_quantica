{
 "cells": [
  {
   "cell_type": "markdown",
   "metadata": {},
   "source": [
    "### Notas de aula de Mecânica Quântica <br> Autor: Jonas Maziero"
   ]
  },
  {
   "cell_type": "markdown",
   "metadata": {},
   "source": [
    "# Probabilidades e estatística\n",
    "Em geral, quando não podemos prever com certeza os resultados de medidas de um certo observável, o tratamos como uma variável aleatória, que denotamos e.g. por X. O estado de X é descrito completamente pela distribuição de probabilidades (DP) dos seus possíveis valores. A descrição estatística de X é obtida a partir de sua DP. Como a Mecânica Quântica é uma teoria probabilística, antes de iniciarmos o seu estudo, precisaremos revisar alguns conceitos básicos sobre teoria de probabilidades e estatística."
   ]
  },
  {
   "cell_type": "markdown",
   "metadata": {},
   "source": [
    "## Variáveis discretas\n",
    "\n",
    "### Probabilidade\n",
    "Consideremos uma variável aleatória $X$ que pode assumir os valores $\\{x_{1},x_{2},\\cdots,x_{d}\\}$. A probabilidade do valor $x_{j}$ ser obtido é a frequência relativa com que esse valor é obtido ao medirmos $X$ um número muito grande (idealmente $\\infty$) de vezes:\n",
    "\\begin{equation}\n",
    "Pr(x_{j}) = p_{j} = \\frac{\\text{No. de vezes que } x_{j} \\text{ é obtido}}{\\text{No. total de medidas de }X} = \\frac{N(x_{j})}{N} = \\frac{N_{j}}{N}.\n",
    "\\end{equation}\n",
    "Claro, essas frequências são números reais entre $0$ e $1$, i.e.,\n",
    "\\begin{equation}\n",
    "0 \\le p_{j} \\le 1.\n",
    "\\end{equation}\n",
    "Além disso, se em cada medida obtemos um resultado válido, devemos ter também\n",
    "\\begin{equation}\n",
    "\\sum_{j=1}^{d} N_{j} = N.\n",
    "\\end{equation}\n",
    "Com isso vem que\n",
    "\\begin{equation}\n",
    "\\sum_{j=1}^{d} p_{j} = \\sum_{j=1}^{d} \\frac{N_{j}}{N} = \\frac{1}{N}\\sum_{j=1}^{d} N_{j} = \\frac{N}{N} = 1.\n",
    "\\end{equation}\n",
    "\n",
    "Por conseguinte, as relações \n",
    "$$0 \\le p_{j} \\le 1 \\text{ e } \\sum_{j=1}^{d} p_{j} = 1$$\n",
    "caracterizam qualquer __distribuição de probabilidades válida__. \n",
    "\n",
    "Podemos fazer uma caracterização incompleta da distribuição de probabilidades de $X$ usando seu \"centro\" (dado pelo valor médio) e sua \"largura\" (dada pelo desvio padrão)."
   ]
  },
  {
   "cell_type": "markdown",
   "metadata": {},
   "source": [
    "### Valor médio\n",
    "O valor médio de uma variável aleatória $X$, que pode assumir os valores $\\{x_{j}\\}_{j=1}^{d}$ com probabilidades correspondentes $\\{p_{j}\\}_{j=1}^{d}$, indica o \"centro\" de uma DP e é definido como\n",
    "\\begin{equation}\n",
    "\\langle X \\rangle = \\sum_{j=1}^{d} x_{j}p_{j}.\n",
    "\\end{equation}\n",
    "Ou seja, obtemos $\\langle X\\rangle$ multiplicando cada valor de $X$ pela frequência relativa com que este é obtido e somando-se os resultados. O valor médio não precisa necessariamente ser um dos valores possíveis de $X$, mas deve estar no intervalo entre seu menor valor e seu maior valor, i.e., $$X_{\\min}\\le\\langle X\\rangle\\le X_{\\max}.$$ Vale mencionar também que se $p_{j} = 1$ para um certo valor de $j$, então $\\langle X \\rangle = x_{j}$."
   ]
  },
  {
   "cell_type": "markdown",
   "metadata": {},
   "source": [
    "### Valor médio de uma função de X\n",
    "Sem perda de generalidade, se desconsideramos possíveis degenerescências da função $f(x_{j})$ (valores iguais de $f(x_{j})$ para diferentes $x_{j}$), é claro que a frequência relativa com que obtemos $x_{j}$ e o valor correspondente de sua função $f(x_{j})$ é a mesma. Por conseguinte, como $f(X)$ também é uma variável aleatória com DP $\\{p_{j}\\}$, teremos\n",
    "\\begin{equation}\n",
    "\\langle f(X) \\rangle = \\sum_{j=1}^{d} f(x_{j})p_{j}.\n",
    "\\end{equation}\n",
    "\n",
    "### Desvio padrão\n",
    "O desvio padrão é uma quantidade importante em Mecânica Quântica e mede nossa incerteza sobre uma variável aleatória. O desvio padrão é definido e denotado por\n",
    "\\begin{equation}\n",
    "\\sigma_{X}:=\\sqrt{\\mathrm{Var}(X)},\n",
    "\\end{equation}\n",
    "com a __variância__ de $X$ sendo\n",
    "\\begin{align}\n",
    "\\mathrm{Var}(X)& =\\langle (X-\\langle X\\rangle)^{2}\\rangle = \\sum_{j=1}^{d} (x_{j}-\\langle X\\rangle)^{2} p_{j} \\\\\n",
    "& = \\langle X^{2}\\rangle - \\langle X\\rangle^{2}.\n",
    "\\end{align}\n",
    "Note que $\\langle X\\rangle$ é um valor escalar fixo, fixada a DP."
   ]
  },
  {
   "cell_type": "markdown",
   "metadata": {},
   "source": [
    "#### Exemplo: Moeda\n",
    "\n",
    "Como em geral na prática não podemos prever com certeza qual será o resultado do lançamento de uma moeda (se cara ou coroa), a melhor descrição que podemos fazer desse sistema é uma descrição estatística através de probabilidades. No caso ideal teremos que\n",
    "$$\\{p_{cara},p_{coroa}\\} = \\{0.5,0.5\\}.$$\n",
    "Digamos que estamos jogando no valor da moeda. Se sai cara ganho um real, se sai coroa perco um real. Teremos assim as probabilidades\n",
    "$$\\{p_{1},p_{-1}\\} = \\{p_{cara},p_{coroa}\\} = \\{0.5,0.5\\}.$$\n",
    "Se fizermos um número muito grande de jogadas da moeda, em média ganharemos\n",
    "$$\\langle X\\rangle = p_1 (1) + p_{-1} (-1) = 0.5 - 0.5 = 0$$\n",
    "reais."
   ]
  },
  {
   "cell_type": "markdown",
   "metadata": {},
   "source": [
    "#### Exemplo: Estado térmico de Gibbs do oscilador harmônico quântico (OH)\n",
    "As energias do OH são\n",
    "\\begin{equation}\n",
    "E_{j} = \\hbar\\omega(j+1/2),\n",
    "\\end{equation}\n",
    "com \n",
    "$$\\hbar=1,054571817\\times 10^{-34}\\text{ Js}$$\n",
    "sendo a constante de Planck, $\\omega=2\\pi f$ a frequência angular e \n",
    "$$j = 0, 1, 2, \\cdots, \\infty.$$\n",
    "Se o OH está em equilíbrio térmico com um reservatório térmico de temperatura $T$, a probabilidade da energia $E_{j}$ é\n",
    "\\begin{equation}\n",
    "p_{j} = (1-e^{-\\beta\\hbar\\omega})e^{-\\beta\\hbar\\omega j},\n",
    "\\end{equation}\n",
    "onde \n",
    "$$\\beta = \\frac{1}{k_{B}T}$$\n",
    "com \n",
    "$$k_{B} = 1,380649\\times 10^{-23} \\text{ J/K}$$\n",
    "sendo a constante de Boltzmann.\n",
    "\n",
    "A _energia média_ do OH é\n",
    "\\begin{align}\n",
    "\\langle E \\rangle & = \\sum_{j=0}^{\\infty} E_{j}p_{j} \\\\ \n",
    "& = \\sum_{j=0}^{\\infty} \\hbar\\omega(j+1/2)(1-e^{-\\beta\\hbar\\omega})e^{-\\beta\\hbar\\omega j} \\\\\n",
    "                  & = 2^{-1}\\hbar\\omega(1-e^{-\\beta\\hbar\\omega})\\sum_{j=0}^{\\infty}e^{-\\beta\\hbar\\omega j} +  \\hbar\\omega(1-e^{-\\beta\\hbar\\omega})\\sum_{j=0}^{\\infty}je^{-\\beta\\hbar\\omega j} \\\\\n",
    "                  & = 2^{-1}\\hbar\\omega(1-e^{-\\beta\\hbar\\omega})\\sum_{j=0}^{\\infty}(e^{-\\beta\\hbar\\omega})^{j} +  \\hbar\\omega(1-e^{-\\beta\\hbar\\omega})\\sum_{j=0}^{\\infty}j(e^{-\\beta\\hbar\\omega})^{j}.\n",
    "\\end{align}"
   ]
  },
  {
   "cell_type": "markdown",
   "metadata": {},
   "source": [
    "A série de Taylor de uma função $f(x)$ em torno do ponto $x_{0}$ é\n",
    "\\begin{equation}\n",
    "f(x)\\big|_{x_{0}} = \\sum_{j=0}^{\\infty}\\left(\\frac{\\partial^{j} f(x)}{\\partial x^{j}}\\right)_{x_{0}}\\frac{(x-x_{0})^{j}}{j!}.\n",
    "\\end{equation}\n",
    "Para a função \n",
    "$$f(x) = \\frac{1}{1-x}$$\n",
    "expandida em torno de $x_{0}=0$, usando a notação $\\partial_{x^{j}}=\\frac{\\partial}{\\partial x^{j}}$, teremos \n",
    "\\begin{align}\n",
    "& f(x_{0})=1, \\\\\n",
    "& \\partial_{x^{1}}f|_{0}=\\partial_{x}f|_{0}=\\partial_{x}(1-x)^{-1}|_{0}=(1-x)^{-2}|_{0}=1, \\\\\n",
    "& \\partial_{x^{2}}f|_{0}=\\partial_{xx}f|_{0}=\\partial_{x}(1-x)^{-2}|_{0}=2(1-x)^{-3}|_{0}=2, \\\\\n",
    "& \\partial_{x^{3}}f|_{0}=\\partial_{xxx}f|_{0}=\\partial_{x}2(1-x)^{-3}|_{0}=6(1-x)^{-4}|_{0}=3!, \\\\\n",
    "& \\vdots, \\\\\n",
    "& \\partial_{x^{j}}f|_{0}=j!.\n",
    "\\end{align}\n",
    "Com isso, vem que \n",
    "\\begin{equation}\n",
    "\\frac{1}{1-x} = \\sum_{j=0}^{\\infty}j!\\frac{(x-0)^{j}}{j!}=\\sum_{j=0}^{\\infty}x^{j}.\n",
    "\\end{equation}\n",
    "\n",
    "Para continuar com o cálculo de $\\langle E\\rangle$, precisamos de algumas séries. Partimos da série acima, que converge para $|x|<1,$ e notamos que a condição é satisfeita pois $x=e^{-\\beta\\hbar\\omega} \\in (0,1).$"
   ]
  },
  {
   "cell_type": "markdown",
   "metadata": {},
   "source": [
    "Usando \n",
    "$$\\partial_{x}x^{j+1} = (j+1)x^{j} = jx^{j} + x^{j},$$\n",
    "obteremos\n",
    "\\begin{align}\n",
    "\\sum_{j=0}^{\\infty} jx^{j} & = \\sum_{j=0}^{\\infty} (\\partial_{x}x^{j+1} - x^{j})  = \\frac{\\partial}{\\partial x}\\left(x\\sum_{j=0}^{\\infty} x^{j}\\right) - \\sum_{j=0}^{\\infty} x^{j} \\\\\n",
    "& = \\frac{\\partial}{\\partial x}\\left(x\\frac{1}{1-x}\\right) - \\frac{1}{1-x} \\\\\n",
    "& = \\frac{1}{1-x} + \\frac{x}{(1-x)^{2}} - \\frac{1}{1-x} \\\\\n",
    "&= \\frac{x}{(1-x)^{2}}.\n",
    "\\end{align}\n",
    "\n",
    "Assim\n",
    "\\begin{align}\n",
    "\\langle E \\rangle & = 2^{-1}\\hbar\\omega(1-e^{-\\beta\\hbar\\omega})\\frac{1}{1-e^{-\\beta\\hbar\\omega}} +  \\hbar\\omega(1-e^{-\\beta\\hbar\\omega})\\frac{e^{-\\beta\\hbar\\omega}}{(1-e^{-\\beta\\hbar\\omega})^{2}} \\\\\n",
    "& = \\hbar\\omega\\left(\\frac{1}{2} + \\frac{e^{-\\beta\\hbar\\omega}}{1-e^{-\\beta\\hbar\\omega}}\\right)  \\\\\n",
    "& = \\hbar\\omega\\left(\\frac{1}{2} + \\frac{1}{e^{\\beta\\hbar\\omega}-1}\\right).\n",
    "\\end{align}"
   ]
  },
  {
   "cell_type": "code",
   "execution_count": 13,
   "metadata": {},
   "outputs": [],
   "source": [
    "from sympy import symbols, Sum, diff, init_printing, oo\n",
    "init_printing(use_unicode=True)"
   ]
  },
  {
   "cell_type": "code",
   "execution_count": 15,
   "metadata": {},
   "outputs": [
    {
     "data": {
      "image/png": "[encoded data removed]",
      "text/latex": [
       "$\\displaystyle \\left( \\begin{cases} \\frac{1}{1 - x} & \\text{for}\\: \\left|{x}\\right| < 1 \\\\\\sum_{j=0}^{\\infty} x^{j} & \\text{otherwise} \\end{cases}, \\  \\begin{cases} \\frac{x}{\\left(1 - x\\right)^{2}} & \\text{for}\\: \\left|{x}\\right| < 1 \\\\\\sum_{j=0}^{\\infty} j x^{j} & \\text{otherwise} \\end{cases}, \\  \\frac{x^{j + 2} \\left(j + 1\\right) \\left(j + 2\\right)}{x^{2}}\\right)$"
      ],
      "text/plain": [
       "⎛⎧   1                   ⎧    x                                          ⎞\n",
       "⎜⎪ ─────    for │x│ < 1  ⎪ ────────   for │x│ < 1                        ⎟\n",
       "⎜⎪ 1 - x                 ⎪        2                                      ⎟\n",
       "⎜⎪                       ⎪ (1 - x)                                       ⎟\n",
       "⎜⎪  ∞                    ⎪                          j + 2                ⎟\n",
       "⎜⎪ ___                   ⎪  ∞                      x     ⋅(j + 1)⋅(j + 2)⎟\n",
       "⎜⎨ ╲                   , ⎨ ___                   , ──────────────────────⎟\n",
       "⎜⎪  ╲    j               ⎪ ╲                                  2          ⎟\n",
       "⎜⎪  ╱   x    otherwise   ⎪  ╲      j                         x           ⎟\n",
       "⎜⎪ ╱                     ⎪  ╱   j⋅x    otherwise                         ⎟\n",
       "⎜⎪ ‾‾‾                   ⎪ ╱                                             ⎟\n",
       "⎜⎪j = 0                  ⎪ ‾‾‾                                           ⎟\n",
       "⎝⎩                       ⎩j = 0                                          ⎠"
      ]
     },
     "execution_count": 15,
     "metadata": {},
     "output_type": "execute_result"
    }
   ],
   "source": [
    "# Séries e derivadas no Sympy\n",
    "x,j = symbols('x j'); Sum(x**j,(j,0,oo)).doit(), Sum(j*x**j,(j,0,oo)).doit(), diff(x**(j+2), x, x)"
   ]
  },
  {
   "cell_type": "markdown",
   "metadata": {},
   "source": [
    "A seguir, precisaremos da série $\\sum_{j=0}^{\\infty}j^{2}x^{j}.$ Usando \n",
    "$$\\partial_{xx}x^{j+2} = \\partial_{x}(j+2)x^{j+1} = (j+1)(j+2)x^{j} = (j^{2} + 3j + 2)x^{j}$$\n",
    "obteremos\n",
    "\\begin{align}\n",
    "\\sum_{j=0}^{\\infty}j^{2}x^{j} & = \\partial_{xx}\\left(x^{2}\\sum_{j=0}^{\\infty}x^{j}\\right) - 3\\sum_{j=0}^{\\infty}jx^{j} - 2\\sum_{j=0}^{\\infty}x^{j}  \\\\\n",
    "& = \\partial_{xx}\\left(x^{2}\\frac{1}{1-x}\\right) - 3\\frac{x}{(1-x)^{2}} - 2\\frac{1}{1-x} \\\\\n",
    "& = \\partial_{x}\\left(2x\\frac{1}{1-x} + x^{2}\\frac{1}{(1-x)^{2}}\\right) - 3\\frac{x}{(1-x)^{2}} - 2\\frac{1}{1-x} \\\\\n",
    "& = 2\\frac{1}{1-x} + 2x\\frac{1}{(1-x)^{2}} + 2x\\frac{1}{(1-x)^{2}} + 2x^{2}\\frac{1}{(1-x)^{3}} - 3\\frac{x}{(1-x)^{2}} - 2\\frac{1}{1-x} \\\\\n",
    "& = 2x^{2}\\frac{1}{(1-x)^{3}} + x\\frac{1}{(1-x)^{2}} = x\\frac{1}{(1-x)^{2}}\\left(\\frac{2x}{1-x} + 1\\right) \\\\\n",
    "& = x\\frac{1}{(1-x)^{2}}\\frac{1+x}{1-x} \\\\\n",
    "& = \\frac{x(1+x)}{(1-x)^{3}}.\n",
    "\\end{align}"
   ]
  },
  {
   "cell_type": "code",
   "execution_count": 18,
   "metadata": {},
   "outputs": [
    {
     "data": {
      "image/png": "[encoded data removed]",
      "text/latex": [
       "$\\displaystyle \\begin{cases} \\frac{x \\left(- x - 1\\right)}{\\left(x - 1\\right)^{3}} & \\text{for}\\: \\left|{x}\\right| < 1 \\\\\\sum_{j=0}^{\\infty} j^{2} x^{j} & \\text{otherwise} \\end{cases}$"
      ],
      "text/plain": [
       "⎧x⋅(-x - 1)              \n",
       "⎪──────────   for │x│ < 1\n",
       "⎪        3               \n",
       "⎪ (x - 1)                \n",
       "⎪                        \n",
       "⎪  ∞                     \n",
       "⎨ ___                    \n",
       "⎪ ╲                      \n",
       "⎪  ╲    2  j             \n",
       "⎪  ╱   j ⋅x    otherwise \n",
       "⎪ ╱                      \n",
       "⎪ ‾‾‾                    \n",
       "⎩j = 0                   "
      ]
     },
     "execution_count": 18,
     "metadata": {},
     "output_type": "execute_result"
    }
   ],
   "source": [
    "Sum((j**2)*x**j,(j,0,oo)).doit() # Uso do Sympy para verificar a série acima"
   ]
  },
  {
   "cell_type": "markdown",
   "metadata": {},
   "source": [
    "Com isso, vem que\n",
    "\\begin{align}\n",
    "\\langle E^{2}\\rangle & = \\sum_{j=0}^{\\infty} E_{j}^{2}p_{j} \\\\ \n",
    "& = \\sum_{j=0}^{\\infty} \\hbar^{2}\\omega^{2}(1/2+j)^{2}(1-e^{-\\beta\\hbar\\omega})(e^{-\\beta\\hbar\\omega})^{j} \\\\\n",
    "                     & = \\hbar^{2}\\omega^{2}(1-e^{-\\beta\\hbar\\omega})\\sum_{j=0}^{\\infty} (1/4+j+j^{2})(e^{-\\beta\\hbar\\omega})^{j} \\\\\n",
    "                     & = \\hbar^{2}\\omega^{2}(1-e^{-\\beta\\hbar\\omega}) \\left( \\frac{1}{4}\\sum_{j=0}^{\\infty}(e^{-\\beta\\hbar\\omega})^{j} + \\sum_{j=0}^{\\infty}j(e^{-\\beta\\hbar\\omega})^{j} + \\sum_{j=0}^{\\infty}j^{2}(e^{-\\beta\\hbar\\omega})^{j} \\right) \\\\\n",
    "                     & = \\hbar^{2}\\omega^{2}(1-e^{-\\beta\\hbar\\omega}) \\left( \\frac{1}{4}\\frac{1}{1-e^{-\\beta\\hbar\\omega}} + \\frac{e^{-\\beta\\hbar\\omega}}{\\left(1-e^{-\\beta\\hbar\\omega}\\right)^{2}} + \\frac{e^{-\\beta\\hbar\\omega}(1+e^{-\\beta\\hbar\\omega})}{(1-e^{-\\beta\\hbar\\omega})^{3}} \\right) \\\\\n",
    "                     & = \\hbar^{2}\\omega^{2} \\left( \\frac{1}{4} + \\frac{e^{-\\beta\\hbar\\omega}}{\\left(1-e^{-\\beta\\hbar\\omega}\\right)} + \\frac{e^{-\\beta\\hbar\\omega}(1+e^{-\\beta\\hbar\\omega})}{(1-e^{-\\beta\\hbar\\omega})^{2}} \\right) \\\\\n",
    "                     & = \\hbar^{2}\\omega^{2} \\left( \\frac{1}{4} + \\frac{1}{\\left(e^{\\beta\\hbar\\omega}-1\\right)} + \\frac{e^{\\beta\\hbar\\omega}+1}{(e^{\\beta\\hbar\\omega}-1)^{2}} \\right).\n",
    "\\end{align}"
   ]
  },
  {
   "cell_type": "markdown",
   "metadata": {},
   "source": [
    "Finalmente, o desvio padrão da energia é dado por\n",
    "\\begin{align}\n",
    "\\sigma_{E} & = \\sqrt{\\langle E^{2}\\rangle - \\langle E\\rangle^{2}} \\\\\n",
    "& = \\sqrt{\\hbar^{2}\\omega^{2} \\left( \\frac{1}{4} + \\frac{1}{\\left(e^{\\beta\\hbar\\omega}-1\\right)} + \\frac{e^{\\beta\\hbar\\omega}+1}{(e^{\\beta\\hbar\\omega}-1)^{2}} \\right) - \\hbar^{2}\\omega^{2}\\left(\\frac{1}{2} + \\frac{1}{e^{\\beta\\hbar\\omega}-1}\\right)^{2}} \\\\\n",
    "& = \\hbar\\omega\\sqrt{ \\left( \\frac{1}{4} + \\frac{1}{\\left(e^{\\beta\\hbar\\omega}-1\\right)} + \\frac{e^{\\beta\\hbar\\omega}+1}{(e^{\\beta\\hbar\\omega}-1)^{2}} \\right) - \\left(\\frac{1}{4} + \\frac{1}{e^{\\beta\\hbar\\omega}-1} + \\frac{1}{(e^{\\beta\\hbar\\omega}-1)^{2}}\\right)} \\\\\n",
    "& = \\hbar\\omega\\sqrt{\\frac{e^{\\beta\\hbar\\omega}}{(e^{\\beta\\hbar\\omega}-1)^{2}}}  \\\\\n",
    "& = \\hbar\\omega\\frac{e^{\\beta\\hbar\\omega/2}}{e^{\\beta\\hbar\\omega}-1} \\\\\n",
    "& = \\hbar\\omega\\frac{1}{e^{\\beta\\hbar\\omega/2}-e^{-\\beta\\hbar\\omega/2}} \\\\ \n",
    "& = \\frac{\\hbar\\omega}{2\\sinh(\\beta\\hbar\\omega/2)}.\n",
    "\\end{align}"
   ]
  },
  {
   "cell_type": "code",
   "execution_count": 22,
   "metadata": {},
   "outputs": [],
   "source": [
    "from ipywidgets import interactive \n",
    "import numpy as np\n",
    "from matplotlib import pyplot as plt\n",
    "from sympy import exp, sinh"
   ]
  },
  {
   "cell_type": "code",
   "execution_count": 24,
   "metadata": {},
   "outputs": [
    {
     "data": {
      "application/vnd.jupyter.widget-view+json": {
       "model_id": "60f236520fb74bab9c670a45b6003904",
       "version_major": 2,
       "version_minor": 0
      },
      "text/plain": [
       "interactive(children=(FloatSlider(value=1.55, description='bho', max=3.0, min=0.1), Output()), _dom_classes=('…"
      ]
     },
     "execution_count": 24,
     "metadata": {},
     "output_type": "execute_result"
    }
   ],
   "source": [
    "def prj(bho):\n",
    "    N = 30; x = np.zeros(N); y = np.zeros(N)\n",
    "    for j in range(0,N):\n",
    "        x[j] = j; y[j] = (1-np.exp(-bho))*(np.exp(-bho))**j\n",
    "    plt.bar(x, y, label = '', color = 'red')\n",
    "    plt.xlabel(r'$j$'); plt.ylabel(r'$p_{j}$')\n",
    "    vl = 1/2+1/(exp(bho)-1)\n",
    "    plt.axvline(x=vl, color='k', linestyle='--') # número médio de quanta\n",
    "    sj = 1/(2*sinh(bho/2))  # desvio padrão do número de quanta\n",
    "    plt.axhline(y=0.5, xmin=(vl-sj+0.5)/N, xmax=(vl+sj+0.5)/N, color='b',\\\n",
    "                linestyle='-', linewidth=2)\n",
    "    axes = plt.gca(); axes.set_xlim([0-0.5,N]); axes.set_ylim([0,1])\n",
    "    plt.show()\n",
    "interactive(prj, bho = (0.1,3))"
   ]
  },
  {
   "cell_type": "markdown",
   "metadata": {},
   "source": [
    "---\n",
    "## Variáveis contínuas\n",
    "Neste caso, lidaremos com observáveis (variáveis aleatórias) que possuem um espectro contínuo, i.e., seu conjunto de valores possível não é enumerável como no exemplo acima.\n",
    "\n",
    "### Densidade de probabilidade\n",
    "Como não faz sentido falar na probabilidade de um valor específico de uma variável aleatória $X$  contínua, usamos a densidade de probabilidade $\\rho(x)$, que é a probabilidade por intervalo infinitesimal $dx$ de valores de $X$. Teremos assim que\n",
    "\\begin{equation}\n",
    "\\rho(x)dx = \\text{probabilidade de obter o valor de } X \\text{ entre } x \\text{ e } x+dx.\n",
    "\\end{equation}\n",
    "\n",
    "Se conhecemos a função $\\rho(x)$, para calcular a frequência relativa com que valores de $X$ são obtidos dentro de um certo intervalo finito $[a,b]$, somamos as probabilidades nos sub-intervalos infinitesimais contidos em $[a,b]$:\n",
    "\\begin{equation}\n",
    "Pr(x\\in[a,b]) = \\int_{a}^{b} \\rho(x)dx.\n",
    "\\end{equation}\n",
    "\n",
    "Analogamente ao caso discreto, como $dx>0$ temos não negatividade da densidade de probabilidade, $$\\rho(x)\\ge 0\\text{ }\\forall x,$$ e teremos a seguinte condição de normalização para a distribuição de probabilidades:\n",
    "\\begin{equation}\n",
    "\\int_{-\\infty}^{+\\infty} \\rho(x)dx = 1.\n",
    "\\end{equation}\n",
    "No entanto, podemos ter $\\rho(x)\\le1$ mas também podemos ter $\\rho(x)>1$ (mas sempre respeitando a normalização acima)."
   ]
  },
  {
   "cell_type": "markdown",
   "metadata": {},
   "source": [
    "### Valor médio e desvio padrão\n",
    "O cálculo dessas quantidades para variáveis contínuas segue a mesma idea que para variáveis discretas, ou seja:\n",
    "\\begin{align}\n",
    "\\langle X \\rangle & = \\int_{-\\infty}^{+\\infty} x\\rho(x)dx, \\langle f(X) \\rangle = \\int_{-\\infty}^{+\\infty} f(x)\\rho(x)dx, \\\\\n",
    "\\sigma_{X}^{2} & = \\langle (X - \\langle X \\rangle)^{2} \\rangle = \\int_{-\\infty}^{+\\infty} (x - \\langle X \\rangle)^{2}\\rho(x)dx = \\langle X^{2} \\rangle - \\langle X \\rangle^{2}. \\\\\n",
    "\\end{align}\n",
    "\n",
    "#### Exemplo <br> Distribuição Gaussiana de velocidades\n",
    "Esta é uma das DP mais importantes para a ciência e tem a forma\n",
    "\\begin{equation}\n",
    "\\rho_{G}(x) = \\frac{1}{\\sqrt{2\\pi \\sigma^{2}}}e^{-(x-\\mu)^{2}/2\\sigma^{2}}.\n",
    "\\end{equation}\n",
    "A seguir verificaremos que $\\mu$ é o valor médio de $X$ e $\\sigma$ é o desvio padrão associado."
   ]
  },
  {
   "cell_type": "markdown",
   "metadata": {},
   "source": [
    "#### Integral Gaussiana $G = \\int_{-\\infty}^{+\\infty}e^{-ax^{2}}dx = \\sqrt{\\frac{\\pi}{a}}$ <br>\n",
    "Fazemos essa integral notando que\n",
    "\\begin{equation}\n",
    "G^{2} = \\left(\\int_{-\\infty}^{\\infty}e^{-ax^{2}}dx\\right)\\left(\\int_{-\\infty}^{\\infty}e^{-ay^{2}}dy\\right)  = \\int_{-\\infty}^{\\infty}\\int_{-\\infty}^{\\infty} e^{-a(x^{2}+y^{2})} dx dy.\n",
    "\\end{equation}\n",
    "Agora mudamos de coordenadas retangulares para polares: \n",
    "$$x = r\\cos\\theta\\text{, }y = r\\sin\\theta\\text{, }da = dxdy = rdrd\\theta$$\n",
    "com $x\\in(-\\infty,\\infty)$, $y\\in(-\\infty,\\infty)$, $r\\in[0,\\infty)$, $\\theta\\in[0,2\\pi)$. Assim\n",
    "\\begin{align}\n",
    "G^{2} &= \\int_{0}^{\\infty}\\int_{0}^{2\\pi} e^{-ar^2} rdrd\\theta \\\\\n",
    "& = 2\\pi\\int_{0}^{-\\infty} e^{u} \\frac{-du}{2a} \\\\ \n",
    "& = -\\frac{\\pi}{a}\\left(e^{-\\infty}-e^{0}\\right) \\\\\n",
    "& = \\frac{\\pi}{a},\n",
    "\\end{align}\n",
    "em que usamos a mudança de variável $u=-ar^{2}\\therefore du=-2ardr$, com $r=0\\Rightarrow u=0$ e $r=\\infty\\Rightarrow u=-\\infty.$"
   ]
  },
  {
   "cell_type": "code",
   "execution_count": 29,
   "metadata": {},
   "outputs": [
    {
     "data": {
      "image/png": "[encoded data removed]",
      "text/latex": [
       "$\\displaystyle \\begin{cases} \\frac{\\sqrt{\\pi}}{\\sqrt{a}} & \\text{for}\\: \\left|{\\arg{\\left(a \\right)}}\\right| \\leq \\frac{\\pi}{2} \\\\\\int\\limits_{-\\infty}^{\\infty} e^{- a x^{2}}\\, dx & \\text{otherwise} \\end{cases}$"
      ],
      "text/plain": [
       "⎧     √π                      π\n",
       "⎪     ──       for │arg(a)│ ≤ ─\n",
       "⎪     √a                      2\n",
       "⎪                              \n",
       "⎪∞                             \n",
       "⎨⌠                             \n",
       "⎪⎮       2                     \n",
       "⎪⎮   -a⋅x                      \n",
       "⎪⎮  ℯ      dx     otherwise    \n",
       "⎪⌡                             \n",
       "⎩-∞                            "
      ]
     },
     "execution_count": 29,
     "metadata": {},
     "output_type": "execute_result"
    }
   ],
   "source": [
    "from sympy import integrate\n",
    "x, a = symbols('x a'); integrate(exp(-a*x**2),(x,-oo,oo)) # Integrais com Sympy"
   ]
  },
  {
   "cell_type": "markdown",
   "metadata": {},
   "source": [
    "Com isso, já podemos calcular o valor médio de $X$ com DP Gaussiana:\n",
    "\\begin{align}\n",
    "\\langle X \\rangle = \\int_{-\\infty}^{\\infty} x\\rho_{G}(x)dx = \\int_{-\\infty}^{\\infty} x\\frac{1}{\\sqrt{2\\pi \\sigma^{2}}}e^{-(x-\\mu)^{2}/2\\sigma^{2}}dx.\n",
    "\\end{align}\n",
    "Fazendo a mudança de variável $$y = (x-\\mu)/\\sqrt{2}\\sigma \\therefore dy=dx/\\sqrt{2}\\sigma,$$ obtemos (para $\\mu$ finito)\n",
    "\\begin{align}\n",
    "\\langle X \\rangle & = \\frac{1}{\\sqrt{2\\pi \\sigma^{2}}}\\int_{-\\infty}^{\\infty} (\\sqrt{2}\\sigma y+\\mu)e^{-y^{2}} \\sqrt{2} \\sigma dy \\\\ \n",
    "&= \\frac{1}{\\sqrt{2\\pi \\sigma^{2}}}\\left (2\\sigma^{2}\\int_{-\\infty}^{\\infty}y e^{-y^{2}}dy + \\sqrt{2}\\sigma\\mu \\int_{-\\infty}^{\\infty} e^{-y^{2}}dy \\right) \\\\\n",
    "& = \\frac{1}{\\sqrt{2\\pi \\sigma^{2}}}\\left (2\\sigma^{2}0 + \\sqrt{2}\\sigma\\mu\\sqrt{\\pi/1} \\right) \\\\\n",
    "& = \\mu.\n",
    "\\end{align}\n",
    "Acima, a primeira integral é nula pois envolve uma função ímpar."
   ]
  },
  {
   "cell_type": "markdown",
   "metadata": {},
   "source": [
    "#### Integral de uma função ímpar\n",
    "Consideremos uma função ímpar no intervalo simétrico $x\\in[-a,a]$ em torno de $x=0$, i.e., $f(x)=-f(-x)$. Queremos provar que \n",
    "\\begin{equation}\n",
    "\\int_{-a}^{a}f(x)dx = \\int_{-a}^{0}f(x)dx+\\int_{0}^{a}f(x)dx=0\\therefore \\int_{-a}^{0}f(x)dx=-\\int_{0}^{a}f(x)dx.\n",
    "\\end{equation}\n",
    "Para provar essa igualdade usaremos a mudança de variável $u=-x\\therefore du=-dx$:\n",
    "\\begin{align}\n",
    "\\int_{-a}^{0}f(x)dx & = \\int_{a}^{0}f(-u)(-du) = -\\int_{a}^{0}f(-u)du = \\int_{0}^{a}f(-u)du = \\int_{0}^{a}(-f(u))du \\\\\n",
    "& = -\\int_{0}^{a}f(u)du \\equiv -\\int_{0}^{a}f(x)dx. \\hspace{7cm} \\square\n",
    "\\end{align}"
   ]
  },
  {
   "cell_type": "markdown",
   "metadata": {},
   "source": [
    "##### Integrais relacionadas à Gaussiana obtidas usando o truque de Feynman\n",
    "Primeiro notemos que $$\\partial_{a}e^{-a x^{2}} = -x^{2}e^{-a x^{2}}$$ Isso pode ser usado para a integral\n",
    "\\begin{align}\n",
    "\\int_{-\\infty}^{\\infty} x^{2}e^{-ax^{2}}dx & = \\int_{-\\infty}^{\\infty} (-\\partial_{a}e^{-a x^{2}})dx  = -\\partial_{a}\\int_{-\\infty}^{\\infty} e^{-a x^{2}}dx = -\\partial_{a}\\sqrt{\\frac{\\pi}{a}} \\\\\n",
    "                                           & = \\sqrt{\\frac{\\pi}{4 a^{3}}}.\n",
    "\\end{align}"
   ]
  },
  {
   "cell_type": "code",
   "execution_count": 34,
   "metadata": {},
   "outputs": [
    {
     "data": {
      "image/png": "[encoded data removed]",
      "text/latex": [
       "$\\displaystyle \\begin{cases} \\frac{\\sqrt{\\pi}}{2 a^{\\frac{3}{2}}} & \\text{for}\\: \\left|{\\arg{\\left(a \\right)}}\\right| < \\frac{\\pi}{2} \\\\\\int\\limits_{-\\infty}^{\\infty} x^{2} e^{- a x^{2}}\\, dx & \\text{otherwise} \\end{cases}$"
      ],
      "text/plain": [
       "⎧      √π                        π\n",
       "⎪    ──────       for │arg(a)│ < ─\n",
       "⎪       3/2                      2\n",
       "⎪    2⋅a                          \n",
       "⎪                                 \n",
       "⎪∞                                \n",
       "⎨⌠                                \n",
       "⎪⎮          2                     \n",
       "⎪⎮   2  -a⋅x                      \n",
       "⎪⎮  x ⋅ℯ      dx     otherwise    \n",
       "⎪⌡                                \n",
       "⎪-∞                               \n",
       "⎩                                 "
      ]
     },
     "execution_count": 34,
     "metadata": {},
     "output_type": "execute_result"
    }
   ],
   "source": [
    "x, a = symbols('x a'); integrate((x**2)*exp(-a*x**2),(x,-oo,oo))"
   ]
  },
  {
   "cell_type": "markdown",
   "metadata": {},
   "source": [
    "Teremos assim que (faz a mudança de variável $y=(x-\\mu)/\\sqrt{2}\\sigma$)\n",
    "\\begin{align}\n",
    "\\langle X^{2} \\rangle & = \\int_{-\\infty}^{\\infty} x^{2} \\rho_{G}(x)dx \\\\\n",
    "& = \\frac{1}{\\sqrt{2\\pi \\sigma^{2}}} \\int_{-\\infty}^{\\infty} x^{2} e^{-(x-\\mu)^{2}/2\\sigma^{2}}dx \\\\\n",
    "                  & = \\frac{1}{\\sqrt{2\\pi \\sigma^{2}}} \\int_{-\\infty}^{\\infty} \\left(\\sqrt{2}\\sigma y+\\mu\\right)^{2} e^{-y^{2}}\\sqrt{2}\\sigma dy = \\frac{1}{\\sqrt{\\pi}} \\int_{-\\infty}^{\\infty} \\left(2\\sigma^{2}y^{2}+2\\sqrt{2}\\sigma\\mu y+\\mu^{2}\\right) e^{-y^{2}}dy \\\\\n",
    "                  & = \\frac{1}{\\sqrt{\\pi}} \\left(2\\sigma^{2}\\int_{-\\infty}^{\\infty} y^{2} e^{-y^{2}}dy + 2\\sqrt{2}\\sigma\\mu\\int_{-\\infty}^{\\infty}  y e^{-y^{2}}dy + \\mu^{2}\\int_{-\\infty}^{\\infty}  e^{-y^{2}}dy \\right) \\\\\n",
    "                  & = \\frac{1}{\\sqrt{\\pi}} \\left(2\\sigma^{2}\\sqrt{\\pi/4} + 2\\sqrt{2}\\sigma\\mu0 + \\mu^{2}\\sqrt{\\pi} \\right) \\\\\n",
    "                  & = \\sigma^{2} + \\mu^{2}.\n",
    "\\end{align}\n",
    "\n",
    "#### Desvio padrão\n",
    "\\begin{align}\n",
    "Var(X) & = \\langle X^{2} \\rangle - \\langle X \\rangle^{2} = \\sigma^{2} + \\mu^{2} - \\mu^{2} = \\sigma^{2}. \\\\\n",
    "           & \\Rightarrow \\sigma_{X}=\\sigma.\n",
    "\\end{align}\n",
    "\n",
    "Exemplos de DP Gaussianas estão mostrados na figura abaixo."
   ]
  },
  {
   "cell_type": "code",
   "execution_count": 37,
   "metadata": {},
   "outputs": [
    {
     "data": {
      "application/vnd.jupyter.widget-view+json": {
       "model_id": "37ef53f6df764d6688f69f99ac6c42a4",
       "version_major": 2,
       "version_minor": 0
      },
      "text/plain": [
       "interactive(children=(IntSlider(value=0, description='mu', max=5, min=-5), FloatSlider(value=2.550000000000000…"
      ]
     },
     "execution_count": 37,
     "metadata": {},
     "output_type": "execute_result"
    }
   ],
   "source": [
    "def gaussiana(mu,sd):\n",
    "    N = 60; xv = np.zeros(2*N); yv = np.zeros(2*N)\n",
    "    for j in range(0,2*N):\n",
    "        x = (j-N)/6; xv[j] = x\n",
    "        yv[j] = (1/np.sqrt(2*np.pi*pow(sd,2)))\\\n",
    "                *np.exp(-((x-mu)**2)/(2*pow(sd,2)))\n",
    "    plt.plot(xv, yv, color = 'blue'); plt.xlabel(r'$x$')\n",
    "    plt.ylabel(r'$\\rho(x)$'); axes = plt.gca()\n",
    "    plt.xlim([-10,10]); plt.ylim([0,1]); plt.show()\n",
    "interactive(gaussiana, mu = (-5,5), sd = (0.1,5))"
   ]
  },
  {
   "cell_type": "markdown",
   "metadata": {},
   "source": [
    "### Teorema do limite central (TLC)\n",
    "Para qualquer variável aleatória $X$, se a medimos um número _finito_ de vezes (que é o que acontece na prática), o valor médio obtido será também uma variável aleatória. O TLC diz que a distribuição de probabilidades de $\\langle X \\rangle$ é a distribuição normal, com largura proporcional a (https://youtu.be/zeJD6dqJ5lo)\n",
    "$$\\frac{1}{\\sqrt{M}}$$\n",
    "se $M$ é o número de experimentos feitos para estimar $\\langle X\\rangle$. \n",
    "\n",
    "Vamos considerar como exemplo um __dado__, com $\\{x_{1},\\cdots,x_{6}\\}=\\{0,1,\\cdots,5\\}$. Vamos fazer $M$ experimentos, cada um com $N$ rolagens do dado. Em cada experimento obteremos um certo valor médio do valor do dado. Vamos então graficar a distribuição de probabilidades desses valores médios."
   ]
  },
  {
   "cell_type": "code",
   "execution_count": 40,
   "metadata": {},
   "outputs": [],
   "source": [
    "from numpy import random\n",
    "from sympy import sqrt"
   ]
  },
  {
   "cell_type": "code",
   "execution_count": 42,
   "metadata": {},
   "outputs": [
    {
     "data": {
      "application/vnd.jupyter.widget-view+json": {
       "model_id": "312032a25f8d43c0916f74c727a2755c",
       "version_major": 2,
       "version_minor": 0
      },
      "text/plain": [
       "interactive(children=(IntSlider(value=50, description='M', min=10, step=10), IntSlider(value=50, description='…"
      ]
     },
     "execution_count": 42,
     "metadata": {},
     "output_type": "execute_result"
    }
   ],
   "source": [
    "random.seed(); from scipy.stats import norm\n",
    "\n",
    "def tlc(M,N):\n",
    "    avg = np.zeros(M)\n",
    "    for j in range(0,M):\n",
    "        p = np.zeros(6)\n",
    "        for k in range(0,N):\n",
    "            rn = random.random()\n",
    "            for l in range(0,6):\n",
    "                if rn >= l/6. and rn < (l+1)/6.:\n",
    "                    p[l] += 1\n",
    "        for l in range(0,6):\n",
    "            p[l] = p[l]/N; avg[j] += l*p[l]\n",
    "    bins = [0, 0.25, 0.5, 0.75, 1, 1.25, 1.5, 1.75, 2, 2.25, \\\n",
    "            2.5, 2.75, 3, 3.25, 3.5, 3.75, 4, 4.25, 4.5, 4.75, 5]\n",
    "    plt.hist(avg, bins, histtype='bar', rwidth=0.8)\n",
    "    mu, std = norm.fit(avg); xmin, xmax = plt.xlim()\n",
    "    x = np.linspace(xmin, xmax, 200); p = (M/4)*norm.pdf(x, mu, std)\n",
    "    plt.plot(x, p, 'k', linewidth=2)\n",
    "    title = \"Fit: mu = %.2f,  std = %.2f, 1/sqrt(M) = %.2f\" % (mu, std, 1/sqrt(M))\n",
    "    plt.title(title)\n",
    "    plt.xlabel(r'$\\langle X\\rangle$')\n",
    "    plt.ylabel(r'$Pr(\\langle X\\rangle)$'); plt.show()\n",
    "    \n",
    "interactive(tlc, M = (10,100,10), N = (10,100,10))"
   ]
  },
  {
   "cell_type": "markdown",
   "metadata": {},
   "source": [
    "## Covariância\n",
    "A covariância é uma medida de correlação entre (os valores de) duas variáveis aleatórias e é definida por:\n",
    "\\begin{equation}\n",
    "Cov(X,Y):= \\langle(X-\\langle X\\rangle)(Y-\\langle Y\\rangle)\\rangle.\n",
    "\\end{equation}\n",
    "Pode-se verificar que \n",
    "$$Cov(X,Y)= \\langle XY\\rangle-\\langle X\\rangle\\langle Y\\rangle.$$\n",
    "\n",
    "### Variáveis discretas\n",
    "Para calcular o valor médio do produto $XY$, precisamos da __distribuição de probabilidade conjunta__, ou seja, devemos conhecer a frequência relativa com que todos os pares de valores de $X$ e $Y$ são obtidos, 'simultaneamente'. Denotando $$Pr(X=x_{j},Y=y_{k})=p_{j,k}$$ teremos que\n",
    "\\begin{equation}\n",
    "\\langle XY\\rangle = \\sum_{j,k}x_{j}y_{k}p_{j,k}.\n",
    "\\end{equation}\n",
    "\n",
    "_OBS._ As __distribuições de probabilidade marginais__ são obtidas somando-se todas as frequências relativas nas quais aparece um certo valor da variável considerada. Por exemplo\n",
    "\\begin{equation}\n",
    "Pr(x_{j})=\\sum_{k}Pr(X=x_{j},Y=y_{k}) \\text{ ou } p_{j}=\\sum_{k}p_{j,k}.\n",
    "\\end{equation}"
   ]
  },
  {
   "cell_type": "markdown",
   "metadata": {},
   "source": [
    "#### Exemplos\n",
    "Para __moedas__ $X$ e $Y$, usemos a codificação $$\\text{cara}=-1\\text{ e }\\text{coroa}=+1.$$ Consideremos inicialmente duas moedas _independentes e não tendenciosas_. Neste caso, a experiência indica que a distribuição de probabilidades é\n",
    "\\begin{align}\n",
    "& Pr(\\text{X=cara},\\text{Y=cara})=:p_{-1,-1}=1/4, \\\\\n",
    "& Pr(\\text{X=cara},\\text{Y=coroa})=:p_{-1,+1}=1/4, \\\\\n",
    "& Pr(\\text{X=coroa},\\text{Y=cara})=:p_{+1,-1}=1/4, \\\\\n",
    "& Pr(\\text{X=coroa},\\text{Y=coroa})=:p_{+1,+1}=1/4.\n",
    "\\end{align}\n",
    "Se conhecemos somente a distribuição conjunta de probabilidades, as distribuições de probabilidades marginais são obtidas somando-se todas as frequências relativas das medidas em coincidência que envolvem um resultado particular, fixo, da variável aleatória considerada. Por exemplo,\n",
    "\\begin{align}\n",
    "& Pr(X=cara)=:p_{-1} = p_{-1,-1}+p_{-1,+1}=1/4+1/4=1/2, \\\\\n",
    "& Pr(X=coroa)=:p_{+1} = p_{+1,-1}+p_{+1,+1}=1/4+1/4=1/2.\n",
    "\\end{align}\n",
    "A mesma ideia é usada para obter $Pr(Y=cara)=Pr(Y=coroa)=1/2$. Teremos assim, nesse caso que,\n",
    "\\begin{align}\n",
    "\\langle X\\rangle & = (-1)p_{-1}+(+1)p_{+1} = (-1)1/2+(+1)1/2=0, \\\\ \n",
    "\\langle Y\\rangle &= (-1)p_{-1}+(+1)p_{+1} = (-1)1/2+(+1)1/2=0, \\\\ \n",
    "\\langle XY\\rangle &= (-1)(-1)p_{-1,-1}+(-1)(+1)p_{-1,+1}+(+1)(-1)p_{+1,-1}+(+1)(+1)p_{+1,+1} \\\\ \n",
    "& = +1/4-1/4-1/4+1/4 = 0. \n",
    "\\end{align}\n",
    "Assim,\n",
    "\\begin{equation}\n",
    "Cov(X,Y)=\\langle XY\\rangle-\\langle X\\rangle\\langle Y\\rangle=0-(0)(0)=0.\n",
    "\\end{equation}"
   ]
  },
  {
   "cell_type": "markdown",
   "metadata": {},
   "source": [
    "Por outro lado, se consideramos que alguém tem a capacidade de jogar moedas que caem com valores _perfeitamente correlacionados_, teremos a seguinte distribuição de probabilidades conjunta:\n",
    "\\begin{equation}\n",
    "\\{p_{-1,-1},p_{-1,1},p_{1,-1},p_{1,1}\\}=\\{1/2,0,0,1/2\\}.\n",
    "\\end{equation}\n",
    "Pode-se verificar que as distribuições marginais são idêndicas àquelas para o caso das moedas independentes, e que portanto $\\langle X\\rangle=\\langle Y\\rangle=0$. Mas\n",
    "\\begin{equation}\n",
    "\\langle XY\\rangle = (-1)(-1)1/2+(-1)(+1)0+(+1)(-1)0+(+1)(+1)1/2 = 1.\n",
    "\\end{equation}\n",
    "Por conseguinte, neste caso teremos a seguinte quantidade de correlação entre as moedas:\n",
    "\\begin{equation}\n",
    "Cov(X,Y)=1-(0)(0)=1.\n",
    "\\end{equation}"
   ]
  },
  {
   "cell_type": "markdown",
   "metadata": {},
   "source": [
    "### Variáveis contínuas\n",
    "Esses mesmos conceitos podem ser extendidos diretamentes para variáveis aleatórias com _espectro contínuo_. A densidade de probabilidade conjunta é $\\rho(x,y)$. O valor médio do produto é\n",
    "\\begin{equation}\n",
    "\\langle XY\\rangle = \\int xy\\rho(x,y)dxdy.\n",
    "\\end{equation}\n",
    "As densidades de probabilidade marginais são obtidas de\n",
    "\\begin{equation}\n",
    "\\rho(x) = \\int\\rho(x,y)dy \\text{ e } \\rho(y) = \\int\\rho(x,y)dx,\n",
    "\\end{equation}\n",
    "e os valores médios $\\langle X\\rangle$ e $\\langle Y\\rangle$ são calculados como discutido anteriormente. Notemos que essas integrais são feitas sobre todo o domínio das variáveis aleatórias consideradas."
   ]
  },
  {
   "cell_type": "markdown",
   "metadata": {},
   "source": [
    "---\n",
    "# Exercícios\n",
    "\n",
    "$1.$ Mostre que o valor médio de uma variável aleatória está entre seus valores mínimo e máximo, i.e., $X_{min}\\le \\langle X\\rangle\\le X_{max}$.\n",
    "\n",
    "$2.$ Verifique que $\\mathrm{Var}(X)=\\langle X^{2}\\rangle - \\langle X\\rangle^{2}.$\n",
    "\n",
    "$3.$ Considere duas variáveis aleatórias $Y=aX+b$ com $a$ e $b$ constantes reais.  Verifique que $\\sigma_{Y}=a\\sigma_{X}$.\n",
    "\n",
    "$4.$ Para $p_{j} = (1-e^{-\\beta\\hbar\\omega})e^{-\\beta\\hbar\\omega j}$, com $\\beta,\\hbar,\\omega\\in\\mathbb{R}$ constantes, verifique que $\\sum_{j=0}^{\\infty}p_{j} = 1$.\n",
    "\n",
    "$5.$ Considere as energias $E_{j} = \\hbar\\omega(j+1/2)$ de um oscilador harmônico quântico em equilíbrio térmico, onde $j=0,1,\\cdots,\\infty$. As respectivas probabilidades são $p_{j} = (1-e^{-\\beta\\hbar\\omega})e^{-\\beta\\hbar\\omega j}$. Mostre que $\\sigma_{E} = \\hbar\\omega\\sigma_{N}$ e verifique que $\\sigma_{N} = \\sqrt{\\langle N\\rangle(\\langle N\\rangle +1)},$ em que o operador número $N$ é uma variável aleatória que assume os valores $j=0,1,\\cdots,\\infty$ com probabilidade $p_{j}.$\n",
    "\n",
    "$6.$ Verifique a normalização da densidade de probabilidade Gaussiana $\\rho_{G}(x) = e^{-(x-\\mu)^{2}/2\\sigma^{2}}/\\sqrt{2\\pi \\sigma^{2}}$, i.e., verifique que $\\int_{-\\infty}^{+\\infty}\\rho_{G}(x)dx = 1$.\n",
    "\n",
    "$7.$ Verifique que para uma função par no intervalo simétrico $x\\in[-a,a]$ em torno de $x=0$, i.e., $f(x)=f(-x)$, temos que $\\int_{-a}^{a}f(x)dx = 2\\int_{0}^{a}f(x)dx.$\n",
    "\n",
    "$8.$ Verifique que $Cov(X,Y)= \\langle XY\\rangle-\\langle X\\rangle\\langle Y\\rangle.$\n",
    "\n",
    "$9.$ Verifique que se a distribuição de probabilidades conjunta é o produto das distribuições de probabilidade marginais, i.e., se $p_{j,k}=p_{j}p_{k}$, então $Cov(X,Y)=0$ e não existe correlação entre essas variáveis aleatórias.\n",
    "\n",
    "$10.$ Verifique que $Var(X+Y) = Var(X) + Var(Y) + Cov(X,Y) + Cov(Y,X)$.\n",
    "\n",
    "$11.$ Considere a densidade de probabilidade Gaussiana para duas variáveis aleatórias $X$ e $Y$:\n",
    "\\begin{equation}\n",
    "\\rho(x,y) = \\frac{1}{2\\pi\\sigma_{X}\\sigma_{Y}\\sqrt{1-\\kappa^{2}}}\\exp\\left(-\\frac{1}{2(1-\\kappa^{2})}\\left(\\frac{(x-\\mu_{X})^{2}}{\\sigma_{X}^{2}}+\\frac{(y-\\mu_{Y})^{2}}{\\sigma_{Y}^{2}}-\\frac{2\\kappa(x-\\mu_{X})(y-\\mu_{Y})}{\\sigma_{X}\\sigma_{Y}}\\right)\\right),\n",
    "\\end{equation}\n",
    "em que $\\kappa=Cov(X,Y)/\\sigma_{X}\\sigma_{Y}$ é o coeficiente de correlação entre $X$ e $Y$. Obtenha a densidade de probabilidade marginal $\\rho(x)$."
   ]
  }
 ],
 "metadata": {
  "kernelspec": {
   "display_name": "Python 3 (ipykernel)",
   "language": "python",
   "name": "python3"
  },
  "language_info": {
   "codemirror_mode": {
    "name": "ipython",
    "version": 3
   },
   "file_extension": ".py",
   "mimetype": "text/x-python",
   "name": "python",
   "nbconvert_exporter": "python",
   "pygments_lexer": "ipython3",
   "version": "3.12.2"
  }
 },
 "nbformat": 4,
 "nbformat_minor": 4
}
