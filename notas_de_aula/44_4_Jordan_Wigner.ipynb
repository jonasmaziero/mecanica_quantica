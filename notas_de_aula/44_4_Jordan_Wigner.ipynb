{
 "cells": [
  {
   "cell_type": "markdown",
   "id": "a1794c48-c294-4c0b-997f-3376f6470ba0",
   "metadata": {},
   "source": [
    "## Notas de aula de Mecânica Quântica <br> Autor: Jonas Maziero"
   ]
  },
  {
   "cell_type": "markdown",
   "id": "57e6e40a-1593-4615-901a-fe9846c3df1b",
   "metadata": {},
   "source": [
    "# Transformada de Jordan-Wigner\n",
    "\n",
    "A transformada de Jordan-Wigner (TJW) é usada para mapear um sistema de férmions em um sistema de qubits (spins 1/2) e vice-versa. Essa técnica é usada, por exemplo, para se resolver exatamente o problema da diagonalização de hamiltonianos quânticos de cadeias unidimensionais de spin 1/2. Mas uma das aplicações mais promissoras atualmente é a simulação de sistemas fermiônicos usando computadores quânticos.\n",
    "\n",
    "## Um férmion - um qubit\n",
    "\n",
    "Tendo que para um __modo férmiônico__ segue que\n",
    "$$\\{a,a^\\dagger\\}=I,\\ \\{a,a\\}=0,$$\n",
    "vimos que para um férmion os autovetores de $N=a^\\dagger a$ são $0$ ou $1$:\n",
    "$$\\begin{cases}N|0_1\\rangle=0|0_1\\rangle \\\\ N|1_1\\rangle=1|1_1\\rangle \\end{cases}.$$\n",
    "Vimos também que os operadores escada atuam como \n",
    "$$a|1_1\\rangle = |0_1\\rangle,\\ a|0_1\\rangle = |\\oslash\\rangle, a^\\dagger|0_1\\rangle = |1_1\\rangle, a^\\dagger|1_1\\rangle=|\\oslash\\rangle.$$\n",
    "Acima $|n_j\\rangle$ designa o estado fermiônico com $n_j$ férmions no modo $j.$"
   ]
  },
  {
   "cell_type": "markdown",
   "id": "a0c85ed4-e6cb-4177-bf7f-4ed70ef9f9a3",
   "metadata": {},
   "source": [
    "Para um __qubit__, um spin 1/2, com\n",
    "$$\\sigma_z = Z = |1\\rangle\\langle 1| - |0\\rangle\\langle 0| = |\\uparrow\\rangle\\langle \\uparrow| - |\\downarrow\\rangle\\langle \\downarrow|,$$\n",
    "considere os operadores escada \n",
    "\\begin{align}\n",
    "& \\sigma^+ = |1\\rangle\\langle 0| = |\\uparrow\\rangle\\langle \\downarrow|,\\\\\n",
    "& \\sigma^- = |0\\rangle\\langle 1| = |\\downarrow\\rangle\\langle \\downarrow| = (\\sigma^+)^\\dagger .\n",
    "\\end{align}\n",
    "Vemos nesse caso que\n",
    "\\begin{align}\n",
    "& \\{\\sigma^-,(\\sigma^-)^\\dagger\\} = \\{\\sigma^-,\\sigma^+\\} = \\sigma^-\\sigma^+ + \\sigma^+\\sigma^- = |0\\rangle\\langle 1||1\\rangle\\langle 0| + |1\\rangle\\langle 0||0\\rangle\\langle 1| = |0\\rangle\\langle 0| + |1\\rangle\\langle 1| = I, \\\\\n",
    "& \\{\\sigma^-,\\sigma^-\\} = 2\\sigma^-\\sigma^- = |0\\rangle\\langle 1||0\\rangle\\langle 1| = 0_V.\n",
    "\\end{align}\n",
    "Ou seja, os operadores escada de um modo férmiônico e os operadores escada de um spin 1/2 satisfazem a mesma álgebra."
   ]
  },
  {
   "attachments": {},
   "cell_type": "markdown",
   "id": "80f7ee16-49e6-4d95-82e4-a140ae11324f",
   "metadata": {},
   "source": [
    "Ademais\n",
    "\\begin{align}\n",
    "& \\sigma^-|1\\rangle =  |0\\rangle\\langle 1||1\\rangle = |0\\rangle, \\ \\sigma^-|0\\rangle =  |0\\rangle\\langle 1||0\\rangle = |\\oslash\\rangle, \\\\\n",
    "& \\sigma^+|1\\rangle =  |1\\rangle\\langle 0||1\\rangle = |\\oslash\\rangle, \\ \\sigma^+|0\\rangle =  |1\\rangle\\langle 0||0\\rangle = |1\\rangle.\n",
    "\\end{align}\n",
    "\n",
    "Isso mostra um completa equivalência entre um qubit (um spin 1/2) e um férmion, com o estado de qubit\n",
    "$$|0\\rangle = |\\downarrow\\rangle := |z_-\\rangle$$\n",
    "correspondendo a um modo fermiônico não ocupado \n",
    "$$|n=0\\rangle=|0_j\\rangle$$\n",
    "e o estado de qubit\n",
    "$$|1\\rangle = |\\uparrow\\rangle := |z_+\\rangle$$ \n",
    "correspondendo a um modo fermiônico ocupado \n",
    "$$|n=1\\rangle = |1_j\\rangle.$$\n",
    "Acima usamos $j$ para indicar o modo fermiônico. Nesse caso temos $j=1$."
   ]
  },
  {
   "cell_type": "markdown",
   "id": "62026783-7da0-44fb-8da1-963f7256af8a",
   "metadata": {},
   "source": [
    "Sobre um qubit, pode ser útil considerar as seguintes relações em termos dos operadores escada:\n",
    "\\begin{align}\n",
    "& \\sigma^-\\sigma^- = \\sigma^+\\sigma^+ = 0_V, \\\\\n",
    "& \\sigma^-\\sigma^+ = |0\\rangle\\langle 0|, \\\\\n",
    "& \\sigma^+\\sigma^- = |1\\rangle\\langle 1|, \\\\\n",
    "& Z = |1\\rangle\\langle 1| - |0\\rangle\\langle 0| = 2|1\\rangle\\langle 1| - (|1\\rangle\\langle 1|+|-\\rangle\\langle 0|) = 2\\sigma^+\\sigma^- - I, \\\\\n",
    "& X = |0\\rangle\\langle 1| + |1\\rangle\\langle 0| = \\sigma^- + \\sigma^+, \\\\\n",
    "& Y = -i(|0\\rangle\\langle 1| - |1\\rangle\\langle 0|) = -i(\\sigma^- - \\sigma^+).\n",
    "\\end{align}\n",
    "\n",
    "A correspondência spin 1/2 - modo férmiômico está ilustrada na figura abaixo <br>\n",
    "<img src='fig_fermion_spin.png' width='500'>"
   ]
  },
  {
   "cell_type": "markdown",
   "id": "e76986e3-9088-4fc7-9ca4-a73f2e0af9ed",
   "metadata": {},
   "source": [
    "###  Vários férmions - Vários qubits\n",
    "\n",
    "Consideremos uma cadeia unidimensional de spins 1/2 ou de férmions. Veja a ilustração na figura abaixo. <br>\n",
    "<img src='fig_fermion_spin_1d.png' width='500'>\n",
    "\n",
    "Em cada um dos sítios $j=1,\\cdots,L$ temos para os operadores de spin\n",
    "$$\\{\\sigma_j^-,\\sigma_j^+\\}=I,\\ \\{\\sigma_j^-,\\sigma_j^-\\}=0$$\n",
    "e para os operadores fermiônicos teremos\n",
    "$$\\{a_j,a_j^\\dagger\\}=I,\\ \\{a_j,a_j\\}=0.$$\n",
    "\n",
    "No entanto, quando consideramos sítios diferentes vem que\n",
    "$$[\\sigma_j^-,\\sigma_k^+] =0\\ \\therefore\\ \\sigma_j^-\\sigma_k^+=\\sigma_j^+\\sigma_k^-$$\n",
    "enquanto que\n",
    "$$\\{a_j,a_k^\\dagger\\} = 0\\ \\therefore\\ a_ja_k^\\dagger = -a_k^\\dagger a_j.$$\n",
    "\n",
    "Ou seja, quando consideramos vários qubits, os operadores de spin de qubits diferentes comutam. Mas operadores fermiônicos independentes não comutam, eles anticomutam. Por isso não é direto mapear qubits em férmions e vice-versa."
   ]
  },
  {
   "cell_type": "markdown",
   "id": "083e7893-8dc9-4047-9d83-b65ba1b21113",
   "metadata": {},
   "source": [
    "A __transformada de Jordan-Wigner__ é um mapa entre operadores de spin 1/2 e operadores fermiônicos:\n",
    "$$\\sigma_j^- := e^{i\\pi \\sum_{l=1}^{j-1}N_l}a_j := Q_j a_j,$$\n",
    "com o operador __string__ definido por\n",
    "$$Q_j = e^{i\\pi \\sum_{l=1}^{j-1}N_l}.$$\n",
    "Também entra na TJW o seguinte mapa\n",
    "$$\\sigma_j^z := 2a_j^\\dagger a_j - I.$$\n",
    "\n",
    "Já vimos que\n",
    "$$[N_j,N_k]=0\\ \\forall j,k.$$\n",
    "Temos também que\n",
    "\\begin{align}\n",
    "N_j^2 & = N_j N_j = a_j^\\dagger a_j a_j^\\dagger a_j \\\\\n",
    "& = a_j^\\dagger(I- a_j^\\dagger a_j)  a_j = a_j^\\dagger a_j - (a_j^\\dagger)^2 a_j^2 = a_j^\\dagger a_j - 0_V = a_j^\\dagger a_j \\\\\n",
    "& = N_j.\n",
    "\\end{align}\n",
    "Com isso, vemos que para qualquer $n\\in\\mathbb{Z}$ teremos que\n",
    "$$N_j^n=N_j.$$"
   ]
  },
  {
   "cell_type": "markdown",
   "id": "2bc817e0-8034-47d9-aa64-4dcf8d9cc366",
   "metadata": {},
   "source": [
    "Como os operadore $N_j$ comutam para diferentes modos fermiônicos (sítios), podemos escrever o operador string como segue\n",
    "\\begin{align}\n",
    "Q_j & = e^{\\sum_{l=1}^{j-1}i\\pi N_l} \\\\\n",
    "& = \\Pi_{l=1}^{j-1}e^{i\\pi N_l} \\\\\n",
    "& = \\Pi_{l=1}^{j-1}\\sum_{m=0}^{\\infty}\\frac{(i\\pi N_l)^m}{m!} \\\\\n",
    "& = \\Pi_{l=1}^{j-1}\\Big(I + \\sum_{m=1}^{\\infty}\\frac{(i\\pi)^m N_l^m}{m!}\\Big) \\\\\n",
    "& = \\Pi_{l=1}^{j-1}\\Big(I + \\sum_{m=1}^{\\infty}\\frac{(i\\pi)^m }{m!}N_l\\Big) \\\\\n",
    "& = \\Pi_{l=1}^{j-1}\\Big(I + \\big(\\sum_{m=0}^{\\infty}\\frac{(i\\pi)^m }{m!}-1\\big)N_l\\Big) \\\\\n",
    "& = \\Pi_{l=1}^{j-1}\\Big(I + \\big(e^{i\\pi}-1\\big)N_l\\Big) \\\\\n",
    "& = \\Pi_{l=1}^{j-1}(I - 2N_l).\n",
    "\\end{align}\n",
    "\n",
    "Vale observar que para cada termo no produtório acima teremos que\n",
    "\\begin{align}\n",
    "(I-2N_l)^2 & = (I-2N_l)(I-2N_l) \\\\\n",
    "& = I - 2N_l - 2N_l + 4N_l^2 \\\\\n",
    "& = I - 4N_l + 4N_l \\\\\n",
    "& = I,\n",
    "\\end{align}\n",
    "em que usamos que $N_l^2 = N_l.$\n",
    "\n",
    "Teremos assim que\n",
    "\\begin{align}\n",
    "Q_j^2 & = \\Pi_{l=1}^{j-1}(I - 2N_l)\\Pi_{m=1}^{j-1}(I - 2N_m) \\\\\n",
    "& = \\Pi_{l,m=1}^{j-1}(I - 2N_l)(I - 2N_m) \\\\\n",
    "& = \\Pi_{l,m=1}^{j-1}(I - 2N_l - 2N_m + 4N_l N_m) \\\\\n",
    "& = I - 2N_1 N_2\\cdots N_{j-1} - 2N_1 N_2\\cdots N_{j-1} + 4N_1 N_2\\cdots N_{j-1} N_1 N_2\\cdots N_{j-1} \\\\\n",
    "& = I - 4N_1 N_2\\cdots N_{j-1} + 4N_1^2 N_2^2\\cdots N_{j-1}^2 \\\\\n",
    "& = I - 4N_1 N_2\\cdots N_{j-1} + 4N_1 N_2\\cdots N_{j-1} \\\\\n",
    "& = I.\n",
    "\\end{align}"
   ]
  },
  {
   "cell_type": "markdown",
   "id": "c15960e6-3975-4925-90b4-5a0f0da87971",
   "metadata": {},
   "source": [
    "Também podemos mostrar que\n",
    "\\begin{align}\n",
    "Q_j Q_{j+1} & = \\Pi_{l=1}^{j-1}(I - 2N_l)\\Pi_{m=1}^{j+1-1}(I - 2N_m) \\\\\n",
    "& = \\Pi_{l=1}^{j-1}(I - 2N_l)\\Pi_{m=1}^{j}(I - 2N_m) \\\\\n",
    "& = \\Pi_{l=1}^{j-1}(I - 2N_l)\\Pi_{m=1}^{j-1}(I - 2N_m)(I - 2N_j) \\\\\n",
    "& = Q_j^2(I - 2N_j) \\\\\n",
    "& = I(I - 2N_j) \\\\\n",
    "& = I - 2N_j.\n",
    "\\end{align}\n",
    "\n",
    "Vamos verificar que o operador de string é Hermitiano\n",
    "\\begin{align}\n",
    "Q_j^\\dagger & = \\Big(\\Pi_{l=1}^{j-1}(I - 2N_l)\\Big)^\\dagger \\\\\n",
    "& = \\Pi_{l=j-1}^{1}(I - 2N_l)^\\dagger \\\\\n",
    "& = \\Pi_{l=j-1}^{1}(I^\\dagger - 2N_l^\\dagger) \\\\\n",
    "& = \\Pi_{l=j-1}^{1}(I - 2N_l) \\\\\n",
    "& = \\Pi_{l=1}^{j-1}(I - 2N_l) \\\\\n",
    "& = Q_j,\n",
    "\\end{align}\n",
    "em que na penúltima igualdade usamos $[N_l,N_m]=0\\ \\forall l,m.$"
   ]
  },
  {
   "cell_type": "markdown",
   "id": "2dcac8ed-b587-49c3-986c-3731d22a2bd5",
   "metadata": {},
   "source": [
    "Ademais, usando \n",
    "$$\\sigma_j^- = Q_j a_j\\ \\therefore\\ \\sigma_j^+ = (\\sigma_j^-)^\\dagger = a_j^\\dagger Q_j^\\dagger =  a_j^\\dagger Q_j,$$\n",
    "podemos escrever\n",
    "\\begin{align}\n",
    "\\sigma_j^+ \\sigma_{j+1}^- & = a_j^\\dagger Q_j Q_{j+1} a_{j+1} \\\\\n",
    "& = a_j^\\dagger (I-2N_j)a_{j+1} \\\\\n",
    "& = a_j^\\dagger a_{j+1} - 2a_j^\\dagger a_j^\\dagger a_j a_{j+1} \\\\\n",
    "& = a_j^\\dagger a_{j+1} - 2a 0_V a_j a_{j+1} \\\\\n",
    "& = a_j^\\dagger a_{j+1}.\n",
    "\\end{align}\n",
    "\n",
    "Ou seja, o termo de flip (inversão) de spin entre primeiros vizinhos é igual ao termo de hoping (salto) de férmions entre primeiros vizinhos.\n",
    "\n",
    "Também é possível demonstrar que\n",
    "\\begin{align}\n",
    "& \\sigma_j^+ \\sigma_{j+1}^- = \\sigma_j^+\\otimes \\sigma_{j+1}^- = a_j^\\dagger a_{j+1} \\\\\n",
    "& \\therefore\\ (\\sigma_j^+\\otimes \\sigma_{j+1}^- )^\\dagger = (\\sigma_j^+)^\\dagger\\otimes (\\sigma_{j+1}^-)^\\dagger = \\sigma_j^- \\otimes \\sigma_{j+1}^+ = \\sigma_j^- \\sigma_{j+1}^+ \\\\\n",
    "& \\therefore\\ \\sigma_j^- \\sigma_{j+1}^+ = (a_j^\\dagger a_{j+1})^\\dagger = a_{j+1}^\\dagger (a_j^\\dagger)^\\dagger = a_{j+1}^\\dagger a_j.\n",
    "\\end{align}"
   ]
  },
  {
   "cell_type": "markdown",
   "id": "0730d723-d303-409e-9391-d17614b608b8",
   "metadata": {},
   "source": [
    "### Modelo $XX$\n",
    "\n",
    "Esse modelo é dado pelo hamiltoniano\n",
    "$$H_{XX} = \\frac{J}{2}\\sum_{j=1}^{L-1}\\big(\\sigma_j^x \\sigma_{j+1}^x + \\sigma_j^y \\sigma_{j+1}^y\\big) - \\lambda\\sum_{j=1}^{L} \\sigma_j^z.$$\n",
    "Se considerarmos condições periódicas de contorno, teremos que\n",
    "$$H_{XX} = \\frac{J}{2}\\Big(\\sum_{j=1}^{L-1}\\big(\\sigma_j^x \\sigma_{j+1}^x + \\sigma_j^y \\sigma_{j+1}^y\\big) + \\sigma_L^x \\sigma_1^x + \\sigma_L^y \\sigma_1^y\\Big) - \\lambda\\sum_{j=1}^{L} \\sigma_j^z.$$\n",
    "\n",
    "Temos as seguintes relações entre operadores escada de spin and matrizes de Pauli:\n",
    "\\begin{align}\n",
    "& \\sigma_j^\\pm = \\sigma_j^x \\pm i \\sigma_j^y, \\\\\n",
    "& \\therefore\\ \\sigma_j^x = \\frac{1}{2}(\\sigma_j^+ +  \\sigma_j^-), \\\\\n",
    "& \\therefore\\ \\sigma_j^y = \\frac{1}{2i}(\\sigma_j^+ - \\sigma_j^-).\n",
    "\\end{align}\n",
    "Com isso, vem que\n",
    "\\begin{align}\n",
    "\\sigma_j^x \\sigma_{j+1}^x + \\sigma_j^y \\sigma_{j+1}^y & = \\frac{1}{2}(\\sigma_j^+ +  \\sigma_j^-)\\frac{1}{2}(\\sigma_{j+1}^+ +  \\sigma_{j+1}^-) + \\frac{1}{2i}(\\sigma_j^+ -  \\sigma_j^-)\\frac{1}{2i}(\\sigma_{j+1}^+ -  \\sigma_{j+1}^-) \\\\\n",
    "& = \\frac{1}{4}(\\sigma_j^+ \\sigma_{j+1}^+ +  \\sigma_j^- \\sigma_{j+1}^+ + \\sigma_j^+ \\sigma_{j+1}^- +  \\sigma_j^- \\sigma_{j+1}^-) - \\frac{1}{4}(\\sigma_j^+ \\sigma_{j+1}^+ -  \\sigma_j^- \\sigma_{j+1}^+ - \\sigma_j^+ \\sigma_{j+1}^- + \\sigma_j^- \\sigma_{j+1}^-)) \\\\\n",
    "& = \\frac{1}{2}(\\sigma_j^+ \\sigma_{j+1}^- + \\sigma_j^- \\sigma_{j+1}^+), \\\\\n",
    "\\sigma_L^x \\sigma_1^x + \\sigma_L^y \\sigma_1^y & = \\frac{1}{2}(\\sigma_L^+ \\sigma_1^- + \\sigma_L^- \\sigma_1^+).\n",
    "\\end{align}"
   ]
  },
  {
   "cell_type": "markdown",
   "id": "3f305db9-c3b2-42a6-a5c3-0f13a1814db4",
   "metadata": {},
   "source": [
    "Assim o hamiltoniano XX fica escrito como\n",
    "$$H_{XX} = \\frac{J}{4}\\Big(\\sum_{j=1}^{L-1}\\big(\\sigma_j^+ \\sigma_{j+1}^- + \\sigma_j^- \\sigma_{j+1}^+\\big) + \\sigma_L^+ \\sigma_1^- + \\sigma_L^- \\sigma_1^+\\Big) - \\lambda\\sum_{j=1}^{L} \\sigma_j^z.$$\n",
    "Essa forma é apropriada para aplicação da TJW.\n",
    "\n",
    "Para enternder o que o termo de interação faz, consideremos\n",
    "\\begin{align}\n",
    "& \\big(\\sigma_j^+ \\sigma_{k}^- + \\sigma_j^- \\sigma_{k}^+\\big)(\\alpha|11\\rangle_{jk}+\\beta|00\\rangle_{jk}) = |\\oslash\\rangle, \\\\\n",
    "& \\big(\\sigma_j^+ \\sigma_{k}^- + \\sigma_j^- \\sigma_{k}^+\\big)(\\alpha|10\\rangle_{jk}+\\beta|01\\rangle_{jk}) = |\\oslash\\rangle_{jk} + \\beta|10\\rangle_{jk} + \\alpha|01\\rangle_{jk} + |\\oslash\\rangle_{jk}.\n",
    "\\end{align}\n",
    "Acima usamos $|\\uparrow\\rangle = |1\\rangle$ e $|\\downarrow\\rangle = |0\\rangle.$ Também aplicamos $\\sigma_j^+ = |1\\rangle\\langle 0|$ e $\\sigma_j^- = |0\\rangle\\langle 1|.$"
   ]
  },
  {
   "cell_type": "markdown",
   "id": "2db8e28a-dd7d-4248-b3c0-2932c697ae3a",
   "metadata": {},
   "source": []
  },
  {
   "cell_type": "code",
   "execution_count": null,
   "id": "4b10e5c7-dd2d-4936-bbc0-22f9139a17fa",
   "metadata": {},
   "outputs": [],
   "source": []
  },
  {
   "cell_type": "markdown",
   "id": "e24d574b-d3c9-4ece-bce9-7cf4849be9fe",
   "metadata": {},
   "source": [
    "## Férmion pra spin\n",
    "\n",
    "Considerando uma cadeia unidimensional de spins (férmions), Jordan e Wigner, em 1928, resolveram esse problema adicionando um fator de fase \n",
    "$$\\phi_j = \\pi\\sum_{k<j}n_k,$$\n",
    "chamado de __string__, ao mapa entre operadores fermiônicos e de spin de forma que\n",
    "$$\\sigma_j^- = -a_j e^{i\\phi_j}.$$\n",
    "\n",
    "Nós já vimos o motivo disso quando mostramos que\n",
    "$$a_j|n\\rangle = a_j(a_1^\\dagger)^{n_1}(a_2^\\dagger)^{n_2}\\cdots(a_{j-1}^\\dagger)^{n_{j-1}}(a_{j}^\\dagger)^{n_{j}}(a_{j+1}^\\dagger)^{n_{j+1}}\\cdots (a_n^\\dagger)^{n_n}|vac\\rangle = \\begin{cases} -(-1)^{\\sum_{k=1}^{j-1}n_k}|n_1\\cdots n_{j-1}0_j n_{j+1}\\cdots n_n\\rangle  \\text{ se } n_j=1, \\\\ |\\oslash\\rangle \\text{ se } n_j=0, \\end{cases}$$\n",
    "uma vez que\n",
    "$$e^{i\\phi_j} = e^{i\\pi\\sum_{k>j}n_k} = \\cos\\Big(\\pi\\sum_{k>j}n_k\\Big) + i\\sin\\Big(\\pi\\sum_{k>j}n_k\\Big) \\equiv (-1)^{\\sum_{k>j}n_k}.$$\n",
    "\n",
    "A __transformada de Jordan-Wigner__ é então definida por\n",
    "\\begin{align}\n",
    "& \\sigma_j^- = -a_j e^{-i\\pi\\sum_{l<j}n_l}, \\\\\n",
    "& \\sigma_j^+ = -a_j^\\dagger e^{i\\pi\\sum_{l<j}n_l}, \\\\\n",
    "& Z_j = 2a_j^\\dagger a_j - I.\n",
    "\\end{align}\n",
    "De certo modo\n",
    "$$\\text{qubit}=\\text{férmion}\\times\\text{string}.$$"
   ]
  },
  {
   "cell_type": "markdown",
   "id": "f77fd9ab-94db-4766-8235-a50c31f5c3e9",
   "metadata": {},
   "source": [
    "Vale notar também que, para $|0\\rangle=|\\uparrow\\rangle,\\ |1\\rangle=|\\downarrow\\rangle$\n",
    "teremos que $Z_j=|\\uparrow\\rangle\\langle\\uparrow|_j -|\\downarrow\\rangle\\langle\\downarrow|_j$\n",
    "e assim\n",
    "$$Z_j|\\uparrow\\rangle_j = |\\uparrow\\rangle_j,\\ Z_j|\\downarrow\\rangle_j = -|\\downarrow\\rangle_j.$$\n",
    "Como os autovalores de $N_j=1$ é representado por $Z_j=\\uparrow$ e $N_j=0$ é representado por $Z_j=\\downarrow$, vemos que contar o número de modos fermiônicos ocupados à esquerda de $j$ corresponde a contar quantos spins à esquerda do spin $j$ tem componente negativa em $z$. Ou seja\n",
    "\\begin{align}\n",
    "& a_j = -\\otimes_{k=1}^{j-1}Z_j\\otimes\\sigma_j^- \\\\\n",
    "& a_j^\\dagger = -\\otimes_{k=1}^{j-1}Z_j\\otimes\\sigma_j^+,\n",
    "\\end{align}\n",
    "pois $(A\\otimes B)^\\dagger = A^\\dagger \\otimes B^\\dagger$, $Z_j^\\dagger=Z_j$ e $(\\sigma_j^-)^\\dagger = \\sigma_j^+.$\n",
    "\n",
    "Vale observar também que como $N_j$ tem autovalores $0$ ou $1$ e $Z_j$ tem autovalores $-1$ ou $1$, podemos obter uma correspondência entre os operadores fazendo\n",
    "\\begin{align}\n",
    "Z_j & = 2N_j - I \\\\\n",
    "& = 2a_j^\\dagger a_j - \\{a_j,a_j^\\dagger\\} = 2a_j^\\dagger a_j - a_j a_j^\\dagger - a_j^\\dagger a_j \\\\\n",
    "& = a_j^\\dagger a_j - a_j a_j^\\dagger.\n",
    "\\end{align}\n",
    "Teremos assim a correspondência\n",
    "\\begin{align}\n",
    "& N_j=0\\ \\rightarrow\\ Z_j=-1, \\\\\n",
    "& N_j=1\\ \\rightarrow\\ Z_j=1.\n",
    "\\end{align}"
   ]
  },
  {
   "cell_type": "markdown",
   "id": "40b991c2-2819-41c3-868b-b063eb4fd328",
   "metadata": {},
   "source": [
    "Como \n",
    "$$Z_j^2 = I$$\n",
    "teremos que\n",
    "\\begin{align}\n",
    "& \\sigma_j^- = -\\otimes_{k=1}^{j-1}Z_j\\otimes a_j \\\\\n",
    "& \\sigma_j^+ = -\\otimes_{k=1}^{j-1}Z_j\\otimes a_j^\\dagger.\n",
    "\\end{align}\n",
    "\n",
    "Por conseguinte\n",
    "\\begin{align}\n",
    "X_j & = \\sigma_j^- + \\sigma_j^+ \\\\\n",
    "& = -\\otimes_{k=1}^{j-1}Z_j\\otimes a_j -\\otimes_{k=1}^{j-1}Z_j\\otimes a_j^\\dagger \\\\\n",
    "& = -\\otimes_{k=1}^{j-1}Z_j\\otimes(a_j^\\dagger +a_j).\n",
    "\\end{align}"
   ]
  },
  {
   "cell_type": "markdown",
   "id": "38d894f6-a90f-4e6e-aa3a-a14cabb03cb6",
   "metadata": {},
   "source": []
  },
  {
   "cell_type": "markdown",
   "id": "290cc2d7-7c7b-42ec-94ac-021f89b4a528",
   "metadata": {},
   "source": [
    "## Simetrias do Hamiltoniano\n",
    "\n",
    "Um aspecto importante de qualquer hamiltoniano são suas propriedades de simetria. Neste sentido vamos definir o operador momento magnético total (__magnetização__) na direção $z$ como\n",
    "$$M_z = \\sum_{j=1}^L \\sigma_j^z.$$\n",
    "\n",
    "Vamos considerar o comutador do hamiltoniano com esse operador\n",
    "\\begin{align}\n",
    "[H_{XX},M_z] & = \\Big[\\frac{J}{2}\\sum_{j=1}^{L}\\big(\\sigma_j^x \\sigma_{j+1}^x + \\sigma_j^y \\sigma_{j+1}^y\\big) - \\lambda\\sum_{j=1}^L \\sigma_j^z, \\sum_{k=1}^L \\sigma_k^z\\Big] \\\\\n",
    "& = \\sum_{j,k=1}^{L}\\Big(\\frac{J}{2}\\big([\\sigma_j^x \\sigma_{j+1}^x, \\sigma_k^z] + [\\sigma_j^y \\sigma_{j+1}^y, \\sigma_k^z]\\big) - \\lambda[\\sigma_j^z,\\sigma_k^z]\\Big) \\\\\n",
    "& = \\sum_{j,k=1}^{L}\\Big(\\frac{J}{2}\\big([\\sigma_j^x\\sigma_{j+1}^x, \\sigma_j^z] + [\\sigma_j^x \\sigma_{j+1}^x, \\sigma_{j+1}^z] + 0 + [\\sigma_j^y \\sigma_{j+1}^y, \\sigma_j^z] + [\\sigma_j^y \\sigma_{j+1}^y, \\sigma_{j+1}^z] + 0\\big) - \\lambda(0)\\Big) \\\\\n",
    "& = \\sum_{j,k=1}^{L}\\frac{J}{2}\\big([\\sigma_j^x\\otimes\\sigma_{j+1}^x, \\sigma_j^z\\otimes I_{j+1}] + [\\sigma_j^x\\otimes \\sigma_{j+1}^x, I_j\\otimes\\sigma_{j+1}^z] + [\\sigma_j^y\\otimes \\sigma_{j+1}^y, \\sigma_j^z\\otimes I_{j+1}] + [\\sigma_j^y\\otimes \\sigma_{j+1}^y, I_j\\otimes\\sigma_{j+1}^z]\\big) \\\\\n",
    "& = \\sum_{j,k=1}^{L}\\frac{J}{2}\\big([\\sigma_j^x, \\sigma_j^z]\\otimes\\sigma_{j+1}^x + \\sigma_j^x\\otimes[ \\sigma_{j+1}^x, \\sigma_{j+1}^z] + [\\sigma_j^y, \\sigma_j^z]\\otimes \\sigma_{j+1}^y + \\sigma_j^y\\otimes[ \\sigma_{j+1}^y, \\sigma_{j+1}^z]\\big) \\\\\n",
    "& = \\sum_{j,k=1}^{L}\\frac{J}{2}\\big(i\\epsilon_{132}\\sigma_j^y\\otimes\\sigma_{j+1}^x + \\sigma_j^x\\otimes i\\epsilon_{132} \\sigma_{j+1}^y + i\\epsilon_{231}\\sigma_j^x\\otimes \\sigma_{j+1}^y + \\sigma_j^y\\otimes i\\epsilon_{231}\\sigma_{j+1}^x\\big) \\\\\n",
    "& = \\sum_{j,k=1}^{L}\\frac{J}{2}\\big(-i\\sigma_j^y\\otimes\\sigma_{j+1}^x -i \\sigma_j^x\\otimes \\sigma_{j+1}^y + i\\sigma_j^x\\otimes \\sigma_{j+1}^y + i\\sigma_j^y\\otimes\\sigma_{j+1}^x\\big) \\\\\n",
    "& = \\sum_{j,k=1}^{L}\\frac{J}{2}\\big(0\\big) \\\\\n",
    "& = 0.\n",
    "\\end{align}"
   ]
  },
  {
   "cell_type": "markdown",
   "id": "ec96fc65-a5a0-43b7-a8f3-b1b2b46b661b",
   "metadata": {},
   "source": [
    "Portanto $H_{XX}$ e $M_z$ compartilham uma mesma base de autovetores. Ademais, da equação de movimento de Heisenberg teremos que\n",
    "\\begin{align}\n",
    "i\\hbar\\partial_t M_z^H & = [M_z^H,H_t^H] = [M_z^S,H_t^S] \\\\\n",
    "& = 0.\n",
    "\\end{align}\n",
    "Isso implica que\n",
    "$$M_z^H = M_z^S = \\text{constante de movimento}.$$\n",
    "Portanto\n",
    "$$\\langle M_z(t)\\rangle_{\\psi_0} = \\langle\\psi_0|M_z^H|\\psi_0\\rangle = \\langle\\psi_0|M_z^S|\\psi_0\\rangle = \\langle M_z(t=0)\\rangle_{\\psi_0}.$$\n",
    "\n",
    "A mensagem principal aque é que\n",
    "$$|\\psi_t\\rangle = U_t|\\psi_0\\rangle$$\n",
    "é tal que o número de excitações (de spins up) é conservado sob a dinâmica gerada por $H_{XX}.$"
   ]
  },
  {
   "cell_type": "code",
   "execution_count": null,
   "id": "e4a6bf18-ded9-4a56-a9b5-4a02d8361133",
   "metadata": {},
   "outputs": [],
   "source": []
  },
  {
   "cell_type": "markdown",
   "id": "6d1421bd-9782-4195-bbb9-13ed4545c848",
   "metadata": {},
   "source": [
    "## Referências\n",
    "\n",
    "* M. A. Nielsen, “The Fermionic canonical commutation relations and the Jordan-Wigner transform”, https://michaelnielsen.org/blog/fermions-and-the-jordan-wigner-transform-i-introduction/.\n",
    "\n",
    "* P. Jordan and E. Wigner, “Über das Paulische Äquivalenzverbot,” Z. Physik, vol. 47, no. 9, Art. no. 9, Sep. 1928, doi: 10.1007/BF01331938.\n"
   ]
  },
  {
   "cell_type": "code",
   "execution_count": null,
   "id": "5c70143e-145d-47f5-b329-d1a02dbd148b",
   "metadata": {},
   "outputs": [],
   "source": []
  }
 ],
 "metadata": {
  "kernelspec": {
   "display_name": "Python 3 (ipykernel)",
   "language": "python",
   "name": "python3"
  },
  "language_info": {
   "codemirror_mode": {
    "name": "ipython",
    "version": 3
   },
   "file_extension": ".py",
   "mimetype": "text/x-python",
   "name": "python",
   "nbconvert_exporter": "python",
   "pygments_lexer": "ipython3",
   "version": "3.12.2"
  }
 },
 "nbformat": 4,
 "nbformat_minor": 5
}
