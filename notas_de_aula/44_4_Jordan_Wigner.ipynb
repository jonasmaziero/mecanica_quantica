{
 "cells": [
  {
   "cell_type": "markdown",
   "id": "a1794c48-c294-4c0b-997f-3376f6470ba0",
   "metadata": {},
   "source": [
    "## Notas de aula de Mecânica Quântica <br> Autor: Jonas Maziero"
   ]
  },
  {
   "cell_type": "markdown",
   "id": "57e6e40a-1593-4615-901a-fe9846c3df1b",
   "metadata": {},
   "source": [
    "# Transformada de Jordan-Wigner\n",
    "\n",
    "A transformada de Jordan-Wigner (TJW) é usada para mapear um sistema de férmions em um sistema de qubits (spins 1/2) e vice-versa. Essa técnica é usada, por exemplo, para se resolver exatamente o problema da diagonalização de hamiltonianos quânticos de cadeias unidimensionais de spin 1/2. Mas uma das aplicações mais promissoras atualmente é a simulação de sistemas fermiônicos usando computadores quânticos.\n",
    "\n",
    "## Um qubit - um férmion\n",
    "\n",
    "Tendo que para um __férmion__ segue que\n",
    "$$\\{a,a^\\dagger\\}=I,\\ \\{a,a\\}=0,$$\n",
    "vimos que para um férmion os autovetores de $N=a^\\dagger a$ são $0$ ou $1$, vimos que os operadores escada atuam como \n",
    "$$a|1\\rangle = |0\\rangle,\\ a|0\\rangle = |\\oslash\\rangle, a^\\dagger|0\\rangle = |1\\rangle, a^\\dagger|1\\rangle=|\\oslash\\rangle.$$ \n",
    "\n",
    "Para um __qubit__, considere os operadores escada \n",
    "$$\\sigma^+ = |1\\rangle\\langle 0|,\\ \\sigma^- = |0\\rangle\\langle 1| = (\\sigma^+)^\\dagger.$$\n",
    "Vemos nesse caso que\n",
    "\\begin{align}\n",
    "& \\{\\sigma^-,(\\sigma^-)^\\dagger\\} = \\{\\sigma^-,\\sigma^+\\} = \\sigma^-\\sigma^+ + \\sigma^+\\sigma^- = |0\\rangle\\langle 1||1\\rangle\\langle 0| + |1\\rangle\\langle 0||0\\rangle\\langle 1| = |0\\rangle\\langle 0| + |1\\rangle\\langle 1| = I, \\\\\n",
    "& \\{\\sigma^-,\\sigma^-\\} = 2\\sigma^-\\sigma^- = |0\\rangle\\langle 1||0\\rangle\\langle 1| = 0_V.\n",
    "\\end{align}\n",
    "Ademais\n",
    "\\begin{align}\n",
    "& \\sigma^-|1\\rangle =  |0\\rangle\\langle 1||1\\rangle = |0\\rangle, \\ \\sigma^-|0\\rangle =  |0\\rangle\\langle 1||0\\rangle = |\\oslash\\rangle, \\\\\n",
    "& \\sigma^+|1\\rangle =  |1\\rangle\\langle 0||1\\rangle = |\\oslash\\rangle, \\ \\sigma^+|0\\rangle =  |1\\rangle\\langle 0||0\\rangle = |1\\rangle.\n",
    "\\end{align}\n",
    "\n",
    "Isso mostra um completa equivalência entre um qubit (um spin 1/2) e um férmion, com o estado de qubit\n",
    "$$|\\downarrow\\rangle := |z_+\\rangle = |0\\rangle$$\n",
    "correspondendo a um modo fermiônico não ocupado \n",
    "$$|n=0\\rangle=|0\\rangle$$\n",
    "e o estado de qubit\n",
    "$$|\\uparrow\\rangle := |z_-\\rangle = |1\\rangle$$ \n",
    "correspondendo a um modo fermiônico ocupado \n",
    "$$|n=1\\rangle = |1\\rangle.$$ "
   ]
  },
  {
   "cell_type": "markdown",
   "id": "80f7ee16-49e6-4d95-82e4-a140ae11324f",
   "metadata": {},
   "source": [
    "Sobre um qubit, pode ser útil considerar as seguintes relações em termos dos operadores escada:\n",
    "\\begin{align}\n",
    "& \\sigma^-\\sigma^- = \\sigma^+\\sigma^+ = 0_V, \\\\\n",
    "& \\sigma^-\\sigma^+ = |0\\rangle\\langle 0|, \\\\\n",
    "& \\sigma^+\\sigma^- = |1\\rangle\\langle 1|, \\\\\n",
    "& Z = |0\\rangle\\langle 0| - |1\\rangle\\langle 1| = 2|0\\rangle\\langle 0| - (|0\\rangle\\langle 0|+|1\\rangle\\langle 1|) = 2\\sigma^-\\sigma^+ - I, \\\\\n",
    "& X = |0\\rangle\\langle 1| + |1\\rangle\\langle 0| = \\sigma^- + \\sigma^+, \\\\\n",
    "& Y = -i(|0\\rangle\\langle 1| - |1\\rangle\\langle 0|) = -i(\\sigma^- - \\sigma^+).\n",
    "\\end{align}"
   ]
  },
  {
   "cell_type": "markdown",
   "id": "e76986e3-9088-4fc7-9ca4-a73f2e0af9ed",
   "metadata": {},
   "source": [
    "### Vários qubits - vários férmions\n",
    "\n",
    "No entanto, quando consideramos vários qubits, os operadores de spin de qubits diferentes comutam. Mas operadores fermiônicos independentes não comutam, eles anticomutam. Por isso não é direto mapear qubits em férmions e vice-versa.\n",
    "\n",
    "Jordan e Wigner, em 1961, resolveram esse problema adicionando um fator de fase \n",
    "$$\\phi_j = \\pi\\sum_{l<j}n_j,$$\n",
    "chamado de string, de forma que\n",
    "$$\\sigma_j^- = a e^{-i\\phi_j}.$$\n",
    "\n",
    "A transformada de Jordan-Wigner é então definida por\n",
    "\\begin{align}\n",
    "& \\sigma_j^- = a e^{-i\\pi\\sum_{l<j}n_l}, \\\\\n",
    "& \\sigma_j^+ = a^\\dagger e^{i\\pi\\sum_{l<j}n_l}, \\\\\n",
    "& Z_j = 2a_j^\\dagger a_j - I.\n",
    "\\end{align}\n",
    "De certo modo\n",
    "$$\\text{qubit}=\\text{férmion}\\times\\text{string}.$$"
   ]
  },
  {
   "cell_type": "code",
   "execution_count": null,
   "id": "538d80b4-96d9-429b-9cfa-9367d4058da0",
   "metadata": {},
   "outputs": [],
   "source": []
  },
  {
   "cell_type": "code",
   "execution_count": null,
   "id": "56bfc80b-f1cf-465a-b97c-55a272489b4d",
   "metadata": {},
   "outputs": [],
   "source": []
  },
  {
   "cell_type": "markdown",
   "id": "6d1421bd-9782-4195-bbb9-13ed4545c848",
   "metadata": {},
   "source": [
    "## Referências\n",
    "\n",
    "* M. A. Nielsen, “The Fermionic canonical commutation relations and the Jordan-Wigner transform”, https://michaelnielsen.org/blog/fermions-and-the-jordan-wigner-transform-i-introduction/.\n"
   ]
  },
  {
   "cell_type": "code",
   "execution_count": null,
   "id": "24e7cd8d-3abc-4174-b330-11913b473f75",
   "metadata": {},
   "outputs": [],
   "source": []
  }
 ],
 "metadata": {
  "kernelspec": {
   "display_name": "Python 3 (ipykernel)",
   "language": "python",
   "name": "python3"
  },
  "language_info": {
   "codemirror_mode": {
    "name": "ipython",
    "version": 3
   },
   "file_extension": ".py",
   "mimetype": "text/x-python",
   "name": "python",
   "nbconvert_exporter": "python",
   "pygments_lexer": "ipython3",
   "version": "3.12.2"
  }
 },
 "nbformat": 4,
 "nbformat_minor": 5
}
