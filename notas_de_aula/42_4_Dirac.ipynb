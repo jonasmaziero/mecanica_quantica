{
 "cells": [
  {
   "cell_type": "markdown",
   "id": "7553f58a",
   "metadata": {},
   "source": [
    "### Notas de aula de Mecânica Quântica <br> Autor: Jonas Maziero\n",
    "---"
   ]
  },
  {
   "cell_type": "markdown",
   "id": "f69e5e64",
   "metadata": {},
   "source": [
    "## Equação de Dirac\n",
    "Acreditando que os problemas que aparecem na equação de Klein-Gordon se devem à presença de uma derivada segunda no tempo, Dirac buscou uma equação de 1ª ordem no tempo, ou seja, propondo a equação conhecida atualmente como equação de Dirac (EqD):\n",
    "\\begin{equation}\n",
    "\\left(i\\gamma^{\\mu}\\partial_{\\mu}-\\frac{m_{0}c}{\\hbar}\\right)\\psi_{t}(\\vec{r})=0\n",
    "\\end{equation}\n",
    "e buscando os $\\gamma^{\\mu}$ que satisfazem certas condições. \n",
    "\n",
    "Como a EqD deve ser compatível com a expressão relativística $E^{2}=p^{2}c^{2}+m_{0}^{2}c^{4}$, esperamos obter a EqKG a partir da EqD. Para isso, vamos multiplicar a EqD por $\\left(-i\\gamma^{\\nu}\\partial_{\\nu}-\\frac{m_{0}c}{\\hbar}\\right)$:\n",
    "\\begin{align}\n",
    "& \\left(-i\\gamma^{\\nu}\\partial_{\\nu}-\\frac{m_{0}c}{\\hbar}\\right)\\left(i\\gamma^{\\mu}\\partial_{\\mu}-\\frac{m_{0}c}{\\hbar}\\right)\\psi_{t}(\\vec{r})=0 \\\\\n",
    "& \\therefore\\ \\left(\\gamma^{\\nu}\\partial_{\\nu}\\gamma^{\\mu}\\partial_{\\mu} + i\\frac{m_{0}c}{\\hbar}\\left(\\gamma^{\\nu}\\partial_{\\nu}-\\gamma^{\\mu}\\partial_{\\mu}\\right) + \\frac{m_{0}^{2}c^{2}}{\\hbar^{2}}\\right)\\psi_{t}(\\vec{r})=0 \\\\\n",
    "& \\therefore\\ \\left(\\gamma^{\\nu}\\gamma^{\\mu}\\partial_{\\nu}\\partial_{\\mu} + \\frac{m_{0}^{2}c^{2}}{\\hbar^{2}}\\right)\\psi_{t}(\\vec{r})=0 \\\\\n",
    "& \\therefore\\ \\left(\\frac{1}{2}\\big(\\gamma^{\\nu}\\gamma^{\\mu}+\\gamma^{\\mu}\\gamma^{\\nu}\\big)\\partial_{\\nu}\\partial_{\\mu} + \\frac{m_{0}^{2}c^{2}}{\\hbar^{2}}\\right)\\psi_{t}(\\vec{r})=0.\n",
    "\\end{align}\n",
    "Na penúltima passagem assumimos que $\\gamma^\\mu$ não depende explicitamente de $x^\\mu$. Na última passagem somamos a equação com ela mesma só trocando a sequência de índices, e dividimos tudo por 2.\n",
    "\n",
    "Como o termo que aparece na EqKG, $\\Big(\\partial_\\mu\\partial^\\mu+\\frac{m_0^2c^2}{\\hbar^2}\\Big)\\psi=0$, pode ser escrito como $$\\partial_{\\mu}\\partial^{\\mu}=\\partial_{\\mu}\\eta^{\\mu\\nu}\\partial_{\\nu}=\\eta^{\\mu\\nu}\\partial_{\\mu}\\partial_{\\nu}=\\eta^{\\nu\\mu}\\partial_{\\mu}\\partial_{\\nu},$$\n",
    "ao simetrizamos os índices na EqD vemos que\n",
    "\\begin{equation}\n",
    "\\frac{1}{2}(\\gamma^{\\nu}\\gamma^{\\mu}+\\gamma^{\\mu}\\gamma^{\\nu}) = \\frac{1}{2}\\{\\gamma^{\\mu},\\gamma^{\\nu}\\} = \\eta^{\\mu\\nu},\n",
    "\\end{equation}\n",
    "que define a chamada _álgebra de Clifford_. "
   ]
  },
  {
   "cell_type": "markdown",
   "id": "9f840de9",
   "metadata": {},
   "source": [
    "Dessa relação, teremos que\n",
    "\\begin{align}\n",
    "& (\\gamma^{0})^{2}=1, \\\\\n",
    "& (\\gamma^{j})^{2}=-1 \\text{ para } j=1,2,3, \\\\\n",
    "& \\{\\gamma^{\\mu},\\gamma^{\\nu}\\}=0\\ \\therefore\\ \\gamma^{\\mu}\\gamma^{\\nu}=-\\gamma^{\\nu}\\gamma^{\\mu} \\text{ para } \\mu\\ne\\nu.\n",
    "\\end{align}\n",
    "Assim, para $\\mu\\ne j$ e $\\mu=0,1,2,3$ e $j=1,2,3$ teremos a seguinte propriedade do __traço__ dessas matrizes $\\gamma^\\mu$:\n",
    "\\begin{align}\n",
    "& \\gamma^{\\mu}\\gamma^{j}=-\\gamma^{j}\\gamma^{\\mu} \\ \\therefore\\ \\gamma^{\\mu}\\gamma^{j}\\gamma^{j}=-\\gamma^{j}\\gamma^{\\mu}\\gamma^{j}  \\ \\therefore\\ \\gamma^{\\mu}(-1)=-\\gamma^{j}\\gamma^{\\mu}\\gamma^{j} \\\\\n",
    "& \\therefore\\ Tr(\\gamma^{\\mu}) = Tr(\\gamma^{j}\\gamma^{\\mu}\\gamma^{j}) = Tr(\\gamma^{\\mu}\\gamma^{j}\\gamma^{j}) = Tr(\\gamma^{\\mu}(-1)) = -Tr(\\gamma^{\\mu}) \\\\\n",
    "& \\therefore\\ Tr(\\gamma^{\\mu}) = 0,\n",
    "\\end{align}\n",
    "em que usamos as propriedades da função traço.\n",
    "\n",
    "Seguindo, vamos olhar para as __dimensões__ possíveis das matrizes de Dirac. Usamos novamente que $\\gamma^{\\mu}\\gamma^{\\nu}=-\\gamma^{\\nu}\\gamma^{\\mu}$ para $\\mu\\ne\\nu$. Se essas matrizes tem dimensão $d$, teremos que \n",
    "$$\\det(-\\gamma^{\\mu})=(-1)^{d}\\det(\\gamma^{\\mu}).$$\n",
    "Assim\n",
    "\\begin{align}\n",
    "& \\det(\\gamma^{\\mu}\\gamma^{\\nu}) = \\det(-\\gamma^{\\nu}\\gamma^{\\mu}) \\\\\n",
    "& \\det(\\gamma^{\\mu})\\det(\\gamma^{\\nu}) = \\det(-\\gamma^{\\nu})\\det(\\gamma^{\\mu}) = (-1)^{d}\\det(\\gamma^{\\nu})\\det(\\gamma^{\\mu}).\n",
    "\\end{align}\n",
    "Para que esta última igualdade seja satisfeita, i.e., para que \n",
    "$$(-1)^{d}=1,$$\n",
    "a dimensão $d$ deve ser um número __par__."
   ]
  },
  {
   "cell_type": "markdown",
   "id": "209d970d-4a5f-4843-8195-f5f507975fe2",
   "metadata": {},
   "source": [
    "########\n",
    "\n",
    "Revisar sinais usando a definição aplicada na literatura\n",
    "\n",
    "$$p^\\mu = i\\hbar\\partial^\\mu = i\\hbar\\eta^{\\mu\\nu}\\partial_\\nu = i\\hbar\\eta^{\\mu\\nu}\\frac{\\partial}{\\partial x^\\nu}$$\n",
    "\n",
    "que nos dá\n",
    "$$p^0 = \\frac{1}{c}i\\hbar\\frac{\\partial}{\\partial t} =  \\frac{E}{c} = p_0$$\n",
    "e\n",
    "$$p^j = -i\\hbar\\frac{\\partial}{\\partial x^j} = -p_j$$\n",
    "\n",
    "#########"
   ]
  },
  {
   "cell_type": "markdown",
   "id": "af37e667",
   "metadata": {},
   "source": [
    "### Partícula livre\n",
    "Seguindo, vamos aplicar a EqD ao caso da partícula livre $\\phi_{t}(\\vec{r})=Ne^{-i(\\vec{p}\\cdot\\vec{r}-Et)/\\hbar}$. Usando\n",
    "\\begin{align}\n",
    "\\partial_{0}\\phi_{t}(\\vec{r}) & = \\frac{1}{c}\\frac{\\partial}{\\partial t}Ne^{-i(\\vec{p}\\cdot\\vec{r}-Et)/\\hbar} = \\frac{iE}{c\\hbar}\\phi_{t}(\\vec{r}), \\\\\n",
    "\\partial_{j}\\phi_{t}(\\vec{r}) & = \\frac{\\partial}{\\partial x^{j}}\\phi_{t}(\\vec{r}) = -\\frac{ip_{j}}{\\hbar}\\phi_{t}(\\vec{r}) \\text{ para } j=1,2,3,\n",
    "\\end{align}\n",
    "obteremos\n",
    "\\begin{align}\n",
    "& \\left(i\\gamma^{\\mu}\\partial_{\\mu}-\\frac{m_{0}c}{\\hbar}\\right)\\phi_{t}(\\vec{r}) = \\left(i\\gamma^{0}\\partial_{0}+i\\gamma^{1}\\partial_{1}+i\\gamma^{2}\\partial_{2}+i\\gamma^{3}\\partial_{3}-\\frac{m_{0}c}{\\hbar}\\right)\\phi_{t}(\\vec{r}) \\\\\n",
    "& = \\left(-\\gamma^{0}\\frac{E}{c\\hbar}+\\gamma^{1}\\frac{p_{1}}{\\hbar}+\\gamma^{2}\\frac{p_{2}}{\\hbar}+\\gamma^{3}\\frac{p_{3}}{\\hbar}-\\frac{m_{0}c}{\\hbar}\\right)\\phi_{t}(\\vec{r}) \\\\\n",
    "& = -\\frac{1}{\\hbar}\\left(\\gamma^{0}\\frac{E}{c}-\\gamma^{1}p_{1}-\\gamma^{2}p_{2}-\\gamma^{3}p_{3}+m_{0}c\\right)\\phi_{t}(\\vec{r}) \\\\\n",
    "& = -\\frac{1}{\\hbar}\\left(\\gamma^{\\mu}p_{\\mu}+m_{0}c\\right)\\phi_{t}(\\vec{r}) = 0 \\hspace{1cm} (\\star\\star)\n",
    "\\end{align}\n",
    "em que usamos \n",
    "\\begin{align}\n",
    "p_{\\mu} & = \\eta_{\\mu\\nu}p^{\\nu}=(\\eta_{00}p^{0},\\eta_{11}p^{1},\\eta_{22}p^{2},\\eta_{33}p^{3}) = (p^{0},-p^{1},-p^{2},-p^{3}) \\\\\n",
    "& = (E/c,-\\vec{p}).\n",
    "\\end{align}"
   ]
  },
  {
   "cell_type": "markdown",
   "id": "b5a8a25f",
   "metadata": {},
   "source": [
    "### Hamiltoniano de Dirac\n",
    "Seguindo, assumimos que a Eq. ($\\star\\star$) é válida em geral. Mais especificamente, assumimos que \n",
    "\\begin{equation}\n",
    "(\\gamma^{\\mu}p_{\\mu}+m_{0}c)\\psi_{t}(\\vec{r})=0.\n",
    "\\end{equation}\n",
    "Multiplicando essa equação por $\\gamma^{0}$, teremos\n",
    "\\begin{align}\n",
    "& \\gamma^{0}(\\gamma^{\\mu}p_{\\mu}+m_{0}c)\\psi_{t}(\\vec{r})= (\\gamma^{0}\\gamma^{\\mu}p_{\\mu} + \\gamma^{0}m_{0}c)\\psi_{t}(\\vec{r}) \\\\\n",
    "& = (\\gamma^{0}\\gamma^{0}p_{0} + \\gamma^{0}\\gamma^{j}p_{j} + \\gamma^{0}m_{0}c)\\psi_{t}(\\vec{r}) \\\\\n",
    "& = ((1)(E/c) - \\gamma^{0}\\vec{\\gamma}\\cdot\\vec{p} + \\gamma^{0}m_{0}c)\\psi_{t}(\\vec{r}) \\\\\n",
    "& = (E/c - \\gamma^{0}\\vec{\\gamma}\\cdot\\vec{p} + \\gamma^{0}m_{0}c)\\psi_{t}(\\vec{r}) = 0 \\\\\n",
    "& \\therefore\\ (\\gamma^{0}\\vec{\\gamma}\\cdot\\vec{p}c - \\gamma^{0}m_{0}c^2)\\psi_{t}(\\vec{r}) = E\\psi_{t}(\\vec{r}).\n",
    "\\end{align}\n",
    "\n",
    "As __matrizes de Dirac__ são definidas como\n",
    "\\begin{align}\n",
    "& \\beta := -\\gamma^{0}, \\\\\n",
    "& \\alpha^j := \\gamma^{0}\\gamma^{j}.\n",
    "\\end{align}"
   ]
  },
  {
   "cell_type": "markdown",
   "id": "b6ab1926-238c-48e3-a1fa-80575bc6792c",
   "metadata": {},
   "source": [
    "Essas matrizes possuem as seguintes propriedades herdadas das matrizes $\\gamma$:\n",
    "\\begin{align}\n",
    "\\beta^2 & = (-\\gamma^{0})^2 = (\\gamma^{0})^2 = I, \\\\\n",
    "(\\alpha^j)^2 & = \\gamma^{0}\\gamma^{j}\\gamma^{0}\\gamma^{j} = -\\gamma^{0}\\gamma^{j}\\gamma^{j}\\gamma^{0} = -\\gamma^{0}(-I)\\gamma^{0} = (\\gamma^{0})^2 = I, \\\\\n",
    "\\{\\alpha^j,\\alpha^k\\} & = \\alpha^j\\alpha^k + \\alpha^k\\alpha^j = \\gamma^0\\gamma^j\\gamma^0\\gamma^k + \\gamma^0\\gamma^k\\gamma^0\\gamma^j = -\\gamma^j\\gamma^0\\gamma^0\\gamma^k - \\gamma^k\\gamma^0\\gamma^0\\gamma^j \\\\\n",
    "& = -2\\frac{1}{2}(\\gamma^j\\gamma^k + \\gamma^k\\gamma^j) = -2\\frac{1}{2}\\{\\gamma^j,\\gamma^k\\} = -2\\eta^{\\mu\\nu}I, \\\\\n",
    "\\{\\alpha^j,\\beta\\} & = \\alpha^j\\beta + \\beta\\alpha^j = \\gamma^0\\gamma^j(-\\gamma^0) -\\gamma^0\\gamma^0\\gamma^j = \\gamma^0\\gamma^0\\gamma^j -\\gamma^j = \\gamma^j -\\gamma^j \\\\\n",
    "& = \\mathbb{O}, \\\\\n",
    "\\end{align}\n",
    "\n",
    "Como $\\beta^2=I$ e $(\\alpha^j)^2=I$ sabemos que essas matrizes tem autovalores iguais a $\\pm 1.$  \n",
    "\n",
    "Em relação ao traço, temos que\n",
    "\\begin{align}\n",
    "& \\beta = -\\gamma^0 \\ \\therefore\\ Tr(\\beta) = Tr(-\\gamma^0) = - Tr(\\gamma^0) = 0, \\\\\n",
    "& \\{\\alpha^j,\\beta\\} = 0\\ \\therefore\\ \\alpha_j\\beta = - \\beta\\alpha_j\\ \\therefore\\ \\alpha^j\\beta\\beta = - \\beta\\alpha^j\\beta\\ \\therefore\\ \\alpha^j = - \\beta\\alpha^j\\beta \\\\\n",
    "& \\therefore\\ Tr(\\alpha^j) =  Tr(-\\beta\\alpha^j\\beta) = - Tr(\\beta\\beta\\alpha^j)) = - Tr(\\alpha^j)\\ \\therefore\\ Tr(\\alpha^j) = 0.\n",
    "\\end{align}"
   ]
  },
  {
   "cell_type": "markdown",
   "id": "3175e1b4",
   "metadata": {},
   "source": [
    "Multiplicando a equação de autovalores e autovetores acima por $c$, obteremos o __Hamiltoniano de Dirac__\n",
    "\\begin{align}\n",
    "& H\\psi_{t}(\\vec{r}) = (\\vec{\\alpha}\\cdot\\vec{p}c + \\beta m_{0}c^{2})\\psi_{t}(\\vec{r}) = E\\psi_{t}(\\vec{r}) \\\\\n",
    "& \\therefore\\ H = \\vec{\\alpha}\\cdot\\vec{p}c + \\beta m_{0}c^{2}.\n",
    "\\end{align}\n",
    "\n",
    "Impondo que o Hamiltoniano deve ser um operador hermitiano, $H^{\\dagger}=H$, teremos que\n",
    "\\begin{equation}\n",
    "\\beta^{\\dagger}=\\beta\\ \\therefore\\ (\\gamma^{0})^{\\dagger}=\\gamma^{0}\n",
    "\\end{equation}\n",
    "e\n",
    "\\begin{align}\n",
    "&(\\alpha^{j}p_{j})^{\\dagger} =\\alpha^{j}p_{j} \\ \\therefore\\ p_{j}^{\\dagger}(\\alpha^{j})^{\\dagger} = p_{j}(\\alpha^{j})^{\\dagger} = \\alpha^{j}p_{j} =: p_{j}\\alpha^{j} \\ \\therefore\\ (\\alpha^{j})^{\\dagger}=\\alpha^{j} \\\\\n",
    "& \\therefore\\ (\\gamma^{0}\\gamma^{j})^{\\dagger} = \\gamma^{0}\\gamma^{j} \\ \\therefore\\ (\\gamma^{j})^{\\dagger}(\\gamma^{0})^{\\dagger} = (\\gamma^{j})^{\\dagger}\\gamma^{0} = \\gamma^{0}\\gamma^{j} = -\\gamma^{j}\\gamma^{0} \\\\\n",
    "& \\therefore\\ (\\gamma^{j})^{\\dagger}=-\\gamma^{j}.\n",
    "\\end{align}\n",
    "Ou seja, as matrizes $\\gamma^j$ são anti-hermitianas. Acima consideramos $p_{j}$ sendo os autovalores de $P_{j}$, i.e., que $p_{j}$ atuam no espaço de funções escalares (não no espaço de spinores, que veremos a seguir).\n",
    "\n",
    "Construídas essas propriedades que as matrizes gama devem satisfazer, podemos olhar para possibilidades de matrizes. Para \n",
    "$$d=2$$\n",
    "as matrizes de Pauli\n",
    "\\begin{equation}\n",
    "\\sigma_{1}=\\begin{bmatrix} 0 & 1 \\\\ 1 & 0 \\end{bmatrix} \\text{, } \\sigma_{2}=\\begin{bmatrix} 0 & -i \\\\ i & 0 \\end{bmatrix} \\text{, } \\sigma_{3}=\\begin{bmatrix} 1 & 0 \\\\ 0 & -1 \\end{bmatrix}\n",
    "\\end{equation}\n",
    "e a matriz identidade $\\sigma_{0} =\\begin{bmatrix} 1 & 0 \\\\ 0 & 1 \\end{bmatrix}$ formam uma base para o espaço vetorial de matrizes $2\\text{x}2$. No entanto, $\\{\\sigma_{0},\\sigma_{j}\\}=2\\sigma_{j}$ para $j=1,2,3$. Vemos assim que é impossível construir um conjunto de quatro matrizes de $\\mathbb{C}^{2\\times 2}$ que anti-comutam."
   ]
  },
  {
   "cell_type": "markdown",
   "id": "67c150f5-a41b-4a5c-8551-c11f60c3d359",
   "metadata": {},
   "source": [
    "Por conseguinte, a princípio a __menor dimensão__ para a qual as matrizes $\\gamma^{\\mu}$ podem ser definidas é \n",
    "$$d=4.$$\n",
    "De fato, nesse caso, uma possibilidade para as __matrizes gama de Dirac__ é\n",
    "\\begin{align}\n",
    "\\gamma^{0} = \\begin{bmatrix} -\\sigma_{0} & \\mathbb{O}_{2} \\\\ \\mathbb{O}_{2} & \\sigma_{0} \\end{bmatrix},\\ \\gamma^{j} = \\begin{bmatrix} \\mathbb{O}_{2} & \\sigma_{j} \\\\ -\\sigma_{j} & \\mathbb{O}_{2} \\end{bmatrix} \\hspace{2cm} (*)\n",
    "\\end{align}\n",
    "para $j=1,2,3$. A verificação de que \n",
    "$$\\{\\gamma^{\\mu},\\gamma^{\\nu}\\}=2\\eta_{\\mu\\nu}I$$\n",
    "é feita com o código abaixo e é também deixada como exercício. Vale deixar registrado que neste caso\n",
    "$$\\beta = -\\gamma^0 = \\begin{bmatrix} \\sigma_{0} & \\mathbb{O}_{2} \\\\ \\mathbb{O}_{2} & -\\sigma_{0} \\end{bmatrix},\\ \\alpha_j = \\gamma^0\\gamma^j = \\begin{bmatrix} \\mathbb{O}_{2} & -\\sigma_{j} \\\\ -\\sigma_{j} & \\mathbb{O}_{2} \\end{bmatrix}.$$"
   ]
  },
  {
   "cell_type": "code",
   "execution_count": 360,
   "id": "b54f284c",
   "metadata": {},
   "outputs": [],
   "source": [
    "from sympy import Matrix\n",
    "\n",
    "def acomm(x,y):\n",
    "    return x*y + y*x"
   ]
  },
  {
   "cell_type": "code",
   "execution_count": 645,
   "id": "a63aa46c",
   "metadata": {},
   "outputs": [
    {
     "data": {
      "text/latex": [
       "$\\displaystyle \\left[\\begin{matrix}0 & 0 & 1 & 0\\\\0 & 0 & 0 & -1\\\\-1 & 0 & 0 & 0\\\\0 & 1 & 0 & 0\\end{matrix}\\right]$"
      ],
      "text/plain": [
       "Matrix([\n",
       "[ 0, 0, 1,  0],\n",
       "[ 0, 0, 0, -1],\n",
       "[-1, 0, 0,  0],\n",
       "[ 0, 1, 0,  0]])"
      ]
     },
     "execution_count": 645,
     "metadata": {},
     "output_type": "execute_result"
    }
   ],
   "source": [
    "def dirac(j):\n",
    "    if j == 0:\n",
    "        return Matrix([[-1,0,0,0],[0,-1,0,0],[0,0,1,0],[0,0,0,1]])\n",
    "    elif j == 1:\n",
    "        return Matrix([[0,0,0,1],[0,0,1,0],[0,-1,0,0],[-1,0,0,0]])\n",
    "    elif j == 2:\n",
    "        return Matrix([[0,0,0,-1j],[0,0,1j,0],[0,1j,0,0],[-1j,0,0,0]])\n",
    "    elif j == 3:\n",
    "        return Matrix([[0,0,1,0],[0,0,0,-1],[-1,0,0,0],[0,1,0,0]])\n",
    "\n",
    "j = 3; dirac(j)"
   ]
  },
  {
   "cell_type": "code",
   "execution_count": 387,
   "id": "0fe5b41f-ad27-4b52-b237-ef6fd54106ed",
   "metadata": {},
   "outputs": [
    {
     "name": "stdout",
     "output_type": "stream",
     "text": [
      "j= 0 ,k= 0 , Matrix([[2, 0, 0, 0], [0, 2, 0, 0], [0, 0, 2, 0], [0, 0, 0, 2]])\n",
      "j= 1 ,k= 1 , Matrix([[-2, 0, 0, 0], [0, -2, 0, 0], [0, 0, -2, 0], [0, 0, 0, -2]])\n",
      "j= 2 ,k= 2 , Matrix([[-2.00000000000000, 0, 0, 0], [0, -2.00000000000000, 0, 0], [0, 0, -2.00000000000000, 0], [0, 0, 0, -2.00000000000000]])\n",
      "j= 3 ,k= 3 , Matrix([[-2, 0, 0, 0], [0, -2, 0, 0], [0, 0, -2, 0], [0, 0, 0, -2]])\n"
     ]
    }
   ],
   "source": [
    "z4 = Matrix([[0,0,0,0],[0,0,0,0],[0,0,0,0],[0,0,0,0]])\n",
    "for j in range(0,4):\n",
    "    for k in range(0,4):\n",
    "        if(acomm(dirac(j),dirac(k)) != z4):\n",
    "            print('j=',j,',k=',k,',',acomm(dirac(j),dirac(k)))"
   ]
  },
  {
   "cell_type": "markdown",
   "id": "6f0e0741-ffa8-4cd3-82d6-a7e5c45471ad",
   "metadata": {},
   "source": [
    "### Teorema fundamental de Pauli\n",
    "\n",
    "Se $\\gamma^\\mu$ e $\\gamma'^\\mu$ são dois conjuntos de matrizes que satisfazem a álgebra de Clifford, então esses conjuntos de matrizes são relacionados por uma tranformação de similaridade:\n",
    "$$\\gamma'^\\mu = S\\gamma^\\mu S^{-1}.$$\n",
    "Claro, para que $S$ tenha inversa, é necessário que $\\det(S)\\ne 0.$ \n",
    "#### Prova\n",
    "Podemos verificar diretamente que\n",
    "\\begin{align}\n",
    "\\{\\gamma'^\\mu,\\gamma'^\\nu\\} & = \\{S\\gamma^\\mu S^{-1},S\\gamma^\\nu S^{-1}\\} = S\\gamma^\\mu S^{-1}S\\gamma^\\nu S^{-1} + S\\gamma^\\nu S^{-1}S\\gamma^\\mu S^{-1} \\\\\n",
    "& = S\\gamma^\\mu\\gamma^\\nu S^{-1} + S\\gamma^\\nu\\gamma^\\mu S^{-1} = S\\{\\gamma^\\mu,\\gamma^\\nu\\}S^{-1} = S2\\eta^{\\mu\\nu}IS^{-1} = 2\\eta^{\\mu\\nu}SS^{-1} \\\\\n",
    "& = 2\\eta^{\\mu\\nu}I.\n",
    "\\end{align}\n",
    "\n",
    "Também vamos verificar que os dois conjuntos de matrizes de Dirac levam à soluções que são relacionadas por uma matriz de similaridade inversível. Consideremos que $\\Psi'$ é solução da equação de Dirac\n",
    "$$\\Big(i\\gamma'^\\mu\\partial_\\mu - \\frac{mc}{\\hbar}\\Big)\\Psi' = 0.$$\n",
    "Agora, se $\\gamma'^\\mu = S\\gamma^\\mu S^{-1}$ e $SS^{-1}=I$ vem que\n",
    "\\begin{align}\n",
    "& \\Big(iS\\gamma^\\mu S^{-1}\\partial_\\mu - SS^{-1}\\frac{mc}{\\hbar}\\Big)\\Psi' = 0 \\\\\n",
    "& \\therefore\\ S^{-1}S\\Big(i\\gamma^\\mu\\partial_\\mu - \\frac{mc}{\\hbar}\\Big)S^{-1}\\Psi' = S^{-1}0 \\\\\n",
    "& \\therefore\\ \\Big(i\\gamma^\\mu\\partial_\\mu - \\frac{mc}{\\hbar}\\Big)\\Psi = 0 \\\\\n",
    "\\end{align}\n",
    "em que a solução da EqD com matrizes $\\gamma^\\mu$ é\n",
    "$$\\Psi = S^{-1}\\Psi.$$\n",
    "Note que acima usamo que as matrizes $S$ não dependem de $x^\\mu.$\n",
    "\n",
    "$\\square$"
   ]
  },
  {
   "cell_type": "markdown",
   "id": "61dc629c-679b-4357-adad-cfcd730ef8d0",
   "metadata": {},
   "source": [
    "Por exemplo, para\n",
    "$$S = \\begin{bmatrix} \\sigma_0 & \\sigma_0 \\\\ \\sigma_0 & -\\sigma_0 \\end{bmatrix} = S^\\dagger = S^{-1}$$\n",
    "teremos que\n",
    "\\begin{align}\n",
    "\\gamma'^0 & = \\frac{1}{2}S\\gamma^0 S^{-1} \\\\\n",
    "& = \\frac{1}{2}\\begin{bmatrix} \\sigma_0 & \\sigma_0 \\\\ \\sigma_0 & -\\sigma_0 \\end{bmatrix}\\begin{bmatrix} -\\sigma_{0} & \\mathbb{O}_{2} \\\\ \\mathbb{O}_{2} & \\sigma_{0} \\end{bmatrix}\\begin{bmatrix} \\sigma_0 & \\sigma_0 \\\\ \\sigma_0 & -\\sigma_0 \\end{bmatrix} \\\\\n",
    "& = \\frac{1}{2}\\begin{bmatrix} -\\sigma_0 & \\sigma_0 \\\\ -\\sigma_0 & -\\sigma_0 \\end{bmatrix}\\begin{bmatrix} \\sigma_0 & \\sigma_0 \\\\ \\sigma_0 & -\\sigma_0 \\end{bmatrix} \\\\\n",
    "& = \\begin{bmatrix} \\mathbb{O}_2 & -\\sigma_0 \\\\ -\\sigma_0 & \\mathbb{O}_2 \\end{bmatrix}, \\\\\n",
    "\\gamma'^{j}  & = \\frac{1}{2}S\\gamma^j S^{-1} \\\\\n",
    "& = \\frac{1}{2}\\begin{bmatrix} \\sigma_0 & \\sigma_0 \\\\ \\sigma_0 & -\\sigma_0 \\end{bmatrix}\\begin{bmatrix} \\mathbb{O}_{2} & \\sigma_{j} \\\\ -\\sigma_{j} & \\mathbb{O}_{2} \\end{bmatrix}\\begin{bmatrix} \\sigma_0 & \\sigma_0 \\\\ \\sigma_0 & -\\sigma_0 \\end{bmatrix} \\\\\n",
    "& = \\begin{bmatrix} -\\sigma_j & \\sigma_{j} \\\\ \\sigma_{j} & \\sigma_j \\end{bmatrix}\\begin{bmatrix} \\sigma_0 & \\sigma_0 \\\\ \\sigma_0 & -\\sigma_0 \\end{bmatrix} \\\\\n",
    "& = \\begin{bmatrix} \\mathbb{O}_{2} & -\\sigma_{j} \\\\ \\sigma_{j} & \\mathbb{O}_{2} \\end{bmatrix}.\n",
    "\\end{align}\n",
    "Pode-se verificar que $\\{\\gamma'^\\mu,\\gamma'^\\nu\\}=2\\eta^{\\mu\\nu}I.$"
   ]
  },
  {
   "cell_type": "code",
   "execution_count": 648,
   "id": "ce9a32c9-4f7e-4b17-8204-24ee8d68e148",
   "metadata": {},
   "outputs": [
    {
     "data": {
      "text/latex": [
       "$\\displaystyle \\left[\\begin{matrix}0 & 0 & -1 & 0\\\\0 & 0 & 0 & 1\\\\1 & 0 & 0 & 0\\\\0 & -1 & 0 & 0\\end{matrix}\\right]$"
      ],
      "text/plain": [
       "Matrix([\n",
       "[0,  0, -1, 0],\n",
       "[0,  0,  0, 1],\n",
       "[1,  0,  0, 0],\n",
       "[0, -1,  0, 0]])"
      ]
     },
     "execution_count": 648,
     "metadata": {},
     "output_type": "execute_result"
    }
   ],
   "source": [
    "def diracl(j):\n",
    "    if j == 0:\n",
    "        return Matrix([[0,0,-1,0],[0,0,0,-1],[-1,0,0,0],[0,-1,0,0]])\n",
    "    elif j == 1:\n",
    "        return Matrix([[0,0,0,-1],[0,0,-1,0],[0,1,0,0],[1,0,0,0]])\n",
    "    elif j == 2:\n",
    "        return Matrix([[0,0,0,1j],[0,0,-1j,0],[0,-1j,0,0],[1j,0,0,0]])\n",
    "    elif j == 3:\n",
    "        return Matrix([[0,0,-1,0],[0,0,0,1],[1,0,0,0],[0,-1,0,0]])\n",
    "\n",
    "j = 3; diracl(j)"
   ]
  },
  {
   "cell_type": "code",
   "execution_count": 397,
   "id": "601362b8-0555-4d1f-9c37-835d445c657e",
   "metadata": {},
   "outputs": [
    {
     "name": "stdout",
     "output_type": "stream",
     "text": [
      "j= 0 ,k= 0 , Matrix([[2, 0, 0, 0], [0, 2, 0, 0], [0, 0, 2, 0], [0, 0, 0, 2]])\n",
      "j= 1 ,k= 1 , Matrix([[-2, 0, 0, 0], [0, -2, 0, 0], [0, 0, -2, 0], [0, 0, 0, -2]])\n",
      "j= 2 ,k= 2 , Matrix([[-2.00000000000000, 0, 0, 0], [0, -2.00000000000000, 0, 0], [0, 0, -2.00000000000000, 0], [0, 0, 0, -2.00000000000000]])\n",
      "j= 3 ,k= 3 , Matrix([[-2, 0, 0, 0], [0, -2, 0, 0], [0, 0, -2, 0], [0, 0, 0, -2]])\n"
     ]
    }
   ],
   "source": [
    "z4 = Matrix([[0,0,0,0],[0,0,0,0],[0,0,0,0],[0,0,0,0]])\n",
    "for j in range(0,4):\n",
    "    for k in range(0,4):\n",
    "        if(acomm(diracl(j),diracl(k)) != z4):\n",
    "            print('j=',j,',k=',k,',',acomm(diracl(j),diracl(k)))"
   ]
  },
  {
   "cell_type": "markdown",
   "id": "f3964989",
   "metadata": {},
   "source": [
    "### Densidade de probabilidade positiva\n",
    "Note que como o Hamiltoniano é, neste caso, uma matriz $4\\text{x}4$, a função de onda na base de posição não é uma função escalar como caso não relativístico da equação de Schrödinger. No caso relativístico da equação de Dirac a função de onda __$\\psi_{t}(\\vec{r})$ é um vetor com $4$ componentes__\n",
    "$$\\psi = \\begin{bmatrix}\\psi_1\\\\\\psi_2\\\\\\psi_3\\\\\\psi_4\\end{bmatrix}.$$ \n",
    "Nesse caso a densidade de probabilidade pode ser definida como\n",
    "\\begin{equation}\n",
    "\\rho = \\psi^{\\dagger}\\psi = \\sum_{j=1}^4 |\\psi_j|^2\\ge0,\n",
    "\\end{equation}\n",
    "que é não negativa, i.e., $\\rho\\ge 0$. Acima usamos a notação $\\rho=\\rho_{t}(\\vec{r})$ e $\\psi=\\psi_{t}(\\vec{r})$. \n",
    "\n",
    "Usando a equação de Dirac na forma \n",
    "$$H\\psi=(\\vec{\\alpha}\\cdot\\vec{p}c+\\beta m_{0}c^{2})\\psi=E\\psi$$\n",
    "e fazendo as trocas \n",
    "$$p_{j} = -p^j \\rightarrow -\\Big(-i\\hbar\\frac{\\partial}{\\partial x^{j}}\\Big) = i\\hbar\\frac{\\partial}{\\partial x^{j}}\\ \\text{e}\\ E\\rightarrow i\\hbar\\frac{\\partial}{\\partial t}$$\n",
    "teremos\n",
    "\\begin{equation}\n",
    "\\left(\\sum_{j=1}^{3}\\alpha^{j}p_{j}c+\\beta m_{0}c^{2}\\right)\\psi = \\left(i\\hbar\\sum_{j=1}^{3}\\alpha^{j}\\frac{\\partial}{\\partial x^{j}}c+\\beta m_{0}c^{2}\\right)\\psi = i\\hbar\\frac{\\partial}{\\partial t}\\psi.\n",
    "\\end{equation}"
   ]
  },
  {
   "cell_type": "markdown",
   "id": "30642a1f",
   "metadata": {},
   "source": [
    "Tomando a adjunta desta equação, obtemos\n",
    "\\begin{equation}\n",
    "\\left(-i\\hbar\\sum_{j=1}^{3}\\frac{\\partial}{\\partial x^{j}}\\psi^{\\dagger}(\\alpha^{j})^{\\dagger}c+\\psi^{\\dagger}\\beta^{\\dagger} m_{0}c^{2}\\right) = -i\\hbar\\frac{\\partial}{\\partial t}\\psi^{\\dagger}.\n",
    "\\end{equation}\n",
    "Assim \n",
    "\\begin{align}\n",
    "\\partial_{t}\\rho & = (\\partial_{t}\\psi^{\\dagger})\\psi + \\psi^{\\dagger}(\\partial_{t}\\psi) \\\\\n",
    "& = \\frac{i}{\\hbar}\\left(-i\\hbar\\sum_{j=1}^{3}\\frac{\\partial\\psi^{\\dagger}}{\\partial x^{j}}\\alpha^{j}c+\\psi^{\\dagger}\\beta m_{0}c^{2}\\right)\\psi -\\psi^{\\dagger}\\frac{i}{\\hbar}\\left(i\\hbar\\sum_{j=1}^{3}\\alpha^{j}\\frac{\\partial}{\\partial x^{j}}c+\\beta m_{0}c^{2}\\right)\\psi \\\\\n",
    "& = \\sum_{j=1}^{3}\\frac{\\partial\\psi^{\\dagger}}{\\partial x^{j}}\\alpha^{j}c\\psi + \\frac{i}{\\hbar}\\psi^{\\dagger}\\beta m_{0}c^{2}\\psi + \\sum_{j=1}^{3}\\psi^{\\dagger}\\alpha^{j}\\frac{\\partial\\psi}{\\partial x^{j}}c - \\frac{i}{\\hbar}\\psi^{\\dagger}\\beta m_{0}c^{2}\\psi \\\\\n",
    "& = \\sum_{j=1}^{3}\\frac{\\partial(\\psi^{\\dagger}\\alpha^{j}c\\psi)}{\\partial x^{j}} = -\\sum_{j=1}^{3}\\frac{\\partial J^j}{\\partial x^{j}} \\\\\n",
    "& = -\\vec{\\nabla}\\cdot\\vec{J},\n",
    "\\end{align}\n",
    "onde definimos a densidade de corrente de probabilidade\n",
    "\\begin{equation}\n",
    "\\vec{J} = -\\psi^{\\dagger}\\vec{\\alpha}c\\psi.\n",
    "\\end{equation}\n",
    "Com isso, vemos que a EqD resolve o problema da não positividade da densidade de probabilidade presente na EqKG.\n",
    "\n",
    "Quanto à questão da possibilidade de energia negativa para uma partícula livre, Dirac deu uma interpretação pra isso, o que o levou a existência de anti-partículas. Essa previsão foi confirmada experimentalmente. Veremos esse tópico em mais detalhes mais adiante."
   ]
  },
  {
   "cell_type": "markdown",
   "id": "45213d0f-4bc0-4a74-b435-e1c12a631e6b",
   "metadata": {},
   "source": [
    "### Spin na equação de Dirac\n",
    "\n",
    "O hamiltoniano de uma partícula livre não relativística é\n",
    "$$H_{nr} = \\frac{P^2}{2m}\\otimes I_S,$$\n",
    "com $I_S$ sendo a identidade no espaço de Hilbert de spin, que é um grau de liberdade interno. O estado global pode ser escrito como\n",
    "$$|\\Psi\\rangle = |\\psi\\rangle\\otimes|\\xi\\rangle \\equiv \\int d^3r \\psi(\\vec{r})|\\vec{r}\\rangle\\otimes|\\xi\\rangle,$$\n",
    "com $P^2 = \\hbar^2\\nabla^2$ atuando em $\\psi(\\vec{r}).$ Temos assim que operadores de spin $S_j$, que atuam nesse caso do espaço de Hilbert de spin, comutam com o hamiltoniano\n",
    "$$[S_j,H_{nr}]=0.$$"
   ]
  },
  {
   "cell_type": "markdown",
   "id": "cab37bbc-7945-4d2e-826f-e8910bde2c61",
   "metadata": {},
   "source": [
    "O momento angular orbital também comuta com esse hamiltoniano\n",
    "\\begin{align}\n",
    "[L_j,P^2] & = [(\\vec{R}\\times\\vec{P})_j,P^2] = \\Big[\\sum_{k,l}\\epsilon_{jkl}X_k P_l,\\sum_m P_m^2\\Big] = \\sum_{k,l,m}\\epsilon_{jkl}[X_k P_l,P_m^2] \\\\\n",
    "& = \\sum_{k,l,m}\\epsilon_{jkl}\\Big(X_k[P_l,P_m^2] + [X_k,P_m^2]P_l\\Big) = \\sum_{k,l,m}\\epsilon_{jkl}\\Big(0 + P_m[X_k,P_m]P_l + [X_k,P_m]P_m P_l\\Big) \\\\\n",
    "& = \\sum_{k,l,m}\\epsilon_{jkl}\\Big(P_m(i\\hbar I\\delta_{km})P_l + (i\\hbar I\\delta_{km})P_m P_l\\Big) = 2i\\hbar\\sum_{k,l}\\epsilon_{jkl}P_k P_l \\\\\n",
    "& = 2i\\hbar(\\epsilon_{jkl}P_k P_l + \\epsilon_{jlk})P_l P_k) = 2i\\hbar(\\epsilon_{jkl} + \\epsilon_{jlk})P_l P_k \\\\\n",
    "& = 0.\n",
    "\\end{align}\n",
    "\n",
    "Já para o hamiltoniano de Dirac, teremos que\n",
    "\\begin{align}\n",
    "[L_j,H] & = \\Big[\\sum_{k,l}\\epsilon_{jkl}X_k P_l,\\sum_m\\alpha^m P_m c + \\beta m_0 c^2 I\\Big] = \\sum_{k,l,m}\\alpha^m c\\epsilon_{jkl}[X_k P_l,P_m] + 0 \\\\\n",
    "& = \\sum_{k,l,m}\\alpha^m c\\epsilon_{jkl}\\big(X_k[P_l,P_m] + [X_k,P_m] P_l\\big) = \\sum_{k,l,m}\\alpha^m c\\epsilon_{jkl}\\big(0 + i\\hbar\\delta_{km} P_l\\big) \\\\ \n",
    "& = i\\hbar c\\sum_{k,l} \\epsilon_{jkl}\\alpha^k P_l = i\\hbar c(\\vec{\\alpha}\\times\\vec{P})_j \\ne 0. \n",
    "\\end{align}\n",
    "Do resultado acima temos que\n",
    "$$[\\vec{L},H] = i\\hbar c\\vec{\\alpha}\\times\\vec{P}.$$\n",
    "Ou seja, o hamiltoniano de Dirac partícula livre não comuta com o momento angular. Por conseguinte, não podemos definir o spin relativístico como um grau de liberdade atuando em um espaço de Hilbert diferente. A questão de como definir o spin relativístico adequadamente é tema de discussão na literatura até os dias de hoje."
   ]
  },
  {
   "cell_type": "markdown",
   "id": "4c17dbfc-487a-44e5-bc7c-6def02e1e479",
   "metadata": {},
   "source": [
    "Para matrizes de Dirac de dimensão $4$, em analogia com $\\vec{S}=\\hbar\\vec{\\sigma}/2$ do caso não relativístico, vamos definir o spin de uma partícula relativística \n",
    "$$\\vec{S} = \\frac{\\hbar}{2}\\vec{\\Xi}$$\n",
    "usando\n",
    "$$\\Xi_j := \\begin{bmatrix}\\sigma_j & 0 \\\\ 0 & \\sigma_j\\end{bmatrix}.$$\n",
    "Com isso, usando $\\sigma_j\\sigma_k=\\delta_{jk}I_2 + i\\epsilon_{jkl}\\sigma_l$ vem que\n",
    "\\begin{align}\n",
    "\\Xi_j\\Xi_k & = \\begin{bmatrix}\\sigma_j & 0 \\\\ 0 & \\sigma_j\\end{bmatrix}\\begin{bmatrix}\\sigma_k & 0 \\\\ 0 & \\sigma_k\\end{bmatrix} = \\begin{bmatrix}\\sigma_j\\sigma_k & 0 \\\\ 0 & \\sigma_j\\sigma_k\\end{bmatrix} = \\begin{bmatrix}(\\delta_{jk}I_2 + i\\epsilon_{jkl}\\sigma_l) & 0 \\\\ 0 & (\\delta_{jk}I_2 + i\\epsilon_{jkl}\\sigma_l)\\end{bmatrix} \\\\\n",
    "& = \\delta_{jk}I_4 + i\\epsilon_{jkl}\\begin{bmatrix}\\sigma_l & 0 \\\\ 0 & \\sigma_l\\end{bmatrix} \\\\\n",
    "& = \\delta_{jk}I_4 + i\\epsilon_{jkl}\\Xi_l.\n",
    "\\end{align}\n",
    "Assim obtemos a relação de comutação (considera $j\\ne k$)\n",
    "\\begin{align}\n",
    "& [\\Xi_j,\\Xi_k] = \\Xi_j\\Xi_k - \\Xi_k\\Xi_j = i\\epsilon_{jkl}\\Xi_l - i\\epsilon_{kjl}\\Xi_l = 2i\\epsilon_{jkl}\\Xi_l \\\\\n",
    "& \\therefore\\ [\\Xi_j/2,\\Xi_k/2] = i\\epsilon_{jkl}\\Xi_l/2\n",
    "\\end{align}\n",
    "satisfaz a _álgebra do momento angular_ (álgebra de Lie). Essa é uma boa indicação de que podemos usar $\\Xi_j$ como uma generalização das matrizes de Pauli, que são usadas para partículas não relativísticas de spin 1/2."
   ]
  },
  {
   "cell_type": "markdown",
   "id": "0d2bbcef-6c4a-4dc7-a3ac-5dbd42860a2a",
   "metadata": {},
   "source": [
    "Ademais, usando\n",
    "\\begin{align}\n",
    "[\\Xi_j,\\beta] & = \\begin{bmatrix}\\sigma_j & 0 \\\\ 0 & \\sigma_j\\end{bmatrix}\\begin{bmatrix}\\sigma_0 & 0 \\\\ 0 & -\\sigma_0\\end{bmatrix} - \\begin{bmatrix}\\sigma_0 & 0 \\\\ 0 & -\\sigma_0\\end{bmatrix}\\begin{bmatrix}\\sigma_j & 0 \\\\ 0 & \\sigma_j\\end{bmatrix} = \\begin{bmatrix}\\sigma_j & 0 \\\\ 0 & -\\sigma_j\\end{bmatrix} - \\begin{bmatrix}\\sigma_j & 0 \\\\ 0 & -\\sigma_j\\end{bmatrix} \\\\\n",
    "& = 0\n",
    "\\end{align}\n",
    "e\n",
    "\\begin{align}\n",
    "[\\Xi_j,\\alpha^k] & = \\Xi_j\\alpha^k - \\alpha^k\\Xi_j = \\begin{bmatrix}\\sigma_j & 0 \\\\ 0 & \\sigma_j\\end{bmatrix}\\begin{bmatrix} 0 & \\sigma_k \\\\ \\sigma_k & 0 \\end{bmatrix} - \\begin{bmatrix} 0 & \\sigma_k \\\\ \\sigma_k & 0 \\end{bmatrix}\\begin{bmatrix}\\sigma_j & 0 \\\\ 0 & \\sigma_j\\end{bmatrix} \\\\\n",
    "& = \\begin{bmatrix} 0 & \\sigma_j\\sigma_k \\\\ \\sigma_j\\sigma_k & 0 \\end{bmatrix} - \\begin{bmatrix} 0 & \\sigma_k\\sigma_j \\\\ \\sigma_k\\sigma_j & 0 \\end{bmatrix} = \\begin{bmatrix} 0 & [\\sigma_j,\\sigma_k] \\\\ [\\sigma_j,\\sigma_k] & 0 \\end{bmatrix} \\\\\n",
    "& = \\begin{bmatrix} 0 & 2i\\epsilon_{jkl}\\sigma_l \\\\ 2i\\epsilon_{jkl}\\sigma_l & 0 \\end{bmatrix} = 2i\\epsilon_{jkl}\\begin{bmatrix} 0 & \\sigma_l \\\\ \\sigma_l & 0 \\end{bmatrix} \\\\\n",
    "& = 2i\\epsilon_{jkl}\\alpha^l  = 2i\\sum_l\\epsilon_{jkl}\\alpha^l\n",
    "\\end{align}"
   ]
  },
  {
   "cell_type": "markdown",
   "id": "36c64a21-57d3-42ca-b476-e8819e8ce0b9",
   "metadata": {},
   "source": [
    "teremos que\n",
    "\\begin{align}\n",
    "[\\Xi_j,H] & = [\\Xi_j,\\vec{\\alpha}\\cdot\\vec{P}c + \\beta m_0c^2] = \\Big[\\Xi_j,\\sum_k\\alpha^k P_k c\\Big] + 0 = c\\sum_k[\\Xi_j,\\alpha^k P_k] \\\\\n",
    "& = c\\sum_k\\big(\\alpha^k[\\Xi_j, P_k] + [\\Xi_j,\\alpha^k] P_k\\big) = c\\sum_k\\big(0 + 2i\\sum_l\\epsilon_{jkl}\\alpha^l P_k\\big) \\\\\n",
    "& = 2ic\\sum_{k,l}\\epsilon_{jkl}\\alpha^l P_k = -2ic\\sum_{k,l}\\epsilon_{jlk}\\alpha^l P_k \\\\\n",
    "& = -2ic(\\vec{\\alpha}\\times\\vec{P})_j,\n",
    "\\end{align}\n",
    "em que usamos $[\\Xi_j, P_k]=0$, pois $P_k$ atuam nas funções escalares de $x^\\mu$ e $\\Xi_j$ não dependem de $x^\\mu$. Ou seja\n",
    "$$[\\vec{\\Xi},H] = -2ic\\vec{\\alpha}\\times\\vec{P}.$$\n",
    "\n",
    "Então, se definimos o _momento angular total_ como\n",
    "$$\\vec{J} = \\vec{L} + \\frac{\\hbar}{2}\\vec{\\Xi} = \\vec{L} + \\vec{S},$$\n",
    "veremos que este comuta com o hamiltoniano de Dirac:\n",
    "\\begin{align}\n",
    "[\\vec{J},H] & = \\Big[\\vec{L} + \\frac{\\hbar}{2}\\vec{\\Xi}, H\\Big] = [\\vec{L}, H] + \\frac{\\hbar}{2}[\\vec{\\Xi}, H] = i\\hbar c\\vec{\\alpha}\\times\\vec{P} - \\frac{\\hbar}{2}2ic\\vec{\\alpha}\\times\\vec{P} \\\\\n",
    "& = 0.\n",
    "\\end{align}\n"
   ]
  },
  {
   "cell_type": "markdown",
   "id": "bb9ffbf9-4751-4c3c-bf73-4d0450687111",
   "metadata": {},
   "source": [
    "Por fim, notamos que\n",
    "$$S_3 = \\frac{\\hbar}{2}\\begin{bmatrix}\\sigma_3 & 0 \\\\ 0 & \\sigma_3\\end{bmatrix} = \\frac{\\hbar}{2}\\begin{bmatrix}1 & 0 & 0 & 0 \\\\ 0 & -1 & 0 & 0 \\\\ 0 & 0 & 1 & 0 \\\\ 0 & 0 & 0 & -1 \\end{bmatrix}$$\n",
    "tem autovalores $\\pm\\hbar/2$ duplamente degenerados e que\n",
    "\\begin{align}\n",
    "S^2 & = \\vec{S}\\cdot\\vec{S} = \\frac{\\hbar}{2}\\vec{\\Xi}\\cdot\\frac{\\hbar}{2}\\vec{\\Xi} = \\frac{\\hbar^2}{4}\\sum_j\\Xi_j^2 = \\frac{\\hbar^2}{4}\\sum_j\\begin{bmatrix}\\sigma_j & 0 \\\\ 0 & \\sigma_j\\end{bmatrix}^2 \\\\\n",
    "& = \\frac{\\hbar^2}{4}\\sum_j\\begin{bmatrix}\\sigma_j^2 & 0 \\\\ 0 & \\sigma_j^2\\end{bmatrix} = \\frac{\\hbar^2}{4}\\sum_j\\begin{bmatrix}I_2 & 0 \\\\ 0 & I_2\\end{bmatrix} = \\frac{\\hbar^2}{4}\\sum_j I_4 \\\\\n",
    "& = \\frac{3\\hbar^2}{4} I_4 = \\hbar^2\\frac{1}{2}\\Big(\\frac{1}{2}+1\\Big)I_4\n",
    "\\end{align}\n",
    "tem autovalores $\\hbar^2\\frac{1}{2}\\Big(\\frac{1}{2}+1\\Big)$. Assim, usando as equações de autovalores e autovetores\n",
    "\\begin{align}\n",
    "& S^2|s,m_s\\rangle = \\hbar^2 s(s+1)|s,m_s\\rangle, \\\\\n",
    "& S_3|s,m_s\\rangle = \\hbar m_s|s,m_s\\rangle,\n",
    "\\end{align}\n",
    "podemos identificar que a EqD considerada acima (com matrizes $\\gamma\\in\\mathbb{C}^{4\\times 4})$ __descreve quantons de spins 1/2__ pois \n",
    "$$s = \\frac{1}{2}\\ \\therefore\\ m_s=-\\frac{1}{2},\\frac{1}{2}.$$"
   ]
  },
  {
   "cell_type": "markdown",
   "id": "b0b1daff-7914-44b3-b88d-cdf14ee45115",
   "metadata": {},
   "source": [
    "### Equação de Pauli-Schrödinger\n",
    "\n",
    "Como vimos anteriormente, em relação ao caso da partícula livre, podemos introduzir o acomplamento mínimo, de uma partícula de carga elétrica $q$ e massa de repouso $m_0$ com compos elétrico e magnéticos representados através dos potenciais vetor magnético $\\vec{A}$ e escalar elétrico $\\Phi$, através das substituições\n",
    "$$\\vec{P}\\rightarrow \\vec{P}-q\\vec{A},\\ H\\rightarrow H-q\\Phi.$$\n",
    "Assim, usando $\\beta = \\begin{bmatrix}I_2 & 0 \\\\ 0 & -I_2\\end{bmatrix}$ e $\\alpha_j = \\begin{bmatrix}0 & \\sigma_j \\\\ \\sigma_j & 0\\end{bmatrix}\\ \\therefore\\ \\vec{\\alpha} = \\begin{bmatrix}0 & \\vec{\\sigma} \\\\ \\vec{\\sigma} & 0\\end{bmatrix},$ o hamiltoniano de Dirac fica escrito como segue\n",
    "\\begin{align}\n",
    "H & = \\vec{\\alpha}\\cdot\\vec{P}c + \\beta m_0c^2 \\\\\n",
    "& \\downarrow \\\\\n",
    "H & = \\vec{\\alpha}\\cdot(\\vec{P}-q\\vec{A})c + \\beta m_0c^2 + q\\Phi I_4 \\\\\n",
    "& = \\begin{bmatrix}0 & \\vec{\\sigma} \\\\ \\vec{\\sigma} & 0\\end{bmatrix}\\cdot(\\vec{P}-q\\vec{A})c + \\begin{bmatrix}I_2 & 0 \\\\ 0 & -I_2\\end{bmatrix}m_0c^2 + q\\Phi I_4 \\\\\n",
    "& = \\begin{bmatrix}(m_0c^2+q\\Phi)I_2 & \\vec{\\sigma}\\cdot(\\vec{P}-q\\vec{A})c \\\\ \\vec{\\sigma}\\cdot(\\vec{P}-q\\vec{A})c & (-m_0c^2+q\\Phi)I_2\\end{bmatrix}.\n",
    "\\end{align}"
   ]
  },
  {
   "cell_type": "markdown",
   "id": "6e5495a6-75f5-4313-a6f5-c2498619a706",
   "metadata": {},
   "source": [
    "Escrevendo a função de onda de Dirac em termos de dois objetos de duas componentes cada,\n",
    "$$\\Psi = \\begin{bmatrix}\\varphi \\\\ \\chi\\end{bmatrix},$$\n",
    "com a notação $\\Psi = \\Psi(\\vec{r},t)$, $\\varphi = \\varphi(\\vec{r},t)$ e $\\chi = \\chi(\\vec{r},t)$, obtemos da equação de Dirac:\n",
    "\\begin{align}\n",
    "& i\\hbar\\partial_t\\Psi = H\\Psi \\\\\n",
    "& \\therefore\\ i\\hbar\\partial_t\\begin{bmatrix}\\varphi \\\\ \\chi\\end{bmatrix} = \\begin{bmatrix}(m_0c^2+q\\Phi)I_2 & \\vec{\\sigma}\\cdot(\\vec{P}-q\\vec{A})c \\\\ \\vec{\\sigma}\\cdot(\\vec{P}-q\\vec{A})c & (-m_0c^2+q\\Phi)I_2\\end{bmatrix}\\begin{bmatrix}\\varphi \\\\ \\chi\\end{bmatrix} \\\\\n",
    "& \\begin{cases} i\\hbar\\partial_t\\varphi = (m_0c^2+q\\Phi)\\varphi + \\vec{\\sigma}\\cdot(\\vec{P}-q\\vec{A})c\\chi  \\\\\n",
    "i\\hbar\\partial_t\\chi = \\vec{\\sigma}\\cdot(\\vec{P}-q\\vec{A})c\\varphi + (-m_0c^2+q\\Phi)\\chi\\end{cases}.\n",
    "\\end{align}\n",
    "\n",
    "Continuando, assim como fizemos para obter o limite não relativístico da equação de Klein-Gordon (EqKG), aqui vamos escrever a função de onda em termos de uma fase que depende da energia de repouso:\n",
    "$$\\Psi = e^{iE_0t/\\hbar}\\Lambda = e^{im_0c^2t/\\hbar}\\Lambda$$\n",
    "ou\n",
    "\\begin{align}\n",
    "& \\varphi = e^{-iE_0t/\\hbar}\\psi = e^{-im_0c^2t/\\hbar}\\psi, \\\\\n",
    "& \\chi = e^{-iE_0t/\\hbar}\\xi = e^{-im_0c^2t/\\hbar}\\xi,\n",
    "\\end{align}\n",
    "com $\\psi = \\psi(\\vec{r},t),\\ \\xi = \\xi(\\vec{r},t)$ e $\\Lambda=\\psi\\xi.$ Como no caso da EqKG, a condição\n",
    "$$E_c\\ll E_0$$\n",
    "é equivalente a dizer que as funções $\\psi$ e $\\xi$ variam lentamente com o tempo\n",
    "$$\\partial_t\\psi\\approx 0,\\ \\partial_t\\xi\\approx 0.$$"
   ]
  },
  {
   "cell_type": "markdown",
   "id": "8f26b346-4ebf-43b6-99e2-b4acd73f6d10",
   "metadata": {},
   "source": [
    "Substituindo em uma das equações acima obtidas a partir da EqD, $i\\hbar\\partial_t\\chi = \\vec{\\sigma}\\cdot(\\vec{P}-q\\vec{A})c\\varphi + (-m_0c^2+q\\Phi)\\chi$, segue que\n",
    "\\begin{align}\n",
    "& i\\hbar\\partial_t\\chi = i\\hbar\\partial_t\\Big(e^{-im_0c^2t/\\hbar}\\xi\\Big) = i\\hbar\\Big(\\frac{-im_0c^2}{\\hbar}e^{-im_0c^2t/\\hbar}\\xi + e^{-im_0c^2t/\\hbar}\\partial_t\\xi\\Big) = m_0c^2e^{-im_0c^2t/\\hbar}\\xi + e^{-im_0c^2t/\\hbar}i\\hbar\\partial_t\\xi \\\\\n",
    "& = \\vec{\\sigma}\\cdot(\\vec{P}-q\\vec{A})ce^{-im_0c^2t/\\hbar}\\psi+ (-m_0c^2+q\\Phi)e^{-im_0c^2t/\\hbar}\\xi.\n",
    "\\end{align}\n",
    "Multiplicando pela esquerda por $e^{im_0c^2t/\\hbar}$ obteremos\n",
    "\\begin{align}\n",
    "& i\\hbar\\partial_t\\xi = \\vec{\\sigma}\\cdot(\\vec{P}-q\\vec{A})c\\psi + (-2m_0c^2+q\\Phi)\\xi \\approx 0 \\\\\n",
    "& \\therefore\\ \\xi \\approx \\frac{\\vec{\\sigma}\\cdot(\\vec{P}-q\\vec{A})c}{2m_0c^2-q\\Phi}\\psi \\approx \\frac{\\vec{\\sigma}\\cdot(\\vec{P}-q\\vec{A})c}{2m_0c^2}\\psi \\approx \\frac{\\vec{\\sigma}\\cdot(m_0 v-q\\vec{A})}{2m_0c}\\psi = \\mathcal{O}\\Big(\\frac{v}{c}\\big)\\psi \\ll \\psi.\n",
    "\\end{align}\n",
    "Acima usamos que no limite não relativístico a energia potencial e a energia cinética são muito menores que a energia de repouso, e que \n",
    "$$P\\approx m_0 v.$$\n",
    "\n",
    "Com isso, vemos que no limite não relativístico a função de onda de Dirac se reduz a uma função com duas componentes, ou spinor de duas componentes."
   ]
  },
  {
   "cell_type": "markdown",
   "id": "99675514-7f1e-453d-a337-bff7d323c3a5",
   "metadata": {},
   "source": [
    "Seguindo, vamos considerar a outra equação, $i\\hbar\\partial_t\\varphi = (m_0c^2+q\\Phi)\\varphi + \\vec{\\sigma}\\cdot(\\vec{P}-q\\vec{A})c\\chi$, obtida da EqD, e vamos usar esses últimos resultados para obter\n",
    "\\begin{align}\n",
    "& i\\hbar\\partial_t\\varphi = i\\hbar\\partial_t\\Big(e^{-im_0c^2t/\\hbar}\\psi\\Big) = i\\hbar\\Big(\\frac{-im_0c^2}{\\hbar}e^{-im_0c^2t/\\hbar}\\psi + e^{-im_0c^2t/\\hbar}\\partial_t\\psi\\Big) = m_0c^2e^{-im_0c^2t/\\hbar}\\psi + e^{-im_0c^2t/\\hbar}i\\hbar\\partial_t\\psi \\\\\n",
    "& = (m_0c^2+q\\Phi)e^{-im_0c^2t/\\hbar}\\psi + \\vec{\\sigma}\\cdot(\\vec{P}-q\\vec{A})ce^{-im_0c^2t/\\hbar}\\xi \\\\\n",
    "& \\therefore\\ i\\hbar\\partial_t\\psi = q\\Phi\\psi + \\vec{\\sigma}\\cdot(\\vec{P}-q\\vec{A})c\\xi \\approx q\\Phi\\psi + \\vec{\\sigma}\\cdot(\\vec{P}-q\\vec{A})c\\frac{\\vec{\\sigma}\\cdot(m_0 v-q\\vec{A})}{2m_0c}\\psi \\\\\n",
    "& \\therefore\\ i\\hbar\\partial_t\\psi = \\frac{\\big(\\vec{\\sigma}\\cdot(\\vec{P}-q\\vec{A})\\big)^2}{2m_0}\\psi + q\\Phi\\psi = \\frac{1}{2m_0}\\big(\\vec{\\sigma}\\cdot(\\vec{P}-q\\vec{A})\\big)\\cdot\\big(\\vec{\\sigma}\\cdot(\\vec{P}-q\\vec{A})\\big)\\psi + q\\Phi\\psi.\n",
    "\\end{align}"
   ]
  },
  {
   "cell_type": "markdown",
   "id": "389f1048-3511-4f6c-a943-6ba66141ef38",
   "metadata": {},
   "source": [
    "Pode-se mostrar que para $\\vec{v},\\vec{w}\\in\\mathbb{R}^2$ temos que\n",
    "$$(\\vec{\\sigma}\\cdot\\vec{v})(\\vec{\\sigma}\\cdot\\vec{w}) = (\\vec{v}\\cdot\\vec{w})I_2 + i\\vec{\\sigma}\\cdot(\\vec{v}\\times\\vec{w}).$$\n",
    "Com isso, usando $\\vec{\\nabla}\\times(\\vec{A}\\psi) = (\\vec{\\nabla}\\times\\vec{A})\\psi - \\vec{A}\\times(\\vec{\\nabla}\\psi)$, obtemos\n",
    "\\begin{align}\n",
    "& \\big(\\vec{\\sigma}\\cdot(\\vec{P}-q\\vec{A})\\big)\\cdot\\big(\\vec{\\sigma}\\cdot(\\vec{P}-q\\vec{A})\\big)\\psi = (\\vec{P}-q\\vec{A})^2\\psi + i\\vec{\\sigma}\\cdot\\big((\\vec{P}-q\\vec{A})\\times(\\vec{P}-q\\vec{A})\\big)\\psi \\\\\n",
    "& = (\\vec{P}-q\\vec{A})^2\\psi - iq\\vec{\\sigma}\\cdot\\big(0+\\vec{P}\\times\\vec{A} + \\vec{A}\\times\\vec{P})+0\\big)\\psi \\\\\n",
    "& = (\\vec{P}-q\\vec{A})^2\\psi - iq\\vec{\\sigma}\\cdot\\big(-i\\hbar\\vec{\\nabla}\\times(\\vec{A}\\psi) -i\\hbar\\vec{A}\\times\\vec{\\nabla}\\psi\\big) \\\\\n",
    "& = (\\vec{P}-q\\vec{A})^2\\psi - q\\hbar\\vec{\\sigma}\\cdot\\big(\\vec{\\nabla}\\times(\\vec{A}\\psi) + \\vec{A}\\times\\vec{\\nabla}\\psi\\big) \\\\\n",
    "& = (\\vec{P}-q\\vec{A})^2\\psi - q\\hbar\\vec{\\sigma}\\cdot\\big((\\vec{\\nabla}\\times\\vec{A})\\psi - \\vec{A}\\times(\\vec{\\nabla}\\psi) + \\vec{A}\\times\\vec{\\nabla}\\psi\\big) \\\\\n",
    "& = (\\vec{P}-q\\vec{A})^2\\psi - q\\hbar\\vec{\\sigma}\\cdot\\vec{B}\\psi.\n",
    "\\end{align}"
   ]
  },
  {
   "cell_type": "markdown",
   "id": "eb21cb8b-e0c3-47f8-b6da-100a97fcc3d1",
   "metadata": {},
   "source": [
    "Usando este resultado, obtemos a __equação de Pauli-Schrödinger__ (EqPS):\n",
    "\\begin{align}\n",
    "& i\\hbar\\partial_t\\psi = \\frac{1}{2m_0}\\big((\\vec{P}-q\\vec{A})^2 - q\\hbar\\vec{\\sigma}\\cdot\\vec{B}\\big)\\psi + q\\Phi\\psi \\\\\n",
    "& \\therefore\\ i\\hbar\\partial_t\\psi = \\frac{1}{2m_0}(\\vec{P}-q\\vec{A})^2\\psi - \\frac{q\\hbar}{2m_0}\\vec{\\sigma}\\cdot\\vec{B}\\psi + q\\Phi\\psi.\n",
    "\\end{align}\n",
    "\n",
    "Como a interação entre o momento magnético de spin do elétron e o campo magnético é dada por\n",
    "$$U = -\\vec{\\mu}_e\\cdot\\vec{B} = - \\frac{g_e q_e}{2m_e}\\vec{S}_e\\cdot\\vec{B} = - \\frac{g_e q_e}{2m_e}\\frac{\\hbar}{2}\\vec{\\sigma}_e\\cdot\\vec{B}$$\n",
    "vemos da EqPS que a razão giromagnética do elétron deve ser\n",
    "$$g_e = 2.$$"
   ]
  },
  {
   "cell_type": "markdown",
   "id": "b1d5ac67-53ae-4982-b40b-bbd56abc8021",
   "metadata": {},
   "source": [
    "### Estrutura fina do Hidrogênio a partir da EqD\n",
    "\n",
    "Lembrando, a função de onda de Dirac $\\Psi=\\begin{bmatrix}\\varphi\\\\\\chi\\end{bmatrix}$ é tal que suas componentes satisfazem as equações:\n",
    "\\begin{align}\n",
    "\\begin{cases} i\\hbar\\partial_t\\varphi = (m_0c^2+q\\Phi)\\varphi + \\vec{\\sigma}\\cdot(\\vec{P}-q\\vec{A})c\\chi  \\\\\n",
    "i\\hbar\\partial_t\\chi = \\vec{\\sigma}\\cdot(\\vec{P}-q\\vec{A})c\\varphi + (-m_0c^2+q\\Phi)\\chi\\end{cases}.\n",
    "\\end{align}\n",
    "Vamos usar o ansatz\n",
    "\\begin{cases}\n",
    "\\varphi = e^{-iEt/\\hbar}\\psi, \\\\\n",
    "\\chi = e^{-iEt/\\hbar}\\xi,\n",
    "\\end{cases}\n",
    "em que $\\psi=\\psi(\\vec{r},t)$ e $\\xi=\\xi(\\vec{r},t)$ e a energia relativística\n",
    "$$E = E_c + U + E_0 = E' + E_0\\ \\therefore\\ E' = E-E_0,$$\n",
    "com $E'$ sendo a energia \"não relativística\". \n",
    "\n",
    "A partir desse ansatz, teremos\n",
    "\\begin{align}\n",
    "& i\\hbar\\partial_t\\varphi = i\\hbar\\partial_t(e^{-iEt/\\hbar}\\psi) = i\\hbar(-iE/\\hbar)e^{-iEt/\\hbar}\\psi + e^{-iEt/\\hbar}i\\hbar\\partial_t\\psi = Ee^{-iEt/\\hbar}\\psi + e^{-iEt/\\hbar}i\\hbar\\partial_t\\psi \\\\\n",
    "& = (m_0c^2+q\\Phi)e^{-iEt/\\hbar}\\psi + \\vec{\\sigma}\\cdot(\\vec{P}-q\\vec{A})ce^{-iEt/\\hbar}\\xi, \\\\\n",
    "& i\\hbar\\partial_t\\chi = i\\hbar\\partial_t(e^{-iEt/\\hbar}\\xi) = i\\hbar(-iE/\\hbar)e^{-iEt/\\hbar}\\xi + e^{-iEt/\\hbar}i\\hbar\\partial_t\\xi = Ee^{-iEt/\\hbar}\\xi + e^{-iEt/\\hbar}i\\hbar\\partial_t\\xi \\\\\n",
    "& = \\vec{\\sigma}\\cdot(\\vec{P}-q\\vec{A})ce^{-iEt/\\hbar}\\psi + (-m_0c^2+q\\Phi)e^{-iEt/\\hbar}\\xi.\n",
    "\\end{align}"
   ]
  },
  {
   "cell_type": "markdown",
   "id": "907f81d5-af0c-4e17-8948-4e4be61467c8",
   "metadata": {},
   "source": [
    "Multiplicando essas equações por $e^{iEt/\\hbar}$ obteremos\n",
    "\\begin{align}\n",
    "& E\\psi + i\\hbar\\partial_t\\psi = (m_0c^2+q\\Phi)\\psi + \\vec{\\sigma}\\cdot(\\vec{P}-q\\vec{A})c\\xi, \\\\\n",
    "& E\\xi + i\\hbar\\partial_t\\xi = \\vec{\\sigma}\\cdot(\\vec{P}-q\\vec{A})c\\psi + (-m_0c^2+q\\Phi)\\xi.\n",
    "\\end{align}\n",
    "\n",
    "No limite de velocidades razoavelmente baixas,\n",
    "$$\\partial_t\\xi = \\partial_t\\psi \\approx 0,$$\n",
    "podemos reescrever as equações acima como\n",
    "\\begin{align}\n",
    "& E\\psi = (m_0c^2+q\\Phi)\\psi + \\vec{\\sigma}\\cdot(\\vec{P}-q\\vec{A})c\\xi, \\\\\n",
    "& E\\xi = \\vec{\\sigma}\\cdot(\\vec{P}-q\\vec{A})c\\psi + (-m_0c^2+q\\Phi)\\xi.\n",
    "\\end{align}\n",
    "\n",
    "Para o átomo de Hidrogênio, usando\n",
    "$$\\vec{A} = \\vec{0},\\ U=q\\Phi,$$\n",
    "temos\n",
    "\\begin{align}\n",
    "& E\\psi = (m_0c^2+U)\\psi + \\vec{\\sigma}\\cdot\\vec{P}c\\xi, \\\\\n",
    "& E\\xi = \\vec{\\sigma}\\cdot\\vec{P}c\\psi + (-m_0c^2+U)\\xi.\n",
    "\\end{align}"
   ]
  },
  {
   "cell_type": "markdown",
   "id": "82ba1bba-df0b-4edf-84ac-22ad7fafa99c",
   "metadata": {},
   "source": [
    "Da última equação resulta que\n",
    "\\begin{align}\n",
    "\\xi & = \\frac{\\vec{\\sigma}\\cdot\\vec{P}c}{E+m_0c^2-U}\\psi = \\frac{\\vec{\\sigma}\\cdot\\vec{P}c}{E-m_0c^2+2m_0c^2-U}\\psi = \\frac{\\vec{\\sigma}\\cdot\\vec{P}c}{E'+2m_0c^2-U}\\psi \\\\\n",
    "& = \\frac{\\vec{\\sigma}\\cdot\\vec{P}c}{2m_0c^2\\Big(1+\\frac{E'-U}{2m_0c^2}\\Big)}\\psi = \\frac{1}{2m_0c^2}\\Big(1+\\frac{E'-U}{2m_0c^2}\\Big)^{-1}\\vec{\\sigma}\\cdot\\vec{P}c\\psi \\\\\n",
    "& \\approx \\frac{1}{2m_0c^2}\\Big(1-\\frac{E'-U}{2m_0c^2}\\Big)\\vec{\\sigma}\\cdot\\vec{P}c\\psi.\n",
    "\\end{align}\n",
    "Assim, substituindo na outra equação, obtemos\n",
    "\\begin{align}\n",
    "& E\\psi \\approx (m_0c^2+U)\\psi + \\vec{\\sigma}\\cdot\\vec{P}c\\frac{1}{2m_0c^2}\\Big(1-\\frac{E'-U}{2m_0c^2}\\Big)\\vec{\\sigma}\\cdot\\vec{P}c\\psi \\\\\n",
    "& \\therefore\\ (E-m_0c^2)\\psi = E'\\psi = U\\psi + \\frac{(\\vec{\\sigma}\\cdot\\vec{P})^2}{2m_0}\\psi - \\frac{E'(\\vec{\\sigma}\\cdot\\vec{P})^2}{4m_0^2c^2}\\psi + \\frac{1}{4m_0^2c^2}(\\vec{\\sigma}\\cdot\\vec{P})U(\\vec{\\sigma}\\cdot\\vec{P})\\psi \\\\\n",
    "& \\therefore\\ E'\\psi = U\\psi + \\frac{P^2}{2m_0}\\psi - \\frac{E'P^2}{4m_0^2c^2}\\psi + \\frac{1}{4m_0^2c^2}(-i\\hbar((\\vec{\\nabla}U)\\cdot\\vec{P})I_2 -i\\hbar i\\vec{\\sigma}\\cdot((\\vec{\\nabla}U)\\times\\vec{P}) + UP^2I_2)\\psi \\\\\n",
    "& \\therefore\\ E'\\psi = U\\psi + \\frac{P^2}{2m_0}\\psi - \\frac{(E'-U)P^2}{4m_0^2c^2}\\psi + \\frac{1}{4m_0^2c^2}(-i\\hbar((\\vec{\\nabla}U)\\cdot\\vec{P})I_2 -i\\hbar i\\vec{\\sigma}\\cdot((\\vec{\\nabla}U)\\times\\vec{P}))\\psi \\\\\n",
    "& \\therefore\\ E'\\psi = \\Big(U + \\frac{P^2}{2m_0} - \\frac{P^4}{8m_0^3c^2} - i\\hbar\\frac{(\\vec{\\nabla}U)\\cdot\\vec{P}}{4m_0^2c^2} + \\frac{1}{4m_0^2c^2}2\\frac{\\hbar}{2}\\vec{\\sigma}\\cdot(\\frac{1}{r}\\frac{\\partial U}{\\partial r}\\vec{L})\\Big)\\psi \\\\\n",
    "& \\therefore\\ E'\\psi = \\Big(U + \\frac{P^2}{2m_0} - \\frac{P^4}{8m_0^3c^2} - i\\hbar\\frac{(\\vec{\\nabla}U)\\cdot\\vec{P}}{4m_0^2c^2} + \\frac{1}{2m_0^2c^2r}\\frac{\\partial U}{\\partial r}\\vec{S}\\cdot\\vec{L})\\Big)\\psi \\\\\n",
    "\\end{align}"
   ]
  },
  {
   "cell_type": "markdown",
   "id": "f1186d61-3ff4-4a3c-93a8-c2dc3489024a",
   "metadata": {},
   "source": [
    "em que usamos\n",
    "\\begin{align}\n",
    "(\\vec{\\sigma}\\cdot\\vec{P})^2 & = \\vec{P}\\cdot\\vec{P}I_2 + i\\vec{\\sigma}\\cdot(\\vec{P}\\times\\vec{P}) = P^2I_2, \\\\\n",
    "(\\vec{\\sigma}\\cdot\\vec{P})U(\\vec{\\sigma}\\cdot\\vec{P}) & = -i\\hbar(\\vec{\\sigma}\\cdot\\vec{\\nabla})U(\\vec{\\sigma}\\cdot\\vec{P}) \\\\\n",
    "& = -i\\hbar(\\vec{\\sigma}\\cdot\\vec{\\nabla}U)(\\vec{\\sigma}\\cdot\\vec{P}) + i\\hbar U(\\vec{\\sigma}\\cdot\\vec{\\nabla})(\\vec{\\sigma}\\cdot\\vec{P}) \\\\ \n",
    "& = -i\\hbar((\\vec{\\nabla}U)\\cdot\\vec{P})I_2 -i\\hbar i\\vec{\\sigma}\\cdot((\\vec{\\nabla}U)\\times\\vec{P}) + U(\\vec{P}\\cdot\\vec{P})I_2 + Ui\\vec{\\sigma}\\cdot(\\vec{P}\\times\\vec{P}) \\\\\n",
    "& = -i\\hbar((\\vec{\\nabla}U)\\cdot\\vec{P})I_2 -i\\hbar i\\vec{\\sigma}\\cdot((\\vec{\\nabla}U)\\times\\vec{P}) + UP^2I_2 + 0\n",
    "\\end{align}\n",
    "e \n",
    "\\begin{align}\n",
    "& U=U(r)\\ \\therefore\\ \\vec{\\nabla}U \\equiv \\hat{r}\\partial_r U = \\frac{1}{r}\\frac{\\partial U}{\\partial r}\\vec{r} \\\\\n",
    "& \\therefore (\\vec{\\nabla}U)\\times\\vec{P} = \\frac{1}{r}\\frac{\\partial U}{\\partial r}\\vec{r}\\times\\vec{P} = \\frac{1}{r}\\frac{\\partial U}{\\partial r}\\vec{L}\n",
    "\\end{align}\n",
    "e\n",
    "$$E'-U = E_c + U - U = E_c \\approx \\frac{P^2}{2m_0}.$$"
   ]
  },
  {
   "cell_type": "markdown",
   "id": "99069751-c091-4690-97e1-43e9abda6e3c",
   "metadata": {},
   "source": [
    "Na equação de autovalores e autovetores acima, os dois primeiros termos no lado direito forma o Hamiltoniano não relativístico do átomo de Hidrogênio só com interação coulombiana entre o elétron e o próton, \n",
    "$$H_{0} = \\frac{P^{2}}{2m_0}+U,$$\n",
    "com $U=ke^2/r.$ O terceiro termo é o hamiltoniano de __correção relativística__\n",
    "$$H_{1}^{r}=-\\frac{P^{4}}{8m_0^{3}c^{2}}.$$ \n",
    "O quarto termo está relacionado à __correção de Darwin__\n",
    "$$H_{1}^{d} = \\frac{\\hbar^{2}}{10m_0^{2}c^{2}}\\nabla^{2}U(r).$$\n",
    "Notemos que neste caso há diferença entre os resultados obtidos:\n",
    "$$- i\\hbar\\frac{(\\vec{\\nabla}U)\\cdot(-i\\hbar)\\vec{\\nabla}}{4m_0^2c^2}\\psi = \\frac{-\\hbar^2}{4m_0^2c^2}\\vec{\\nabla}U\\cdot\\vec{\\nabla}\\psi = \\frac{5}{2}\\frac{\\hbar^2}{10m_0^2c^2}((\\nabla^2 U)\\psi-\\vec{\\nabla}\\cdot(\\psi\\vec{\\nabla}U)).$$\n",
    "Já o último termo dá conta da __interação spin-órbita__,\n",
    "$$H_{1}^{so} = \\frac{e^{2}}{4\\pi\\epsilon_{0} m_0^{2}c^{2}r^{3}}\\vec{S}\\cdot\\vec{L} = - \\frac{1}{m_0^{2}c^{2}r}\\frac{\\partial U}{\\partial r}\\vec{S}\\cdot\\vec{L},$$\n",
    "dividida por 2. Esse fator $1/2$ é a correção devido ao efeito relativístico conhecido como __precessão de Thomas__."
   ]
  },
  {
   "cell_type": "markdown",
   "id": "99ec552a-cbee-43b4-a407-9667801aef61",
   "metadata": {},
   "source": [
    "### Partícula livre e spin\n",
    "\n",
    "Como um prelúdio, vamos considerar a equação de Dirac, $H\\Psi = (\\vec{\\alpha}\\cdot\\vec{p}c+\\beta m_0c^2)\\Psi = i\\hbar\\partial_t\\Psi,$ para uma __partícula livre em repouso__ em relação a um referencial inercial ($\\vec{p}=\\vec{0}$):\n",
    "\\begin{align}\n",
    "& \\beta m_0c^2\\Psi = i\\hbar\\partial_t\\Psi \\\\\n",
    "& \\therefore\\ \\begin{bmatrix}I_2 & 0 \\\\ 0 & -I_2\\end{bmatrix}m_0c^2\\begin{bmatrix}\\psi_1\\\\\\psi_2\\\\\\psi_3\\\\\\psi_4\\end{bmatrix} = i\\hbar\\partial_t\\begin{bmatrix}\\psi_1\\\\\\psi_2\\\\\\psi_3\\\\\\psi_4\\end{bmatrix} \\\\\n",
    "& \\therefore\\ \\begin{bmatrix} (i\\hbar\\partial_t - m_0c^2) & 0 & 0 & 0 \\\\ 0 & (i\\hbar\\partial_t - m_0c^2) & 0 & 0 \\\\ 0 & 0 & (i\\hbar\\partial_t + m_0c^2) & 0 \\\\ 0 & 0 & 0 & (i\\hbar\\partial_t + m_0c^2) \\end{bmatrix}\\begin{bmatrix}\\psi_1\\\\\\psi_2\\\\\\psi_3\\\\\\psi_4\\end{bmatrix} = \\begin{bmatrix}0\\\\0\\\\0\\\\0\\end{bmatrix} \\\\\n",
    "& \\therefore\\ \\Psi(\\vec{r},t) = \\begin{bmatrix} \\psi_1(\\vec{r},t) \\\\ \\psi_2(\\vec{r},t) \\\\ \\psi_3(\\vec{r},t) \\\\ \\psi_4(\\vec{r},t) \\end{bmatrix} = \\begin{bmatrix} e^{-im_0c^2t/\\hbar}\\psi_1(\\vec{r},0) \\\\ e^{-im_0c^2t/\\hbar}\\psi_2(\\vec{r},0) \\\\ e^{im_0c^2t/\\hbar}\\psi_3(\\vec{r},0) \\\\ e^{im_0c^2t/\\hbar}\\psi_4(\\vec{r},0) \\end{bmatrix} \\\\\n",
    "& \\hspace{1.8cm} = e^{-im_0c^2t/\\hbar}\\psi_1(\\vec{r},0)\\begin{bmatrix} 1 \\\\ 0 \\\\ 0 \\\\ 0 \\end{bmatrix} + e^{-im_0c^2t/\\hbar}\\psi_2(\\vec{r},0)\\begin{bmatrix} 0 \\\\ 1 \\\\ 0 \\\\ 0 \\end{bmatrix} + e^{im_0c^2t/\\hbar}\\psi_3(\\vec{r},0)\\begin{bmatrix} 0 \\\\ 0 \\\\ 1 \\\\ 0 \\end{bmatrix} + e^{im_0c^2t/\\hbar}\\psi_4(\\vec{r},0)\\begin{bmatrix} 0 \\\\ 0 \\\\ 0 \\\\ 1 \\end{bmatrix}.\n",
    "\\end{align}"
   ]
  },
  {
   "cell_type": "markdown",
   "id": "f9fd717f-9225-44ff-b494-9872ddad0935",
   "metadata": {},
   "source": [
    "Notemos que essa solução geral está escrita em termos de 4 funções linearmente independentes\n",
    "$$\\phi_1 = e^{-im_0c^2t/\\hbar}\\psi_1(\\vec{r},0)\\begin{bmatrix} 1 \\\\ 0 \\\\ 0 \\\\ 0 \\end{bmatrix},\\ \\phi_2 = e^{-im_0c^2t/\\hbar}\\psi_2(\\vec{r},0)\\begin{bmatrix} 0 \\\\ 1 \\\\ 0 \\\\ 0 \\end{bmatrix},\\ \\chi_1 = e^{im_0c^2t/\\hbar}\\psi_3(\\vec{r},0)\\begin{bmatrix} 0 \\\\ 0 \\\\ 1 \\\\ 0 \\end{bmatrix},\\ \\chi_2 = e^{im_0c^2t/\\hbar}\\psi_4(\\vec{r},0)\\begin{bmatrix} 0 \\\\ 0 \\\\ 0 \\\\ 1 \\end{bmatrix}.$$\n",
    "Cada uma dessas funções satisfaz a EqD individualmente. As funções $\\chi_1,\\ \\chi_2$ correspondem a soluções da EqD com energia \n",
    "$$E=-m_0c^2 <0$$\n",
    "negativa, e serão interpretadas adiante como descrevendo a anti-partícula do quanton considerado, que neste caso é descrito pelas componentes $\\phi_1,\\ \\phi_2$ e tem energia \n",
    "$$E=m_0c^2>0.$$\n",
    "Com isso, vemos que $\\Psi$ não descreve uma partícula única. Na verdade, em teoria de campos quânticos, $\\Psi$ não é vista como uma função de onda mas sim como um campo quantizado cujas excitações representam partículas.\n",
    "\n",
    "Seguindo, vamos considerar uma __partícula livre__ de momento linear $\\vec{p}$ e energia $E$. Para a função de onda de Dirac, vamos usar o ansatz\n",
    "$$\\Psi = ue^{i(\\vec{k}\\cdot\\vec{r}-\\omega t)} = ue^{i(k_jx^j-\\omega t)},$$\n",
    "com \n",
    "$$u = u(\\vec{k},E) = \\begin{bmatrix} \\phi \\\\ \\chi \\end{bmatrix} = \\begin{bmatrix} \\phi_1 \\\\ \\phi_2 \\\\ \\chi_1 \\\\ \\chi_2 \\end{bmatrix}$$\n",
    "sendo um objeto constante de 4 componentes,  com\n",
    "$$\\vec{p} = \\hbar\\vec{k},\\ E=\\hbar\\omega.$$"
   ]
  },
  {
   "cell_type": "markdown",
   "id": "6d57fb7e-170f-41b2-a7c3-548320736cd6",
   "metadata": {},
   "source": [
    "Usando\n",
    "\\begin{align}\n",
    "& i\\hbar\\frac{\\partial}{\\partial t}\\Psi = i\\hbar u\\partial_t e^{i(k_jx^j-\\omega t)} = i\\hbar(-i\\omega) u e^{i(k_jx^j-\\omega t)} = \\hbar\\omega\\Psi = E\\Psi, \\\\\n",
    "& P_j\\Psi = i\\hbar\\frac{\\partial}{\\partial x^j}ue^{i(k_jx^j-\\omega t)} = i\\hbar(ik_j)ue^{i(k_jx^j-\\omega t)} = -\\hbar k_j\\Psi = \\hbar k^j\\Psi\n",
    "\\end{align}\n",
    "na EqD vem que\n",
    "\\begin{align}\n",
    "& (\\vec{\\alpha}\\cdot\\vec{P}c + \\beta m_0c^2)\\Psi = c\\alpha^j P_j\\Psi + \\beta m_0c^2\\Psi = i\\hbar\\partial_t\\Psi \\\\\n",
    "& \\therefore\\ -c\\alpha^j \\hbar k_j\\Psi + \\beta m_0c^2\\Psi = E\\Psi\\ \\therefore\\ -c\\hbar\\vec{\\alpha}\\cdot\\vec{k}ue^{i(k_jx^j-\\omega t)} + \\beta m_0c^2ue^{i(k_jx^j-\\omega t)} = Eue^{i(k_jx^j-\\omega t)} \\\\\n",
    "& \\therefore\\ (-c\\hbar\\vec{\\alpha}\\cdot\\vec{k} + \\beta m_0c^2)u = Eu \\ \\therefore\\ \\Big(-\\hbar c\\begin{bmatrix} 0 & \\vec{\\sigma} \\\\ \\vec{\\sigma} & 0 \\end{bmatrix}\\cdot\\vec{k} + \\begin{bmatrix}\\sigma_0&0 \\\\ 0&-\\sigma_0\\end{bmatrix}m_0c^2\\Big)\\begin{bmatrix} \\phi \\\\ \\chi \\end{bmatrix} = E \\begin{bmatrix} \\phi \\\\ \\chi \\end{bmatrix} \\\\\n",
    "& \\therefore\\ \\begin{bmatrix} \\sigma_0m_0c^2 & -\\hbar c\\vec{\\sigma}\\cdot\\vec{k} \\\\ -\\hbar c\\vec{\\sigma}\\cdot\\vec{k} & -\\sigma_0m_0c^2 \\end{bmatrix}\\begin{bmatrix} \\phi \\\\ \\chi \\end{bmatrix}  = E \\begin{bmatrix} \\phi \\\\ \\chi \\end{bmatrix} \\therefore\\ \\begin{cases} m_0c^2\\phi-\\hbar c\\vec{\\sigma}\\cdot\\vec{k}\\chi = E\\phi \\\\  -\\hbar c\\vec{\\sigma}\\cdot\\vec{k}\\phi - m_0c^2\\chi = E\\chi \\end{cases} \\\\\n",
    "& \\therefore\\ \\chi = \\frac{-\\hbar c\\vec{\\sigma}\\cdot\\vec{k}}{E+m_0c^2}\\phi \\\\ \n",
    "& \\therefore\\ \\phi = \\frac{-\\hbar c\\vec{\\sigma}\\cdot\\vec{k}}{E-m_0c^2}\\chi = \\frac{-\\hbar c\\vec{\\sigma}\\cdot\\vec{k}}{E-m_0c^2}\\frac{-\\hbar c\\vec{\\sigma}\\cdot\\vec{k}}{E+m_0c^2}\\phi = \\frac{\\hbar^2c^2(\\vec{\\sigma}\\cdot\\vec{k})^2}{E^2+m_0c^2E-m_0c^2E-m_0^2c^4}\\phi \\\\\n",
    "& \\therefore\\ \\Big(E^2-m_0^2c^4 + \\hbar^2c^2\\big(\\vec{k}\\cdot\\vec{k}\\sigma_0 + i\\vec{\\sigma}\\cdot(\\vec{k}\\times\\vec{k})\\big)\\Big)\\phi = \\big(E^2-m_0^2c^4 - \\hbar^2c^2k^2\\big)\\phi = 0 \\\\\n",
    "& \\therefore\\ \\big(E^2-m_0^2c^4 - p^2c^2\\big)\\phi = 0.\n",
    "\\end{align}\n",
    "Portanto qualquer objeto $\\phi$ satisfaz a equação acima. Por conseguinte, \n",
    "$$\\Psi = ue^{i(\\vec{k}\\cdot\\vec{r}-\\omega t)}$$ \n",
    "será solução da EqD se \n",
    "$$E=\\pm\\sqrt{\\hbar^2k^2c^2+m_0^2c^4},$$\n",
    "existindo portanto soluções com energia negativa e com energia positiva para o quanton livre."
   ]
  },
  {
   "cell_type": "markdown",
   "id": "e839026d-ac57-4c71-8df5-d0d1151a309f",
   "metadata": {},
   "source": [
    "Vamos considerar 1º o caso de __energia positiva__ $E>0$. Usando novamente a equação $\\chi = \\frac{-\\hbar c\\vec{\\sigma}\\cdot\\vec{k}}{E+m_0c^2}\\phi$, teremos que\n",
    "\\begin{align}\n",
    "\\begin{bmatrix} \\chi_1 \\\\ \\chi_2 \\end{bmatrix} & = \\frac{-\\hbar c\\vec{\\sigma}\\cdot\\vec{k}}{E+m_0c^2}\\begin{bmatrix} \\phi_1 \\\\ \\phi_2 \\end{bmatrix} = \\frac{-\\hbar c}{E+m_0c^2}(\\sigma^1k_1+\\sigma^2k_2+\\sigma^3k_3)\\begin{bmatrix} \\phi_1 \\\\ \\phi_2 \\end{bmatrix} \\\\\n",
    "& = \\frac{-\\hbar c}{E+m_0c^2}\\begin{bmatrix} k_3 & k_1-ik_2 \\\\ k_1+ik_2 & -k_3 \\end{bmatrix}\\begin{bmatrix} \\phi_1 \\\\ \\phi_2 \\end{bmatrix} = \\frac{\\hbar c}{E+m_0c^2}\\begin{bmatrix} k^3 & k^1-ik^2 \\\\ k^1+ik^2 & -k^3 \\end{bmatrix}\\begin{bmatrix} \\phi_1 \\\\ \\phi_2 \\end{bmatrix} \\\\\n",
    "& =: \\frac{\\hbar c}{E+m_0c^2}\\begin{bmatrix} k^3 & k^- \\\\ k^+ & -k^3 \\end{bmatrix}\\begin{bmatrix} \\phi_1 \\\\ \\phi_2 \\end{bmatrix} \\\\\n",
    "\\end{align}\n",
    "em que definimos\n",
    "$$k^\\pm := k^1\\pm ik^2.$$\n",
    "\n",
    "Assim, se escolhemos\n",
    "\\begin{align}\n",
    "& \\phi_1 = \\begin{bmatrix} 1 \\\\ 0 \\end{bmatrix}\\ \\Rightarrow\\ \\chi_1 = \\frac{\\hbar c}{E+m_0c^2}\\begin{bmatrix} k^3 \\\\ k^+ \\end{bmatrix}, \\\\\n",
    "& \\phi_2 = \\begin{bmatrix} 1 \\\\ 0 \\end{bmatrix}\\ \\Rightarrow\\ \\chi_2 = \\frac{\\hbar c}{E+m_0c^2}\\begin{bmatrix} k^- \\\\ -k^3 \\end{bmatrix}.\n",
    "\\end{align}"
   ]
  },
  {
   "cell_type": "markdown",
   "id": "6daff38e-040a-4b3a-9099-50c14fe115f7",
   "metadata": {},
   "source": [
    "Essas equações levam, a menos de um fator $\\hbar c/(E+m_0c^2)$ para $\\phi$, a duas soluções linearmente independentes ($\\langle u_1|u_2\\rangle=0$)\n",
    "$$u_1 = \\frac{\\hbar c}{E+m_0c^2}\\begin{bmatrix} 1 \\\\ 0 \\\\ k^3 \\\\ k^+ \\end{bmatrix},\\ u_2 = \\frac{\\hbar c}{E+m_0c^2}\\begin{bmatrix} 0 \\\\ 1 \\\\ k^- \\\\ -k^3 \\end{bmatrix}.$$\n",
    "\n",
    "Usando a definição de spin que vimos anteriormente, $S_3= \\frac{\\hbar}{2}\\begin{bmatrix}\\sigma_3 & 0 \\\\ 0 & \\sigma_3\\end{bmatrix}$, e notando que\n",
    "\\begin{align}\n",
    "& S_3u_1 = \\frac{\\hbar}{2}\\frac{\\hbar c}{E+m_0c^2}\\begin{bmatrix} 1&0 & 0&0\\\\0&-1&0&0 \\\\ 0 &0&1&0 \\\\0&0&0&-1\\end{bmatrix}\\begin{bmatrix} 1 \\\\ 0 \\\\ k^3 \\\\ k^+ \\end{bmatrix} = \\frac{\\hbar}{2}\\frac{\\hbar c}{E+m_0c^2}\\begin{bmatrix} 1 \\\\ 0 \\\\ k^3 \\\\ -k^+ \\end{bmatrix}, \\\\\n",
    "& S_3u_2 = \\frac{\\hbar}{2}\\frac{\\hbar c}{E+m_0c^2}\\begin{bmatrix} 1&0 & 0&0\\\\0&-1&0&0 \\\\ 0 &0&1&0 \\\\0&0&0&-1\\end{bmatrix}\\begin{bmatrix} 0 \\\\ 1 \\\\ k^- \\\\ -k^3 \\end{bmatrix} = \\frac{\\hbar}{2}\\frac{\\hbar c}{E+m_0c^2}\\begin{bmatrix} 0 \\\\ -1 \\\\ k^- \\\\ k^3 \\end{bmatrix}.\n",
    "\\end{align}"
   ]
  },
  {
   "cell_type": "markdown",
   "id": "69e412eb-55d3-40ff-82cd-5800d2d80a47",
   "metadata": {},
   "source": [
    "Portanto, se consideramos movimento na direção $z\\ \\therefore\\ k^1=k^2=0\\ \\therefore\\ k^\\pm=0$, teremos que\n",
    "$$S_3u_1 = \\frac{\\hbar}{2}u_1,\\ S_3u_2 = -\\frac{\\hbar}{2}u_2.$$\n",
    "Por isso denotaremos\n",
    "$$u_1=u_1(k^3,E,\\uparrow),\\ u_2=u_2(k^3,E,\\downarrow),$$\n",
    "que descrevem, respectivamente, uma partícula com momento $k^3$, energia $E$ e componente de spin positiva ou negativa na direção $z$. Essa notação também é extendida para um momento $\\vec{k}$ qualquer.\n",
    "\n",
    "Seguindo, vamos considerar o caso de __energia negativa__ $E<0$. Precisamos contruir duas soluções que são linearmente independentes (LIs) entre si e que são LI das soluções com energia positiva. Para isso, vamos isolar $\\phi$ em $\\phi = \\frac{-\\hbar c\\vec{\\sigma}\\cdot\\vec{k}}{E-m_0c^2}\\chi$ e substituir em $\\chi = \\frac{-\\hbar c\\vec{\\sigma}\\cdot\\vec{k}}{E+m_0c^2}\\phi$ para obter $(E^2-m_0^2c^4-\\hbar^2k^2c^2)\\chi=0$. Portanto qualquer $\\chi$ satisfaz a EqD. Se escolhemos\n",
    "\\begin{align}\n",
    "& \\chi_3 = \\begin{bmatrix} 1 \\\\ 0 \\end{bmatrix}\\ \\Rightarrow\\ \\phi_3 = \\frac{\\hbar c}{E-m_0c^2}\\begin{bmatrix} k^3 \\\\ k^+ \\end{bmatrix}, \\\\\n",
    "& \\chi_4 = \\begin{bmatrix} 1 \\\\ 0 \\end{bmatrix}\\ \\Rightarrow\\ \\phi_4 = \\frac{\\hbar c}{E-m_0c^2}\\begin{bmatrix} k^- \\\\ -k^3 \\end{bmatrix},\n",
    "\\end{align}\n",
    "obteremos\n",
    "$$u_3 = \\frac{\\hbar c}{E-m_0c^2}\\begin{bmatrix} k^3 \\\\ k^+ \\\\ 1 \\\\ 0 \\end{bmatrix},\\ u_2 = \\frac{\\hbar c}{E-m_0c^2}\\begin{bmatrix} k^- \\\\ -k^3 \\\\ 0 \\\\ 1 \\end{bmatrix}.$$"
   ]
  },
  {
   "cell_type": "markdown",
   "id": "ad7883a7-f4c8-4acd-bcb1-f739caac29cf",
   "metadata": {},
   "source": [
    "Pode-se verificar que para $k^\\pm=0$ temos\n",
    "$$S_3u_3 = \\frac{\\hbar}{2}u_3,\\ S_3u_4 = -\\frac{\\hbar}{2}u_4.$$\n",
    "Ou seja\n",
    "$$u_3=u_3(k^3,E,\\uparrow),\\ u_4=u_4(k^3,E,\\downarrow).$$\n",
    "\n",
    "Com isso podemos formar 4 soluções LI para a EqD:\n",
    "\\begin{align}\n",
    "& \\Psi^{+,\\uparrow} = u_1(\\vec{k},E_+,\\uparrow)e^{i(\\vec{k}\\cdot\\vec{r}-\\omega t)}, \\\\\n",
    "& \\Psi^{+,\\downarrow} = u_2(\\vec{k},E_+,\\downarrow)e^{i(\\vec{k}\\cdot\\vec{r}-\\omega t)}, \\\\\n",
    "& \\Psi^{-,\\uparrow} = u_3(\\vec{k},E_-,\\uparrow)e^{i(\\vec{k}\\cdot\\vec{r}-\\omega t)}, \\\\\n",
    "& \\Psi^{-,\\downarrow} = u_4(\\vec{k},E_-,\\downarrow)e^{i(\\vec{k}\\cdot\\vec{r}-\\omega t)},\n",
    "\\end{align}\n",
    "de modo que qualquer solução pode ser escrita como uma combinação linear dessas soluções LI:\n",
    "$$\\Psi = c_{+,\\uparrow}\\Psi^{+,\\uparrow} + c_{+,\\downarrow}\\Psi^{+,\\downarrow} + c_{-,\\uparrow}\\Psi^{-,\\uparrow} + c_{-,\\downarrow}\\Psi^{-,\\downarrow}.$$"
   ]
  },
  {
   "cell_type": "markdown",
   "id": "25e30b01-3e76-4d35-bc79-58ea857745f9",
   "metadata": {},
   "source": [
    "### Partículas e anti-partículas"
   ]
  },
  {
   "cell_type": "code",
   "execution_count": null,
   "id": "4fe99a0e-7ac5-4157-9c0f-6274341f2130",
   "metadata": {},
   "outputs": [],
   "source": []
  },
  {
   "cell_type": "code",
   "execution_count": null,
   "id": "4a3adedb-8559-4130-bbc0-04c143f66faa",
   "metadata": {},
   "outputs": [],
   "source": []
  },
  {
   "cell_type": "markdown",
   "id": "5eb13cf2-d24a-46b3-af27-db4ff1193be9",
   "metadata": {},
   "source": [
    "### Conjugação de carga e o pósitron"
   ]
  },
  {
   "cell_type": "code",
   "execution_count": null,
   "id": "b855201e-39dc-4afd-b078-ea7e511cf52e",
   "metadata": {},
   "outputs": [],
   "source": []
  },
  {
   "cell_type": "code",
   "execution_count": null,
   "id": "bf46093d-bbed-45ee-be6b-f975732e3c80",
   "metadata": {},
   "outputs": [],
   "source": []
  },
  {
   "cell_type": "markdown",
   "id": "398d46b1-3dec-419f-a092-4f68760567a3",
   "metadata": {},
   "source": [
    "### Grupo de Poincaré"
   ]
  },
  {
   "cell_type": "code",
   "execution_count": null,
   "id": "defe97c1-66aa-4b08-b0e8-136046cb97a0",
   "metadata": {},
   "outputs": [],
   "source": []
  },
  {
   "cell_type": "code",
   "execution_count": null,
   "id": "239e0ba1-0191-47f0-b541-9d5504fc8ef0",
   "metadata": {},
   "outputs": [],
   "source": []
  },
  {
   "cell_type": "markdown",
   "id": "1febf792",
   "metadata": {},
   "source": [
    "---\n",
    "## Exercícios\n",
    "\n",
    "$1.$ Considerando as matrizes de Pauli $\\sigma_1=\\begin{bmatrix}0&1\\\\1&0\\end{bmatrix},\\ \\sigma_2=\\begin{bmatrix}0&-i\\\\i&0\\end{bmatrix},\\ \\sigma_3=\\begin{bmatrix}1&0\\\\0&-1\\end{bmatrix}$ e a matriz identidade $\\sigma_0=\\begin{bmatrix}1&0\\\\0&1\\end{bmatrix}$, para as quais segue que $\\sigma_j^2=\\sigma_0$ para $j=0,1,2,3$ e $\\sigma_j\\sigma_k=\\sum_l i\\epsilon_{jkl}\\sigma_l$ para $j\\ne k$, verifique que $(\\vec{v}\\cdot\\vec{\\sigma})(\\vec{w}\\cdot\\vec{\\sigma}) = (\\vec{v}\\cdot\\vec{w})\\sigma_0 + i\\vec{\\sigma}\\cdot(\\vec{v}\\times\\vec{w}),$ em que $\\vec{v},\\vec{w}\\in\\mathbb{R}^3.$\n",
    "\n",
    "$2.$ Verifique que $\\vec{\\nabla}\\times(\\vec{A}\\psi) = (\\vec{\\nabla}\\times\\vec{A})\\psi - \\vec{A}\\times(\\vec{\\nabla}\\psi).$"
   ]
  },
  {
   "cell_type": "markdown",
   "id": "33549f03",
   "metadata": {},
   "source": [
    "---\n",
    "## Referências\n",
    "\n",
    "1. Marcos Basso, Mecânica Quântica Relativística, https://github.com/marcoslwbasso/RQM_notes.\n",
    "2. A. Piza, Mecânica Quântica, cap. 11, Edusp 2009."
   ]
  }
 ],
 "metadata": {
  "kernelspec": {
   "display_name": "Python 3 (ipykernel)",
   "language": "python",
   "name": "python3"
  },
  "language_info": {
   "codemirror_mode": {
    "name": "ipython",
    "version": 3
   },
   "file_extension": ".py",
   "mimetype": "text/x-python",
   "name": "python",
   "nbconvert_exporter": "python",
   "pygments_lexer": "ipython3",
   "version": "3.12.2"
  }
 },
 "nbformat": 4,
 "nbformat_minor": 5
}
