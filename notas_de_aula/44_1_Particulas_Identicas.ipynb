{
 "cells": [
  {
   "cell_type": "markdown",
   "id": "a1794c48-c294-4c0b-997f-3376f6470ba0",
   "metadata": {},
   "source": [
    "## Notas de aula de Mecânica Quântica <br> Autor: Jonas Maziero\n",
    "\n",
    "# Sistemas de partículas idênticas\n",
    "\n",
    "## Indistinguibilidade"
   ]
  },
  {
   "cell_type": "code",
   "execution_count": null,
   "id": "d7582d20-414c-4313-9a65-a0df80d6685e",
   "metadata": {},
   "outputs": [],
   "source": []
  },
  {
   "cell_type": "code",
   "execution_count": null,
   "id": "eb48ee2e-d052-4607-808f-a616180c13f2",
   "metadata": {},
   "outputs": [],
   "source": []
  },
  {
   "cell_type": "code",
   "execution_count": null,
   "id": "1fec4bc5-1710-44f3-8d4a-f8a57487b53a",
   "metadata": {},
   "outputs": [],
   "source": []
  },
  {
   "cell_type": "code",
   "execution_count": null,
   "id": "38b59041-dc44-47a1-b519-c46a199f442b",
   "metadata": {},
   "outputs": [],
   "source": []
  },
  {
   "cell_type": "markdown",
   "id": "58513386-9cc5-4748-b83a-e84d1e8786a9",
   "metadata": {},
   "source": [
    "### Exemplo: Poço quadrado finito unidimensional"
   ]
  },
  {
   "cell_type": "code",
   "execution_count": 2,
   "id": "0f33d2b5-da38-40d9-968c-240bc1cbe37f",
   "metadata": {},
   "outputs": [
    {
     "data": {
      "text/latex": [
       "$\\displaystyle \\frac{a^{3}}{2 \\pi^{2} n^{2}}$"
      ],
      "text/plain": [
       "a**3/(2*pi**2*n**2)"
      ]
     },
     "execution_count": 2,
     "metadata": {},
     "output_type": "execute_result"
    }
   ],
   "source": [
    "from sympy import integrate, symbols, pi, cos, simplify, sin\n",
    "a,x = symbols('a x', positive=True)\n",
    "n,m = symbols('n m', integer=True,positive=True)\n",
    "simplify(integrate(x**2*cos(2*n*pi*x/a),(x,0,a)))"
   ]
  },
  {
   "cell_type": "code",
   "execution_count": 20,
   "id": "6b6f2654-8969-415b-9dbf-a51634f10b8f",
   "metadata": {},
   "outputs": [
    {
     "data": {
      "text/latex": [
       "$\\displaystyle \\frac{a^{2}}{3} - \\frac{a^{2}}{2 \\pi^{2} n^{2}}$"
      ],
      "text/plain": [
       "a**2/3 - a**2/(2*pi**2*n**2)"
      ]
     },
     "execution_count": 20,
     "metadata": {},
     "output_type": "execute_result"
    }
   ],
   "source": [
    "simplify(integrate((2/a)*x**2*sin(n*pi*x/a)**2,(x,0,a)))"
   ]
  },
  {
   "cell_type": "code",
   "execution_count": 22,
   "id": "c3e971b4-1275-4b9c-b345-c2b4876c3dd4",
   "metadata": {},
   "outputs": [
    {
     "data": {
      "text/latex": [
       "$\\displaystyle \\frac{a}{2}$"
      ],
      "text/plain": [
       "a/2"
      ]
     },
     "execution_count": 22,
     "metadata": {},
     "output_type": "execute_result"
    }
   ],
   "source": [
    "simplify(integrate((2/a)*x*sin(n*pi*x/a)**2,(x,0,a)))"
   ]
  },
  {
   "cell_type": "markdown",
   "id": "92bb7255-f9bd-44e2-9da0-cb7f417f9288",
   "metadata": {},
   "source": [
    "### Exemplo: Oscilador harmônico quântico"
   ]
  },
  {
   "cell_type": "code",
   "execution_count": 26,
   "id": "35cd7889-4e7c-466e-b247-663cd18ac7e4",
   "metadata": {},
   "outputs": [
    {
     "data": {
      "text/latex": [
       "$\\displaystyle \\begin{cases} \\frac{4 a m n \\left(\\left(-1\\right)^{m + n} - 1\\right)}{\\pi^{2} \\left(m^{4} - 2 m^{2} n^{2} + n^{4}\\right)} & \\text{for}\\: m \\neq n \\\\\\frac{a}{2} & \\text{otherwise} \\end{cases}$"
      ],
      "text/plain": [
       "Piecewise((4*a*m*n*((-1)**(m + n) - 1)/(pi**2*(m**4 - 2*m**2*n**2 + n**4)), Ne(m, n)), (a/2, True))"
      ]
     },
     "execution_count": 26,
     "metadata": {},
     "output_type": "execute_result"
    }
   ],
   "source": [
    "simplify(integrate((2/a)*x*sin(n*pi*x/a)*sin(m*pi*x/a),(x,0,a)))"
   ]
  },
  {
   "cell_type": "code",
   "execution_count": 16,
   "id": "38408b5a-9fa1-4823-85c5-96dea8636888",
   "metadata": {},
   "outputs": [
    {
     "data": {
      "text/latex": [
       "$\\displaystyle \\frac{\\sqrt{\\pi}}{2}$"
      ],
      "text/plain": [
       "sqrt(pi)/2"
      ]
     },
     "execution_count": 16,
     "metadata": {},
     "output_type": "execute_result"
    }
   ],
   "source": [
    "from sympy import exp, oo\n",
    "u = symbols('u')\n",
    "integrate(u**2*exp(-u**2),(u,-oo,oo))"
   ]
  },
  {
   "cell_type": "code",
   "execution_count": 18,
   "id": "c831e95b-741f-4c79-aa55-6c430073ac58",
   "metadata": {},
   "outputs": [
    {
     "data": {
      "text/latex": [
       "$\\displaystyle \\frac{3 \\sqrt{\\pi}}{4}$"
      ],
      "text/plain": [
       "3*sqrt(pi)/4"
      ]
     },
     "execution_count": 18,
     "metadata": {},
     "output_type": "execute_result"
    }
   ],
   "source": [
    "integrate(u**4*exp(-u**2),(u,-oo,oo))"
   ]
  },
  {
   "cell_type": "code",
   "execution_count": 27,
   "id": "b81843f0-f94e-43a8-a804-1c24338ac39d",
   "metadata": {},
   "outputs": [
    {
     "data": {
      "text/latex": [
       "$\\displaystyle 1.29289321881345$"
      ],
      "text/plain": [
       "1.29289321881345"
      ]
     },
     "execution_count": 27,
     "metadata": {},
     "output_type": "execute_result"
    }
   ],
   "source": [
    "from sympy import sqrt\n",
    "2-1/sqrt(2.)"
   ]
  },
  {
   "cell_type": "markdown",
   "id": "332bb4e7-2731-40e4-b5d2-c95bfc98ede6",
   "metadata": {},
   "source": [
    "Gráficos do Ferreira: OHQ\n",
    "\n",
    "Dois férmions podem estar na __mesma posição__, se a função de spin for antissimétrica.\n",
    "\n",
    "Para a função de onda espacial antissemétrica sim, temos que $Pr(x_1=x_2)=0.$\n",
    "\n",
    "Como obter estados pós-medida para variáveis contínuas (para e.g. posição)?\n",
    "\n",
    "Não existe dinstinguibilidade parcial pra férmions e bósons, eles são ou não são distinguíveis!? extremos"
   ]
  },
  {
   "cell_type": "markdown",
   "id": "89aab83a-6e8a-4114-81a2-034acf91c9c4",
   "metadata": {},
   "source": []
  },
  {
   "cell_type": "markdown",
   "id": "e5c6ae57-b417-4085-a39e-e5d05d4f234b",
   "metadata": {},
   "source": []
  },
  {
   "cell_type": "markdown",
   "id": "0762ede3-02a5-496b-aff3-1e31e7e7ed13",
   "metadata": {},
   "source": [
    "## Férmions interagentes\n",
    "\n",
    "Na construção da função de onda para partículas não interagentes, fizemos e.g. para 2 partículas\n",
    "\\begin{cases}\n",
    "\\text{distinguíveis: } \\Psi_D = \\psi_a(x_1)\\psi_b(x_2), \\\\ \n",
    "\\text{indistinguíveis: }\\text{bósons: } \\Psi_B = N_B[\\psi_a(x_1)\\psi_b(x_2)+\\psi_a(x_2)\\psi_b(x_1)], \\\\\n",
    "\\text{indistinguíveis: }\\text{férmions: } \\Psi_F = N_F[\\psi_a(x_1)\\psi_b(x_2)-\\psi_a(x_2)\\psi_b(x_1)].\n",
    "\\end{cases}\n",
    "Essa técnica para construção das funções de onda não se aplica para partículas interagentes.\n",
    "\n",
    "### Função de onda de Laughlin\n",
    "\n",
    "Vamos considerar como exemplo de contrução de função de onda para partículas interagentes a contrução de Laughlin. Consideremos o cenário onde ocorre o efeito Hall fracionário, onde temos $n$ elétrons restritos a se movimentar um 2 dimensões (e.g. $x$ e $y$) sob a ação de um campo magnético perpendicular ao plano de movimento (e.g. $\\vec{B}=B\\hat{k}$). A função de onda de Laughlin (FOL) para descrever esse tipo de sistema é a seguinte:\\\n",
    "$$\\Psi(z_1,z_2,\\cdots,z_N) = N_L\\Big[\\Pi_{j<k}(z_j-z_k)^q\\Big]\\exp\\Big(-\\sum_{k=1}^n|z_k|^2/2\\Big),$$\n",
    "em que \n",
    "$$q\\in\\mathbb{Z}_i$$\n",
    "é um número inteiro ímpar e\n",
    "$$z_j = \\sqrt{\\frac{eB}{2\\hbar c}}(x_j + iy_j).$$"
   ]
  },
  {
   "cell_type": "markdown",
   "id": "458ce3e2-9f1b-4ccf-b117-b8c00f9f9909",
   "metadata": {},
   "source": [
    "Aqui não precisamos nos preocupar com spin pois, como temos um campo magnético aplicado, o estado fundamental do sistema é tal que todos os elétrons tem spin paralelo a $\\vec{B}$, i.e.,\n",
    "$$\\Xi(1,2,\\cdots,n) = |\\downarrow_1 \\downarrow_2 \\cdots \\downarrow_n\\rangle.$$\n",
    "Essa configuração de spin é simétrica por troca de pares de partículas.\n",
    "\n",
    "Pode-se verificar que a FOL é antissimétrica por troca de pares de partículas. Como o termo exponencial é simétrico, temos que ter o produtório antissimétrico. Vamos exemplificar isso a seguir.\n",
    "\n",
    "#### 2 elétrons\n",
    "\n",
    "Nesse caso temos que\n",
    "\\begin{align}\n",
    "\\Psi(1,2) & = N_L\\big[(z_1-z_2)^q\\big]e^{-(|z_1|^2+|z_2|^2)/2}, \\\\\n",
    "\\Psi(2,1) & = N_L\\big[(z_2-z_1)^q\\big]e^{-(|z_2|^2+|z_1|^2)/2}, \\\\\n",
    "& = N_L\\big[(-1)^q(z_1-z_2)^q\\big]e^{-(|z_1|^2+|z_2|^2)/2}, \\\\\n",
    "& = (-1)^q\\Psi(1,2) \\\\\n",
    "& = -\\Psi(1,2),\n",
    "\\end{align}\n",
    "pois como $q$ é ímpar, temos que $(-1)^q=-1.$"
   ]
  },
  {
   "cell_type": "code",
   "execution_count": 38,
   "id": "c9419f0d-e793-44ad-abd3-b30844dbb9f1",
   "metadata": {},
   "outputs": [
    {
     "data": {
      "text/plain": [
       "8.75"
      ]
     },
     "execution_count": 38,
     "metadata": {},
     "output_type": "execute_result"
    }
   ],
   "source": [
    "10*10.5/12"
   ]
  },
  {
   "cell_type": "code",
   "execution_count": 44,
   "id": "b153f675-21ee-4e74-a592-c1175c1666bc",
   "metadata": {},
   "outputs": [
    {
     "data": {
      "text/plain": [
       "2.3504023872876028"
      ]
     },
     "execution_count": 44,
     "metadata": {},
     "output_type": "execute_result"
    }
   ],
   "source": [
    "from sympy import exp\n",
    "float(exp(1)-exp(-1))"
   ]
  },
  {
   "cell_type": "code",
   "execution_count": null,
   "id": "b395b8bc-3967-4a55-bd3b-2ae64c176ff4",
   "metadata": {},
   "outputs": [],
   "source": []
  }
 ],
 "metadata": {
  "kernelspec": {
   "display_name": "Python 3 (ipykernel)",
   "language": "python",
   "name": "python3"
  },
  "language_info": {
   "codemirror_mode": {
    "name": "ipython",
    "version": 3
   },
   "file_extension": ".py",
   "mimetype": "text/x-python",
   "name": "python",
   "nbconvert_exporter": "python",
   "pygments_lexer": "ipython3",
   "version": "3.12.2"
  }
 },
 "nbformat": 4,
 "nbformat_minor": 5
}
