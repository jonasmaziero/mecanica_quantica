{
 "cells": [
  {
   "cell_type": "markdown",
   "id": "f28a2a92",
   "metadata": {},
   "source": [
    "### Notas de aula de Mecânica Quântica <br> Autor: Jonas Maziero"
   ]
  },
  {
   "cell_type": "markdown",
   "id": "8ee472de",
   "metadata": {},
   "source": [
    "# Estrutura hiperfina do átomo de Hidrogênio\n",
    "\n",
    "Como vimos, a interação eletrostática entre as cargas elétricas do próton e do elétron no átomo de Hidrogênio dá origem a sua estrutura \"principal\" de níveis energia:\n",
    "\\begin{equation}\n",
    "\\text{estrutura principal}\\propto 1\\text{ eV}.\n",
    "\\end{equation}\n",
    "No entanto, também vimos que a interação entre o momento magnético do elétron com o campo magnético gerado pelo movimento orbital relativo do próton, a consideração de efeitos relativísticos do movimento do elétron e a consideração de que o elétron, sendo um sistema quântico, tem dimensão espacial finita, nos levam à identificação de uma estrutura fina para os níveis de energia do átomo de Hidrogênio:\n",
    "\\begin{equation}\n",
    "\\text{estrutura fina}\\propto 10^{-3}\\text{ eV}.\n",
    "\\end{equation}\n",
    "Na sequência, consideraremos a interação do spin do elétron com o campo magnético gerado pelo spin do próton (ou vice-versa). Essa interação dará origem a correções ainda menores para a energia, sendo responsável pela chamada estrutura hiperfina do átomo de Hidrogênio: \n",
    "\\begin{equation}\n",
    "\\text{estrutura hiperfina}\\propto 10^{-6}\\text{ eV}.\n",
    "\\end{equation}\n",
    "\n",
    "A seguir vamos iniciar obtendo o campo magnético gerado por um momento de dipolo magnético clássico. Usaremos esse campo para obter a energia potencial de interação entre dois momentos de dipolo magnético clássicos. Feito isso, quantizaremos essa expressão para obter o hamiltoniano que descreve a interação entre dois dipolos magnéticos quânticos. Esse hamiltoniano será usado para obter as correções perturbativas que levam à estrutura hiperfina do hidrogênio.\n",
    "\n",
    "Vale observar que todos esses resultados se aplicam também para átomos hidrogenóides quantitativamente, e qualitativamente para outros sistemas atômicos e moleculares."
   ]
  },
  {
   "cell_type": "markdown",
   "id": "a64556a5",
   "metadata": {},
   "source": [
    "## Campo magnético gerado por um dipolo magnético\n",
    "\n",
    "Como o campo magnético é dado por \n",
    "$$\\vec{B} = \\vec{\\nabla}\\times\\vec{\\mathcal{A}},$$\n",
    "começaremos considerando o __potencial vetor magnético__ gerado por uma distribuição de corrente elétrica:\n",
    "\\begin{equation}\n",
    "\\vec{\\mathcal{A}} = \\frac{\\mu_{0}}{4\\pi}\\int_{V'}\\frac{\\vec{J}(\\vec{r}')}{||\\vec{r}-\\vec{r}'||}dV',\n",
    "\\end{equation}\n",
    "em que $\\vec{r}$ é a posição do ponto $P$ onde estamos calculando $\\vec{\\mathcal{A}}$ e $\\vec{r}'$ é a posição da densidade de corrente elétrica $\\vec{J}$ em relação ao centro da distribuição de correntes. Veja a figura abaixo.\n",
    "\n",
    "<img src='fig_dipolo_mag.png' width='300'>"
   ]
  },
  {
   "cell_type": "markdown",
   "id": "5ff7a47a",
   "metadata": {},
   "source": [
    "Usando a série de Taylor \n",
    "\\begin{equation}\n",
    "\\frac{1}{\\sqrt{1+x}} = 1 - \\frac{x}{2} + \\cdots,\n",
    "\\end{equation}\n",
    "podemos escrever\n",
    "\\begin{align}\n",
    "\\frac{1}{||\\vec{r}-\\vec{r}'||} & = \\frac{1}{\\sqrt{r^{2}+r'^{2}-2\\vec{r}\\cdot\\vec{r}'}} \\\\\n",
    "& = \\frac{1}{r\\sqrt{1+r'^{2}/r^{2}-2\\vec{r}\\cdot\\vec{r}'/r^{2}}} \\\\\n",
    "& = \\frac{1}{r}\\left(1+\\frac{r'^{2}}{r^{2}}-2\\frac{\\vec{r}\\cdot\\vec{r}'}{r^{2}}\\right)^{-1/2} \\\\\n",
    "& \\approx  \\frac{1}{r}\\left(1-\\frac{1}{2}\\frac{r'^{2}}{r^{2}}+\\frac{1}{2}2\\frac{\\vec{r}\\cdot\\vec{r}'}{r^{2}}\\right) \\\\\n",
    "& \\approx \\frac{1}{r} + \\frac{\\vec{r}\\cdot\\vec{r}'}{r^{3}}.\n",
    "\\end{align}\n",
    "Na última passagem, desprezamos o 2º termo considerando um __dipolo magnético de dimensão muito pequena__, i.e., \n",
    "$$r'\\ll r\\ \\therefore\\ (r'/r)^2\\approx 0.$$\n",
    "Do mesmo modo, podemos considerar que $P$ está muito longe do dipolo magnético."
   ]
  },
  {
   "cell_type": "code",
   "execution_count": 6,
   "id": "bbca1469",
   "metadata": {},
   "outputs": [
    {
     "data": {
      "image/png": "[encoded data removed]",
      "text/latex": [
       "$\\displaystyle 1 - 0.5 x + 0.375 x^{2} - 0.3125 x^{3} + 0.2734375 x^{4} + O\\left(x^{5}\\right)$"
      ],
      "text/plain": [
       "                   2           3              4    ⎛ 5⎞\n",
       "1 - 0.5⋅x + 0.375⋅x  - 0.3125⋅x  + 0.2734375⋅x  + O⎝x ⎠"
      ]
     },
     "execution_count": 6,
     "metadata": {},
     "output_type": "execute_result"
    }
   ],
   "source": [
    "from sympy import init_printing, symbols, series\n",
    "init_printing(use_unicode=True)\n",
    "x = symbols('x')\n",
    "series((1+x)**(-1/2), x, 0, 5)"
   ]
  },
  {
   "cell_type": "markdown",
   "id": "19d499ef",
   "metadata": {},
   "source": [
    "Com isso, teremos que\n",
    "\\begin{align}\n",
    "\\vec{\\mathcal{A}} & = \\frac{\\mu_{0}}{4\\pi}\\int_{V'}\\frac{\\vec{J}}{r}dV' + \\frac{\\mu_{0}}{4\\pi}\\int_{V'}\\frac{(\\vec{r}\\cdot\\vec{r}')\\vec{J}}{r^{3}}dV' \\\\\n",
    "& = \\frac{\\mu_{0}}{4\\pi r}\\int_{V'}\\vec{J}dV' + \\frac{\\mu_{0}}{4\\pi r^{3}}\\int_{V'}(\\vec{r}\\cdot\\vec{r}')\\vec{J}dV'.\n",
    "\\end{align}\n",
    "Primeiramente verificaremos que o 1º termo no lado direito da igualdade é nulo. Depois reescreveremos o 2º termo numa forma apropriada.\n",
    "\n",
    "### Lema\n",
    "Pode-se mostrar que\n",
    "\\begin{equation}\n",
    "\\vec{\\nabla}\\cdot\\big(\\phi\\vec{A}\\big) = \\vec{\\nabla}\\phi\\cdot\\vec{A} + \\phi\\vec{\\nabla}\\cdot\\vec{A}. \\hspace{2cm} (*)\n",
    "\\end{equation}\n",
    "Esta igualdade vale para $\\phi(\\vec{r})$ um campo escalar qualquer e para $\\vec{A}(\\vec{r})$ um campo vetorial qualquer. Teremos assim que\n",
    "\\begin{equation}\n",
    "\\int_{V}\\big(f\\vec{J}\\cdot\\vec{\\nabla}g+g\\vec{J}\\cdot\\vec{\\nabla}f\\big)dV = 0, \\hspace{1cm} (\\star)\n",
    "\\end{equation}\n",
    "em que $f(\\vec{r})$ e $g(\\vec{r})$ são funções bem comportadas e $\\vec{J}$ é uma distribuição de corrente elétrica __estacionária__ e localizada em um __volume finito__."
   ]
  },
  {
   "cell_type": "markdown",
   "id": "e76ad225",
   "metadata": {},
   "source": [
    "#### Prova\n",
    "Vamos usar \n",
    "$$\\phi = g,\\ \\vec{A}=f\\vec{J}$$\n",
    "e substituir na eq. $(*)$:\n",
    "\\begin{equation}\n",
    "\\vec{\\nabla}\\cdot\\big(gf\\vec{J}\\big) = \\vec{\\nabla}g\\cdot(f\\vec{J}) + g\\vec{\\nabla}\\cdot(f\\vec{J}).\n",
    "\\end{equation}\n",
    "Assim\n",
    "\\begin{align}\n",
    "& \\int_{V}\\big(\\vec{\\nabla}g\\cdot(f\\vec{J}) + g\\vec{\\nabla}\\cdot(f\\vec{J})\\big)dV = \\int_{V}\\vec{\\nabla}\\cdot\\big(gf\\vec{J}\\big)dV = \\oint_{S}\\big(gf\\vec{J}\\big)\\cdot\\hat{n}dA, \\\\\n",
    "& \\therefore \\int_{V}\\vec{\\nabla}g\\cdot(f\\vec{J})dV = \\oint_{S}\\big(gf\\vec{J}\\big)\\cdot\\hat{n}dA -  \\int_{V}g\\vec{\\nabla}\\cdot(f\\vec{J})dV.\n",
    "\\end{align}"
   ]
  },
  {
   "cell_type": "markdown",
   "id": "30906ace",
   "metadata": {},
   "source": [
    "Na última igualdade da 1ª linha utilizamos o __teorema do divergente__ de Gauss. Considerando que correntes elétricas localizadas, podemos escolher uma superfície de Gauss $S$ grande o suficiente para que \n",
    "$$\\vec{J}(\\vec{r}\\in S)=\\vec{0}.$$\n",
    "Aqui entra a suposição da distribuição de corrente elétrica ocupar um volume finito. Com isso vem que \n",
    "\\begin{equation}\n",
    "\\oint_{S}\\big(gf\\vec{J}\\big)\\cdot\\hat{n}dA=0.\n",
    "\\end{equation}\n",
    "Por fim, utilizamos a eq. $(*)$ para escrever\n",
    "\\begin{equation}\n",
    "\\vec{\\nabla}\\cdot\\big(f\\vec{J}\\big) = \\vec{\\nabla}f\\cdot\\vec{J} + f\\vec{\\nabla}\\cdot\\vec{J} = \\vec{\\nabla}f\\cdot\\vec{J},\n",
    "\\end{equation}\n",
    "em que usamos que para __correntes elétricas estacionárias__\n",
    "\\begin{equation}\n",
    "\\vec{\\nabla}\\cdot\\vec{J} = 0.\n",
    "\\end{equation}\n",
    "Por conseguinte\n",
    "\\begin{equation}\n",
    "\\int_{V}\\vec{\\nabla}g\\cdot(f\\vec{J})dV = -\\int_{V}g\\vec{J}\\cdot(\\vec{\\nabla}f)dV,\n",
    "\\end{equation}\n",
    "como queríamos demonstrar. \n",
    "\n",
    "$\\hspace{0cm} \\square$"
   ]
  },
  {
   "cell_type": "markdown",
   "id": "fabd797f",
   "metadata": {},
   "source": [
    "Agora, se __escolhemos__\n",
    "\\begin{equation}\n",
    "f(\\vec{r}) = 1 \\text{ e } g(\\vec{r})=x_{j},\n",
    "\\end{equation}\n",
    "e as substituímos na eq. ($\\star$), $\\int_{V}\\big(f\\vec{J}\\cdot\\vec{\\nabla}g+g\\vec{J}\\cdot\\vec{\\nabla}f\\big)dV = 0$, vem que\n",
    "\\begin{align}\n",
    "& \\int_{V}\\big(1\\vec{J}\\cdot\\vec{\\nabla}x_{j}+x_{j}\\vec{J}\\cdot\\vec{\\nabla}1\\big)dV = \\int_{V}\\big(\\vec{J}\\cdot\\hat{e}_{j}+0\\big)dV \\\\\n",
    "& = \\int_{V}J_{j}dV = 0,\n",
    "\\end{align}\n",
    "que implica que\n",
    "\\begin{equation}\n",
    "\\int_{V}\\vec{J}dV = \\sum_{j}\\hat{e}_{j}\\int_{V}J_{j}dV = \\vec{0}.\n",
    "\\end{equation}\n",
    "Por conseguinte\n",
    "\\begin{align}\n",
    "\\vec{\\mathcal{A}} & = \\frac{\\mu_{0}}{4\\pi r}\\int_{V'}\\vec{J}dV' + \\frac{\\mu_{0}}{4\\pi r^{3}}\\int_{V'}(\\vec{r}\\cdot\\vec{r}')\\vec{J}dV' \\\\\n",
    "& = \\vec{0} + \\frac{\\mu_{0}}{4\\pi r^{3}}\\sum_i\\hat{e}_i \\vec{r}\\cdot\\int_{V'}\\vec{r}'J_i dV'.\n",
    "\\end{align}"
   ]
  },
  {
   "cell_type": "markdown",
   "id": "9c3b483b",
   "metadata": {},
   "source": [
    "### Lema\n",
    "A igualdade\n",
    "\\begin{equation}\n",
    "\\vec{A}\\cdot\\int_{V}\\vec{r}J_{i}dV = -\\frac{1}{2}\\sum_{j,k}\\epsilon_{ijk}A_{j}\\int_{V}\\big(\\vec{r}\\times\\vec{J}\\big)_{k}dV,\n",
    "\\end{equation}\n",
    "é válida para qualquer campo vetorial $\\vec{A}$, em que $\\epsilon_{ijk}$ é o tensor de Levi-Civita. \n",
    "\n",
    "#### Prova\n",
    "Usando \n",
    "$$f(\\vec{r})=x_{i},\\ g(\\vec{r})=x_{j}$$\n",
    "na eq. ($\\star$), vem que\n",
    "\\begin{align}\n",
    "& \\int_{V}\\big(f\\vec{J}\\cdot\\vec{\\nabla}g+g\\vec{J}\\cdot\\vec{\\nabla}f\\big)dV = \\int_{V}\\big(x_{i}\\vec{J}\\cdot\\vec{\\nabla}x_{j}+x_{j}\\vec{J}\\cdot\\vec{\\nabla}x_{i}\\big)dV \\\\\n",
    "& = \\int_{V}\\big(x_{i}\\vec{J}\\cdot\\hat{e}_{j} + x_{j}\\vec{J}\\cdot\\hat{e}_{i}\\big)dV = \\int_{V}\\big(x_{i}J_{j} + x_{j}J_{i}\\big)dV = 0 \\\\\n",
    "& \\therefore \\int_{V}x_{i}J_{j}dV  = - \\int_{V}x_{j}J_{i}dV. \\hspace{3cm} (**)\n",
    "\\end{align}"
   ]
  },
  {
   "cell_type": "markdown",
   "id": "eef35a03",
   "metadata": {},
   "source": [
    "Com isso, teremos que\n",
    "\\begin{align}\n",
    "\\vec{A}\\cdot\\int_{V}\\vec{r}J_{i}dV & = \\sum_{j}\\hat{e}_{j}A_{j}\\cdot\\int_{V}\\vec{r}J_{i}dV \\\\\n",
    "& = \\sum_{j}A_{j}\\int_{V}x_{j}J_{i}dV \\\\\n",
    "& = \\frac{1}{2}\\sum_{j}A_{j}\\int_{V}x_{j}J_{i}dV + \\frac{1}{2}\\sum_{j}A_{j}\\int_{V}x_{j}J_{i}dV \\\\\n",
    "& = \\frac{1}{2}\\sum_{j}A_{j}\\int_{V}x_{j}J_{i}dV - \\frac{1}{2}\\sum_{j}A_{j}\\int_{V}x_{i}J_{j}dV \\\\\n",
    "& = \\frac{1}{2}\\sum_{j}A_{j}\\int_{V}\\big(x_{j}J_{i}-x_{i}J_{j}\\big)dV \\\\\n",
    "& = -\\frac{1}{2}\\sum_{j,k}\\epsilon_{ijk}A_{j}\\int_{V}\\big(\\vec{r}\\times\\vec{J}\\big)_{k}dV,\n",
    "\\end{align}"
   ]
  },
  {
   "cell_type": "markdown",
   "id": "e47d89b7",
   "metadata": {},
   "source": [
    "em que usamos a eq. $(**)$ e a seguinte igualdade:\n",
    "\\begin{align}\n",
    "\\sum_{k}\\epsilon_{ijk}\\big(\\vec{r}\\times\\vec{J}\\big)_{k} & = \\sum_{k}\\epsilon_{ijk}\\sum_{l,m}\\epsilon_{klm}x_{l}J_{m} \\\\\n",
    "& = \\sum_{l,m}\\Big(\\sum_{k}\\epsilon_{ijk}\\epsilon_{klm}\\Big)x_{l}J_{m} \\\\\n",
    "& = \\sum_{l,m}\\Big(\\sum_{k}\\epsilon_{kij}\\epsilon_{klm}\\Big)x_{l}J_{m} \\\\\n",
    "& = \\sum_{l,m}\\big(\\delta_{il}\\delta_{jm} - \\delta_{im}\\delta_{jl}\\big)x_{l}J_{m} \\\\\n",
    "& = x_{i}J_{j} - x_{j}J_{i}.\n",
    "\\end{align}\n",
    "Com isso, concluímos a prova deste lema.\n",
    "\n",
    "$\\hspace{0cm}\\square$"
   ]
  },
  {
   "cell_type": "markdown",
   "id": "b0117247",
   "metadata": {},
   "source": [
    "Seguindo, substituindo esses resultados na equação para o __potencial vetor magnético__, teremos\n",
    "\\begin{align}\n",
    "\\vec{\\mathcal{A}} & = \\frac{\\mu_{0}}{4\\pi r^{3}}\\sum_i\\hat{e}_i \\vec{r}\\cdot\\int_{V'}\\vec{r}'J_i dV' \\\\\n",
    "& = \\frac{\\mu_{0}}{4\\pi r^{3}}\\sum_i\\hat{e}_i \\Big(-\\frac{1}{2}\\sum_{j,k}\\epsilon_{ijk}x_j\\int_{V'}\\big(\\vec{r}'\\times\\vec{J}\\big)_k dV'\\Big) \\\\\n",
    "& = -\\frac{\\mu_{0}}{4\\pi r^{3}}\\sum_i \\hat{e}_i \\sum_{jk}\\epsilon_{ijk}x_{j}\\frac{1}{2}\\int_{V'}\\big(\\vec{r}'\\times\\vec{J}\\big)_{k}dV' \\\\\n",
    "& = -\\frac{\\mu_{0}}{4\\pi r^{3}}\\sum_{i}\\hat{e}_{i}\\Big(\\sum_{jk}\\epsilon_{ijk}x_{j}\\mu_{k}\\Big) \\\\\n",
    "& = -\\frac{\\mu_{0}}{4\\pi r^{3}}\\sum_{i}\\hat{e}_{i}(\\vec{r}\\times\\vec{\\mu})_{i} \\\\\n",
    "& = -\\frac{\\mu_{0}}{4\\pi r^{3}}\\vec{r}\\times\\vec{\\mu},\n",
    "\\end{align}\n",
    "em que usamos a definição de __momento de dipolo magnético__:\n",
    "\\begin{equation}\n",
    "\\vec{\\mu} := \\frac{1}{2}\\int_{V'}\\vec{r}'\\times\\vec{J}dV'.\n",
    "\\end{equation}"
   ]
  },
  {
   "cell_type": "markdown",
   "id": "3b89dff7",
   "metadata": {},
   "source": [
    "Utilizando a igualdade \n",
    "\\begin{equation}\n",
    "\\vec{\\nabla}\\times(\\vec{A}\\times\\vec{B}) = (\\vec{\\nabla}\\cdot\\vec{B})\\vec{A} - (\\vec{\\nabla}\\cdot\\vec{A})\\vec{B} + (\\vec{B}\\cdot\\vec{\\nabla})\\vec{A} - (\\vec{A}\\cdot\\vec{\\nabla})\\vec{B},\n",
    "\\end{equation}\n",
    "que é válida para quaisquer campos vetoriais $\\vec{A}$ e $\\vec{B}$, vamos passar para o cálculo do __campo magnético__ gerado pelo dipolo magnético:\n",
    "\\begin{align}\n",
    "\\vec{B} & = \\vec{\\nabla}\\times\\vec{\\mathcal{A}} \\\\\n",
    "& = -\\frac{\\mu_{0}}{4\\pi}\\vec{\\nabla}\\times\\Big(\\frac{\\vec{r}}{r^{3}}\\times\\vec{\\mu}\\Big) \\\\\n",
    "& = -\\frac{\\mu_{0}}{4\\pi}\\Big((\\vec{\\nabla}\\cdot\\vec{\\mu})\\frac{\\vec{r}}{r^{3}} -\\Big(\\vec{\\nabla}\\cdot\\frac{\\vec{r}}{r^{3}}\\Big)\\vec{\\mu} +(\\vec{\\mu}\\cdot\\vec{\\nabla})\\frac{\\vec{r}}{r^{3}} -\\Big(\\frac{\\vec{r}}{r^{3}}\\cdot\\vec{\\nabla}\\Big)\\vec{\\mu}\\Big) \\\\\n",
    "& = \\frac{\\mu_{0}}{4\\pi}\\Big(\\Big(\\vec{\\nabla}\\cdot\\frac{\\vec{r}}{r^{3}}\\Big)\\vec{\\mu} -(\\vec{\\mu}\\cdot\\vec{\\nabla})\\frac{\\vec{r}}{r^{3}}\\Big),\n",
    "\\end{align}\n",
    "em que usamos \n",
    "\\begin{equation}\n",
    "\\vec{\\nabla}\\cdot\\vec{\\mu} = \\Big(\\frac{\\vec{r}}{r^{3}}\\cdot\\vec{\\nabla}\\Big)\\vec{\\mu} = 0\n",
    "\\end{equation}\n",
    "pois _o momento de dipolo magnético é um vetor fixo no espaço_, uma vez que a distribuição de corrente elétrica é estacionária."
   ]
  },
  {
   "cell_type": "markdown",
   "id": "29be4f0c",
   "metadata": {},
   "source": [
    "### Lema\n",
    "Pode-se verificar que\n",
    "\\begin{equation}\n",
    "\\vec{\\nabla}\\cdot\\Big(\\frac{\\vec{r}}{r^{3}}\\Big) = 4\\pi\\delta(\\vec{r}).\n",
    "\\end{equation}\n",
    "\n",
    "#### Prova\n",
    "Para fazer essa verificação, começamos considerando o caso \n",
    "$$\\vec{r}\\ne\\vec{0}.$$\n",
    "Nesse caso, teremos que\n",
    "\\begin{align}\n",
    "\\vec{\\nabla}\\cdot\\frac{\\vec{r}}{r^{3}} & = \\sum_{j}\\hat{e}_{j}\\partial_{x_{j}}\\cdot\\frac{\\sum_{k}\\hat{e}_{k}x_{k}}{\\big(\\sum_{l}x_{l}^{2}\\big)^{3/2}} \\\\\n",
    "& = \\sum_{jk}\\hat{e}_{j}\\cdot\\hat{e}_{k}\\partial_{x_{j}}\\Big(x_{k}\\big(\\sum_{l}x_{l}^{2}\\big)^{-3/2}\\Big) \\\\\n",
    "& = \\sum_{j}\\partial_{x_{j}}\\Big(x_{j}\\big(\\sum_{l}x_{l}^{2}\\big)^{-3/2}\\Big) \\\\\n",
    "& = \\sum_{j}\\big(\\partial_{x_{j}}x_{j}\\big)\\big(\\sum_{l}x_{l}^{2}\\big)^{-3/2} + \\sum_{j}x_{j}\\partial_{x_{j}}\\big(\\sum_{l}x_{l}^{2}\\big)^{-3/2} \\\\\n",
    "& = 3\\big(\\sum_{l}x_{l}^{2}\\big)^{-3/2} -\\frac{3}{2}\\sum_{j}x_{j}\\big(\\sum_{l}x_{l}^{2}\\big)^{-5/2}\\partial_{x_{j}}\\big(\\sum_{l}x_{l}^{2}\\big) \\\\\n",
    "& = 3r^{-3} -\\frac{3}{2}\\sum_{j}x_{j}r^{-5}\\sum_{l}2x_{j}\\delta_{jl} \\\\\n",
    "& = 3r^{-3} -3\\sum_{j}x_{j}^{2}r^{-5} \\\\\n",
    "& = 3r^{-3} -3r^{2}r^{-5} \\\\\n",
    "& = 0,\n",
    "\\end{align}\n",
    "em que usamos\n",
    "$$r = \\sqrt{\\sum_j x_j^2}.$$"
   ]
  },
  {
   "cell_type": "markdown",
   "id": "ef66fbc1",
   "metadata": {},
   "source": [
    "Seguindo, consideremos o caso limite \n",
    "$$\\vec{r}\\rightarrow\\vec{0}.$$\n",
    "Nesse caso, vamos utilizar o teorema do divergente com a superfície gaussiana sendo uma __esfera__:\n",
    "\\begin{align}\n",
    "\\int_{V}\\Big(\\vec{\\nabla}\\cdot\\frac{\\vec{r}}{r^{3}}\\Big)dV & = \\oint_{S}\\frac{\\vec{r}}{r^{3}}\\cdot\\hat{n}dA \\\\\n",
    "& = \\oint_{S}\\frac{\\vec{r}}{r^{3}}\\cdot\\frac{\\vec{r}}{r}dA  \\\\\n",
    "& = \\oint_{S}\\frac{1}{r^{2}}r^{2}\\sin\\theta d\\theta d\\phi \\\\\n",
    "& = 4\\pi \\\\\n",
    "& = \\int_{V}4\\pi\\delta(\\vec{r})dV.\n",
    "\\end{align}\n",
    "Portanto\n",
    "\\begin{equation}\n",
    "\\vec{\\nabla}\\cdot\\frac{\\vec{r}}{r^{3}} = 4\\pi\\delta(\\vec{r}).\n",
    "\\end{equation}\n",
    "Com isso obtemos o resultado que queríamos demonstrar. \n",
    "\n",
    "$\\hspace{0cm} \\square$"
   ]
  },
  {
   "cell_type": "markdown",
   "id": "853585e3",
   "metadata": {},
   "source": [
    "### Lema\n",
    "Pode-se verificar também que\n",
    "\\begin{equation}\n",
    "(\\vec{\\mu}\\cdot\\vec{\\nabla})\\frac{\\vec{r}}{r^{3}} = \\frac{\\vec{\\mu}}{r^{3}} - 3\\frac{(\\vec{\\mu}\\cdot\\vec{r})\\vec{r}}{r^{5}}.\n",
    "\\end{equation}\n",
    "\n",
    "#### Prova\n",
    "Para fazer essa verificação, começamos decompondo o operador nabla e vetores na base padrão. Vem assim que\n",
    "\\begin{align}\n",
    "(\\vec{\\mu}\\cdot\\vec{\\nabla})\\frac{\\vec{r}}{r^{3}} & = \\Big(\\sum_{j}\\hat{e}_{j}\\mu_{j}\\cdot\\sum_{k}\\hat{e}_{k}\\nabla_{k}\\Big)\\frac{\\sum_{l}\\hat{e}_{l}x_{l}}{\\big(\\sum_{m}x_{m}^{2}\\big)^{3/2}} \\\\\n",
    "& = \\Big(\\sum_{jk}\\hat{e}_{j}\\cdot\\hat{e}_{k}\\mu_{j}\\nabla_{k}\\Big)\\frac{\\sum_{l}\\hat{e}_{l}x_{l}}{\\big(\\sum_{m}x_{m}^{2}\\big)^{3/2}} \\\\\n",
    "& = \\Big(\\sum_{jk}\\delta_{jk}\\mu_{j}\\nabla_{k}\\Big)\\Big(\\sum_{l}\\hat{e}_{l}x_{l}\\big(\\sum_{m}x_{m}^{2}\\big)^{-3/2}\\Big) \\\\\n",
    "& = \\sum_{j}\\mu_{j}\\partial_{x_{j}}\\Big(\\sum_{l}\\hat{e}_{l}x_{l}\\big(\\sum_{m}x_{m}^{2}\\big)^{-3/2}\\Big) \\\\\n",
    "& = \\sum_{jl}\\hat{e}_{l}\\mu_{j}\\partial_{x_{j}}\\Big(x_{l}\\big(\\sum_{m}x_{m}^{2}\\big)^{-3/2}\\Big) \\\\\n",
    "& = \\sum_{jl}\\hat{e}_{l}\\mu_{j}\\Big(\\big(\\partial_{x_{j}}x_{l}\\big)\\big(\\sum_{m}x_{m}^{2}\\big)^{-3/2} + x_{l}\\partial_{x_{j}}\\big(\\sum_{m}x_{m}^{2}\\big)^{-3/2}\\Big) \\\\\n",
    "& = \\sum_{jl}\\hat{e}_{l}\\mu_{j}\\Big(\\delta_{jl}r^{-3} - \\frac{3}{2}x_{l}\\big(\\sum_{m}x_{m}^{2}\\big)^{-5/2}\\partial_{x_{j}}\\sum_{m}x_{m}^{2}\\Big) \\\\\n",
    "& = \\sum_{j}\\hat{e}_{j}\\mu_{j}r^{-3} - \\sum_{jl}\\hat{e}_{l}\\mu_{j}\\frac{3}{2}x_{l}r^{-5}\\sum_{m}2x_{m}\\partial_{x_{j}}x_{m} \\\\\n",
    "& = \\vec{\\mu}r^{-3} - \\sum_{jl}\\hat{e}_{l}\\mu_{j}3x_{l}r^{-5}\\sum_{m}x_{m}\\delta_{jm} \\\\\n",
    "& = \\vec{\\mu}r^{-3} - 3r^{-5}\\sum_{l}\\hat{e}_{l}x_{l}\\sum_{j}\\mu_{j}x_{j} \\\\\n",
    "& = \\vec{\\mu}r^{-3} - 3r^{-5}\\vec{r}(\\vec{\\mu}\\cdot\\vec{r}),\n",
    "\\end{align}\n",
    "como queríamos verificar. \n",
    "\n",
    "$\\hspace{0cm} \\square$"
   ]
  },
  {
   "cell_type": "markdown",
   "id": "2d566a57",
   "metadata": {},
   "source": [
    "Substituindo esses resultados, podemos escrever o __campo magnético__ como segue\n",
    "\\begin{align}\n",
    "\\vec{B} & = \\frac{\\mu_{0}}{4\\pi}\\Big(4\\pi\\delta(\\vec{r})\\vec{\\mu} - \\frac{\\vec{\\mu}}{r^{3}} + \\frac{3(\\vec{\\mu}\\cdot\\vec{r})\\vec{r}}{r^{5}}\\Big) \\\\\n",
    "& =: \\frac{\\mu_{0}}{4\\pi}\\Big(\\frac{3(\\vec{\\mu}\\cdot\\hat{r})\\hat{r} - \\vec{\\mu}}{r^{3}} + 4\\pi(1-d)\\delta(\\vec{r})\\vec{\\mu} \\Big),\n",
    "\\end{align}\n",
    "onde introduzimos o parâmetro $d$, chamado de __fator de desmagnetização__, que é usado de maneira fenomenológica para levar em conta possíveis assimetrias da distribuição de correntes responsável pelo dipolo magnético.\n",
    "\n",
    "Com isso, podemos calcular a __energia potencial__ de interação entre o momento magnético do elétron com o campo magnético gerado pelo momento magnético do próton:\n",
    "\\begin{align}\n",
    "U & = -\\vec{\\mu}_{e}\\cdot\\vec{B} \\\\\n",
    "& = -\\vec{\\mu}_{e}\\cdot\\frac{\\mu_{0}}{4\\pi}\\Big(\\frac{3(\\vec{\\mu}_{p}\\cdot\\hat{r})\\hat{r} - \\vec{\\mu}_{p}}{r^{3}} + 4\\pi(1-d)\\delta(\\vec{r})\\vec{\\mu}_{p} \\Big) \\\\\n",
    "& = \\frac{\\mu_{0}}{4\\pi}\\Big(\\frac{\\vec{\\mu}_{e}\\cdot\\vec{\\mu}_{p} - 3(\\vec{\\mu}_{p}\\cdot\\hat{r})(\\vec{\\mu}_{e}\\cdot\\hat{r})}{r^{3}} - 4\\pi(1-d)\\delta(\\vec{r})\\vec{\\mu}_{e}\\cdot\\vec{\\mu}_{p}\\Big).\n",
    "\\end{align}"
   ]
  },
  {
   "cell_type": "markdown",
   "id": "2d5ad7c7",
   "metadata": {},
   "source": [
    "Usando a relação entre momento magnético e momento angular para uma carga elétrica $q$ em movimento circular,\n",
    "\\begin{equation}\n",
    "\\vec{\\mu} = \\frac{gq}{2m}\\vec{L} = \\frac{g}{\\hbar}\\frac{q\\hbar}{2m}\\vec{L} = \\frac{g}{\\hbar}\\mu_{b}\\vec{L},\n",
    "\\end{equation}\n",
    "com\n",
    "\\begin{equation}\n",
    "\\mu_{b} := \\frac{q\\hbar}{2m}\n",
    "\\end{equation}\n",
    "sendo o __magneton de Bohr__, podemos escrever as relações entre os momentos de dipolo magnético intrínsecos e momentos angulares intrínsecos do elétron e do próton como segue:\n",
    "\\begin{equation}\n",
    "\\vec{\\mu}_{e} = \\frac{g_{e}\\mu_{be}}{\\hbar}\\vec{S}_{e} \\text{ e } \\vec{\\mu}_{p} = \\frac{g_{p}\\mu_{bp}}{\\hbar}\\vec{S}_{p},\n",
    "\\end{equation}\n",
    "em que introduzimos os fatores giromagnéticos do elétron e do próton e usamos \n",
    "\\begin{equation}\n",
    "\\mu_{be} = \\frac{-e\\hbar}{2m_{e}} \\text{ e } \\mu_{bp} = \\frac{e\\hbar}{2m_{p}}.\n",
    "\\end{equation}\n",
    "\n",
    "Com isso podemos substituir as variáveis clássicas na expressão para a energia potencial de interação entre os dois momentos de dipolo magnético para assim obter o operador __hamiltoniano quântico__:\n",
    "\\begin{equation}\n",
    "H_{1}^{ss} = \\frac{\\mu_{0}g_{e}\\mu_{be}g_{p}\\mu_{bp}}{4\\pi\\hbar^{2}}\\Big(\\frac{\\vec{S}_{e}\\cdot\\vec{S}_{p} - 3(\\vec{S}_{p}\\cdot\\hat{r})(\\vec{S}_{e}\\cdot\\hat{r})}{r^{3}} - 4\\pi(1-d)\\delta(\\vec{r})\\vec{S}_{e}\\cdot\\vec{S}_{p}\\Big).\n",
    "\\end{equation}"
   ]
  },
  {
   "cell_type": "markdown",
   "id": "471b2b77",
   "metadata": {},
   "source": [
    "Seguindo, utilizaremos a soma de momentos angulares de spin do próton e do elétron,\n",
    "\\begin{equation}\n",
    "\\vec{S} = \\vec{S}_{e}\\otimes I_{p} + I_{e}\\otimes\\vec{S}_{p},\n",
    "\\end{equation}\n",
    "para escrever\n",
    "\\begin{align}\n",
    "S^{2} & = \\vec{S}\\cdot\\vec{S} \\\\\n",
    "& = \\big(\\vec{S}_{e}\\otimes I_{p} + I_{e}\\otimes\\vec{S}_{p}\\big)\\cdot\\big(\\vec{S}_{e}\\otimes I_{p} + I_{e}\\otimes\\vec{S}_{p}\\big) \\\\\n",
    "& = \\vec{S}_{e}\\cdot\\vec{S}_{e}\\otimes I_{p} + I_{e}\\otimes\\vec{S}_{p}\\cdot\\vec{S}_{p} + \\big(\\vec{S}_{e}\\otimes I_{p}\\big)\\cdot\\big(I_{e}\\otimes\\vec{S}_{p}\\big) + \\big(I_{e}\\otimes\\vec{S}_{p}\\big)\\cdot\\big(\\vec{S}_{e}\\otimes I_{p}\\big) \\\\\n",
    "& =: S_{e}^{2}\\otimes I_{p} + I_{e}\\otimes S_{p}^{2} + 2\\vec{S}_{e}\\cdot \\vec{S}_{p},\n",
    "\\end{align}\n",
    "em que utilizamos a notação\n",
    "\\begin{equation}\n",
    "2\\vec{S}_{e}\\cdot \\vec{S}_{p} := \\big(\\vec{S}_{e}\\otimes I_{p}\\big)\\cdot\\big(I_{e}\\otimes\\vec{S}_{p}\\big) + \\big(I_{e}\\otimes\\vec{S}_{p}\\big)\\cdot\\big(\\vec{S}_{e}\\otimes I_{p}\\big).\n",
    "\\end{equation}\n",
    "Com isso, temos que\n",
    "\\begin{equation}\n",
    "\\vec{S}_{e}\\cdot \\vec{S}_{p} = \\frac{1}{2}\\Big(S^{2} - S_{e}^{2}\\otimes I_{p} - I_{e}\\otimes S_{p}^{2}\\Big).\n",
    "\\end{equation}"
   ]
  },
  {
   "cell_type": "markdown",
   "id": "2db00df8",
   "metadata": {},
   "source": [
    "Também podemos usar\n",
    "\\begin{align}\n",
    "\\big(\\vec{S}\\cdot\\vec{r}\\big)^{2} & = \\big((\\vec{S}_{e}+\\vec{S}_{p})\\cdot\\vec{r}\\big)^{2} \\\\\n",
    "& = \\big(\\vec{S}_{e}\\cdot\\vec{r}+\\vec{S}_{p}\\cdot\\vec{r}\\big)^{2} \\\\\n",
    "& = (\\vec{S}_{e}\\cdot\\vec{r})^{2} + (\\vec{S}_{p}\\cdot\\vec{r})^{2} + 2(\\vec{S}_{e}\\cdot\\vec{r})(\\vec{S}_{p}\\cdot\\vec{r})\n",
    "\\end{align}\n",
    "para escrever\n",
    "\\begin{equation}\n",
    "(\\vec{S}_{e}\\cdot\\vec{r})(\\vec{S}_{p}\\cdot\\vec{r}) = \\frac{1}{2}\\Big(\\big(\\vec{S}\\cdot\\vec{r}\\big)^{2} -(\\vec{S}_{e}\\cdot\\vec{r})^{2} - (\\vec{S}_{p}\\cdot\\vec{r})^{2} \\Big).\n",
    "\\end{equation}\n",
    "\n",
    "Com isso, podemos escrever o hamiltoniano de interação spin-spin como segue\n",
    "\\begin{align}\n",
    "H_{1}^{ss} & = \\frac{\\mu_{0}g_{e}\\mu_{be}g_{p}\\mu_{bp}}{8\\pi\\hbar^{2}}\\Big(\\frac{\\big(S^{2} - S_{e}^{2}\\otimes I_{p} - I_{e}\\otimes S_{p}^{2}\\big) - 3\\big(\\big(\\vec{S}\\cdot\\hat{r}\\big)^{2} -(\\vec{S}_{e}\\cdot\\hat{r})^{2} - (\\vec{S}_{p}\\cdot\\hat{r})^{2} \\big)}{r^{3}} \\\\\n",
    "& \\hspace{3.5cm} - 4\\pi(1-d)\\delta(\\vec{r})\\big(S^{2} - S_{e}^{2}\\otimes I_{p} - I_{e}\\otimes S_{p}^{2}\\big)\\Big).\n",
    "\\end{align}"
   ]
  },
  {
   "cell_type": "markdown",
   "id": "8de98d71",
   "metadata": {},
   "source": [
    "A função de onda total desse sistema deve levar em conta o grau de liberdade espacial e de spin do elétron e o grau de liberdade de spin do próton:\n",
    "\\begin{equation}\n",
    "|\\Psi\\rangle = |\\psi\\rangle\\otimes|\\sigma_{e}\\rangle\\otimes|\\sigma_{p}\\rangle.\n",
    "\\end{equation}\n",
    "Quanto aos spins, vamos trabalhar na base de autovetores comuns a $S_{e}^{2}, S_{p}^{2},S^{2}$, que são\n",
    "\\begin{equation}\n",
    "|s_{e},s_{p},s,m_{s}\\rangle = |1/2,1/2,s,m_{s}\\rangle,\n",
    "\\end{equation}\n",
    "em que usamos o fato de que os elétron e o próton são férmions com spin $1/2$:\n",
    "\\begin{equation}\n",
    "s_{e} = \\frac{1}{2} \\text{ e } s_{p} = \\frac{1}{2}.\n",
    "\\end{equation}\n",
    "Da teoria sobre a soma de momentos angulares, temos que\n",
    "\\begin{align}\n",
    "s & = |s_{e}-s_{p}|,|s_{e}-s_{p}|+1,\\cdots,s_{e}+s_{p} \\\\\n",
    "& = 0,1,\n",
    "\\end{align}\n",
    "e para cada valor do número quântico do momento angular total de spin, $s$, o número quântico que determina a componente $z$ do momento angular total pode assumir os valores\n",
    "\\begin{equation}\n",
    "m_{s} = -s,-s+1,\\cdots,s.\n",
    "\\end{equation}\n",
    "Nesse caso\n",
    "\\begin{align}\n",
    "& m_{s=0}=0, \\\\\n",
    "& m_{s=1} = -1,0,1.\n",
    "\\end{align}"
   ]
  },
  {
   "cell_type": "markdown",
   "id": "b0a0508b",
   "metadata": {},
   "source": [
    "Os momentos angulares intrínsecos individuais do elétron e do próton podem ser escritos em termos das __matrizes de Pauli__:\n",
    "\\begin{equation}\n",
    "\\vec{S}_{e} = \\frac{\\hbar}{2}\\vec{\\sigma} \\text{ e } \\vec{S}_{p} = \\frac{\\hbar}{2}\\vec{\\sigma}.\n",
    "\\end{equation}\n",
    "Com isso, vemos que\n",
    "\\begin{align}\n",
    "\\big(\\vec{S}_{e}\\cdot\\hat{r}\\big)^{2} & = \\big(2^{-1}\\hbar\\vec{\\sigma}\\cdot\\hat{r}\\big)^{2}  = 2^{-2}\\hbar^{2}\\big(\\vec{\\sigma}\\cdot\\hat{r}\\big)^{2} = 2^{-2}\\hbar^{2}I_{e}, \\\\\n",
    "\\big(\\vec{S}_{p}\\cdot\\hat{r}\\big)^{2} & = \\big(2^{-1}\\hbar\\vec{\\sigma}\\cdot\\hat{r}\\big)^{2}  = 2^{-2}\\hbar^{2}\\big(\\vec{\\sigma}\\cdot\\hat{r}\\big)^{2} = 2^{-2}\\hbar^{2}I_{p},\n",
    "\\end{align}\n",
    "em que usamos o resultado\n",
    "$$\\big(\\vec{\\sigma}\\cdot\\hat{r}\\big)^{2}=I.$$\n",
    "\n",
    "Assim, usando\n",
    "\\begin{equation}\n",
    "S_{e,p}^{2}|1/2,1/2,s,m_{s}\\rangle = \\hbar^{2}(1/2)(1/2+1)|1/2,1/2,s,m_{s}\\rangle = \\hbar^{2}(3/4)|1/2,1/2,s,m_{s}\\rangle,\n",
    "\\end{equation}\n",
    "a __correção perturbativa de 1ª ordem__ para a energia do átomo de Hidrogênio devido à interação spin-spin pode ser escrita como:\n",
    "\\begin{align}\n",
    "E_{n,l}^{ss(1)} & = \\big(\\big(\\langle\\psi|\\otimes\\langle1/2,1/2,s,m_{s}|\\big)\\big)H_{1}^{ss}\\big(|\\psi\\rangle\\otimes|1/2,1/2,s,m_{s}\\rangle\\big) \\\\\n",
    "& = \\frac{\\mu_{0}g_{e}\\mu_{be}g_{p}\\mu_{bp}}{8\\pi\\hbar^{2}}\\Big(\\big(\\langle\\psi|\\otimes\\langle1/2,1/2,s,m_{s}|\\big)r^{-3}\\big(S^{2} - S_{e}^{2}\\otimes I_{p} - I_{e}\\otimes S_{p}^{2}\\big)\\big(|\\psi\\rangle\\otimes|1/2,1/2,s,m_{s}\\rangle\\big) \\\\\n",
    "& \\hspace{3.5cm} - 3\\big(\\langle\\psi|\\otimes\\langle1/2,1/2,s,m_{s}|\\big)r^{-3}\\big(\\big(\\vec{S}\\cdot\\hat{r}\\big)^{2} -22^{-2}\\hbar^{2} I_{e}\\otimes I_{p} \\big)\\big(|\\psi\\rangle\\otimes|1/2,1/2,s,m_{s}\\rangle\\big) \\\\\n",
    "& \\hspace{3.5cm} - 4\\pi(1-d)\\big(\\langle\\psi|\\otimes\\langle1/2,1/2,s,m_{s}|\\big)\\delta(\\vec{r})\\big(S^{2} - S_{e}^{2}\\otimes I_{p} - I_{e}\\otimes S_{p}^{2}\\big)\\big(|\\psi\\rangle\\otimes|1/2,1/2,s,m_{s}\\rangle\\big)\\Big) \\\\\n",
    "& = \\frac{\\mu_{0}g_{e}\\mu_{be}g_{p}\\mu_{bp}}{8\\pi\\hbar^{2}}\\Big(\\big(\\langle\\psi|\\otimes\\langle1/2,1/2,s,m_{s}|\\big)r^{-3}\\big(S^{2} - (3\\hbar^{2}/2)\\big)\\big(|\\psi\\rangle\\otimes|1/2,1/2,s,m_{s}\\rangle\\big) \\\\\n",
    "& \\hspace{3.5cm} - \\big(\\langle\\psi|\\otimes\\langle1/2,1/2,s,m_{s}|\\big)r^{-3}\\big(3\\big(\\vec{S}\\cdot\\hat{r}\\big)^{2} -(3\\hbar^{2}/2)\\big)\\big(|\\psi\\rangle\\otimes|1/2,1/2,s,m_{s}\\rangle\\big) \\\\\n",
    "& \\hspace{3.5cm} - 4\\pi(1-d)\\big(\\langle\\psi|\\otimes\\langle1/2,1/2,s,m_{s}|\\big)\\delta(\\vec{r})\\big(S^{2} - (3\\hbar^{2}/2)\\big)\\big(|\\psi\\rangle\\otimes|1/2,1/2,s,m_{s}\\rangle\\big)\\Big).\n",
    "\\end{align}"
   ]
  },
  {
   "cell_type": "markdown",
   "id": "1b3bbbb2",
   "metadata": {},
   "source": [
    "### Restrição: $l=0$\n",
    "Doravante vamos considerar somente autoestados do hamiltoniano não perturbado com __momento angular orbital nulo__. Com isso, além de simplificar as contas, anulamos a contribuição da interação do spin do próton com o momento magnético orbital do elétron. Nesse caso, a função de onda é dada por\n",
    "\\begin{align}\n",
    "& \\psi_{n,l,m_{l}}(r,\\theta,\\phi) = \\sqrt{\\left(\\frac{2Z}{a_{0}n}\\right)^{3}\\frac{(n-l-1)!}{(n+l)!2n}}e^{-Zr/a_{0}n}\\left(\\frac{2Zr}{a_{0}n}\\right)^{l}L_{n-l-1}^{2l+1}\\left(\\frac{2Zr}{a_{0}n}\\right)\\sqrt{\\frac{2l+1}{4\\pi}\\frac{(l-|m_{l}|)!}{(l+|m_{l}|)!}}(\\sin\\theta)^{|m_{l}|}\\frac{\\partial^{|m_{l}|}P_{l}(\\cos\\theta)}{\\partial z^{|m_{l}|}}e^{im_{l}\\phi}, \\\\\n",
    "& \\therefore\\ \\psi_{n,0,0}(r,\\theta,\\phi) = \\sqrt{\\left(\\frac{2Z}{a_{0}n}\\right)^{3}\\frac{1}{2n^{2}}}e^{-Zr/a_{0}n}L_{n-1}^{1}\\left(\\frac{2Zr}{a_{0}n}\\right)\\sqrt{\\frac{1}{4\\pi}} \\equiv \\psi_{n,0,0}(r),\n",
    "\\end{align}\n",
    "com \n",
    "$$L_{j}^{k}(x)=(e^{x}x^{-k}/j!)\\partial_{x^{j}}(e^{-x}x^{j+k}),\\ P_{l}(z)=(1/l!2^{l})\\partial_{z^{l}}(z^{2}-1)^{l}\\ \\therefore\\ P_{0}(z)=1.$$\n",
    "\n",
    "Ademais\n",
    "\\begin{align}\n",
    "\\big(\\vec{S}\\cdot\\hat{r}\\big)^{2} & = \\big((\\hat{i}S_{x}+\\hat{j}S_{y}+\\hat{k}S_{z})\\cdot(\\hat{i}\\sin\\theta\\cos\\phi +\\hat{j}\\sin\\theta\\sin\\phi + \\hat{k}\\cos\\theta)\\big)^{2} \\\\\n",
    "& = \\big(S_{x}\\sin\\theta\\cos\\phi + S_{y}\\sin\\theta\\sin\\phi + S_{z}\\cos\\theta)\\big)^{2} \\\\\n",
    "& = S_{x}^{2}\\sin^{2}\\theta\\cos^{2}\\phi + S_{y}^{2}\\sin^{2}\\theta\\sin^{2}\\phi + S_{z}^{2}\\cos^{2}\\theta + \\sin^{2}\\theta\\sin\\phi\\cos\\phi\\{S_{x},S_{y}\\} \\\\\n",
    "& \\hspace{0.5cm} + \\sin\\theta\\cos\\theta\\cos\\phi\\{S_{x},S_{z}\\}  + \\sin\\theta\\cos\\theta\\sin\\phi\\{S_{y},S_{z}\\} \\\\\n",
    "& = S_{x}^{2}\\sin^{2}\\theta\\cos^{2}\\phi + S_{y}^{2}\\sin^{2}\\theta\\sin^{2}\\phi + S_{z}^{2}\\cos^{2}\\theta\n",
    "\\end{align}"
   ]
  },
  {
   "cell_type": "markdown",
   "id": "e394d4a9",
   "metadata": {},
   "source": [
    "pois \n",
    "\\begin{equation}\n",
    "\\{S_{j},S_{k}\\} = \\frac{\\hbar^{2}}{4}\\{\\sigma_{j},\\sigma_{k}\\} = 0\\ \\forall\\ j\\ne k.\n",
    "\\end{equation}\n",
    "\n",
    "Também temos que\n",
    "\\begin{align}\n",
    "& \\int d\\Omega \\big(\\vec{S}\\cdot\\hat{r}\\big)^{2} = \\int_{0}^{\\pi}\\int_{0}^{2\\pi}\\sin\\theta d\\theta d\\phi \\big(\\vec{S}\\cdot\\hat{r}\\big)^{2} \\\\\n",
    "& = S_{x}^{2}\\int_{0}^{\\pi}\\sin^{3}\\theta d\\theta\\int_{0}^{2\\pi}\\cos^{2}\\phi d\\phi + S_{y}^{2}\\int_{0}^{\\pi}\\sin^{3}\\theta d\\theta\\int_{0}^{2\\pi}\\sin^{2}\\phi d\\phi \\\\\n",
    "& + S_{z}^{2}\\int_{0}^{\\pi}\\sin\\theta\\cos^{2}\\theta d\\theta\\int_{0}^{2\\pi}d\\phi \\\\\n",
    "& = S_{x}^{2}(4/3)(\\pi) + S_{y}^{2}(4/3)(\\pi) + S_{z}^{2}(2/3)(2\\pi) \\\\\n",
    "& = \\frac{4\\pi}{3}S^{2}.\n",
    "\\end{align}\n",
    "As integrais acima são resolvidas com o código Sympy abaixo e nos exercícios. Temos assim que\n",
    "\\begin{align}\n",
    "\\int d\\Omega\\Big(3\\big(\\vec{S}\\cdot\\hat{r}\\big)^{2}-S^{2}\\Big) & = 4\\pi S^{2}-S^{2}\\int d\\Omega \\\\\n",
    "& = 4\\pi S^{2}-S^{2}4\\pi \\\\\n",
    "& = 0.\n",
    "\\end{align}\n"
   ]
  },
  {
   "cell_type": "code",
   "execution_count": 28,
   "id": "fcde39dd",
   "metadata": {},
   "outputs": [
    {
     "data": {
      "image/png": "[encoded data removed]",
      "text/latex": [
       "$\\displaystyle \\left( \\frac{4}{3}, \\  \\frac{2}{3}, \\  \\pi, \\  \\pi\\right)$"
      ],
      "text/plain": [
       "(4/3, 2/3, π, π)"
      ]
     },
     "execution_count": 28,
     "metadata": {},
     "output_type": "execute_result"
    }
   ],
   "source": [
    "from sympy import integrate, pi, sin, cos, symbols, init_printing\n",
    "init_printing(use_unicode=True)\n",
    "x = symbols('x')\n",
    "integrate(sin(x)**3, (x,0,pi)), integrate(sin(x)*cos(x)**2, (x,0,pi)), integrate(cos(x)**2, (x,0,2*pi)), integrate(sin(x)**2, (x,0,2*pi))"
   ]
  },
  {
   "cell_type": "markdown",
   "id": "6781d5a0",
   "metadata": {},
   "source": [
    "Com isso, vem que\n",
    "\\begin{align}\n",
    "& \\big(\\langle\\psi|\\otimes\\langle1/2,1/2,s,m_{s}|\\big)r^{-3}\\big(3\\big(\\vec{S}\\cdot\\hat{r}\\big)^{2}-S^{2}\\big)\\big(|\\psi\\rangle\\otimes|1/2,1/2,s,m_{s}\\rangle\\big) \\\\\n",
    "& = \\big(\\langle\\psi|\\otimes\\langle1/2,1/2,s,m_{s}|\\big)\\Big(\\int d^{3}r'|\\vec{r}'\\rangle\\langle\\vec{r}'|\\otimes I_{ep}\\Big)r^{-3}\\big(3\\big(\\vec{S}\\cdot\\hat{r}\\big)^{2}-S^{2}\\big)\\big(|\\psi\\rangle\\otimes|1/2,1/2,s,m_{s}\\rangle\\big) \\\\\n",
    "& = \\langle1/2,1/2,s,m_{s}|\\Big(\\int_{0}^{\\infty}\\int_{0}^{\\pi}\\int_{0}^{2\\pi}r'^{2}\\sin\\theta dr'd\\theta d\\phi\\langle\\psi|\\vec{r}'\\rangle r^{-3}\\big(3\\big(\\vec{S}\\cdot\\hat{r}\\big)^{2}-S^{2}\\big)\\langle\\vec{r}'|\\psi\\rangle\\Big)|1/2,1/2,s,m_{s}\\rangle \\\\\n",
    "& = \\langle1/2,1/2,s,m_{s}|\\Big(\\int_{0}^{\\infty}\\int_{0}^{\\pi}\\int_{0}^{2\\pi}r'^{2}\\sin\\theta dr'd\\theta d\\phi\\psi(\\vec{r}')^* r^{-3}\\big(3\\big(\\vec{S}\\cdot\\hat{r}\\big)^{2}-S^{2}\\big)\\psi(\\vec{r}')\\Big)|1/2,1/2,s,m_{s}\\rangle \\\\\n",
    "& = \\langle1/2,1/2,s,m_{s}|\\Big(\\int_{0}^{\\infty}r'^{2}r^{-3}dr'\\psi(r')^{*}\\psi(r') \\int d\\Omega\\big(3\\big(\\vec{S}\\cdot\\hat{r}\\big)^{2}-S^{2}\\big)\\Big)|1/2,1/2,s,m_{s}\\rangle \\\\\n",
    "& = \\langle1/2,1/2,s,m_{s}|\\Big(\\int_{0}^{\\infty}r'^{2}r^{-3}dr'|\\psi(r')|^{2}(0)\\Big)|1/2,1/2,s,m_{s}\\rangle \\\\\n",
    "& = 0.\n",
    "\\end{align}\n",
    "Acima usamos $d\\Omega=\\sin\\theta d\\theta d\\phi$ e \n",
    "$$\\psi(\\vec{r}) = \\psi_{n,l=0,m_l=0}(\\vec{r}) = \\psi_{n,l=0,m_l=0}(r),$$\n",
    "pois estamos considerando $l=0$."
   ]
  },
  {
   "cell_type": "markdown",
   "id": "5c4ac5e3",
   "metadata": {},
   "source": [
    "Por conseguinte, os dois primeiros termos na expressão para $E_{n,l=0}^{ss(1)}$ se cancelam, sobrando somento o termo proporcional a $\\delta(\\vec{r})$:\n",
    "\\begin{align}\n",
    "E_{n,l=0}^{ss(1)} & = \\frac{\\mu_{0}g_{e}\\mu_{be}g_{p}\\mu_{bp}}{8\\pi\\hbar^{2}}\\Big(- 4\\pi(1-d)\\big(\\langle\\psi|\\otimes\\langle1/2,1/2,s,m_{s}|\\big)\\delta(\\vec{r})\\big(S^{2} - (3\\hbar^{2}/2)\\big)\\big(|\\psi\\rangle\\otimes|1/2,1/2,s,m_{s}\\rangle\\big)\\Big) \\\\\n",
    "& = -\\frac{\\mu_{0}g_{e}\\mu_{be}g_{p}\\mu_{bp}(1-d)}{2\\hbar^{2}}\\int d^{3}r'|\\psi(r')|^{2}\\delta(\\vec{r}) \\langle1/2,1/2,s,m_{s}|\\big(S^{2} - (3\\hbar^{2}/2)\\big)|1/2,1/2,s,m_{s}\\rangle \\\\\n",
    "& = -\\frac{\\mu_{0}g_{e}\\mu_{be}g_{p}\\mu_{bp}(1-d)}{2\\hbar^{2}}|\\psi(0)|^{2}\\big(\\hbar^{2}s(s+1) - (3\\hbar^{2}/2)\\big)\\langle1/2,1/2,s,m_{s}|1/2,1/2,s,m_{s}\\rangle \\\\\n",
    "& = -\\frac{\\mu_{0}g_{e}\\mu_{be}g_{p}\\mu_{bp}(1-d)}{2}|\\psi_{n,l=0,m_{l}=0}(0)|^{2}\\big(s(s+1) - 3/2\\big) \\\\\n",
    "& = E_{n,l=0,s}^{ss(1)},\n",
    "\\end{align}\n",
    "em que usamos \n",
    "$$\\int d^{3}r'f(\\vec{r}')\\delta(\\vec{r}'-\\vec{a})=f(\\vec{a}).$$"
   ]
  },
  {
   "cell_type": "markdown",
   "id": "11b3e992",
   "metadata": {},
   "source": [
    "Vamos utilizar \n",
    "\\begin{equation}\n",
    "d = 1/3 \\ \\therefore\\ 1-d=2/3,\n",
    "\\end{equation}\n",
    "que corresponde a uma __distribuição uniforme esférica__ de magnetização para o próton.\n",
    "\n",
    "Vamos usar \n",
    "$$\\lim_{\\rho\\rightarrow 0}L_{n-0-1}^{2(0)+1}(\\rho) = n$$\n",
    "e vamos considerar primeiramente\n",
    "\\begin{equation}\n",
    "n=1.\n",
    "\\end{equation}\n",
    "Nesse caso (faz $Z=1$)\n",
    "\\begin{equation}\n",
    "\\psi_{1,0,0}(\\vec{0}) = \\sqrt{\\left(\\frac{2Z}{a_{0}}\\right)^{3}\\frac{1}{2}}(1)(1)\\sqrt{\\frac{1}{4\\pi}} =\\sqrt{\\left(\\frac{2Z}{a_{0}}\\right)^{3}\\frac{1}{8\\pi}} =\\sqrt{\\frac{1}{a_{0}^{3}\\pi}}.\n",
    "\\end{equation}\n",
    "Com isso, usando também \n",
    "$$g_{e}=2,\\ g_{p}\\approx 5.52,$$\n",
    "e\n",
    "$$\\mu_{0}=\\frac{1}{\\epsilon_{0}c^{2}},\\ \\mu_{be} = \\frac{-e\\hbar}{2m_{e}},\\ \\mu_{bp} = \\frac{e\\hbar}{2m_{p}}$$\n",
    "e\n",
    "$$\\alpha=\\frac{ke^{2}}{\\hbar c},\\ a_{0} = \\frac{\\hbar}{km_{e}e^{2}}=\\frac{\\hbar}{m_{e}c\\alpha},$$\n",
    "teremos\n",
    "\\begin{align}\n",
    "E_{n=1,l=0,s}^{ss(1)} & = -\\frac{\\mu_{0}g_{e}\\mu_{be}g_{p}\\mu_{bp}}{3}\\frac{1}{a_{0}^{3}\\pi}\\big(s(s+1) - 3/2\\big) \\\\\n",
    "& = \\frac{g_{e}g_{p}}{3\\pi}\\frac{1}{\\epsilon_{0}c^{2}}\\frac{e\\hbar}{2m_{e}}\\frac{e\\hbar}{2m_{p}}\\frac{m_{e}^{3}c^{3}\\alpha^{3}}{\\hbar^{3}}\\big(s(s+1) - 3/2\\big) \\\\\n",
    "& = \\frac{g_{e}g_{p}}{3}\\frac{ke^{2}}{\\hbar c}\\frac{m_{e}}{m_{p}}\\alpha^{3}m_{e}c^{2}\\big(s(s+1) - 3/2\\big) \\\\\n",
    "& = \\frac{g_{e}g_{p}}{3}\\frac{m_{e}}{m_{p}}\\alpha^{4}m_{e}c^{2}\\big(s(s+1) - 3/2\\big) \\\\\n",
    "& \\approx (2.94\\times 10^{-6}\\text{ eV})\\big(s(s+1) - 3/2\\big).\n",
    "\\end{align}"
   ]
  },
  {
   "cell_type": "code",
   "execution_count": 32,
   "id": "34b51686",
   "metadata": {},
   "outputs": [
    {
     "data": {
      "text/plain": [
       "2.9357265154271187e-06"
      ]
     },
     "execution_count": 32,
     "metadata": {},
     "output_type": "execute_result"
    }
   ],
   "source": [
    "import math\n",
    "ge = 2 # (fator giromagnetico do eletron)\n",
    "gp = 5.58 # (fator giromagnetico do proton)\n",
    "me = 9.109382*10**-31 # kg (massa do elétron)\n",
    "mp = 1.6726219*10**-27 # kg (massa do próton)\n",
    "e = 1.60217662*10**-19 # C (carga elementar)\n",
    "c = 2.99792458*10**8 # m/s (velocidade da luz no vácuo)\n",
    "k = 8.9875517923*10**9 # Nm^2/C^2 (constante de Coulomb)\n",
    "h = 6.626069*10**-34 # Js (constante de Planck)\n",
    "hb = h/(2*math.pi) # hbar\n",
    "al = (k*e**2)/(hb*c) # ~1/137.035999084 (constante de estrutura fina)\n",
    "\n",
    "(1/3)*ge*gp*((me/mp)*al**4*me*c**2)/e"
   ]
  },
  {
   "cell_type": "markdown",
   "id": "3d23871b",
   "metadata": {},
   "source": [
    "Assim, para o estado fundamental do átomo de Hidrogênio ($n=1,l=0,m_l=0$) temos as seguintes correções de estrutura hiperfina:\n",
    "\\begin{align}\n",
    "E_{n=1,l=0,s=0}^{ss(1)} & = (2.94\\times 10^{-6}\\text{ eV})\\big(0(0+1) - 3/2\\big) \\approx -4.40\\times 10^{-6}\\text{ eV}, \\\\\n",
    "E_{n=1,l=0,s=1}^{ss(1)} & = (2.94\\times 10^{-6}\\text{ eV})\\big(1(1+1) - 3/2\\big) \\approx 1.47\\times 10^{-6}\\text{ eV}.\n",
    "\\end{align}\n",
    "\n",
    "Para o código abaixo, usamos que para um $n$ qualquer temos\n",
    "\\begin{equation}\n",
    "\\psi_{n,0,0}(\\vec{0}) = \\sqrt{\\frac{1}{a_{0}^{3}\\pi n^{3}}}.\n",
    "\\end{equation}\n",
    "Camo fizemos para obter $E_{n=1,l=0,s}^{ss(1)}$, vemos que\n",
    "\\begin{align}\n",
    "E_{n,l=0}^{ss(1)} = \\frac{g_{e}g_{p}}{3}\\frac{m_{e}}{m_{p}}\\alpha^{4}m_{e}c^{2}\\frac{s(s+1) - 3/2}{n^{3}}.\n",
    "\\end{align}"
   ]
  },
  {
   "cell_type": "code",
   "execution_count": 35,
   "id": "874fa36b",
   "metadata": {},
   "outputs": [
    {
     "name": "stdout",
     "output_type": "stream",
     "text": [
      "n= 1 , Ess(n,s=0)= -4.403589773140678e-06 , Ess(n,s=1)= 1.4678632577135594e-06\n",
      "n= 2 , Ess(n,s=0)= -5.504487216425848e-07 , Ess(n,s=1)= 1.8348290721419492e-07\n",
      "n= 3 , Ess(n,s=0)= -1.6309591752372882e-07 , Ess(n,s=1)= 5.436530584124294e-08\n",
      "n= 4 , Ess(n,s=0)= -6.88060902053231e-08 , Ess(n,s=1)= 2.2935363401774365e-08\n",
      "n= 5 , Ess(n,s=0)= -3.5228718185125423e-08 , Ess(n,s=1)= 1.1742906061708476e-08\n",
      "n= 6 , Ess(n,s=0)= -2.0386989690466102e-08 , Ess(n,s=1)= 6.7956632301553675e-09\n",
      "n= 7 , Ess(n,s=0)= -1.2838454149098187e-08 , Ess(n,s=1)= 4.2794847163660625e-09\n",
      "n= 8 , Ess(n,s=0)= -8.600761275665387e-09 , Ess(n,s=1)= 2.8669204252217957e-09\n",
      "n= 9 , Ess(n,s=0)= -6.040589537915883e-09 , Ess(n,s=1)= 2.0135298459719606e-09\n",
      "n= 10 , Ess(n,s=0)= -4.403589773140678e-09 , Ess(n,s=1)= 1.4678632577135594e-09\n"
     ]
    }
   ],
   "source": [
    "from matplotlib import pyplot as plt\n",
    "\n",
    "def Ess(n,s):\n",
    "    return ((1/3)*ge*gp*((me/mp)*al**4*me*c**2)/e)*((s*(s+1) - 3/2)/n**3)\n",
    "\n",
    "for n in range(1,11):\n",
    "    print('n=',n,', Ess(n,s=0)=',Ess(n,s=0),', Ess(n,s=1)=', Ess(n,s=1))"
   ]
  },
  {
   "cell_type": "code",
   "execution_count": 41,
   "id": "06e54c42",
   "metadata": {},
   "outputs": [
    {
     "data": {
      "image/png": "[encoded data removed]",
      "text/plain": [
       "<Figure size 640x480 with 1 Axes>"
      ]
     },
     "metadata": {},
     "output_type": "display_data"
    }
   ],
   "source": [
    "def bohr(Z,mu,n): # em eV\n",
    "    return (-((mu*Z**2*e**4*k**2)/(2*hb**2))/n**2)/e\n",
    "\n",
    "import matplotlib\n",
    "\n",
    "def plot_Ess(n):\n",
    "    Z = 1; mu = (me*mp)/(me+mp)\n",
    "    plt.hlines(bohr(Z,mu,n), 0, 0.3, color='blue')\n",
    "    plt.text(-0.15,bohr(Z,mu,n),'%10.7f' % (bohr(Z,mu,n)),color='blue')\n",
    "    plt.text(0.1, bohr(Z,mu,n), 'n='+str(n), color='red')\n",
    "    for s in range(0, 2):\n",
    "        plt.plot([0.3,0.6],[bohr(Z,mu,n),bohr(Z,mu,n)+Ess(n,s)], '--', color='gray', linewidth=0.5)\n",
    "        plt.plot([0.6,0.9],[bohr(Z,mu,n)+Ess(n,s),bohr(Z,mu,n)+Ess(n,s)], color='blue')\n",
    "        plt.text(0.9,bohr(Z,mu,n)+Ess(n,s),'%10.7f' % (bohr(Z,mu,n)+Ess(n,s)),color='blue')\n",
    "        plt.text(0.6,bohr(Z,mu,n)+Ess(n,s),'n='+str(n)+',l='+str(0)+',s='+str(s),color='red')\n",
    "    plt.axis('off')\n",
    "    plt.show()\n",
    "    \n",
    "n = 3; plot_Ess(n)"
   ]
  },
  {
   "cell_type": "markdown",
   "id": "8fae6ab2",
   "metadata": {},
   "source": [
    "---\n",
    "## Exercícios\n",
    "\n",
    "$1.$ Para um campo escalar qualquer $\\phi=\\phi(\\vec{r})$ e para um campo vetorial qualquer $\\vec{A}=\\vec{A}(\\vec{r})$, verifique a igualdade\n",
    "\\begin{equation}\n",
    "\\vec{\\nabla}\\cdot\\big(\\phi\\vec{A}\\big) = \\vec{\\nabla}\\phi\\cdot\\vec{A} + \\phi\\vec{\\nabla}\\cdot\\vec{A}.\n",
    "\\end{equation}\n",
    "\n",
    "$2.$ Verifique a igualdade\n",
    "\\begin{equation}\n",
    "\\vec{\\nabla}\\times(\\vec{A}\\times\\vec{B}) = (\\vec{\\nabla}\\cdot\\vec{B})\\vec{A} - (\\vec{\\nabla}\\cdot\\vec{A})\\vec{B} + (\\vec{B}\\cdot\\vec{\\nabla})\\vec{A} - (\\vec{A}\\cdot\\vec{\\nabla})\\vec{B}.\n",
    "\\end{equation}\n",
    "\n",
    "$3.$ Para $\\vec{\\sigma}=\\sum_{j=1}^{3}\\hat{e}_{j}\\sigma_{j}$, com\n",
    "\\begin{equation}\n",
    "\\sigma_{1} = \\begin{bmatrix}0&1\\\\1&0\\end{bmatrix},\\ \\sigma_{2} = \\begin{bmatrix}0&-i\\\\i&0\\end{bmatrix}, \\ \\sigma_{3} = \\begin{bmatrix}1&0\\\\0&-1\\end{bmatrix}\n",
    "\\end{equation}\n",
    "e $\\hat{r}$ um versor e $\\{\\hat{e}_{j}\\}$ a base padrão de $\\mathbb{R}^{3}$, verifique que\n",
    "\\begin{equation}\n",
    "(\\vec{\\sigma}\\cdot\\hat{r})^{2}=\\sigma_{0},\n",
    "\\end{equation}\n",
    "com $\\sigma_{0}=\\begin{bmatrix}1&0\\\\0&1\\end{bmatrix}$.\n",
    "\n",
    "$4.$ Verifique que\n",
    "\\begin{align}\n",
    "& \\int_{0}^{\\pi}\\sin^{3}x dx = \\frac{4}{3}, \\\\\n",
    "& \\int_{0}^{\\pi}\\sin x\\cos^{2}x dx = \\frac{2}{3}, \\\\\n",
    "& \\int_{0}^{2\\pi}\\sin^{2}x dx = \\int_{0}^{2\\pi}\\cos^{2}x dx = \\pi. \n",
    "\\end{align}\n",
    "\n",
    "$5.$ Verifique que $$\\psi_{n,0,0}(\\vec{0}) = \\sqrt{\\frac{1}{a_{0}^{3}\\pi n^{3}}}.$$\n",
    "\n",
    "$6.$ Calcule as correções de 1ª ordem para a estrutura hiperfina do átomo de Hidrogênio para $n=2$ e $l=0$.\n",
    "\n",
    "$7.$ Calcule o comprimento de onda da radiação eletromagnética emitida em uma transição entre os estados hiperfinos do átomo de hidrogênio: $n=1,l=0,s=0\\longrightarrow n=1,l=0,s=1$. Em qual faixa do espectro eletromagnético está este comprimento de onda?\n",
    "\n",
    "$8.$ A partir da definição geral de momento de dipolo magnético, $\\vec{\\mu} = \\frac{1}{2}\\int_{V}\\vec{r}\\times\\vec{J} dV$, temos que o momento de dipolo magnético de uma espira de corrente elétrica tem módulo $\\mu=iA=i\\pi R^2$, com $R$ sendo o raio da espira e a corrente elétrica $i$ é constante."
   ]
  }
 ],
 "metadata": {
  "kernelspec": {
   "display_name": "Python 3 (ipykernel)",
   "language": "python",
   "name": "python3"
  },
  "language_info": {
   "codemirror_mode": {
    "name": "ipython",
    "version": 3
   },
   "file_extension": ".py",
   "mimetype": "text/x-python",
   "name": "python",
   "nbconvert_exporter": "python",
   "pygments_lexer": "ipython3",
   "version": "3.12.2"
  }
 },
 "nbformat": 4,
 "nbformat_minor": 5
}
