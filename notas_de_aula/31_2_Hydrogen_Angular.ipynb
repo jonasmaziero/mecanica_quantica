{
 "cells": [
  {
   "cell_type": "markdown",
   "metadata": {},
   "source": [
    "### Notas de aula de Mecânica Quântica <br> Autor: Jonas Maziero\n",
    "\n",
    "# Átomos Hidrogenóides"
   ]
  },
  {
   "cell_type": "markdown",
   "metadata": {},
   "source": [
    "## Solução longitudinal\n",
    "Vamos começar resolvendo a equação longitudinal \n",
    "$$\\partial_{\\phi\\phi}\\Phi(\\phi)+m_{l}^{2}\\Phi(\\phi)=0.$$\n",
    "Pode-se verificar que \n",
    "$$\\Phi_{\\pm}(\\phi)=e^{\\pm im_{l}\\phi}$$\n",
    "são soluções particulares, e linearmente independentes, dessa equação. Assim, podemos escrever uma solução geral:\n",
    "\\begin{equation}\n",
    "\\Phi(\\phi)=c_{+}e^{+im_{l}\\phi} + c_{-}e^{-im_{l}\\phi}.\n",
    "\\end{equation}\n",
    "Pela simetria espacial do potencial por rotação em relação a $\\phi$, devemos ter\n",
    "\\begin{align}\n",
    "& \\Phi(\\phi+2\\pi)=\\Phi(\\phi) \\\\ \n",
    "& \\therefore c_{+}e^{+im_{l}(\\phi+2\\pi)} + c_{-}e^{-im_{l}(\\phi+2\\pi)} = c_{+}e^{+im_{l}\\phi}e^{+im_{l}2\\pi} + c_{-}e^{-im_{l}\\phi}e^{-im_{l}2\\pi} = c_{+}e^{+im_{l}\\phi} + c_{-}e^{-im_{l}\\phi}\\\\\n",
    "& \\therefore \\left(e^{+im_{l}2\\pi}-1\\right)c_{+}e^{+im_{l}\\phi} + \\left(e^{-im_{l}2\\pi}-1\\right)c_{-}e^{-im_{l}\\phi} = 0 \\\\\n",
    "& \\therefore e^{\\pm im_{l}2\\pi}=\\cos(m_{l}2\\pi)\\pm i\\sin(m_{l}2\\pi)=1+i0.\n",
    "\\end{align}\n",
    "Portanto\n",
    "\\begin{equation}\n",
    "m_{l} = 0, \\pm 1, \\pm 2, \\pm 3, \\cdots.\n",
    "\\end{equation}\n",
    "Temos então\n",
    "\\begin{equation}\n",
    "\\Phi(\\phi) = \\Phi_{m_{l}}(\\phi)=c_{+}e^{+im_{l}\\phi} + c_{-}e^{-im_{l}\\phi}.\n",
    "\\end{equation}"
   ]
  },
  {
   "cell_type": "markdown",
   "metadata": {},
   "source": [
    "Ao fazermos separação de variáveis, temos também que as densidades de probabilidade tomam a forma produto:\n",
    "\\begin{equation}\n",
    "|\\psi(r,\\theta,\\phi)|^{2} = |\\Omega(r)|^{2}|\\Theta(\\theta)|^{2}|\\Phi_{m_{l}}(\\phi)|^{2}.\n",
    "\\end{equation}\n",
    "Por conseguinte, como as probabilidades para as diferentes coordenadas são independentes, podemos aplicar a __normalização__ de forma também independente para cada uma delas. Assim, para a coordenada $\\phi$, se somamos a probabilidade do quanton ter o valor dessa coordenada entre $\\phi$ e $\\phi+d\\phi$ em uma volta completa, devemos obter a unidade:\n",
    "\\begin{align}\n",
    "1 & = \\int_{\\phi}^{\\phi+2\\pi}|\\Phi_{m_{l}}(\\phi')|^{2}d\\phi' \\\\\n",
    "& = \\int_{\\phi}^{\\phi+2\\pi}\\Phi_{m_{l}}(\\phi')\\Phi_{m_{l}}(\\phi')^{*}d\\phi' \\\\\n",
    "& = \\int_{\\phi}^{\\phi+2\\pi}\\left(c_{+}e^{+im_{l}\\phi'} + c_{-}e^{-im_{l}\\phi'}\\right)\\left(c_{+}^{*}e^{-im_{l}\\phi'} + c_{-}^{*}e^{-im_{l}\\phi'}\\right)d\\phi' \\\\\n",
    "& = \\int_{\\phi}^{\\phi+2\\pi}\\left(|c_{+}|^{2} + |c_{-}|^{2} + c_{+}c_{-}^{*}e^{2im_{l}\\phi'} + c_{+}^{*}c_{-}e^{-2im_{l}\\phi'}\\right)d\\phi' \\\\\n",
    "& = \\left(|c_{+}|^{2} + |c_{-}|^{2}\\right)\\left(\\phi'\\right)_{\\phi}^{\\phi+2\\pi} + \\frac{c_{+}c_{-}^{*}}{2im_{l}}\\left(e^{2im_{l}\\phi'}\\right)_{\\phi}^{\\phi+2\\pi} + \\frac{c_{+}^{*}c_{-}}{-2im_{l}}\\left(e^{-2im_{l}\\phi'}\\right)_{\\phi}^{\\phi+2\\pi} \\\\\n",
    "& = \\left(|c_{+}|^{2} + |c_{-}|^{2}\\right)2\\pi + \\frac{c_{+}c_{-}^{*}}{2im_{l}}\\left(e^{2im_{l}\\phi}e^{2im_{l}2\\pi}-e^{2im_{l}\\phi}\\right) + \\frac{c_{+}^{*}c_{-}}{-2im_{l}}\\left(e^{-2im_{l}\\phi}e^{-2im_{l}2\\pi}-e^{-2im_{l}\\phi}\\right) \\\\\n",
    "& = \\left(|c_{+}|^{2} + |c_{-}|^{2}\\right)2\\pi+0+0.\n",
    "\\end{align}"
   ]
  },
  {
   "cell_type": "markdown",
   "metadata": {},
   "source": [
    "Assim\n",
    "\\begin{equation}\n",
    "|c_{+}|^{2} + |c_{-}|^{2}=\\frac{1}{2\\pi}.\n",
    "\\end{equation}\n",
    "\n",
    "Vale observar que a derivada da função de onda não traz nenhuma condição nova, para ser utilizada aqui.\n",
    "\n",
    "Observo que a maioria dos livros sobre Mecânica Quântica usa a solução particular \n",
    "\\begin{equation}\n",
    "\\Phi_{+}=\\frac{1}{\\sqrt{2\\pi}}e^{+im_{l}\\phi}\\ \\therefore |\\Phi_{+}|^{2}=\\frac{1}{2\\pi}.\n",
    "\\end{equation}\n",
    "Para \n",
    "$$\\Phi_{-}=\\frac{1}{\\sqrt{2\\pi}}e^{-im_{l}\\phi}$$ \n",
    "também teríamos $|\\Phi_{-}|^{2}=1/2\\pi$). Isso implica que a probabilidade do quanton estar em posições com valores quaisquer de $\\phi$ é a mesma.\n",
    "\n",
    "Além disso, vemos que $e^{\\pm im_{l}\\phi}$ são autofunções de $\\vec{P}$ com autovalores mostrados abaixo:\n",
    "\\begin{align}\n",
    "\\vec{P}\\Phi_{\\pm} & = \\frac{\\hbar}{i}\\vec{\\nabla}e^{\\pm im_{l}\\phi} \\\\\n",
    "& = \\frac{\\hbar}{i}\\left(\\hat{r}\\frac{\\partial}{\\partial r} + \\hat{\\theta}\\frac{1}{r}\\frac{\\partial}{\\partial \\theta} + \\hat{\\phi}\\frac{1}{r\\sin\\theta}\\frac{\\partial}{\\partial \\phi}\\right)e^{\\pm im_{l}\\phi} \\\\\n",
    "& = \\pm\\frac{\\hbar m_{l}}{r\\sin\\theta}\\hat{\\phi}e^{\\pm im_{l}\\phi} \\\\\n",
    "& =\\left(\\pm\\frac{\\hbar m_{l}}{r\\sin\\theta}\\hat{\\phi}\\right)\\Phi_{\\pm}.\n",
    "\\end{align} "
   ]
  },
  {
   "cell_type": "markdown",
   "metadata": {},
   "source": [
    "No entanto, verificamos que a solução geral,\n",
    "$$\\Phi_{m_{l}}^{\\pm}(\\phi)=c_{+}e^{+im_{l}\\phi}\\pm c_{-}e^{-im_{l}\\phi},$$\n",
    "não é autofunção de $\\vec{P}$:\n",
    "$$\\vec{P}\\Phi_{m_{l}}^{\\pm}(\\phi)=\\hat{\\phi}\\frac{\\hbar m_{l}}{r\\sin\\theta}\\Phi_{m_{l}}^{\\mp}(\\phi).$$\n",
    "\n",
    "Vale notar também que se requerermos que \n",
    "$$P_{\\phi}=0,$$\n",
    "então devemos ter \n",
    "$$|c_{+}|=|c_{-}|\\therefore c_{+}=e^{i\\alpha}c_{-}$$\n",
    "com $\\alpha\\in[0,2\\pi)$. \n",
    "\n",
    "Agora, se usarmos \n",
    "$$c_{+}=\\pm c_{-}=1/(2\\sqrt{\\pi}),$$\n",
    "teremos que\n",
    "\\begin{equation}\n",
    "\\Phi_{m_{l}}^{\\pm}(\\phi) = \\frac{1}{2\\sqrt{\\pi}}\\left(e^{+im_{l}\\phi}\\pm e^{-im_{l}\\phi}\\right)\\therefore \\begin{cases} \\Phi_{m_{l}}^{+}(\\phi) = (1/\\sqrt{\\pi})\\cos(m_{l}\\phi), \\\\ \\Phi_{m_{l}}^{-}(\\phi)=(i/\\sqrt{\\pi})\\sin(m_{l}\\phi).\\end{cases}\n",
    "\\end{equation} \n",
    "Pode-se verificar também ortogonalidade, i.e., $\\langle\\Phi_{m_{l}}^{\\pm}|\\Phi_{m'_{l}}^{\\pm}\\rangle=0$ para $m_{l}\\ne m'_{l}$. Para a \"solução geral\" a densidade de probabilidade é similar àquela de um quanton em um poço quadrado infinito 1D, i.e.,\n",
    "\\begin{equation}\n",
    "\\begin{cases} |\\Phi_{m_{l}}^{+}(\\phi)|^{2} = (1/\\pi)\\cos^{2}(m_{l}\\phi), \\\\ |\\Phi_{m_{l}}^{-}(\\phi)|^{2}=(1/\\pi)\\sin^{2}(m_{l}\\phi).\\end{cases}\n",
    "\\end{equation}\n",
    "\n",
    "\n",
    "Observo que, por agora, não tenho nenhum argumento, matemático ou físico, para a escolha da função de onda longitudinal. Por isso, doravante vamos adotar a escolha mais frequente da literatura: \n",
    "$$\\Phi_{+}=\\frac{1}{\\sqrt{2\\pi}}e^{+im_{l}\\phi}.$$"
   ]
  },
  {
   "cell_type": "markdown",
   "metadata": {},
   "source": [
    "## Solução latitudinal\n",
    "Para obter essa função de onda precisamos resolver a equação diferencial\n",
    "\\begin{equation}\n",
    "\\sin\\theta\\frac{\\partial}{\\partial \\theta}\\left(\\sin\\theta\\frac{\\partial\\Theta(\\theta)}{\\partial \\theta}\\right) + \\left(l(l+1)\\sin^{2}\\theta-m_{l}^{2}\\right)\\Theta(\\theta)=0. \\hspace{1cm} (\\star)\n",
    "\\end{equation}\n",
    "Começamos fazendo a mudança de variável\n",
    "\\begin{equation}\n",
    "z=\\cos\\theta.\n",
    "\\end{equation}\n",
    "Teremos assim que\n",
    "$$1-z^{2}=1-\\cos^{2}\\theta=\\sin^{2}\\theta,$$\n",
    "e com isso vem que\n",
    "\\begin{equation}\n",
    "\\sin\\theta\\frac{\\partial}{\\partial_{\\theta}} = \\sin\\theta\\frac{\\partial z}{\\partial_{\\theta}}\\frac{\\partial}{\\partial_{z}} = -\\sin^{2}\\theta\\frac{\\partial}{\\partial_{z}} = -(1-z^{2})\\frac{\\partial}{\\partial_{z}}.\n",
    "\\end{equation}\n",
    "Substituindo essas igualdades em $(\\star)$, obtemos\n",
    "\\begin{align}\n",
    "& (1-z^{2})\\frac{\\partial}{\\partial z}\\left((1-z^{2})\\frac{\\partial\\Theta(z)}{\\partial z}\\right) + \\left(l(l+1)(1-z^{2})-m_{l}^{2}\\right)\\Theta(z)=0 \\\\\n",
    "& \\therefore\\ (1-z^{2})\\frac{\\partial^{2}\\Theta(z)}{\\partial z^{2}} -2z\\frac{\\partial\\Theta(z)}{\\partial z} + \\left(l(l+1)-\\frac{m_{l}^{2}}{1-z^{2}}\\right)\\Theta(z)=0. \\hspace{1cm} (\\star\\star)\n",
    "\\end{align}\n",
    "Note que dividimos a penúltima equação por $1-z^2$. Portanto a equação $(\\star\\star)$ é válida para \n",
    "$$z\\ne 1.$$\n",
    "\n",
    "As soluções dessa equação, $\\Theta=\\Theta_{l,m_{l}}$, chamadas de __funções associadas de Legendre__, podem ser escritas como:\n",
    "\\begin{equation}\n",
    "\\Theta_{l,m_{l}}(z) = (1-z^{2})^{|m_{l}|/2}\\frac{\\partial^{|m_{l}|}P_{l}(z)}{\\partial z^{|m_{l}|}}, \\hspace{1cm} (\\diamond)\n",
    "\\end{equation}\n",
    "com os __polinômios de Legendre__ satisfazendo a equação diferencial:\n",
    "\\begin{equation}\n",
    "(1-z^{2})\\frac{\\partial^{2}P_{l}(z)}{\\partial z^{2}}-2z\\frac{\\partial P_{l}(z)}{\\partial z}+l(l+1)P_{l}(z)=0. \\hspace{1cm} (\\triangle)\n",
    "\\end{equation}"
   ]
  },
  {
   "cell_type": "markdown",
   "metadata": {},
   "source": [
    "##### Verificação\n",
    "A seguir, vamos verificar que as equações $(\\diamond)$ e $(\\triangle)$ são equivalentes a equação $(\\star\\star).$\n",
    "\n",
    "Para isso, precisaremos da __fórmula geral de Leibniz__:\n",
    "$$\\frac{\\partial^{k}(f(z)g(z))}{\\partial z^{k}} = \\sum_{j=0}^{k}\\binom{k}{j}\\frac{\\partial^{k-j}f(z)}{\\partial z^{k-j}}\\frac{\\partial^{j}g(z)}{\\partial z^{j}},$$\n",
    "em que usamos o binômio de Newton $\\binom{k}{j}=\\frac{k!}{j!(k-j)!}.$\n",
    "\n",
    "Vamos demonstrá-la. Para $k=1$ temos da regra do produto para derivadas que:\n",
    "\\begin{align}\n",
    "\\frac{\\partial(f(z)g(z))}{\\partial z} & = \\lim_{h\\rightarrow 0}\\frac{f(z+h)g(z+h)-f(z)g(z)}{h} \\\\\n",
    "& = \\lim_{h\\rightarrow 0}\\frac{f(z+h)g(z+h)-f(z+h)g(z)+f(z+h)g(z)-f(z)g(z)}{h} \\\\\n",
    "& = \\lim_{h\\rightarrow 0}\\frac{f(z+h)\\big(g(z+h)-g(z)\\big)+ \\big(f(z+h)-f(z)\\big)g(z)}{h} \\\\\n",
    "& = \\lim_{h\\rightarrow 0}f(z+h)\\lim_{h\\rightarrow 0}\\frac{g(z+h)-g(z)}{h} + \\lim_{h\\rightarrow 0}\\frac{f(z+h)-f(z)}{h}\\lim_{h\\rightarrow 0}g(z) \\\\\n",
    "& = f\\frac{\\partial g}{\\partial z}+\\frac{\\partial f}{\\partial z}g.\n",
    "\\end{align}\n",
    "Usando esse resultado, vamos assumir que $\\frac{\\partial^{k}(fg)}{\\partial z^{k}} = \\sum_{j=0}^{k}\\binom{k}{j}\\frac{\\partial^{k-j}f}{\\partial z^{k-j}}\\frac{\\partial^{j}g}{\\partial z^{j}}$ vale para um certo $k$, e mostrar que vale para $k+1$, demonstrando assim por indução o resultado que queremos provar:"
   ]
  },
  {
   "cell_type": "markdown",
   "metadata": {},
   "source": [
    "\\begin{align}\n",
    "\\frac{\\partial^{k+1}(fg)}{\\partial z^{k+1}} & = \\frac{\\partial}{\\partial z}\\left(\\frac{\\partial^{k}(fg)}{\\partial z^{k}}\\right) = \\frac{\\partial}{\\partial z}\\left(\\sum_{j=0}^{k}\\binom{k}{j}\\frac{\\partial^{k-j}f}{\\partial z^{k-j}}\\frac{\\partial^{j}g}{\\partial z^{j}}\\right) \\\\\n",
    "& = \\sum_{j=0}^{k}\\binom{k}{j}\\frac{\\partial^{k-j+1}f}{\\partial z^{k-j+1}}\\frac{\\partial^{j}g}{\\partial z^{j}} + \\sum_{j=0}^{k}\\binom{k}{j}\\frac{\\partial^{k-j}f}{\\partial z^{k-j}}\\frac{\\partial^{j+1}g}{\\partial z^{j+1}} \\\\\n",
    "& = \\binom{k}{0}\\frac{\\partial^{k-0+1}f}{\\partial z^{k-0+1}}\\frac{\\partial^{0}g}{\\partial z^{0}} + \\sum_{j=1}^{k}\\binom{k}{j}\\frac{\\partial^{k-j+1}f}{\\partial z^{k-j+1}}\\frac{\\partial^{j}g}{\\partial z^{j}} + \\sum_{j'=1}^{k+1}\\binom{k}{j'-1}\\frac{\\partial^{k-j'+1}f}{\\partial z^{k-j'+1}}\\frac{\\partial^{j'}g}{\\partial z^{j'}} \\\\\n",
    "& = \\binom{k}{0}\\frac{\\partial^{k+1-0}f}{\\partial z^{k+1-0}}\\frac{\\partial^{0}g}{\\partial z^{0}} + \\sum_{j=1}^{k}\\binom{k}{j}\\frac{\\partial^{k+1-j}f}{\\partial z^{k+1-j}}\\frac{\\partial^{j}g}{\\partial z^{j}} + \\sum_{j=1}^{k}\\binom{k}{j-1}\\frac{\\partial^{k+1-j}f}{\\partial z^{k+1-j}}\\frac{\\partial^{j}g}{\\partial z^{j}}  + \\binom{k}{k+1-1}\\frac{\\partial^{k-k-1+1}f}{\\partial z^{k-k-1+1}}\\frac{\\partial^{k+1}g}{\\partial z^{k+1}} \\\\\n",
    "& = \\frac{\\partial^{k+1}f}{\\partial z^{k+1}}g + \\sum_{j=1}^{k}\\left(\\binom{k}{j}+\\binom{k}{j-1}\\right)\\frac{\\partial^{k+1-j}f}{\\partial z^{k+1-j}}\\frac{\\partial^{j}g}{\\partial z^{j}} + f\\frac{\\partial^{k+1}g}{\\partial z^{k+1}} \\\\\n",
    "& = \\frac{\\partial^{k+1}f}{\\partial z^{k+1}}g + \\sum_{j=1}^{k}\\binom{k+1}{j}\\frac{\\partial^{k+1-j}f}{\\partial z^{k+1-j}}\\frac{\\partial^{j}g}{\\partial z^{j}} + f\\frac{\\partial^{k+1}g}{\\partial z^{k+1}} \\\\\n",
    "& = \\sum_{j=0}^{k+1}\\binom{k+1}{j}\\frac{\\partial^{k+1-j}f}{\\partial z^{k+1-j}}\\frac{\\partial^{j}g}{\\partial z^{j}},\n",
    "\\end{align}\n",
    "em que usamos $\\binom{k}{0}=\\frac{k!}{0!(k-0)!}=1$, $\\binom{k}{k}=\\frac{k!}{k!(k-k)!}=1$ e\n",
    "\\begin{align}\n",
    "\\binom{k}{j}+\\binom{k}{j-1} &= \\frac{k!}{j!(k-j)!} + \\frac{k!}{(j-1)!(k-j+1)!} = \\frac{k!}{j!(k+1-j)!}\\left(\\frac{(k+1-j)!}{(k-j)!} + \\frac{j!}{(j-1)!}\\right) \\\\\n",
    "& = \\frac{k!(k+1)}{(j!(k+1-j)!(k+1)}\\left(\\frac{(k+1-j)(k-j)!}{(k-j)!} + \\frac{(j-1)!j}{(j-1)!}\\right) \\\\\n",
    "& = \\frac{(k+1)!}{(j!(k+1-j)!(k+1)}\\left(k+1-j+j)\\right) = \\binom{k+1}{j}.\n",
    "\\end{align}"
   ]
  },
  {
   "cell_type": "markdown",
   "metadata": {},
   "source": [
    "Seguindo, vamos derivar a equação ($\\triangle$) um número $|m_l|$ de vezes em relação a $z$:\n",
    "$$\\frac{\\partial^{|m_l|}}{\\partial z^{|m_l|}}\\Big((1-z^{2})\\frac{\\partial^{2}P_{l}(z)}{\\partial z^{2}}\\Big) -2\\frac{\\partial^{|m_l|}}{\\partial z^{|m_l|}}\\Big(z\\frac{\\partial P_{l}(z)}{\\partial z}\\Big) +l(l+1)\\frac{\\partial^{|m_l|}}{\\partial z^{|m_l|}}P_{l}(z)=0. \\hspace{1cm} (\\square)$$\n",
    "Seguindo, usamos a regra de Leibniz: $\\frac{\\partial^{k}}{\\partial z^{k}}\\big(f(z)g(z)\\big) = \\sum_{j=0}^k \\binom{k}{j}\\Big(\\frac{\\partial^{k-j} f}{\\partial z^{k-j}}\\Big)\\Big(\\frac{\\partial^{j} g}{\\partial z^{j}}\\Big).$ Com isso, vem que\n",
    "\\begin{align}\n",
    "& \\frac{\\partial^{|m_l|}}{\\partial z^{|m_l|}}\\Big(\\frac{\\partial^{2}P_{l}(z)}{\\partial z^{2}}(1-z^{2})\\Big) = \\sum_{j=0}^{|m_l|} \\binom{|m_l|}{j}\\Big(\\frac{\\partial^{|m_l|-j}}{\\partial z^{|m_l|-j}}\\frac{\\partial^{2}P_{l}(z)}{\\partial z^{2}}\\Big)\\Big(\\frac{\\partial^{j} }{\\partial z^{j}}(1-z^{2})\\Big) \\\\\n",
    "& = \\binom{|m_l|}{0}\\Big(\\frac{\\partial^{|m_l|-0}}{\\partial z^{|m_l|-0}}\\frac{\\partial^{2}P_{l}(z)}{\\partial z^{2}}\\Big)\\Big(\\frac{\\partial^{0} }{\\partial z^{0}}(1-z^{2})\\Big) + \\binom{|m_l|}{1}\\Big(\\frac{\\partial^{|m_l|-1}}{\\partial z^{|m_l|-1}}\\frac{\\partial^{2}P_{l}(z)}{\\partial z^{2}}\\Big)\\Big(\\frac{\\partial^{1} }{\\partial z^{1}}(1-z^{2})\\Big) \\\\\n",
    "& + \\binom{|m_l|}{2}\\Big(\\frac{\\partial^{|m_l|-2}}{\\partial z^{|m_l|-2}}\\frac{\\partial^{2}P_{l}(z)}{\\partial z^{2}}\\Big)\\Big(\\frac{\\partial^{2} }{\\partial z^{2}}(1-z^{2})\\Big) + 0 + \\cdots+0\\\\\n",
    "& = (1-z^{2})\\frac{\\partial^{|m_l|+2}P_l}{\\partial z^{|m_l|+2}} -2z|m_l|\\frac{\\partial^{|m_l|+1}P_l}{\\partial z^{|m_l|+1}} -2\\frac{|m_l|(|m_l|-1)}{2}\\frac{\\partial^{|m_l|}P_l}{\\partial z^{|m_l|}} \\\\\n",
    "\\end{align}"
   ]
  },
  {
   "cell_type": "markdown",
   "metadata": {},
   "source": [
    "e\n",
    "\\begin{align}\n",
    "& \\frac{\\partial^{|m_l|}}{\\partial z^{|m_l|}}\\Big(\\frac{\\partial P_l}{\\partial z}z\\Big) = \\sum_{j=0}^{|m_l|} \\binom{|m_l|}{j}\\Big(\\frac{\\partial^{|m_l|-j}}{\\partial z^{|m_l|-j}}\\frac{\\partial P_l}{\\partial z}\\Big)\\Big(\\frac{\\partial^{j}}{\\partial z^{j}}z\\Big) \\\\\n",
    "& = \\binom{|m_l|}{0}\\Big(\\frac{\\partial^{|m_l|-0}}{\\partial z^{|m_l|-0}}\\frac{\\partial P_l}{\\partial z}\\Big)\\Big(\\frac{\\partial^{0}}{\\partial z^{0}}z\\Big) + \\binom{|m_l|}{1}\\Big(\\frac{\\partial^{|m_l|-1}}{\\partial z^{|m_l|-1}}\\frac{\\partial P_l}{\\partial z}\\Big)\\Big(\\frac{\\partial^{1}}{\\partial z^{1}}z\\Big) + 0 + \\cdots + 0 \\\\\n",
    "& = z\\frac{\\partial^{|m_l|+1}P_l}{\\partial z^{|m_l|+1}} + |m_l|\\frac{\\partial^{|m_l|}P_l}{\\partial z^{|m_l|}}.\n",
    "\\end{align}\n",
    "Substituindo na equação ($\\square$), obtemos\n",
    "\\begin{align}\n",
    "& (1-z^{2})\\frac{\\partial^{|m_l|+2}P_l}{\\partial z^{|m_l|+2}} -2z|m_l|\\frac{\\partial^{|m_l|+1}P_l}{\\partial z^{|m_l|+1}} -|m_l|(|m_l|-1)\\frac{\\partial^{|m_l|}P_l}{\\partial z^{|m_l|}} -2z\\frac{\\partial^{|m_l|+1}P_l}{\\partial z^{|m_l|+1}} -2|m_l|\\frac{\\partial^{|m_l|}P_l}{\\partial z^{|m_l|}} +l(l+1)\\frac{\\partial^{|m_l|}P_l}{\\partial z^{|m_l|}}=0 \\\\\n",
    "& \\therefore (1-z^{2})\\frac{\\partial^2}{\\partial z^2}\\frac{\\partial^{|m_l|}P_l}{\\partial z^{|m_l|}} -2z(|m_l|+1)\\frac{\\partial}{\\partial z}\\frac{\\partial^{|m_l|}P_l}{\\partial z^{|m_l|}}  +\\Big(l(l+1)-m_l^2-|m_l|\\Big)\\frac{\\partial^{|m_l|}P_l}{\\partial z^{|m_l|}}=0 \\\\\n",
    "& \\therefore (1-z^{2})\\frac{\\partial^2 u}{\\partial z^2} -2z(|m_l|+1)\\frac{\\partial u}{\\partial z}  +\\Big(l(l+1)-m_l^2-|m_l|\\Big)u=0, \\hspace{1cm} (*) \\\\\n",
    "\\end{align}"
   ]
  },
  {
   "cell_type": "markdown",
   "metadata": {},
   "source": [
    "em que definimos\n",
    "$$u = u(z) := \\frac{\\partial^{|m_l|}P_l}{\\partial z^{|m_l|}}.$$\n",
    "Temos que\n",
    "$$\\Theta(z) = (1-z^2)^{|m_l|/2}u(z)\\ \\therefore\\ u = (1-z^2)^{-|m_l|/2}\\Theta.$$\n",
    "Vem assim que\n",
    "\\begin{align}\n",
    "\\frac{\\partial u}{\\partial z} & = -\\frac{|m_l|}{2}(1-z^2)^{-|m_l|/2-1}(-2z)\\Theta + (1-z^2)^{-|m_l|/2}\\frac{\\partial \\Theta}{\\partial z} \\\\\n",
    " & = z|m_l|(1-z^2)^{-|m_l|/2-1}\\Theta + (1-z^2)^{-|m_l|/2}\\frac{\\partial \\Theta}{\\partial z} \\\\\n",
    "\\end{align}"
   ]
  },
  {
   "cell_type": "markdown",
   "metadata": {},
   "source": [
    "e\n",
    "\\begin{align}\n",
    "\\frac{\\partial^2 u}{\\partial z^2} & = |m_l|(1-z^2)^{-|m_l|/2-1}\\Theta + z|m_l|(-|m_l|/2-1)(1-z^2)^{-|m_l|/2-2}(-2z)\\Theta + z|m_l|(1-z^2)^{-|m_l|/2-1}\\frac{\\partial \\Theta}{\\partial z} \\\\\n",
    "& + (-|m_l|/2)(1-z^2)^{-|m_l|/2-1}(-2z)\\frac{\\partial \\Theta}{\\partial z} + (1-z^2)^{-|m_l|/2}\\frac{\\partial^2 \\Theta}{\\partial z^2} \\\\\n",
    "& = |m_l|(1-z^2)^{-|m_l|/2-1}\\Theta + 2z^2|m_l|(|m_l|/2+1)(1-z^2)^{-|m_l|/2-2}\\Theta + z|m_l|(1-z^2)^{-|m_l|/2-1}\\frac{\\partial \\Theta}{\\partial z} \\\\\n",
    "& + z|m_l|(1-z^2)^{-|m_l|/2-1}\\frac{\\partial \\Theta}{\\partial z} + (1-z^2)^{-|m_l|/2}\\frac{\\partial^2 \\Theta}{\\partial z^2} \\\\\n",
    "\\end{align}"
   ]
  },
  {
   "cell_type": "markdown",
   "metadata": {},
   "source": [
    "Substituindo na eq. ($*$) obtemos\n",
    "\\begin{align}\n",
    "& (1-z^{2})\\Big(|m_l|(1-z^2)^{-|m_l|/2-1}\\Theta + 2z^2|m_l|(|m_l|/2+1)(1-z^2)^{-|m_l|/2-2}\\Theta + z|m_l|(1-z^2)^{-|m_l|/2-1}\\frac{\\partial \\Theta}{\\partial z} \\\\\n",
    "& + z|m_l|(1-z^2)^{-|m_l|/2-1}\\frac{\\partial \\Theta}{\\partial z} + (1-z^2)^{-|m_l|/2}\\frac{\\partial^2 \\Theta}{\\partial z^2}\\Big) -2z(|m_l|+1)\\Big(z|m_l|(1-z^2)^{-|m_l|/2-1}\\Theta + (1-z^2)^{-|m_l|/2}\\frac{\\partial \\Theta}{\\partial z}\\Big)  \\\\\n",
    "& +\\Big(l(l+1)-m_l^2-|m_l|\\Big)(1-z^2)^{-|m_l|/2}\\Theta=0 \\\\\n",
    "& \\therefore\\ (1-z^2)^{-|m_l|/2}(1-z^2)\\frac{\\partial^2 \\Theta}{\\partial z^2} + (1-z^2)^{-|m_l|/2}\\Big(2z|m_l|-2z(|m_l|+1)\\Big)\\frac{\\partial \\Theta}{\\partial z} \\\\\n",
    "& + (1-z^2)^{-|m_l|/2}\\Big(|m_l|+2z^2|m_l|(|m_l|/2+1)(1-z^2)^{-1}-2z^2(|m_l|+1)|m_l|(1-z^2)^{-1}+l(l+1)-m_l^2-|m_l|\\Big)\\Theta = 0 \\\\\n",
    "& \\therefore\\ (1-z^2)\\frac{\\partial^2 \\Theta}{\\partial z^2} -2z\\frac{\\partial \\Theta}{\\partial z} + \\Big(l(l+1)-\\frac{m_l^2}{1-z^2}\\Big)\\Theta = 0,\n",
    "\\end{align}\n",
    "em que multiplicamos toda a equação por $(1-z^2)^{|m_l|/2}$ e usamos\n",
    "\\begin{align}\n",
    "& 2z^2|m_l|(|m_l|/2+1)(1-z^2)^{-1}-2z^2(|m_l|+1)|m_l|(1-z^2)^{-1}-m_l^2 \\\\\n",
    "& = \\frac{2z^2(|m_l|^2/2+|m_l|)-2z^2(|m_l|^2+|m_l|)|m_l|-m_l^2(1-z^2)}{1-z^2} \\\\\n",
    "& = \\frac{-z^2|m_l|^2-m_l^2(1-z^2)}{1-z^2} \\\\\n",
    "& = \\frac{-m_l^2}{1-z^2}.\n",
    "\\end{align}\n",
    "Com isso concluímos a demonstração. \n",
    "\n",
    "$\\square$"
   ]
  },
  {
   "cell_type": "markdown",
   "metadata": {},
   "source": [
    "Vamos obter a solução da eq. ($\\triangle$) por __séries de potências__. Para isso escrevemos\n",
    "\\begin{equation}\n",
    "P_{l}(z)=\\sum_{j=0}^{\\infty}a_{j}z^{j},\n",
    "\\end{equation}\n",
    "com $z\\in(-1,1)$, cujas derivadas são\n",
    "\\begin{align}\n",
    "& \\partial_{z}P_{z} = \\partial_{z}\\left(a_{0}+\\sum_{j=1}^{\\infty}a_{j}z^{j}\\right) = 0 + \\sum_{j=1}^{\\infty}a_{j}jz^{j-1}, \\\\ \n",
    "& \\partial_{zz}P_{z} = \\partial_{z}\\left(a_{1}+\\sum_{j=2}^{\\infty}a_{j}jz^{j-1}\\right) = 0 + \\sum_{j=2}^{\\infty}a_{j}j(j-1)z^{j-2}.\n",
    "\\end{align}\n",
    "\n",
    "Substituindo na eq. ($\\triangle$) obteremos\n",
    "\\begin{align}\n",
    "& 1-z^{2})\\frac{\\partial^{2}P_{l}(z)}{\\partial z^{2}}-2z\\frac{\\partial P_{l}(z)}{\\partial z}+l(l+1)P_{l}(z)=0 \\\\\n",
    "& \\therefore\\ (1-z^{2})\\sum_{j=2}^{\\infty}a_{j}j(j-1)z^{j-2} - 2z\\sum_{j=1}^{\\infty}a_{j}jz^{j-1} + l(l+1)\\sum_{j=0}^{\\infty}a_{j}z^{j}=0 \\\\\n",
    "& \\therefore \\sum_{j=2}^{\\infty}a_{j}j(j-1)z^{j-2} + \\sum_{j=2}^{\\infty}(-1)a_{j}j(j-1)z^{j} + \\sum_{j=1}^{\\infty}(-1)a_{j}2jz^{j} + \\sum_{j=0}^{\\infty}l(l+1)a_{j}z^{j}=0, \\\\\n",
    "& \\therefore \\sum_{k=0}^{\\infty}a_{k+2}(k+2)(k+1)z^{k} + \\sum_{j=0}^{\\infty}(-1)a_{j}j(j-1)z^{j} + \\sum_{j=0}^{\\infty}(-1)a_{j}2jz^{j} + \\sum_{j=0}^{\\infty}l(l+1)a_{j}z^{j}=0, \\\\\n",
    "& \\therefore \\sum_{j=0}^{\\infty}\\left(a_{j+2}(j+2)(j+1)-\\left(j(j+1)-l(l+1)\\right)a_j\\right)z^{j} = 0, \\\\\n",
    "& \\therefore a_{j+2}=\\frac{j(j+1)-l(l+1)}{(j+1)(j+2)}a_{j}.\n",
    "\\end{align}"
   ]
  },
  {
   "cell_type": "markdown",
   "metadata": {},
   "source": [
    "Assim como no caso da solução do oscilador harmônico quântico, aqui função de onda também deve ser uma função par ou uma função ímpar. Qual das opções teremos dependerá de $|m_{l}|$ e da paridade de $P_{l}(z)$:\n",
    "\\begin{align}\n",
    "& P_{l}^{p}(z)=\\sum_{j=0}^{\\infty}a_{2j}z^{2j}, \\\\\n",
    "& P_{l}^{i}(z)=\\sum_{j=0}^{\\infty}a_{2j+1}z^{2j+1}.\n",
    "\\end{align}\n",
    "Para qualquer um dos casos teremos o seguinte comportamento dos coeficientes para valores grandes de $j$:\n",
    "\\begin{equation}\n",
    "\\lim_{j\\gg 1}\\frac{a_{j+2}}{a_{j}} = \\lim_{j\\gg 1}\\frac{j(j+1)-l(l+1)}{(j+1)(j+2)} \\approx \\frac{j^{2}}{j^{2}}=1.\n",
    "\\end{equation}\n",
    "Lembrando, a razão entre termos sucessivos na expansão em série de Taylor de $e^{z^{2}}$ é aproximadamente igual a $1/j$, quando $j\\gg 1$. Vemos assim que $P_{l}(z)$ aumenta ainda mais rápido que $e^{z^{2}}$ para $j\\gg 1$. Por isso, i.e., por causa da divergência da série, temos que __truncar a série__, o que é feito impondo\n",
    "\\begin{equation}\n",
    "l=j \\text{ para } l = 0,1,2,\\cdots \\ \\therefore\\ l\\in\\mathbb{N}.\n",
    "\\end{equation}\n",
    "Vale observar que a divergência da série aqui é menos nítida do que no caso do OHQ1D pois aqui $z=\\cos\\theta\\in(-1,1)$, embora ela certamente acontece para o caso extremo $z=- 1$.\n",
    "\n",
    "Temos assim que \n",
    "\\begin{align}\n",
    "& P_{0}^{p}=a_{0}, \\\\\n",
    "& P_{0}^{i}=a_{1}z\n",
    "\\end{align}\n",
    "e\n",
    "\\begin{align}\n",
    "& P_{l}^{p}(z)=\\sum_{j=0}^{l/2}a_{2j}(l)z^{2j} \\text{, para } l=2,4,6,\\cdots, \\\\\n",
    "& P_{l}^{i}(z)=\\sum_{j=0}^{(l-1)/2}a_{2j+1}(l)z^{2j+1} \\text{, para } l=3,5,7,\\cdots,\n",
    "\\end{align}\n",
    "com \n",
    "$$a_{0}(l)=a_{0},\\ a_{1}(l)=a_{1}.$$"
   ]
  },
  {
   "cell_type": "markdown",
   "metadata": {},
   "source": [
    "Os polinômios de Legendre pares são obtidos como segue ($P_{0}^{p}=a_{0}$):\n",
    "\\begin{align}\n",
    "P_{2}^{p}(z) &= a_{0} + a_{2}(2)z^{2} \\\\\n",
    "& = a_{0} -3a_{0}(2)z^{2} \\\\ \n",
    "& = a_{0}(1-3z^{2}) \\\\\n",
    "& = -2a_{0}(3z^{2}-1)/2 \\\\\n",
    "& \\equiv -2a_{0}\\frac{1}{2!2^{2}}\\frac{\\partial^{2}}{\\partial z^{2}}(z^{2}-1)^{2}. \\\\\n",
    "\\end{align}\n",
    "em que usamos\n",
    "$$a_2(2)= a_{0+2}(2) = \\frac{0(0+1)-2(2+1)}{(0+1)(0+2)}a_0 = -\\frac{6}{2}a_0 = -3a_0.$$\n",
    "\n",
    "Temos também que\n",
    "\\begin{align}\n",
    "P_{4}^{p}(z) &= a_{0} + a_{2}(4)z^{2} + a_{4}(4)z^{4} \\\\\n",
    "& = a_{0} - 10a_{0}z^{2} + \\frac{35}{3}a_{0}z^{4} \\\\\n",
    "& = \\frac{8a_{0}}{3}\\left(3-30z^{2}+35z^{4}\\right)/8 \\\\\n",
    "& \\equiv \\frac{8a_{0}}{3}\\frac{1}{4!2^{4}}\\frac{\\partial^{4}}{\\partial z^{4}}(z^{2}-1)^{4},\n",
    "\\end{align}\n",
    "em que usamos\n",
    "\\begin{align}\n",
    "a_{2}(4) & = a_{0+2}(4) = \\frac{0(0+1)-4(4+1)}{(0+1)(0+2)}a_{0}(4) = -10a_0, \\\\\n",
    "a_{4}(4) & = a_{2+2}(4) = \\frac{2(2+1)-4(4+1)}{(2+1)(2+2)}a_{2}(4) = \\frac{6-20}{12}(-10a_0) = \\frac{35}{3}a_0.\n",
    "\\end{align}\n",
    "\n",
    "\n",
    "Generalizando, podemos fazer uso da _fórmula de Rodrigues_ para escrever $P_{l}^{p}$, a menos de uma constante multiplicada por $a_{0}$, e $P_{l}^{i}$, a menos de uma constante multiplicada por $a_{1}$, como os __polinômios de Legendre__:\n",
    "\\begin{equation}\n",
    "P_{l}(z) := \\frac{1}{l!2^{l}}\\frac{\\partial^{l}}{\\partial z^{l}}(z^{2}-1)^{l}.\n",
    "\\end{equation}\n",
    "Essas constantes multiplicativas serão embutidas na função de onda $\\Omega(r)$. O código Sympy/Python abaixo pode ser utilizado para obter a forma analítica e gráfica dos polinômios de Legendre."
   ]
  },
  {
   "cell_type": "code",
   "execution_count": 36,
   "metadata": {},
   "outputs": [
    {
     "name": "stdout",
     "output_type": "stream",
     "text": [
      "P_0= 1\n",
      "P_1= z\n",
      "P_2= 3*z**2/2 - 1/2\n",
      "P_3= z*(5*z**2 - 3)/2\n",
      "P_4= 35*z**4/8 - 15*z**2/4 + 3/8\n",
      "P_5= z*(63*z**4 - 70*z**2 + 15)/8\n",
      "P_6= 231*z**6/16 - 315*z**4/16 + 105*z**2/16 - 5/16\n",
      "P_7= z*(429*z**6 - 693*z**4 + 315*z**2 - 35)/16\n"
     ]
    }
   ],
   "source": [
    "from sympy import symbols, diff, factorial, simplify\n",
    "\n",
    "def rodrigues_legendre(l,z):\n",
    "    if l == 0:\n",
    "        return 1\n",
    "    elif l == 1:\n",
    "        return z\n",
    "    rod = (z**2-1)**l\n",
    "    for j in range(1,l+1):\n",
    "        rod = diff(rod,z)\n",
    "    return (1/(factorial(l)*2**l))*rod\n",
    "\n",
    "#simplify(rodrigues_legendre(15,z))\n",
    "z = symbols('z'); n = 8 # Polinômios de Legendre até l = n-1\n",
    "for l in range(0,n):\n",
    "    print('P_'+str(l)+'=',simplify(rodrigues_legendre(l,z)))"
   ]
  },
  {
   "cell_type": "code",
   "execution_count": 38,
   "metadata": {},
   "outputs": [
    {
     "data": {
      "image/png": "[encoded data removed]",
      "text/plain": [
       "<Figure size 600x400 with 1 Axes>"
      ]
     },
     "metadata": {},
     "output_type": "display_data"
    },
    {
     "data": {
      "application/vnd.jupyter.widget-view+json": {
       "model_id": "40661f5d34804669a0502f3169968805",
       "version_major": 2,
       "version_minor": 0
      },
      "text/plain": [
       "interactive(children=(IntSlider(value=5, description='l', max=10), Output()), _dom_classes=('widget-interact',…"
      ]
     },
     "execution_count": 38,
     "metadata": {},
     "output_type": "execute_result"
    }
   ],
   "source": [
    "import numpy as np\n",
    "from matplotlib import pyplot as plt\n",
    "from ipywidgets import interactive, interact, fixed, interact_manual, widgets\n",
    "import importlib\n",
    "\n",
    "def legengre_python(l,z): # Escreve pol. de Legendre em código Python\n",
    "    f = open(\"legendreP.py\",\"w\")\n",
    "    f.write(\"def legendre(z):\\n\")\n",
    "    f.write(\"    return \"+str(simplify(rodrigues_legendre(l,z))))\n",
    "    f.close()\n",
    "def plot_legendreP(l):\n",
    "    plt.figure(figsize = (6,4), dpi = 100)\n",
    "    import legendreP; importlib.reload(legendreP)\n",
    "    N = 300; xmin = -1; xmax = -xmin; dx = (xmax-xmin)/N; \n",
    "    x = np.zeros(N+1); y = np.zeros(N+1)\n",
    "    for j in range(0,N+1):\n",
    "        x[j] = xmin + j*dx; y[j] = legendreP.legendre(x[j])\n",
    "    plt.plot(x,y); plt.xlabel(r'$z$'); plt.ylabel(r'$P_{l}$')\n",
    "    plt.xlim(-1.1,1.1); plt.ylim(-1.1,1.1)\n",
    "    plt.annotate(r'$l=$'+str(l),xy=(0,0.9),xytext=(0,0.9),fontsize=12)\n",
    "    plt.title('Polinômios de Legendre')\n",
    "    plt.show()\n",
    "def plot_legendre(l):\n",
    "    legengre_python(l,z); import legendreP; \n",
    "    importlib.reload(legendreP); plot_legendreP(l)\n",
    "interactive(plot_legendre,l=(0,10,1))"
   ]
  },
  {
   "cell_type": "markdown",
   "metadata": {},
   "source": [
    "### Relação entre $l$ e $m_{l}$\n",
    "Lembrando, a função associada de Legendre, \n",
    "\\begin{equation}\n",
    "\\Theta_{l,m_{l}}(z) = (1-z^{2})^{|m_{l}|/2}\\frac{\\partial^{|m_{l}|}P_{l}(z)}{\\partial z^{|m_{l}|}},\n",
    "\\end{equation}\n",
    "envolve a derivada de ordem $|m_{l}|$ do polinômio de Legendre $P_{l}$, que é um polinômio de ordem $l$. Portanto\n",
    "$$|m_{l}|>l\\Rightarrow\\Theta_{l,m_{l}}(z)=0.$$\n",
    "Por isso, embora $m_{l}\\in\\mathbb{Z}$, temos que impor a restrição\n",
    "\\begin{align}\n",
    "& |m_{l}|\\le l \\\\\n",
    "& \\therefore\\  m_{l}=0,\\pm1,\\pm2,\\cdots,\\pm l \\text{, com } l\\in\\mathbb{N}_0.\n",
    "\\end{align}\n",
    "\n",
    "### Funções associadas de Legendre\n",
    "Vamos fazer alguns exemplos. Primeiro notamos que $\\Theta_{l,m_{l}}(z)=\\Theta_{l,-m_{l}}(z)$. Seguindo (lembrando $z=\\cos\\theta$):\n",
    "\\begin{align}\n",
    "\\Theta_{l=0,m_{l}=0}(z) & = (1-z^{2})^{(m_{l}=0)/2}\\frac{\\partial^{(|m_{l}|=0)}P_{(l=0)}(z)}{\\partial z^{(|m_{l}|=0)}}=1 \\therefore \\Theta_{l=0,m_{l}=0}(\\theta)=1, \\\\\n",
    "\\Theta_{1,0}(z) & = (1-z^{2})^{0/2}\\frac{\\partial^{0}P_{1}(z)}{\\partial z^{0}}=P_{1}(z)=z \\therefore \\Theta_{1,0}(\\theta)=\\cos\\theta, \\\\\n",
    "\\Theta_{1,\\pm1}(z) & = (1-z^{2})^{1/2}\\frac{\\partial^{1}P_{1}(z)}{\\partial z^{1}}=\\sqrt{1-z^{2}} \\therefore \\Theta_{1,\\pm1}(\\theta)=\\sin\\theta, \\\\\n",
    "\\Theta_{2,0}(z) & = (1-z^{2})^{0/2}\\frac{\\partial^{0}P_{2}(z)}{\\partial z^{0}} = P_{2}(z) = (3z^{2}-1)/2 \\therefore \\Theta_{2,0}(\\theta)=\\left(3\\cos^{2}\\theta-1\\right)/2, \\\\\n",
    "\\Theta_{2,\\pm1}(z) & = (1-z^{2})^{1/2}\\frac{\\partial^{1}P_{2}(z)}{\\partial z^{1}} = \\sqrt{1-z^{2}}3z \\therefore \\Theta_{2,1}(\\theta)=3\\sin\\theta\\cos\\theta, \\\\\n",
    "\\Theta_{2,\\pm2}(z) & = (1-z^{2})^{2/2}\\frac{\\partial^{2}P_{2}(z)}{\\partial z^{2}} = (1-z^{2})3 \\therefore \\Theta_{2,2}(\\theta)=3\\sin^{2}\\theta, \\\\\n",
    "& \\vdots\n",
    "\\end{align}\n",
    "\n",
    "A função Sympy abaixo pode ser usada para escrever explicitamente as funções associadas de Legendre, em termos de $z$. Na sequência estão funções em Python que podem ser utilizadas para visualizar essas funções analiticamente e graficamente."
   ]
  },
  {
   "cell_type": "code",
   "execution_count": 41,
   "metadata": {},
   "outputs": [
    {
     "name": "stdout",
     "output_type": "stream",
     "text": [
      "Theta_0,0 =  1\n",
      "Theta_1,0 =  z\n",
      "Theta_1,1 =  sqrt(1 - z**2)\n",
      "Theta_2,0 =  3*z**2/2 - 1/2\n",
      "Theta_2,1 =  3*z*sqrt(1 - z**2)\n",
      "Theta_2,2 =  3*(1 - z**2)**1.0\n",
      "Theta_3,0 =  z*(5*z**2 - 3)/2\n",
      "Theta_3,1 =  3*sqrt(1 - z**2)*(5*z**2 - 1)/2\n",
      "Theta_3,2 =  15*z*(1 - z**2)**1.0\n",
      "Theta_3,3 =  15*(1 - z**2)**1.5\n"
     ]
    }
   ],
   "source": [
    "from sympy import sqrt\n",
    "\n",
    "def legendre_associada(l,ml,z):\n",
    "    order = abs(ml)\n",
    "    if order == 0:\n",
    "        return rodrigues_legendre(l,z)\n",
    "    if order == 1:\n",
    "        return diff(rodrigues_legendre(l,z),z)*sqrt(1-z**2)\n",
    "    rod = rodrigues_legendre(l,z)\n",
    "    for j in range(1,order+1):\n",
    "        rod = diff(rod,z)\n",
    "    return rod*(1-z**2)**(order/2)\n",
    "\n",
    "n = 4 # Funções associadas de Legendre, ate l=n-1\n",
    "for l in range(0,n): \n",
    "    for ml in range(0,l+1):\n",
    "        print('Theta_'+str(l)+','+str(ml)+' = ',\n",
    "              simplify(legendre_associada(l,ml,z)))"
   ]
  },
  {
   "cell_type": "code",
   "execution_count": 43,
   "metadata": {},
   "outputs": [
    {
     "data": {
      "image/png": "[encoded data removed]",
      "text/plain": [
       "<Figure size 600x400 with 1 Axes>"
      ]
     },
     "metadata": {},
     "output_type": "display_data"
    },
    {
     "data": {
      "application/vnd.jupyter.widget-view+json": {
       "model_id": "12cc3a8d247c489e8d9e18b13e896fe7",
       "version_major": 2,
       "version_minor": 0
      },
      "text/plain": [
       "interactive(children=(IntSlider(value=2, description='l', max=5), IntSlider(value=0, description='ml', max=3, …"
      ]
     },
     "execution_count": 43,
     "metadata": {},
     "output_type": "execute_result"
    }
   ],
   "source": [
    "import math\n",
    "\n",
    "def legendreA_python(l,ml,z): # Escreve pol. de Legendre em código Python\n",
    "    f = open(\"legendreA.py\",\"w\")\n",
    "    f.write(\"import numpy as np \\n\"); f.write(\"\\n\")\n",
    "    f.write(\"def legendre_a(z):\\n\")\n",
    "    #f.write(\"    from math import sqrt\\n\");\n",
    "    f.write(\"    return \"+str(simplify(legendre_associada(l,ml,z))))\n",
    "    f.write(\"\\n\"); f.write(\"\\n\"); f.write(\"def sqrt(x):\\n\")\n",
    "    f.write(\"    return np.sqrt(x)\\n\"); f.close()\n",
    "def plot_legendreA(l,ml):\n",
    "    plt.figure(figsize = (6,4), dpi = 100)\n",
    "    import legendreA; importlib.reload(legendreA); xmin = 0; xmax = math.pi\n",
    "    x = np.arange(xmin,xmax,0.01); z = np.cos(x); y = legendreA.legendre_a(z)\n",
    "    plt.plot(x,y)\n",
    "    plt.xlabel(r'$\\theta$'); plt.xlim(-0.1,math.pi+0.1)\n",
    "    ym = np.amax(y); plt.ylim(-1.1*ym,1.1*ym); plt.ylabel(r'$\\Theta_{l,m_{l}}$')\n",
    "    plt.annotate(r'$l=$'+str(l)+','+r'$m_{l}=$'+str(ml), \n",
    "                 xy=(0.4*xmax,0), xytext=(0.4*xmax,0), fontsize=12)\n",
    "    plt.title('Funções associadas de Legendre')\n",
    "    plt.show()\n",
    "def plot_legendre_a(l,ml):\n",
    "    legendreA_python(l,ml,z); import legendreA; \n",
    "    importlib.reload(legendreA); plot_legendreA(l,ml)\n",
    "interactive(plot_legendre_a,l=(0,5,1),ml=(-l,l,1))"
   ]
  },
  {
   "cell_type": "markdown",
   "metadata": {},
   "source": [
    "---\n",
    "# Exercícios\n",
    "\n",
    "$1.$ Verifique que $e^{\\pm im_{l}\\phi}$, $\\cos(m_{l}\\phi)$ e $\\sin(m_{l}\\phi)$ são soluções particulares da equação diferencial $\\partial_{\\phi\\phi}\\Phi(\\phi)+m_{l}^{2}\\Phi(\\phi)=0$.\n",
    "\n",
    "$2.$ Para $\\Phi_{m_{l}}^{\\pm}(\\phi)=c_{+}e^{+im_{l}\\phi}\\pm c_{-}e^{-im_{l}\\phi}$ com $m_{l}\\in\\mathbb{Z}$, verifique que $\\partial_{\\phi}\\Phi_{m_{l}}^{\\pm}(\\phi+2\\pi)=\\partial_{\\phi}\\Phi_{m_{l}}^{\\pm}(\\phi)$.\n",
    "\n",
    "$3.$ Para $\\Phi_{m_{l}}^{\\pm}(\\phi)=c_{+}e^{+im_{l}\\phi}\\pm c_{-}e^{-im_{l}\\phi}$ com $m_{l}\\in\\mathbb{Z}$, verifique a condição de ortogonalidade $\\langle\\Phi_{m_{l}}^{\\pm}|\\Phi_{m'_{l}}^{\\pm}\\rangle:=\\int_{0}^{2\\pi}(\\Phi_{m_{l}}^{\\pm}(\\phi))^{*}\\Phi_{m'_{l}}^{\\pm}(\\phi)d\\phi=0$ para $m_{l}\\ne m'_{l}$.\n",
    "\n",
    "$4.$ Verifique que $\\vec{P}\\Phi_{m_{l}}^{\\pm}(\\phi)=\\hat{\\phi}\\frac{\\hbar m_{l}}{r\\sin\\theta}\\Phi_{m_{l}}^{\\mp}(\\phi)$ para $\\Phi_{m_{l}}^{\\pm}(\\phi)=c_{+}e^{+im_{l}\\phi}\\pm c_{-}e^{-im_{l}\\phi}$ com $m_{l}\\in\\mathbb{Z}$.\n",
    "\n",
    "$5.$ Verifique que $P_{l}^{i}(z) = ca_{1}\\frac{1}{l!2^{l}}\\frac{\\partial^{l}}{\\partial z^{l}}(z^{2}-1)^{l}$ para $l=3,5$, com $c$ sendo uma constante escolhida de maneira apropriada para cada $l$.\n",
    "\n",
    "$6.$ Para $l=3$, quais são os valores possíveis de $m_{l}$? Obtenha $\\Theta_{l=3,m_{l}}(\\theta)$."
   ]
  },
  {
   "cell_type": "markdown",
   "metadata": {},
   "source": [
    "---\n",
    "## Referências\n",
    "\n",
    "$9.$ EISBERG, R. M., RESNICK, R.. Quantum Physics of Atoms, Molecules, Solids, Nuclei, and Particles. John Wiley & Sons, California: 1985.\n",
    "\n",
    "$13.$ ARFKEN, G. B., WEBER, H. J.. Mathematical Methods for Physiscists. Elsevier, Oxford: 2005."
   ]
  }
 ],
 "metadata": {
  "kernelspec": {
   "display_name": "Python 3 (ipykernel)",
   "language": "python",
   "name": "python3"
  },
  "language_info": {
   "codemirror_mode": {
    "name": "ipython",
    "version": 3
   },
   "file_extension": ".py",
   "mimetype": "text/x-python",
   "name": "python",
   "nbconvert_exporter": "python",
   "pygments_lexer": "ipython3",
   "version": "3.12.2"
  }
 },
 "nbformat": 4,
 "nbformat_minor": 4
}
