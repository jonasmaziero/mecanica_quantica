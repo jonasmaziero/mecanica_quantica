{
 "cells": [
  {
   "cell_type": "markdown",
   "id": "4ae46450",
   "metadata": {},
   "source": [
    "### Notas de aula de Mecânica Quântica <br> Autor: Jonas Maziero"
   ]
  },
  {
   "cell_type": "markdown",
   "id": "a5fd24a0",
   "metadata": {},
   "source": [
    "# O estado fundamental do átomo de Hélio ($He$)\n",
    "O átomo de Hélio é constituído por 2 elétrons, 2 prótons e 2 nêutrons. Considerando somente energia cinética não relativística e energia potencial devido à interação coulombiana, e considerando o núcleo parado, o hamiltoniano deste átomo pode ser escrito como segue:\n",
    "\\begin{align}\n",
    "H & = K_{e_1} + K_{e_2} + U_{e_1 n} + U_{e_2 n} + U_{e_1 e_2} \\\\ \n",
    "& = -\\frac{\\hbar^{2}}{2m_{e}}\\big(\\nabla_{1}^{2}+\\nabla_{2}^{2}\\big)-ke^{2}\\Big(\\frac{2}{r_{1}}+\\frac{2}{r_{2}}-\\frac{1}{||\\vec{r}_{1}-\\vec{r}_{2}||}\\Big).\n",
    "\\end{align}\n",
    "Nesta equação o índice $s=1,2$ refere-se ao elétron $1,2$, respectivamente. Veja a figura abaixo.\n",
    "\n",
    "<img src='fig_He.png' width='250'>\n",
    "\n",
    "Nosso problema é calcular teoricamente a energia do estado fundamental deste átomo. Essa energia é igual à _energia necessária para arrancar os 2 elétrons do átomo_, e o valor dessa energia é conhecido do __experimento__:\n",
    "$$E_{0}^{exp} \\approx -78.935\\text{ eV}.$$"
   ]
  },
  {
   "cell_type": "markdown",
   "id": "7ca73989",
   "metadata": {},
   "source": [
    "A dificuldade em se resolver este problema se deve ao termo de repulsão elétron-elétron:\n",
    "$$U_{ee} = \\frac{ke^{2}}{||\\vec{r}_{1}-\\vec{r}_{2}||},$$\n",
    "pois sem esse termo teríamos um sistema equivalente a 2 átomos hidrogenóides independentes.\n",
    "\n",
    "## 1ª aproximação\n",
    "Se ignoramos o termo de repulsão elétron-elétron, o hamiltoniano fica escrito como\n",
    "\\begin{align}\n",
    "H_{ei} & = -\\frac{\\hbar^{2}}{2m_{e}}\\nabla_{1}^{2}-\\frac{2ke^{2}}{r_{1}}-\\frac{\\hbar^{2}}{2m_{e}}\\nabla_{2}^{2}-\\frac{2ke^{2}}{r_{2}} \\\\\n",
    "& = H_{1}^{h}+H_{2}^{h},\n",
    "\\end{align}\n",
    "que equivale à soma dos hamiltonianos de 2 átomos hidrogenóides independentes com número atômico \n",
    "$$Z=2.$$\n",
    "Seja $\\psi_{nlm_{l}}^{(j)}$ a autofunção de $H_{j}^{h}$, com $j=1,2$:\n",
    "$$H_j^h \\psi_{nlm_{l}}^{(j)} = E_n^{(0)}\\psi_{nlm_{l}}^{(j)},$$\n",
    "com $E_n^{(0)}$ sendo a autoenergia correspondentes. \n",
    "\n",
    "Como os dois elétrons são graus de liberdade diferentes, seu espaço de estados é\n",
    "$$\\mathcal{H} = \\mathcal{H}_1\\otimes\\mathcal{H}_2.$$\n",
    "Um estado produto desse sistema é representado na base da posição como segue\n",
    "$$\\psi_{nlm_{l}}^{(1)}\\psi_{n'l'm_{l}'}^{(2)} = \\psi_{nlm_{l}}^{(1)}(\\vec{r}_1)\\psi_{n'l'm_{l}'}^{(2)}(\\vec{r}_2)  = \\langle\\vec{r}_1|\\psi_{nlm_{l}}^{(1)}\\rangle\\langle\\vec{r}_2|\\psi_{n'l'm_{l}'}^{(2)}\\rangle = (\\langle\\vec{r}_1|\\otimes\\langle\\vec{r}_2|)(|\\psi_{nlm_{l}}^{(1)}\\rangle\\otimes|\\psi_{n'l'm_{l}'}^{(2)}\\rangle). $$\n",
    "Teremos assim que\n",
    "\\begin{align}\n",
    "H_{ei}\\psi_{nlm_{l}}^{(1)}\\psi_{n'l'm_{l}'}^{(2)} & = \\big(E_{n}^{(0)}+E_{n'}^{(0)}\\big)\\psi_{nlm_{l}}^{(1)}\\psi_{n'l'm_{l}'}^{(2)} \\\\\n",
    "& = E_{n,n'}^{ei}\\psi_{nlm_{l}}^{(1)}\\psi_{n'l'm_{l}'}^{(2)},\n",
    "\\end{align}\n",
    "com\n",
    "$$E_{n}^{(0)} = -\\frac{m_{e} Z^{2}k^{2}e^{4}}{2\\hbar^{2}}\\frac{1}{n^{2}} = Z^{2}\\Big(-\\frac{m_{e}k^{2}e^{4}}{2\\hbar^{2}}\\Big)\\frac{1}{n^{2}} = Z^{2}\\frac{E_{1}^{(0)}}{n^{2}},$$\n",
    "em que usamos \n",
    "$$E_{1}^{(0)} = -\\frac{m_{e}k^{2}e^{4}}{2\\hbar^{2}} = -\\frac{ke^{2}}{2a_{0}}.$$\n",
    "Com isso, para o estado fundamental teremos a seguinte aproximação para a energia (hamiltoniano de __elétrons independentes__):\n",
    "\\begin{align}\n",
    "E_{1,1}^{ei} & = E_{1}^{(0)}+E_{1}^{(0)} = 2(2^{2})E_{1}^{(0)} \\\\\\\n",
    "& \\approx -108.85\\text{ eV}.\n",
    "\\end{align}\n",
    "Note, essa é só uma 1ª aproximação, sem uso do método variacional. E notamos que essa 1ª aproximação está bem distante do valor experimental $E_{0}^{exp} \\approx -78.935\\text{ eV}$."
   ]
  },
  {
   "cell_type": "code",
   "execution_count": 1,
   "id": "70c41a46",
   "metadata": {},
   "outputs": [
    {
     "data": {
      "text/plain": [
       "(-13.605694947717485, -108.84555958173988)"
      ]
     },
     "execution_count": 1,
     "metadata": {},
     "output_type": "execute_result"
    }
   ],
   "source": [
    "import math\n",
    "e = 1.60217662*10**-19 # C (carga elementar)\n",
    "k = 8.9875517923*10**9 # Nm^2/C^2 (constante de Coulomb)\n",
    "h = 6.626069*10**-34 # Js (constante de Planck)\n",
    "hb = h/(2*math.pi) # hbar\n",
    "me = 9.109382*10**-31 # kg (massa do elétron)\n",
    "\n",
    "E10 = (-(me*k**2*e**4)/(2*hb**2))/e; E10, 2*2**2*(-(me*k**2*e**4)/(2*hb**2))/e"
   ]
  },
  {
   "cell_type": "markdown",
   "id": "bf7beb2c",
   "metadata": {},
   "source": [
    "## 2ª aproximação\n",
    "Para melhorar essa aproximação, mas ainda sem usar parâmetros variacionais, vamos considerar o hamiltoniano com o termo de interação elétron-elétron e vamos aproximar a energia do estado fundamental pelo valor médio do hamiltoninano. Para calcular esse valor médio, vamos usar como função de onda teste a autofunção de elétrons independentes:\n",
    "$$\\psi_{ei} = \\psi_{100}^{(1)}\\psi_{100}^{(2)} = \\frac{8}{\\pi a_{0}^{3}}e^{-2(r_{1}+r_{2})/a_{0}},$$\n",
    "em que usamos \n",
    "$$Z=2$$\n",
    "e \n",
    "$$\\psi_{1,0,0}^{(j)}(r_j,\\theta_j,\\phi_j) = \\psi_{1,0,0}^{(j)}(r_j) = \\left(\\frac{Z^{3}}{\\pi a_{0}^{3}}\\right)^{1/2}e^{-Zr_j/a_{0}}.$$\n",
    "Teremos assim que\n",
    "\\begin{align}\n",
    "\\langle H\\rangle_{\\psi_{ei}} & = \\langle(H_{ei} + U_{ee})\\rangle_{\\psi_{ei}} \\\\\n",
    "& = \\langle H_{ei}\\rangle_{\\psi_{ei}} + \\langle U_{ee}\\rangle_{\\psi_{ei}} \\\\\n",
    "& = -108.85\\text{ eV} + \\langle U_{ee}\\rangle_{\\psi_{ei}},\n",
    "\\end{align}\n",
    "em que\n",
    "\\begin{align}\n",
    "\\langle U_{ee}\\rangle_{\\psi_{ei}} & = \\iint d^{3}r_{1}d^{3}r_{2} U_{ee}|\\psi_{ei}|^{2} \\\\\n",
    "& = ke^{2}\\Big(\\frac{8}{\\pi a_{0}^{3}}\\Big)^{2}\\iint d^{3}r_{1}d^{3}r_{2} \\frac{e^{-4(r_{1}+r_{2})/a_{0}}}{||\\vec{r}_{1}-\\vec{r}_{2}||} \\\\\n",
    "&  = ke^{2}\\Big(\\frac{8}{\\pi a_{0}^{3}}\\Big)^{2}\\int d^{3}r_{1}e^{-4r_{1}/a_{0}}\\int d^{3}r_{2} \\frac{e^{-4r_{2}/a_{0}}}{||\\vec{r}_{1}-\\vec{r}_{2}||}.\n",
    "\\end{align}\n",
    "\n",
    "Para facilitar a resolução dessas integrais, vamos considerar o referencial e as posições dos elétrons e do núcleo como mostrado na figura abaixo."
   ]
  },
  {
   "cell_type": "markdown",
   "id": "1e8dda51",
   "metadata": {},
   "source": [
    "<img src='fig_He_referencial.png' width='300'>\n",
    "\n",
    "Usemos \n",
    "\\begin{align}\n",
    "||\\vec{r}_{1}-\\vec{r}_{2}|| & = \\sqrt{(\\vec{r}_{1}-\\vec{r}_{2})\\cdot(\\vec{r}_{1}-\\vec{r}_{2})} \\\\\n",
    "& = \\sqrt{r_{1}^{2}+r_{2}^{2}-2\\vec{r}_{1}\\cdot\\vec{r}_{2}} \\\\\n",
    "& = \\sqrt{r_{1}^{2}+r_{2}^{2}-2r_{1}r_{2}\\cos\\theta_{2}},\n",
    "\\end{align}\n",
    "em que $\\theta_{2}$ é o ângulo entre $\\vec{r}_{1}$ e $\\vec{r}_{2}$, para fazer primeiro a integral sobre o elétron 2:\n",
    "\\begin{align}\n",
    "\\int d^{3}r_{2} \\frac{e^{-4r_{2}/a_{0}}}{||\\vec{r}_{1}-\\vec{r}_{2}||} & = \\int_{0}^{\\infty}\\int_{0}^{\\pi}\\int_{0}^{2\\pi} r_{2}^{2}\\sin\\theta_{2}dr_{2}d\\theta_{2}d\\phi_{2} \\frac{e^{-4r_{2}/a_{0}}}{\\sqrt{r_{1}^{2}+r_{2}^{2}-2r_{1}r_{2}\\cos\\theta_{2}}} \\\\\n",
    "& = 2\\pi\\int_{0}^{\\infty}dr_{2}r_{2}^{2}e^{-4r_{2}/a_{0}}\\int_{0}^{\\pi}\\frac{d\\theta_{2}\\sin\\theta_{2}}{\\sqrt{r_{1}^{2}+r_{2}^{2}-2r_{1}r_{2}\\cos\\theta_{2}}} \\\\\n",
    "& = 2\\pi\\int_{0}^{\\infty}dr_{2}r_{2}^{2}e^{-4r_{2}/a_{0}}\\int u^{-1/2}\\frac{du}{2r_{1}r_{2}} \\\\\n",
    "& = \\frac{\\pi}{r_{1}}\\int_{0}^{\\infty}dr_{2}r_{2}e^{-4r_{2}/a_{0}}\\Big(\\frac{u^{1/2}}{1/2}\\Big) \\\\\n",
    "& = \\frac{2\\pi}{r_{1}}\\int_{0}^{\\infty}dr_{2}r_{2}e^{-4r_{2}/a_{0}}\\Big[\\sqrt{r_{1}^{2}+r_{2}^{2}-2r_{1}r_{2}\\cos\\theta_{2}}\\Big]_{0}^{\\pi} \\\\\n",
    "& = \\frac{2\\pi}{r_{1}}\\int_{0}^{\\infty}dr_{2}r_{2}e^{-4r_{2}/a_{0}}\\Big(\\sqrt{r_{1}^{2}+r_{2}^{2}+2r_{1}r_{2}} - \\sqrt{r_{1}^{2}+r_{2}^{2}-2r_{1}r_{2}}\\Big) \\\\\n",
    "& = \\frac{2\\pi}{r_{1}}\\int_{0}^{\\infty}dr_{2}r_{2}e^{-4r_{2}/a_{0}}\\Big(\\sqrt{(r_{1}+r_{2})^{2}} - \\sqrt{(r_{1}-r_{2})^{2}}\\Big) \\\\\n",
    "& = \\frac{2\\pi}{r_{1}}\\int_{0}^{\\infty}dr_{2}r_{2}e^{-4r_{2}/a_{0}}\\big(r_{1}+r_{2} - |r_{1}-r_{2}|\\big) \\\\\n",
    "& = \\frac{2\\pi}{r_{1}}\\int_{0}^{\\infty}dr_{2}r_{2}e^{-4r_{2}/a_{0}}\\times\\begin{cases} 2r_{2} \\text{ se } r_{1}\\ge r_{2}, \\\\\n",
    "2r_{1} \\text{ se } r_{1}<r_{2},\\end{cases} \\\\\n",
    "& = \\frac{4\\pi}{r_{1}}\\Big( \\int_{0}^{r_{1}}dr_{2}r_{2}^{2}e^{-4r_{2}/a_{0}} + r_{1}\\int_{r_{1}}^{\\infty}dr_{2}r_{2}e^{-4r_{2}/a_{0}} \\Big),\n",
    "\\end{align}\n",
    "em que fizemos a mudança de variável \n",
    "$$u = r_{1}^{2}+r_{2}^{2}-2r_{1}r_{2}\\cos\\theta_{2}\\ \\therefore\\ du = 2r_{1}r_{2}\\sin\\theta_{2}d\\theta_{2}.$$"
   ]
  },
  {
   "cell_type": "markdown",
   "id": "3ab1c288",
   "metadata": {},
   "source": [
    "Faremos uso de integração por partes para obter:\n",
    "\\begin{align}\n",
    "\\int xe^{-ax}dx & = x\\frac{e^{-ax}}{-a} - \\int \\frac{e^{-ax}}{-a}dx \\\\\n",
    "& = -x\\frac{e^{-ax}}{a} - \\frac{e^{-ax}}{a^2} \\\\\n",
    "& = -\\frac{1}{a}\\Big(x+\\frac{1}{a}\\Big)e^{-ax},\n",
    "\\end{align}\n",
    "em que usamos \n",
    "$$u=x\\ \\therefore\\ du=dx\\ \\text{e}\\ dv = e^{-ax}dx\\ \\therefore\\ v = \\frac{e^{-ax}}{-a}.$$\n",
    "\n",
    "Também precisaremos de\n",
    "\\begin{align}\n",
    "\\int x^{2}e^{-ax}dx & = x^{2}\\frac{e^{-ax}}{-a} - \\int \\frac{e^{-ax}}{-a}2xdx \\\\\n",
    "& = -\\frac{1}{a}\\Big(x^{2}e^{-ax} - 2\\int xe^{-ax}dx\\Big) \\\\\n",
    "& = -\\frac{1}{a}\\Big(x^{2}e^{-ax} - 2(-1)\\frac{1}{a}\\Big(x+\\frac{1}{a}\\Big)e^{-ax}\\Big) \\\\\n",
    "& = -\\frac{1}{a}\\Big(x^{2} +\\frac{2}{a}\\Big(x+\\frac{1}{a}\\Big)\\Big)e^{-ax},\n",
    "\\end{align}\n",
    "em que usamos \n",
    "$$u=x^{2}\\ \\therefore\\ du=2xdx\\ \\text{e}\\ dv = e^{-ax}dx\\ \\therefore\\ v = \\frac{e^{-ax}}{-a}.$$"
   ]
  },
  {
   "cell_type": "code",
   "execution_count": 2,
   "id": "5079c7d2",
   "metadata": {},
   "outputs": [
    {
     "data": {
      "image/png": "[encoded data removed]",
      "text/latex": [
       "$\\displaystyle \\left( \\frac{\\left(- a x - 1\\right) e^{- a x}}{a^{2}}, \\  \\frac{\\left(- a^{2} x^{2} - 2 a x - 2\\right) e^{- a x}}{a^{3}}\\right)$"
      ],
      "text/plain": [
       "⎛            -a⋅x  ⎛   2  2            ⎞  -a⋅x⎞\n",
       "⎜(-a⋅x - 1)⋅ℯ      ⎝- a ⋅x  - 2⋅a⋅x - 2⎠⋅ℯ    ⎟\n",
       "⎜────────────────, ───────────────────────────⎟\n",
       "⎜        2                       3            ⎟\n",
       "⎝       a                       a             ⎠"
      ]
     },
     "execution_count": 2,
     "metadata": {},
     "output_type": "execute_result"
    }
   ],
   "source": [
    "from sympy import init_printing, symbols, integrate, exp\n",
    "init_printing(use_unicode=True)\n",
    "x = symbols('x'); a = symbols('a', positive=True)\n",
    "integrate(x*exp(-a*x), x), integrate(x**2*exp(-a*x), x)"
   ]
  },
  {
   "cell_type": "markdown",
   "id": "1092ad88",
   "metadata": {},
   "source": [
    "Assim \n",
    "\\begin{align}\n",
    "\\int_{0}^{r_{1}}dr_{2}r_{2}^{2}e^{-4r_{2}/a_{0}} & = \\Big[-\\frac{a_{0}}{4}\\Big(r_{2}^{2} +\\frac{2a_{0}}{4}\\Big(r_{2}+\\frac{a_{0}}{4}\\Big)\\Big)e^{-4r_{2}/a_{0}}\\Big]_{0}^{r_{1}} \\\\\n",
    "& = -\\frac{a_{0}}{4}\\Big(r_{1}^{2} +\\frac{2a_{0}}{4}\\Big(r_{1}+\\frac{a_{0}}{4}\\Big)\\Big)e^{-4r_{1}/a_{0}} + \\frac{a_{0}}{4}\\Big(0^{2} +\\frac{2a_{0}}{4}\\Big(0+\\frac{a_{0}}{4}\\Big)\\Big)e^{-4(0)/a_{0}} \\\\\n",
    "& = -\\frac{a_{0}}{4}\\Big(r_{1}^{2} +\\frac{a_{0}}{2}\\Big(r_{1}+\\frac{a_{0}}{4}\\Big)\\Big)e^{-4r_{1}/a_{0}} + \\frac{a_{0}^{3}}{32}\n",
    "\\end{align}\n",
    "e \n",
    "\\begin{align}\n",
    "\\int_{r_{1}}^{\\infty}dr_{2}r_{2}e^{-4r_{2}/a_{0}} & = \\Big[ -\\frac{a_{0}}{4}\\Big(r_{2}+\\frac{a_{0}}{4}\\Big)e^{-4r_{2}/a_{0}}\\Big]_{r_{1}}^{\\infty} \\\\\n",
    "& = 0 + \\frac{a_{0}}{4}\\Big(r_{1}+\\frac{a_{0}}{4}\\Big)e^{-4r_{1}/a_{0}}.\n",
    "\\end{align}\n",
    "Por conseguinte\n",
    "\\begin{align}\n",
    "\\int d^{3}r_{2} \\frac{e^{-4r_{2}/a_{0}}}{||\\vec{r}_{1}-\\vec{r}_{2}||} & = \\frac{4\\pi}{r_{1}}\\Big( -\\frac{a_{0}}{4}\\Big(r_{1}^{2} +\\frac{a_{0}}{2}\\Big(r_{1}+\\frac{a_{0}}{4}\\Big)\\Big)e^{-4r_{1}/a_{0}} + \\frac{a_{0}^{3}}{32} + r_{1}\\frac{a_{0}}{4}\\Big(r_{1}+\\frac{a_{0}}{4}\\Big)e^{-4r_{1}/a_{0}} \\Big) \\\\\n",
    "& = \\frac{\\pi a_{0}^{3}}{8r_{1}}\\Big(1 -\\frac{32}{a_{0}^{3}}\\frac{a_{0}}{4}\\Big(r_{1}^{2} +\\frac{a_{0}}{2}\\Big(r_{1}+\\frac{a_{0}}{4}\\Big)-r_{1}^{2} - \\frac{a_{0}r_{1}}{4}\\Big)e^{-4r_{1}/a_{0}} \\Big) \\\\\n",
    "& = \\frac{\\pi a_{0}^{3}}{8r_{1}}\\Big(1 -\\frac{8}{a_{0}^{2}}\\frac{a_{0}}{2}\\Big(\\frac{r_{1}}{2}+\\frac{a_{0}}{4}\\Big)e^{-4r_{1}/a_{0}} \\Big) \\\\\n",
    "& = \\frac{\\pi a_{0}^{3}}{8r_{1}}\\Big(1 -\\Big(\\frac{2r_{1}}{a_{0}}+1\\Big)e^{-4r_{1}/a_{0}} \\Big).\n",
    "\\end{align}"
   ]
  },
  {
   "cell_type": "markdown",
   "id": "55e88b5e",
   "metadata": {},
   "source": [
    "Com isso, podemos voltar ao cálculo do valor médio da interação elétron-elétron\n",
    "\\begin{align}\n",
    "\\langle U_{ee}\\rangle_\\phi & = ke^{2}\\Big(\\frac{8}{\\pi a_{0}^{3}}\\Big)^{2}\\int d^{3}r_{1}e^{-4r_{1}/a_{0}}\\frac{\\pi a_{0}^{3}}{8r_{1}}\\Big(1 -\\Big(\\frac{2r_{1}}{a_{0}}+1\\Big)e^{-4r_{1}/a_{0}} \\Big) \\\\\n",
    "& = ke^{2}\\frac{8}{\\pi a_{0}^{3}}\\int_{0}^{2\\pi}d\\phi_{1}\\int_{0}^{\\pi}\\sin\\theta_{1}d\\theta_{1}\\int_{0}^{\\infty}r_{1}^{2}dr_{1}e^{-4r_{1}/a_{0}}\\frac{1}{r_{1}}\\Big(1 -\\Big(\\frac{2r_{1}}{a_{0}}+1\\Big)e^{-4r_{1}/a_{0}} \\Big) \\\\\n",
    "& = ke^{2}\\frac{8}{\\pi a_{0}^{3}}4\\pi\\int_{0}^{\\infty}dr_{1}\\Big(r_{1}e^{-4r_{1}/a_{0}} -\\Big(\\frac{2r_{1}^{2}}{a_{0}}+r_{1}\\Big)e^{-8r_{1}/a_{0}} \\Big) \\\\\n",
    "& = \\frac{32ke^{2}}{a_{0}^{3}}\\Big(\\Big[-\\frac{a_{0}}{4}\\Big(r_{1}+\\frac{a_{0}}{4}\\Big)e^{-4r_{1}/a_{0}}\\Big]_{0}^{\\infty} -\\frac{2}{a_{0}}\\Big[-\\frac{a_{0}}{8}\\Big(r_{1}^{2} +\\frac{2a_{0}}{8}\\Big(r_{1}+\\frac{a_{0}}{8}\\Big)\\Big)e^{-8r_{1}/a_{0}}\\Big]_{0}^{\\infty} \\\\\n",
    "& \\hspace{2.2cm} - \\Big[-\\frac{a_{0}}{8}\\Big(r_{1}+\\frac{a_{0}}{8}\\Big)e^{-8r_{1}/a_{0}}\\Big]_{0}^{\\infty}\\Big) \\\\\n",
    "& = \\frac{2^{5}ke^{2}}{a_{0}^{3}}\\Big(0+\\frac{a_{0}^{2}}{2^{4}} -\\frac{2}{a_{0}}\\Big(0+\\frac{a_{0}^{3}}{2^{8}}\\Big) - \\Big(0+\\frac{a_{0}^{2}}{2^{6}}\\Big)\\Big) \\\\\n",
    "& = \\frac{2^{5}ke^{2}}{a_{0}}\\frac{2^{3}-1-2^{1}}{2^{7}} \\\\\n",
    "& = \\frac{5ke^{2}}{4a_{0}} \\\\\n",
    "& \\approx 34.01 \\text{ eV}.\n",
    "\\end{align}"
   ]
  },
  {
   "cell_type": "code",
   "execution_count": 3,
   "id": "e5deea08",
   "metadata": {},
   "outputs": [
    {
     "data": {
      "image/png": "[encoded data removed]",
      "text/latex": [
       "$\\displaystyle \\left( 34.0142373692937, \\  -74.84\\right)$"
      ],
      "text/plain": [
       "(34.01423736929372, -74.84)"
      ]
     },
     "execution_count": 3,
     "metadata": {},
     "output_type": "execute_result"
    }
   ],
   "source": [
    "a0=(hb**2)/(me*k*e**2) # ~ 0.52917710^-10 m (raio de Bohr)\n",
    "((5*k*e**2)/(4*a0))/e, -108.85+34.01"
   ]
  },
  {
   "cell_type": "markdown",
   "id": "a5eaba93",
   "metadata": {},
   "source": [
    "Com isso, temos que o limite superior para a energia do estado fundamental do átomo de Hélio estimada usando como função de onda teste o produto das funções de onda dos elétrons independentes é dado por:\n",
    "\\begin{align}\n",
    "\\langle H\\rangle_{\\phi} & \\approx -108.85\\text{ eV} + 34.01 \\text{ eV} \\\\\n",
    "& = -74.84\\text{ eV},\n",
    "\\end{align}\n",
    "que está razoavelmente próximo do valor experimental, que é $E_{0}^{exp} \\approx -78.935\\text{ eV},$ sendo que aqui temos\n",
    "$$\\langle H\\rangle_{\\phi} > E_{0}^{exp},$$\n",
    "como esperado do teorema variacional.\n",
    "\n",
    "## 3ª aproximação\n",
    "Podemos, claro, melhorar este resultado. Notemos que ainda não fizemos nenhuma optimização sobre __parâmetros variacionais__. Uma dica sobre que parâmetro é esse pode ser obtida notando-se que estamos usando uma \"imagem\" clássica de elétrons pontuais, quando na verdade eles são objetos quânticos espalhados no espaço (são ondas de matéria). Esse espraiamento faz com que um elétron blinde o núcleo, fazendo com que o outro elétron interaja efetivamente com menos que $Z$ prótons. Para incluir esse efeito, vamos usar a função de onda teste dada pelo produto das autofunções de _átomos hidrogenóides_ com número atômico $Z$:\n",
    "\\begin{align}\n",
    "\\phi & = \\psi_{1,0,0}(r_{1},\\theta_{1},\\phi_{1})\\psi_{1,0,0}(r_{2},\\theta_{2},\\phi_{2}) \\\\\n",
    "& = \\frac{Z^{3}}{\\pi a_{0}^{3}}e^{-Z(r_{1}+r_{2})/a_{0}} \\\\\n",
    "& = \\phi(r_{1},r_{2},Z). \\hspace{5cm} (*)\n",
    "\\end{align}\n",
    "Como no método variacional não modificamos o Hamiltoniano do sistema, para utilizar os resultados conhecidos, vamos reescrever o Hamiltoniano do átomo de Hélio como segue\n",
    "$$H = -\\frac{\\hbar^{2}}{2m_{e}}\\big(\\nabla_{1}^{2}+\\nabla_{2}^{2}\\big)-ke^{2}\\Big(\\frac{Z}{r_{1}}+\\frac{Z}{r_{2}}\\Big) + ke^{2}\\Big(\\frac{Z-2}{r_{1}}+\\frac{Z-2}{r_{2}}+\\frac{1}{||\\vec{r}_{1}-\\vec{r}_{2}||}\\Big). \\hspace{1cm} (\\star)$$"
   ]
  },
  {
   "cell_type": "markdown",
   "id": "a5c0aa10",
   "metadata": {},
   "source": [
    "Os 2 primeiros termos correspondem à soma de Hamiltonianos de 2 átomos hidrogenóides com número atômico $Z$, que será nosso parâmetro variacional. Assim, pela forma da função de onda teste, pode-se verificar que\n",
    "\\begin{align}\n",
    "\\langle H\\rangle_{\\phi} & = 2Z^{2}E_{1}^{(0)} + 2ke^{2}(Z-2)\\Big\\langle\\frac{1}{r}\\Big\\rangle_{\\psi_{100}} + \\langle U_{ee}\\rangle_{\\phi} \\\\\n",
    "& = 2Z^{2}E_{1}^{(0)} + 2ke^{2}(Z-2)\\frac{Z}{a_{0}} + \\frac{Z}{2}\\frac{5ke^{2}}{4a_{0}}  \\hspace{3cm} (\\diamond) \\\\\n",
    "& = 2Z^{2}E_{1}^{(0)} + 4(Z^{2}-2Z)\\frac{ke^{2}}{2a_{0}} + \\frac{5Z}{4}\\frac{ke^{2}}{2a_{0}} \\\\\n",
    "& = \\Big(2Z^{2} - 4(Z^{2}-2Z) - \\frac{5Z}{4}\\Big)E_{1}^{(0)} \\\\\n",
    "& = \\Big(-2Z^{2} + (8-5/4)Z\\Big)E_{1}^{(0)},\n",
    "\\end{align}\n",
    "em que usamos \n",
    "\\begin{align}\n",
    "& \\left\\langle\\frac{1}{r_1}\\right\\rangle_{\\psi_{n,l,m_{l}}} = \\left\\langle\\frac{1}{r_2}\\right\\rangle_{\\psi_{n,l,m_{l}}} = \\left\\langle\\frac{1}{r}\\right\\rangle_{\\psi_{n,l,m_{l}}} = \\frac{Z}{a_{0}n^{2}},\\\\\n",
    "& \\langle U_{ee}\\rangle_{\\phi(r_{1},r_{2},Z)} = \\frac{Z}{2}\\langle U_{ee}\\rangle_{\\phi(r_{1},r_{2},2)},\\\\\n",
    "& E_{1}^{(0)} = -\\frac{ke^{2}}{2a_{0}}.\n",
    "\\end{align}"
   ]
  },
  {
   "cell_type": "markdown",
   "id": "65070e3a",
   "metadata": {},
   "source": [
    "Obtemos o parâmetro variacional ótimo de\n",
    "\\begin{align}\n",
    "& \\partial_{Z}\\langle H\\rangle_{\\phi} = 0 \\\\\n",
    "& \\therefore\\ \\big(-4Z+(8-5/4)\\big)E_{1}^{(0)}=0 \\\\\n",
    "& \\therefore\\ Z_{opt} = \\frac{8-5/4}{4} = 1.6875.\n",
    "\\end{align}\n",
    "Note que esse é de fato um ponto de mínimo pois \n",
    "$$\\partial_{ZZ}\\langle H\\rangle = -4E_1^{(0)} > 0.$$\n",
    "\n",
    "Usando este valor de $Z$, teremos a seguinte estimativa variacional para a energia do estado fundamental do átomo de Hélio:\n",
    "\\begin{align}\n",
    "\\langle H\\rangle_{\\phi} & = \\Big(-2Z_{opt}^{2} + (8-5/4)Z_{opt}\\Big)E_{1}^{(0)} \\\\\n",
    "& \\approx -77.49\\text{ eV},\n",
    "\\end{align}\n",
    "que está ainda mais próxima do valor experimental \n",
    "$$E_{0}^{exp} \\approx -78.935\\text{ eV}.$$\n",
    "\n",
    "Pode-se continuar melhorando esse resultado pela adição de mais parâmetros variacionais na função de onda teste ou mudando a função de onda teste, como já foi feito na literatura."
   ]
  },
  {
   "cell_type": "code",
   "execution_count": 4,
   "id": "80f4f44d",
   "metadata": {},
   "outputs": [
    {
     "data": {
      "image/png": "[encoded data removed]",
      "text/latex": [
       "$\\displaystyle 1.6875$"
      ],
      "text/plain": [
       "1.6875"
      ]
     },
     "execution_count": 4,
     "metadata": {},
     "output_type": "execute_result"
    }
   ],
   "source": [
    "Zopt = (8-5/4)/4; Zopt"
   ]
  },
  {
   "cell_type": "code",
   "execution_count": 5,
   "id": "2a225cd8",
   "metadata": {},
   "outputs": [
    {
     "data": {
      "image/png": "[encoded data removed]",
      "text/latex": [
       "$\\displaystyle -77.4886845069222$"
      ],
      "text/plain": [
       "-77.48868450692224"
      ]
     },
     "execution_count": 5,
     "metadata": {},
     "output_type": "execute_result"
    }
   ],
   "source": [
    "(-2*Zopt**2 + (8-5/4)*Zopt)*E10"
   ]
  },
  {
   "cell_type": "markdown",
   "id": "3c2169b8",
   "metadata": {},
   "source": [
    "## Exercícios\n",
    "\n",
    "$1.$ Verifique que para a função de onda teste da eq. ($*$), o valor médio do hamiltoniano da eq. ($\\star$) é dado pela expressão na eq. ($\\diamond$)."
   ]
  },
  {
   "cell_type": "markdown",
   "id": "657ae07a-b991-4142-97c8-22adadcfdd14",
   "metadata": {},
   "source": [
    "## Referências\n",
    "\n",
    "$1.$ GRIFFITHS, D. J. Introduction to Quantum Mechanics. Prentice Hall, Upper Saddle River: 2005.\n",
    "\n",
    "$2.$ PAULING, L., WILSON JR, E. B.. Introduction to Quantum Mechanics With Applications to Chemistry. Dover Publications, Nova York: 1963."
   ]
  }
 ],
 "metadata": {
  "kernelspec": {
   "display_name": "Python 3 (ipykernel)",
   "language": "python",
   "name": "python3"
  },
  "language_info": {
   "codemirror_mode": {
    "name": "ipython",
    "version": 3
   },
   "file_extension": ".py",
   "mimetype": "text/x-python",
   "name": "python",
   "nbconvert_exporter": "python",
   "pygments_lexer": "ipython3",
   "version": "3.11.1"
  }
 },
 "nbformat": 4,
 "nbformat_minor": 5
}
