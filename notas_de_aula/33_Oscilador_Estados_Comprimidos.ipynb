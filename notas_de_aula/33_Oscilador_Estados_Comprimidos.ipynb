{
 "cells": [
  {
   "cell_type": "markdown",
   "id": "5fd265b0",
   "metadata": {},
   "source": [
    "### Notas de aula de Mecânica Quântica <br> Autor: Jonas Maziero\n",
    "---"
   ]
  },
  {
   "cell_type": "markdown",
   "id": "5a2aecfa",
   "metadata": {},
   "source": [
    "# Estados comprimidos <br> Oscilador harmônico com perturbação na frequência\n",
    "\n",
    "## Solução perturbativa\n",
    "Relembrando, o hamiltoniano do oscilador harmônico quântico unidimensional (OHQ1D) é\n",
    "$$H_{0} = \\frac{P^{2}}{2m}+\\frac{kX^{2}}{2} = \\hbar\\omega\\big(a^{\\dagger}a+\\mathbb{I}/2\\big),$$\n",
    "com a frequência angular dada por\n",
    "$$\\omega = \\sqrt{\\frac{k}{m}}.$$\n",
    "Lembrando, para o OHQ1D temos \n",
    "$$E_{n}^{(0)}=\\hbar\\omega(n+1/2),\\ |\\psi_{n}^{(0)}\\rangle=|n\\rangle \\text{ com } n=0,1,2,\\cdots,\\infty.$$\n",
    "\n",
    "\n",
    "Vamos considerar uma perturbação na frequência desse OHQ1D, o que pode ser obtido mudando-se a massa $m$ da partícula oscilante ou a constante elástica $k$, ou ambos. Vamos escolher mudar perturbativamente $k$, o que nos leva ao novo hamiltoniano\n",
    "\\begin{align}\n",
    "H & = \\frac{P^{2}}{2m} + \\frac{k'X^{2}}{2}  \\\\\n",
    "& = \\frac{P^{2}}{2m} + \\frac{kX^{2}}{2} -  \\frac{kX^{2}}{2} +  \\frac{k'X^{2}}{2} \\\\\n",
    "& = H_{0} + H_{1}\n",
    "\\end{align}"
   ]
  },
  {
   "cell_type": "markdown",
   "id": "e65662e8",
   "metadata": {},
   "source": [
    "com o hamiltoniano de perturbação definido como\n",
    "\\begin{align}\n",
    "H_{1} & = \\frac{(k'-k)X^{2}}{2} \\\\\n",
    "& = \\frac{(k'-k)}{2}\\frac{\\hbar}{2m\\omega}\\big(a^{\\dagger}+a\\big)^{2}  \\\\\n",
    "& = \\frac{m(\\omega'^{2}-\\omega^{2})}{2}\\frac{\\hbar}{2m\\omega}\\big(a^{\\dagger}+a\\big)^{2} \\\\\n",
    "& := \\frac{\\hbar\\xi}{4\\omega}\\big(a^{\\dagger}+a\\big)^{2},\n",
    "\\end{align}\n",
    "em que usamos\n",
    "$$X = \\sqrt{\\frac{\\hbar}{2m\\omega}}\\big(a^{\\dagger}+a\\big)$$\n",
    "e definimos\n",
    "$$\\xi := \\omega'^{2}-\\omega^{2} = \\frac{k'-k}{m}.$$"
   ]
  },
  {
   "cell_type": "markdown",
   "id": "24348d55",
   "metadata": {},
   "source": [
    "As correções perturbativas de 1ª ordem para as energias do OHQ1D são dadas por:\n",
    "\\begin{align}\n",
    "E_{n}^{(1)} & = \\langle \\psi_{n}^{(0)}|H_{1}|\\psi_{n}^{(0)}\\rangle \\\\\n",
    "& = \\langle n|\\frac{\\hbar\\xi}{4\\omega}\\big(a^{\\dagger}+a\\big)^{2}|n\\rangle \\\\\n",
    "& = \\frac{\\hbar\\xi}{4\\omega}\\langle n|\\big(a^{\\dagger}+a\\big)\\big(a^{\\dagger}+a\\big)|n\\rangle \\\\\n",
    "& = \\frac{\\hbar\\xi}{4\\omega}\\langle n|\\big(a^{\\dagger}a^{\\dagger}+a^{\\dagger}a+aa^{\\dagger}+aa\\big)|n\\rangle \\\\\n",
    "& = \\frac{\\hbar\\xi}{4\\omega}\\langle n|\\big(a^{\\dagger}a^{\\dagger}+N+\\mathbb{I}+N+aa\\big)|n\\rangle \\\\\n",
    "& = \\frac{\\hbar\\xi}{4\\omega}(2n+1) \\\\\n",
    "& = \\frac{\\xi}{2\\omega^{2}}\\hbar\\omega(n+1/2) \\\\\n",
    "& = \\frac{\\xi}{2\\omega^{2}}E_{n}^{(0)},\n",
    "\\end{align}\n",
    "em que usamos\n",
    "$$[a,a^{\\dagger}]=aa^{\\dagger} -a^{\\dagger}a=I\\ \\therefore\\ aa^{\\dagger}=I+a^{\\dagger}a=I+N.$$"
   ]
  },
  {
   "cell_type": "markdown",
   "id": "b698c920",
   "metadata": {},
   "source": [
    "As correções perturbativas de 2ª ordem para as energias do OHQ1D são obtidas como segue:\n",
    "\\begin{align}\n",
    "E_{n}^{(2)} & = \\sum_{m\\ne n}\\frac{|\\langle\\psi_{n}^{(0)}|H_{1}|\\psi_{m}^{(0)}\\rangle|^{2}}{E_{n}^{(0)}-E_{m}^{(0)}} \\\\\n",
    "& = \\sum_{m\\ne n}\\frac{|\\langle n|\\frac{\\hbar\\xi}{4\\omega}\\big(a^{\\dagger}+a\\big)^{2}|m\\rangle|^{2}}{\\hbar\\omega(n+1/2)-\\hbar\\omega(m+1/2)} \\\\\n",
    "& = \\frac{\\hbar^{2}\\xi^{2}}{16\\omega^{2}\\hbar\\omega}\\sum_{m\\ne n}\\frac{|\\langle n|\\big(a^{\\dagger}a^{\\dagger}+a^{\\dagger}a+aa^{\\dagger}+aa\\big)|m\\rangle|^{2}}{n-m} \\\\\n",
    "& = \\frac{\\xi^{2}}{16\\omega^{4}}\\hbar\\omega\\sum_{m\\ne n}\\frac{|\\langle n|\\big(a^{\\dagger}\\sqrt{m+1}|m+1\\rangle+a^{\\dagger}\\sqrt{m}|m-1\\rangle+a\\sqrt{m+1}|m+1\\rangle+a\\sqrt{m}|m-1\\rangle\\big)|^{2}}{n-m} \\\\\n",
    "& = \\frac{\\xi^{2})^{2}}{16\\omega^{4}}\\hbar\\omega\\sum_{m\\ne n}\\frac{|\\langle n|\\big(\\sqrt{(m+1)(m+2)}|m+2\\rangle+m|m\\rangle+(m+1)|m\\rangle+\\sqrt{m(m-1)}|m-2\\rangle\\big)|^{2}}{n-m} \\\\\n",
    "& = \\frac{\\xi^{2}}{16\\omega^{4}}\\hbar\\omega\\sum_{m\\ne n}\\frac{|\\sqrt{(m+1)(m+2)}\\delta_{n,m+2}+m\\delta_{n,m}+(m+1)\\delta_{n,m}+\\sqrt{m(m-1)}\\delta_{n,m-2}|^{2}}{n-m} \\\\\n",
    "& = \\frac{\\xi^{2}}{16\\omega^{4}}\\hbar\\omega\\Big(\\frac{|\\sqrt{(n-2+1)(n-2+2)}|^{2}}{n-n+2} +0 +0 + \\frac{|\\sqrt{(n+2)(n+2-1)}|^{2}}{n-n-2}\\Big) \\\\\n",
    "& = \\frac{\\xi^{2}}{16\\omega^{4}}\\hbar\\omega\\Big(\\frac{(n-1)n}{2} + \\frac{(n+2)(n+1)}{-2}\\Big) \\\\\n",
    "& = \\frac{\\xi^{2}}{16\\omega^{4}}\\hbar\\omega\\Big(\\frac{-4(n+1/2)}{2}\\Big) \\\\\n",
    "& = -\\frac{1}{2}\\left(\\frac{\\xi}{2\\omega^{2}}\\right)^{2}\\hbar\\omega(n+1/2) \\\\\n",
    "& = -\\frac{1}{2}\\left(\\frac{\\xi}{2\\omega^{2}}\\right)^{2}E_{n}^{(0)}.\n",
    "\\end{align}"
   ]
  },
  {
   "cell_type": "markdown",
   "id": "00e98453",
   "metadata": {},
   "source": [
    "Também podemos calcular as correções perturbativas de 1ª ordem para os autovetores do OHQ1D:\n",
    "\\begin{align}\n",
    "|\\psi_{n}^{(1)}\\rangle & = \\sum_{m\\ne n}\\frac{\\langle\\psi_{m}^{(0)}|H_{1}|\\psi_{n}^{(0)}\\rangle}{E_{n}^{(0)}-E_{m}^{(0)}}|\\psi_{m}^{(0)}\\rangle \\\\\n",
    "& = \\sum_{m\\ne n}\\frac{\\langle m|\\frac{\\hbar\\xi}{4\\omega}\\big(a^{\\dagger}+a\\big)^{2}| n\\rangle}{\\hbar\\omega(n+1/2)-\\hbar\\omega(m+1/2)}|m\\rangle \\\\\n",
    "& = \\frac{\\xi}{4\\omega^{2}}\\sum_{m\\ne n}\\frac{\\sqrt{(n+1)(n+2)}\\delta_{m,n+2}+(2n+1)\\delta_{m,n} + \\sqrt{n(n-1)}\\delta_{m,n-2}}{n-m}|m\\rangle \\\\\n",
    "& = \\frac{\\xi}{4\\omega^{2}}\\Big(\\frac{\\sqrt{(n+1)(n+2)}}{n-n-2}|n+2\\rangle +0+ \\frac{\\sqrt{n(n-1)}}{n-n+2}|n-2\\rangle\\Big) \\\\\n",
    "& = \\frac{\\xi}{8\\omega^{2}}\\Big(-\\sqrt{(n+1)(n+2)}|n+2\\rangle + \\sqrt{n(n-1)}|n-2\\rangle\\Big). \\hspace{1cm} (\\star)\n",
    "\\end{align}\n",
    "Assim\n",
    "\\begin{align}\n",
    "|\\psi_{n}\\rangle & \\approx \\frac{|\\psi_{n}^{(0)}\\rangle + |\\psi_{n}^{(1)}\\rangle}{|||\\psi_{n}^{(0)}\\rangle + |\\psi_{n}^{(1)}\\rangle||} \\\\\n",
    "& = \\frac{|n\\rangle + \\frac{\\xi}{8\\omega^{2}}\\Big(-\\sqrt{(n+1)(n+2)}|n+2\\rangle + \\sqrt{n(n-1)}|n-2\\rangle\\Big)}{|||n\\rangle + \\frac{\\xi}{8\\omega^{2}}\\Big(-\\sqrt{(n+1)(n+2)}|n+2\\rangle + \\sqrt{n(n-1)}|n-2\\rangle\\Big)||}.\n",
    "\\end{align}"
   ]
  },
  {
   "cell_type": "markdown",
   "id": "b8aef7f5",
   "metadata": {},
   "source": [
    "## Solução exata\n",
    "\n",
    "Uma forma de obter solução exata para o caso perturbado é se pudermos escrever o hamiltoniano como \n",
    "$$H = \\frac{P^{2}}{2m} + \\frac{m\\omega'^{2}X^{2}}{2} = \\hbar\\omega'\\big(A^{\\dagger}A+I/2\\big)$$\n",
    "com os operadores $A$ e $A^{\\dagger}$ satisfazendo a relação de comutação\n",
    "$$[A,A^{\\dagger}]=I.$$\n",
    "\n",
    "No caso do OHQ1D não perturbado, tínhamos que \n",
    "$$X\\propto a^{\\dagger}+a \\text{ e } P\\propto a^{\\dagger}-a.$$ \n",
    "Então, vamos fazer a __imposição__ de que\n",
    "$$X = \\alpha(A^{\\dagger}+A) \\text{ e } P = \\beta(A^{\\dagger}-A), \\hspace{1cm} (*)$$\n",
    "e vamos __impor__ que o hamitoniano tenha a forma $\\hbar\\omega'\\big(A^{\\dagger}A+I/2\\big)$:\n",
    "\\begin{align}\n",
    "H & = \\frac{P^{2}}{2m} + \\frac{m\\omega'^{2}X^{2}}{2} \\\\\n",
    "& = \\frac{\\beta^{2}(A^{\\dagger}-A)^{2}}{2m} + \\frac{m\\omega'^{2}\\alpha^{2}(A^{\\dagger}+A)^{2}}{2} \\\\\n",
    "& = \\frac{\\beta^{2}(A^{\\dagger}A^{\\dagger}-A^{\\dagger}A-AA^{\\dagger}+AA)}{2m} + \\frac{m\\omega'^{2}\\alpha^{2}(A^{\\dagger}A^{\\dagger}+A^{\\dagger}A+AA^{\\dagger}+AA))}{2} \\\\\n",
    "& = \\frac{\\beta^{2}(A^{\\dagger}A^{\\dagger}-2(A^{\\dagger}A+I/2)+AA)}{2m} + \\frac{m\\omega'^{2}\\alpha^2(A^{\\dagger}A^{\\dagger}+2(A^{\\dagger}A+I/2)+AA))}{2} \\\\\n",
    "& = (A^{\\dagger}A^{\\dagger}+AA)\\Big(\\frac{\\beta^{2}}{2m}+\\frac{m\\omega'^{2}\\alpha^{2}}{2}\\Big) + (A^{\\dagger}A+I/2)\\Big(-\\frac{\\beta^{2}}{m}+m\\omega'^{2}\\alpha^{2}\\Big) \\\\\n",
    "& := (A^{\\dagger}A^{\\dagger}+AA)0 + (A^{\\dagger}A+I/2)\\hbar\\omega'.\n",
    "\\end{align}"
   ]
  },
  {
   "cell_type": "markdown",
   "id": "d0718066",
   "metadata": {},
   "source": [
    "Portanto\n",
    "\\begin{align}\n",
    "& \\frac{\\beta^{2}}{2m}+\\frac{m\\omega'^{2}\\alpha^{2}}{2} = 0 \\ \\therefore\\ \\beta^{2} = -m^{2}\\omega'^{2}\\alpha^{2}, \\\\\n",
    "& -\\frac{\\beta^{2}}{m}+m\\omega'^{2}\\alpha^{2} = \\hbar\\omega' = -\\frac{-m^{2}\\omega'^{2}\\alpha^{2}}{m}+m\\omega'^{2}\\alpha^{2} = 2m\\omega'^{2}\\alpha^{2} \\\\\n",
    "& \\therefore\\ \\alpha^{2} = \\frac{\\hbar}{2m\\omega'} \\ \\therefore\\ \\alpha = \\sqrt{\\frac{\\hbar}{2m\\omega'}} \\\\\n",
    "& \\therefore\\ \\beta^{2} = -m^{2}\\omega'^{2}\\frac{\\hbar}{2m\\omega'} = -\\frac{\\hbar m\\omega'}{2} \\ \\therefore\\ \\beta = i\\sqrt{\\frac{\\hbar m\\omega'}{2}}.\n",
    "\\end{align}\n",
    "\n",
    "Da relação na eq. $(*)$ temos também que\n",
    "\\begin{align}\n",
    "A & = \\frac{1}{2}\\Big(\\frac{X}{\\alpha}-\\frac{P}{\\beta}\\Big), \\\\\n",
    "& = \\frac{1}{2}\\Big(\\sqrt{\\frac{2m\\omega'}{\\hbar}}X-\\frac{1}{i}\\sqrt{\\frac{2}{\\hbar m\\omega'}}P\\Big), \\\\\n",
    "& = \\sqrt{\\frac{m\\omega'}{2\\hbar}}\\Big(X+i\\sqrt{\\frac{\\hbar}{2m\\omega'}}\\sqrt{\\frac{2}{\\hbar m\\omega'}}P\\Big), \\\\\n",
    "& = \\sqrt{\\frac{m\\omega'}{2\\hbar}}\\Big(X+\\frac{i}{m\\omega'}P\\Big), \\\\\n",
    "A^{\\dagger} & = \\frac{1}{2}\\Big(\\frac{X}{\\alpha}+\\frac{P}{\\beta}\\Big) \\\\\n",
    "& = \\sqrt{\\frac{m\\omega'}{2\\hbar}}\\Big(X-\\frac{i}{m\\omega'}P\\Big).\n",
    "\\end{align}"
   ]
  },
  {
   "cell_type": "markdown",
   "id": "ad50584d",
   "metadata": {},
   "source": [
    "Feito isso, como a __álgebra__ dos operadores $A,A^{\\dagger}$ é a mesma que para os operadores de criação e aniquilação não perturbados, a solução analítica também é obtida do mesmo modo. Ou seja\n",
    "$$H|n'\\rangle = E_{n'}|n'\\rangle$$\n",
    "com\n",
    "$$E_{n'} = \\hbar\\omega'(n'+1/2) \\text{ e } n'=0,1,2,\\cdots,\\infty.$$\n",
    "\n",
    "Ademais, a ação desses novos operadores de criação e aniquilação é\n",
    "\\begin{align}\n",
    "& A|n'\\rangle=\\sqrt{n'}|n'-1\\rangle, \\\\\n",
    "& A^{\\dagger}|n'\\rangle=\\sqrt{n'+1}|n'+1\\rangle.\n",
    "\\end{align}\n",
    "\n",
    "Também podemos verificar que\n",
    "\\begin{align}\n",
    "|n'\\rangle = \\frac{1}{\\sqrt{n'!}}\\big(A^{\\dagger}\\big)^{n}|0'\\rangle.\n",
    "\\end{align}"
   ]
  },
  {
   "cell_type": "markdown",
   "id": "b7963916",
   "metadata": {},
   "source": [
    "Agora podemos __comparar essa solução analítica com aquela obtida por teoria de perturbação__. Para os __autovalores__, lembramos da definição\n",
    "\\begin{align}\n",
    "& \\xi=\\omega'^{2}-\\omega^{2} \\\\ \n",
    "& \\therefore\\ \\omega' = \\sqrt{\\omega^{2}+\\xi} = \\omega\\sqrt{1+\\xi/\\omega^{2}} \\\\\n",
    "& \\hspace{1.2cm} = \\omega\\Big(1+\\frac{\\xi}{2\\omega^{2}} - \\frac{1}{8}\\Big(\\frac{\\xi}{\\omega^{2}}\\Big)^{2} + \\cdots\\Big).\n",
    "\\end{align}\n",
    "Ou seja\n",
    "\\begin{align}\n",
    "E_{n'} & = \\hbar\\omega'(n'+1/2) \\\\\n",
    "&\\downarrow \\\\\n",
    "E_n & = \\hbar\\omega\\Big(1+\\frac{\\xi}{2\\omega^{2}} - \\frac{1}{8}\\Big(\\frac{\\xi}{\\omega^{2}}\\Big)^{2} + \\cdots\\Big)(n+1/2) \\\\\n",
    "& = E_{n}^{(0)}\\Big(1+\\frac{\\xi}{2\\omega^{2}} - \\frac{1}{2}\\Big(\\frac{\\xi}{2\\omega^{2}}\\Big)^{2} + \\cdots\\Big) \\\\\n",
    "& = E_{n}^{(0)} + E_{n}^{(1)} + E_{n}^{(2)} \\cdots.\n",
    "\\end{align}\n",
    "Acima trocamos $n'$ por $n$ pois ambos tem o mesmo domínio."
   ]
  },
  {
   "cell_type": "code",
   "execution_count": 9,
   "id": "db250c31",
   "metadata": {},
   "outputs": [
    {
     "data": {
      "image/png": "[encoded data removed]",
      "text/latex": [
       "$\\displaystyle 1 + \\frac{x}{2} - \\frac{x^{2}}{8} + \\frac{x^{3}}{16} - \\frac{5 x^{4}}{128} + \\frac{7 x^{5}}{256} + O\\left(x^{6}\\right)$"
      ],
      "text/plain": [
       "         2    3      4      5        \n",
       "    x   x    x    5⋅x    7⋅x     ⎛ 6⎞\n",
       "1 + ─ - ── + ── - ──── + ──── + O⎝x ⎠\n",
       "    2   8    16   128    256         "
      ]
     },
     "execution_count": 9,
     "metadata": {},
     "output_type": "execute_result"
    }
   ],
   "source": [
    "from sympy import init_printing, symbols, sqrt, series\n",
    "init_printing(use_unicode=True)\n",
    "\n",
    "x = symbols('x'); series(sqrt(1+x),x,0)"
   ]
  },
  {
   "cell_type": "markdown",
   "id": "97d2560f",
   "metadata": {},
   "source": [
    "Para obter a relação para os __autovetores__, precisaremos da relação entre os operadores de criação e aniquilação $a,a^{\\dagger}$ e $A,A^{\\dagger}$. Lembremos que\n",
    "\\begin{equation}\n",
    "X = \\sqrt{\\frac{\\hbar}{2m\\omega}}(a^{\\dagger}+a) \\text{ e } P = i\\sqrt{\\frac{\\hbar m\\omega}{2}}(a^{\\dagger}-a).\n",
    "\\end{equation}\n",
    "Usando $\\alpha = \\sqrt{\\frac{\\hbar}{2m\\omega'}}$ e $\\beta = i\\sqrt{\\frac{\\hbar m\\omega'}{2}}$, teremos que\n",
    "\\begin{align}\n",
    "A & = \\frac{1}{2}\\Big(\\frac{X}{\\alpha}-\\frac{P}{\\beta}\\Big) \\\\\n",
    "& = \\frac{1}{2\\alpha}\\sqrt{\\frac{\\hbar}{2m\\omega}}(a^{\\dagger}+a) - \\frac{1}{2\\beta}i\\sqrt{\\frac{\\hbar m\\omega}{2}}(a^{\\dagger}-a) \\\\\n",
    "& = \\frac{1}{2}\\sqrt{\\frac{2m\\omega'}{\\hbar}}\\sqrt{\\frac{\\hbar}{2m\\omega}}(a^{\\dagger}+a) - \\frac{1}{2}\\frac{1}{i}\\sqrt{\\frac{2}{\\hbar m\\omega'}}i\\sqrt{\\frac{\\hbar m\\omega}{2}}(a^{\\dagger}-a) \\\\\n",
    "& = \\frac{1}{2}\\Big(\\sqrt{\\frac{\\omega'}{\\omega}}+\\sqrt{\\frac{\\omega}{\\omega'}}\\Big)a + \\frac{1}{2}\\Big(\\sqrt{\\frac{\\omega'}{\\omega}}-\\sqrt{\\frac{\\omega}{\\omega'}}\\Big)a^{\\dagger} \\\\\n",
    "& := ua+va^{\\dagger}, \\\\\n",
    "\\therefore\\ A^{\\dagger} & = ua^{\\dagger}+va,\n",
    "\\end{align}\n",
    "em que definimos\n",
    "$$u := \\frac{1}{2}\\Big(\\sqrt{\\frac{\\omega'}{\\omega}}+\\sqrt{\\frac{\\omega}{\\omega'}}\\Big) \\text{ e } v := \\frac{1}{2}\\Big(\\sqrt{\\frac{\\omega'}{\\omega}}-\\sqrt{\\frac{\\omega}{\\omega'}}\\Big),$$\n",
    "e assim $u,v\\in\\mathbb{R}.$"
   ]
  },
  {
   "cell_type": "markdown",
   "id": "5c6166cb",
   "metadata": {},
   "source": [
    "Com relação às __funções de onda__, usando\n",
    "$$A = \\sqrt{\\frac{m\\omega'}{2\\hbar}}\\Big(X+\\frac{i}{m\\omega'}P\\big),$$\n",
    "teremos que\n",
    "\\begin{align}\n",
    "& \\langle x|A|0'\\rangle = \\langle x|\\oslash\\rangle = 0 = \\sqrt{\\frac{m\\omega'}{2\\hbar}}\\Big(\\langle x|X|0'\\rangle +\\frac{i}{m\\omega'}\\langle x|P|0'\\rangle\\Big) \\\\\n",
    "& \\therefore\\ x\\langle x|0'\\rangle +\\frac{i}{m\\omega'}\\frac{\\hbar}{i}\\partial_{x}\\langle x|0'\\rangle = 0 \\ \\therefore\\ \\partial_{x}\\psi_{0'}(x) = -\\frac{m\\omega' x}{\\hbar}\\psi_{0'}(x) \\\\\n",
    "& \\therefore\\ \\psi_{0'}(x) = Ce^{-m\\omega' x^{2}/2\\hbar} = Ce^{-x^{2}/2B^{2}},\n",
    "\\end{align}\n",
    "em que definimos\n",
    "$$B:= \\sqrt{\\frac{\\hbar}{m\\omega'}}.$$"
   ]
  },
  {
   "cell_type": "markdown",
   "id": "af056e56",
   "metadata": {},
   "source": [
    "Usando a normalização,\n",
    "$$\\int_{-\\infty}^{+\\infty}|\\psi_{0'}(x)|^{2}dx = 1 = |C|^{2}\\int_{-\\infty}^{+\\infty}e^{-x^{2}/B^{2}}dx = |C|^{2}\\sqrt{\\pi B^{2}},$$\n",
    "obtemos\n",
    "$$\\psi_{0'}(x) = \\sqrt{\\frac{1}{B\\sqrt{\\pi}}}e^{-x^{2}/2B^{2}}.$$\n",
    "\n",
    "Do mesmo modo, já mostramos que\n",
    "$$\\psi_{0}(x) = \\sqrt{\\frac{1}{b\\sqrt{\\pi}}}e^{-x^{2}/2b^{2}},$$\n",
    "com\n",
    "$$b:= \\sqrt{\\frac{\\hbar}{m\\omega}}.$$"
   ]
  },
  {
   "cell_type": "markdown",
   "id": "680d37b3",
   "metadata": {},
   "source": [
    "Estes dois estados são estados de incerteza mínima. Isso porquê se pensamos em termos da relação de incerteza de Heisenberg\n",
    "$$Var(X)_{\\psi}Var(P)_{\\psi}\\ge \\hbar^{2}/4,$$\n",
    "como\n",
    "\\begin{align}\n",
    "& Var(X)_{0} = \\langle 0|X^{2}|0\\rangle-\\langle0|X|0\\rangle^{2} = \\frac{\\hbar}{2m\\omega} = \\frac{b^{2}}{2}, \\\\ \n",
    "& Var(P)_{0} = \\langle 0|P^{2}|0\\rangle-\\langle0|P|0\\rangle^{2} = \\frac{\\hbar m\\omega}{2} = \\frac{\\hbar^{2}}{2b^{2}},\n",
    "\\end{align}\n",
    "vem que\n",
    "$$Var(X)_{0}Var(P)_{0}=\\hbar^{2}/4.$$\n",
    "\n",
    "Pode-se verificar também que\n",
    "\\begin{align}\n",
    "& Var(X)_{0'} = \\langle 0'|X^{2}|0'\\rangle-\\langle 0'|X|0'\\rangle^{2} = \\frac{\\hbar}{2m\\omega'} = \\frac{B^{2}}{2}, \\\\ \n",
    "& Var(P)_{0'} = \\langle 0'|P^{2}|0'\\rangle-\\langle 0'|P|0'\\rangle^{2} = \\frac{\\hbar m\\omega'}{2} = \\frac{\\hbar^{2}}{2B^{2}},\n",
    "\\end{align}\n",
    "e que portanto\n",
    "$$Var(X)_{0'}Var(P)_{0'} = \\hbar^{2}/4,$$\n",
    "o que é esperado pela forma gaussiana das duas funções de onda."
   ]
  },
  {
   "cell_type": "markdown",
   "id": "266d82ef",
   "metadata": {},
   "source": [
    "Dessas relações, vemos que\n",
    "\\begin{align}\n",
    "& Var(X)_{0'} = \\frac{\\hbar}{2m\\omega'} = \\frac{\\hbar}{2m\\omega}\\frac{\\omega}{\\omega'} = Var(X)_{0}\\frac{\\omega}{\\omega'} \\\\\n",
    "& \\therefore\\ \\omega' Var(X)_{0'} = \\omega Var(X)_{0}, \\\\\n",
    "& Var(P)_{0'} = \\frac{\\hbar m\\omega'}{2} = \\frac{\\hbar m\\omega}{2}\\frac{\\omega'}{\\omega} = Var(P)_{0}\\frac{\\omega'}{\\omega} \\\\\n",
    "& \\therefore\\ \\frac{1}{\\omega'}Var(P)_{0'} = \\frac{1}{\\omega}Var(P)_{0}.\n",
    "\\end{align}\n",
    "\n",
    "Vemos assim que, para o estado fundamental do OHQ1D, aumentando a frequência do OHQ1D diminuímos a variância da posição (quadratura $X$) e aumentamos o variância do momento linerar (quadratura $P$), mantendo o produto das duas variâncias constante."
   ]
  },
  {
   "cell_type": "markdown",
   "id": "aa059b74",
   "metadata": {},
   "source": [
    "Por isso, os estados \n",
    "$$|n'\\rangle = U_{b,B}|n\\rangle;\\ n',n=0,1,2,\\cdots,$$\n",
    "são chamados de __estados comprimidos__ (_squeezed states_), pois indo \n",
    "$$\\omega\\rightarrow\\omega'>\\omega$$\n",
    "diminuímos a largura da distribuição de probabilidades para $X$ (comprimimos $X$), com o consequente aumento da largura da distribuição de probabilidades para $P$. Isso pode ser útil, pois podemos usar estados comprimidos para fazer medidas mais precisas de uma dessas variáveis dinâmicas.\n",
    "\n",
    "\n",
    "### Operador de compressão\n",
    "\n",
    "Vamos verificar na sequência que o chamado operador de compressão, que faz essa mudança de base $|n\\rangle\\rightarrow|n'\\rangle$, pode ser escrito como\n",
    "$$U_{b,B} = e^{-\\zeta(a^{\\dagger}a^{\\dagger}-aa)/2} = e^{i\\zeta(PX+XP)/4\\hbar}.$$"
   ]
  },
  {
   "cell_type": "markdown",
   "id": "3b44a321",
   "metadata": {},
   "source": [
    "Vamos usar a fórmula de Baker-Campbell-Hausdorff\n",
    "\\begin{equation}\n",
    "e^{cZ}We^{-cZ} = W + c[Z,W] + \\frac{c^{2}}{2!}[Z,[Z,W]] + \\frac{c^{3}}{3!}[Z,[Z,[Z,W]]] + \\cdots,\n",
    "\\end{equation}\n",
    "em que $c\\in\\mathbb{C}$ e $Z,W:\\mathcal{H}\\rightarrow\\mathcal{H}$. Pode-se verificar que\n",
    "\\begin{align}\n",
    "& [a^{\\dagger}a^{\\dagger}-aa,a]=-2a^{\\dagger}, \\\\\n",
    "& [a^{\\dagger}a^{\\dagger}-aa,a^{\\dagger}]=-2a.\n",
    "\\end{align}\n",
    "Com isso, vem que\n",
    "\\begin{align}\n",
    "& U_{b,B}^{\\dagger}aU_{b,B} = e^{\\zeta(a^{\\dagger}a^{\\dagger}-aa)/2}ae^{-\\zeta(a^{\\dagger}a^{\\dagger}-aa)/2} \\\\\n",
    "& = a + \\frac{\\zeta}{2}[a^{\\dagger}a^{\\dagger}-aa,a] + \\frac{\\zeta^{2}}{2^{2}\\cdot 2!}[a^{\\dagger}a^{\\dagger}-aa,[a^{\\dagger}a^{\\dagger}-aa,a]] + \\frac{\\zeta^{3}}{2^{3}\\cdot 3!}[a^{\\dagger}a^{\\dagger}-aa,[a^{\\dagger}a^{\\dagger}-aa,[a^{\\dagger}a^{\\dagger}-aa,a]]] + \\cdots \\\\\n",
    "& = a - \\zeta a^{\\dagger} - \\frac{\\zeta^{2}}{2\\cdot 2!}[a^{\\dagger}a^{\\dagger}-aa,a^{\\dagger}] - \\frac{\\zeta^{3}}{2^{2}\\cdot 3!}[a^{\\dagger}a^{\\dagger}-aa,[a^{\\dagger}a^{\\dagger}-aa,a^{\\dagger}]] + \\cdots \\\\\n",
    "& = a - \\zeta a^{\\dagger} + \\frac{\\zeta^{2}}{2!}a + \\frac{\\zeta^{3}}{2\\cdot 3!}[a^{\\dagger}a^{\\dagger}-aa,a] + \\cdots \\\\\n",
    "& = a - \\zeta a^{\\dagger} + \\frac{\\zeta^{2}}{2!}a - \\frac{\\zeta^{3}}{3!}a^{\\dagger} + \\cdots \\\\\n",
    "& = \\big(1+\\frac{\\zeta^{2}}{2!}+\\cdots\\big)a - \\big(\\zeta+\\frac{\\zeta^{3}}{3!}+\\cdots\\big)a^{\\dagger} \\\\\n",
    "& = \\cosh(\\zeta) a - \\sinh(\\zeta)a^{\\dagger}.\n",
    "\\end{align}"
   ]
  },
  {
   "cell_type": "code",
   "execution_count": 10,
   "id": "da565530",
   "metadata": {},
   "outputs": [
    {
     "data": {
      "image/png": "[encoded data removed]",
      "text/latex": [
       "$\\displaystyle \\left( 1 + \\frac{x^{2}}{2} + \\frac{x^{4}}{24} + \\frac{x^{6}}{720} + O\\left(x^{8}\\right), \\  x + \\frac{x^{3}}{6} + \\frac{x^{5}}{120} + \\frac{x^{7}}{5040} + O\\left(x^{8}\\right)\\right)$"
      ],
      "text/plain": [
       "⎛     2    4     6               3     5     7         ⎞\n",
       "⎜    x    x     x     ⎛ 8⎞      x     x     x      ⎛ 8⎞⎟\n",
       "⎜1 + ── + ── + ─── + O⎝x ⎠, x + ── + ─── + ──── + O⎝x ⎠⎟\n",
       "⎝    2    24   720              6    120   5040        ⎠"
      ]
     },
     "execution_count": 10,
     "metadata": {},
     "output_type": "execute_result"
    }
   ],
   "source": [
    "from sympy import cosh, sinh\n",
    "series(cosh(x),x,0,8), series(sinh(x),x,0,8)"
   ]
  },
  {
   "cell_type": "markdown",
   "id": "5857e02a",
   "metadata": {},
   "source": [
    "Vamos impor que os operadores de aniquilação sejam relacionados como segue:\n",
    "\\begin{align}\n",
    "A & = U_{b,B}^{\\dagger}aU_{b,B} \\\\\n",
    "& = \\cosh(\\zeta) a - \\sinh(\\zeta)a^{\\dagger} \\\\\n",
    "& = \\frac{1}{2}\\Big(e^{\\zeta}+e^{-\\zeta}\\Big)a - \\frac{1}{2}\\Big(e^{\\zeta}-e^{-\\zeta}\\Big)a^{\\dagger} \\\\\n",
    "& := ua+va^{\\dagger} \\\\\n",
    "& = \\frac{1}{2}\\Big(\\sqrt{\\frac{\\omega}{\\omega'}}+\\sqrt{\\frac{\\omega'}{\\omega}}\\Big)a - \\frac{1}{2}\\Big(\\sqrt{\\frac{\\omega}{\\omega'}}-\\sqrt{\\frac{\\omega'}{\\omega}}\\Big)a^{\\dagger}.\n",
    "\\end{align}\n",
    "Assim, devemos ter\n",
    "\\begin{align}\n",
    "& e^{\\zeta} = \\sqrt{\\frac{\\omega}{\\omega'}} \\\\\n",
    "& \\therefore\\ \\zeta = \\log\\big((\\omega/\\omega')^{1/2}\\big) = \\frac{1}{2}\\log(\\omega/\\omega') = \\frac{1}{2}\\big(\\log(\\omega)-\\log(\\omega')\\big). \n",
    "\\end{align}\n",
    "\n",
    "Também segue que\n",
    "$$A^{\\dagger} = U_{b,B}^{\\dagger}aU_{b,B} = \\cosh(\\zeta)a^{\\dagger} - \\sinh(\\zeta)a.$$"
   ]
  },
  {
   "cell_type": "markdown",
   "id": "6a3e7480",
   "metadata": {},
   "source": [
    "Com isso, podemos escrever\n",
    "\\begin{align}\n",
    "|n'\\rangle & = U_{b,B}|n\\rangle \\\\\n",
    "& = e^{-\\zeta(a^{\\dagger}a^{\\dagger}-aa)/2}|n\\rangle \\\\\n",
    "& = \\sum_{j=0}^{\\infty}\\frac{1}{j!}\\big(-\\zeta(a^{\\dagger}a^{\\dagger}-aa)/2\\big)^{j}|n\\rangle \\\\\n",
    "& = \\sum_{j=0}^{\\infty}\\frac{(-1)^{j}\\zeta^{j}}{j!2^{j}}\\big(a^{\\dagger}a^{\\dagger}-aa\\big)^{j}|n\\rangle \\\\\n",
    "& = |n\\rangle - \\frac{\\zeta}{2}\\big(\\sqrt{(n+1)(n+2)}|n+2\\rangle-\\sqrt{n(n-1)}|n-2\\rangle\\big) + \\cdots \\\\\n",
    "& \\approx |\\psi_{n}^{(0)}\\rangle + |\\psi_{n}^{(1)}\\rangle + \\cdots,\n",
    "\\end{align}"
   ]
  },
  {
   "cell_type": "markdown",
   "id": "d46d69d9",
   "metadata": {},
   "source": [
    "em que usamos\n",
    "\\begin{align}\n",
    "(a^{\\dagger}a^{\\dagger}-aa)|n\\rangle & = a^{\\dagger}\\sqrt{n+1}|n+1\\rangle-a\\sqrt{n}|n-1\\rangle \\\\\n",
    " & = \\sqrt{(n+1)(n+2)}|n+2\\rangle-\\sqrt{n(n-1)}|n-2\\rangle.\n",
    "\\end{align}\n",
    "\n",
    "Usando expansão em série de Taylor para $\\omega'\\approx\\omega$, não é direta a verificação analítica da similaridade do resultado exato com aquele obtido por teoria de parturbação. Para obter essa correspondência devemos ter\n",
    "$$\\zeta = \\frac{1}{2}\\log\\Big(\\frac{\\omega'}{\\omega}\\Big) \\approx \\frac{\\xi}{4\\omega^{2}} = \\frac{\\omega'^{2}-\\omega^{2}}{4\\omega^{2}}.$$\n",
    "Por isso, abaixo apresentamos a verificação gráfica deste resultado, verificando assim que o resultado perturbativo é uma boa aproximação para valores de $\\omega'$ não muito diferentes de $\\omega$."
   ]
  },
  {
   "cell_type": "code",
   "execution_count": 11,
   "id": "71373521",
   "metadata": {
    "scrolled": true
   },
   "outputs": [
    {
     "data": {
      "image/png": "[encoded data removed]",
      "text/latex": [
       "$\\displaystyle -1 - \\frac{\\left(x - 1\\right)^{2}}{2} + \\frac{\\left(x - 1\\right)^{3}}{3} - \\frac{\\left(x - 1\\right)^{4}}{4} + x + O\\left(\\left(x - 1\\right)^{5}; x\\rightarrow 1\\right)$"
      ],
      "text/plain": [
       "            2          3          4                         \n",
       "     (x - 1)    (x - 1)    (x - 1)         ⎛       5       ⎞\n",
       "-1 - ──────── + ──────── - ──────── + x + O⎝(x - 1) ; x → 1⎠\n",
       "        2          3          4                             "
      ]
     },
     "execution_count": 11,
     "metadata": {},
     "output_type": "execute_result"
    }
   ],
   "source": [
    "from sympy import log\n",
    "series(log(x),x,1,5)"
   ]
  },
  {
   "cell_type": "code",
   "execution_count": 12,
   "id": "cf2b0a5e",
   "metadata": {},
   "outputs": [
    {
     "data": {
      "image/png": "[encoded data removed]",
      "text/plain": [
       "<Figure size 640x480 with 1 Axes>"
      ]
     },
     "metadata": {},
     "output_type": "display_data"
    }
   ],
   "source": [
    "from matplotlib import pyplot as plt\n",
    "import numpy as np\n",
    "\n",
    "omp = np.arange(0.5,1.5,0.01)\n",
    "om = 1\n",
    "z1 = (omp**2-om)/(4*om)\n",
    "z2 = (1/2)*np.log(omp/om)\n",
    "plt.plot(omp, z1, label=r'$(1/2)\\log(\\tilde{\\omega}/\\omega)$')\n",
    "plt.plot(omp, z2, label=r'$(\\tilde{\\omega}^2-\\omega^2)/(4\\omega^2)$')\n",
    "plt.xlabel(r'$\\tilde{\\omega}$')\n",
    "plt.legend()\n",
    "plt.show()"
   ]
  },
  {
   "cell_type": "markdown",
   "id": "2e46bec0",
   "metadata": {},
   "source": [
    "### Aplicações de estados comprimidos\n",
    "\n",
    "Seguem algumas referências para aplicação de estados comprimidos em metrologia quântica, em particular na detecção de ondas gravitacionais:\n",
    "* C. M. Caves, “Quantum-Mechanical Radiation-Pressure Fluctuations in an Interferometer,” Phys. Rev. Lett., vol. 45, no. 2, pp. 75–79, Jul. 1980, doi: 10.1103/PhysRevLett.45.75.\n",
    "* Grote, H.; Danzmann, K.; Dooley, K. L.; Schnabel, R.; Slutsky, J.; Vahlbruch, H. (2013). \"First Long-Term Application of Squeezed States of Light in a Gravitational-Wave Observatory\". Phys. Rev. Lett. 110, 181101 (2013). https://arxiv.org/abs/1302.2188.\n",
    "* P. Ball, “Squeezing More from Gravitational-Wave Detectors,” Physics, vol. 12, p. 139, Dec. 2019, doi: 10.1103/PhysRevLett.123.231107."
   ]
  },
  {
   "cell_type": "markdown",
   "id": "81fb832d",
   "metadata": {},
   "source": [
    "---\n",
    "## Exercícios\n",
    "\n",
    "$1.$ Verifique que\n",
    "$$\\langle n|(a^{\\dagger})^{p}|n\\rangle = \\langle n|a^{p}|n\\rangle = 0$$\n",
    "para qualquer $n=0,1,2,\\cdots$ e qualquer $p=1,2,3,\\cdots$.\n",
    "\n",
    "$2.$ Verifique que\n",
    "$$\\langle m|(a^{\\dagger}+a)^{2}|n\\rangle = \\sqrt{(n+1)(n+2)}\\delta_{m,n+2}+(2n+1)\\delta_{m,n} + \\sqrt{n(n-1)}\\delta_{m,n-2}.$$\n",
    "\n",
    "$3.$ Verifique que\n",
    "$$|||n\\rangle + |\\psi_{n}^{(1)}\\rangle||^{2} = 1 + 2\\Big(\\frac{\\Delta\\omega^{2}}{8\\omega^{2}}\\Big)^{2}(n(n+1)+1),$$\n",
    "com $|\\psi_{n}^{(1)}\\rangle$ dado na eq. $(\\star)$.\n",
    "\n",
    "$4.$ Verifique que\n",
    "\\begin{align}\n",
    "& Var(X)_{0'} = \\langle 0'|X^{2}|0'\\rangle-\\langle 0'|X|0'\\rangle^{2} = \\frac{\\hbar}{2m\\omega'} = B^{2}, \\\\ \n",
    "& Var(P)_{0'} = \\langle 0'|P^{2}|0'\\rangle-\\langle 0'|P|0'\\rangle^{2} = \\frac{\\hbar m\\omega'}{2} = \\frac{\\hbar^{2}}{2B^{2}},\n",
    "\\end{align}\n",
    "e que portanto\n",
    "$$Var(X)_{0'}Var(P)_{0'} = \\hbar^{2}/4.$$\n",
    "\n",
    "$5.$ Verifique que\n",
    "$$a^{\\dagger}a^{\\dagger}-aa = -\\frac{i}{2\\hbar}(XP+PX).$$\n",
    "\n",
    "$6.$ Verifique que\n",
    "\\begin{align}\n",
    "& [a^{\\dagger}a^{\\dagger}-aa,a]=-2a^{\\dagger}, \\\\\n",
    "& [a^{\\dagger}a^{\\dagger}-aa,a^{\\dagger}]=-2a.\n",
    "\\end{align}"
   ]
  }
 ],
 "metadata": {
  "kernelspec": {
   "display_name": "Python 3 (ipykernel)",
   "language": "python",
   "name": "python3"
  },
  "language_info": {
   "codemirror_mode": {
    "name": "ipython",
    "version": 3
   },
   "file_extension": ".py",
   "mimetype": "text/x-python",
   "name": "python",
   "nbconvert_exporter": "python",
   "pygments_lexer": "ipython3",
   "version": "3.11.1"
  }
 },
 "nbformat": 4,
 "nbformat_minor": 5
}
