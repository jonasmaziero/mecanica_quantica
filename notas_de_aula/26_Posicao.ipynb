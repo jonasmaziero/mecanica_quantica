{
 "cells": [
  {
   "cell_type": "markdown",
   "metadata": {},
   "source": [
    "### Notas de Aula de Mecânica Quântica<br>Autor: Jonas Maziero"
   ]
  },
  {
   "cell_type": "markdown",
   "metadata": {},
   "source": [
    "# Mecânica Quântica na base de posição\n",
    "As três coordenadas espaciais que especificam a posição de uma partícula em relação a algum referencial são mensuráveis e devem portanto ser descritas, dentro do formalismo quântico, por operadores Hermitianos $X_{j}=X_{j}^\\dagger,$ para $j=1,2,3$, tais que \n",
    "\\begin{equation}\n",
    "X_{j}|x_{j}\\rangle=x_{j}|x_{j}\\rangle\n",
    "\\end{equation}\n",
    "com $x_{j}\\in\\mathbb{R}$ e\n",
    "\\begin{equation}\n",
    "\\langle x_{j}|x_{j}'\\rangle=\\delta(x_{j}-x_{j}').\n",
    "\\end{equation}\n",
    "Note que acima estamos assumindo implicitamente e teoricamante que dois estados de posição infinitesimalmente próximos são distinguíveis, o que não é factível experimentalmente. Continuando com a teoria, como $X_{j}$ possui espectro contínuo, sua decomposição espectral será\n",
    "\\begin{equation}\n",
    "X_{j} = \\int dx_{j}x_{j}|x_{j}\\rangle\\langle x_{j}|.\n",
    "\\end{equation}\n",
    "\n",
    "Como fizemos para outros observáveis, se fazemos medidas de posição para um sistema quântico preparado em um estado genérico $|\\psi\\rangle$, é conveniente escrevermos\n",
    "\\begin{equation}\n",
    "|\\psi\\rangle = \\int dx_{j}c_{x_{j}}|x_{j}\\rangle.\n",
    "\\end{equation}"
   ]
  },
  {
   "cell_type": "markdown",
   "metadata": {},
   "source": [
    "Os coeficientes nessa superposição são conhecidos como __função de onda__ na base de posição:\n",
    "\\begin{equation}\n",
    "c_{x_{j}} = \\langle x_{j}|\\psi\\rangle =: \\psi(x_{j}).\n",
    "\\end{equation}\n",
    "\n",
    "Para observáveis com espectro contínuo, existe uma complicação na interpretação da ortogonalidade entre autovetores correspondentes a autovalores diferentes. Isso se deve ao fato de que na prática só conseguimos distinguir experimentalmente entre valores cuja diferença é finita, e não infinitesimal. Tirando esse detalhe, a _interpretação estatística_ é a usual. A regra de Born nos diz que\n",
    "\\begin{equation}\n",
    "|\\psi(x_{j})|^{2}dx_{j}\n",
    "\\end{equation}\n",
    "é a probabilidade de ao medirmos $X_{j}$ obtermos seu valor entre $x_{j}$ e $x_{j}+dx_{j}$, com $|\\psi(x_{j})|^{2}$ sendo a __densidade de probabilidade__. Claro, como a partícula deve estar em algum lugar, devemos ter a __condição de normalização__ satisfeita:\n",
    "\\begin{equation}\n",
    "\\int_{-\\infty}^{+\\infty}|\\psi(x_{j})|^{2}dx_{j} = 1.\n",
    "\\end{equation}\n",
    "\n",
    "Vale observar que aqui consideramos que não há emaranhamento entre as coordenadas do quanton. No entanto, definições análogas seguem para o caso geral, usando o vetor posição com \n",
    "$$|\\psi\\rangle = \\iiint dV c_{\\vec{r}}|\\vec{r}\\rangle,$$\n",
    "com $dV$ sendo um elemento de volume."
   ]
  },
  {
   "cell_type": "markdown",
   "metadata": {},
   "source": [
    "## Operador de translação espacial\n",
    "Esse operador descreve, como o nome diz, mudanças do estado de posição. Para mudanças infinitesimais teremos\n",
    "\\begin{equation}\n",
    "T(\\delta x_{j})|x_{j}\\rangle := |x_{j}+\\delta x_{j}\\rangle.\n",
    "\\end{equation}\n",
    "Obter $T$ explicitamente será importante para derivarmos as relações de comutação entre posição e momento linear. Como motivação, comecemos considerando o operador de evolução temporal para $H$ independente do tempo e \"expandido em primeira ordem\" em $t$:\n",
    "\\begin{equation}\n",
    "U_{\\delta t} = e^{-iH\\delta t/\\hbar} \\approx \\mathbb{I} - \\frac{i}{\\hbar}H\\delta t.\n",
    "\\end{equation}\n",
    "Agora notemos que momento linear (velocidade) está relacionado com mudanças de posição e que a unidade de $Ht$ e de $P_{j}x_{j}$ é a mesma para escrever o operador de translação espacial do estado quântico por uma quantidade infinitesimal $dx_{j}$ como \n",
    "\\begin{equation}\n",
    "T(\\delta x_{j}) = \\mathbb{I} - \\frac{i}{\\hbar}P_{j}\\delta x_{j},\n",
    "\\end{equation}\n",
    "em que $P_{j}$ é o operador Hermitiano que representa a componente $j$ do momento linear.\n",
    "\n",
    "Considerando-se $\\mathcal{O}(\\delta x_{j}^{2})\\approx 0$, pode-se verificar que o operador de translação espacial $T$, definido na última equação, corresponde ao operador identidade quanto tomamos o limite do deslocamente espacial indo pra zero,\n",
    "\\begin{equation}\n",
    "\\lim_{\\delta x_{j}\\rightarrow 0}T(\\delta x_{j}) = \\mathbb{I},\n",
    "\\end{equation}\n",
    "que este operador obedece uma lei de composicão, para descolamento em uma certa direção,\n",
    "\\begin{equation}\n",
    "T(\\delta x_{j})T(\\delta x_{j}') = T(\\delta x_{j}+\\delta x_{j}'),\n",
    "\\end{equation}\n",
    "que o seu adjunto é um operador de deslocamento infinitesimal no sentido contrário, \n",
    "\\begin{equation}\n",
    "T(\\delta x_{j})^{\\dagger} = T(-\\delta x_{j}),\n",
    "\\end{equation}\n",
    "e que é um operador unitário,\n",
    "\\begin{equation}\n",
    "T(\\delta x_{j})^{\\dagger}T(\\delta x_{j}) = T(\\delta x_{j})T(\\delta x_{j})^{\\dagger} = \\mathbb{I}.\n",
    "\\end{equation}"
   ]
  },
  {
   "cell_type": "markdown",
   "metadata": {},
   "source": [
    "## Relação de comutação posição-momento linear\n",
    "Nas próximas demonstrações, a ideia é obter duas expressões para a mesma quantidade. Vamos começar verificando que\n",
    "\\begin{align}\n",
    "[X_{j},T(\\delta x_{j})]|x_{j}\\rangle & = X_{j}T(\\delta x_{j})|x_{j}\\rangle - T(\\delta x_{j})X_{j}|x_{j}\\rangle \\\\ \n",
    "& = X_{j}|x_{j}+\\delta x_{j}\\rangle - T(\\delta x_{j})x_{j}|x_{j}\\rangle \\\\\n",
    "& = (x_{j}+\\delta x_{j})|x_{j}+\\delta x_{j}\\rangle - x_{j}|x_{j}+\\delta x_{j}\\rangle \\\\\n",
    "& = \\delta x_{j}|x_{j}+\\delta x_{j}\\rangle \\\\\n",
    "& = \\delta x_{j}T(\\delta x_{j})|x_{j}\\rangle \\\\\n",
    "& = \\delta x_{j}\\left(\\mathbb{I} - \\frac{i}{\\hbar}P_{j}\\delta x_{j}\\right)|x_{j}\\rangle \\\\\n",
    "&= \\delta x_{j}|x_{j}\\rangle - \\frac{i}{\\hbar}P_{j}(\\delta x_{j})^{2}|x_{j}\\rangle \\\\\n",
    "& \\approx \\delta x_{j}\\mathbb{I}|x_{j}\\rangle.\n",
    "\\end{align}"
   ]
  },
  {
   "cell_type": "markdown",
   "metadata": {},
   "source": [
    "Como esta relação vale para qualquer estado da base $\\{|x_{j}\\rangle\\}$, vale para qualquer estado $|\\psi\\rangle$ e teremos que $[X_{j},T(\\delta x_{j})]|\\psi\\rangle=\\delta x_{j}\\mathbb{I}|\\psi\\rangle\\ \\forall\\ |\\psi\\rangle$. Mas também podemos escrever\n",
    "\\begin{align}\n",
    "[X_{j},T(\\delta x_{j})] & = [X_{j},\\mathbb{I} - \\frac{i}{\\hbar}P_{j}\\delta x_{j}] \\\\\n",
    "& = [X_{j},\\mathbb{I}]  - \\frac{i}{\\hbar}\\delta x_{j} [X_{j},P_{j}] \\\\\n",
    "                  & = - \\frac{i}{\\hbar}\\delta x_{j} [X_{j},P_{j}].\n",
    "\\end{align}\n",
    "Chegamos assim na seguinte relação de comutação posição-momento linear:\n",
    "\\begin{equation}\n",
    "[X_{j},P_{j}] = i\\hbar\\mathbb{I},\n",
    "\\end{equation}\n",
    "com $j=1,2,3$."
   ]
  },
  {
   "cell_type": "markdown",
   "metadata": {},
   "source": [
    "## Translações finitas\n",
    "Para descrever deslocamentos por uma quantidade finita $\\Delta x_{j}$, consideremos o operador de translação espacial associado $T(\\Delta x_{j})$ como sendo obtido a partir da composição de um número muito grande $N$ de translações infinitesimais $T(\\delta x_{j})$, i.e., \n",
    "$$\\Delta x_{j}=N\\delta x_{j}$$\n",
    "e\n",
    "\\begin{align}\n",
    "T(\\Delta x_{j}) & = T(\\delta x_{j})T(\\delta x_{j})\\cdots T(\\delta x_{j}) \\\\\n",
    "& = \\lim_{N\\rightarrow\\infty}\\left(T(\\delta x_{j})\\right)^{N} \\\\\n",
    "                & = \\lim_{N\\rightarrow\\infty}\\left(\\mathbb{I} - \\frac{i}{\\hbar}P_{j}\\delta x_{j}\\right)^{N} \\\\\n",
    "                & = \\lim_{N\\rightarrow\\infty}\\left(\\mathbb{I} - \\frac{iP_{j}\\Delta x_{j}/\\hbar}{N}\\right)^{N}.\n",
    "\\end{align}"
   ]
  },
  {
   "cell_type": "markdown",
   "metadata": {},
   "source": [
    "Agora, usando \n",
    "$$\\frac{1}{n} = \\frac{x}{N}$$\n",
    "teremos que\n",
    "\\begin{align}\n",
    "\\lim_{N\\rightarrow\\infty}\\left(1+\\frac{x}{N}\\right)^{N} & = \\lim_{n\\rightarrow\\infty}\\left(1+\\frac{1}{n}\\right)^{nx} \\\\\n",
    "& =\\left(\\lim_{n\\rightarrow\\infty}\\left(1+\\frac{1}{n}\\right)^{n}\\right)^{x} \\\\\n",
    "& = e^{x}.\n",
    "\\end{align}\n",
    "Assim\n",
    "\\begin{equation}\n",
    "T(\\Delta x_{j}) = e^{-iP_{j}\\Delta x_{j}/\\hbar}.\n",
    "\\end{equation}"
   ]
  },
  {
   "cell_type": "code",
   "execution_count": 1,
   "metadata": {},
   "outputs": [
    {
     "data": {
      "text/latex": [
       "$\\displaystyle e$"
      ],
      "text/plain": [
       "E"
      ]
     },
     "execution_count": 1,
     "metadata": {},
     "output_type": "execute_result"
    }
   ],
   "source": [
    "from sympy import symbols, limit, oo\n",
    "n = symbols('n')\n",
    "limit((1+1/n)**n, n, oo) # limites no sympy"
   ]
  },
  {
   "cell_type": "markdown",
   "metadata": {},
   "source": [
    "## Relações de comutação canônicas\n",
    "Pense na medida das coordenadas espaciais de um quanton através de um conjunto de pares laser-detector colocados em lados opostos em uma mesma coordenada. Veja a figura abaixo. Nesse esquema podemos medir duas coordenadas de posição simultâneamente. Por isso, concluímos que as _coordenadas de posição são observáveis compatíveis_, i.e.,\n",
    "\\begin{equation}\n",
    "[X_{j},X_{k}] = 0 \\ \\forall j,k.\n",
    "\\end{equation}\n",
    "\n",
    "<img src='fig_coordinates_measurement.png' width='400'>"
   ]
  },
  {
   "cell_type": "markdown",
   "metadata": {},
   "source": [
    "Vamos mostrar que o mesmo segue para as componentes do __momento linear__. Para isso notemos que pela composição das translações espaciais finitas,\n",
    "\\begin{align}\n",
    "& T(\\Delta x_{1}\\hat{e}_{1})T(\\Delta x_{2}\\hat{e}_{2}) = T(\\Delta x_{2}\\hat{e}_{2})T(\\Delta x_{1}\\hat{e}_{1}) \\\\ \n",
    "& = T(\\Delta x_{1}\\hat{e}_{1}+\\Delta x_{2}\\hat{e}_{2}),\n",
    "\\end{align}\n",
    "que vale para geometria Euclidiana. Veja a figura a seguir.\n",
    "<img src='fig_displacements.png' width='200'>\n",
    "\n",
    "Assim\n",
    "\\begin{align}\n",
    "0 & = [T(\\Delta x_{1}\\hat{e}_{1}),T(\\Delta x_{2}\\hat{e}_{2})] \\\\\n",
    "& = \\left[e^{-iP_{1}\\Delta x_{1}/\\hbar}, e^{-iP_{2}\\Delta x_{2}/\\hbar}\\right] \\\\\n",
    "           & = \\left[\\mathbb{I} -iP_{1}\\Delta x_{1}/\\hbar + (-iP_{1}\\Delta x_{1}/\\hbar)^{2}/2! + \\cdots, \\mathbb{I} -iP_{2}\\Delta x_{2}/\\hbar + (-iP_{2}\\Delta x_{2}/\\hbar)^{2}/2! + \\cdots\\right] \\\\\n",
    "           & = \\alpha[P_{1},P_{2}] + \\beta[P_{1},P_{2}^{2}] + \\cdots + \\xi[P_{1}^{2},P_{2}] + \\cdots.\n",
    "\\end{align}\n",
    "Usando \n",
    "$$[AB,C] = A[B,C] + [A,C]B,\\ [A,BC]=B[A,C]+[A,B]C,$$\n",
    "vemos que todos os termos não nulos da última equação serão proporcionais a $[P_{1},P_{2}]$. Portanto, a única maneira dessa relação ser igual ao operador nulo é se essas componentes do momento linear comutarem. Fazendo uma análise análoga para as outras combinações de translações, chegaremos na conclusão de que \n",
    "\\begin{equation}\n",
    "[P_{j},P_{k}]=0\\ \\forall j,k.\n",
    "\\end{equation}\n",
    "\n",
    "Vale mencionar que não podemos usar translações infinitesimais para demonstrar este resultado pois e.g. $$[T(dx_{1}\\hat{e}_{1}),T(dx_{2}\\hat{e}_{2})] = -dx_{1}dx_{2}[P_{1},P_{2}]/\\hbar.$$"
   ]
  },
  {
   "cell_type": "markdown",
   "metadata": {},
   "source": [
    "Por fim, baseado nos resultados demonstrados até então, vemos que, como $[X_{j},X_{k\\ne j}]=[P_{j},P_{k\\ne j}]=0$, podemos descrever os estados de posição,\n",
    "\\begin{equation}\n",
    "|\\vec{x}\\rangle=|x_{1}\\rangle\\otimes|x_{2}\\rangle\\otimes|x_{3}\\rangle,\n",
    "\\end{equation}\n",
    "e de momento linear, \n",
    "\\begin{equation}\n",
    "|\\vec{p}\\rangle=|p_{1}\\rangle\\otimes|p_{2}\\rangle\\otimes|p_{3}\\rangle,\n",
    "\\end{equation}\n",
    "usando vetores normalizados em \n",
    "$$\\mathcal{H}=\\mathcal{H}_1 \\otimes\\mathcal{H}_2 \\otimes\\mathcal{H}_3 .$$\n",
    "Ou seja, observáveis que correspondem a componentes diferentes de um vetor em $\\mathbb{R}^3$ são __graus de liberdade diferentes__.\n",
    "\n",
    "Portanto $X_{j}$ e $P_{k\\ne j}$ atuam em espaços diferentes, e por conseguinte comutam:\n",
    "\\begin{equation}\n",
    "[X_{j},P_{k\\ne j}]=0.\n",
    "\\end{equation}\n",
    "\n",
    "No caso da posição e momento linear teríamos e.g. \n",
    "$$[X_{1}\\otimes\\mathbb{I}_{2}\\otimes\\mathbb{I}_{3},\\mathbb{I}_{1}\\otimes P_{2}\\otimes\\mathbb{I}_{3}]=0.$$\n",
    "\n",
    "Resumindo, obtivemos assim as chamadas __relações de comutação canônicas__ para posição e momento linear:\n",
    "\\begin{align}\n",
    "& [X_{j},X_{k}] = 0, \\\\\n",
    "& [P_{j},P_{k}] = 0, \\\\\n",
    "& [X_{j},P_{k}] = i\\hbar\\mathbb{I}\\delta_{jk}, \\\\\n",
    "\\end{align}\n",
    "com $j,k=1,2,3$."
   ]
  },
  {
   "cell_type": "markdown",
   "metadata": {},
   "source": [
    "## 2ª lei de Newton como um limite da Mecânica Quântica <br> Teorema de Ehrenfest\n",
    "Para um operador energia potencial sendo uma função bem comportada da posição\n",
    "\\begin{equation}\n",
    "U=U(\\{X_{j}\\}),\n",
    "\\end{equation}\n",
    "na __representação de Heisenberg__, teremos\n",
    "\\begin{equation}\n",
    "H^{H}=\\sum_{j}\\frac{(P_{j}^{H})^{2}}{2m} + U(\\{X_{j}^{H}\\}).\n",
    "\\end{equation}\n",
    "Consideremos a equação de evolução temporal de Heisenberg:\n",
    "\\begin{align}\n",
    "i\\hbar\\partial_{t}X^{H}_{j} & = [X_{j}^{H},H^{H}]  + i\\hbar U_{t}^{\\dagger}(\\partial_{t}X_{j}^{S})U_{t} \\\\ \n",
    "& = [X_{j}^{H},\\frac{1}{2m}\\sum_{k}(P_{k}^{H})^{2} + U(\\{X_{k}^{H}\\})] + 0 \\\\\n",
    "& = \\frac{1}{2m}\\sum_{k}[X_{j}^{H},(P_{k}^{H})^{2}] + [X_{j}^{H},U(\\{X_{k}^{H}\\})] \\\\\n",
    "& = \\frac{1}{2m}\\sum_{k}\\left(P_{k}^{H}[X_{j}^{H},P_{k}^{H}]+[X_{j}^{H},P_{k}^{H}]P_{k}^{H}\\right) + 0 \\\\\n",
    "& = \\frac{1}{2m}\\sum_{k}\\left(P_{k}^{H}i\\hbar\\delta_{jk}\\mathbb{I}+i\\hbar\\delta_{jk}\\mathbb{I}P_{k}^{H}\\right) + 0 \\\\ \n",
    "& = \\frac{i\\hbar P_{j}^{H}}{m}.\n",
    "\\end{align}\n",
    "Acima usamos o fato que a relação de comutação é a mesma nas representação de Schrödinger e de Heisenberg e que $I^{H}=I^{S}$. Assim\n",
    "\\begin{equation}\n",
    "m\\partial_{t}X^{H}_{j} = P_{j}^{H}.\n",
    "\\end{equation}"
   ]
  },
  {
   "cell_type": "markdown",
   "metadata": {},
   "source": [
    "Ademais, usando o fato de que \n",
    "$$[H^{S},U_{t}]=0,$$\n",
    "pois $H^{S}$ é independente do tempo, teremos\n",
    "\\begin{align}\n",
    "\\partial_{t}H^{H} & = \\partial_{t}(U_{t}^{\\dagger}H^{S}U_{t}) = \\partial_{t}(H^{S}U_{t}^{\\dagger}U_{t}) = \\partial_{t}H^{S} = 0 \\\\\n",
    "& = \\partial_{t}\\left(\\sum_{j}(P_{j}^{H})^{2}/2m + U(\\{X_{j}^{H}\\})\\right) \\\\ \n",
    "& = \\frac{1}{2m}\\sum_{j}2P_{j}^{H}\\partial_{t}P_{j}^{H} + \\partial_{t}U(\\{X_{j}^{H}\\}) \\\\ \n",
    "& = \\frac{1}{m}\\sum_{j}P_{j}^{H}\\partial_{t}P_{j}^{H} + \\sum_{j}\\partial_{t}X_{j}^{H}\\partial_{X_{j}^{H}}U(\\{X_{j}^{H}\\}) \\\\\n",
    "& = \\frac{1}{m}\\sum_{j}P_{j}^{H}\\partial_{t}P_{j}^{H} + \\sum_{j}\\frac{P_{j}^{H}}{m}\\partial_{X_{j}^{H}}U(\\{X_{j}^{H}\\}) \\\\\n",
    "& = \\frac{1}{m}\\sum_{j}P_{j}^{H}\\left(\\partial_{t}P_{j}^{H} + \\partial_{X_{j}^{H}}U(\\{X_{j}^{H}\\})\\right).\n",
    "\\end{align}"
   ]
  },
  {
   "cell_type": "markdown",
   "metadata": {},
   "source": [
    "Notemos que \n",
    "$$\\partial_t (P_j^H)^2 = \\partial_t(P_j^H P_j^H) = P_j^H(\\partial_t P_j^H) + (\\partial_t P_j^H) P_j^H.$$\n",
    "Teremos assim que\n",
    "$$\\partial_t (P_j^H)^2 = 2P_j^H\\partial_t( P_j^H)$$\n",
    "somente se\n",
    "$$[\\partial_t P_j^H,P_j^H]=0.$$\n",
    "Para obter o resultado a seguir, por hora teremos que assumir essa igualdade. Com isso, teremos que\n",
    "\\begin{equation}\n",
    "\\partial_{t}P_{j}^{H} + \\partial_{X_{j}^{H}}U(\\{X_{j}^{H}\\})=0\\ \\therefore\\ \\partial_{t}P_{j}^{H} = - \\partial_{X_{j}^{H}}U(\\{X_{j}^{H}\\}) = F_{j}^{H}.\n",
    "\\end{equation}\n",
    "\n",
    "Juntando esses resultados teremos que\n",
    "\\begin{align}\n",
    "& m\\partial_{tt}X_{j}^{H} = \\partial_{t}P_{j}^{H} = - \\partial_{X_{j}^{H}}U(\\{X_{j}^{H}\\}) = F_{j}^{H} \\\\\n",
    "& \\therefore m\\partial_{tt}\\vec{X}_{H} = \\partial_{t}\\vec{P}_{H} = - \\nabla_{\\vec{X}_{H}}U(\\vec{X}_{H}) = \\vec{F}_{H}, \\\\\n",
    "& \\therefore m\\partial_{tt}\\langle\\psi_{0}^{S}|\\vec{X}(t)|\\psi_{0}^{S}\\rangle = \\partial_{t}\\langle\\psi_{0}^{S}|\\vec{P}(t)|\\psi_{0}^{S}\\rangle = \\langle\\psi_{0}^{S}|(-\\nabla_{\\vec{X}}U(\\vec{X}))|\\psi_{0}^{S}\\rangle = \\langle\\psi_{0}^{S}|\\vec{F}(t)|\\psi_{0}^{S}\\rangle, \\\\\n",
    "& \\therefore m\\partial_{tt}\\langle\\vec{X}(t)\\rangle = \\partial_{t}\\langle\\vec{P}(t)\\rangle = \\langle - \\nabla_{\\vec{X}}U(\\vec{X})\\rangle = \\langle\\vec{F}(t)\\rangle,\n",
    "\\end{align}\n",
    "onde $\\langle O(t)\\rangle$ é o valor esperado do observável $O$ no instante de tempo $t$ (em qualquer representação). \n",
    "\n",
    "Vemos assim que o centro do pacote de ondas do quanton se move sujeito à força média seguindo a __2ª lei de Newton__. Isso implica que a Mecânica Clássica é o limite da Mecânica Quântica em que os quantons são localizados (pacotes de onda estreitos), comportando-se assim como partículas clássicas."
   ]
  },
  {
   "cell_type": "markdown",
   "metadata": {},
   "source": [
    "Vale observar que acima apareceu a derivada em relação a um operador. Mas o que é isso? Lembrando que para escalares\n",
    "$$\\frac{df}{dx} = \\lim_{\\delta x\\rightarrow 0}\\big[f(x+\\delta x)-f(x)\\big]\\delta x^{-1}.$$\n",
    "Assim, para um operador $A$ usamos\n",
    "$$\\frac{df}{dA} = \\lim_{\\delta A\\rightarrow 0}\\big[f(A+\\delta A)-f(A)\\big]\\delta A^{-1},$$\n",
    "em que $\\delta A^{-1}$ é a inversa de $\\delta A$."
   ]
  },
  {
   "cell_type": "markdown",
   "metadata": {},
   "source": [
    "## Operador momento linear na base de posição\n",
    "Na sequência, vamos obter o operador momento linear quando este atua na base de posição. Para \n",
    "$$|\\psi\\rangle = \\int_{-\\infty}^{\\infty} dx_{j}\\psi(x_{j})|x_{j}\\rangle$$\n",
    "e $\\delta x_{j}$ infinitesimal teremos\n",
    "\\begin{align}\n",
    "T(\\delta x_{j})|\\psi\\rangle & = \\int_{-\\infty}^{\\infty} dx_{j}\\psi(x_{j}) T(\\delta x_{j})|x_{j}\\rangle \\\\\n",
    "& = \\int_{-\\infty}^{\\infty} dx_{j}\\psi(x_{j}) |x_{j}+\\delta x_{j}\\rangle \\\\\n",
    "& = \\int_{-\\infty}^{\\infty} dx_{j}'\\psi(x_{j}'-\\delta x_{j})|x_{j}'\\rangle,\n",
    "\\end{align}\n",
    "onde fizemos a troca de variável \n",
    "$$x_{j}'=x_{j}+\\delta x_{j}.$$\n",
    "Agora expandimos a função de onda em série de Taylor,\n",
    "\\begin{equation}\n",
    "\\psi(x_{j}'-\\delta x_{j}) \\approx \\psi(x_{j}') - \\delta x_{j}\\partial_{x_{j}'}\\psi(x_{j}'),\n",
    "\\end{equation}\n",
    "para obter\n",
    "\\begin{equation}\n",
    "T(\\delta x_{j})|\\psi\\rangle = \\int_{-\\infty}^{\\infty} dx_{j}'\\left(\\psi(x_{j}') - \\delta x_{j}\\partial_{x_{j}'}\\psi(x_{j}')\\right)|x_{j}'\\rangle.\n",
    "\\end{equation}\n",
    "Tomando o produto interno de $|x_{j}\\rangle$ com essa equação obtemos\n",
    "\\begin{align}\n",
    "\\langle x_{j}|T(\\delta x_{j})|\\psi\\rangle & = \\int_{-\\infty}^{\\infty} dx_{j}'\\left(\\psi(x_{j}') - \\delta x_{j}\\partial_{x_{j}'}\\psi(x_{j}')\\right)\\langle x_{j}|x_{j}'\\rangle \\\\\n",
    "& = \\int_{-\\infty}^{\\infty} dx_{j}'\\left(\\psi(x_{j}') - \\delta x_{j}\\partial_{x_{j}'}\\psi(x_{j}')\\right)\\delta(x_{j}-x_{j}') \\\\\n",
    "& = \\psi(x_{j}) - \\delta x_{j}\\partial_{x_{j}}\\psi(x_{j}).\n",
    "\\end{align}"
   ]
  },
  {
   "cell_type": "markdown",
   "metadata": {},
   "source": [
    "Por outro lado, se usamos $T$ em termos de $P_{j}$ obteremos\n",
    "\\begin{align}\n",
    "\\langle x_{j}|T(\\delta x_{j})|\\psi\\rangle & = \\langle x_{j}|\\left(\\mathbb{I} - \\frac{i}{\\hbar}P_{j}\\delta x_{j}\\right)|\\psi\\rangle \\\\\n",
    "& = \\langle x_{j}|\\psi\\rangle - \\delta x_{j}\\frac{i}{\\hbar}\\langle x_{j}|P_{j}|\\psi\\rangle \\\\\n",
    "& = \\psi(x_{j}) - \\delta x_{j}\\frac{i}{\\hbar}\\langle x_{j}|P_{j}|\\psi\\rangle.\n",
    "\\end{align}\n",
    "\n",
    "Dessas duas expressões, obtemos a ação do __operador momento linear na base de posição__:\n",
    "\\begin{equation}\n",
    "\\langle x_{j}|P_{j}|\\psi\\rangle = \\frac{\\hbar}{i}\\partial_{x_{j}}\\langle x_{j}|\\psi\\rangle.\n",
    "\\end{equation}\n",
    "\n",
    "Por hora, vamos deixar de lado a estrutura produto tensorial e escrever estados de posição como\n",
    "\\begin{equation}\n",
    "|\\vec{x}\\rangle = |x_{1}\\rangle\\otimes|x_{2}\\rangle\\otimes|x_{3}\\rangle =: |x_{1},x_{2},x_{3}\\rangle \n",
    "\\end{equation}\n",
    "e o vetor operador momento linear como\n",
    "\\begin{align}\n",
    "\\vec{P} & = \\hat{e}_{1}P_{1}\\otimes\\mathbb{I}_{2}\\otimes\\mathbb{I}_{3}+\\hat{e}_{2}\\mathbb{I}_{1}\\otimes P_{2}\\otimes\\mathbb{I}_{3} + \\hat{e}_{3}\\mathbb{I}_{1}\\otimes\\mathbb{I}_{2}\\otimes P_{3} \\\\ \n",
    "&=: \\sum_{j=1}^{3}\\hat{e}_{j}P_{j}.\n",
    "\\end{align}\n",
    "Seguindo, temos que\n",
    "\\begin{align}\n",
    "\\langle \\vec{x}|\\vec{P}|\\psi\\rangle & = \\langle x_{1},x_{2},x_{3}|\\vec{P}|\\psi\\rangle \\\\\n",
    "& = \\sum_{j=1}^{3}\\hat{e}_{j}\\langle x_{1},x_{2},x_{3}|P_{j}|\\psi\\rangle = \\sum_{j=1}^{3}\\hat{e}_{j}\\frac{\\hbar}{i}\\partial_{x_{j}}\\langle x_{1},x_{2},x_{3}|\\psi\\rangle \\\\\n",
    "& = \\frac{\\hbar}{i}\\nabla_{\\vec{x}}\\langle\\vec{x}|\\psi\\rangle.\n",
    "\\end{align}"
   ]
  },
  {
   "cell_type": "markdown",
   "metadata": {},
   "source": [
    "Vale observar que para estados produto $|\\psi\\rangle=|\\xi\\rangle\\otimes|\\eta\\rangle\\otimes|\\zeta\\rangle$ teremos e.g.\n",
    "\\begin{align}\n",
    "\\langle\\vec{x}|P_{1}|\\psi\\rangle & = (\\langle x_{1}|\\otimes\\langle x_{2}|\\otimes\\langle x_{3}|)(P_{1}\\otimes\\mathbb{I}_{2}\\otimes\\mathbb{I}_{2})(|\\xi\\rangle\\otimes|\\eta\\rangle\\otimes|\\zeta\\rangle) \\\\\n",
    "& = \\langle x_{1}|P_{1}|\\xi\\rangle\\otimes\\langle x_{2}|\\eta\\rangle\\otimes\\langle x_{3}|\\zeta\\rangle \\\\\n",
    "& = (-i\\hbar\\partial_{x_{1}}\\langle x_{1}|\\xi\\rangle)\\otimes\\langle x_{2}|\\eta\\rangle\\otimes\\langle x_{3}|\\zeta\\rangle \\\\\n",
    "& = (-i\\hbar\\partial_{x_{1}}(\\langle x_{1}|\\otimes\\langle x_{2}|\\otimes\\langle x_{3}|)(|\\xi\\rangle\\otimes|\\eta\\rangle\\otimes|\\zeta\\rangle) \\\\\n",
    "& =-i\\hbar\\partial_{x_{1}}\\langle\\vec{x}|\\psi\\rangle.\n",
    "\\end{align}\n",
    "Portanto, para esse tipo de estado, teremos $\\langle \\vec{x}|\\vec{P}|\\psi\\rangle=-i\\hbar\\nabla_{\\vec{x}}\\langle\\vec{x}|\\psi\\rangle$. No entanto, para estados do tipo \n",
    "\\begin{equation}\n",
    "|\\psi\\rangle = \\iiint C_{\\xi,\\eta,\\zeta}|\\xi\\rangle\\otimes|\\eta\\rangle\\otimes|\\zeta\\rangle,\n",
    "\\end{equation}\n",
    "a verificação não é direta."
   ]
  },
  {
   "cell_type": "markdown",
   "metadata": {},
   "source": [
    "## Valores médios de posição e de momento linear\n",
    "Como vimos, o valor médio de um observável $O$ com espectro contínuo também é calculado por \n",
    "$$\\langle O\\rangle_{\\psi} = \\langle \\psi|O|\\psi\\rangle.$$\n",
    "Para uma componente da posição, usando\n",
    "\\begin{equation}\n",
    "I =\\int dx_{j}|x_{j}\\rangle\\langle x_{j}|\n",
    "\\end{equation}\n",
    "(com a integral sobre $\\mathbb{R}$), teremos\n",
    "\\begin{align}\n",
    "\\langle X_{j}\\rangle_{\\psi} & = \\langle\\psi|X_{j}|\\psi\\rangle \\\\\n",
    "& = \\langle\\psi|I X_{j}I|\\psi\\rangle \\\\\n",
    "& = \\iint dx_{j}dx_{j}'\\langle\\psi|x_{j}\\rangle\\langle x_{j}|X_{j}|x_{j}'\\rangle\\langle x_{j}'|\\psi\\rangle \\\\ \n",
    "& = \\iint dx_{j}dx_{j}'\\psi^{*}(x_{j})\\langle x_{j}|x_{j}'|x_{j}'\\rangle\\psi(x_{j}') \\\\\n",
    "& = \\iint dx_{j}dx_{j}'x_{j}'\\psi^{*}(x_{j})\\delta(x_{j}-x_{j}')\\psi(x_{j}') \\\\\n",
    "& = \\int dx_{j}|\\psi(x_{j})|^{2}x_{j} \\\\\n",
    "& = \\int dx_{j}\\psi(x_{j})^{*}x_{j}\\psi(x_{j}).\n",
    "\\end{align}"
   ]
  },
  {
   "cell_type": "markdown",
   "metadata": {},
   "source": [
    "Pelo mesmo procedimento, pode-se verificar que para $n\\in\\mathbb{N}_{>1}$:\n",
    "\\begin{equation}\n",
    "\\langle X_{j}^{n}\\rangle_{\\psi} = \\int dx_{j}|\\psi(x_{j})|^{2}x_{j}^{n} = \\int dx_{j}\\psi(x_{j})^{*}x_{j}^{n}\\psi(x_{j}).\n",
    "\\end{equation}\n",
    "\n",
    "Para o momento linear\n",
    "\\begin{align}\n",
    "\\langle P_{j}\\rangle_{\\psi} & = \\langle\\psi|P_{j}|\\psi\\rangle \\\\\n",
    "& = \\langle\\psi|I P_{j}|\\psi\\rangle \\\\ \n",
    "& = \\int dx_{j}\\langle\\psi|x_{j}\\rangle\\langle x_{j}|P_{j}|\\psi\\rangle \\\\\n",
    "& = \\int dx_{j}\\psi^{*}(x_{j})\\left(\\frac{\\hbar}{i}\\partial_{x_{j}}\\right)\\langle x_{j}|\\psi\\rangle \\\\\n",
    "& = \\int dx_{j}\\psi^{*}(x_{j})\\left(\\frac{\\hbar}{i}\\partial_{x_{j}}\\right)\\psi(x_{j}).\n",
    "\\end{align}"
   ]
  },
  {
   "cell_type": "markdown",
   "metadata": {},
   "source": [
    "No caso de $P_{j}^{2}=P_{j}P_{j}$ fazemos\n",
    "\\begin{align}\n",
    "\\langle P_{j}^{2}\\rangle_{\\psi} & = \\langle\\psi|P_{j}P_{j}|\\psi\\rangle \\\\\n",
    "& = \\langle\\psi|I P_{j} I P_{j}|\\psi\\rangle \\\\\n",
    "& = \\iint dx_{j}dx_{j}'\\langle\\psi|x_{j}\\rangle\\langle x_{j}|P_{j}|x_{j}'\\rangle\\langle x_{j}'|P_{j}|\\psi\\rangle \\\\\n",
    "& = \\iint dx_{j}dx_{j}'\\psi^{*}(x_{j})\\langle x_{j}|P_{j}|x_{j}'\\rangle\\left(\\frac{\\hbar}{i}\\partial_{x_{j}'}\\psi(x_{j}')\\right) \\\\\n",
    "& = \\int dx_{j}\\psi^{*}(x_{j})\\langle x_{j}|P_{j}\\left(\\int dx_{j}'\\frac{\\hbar}{i}\\partial_{x_{j}'}\\psi(x_{j}')|x_{j}'\\rangle\\right) \\\\\n",
    "& = \\int dx_{j}\\psi^{*}(x_{j})\\frac{\\hbar}{i}\\partial_{x_{j}}\\left(\\langle x_{j}|\\left(\\int dx_{j}'\\frac{\\hbar}{i}\\partial_{x_{j}'}\\psi(x_{j}')|x_{j}'\\rangle\\right)\\right) \\\\\n",
    "& = \\int dx_{j}\\psi^{*}(x_{j})\\frac{\\hbar}{i}\\partial_{x_{j}}\\left(\\int dx_{j}'\\frac{\\hbar}{i}\\partial_{x_{j}'}\\psi(x_{j}')\\langle x_{j}|x_{j}'\\rangle\\right) \\\\\n",
    "& = \\int dx_{j}\\psi^{*}(x_{j})\\frac{\\hbar}{i}\\partial_{x_{j}}\\int dx_{j}'\\frac{\\hbar}{i}\\partial_{x_{j}'}\\psi(x_{j}')\\delta(x_{j}-x_{j}')  \\\\\n",
    "& = \\int dx_{j}\\psi^{*}(x_{j})\\frac{\\hbar}{i}\\partial_{x_{j}}\\left(\\frac{\\hbar}{i}\\partial_{x_{j}}\\psi(x_{j})\\right) \\\\\n",
    "& = \\int dx_{j}\\psi^{*}(x_{j})\\left(\\frac{\\hbar}{i}\\right)^{2}\\partial_{x_{j}x_{j}}\\psi(x_{j}) \\\\\n",
    "& = \\int dx_{j}\\psi^{*}(x_{j})\\left(\\frac{\\hbar}{i}\\partial_{x_{j}}\\right)^{2}\\psi(x_{j}).\n",
    "\\end{align}\n",
    "Pelo mesmo procedimento, pode-se verificar que para $n\\in\\mathbb{N}_{>2}$:\n",
    "\\begin{equation}\n",
    "\\langle P_{j}^{n}\\rangle_{\\psi} = \\int dx_{j}\\psi^{*}(x_{j})\\left(\\frac{\\hbar}{i}\\partial_{x_{j}}\\right)^{n}\\psi(x_{j}).\n",
    "\\end{equation}"
   ]
  },
  {
   "cell_type": "markdown",
   "metadata": {},
   "source": [
    "## Equação de Schrödinger na base de posição\n",
    "Considere um Hamiltoniano que inclui a energia cinética e potencial de uma partícula não relativística:\n",
    "\\begin{equation}\n",
    "H_{t} = \\frac{P^{2}}{2m} + U_{t},\n",
    "\\end{equation}\n",
    "em que $m$ é a massa da partícula e $P^{2}=\\vec{P}\\cdot\\vec{P}$. Consideremos agora a equação de Schrödinger para o vetor de estado:\n",
    "\\begin{equation}\n",
    "i\\hbar\\partial_{t}|\\psi_{t}\\rangle = H_{t}|\\psi_{t}\\rangle.\n",
    "\\end{equation}\n",
    "\n",
    "Seguindo, tomemos o produto interno de $|\\vec{x}\\rangle$ com a eq. de Schrödinger:\n",
    "\\begin{equation}\n",
    "i\\hbar\\partial_{t}\\langle\\vec{x}|\\psi_{t}\\rangle = \\langle\\vec{x}|\\frac{P^{2}}{2m}|\\psi_{t}\\rangle + \\langle\\vec{x}|U_{t}|\\psi_{t}\\rangle.\n",
    "\\end{equation}"
   ]
  },
  {
   "cell_type": "markdown",
   "metadata": {},
   "source": [
    "Pode-se verificar que \n",
    "\\begin{equation}\n",
    "\\langle x_{j}|P_{j}^{2}|\\psi\\rangle = -\\hbar^{2}\\partial_{x_{j}x_{j}}\\psi(x_{j}) \\therefore \\langle\\vec{x}|P_{j}^{2}|\\psi\\rangle=-\\hbar^{2}\\partial_{x_{j}x_{j}}\\psi(\\vec{x}).\n",
    "\\end{equation}\n",
    "Assim vem que\n",
    "\\begin{align}\n",
    "\\langle\\vec{x}|P^{2}|\\psi\\rangle & = \\langle\\vec{x}|\\sum_{j}P_{j}^{2}|\\psi\\rangle \\\\\n",
    "& = \\sum_{j}\\langle\\vec{x}|P_{j}^{2}|\\psi\\rangle \\\\\n",
    "& = -\\hbar^{2}\\sum_{j}\\partial_{x_{j}x_{j}}\\psi(\\vec{x}) \\\\\n",
    "& = -\\hbar^{2}\\nabla^{2}_{\\vec{x}}\\psi(\\vec{x}).\n",
    "\\end{align}\n",
    "\n",
    "Substituindo na equação de Schrödinger acima, e __assumindo__\n",
    "\\begin{equation}\n",
    "U_{t}|\\vec{x}\\rangle = u_{t}(\\vec{x})|\\vec{x}\\rangle\n",
    "\\end{equation}\n",
    "com $u_{t}(\\vec{x})$ sendo uma função escalar da posição, obtemos a equação de Schrödinger para os coeficientes $\\left(c_{\\vec{x}}=\\langle\\vec{x}|\\psi_{t}\\rangle=\\psi_{t}(\\vec{x})\\right)$ do estado na base de posição $\\left(|\\psi_{t}\\rangle=\\int d^{3}x c_{\\vec{x}}|\\vec{x}\\rangle\\right):$\n",
    "\\begin{equation}\n",
    "i\\hbar\\partial_{t}\\psi_{t}(\\vec{x}) = \\frac{-\\hbar^{2}}{2m}\\nabla^{2}_{\\vec{x}}\\psi_{t}(\\vec{x}) + u_{t}(\\vec{x})\\psi_{t}(\\vec{x}).\n",
    "\\end{equation}\n",
    "Ou seja, a MQ ondulatória de Schödinger está contida dentro do formalismo matemático da Mecânica Quântica."
   ]
  },
  {
   "cell_type": "markdown",
   "metadata": {
    "tags": []
   },
   "source": [
    "---\n",
    "# Exercícios\n",
    "\n",
    "$1.$ Para o operador de translação espacial $T(\\delta x_{j}) = I - \\frac{i}{\\hbar}P_{j}\\delta x_{j}$, considerando $O(\\delta x_{j}^{2})\\approx 0$, verifique que $\\lim_{\\delta x_{j}\\rightarrow 0}T(\\delta x_{j}) = I$, que $T(\\delta x_{j})T(\\delta x_{j}') = T(\\delta x_{j}+\\delta x_{j}')$, que $T^{\\dagger}(\\delta x_{j}) = T(-\\delta x_{j})$ e que $T^{\\dagger}(\\delta x_{j})T(\\delta x_{j}) = T(\\delta x_{j})T^{\\dagger}(\\delta x_{j}) = I.$\n",
    "\n",
    "$2.$ Mostre que se a relação $[X_{j},T(\\delta x_{j})]|x_{j}\\rangle = \\delta x_{j}I|x_{j}\\rangle$ vale para os estados da base $\\{|x_{j}\\rangle\\}$, então ela vale também para um estado qualquer $|\\psi\\rangle\\in\\mathcal{H}$.\n",
    "\n",
    "$3.$ Prove que $\\lim_{n\\rightarrow\\infty}\\left(1+\\frac{1}{n}\\right)^{n}=e$.\n",
    "\n",
    "$4.$ Verifique que $\\langle X_{j}^{2}\\rangle_{\\psi} = \\int dx_{j}|\\psi(x_{j})|^{2}x_{j}^{2}$.\n",
    "\n",
    "$5.$ Verifique que $\\langle P_{j}^{3}\\rangle_{\\psi} = \\int dx_{j}\\psi^{*}(x_{j})\\left(\\frac{\\hbar}{i}\\partial_{x_{j}}\\right)^{3}\\psi(x_{j})$.\n",
    "\n",
    "$6.$ Verifique que $\\langle x_{j}|P_{j}^{2}|\\psi\\rangle = -\\hbar^{2}\\partial_{x_{j}x_{j}}\\psi(x_{j})$."
   ]
  }
 ],
 "metadata": {
  "kernelspec": {
   "display_name": "Python 3 (ipykernel)",
   "language": "python",
   "name": "python3"
  },
  "language_info": {
   "codemirror_mode": {
    "name": "ipython",
    "version": 3
   },
   "file_extension": ".py",
   "mimetype": "text/x-python",
   "name": "python",
   "nbconvert_exporter": "python",
   "pygments_lexer": "ipython3",
   "version": "3.11.1"
  }
 },
 "nbformat": 4,
 "nbformat_minor": 4
}
