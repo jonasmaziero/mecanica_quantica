{
 "cells": [
  {
   "cell_type": "markdown",
   "metadata": {},
   "source": [
    "### Notas de aula de Mecânica Quântica <br> Autor: Jonas Maziero\n",
    "\n",
    "# Átomos Hidrogenóides"
   ]
  },
  {
   "cell_type": "markdown",
   "metadata": {},
   "source": [
    "## Solução radial\n",
    "A equação diferencial que precisamos resolver nesse caso é\n",
    "\\begin{equation}\n",
    "\\frac{\\partial}{\\partial r}\\left(r^{2}\\frac{\\partial\\Omega(r)}{\\partial r}\\right) + \\left(\\frac{r^{2}2\\mu(E-U(r))}{\\hbar^{2}}-l(l+1)\\right)\\Omega(r)=0.\n",
    "\\end{equation}\n",
    "Substituindo \n",
    "$$U(r) = -\\frac{kZe^{2}}{r} = -\\frac{Ze^{2}}{4\\pi\\epsilon_{0}r}$$\n",
    "e dividindo toda a equação acima por $r^{2}$, vem que\n",
    "\\begin{equation}\n",
    "\\frac{1}{r^{2}}\\frac{\\partial}{\\partial r}\\left(r^{2}\\frac{\\partial\\Omega(r)}{\\partial r}\\right) + \\left(\\frac{2\\mu E}{\\hbar^{2}}+\\frac{2\\mu Ze^{2}}{\\hbar^{2}4\\pi\\epsilon_{0}r}-\\frac{l(l+1)}{r^{2}}\\right)\\Omega(r)=0.\n",
    "\\end{equation}\n",
    "Vamos definir uma variável proporcional ao produto da massa reduzida pela energia,\n",
    "\\begin{equation}\n",
    "\\beta := \\frac{\\sqrt{-2\\mu E}}{\\hbar},\n",
    "\\end{equation}\n",
    "e fazer a seguinte _mudança de variável_\n",
    "\\begin{equation}\n",
    "\\rho := 2\\beta r.\n",
    "\\end{equation}\n",
    "Agora, notando que \n",
    "$$\\partial_{r}=(\\partial_{r}\\rho)\\partial_{\\rho}=2\\beta\\partial_{\\rho}$$\n",
    "teremos\n",
    "\\begin{align}\n",
    "& \\frac{4\\beta^{2}}{\\rho^{2}}2\\beta\\frac{\\partial}{\\partial\\rho}\\left(\\frac{\\rho^{2}}{4\\beta^{2}}2\\beta\\frac{\\partial\\Omega(\\rho)}{\\partial \\rho}\\right) + \\left(-\\beta^{2}+\\frac{2\\beta 2\\mu Ze^{2}}{\\hbar^{2}4\\pi\\epsilon_{0}\\rho}-\\frac{4\\beta^{2}l(l+1)}{\\rho^{2}}\\right)\\Omega(\\rho)=0, \\\\\n",
    "& \\therefore\\frac{1}{\\rho^{2}}\\frac{\\partial}{\\partial\\rho}\\left(\\rho^{2}\\frac{\\partial\\Omega(\\rho)}{\\partial \\rho}\\right) + \\left(-\\frac{1}{4}+\\frac{\\mu Ze^{2}}{\\hbar^{2}4\\pi\\epsilon_{0}\\beta\\rho}-\\frac{l(l+1)}{\\rho^{2}}\\right)\\Omega(\\rho)=0.\n",
    "\\end{align}"
   ]
  },
  {
   "cell_type": "markdown",
   "metadata": {},
   "source": [
    "Definindo a constante\n",
    "\\begin{equation}\n",
    "\\gamma := \\frac{\\mu Ze^{2}}{\\hbar^{2}4\\pi\\epsilon_{0}\\beta},\n",
    "\\end{equation}\n",
    "obtemos\n",
    "\\begin{equation}\n",
    "\\frac{1}{\\rho^{2}}\\frac{\\partial}{\\partial\\rho}\\left(\\rho^{2}\\frac{\\partial\\Omega(\\rho)}{\\partial \\rho}\\right) + \\left(-\\frac{1}{4}+\\frac{\\gamma}{\\rho}-\\frac{l(l+1)}{\\rho^{2}}\\right)\\Omega(\\rho)=0.  \\hspace{2cm} (\\square)\n",
    "\\end{equation}\n",
    "Vamos analisar o limite de _raios muito grandes_, \n",
    "$$r\\gg 1\\therefore \\rho\\gg 1.$$\n",
    "Nesse limite \n",
    "$$-\\frac{1}{4}+\\frac{\\gamma}{\\rho}-\\frac{l(l+1)}{\\rho^{2}}\\approx -\\frac{1}{4}$$\n",
    "e a equação diferencial resultante, \\begin{equation}\n",
    "\\frac{1}{\\rho^{2}}\\frac{\\partial}{\\partial\\rho}\\left(\\rho^{2}\\frac{\\partial\\Omega(\\rho)}{\\partial \\rho}\\right) -\\frac{1}{4}\\Omega(\\rho)=0,\n",
    "\\end{equation}\n",
    "tem como solução, a menos de uma constante multiplicativa, a seguinte função\n",
    "\\begin{equation}\n",
    "\\Omega(\\rho\\gg 1) = e^{-\\rho/2}.\n",
    "\\end{equation}\n",
    "\n",
    "Seguindo, vamos assumir que a solução geral da equação ($\\square$) tem a forma\n",
    "\\begin{equation}\n",
    "\\Omega(\\rho) = e^{-\\rho/2}F(\\rho),\n",
    "\\end{equation}\n",
    "e vamos obter a equação diferencial que $F(\\rho)$ deve satisfazer. Notemos que\n",
    "\\begin{equation}\n",
    "\\frac{\\partial\\Omega}{\\partial\\rho} = -\\frac{1}{2}e^{-\\rho/2}F + e^{-\\rho/2}\\frac{\\partial F}{\\partial\\rho}\n",
    "\\end{equation}"
   ]
  },
  {
   "cell_type": "markdown",
   "metadata": {},
   "source": [
    "e que\n",
    "\\begin{align}\n",
    "\\frac{\\partial}{\\partial\\rho}\\left(\\rho^{2}\\frac{\\partial\\Omega}{\\partial\\rho}\\right) & = -\\frac{1}{2}\\frac{\\partial}{\\partial\\rho}\\left(\\rho^{2}e^{-\\rho/2}F\\right) + \\frac{\\partial}{\\partial\\rho}\\left(\\rho^{2}e^{-\\rho/2}\\frac{\\partial F}{\\partial\\rho}\\right) \\\\\n",
    "& = -\\rho e^{-\\rho/2}F + \\frac{1}{4}\\rho^{2}e^{-\\rho/2}F - \\frac{1}{2}\\rho^{2}e^{-\\rho/2}\\frac{\\partial F}{\\partial\\rho} \\\\\n",
    "& \\hspace{0.5cm} + 2\\rho e^{-\\rho/2}\\frac{\\partial F}{\\partial\\rho} - \\frac{1}{2}\\rho^{2}e^{-\\rho/2}\\frac{\\partial F}{\\partial\\rho} + \\rho^{2}e^{-\\rho/2}\\frac{\\partial^{2}F}{\\partial\\rho^{2}}.\n",
    "\\end{align}\n",
    "Substituindo na equação ($\\square$), obteremos\n",
    "\\begin{equation}\n",
    "e^{-\\rho/2}\\frac{\\partial^{2}F}{\\partial\\rho^{2}} + e^{-\\rho/2}\\frac{\\partial F}{\\partial\\rho}\\left(\\frac{2}{\\rho}-1\\right) + e^{-\\rho/2}F\\left(\\frac{1}{4}-\\frac{1}{\\rho}\\right) + \\left(-\\frac{1}{4}+\\frac{\\gamma}{\\rho}-\\frac{l(l+1)}{\\rho^{2}}\\right)e^{-\\rho/2}F=0.\n",
    "\\end{equation}\n",
    "Multiplicando por $e^{\\rho/2}$, pra $\\rho$ finito, obtemos\n",
    "\\begin{equation}\n",
    "\\frac{\\partial^{2}F}{\\partial\\rho^{2}} + \\left(\\frac{2}{\\rho}-1\\right)\\frac{\\partial F}{\\partial\\rho} + \\left(\\frac{\\gamma-1}{\\rho}-\\frac{l(l+1)}{\\rho^{2}}\\right)F=0. \\hspace{2cm} (\\diamondsuit)\n",
    "\\end{equation}"
   ]
  },
  {
   "cell_type": "markdown",
   "metadata": {},
   "source": [
    "Para resolver essa equação diferencial, vamos usar o método de Frobenius de resolução por série de potências. Para que $F(\\rho=0)$ seja finita mesmo havendo vários termos divergentes em $(\\diamondsuit)$, usamos\n",
    "\\begin{equation}\n",
    "F(\\rho) = \\rho^{s}\\sum_{j=0}^{\\infty}a_{j}\\rho^{j}=\\sum_{j=0}^{\\infty}a_{j}\\rho^{j+s},\n",
    "\\end{equation}\n",
    "com $s\\ge 0$. Usando\n",
    "\\begin{equation}\n",
    "\\frac{\\partial F}{\\partial\\rho} = \\sum_{j=0}^{\\infty}(j+s)a_{j}\\rho^{j+s-1}\n",
    "\\end{equation}\n",
    "e\n",
    "\\begin{equation}\n",
    "\\frac{\\partial^{2} F}{\\partial\\rho^{2}} = \\sum_{j=0}^{\\infty}(j+s)(j+s-1)a_{j}\\rho^{j+s-2}\n",
    "\\end{equation}"
   ]
  },
  {
   "cell_type": "markdown",
   "metadata": {},
   "source": [
    "em $(\\diamondsuit)$, obteremos\n",
    "\\begin{align}\n",
    "& \\sum_{j=0}^{\\infty}(j+s)(j+s-1)a_{j}\\rho^{j+s-2} + \\left(\\frac{2}{\\rho}-1\\right)\\sum_{j=0}^{\\infty}(j+s)a_{j}\\rho^{j+s-1} \\\\ \n",
    "&+ \\left(\\frac{\\gamma-1}{\\rho}-\\frac{l(l+1)}{\\rho^{2}}\\right)\\sum_{j=0}^{\\infty}a_{j}\\rho^{j+s}=0, \\\\\n",
    "& \\therefore \\sum_{j=0}^{\\infty}\\left((j+s)(j+s-1)+2(j+s)-l(l+1)\\right)a_{j}\\rho^{j+s-2} \\\\ \n",
    "& \\hspace{0.5cm} - \\sum_{j=0}^{\\infty}\\left(j+s+1-\\gamma\\right)a_{j}\\rho^{j+s-1}=0.\n",
    "\\end{align}\n",
    "Trocando de variável, $k=j-1\\therefore j=k+1$, teremos que\n",
    "\\begin{align}\n",
    "& \\sum_{j=0}^{\\infty}\\left((j+s)(j+s-1)+2(j+s)-l(l+1)\\right)a_{j}\\rho^{j+s-2} \\\\ \n",
    "& = \\sum_{k=-1}^{\\infty}\\left((k+1+s)(k+1+s-1)+2(k+1+s)-l(l+1)\\right)a_{k+1}\\rho^{k+1+s-2} \\\\\n",
    "& \\equiv \\sum_{j=-1}^{\\infty}\\left((j+s+1)(j+s+2)-l(l+1)\\right)a_{j+1}\\rho^{j+s-1} \\\\\n",
    "& = \\left(s(s+1)-l(l+1)\\right)a_{0}\\rho^{s-2} + \\sum_{j=0}^{\\infty}\\left((j+s+1)(j+s+2)-l(l+1)\\right)a_{j+1}\\rho^{j+s-1}.\n",
    "\\end{align}\n",
    "\n",
    "Por conseguinte, substituindo a última equação acima na penúltima equação acima, obtemos\n",
    "\\begin{align}\n",
    "& 0=\\left(s(s+1)-l(l+1)\\right)a_{0}\\rho^{s-2}\\\\ \n",
    "& \\hspace{0.5cm} + \\sum_{j=0}^{\\infty}\\left(\\left((j+s+1)(j+s+2)-l(l+1)\\right)a_{j+1}-\\left(j+s+1-\\gamma\\right)a_{j}\\right)\\rho^{j+s-1}.\n",
    "\\end{align}"
   ]
  },
  {
   "cell_type": "markdown",
   "metadata": {},
   "source": [
    "Como todos os coeficientes devem ser nulos, devemos ter\n",
    "\\begin{align}\n",
    "& s(s+1)=l(l+1) \\ \\therefore\\  s=l \\text{ ou } s=-l-1, \\\\\n",
    "& a_{j+1} = \\frac{j+s+1-\\gamma}{(j+s+1)(j+s+2)-l(l+1)}a_{j} \\text{ pra } j=0,1,2,\\cdots.\n",
    "\\end{align}\n",
    "\n",
    "Lembrando, $l=0,1,2,\\cdots$. Por isso a solução para $s=-l-1$ não é aceitável pois $\\rho^{s}=\\rho^{-l-1}$ em $F(\\rho)=\\rho^{s}\\sum_{j=0}^{\\infty}a_{j}\\rho^{j}$ __pode divergir__ quando $\\rho\\rightarrow 0$. Por conseguinte\n",
    "\\begin{equation}\n",
    "s=l.\n",
    "\\end{equation}\n",
    "Assim \n",
    "\\begin{align}\n",
    "a_{j+1} & = \\frac{j+l+1-\\gamma}{(j+l+1)(j+l+2)-l(l+1)}a_{j}.\n",
    "\\end{align}\n",
    "\n",
    "Para valores altos de $j$, teremos\n",
    "\\begin{equation}\n",
    "\\lim_{j\\gg 1}\\frac{a_{j+1}}{a_{j}} = \\lim_{j\\gg 1}\\frac{j+l+1-\\gamma}{(j+l+1)(j+l+2)-l(l+1)} \\approx \\frac{1}{j},\n",
    "\\end{equation}\n",
    "que é o mesmo comportamento que para $e^{\\rho^{2}}$. Por isso, para que $\\Omega(\\rho)=e^{-\\rho/2}F(\\rho)$ não divirja quando $\\rho\\rightarrow\\infty$, temos que __truncar a série__ para $F(\\rho)=\\rho^{l}\\sum_{j=0}^{\\infty}a_{j}\\rho^{j}$. Fazemos isso impondo para algum $$j=j_{\\max}=0,1,2,\\cdots$$\n",
    "devemos ter \n",
    "$$a_{j_{\\max}+1}=0\\ \\therefore\\ a_{j>j_{\\max}+1}=0,$$\n",
    "que é obtido fazendo-se\n",
    "\\begin{equation}\n",
    "\\gamma := j_{\\max}+l+1 =:n = 1,2,3,\\cdots.\n",
    "\\end{equation}\n",
    "Aqui aparece a definição do __número quântico principal__ n. Vale deixar registrado aqui que\n",
    "\\begin{equation}\n",
    "l < n \\therefore l = 0,\\cdots,n-1  \\text { e } n=1,2,3,\\cdots.\n",
    "\\end{equation}"
   ]
  },
  {
   "cell_type": "markdown",
   "metadata": {},
   "source": [
    "### Quantização da energia\n",
    "Lembrando, $\\gamma = \\mu Ze^{2}/\\hbar^{2}4\\pi\\epsilon_{0}\\beta=n$ com $\\beta^{2} := -2\\mu E/\\hbar^{2}$. Assim as energias possíveis do átomo hidrogenóide são\n",
    "\\begin{equation}\n",
    "E = -\\frac{\\hbar^{2}\\beta^{2}}{2\\mu} = -\\frac{\\hbar^{2}}{2\\mu} \\frac{\\mu^{2}Z^{2}e^{4}}{\\hbar^{4}(4\\pi\\epsilon_{0})^{2}n^{2}} = -\\frac{\\mu Z^{2}e^{4}}{(4\\pi\\epsilon_{0})^{2}2\\hbar^{2}}\\frac{1}{n^{2}}\n",
    "\\end{equation}\n",
    "ou\n",
    "\\begin{equation}\n",
    "E_{n} = \\frac{E_{1}}{n^{2}}, \\ n=1,2,3,\\cdots,\n",
    "\\end{equation}\n",
    "com a energia do estado fundamental, que depende de $Z$ e de $\\mu$, sendo\n",
    "\\begin{equation}\n",
    "E_{1} = -\\frac{\\mu Z^{2}e^{4}}{(4\\pi\\epsilon_{0})^{2}2\\hbar^{2}}.\n",
    "\\end{equation}\n",
    "Essa equação é idêntica àquela obtida por Bohr. Esse fato foi uma indicação forte de que a Mecânica Quântica Ondulatória de Schrödinger estava correta."
   ]
  },
  {
   "cell_type": "code",
   "execution_count": 8,
   "metadata": {},
   "outputs": [
    {
     "data": {
      "image/png": "[encoded data removed]",
      "text/plain": [
       "<Figure size 640x480 with 1 Axes>"
      ]
     },
     "metadata": {},
     "output_type": "display_data"
    }
   ],
   "source": [
    "import math\n",
    "me = 9.109382*10**-31 # kg (massa do elétron)\n",
    "mp = 1.67262192*10**-27 # kg (massa do próton)\n",
    "e = 1.60217662*10**-19 # C (carga elementar)\n",
    "k = 8.9875517923*10**9 # Nm^2/C^2 (constante de Coulomb)\n",
    "h = 6.626069*10**-34 # Js (constante de Planck)\n",
    "heV = h/e # em eV\n",
    "hb = h/(2*math.pi) # hbar\n",
    "hbeV = hb/e # em eV\n",
    "c = 2.99792458*10**8 # m/s (velocidade da luz no vácuo)\n",
    "from matplotlib import pyplot as plt\n",
    "\n",
    "def bohr(Z,mu,n): # em eV\n",
    "    return (-((mu*Z**2*e**4*k**2)/(2*hb**2))/n**2)/e\n",
    "\n",
    "def bohr_ed(Z,mu,xmin,xmax):\n",
    "    plt.hlines(bohr(Z,mu,1),xmin,xmax,color='magenta')\n",
    "    plt.text(-0.15,bohr(Z,mu,1),'1',color='magenta'); \n",
    "    plt.text(1.01,bohr(Z,mu,1),'%3.3f' % (bohr(Z,mu,1)),color='magenta')\n",
    "    plt.hlines(bohr(Z,mu,2),xmin,xmax,color='blue')\n",
    "    plt.text(-0.15,bohr(Z,mu,2),'2',color='blue'); \n",
    "    plt.text(1.01,bohr(Z,mu,2),'%3.3f' % (bohr(Z,mu,2)),color='blue')\n",
    "    plt.hlines(bohr(Z,mu,3),xmin,xmax,color='cyan') \n",
    "    plt.text(-0.15,bohr(Z,mu,3),'3',color='cyan'); \n",
    "    plt.text(1.01,bohr(Z,mu,3),'%3.3f' % (bohr(Z,mu,3)),color='cyan')\n",
    "    plt.hlines(bohr(Z,mu,4),xmin,xmax,color='green')\n",
    "    plt.text(-0.15,bohr(Z,mu,4),'4',color='green'); \n",
    "    plt.text(1.01,bohr(Z,mu,4),'%3.3f' % (bohr(Z,mu,4)),color='green')\n",
    "    plt.hlines(bohr(Z,mu,5),xmin,xmax,color='gray'); \n",
    "    plt.hlines(bohr(Z,mu,6),xmin,xmax,color='brown')\n",
    "    plt.hlines(bohr(Z,mu,7),xmin,xmax,color='brown'); \n",
    "    plt.hlines(bohr(Z,mu,8),xmin,xmax,color='brown')\n",
    "    plt.hlines(bohr(Z,mu,9),xmin,xmax,color='gray'); \n",
    "    plt.hlines(bohr(Z,mu,10),xmin,xmax,color='brown')\n",
    "    plt.hlines(bohr(Z,mu,11),xmin,xmax,color='brown')\n",
    "    plt.hlines(0,0,1,color='red')\n",
    "    plt.text(-0.15,0,r'$n=\\infty$',color='red'); \n",
    "    plt.text(1.01,0.1,r'0 (eV)',color='red')\n",
    "    plt.xlim(0,2); plt.ylim(bohr(Z,mu,1)-0.1,0)\n",
    "    plt.annotate(\"\", xy=(0.5,bohr(Z,mu,1)), xytext=(0.5,bohr(Z,mu,2)), \n",
    "                 arrowprops=dict(arrowstyle=\"<->\"))\n",
    "    plt.text(0.51,(bohr(Z,mu,1)+bohr(Z,mu,2))/2,\n",
    "             (c*heV)/(bohr(Z,mu,2)-bohr(Z,mu,1)))\n",
    "    plt.annotate(\"\", xy=(0.7,bohr(Z,mu,2)), xytext=(0.7,bohr(Z,mu,3)), \n",
    "                 arrowprops=dict(arrowstyle=\"<->\"))\n",
    "    plt.text(0.71,(bohr(Z,mu,2)+bohr(Z,mu,3))/2,\n",
    "             (c*heV)/(bohr(Z,mu,3)-bohr(Z,mu,2))) # lambda em metros\n",
    "    plt.axis('off'); plt.show()\n",
    "    \n",
    "Z=1; mu = (me*Z*mp)/(me+Z*mp); bohr_ed(Z,mu,0,1)"
   ]
  },
  {
   "cell_type": "markdown",
   "metadata": {},
   "source": [
    "---\n",
    "### Função de onda radial\n",
    "Temos que\n",
    "\\begin{equation}\n",
    "\\Omega_{n,l}(\\rho) = e^{-\\rho/2}F_{n,l}(\\rho).\n",
    "\\end{equation}\n",
    "E, usando as restrições obtidas acima, podemos escrever:\n",
    "\\begin{equation}\n",
    "F_{n,l}(\\rho) = \\sum_{j=0}^{n-l-1}a_{j}(n,l)\\rho^{j+l}\n",
    "\\end{equation}\n",
    "com\n",
    "\\begin{equation}\n",
    "a_{j+1}(n,l) = \\frac{j+l+1-n}{(j+l+1)(j+l+2)-l(l+1)}a_{j}(n,l) \n",
    "\\end{equation}\n",
    "para $n=1,2,3,\\cdots$ e $l=0,1,\\cdots,n-1$."
   ]
  },
  {
   "cell_type": "markdown",
   "metadata": {},
   "source": [
    "Para \n",
    "* $n=1$: <br>\n",
    "Nesse caso $l=0$. Como nesse caso só temos $j=0$, vem que \n",
    "$$a_1(1,0) = a_{0+1}(1,0) = \\frac{0+0+1-1}{(0+0+1)(0+0+2)-0(0+1)}a_{0}(1,0)=0.$$\n",
    "Portanto $a_{j>1}(1,0)=0$ e\n",
    "\\begin{align}\n",
    "F_{1,0}(\\rho) &= a_{0}(1,0) \\equiv a_{0}.\n",
    "\\end{align}\n",
    "* $n=2$: <br>\n",
    "Nesse caso $l=0,1$ e \n",
    "\\begin{align}\n",
    "F_{2,0}(\\rho) &= \\sum_{j=0}^{2-0-1}a_{j}(2,0)\\rho^{j+0} =  a_{0}(2,0) + a_{1}(2,0)\\rho \\\\\n",
    "& = \\frac{a_{0}}{2}(2-\\rho)\n",
    "\\end{align}\n",
    "pois $a_{0}(2,0)\\equiv a_{0}$ e \n",
    "\\begin{equation}\n",
    "a_{1}(2,0)=a_{0+1}(2,0) = \\frac{0+0+1-2}{(0+0+1)(0+0+2)-0(0+1)}a_{0}(2,0) = -\\frac{a_{0}}{2}.\n",
    "\\end{equation}\n",
    "Já\n",
    "\\begin{align}\n",
    "F_{2,1}(\\rho) & = \\sum_{j=0}^{2-1-1}a_{j}(2,1)\\rho^{j+1} = a_{0}(2,1)\\rho \\\\\n",
    "& = a_{0}\\rho.\n",
    "\\end{align}"
   ]
  },
  {
   "cell_type": "markdown",
   "metadata": {},
   "source": [
    "* $n=3$: <br>\n",
    "Aqui $l=0,1,2$. Temos que\n",
    "\\begin{align}\n",
    "F_{3,0}(\\rho) &= \\sum_{j=0}^{3-0-1}a_{j}(3,0)\\rho^{j+0} = a_{0}(3,0) + a_{1}(3,0)\\rho + a_{2}(3,0)\\rho^{2} \\\\\n",
    "& = \\frac{a_{0}}{6}\\left(6-6\\rho+\\rho^{2}\\right)\n",
    "\\end{align}\n",
    "pois\n",
    "\\begin{align}\n",
    "& a_{1}(3,0) = \\frac{0+0+1-3}{(0+0+1)(0+0+2)-0(0+1)}a_{0}(3,0)=-a_{0}, \\\\\n",
    "& a_{2}(3,0) = \\frac{1+0+1-3}{(1+0+1)(1+0+2)-0(0+1)}a_{1}(3,0) = \\frac{a_{0}}{6}.\n",
    "\\end{align}\n",
    "Já\n",
    "\\begin{align}\n",
    "F_{3,1}(\\rho) &= \\sum_{j=0}^{3-1-1}a_{j}(3,1)\\rho^{j+1} = a_{0}(3,1)\\rho + a_{1}(3,1)\\rho^{2} \\\\\n",
    "& = \\frac{a_{0}}{4}\\left(4\\rho-\\rho^{2}\\right)\n",
    "\\end{align}\n",
    "pois\n",
    "\\begin{equation}\n",
    "a_{1}(3,1) = \\frac{0+1+1-3}{(0+1+1)(0+1+2)-1(1+1)}a_{0}(3,1)=-\\frac{a_{0}}{4}.\n",
    "\\end{equation}\n",
    "E finalmente\n",
    "\\begin{align}\n",
    "F_{3,2}(\\rho) &= \\sum_{j=0}^{3-2-1}a_{j}(3,2)\\rho^{j+2} = a_{0}(3,2)\\rho^{0+2}\\\\ \n",
    "& = a_{0}\\rho^{2}.\n",
    "\\end{align}"
   ]
  },
  {
   "cell_type": "code",
   "execution_count": 13,
   "metadata": {},
   "outputs": [
    {
     "data": {
      "text/latex": [
       "$\\displaystyle \\frac{a_{0}}{18}$"
      ],
      "text/plain": [
       "a_{0}/18"
      ]
     },
     "execution_count": 13,
     "metadata": {},
     "output_type": "execute_result"
    }
   ],
   "source": [
    "from sympy import symbols, nsimplify, simplify, exp\n",
    "\n",
    "def aj(j,n,l):\n",
    "    if j == 1:\n",
    "        return ((j+l-n)/((j+l)*(j+1)))*a0\n",
    "    else:\n",
    "        return ((j+l-n)/((j+l)*(j+1)))*aj(j-1,n,l)\n",
    "\n",
    "# nsimplify transforma de float pra fração (tem outras opções, cuidar)\n",
    "a0=symbols('a_{0}'); nsimplify(aj(2,4,1)) "
   ]
  },
  {
   "cell_type": "code",
   "execution_count": 15,
   "metadata": {},
   "outputs": [
    {
     "name": "stdout",
     "output_type": "stream",
     "text": [
      "n =  2 , l =  0 , Omega =  a_{0}*(2 - rho)*exp(-rho/2)/2\n",
      "n =  2 , l =  1 , Omega =  a_{0}*rho*exp(-rho/2)\n"
     ]
    }
   ],
   "source": [
    "def Fnl(n,l):\n",
    "    f = a0*rho**l\n",
    "    for j in range(1,n-l-1+1):\n",
    "        f += nsimplify(aj(j,n,l))*rho**(j+l)\n",
    "    return f\n",
    "\n",
    "a0,rho=symbols('a_{0} rho')\n",
    "n = 2\n",
    "for l in range(0,n):\n",
    "    print('n = ',n,', l = ',l, ', Omega = ',simplify(exp(-rho/2)*Fnl(n,l)))"
   ]
  },
  {
   "cell_type": "markdown",
   "metadata": {},
   "source": [
    "# Polinômios associados de Laguerre\n",
    "Na sequência vamos \"verificar\" que a solução radial pode ser escrita em termos dos polinômios associados de Laguerre:\n",
    "\\begin{equation}\n",
    "\\Omega_{n,l}(\\rho) = e^{-\\rho/2}F_{n,l}(\\rho) = C_{n,l}e^{-\\rho/2}\\rho^{l}L_{n-l-1}^{2l+1}(\\rho),\n",
    "\\end{equation}\n",
    "com $C_{n,l}$ sendo uma constante e a _fórmula de Rodrigues_ para os polinômios associados de Laguerre é:\n",
    "\\begin{equation}\n",
    "L_{n-l-1}^{2l+1}(\\rho) = \\frac{e^{\\rho}\\rho^{-(2l+1)}}{(n-l-1)!}\\frac{\\partial^{n-l-1}}{\\partial\\rho^{n-l-1}}\\left(e^{-\\rho}\\rho^{n+l}\\right).\n",
    "\\end{equation}\n",
    "Segue assim que\n",
    "* $n=1,l=0$:\n",
    "\\begin{equation}\n",
    "L_{1-0-1}^{2*0+1}(\\rho) = L_{0}^{1}(\\rho) = \\frac{e^{\\rho}\\rho^{-(2*0+1)}}{(1-0-1)!}\\frac{\\partial^{1-0-1}}{\\partial\\rho^{1-0-1}}\\left(e^{-\\rho}\\rho^{1+0}\\right) = 1.\n",
    "\\end{equation}\n",
    "Assim\n",
    "\\begin{equation}\n",
    "\\Omega_{1,0}(\\rho) = e^{-\\rho/2}F_{1,0}(\\rho) = e^{-\\rho/2}a_{0} = C_{1,0}e^{-\\rho/2}\\rho^{0}L_{0}^{1}(\\rho) =C_{1,0}e^{-\\rho/2},\n",
    "\\end{equation}\n",
    "com $C_{1,0}:=a_{0}$.\n",
    "\n",
    "* $n=2,l=0$:\n",
    "\\begin{align}\n",
    "L_{2-0-1}^{2*0+1}(\\rho) &= L_{1}^{1}(\\rho) = \\frac{e^{\\rho}\\rho^{-(2*0+1)}}{(2-0-1)!}\\frac{\\partial^{2-0-1}}{\\partial\\rho^{2-0-1}}\\left(e^{-\\rho}\\rho^{2+0}\\right) \\\\\n",
    "& = \\frac{e^{\\rho}\\rho^{-1}}{1!}\\frac{\\partial^{1}}{\\partial\\rho^{1}}\\left(e^{-\\rho}\\rho^{2}\\right) \\\\\n",
    "& = \\frac{e^{\\rho}\\rho^{-1}}{1}\\left(-e^{-\\rho}\\rho^{2}+2e^{-\\rho}\\rho\\right) = 2-\\rho.\n",
    "\\end{align}\n",
    "Assim\n",
    "\\begin{equation}\n",
    "\\Omega_{2,0}(\\rho) = e^{-\\rho/2}F_{2,0}(\\rho) = e^{-\\rho/2}\\frac{a_{0}}{2}(2-\\rho) = C_{2,0}e^{-\\rho/2}L_{1}^{1}(\\rho)\n",
    "\\end{equation}\n",
    "com $C_{2,0}=a_{0}/2$."
   ]
  },
  {
   "cell_type": "markdown",
   "metadata": {},
   "source": [
    "* $n=2,l=1$\n",
    "\\begin{align}\n",
    "L_{2-1-1}^{2*1+1}(\\rho) &= L_{0}^{3}(\\rho) = \\frac{e^{\\rho}\\rho^{-(2*1+1)}}{(2-1-1)!}\\frac{\\partial^{2-1-1}}{\\partial\\rho^{2-1-1}}\\left(e^{-\\rho}\\rho^{2+1}\\right) \\\\ \n",
    "& = \\frac{e^{\\rho}\\rho^{-3}}{0!}\\frac{\\partial^{0}}{\\partial\\rho^{0}}\\left(e^{-\\rho}\\rho^{3}\\right) =1.\n",
    "\\end{align}\n",
    "Assim\n",
    "\\begin{equation}\n",
    "\\Omega_{2,1}(\\rho) = e^{-\\rho/2}F_{2,1}(\\rho) = e^{-\\rho/2}a_{0}\\rho = C_{2,0}e^{-\\rho/2}\\rho^{1}L_{0}^{3}(\\rho)\n",
    "\\end{equation}\n",
    "com $C_{2,1}=a_{0}$.\n",
    "\n",
    "* $n=3,l=0$\n",
    "\\begin{align}\n",
    "L_{3-0-1}^{2*0+1}(\\rho) &= L_{2}^{1}(\\rho) = \\frac{e^{\\rho}\\rho^{-(2*0+1)}}{(3-0-1)!}\\frac{\\partial^{3-0-1}}{\\partial\\rho^{3-0-1}}\\left(e^{-\\rho}\\rho^{3+0}\\right) \\\\\n",
    "& = \\frac{e^{\\rho}\\rho^{-1}}{2!}\\frac{\\partial^{2}}{\\partial\\rho^{2}}\\left(e^{-\\rho}\\rho^{3}\\right) \\\\\n",
    "&  = \\frac{e^{\\rho}\\rho^{-1}}{2!}\\frac{\\partial}{\\partial\\rho}\\left(-e^{-\\rho}\\rho^{3}+3e^{-\\rho}\\rho^{2}\\right) = \\frac{e^{\\rho}\\rho^{-1}}{2!}\\left(e^{-\\rho}\\rho^{3}-3e^{-\\rho}\\rho^{2}-3e^{-\\rho}\\rho^{2}+6e^{-\\rho}\\rho\\right) \\\\\n",
    "& = \\frac{1}{2}\\left(\\rho^{2}-6\\rho+6\\right).\n",
    "\\end{align}\n",
    "Assim\n",
    "\\begin{equation}\n",
    "\\Omega_{3,0}(\\rho) = e^{-\\rho/2}F_{3,0}(\\rho) = e^{-\\rho/2}\\frac{a_{0}}{6}(6-6\\rho+\\rho^{2}) = C_{3,0}e^{-\\rho/2}\\rho^{0}L_{2}^{1}(\\rho)\n",
    "\\end{equation}\n",
    "com $C_{3,0}=a_{0}/3$."
   ]
  },
  {
   "cell_type": "markdown",
   "metadata": {},
   "source": [
    "* $n=3,l=1$\n",
    "\\begin{align}\n",
    "L_{3-1-1}^{2*1+1}(\\rho) & = L_{1}^{3}(\\rho) = \\frac{e^{\\rho}\\rho^{-(2*1+1)}}{(3-1-1)!}\\frac{\\partial^{3-1-1}}{\\partial\\rho^{3-1-1}}\\left(e^{-\\rho}\\rho^{3+1}\\right) = \\frac{e^{\\rho}\\rho^{-3}}{1!}\\frac{\\partial^{1}}{\\partial\\rho^{1}}\\left(e^{-\\rho}\\rho^{4}\\right) \\\\\n",
    "& = \\frac{e^{\\rho}\\rho^{-3}}{1}\\left(-e^{-\\rho}\\rho^{4}+4e^{-\\rho}\\rho^{3}\\right) = 4-\\rho.\n",
    "\\end{align}\n",
    "Assim\n",
    "\\begin{equation}\n",
    "\\Omega_{3,1}(\\rho) = e^{-\\rho/2}F_{3,1}(\\rho) = e^{-\\rho/2}\\frac{a_{0}}{4}(4\\rho-\\rho^{2}) = C_{3,1}e^{-\\rho/2}\\rho^{1}L_{1}^{3}(\\rho)\n",
    "\\end{equation}\n",
    "com $C_{3,1}=a_{0}/4$.\n",
    "\n",
    "* $n=3,l=2$\n",
    "\\begin{align}\n",
    "L_{3-2-1}^{2*2+1}(\\rho) &= L_{0}^{5}(\\rho) = \\frac{e^{\\rho}\\rho^{-(2*2+1)}}{(3-2-1)!}\\frac{\\partial^{3-2-1}}{\\partial\\rho^{3-2-1}}\\left(e^{-\\rho}\\rho^{3+2}\\right) \\\\\n",
    "&= \\frac{e^{\\rho}\\rho^{-5}}{0!}\\frac{\\partial^{0}}{\\partial\\rho^{0}}\\left(e^{-\\rho}\\rho^{5}\\right) =1.\n",
    "\\end{align}\n",
    "Assim\n",
    "\\begin{equation}\n",
    "\\Omega_{3,2}(\\rho) = e^{-\\rho/2}F_{3,2}(\\rho) = e^{-\\rho/2}a_{0}\\rho^{2} = C_{3,2}e^{-\\rho/2}\\rho^{2}L_{0}^{5}(\\rho)\n",
    "\\end{equation}\n",
    "com $C_{3,2}=a_{0}$."
   ]
  },
  {
   "cell_type": "code",
   "execution_count": 26,
   "metadata": {},
   "outputs": [
    {
     "name": "stdout",
     "output_type": "stream",
     "text": [
      "n= 1 , l= 0 , L_0^1 = 1\n",
      "n= 2 , l= 0 , L_1^1 = 2 - x\n",
      "n= 2 , l= 1 , L_0^3 = 1\n",
      "n= 3 , l= 0 , L_2^1 = x**2/2 - 3*x + 3\n",
      "n= 3 , l= 1 , L_1^3 = 4 - x\n",
      "n= 3 , l= 2 , L_0^5 = 1\n",
      "n= 4 , l= 0 , L_3^1 = -x**3/6 + 2*x**2 - 6*x + 4\n",
      "n= 4 , l= 1 , L_2^3 = x**2/2 - 5*x + 10\n",
      "n= 4 , l= 2 , L_1^5 = 6 - x\n",
      "n= 4 , l= 3 , L_0^7 = 1\n",
      "n= 5 , l= 0 , L_4^1 = x**4/24 - 5*x**3/6 + 5*x**2 - 10*x + 5\n",
      "n= 5 , l= 1 , L_3^3 = -x**3/6 + 3*x**2 - 15*x + 20\n",
      "n= 5 , l= 2 , L_2^5 = x**2/2 - 7*x + 21\n",
      "n= 5 , l= 3 , L_1^7 = 8 - x\n",
      "n= 5 , l= 4 , L_0^9 = 1\n"
     ]
    }
   ],
   "source": [
    "from sympy import diff, factorial\n",
    "\n",
    "# Polinômios associados de Laguerre\n",
    "def rodrigues_laguerre(j,k,x):\n",
    "    if j == 0:\n",
    "        return 1\n",
    "    rod = exp(-x)*x**(j+k)\n",
    "    for l in range(1,j+1):\n",
    "        rod = diff(rod,x)\n",
    "    return ((exp(x)*(x**(-k)))/(factorial(j)))*rod\n",
    "x=symbols('x')\n",
    "for n in range(1,6):\n",
    "    for l in range(0,n):\n",
    "        j = n-l-1; k = 2*l+1\n",
    "        print('n=',n,', l=',l,', L_'+str(j)+'^'+str(k),'=',\n",
    "              str(simplify(rodrigues_laguerre(j,k,x))))"
   ]
  },
  {
   "cell_type": "markdown",
   "metadata": {},
   "source": [
    "\n",
    "## Função de onda total\n",
    "A função de onda completa fica escrita como\n",
    "\\begin{equation}\n",
    "\\psi_{n,l,m_{l}}(r,\\theta,\\phi) = \\Omega_{n,l}(r)\\Theta_{l,m_{l}}(\\theta)\\Phi_{m_{l}}(\\phi)\n",
    "\\end{equation}\n",
    "com\n",
    "\\begin{align}\n",
    "& n = 1,2,3,\\cdots, \\\\\n",
    "& l = 0,1,2, \\cdots,n-1, \\\\\n",
    "& m_{l} = -l,-l+1,\\cdots,0,\\cdots,l-1,l.\n",
    "\\end{align}\n",
    "\n",
    "Vale observar que a energia \n",
    "$$E_{n}=\\frac{E_{1}}{n^{2}}$$\n",
    "de átomos hidrogenóides depende somente do número quântico principal $n$. Mas para cada valor de $n$, temos $n$ possíveis valores de $l$; e para cada valor de $l$, temos $2l+1$ possíveis valores de $m_{l}$. A __degenerescência da energia__ $E_{n}$ é, portanto, igual a \n",
    "\\begin{equation}\n",
    "d(E_{n})=n^{2}.\n",
    "\\end{equation}\n",
    "Ou seja, existem $n^{2}$ estados diferentes $\\psi_{n,l,m_{l}}(r,\\theta,\\phi)$ correspondentes a uma mesma energia $E_{n}$."
   ]
  },
  {
   "cell_type": "markdown",
   "metadata": {},
   "source": [
    "---\n",
    "# Exercícios\n",
    "\n",
    "$1.$ Verifique que para $\\rho\\gg 1$ a função $\\Omega(\\rho)=c_{+}e^{\\rho/2}+c_{-}e^{-\\rho/2}$ é solução da equação diferencial $\\frac{1}{\\rho^{2}}\\frac{\\partial}{\\partial\\rho}\\left(\\rho^{2}\\frac{\\partial\\Omega(\\rho)}{\\partial \\rho}\\right) - \\frac{1}{4}\\Omega(\\rho)=0$. Argumente sobre a razão que temos para impor $c_{+}=0$.\n",
    "\n",
    "$2.$ Relacionado à solução para a função de onda radial, se $n=4$ quais são os possíveis valores de $l$? Para cada valor de $l$, quais são os possíveis valores de $m_l$?\n",
    "\n",
    "$3.$ Obtenha as funções de onda radiais $\\Omega_{4,l}(\\rho)$, a partir do cálculo de $F_{n,l}(\\rho)$. \n",
    "\n",
    "$4.$ Obtenha as funções de onda radiais $\\Omega_{4,l}(\\rho)$, a partir do cálculo de $L^{2l+1}_{n-l-l}(\\rho)$. Compare os resultados com aqueles obtidos na questão anterior.\n",
    "\n",
    "$5.$ Mostre que uma certa energia $E_{n}$ de um átomo hidrogenóide possui degenerescência $d_{E_{n}}=n^{2}$.\n",
    "\n",
    "$6.$ Qual é a massa reduzida $\\mu$ para átomo de Hélio uma vez ionizado? Qual é o número atômico $Z$ deste átomo? Faça o diagrama de níveis de energia para o átomo de Hélio uma vez ionizado."
   ]
  },
  {
   "cell_type": "markdown",
   "metadata": {},
   "source": [
    "---\n",
    "## Referências\n",
    "\n",
    "$9.$ EISBERG, R. M., RESNICK, R.. Quantum Physics of Atoms, Molecules, Solids, Nuclei, and Particles. John Wiley & Sons, California: 1985.\n",
    "\n",
    "$13.$ ARFKEN, G. B., WEBER, H. J.. Mathematical Methods for Physiscists. Elsevier, Oxford: 2005."
   ]
  }
 ],
 "metadata": {
  "kernelspec": {
   "display_name": "Python 3 (ipykernel)",
   "language": "python",
   "name": "python3"
  },
  "language_info": {
   "codemirror_mode": {
    "name": "ipython",
    "version": 3
   },
   "file_extension": ".py",
   "mimetype": "text/x-python",
   "name": "python",
   "nbconvert_exporter": "python",
   "pygments_lexer": "ipython3",
   "version": "3.12.2"
  }
 },
 "nbformat": 4,
 "nbformat_minor": 4
}
