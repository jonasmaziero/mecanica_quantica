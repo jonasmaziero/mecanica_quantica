{
 "cells": [
  {
   "cell_type": "markdown",
   "metadata": {},
   "source": [
    "### Notas de aula de Mecânica Quântica <br> Autor: Jonas Maziero"
   ]
  },
  {
   "cell_type": "markdown",
   "metadata": {},
   "source": [
    "# Corrente de probabilidade\n",
    "\n",
    "Aqui veremos a equação da continuidade para a evolução temporal das probabilidades calculadas a partir da dinâmica gerada pela equação de Schrödinger. A equação da continuidade é importante pois garante a __conservação local da probabilidades__. Ou seja, probabilidades não podem diminuir em um ponto do espaço e simplesmente aumentar em um ponto espacialmente distante. Ou seja, as probabilidades devem fluir continuamente pelo espaço conforme o tempo passa.\n",
    "\n",
    "Vamos considerar a equação de Schrödinger dependente do tempo (EqS)\n",
    "\\begin{equation}\n",
    "i\\hbar\\partial_{t}\\Psi(\\vec{r},t)=-\\frac{\\hbar^{2}}{2m}\\nabla^{2}\\Psi(\\vec{r},t)+U(\\vec{r},t)\\Psi(\\vec{r},t).\n",
    "\\end{equation}\n",
    "Lembrando, $\\Psi(\\vec{r},t)$ não possui interpretação física per se, mas\n",
    "\\begin{equation}\n",
    "|\\Psi(\\vec{r},t)|^{2}d^{3}r = \\text{ probabilidade do quanton estar no elemento de volume } d^{3}r \\text{ em torno de }\\vec{r} \\text{ no instante de tempo }t.\n",
    "\\end{equation}\n",
    "Como o quanton deve ter alguma posição em qualquer instante de tempo, $\\Psi(\\vec{r},t)$ deve satisfazer a condição de normalização\n",
    "\\begin{align}\n",
    "1=\\int_{\\mathbb{R}^{3}}|\\Psi(\\vec{r},t)|^{2}d^{3}r=:\\int_{\\mathbb{R}^{3}}\\rho(\\vec{r},t)d^{3}r.\n",
    "\\end{align}\n",
    "\n",
    "Vamos olhar para a variação temporal da _densidade de probabilidade_ (ponto a ponto do espaço):\n",
    "\\begin{align}\n",
    "\\partial_{t}\\rho(\\vec{r},t) &:= \\partial_{t}|\\Psi(\\vec{r},t)|^{2} = \\partial_{t}(\\Psi(\\vec{r},t)\\Psi(\\vec{r},t)^{*}) \\\\\n",
    "& = (\\partial_{t}\\Psi(\\vec{r},t))\\Psi(\\vec{r},t)^{*} + \\Psi(\\vec{r},t)(\\partial_{t}\\Psi(\\vec{r},t)^{*}).\n",
    "\\end{align}\n",
    "Pode-se verificar que \n",
    "$$(\\partial_{\\alpha}f)^{*}=\\partial_{\\alpha}f^{*}$$\n",
    "para $f=f(\\vec{r},t)$ e $\\alpha=x,y,z,t$ (o mesmo vale para outros sistemas de coordenadas). Com isso vem da EqS que\n",
    "\\begin{align}\n",
    "& \\partial_{t}\\Psi(\\vec{r},t)=\\frac{i\\hbar}{2m}\\nabla^{2}\\Psi(\\vec{r},t)-(i/\\hbar)U(\\vec{r},t)\\Psi(\\vec{r},t) \\\\\n",
    "& \\therefore\\ \\partial_{t}\\Psi(\\vec{r},t)^{*}=(\\partial_{t}\\Psi(\\vec{r},t))^{*}=-\\frac{i\\hbar}{2m}\\nabla^{2}\\Psi(\\vec{r},t)^{*}+(i/\\hbar)U(\\vec{r},t)^{*}\\Psi(\\vec{r},t)^{*}.\n",
    "\\end{align}"
   ]
  },
  {
   "cell_type": "markdown",
   "metadata": {},
   "source": [
    "Com isso\n",
    "\\begin{align}\n",
    "\\partial_{t}\\rho(\\vec{r},t) &= \\left(\\frac{i\\hbar}{2m}\\nabla^{2}\\Psi(\\vec{r},t)-(i/\\hbar)U(\\vec{r},t)\\Psi(\\vec{r},t)\\right)\\Psi(\\vec{r},t)^{*} \\\\\n",
    "& \\hspace{0.8cm} + \\Psi(\\vec{r},t)\\left(-\\frac{i\\hbar}{2m}\\nabla^{2}\\Psi(\\vec{r},t)^{*}+(i/\\hbar)U(\\vec{r},t)^{*}\\Psi(\\vec{r},t)^{*}\\right) \\\\\n",
    "&= \\frac{i\\hbar}{2m}\\left(\\left(\\nabla^{2}\\Psi(\\vec{r},t)\\right)\\Psi(\\vec{r},t)^{*} - \\Psi(\\vec{r},t)\\left(\\nabla^{2}\\Psi(\\vec{r},t)^{*}\\right)\\right) + 0,\n",
    "\\end{align}\n",
    "em que usamos \n",
    "$$U(\\vec{r},t)^{*}=U(\\vec{r},t).$$\n",
    "Pode-se verificar que \n",
    "\\begin{equation}\n",
    "\\vec{\\nabla}\\cdot(f\\vec{\\nabla}g)=(\\vec{\\nabla}f)\\cdot(\\vec{\\nabla}g)+f\\nabla^{2}g\n",
    "\\end{equation}\n",
    "para $f=f(\\vec{r},t)$ e $g=g(\\vec{r},t)$. Aplicando essa igualdade, reescreveremos a última equação como\n",
    "\\begin{align}\n",
    "\\partial_{t}\\rho(\\vec{r},t) &= \\frac{i\\hbar}{2m}(\\vec{\\nabla}\\cdot(\\Psi(\\vec{r},t)^{*}\\vec{\\nabla}\\Psi(\\vec{r},t))-(\\vec{\\nabla}\\Psi(\\vec{r},t)^{*})\\cdot(\\vec{\\nabla}\\Psi(\\vec{r},t)) \\\\ \n",
    "& \\hspace{1cm} - \\vec{\\nabla}\\cdot(\\Psi(\\vec{r},t)\\vec{\\nabla}\\Psi(\\vec{r},t)^{*})+(\\vec{\\nabla}\\Psi(\\vec{r},t))\\cdot(\\vec{\\nabla}\\Psi(\\vec{r},t)^{*})) \\\\\n",
    "&= \\frac{i\\hbar}{2m}\\vec{\\nabla}\\cdot\\left(\\Psi(\\vec{r},t)^{*}\\vec{\\nabla}\\Psi(\\vec{r},t)-\\Psi(\\vec{r},t)\\vec{\\nabla}\\Psi(\\vec{r},t)^{*}\\right) \\\\\n",
    "&=: -\\vec{\\nabla}\\cdot\\vec{J},\n",
    "\\end{align}\n",
    "em que definimos a _densidade de corrente de probabilidade_\n",
    "\\begin{align}\n",
    "\\vec{J} &:= -\\frac{i\\hbar}{2m}\\left(\\Psi(\\vec{r},t)^{*}\\vec{\\nabla}\\Psi(\\vec{r},t)-\\Psi(\\vec{r},t)\\vec{\\nabla}\\Psi(\\vec{r},t)^{*}\\right) \\\\\n",
    "& = -\\frac{i\\hbar}{2m}\\left(\\Psi(\\vec{r},t)^{*}\\vec{\\nabla}\\Psi(\\vec{r},t)-(\\Psi(\\vec{r},t)^{*}\\vec{\\nabla}\\Psi(\\vec{r},t))^{*}\\right) \\\\\n",
    "& = \\frac{\\hbar}{m}\\Im\\left(\\Psi(\\vec{r},t)^{*}\\vec{\\nabla}\\Psi(\\vec{r},t)\\right).\n",
    "\\end{align}"
   ]
  },
  {
   "cell_type": "markdown",
   "metadata": {},
   "source": [
    "A equação \n",
    "\\begin{equation}\n",
    "\\partial_{t}\\rho(\\vec{r},t)=-\\vec{\\nabla}\\cdot\\vec{J}\n",
    "\\end{equation}\n",
    "é uma _equação de continuidade_, que mostra que a taxa com que a densidade de probabilidade em um ponto do espaço muda com o tempo é igual ao fluxo de probabilidade de ou para outros pontos vizinhos do espaço, o que é dado pelo divergente de uma densidade de corrente de probabilidade. Vocês devem ter visto essa mesma equação aparecendo no contexto de conservação de carga elétrica e de massa (no limite não relativístico).\n",
    "Podemos então pensar no quanton como um campo escalar de probabilidades, $\\rho(\\vec{r},t)$. Conforme este quanton interage com outros quantons, ele tem suas distribuição espacial de probabilidades modificada. Essa dinâmica pode ser visualizada através de um campo vetorial, que é a densidade de corrente de probabilidades $\\vec{J}(\\vec{r},t)$. \n",
    "\n",
    "Agora, vamos considerar a probabilidade de, em uma medida de posição, encontramos o quanton em um volume $V$:\n",
    "\\begin{equation}\n",
    "Pr(\\vec{r}\\in V)_{t} = \\int_{V}d^{3}r\\rho(\\vec{r},t).\n",
    "\\end{equation}\n",
    "Derivando em relação ao tempo, vem que\n",
    "\\begin{align}\n",
    "\\partial_{t}Pr(\\vec{r}\\in V)_{t} &= \\partial_{t}\\int_{V}d^{3}r\\rho(\\vec{r},t) = \\int_{V}d^{3}r\\partial_{t}\\rho(\\vec{r},t) \\\\\n",
    "& = -\\int_{V}d^{3}r\\vec{\\nabla}\\cdot\\vec{J}(\\vec{r},t) \\\\\n",
    "&= -\\oint_{S}\\vec{J}(\\vec{r},t)\\cdot d\\vec{a}.\n",
    "\\end{align}\n",
    "Na última igualdade usamos o teorema de Gauss, e $S$ é a superfície que delimita o volume $V$. Vemos assim que a taxa de mudança no tempo da probabilidade do quanton estar em um certo volume $V$ é igual ao negativo do fluxo de probabilidades através da superfície $S$ que delimita $V$. Claro, se $V=\\mathbb{R}^{3}$, pela condição de normalização, temos $\\partial_{t}Pr(\\vec{r}\\in V)_{t}=0$. Com isso vemos que a equação de continuidade impossibilita por exemplo que a densidade de probabilidade diminua em um ponto do espaço e imediatamente aumente em um outro ponto do espaço arbitrariamente distante. Por isso, dizemos que a EqS leva à _conservação local_ de probabilidades."
   ]
  },
  {
   "cell_type": "markdown",
   "metadata": {},
   "source": [
    "## Caso unidimensional\n",
    "Nesse caso \n",
    "$$\\Psi=\\Psi(x,t)$$\n",
    "e \n",
    "$$\\vec{\\nabla}\\Psi(x,t)=\\hat{i}\\partial_{x}\\Psi(x,t)+0+0,$$\n",
    "e assim a densidade de corrente de probabilidade fica escrita como\n",
    "\\begin{equation}\n",
    "\\vec{J}=(\\hbar/m)\\Im(\\Psi(x,t)^{*}\\vec{\\nabla}\\Psi(x,t)) = \\hat{i}(\\hbar/m)\\Im(\\Psi(x,t)^{*}\\partial_{x}\\Psi(x,t))\\equiv\\hat{i}J(x,t).\n",
    "\\end{equation}\n",
    "Com isso, a equação da continuidade fica\n",
    "\\begin{equation}\n",
    "\\partial_{t}\\rho(x,t) = -\\vec{\\nabla}\\cdot\\vec{J} = -\\partial_{x}J(x,t)+0+0 = -(\\hbar/m)\\partial_{x}\\Im(\\Psi(x,t)^{*}\\partial_{x}\\Psi(x,t)).\n",
    "\\end{equation}\n",
    "\n",
    "Já para a mudança da probabilidade do quanton estar em $x\\in[a,b]$ no instante de tempo $t$ fica\n",
    "\\begin{equation}\n",
    "\\partial_{t}Pr(x\\in[a,b]) = -\\int_{a}^{b}dx\\partial_{x}J(x,t) = -(J(b,t)-J(a,t)),\n",
    "\\end{equation}\n",
    "que é a esperada diferença entre as densidades de corrente de probabilidade nas duas fronteiras."
   ]
  },
  {
   "cell_type": "markdown",
   "metadata": {},
   "source": [
    "## Exemplo: Degrau de potencial\n",
    "Lembrando, para uma energia potencial $U(x<0)=0$ e $U(x>0)=U_{0}=\\text{constante}$, com $E>U_{0}$ e o quanton movimentando-se inicialmente da esquerda para a direita, obtivemos a função de onda\n",
    "\\begin{align}\n",
    "& \\Psi(x<0,t) = c_{ed}e^{i(k_{e}x-\\omega t)} + c_{ee}e^{i(-k_{e}x-\\omega t)}, \\\\\n",
    "& \\Psi(x>0,t) = c_{dd}e^{i(k_{d}x-\\omega t)}, \\\\\n",
    "\\end{align}\n",
    "com $k_{e}=\\sqrt{2mE/\\hbar^{2}}$, $k_{d}=\\sqrt{2m(E-U_{0})/\\hbar^{2}}$, $c_{dd}/c_{ed}=2k_{e}/(k_{e}+k_{d})$ e  $c_{ee}/c_{ed}=(k_{e}-k_{d})/(k_{e}+k_{d})$. Assumimos $c_{ed}\\in\\mathbb{R}\\therefore c_{dd},c_{ee}\\in\\mathbb{R}$.\n",
    "\n",
    "Para calcular a densidade de corrente de probabilidade, precisamos da derivada espacial da função de onda:\n",
    "\\begin{align}\n",
    "& \\partial_{x}\\Psi(x<0,t) = ik_{e}\\left(c_{ed}e^{i(k_{e}x-\\omega t)} - c_{ee}e^{i(-k_{e}x-\\omega t)}\\right), \\\\\n",
    "& \\partial_{x}\\Psi(x>0,t) = ik_{d}c_{dd}e^{i(k_{d}x-\\omega t)}. \\\\\n",
    "\\end{align}"
   ]
  },
  {
   "cell_type": "markdown",
   "metadata": {},
   "source": [
    "Com isso, teremos\n",
    "\\begin{align}\n",
    "J(x<0,t) &= \\frac{\\hbar}{m}\\Im(\\Psi(x<0,t)^{*}\\partial_{x}\\Psi(x<0,t)) \\\\\n",
    "&= \\frac{\\hbar}{m}\\Im\\left(\\left(c_{ed}^{*}e^{-i(k_{e}x-\\omega t)} + c_{ee}^{*}e^{-i(-k_{e}x-\\omega t)}\\right)\\left(ik_{e}\\left(c_{ed}e^{i(k_{e}x-\\omega t)} - c_{ee}e^{i(-k_{e}x-\\omega t)}\\right)\\right)\\right) \\\\\n",
    "&= \\frac{\\hbar k_{e}}{m}\\Im\\left(i\\left(c_{ed}^{2}- c_{ee}^{2} - c_{ed}c_{ee}e^{-i2k_{e}x} + c_{ee}c_{ed}e^{i2k_{e}x} \\right)\\right) \\\\\n",
    "&= \\frac{\\hbar k_{e}}{m}\\Im\\left(i\\left(c_{ed}^{2}- c_{ee}^{2}\\right) +ic_{ed}c_{ee}\\left(e^{i2k_{e}x}-e^{-i2k_{e}x}\\right)\\right) \\\\\n",
    "&= \\frac{\\hbar k_{e}}{m}\\Im\\left(i\\left(c_{ed}^{2}- c_{ee}^{2}\\right) +ic_{ed}c_{ee}2i\\sin(2k_{e}x)\\right) \\\\\n",
    "&= \\frac{\\hbar k_{e}}{m}\\left(c_{ed}^{2}- c_{ee}^{2}\\right)\n",
    "\\end{align}\n",
    "e\n",
    "\\begin{align}\n",
    "J(x>0,t) &= \\frac{\\hbar}{m}\\Im(\\Psi(x>0,t)^{*}\\partial_{x}\\Psi(x>0,t)) \\\\\n",
    "&= \\frac{\\hbar}{m}\\Im\\left(\\left(c_{dd}^{*}e^{-i(k_{d}x-\\omega t)}\\right)ik_{d}c_{dd}e^{i(k_{d}x-\\omega t)}\\right) \\\\\n",
    "&= \\frac{\\hbar k_{d}}{m}\\Im\\left(ic_{dd}^{2}\\right) \\\\\n",
    "& = \\frac{\\hbar k_{d}}{m}c_{dd}^{2}.\n",
    "\\end{align}\n",
    "Note que a densidade de corrente de probabilidade não nula é sinal de que há um fluxo de quantons através de uma \"superfície\". O sinal de $J$ indica o sentido desse fluxo. Por exemplo, como $J(x>0,t)>0$ se $c_{dd}\\ne 0$, existe um fluxo de quantons para a direita no lado direito do degrau de potencial."
   ]
  },
  {
   "cell_type": "markdown",
   "metadata": {},
   "source": [
    "Com isso vemos que a densidade de probabilidade não depende do tempo, pois\n",
    "\\begin{align}\n",
    "& \\partial_{t}\\rho(x<0,t) = -\\partial_{x}J(x<0,t) = -\\partial_{x}\\left(\\frac{\\hbar k_{e}}{m}\\left(c_{ed}^{2}- c_{ee}^{2}\\right)\\right) = 0, \\\\\n",
    "& \\partial_{t}\\rho(x>0,t) = -\\partial_{x}J(x>0,t) = -\\partial_{x}\\left(\\frac{\\hbar k_{d}}{m}c_{dd}^{2}\\right) = 0.\n",
    "\\end{align}\n",
    "Esse resultado é esperado, uma vez que temos um estado estacionário, para o qual a densidade de probabilidade é independente do tempo.\n",
    "\n",
    "Agora, para $a,b\\in\\mathbb{R_{+}}$, teremos que\n",
    "\\begin{align}\n",
    "\\partial_{t}Pr(x\\in[-a,b]) &= J(-a,t)-J(b,t) \\\\\n",
    "&= \\frac{\\hbar k_{e}}{m}\\left(c_{ed}^{2}- c_{ee}^{2}\\right) - \\frac{\\hbar k_{d}}{m}c_{dd}^{2} \\\\\n",
    "&= \\frac{\\hbar}{m}\\left(k_{e}\\left(c_{ed}^{2} - \\frac{(k_{e}-k_{d})^{2}}{(k_{e}+k_{d})^{2}}c_{ed}^{2}\\right) - k_{d}\\frac{4k_{e}^{2}}{(k_{e}+k_{d})^{2}}c_{ed}^{2}\\right) \\\\\n",
    "& = \\frac{\\hbar c_{ed}^{2}}{m(k_{e}+k_{d})^{2}}\\left(k_{e}\\left((k_{e}+k_{d})^{2} - (k_{e}-k_{d})^{2}\\right) - k_{d}4k_{e}^{2}\\right) \\\\\n",
    "& = \\frac{\\hbar c_{ed}^{2}}{m(k_{e}+k_{d})^{2}}\\left(k_{e}\\left(k_{e}^{2}+k_{d}^{2}+2k_{e}k_{d} -k_{e}^{2}-k_{d}^{2}+2k_{e}k_{d}\\right) - k_{d}4k_{e}^{2}\\right) \\\\\n",
    "& = \\frac{\\hbar c_{ed}^{2}}{m(k_{e}+k_{d})^{2}}\\left(k_{e}4k_{e}k_{d} - k_{d}4k_{e}^{2}\\right) \\\\\n",
    "& = 0.\n",
    "\\end{align}\n",
    "Este resultado também é esperado, pois como o estado é estacionário, não esperamos que haja um fluxo líquido de probabilidade para dentro ou para fora de uma certa região do espaço."
   ]
  },
  {
   "cell_type": "markdown",
   "metadata": {},
   "source": [
    "---\n",
    "# Exercícios\n",
    "\n",
    "$1.$ Verifique que $(\\partial_{\\alpha}f)^{*}=\\partial_{\\alpha}(f^{*})$ para $f=f(\\vec{r},t)$ e $\\alpha=x,y,z,t$.\n",
    "\n",
    "$2.$ Verifique que $\\vec{\\nabla}\\cdot(f\\vec{\\nabla}g)=(\\vec{\\nabla}f)\\cdot(\\vec{\\nabla}g)+f\\nabla^{2}g$ para $f=f(\\vec{r},t)$ e $g=g(\\vec{r},t)$.\n",
    "\n",
    "$3.$ Analogamente ao que fizemos no caso unidimensional, obtenha as expressões simplificadas para a densidade de corrente de probabilidade e para a equação da continuidade no caso bidimensional, i.e., para $\\Psi=\\Psi(x,y,t)$."
   ]
  }
 ],
 "metadata": {
  "kernelspec": {
   "display_name": "Python 3 (ipykernel)",
   "language": "python",
   "name": "python3"
  },
  "language_info": {
   "codemirror_mode": {
    "name": "ipython",
    "version": 3
   },
   "file_extension": ".py",
   "mimetype": "text/x-python",
   "name": "python",
   "nbconvert_exporter": "python",
   "pygments_lexer": "ipython3",
   "version": "3.12.2"
  }
 },
 "nbformat": 4,
 "nbformat_minor": 4
}
