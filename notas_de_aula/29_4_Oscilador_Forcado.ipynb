{
 "cells": [
  {
   "cell_type": "markdown",
   "metadata": {},
   "source": [
    "### Notas de aula de Mecânica Quântica <br> Autor: Jonas Maziero"
   ]
  },
  {
   "cell_type": "markdown",
   "metadata": {},
   "source": [
    "# Oscilador quântico forçado\n",
    "Consideremos um oscilador sujeito a uma força de restauração e a uma outra __força constante no espaço mas dependente do tempo__\n",
    "\\begin{equation}\n",
    "f_{t}\\therefore U=-\\int_{0}^{x} f_{t}dx'=-f_{t}x.\n",
    "\\end{equation}\n",
    "O Hamiltoniano quantizado fica escrito como\n",
    "\\begin{align}\n",
    "H_{t} &= \\frac{P^{2}}{2m}+\\frac{m\\omega^{2}X^{2}}{2} -f_{t}X \\\\ \n",
    "& =: \\hbar\\omega(a^{\\dagger}a+\\mathbb{I}/2)-F_{t}(a+a^{\\dagger}),\n",
    "\\end{align}\n",
    "onde definimos\n",
    "\\begin{equation}\n",
    "F_{t}:=f_{t}\\sqrt{\\frac{\\hbar}{2m\\omega}}.\n",
    "\\end{equation}\n",
    "Como vocês verificarão,\n",
    "\\begin{equation}\n",
    "[H_{t},H_{t'}]\\ne 0 \\text{ se } F_{t}\\ne F_{t'}.\n",
    "\\end{equation}\n",
    "Então, a princípio, nesse caso teríamos que recorrer às séries de Dyson. No entando, podemos obter algumas informações por outro caminho (veja a Ref. 3)."
   ]
  },
  {
   "cell_type": "markdown",
   "metadata": {},
   "source": [
    "### Dinâmica na representacão de Heisenberg\n",
    "Consideremos a equação de Heisenberg\n",
    "\\begin{align}\n",
    "i\\hbar\\partial_{t}a_{H} & = [a_{H},H_{t}^{H}] \\\\\n",
    "& = \\left[a_{H},\\hbar\\omega(a_{H}^{\\dagger}a_{H}+I/2)-F_{t}(a_{H}+a_{H}^{\\dagger})\\right] \\\\\n",
    "& = \\hbar\\omega([a_{H},a_{H}^{\\dagger}a_{H}]+0) - F_{t}([a_{H},a_{H}]+[a_{H},a_{H}^{\\dagger}]) \\\\\n",
    "& = \\hbar\\omega a_{H} - F_{t}I.\n",
    "\\end{align}\n",
    "Portanto\n",
    "$$\\partial_{t}a_{H} = -i\\omega a_{H} + (iF_{t}/\\hbar)I.$$\n",
    "\n",
    "Notemos que\n",
    "\\begin{align}\n",
    "& \\partial_{t}\\left(e^{i\\omega t}a_{H}\\right) = \\left(\\partial_{t}e^{i\\omega t}\\right)a_{H} + e^{i\\omega t}\\partial_{t}a_{H} = i\\omega e^{i\\omega t}a_{H} + e^{i\\omega t}\\partial_{t}a_{H} \\\\\n",
    "& \\therefore\\ e^{-i\\omega t}\\partial_{t}\\left(e^{i\\omega t}a_{H}\\right) = i\\omega a_{H} + \\partial_{t}a_{H} = (iF_{t}/\\hbar)I \\\\\n",
    "& \\therefore\\ \\partial_{t}\\left(e^{i\\omega t}a_{H}\\right) = e^{i\\omega t}(iF_{t}/\\hbar)I \\\\\n",
    "& \\therefore\\ \\int_{0}^{t}dt'\\partial_{t'}\\left(e^{i\\omega t'}a_{H}(t')\\right) = \\int_{0}^{t}dt'e^{i\\omega t'}(iF_{t'}/\\hbar)I \\\\\n",
    "& \\therefore\\ e^{i\\omega t}a_{H}(t)-e^{i\\omega 0}a_{H}(0) = \\frac{i}{\\hbar}\\int_{0}^{t}dt'e^{i\\omega t'}F_{t'}I \\\\\n",
    "& \\therefore\\ a_{H} = e^{-i\\omega t}(a + v_{t}I) \\\\\n",
    "& \\therefore\\ a_{H}^{\\dagger} = e^{i\\omega t}(a^{\\dagger} + v_{t}^{*}I),\n",
    "\\end{align}\n",
    "onde definimos\n",
    "\\begin{equation}\n",
    "v_{t} := \\frac{i}{\\hbar}\\int_{0}^{t}dt'e^{i\\omega t'}F_{t'} = \\frac{i}{\\sqrt{2\\hbar m\\omega}} \\int_{0}^{t}dt'e^{i\\omega t'}f_{t'}.\n",
    "\\end{equation}\n",
    "Note que $v_{t}:\\mathbb{R}\\rightarrow\\mathbb{C}$."
   ]
  },
  {
   "cell_type": "markdown",
   "metadata": {},
   "source": [
    "Conhecendo $a_{H}$ podemos escrever a dependência de muitos observáveis, com por exemplo\n",
    "\\begin{align}\n",
    "X_{t}^{H} & = \\sqrt{\\frac{\\hbar}{2m\\omega}}(a_{H}^{\\dagger}+a_{H}) \\\\\n",
    "& = \\sqrt{\\frac{\\hbar}{2m\\omega}}\\left(e^{i\\omega t}(a^{\\dagger} + v_{t}^{*}I) + e^{-i\\omega t}(a + v_{t}I)\\right) \\\\\n",
    "& = \\sqrt{\\frac{\\hbar}{2m\\omega}}\\left((\\cos(\\omega t)+i\\sin(\\omega t))(a^{\\dagger} + v_{t}^{*}\\mathbb{I}) + (\\cos(\\omega t)-i\\sin(\\omega t))(a + v_{t}I)\\right)\\\\\n",
    "& = \\sqrt{\\frac{\\hbar}{2m\\omega}}(a^{\\dagger}+a)\\cos(\\omega t) + i\\sqrt{\\frac{\\hbar}{2m\\omega}}(a^{\\dagger}-a)\\sin(\\omega t)\\frac{m\\omega}{m\\omega} \\\\\n",
    "& \\hspace{0.5cm}+\\sqrt{\\frac{\\hbar}{2m\\omega}}\\cos(\\omega t)(v_{t}^{*}+v_{t})I + i\\sqrt{\\frac{\\hbar}{2m\\omega}}\\sin(\\omega t)(v_{t}^{*}-v_{t})I \\\\\n",
    "& = X\\cos\\omega t + \\frac{P}{m\\omega}\\sin\\omega t +2\\sqrt{\\frac{\\hbar}{2m\\omega}}\\left(\\Re(v_{t})\\cos\\omega t + \\Im(v_{t})\\sin\\omega t\\right)I, \\\\\n",
    "P_{t}^{H} & = i\\sqrt{\\frac{\\hbar m\\omega}{2}}(a_{H}^{\\dagger}-a_{H}) = i\\sqrt{\\frac{\\hbar m\\omega}{2}}\\left(e^{i\\omega t}(a^{\\dagger} + v_{t}^{*}I) - e^{-i\\omega t}(a + v_{t}I)\\right).\n",
    "\\end{align}"
   ]
  },
  {
   "cell_type": "markdown",
   "metadata": {},
   "source": [
    "Pode-se verificar que\n",
    "\\begin{equation}\n",
    "\\frac{P_{t}^{H}}{m\\omega} = -X\\sin\\omega t + \\frac{P}{m\\omega}\\cos\\omega t + 2\\sqrt{\\frac{\\hbar}{2m\\omega}}\\left(\\Im(v_{t})\\cos\\omega t - \\Re(v_{t})\\sin\\omega t\\right)\\mathbb{I}.\n",
    "\\end{equation}\n",
    "Na forma matricial teremos\n",
    "\\begin{equation}\n",
    "\\begin{bmatrix} X_{t}^{H} \\\\ \\frac{P_{t}^{H}}{m\\omega} \\end{bmatrix} = \\begin{bmatrix} \\cos\\omega t & \\sin\\omega t \\\\ -\\sin\\omega t & \\cos\\omega t \\end{bmatrix}\\begin{bmatrix} X + \\sqrt{\\frac{2\\hbar}{m\\omega}}\\Re(v_{t})I \\\\ \\frac{P}{m\\omega} + \\sqrt{\\frac{2\\hbar}{m\\omega}}\\Im(v_{t})I \\end{bmatrix}.\n",
    "\\end{equation}\n",
    "\n",
    "Nesse caso, a distância do ponto $\\left(\\langle X_{t}^{H}\\rangle,\\langle P_{t}^{H}\\rangle/m\\omega\\right)$ à origem $(0,0)$ é\n",
    "\\begin{equation}\n",
    "\\sqrt{\\langle X\\rangle^{2}+\\langle P/m\\omega\\rangle^{2} + \\sqrt{\\frac{\\hbar}{2m\\omega}}\\left(\\langle X\\rangle\\Re(v_{t})+\\langle P/m\\omega\\rangle\\Im(v_{t})\\right) +\\frac{2\\hbar}{m\\omega}|v_{t}|^{2} }.\n",
    "\\end{equation}"
   ]
  },
  {
   "cell_type": "markdown",
   "metadata": {},
   "source": [
    "Alguns casos particulares:\n",
    "* Força constante $f_{t}=f$:\n",
    "\\begin{align}\n",
    "v_{t} & = \\frac{i}{\\sqrt{2\\hbar m\\omega}} \\int_{0}^{t}dt'e^{i\\omega t'}f_{t'} = \\frac{if}{\\sqrt{2\\hbar m\\omega}}\\left( \\int_{0}^{t}dt'\\cos(\\omega t')+i\\int_{0}^{t}dt'\\sin(\\omega t')\\right) \\\\\n",
    "& = \\frac{if}{\\sqrt{2\\hbar m\\omega}\\omega}\\left(\\left(\\sin(\\omega t')\\right)_{0}^{t}-i\\left(\\cos(\\omega t')\\right)_{0}^{t}\\right) \\\\\n",
    "& = \\frac{if}{\\sqrt{2\\hbar m\\omega}\\omega}\\left(\\left(\\sin(\\omega t)-\\sin(0)\\right)-i\\left(\\cos(\\omega t)-\\cos(0)\\right)\\right) \\\\\n",
    "& = \\frac{f}{\\sqrt{2\\hbar m\\omega}\\omega}\\left(i\\sin(\\omega t)+\\left(\\cos(\\omega t)-1\\right)\\right).\n",
    "\\end{align}\n",
    "\n",
    "* Força oscilante, senoidal, $f_{t}=f\\sin(\\omega_{f}t)$:\n",
    "\\begin{align}\n",
    "v_{t} & = \\frac{i}{\\sqrt{2\\hbar m\\omega}} \\int_{0}^{t}dt'e^{i\\omega t'}f\\sin(\\omega_{f}t') = \\frac{if}{\\sqrt{2\\hbar m\\omega}} \\int_{0}^{t}dt'e^{i\\omega t'}\\frac{e^{i\\omega_{f}t'}-e^{-i\\omega_{f}t'}}{2i} \\\\\n",
    "& = \\frac{f}{2\\sqrt{2\\hbar m\\omega}}\\left(\\int_{0}^{t}dt'e^{i(\\omega+\\omega_{f})t'}-\\int_{0}^{t}dt'e^{i(\\omega-\\omega_{f})t'}\\right) = \\frac{f}{\\sqrt{8\\hbar m\\omega}}\\left(\\frac{e^{i(\\omega+\\omega_{f})t}-1}{i(\\omega+\\omega_{f})}-\\frac{e^{i(\\omega-\\omega_{f})t}-1}{i(\\omega-\\omega_{f})}\\right) \\\\\n",
    "& = \\frac{f}{\\sqrt{2\\hbar m\\omega}}\\frac{i\\left(\\omega\\sin(\\omega t)\\sin(\\omega_{f}t)+\\omega_{f}\\cos(\\omega t)\\cos(\\omega_{f}t)\\right) +\\left(\\omega\\cos(\\omega t)\\sin(\\omega_{f}t)-\\omega_{f}\\sin(\\omega t)\\cos(\\omega_{f}t)\\right)}{\\omega^{2}-\\omega_{f}^{2}}.\n",
    "\\end{align}\n",
    "As integrais acima foram feitas com a ajuda do código Sympy abaixo. Na sequência, está mostrada a dinâmica do oscilador quântico forçado no \"espaço de fases\". "
   ]
  },
  {
   "cell_type": "code",
   "execution_count": 6,
   "metadata": {},
   "outputs": [
    {
     "data": {
      "image/png": "[encoded data removed]",
      "text/latex": [
       "$\\displaystyle \\begin{cases} \\frac{1.0 \\omega \\sin{\\left(\\omega t \\right)} \\sin{\\left(\\omega_{f} t \\right)}}{1.0 \\omega^{2} - 1.0 \\omega_{f}^{2}} - \\frac{1.0 i \\omega \\sin{\\left(\\omega_{f} t \\right)} \\cos{\\left(\\omega t \\right)}}{1.0 \\omega^{2} - 1.0 \\omega_{f}^{2}} + \\frac{1.0 i \\omega_{f} \\sin{\\left(\\omega t \\right)} \\cos{\\left(\\omega_{f} t \\right)}}{1.0 \\omega^{2} - 1.0 \\omega_{f}^{2}} + \\frac{1.0 \\omega_{f} \\cos{\\left(\\omega t \\right)} \\cos{\\left(\\omega_{f} t \\right)}}{1.0 \\omega^{2} - 1.0 \\omega_{f}^{2}} - \\frac{1.0 \\omega_{f}}{1.0 \\omega^{2} - 1.0 \\omega_{f}^{2}} & \\text{for}\\: \\omega \\neq \\omega_{f} \\\\0.5 i t \\sin^{2}{\\left(\\omega_{f} t \\right)} + 0.5 i t \\cos^{2}{\\left(\\omega_{f} t \\right)} - \\frac{0.5 i \\sin{\\left(\\omega_{f} t \\right)} \\cos{\\left(\\omega_{f} t \\right)}}{\\omega_{f}} - \\frac{0.5 \\cos^{2}{\\left(\\omega_{f} t \\right)}}{\\omega_{f}} + \\frac{0.5}{\\omega_{f}} & \\text{otherwise} \\end{cases}$"
      ],
      "text/plain": [
       "⎧1.0⋅ω⋅sin(ω⋅t)⋅sin(ω_f⋅t)   ⅈ⋅ω⋅sin(ω_f⋅t)⋅cos(ω⋅t)   1.0⋅ⅈ⋅ω_f⋅sin(ω⋅t)⋅cos(\n",
       "⎪───────────────────────── - ─────────────────────── + ───────────────────────\n",
       "⎪           2      2                   2      2                     2      2  \n",
       "⎪      1.0⋅ω  - ω_f               1.0⋅ω  - ω_f                 1.0⋅ω  - ω_f   \n",
       "⎨                                                                             \n",
       "⎪                                                                             \n",
       "⎪                            2                     2          0.5⋅ⅈ⋅sin(ω_f⋅t)\n",
       "⎪                 0.5⋅ⅈ⋅t⋅sin (ω_f⋅t) + 0.5⋅ⅈ⋅t⋅cos (ω_f⋅t) - ────────────────\n",
       "⎩                                                                         ω_f \n",
       "\n",
       "ω_f⋅t)   1.0⋅ω_f⋅cos(ω⋅t)⋅cos(ω_f⋅t)        ω_f                  \n",
       "────── + ─────────────────────────── - ─────────────  for ω ≠ ω_f\n",
       "                     2      2               2      2             \n",
       "                1.0⋅ω  - ω_f           1.0⋅ω  - ω_f              \n",
       "                                                                 \n",
       "                     2                                           \n",
       "⋅cos(ω_f⋅t)   0.5⋅cos (ω_f⋅t)   0.5                              \n",
       "─────────── - ─────────────── + ───                    otherwise \n",
       "                    ω_f         ω_f                              "
      ]
     },
     "execution_count": 6,
     "metadata": {},
     "output_type": "execute_result"
    }
   ],
   "source": [
    "from sympy import symbols, integrate, cos, sin, init_printing\n",
    "init_printing(use_unicode = True)\n",
    "t, tl, w, wf = symbols('t tl omega omega_f', positive=True, real=True)\n",
    "integrate((cos(w*tl)+1j*sin(w*tl))*sin(wf*tl),(tl,0,t))"
   ]
  },
  {
   "cell_type": "code",
   "execution_count": 5,
   "metadata": {},
   "outputs": [
    {
     "data": {
      "application/vnd.jupyter.widget-view+json": {
       "model_id": "56800428ae8b4a08a42d73c0512fe74f",
       "version_major": 2,
       "version_minor": 0
      },
      "text/plain": [
       "interactive(children=(FloatSlider(value=0.0, description='x0', max=1.0), FloatSlider(value=0.0, description='p…"
      ]
     },
     "execution_count": 5,
     "metadata": {},
     "output_type": "execute_result"
    }
   ],
   "source": [
    "from ipywidgets import interactive, interact, fixed, interact_manual, widgets\n",
    "import scipy.interpolate\n",
    "from mpl_toolkits.mplot3d import Axes3D, proj3d\n",
    "from itertools import product, combinations\n",
    "from matplotlib.patches import FancyArrowPatch\n",
    "from matplotlib import cm, colors\n",
    "from sympy.functions.special.tensor_functions import KroneckerDelta\n",
    "from scipy.linalg import polar, lapack\n",
    "import mpmath\n",
    "from matplotlib import pyplot as plt\n",
    "import matplotlib\n",
    "import numpy as np\n",
    "import math\n",
    "\n",
    "# Animação da dinâmica do oscilador forçado no \"espaço de fases\"\n",
    "def oqf_dyn(x0, p0, tmax, wf):\n",
    "    fig = plt.figure(figsize=(9,6))\n",
    "    matplotlib.rcParams.update({'font.size':11})\n",
    "    w=1; m = 1; f=0.3; hbb=1\n",
    "    t = np.arange(0,tmax,0.01)\n",
    "    ctt = math.sqrt((2*hbb)/(m*w)); comax = math.cos(w*tmax)\n",
    "    simax = math.sin(w*tmax); co = np.cos(w*t); si = np.sin(w*t)\n",
    "    caso = 'osc'\n",
    "    if caso == 'cte': # pra força constante\n",
    "        vtr = (f/math.sqrt(2*hbb*m*w**3))*(co-1)\n",
    "        vti = (f/math.sqrt(2*hbb*m*w**3))*si \n",
    "        vtrmax = (f/math.sqrt(2*hbb*m*w**3))*(comax-1)\n",
    "        vtimax = (f/math.sqrt(2*hbb*m*w**3))*simax\n",
    "    elif caso == 'osc': # pra força oscilante\n",
    "        cof = np.cos(wf*t); sif = np.sin(wf*t)\n",
    "        cofmax = math.cos(wf*tmax); sifmax = math.sin(wf*tmax)\n",
    "        cter = f/((w**2-wf**2)*math.sqrt(2*hbb*m*w))\n",
    "        vtr = (w*co*sif - wf*si*cof)*cter\n",
    "        vti = (w*si*sif - wf*co*cof)*cter\n",
    "        vtrmax = (w*comax*sifmax - wf*simax*cofmax)*cter\n",
    "        vtimax = (w*simax*sifmax - wf*comax*cofmax)*cter\n",
    "    x = co*(x0 + ctt*vtr) + si*(p0 + ctt*vti)\n",
    "    y = -si*(x0 + ctt*vtr) + co*(p0 + ctt*vti)\n",
    "    xm = comax*(x0 + ctt*vtrmax) + simax*(p0 + ctt*vtimax)\n",
    "    ym = -simax*(x0 + ctt*vtrmax) + comax*(p0 + ctt*vtimax)\n",
    "    plt.plot(x,y, linestyle='dashed')\n",
    "    plt.xlim(-3,3); plt.ylim(-2,2)\n",
    "    plt.xlabel(r'$\\langle X_{t}^{H}\\rangle$',fontsize=13)\n",
    "    plt.ylabel(r'$\\langle P_{t}^{H}\\rangle/m\\omega$',fontsize=13)\n",
    "    plt.annotate(r'$t=$'+str(tmax), xy=(2,1.8), \\\n",
    "                 xytext=(2,1.8), fontsize=12)\n",
    "    plt.annotate(r'$\\bigcirc$',xy=(xm,ym),xytext=(xm,ym),fontsize=12)\n",
    "    plt.show()  \n",
    "    \n",
    "interactive(oqf_dyn,x0=(0,1,0.1),p0=(0,1,0.1),tmax=(0,100,0.2),wf=(0.11,1.1,0.025))"
   ]
  },
  {
   "cell_type": "markdown",
   "metadata": {},
   "source": [
    "## Dinâmica na representação de Schrödinger (para $|\\psi_{0}\\rangle=|0\\rangle$)\n",
    "Embora não tenhamos resolvido a equação de Schrödinger para $U_{t}$, podemos usar as equações obtidas acima para mostrar como o estado fundamental do oscilador evolui quando submetido à força $f_{t}$:\n",
    "\\begin{align}\n",
    "& a_{H}|0\\rangle = e^{-i\\omega t}(a + v_{t}I)|0\\rangle, \\\\\n",
    "& \\therefore U_{t}^{\\dagger}aU_{t}|0\\rangle = e^{-i\\omega t}(a|0\\rangle + v_{t}I|0\\rangle)=e^{-i\\omega t}(|\\oslash\\rangle + v_{t}|0\\rangle) = e^{-i\\omega t}v_{t}|0\\rangle, \\\\\n",
    "& \\therefore U_{t}U_{t}^{\\dagger}aU_{t}|0\\rangle = a(U_{t}|0\\rangle) = e^{-i\\omega t}v_{t}(U_{t}|0\\rangle).\n",
    "\\end{align}\n",
    "Vemos assim que o estado evoluído no tempo $U_{t}|0\\rangle$ é autovetor do operador de abaixamento $a$, e que portanto é um estado coerente\n",
    "\\begin{equation}\n",
    "U_{t}|0\\rangle=|\\alpha_{t}\\rangle \\text{ com } \\alpha_{t} = e^{-i\\omega t}v_{t}.\n",
    "\\end{equation}\n",
    "\n",
    "OBS. O oscilador forçado é um exemplo onde é vantajoso usar a _representação de Heisenberg_."
   ]
  },
  {
   "cell_type": "markdown",
   "metadata": {},
   "source": [
    "---\n",
    "# Exercícios\n",
    "\n",
    "$1.$ Verifique a relação de comutação entre o Hamiltoniano do oscilador forçado em diferentes tempos: $[H_{t},H_{t'}]=\\hbar\\omega(F_{t}-F_{t'})(a^{\\dagger}-a)$.\n",
    "\n",
    "$2.$ Para a dinâmica do oscilador forçado, verifique que podemos escrever uma das soluções apresentadas na seção correspondente como: $\\frac{P_{t}^{H}}{m\\omega} = -X\\sin\\omega t + \\frac{P}{m\\omega}\\cos\\omega t + \\sqrt{\\frac{2\\hbar}{m\\omega}}\\left(\\Im(v_{t})\\cos\\omega t - \\Re(v_{t})\\sin\\omega t\\right)\\mathbb{I}$.\n",
    "\n",
    "$3.$ Para o oscilador forçado, usando o mesmo tipo de manipulação  da eq. de Heisenberg que fizemos ao obter $a_{H}$, mostre que $a_{H}^{\\dagger} = e^{i\\omega t}(a^{\\dagger} + v_{t}^{*}\\mathbb{I})$."
   ]
  }
 ],
 "metadata": {
  "kernelspec": {
   "display_name": "Python 3 (ipykernel)",
   "language": "python",
   "name": "python3"
  },
  "language_info": {
   "codemirror_mode": {
    "name": "ipython",
    "version": 3
   },
   "file_extension": ".py",
   "mimetype": "text/x-python",
   "name": "python",
   "nbconvert_exporter": "python",
   "pygments_lexer": "ipython3",
   "version": "3.12.2"
  }
 },
 "nbformat": 4,
 "nbformat_minor": 4
}
