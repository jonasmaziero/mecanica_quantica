{
 "cells": [
  {
   "cell_type": "markdown",
   "metadata": {},
   "source": [
    "### Notas de aula de Mecânica Quântica <br> Autor: Jonas Maziero"
   ]
  },
  {
   "cell_type": "markdown",
   "metadata": {},
   "source": [
    "# Emaranhamento, não localidade e comunicação quântica\n",
    "\n",
    "## O paradoxo EPR\n",
    "Em 1935 Einstein, Podolski e Rosen propuseram um experimento de pensamento com o intuito de mostrar que a MQ não era uma __teoria completa__, que, pela definição deles, seria uma teoria com a qual podemos prever com certeza o resultado de experimentos antes de fazê-los e que, naturalmente, é local, conforme estabelecido pela teoria da relatividade. O argumento de EPR pode ser descrito como segue, na versão de David Bohm. Consideremos o seguinte estado de spin de dois quantons de spin 1/2:\n",
    "\\begin{equation}\n",
    "|\\Psi_{-}\\rangle_{AB} = \\frac{1}{\\sqrt{2}}\\left(|z_{+}\\rangle_{A}\\otimes|z_{-}\\rangle_{B} - |z_{-}\\rangle_{A}\\otimes|z_{+}\\rangle_{B}\\right).\n",
    "\\end{equation}\n",
    "Usando \n",
    "$$|x_{\\pm}\\rangle_{S}=(|z_{+}\\rangle_{S}\\pm|z_{-}\\rangle_{S})/\\sqrt{2},$$\n",
    "para $S=A,B$, pode-se verificar que:\n",
    "\\begin{equation}\n",
    "|\\Psi_{-}\\rangle_{AB} = \\frac{e^{i\\pi}}{\\sqrt{2}}\\left(|x_{+}\\rangle_{A}\\otimes|x_{-}\\rangle_{B} - |x_{-}\\rangle_{A}\\otimes|x_{+}\\rangle_{B}\\right).\n",
    "\\end{equation}\n",
    "\n",
    "Agora considere que medimos um dos observáveis $\\sigma_{z}^{A}$ ou $\\sigma_{x}^{A}$, do quanton da Alice. Se $z_{\\pm}^{A}$ ou $x_{\\pm}^{A}$ é obtido nessas medidas da Alice, pela correlação que há entre os spins, sabemos que o estado do quanton do Bob depois das medidas será $|z_{\\mp}\\rangle_{B}$ ou $|x_{\\mp}\\rangle_{B}$. Como exemplo, consideremos\n",
    "\\begin{align}\n",
    "|\\Psi_{-}\\rangle_{AB} \\xrightarrow[]{z_{+}^{A}} &\\propto \\Pi_{z_{+}^{A}}\\otimes\\mathbb{I}_{B}|\\Psi_{-}\\rangle_{AB} \\\\\n",
    "& = |z_{+}\\rangle_{A}\\langle z_{+}|\\otimes\\mathbb{I}_{B}|\\Psi_{-}\\rangle_{AB} \\\\\n",
    "& = \\frac{1}{\\sqrt{2}}\\left(|z_{+}\\rangle_{A}\\langle z_{+}||z_{+}\\rangle_{A}\\otimes\\mathbb{I}_{B}|z_{-}\\rangle_{B} - |z_{+}\\rangle_{A}\\langle z_{+}||z_{-}\\rangle_{A}\\otimes\\mathbb{I}_{B}|z_{+}\\rangle_{B}\\right) \\\\\n",
    "& = \\frac{1}{\\sqrt{2}}|z_{+}\\rangle_{A}\\otimes|z_{-}\\rangle_{B}\n",
    "\\end{align}"
   ]
  },
  {
   "cell_type": "markdown",
   "metadata": {},
   "source": [
    "e\n",
    "\\begin{align}\n",
    "|\\Psi_{-}\\rangle_{AB} \\xrightarrow[]{x_{+}^{A}} & \\propto \\Pi_{x_{+}^{A}}\\otimes\\mathbb{I}_{B}|\\Psi_{-}\\rangle_{AB} \\\\\n",
    "& = |x_{+}\\rangle_{A}\\langle x_{+}|\\otimes\\mathbb{I}_{B}|\\Psi_{-}\\rangle_{AB} \\\\\n",
    "& = \\frac{e^{i\\pi}}{\\sqrt{2}}\\left(|x_{+}\\rangle_{A}\\langle x_{+}||x_{+}\\rangle_{A}\\otimes\\mathbb{I}_{B}|x_{-}\\rangle_{B} - |x_{+}\\rangle_{A}\\langle x_{+}||x_{-}\\rangle_{A}\\otimes\\mathbb{I}_{B}|x_{+}\\rangle_{B}\\right) \\\\\n",
    "& = \\frac{e^{i\\pi}}{\\sqrt{2}}|x_{+}\\rangle_{A}\\otimes|x_{-}\\rangle_{B}.\n",
    "\\end{align}\n",
    "\n",
    "Agora, se impomos __localidade__, ou seja, que as medidas feitas por Alice não podem afetar o resultado das medidas que foram, que serão ou que estão sendo feitas por Bob (espacialmente distante), vemos que pelo uso do estado emaranhado acima podemos prever, com certeza e sem perturbar o sistema $B$, os resultados de medidas de dois __observáveis incompatíveis__ $\\sigma_{z}^{B}$ ou $\\sigma_{x}^{B}$ do quanton do Bob. Como isso é claramente impossível segundo as regras da MQ, EPR disseram que embora a MQ estivesse correta, eles acreditavam na existência de uma teoria completa que a substituiria."
   ]
  },
  {
   "cell_type": "markdown",
   "metadata": {},
   "source": [
    "## O teorema de Bell\n",
    "Em 1964 John Bell tentou mostrar que EPR estavam certos, mas com uma abordagem que possibilitaría fazer testes experimentais. Bell supôs que existiriam __variáveis ocultas__, tais que se conhecêssemos seus valores, ou a distribuição de probabilidades desses valores, poderíamos prever com certeza os resultados de qualquer medida em MQ. Essa suposição pode ser chamada de __determinismo__. Bell também assumiu __localidade__, ou seja, que o resultado da medida em um sistema não pode influenciar os resultados de medidas no outro sistema. \n",
    "\n",
    "Consideramos o seguinte observável\n",
    "\\begin{align}\n",
    "O & = A_{1}B_{1} + A_{1}B_{2} + A_{2}B_{1} - A_{2}B_{2} \\\\\n",
    "  & = A_{1}(B_{1} + B_{2}) + A_{2}(B_{1} - B_{2}),\n",
    "\\end{align}\n",
    "com $A_{j}$ e $B_{k}$ sendo observáveis dicotômicos, todos tendo espectro $\\pm 1$, dos subsistemas $A$ e $B$, respectivamente. Segundo as suposições acima, o valor médio de $O$ ficaria\n",
    "\\begin{equation}\n",
    "\\langle O\\rangle_{dl} = \\int d\\lambda\\rho(\\lambda) \\left\\{a_{1}(\\lambda)[b_{1}(\\lambda) + b_{2}(\\lambda)] + a_{2}(\\lambda)[b_{1}(\\lambda) - b_{2}(\\lambda)]\\right\\},\n",
    "\\end{equation}\n",
    "em que denotamos por $a_{j},b_{k}$ os possíveis valores de $A_{j},B_{k}$ e $\\rho(\\lambda)$ é a distribuição de probabilidades para as variáveis ocultas. Note que a suposição de determinismo entra na dependência dos valores dos observáveis com $\\lambda$ e a localidade entra na não dependência desses valores com aqueles do outro sistema. O contrário, a dependência não local seria e.g. \n",
    "$$a_{j}=a_{j}(\\lambda,b_{k}).$$\n",
    "Considerando todas as combinacões possíveis de valores de $A_{j}$ e $B_{k}$ vemos que o espectro de $O$ é $\\pm2$. Disso segue que o valor médio desse observável deve estar limitado pela __teoria de variáveis ocultas locais__ por\n",
    "\\begin{equation}\n",
    "-2 \\le \\langle O\\rangle_{dl} \\le 2.\n",
    "\\end{equation}"
   ]
  },
  {
   "cell_type": "markdown",
   "metadata": {},
   "source": [
    "Agora consideremos um situação idêntica mas descrita pelas regras da __Mecânica Quântica__. Usaremos como estado preparado $|\\Psi_{-}\\rangle_{AB}$. Quanto aos observáveis, uma escolha apropriada é\n",
    "\\begin{align}\n",
    "& A_{1}=\\sigma_{z}^{A}\\text{, } A_{2}=\\sigma_{x}^{A}, \\\\\n",
    "& B_{1}=(\\sigma_{z}^{B}+\\sigma_{x}^{B})/\\sqrt{2} \\text{, } B_{2}=(\\sigma_{z}^{B}-\\sigma_{x}^{B})/\\sqrt{2}.\n",
    "\\end{align}\n",
    "Pode-se verificar que nesse caso\n",
    "\\begin{equation}\n",
    "O=\\sqrt{2}(\\sigma_{z}\\otimes\\sigma_{z}+\\sigma_{x}\\otimes\\sigma_{x}).\n",
    "\\end{equation}\n",
    "Ademais, usando \n",
    "$$\\sigma_{z}^{S}|z_{+}^{S}\\rangle=|z_{+}^{S}\\rangle,\\ \\sigma_{z}^{S}|z_{-}^{S}\\rangle=-|z_{-}^{S}\\rangle,$$\n",
    "teremos que \n",
    "\\begin{align}\n",
    "\\sigma_{z}^{A}\\otimes\\sigma_{z}^{B}|\\Psi_{-}\\rangle_{AB} &= \\frac{1}{\\sqrt{2}}\\left(\\sigma_{z}^{A}|z_{+}\\rangle_{A}\\otimes\\sigma_{z}^{B}|z_{-}\\rangle_{B} - \\sigma_{z}^{A}|z_{-}\\rangle_{A}\\otimes\\sigma_{z}^{B}|z_{+}\\rangle_{B}\\right) \\\\  \n",
    "& = \\frac{1}{\\sqrt{2}}\\left(|z_{+}\\rangle_{A}\\otimes(-|z_{-}\\rangle_{B}) - (-|z_{-}\\rangle_{A})\\otimes|z_{+}\\rangle_{B}\\right) \\\\\n",
    "& =-|\\Psi_{-}\\rangle_{AB}.\n",
    "\\end{align}\n",
    "Pode-se verificar também que \n",
    "$$\\sigma_{x}\\otimes\\sigma_{x}|\\Psi_{-}\\rangle_{AB} =-|\\Psi_{-}\\rangle_{AB}.$$\n",
    "Assim, vem que\n",
    "\\begin{align}\n",
    "\\langle O\\rangle_{mq} & = _{AB}\\langle\\Psi_{-}|O|\\Psi_{-}\\rangle_{AB} \\\\\n",
    "& = _{AB}\\langle\\Psi_{-}|\\sqrt{2}(-2|\\Psi_{-}\\rangle_{AB}) \\\\\n",
    "                      & = -2\\sqrt{2} \\\\\n",
    "                      & < -2.\n",
    "\\end{align}\n",
    "Ou seja, o resultado da MQ está fora do limite imposto pela teoria de variáveis ocultas locais. Desde 1982, vários experimentos foram feitos fornecendo resultados compatíveis com a MQ. Isso nos mostra que uma ou as duas suposições estão erradas, i.e., __a Natureza é não determinística e/ou não local__. Bell preferia esta última opção, pois existe uma versão conhecida da MQ, a de de Broglie-Bohm, que é determinística e não local. "
   ]
  },
  {
   "cell_type": "markdown",
   "metadata": {},
   "source": [
    "## Comunicação superluminal?\n",
    "Esses resultados motivaram propostas engenhosas para fazer comunicação mais rápido que a luz. Uma proposta foi a seguinte. Considere que duas partes, chamadas usualmente de Alice e Bob, querem trocar bits de informação e que eles compartilham pares de quantons de spin 1/2 preparados no estado $|\\Psi_{-}\\rangle_{AB}$. Alice e Bob combinam que se Alice quer mandar o bit $0$ ela mede o observável $\\sigma_{z}$ no seu spin do par e se quiser mandar o bit $1$ ela mede $\\sigma_{x}$:\n",
    "\\begin{align}\n",
    "& \\text{ Alice mede } \\sigma_{z}^{A} \\rightarrow \\text{ bit } 0, \\\\\n",
    "& \\text{ Alice mede } \\sigma_{x}^{A} \\rightarrow \\text{ bit } 1.\n",
    "\\end{align}\n",
    "Por sua vez, Bob faz várias cópias do estado do seu spin de cada par e mede o observável $\\sigma_{z}^{B}$ em cada cópia:\n",
    "\\begin{equation}\n",
    "|\\psi\\rangle_{B} \\rightarrow \\text{ xerox quântico } \\rightarrow  |\\psi\\rangle_{B}\\otimes|\\psi\\rangle_{B}\\otimes\\cdots \\rightarrow\\text{ mede }\\sigma_{z}^{B}.\n",
    "\\end{equation}\n",
    "Se Alice mediu $\\sigma_{z}^{A}$, a distribuição de probabilidades obtida nas medidas de Bob, \n",
    "$$\\{Pr(z_{+}^{B}),Pr(z_{-}^{B})\\}=\\{1,0\\} \\text{ ou }\\{Pr(z_{+}^{B}),Pr(z_{-}^{B})\\}=\\{0,1\\},$$\n",
    "pois\n",
    "\\begin{align}\n",
    "\\text{Alice obteve }z_{+}^{A} \\Rightarrow \\text{ estado colapsa pra } |z_{+}^{A}\\rangle\\otimes|z_{-}^{B}\\rangle \\Rightarrow \\{0,1\\}, \\\\\n",
    "\\text{Alice obteve }z_{-}^{A} \\Rightarrow \\text{ estado colapsa pra } |z_{-}^{A}\\rangle\\otimes|z_{+}^{B}\\rangle\\Rightarrow \\{1,0\\}.\n",
    "\\end{align}\n",
    "Se Alice, no entanto, mediu $\\sigma_{x}$, Bob obterá, aproximadamente, a DP \n",
    "$$\\{Pr(z_{+}^{B}),Pr(z_{-}^{B})\\}=\\{1/2,1/2\\}$$\n",
    "para medidas de $\\sigma_{z}^{B}$. Com isso, Bob consegue diferenciar entre as DPs e saber qual bit Alice quiz enviar pra ele. Se a distância entre eles for adequada, eles conseguem trocar bits de informação mais rápido do que a luz demoraria para ir da posição de Alice até Bob. Ou seja, eles fazem comunicação superluminal, voltam no tempo, e .... Qual é o problema com essa proposta?"
   ]
  },
  {
   "cell_type": "markdown",
   "metadata": {},
   "source": [
    "## Teorema da não clonagem em MQ\n",
    "O problema com a proposta anterior é que não existe Xerox quântico. Uma prova simplificada disto é a seguinte. Considera que existe uma dinâmica dada pelo operador de evolução temporal $U$ que atua no espaço $\\mathcal{H}_{s}\\otimes\\mathcal{H}_{a}$, com $s$ sendo o sistema cujo estado queremos copiar e $a$ é um sistema auxiliar no qual  copiaremos aquele estado. Consideremos que $U$ pode copiar dois estados desconhecidos quaisquer $|\\psi\\rangle$ e $|\\phi\\rangle$, i.e.,\n",
    "\\begin{align}\n",
    "U|\\psi\\rangle_{s}\\otimes|\\alpha\\rangle_{a} & = |\\psi\\rangle_{s}\\otimes|\\psi\\rangle_{a}, \\\\\n",
    "U|\\phi\\rangle_{s}\\otimes|\\alpha\\rangle_{a} & = |\\phi\\rangle_{s}\\otimes|\\phi\\rangle_{a},\n",
    "\\end{align}\n",
    "com $|\\alpha\\rangle$ sendo o estado inicial do sistema auxiliar. Segue dessas relações que\n",
    "\\begin{align}\n",
    "\\langle\\psi|\\otimes\\langle\\alpha|U^{\\dagger}U|\\phi\\rangle\\otimes|\\alpha\\rangle & = (\\langle\\psi|\\otimes\\langle\\psi|)(|\\phi\\rangle\\otimes|\\phi\\rangle) \\\\\n",
    "\\langle\\psi|\\phi\\rangle\\otimes\\langle\\alpha|\\alpha\\rangle & = \\langle\\psi|\\phi\\rangle\\otimes\\langle\\psi|\\phi\\rangle \\\\\n",
    "\\langle\\psi|\\phi\\rangle & = \\langle\\psi|\\phi\\rangle^{2}.\n",
    "\\end{align}\n",
    "Ou seja, $\\langle\\psi|\\phi\\rangle$ é igual a $0$ ou $1$. Ou seja, só poderá existir uma máquina de copiar estados desconhecidos $U$ se os estados forem iguais ou ortogonais (que é o caso da informação clássica)."
   ]
  },
  {
   "cell_type": "markdown",
   "metadata": {},
   "source": [
    "Uma transformação unitária que copia alguns estados é a chamada \"não controlada\":\n",
    "\\begin{equation}\n",
    "CNOT_{s\\rightarrow a} = |z_{+}\\rangle_{s}\\langle z_{+}|\\otimes\\mathbb{I}_{a}+|z_{-}\\rangle_{s}\\langle z_{-}|\\otimes\\sigma_{x}^{a}.\n",
    "\\end{equation}\n",
    "Pode-se verificar que\n",
    "\\begin{align}\n",
    "CNOT_{s\\rightarrow a}|z_{+}\\rangle_{s}\\otimes|z_{+}\\rangle_{a} & = |z_{+}\\rangle_{s}\\langle z_{+}||z_{+}\\rangle_{s}\\otimes\\mathbb{I}_{a}|z_{+}\\rangle_{a} + |z_{-}\\rangle_{s}\\langle z_{-}||z_{+}\\rangle_{s}\\otimes\\sigma_{x}^{a}|z_{+}\\rangle_{a} \\\\\n",
    "& = |z_{+}\\rangle_{s}\\otimes|z_{+}\\rangle_{a}, \\\\\n",
    "CNOT_{s\\rightarrow a}|z_{-}\\rangle_{s}\\otimes|z_{+}\\rangle_{a} &= |z_{-}\\rangle_{s}\\otimes|z_{-}\\rangle_{a}.\n",
    "\\end{align}\n",
    "No entanto, para $c_{\\pm}\\in\\mathbb{C}$ e\n",
    "\\begin{equation}\n",
    "|\\psi\\rangle_{s}=c_{+}|z_{+}\\rangle_{s}+c_{-}|z_{-}\\rangle_{s},\n",
    "\\end{equation}\n",
    "teremos \n",
    "\\begin{align}\n",
    "CNOT_{s\\rightarrow a}|\\psi\\rangle_{s}\\otimes|z_{+}\\rangle_{a} & = c_{+}|z_{+}\\rangle_{s}\\otimes|z_{+}\\rangle_{a}+c_{-}|z_{-}\\rangle_{s}\\otimes|z_{-}\\rangle_{a} \\\\\n",
    "& \\ne|\\psi\\rangle_{s}\\otimes|\\psi\\rangle_{a}\n",
    "\\end{align}\n",
    "em geral.\n",
    "\n",
    "Vale observar que máquinas de copiar estados quânticos de forma imperfeita ou probabilística são factíveis, mas não são \"boas o suficiente\" para fazer comunicação superluminal (https://arxiv.org/abs/quant-ph/0511088)."
   ]
  },
  {
   "cell_type": "markdown",
   "metadata": {},
   "source": [
    "## Criptografia quântica\n",
    "Matemáticos demonstraram que qualquer número natural possui uma decomposição única em termos de números primos. Por exemplo, $15=(3)(5)$. A alta complexidade computacional de encontrar-se os números primos que compõem um inteiro grande, usando computadores clássicos, é o esteio do protocolo RSA, que forma a base criptográfica para grande parte dos sistemas de comunicação atuais. Em Ciência da Informação Quântica, o algoritmo de Shor pode ser usado para resolver o problema da fotoração em primos com computadores quânticos exponencialmente  mais rápido que com computadores clássicos. Isso evidenciou a importância de, entre outras coisas, desenvolver técnicas de criptografia com base nas leis da Natureza, para substituir protocolos baseados na dificuldade de se resolver um problema matemático.\n",
    "\n",
    "Um dos protocolos quânticos mais simples para distribuição de chaves criptográficas é o BB84 (de Bennett e Brassard): <br>\n",
    "Alice e Bob querem compartilhar uma chave criptográfica, uma sequência aleatória e comum de bits de informação, mas de forma que a espiã Eva não consiga ter acesso a essa chave. \n",
    "\\begin{equation}\n",
    "\\text{Alice}\\xrightarrow[]{\\text{Eva}}\\text{Bob}.\n",
    "\\end{equation}\n",
    "O protocolo BB84 funciona como segue:\n",
    "* Alice prepara uma sequência de $N$ quantons de forma aleatória e equiprovável em um dos estados $\\{|z_{+}\\rangle,|z_{-}\\rangle,|x_{+}\\rangle,|x_{-}\\rangle\\}$ e manda esses quantons pra Bob. Pode-se usar e.g. $|z_{+}\\rangle,|x_{+}\\rangle$ para codificar o bit 0 e $|z_{-}\\rangle,|x_{-}\\rangle$ para representar o bit 1. \n",
    "* Bob escolhe, aleatóriamente e também de forma equiprovável, um dos observáveis $\\sigma_{z}$ ou $\\sigma_{x}$ para medir.\n",
    "* Bob informa sua escolha para Alice via um canal público de comunicação (Eva pode saber das medidas de Bob). Eles descartam todos os quantons $(\\approx N/2)$ cujos estados preparados por Alice não são autovetores do observável escolhido por Bob. \n",
    "* Como não existe máquina de copiar quântica, para obter informação sobre a chave, Eva tem que fazer medidas nos quantons que ela intercepta, o que impreterivelmente perturbará o estado de alguns desses quantons. \n",
    "* Alice e Bob então escolhem aleatoriamente metade ($\\approx N/4$) dos quantons restantes e comparam o resultado obtido por Bob com o estado enviado por Alice. Se existe discrepância em uma fração razoável dos quantons, é porquê Eva espiou e perturbou esses estados. Se os resultados de Alice e Bob coincidem para (aproximadamente) todos os quantons, eles usam o restante dos estados ($\\approx N/4$) para estabelecer a chave criptográfica.\n",
    "\n",
    "Uma vez estabelecida a chave criptográfica, eles podem usar o protocolo chamado de __one-time-pad__ para estabelecer comunicação segura. Por exemplo, se Alice quer mandar a letra $A\\equiv 01000001$ para Bob e a chave estabelecida foi $10000010$, Alice faz a soma binária\n",
    "\\begin{equation}\n",
    "\\text{mensagem}\\oplus\\text{chave} = 01000001\\oplus 10000010 = 11000011=\\text{mensagem criptografada},\n",
    "\\end{equation}\n",
    "envia, usando um canal clássico de comunicação, a mensagem criptografada (que é aleatória e sem significado) pra Bob, que recupera a mensagem original fazendo a soma binária com a chave\n",
    "\\begin{equation}\n",
    "\\text{mensagem criptografada}\\oplus\\text{chave} = 11000011\\oplus 10000010 =01000001 =\\text{mensagem}.\n",
    "\\end{equation}"
   ]
  },
  {
   "cell_type": "markdown",
   "metadata": {},
   "source": [
    "---\n",
    "# Exercícios\n",
    "\n",
    "$1.$ Verifique que o estado $|\\Psi_{-}\\rangle_{AB} = (1/\\sqrt{2})\\left(|z_{+}\\rangle_{A}\\otimes|z_{-}\\rangle_{B} - |z_{-}\\rangle_{A}\\otimes|z_{+}\\rangle_{B}\\right)$ pode ser reescrito como $|\\Psi_{-}\\rangle_{AB} = (e^{i\\pi}/\\sqrt{2})(|x_{+}\\rangle_{A}\\otimes|x_{-}\\rangle_{B} - |x_{-}\\rangle_{A}\\otimes|x_{+}\\rangle_{B})$, em que $|x_{\\pm}\\rangle_{S}=(|z_{+}\\rangle_{S}\\pm|z_{-}\\rangle_{S})/\\sqrt{2}$ para $S=A,B$.\n",
    "\n",
    "$2.$ Para o estado conjunto de dois quantons de spin 1/2 da questão anterior, obtenha o estado conjunto pós-medida se Alice mede $\\sigma_{z}^{A}$ e obtém $z_{-}^{A}$ e se Alice mede $\\sigma_{x}^{A}$ e obtém $x_{-}^{A}$.\n",
    "\n",
    "$3.$ Verifique que, para observáveis dicotômicos com valores possíveis $A_{j}=\\pm1$ e $B_{k}=\\pm1$, os valores possíveis da combinação $A_{1}B_{1} + A_{1}B_{2} + A_{2}B_{1} - A_{2}B_{2}$ são $\\pm 2$. \n",
    "\n",
    "$4.$ Verifique que para $A_{1}=\\sigma_{z}^{A}$, $A_{2}=\\sigma_{x}^{A}$, $B_{1}=(\\sigma_{z}^{B}+\\sigma_{x}^{B})/\\sqrt{2}$,  $B_{2}=(\\sigma_{z}^{B}-\\sigma_{x}^{B})/\\sqrt{2}$ temos que $O=A_{1}\\otimes B_{1} + A_{1}\\otimes B_{2} + A_{2}\\otimes B_{1} - A_{2}\\otimes B_{2}=\\sqrt{2}(\\sigma_{z}\\otimes\\sigma_{z}+\\sigma_{x}\\otimes\\sigma_{x})$.\n",
    "\n",
    "$5.$ Verifique que $\\sigma_{x}\\otimes\\sigma_{x}|\\Psi_{-}\\rangle_{AB}=-|\\Psi_{-}\\rangle_{AB}$, com $|\\Psi_{-}\\rangle_{AB}$ sendo o estado mostrado na questão 1.\n",
    "\n",
    "$6.$ Para o estado composto da questão 1, verifique que se Alice mede $\\sigma_{x}^{A}$, para qualquer um dos resultados possíveis, Bob obterá a distribuição de probabilidades $\\{Pr(z_{+}^{B}),Pr(z_{-}^{B})\\}=\\{1/2,1/2\\}$ ao medir $\\sigma_{z}^{B}$.\n",
    "\n",
    "$7.$ Verifique que $CNOT_{s\\rightarrow a} = |z_{+}\\rangle_{s}\\langle z_{+}|\\otimes\\mathbb{I}_{a}+|z_{-}\\rangle_{s}\\langle z_{-}|\\otimes\\sigma_{x}^{a}$ é uma transformação unitária.\n",
    "\n",
    "$8.$ Verifique que $CNOT_{s\\rightarrow a}|z_{-}\\rangle_{s}\\otimes|z_{+}\\rangle_{a} = |z_{-}\\rangle_{s}\\otimes|z_{-}\\rangle_{a}$, com $CNOT_{s\\rightarrow a}$ dada na questão anterior.\n",
    "\n",
    "$9.$ Para $c_{\\pm}\\in\\mathbb{C}$ e $|\\psi\\rangle_{S}=c_{+}|z_{+}\\rangle_{S}+c_{-}|z_{-}\\rangle_{S}$, com $S=s,a$, verifique que a única maneira de termos $CNOT_{s\\rightarrow a}|\\psi\\rangle_{s}\\otimes|z_{+}\\rangle_{a}=c_{+}|z_{+}\\rangle_{s}\\otimes|z_{+}\\rangle_{a}+c_{-}|z_{-}\\rangle_{s}\\otimes|z_{-}\\rangle_{a}=|\\psi\\rangle_{s}\\otimes|\\psi\\rangle_{a}$ é com $c_{+}=1,c_{-}=0$ ou com $c_{+}=0,c_{-}=1$.\n",
    "\n",
    "$10.$ Se Alice quer mandar a mensagem $Q\\equiv 1010001$ pra Bob e a chave criptográfica compartilhada é $1110111$, qual é a mensagem criptografada que será enviada por Alice através de um canal clássico de comunicação?"
   ]
  }
 ],
 "metadata": {
  "kernelspec": {
   "display_name": "Python 3 (ipykernel)",
   "language": "python",
   "name": "python3"
  },
  "language_info": {
   "codemirror_mode": {
    "name": "ipython",
    "version": 3
   },
   "file_extension": ".py",
   "mimetype": "text/x-python",
   "name": "python",
   "nbconvert_exporter": "python",
   "pygments_lexer": "ipython3",
   "version": "3.12.2"
  }
 },
 "nbformat": 4,
 "nbformat_minor": 4
}
