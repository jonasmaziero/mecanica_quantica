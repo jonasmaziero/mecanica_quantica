{
 "cells": [
  {
   "cell_type": "markdown",
   "id": "7553f58a",
   "metadata": {},
   "source": [
    "### Notas de aula de Mecânica Quântica <br> Autor: Jonas Maziero\n",
    "---"
   ]
  },
  {
   "cell_type": "markdown",
   "id": "aaf76e09",
   "metadata": {},
   "source": [
    "# Mecânica Quântica Relativística\n",
    "\n",
    "## Transformações de Lorentz\n",
    "As coordenadas espaço-temporais de um quanton em relação aos referenciais inerciais $O$ e $O'$ são relacionadas, a partir dos postulados da Relatividade Restrita, por uma transformação de Lorentz (TL):\n",
    "\\begin{equation}\n",
    "x'^{\\mu}=\\sum_{\\nu=0}^{3}\\Lambda_{\\nu}^{\\mu}x^{\\nu} + a^\\mu \\equiv \\Lambda_{\\nu}^{\\mu}x^{\\nu} + a^\\mu,\n",
    "\\end{equation}\n",
    "em que \n",
    "$$x^{\\mu}=(x^{0},x^{1},x^{2},x^{3})=(ct,x,y,z)$$\n",
    "e o boost de Lorentz $\\Lambda^{\\mu}_{\\nu}$ é\n",
    "\\begin{equation}\n",
    "\\Lambda = \\begin{bmatrix} \\gamma & -\\gamma\\vec{\\beta}^{T} \\\\ -\\gamma\\vec{\\beta} & \\left(\\mathbb{I}_{3}+(\\gamma-1)\\vec{\\beta}\\vec{\\beta}^{T}/\\beta^{2} \\right) \\end{bmatrix}\n",
    "\\end{equation}\n",
    "com \n",
    "$$\\gamma=\\frac{1}{\\sqrt{1-\\beta^{2}}}$$ \n",
    "e \n",
    "$$\\vec{\\beta}=\\vec{V}/c$$\n",
    "é a velocidade relativa entre $O$ e $O'$. Vale observar que, em relação aos elementos de matriz, \n",
    "$$(\\Lambda^{\\mu}_{\\nu})\\equiv(\\Lambda_{\\mu,\\nu}).$$\n",
    "Além disso, se a origem dos referenciais coincide em $t=t'=0$, teremos que \n",
    "$$ a^\\mu=0.$$"
   ]
  },
  {
   "cell_type": "markdown",
   "id": "611d0e01",
   "metadata": {},
   "source": [
    "## Não invariância relativística da equação de Schrödinger\n",
    "A equação de Schrödinger (EqS) para o vetor de estado é dada por:\n",
    "$$i\\hbar\\partial_{t}|\\psi_{t}\\rangle=H_{t}|\\psi_{t}\\rangle.$$\n",
    "Indo para a base de posição, usando \n",
    "$$H_{t}=H=P^{2}/2m+U(\\vec{r})$$ \n",
    "com \n",
    "$$\\langle\\vec{r}|P|\\psi\\rangle=-i\\hbar\\vec{\\nabla}_{\\vec{r}}\\langle \\vec{r}|\\psi\\rangle,$$\n",
    "teremos\n",
    "\\begin{align}\n",
    "i\\hbar\\partial_{t}\\psi(\\vec{r},t) &= \\left(-\\frac{\\hbar^{2}}{2m}\\nabla_{\\vec{r}}^{2}+U(\\vec{r})\\right)\\psi(\\vec{r},t) \\\\\n",
    "& = \\left(-\\frac{\\hbar^{2}}{2m}(\\partial_{xx}+\\partial_{yy}+\\partial_{zz})+U(\\vec{r})\\right)\\psi(\\vec{r},t)\\hspace{2cm} (\\star)\n",
    "\\end{align} \n",
    "não é invariante por TL, pois envolve a derivada 1ª no tempo e derivadas 2ªs nas coordenadas espaciais."
   ]
  },
  {
   "cell_type": "markdown",
   "id": "292e8143",
   "metadata": {},
   "source": [
    "## Equação relativística?\n",
    "Focando nos autovalores de $H$, para a energia relativística\n",
    "\\begin{equation}\n",
    "E^{2} = m_{0}^{2}c^{4}+p^{2}c^{2},\n",
    "\\end{equation}\n",
    "consideramos a raiz positiva\n",
    "\\begin{align}\n",
    "E & = \\sqrt{m_{0}^{2}c^{4}+p^{2}c^{2}} \\\\\n",
    "& = m_{0}c^{2}\\sqrt{1+p^{2}/m_{0}^{2}c^{2}} \\\\\n",
    "& = m_{0}c^{2}\\left(1+\\frac{p^{2}}{2m_{0}^{2}c^{2}}-\\frac{p^{4}}{8m_{0}^{4}c^{4}}+\\frac{p^{6}}{16m_{0}^{6}c^{6}}+\\cdots\\right).\n",
    "\\end{align}\n",
    "Podemos quantizar essa expressão e obter a equação correspondente na base de posição, como na Eq. ($\\star$). Essa equação vai envolver a derivada 1ª no tempo e derivadas de várias ordens pares na posição, sendo portanto não invariante por transformações de Lorentz."
   ]
  },
  {
   "cell_type": "code",
   "execution_count": 5,
   "id": "fa985231",
   "metadata": {},
   "outputs": [
    {
     "data": {
      "image/png": "[encoded data removed]",
      "text/latex": [
       "$\\displaystyle 1 + \\frac{x^{2}}{2} - \\frac{x^{4}}{8} + \\frac{x^{6}}{16} + O\\left(x^{8}\\right)$"
      ],
      "text/plain": [
       "     2    4    6        \n",
       "    x    x    x     ⎛ 8⎞\n",
       "1 + ── - ── + ── + O⎝x ⎠\n",
       "    2    8    16        "
      ]
     },
     "execution_count": 5,
     "metadata": {},
     "output_type": "execute_result"
    }
   ],
   "source": [
    "from sympy import symbols, series, sqrt, init_printing\n",
    "init_printing(use_unicode=True)\n",
    "x = symbols('x')\n",
    "series(sqrt(1+x**2),x,0,8)"
   ]
  },
  {
   "cell_type": "markdown",
   "id": "61830511",
   "metadata": {},
   "source": [
    "## Equação de Klein-Gordon\n",
    "Uma primeira versão relativística para a equação da dinâmica quântica foi obtida por Klein e Gordon. \n",
    "\n",
    "Notamos que para \n",
    "$$H_{t}=H,$$\n",
    "derivando a EqS, \n",
    "$$i\\hbar\\partial_t|\\psi_t\\rangle=H|\\psi_t\\rangle,$$\n",
    "em relação ao tempo, vem que\n",
    "\\begin{align}\n",
    "& i\\hbar\\partial_{tt}|\\psi_{t}\\rangle = \\partial_{t}(H|\\psi_{t}\\rangle) = H\\partial_{t}|\\psi_{t}\\rangle = H\\frac{H}{i\\hbar}|\\psi_{t}\\rangle \\\\\n",
    "& \\therefore\\ -\\hbar^{2}\\partial_{tt}|\\psi_{t}\\rangle = H^{2}|\\psi_{t}\\rangle.\n",
    "\\end{align}\n",
    "Assim, lembrando da relação energia-momento relativística, $E^2=p^2 c^2 + m_0^2 c^4$, e usando \n",
    "$$H^{2}=m_{0}^{2}c^{4}I+P^{2}c^{2}$$\n",
    "e \n",
    "$$\\langle\\vec{r}|P^{2}|\\psi_{t}\\rangle=-\\hbar^{2}\\vec{\\nabla}_{\\vec{r}}^{2}\\langle\\vec{r}|\\psi_{t}\\rangle$$\n",
    "teremos \n",
    "\\begin{align}\n",
    "& -\\hbar^{2}\\partial_{tt}|\\psi_{t}\\rangle = (m_{0}^{2}c^{4} I+P^{2}c^{2})|\\psi_{t}\\rangle \\\\\n",
    "& \\therefore\\ -\\hbar^{2}\\partial_{tt}\\psi_{t}(\\vec{r}) = m_{0}^{2}c^{4}\\psi_{t}(\\vec{r})-\\hbar^{2}\\nabla^{2}c^{2}\\psi_{t}(\\vec{r}) \\\\\n",
    "& \\therefore\\ \\left(\\frac{1}{c^{2}}\\partial_{tt} - \\nabla^{2} + \\frac{m_{0}^{2}c^{2}}{\\hbar^{2}}\\right)\\psi_{t}(\\vec{r}) = 0 \\\\\n",
    "& \\therefore \\left(\\partial_{\\mu}\\partial^{\\mu} + \\frac{m_{0}^{2}c^{2}}{\\hbar^{2}}\\right)\\psi_{t}(\\vec{r}) = 0,\n",
    "\\end{align} "
   ]
  },
  {
   "cell_type": "markdown",
   "id": "c4cd3bfd",
   "metadata": {},
   "source": [
    "em que usamos \n",
    "\\begin{equation}\n",
    "\\eta^{\\mu\\nu}=\\eta_{\\mu\\nu}=diag(1,-1,-1,-1) = \\begin{bmatrix}1&0&0&0 \\\\ 0&-1&0&0 \\\\ 0&0&-1&0 \\\\ 0&0&0&-1\\end{bmatrix}\n",
    "\\end{equation}\n",
    "para escrever\n",
    "\\begin{align}\n",
    "\\partial_{\\mu}\\partial^{\\mu} & = \\partial_{\\mu}\\eta^{\\mu\\nu}\\partial_{\\nu} \\\\\n",
    "& = \\frac{\\partial}{\\partial x^{\\mu}}\\eta^{\\mu\\nu}\\frac{\\partial}{\\partial x^{\\nu}} \\\\\n",
    "& = \\frac{\\partial}{\\partial x^{0}}g^{00}\\frac{\\partial}{\\partial x^{0}} + \\frac{\\partial}{\\partial x^{1}}g^{11}\\frac{\\partial}{\\partial x^{1}} + \\frac{\\partial}{\\partial x^{2}}g^{22}\\frac{\\partial}{\\partial x^{2}} + \\frac{\\partial}{\\partial x^{3}}g^{33}\\frac{\\partial}{\\partial x^{3}} + 0 \\\\\n",
    "& = \\frac{\\partial}{\\partial (ct)}(1)\\frac{\\partial}{\\partial (ct)} + \\frac{\\partial}{\\partial x}(-1)\\frac{\\partial}{\\partial x} + \\frac{\\partial}{\\partial y}(-1)\\frac{\\partial}{\\partial y} + \\frac{\\partial}{\\partial z}(-1)\\frac{\\partial}{\\partial z} \\\\\n",
    "& = \\frac{1}{c^{2}}\\frac{\\partial^{2}}{\\partial t^{2}} - \\frac{\\partial^{2}}{\\partial x^{2}} - \\frac{\\partial^{2}}{\\partial y^{2}} - \\frac{\\partial^{2}}{\\partial z^{2}} \\\\\n",
    "& = \\frac{1}{c^{2}}\\frac{\\partial^{2}}{\\partial t^{2}} - \\nabla^{2}.\n",
    "\\end{align}\n",
    "Quantidades como esta última equação são invariantes de Lorentz. Por conseguinte, a __equação de Klein-Gordon__ (EqKG),\n",
    "\\begin{equation}\n",
    "\\left(\\partial_{\\mu}\\partial^{\\mu} + \\frac{m_{0}^{2}c^{2}}{\\hbar^{2}}\\right)\\psi_{t}(\\vec{r}) = 0,\n",
    "\\end{equation}\n",
    "é _invariante por mudança de referencial inercial_, ou seja, tem a mesma forma em todos os referenciais inerciais."
   ]
  },
  {
   "cell_type": "markdown",
   "id": "01e32ab7",
   "metadata": {},
   "source": [
    "### Partícula livre\n",
    "Vamos considerar a equação de Klein-Gordon aplicada a um sistema que não está sujeito a nenhuma força. Pode-se verificar que a onda harmônica \n",
    "\\begin{equation}\n",
    "\\phi_{t}(\\vec{r}) = Ne^{-i(\\vec{k}\\cdot\\vec{r}-\\omega t)} = Ne^{-i(\\vec{p}\\cdot\\vec{r}-Et)/\\hbar} = Ne^{ip^{\\mu}x_{\\mu}/\\hbar},\n",
    "\\end{equation}\n",
    "em que definimos o quadrivetor momento \n",
    "\\begin{equation}\n",
    "p^{\\mu}=(E/c,\\vec{p}) \\text{ e } x_{\\mu}=(ct,-\\vec{x}),\n",
    "\\end{equation}\n",
    "satisfaz a EqKG. Para isso, notemos que\n",
    "\\begin{align}\n",
    "\\partial_{0}\\partial^{0}\\phi_{t}(\\vec{r}) & = \\frac{1}{c^{2}}\\frac{\\partial^{2}\\phi_{t}(\\vec{r})}{\\partial t^{2}} = \\frac{1}{c^{2}}\\left(\\frac{iE}{\\hbar}\\right)^{2}\\phi_{t}(\\vec{r}) = -\\frac{E^{2}}{\\hbar^{2}c^{2}}\\phi_{t}(\\vec{r}), \\\\\n",
    "\\partial_{1}\\partial^{1}\\phi_{t}(\\vec{r}) & = -\\frac{\\partial^{2}}{\\partial x^{2}}Ne^{-i(p_{x}x+p_{y}y+p_{z}z-Et)/\\hbar} = -\\left(\\frac{-ip_{x}}{\\hbar}\\right)^{2}\\phi_{t}(\\vec{r}) = \\frac{p_{x}^{2}}{\\hbar^{2}}\\phi_{t}(\\vec{r}), \\\\\n",
    "\\partial_{2}\\partial^{2}\\phi_{t}(\\vec{r}) & = \\frac{p_{y}^{2}}{\\hbar^{2}}\\phi_{t}(\\vec{r}) \\text{, } \\\\\n",
    "\\partial_{3}\\partial^{3}\\phi_{t}(\\vec{r}) & = \\frac{p_{z}^{2}}{\\hbar^{2}}\\phi_{t}(\\vec{r}).\n",
    "\\end{align}\n",
    "Assim, vem que\n",
    "\\begin{align}\n",
    "& \\left(\\partial_{\\mu}\\partial^{\\mu} + \\frac{m_{0}^{2}c^{2}}{\\hbar^{2}}\\right)\\phi_{t}(\\vec{r}) = \\left(-\\frac{E^{2}}{\\hbar^{2}c^{2}} + \\frac{p_{x}^{2}}{\\hbar^{2}} + \\frac{p_{y}^{2}}{\\hbar^{2}} + \\frac{p_{z}^{2}}{\\hbar^{2}} + \\frac{m_{0}^{2}c^{2}}{\\hbar^{2}} \\right)\\phi_{t}(\\vec{r}) \\\\\n",
    "& = \\left(-\\frac{E^{2}}{\\hbar^{2}c^{2}} + \\frac{p^{2}}{\\hbar^{2}} + \\frac{m_{0}^{2}c^{2}}{\\hbar^{2}} \\right)\\phi_{t}(\\vec{r}),\n",
    "\\end{align}\n",
    "que é satisfeita pois\n",
    "\\begin{equation}\n",
    "-\\frac{E^{2}}{\\hbar^{2}c^{2}} + \\frac{p^{2}}{\\hbar^{2}} + \\frac{m_{0}^{2}c^{2}}{\\hbar^{2}}=0\\ \\therefore\\ E^{2}=p^{2}c^{2}+m_{0}^{2}c^{4}.\n",
    "\\end{equation}"
   ]
  },
  {
   "cell_type": "markdown",
   "id": "62a45954",
   "metadata": {},
   "source": [
    "### Complicações com a equação de Klein-Gordon\n",
    "Existem algumas questões a serem tratadas sobre a EqKG. \n",
    "\n",
    "Pode-se verificar que partir da EqKG é possível definir a densidade de corrente de probabilidade e densidade de probabilidade como\n",
    "\\begin{equation}\n",
    "j^{\\mu} = \\frac{i\\hbar}{2m_{0}c}\\left(\\psi^{*}\\partial^{\\mu}\\psi-\\psi\\partial^{\\mu}\\psi^{*}\\right),\n",
    "\\end{equation}\n",
    "que satisfaz a equação da continuidade \n",
    "\\begin{equation}\n",
    "\\partial_{\\mu}j^{\\mu}=0.\n",
    "\\end{equation}\n",
    "\n",
    "No entanto, a __densidade de probabilidade__ associada\n",
    "$$j^{0} = \\frac{i\\hbar}{2m_{0}c}\\left(\\psi^{*}\\frac{\\partial\\psi}{\\partial t}-\\psi\\frac{\\partial\\psi^{*}}{\\partial t}\\right)$$\n",
    "pode ser __negativa__, o que impede sua interpretação probabilística. Por exemplo, para a função de onda $\\phi_{t}(\\vec{r})$ da partícula livre, teremos \n",
    "$$\\partial_{0}\\phi_{t}(\\vec{r})=iE\\phi_{t}(\\vec{r})/\\hbar c \\text{ e } \\partial_{0}\\phi_{t}(\\vec{r})^{*}=-iE\\phi_{t}(\\vec{r})^{*}/\\hbar c,$$ "
   ]
  },
  {
   "cell_type": "markdown",
   "id": "5dfad69b",
   "metadata": {},
   "source": [
    "que nos fornece\n",
    "\\begin{align}\n",
    "j^{0} & = \\frac{i\\hbar}{2m_{0}c}\\left(\\frac{iE|\\phi_{t}(\\vec{r})|^{2}}{c\\hbar}+ \\frac{iE|\\phi_{t}(\\vec{r})|^{2}}{c\\hbar}\\right) = -\\frac{E}{m_{0}c^{2}}|\\phi_{t}(\\vec{r})|^{2},\n",
    "\\end{align}\n",
    "que é negativa para $E>0$.\n",
    "\n",
    "A segunda questão que surge da EqKG é que a igualdade \n",
    "$$E^{2}=p^{2}c^{2}+m_{0}^{2}c^{4},$$\n",
    "satisfeita para a função de onda de uma partícula livre, também comporta energia negativa pois\n",
    "\\begin{equation}\n",
    "E=\\pm\\sqrt{p^{2}c^{2}+m_{0}^{2}c^{4}}.\n",
    "\\end{equation}\n",
    "Qual seria a interpretação para a __energia negativa__ de uma partícula livre?"
   ]
  },
  {
   "cell_type": "markdown",
   "id": "e4c784e5-e28e-4939-ae60-042af5cdac17",
   "metadata": {},
   "source": [
    "### Limite não relativístico da EqKG\n",
    "\n",
    "O limite não relativístico é aquele em que a velocidade relativa dos \"referenciais inerciais\" é muito menor que a velocidade da luz no vácuo:\n",
    "$$v\\ll c.$$\n",
    "Outras formas de impor esse limite é com $E=\\gamma E_0 \\approx (1)E_0 = E_0\\ \\therefore\\ E_c\\ll E_0$, em que usamos $\\gamma=\\frac{1}{\\sqrt{1-v^2/c^2}}\\approx 1.$\n",
    "\n",
    "Nesse limite temos que a energia cinética é dada por\n",
    "\\begin{align}\n",
    "E_c & = E- E_0 = \\gamma m_0c^2 - m_0c^2 = (\\gamma-1)m_0c^2 = \\Big(\\frac{1}{\\sqrt{1-v^2/c^2}}-1\\Big)m_0c^2 = \\Big(1+\\frac{v^2}{2c^2}+\\cdots-1\\Big)m_0c^2 \\\\\n",
    "& \\approx \\frac{m_0v^2}{2}.\n",
    "\\end{align}\n",
    "\n",
    "Considere a função de onda de partícula livre $\\Phi = e^{i(\\vec{k}\\cdot\\vec{r}-\\omega t)}.$ A parte temporal dessa função pode ser escrita como segue\n",
    "\\begin{align}\n",
    "e^{-i\\omega t} & = e^{-iEt/\\hbar} = e^{\\pm i\\sqrt{p^2c^2+m_0^2c^4}t/\\hbar} = e^{\\pm im_0c^2\\sqrt{p^2c^2/m_0^2c^4+1}t/\\hbar} \\\\\n",
    "& = e^{\\pm im_0c^2\\big(1+p^2c^2/2m_0^2c^4+\\cdots\\big)t/\\hbar} \\\\\n",
    "& = e^{\\pm im_0c^2t/\\hbar}e^{\\pm im_0c^2\\big(p^2c^2/2m_0^2c^4+\\cdots\\big)t/\\hbar} \\\\\n",
    "& = e^{\\pm im_0c^2t/\\hbar}f(t) = e^{\\pm iE_0t/\\hbar}f(t).\n",
    "\\end{align}"
   ]
  },
  {
   "cell_type": "markdown",
   "id": "1fdad60a-5116-4b4a-8c1b-ad785dddcab6",
   "metadata": {},
   "source": [
    "Vamos usar essa expressão para propor a seguinte forma para a função de onda geral (usa $E>0$)\n",
    "$$\\Psi(\\vec{r},t) = e^{-im_0c^2t/\\hbar}\\phi(\\vec{r},t).$$\n",
    "Teremos assim que\n",
    "\\begin{align}\n",
    "& E_{op}\\Psi = i\\hbar\\partial_t(e^{-im_0c^2t/\\hbar}\\phi) = i\\hbar\\frac{-im_0c^2}{\\hbar}e^{-im_0c^2t/\\hbar}\\phi +  e^{-im_0c^2t/\\hbar}i\\hbar\\partial_t \\phi  = m_0c^2e^{-im_0c^2t/\\hbar}\\phi +  e^{-im_0c^2t/\\hbar}i\\hbar\\partial_t \\phi \\\\\n",
    "& \\therefore\\ Ee^{-im_0c^2t/\\hbar}\\phi = E_0 e^{-im_0c^2t/\\hbar}\\phi + e^{-im_0c^2t/\\hbar}i\\hbar\\partial_t \\phi \\\\\n",
    "& \\therefore\\ (E-E_0)\\phi = E_c\\phi = i\\hbar\\partial_t \\phi.\n",
    "\\end{align}\n",
    "Ou seja, a parte temporal de $\\phi$ evolui segundo a energia cinética.\n",
    "\n",
    "Derivando 2 vezes a função de onda em relação ao tempo\n",
    "\\begin{align}\n",
    "\\partial_{tt}\\Psi & = \\partial_t\\Big(\\frac{-im_0c^2}{\\hbar}e^{-im_0c^2t/\\hbar}\\phi +  e^{-im_0c^2t/\\hbar}\\partial_t \\phi\\Big) \\\\\n",
    "& = \\Big(\\frac{-im_0c^2}{\\hbar}\\Big)^2e^{-im_0c^2t/\\hbar}\\phi + \\frac{-im_0c^2}{\\hbar}e^{-im_0c^2t/\\hbar}\\partial_t\\phi +  \\frac{-im_0c^2}{\\hbar}e^{-im_0c^2t/\\hbar}\\partial_t \\phi + e^{-im_0c^2t/\\hbar}\\partial_{tt} \\phi \\\\\n",
    "& = e^{-im_0c^2t/\\hbar}\\Big(\\frac{-m_0^2c^4}{\\hbar^2}\\phi + \\frac{-2im_0c^2}{\\hbar}\\partial_t\\phi + \\partial_t(\\partial_t\\phi)\\Big) \\\\\n",
    "& = e^{-im_0c^2t/\\hbar}\\Big(\\frac{-m_0^2c^4}{\\hbar^2}\\phi + \\frac{-2iE_0}{\\hbar}\\partial_t\\phi + \\partial_t\\frac{E_c\\phi}{i\\hbar}\\Big) \\\\\n",
    "& = -e^{-im_0c^2t/\\hbar}\\Big(\\frac{m_0^2c^4}{\\hbar^2}\\phi + i\\frac{2E_0+E_c}{\\hbar}\\partial_t\\phi\\Big) \\\\\n",
    "& \\approx -e^{-im_0c^2t/\\hbar}\\Big(\\frac{m_0^2c^4}{\\hbar^2}\\phi + i\\frac{2E_0}{\\hbar}\\partial_t\\phi\\Big) \\\\\n",
    "& \\approx -e^{-im_0c^2t/\\hbar}\\Big(\\frac{m_0^2c^4}{\\hbar^2}\\phi + i\\frac{2m_0c^2}{\\hbar}\\partial_t\\phi\\Big)\n",
    "\\end{align}"
   ]
  },
  {
   "cell_type": "markdown",
   "id": "8c5ce9cd-54b6-4055-b459-dc9c79925ea3",
   "metadata": {},
   "source": [
    "a substituimos na equação de Klein-Gordon:\n",
    "\\begin{align}\n",
    "& \\Big(\\partial_\\mu\\partial^\\mu + \\frac{m_0^2c^2}{\\hbar^2}\\Big)\\Psi = 0 \\therefore\\ \\Big(\\frac{1}{c^2}\\partial_{tt}-\\nabla^2 + \\frac{m_0^2c^2}{\\hbar^2}\\Big)e^{-im_0c^2t/\\hbar}\\phi = 0 \\\\\n",
    "& \\therefore\\ -e^{-im_0c^2t/\\hbar}\\Big(\\frac{m_0^2c^2}{\\hbar^2}\\phi + i\\frac{2m_0}{\\hbar}\\partial_t\\phi\\Big) - e^{-im_0c^2t/\\hbar}\\nabla^2\\phi + \\frac{m_0^2c^2}{\\hbar^2}e^{-im_0c^2t/\\hbar}\\phi = 0 \\\\\n",
    "& \\therefore\\ \\frac{m_0^2c^2}{\\hbar^2}\\phi + i\\frac{2m_0}{\\hbar}\\partial_t\\phi + \\nabla^2\\phi - \\frac{m_0^2c^2}{\\hbar^2}\\phi = 0 \\\\\n",
    "& \\therefore \\frac{-\\hbar^2}{2m_0}\\nabla^2\\phi = i\\hbar\\partial_t\\phi,\n",
    "\\end{align}\n",
    "que é a equação de Schrödinger para uma partícula livre. \n",
    "\n",
    "Nesse limite, como já vimos, podemos definir a densidade de probabilidade $\\rho=\\phi^*\\phi\\ge0$ e a densidade de corrente de probabilidade $\\vec{j} = \\frac{-i\\hbar}{2m}\\big(\\phi^*\\vec{\\nabla}\\phi - \\phi\\vec{\\nabla}\\phi^*\\big)$ que satisfazem a equação da continuidade $\\partial_t\\rho+\\vec{\\nabla}\\cdot\\vec{j}=0.$"
   ]
  },
  {
   "cell_type": "markdown",
   "id": "c8093bdb-1953-4ed2-b402-0d3af5bd03dc",
   "metadata": {},
   "source": [
    "### Acoplamento mínimo e o \"átomo de Hidrogênio\" pela EqKG\n",
    "\n",
    "Ao estudar o acoplamento mínimo, vimos que o hamiltoniano para uma partícula de carga elétrica $q$ e massa $m$ sujeita campos elétrico e magnético representados pelos potenciais $\\Phi$ e $\\vec{A}$ é\n",
    "$$H = \\frac{1}{2m_0}(\\vec{p}-q\\vec{A})^2 + q\\Phi.$$\n",
    "Então, se pensarmos na equação de Schödinger, \n",
    "$$H\\Psi = \\big(\\frac{1}{2m_0}(\\vec{p}-q\\vec{A})^2 + q\\Phi\\big)\\Psi = i\\hbar\\partial_t\\Psi\\ \\therefore\\ \\frac{1}{2m_0}(\\vec{p}-q\\vec{A})^2\\Psi = \\big(i\\hbar\\partial_t - q\\Phi\\big)\\Psi$$\n",
    "em relação ao caso da partícula livre, podemos incluir o acomplamento mínimo substituindo\n",
    "$$\\vec{p}\\rightarrow \\vec{p}-q\\vec{A},\\ E_{op}\\rightarrow i\\hbar\\partial_t -q\\Phi.$$"
   ]
  },
  {
   "cell_type": "markdown",
   "id": "da4cbd80-52de-440f-bf91-6a9861c9f268",
   "metadata": {},
   "source": [
    "Vamos aplicar separação de variáveis,\n",
    "$$\\Psi(\\vec{r},t) = e^{-iEt/\\hbar}\\psi(\\vec{r}),$$\n",
    "para obter a EqKG independente do tempo para uma partícula livre:\n",
    "\\begin{align}\n",
    "& \\Big(\\partial_\\mu\\partial^\\mu + \\frac{m_0^2c^2}{\\hbar^2}\\Big)\\Psi = 0\\ \\therefore\\ \\Big(\\frac{1}{c^2}\\partial_{tt}-\\nabla^2 + \\frac{m_0^2c^2}{\\hbar^2}\\Big)e^{-iEt/\\hbar}\\psi = 0 \\\\\n",
    "& \\therefore\\ \\Big(\\frac{1}{c^2}\\partial_{tt}-\\nabla^2 + \\frac{m_0^2c^2}{\\hbar^2}\\Big)e^{-iEt/\\hbar}\\psi = 0 \\\\\n",
    "& \\therefore\\ \\Big(\\frac{1}{c^2}(-iE/\\hbar)^2e^{-iEt/\\hbar}\\psi - e^{-iEt/\\hbar}\\nabla^2\\psi + \\frac{m_0^2c^2}{\\hbar^2}e^{-iEt/\\hbar}\\psi = 0\\Big)\\times e^{iEt/\\hbar} \\\\\n",
    "& \\therefore\\ \\Big(\\frac{-E^2}{\\hbar^2c^2} - \\nabla^2 + \\frac{m_0^2c^2}{\\hbar^2}\\Big)\\psi = 0 \\\\\n",
    "& \\therefore\\ \\Big(-E^2 - c^2\\hbar^2\\nabla^2 + m_0^2c^4\\Big)\\psi = 0 \\\\\n",
    "& \\therefore\\ \\big(c^2p^2 + m_0^2c^4\\big)\\psi = E^2\\psi \\\\\n",
    "\\end{align}"
   ]
  },
  {
   "cell_type": "markdown",
   "id": "f812438e-6098-46d8-baa6-fa8566ae20a5",
   "metadata": {},
   "source": [
    "Para incluir o acoplamento mínimo, fazemos as substituições $\\vec{p}\\rightarrow \\vec{p}-q\\vec{A},\\ E\\rightarrow E -q\\Phi$ para obter\n",
    "\\begin{align}\n",
    "& \\Big(c^2(\\vec{p}-q\\vec{A})^2 + m_0^2c^4\\Big)\\psi = (E-q\\Phi)^2\\psi \\\\\n",
    "& \\therefore\\ \\Big(c^2(-i\\hbar\\vec{\\nabla}-q\\vec{A})^2 + m_0^2c^4\\Big)\\psi = (E-q\\Phi)^2\\psi.\n",
    "\\end{align}\n",
    "\n",
    "Para o átomo de Hidrogênio, usamos \n",
    "$$\\vec{A}=0,\\ \\Phi=\\frac{ke}{r}$$\n",
    "para obter a equação diferencial\n",
    "$$\\Big(-\\hbar^2c^2\\nabla^2 + m_0^2c^4\\Big)\\psi = \\Big(E+\\frac{ke^2}{r}\\Big)^2\\psi.$$\n",
    "\n",
    "Usando separação de variáveis, pode-se mostrar que os autovalores dessa equação são\n",
    "\\begin{align}\n",
    "E_{n,l} & = \\frac{m_0c^2}{\\sqrt{1+\\frac{\\alpha^2}{\\big(n-(l+1/2)+\\sqrt{(l+1/2)^2-\\alpha^2}\\big)^2}}} \\\\\n",
    "& = m_0c^2\\Big(1 - \\frac{\\alpha^2}{2n^2} - \\frac{\\alpha^4}{2n^4}\\Big(\\frac{n}{l+1/2}-\\frac{3}{4}\\Big) + \\cdots\\Big),\n",
    "\\end{align}\n",
    "com $\\alpha=ke^2/\\hbar c$ sendo a constante de estrutura fina e $l=0,1,2,\\cdots$ e $n=1,2,3,\\cdots.$ Note que o 1º termo no parêntesis é a energia de repouso, o 2º termo é a energia de Bohr e o 3º termo é a correção perturbativa relativística."
   ]
  },
  {
   "cell_type": "markdown",
   "id": "4782ef81-4041-449a-bcec-329a47d6d53a",
   "metadata": {},
   "source": [
    "Por outro lado a energia de acomplamento spin-órbita não aparece a partir da solução da EqKG. Hoje em dia sabemos que a EqKG se aplica a partículas de spin $0$. Por isso que essa energia dependente de spin não aparece na sua solução. Isso se deve à natureza escalar da autofunção $\\Psi:\\mathbb{R}\\times\\mathbb{R}^3\\rightarrow\\mathbb{C}.$ A equação de Dirac incluiu spin via com funções de onda com mais de uma componente."
   ]
  },
  {
   "cell_type": "markdown",
   "id": "1febf792",
   "metadata": {},
   "source": [
    "---\n",
    "## Exercícios\n",
    "\n",
    "$1.$ Usando a equação de Klein-Gordon, $\\partial_{\\mu}\\partial^{\\mu}\\psi+(m_{0}^{2}c^{2}/\\hbar^{2})\\psi=0,$ verifique que $j^{\\mu} = \\frac{i\\hbar}{2m_{0}c}\\left(\\psi^{*}\\partial^{\\mu}\\psi-\\psi\\partial^{\\mu}\\psi^{*}\\right)$ satisfaz a equação da continuidade $\\partial_{\\mu}j^{\\mu}=0$.\n",
    "\n",
    "$2.$ Para as matrizes de Dirac na Eq. ($*$), com $j=1,2,3$, verifique que $\\{\\gamma^{\\mu},\\gamma^{\\nu}\\}=0$ para $\\mu\\ne\\nu$ e que $(\\gamma^{0})^{2}=I$ e $(\\gamma^{j})^{2}=-I$. Verifique também que $\\gamma^{0}$ é uma matriz hermitiana e que $\\gamma^{j}$ são matrizes anti-hermitianas.\n",
    "\n",
    "$3.$ Para matrizes $\\{M_j\\}_{j=0}^{3}$ satisfazendo as propriedades $M_j^\\dagger=M_j$, $M_j^2=I$, $M_j M_k + M_k M_j =0$ para $j\\ne k$, verifique que as matrizes $\\big\\{\\tilde{M}_j\\big\\}_{j=0}^{3}:=\\big\\{U M_j U^\\dagger\\big\\}_{j=0}^{3}$ também satisfaz essas propriedades se $U$ é uma matriz unitária."
   ]
  },
  {
   "cell_type": "markdown",
   "id": "33549f03",
   "metadata": {},
   "source": [
    "---\n",
    "## Referências\n",
    "\n",
    "1. Marcos Basso, Mecânica Quântica Relativística, https://github.com/marcoslwbasso/RQM_notes.\n",
    "2. A. Piza, Mecânica Quântica, cap. 11, Edusp 2009."
   ]
  },
  {
   "cell_type": "code",
   "execution_count": null,
   "id": "e8b50374-d25d-438f-8cf4-97dbd1d5afaa",
   "metadata": {},
   "outputs": [],
   "source": []
  }
 ],
 "metadata": {
  "kernelspec": {
   "display_name": "Python 3 (ipykernel)",
   "language": "python",
   "name": "python3"
  },
  "language_info": {
   "codemirror_mode": {
    "name": "ipython",
    "version": 3
   },
   "file_extension": ".py",
   "mimetype": "text/x-python",
   "name": "python",
   "nbconvert_exporter": "python",
   "pygments_lexer": "ipython3",
   "version": "3.12.2"
  }
 },
 "nbformat": 4,
 "nbformat_minor": 5
}
