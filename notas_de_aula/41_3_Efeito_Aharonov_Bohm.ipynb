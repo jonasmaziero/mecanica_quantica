{
 "cells": [
  {
   "cell_type": "markdown",
   "id": "21b643a5",
   "metadata": {},
   "source": [
    "### Notas de aula de Mecânica Quântica <br> Autor: Jonas Maziero"
   ]
  },
  {
   "cell_type": "markdown",
   "id": "d20d33b9",
   "metadata": {},
   "source": [
    "# Efeito Aharonov-Bohm\n",
    "\n",
    "Os campos elétrico,\n",
    "$$\\vec{E}=-\\vec{\\nabla}\\Phi-\\partial_{t}\\vec{A},$$ \n",
    "e magnético,\n",
    "$$\\vec{B}=\\vec{\\nabla}\\times\\vec{A},$$\n",
    "não mudam por transformações de calibre (TC),\n",
    "\\begin{cases}\n",
    "\\Phi\\rightarrow\\Phi'=\\Phi-\\partial_{t}\\chi, \\\\\n",
    "\\vec{A}\\rightarrow\\vec{A}'=\\vec{A}+\\vec{\\nabla}\\chi,\n",
    "\\end{cases}\n",
    "com \n",
    "$$\\chi=\\chi(\\vec{r},t)$$\n",
    "sendo uma função escalar qualquer. Isso implica na invariância das leis físicas (equações de Maxwell mais força de Lorentz) sob TC, o que indica que trabalhar com os potenciais $\\Phi$ e $\\vec{A}$ pode ser matematicamente conveniente, mas não tem importância do ponto de vista Físico, do ponto de vista do que seria mensurável experimentalmente. Pelo menos era assim que usualmente se pensava.\n",
    "\n",
    "No caso quântico, vimos, ao estudar o Efeito Stark e considerando o acoplamento mínimo, que a equação de Schrödinger para um quanton de carga elétrica $q$ e massa $m$ é invariante por TC, i.e., \n",
    "\\begin{align}\n",
    "& \\Big(\\frac{1}{2m}\\big(-i\\hbar\\vec{\\nabla} -q\\vec{A}\\big)^{2} + q\\Phi\\Big)\\Psi = i\\hbar\\partial_{t}\\Psi \\\\\n",
    "& \\hspace{3cm} \\downarrow TC \\\\\n",
    "& \\Big(\\frac{1}{2m}\\big(-i\\hbar\\vec{\\nabla} -q\\vec{A}'\\big)^{2} + q\\Phi'\\Big)\\Psi' = i\\hbar\\partial_{t}\\Psi',\n",
    "\\end{align}\n",
    "com a função de onda ganhando apenas uma fase global \n",
    "$$\\Psi \\rightarrow \\Psi' = e^{iq\\chi/\\hbar}\\Psi.$$\n",
    "Embora a equação de Schrödinger (EqS) seja invariante por TC e essa mudança não mude probabilidades, Yakir Aharonov e David Bohm mostraram que TC podem afetar o comportamento quântico de um sistema mesmo em regiões do espaço com campos elétrico e magnético nulos. E o mais surpreendente é que essas mudanção são detectáveis."
   ]
  },
  {
   "cell_type": "markdown",
   "id": "fcb90611",
   "metadata": {},
   "source": [
    "## Efeito Aharonov-Bohm <br> Energia dependente de potenciais onde os campos são nulos\n",
    "Primeiramente, vamos considerar um exemplo para o qual as energias podem depender dos potenciais em uma região de campos elétrico e magnético nulos. Consideremos um quanton de massa $m$ e carga elétrica $q$ restrito a se __mover em um círculo__ de raio $b$. Concêntrico a este círculo está um solenóide de raio $a<b$. Por este solenóide passa uma corrente elétrica $I$. O solenóide é muito longo, assim o campo magnético interno é uniforme, $B$, e o campo magnético externo é nulo\n",
    "$$\\vec{B}(r>a)=0.$$\n",
    "Como o solenóide é neutro, e $I$ é constante, o campo elétrico é nulo tanto no interior quanto fora do solenóide\n",
    "$$\\vec{E}(r)=0\\ \\forall r.$$\n",
    "Se adotamos a condição de calibre \n",
    "$$\\vec{\\nabla}\\cdot\\vec{A}=0,$$\n",
    "o potencial vetor magnético fora do solenóide pode ser escrito como\n",
    "$$\\vec{A}(r>a) = \\frac{\\varphi}{2\\pi r}\\hat{\\phi},$$\n",
    "em que \n",
    "$$\\varphi=\\pi a^{2}B$$\n",
    "é o __fluxo magnético__ no interior do solenóide. Pela restrição no movimeto do quanton, \n",
    "$$r=b \\text{ e } \\theta=\\pi/2,$$ \n",
    "a função de onda depende somente da variável $\\phi$. Neste caso o operador gradiente pode ser escrito efetivamente como segue:\n",
    "$$\\vec{\\nabla} \\rightarrow \\hat{\\phi}\\frac{1}{r\\sin\\theta}\\partial_\\phi.$$ "
   ]
  },
  {
   "cell_type": "markdown",
   "id": "e4ffab62",
   "metadata": {},
   "source": [
    "Com isso, a equação de Schrödinger independente do tempo fica escrita como\n",
    "\\begin{align}\n",
    "& \\frac{1}{2m}\\big|\\big|-i\\hbar\\vec{\\nabla} -q\\vec{A}\\big|\\big|^{2}\\psi = E\\psi, \\\\\n",
    "& \\therefore\\ \\frac{1}{2m}\\big(-\\hbar^{2}\\nabla^{2} + 2i\\hbar q\\vec{A}\\cdot\\vec{\\nabla}+q^{2}A^{2}\\big)\\psi = E\\psi, \\\\\n",
    "& \\therefore\\ \\frac{1}{2m}\\Big(-\\frac{\\hbar^{2}}{r^{2}\\sin^{2}\\theta}\\partial_{\\phi\\phi} + 2i\\hbar q\\frac{\\varphi}{2\\pi r^{2}\\sin\\theta}\\partial_{\\phi} + q^{2}\\frac{\\varphi^{2}}{4\\pi^{2}r^{2}}\\Big)\\psi = E\\psi, \\\\\n",
    "& \\therefore\\ \\Big(-\\frac{\\hbar^{2}}{b^{2}}\\partial_{\\phi\\phi} + \\frac{i\\hbar q\\varphi}{\\pi b^{2}}\\partial_{\\phi} + \\frac{q^{2}\\varphi^{2}}{4\\pi^{2}b^{2}}\\Big)\\psi = 2mE\\psi, \\\\\n",
    "& \\therefore\\ \\Big(\\partial_{\\phi\\phi} - \\frac{iq\\varphi}{\\hbar\\pi}\\partial_{\\phi} + \\frac{2mEb^{2}}{\\hbar^{2}} - \\frac{q^{2}\\varphi^{2}}{4\\pi^{2}\\hbar^{2}} \\Big)\\psi=0 \\\\\n",
    "&\\therefore\\ \\big(\\partial_{\\phi\\phi} - 2i\\beta\\partial_{\\phi} + \\varepsilon \\Big)\\psi=0,\n",
    "\\end{align}\n",
    "em que definimos\n",
    "$$\\beta = \\frac{q\\varphi}{2\\hbar\\pi} \\text{ e } \\varepsilon=\\frac{2mEb^{2}}{\\hbar^{2}}-\\beta^{2}.$$"
   ]
  },
  {
   "cell_type": "code",
   "execution_count": 1,
   "id": "fe1cc156",
   "metadata": {},
   "outputs": [
    {
     "data": {
      "text/latex": [
       "$\\displaystyle \\psi{\\left(\\phi \\right)} = C_{1} e^{1.0 i \\phi \\left(\\beta - \\sqrt{\\beta^{2} + \\varepsilon}\\right)} + C_{2} e^{1.0 i \\phi \\left(\\beta + \\sqrt{\\beta^{2} + \\varepsilon}\\right)}$"
      ],
      "text/plain": [
       "Eq(psi(phi), C1*exp(1.0*I*phi*(beta - sqrt(beta**2 + varepsilon))) + C2*exp(1.0*I*phi*(beta + sqrt(beta**2 + varepsilon))))"
      ]
     },
     "execution_count": 1,
     "metadata": {},
     "output_type": "execute_result"
    }
   ],
   "source": [
    "from sympy import symbols, Function, dsolve, Derivative\n",
    "be, ep, ph = symbols('beta varepsilon phi')\n",
    "ps = Function('psi')\n",
    "dsolve(Derivative(ps(ph),ph,ph) - 2*1j*be*Derivative(ps(ph),ph) + ep*ps(ph), ps(ph))"
   ]
  },
  {
   "cell_type": "markdown",
   "id": "6d2e42e7",
   "metadata": {},
   "source": [
    "Então, as soluções da equação de Schrödinger tem a forma geral\n",
    "$$\\psi(\\phi) = c_{+}e^{i\\lambda_{+}\\phi} + c_{-}e^{i\\lambda_{-}\\phi}$$\n",
    "com\n",
    "$$\\lambda_{\\pm} = \\beta \\pm\\sqrt{\\beta^{2}+\\varepsilon}.$$\n",
    "Usaremos a solução particular\n",
    "$$\\psi(\\phi) = c_{\\pm}e^{i\\lambda_{\\pm}\\phi}.$$\n",
    "Se impomos a condição de contorno\n",
    "$$\\psi(\\phi)=\\psi(\\phi+2\\pi),$$\n",
    "vemos que $\\lambda_{\\pm}$ deve ser um número inteiro, que chamaremos de \n",
    "$$n=\\cdots,-2,-1,0,1,2,\\cdots.$$\n",
    "Assim\n",
    "\\begin{align}\n",
    "& \\lambda_{\\pm} = \\beta \\pm\\sqrt{\\beta^{2}+\\varepsilon} = n\\\\\n",
    "& \\therefore\\ \\beta^{2}+\\varepsilon = \\big(n-\\beta\\big)^{2} \\\\\n",
    "& \\therefore\\ \\varepsilon = \\frac{2mEb^{2}}{\\hbar^{2}}-\\beta^{2} = \\big(n-\\beta\\big)^{2} -\\beta^{2} \\\\\n",
    "& \\therefore\\ E = E_{n} = \\frac{\\hbar^{2}}{2mb^{2}}\\big(n-\\beta\\big)^{2} =  \\frac{\\hbar^{2}}{2mb^{2}}\\Big(n-\\frac{q\\varphi}{2\\hbar\\pi}\\Big)^{2}.\n",
    "\\end{align}\n",
    "Ou seja, a energia do quanton fora do solenóide, onde o campo magnético é nulo, depende do fluxo de campo magnético dentro do solenóide. Esse fato pode ser chamado de __efeito Aharonov-Bohm__."
   ]
  },
  {
   "cell_type": "markdown",
   "id": "76b2c9fa",
   "metadata": {},
   "source": [
    "O operador momento linear em coordenadas esféricas fica escrito como\n",
    "\\begin{align}\n",
    "\\vec{P} = & -i\\hbar\\vec{\\nabla} \\\\\n",
    "& = -i\\hbar\\hat{r}\\partial_{r} -i\\hbar\\hat{\\theta}r^{-1}\\partial_{\\theta} -i\\hbar\\hat{\\phi}r^{-1}\\sin^{-1}\\theta\\partial_{\\phi} \\\\\n",
    "& = \\hat{r}P_{r} + \\hat{\\theta}P_{\\theta} + \\hat{\\phi}P_{\\phi}.\n",
    "\\end{align}\n",
    "Como o quanton está restrito a se movimentar no círculo, $P_{r}=P_{\\theta}=0$. Vemos assim que\n",
    "\\begin{align}\n",
    "P_{\\phi}\\psi(\\phi) = & -i\\hbar r^{-1}\\sin^{-1}\\theta i\\lambda_{\\pm}\\psi(\\phi) \\\\\n",
    "& = \\hbar b^{-1} n\\psi(\\phi) \\\\\n",
    "& = p_\\phi\\psi(\\phi).\n",
    "\\end{align}\n",
    "Portanto, estados com $n$ positivo correspondem ao movimento do quanton no mesmo __sentido da corrente elétrica__, que por sua vez estão associados a um menor valor de energia. Estados com $n$ negativo correspondem ao movimento do quanton no sentido contrário ao da corrente elétrica e tem maior energia."
   ]
  },
  {
   "cell_type": "markdown",
   "id": "accc0098",
   "metadata": {},
   "source": [
    "## Experimento de Aharonov e Bohm\n",
    "Vamos supor que o quanton se move em uma região de campo magnético nulo,\n",
    "$$\\vec{B}=\\vec{\\nabla}\\times\\vec{A}=\\vec{0},$$\n",
    "mas com potencial vetor diferente de zero, $$\\vec{A}\\ne\\vec{0}.$$\n",
    "A equação de Schrödinger (EqS),\n",
    "$$\\Big(\\frac{1}{2m}\\big|\\big|-i\\hbar\\vec{\\nabla} -q\\vec{A}\\big|\\big|^{2} + q\\Phi\\Big)\\Psi = i\\hbar\\partial_{t}\\Psi,$$\n",
    "pode ser simplificada se definimos\n",
    "$$\\Psi:=e^{ig}\\Xi$$\n",
    "com \n",
    "$$g=\\frac{q}{\\hbar}\\int_{\\vec{\\mathcal{O}}}^{\\vec{r}}\\vec{A}(\\vec{r}')\\cdot d\\vec{r}',$$\n",
    "que é independente do caminho, uma vez que $\\vec{\\nabla}\\times\\vec{A}=\\vec{0}$. O ponto $\\vec{\\mathcal{O}}$ é um ponto de referência qualquer."
   ]
  },
  {
   "cell_type": "markdown",
   "id": "88c085c0",
   "metadata": {},
   "source": [
    "Pode-se verificar que \n",
    "$$\\vec{\\nabla}g= \\frac{q\\vec{A}(\\vec{r})}{\\hbar}.$$\n",
    "Com isso, usando\n",
    "\\begin{align}\n",
    "\\vec{\\nabla}\\Psi & = \\vec{\\nabla}\\big(e^{ig}\\Xi\\big) \\\\\n",
    "& = i(\\vec{\\nabla}g)e^{ig}\\Xi + e^{ig}\\vec{\\nabla}\\Xi \\\\\n",
    "& = iq\\hbar^{-1}\\vec{A}e^{ig}\\Xi + e^{ig}\\vec{\\nabla}\\Xi,\n",
    "\\end{align}\n",
    "podemos escrever\n",
    "\\begin{align}\n",
    "\\big(-i\\hbar\\vec{\\nabla}-q\\vec{A}\\big)\\Psi =& -i\\hbar iq\\hbar^{-1}\\vec{A}e^{ig}\\Xi -i\\hbar e^{ig}\\vec{\\nabla}\\Xi -q\\vec{A}e^{ig}\\Xi \\\\\n",
    "& = -i\\hbar e^{ig}\\vec{\\nabla}\\Xi.\n",
    "\\end{align}\n",
    "Ou seja, usando \n",
    "$$\\vec{\\nabla}\\cdot(f\\vec{\\nabla}g) = (\\vec{\\nabla}f)\\cdot(\\vec{\\nabla}g)+f\\nabla^{2}g,$$\n",
    "teremos que\n",
    "\\begin{align}\n",
    "\\big|\\big|-i\\hbar\\vec{\\nabla}-q\\vec{A}\\big|\\big|^{2}\\Psi & = \\big(-i\\hbar\\vec{\\nabla}-q\\vec{A}\\big)\\cdot\\big(-i\\hbar\\vec{\\nabla}-q\\vec{A}\\big)\\Psi \\\\\n",
    "& = \\big(-i\\hbar\\vec{\\nabla}-q\\vec{A}\\big)\\cdot\\big(-i\\hbar e^{ig}\\vec{\\nabla}\\Xi\\big) \\\\\n",
    "& = -\\hbar^{2}\\vec{\\nabla}\\cdot\\big(e^{ig}\\vec{\\nabla}\\Xi\\big) + iq\\hbar e^{ig}\\vec{A}\\cdot\\vec{\\nabla}\\Xi \\\\\n",
    "& = -\\hbar^{2}\\big(\\vec{\\nabla}e^{ig}\\big)\\cdot\\big(\\vec{\\nabla}\\Xi\\big) -\\hbar^{2}e^{ig}\\nabla^{2}\\Xi + iq\\hbar e^{ig}\\vec{A}\\cdot\\vec{\\nabla}\\Xi \\\\\n",
    "& = -\\hbar^{2}i(\\vec{\\nabla}g)e^{ig}\\cdot\\vec{\\nabla}\\Xi -\\hbar^{2}e^{ig}\\nabla^{2}\\Xi + iq\\hbar e^{ig}\\vec{A}\\cdot\\vec{\\nabla}\\Xi \\\\\n",
    "& = -\\hbar^{2}iq\\hbar^{-1}\\vec{A}e^{ig}\\cdot\\vec{\\nabla}\\Xi -\\hbar^{2}e^{ig}\\nabla^{2}\\Xi + iq\\hbar e^{ig}\\vec{A}\\cdot\\vec{\\nabla}\\Xi \\\\\n",
    "& =-\\hbar^{2}e^{ig}\\nabla^{2}\\Xi.\n",
    "\\end{align}"
   ]
  },
  {
   "cell_type": "markdown",
   "id": "4049368c",
   "metadata": {},
   "source": [
    "Com isso, a equação de Schrödinger fica escrita como segue\n",
    "\\begin{align}\n",
    "& -\\frac{\\hbar^{2}}{2m}e^{ig}\\nabla^{2}\\Xi + q\\Phi e^{ig}\\Xi = i\\hbar\\partial_{t}(e^{ig}\\Xi)  = e^{ig}i\\hbar\\partial_{t}\\Xi \\\\\n",
    "& \\therefore\\ -\\frac{\\hbar^{2}}{2m}\\nabla^{2}\\Xi + q\\Phi \\Xi = i\\hbar\\partial_{t}\\Xi.\n",
    "\\end{align}\n",
    "Vemos assim que $\\Xi$ satisfaz a EqS sem $\\vec{A}$. Se resolvemos essa equação, podemos obter a função de onda na presença de $A$: $\\Psi=e^{ig}\\Xi$.  \n",
    "\n",
    "Feitas essas considerações, passamos para o experimento de pensamento de Aharonov-Bohm (AB). Eles consideraram um elétron que é preparado em um estado de superposição de caminhos:\n",
    "$$\\Psi = 2^{-1/2}(\\Psi_{+}+\\Psi_{-}).$$\n",
    "Esses dois caminhos são aqueles em que o elétron passa em \"lados\" opostos na parte exterior de um solenóide, como aquele que vimos na discussão do efeito Aharonov-Bohm, feita anteiormente. \n",
    "\n",
    "O potencial vetor é um campo vetorial com sentido acompanhando aquele da corrente elétrica no solenóide. Com isso teremos \n",
    "\\begin{align}\n",
    "g_{\\pm} & = \\frac{q}{\\hbar}\\int_{\\mathcal{O}}^{r}\\vec{A}(\\vec{r}')\\cdot d\\vec{r}' \\\\\n",
    "& = \\frac{q}{\\hbar}\\int_{\\mathcal{O}}^{r}\\frac{\\varphi}{2\\pi r'}\\hat{\\phi}'\\cdot r'd\\phi'(\\pm\\hat{\\phi}') \\\\\n",
    "& = \\pm\\frac{q\\varphi}{\\hbar 2\\pi}\\int_{\\mathcal{O}}^{r}d\\phi' \\\\\n",
    "& = \\pm\\frac{q\\varphi}{\\hbar 2\\pi}\\pi \\\\\n",
    "& = \\pm\\frac{q\\varphi}{2\\hbar},\n",
    "\\end{align}\n",
    "em que usamos $\\vec{A}(r>a) = \\frac{\\varphi}{2\\pi r}\\hat{\\phi}$."
   ]
  },
  {
   "cell_type": "markdown",
   "id": "40b3488c",
   "metadata": {},
   "source": [
    "Então, fazendo os caminhos se cruzarem depois de passar pelo solenóide, o estado do elétron será\n",
    "$$\\Psi = 2^{-1/2}(e^{ig_{+}}\\Psi_{+}+e^{ig_{-}}\\Psi_{-}),$$\n",
    "com os estados dos diferentes caminhos ganhando uma diferença de fase\n",
    "$$\\delta g=g_{+}-g_{-}=\\frac{q\\varphi}{\\hbar},$$\n",
    "que pode ser controlada variando-se a corrente elétrica no solenóide. \n",
    "\n",
    "Essa diferença de fase pode causar interferência destrutiva, mudando as probabilidades de detecção do elétron. Esse efeito foi medido experimentalmente em (https://doi.org/10.1103/PhysRevLett.5.3)."
   ]
  },
  {
   "cell_type": "markdown",
   "id": "5b7185e0",
   "metadata": {},
   "source": [
    "## Efeito Aharonov-Bohm como exemplo de fase de Berry\n",
    "Consideremos que uma partícula de carga elétrica $q$ e massa $m$ está confinada a se mover em uma _pequena caixa_ com posição $\\vec{R}$ em relação a um ponto $O$ no mesmo solenóide considerado acima. A posição da partícula em relação a $O$ é $\\vec{r}$. \n",
    "\n",
    "Neste caso, a equação de Schrödinger independente do tempo fica escrita, neste caso, como segue\n",
    "$$\\Big(\\frac{1}{2m}\\big|\\big|-i\\hbar\\vec{\\nabla}-q\\vec{A}(\\vec{r})\\big|\\big|^{2}+q\\Phi(\\vec{r}-\\vec{R})\\Big)\\psi=E\\psi.$$\n",
    "Como acima, fazemos\n",
    "$$\\psi = e^{ig}\\xi$$\n",
    "com \n",
    "$$\\psi=\\psi(\\vec{r}-\\vec{R}),\\ \\xi=\\xi(\\vec{r}-\\vec{R})$$\n",
    "e\n",
    "$$g=\\frac{q}{\\hbar}\\int_{\\vec{R}}^{\\vec{r}}\\vec{A}(\\vec{r}')\\cdot d\\vec{r}'$$\n",
    "com $\\xi$ satisfazendo a EqS:\n",
    "$$\\Big(-\\frac{\\hbar^{2}}{2m}\\nabla^{2}+q\\Phi(\\vec{r}-\\vec{R})\\Big)\\xi=E\\xi.$$"
   ]
  },
  {
   "cell_type": "markdown",
   "id": "7a5d59ac",
   "metadata": {},
   "source": [
    "Seguindo, consideramos que a caixa é carregada em torno do solenóide de forma a satisfazer a _aproximação adiabática_. Teremos que o potencial vetor generalizado é dado por:\n",
    "\\begin{align}\n",
    "\\vec{\\mathcal{A}} & = i\\langle\\psi|\\vec{\\nabla}_{\\vec{R}}|\\psi\\rangle \\\\\n",
    "& = i\\int \\psi^{*}\\vec{\\nabla}_{\\vec{R}}\\psi d^{3}r\\\\\n",
    "& = i\\int e^{-ig}\\xi^{*}\\vec{\\nabla}_{\\vec{R}}(e^{ig}\\xi) d^{3}r \\\\\n",
    "& = -i\\int e^{-ig}\\xi^{*}\\vec{\\nabla}_{\\vec{r}}(e^{ig}\\xi) d^{3}r \\\\\n",
    "& = -i\\int e^{-ig}\\xi^{*}\\big(e^{ig}i(\\vec{\\nabla}_{\\vec{r}}g)\\xi + e^{ig}\\vec{\\nabla}_{\\vec{r}}\\xi\\big) d^{3}r \\\\\n",
    "& = -i\\int e^{-ig}\\xi^{*}\\big(e^{ig}iq\\vec{A}(\\vec{R})\\hbar^{-1}\\xi + e^{ig}(i\\hbar^{-1})(-i\\hbar\\vec{\\nabla}_{\\vec{r}})\\xi\\big) d^{3}r \\\\\n",
    "& = q\\hbar^{-1}\\vec{A}\\int \\xi^{*}\\xi d^{3}r +\\hbar^{-1}\\int\\xi^{*}\\vec{P}\\xi d^{3}r \\\\\n",
    "& = q\\hbar^{-1}\\vec{A} + \\vec{0},\n",
    "\\end{align}\n",
    "em que usamos $\\vec{\\nabla}_{\\vec{R}}=-\\vec{\\nabla}_{\\vec{r}}$ ao atuar em $\\xi(\\vec{r}-\\vec{R})$. Também usamos o fato que o valor médio do momento linear para um estado estacionário é nulo. Vemos que neste caso o potencial vetor generalizado é proporcional ao potencial vetor magnético.\n",
    "\n",
    "Assim, a fase de Berry fica escrita como\n",
    "\\begin{align}\n",
    "\\gamma & = \\oint \\vec{\\mathcal{A}}(\\vec{R})\\cdot d\\vec{R} \\\\\n",
    "& = \\frac{q}{\\hbar}\\oint \\vec{A}(\\vec{R})\\cdot d\\vec{R} \\\\\n",
    "& = \\frac{q}{\\hbar}\\int_{S}\\vec{\\nabla}\\times\\vec{A}\\cdot d\\vec{a} \\\\\n",
    "& = \\frac{q}{\\hbar}\\int_{S}\\vec{B}\\cdot d\\vec{a} \\\\\n",
    "& = \\frac{q\\varphi}{\\hbar}.\n",
    "\\end{align}\n",
    "Ou seja, o efeito Aharonov-Bohm é um caso particular da fase de Berry, no sentido que a diferença de fase recebida pelo elétron conforme ele viaja em um superposição de caminhos é igual à fase de Berry."
   ]
  },
  {
   "cell_type": "markdown",
   "id": "72114708",
   "metadata": {},
   "source": [
    "---\n",
    "## Exercícios\n",
    "\n",
    "$1.$ Obtenha o potencial vetor magnético gerado por um solenóide infinito de raio $a$, com $n$ voltas por unidade de comprimento, pelo qual passa uma corrente elétrica $I$. Use a condição de calibre $\\vec{\\nabla}\\cdot\\vec{A}=0$.\n",
    "\n",
    "$2.$ Impondo a condição de calibre $\\vec{\\nabla}\\cdot\\vec{A}=0$, verifique que\n",
    "$$\\big(-i\\hbar\\vec{\\nabla} -q\\vec{A}\\big)^{2} = -\\hbar^{2}\\nabla^{2} + 2i\\hbar q\\vec{A}\\cdot\\vec{\\nabla}+q^{2}A^{2}.$$\n",
    "\n",
    "$3.$ Para $g=\\frac{q}{\\hbar}\\int_{\\mathcal{O}}^{r}\\vec{A}(\\vec{r}')\\cdot d\\vec{r}'$, verifique que $\\vec{\\nabla}g=q\\hbar^{-1}\\vec{A}$.\n",
    "\n",
    "$4.$ Para funções $f$ e $g$ quaisquer, verifique que $\\vec{\\nabla}\\cdot(f\\vec{\\nabla}g) = (\\vec{\\nabla}f)\\cdot(\\vec{\\nabla}g)+f\\nabla^{2}g$."
   ]
  },
  {
   "cell_type": "markdown",
   "id": "b8da1c52",
   "metadata": {},
   "source": [
    "---\n",
    "## Referências\n",
    "\n",
    "1. GRIFFITHS, D. J. Introduction to Quantum Mechanics. Prentice Hall, Upper Saddle River: 2005.\n",
    "\n",
    "2. MESSIAH, A. Quantum Mechanics. Dover, Mineola: 1999.\n"
   ]
  }
 ],
 "metadata": {
  "kernelspec": {
   "display_name": "Python 3 (ipykernel)",
   "language": "python",
   "name": "python3"
  },
  "language_info": {
   "codemirror_mode": {
    "name": "ipython",
    "version": 3
   },
   "file_extension": ".py",
   "mimetype": "text/x-python",
   "name": "python",
   "nbconvert_exporter": "python",
   "pygments_lexer": "ipython3",
   "version": "3.11.1"
  }
 },
 "nbformat": 4,
 "nbformat_minor": 5
}
