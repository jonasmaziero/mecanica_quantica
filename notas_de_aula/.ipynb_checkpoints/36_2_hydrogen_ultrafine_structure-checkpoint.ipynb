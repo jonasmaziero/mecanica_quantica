{
 "cells": [
  {
   "cell_type": "markdown",
   "id": "bfa49aa9-4b58-43e5-b80f-143a384cfb07",
   "metadata": {},
   "source": [
    "### Notas de aula de Mecânica Quântica <br> Autor: Jonas Maziero\n",
    "\n",
    "# Estrutura ultrafina do Hidrogênio\n",
    "\n",
    "Usando a relação relativística energia-momento, $E^2=P^2c^2+m^2c^4,$ podemos escrever a energia cinética como\n",
    "\\begin{align}\n",
    "E_{c} & = E - E_0 \\\\\n",
    "& = \\frac{P^{2}}{2m} - \\frac{P^{4}}{8m^{3}c^{2}} + \\frac{P^{6}}{16m^{5}c^{4}} - \\cdots.\n",
    "\\end{align}\n",
    "\n",
    "A energia cinética Newtoniana, $P^{2}/2m,$ foi utilizada quando estudamos a estrutura principal de níveis de energia do Hidrogênio, que é da ordem de $1\\text{ eV}$. O 2º termo, $- P^{4}/8m^{3}c^{2},$ foi utilizado para identificar a estrutura fina do Hidrogênio, que é a ordem de $10^{-3}\\text{ eV}$. \n",
    "\n",
    "Aqui vamos considerar o 3º termo, \n",
    "$$H_1^R = \\frac{P^{6}}{16m^{5}c^{4}},$$\n",
    "para obter a estrutura ultrafina do Hidrogênio. Para isso, aplicaremos correção perturbativa de 1ª ordem:\n",
    "$$E_n^{R(1)} = \\langle\\psi_{n,l,m_l}^{(0)}|H_1^R|\\psi_{n,l,m_l}^{(0)}\\rangle.$$"
   ]
  },
  {
   "cell_type": "markdown",
   "id": "0a797c0a-bdd6-43c8-89ff-2922fdc2f200",
   "metadata": {},
   "source": [
    "Começamos lembrando que o hamiltoniano não perturbado é\n",
    "$$H_0 = \\frac{P^2}{2m} + U\\ \\therefore\\ P^2 = 2m(H_0 - U).$$\n",
    "Com isso, podemos escrever\n",
    "\\begin{align}\n",
    "P^6 & = P^2 P^2 P^2 \\\\\n",
    "& = 4m^2 P^2(H_0 -U)(H_0 - U) \\\\\n",
    "& = 8m^3 (H_0 -U)(H_0^2 - H_0U - UH_0 + U^2) \\\\\n",
    "& = 8m^3 (H_0^3 - H_0^2 U - H_0 UH_0 + H_0 U^2 - UH_0^2 + UH_0U + U^2 H_0 - U^3).\n",
    "\\end{align}\n",
    "\n",
    "Usando \n",
    "$$U = -ke^2/R$$ \n",
    "e \n",
    "$$H_0|\\psi_{n,l,m_l}^{(0)}\\rangle=E_n^{(0)}|\\psi_{n,l,m_l}^{(0)}\\rangle,$$\n",
    "a correção perturbativa de 1ª ordem será dada por\n",
    "\\begin{align}\n",
    "E_n^{R(1)} & = \\langle\\psi_{n,l,m_l}^{(0)}|H_1^R|\\psi_{n,l,m_l}^{(0)}\\rangle \\\\ \n",
    "& = \\frac{1}{16 m^5 c^4}\\langle\\psi_{n,l,m_l}^{(0)}|P^6|\\psi_{n,l,m_l}^{(0)}\\rangle \\\\\n",
    "& = \\frac{8m^3}{16 m^5 c^4}\\big(\\langle\\psi_{n,l,m_l}^{(0)}|H_0^3|\\psi_{n,l,m_l}^{(0)}\\rangle - \\langle\\psi_{n,l,m_l}^{(0)}|H_0^2 U|\\psi_{n,l,m_l}^{(0)}\\rangle - \\langle\\psi_{n,l,m_l}^{(0)}|H_0 UH_0|\\psi_{n,l,m_l}^{(0)}\\rangle + \\langle\\psi_{n,l,m_l}^{(0)}|H_0 U^2|\\psi_{n,l,m_l}^{(0)}\\rangle \\\\\n",
    "&  \\hspace{2cm} - \\langle\\psi_{n,l,m_l}^{(0)}|UH_0^2|\\psi_{n,l,m_l}^{(0)}\\rangle + \\langle\\psi_{n,l,m_l}^{(0)}|UH_0U|\\psi_{n,l,m_l}^{(0)}\\rangle + \\langle\\psi_{n,l,m_l}^{(0)}|U^2 H_0|\\psi_{n,l,m_l}^{(0)}\\rangle - \\langle\\psi_{n,l,m_l}^{(0)}|U^3|\\psi_{n,l,m_l}^{(0)}\\rangle \\big) \\\\\n",
    "& = \\frac{1}{2 m^2 c^4}\\big((E_n^{(0)})^3 - (E_n^{(0)})^2\\langle\\psi_{n,l,m_l}^{(0)}|U|\\psi_{n,l,m_l}^{(0)}\\rangle - (E_n^{(0)})^2\\langle\\psi_{n,l,m_l}^{(0)}|U|\\psi_{n,l,m_l}^{(0)}\\rangle + E_n^{(0)}\\langle\\psi_{n,l,m_l}^{(0)}|U^2|\\psi_{n,l,m_l}^{(0)}\\rangle \\\\\n",
    "& \\hspace{2cm} - (E_n^{(0)})^2\\langle\\psi_{n,l,m_l}^{(0)}|U|\\psi_{n,l,m_l}^{(0)}\\rangle + \\langle\\psi_{n,l,m_l}^{(0)}|UH_0U|\\psi_{n,l,m_l}^{(0)}\\rangle + E_n^{(0)}\\langle\\psi_{n,l,m_l}^{(0)}|U^2|\\psi_{n,l,m_l}^{(0)}\\rangle - \\langle\\psi_{n,l,m_l}^{(0)}|U^3|\\psi_{n,l,m_l}^{(0)}\\rangle \\big) \\\\\n",
    "& = \\frac{1}{2 m^2 c^4}\\big((E_n^{(0)})^3 - 3(E_n^{(0)})^2\\langle U\\rangle  + 2E_n^{(0)}\\langle U^2\\rangle + \\langle UH_0U\\rangle - \\langle U^3\\rangle \\big).\n",
    "\\end{align}"
   ]
  },
  {
   "cell_type": "markdown",
   "id": "d3027458-9c32-4aae-911e-2a4c22fc47e2",
   "metadata": {},
   "source": [
    "Vamos usar os seguintes resultados (obtidos usando os teoremas de Pauli e e Ehrenfest)\n",
    "\\begin{align}\n",
    "& \\langle R^{-1}\\rangle=\\frac{1}{an^{2}},\\\\\n",
    "& \\langle R^{-2}\\rangle = \\frac{1}{a^{2}n^{3}(l+1/2)},\\\\\n",
    "& \\langle R^{-3}\\rangle = \\frac{1}{l(l+1/2)(l+1)n^{3}a^{3}}\n",
    "\\end{align}\n",
    "para obter\n",
    "\\begin{align}\n",
    "\\langle U\\rangle & = -ke^2\\langle R^{-1}\\rangle = \\frac{-ke^2}{an^{2}},\\\\\n",
    "\\langle U^2\\rangle & = k^2 e^4\\langle R^{-2}\\rangle = \\frac{k^2 e^4}{a^{2}n^{3}(l+1/2)},\\\\\n",
    "\\langle U^3\\rangle & = -k^3 e^6\\langle R^{-3}\\rangle = \\frac{-k^3 e^6}{l(l+1/2)(l+1)n^{3}a^{3}}.\n",
    "\\end{align}\n",
    "O valor médio que nos falta resolver é\n",
    "$$\\langle UH_0U\\rangle = k^2 e^4\\langle R^{-1}H_0 R^{-1}\\rangle.$$"
   ]
  },
  {
   "cell_type": "markdown",
   "id": "37ba265f-fcdc-4185-81a8-dafad6348c82",
   "metadata": {},
   "source": [
    "Usando \n",
    "\\begin{align}\n",
    "& a := \\frac{\\hbar^{2}}{kme^{2}},\\\\\n",
    "& E_{n}^{(0)} = -\\frac{m k^{2}e^{4}}{2\\hbar^{2}n^2} = -\\frac{\\alpha^{2}mc^{2}}{2n^{2}},\n",
    "\\end{align}\n",
    "pode-se verificar que\n",
    "\\begin{align}\n",
    "- 3(E_n^{(0)})^2\\langle U\\rangle & =  - 3(E_n^{(0)})^2\\Big(\\frac{-ke^2}{an^{2}}\\Big) \\\\\n",
    "& =  - 6(E_n^{(0)})^2\\Big(\\frac{-mk^2 e^4}{2\\hbar^2 n^{2}}\\Big) \\\\\n",
    "& = -6(E_{n}^{(0)})^3,\\\\\n",
    "2E_n^{(0)}\\langle U^2\\rangle & = 2E_n^{(0)}\\frac{k^2 e^4}{a^{2}n^{3}(l+1/2)} \\\\\n",
    "& = 2E_n^{(0)}\\frac{k^2 e^4}{n^{3}(l+1/2)} \\frac{k^2 m^2 e^4}{\\hbar^{4}} \\\\\n",
    "& = 8E_n^{(0)}\\frac{m^2 k^4 e^8}{4n^4 \\hbar^4} \\frac{n}{(l+1/2)} \\\\\n",
    "& = (E_{n}^{(0)})^3\\frac{8n}{l+1/2},\\\\\n",
    "\\langle U^3\\rangle & = \\frac{-k^3 e^6}{l(l+1/2)(l+1)n^{3}a^{3}} \\\\\n",
    "& = \\frac{-k^3 e^6}{l(l+1/2)(l+1)n^{3}}\\frac{k^3 m^3 e^6}{\\hbar^6} \\\\\n",
    "& = \\frac{-m^3 k^6 e^{12}}{8\\hbar^6 n^6}\\frac{8n^3}{l(l+1/2)(l+1)} \\\\\n",
    "& = (E_{n}^{(0)})^3\\frac{8n^3}{l(l+1/2)(l+1)}.\n",
    "\\end{align}"
   ]
  },
  {
   "cell_type": "markdown",
   "id": "f05542f8-d5d8-4b89-836e-e48a32901fdb",
   "metadata": {},
   "source": [
    "Com isso, vem que\n",
    "\\begin{align}\n",
    "E_n^{R(1)} & = \\frac{1}{2 m^2 c^4}\\Big((E_n^{(0)})^3 -6(E_{n}^{(0)})^3  + (E_{n}^{(0)})^3\\frac{8n}{l+1/2} + \\langle UH_0U\\rangle - (E_{n}^{(0)})^3\\frac{8n^3}{l(l+1/2)(l+1)} \\Big) \\\\\n",
    "& = \\frac{n^6(E_n^{(0)})^3}{2 m^2 c^4}\\Big(\\frac{8}{(l+1/2)n^5} - \\frac{8}{l(l+1/2)(l+1)n^3} - \\frac{5}{n^6} + \\frac{\\langle UH_0U\\rangle}{(E_n^{(0)})^3 n^6} \\Big) \\\\\n",
    "\\end{align}\n",
    "\n",
    "Ordem de grandeza da correção:\n",
    "$$\\frac{n^6(E_n^{(0)})^3}{2m^2c^4} = - \\frac{n^6}{2m^2c^4}\\frac{\\alpha^6 m^3 c^6}{8 n^6} = -\\frac{\\alpha^6 mc^2}{16} \\approx -4.82\\times 10^{-9}\\ \\text{eV},$$\n",
    "em que usamos\n",
    "$$\\alpha = \\frac{ke^{2}}{\\hbar c}. $$"
   ]
  },
  {
   "cell_type": "code",
   "execution_count": 9,
   "id": "5cfe9f7a-90a9-45eb-a818-acbe768ddcd6",
   "metadata": {},
   "outputs": [
    {
     "data": {
      "text/plain": [
       "4.820098043275679e-09"
      ]
     },
     "execution_count": 9,
     "metadata": {},
     "output_type": "execute_result"
    }
   ],
   "source": [
    "import math\n",
    "from matplotlib import pyplot as plt\n",
    "me = 9.109382*10**-31 # kg (massa do elétron)\n",
    "mp = 1.6726219*10**-27 # kg (massa do próton)\n",
    "h = 6.626069*10**-34 # Js (constante de Planck)\n",
    "hb = h/(2*math.pi) # hbar\n",
    "k = 8.9875517923*10**9 # Nm^2/C^2 (constante de Coulomb)\n",
    "e = 1.60217662*10**-19 # C (carga elementar)\n",
    "c = 2.99792458*10**8 # m/s (velocidade da luz no vácuo)\n",
    "al = (k*e**2)/(hb*c) # ~1/137.035999084 (constante de estrutura fina)\n",
    "m = (me*mp)/(me+mp)\n",
    "\n",
    "(((al**6)*m*c**2)/16)/e"
   ]
  },
  {
   "cell_type": "markdown",
   "id": "37188a22-f1c4-486f-88c4-6349a221d2dc",
   "metadata": {},
   "source": [
    "Vamos ao termo que falta:\n",
    "\\begin{align}\n",
    "\\langle UH_0U\\rangle & = k^2 e^4\\langle R^{-1}H_0 R^{-1}\\rangle \\\\\n",
    "& = k^2 e^4\\langle\\psi_{n,l,m_l}| R^{-1}H_0 R^{-1}|\\psi_{n,l,m_l}\\rangle \\\\\n",
    "& = k^2 e^4\\langle\\psi_{n,l,m_l}| R^{-1}H_0 \\sum_{n',l',m_l'}|\\psi_{n',l',m_l'}\\rangle\\langle\\psi_{n',l',m_l'}|R^{-1}|\\psi_{n,l,m_l}\\rangle \\\\\n",
    "& = \\sum_{n',l',m_l'}k^2 e^4\\langle\\psi_{n,l,m_l}| R^{-1}E_{n'}^{(0)}|\\psi_{n',l',m_l'}\\rangle\\langle\\psi_{n',l',m_l'}|R^{-1}|\\psi_{n,l,m_l}\\rangle \\\\\n",
    "& = \\sum_{n',l',m_l'}k^2 e^4E_{n'}^{(0)}\\langle\\psi_{n,l,m_l}| R^{-1}|\\psi_{n',l',m_l'}\\rangle\\langle\\psi_{n',l',m_l'}|R^{-1}|\\psi_{n,l,m_l}\\rangle \\\\\n",
    "& = \\sum_{n',l',m_l'}k^2 e^4E_{n'}^{(0)}|\\langle\\psi_{n,l,m_l}| R^{-1}|\\psi_{n',l',m_l'}\\rangle|^2 \\\\\n",
    "& = \\sum_{(n',l',m_l')=(n,l,m_l)}k^2 e^4E_{n'}^{(0)}\\langle R^{-1}\\rangle^2 + \\sum_{(n',l',m_l')\\ne(n,l,m_l)}k^2 e^4E_{n'}^{(0)}|\\langle\\psi_{n,l,m_l}| R^{-1}|\\psi_{n',l',m_l'}\\rangle|^2.\n",
    "\\end{align}\n",
    "Esse cálculo parece complicado. Vamos tentar outro caminho."
   ]
  },
  {
   "cell_type": "markdown",
   "id": "b12e0c82-3094-42db-a5b3-a2de5177ebd7",
   "metadata": {},
   "source": [
    "Consideremos o comutador\n",
    "$$[H_0,U] = H_0 U - UH_0 \\ \\therefore\\ H_0 U = [H_0,U] + UH_0.$$\n",
    "Com isso, vem que\n",
    "\\begin{align}\n",
    "\\langle UH_0 U\\rangle & = \\langle U[H_0,U]\\rangle + \\langle UU H_0\\rangle \\\\\n",
    "& = \\langle U[H_0,U]\\rangle + E_n^{(0)}\\langle U^2\\rangle.\n",
    "\\end{align}\n",
    "Mas, como $H_0=T+U=P^2/2m +U$, temos que\n",
    "\\begin{align}\n",
    "[H_0,U] & = [T+U,U] = [T,U] + [U,U] = TU-UT + 0 \\\\\n",
    "& = [T,U].\n",
    "\\end{align}\n",
    "\n",
    "Usando \n",
    "$$U=U(r)$$\n",
    "e\n",
    "$$\\vec{P}\\psi(\\vec{r},t) = -i\\hbar\\nabla_{\\vec{r}}\\psi(\\vec{r},t)\\ \\therefore\\ P^2 \\psi(\\vec{r},t) = -\\hbar^2 \\nabla_{\\vec{r}}^2\\psi(\\vec{r},t)$$\n",
    "e\n",
    "$$\\nabla_\\vec{r}^2(fg) = f\\nabla_\\vec{r}^2(g) + g\\nabla_\\vec{r}^2(f) + \\nabla_\\vec{r}(f)\\cdot\\nabla_\\vec{r}(g),$$"
   ]
  },
  {
   "cell_type": "markdown",
   "id": "a8d6e8a7-1533-4e39-804b-524cf2c388b9",
   "metadata": {},
   "source": [
    "vem que\n",
    "\\begin{align}\n",
    "[H_0,U]\\psi & = [T,U]\\psi \\\\\n",
    "& = TU\\psi - UT\\psi \\\\\n",
    "& = \\frac{P^2}{2m}(U\\psi) - U\\frac{P^2}{2m}\\psi \\\\\n",
    "& = \\frac{1}{2m}\\big(P^2(U\\psi) - UP^2 \\psi \\big) \\\\\n",
    "& = \\frac{-\\hbar^2}{2m}\\big(\\nabla_{\\vec{r}}^2(U\\psi) - U\\nabla_{\\vec{r}}^2\\psi\\big) \\\\\n",
    "& = \\frac{-\\hbar^2}{2m}\\Big( U\\nabla_{\\vec{r}}^2(\\psi) + \\big(\\nabla_{\\vec{r}}^2 U\\big)\\psi + (\\vec{\\nabla}U)\\cdot(\\vec{\\nabla}\\psi) - U\\nabla_{\\vec{r}}^2\\psi \\Big) \\\\\n",
    "& = \\frac{\\hbar^2}{2m}\\Big(ke^2\\big(\\nabla_{\\vec{r}}^2(1/r)\\big)\\psi + ke^2\\big(\\vec{\\nabla}(1/r)\\big)\\cdot(\\vec{\\nabla}\\psi) \\Big) \\\\\n",
    "& = \\frac{-\\hbar^2 ke^2}{2m}\\Big(4\\pi\\delta^3(\\vec{r})\\psi + (\\vec{r}/r^3)\\cdot(\\vec{\\nabla}\\psi) \\Big) \\\\\n",
    "& = \\frac{-\\hbar^2 ke^2}{2m}\\Big(4\\pi\\delta^3(\\vec{r}) + (\\vec{r}/r^3)\\cdot\\vec{\\nabla} \\Big).\n",
    "\\end{align}"
   ]
  },
  {
   "cell_type": "markdown",
   "id": "082f602e-06af-4f9a-beb1-dd64f03743c7",
   "metadata": {},
   "source": [
    "Com isso, vem que\n",
    "\\begin{align}\n",
    "\\langle UH_0 U\\rangle & = \\langle U[H_0,U]\\rangle + E_n^{(0)}\\langle U^2\\rangle \\\\\n",
    "& = \\frac{-\\hbar^2 ke^2}{2m}\\Big\\langle U\\Big(4\\pi\\delta^3(\\vec{r}) + (\\vec{r}/r^3)\\cdot\\vec{\\nabla} \\Big)\\Big\\rangle + k^2 e^4 E_n^{(0)}\\langle R^{-2}\\rangle \\\\\n",
    "& = \\frac{-\\hbar^2 ke^2}{2m}\\Big( 4\\pi\\int d^3r U\\delta^3(\\vec{r})|\\psi_{n,l,m_l}|^2 + \\int d^3r \\psi_{n,l,m_l}^*(\\vec{r}/r^3)\\cdot\\vec{\\nabla}\\psi_{n,l,m_l} \\Big) + k^2 e^4 E_n^{(0)}\\frac{1}{a^{2}n^{3}(l+1/2)} \\\\\n",
    "& = \\frac{-\\hbar^2 ke^2}{2m}\\Big( -ke^2 4\\pi\\int_0^\\infty\\int_0^\\pi\\int_0^{2\\pi} r^2\\sin\\theta dr d\\theta d\\phi  \\frac{1}{r}\\delta^3(\\vec{r})|\\psi_{n,l,m_l}|^2 \\\\\n",
    "& \\hspace{2cm} + \\int_0^\\infty\\int_0^\\pi\\int_0^{2\\pi} r^2\\sin\\theta dr d\\theta d\\phi \\psi_{n,l,m_l}^*(\\vec{r}/r^3)\\cdot\\vec{\\nabla}\\psi_{n,l,m_l} \\Big) \\\\\n",
    "& \\hspace{2cm} + k^2 e^4 E_n^{(0)}\\frac{1}{n^{3}(l+1/2)}\\frac{k^2 m^2 e^4}{\\hbar^4} \\\\\n",
    "& = \\frac{-\\hbar^2 ke^2}{2m}\\Big( 0 + I \\Big) + k^2 e^4 E_n^{(0)}\\frac{1}{n^{3}(l+1/2)}\\frac{k^2 m^2 e^4}{\\hbar^4} \\\\\n",
    "& = \\frac{-\\hbar^2 ke^2}{2m}\\Big( 0 + I \\Big) + (E_n^{(0)})^3\\frac{4n}{(l+1/2)}.\n",
    "\\end{align}\n",
    "Acima usamos que\n",
    "\\begin{align}\n",
    "\\psi_{n,l,m_{l}}(r,\\theta,\\phi) & = \\sqrt{\\left(\\frac{2Z}{a_{0}n}\\right)^{3}\\frac{(n-l-1)!}{(n+l)!2n}}e^{-Zr/a_{0}n}\\left(\\frac{2Zr}{a_{0}n}\\right)^{l}L_{n-l-1}^{2l+1}\\left(\\frac{2Zr}{a_{0}n}\\right)\\sqrt{(2l+1)\\frac{(l-|m_{l}|)!}{(l+|m_{l}|)!}}(\\sin\\theta)^{|m_{l}|}\\frac{\\partial^{|m_{l}|}P_{l}(\\cos\\theta)}{\\partial z^{|m_{l}|}}\\frac{1}{\\sqrt{4\\pi}}e^{im_{l}\\phi},\n",
    "\\end{align}\n",
    "que evolve somente potências nula ou positiva em $r$."
   ]
  },
  {
   "cell_type": "markdown",
   "id": "bacb6a6e-7b58-4f8c-a2ca-548a99643c73",
   "metadata": {},
   "source": [
    "Ainda temos que calcular a integral\n",
    "\\begin{align}\n",
    "I & = \\int_0^\\infty\\int_0^\\pi\\int_0^{2\\pi} r^2\\sin\\theta dr d\\theta d\\phi \\psi_{n,l,m_l}^*(\\vec{r}/r^3)\\cdot\\vec{\\nabla}\\psi_{n,l,m_l} \\\\\n",
    "& = \\int_0^\\infty\\int_0^\\pi\\int_0^{2\\pi} \\sin\\theta dr d\\theta d\\phi \\psi_{n,l,m_l}^* \\hat{r}\\cdot\\vec{\\nabla}\\psi_{n,l,m_l} \\\\\n",
    "& = \\frac{i}{\\hbar}\\Big\\langle \\frac{\\vec{r}\\cdot\\vec{P}}{r^3}\\Big\\rangle \\\\\n",
    "& = \\frac{i}{\\hbar}\\Big\\langle \\frac{\\hat{r}\\cdot\\vec{P}}{r^2}\\Big\\rangle \\\\\n",
    "& = \\frac{i}{\\hbar}\\Big\\langle \\frac{P_r}{r^2}\\Big\\rangle \\\\\n",
    "& = \\cdots\n",
    "\\end{align}"
   ]
  },
  {
   "cell_type": "markdown",
   "id": "703854fd-e5c0-4bd4-aebb-bdb3bc02b5a9",
   "metadata": {},
   "source": [
    "## Exercícios\n",
    "\n",
    "$1.$ Considerando duas funções $f=f(\\vec{r})$ e $g=g(\\vec{r})$, verifique a seguinte igualdade\n",
    "$$\\nabla_\\vec{r}^2(fg) = f\\nabla_\\vec{r}^2(g) + g\\nabla_\\vec{r}^2(f) + \\nabla_\\vec{r}(f)\\cdot\\nabla_\\vec{r}(g).$$"
   ]
  },
  {
   "cell_type": "code",
   "execution_count": null,
   "id": "fa68113c-9e63-452e-bb68-bb324eabff51",
   "metadata": {},
   "outputs": [],
   "source": []
  }
 ],
 "metadata": {
  "kernelspec": {
   "display_name": "Python 3 (ipykernel)",
   "language": "python",
   "name": "python3"
  },
  "language_info": {
   "codemirror_mode": {
    "name": "ipython",
    "version": 3
   },
   "file_extension": ".py",
   "mimetype": "text/x-python",
   "name": "python",
   "nbconvert_exporter": "python",
   "pygments_lexer": "ipython3",
   "version": "3.12.2"
  }
 },
 "nbformat": 4,
 "nbformat_minor": 5
}
