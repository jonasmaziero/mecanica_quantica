{
 "cells": [
  {
   "cell_type": "markdown",
   "id": "21b643a5",
   "metadata": {},
   "source": [
    "### Notas de aula de Mecânica Quântica <br> Autor: Jonas Maziero"
   ]
  },
  {
   "cell_type": "markdown",
   "id": "39b25a13",
   "metadata": {},
   "source": [
    "# Teorema adiabático (caso particular)\n",
    "Considere um hamiltoniano dependente do tempo mas que comuta em tempos diferentes, i.e., \n",
    "$$[H_{t},H_{t'}]=0\\ \\forall\\ t,t'.$$\n",
    "Se o hamiltoniano muda lentamente com o tempo, mais precisamente, se para $H_{t}|E_{n}(t)\\rangle=E_{n}(t)|E_{n}(t)\\rangle$ temos que \n",
    "$$|\\langle E_{m}(t)|\\dot{H}_{t}|E_{n}(t)\\rangle| \\ll |E_{n}(t)-E_{m}(t)|,$$\n",
    "com $\\dot{H}_{t}\\equiv\\partial_{t}H_{t},$ e se inicialmente o estado do sistema é autovetor de $H_{0}$ com índice $n$, i.e., se \n",
    "$$|\\psi_{0}\\rangle=|E_{n}(0)\\rangle,$$\n",
    "então o estado evoluído no tempo desse sistema será autovetor de $H_{t}$ com o mesmo índice $n$, ou seja\n",
    "$$|\\psi_{t}\\rangle\\propto |E_{n}(t)\\rangle.$$\n",
    "\n",
    "\n",
    "## Prova\n",
    "Vamos começar lembrando de alguns resultados. Se o Hamiltoniano é independente do tempo, \n",
    "$$H_{t}=H,$$\n",
    "o operador de evolução temporal toma a forma \n",
    "$$U_{t}=e^{-iHt/\\hbar}.$$\n",
    "Assim, para $H|E_{n}(0)\\rangle=E_{n}(0)|E_{n}(0)\\rangle,$ escrevendo o estado inicial como \n",
    "$$|\\psi_{0}\\rangle = \\sum_{n}c_{n}(0)|E_{n}(0)\\rangle$$\n",
    "teremos o estado evoluído\n",
    "\\begin{align}\n",
    "|\\psi_{t}\\rangle & = U_{t}|\\psi_{0}\\rangle \\\\\n",
    "& = \\sum_{n}c_{n}(0)U_{t}|E_{n}(0)\\rangle \\\\\n",
    "& = \\sum_{n}c_{n}(0)e^{-iHt/\\hbar}|E_{n}(0)\\rangle \\\\\n",
    "& = \\sum_{n}c_{n}(0)e^{-iE_{n}t/\\hbar}|E_{n}(0)\\rangle.\n",
    "\\end{align}"
   ]
  },
  {
   "cell_type": "markdown",
   "id": "c73471e8",
   "metadata": {},
   "source": [
    "Se o hamiltoniano é dependente do tempo mas \n",
    "$$[H_{t},H_{t'}]=0\\ \\forall\\ t,t'$$\n",
    "temos que \n",
    "$$U_{t}=e^{-\\frac{i}{\\hbar}\\int_{0}^{t}H_{t'}dt'}.$$\n",
    "Assim, se escrevemos o estado inicial como \n",
    "$$|\\psi_{0}\\rangle=\\sum_{n}c_{n}(t)|E_{n}(t)\\rangle,$$\n",
    "com\n",
    "$$c_n(t) = \\langle E_n(t)|\\psi_0\\rangle,$$\n",
    "e\n",
    "$$H_{t}|E_{n}(t)\\rangle=E_{n}(t)|E_{n}(t)\\rangle,$$\n",
    "e __assumimos__ que\n",
    "$$H_{t'}|E_{n}(t)\\rangle=E_{n}(t')|E_{n}(t)\\rangle\\ \\forall\\ t,t',$$\n",
    "ou seja, $|E_n(t)\\rangle$ é autovetor do hamiltoniano para qualquer instante de tempo $t'$, com autovalor correspondente $E_{n}(t')$ tendo o mesmo índice $n$."
   ]
  },
  {
   "cell_type": "markdown",
   "id": "a83de302",
   "metadata": {},
   "source": [
    "Assim o estado evoluído pode ser escrito como\n",
    "\\begin{align}\n",
    "|\\psi_{t}\\rangle & = U_{t}|\\psi_{0}\\rangle \\\\\n",
    "& = \\sum_{n}c_{n}(t)e^{-\\frac{i}{\\hbar}\\int_{0}^{t}H_{t'}dt'}|E_{n}(t)\\rangle \\\\\n",
    "& = \\sum_{n}c_{n}(t)\\Big(I + \\Big(-\\frac{i}{\\hbar}\\int_{0}^{t}H_{t'}dt'\\Big) + \\frac{1}{2!}\\Big(-\\frac{i}{\\hbar}\\int_{0}^{t}H_{t'}dt'\\Big)^{2} + \\cdots \\Big)|E_{n}(t)\\rangle \\\\\n",
    "& = \\sum_{n}c_{n}(t)\\Big(I + \\Big(-\\frac{i}{\\hbar}\\int_{0}^{t}H_{t'}|E_{n}(t)\\rangle dt'\\Big) + \\frac{1}{2!}\\Big(-\\frac{i}{\\hbar}\\int_{0}^{t}H_{t'}dt'\\Big)\\Big(-\\frac{i}{\\hbar}\\int_{0}^{t}H_{t''}|E_{n}(t)\\rangle dt''\\Big) + \\cdots \\Big) \\\\\n",
    "& = \\sum_{n}c_{n}(t)\\Big(I + \\Big(-\\frac{i}{\\hbar}\\int_{0}^{t}E_{n}(t')|E_{n}(t)\\rangle dt'\\Big) + \\frac{1}{2!}\\Big(-\\frac{i}{\\hbar}\\int_{0}^{t}H_{t'}|E_{n}(t)\\rangle dt'\\Big)\\Big(-\\frac{i}{\\hbar}\\int_{0}^{t}E_n(t'') dt''\\Big) + \\cdots \\Big) \\\\\n",
    "& = \\sum_{n}c_{n}(t)\\Big(I + \\Big(-\\frac{i}{\\hbar}\\int_{0}^{t}E_{n}(t')|E_{n}(t)\\rangle dt'\\Big) + \\frac{1}{2!}\\Big(-\\frac{i}{\\hbar}\\int_{0}^{t}E_n(t')|E_{n}(t)\\rangle dt'\\Big)\\Big(-\\frac{i}{\\hbar}\\int_{0}^{t}E_n(t'') dt''\\Big) + \\cdots \\Big) \\\\\n",
    "& = \\sum_{n}c_{n}(t)\\Big(I + \\Big(-\\frac{i}{\\hbar}\\int_{0}^{t}E_{n}(t') dt'\\Big) + \\frac{1}{2!}\\Big(-\\frac{i}{\\hbar}\\int_{0}^{t}E_n(t') dt'\\Big)\\Big(-\\frac{i}{\\hbar}\\int_{0}^{t}E_n(t'') dt''\\Big) + \\cdots \\Big)|E_{n}(t)\\rangle \\\\\n",
    "& = \\sum_{n}c_{n}(t)\\Big(1 + \\Big(-\\frac{i}{\\hbar}\\int_{0}^{t}E_{n}(t')dt'\\Big) + \\frac{1}{2!}\\Big(-\\frac{i}{\\hbar}\\int_{0}^{t}E_{n}(t')dt'\\Big)^{2} + \\cdots \\Big)|E_{n}(t)\\rangle \\\\\n",
    "& = \\sum_{n}c_{n}(t)e^{-\\frac{i}{\\hbar}\\int_{0}^{t}E_{n}(t')dt'}|E_{n}(t)\\rangle \\\\\n",
    "& = \\sum_{n}c_{n}(t)e^{i\\theta_{n}(t)}|E_{n}(t)\\rangle,\n",
    "\\end{align}\n",
    "em que definimos a chamada __fase dinâmica__: \n",
    "$$\\theta_{n}(t)=-\\frac{1}{\\hbar}\\int_{0}^{t}E_{n}(t')dt'.$$\n",
    "Acima usamos\n",
    "\\begin{align}\n",
    "\\Big(\\int_{0}^{t}H_{t'}dt'\\Big)|E_{n}(t)\\rangle & = \\Big(\\int_{0}^{t}H_{t'}|E_{n}(t)\\rangle dt'\\Big) \\\\\n",
    "& = \\Big(\\int_{0}^{t}E_n(t')|E_{n}(t)\\rangle dt'\\Big) \\\\\n",
    "& = \\Big(\\int_{0}^{t}E_n(t') dt'\\Big)|E_{n}(t)\\rangle.\n",
    "\\end{align}\n",
    "\n",
    "Substituindo a expressão acima para o estado quântico evoluído no tempo na equação de Schrödinger, obtemos\n",
    "\\begin{align}\n",
    "i\\hbar\\partial_{t}|\\psi_{t}\\rangle & = H_{t}|\\psi_{t}\\rangle \\\\\n",
    "& = \\sum_{n}c_{n}(t)e^{i\\theta(t)}H_t|E_{n}(t)\\rangle \\\\\n",
    "& = \\sum_{n}c_{n}(t)e^{i\\theta(t)}E_{n}(t)|E_{n}(t)\\rangle.\n",
    "\\end{align}"
   ]
  },
  {
   "cell_type": "markdown",
   "id": "892435df",
   "metadata": {},
   "source": [
    "Denotando \n",
    "$$\\dot{x}=\\partial_{t}x,$$\n",
    "vem que\n",
    "\\begin{align}\n",
    "& i\\hbar\\partial_{t}|\\psi_{t}\\rangle = \\sum_{n}\\partial_t\\big(c_{n}(t)e^{i\\theta_{n}(t)}|E_{n}(t)\\rangle\\big) \\\\\n",
    "& = i\\hbar \\sum_{n}\\big(\\dot{c}_{n}(t)e^{i\\theta_{n}(t)}|E_{n}(t)\\rangle + c_{n}(t)i\\dot{\\theta}_{n}(t)e^{i\\theta_{n}(t)}|E_{n}(t)\\rangle + c_{n}(t)e^{i\\theta_{n}(t)}|\\dot{E}_{n}(t)\\rangle\\big) \\\\\n",
    "& = i\\hbar \\sum_{n}\\big(\\dot{c}_{n}(t)e^{i\\theta_{n}(t)}|E_{n}(t)\\rangle + c_{n}(t)i\\frac{-E_{n}(t)}{\\hbar}e^{i\\theta_{n}(t)}|E_{n}(t)\\rangle + c_{n}(t)e^{i\\theta_{n}(t)}|\\dot{E}_{n}(t)\\rangle\\big) \\\\\n",
    "&  = \\sum_{n}c_{n}(t)e^{i\\theta(t)}E_{n}(t)|E_{n}(t)\\rangle \\\\\n",
    "& \\therefore\\ \\sum_{n}\\big(\\dot{c}_{n}(t)|E_{n}(t)\\rangle + c_{n}(t)|\\dot{E}_{n}(t)\\rangle\\big)e^{i\\theta_{n}(t)}=0,\n",
    "\\end{align}\n",
    "em que usamos o teorema fundamental do cálculo para obter\n",
    "$$\\dot{\\theta}(t) = -\\frac{1}{\\hbar}\\partial_{t}\\int_{0}^{t}E_{n}(t')dt' = -\\frac{E_{n}(t)}{\\hbar}.$$\n",
    "Por conseguinte\n",
    "$$\\sum_{n}\\dot{c}_{n}(t)|E_{n}(t)\\rangle e^{i\\theta_{n}(t)} =- \\sum_{n}c_{n}(t)|\\dot{E}_{n}(t)\\rangle e^{i\\theta_{n}(t)}.$$"
   ]
  },
  {
   "cell_type": "markdown",
   "id": "670a948f",
   "metadata": {},
   "source": [
    "Tomando o __produto interno__ com $|E_{m}(t)\\rangle$ vem que\n",
    "\\begin{align}\n",
    "& \\sum_{n}\\dot{c}_{n}(t)\\langle E_{m}(t)|E_{n}(t)\\rangle e^{i\\theta_{n}(t)} = \\sum_{n}\\dot{c}_{n}(t)\\delta_{m,n}e^{i\\theta_{n}(t)} = \\dot{c}_{m}(t)e^{i\\theta_{m}(t)} \\\\\n",
    "& = - \\sum_{n}c_{n}(t)\\langle E_{m}(t)|\\dot{E}_{n}(t)\\rangle e^{i\\theta_{n}(t)} \\\\\n",
    "& \\therefore\\ \\color{blue}{\\dot{c}_{m}(t) = - \\sum_{n}c_{n}(t)\\langle E_{m}(t)|\\dot{E}_{n}(t)\\rangle e^{i(\\theta_{n}(t)-\\theta_{m}(t))}}. \\hspace{2cm} (\\star)\n",
    "\\end{align}\n",
    "\n",
    "Para obter expressões para $\\langle E_{m}(t)|\\dot{E}_{n}(t)\\rangle$, vamos diferenciar a equação de autvalores e autovetores, \n",
    "$$H_{t}|E_{n}(t)\\rangle=E_{n}(t)|E_{n}(t)\\rangle,$$\n",
    "e tomar o produto interno com $|E_{m}(t)\\rangle$:\n",
    "\\begin{align}\n",
    "& \\dot{H}_{t}|E_{n}(t)\\rangle +  H_{t}|\\dot{E}_{n}(t)\\rangle = \\dot{E}_{n}(t)|E_{n}(t)\\rangle + E_{n}(t)|\\dot{E}_{n}(t)\\rangle \\\\\n",
    "& \\therefore\\ \\langle E_{m}(t)|\\dot{H}_{t}|E_{n}(t)\\rangle +  \\langle E_{m}(t)|H_{t}|\\dot{E}_{n}(t)\\rangle = \\dot{E}_{n}(t)\\langle E_{m}(t)|E_{n}(t)\\rangle + E_{n}(t)\\langle E_{m}(t)|\\dot{E}_{n}(t)\\rangle \\\\\n",
    "& \\therefore\\ \\langle E_{m}(t)|\\dot{H}_{t}|E_{n}(t)\\rangle +  E_{m}(t)\\langle E_{m}(t)|\\dot{E}_{n}(t)\\rangle = \\dot{E}_{n}(t)\\delta_{m,n} + E_{n}(t)\\langle E_{m}(t)|\\dot{E}_{n}(t)\\rangle \\\\\n",
    "& \\therefore\\ \\langle E_{m}(t)|\\dot{H}_{t}|E_{n}(t)\\rangle = \\dot{E}_{n}(t)\\delta_{m,n} + (E_{n}(t)-E_{m}(t))\\langle E_{m}(t)|\\dot{E}_{n}(t)\\rangle \\\\\n",
    "& \\therefore\\ \\langle E_{m}(t)|\\dot{E}_{n}(t)\\rangle = \\frac{\\langle E_{m}(t)|\\dot{H}_{t}|E_{n}(t)\\rangle}{E_{n}(t)-E_{m}(t)} - \\frac{\\dot{E}_{n}(t)\\delta_{m,n}}{E_{n}(t)-E_{m}(t)}.\n",
    "\\end{align}\n",
    "Note que para estas contas estamos supondo a __inexistência de degenerescência__, i.e.\n",
    "$$E_{n}(t)\\ne E_{m}(t)\\ \\forall m\\ne n,\\ \\forall t.$$"
   ]
  },
  {
   "cell_type": "markdown",
   "id": "c939f71d",
   "metadata": {},
   "source": [
    "Fazendo \n",
    "$$m\\ne n\\ \\therefore\\ \\langle E_{m}(t)|\\dot{E}_{n}(t)\\rangle = \\frac{\\langle E_{m}(t)|\\dot{H}_{t}|E_{n}(t)\\rangle}{E_{n}(t)-E_{m}(t)}.$$\n",
    "Substituindo esse último resultado na eq. $(\\star)$, obteremos\n",
    "\\begin{align}\n",
    "\\dot{c}_{m}(t) & = - \\sum_{n=m}c_{n}(t)\\langle E_{m}(t)|\\dot{E}_{n}(t)\\rangle e^{i(\\theta_{n}(t)-\\theta_{m}(t))} - \\sum_{n\\ne m}c_{n}(t)\\langle E_{m}(t)|\\dot{E}_{n}(t)\\rangle e^{i(\\theta_{n}(t)-\\theta_{m}(t))} \\\\\n",
    "& = - c_{m}(t)\\langle E_{m}(t)|\\dot{E}_{m}(t)\\rangle - \\sum_{n\\ne m}c_{n}(t)\\langle E_{m}(t)|\\dot{E}_{n}(t)\\rangle e^{i(\\theta_{n}(t)-\\theta_{m}(t))} \\\\\n",
    "& = - c_{m}(t)\\langle E_{m}(t)|\\dot{E}_{m}(t)\\rangle - \\sum_{n\\ne m}c_{n}(t)\\frac{\\langle E_{m}(t)|\\dot{H}_{t}|E_{n}(t)\\rangle}{E_{n}(t)-E_{m}(t)} e^{i(\\theta_{n}(t)-\\theta_{m}(t))}\n",
    "\\end{align}\n",
    "Agora vamos fazer a __aproximação adiabática__, que é supor que o hamiltoniano varia muito lentamente com o tempo. Mais precisamente, vamos supor que para $m\\ne n$ teremos\n",
    "$$|\\langle E_{m}(t)|\\dot{H}_{t}|E_{n}(t)\\rangle| \\ll |E_{n}(t)-E_{m}(t)|.$$\n",
    "Nesta situação podemos desprezar o 2º termo da equação acima para obter\n",
    "\\begin{align}\n",
    "& \\dot{c}_{m}(t) \\approx - c_{m}(t)\\langle E_{m}(t)|\\dot{E}_{m}(t)\\rangle \\\\\n",
    "& \\therefore\\ c_{m}(t) = c_{m}(0)e^{i\\gamma_{m}(t)},\n",
    "\\end{align}\n",
    "em que definimos a chamada __fase geométrica__:\n",
    "$$\\gamma_{m}(t) = i\\int_{0}^{t}\\langle E_{m}(t')|\\dot{E}_{m}(t')\\rangle dt'.$$"
   ]
  },
  {
   "cell_type": "markdown",
   "id": "67a8c2cf",
   "metadata": {},
   "source": [
    "Podemos verificar que \n",
    "$$\\gamma_{m}(t)\\in\\mathbb{R}$$\n",
    "da seguinte forma\n",
    "\\begin{align}\n",
    "& 0 = \\partial_{t}(1) = \\partial_{t}\\langle E_{m}(t)|E_{m}(t)\\rangle \\\\\n",
    "& = \\big(\\partial_{t}\\langle E_{m}(t)|\\big)|E_{m}(t)\\rangle + \\langle E_{m}(t)|\\partial_{t}|E_{m}(t)\\rangle \\\\\n",
    "& \\therefore\\ \\big(\\partial_{t}\\langle E_{m}(t)|\\big)|E_{m}(t)\\rangle = - \\langle E_{m}(t)|\\partial_{t}|E_{m}(t)\\rangle \\\\\n",
    "& \\therefore\\ \\big(\\langle E_{m}(t)|\\partial_{t}|E_{m}(t)\\rangle\\big)^{*} = \\big(\\partial_{t}|E_{m}(t)\\rangle\\big)^\\dagger |E_{m}(t)\\rangle  = \\big(\\partial_{t}|E_{m}(t)\\rangle^\\dagger\\big) |E_{m}(t)\\rangle = \\big(\\partial_{t}|E_{m}(t)\\rangle\\big)|E_{m}(t)\\rangle = - \\langle E_{m}(t)|\\partial_{t}|E_{m}(t)\\rangle \\\\\n",
    "& \\therefore\\ \\big(\\langle E_{m}(t)|\\dot{E_{m}}(t)\\rangle\\big)^{*} = - \\langle E_{m}(t)|\\dot{E_m}(t)\\rangle\n",
    "\\end{align}\n",
    "Portando $\\langle E_{m}(t')|\\dot{E}_{m}(t')\\rangle$ é um número imaginário puro, \n",
    "$$\\Re(\\langle E_{m}(t')|\\dot{E}_{m}(t')\\rangle) = 0,$$\n",
    "o que implica que $\\gamma_{m}(t)$ é um número real.\n",
    "\n",
    "Em particular, se o sistema começa em um certo auto-estado do Hamiltoniano, i.e., se\n",
    "$$|\\psi_{0}\\rangle=|E_{n}(0)\\rangle\\ \\therefore\\ c_{n}(0)=1\\ \\text{e}\\ c_{m\\ne n}=0,$$\n",
    "teremos que\n",
    "$$c_{n}(t)=c_n(0)e^{i\\gamma_{n}(t)}=e^{i\\gamma_{n}(t)}\\ \\text{e}\\ c_{m\\ne n}(t)=c_m(0)e^{i\\gamma_{m}(t)}=0.$$\n",
    "Por conseguinte o estado permanece sendo o autovetor do hamiltoniano com mesmo índice, ganhando somente fases globais:\n",
    "$$|\\psi_{t}\\rangle = e^{i\\gamma_{n}(t)}e^{i\\theta_{n}(t)}|E_{n}(t)\\rangle.$$\n",
    "Com isso, completamos a prova do terorema adiabático, neste caso particular em que $[H_t,H_{t'}]=0\\ \\forall\\ t,t'$ e  $H_{t'}|E_{n}(t)\\rangle=E_{n}(t')|E_{n}(t)\\rangle\\ \\forall\\ t,t'.$\n",
    "\n",
    "$\\hspace{20cm} \\square$"
   ]
  },
  {
   "cell_type": "markdown",
   "id": "c8e0985c",
   "metadata": {},
   "source": [
    "# Teorema adiabático (caso geral)\n",
    "Messiah pg 745\n",
    "**\n",
    "\n",
    "## Prova\n",
    "**"
   ]
  },
  {
   "cell_type": "markdown",
   "id": "5176463c",
   "metadata": {},
   "source": [
    "## Exemplo\n",
    "Vamos considerar um elétron na origem do referencial e sujeito a um campo de amplitude constante $B_{0}$ mas cuja direção gira em um cone com eixo na direção $z$ e frequência angular $\\omega:$\n",
    "$$\\vec{B}_{t} = B_{0}\\big(\\hat{i}\\sin\\alpha\\cos(\\omega t) + \\hat{j}\\sin\\alpha\\sin(\\omega t) + \\hat{k}\\cos\\alpha\\big).$$\n",
    "Para este sistema, o hamiltoniano é\n",
    "\\begin{align}\n",
    "H_{t} & = -\\vec{\\mu}\\cdot\\vec{B}_{t} = \\frac{e}{m_{e}}\\vec{S}\\cdot \\vec{B}_{t} = \\frac{e}{m_{e}}\\frac{\\hbar}{2}\\vec{\\sigma}\\cdot \\vec{B}_{t} \\\\\n",
    "& = \\frac{e\\hbar B_{0}}{2m_{e}}\\big(\\sigma_{x}\\sin\\alpha\\cos(\\omega t) + \\sigma_{y}\\sin\\alpha\\sin(\\omega t) + \\sigma_{z}\\cos\\alpha\\big) \\\\\n",
    "& = \\frac{\\hbar\\omega_{1}}{2}\\begin{bmatrix}\\cos\\alpha & e^{-i\\omega t}\\sin\\alpha \\\\ e^{i\\omega t}\\sin\\alpha& -\\cos\\alpha\\end{bmatrix},\n",
    "\\end{align}\n",
    "em que definimos a frequência de Larmor \n",
    "$$\\omega_{1} := \\frac{eB_{0}}{m_{e}}.$$\n",
    "Note que, em geral, esse Hamiltoniano não comuta para tempos diferentes (veja os cálculos feitos com o código Sympy abaixo). No entanto, mesmo assim o teorema adiabático se aplica."
   ]
  },
  {
   "cell_type": "code",
   "execution_count": 1,
   "id": "5aad61aa",
   "metadata": {},
   "outputs": [
    {
     "data": {
      "text/latex": [
       "$\\displaystyle \\left[\\begin{matrix}\\cos{\\left(\\alpha \\right)} & 1.0 e^{- i \\omega t} \\sin{\\left(\\alpha \\right)}\\\\1.0 e^{i \\omega t} \\sin{\\left(\\alpha \\right)} & - \\cos{\\left(\\alpha \\right)}\\end{matrix}\\right]$"
      ],
      "text/plain": [
       "Matrix([\n",
       "[                   cos(alpha), 1.0*exp(-I*omega*t)*sin(alpha)],\n",
       "[1.0*exp(I*omega*t)*sin(alpha),                    -cos(alpha)]])"
      ]
     },
     "execution_count": 1,
     "metadata": {},
     "output_type": "execute_result"
    }
   ],
   "source": [
    "from sympy import Matrix, symbols, simplify, sin, cos\n",
    "\n",
    "def pauli(j):\n",
    "    if j == 1:\n",
    "        return Matrix([[0,1],[1,0]])\n",
    "    elif j == 2:\n",
    "        return Matrix([[0,-1j],[1j,0]])\n",
    "    elif j == 3:\n",
    "        return Matrix([[1,0],[0,-1]])\n",
    "\n",
    "al,om,t = symbols('alpha omega t')\n",
    "def H(t):\n",
    "    return pauli(1)*sin(al)*cos(om*t) + pauli(2)*sin(al)*sin(om*t) + pauli(3)*cos(al)\n",
    "simplify(H(t))"
   ]
  },
  {
   "cell_type": "code",
   "execution_count": 2,
   "id": "ec75ca13",
   "metadata": {},
   "outputs": [
    {
     "data": {
      "text/latex": [
       "$\\displaystyle \\left[\\begin{matrix}- 2.0 i \\sin^{2}{\\left(\\alpha \\right)} \\sin{\\left(\\omega \\left(t - t_{1}\\right) \\right)} & 2.0 \\left(e^{- i \\omega t_{1}} - e^{- i \\omega t}\\right) \\sin{\\left(\\alpha \\right)} \\cos{\\left(\\alpha \\right)}\\\\2.0 \\left(e^{i \\omega t} - e^{i \\omega t_{1}}\\right) \\sin{\\left(\\alpha \\right)} \\cos{\\left(\\alpha \\right)} & 2.0 i \\sin^{2}{\\left(\\alpha \\right)} \\sin{\\left(\\omega \\left(t - t_{1}\\right) \\right)}\\end{matrix}\\right]$"
      ],
      "text/plain": [
       "Matrix([\n",
       "[                    -2.0*I*sin(alpha)**2*sin(omega*(t - t_1)), 2.0*(exp(-I*omega*t_1) - exp(-I*omega*t))*sin(alpha)*cos(alpha)],\n",
       "[2.0*(exp(I*omega*t) - exp(I*omega*t_1))*sin(alpha)*cos(alpha),                        2.0*I*sin(alpha)**2*sin(omega*(t - t_1))]])"
      ]
     },
     "execution_count": 2,
     "metadata": {},
     "output_type": "execute_result"
    }
   ],
   "source": [
    "def comm(A,B):\n",
    "    return A*B-B*A\n",
    "t1 = symbols('t_1'); simplify(comm(H(t),H(t1)))"
   ]
  },
  {
   "cell_type": "markdown",
   "id": "c80a9d86",
   "metadata": {},
   "source": [
    "Os autovetores desse hamiltoniano são\n",
    "\\begin{align}\n",
    "& |\\chi_{+}(t)\\rangle = \\cos(\\alpha/2)|z_{+}\\rangle + e^{i\\omega t}\\sin(\\alpha/2)|z_{-}\\rangle, \\\\\n",
    "& |\\chi_{-}(t)\\rangle = e^{-i\\omega t}\\sin(\\alpha/2)|z_{+}\\rangle - \\cos(\\alpha/2)|z_{-}\\rangle, \\hspace{2cm} (\\square)\n",
    "\\end{align}\n",
    "e correspondem, respectivamente, aos autovalores\n",
    "$$E_{\\pm}(t)=E_{\\pm} = \\pm \\hbar\\omega_{1}/2.$$\n",
    "\n",
    "Vamos supor que o elétron inicie no estado (_spin pra cima_ na direção de $\\vec{B}(0)$), i.e.,\n",
    "$$|\\psi_{0}\\rangle = |\\chi_{+}(0)\\rangle = \\cos(\\alpha/2)|z_{+}\\rangle + \\sin(\\alpha/2)|z_{-}\\rangle.$$\n",
    "Neste caso, pode-se verificar que o estado evoluído no tempo pode ser escrito como:\n",
    "\\begin{align}\n",
    "|\\psi_{t}\\rangle = & \\big(\\cos(\\lambda t/2)-i((\\omega_{1}-\\omega)/\\lambda)\\sin(\\lambda t/2)\\big)\\cos(\\alpha/2)e^{-i\\omega t/2}|z_{+}\\rangle \\\\\n",
    "& + \\big(\\cos(\\lambda t/2)-i((\\omega_{1}+\\omega)/\\lambda)\\sin(\\lambda t/2)\\big)\\sin(\\alpha/2)e^{+i\\omega t/2}|z_{-}\\rangle. \\hspace{2cm} (\\triangle)\n",
    "\\end{align}"
   ]
  },
  {
   "cell_type": "markdown",
   "id": "07b6413d",
   "metadata": {},
   "source": [
    "Pode-se verificar que a probabilidade de transição para o estado \"spin para baixo\" na direção do campo magnético no tempo $t$ é\n",
    "\\begin{align}\n",
    "Pr\\big(\\chi_{+}(0)\\rightarrow \\chi_{-}(t)\\big) = & \\big|\\langle\\chi_{-}(t)|\\psi_{t}\\rangle\\big|^{2} \\\\\n",
    "& = \\big((\\omega/\\lambda)\\sin\\alpha\\sin(\\lambda t/2)\\big)^{2}, \\hspace{2cm} (\\diamond)\n",
    "\\end{align}\n",
    "em que \n",
    "$$\\lambda = \\sqrt{\\omega^{2}+\\omega_{1}^{2}-2\\omega\\omega_{1}\\cos\\alpha} = \\omega_1\\sqrt{(\\omega/\\omega_1)^{2}+1-2(\\omega/\\omega_{1})\\cos\\alpha}.$$\n",
    "A escala de tempo para mudanças do hamiltoniano (tempo externo) é \n",
    "$$T_{e}\\propto \\frac{1}{\\omega}.$$\n",
    "A escala de tempo para mudanças do estado (tempo interno) é \n",
    "$$T_{i}\\propto \\frac{1}{\\omega_{1}}.$$\n",
    "\n",
    "A aproximação adiabática pode ser considerada a grosso modo como \n",
    "$$T_{e}\\gg T_{i}\\ \\therefore\\ \\omega\\ll\\omega_{1}.$$\n",
    "Nesse limite temos que\n",
    "$$\\lambda \\approx \\omega_{1}.$$\n",
    "Assim\n",
    "$$Pr\\big(\\chi_{+}(0)\\rightarrow \\chi_{-}(t)\\big) \\propto (\\omega/\\lambda)^{2} \\propto (\\omega/\\omega_1)^2 \\approx 0.$$\n",
    "Ou seja, neste caso a aproximação adiabática é verificada explicitamente através de um exemplo. Por outro lado, se $\\omega \\gg \\omega_{1}$, a aproximação adiabática não vale e o sistema oscila/pula entre os estados $|\\chi_{+}(t)\\rangle$ e $|\\chi_{-}(t)\\rangle$."
   ]
  },
  {
   "cell_type": "markdown",
   "id": "72114708",
   "metadata": {},
   "source": [
    "---\n",
    "## Exercícios\n",
    "\n",
    "$1.$ Verifique que $|\\dot{E}_n(t)\\rangle^\\dagger = \\langle\\dot{E}_n(t)|$. \n",
    "\n",
    "$2.$ Verifique que o estado evoluído da equação $(\\triangle)$ é solução da equação de Schrödinger, com o hamiltoniano sendo aquele dado no exemplo acima.\n",
    "\n",
    "$3.$ Obtenha a igualdade para a probabilidade de transição na equação $(\\diamond).$\n",
    "\n",
    "$4.$ Considere um sistema quântico de 2 níveis com um hamiltoniano dependente do tempo dado por:\n",
    "$$ H_t = \\frac{\\hbar \\omega}{2} \\begin{bmatrix} \\cos\\theta_t & e^{-i\\phi}\\sin\\theta_t \\\\ e^{i\\phi}\\sin\\theta_t & -\\cos\\theta_t \\end{bmatrix} $$\n",
    "em que $\\omega$ e $\\phi$ são constantes no tempo e  $\\theta_t = \\pi t/T.$ Obtenha os autovelores e autovetores instantâneos do hamiltoniano $H_t$. Escreva explicitamente a expressão para a condição adiabática aplicada a este sistema. Verifique se a aproximação adiabática é satisfeita para este sistema nos casos: $T=10\\text{ s}$, $T = 10^3\\text{ s}$ e $T = 10^6\\text{ s}.$"
   ]
  },
  {
   "cell_type": "markdown",
   "id": "76c61971",
   "metadata": {},
   "source": [
    "---\n",
    "## Referências\n",
    "\n",
    "1. GRIFFITHS, D. J. Introduction to Quantum Mechanics. Prentice Hall, Upper Saddle River: 2005.\n",
    "\n",
    "1. MESSIAH, A. Quantum Mechanics. Dover, Mineola: 1999."
   ]
  }
 ],
 "metadata": {
  "kernelspec": {
   "display_name": "Python 3 (ipykernel)",
   "language": "python",
   "name": "python3"
  },
  "language_info": {
   "codemirror_mode": {
    "name": "ipython",
    "version": 3
   },
   "file_extension": ".py",
   "mimetype": "text/x-python",
   "name": "python",
   "nbconvert_exporter": "python",
   "pygments_lexer": "ipython3",
   "version": "3.11.1"
  }
 },
 "nbformat": 4,
 "nbformat_minor": 5
}
