{
 "cells": [
  {
   "cell_type": "markdown",
   "id": "c8e4d463-4e04-4e80-a2ee-d7b97332b461",
   "metadata": {},
   "source": [
    "## Notas de aula de Mecânica Quântica <br> Autor: Jonas Maziero\n",
    "\n",
    "# Mecânica Quântica não hermitiana"
   ]
  },
  {
   "cell_type": "markdown",
   "id": "a1023c7c-3796-45b6-ba6b-8856b46a73fb",
   "metadata": {},
   "source": [
    "## Matrizes pseudo-hermitianas\n",
    "\n",
    "__Definição.__ Dado um espaço de Hilbert $\\mathcal{H}$, um operador \n",
    "$$A:\\mathcal{H}\\rightarrow\\mathcal{H}$$\n",
    "é dito pseudo-hermitiano se existe um operador linear\n",
    "$$\\eta:\\mathcal{H}\\rightarrow\\mathcal{H}$$\n",
    "que é positivo,\n",
    "$$\\eta>0,$$\n",
    "e tal que\n",
    "$$A^\\dagger = \\eta A\\eta^{-1}.$$\n",
    "\n",
    "O caso particular de operadores hermitianos é obtido com \n",
    "$$\\eta=I$$\n",
    "pois neste caso\n",
    "$$A^\\dagger = I A I^{-1} =A.$$\n",
    "\n",
    "O operador $\\eta$ é chamado de __operador métrico__ (pois define a norma)."
   ]
  },
  {
   "cell_type": "markdown",
   "id": "a3db153e-6609-439d-9054-9089af5f5eab",
   "metadata": {},
   "source": [
    "*** Condições para a existência de $\\eta$? Existe $\\eta$ pra todo $A$? Se não, quais são as condições sobre $A$? ***"
   ]
  },
  {
   "cell_type": "markdown",
   "id": "1225d33f-59bb-461a-bd53-ec939bdd1633",
   "metadata": {},
   "source": [
    "### O $\\eta$-produto interno\n",
    "\n",
    "__Definição.__ Dado um operador positivo semi definido $\\eta$, o $\\eta$-produto interno entre dois vetores quaisquer $|\\psi\\rangle,|\\phi\\rangle$ do espaço de Hilbert $\\mathcal{H}$ é definido por\n",
    "$$\\langle\\psi|\\phi\\rangle_\\eta := \\langle\\psi|\\eta|\\phi\\rangle,$$\n",
    "com $\\langle\\cdot|\\cdot\\rangle$ sendo o produto interno \"padrão\" em $\\mathcal{H}.$\n",
    "\n",
    "#### Propriedades do $\\eta$-produto interno\n",
    "\n",
    "A função produto interno \"padrão\" $\\langle\\cdot|\\cdot\\rangle\\equiv (\\cdot,\\cdot)$ em um espaço de Hilbert $\\mathcal{H}$ satisfaz as propriedades:\n",
    "1. $\\langle\\psi|\\psi\\rangle \\ge 0\\ \\forall |\\psi\\rangle\\in\\mathcal{H}$  com $\\langle\\psi|\\psi\\rangle= 0$ se e somente se $|\\psi\\rangle=|\\oslash\\rangle$, com $|\\oslash\\rangle$ sendo o vetor nulo.\n",
    "2. $\\langle\\psi|\\phi\\rangle = \\langle\\phi|\\psi\\rangle^*$.\n",
    "3. $(\\psi,\\sum_j c_j\\phi_j) = \\sum_j c_j\\langle\\psi|\\phi_j\\rangle$ com $c_j\\in\\mathbb{C}$ e $|\\psi\\rangle,|\\phi_j\\rangle\\in\\mathcal{H}$ para todo $j$."
   ]
  },
  {
   "cell_type": "markdown",
   "id": "77756d14-7513-40cc-9037-d16c11d24aef",
   "metadata": {},
   "source": [
    "A seguir vamos verificar se essas propriedades são satisfeitas pelo $\\eta$-produto interno.\n",
    "1. Se o operador $\\eta$ é um operador linear positivo,\n",
    "$$\\eta> 0,$$\n",
    "teremos (por definição de operador positivo) que\n",
    "$$\\langle\\psi|\\psi\\rangle_\\eta = \\langle\\psi|\\eta|\\psi\\rangle>0\\ \\forall |\\psi\\rangle\\in\\mathcal{H},\\ |\\psi\\rangle\\ne|\\oslash\\rangle.$$\n",
    "\n",
    "Claro, se $|\\psi\\rangle=|\\oslash\\rangle$ teremos que\n",
    "$$\\langle\\psi|\\psi\\rangle_\\eta = \\langle\\oslash|\\eta|\\oslash\\rangle = \\langle\\oslash|\\oslash\\rangle = 0.$$\n",
    "\n",
    "Vale observar que se o operador $\\eta$ fosse positivo semi-definido, como se $|\\psi\\rangle=|e_0\\rangle$ for autovetor de $\\eta$ com autovalor nulo, $\\eta|e_0\\rangle=0|e_0\\rangle$, teríamos que \n",
    "$$\\langle e_0|e_0\\rangle_\\eta = \\langle e_0|\\eta|e_0\\rangle=0.$$\n",
    "Vemos assim que a norma nula $||\\psi||_\\eta=0$ não seria obtida somente para $|\\psi\\rangle=|\\oslash\\rangle.$ Isso implicaria que autovetores de $\\eta$ (que é um observável) correspondentes a autovalores nulos (|e_0\\rangle) não seriam estados físicamente aceitáveis."
   ]
  },
  {
   "cell_type": "markdown",
   "id": "43e5da7b-c76d-4a4f-b3aa-10dfb32a4bef",
   "metadata": {},
   "source": [
    "2. Usando que positividade implica hermiticidade,\n",
    "$$\\eta> 0\\ \\Rightarrow\\ \\eta^\\dagger = \\eta,$$\n",
    "a existência do adjunto (para todo operador linear $A:\\mathcal{H}\\rightarrow\\mathcal{H}$ existe o operador adjunto $A^\\dagger:\\mathcal{H}\\rightarrow\\mathcal{H}$ tal que $(|\\psi\\rangle,A|\\phi\\rangle)=(A^\\dagger|\\psi\\rangle,|\\phi\\rangle)\\ \\forall|\\psi\\rangle,|\\phi\\rangle\\in\\mathcal{H}$) e as propriedades do produto interno padrão, teremos que\n",
    "\\begin{align}\n",
    "\\langle\\psi|\\phi\\rangle_\\eta & = \\langle\\psi|\\eta|\\phi\\rangle = (|\\psi\\rangle,\\eta|\\phi\\rangle) \\\\\n",
    "& = (\\eta^\\dagger|\\psi\\rangle,|\\phi\\rangle) = (\\eta|\\psi\\rangle,|\\phi\\rangle) \\\\\n",
    "& = (|\\phi\\rangle,\\eta|\\psi\\rangle)^* = \\langle\\phi|\\eta|\\psi\\rangle^* \\\\\n",
    "& = \\langle\\phi|\\psi\\rangle_\\eta^*.\n",
    "\\end{align}"
   ]
  },
  {
   "cell_type": "markdown",
   "id": "da1cf24b-3bf3-4d86-8a6e-a9169d126f10",
   "metadata": {},
   "source": [
    "3. Utilizando a linearidade de $\\eta$ ($\\eta|\\sum_j c_j|\\phi_j\\rangle = \\sum_j c_j\\eta|\\phi_j\\rangle$ para $c_j\\in\\mathbb{C}$ e $|\\phi_j\\rangle\\in\\mathcal{H}$) vem que\n",
    "\\begin{align}\n",
    "(|\\psi\\rangle,\\sum_j c_j|\\phi_j\\rangle)_\\eta & = (|\\psi\\rangle,\\eta\\sum_j c_j|\\phi_j\\rangle) \\\\\n",
    "& = (|\\psi\\rangle,\\sum_j c_j\\eta|\\phi_j\\rangle) \\\\\n",
    "& = \\sum_j c_j(|\\psi\\rangle,\\eta|\\phi_j\\rangle) \\\\\n",
    "& = \\sum_j c_j(|\\psi\\rangle,|\\phi_j\\rangle)_\\eta \\\\\n",
    "& = \\sum_j c_j\\langle\\psi|\\phi_j\\rangle_\\eta.\n",
    "\\end{align}"
   ]
  },
  {
   "cell_type": "markdown",
   "id": "465cf3ba-abd8-4de6-8f8a-27fbde63a187",
   "metadata": {},
   "source": [
    "### Exemplos de matrizes $\\eta$\n",
    "\n",
    "Um __1º exemplo__ de matriz é a matriz identidade\n",
    "$$\\eta = I.$$\n",
    "Neste caso temos que\n",
    "$$\\langle\\psi|\\phi\\rangle_\\eta = \\langle\\psi|\\eta|\\phi\\rangle = \\langle\\psi|I|\\phi\\rangle = \\langle\\psi|\\phi\\rangle.$$\n",
    "Ou seja, o produto interno não muda."
   ]
  },
  {
   "cell_type": "markdown",
   "id": "3f4931ec-8ee5-454d-accc-c06e1b2c8749",
   "metadata": {},
   "source": [
    "Um __2º exemplo__ é uma matriz diagonal\n",
    "$$\\eta = diag(\\eta_1,\\eta_2,\\cdots,\\eta_d),$$\n",
    "com \n",
    "$$d = \\dim(\\mathcal{H})$$\n",
    "e \n",
    "$$\\{\\eta_j>0\\}_{j=1}^d.$$\n",
    "Nesse caso teremos que\n",
    "\\begin{align}\n",
    "\\langle\\psi|\\phi\\rangle_\\eta & = \\begin{bmatrix}\\psi_1^* & \\psi_2^* & \\cdots & \\psi_d^*\\end{bmatrix}\\begin{bmatrix} \\eta_1 & 0 & \\cdots & 0 \\\\ 0 & \\eta_2 & \\cdots & 0 \\\\ \\vdots & \\vdots & \\ddots & \\vdots \\\\ 0 & 0 & \\cdots & \\eta_d\\end{bmatrix}\\begin{bmatrix}\\phi_1 \\\\ \\phi_2 \\\\ \\cdots \\\\ \\phi_d \\end{bmatrix} \\\\\n",
    "& = \\psi_1^* \\eta_1 \\phi_1 + \\psi_2^* \\eta_2 \\phi_2 + \\cdots + \\psi_d^* \\eta_d \\phi_d \\\\\n",
    "& = \\sum_{j=1}^d \\eta_j \\psi_j^* \\phi_j.\n",
    "\\end{align}\n",
    "Vemos que nesse caso cada termo $\\psi_j^* \\phi_j$ do produto interno padrão é reescalado por $\\eta_j$."
   ]
  },
  {
   "cell_type": "markdown",
   "id": "d960d300-6fa7-4b97-ac8f-1893e83d0c33",
   "metadata": {},
   "source": [
    "Um __3º exemplo__ seria a seguinte matriz não diagonal\n",
    "$$\\eta = \\begin{bmatrix} 1&\\epsilon \\\\ \\epsilon & 1 \\end{bmatrix},$$\n",
    "que tem autovalores iguais a $1\\pm\\epsilon$. Para que $\\eta>0$ devemos ter portanto que\n",
    "$$\\epsilon\\in(-1,1).$$\n",
    "Para esse exemplo, vem que\n",
    "\\begin{align}\n",
    "\\langle\\psi|\\phi\\rangle_\\eta & = \\begin{bmatrix} \\psi_1^* & \\psi_2^* \\end{bmatrix}\\begin{bmatrix} 1 & \\epsilon \\\\ \\epsilon & 1 \\end{bmatrix}\\begin{bmatrix} \\phi_1 \\\\ \\phi_2 \\end{bmatrix} \\\\\n",
    "& = \\begin{bmatrix} \\psi_1^* & \\psi_2^* \\end{bmatrix}\\begin{bmatrix} \\phi_1+\\epsilon\\phi_2 \\\\ \\epsilon\\phi_1+\\phi_2 \\end{bmatrix} \\\\\n",
    "& = \\psi_1^* \\phi_1 + \\psi_2^* \\phi_2 + \\epsilon(\\psi_1^* \\phi_2 + \\psi_2^* \\phi_1) \\\\\n",
    "& = \\langle\\psi|\\phi\\rangle + \\epsilon(\\psi_1^* \\phi_2 + \\psi_2^* \\phi_1).\n",
    "\\end{align}\n",
    "Ou seja, essa $\\eta$ adiciona termos cruzados para o produto interno."
   ]
  },
  {
   "cell_type": "code",
   "execution_count": 141,
   "id": "93d3524d-9b06-46f0-a7a6-e4a66342b56a",
   "metadata": {},
   "outputs": [
    {
     "data": {
      "text/latex": [
       "$\\displaystyle \\left[\\begin{matrix}1 & \\epsilon\\\\\\epsilon & 1\\end{matrix}\\right]$"
      ],
      "text/plain": [
       "Matrix([\n",
       "[      1, epsilon],\n",
       "[epsilon,       1]])"
      ]
     },
     "execution_count": 141,
     "metadata": {},
     "output_type": "execute_result"
    }
   ],
   "source": [
    "import sympy as sp\n",
    "eps = sp.symbols('epsilon')\n",
    "eta = sp.Matrix([[1,eps],[eps,1]]); eta"
   ]
  },
  {
   "cell_type": "code",
   "execution_count": 150,
   "id": "bd4befa3-69c7-4cbd-bc21-b0698c1751b7",
   "metadata": {},
   "outputs": [
    {
     "data": {
      "image/png": "[encoded data removed]",
      "text/latex": [
       "$\\displaystyle \\left\\{ 1 - \\epsilon : 1, \\  \\epsilon + 1 : 1\\right\\}$"
      ],
      "text/plain": [
       "{1 - ε: 1, ε + 1: 1}"
      ]
     },
     "execution_count": 150,
     "metadata": {},
     "output_type": "execute_result"
    }
   ],
   "source": [
    "sp.init_printing(use_unicode=True)\n",
    "eta.eigenvals()"
   ]
  },
  {
   "cell_type": "markdown",
   "id": "97c29566-1839-4dad-b498-6fe1b9d7616c",
   "metadata": {},
   "source": [
    "### Teorema\n",
    "Se o $\\eta$-produto interno $\\langle a|\\eta|a\\rangle$ é não nulo, então os autovalores $a$ de um operador pseudo-hermitiano $A$ são reais.\n",
    "\n",
    "#### Prova\n",
    "Consideremos a equação de autovalores\n",
    "$$A|a\\rangle = a|a\\rangle. \\hspace{3cm} (\\star)$$\n",
    "\n",
    "Tomando o adjunto dessa equação vem que\n",
    "$$(A|a\\rangle)^\\dagger = \\langle a|A^\\dagger = (a|a\\rangle)^\\dagger = a^*\\langle a|.$$\n",
    "Se o operador $A$ é pseudo-hermitiano, podemos escrever\n",
    "$$\\langle a|A^\\dagger = \\langle a|\\eta A\\eta^{-1} = a^*\\langle a|.$$\n",
    "Multiplicando essa última equação pela direita por $\\eta$ obtemos\n",
    "$$\\langle a|\\eta A = a^*\\langle a|\\eta.$$"
   ]
  },
  {
   "cell_type": "markdown",
   "id": "6c8ddaac-22a7-45b1-a377-e014423e6247",
   "metadata": {},
   "source": [
    "Vemos assim que o vetor\n",
    "$$|b\\rangle = \\eta|a\\rangle$$\n",
    "é autovetor pela esquerda de $A$ com autovalor $a^*$:\n",
    "$$\\langle b|A=a^*\\langle b|. \\hspace{3cm} (\\star\\star)$$\n",
    "\n",
    "Tomando o produto interno de $|b\\rangle$ com a eq. ($\\star$), tomando o produto interno da eq. ($\\star\\star$) com $|a\\rangle$ e subtraindo os resultados, teremos que\n",
    "\\begin{align}\n",
    "& \\langle b|A|a\\rangle - \\langle b|A|a\\rangle = 0 \\\\\n",
    "& a\\langle b|a\\rangle - a^*\\langle b|a\\rangle = (a-a^*)\\langle b|a\\rangle = 0.\n",
    "\\end{align}\n",
    "Se o $\\eta$-produto interno for não nulo, i.e.,\n",
    "$$\\langle a|\\eta|a\\rangle = \\langle b|a\\rangle \\ne 0,$$\n",
    "então devemos ter\n",
    "$$a-a^*=0\\ \\therefore\\ a\\in\\mathbb{R},$$\n",
    "o que completa a prova do teorema. $\\square$"
   ]
  },
  {
   "cell_type": "markdown",
   "id": "9d30bdb8-3781-4afd-b559-923ec0ba66f0",
   "metadata": {},
   "source": [
    "Vale observar que a não nulidade do $\\eta$-produto interno,\n",
    "$$\\langle a|\\eta|a\\rangle\\ne 0,$$\n",
    "nos permite normalizar os autovetores pela direita $|a\\rangle$ de $A$. \n",
    "\n",
    "Mais especificamente, definindo a norma\n",
    "$$||\\psi||_\\eta = \\sqrt{\\langle \\psi|\\eta|\\psi\\rangle},$$\n",
    "podemos normalizar qualquer vetor $|\\psi\\rangle\\in\\mathcal{H}$ para obter um versor\n",
    "$$|\\hat{\\psi}\\rangle = \\frac{|\\psi\\rangle}{||\\psi||_\\eta}$$\n",
    "tal que\n",
    "$$||\\hat{\\psi}||_\\eta=1.$$"
   ]
  },
  {
   "cell_type": "markdown",
   "id": "602ac905-9c93-4e71-b8ed-588e418ef835",
   "metadata": {},
   "source": [
    "### Teorema\n",
    "Autovetores pela direita de um operador pseudo-hermitiano correspondentes a autovalores diferentes são ortogonais sob o $\\eta$-produto interno.\n",
    "\n",
    "#### Prova\n",
    "Consideremos as equações de autovalor para um operador pseudo-hermitiano $A$:\n",
    "\\begin{align}\n",
    "& A|a\\rangle = a|a\\rangle, \\hspace{2cm} (*) \\\\\n",
    "& A|a'\\rangle = a'|a'\\rangle, \\hspace{2cm} (**)\n",
    "\\end{align}\n",
    "com $a\\ne a'.$"
   ]
  },
  {
   "cell_type": "markdown",
   "id": "f260a380-f5f7-478d-999c-e00bcb64bceb",
   "metadata": {},
   "source": [
    "Tomando o $\\eta$-produto interno de $|a'\\rangle$ com a equação ($*$), obtemos:\n",
    "$$\\langle a'|\\eta A|a\\rangle = \\langle a'|\\eta a|a\\rangle = a\\langle a'|\\eta|a\\rangle. \\hspace{2cm} (\\diamond)$$\n",
    "Tomamos o adjunto da equação ($**$),\n",
    "$$(A|a'\\rangle)^\\dagger = \\langle a'|A^\\dagger = a'^{*}\\langle a'|,$$\n",
    "aplicamos nessa última equação o fato que $A$ é pseudo-hermitiano,\n",
    "$$\\langle a'|\\eta A\\eta^{-1} = a'^{*}\\langle a'|,$$\n",
    "multiplicamos essa última equação pela direita por $\\eta$,\n",
    "$$\\langle a'|\\eta A\\eta^{-1}\\eta = \\langle a'|\\eta A = a'^{*}\\langle a'|\\eta,$$\n",
    "e tomamos o produto interno dessa última equação por $|a\\rangle$ para obter:\n",
    "$$\\langle a'|\\eta A|a\\rangle = a'^{*}\\langle a'|\\eta|a\\rangle. \\hspace{2cm} (\\diamond\\diamond)$$"
   ]
  },
  {
   "cell_type": "markdown",
   "id": "acace180-c0a6-478f-aaef-55ec5c58ee7e",
   "metadata": {},
   "source": [
    "Subtraindo as equações $(\\diamond)$ e $(\\diamond\\diamond)$ vem que\n",
    "\\begin{align}\n",
    "& \\langle a'|\\eta A|a\\rangle - \\langle a'|\\eta A|a\\rangle = a\\langle a'|\\eta|a\\rangle - a'^{*}\\langle a'|\\eta|a\\rangle = 0 \\\\\n",
    "& \\therefore\\ (a- a'^{*})\\langle a'|\\eta|a\\rangle = 0 \\\\\n",
    "& \\therefore\\ \\langle a'|\\eta|a\\rangle = 0,\n",
    "\\end{align}\n",
    "pois por suposição $a\\ne a'.$ Com isso completamos a prova do teorema. $\\square$"
   ]
  },
  {
   "cell_type": "markdown",
   "id": "e2c6464e-1062-4f3a-a5f8-185867e198f1",
   "metadata": {},
   "source": [
    "### Representação de Dyson\n",
    "\n",
    "Considere $\\gamma:\\mathcal{H}\\rightarrow\\mathcal{H}$ um operador linear inversível. Podemos escrever\n",
    "$$\\eta = \\gamma^\\dagger \\gamma>0.$$\n",
    "\n",
    "A representação de Dyson para um operador linear pseudo-hermitiano $A$ ($A^\\dagger = \\eta A\\eta^{-1}$):\n",
    "$$A^d := \\gamma A\\gamma^{-1}.$$\n",
    "\n",
    "Podemos verificar que esse operador é Hermitiano\n",
    "\\begin{align}\n",
    "(A^d)^\\dagger & = (\\gamma A\\gamma^{-1})^\\dagger \\\\\n",
    "& = (\\gamma^{-1})^\\dagger A^\\dagger \\gamma^\\dagger \\\\\n",
    "& = (\\gamma^{-1})^\\dagger \\eta A \\eta^{-1} \\gamma^\\dagger \\\\\n",
    "& = (\\gamma^{-1})^\\dagger \\gamma^\\dagger \\gamma A (\\gamma^\\dagger \\gamma)^{-1} \\gamma^\\dagger \\\\\n",
    "& = (\\gamma\\gamma^{-1})^\\dagger \\gamma A \\gamma^{-1}(\\gamma^\\dagger)^{-1} \\gamma^\\dagger \\\\\n",
    "& = I \\gamma A \\gamma^{-1}I \\\\\n",
    "& = \\gamma A \\gamma^{-1} \\\\\n",
    "& = A^d.\n",
    "\\end{align}\n",
    "Acima usamos a propriedade da inversa, $(MN)^{-1}=N^{-1}M^{-1}$, e da adjunta, $(MN)^\\dagger=N^\\dagger M^\\dagger$. Ou seja, os operadores na representação de Dyson, obtidos de operadores pseudo-hermitianos, são hermitianos."
   ]
  },
  {
   "cell_type": "markdown",
   "id": "6c6660a0-1d23-4ff8-be2b-4619c7043bb3",
   "metadata": {},
   "source": [
    "Seja $H_t$ o hamiltoniano pseudo-hermitiano de um sistema quântico, i.e.,\n",
    "$$H_t^\\dagger = \\eta H_t \\eta^{-1}$$\n",
    "com $\\eta>0.$ Postulamos que neste caso, da MQ pseudo-hermitiano, também o estado quântico evolui seguindo a equação de Schrödinger (EqS):\n",
    "$$i\\hbar\\partial_t|\\Psi_t\\rangle = H_t|\\Psi_t\\rangle.$$\n",
    "\n",
    "O hamiltoniano na representação de Dyson fica escrito como\n",
    "$$H_t^d = \\gamma H_t\\gamma^{-1}\\ \\therefore\\ H_t = \\gamma^{-1}H_t^d\\gamma.$$\n",
    "Substituindo na EqS vem que\n",
    "\\begin{align}\n",
    "& i\\hbar\\partial_t|\\Psi_t\\rangle = H_t|\\Psi_t\\rangle = \\gamma^{-1}h_t^d\\gamma|\\Psi_t\\rangle \\\\\n",
    "& \\therefore\\ \\gamma i\\hbar\\partial_t|\\Psi_t\\rangle = i\\hbar\\partial_t(\\gamma|\\Psi_t\\rangle) = \\gamma\\gamma^{-1}H_t^d\\gamma|\\Psi_t\\rangle = H_t^d\\gamma|\\Psi_t\\rangle \\\\\n",
    "& \\therefore\\ i\\hbar\\partial_t|\\Psi_t^d\\rangle) = H_t^d|\\Psi_t^d\\rangle,\n",
    "\\end{align}\n",
    "em que definimos o estado quântico na representação de Dyson como\n",
    "$$|\\Psi_t^d\\rangle := \\gamma|\\Psi_t\\rangle.$$\n",
    "Ou seja, o estado na representação de Dyson, $|\\Psi_t^d\\rangle$, evolui sob o hamiltoniano hermitiano $H_t^d$."
   ]
  },
  {
   "cell_type": "code",
   "execution_count": null,
   "id": "9ecac976-5d91-4134-ae85-72dfb0438f6c",
   "metadata": {},
   "outputs": [],
   "source": []
  }
 ],
 "metadata": {
  "kernelspec": {
   "display_name": "Python 3 (ipykernel)",
   "language": "python",
   "name": "python3"
  },
  "language_info": {
   "codemirror_mode": {
    "name": "ipython",
    "version": 3
   },
   "file_extension": ".py",
   "mimetype": "text/x-python",
   "name": "python",
   "nbconvert_exporter": "python",
   "pygments_lexer": "ipython3",
   "version": "3.12.2"
  }
 },
 "nbformat": 4,
 "nbformat_minor": 5
}
