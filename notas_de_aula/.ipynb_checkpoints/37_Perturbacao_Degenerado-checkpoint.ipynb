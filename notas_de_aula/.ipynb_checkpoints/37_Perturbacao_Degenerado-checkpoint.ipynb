{
 "cells": [
  {
   "cell_type": "markdown",
   "metadata": {},
   "source": [
    "### Notas de aula de Mecânica Quântica <br> Autor: Jonas Maziero"
   ]
  },
  {
   "cell_type": "markdown",
   "metadata": {},
   "source": [
    "# Teoria de perturbação independente do tempo: <br> Espectros discretos degenerados\n",
    "\n",
    "O objetivo da teoria de perturbação (TP) é construir soluções aproximadas (estáticas ou dinâmicas) a partir das soluções analíticas obtidas em casos particulares, que geralmente estão relacionados com intensidades de interação maiores em relação às correções que queremos incluir. Já vimos o formalismo da TP independente do tempo (TPIT) para espectros discretos não degenerados. Na sequência veremos a TPIT quando há degenerescência da energia.\n",
    "\n",
    "\n",
    "Consideremos o problema de encontrar os autovalores e autovetores a partir da equação:\n",
    "\\begin{equation}\n",
    "H|\\psi_{n}\\rangle = E_{n}|\\psi_{n}\\rangle\n",
    "\\end{equation}\n",
    "com \n",
    "\\begin{equation}\n",
    "H=H_{0}+H_{1}\n",
    "\\end{equation}\n",
    "e\n",
    "\\begin{equation}\n",
    "H_{0}|\\psi_{n,k}^{(0)}\\rangle = E_{n}^{(0)}|\\psi_{n,k}^{(0)}\\rangle\n",
    "\\end{equation}\n",
    "para \n",
    "$$k=1,\\cdots,d_{n}.$$\n",
    "Ou seja, para um dado $n$, exitem $d_{n}$ autovetores $|\\psi_{n,k}^{(0)}\\rangle$ que correspondem a um mesmo autovalor $E_{n}^{(0)}$. Novamente assumimos que os autovalores e autovetores de $H_0$ são conhecidos."
   ]
  },
  {
   "cell_type": "markdown",
   "metadata": {},
   "source": [
    "O desenvolvimento aqui é similar ao caso não degenerado. Consideremos um autovetor qualquer correspondente a $E_{n}^{(0)}$:\n",
    "\\begin{equation}\n",
    "|\\psi_{n}^{(0)}\\rangle = \\sum_{k=1}^{d_{n}}c_{n,k}|\\psi_{n,k}^{(0)}\\rangle.\n",
    "\\end{equation}\n",
    "Note que este autovetor pode ser escrito como a combinação linear de uma base ortonormal qualquer do subespaço degenerado correspondente. Começamos escrevendo\n",
    "\\begin{equation}\n",
    "|\\psi_{n}\\rangle = N_{n}\\left(|\\psi_{n}^{(0)}\\rangle + |\\chi_{n}\\rangle \\right) = N_{n}\\left(\\sum_{k=1}^{d_{n}}c_{n,k}|\\psi_{n,k}^{(0)}\\rangle + |\\chi_{n}\\rangle \\right)\n",
    "\\end{equation}\n",
    "com \n",
    "\\begin{equation}\n",
    "\\langle\\psi_{n,k}^{(0)}|\\chi_{n}\\rangle=0 \\text{ }\\forall k.\n",
    "\\end{equation}\n",
    "\n",
    "Novamente consideramos\n",
    "\\begin{equation}\n",
    "H\\rightarrow H_{0}+\\xi H_{1},\n",
    "\\end{equation}\n",
    "com $\\xi\\in[0,1]$. Substituindo na equação característica geral, vem que\n",
    "\\begin{align}\n",
    "&  E_{n}|\\psi_{n}\\rangle = E_{n}N_{n}\\left(\\sum_{k=1}^{d_{n}}c_{n,k}|\\psi_{n,k}^{(0)}\\rangle + |\\chi_{n}\\rangle \\right) \\\\\n",
    "& = H|\\psi_{n}\\rangle = (H_{0}+\\xi H_{1})N_{n}\\left(\\sum_{k=1}^{d_{n}}c_{n,k}|\\psi_{n,k}^{(0)}\\rangle + |\\chi_{n}\\rangle \\right)  \\\\\n",
    "& = N_{n}\\left(E_{n}^{(0)}\\sum_{k=1}^{d_{n}}c_{n,k}|\\psi_{n,k}^{(0)}\\rangle + H_{0}|\\chi_{n}\\rangle + \\xi\\sum_{k=1}^{d_{n}}c_{n,k}H_{1}|\\psi_{n,k}^{(0)}\\rangle + \\xi H_{1}|\\chi_{n}\\rangle \\right).\n",
    "\\end{align}"
   ]
  },
  {
   "cell_type": "markdown",
   "metadata": {},
   "source": [
    "Dividindo esta equação por $N_{n}$ e a rearranjando, obtemos\n",
    "\\begin{equation}\n",
    "(E_{n}-E_{n}^{(0)})\\sum_{k=1}^{d_{n}}c_{n,k}|\\psi_{n,k}^{(0)}\\rangle = \\xi \\sum_{k=1}^{d_{n}}c_{n,k}H_{1}|\\psi_{n,k}^{(0)}\\rangle + (H_{0}+\\xi H_{1}-E_{n})|\\chi_{n}\\rangle. \\hspace{4cm}(\\star)\n",
    "\\end{equation}\n",
    "\n",
    "Tomando o produto interno de $|\\psi_{n,l}^{(0)}\\rangle$ com a eq. ($\\star$), vem que\n",
    "\\begin{align}\n",
    "& (E_{n}-E_{n}^{(0)})\\sum_{k=1}^{d_{n}}c_{n,k}\\langle\\psi_{n,l}^{(0)}|\\psi_{n,k}^{(0)}\\rangle = \\xi \\sum_{k=1}^{d_{n}}c_{n,k}\\langle\\psi_{n,l}^{(0)}|H_{1}|\\psi_{n,k}^{(0)}\\rangle + \\langle\\psi_{n,l}^{(0)}|H_{0}|\\chi_{n}\\rangle+\\xi \\langle\\psi_{n,l}^{(0)}|H_{1}|\\chi_{n}\\rangle-E_{n}\\langle\\psi_{n,l}^{(0)}|\\chi_{n}\\rangle \\\\\n",
    "& \\therefore (E_{n}-E_{n}^{(0)})\\sum_{k=1}^{d_{n}}c_{n,k}\\delta_{lk} = \\xi \\sum_{k=1}^{d_{n}}c_{n,k}\\langle\\psi_{n,l}^{(0)}|H_{1}|\\psi_{n,k}^{(0)}\\rangle + E_{n}^{(0)}\\langle\\psi_{n,l}^{(0)}|\\chi_{n}\\rangle + \\xi \\langle\\psi_{n,l}^{(0)}|H_{1}|\\chi_{n}\\rangle -E_{n}0 \\\\\n",
    "& \\therefore (E_{n}-E_{n}^{(0)})c_{n,l} = \\xi \\sum_{k=1}^{d_{n}}c_{n,k}\\langle\\psi_{n,l}^{(0)}|H_{1}|\\psi_{n,k}^{(0)}\\rangle + 0 + \\xi\\langle\\psi_{n,l}^{(0)}|H_{1}|\\chi_{n}\\rangle. \\hspace{6cm} (*)\n",
    "\\end{align}"
   ]
  },
  {
   "cell_type": "markdown",
   "metadata": {},
   "source": [
    "Aqui também escreveremos $|\\chi_{n}\\rangle$ em termos de uma base de autovetores de $H_{0}$:\n",
    "\\begin{equation}\n",
    "|\\chi_{n}\\rangle = \\sum_{m}\\sum_{j=1}^{d_{m}}\\langle\\psi_{m,j}^{(0)}|\\chi_{n}\\rangle|\\psi_{m,j}^{(0)}\\rangle \\equiv \\sum_{m\\ne n}\\sum_{j=1}^{d_{m}}\\langle\\psi_{m,j}^{(0)}|\\chi_{n}\\rangle|\\psi_{m,j}^{(0)}\\rangle.\n",
    "\\end{equation}\n",
    "Para obter os coeficientes tomamos o produto interno de $|\\psi_{m,j}^{(0)}\\rangle$ com a eq. $(\\star)$ para $m\\ne n$:\n",
    "\\begin{align}\n",
    "& (E_{n}-E_{n}^{(0)})\\sum_{k=1}^{d_{n}}c_{n,k}\\langle\\psi_{m,j}^{(0)}|\\psi_{n,k}^{(0)}\\rangle = \\xi \\sum_{k=1}^{d_{n}}c_{n,k}\\langle\\psi_{m,j}^{(0)}|H_{1}|\\psi_{n,k}^{(0)}\\rangle + \\langle\\psi_{m,j}^{(0)}|H_{0}|\\chi_{n}\\rangle +\\xi \\langle\\psi_{m,j}^{(0)}|H_{1}|\\chi_{n}\\rangle -E_{n}\\langle\\psi_{m,j}^{(0)}|\\chi_{n}\\rangle \\\\\n",
    "& \\therefore 0 = \\xi \\sum_{k=1}^{d_{n}}c_{n,k}\\langle\\psi_{m,j}^{(0)}|H_{1}|\\psi_{n,k}^{(0)}\\rangle + E_{m}^{(0)}\\langle\\psi_{m,j}^{(0)}|\\chi_{n}\\rangle +\\xi \\langle\\psi_{m,j}^{(0)}|H_{1}|\\chi_{n}\\rangle -E_{n}\\langle\\psi_{m,j}^{(0)}|\\chi_{n}\\rangle.\n",
    "\\end{align}\n",
    "Teremos assim que\n",
    "\\begin{equation}\n",
    "\\langle\\psi_{m,j}^{(0)}|\\chi_{n}\\rangle = \\xi\\sum_{k=1}^{d_{n}}\\frac{c_{n,k}\\langle\\psi_{m,j}^{(0)}|H_{1}|\\psi_{n,k}^{(0)}\\rangle}{E_{n}-E_{m}^{(0)}} + \\xi\\frac{\\langle\\psi_{m,j}^{(0)}|H_{1}|\\chi_{n}\\rangle}{E_{n}-E_{m}^{(0)}}.\n",
    "\\end{equation}\n",
    "Com isso vem que\n",
    "\\begin{equation}\n",
    "|\\chi_{n}\\rangle = \\xi\\sum_{m\\ne n}\\sum_{j=1}^{d_{m}}\\sum_{k=1}^{d_{n}}\\frac{c_{n,k}\\langle\\psi_{m,j}^{(0)}|H_{1}|\\psi_{n,k}^{(0)}\\rangle}{E_{n}-E_{m}^{(0)}}|\\psi_{m,j}^{(0)}\\rangle + \\xi\\sum_{m\\ne n}\\sum_{j=1}^{d_{m}}\\frac{\\langle\\psi_{m,j}^{(0)}|H_{1}|\\chi_{n}\\rangle}{E_{n}-E_{m}^{(0)}}|\\psi_{m,j}^{(0)}\\rangle.\n",
    "\\end{equation}"
   ]
  },
  {
   "cell_type": "markdown",
   "metadata": {},
   "source": [
    "Iterando, obteremos\n",
    "\\begin{align}\n",
    "|\\chi_{n}\\rangle & = \\xi\\sum_{m\\ne n}\\sum_{j=1}^{d_{m}}\\sum_{k=1}^{d_{n}}\\frac{c_{n,k}\\langle\\psi_{m,j}^{(0)}|H_{1}|\\psi_{n,k}^{(0)}\\rangle}{E_{n}-E_{m}^{(0)}}|\\psi_{m,j}^{(0)}\\rangle \\\\\n",
    "& \\hspace{0.5cm} + \\xi^{2}\\sum_{m\\ne n}\\sum_{j=1}^{d_{m}}\\sum_{m'\\ne n}\\sum_{j'=1}^{d_{m}}\\sum_{k=1}^{d_{n}}\\frac{c_{n,k}\\langle\\psi_{m,j}^{(0)}|H_{1}|\\psi_{m',j'}^{(0)}\\rangle\\langle\\psi_{m',j'}^{(0)}|H_{1}|\\psi_{n,k}^{(0)}\\rangle}{(E_{n}-E_{m}^{(0)})(E_{n}-E_{m'}^{(0)})}|\\psi_{m,j}^{(0)}\\rangle \\\\\n",
    "& \\hspace{0.5cm} + \\cdots.\n",
    "\\end{align}\n",
    "\n",
    "Substituindo na equação para a energia, a eq. ($*$), e usando a expansão de Rayleigh-Schrödinger e a série para $1/(E_{n}-E_{m}^{(0)})$, obteremos\n",
    "\\begin{align}\n",
    "( & E_{n}-E_{n}^{(0)})c_{n,l} = (\\xi^{0}E_{n}^{(0)} + \\xi^{1}E_{n}^{(1)} + \\xi^{2}E_{n}^{(2)} + \\xi^{3}E_{n}^{(3)} + \\cdots - E_{n}^{(0)})c_{n,l} \\\\\n",
    "& = (\\xi^{1}E_{n}^{(1)} + \\xi^{2}E_{n}^{(2)} + \\xi^{3}E_{n}^{(3)} + \\cdots)c_{n,l} \\\\\n",
    "& = \\xi \\sum_{k=1}^{d_{n}}\\langle\\psi_{n,l}^{(0)}|H_{1}|\\psi_{n,k}^{(0)}\\rangle c_{n,k} + \\xi^{2}\\sum_{k=1}^{d_{n}}\\sum_{m\\ne n}\\sum_{j=1}^{d_{m}}\\frac{\\langle\\psi_{n,l}^{(0)}|H_{1}|\\psi_{m,j}^{(0)}\\rangle\\langle\\psi_{m,j}^{(0)}|H_{1}|\\psi_{n,k}^{(0)}\\rangle}{E_{n}-E_{m}^{(0)}}c_{n,k} \\\\\n",
    " & \\hspace{0.5cm} + \\xi^{3}\\sum_{k=1}^{d_{n}}\\sum_{m\\ne n}\\sum_{j=1}^{d_{m}}\\sum_{m'\\ne n}\\sum_{j'=1}^{d_{m}}\\frac{\\langle\\psi_{n,l}^{(0)}|H_{1}|\\psi_{m,j}^{(0)}\\rangle\\langle\\psi_{m,j}^{(0)}|H_{1}|\\psi_{m',j'}\\rangle\\langle\\psi_{m',j'}^{(0)}|H_{1}|\\psi_{n,k}^{(0)}\\rangle}{(E_{n}-E_{m}^{(0)})(E_{n}-E_{m'}^{(0)})}c_{n,k} \\\\\n",
    " & \\hspace{0.5cm} + \\cdots. \\hspace{15cm} (\\diamond)\n",
    "\\end{align}"
   ]
  },
  {
   "cell_type": "markdown",
   "metadata": {},
   "source": [
    "Como as potências de $\\xi$ são linearmente independentes, a correção perturbativa de primeira ordem é obtida a partir das equações:\n",
    "\\begin{equation}\n",
    "E_{n}^{(1)}c_{n,l} = \\sum_{k=1}^{d_{n}}\\langle\\psi_{n,l}^{(0)}|H_{1}|\\psi_{n,k}^{(0)}\\rangle c_{n,k},\n",
    "\\end{equation}\n",
    "com \n",
    "$$l=1,\\cdots,d_{n}.$$\n",
    "Essas $d_n$ equações podem ser escritas como uma única equação matricial:\n",
    "\\begin{equation}\n",
    "E_{n}^{(1)}\\begin{bmatrix} c_{n,1} \\\\ c_{n,2} \\\\ \\vdots \\\\ c_{n,d_{n}} \\end{bmatrix} =\n",
    "\\begin{bmatrix} \n",
    "H_{1}^{n(1,1)} & H_{1}^{n(1,2)} & \\cdots & H_{1}^{n(1,d_{n})} \\\\\n",
    "H_{1}^{n(2,1)} & H_{1}^{n(2,2)} & \\cdots & H_{1}^{n(2,d_{n})} \\\\\n",
    "\\vdots & \\vdots & \\ddots & \\vdots \\\\\n",
    "H_{1}^{n(d_{n},1)} & H_{1}^{n(d_{n},2)} & \\cdots & H_{1}^{n(d_{n},d_{n})}\n",
    "\\end{bmatrix} \n",
    "\\begin{bmatrix} c_{n,1} \\\\ c_{n,2} \\\\ \\vdots \\\\ c_{n,d_{n}} \\end{bmatrix},\n",
    "\\end{equation}\n",
    "com\n",
    "\\begin{equation}\n",
    "H_{1}^{n(j,k)}=\\langle\\psi_{n,j}^{(0)}|H_{1}|\\psi_{n,k}^{(0)}\\rangle.\n",
    "\\end{equation}\n",
    "Note que os autovalores independem da base $\\{|\\psi_{n,j}^{(0)}\\rangle\\}_{j=1}^{d_{n}}$ escolhida. Vale observar também que os autovetores dessa equação nos fornecem os coeficientes $c_{n,k}$, que precisaremos se quisermos calcular as correções pertubativas para os autoestados."
   ]
  },
  {
   "cell_type": "markdown",
   "metadata": {},
   "source": [
    "correção para os autovetores e expansão de Raileigh-Schrödinger ..."
   ]
  },
  {
   "cell_type": "markdown",
   "metadata": {},
   "source": [
    "## Exemplo\n",
    "### Oscilador bidimensional carregado em um campo magnético\n",
    "Consideremos um oscilador harmônico bidimensional no plano $xy$ com a partícula carregada sujeita a um campo magnético na direção $z$. O _Hamiltoniano não perturbado_ é\n",
    "\\begin{align}\n",
    "H_{0} & = \\frac{\\vec{P}^{2}}{2m} + \\frac{m\\omega^{2}}{2}\\vec{R}^{2} \\\\\n",
    "& = \\frac{P_{1}^{2}}{2m} + \\frac{m\\omega^{2}}{2}X_{1}^{2} + \\frac{P_{2}^{2}}{2m} + \\frac{m\\omega^{2}}{2}X_{2}^{2} \\\\\n",
    "& = H_{0}^{oh1} + H_{0}^{oh2} \\\\\n",
    "& = H_{0}^{oh1}\\otimes I_2 + I_1\\otimes H_{0}^{oh2}.\n",
    "\\end{align}\n",
    "Considerando cada coordenada como um grau de liberdade, temos 2 osciladores harmônicos unidimensionais idenpendentes. Por conseguinte, a solução desse Hamiltoniano pode então ser escrita como\n",
    "\\begin{align}\n",
    "H_{0}(|n_{1}\\rangle\\otimes|n_{2}\\rangle) & = H_{0}^{oh1}|n_{1}\\rangle\\otimes|n_{2}\\rangle + |n_{1}\\rangle\\otimes H_{0}^{oh2}|n_{2}\\rangle \\\\\n",
    "& = \\hbar\\omega(n_1 +1/2)|n_{1}\\rangle\\otimes|n_{2}\\rangle + |n_{1}\\rangle\\otimes \\hbar\\omega(n_2 +1/2)|n_{2}\\rangle \\\\\n",
    "& = \\hbar\\omega(n_{1}+n_{2}+1)(|n_{1}\\rangle\\otimes|n_{2}\\rangle).\n",
    "\\end{align}"
   ]
  },
  {
   "cell_type": "markdown",
   "metadata": {},
   "source": [
    "_Hamiltoniano de perturbação_: <br>\n",
    "A partícula possui carga elétrica e gira, portanto terá um momento magnético proporcional ao momento angular:\n",
    "\\begin{equation}\n",
    "H_{1} = -\\vec{\\mu}\\cdot\\vec{B} \\propto \\vec{L}\\cdot\\vec{B} =: gL_{3},\n",
    "\\end{equation}\n",
    "em que incluímos todas as constantes de proporcionalidade em $g$. Lembrando, \n",
    "\\begin{equation}\n",
    "L_{3}=(\\vec{R}\\mathrm{x}\\vec{P})_{3}=\\sum_{kl}\\epsilon_{3kl}X_{k}P_{l}=X_{1}P_{2}-X_{2}P_{1}.\n",
    "\\end{equation}\n",
    "Lembrando, para o oscilador harmônico quântico unidimensional temos \n",
    "$$H_{0}^{ohj} = \\hbar\\omega(a_{j}^{\\dagger}a_{j}+I),$$\n",
    "com o operador de aniquilação sendo\n",
    "\\begin{equation}\n",
    "a_{j} = \\sqrt{\\frac{m\\omega}{2\\hbar}}\\left(X_{j}+\\frac{i}{m\\omega}P_{j}\\right).\n",
    "\\end{equation}\n",
    "Assim\n",
    "\\begin{equation}\n",
    "X_{j} = \\sqrt{\\frac{\\hbar}{2m\\omega}}(a_{j}^{\\dagger}+a_{j}) \\text{ e } P_{j} = i\\sqrt{\\frac{\\hbar m\\omega}{2}}(a_{j}^{\\dagger}-a_{j}),\n",
    "\\end{equation}\n",
    "com \n",
    "$$j=1,2,3$$\n",
    "indicando a coordenada na qual a partícula oscila."
   ]
  },
  {
   "cell_type": "markdown",
   "metadata": {},
   "source": [
    "Escrevemos então\n",
    "\\begin{align}\n",
    "L_{3} & = \\sqrt{\\frac{\\hbar}{2m\\omega}}(a_{1}^{\\dagger}+a_{1})i\\sqrt{\\frac{\\hbar m\\omega}{2}}(a_{2}^{\\dagger}-a_{2}) - i\\sqrt{\\frac{\\hbar m\\omega}{2}}(a_{2}^{\\dagger}+a_{2})\\sqrt{\\frac{\\hbar}{2m\\omega}}(a_{1}^{\\dagger}-a_{1}) \\\\\n",
    "& = \\frac{i\\hbar}{2}\\left(a_{1}^{\\dagger}a_{2}^{\\dagger}- a_{1}^{\\dagger}a_{2} + a_{1}a_{2}^{\\dagger} - a_{1}a_{2} - a_{2}^{\\dagger}a_{1}^{\\dagger} + a_{2}^{\\dagger}a_{1} - a_{2}a_{1}^{\\dagger} + a_{2}a_{1}  \\right) \\\\\n",
    "& = i\\hbar(a_{2}^{\\dagger}a_{1} - a_{1}^{\\dagger}a_{2}).\n",
    "\\end{align}\n",
    "Note que consideramos que os operadores de criação e de aniquilação relacionados a diferentes modos do oscilador comutam. Ou seja, usamos e.g. \n",
    "\\begin{align}\n",
    "a_{1}^{\\dagger}a_{2}^{\\dagger} & = a_{1}^{\\dagger}\\otimes a_{2}^{\\dagger} = (a_{1}^{\\dagger}\\otimes I)(I\\otimes a_{2}^{\\dagger}) \\\\\n",
    "& = (I\\otimes a_{2}^{\\dagger})(a_{1}^{\\dagger}\\otimes I) \\\\\n",
    "& = a_{2}^{\\dagger}a_{1}^{\\dagger}.\n",
    "\\end{align}\n",
    "Assim obtemos o hamiltoniano de perturbação:\n",
    "\\begin{equation}\n",
    "H_{1} = gi\\hbar(a_{2}^{\\dagger}a_{1} - a_{1}^{\\dagger}a_{2}).\n",
    "\\end{equation}"
   ]
  },
  {
   "cell_type": "markdown",
   "metadata": {},
   "source": [
    "Vamos considerar a correção de primeira ordem aplicada ao caso \n",
    "$$n_{1}+n_{2}=2,$$\n",
    "que corresponde ao \n",
    "\\begin{equation}\n",
    "\\text{autovalor } E_{n}^{(0)}=3\\hbar\\omega \\text{ e aos autovetores } \\{|0,2\\rangle,|2,0\\rangle,|1,1\\rangle\\}.\n",
    "\\end{equation}\n",
    "Vamos obter a matriz de $H_{1}$ nessa base do subespaço considerado. Usaremos a notação\n",
    "$$|n_1,n_2\\rangle = |n_1\\rangle\\otimes|n_2\\rangle.$$\n",
    "Para isso, consideremos\n",
    "\\begin{align}\n",
    "\\langle n_{1},n_{2}|H_{1}|n_{1}',n_{2}'\\rangle & = i\\hbar g(\\langle n_{1},n_{2}|a_{2}^{\\dagger}a_{1}|n_{1}',n_{2}'\\rangle - \\langle n_{1},n_{2}|a_{1}^{\\dagger}a_{2}|n_{1}',n_{2}'\\rangle) \\\\\n",
    "& = i\\hbar g\\left(\\langle n_{1},n_{2}|a_{2}^{\\dagger}\\sqrt{n_{1}'}|n_{1}'-1,n_{2}'\\rangle - \\langle n_{1},n_{2}|a_{1}^{\\dagger}\\sqrt{n_{2}'}|n_{1}',n_{2}'-1\\rangle\\right) \\\\\n",
    "& = i\\hbar g\\left(\\langle n_{1},n_{2}|\\sqrt{n_{2}'+1}\\sqrt{n_{1}'}|n_{1}'-1,n_{2}'+1\\rangle - \\langle n_{1},n_{2}|\\sqrt{n_{1}'+1}\\sqrt{n_{2}'}|n_{1}'+1,n_{2}'-1\\rangle\\right) \\\\\n",
    "& = i\\hbar g\\left(\\sqrt{(n_{2}'+1)n_{1}'}\\delta_{n_{1},n_{1}'-1}\\delta_{n_{2},n_{2}'+1} - \\sqrt{(n_{1}'+1)n_{2}'}\\delta_{n_{1},n_{1}'+1}\\delta_{n_{2},n_{2}'-1}\\right),\n",
    "\\end{align}\n",
    "em que usamos a ação dos operadores escada:\n",
    "\\begin{equation}\n",
    "a_j|n_j\\rangle=\\sqrt{n_j}|n_j-1\\rangle \\text{ e } a^{\\dagger}_j|n_j\\rangle = \\sqrt{n_j+1}|n_j+1\\rangle.\n",
    "\\end{equation}"
   ]
  },
  {
   "cell_type": "markdown",
   "metadata": {},
   "source": [
    "Em geral, todos os termos na diagonal são nulos e aqui teremos ainda\n",
    "\\begin{align}\n",
    "& \\langle 0,2|H_{1}|2,0\\rangle = 0, \\\\\n",
    "& \\langle 0,2|H_{1}|1,1\\rangle = i\\hbar g\\left(\\sqrt{(1+1)1}\\delta_{0,0}\\delta_{2,2} - \\sqrt{(1+1)1}\\delta_{0,2}\\delta_{2,0}\\right) = i\\hbar g\\sqrt{2},\\\\\n",
    "& \\langle 2,0|H_{1}|1,1\\rangle = i\\hbar g\\left(\\sqrt{(1+1)1}\\delta_{2,0}\\delta_{0,2} - \\sqrt{(1+1)1}\\delta_{2,2}\\delta_{0,0}\\right) = -i\\hbar g\\sqrt{2}.\n",
    "\\end{align}\n",
    "Assim, na base\n",
    "\\begin{equation}\n",
    "\\{|0,2\\rangle,|2,0\\rangle,|1,1\\rangle\\},\n",
    "\\end{equation}\n",
    "temos a seguinte representação matricial\n",
    "\\begin{equation}\n",
    "H_{1}^{(2)} \\doteq \\begin{bmatrix} 0 & 0 & i\\hbar g\\sqrt{2} \\\\ 0 & 0 & -i\\hbar g\\sqrt{2} \\\\ -i\\hbar g\\sqrt{2} & i\\hbar g\\sqrt{2}  & 0 \\end{bmatrix}.\n",
    "\\end{equation}\n",
    "De $\\det(H_{1}-\\lambda I)=0$ obtemos \n",
    "\\begin{align}\n",
    "& -\\lambda^{3}-(i\\hbar g\\sqrt{2})^{2}\\lambda -(-i\\hbar g\\sqrt{2})^{2}\\lambda = 0 \\Rightarrow (\\lambda^{2} - 4\\hbar^{2}g^{2})\\lambda = 0, \\\\\n",
    "& \\therefore\\ \\lambda = 0, \\pm 2\\hbar g.\n",
    "\\end{align}\n",
    "a degenerência na energia é quebrada e teremos \n",
    "\\begin{equation}\n",
    "E_{2}^{(0)}=3\\hbar\\omega \\longrightarrow \\begin{cases} 3\\hbar\\omega+2\\hbar g, \\\\ 3\\hbar\\omega, \\\\ 3\\hbar\\omega-2\\hbar g. \\end{cases}\n",
    "\\end{equation}"
   ]
  },
  {
   "cell_type": "code",
   "execution_count": 1,
   "metadata": {},
   "outputs": [
    {
     "data": {
      "image/png": "[encoded data removed]",
      "text/latex": [
       "$\\displaystyle \\left[\\begin{matrix}0 & 0 & 1.0 \\sqrt{2} i g \\hbar\\\\0 & 0 & - 1.0 \\sqrt{2} i g \\hbar\\\\- 1.0 \\sqrt{2} i g \\hbar & 1.0 \\sqrt{2} i g \\hbar & 0\\end{matrix}\\right]$"
      ],
      "text/plain": [
       "⎡      0             0        1.0⋅√2⋅ⅈ⋅g⋅h̅ ⎤\n",
       "⎢                                          ⎥\n",
       "⎢      0             0        -1.0⋅√2⋅ⅈ⋅g⋅h̅⎥\n",
       "⎢                                          ⎥\n",
       "⎣-1.0⋅√2⋅ⅈ⋅g⋅h̅  1.0⋅√2⋅ⅈ⋅g⋅h̅        0      ⎦"
      ]
     },
     "execution_count": 1,
     "metadata": {},
     "output_type": "execute_result"
    }
   ],
   "source": [
    "from sympy import symbols, Matrix, sqrt, init_printing\n",
    "init_printing(use_unicode=True)\n",
    "lb,hbb,g = symbols('lambda hbar g')\n",
    "M = Matrix([[0,0,1j*hbb*g*sqrt(2)],[0,0,-1j*hbb*g*sqrt(2)],[-1j*hbb*g*sqrt(2),1j*hbb*g*sqrt(2),0]])\n",
    "M"
   ]
  },
  {
   "cell_type": "code",
   "execution_count": 2,
   "metadata": {},
   "outputs": [
    {
     "data": {
      "image/png": "[encoded data removed]",
      "text/latex": [
       "$\\displaystyle \\left[ \\left( 0, \\  1, \\  \\left[ \\left[\\begin{matrix}1.0\\\\1.0\\\\0\\end{matrix}\\right]\\right]\\right), \\  \\left( - 2.0 g \\hbar, \\  1, \\  \\left[ \\left[\\begin{matrix}- 0.707106781186548 i\\\\0.707106781186548 i\\\\1.0\\end{matrix}\\right]\\right]\\right), \\  \\left( 2.0 g \\hbar, \\  1, \\  \\left[ \\left[\\begin{matrix}0.707106781186548 i\\\\- 0.707106781186548 i\\\\1.0\\end{matrix}\\right]\\right]\\right)\\right]$"
      ],
      "text/plain": [
       "⎡⎛      ⎡⎡1.0⎤⎤⎞  ⎛             ⎡⎡-0.707106781186548⋅ⅈ⎤⎤⎞  ⎛            ⎡⎡0.70\n",
       "⎢⎜      ⎢⎢   ⎥⎥⎟  ⎜             ⎢⎢                    ⎥⎥⎟  ⎜            ⎢⎢    \n",
       "⎢⎜0, 1, ⎢⎢1.0⎥⎥⎟, ⎜-2.0⋅g⋅h̅, 1, ⎢⎢0.707106781186548⋅ⅈ ⎥⎥⎟, ⎜2.0⋅g⋅h̅, 1, ⎢⎢-0\n",
       "⎢⎜      ⎢⎢   ⎥⎥⎟  ⎜             ⎢⎢                    ⎥⎥⎟  ⎜            ⎢⎢    \n",
       "⎣⎝      ⎣⎣ 0 ⎦⎦⎠  ⎝             ⎣⎣        1.0         ⎦⎦⎠  ⎝            ⎣⎣    \n",
       "\n",
       "7106781186548⋅ⅈ ⎤⎤⎞⎤\n",
       "                ⎥⎥⎟⎥\n",
       ".707106781186548⋅ⅈ⎥⎥⎟⎥\n",
       "                ⎥⎥⎟⎥\n",
       "    1.0         ⎦⎦⎠⎦"
      ]
     },
     "execution_count": 2,
     "metadata": {},
     "output_type": "execute_result"
    }
   ],
   "source": [
    "M.eigenvects()"
   ]
  },
  {
   "cell_type": "code",
   "execution_count": 6,
   "metadata": {},
   "outputs": [
    {
     "data": {
      "image/png": "[encoded data removed]",
      "text/plain": [
       "<Figure size 500x300 with 1 Axes>"
      ]
     },
     "metadata": {},
     "output_type": "display_data"
    }
   ],
   "source": [
    "from matplotlib import pyplot as plt\n",
    "import matplotlib\n",
    "matplotlib.rcParams.update({'font.size':10})\n",
    "plt.figure(figsize = (5,3), dpi = 100)\n",
    "hbb = 1; om = 1; g = 0.1\n",
    "plt.hlines(3*hbb*om, 0, 0.3, color='blue') # hb*omega := 1\n",
    "plt.text(-0.1,3*hbb*om,r'$3\\hbar\\omega$',color='blue')\n",
    "plt.plot([0.3,0.6],[3*hbb*om,3*hbb*om+2*hbb*g], '--', color='gray', linewidth=0.5)\n",
    "plt.plot([0.6,0.9],[3*hbb*om+2*hbb*g,3*hbb*om+2*hbb*g], color='blue')\n",
    "plt.text(0.95,3*hbb*om+2*hbb*g,r'$3\\hbar\\omega+2\\hbar g$',color='blue')\n",
    "plt.plot([0.3,0.6],[3*hbb*om,3*hbb*om-2*hbb*g], '--', color='gray', linewidth=0.5)\n",
    "plt.plot([0.6,0.9],[3*hbb*om-2*hbb*g,3*hbb*om-2*hbb*g], color='blue')\n",
    "plt.text(0.95,3*hbb*om-2*hbb*g,r'$3\\hbar\\omega-2\\hbar g$',color='blue')\n",
    "plt.plot([0.3,0.6],[3*hbb*om,3*hbb*om], '--', color='gray', linewidth=0.5)\n",
    "plt.plot([0.6,0.9],[3*hbb*om,3*hbb*om], color='blue')\n",
    "plt.text(0.95,3*hbb*om,r'$3\\hbar\\omega$',color='blue')\n",
    "plt.axis('off'); plt.show()"
   ]
  },
  {
   "cell_type": "markdown",
   "metadata": {},
   "source": [
    "correção para os autovetores ..."
   ]
  },
  {
   "cell_type": "markdown",
   "metadata": {},
   "source": [
    "---\n",
    "# Exercícios\n",
    "\n",
    "$1.$ Para espectros discretos degenerados, mostre que as correções de 2ª ordem para a energia são obtidas diagonalizando o operador (não esqueça de usar a expansão de Rayleigh-Schrödinger):\n",
    "\\begin{equation}\n",
    "H_{2}^{(n)}=\\sum_{m\\ne n}\\sum_{j=1}^{d_{m}}\\frac{H_{1}|\\psi_{m,j}^{(0)}\\rangle\\langle\\psi_{m,j}^{(0)}|H_{1}}{E_{n}^{(0)}-E_{m}^{(0)}}.\n",
    "\\end{equation}\n",
    "\n",
    "$2.$ Calcule as correções perturbativas de 1ª ordem para as energias do oscilador carregado bidimensional em um campo magnético, para o qual $H_{1} = gi\\hbar(a_{2}^{\\dagger}a_{1} - a_{1}^{\\dagger}a_{2})$, no caso em que $n_{1}+n_{2}=3$.\n",
    "\n",
    "$3.$ Considere um oscilador harmônico quântico carregado eletricamente e na presença de um campo magnético constante no tempo e no espaço. Calcule as correções de 1ª ordem para autovalor de energia $5\\hbar\\omega$, no contexto de exemplo feito em aula.\n",
    "\n",
    "$4.$ Considere um sistema de três níveis com Hamiltoniano não perturbado $H_{0} = \\begin{bmatrix} a & 0 & 0 \\\\ 0 & b & 0 \\\\ 0 & 0 & a \\end{bmatrix}$ e sujeito a uma interação perturbativa $H_{1} = \\begin{bmatrix} 0 & 0 & c \\\\ 0 & 0 & 0 \\\\ c & 0 & 0 \\end{bmatrix}$, com $a,b,c\\in\\mathbb{R}_{+}$. Calcule as correções perturbativas de primeira ordem (caso degenerado) para a energia desse sistema.\n",
    "\n",
    "$5.$ Considere um sistema quântico de quatro níveis com Hamiltoniano não perturbado $H_{0} = \\begin{bmatrix} \n",
    " a & 0 & 0 & 0 \\\\ \n",
    " 0 & a & 0 & 0 \\\\\n",
    " 0 & 0 & b & 0 \\\\ \n",
    " 0 & 0 & 0 & c \n",
    "\\end{bmatrix},$ e sujeito a uma interação perturbativa $H_{1} = \\begin{bmatrix} \n",
    " d & 0 & 0 & e \\\\ \n",
    " 0 & f & 0 & 0 \\\\\n",
    " 0 & 0 & 0 & 0 \\\\ \n",
    " e & 0 & 0 & d \n",
    "\\end{bmatrix},$\n",
    "com $a,b,c,d,f \\in \\mathbb{R}$ e $e \\in \\mathbb{C}$. Calcule as correções perturbativas de 1ª ordem para as energias desse sistema.\n",
    "\n",
    "$6.$ Considere o potencial tipo poço retangular infinito bidimensional: $U = \\begin{cases}0\\ \\text{para}\\ 0\\le x\\le L_x\\ \\text{e}\\ 0\\le y\\le L_y \\\\ \\infty\\ \\text{para os outros casos}\\end{cases}$, para o qual as autofunções e autoenergias das equação de Schrödinger independente do tempo são, respectivamente, dadas por $\\psi_{n_x,n_y}(x,y)=\\sqrt{\\frac{4}{L_x L_y}}\\sin\\Big(\\frac{n_x \\pi x}{L_x}\\Big)\\sin\\Big(\\frac{n_y \\pi y}{L_y}\\Big)$ e $E_{n_x,n_y}=\\frac{\\hbar^2 \\pi^2}{2m}\\Big(\\frac{n_x^2}{L_x^2}+\\frac{n_y^2}{L_y^2}\\Big)$, com $n_x,n_y=1,2,3,\\cdots.$ Esse sistema está sujeito a uma perturbação linear do tipo $H_1=CX\\otimes Y$, com $C$ sendo constante. Considerando $L_x=L_y=L$, calcule a correção perturbativa de 1ª ordem para a energia do estado fundamental e do 1º estado excitado desse sistema."
   ]
  },
  {
   "cell_type": "code",
   "execution_count": null,
   "metadata": {},
   "outputs": [],
   "source": []
  }
 ],
 "metadata": {
  "kernelspec": {
   "display_name": "Python 3 (ipykernel)",
   "language": "python",
   "name": "python3"
  },
  "language_info": {
   "codemirror_mode": {
    "name": "ipython",
    "version": 3
   },
   "file_extension": ".py",
   "mimetype": "text/x-python",
   "name": "python",
   "nbconvert_exporter": "python",
   "pygments_lexer": "ipython3",
   "version": "3.11.1"
  }
 },
 "nbformat": 4,
 "nbformat_minor": 4
}
