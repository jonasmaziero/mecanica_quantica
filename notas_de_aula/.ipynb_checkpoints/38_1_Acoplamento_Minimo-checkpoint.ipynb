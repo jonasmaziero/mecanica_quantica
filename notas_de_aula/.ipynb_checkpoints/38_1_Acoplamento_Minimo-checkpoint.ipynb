{
 "cells": [
  {
   "cell_type": "markdown",
   "id": "fd7608bb",
   "metadata": {},
   "source": [
    "### Notas de aula de Mecânica Quântica <br> Autor: Jonas Maziero"
   ]
  },
  {
   "cell_type": "markdown",
   "id": "16911cf9",
   "metadata": {},
   "source": [
    "# Acoplamento mínimo\n",
    "Vamos considerar uma __partícula de carga elétrica $q$ e massa $m$ sujeita a campos elétricos e magnéticos__. \n",
    "\n",
    "Sabemos da teoria eletromagnética que as seguintes relações seguem para os campos elétrico $\\vec{E}$ e magnético $\\vec{B}$ em termos dos potenciais escalar elétrico $\\Phi$ e vetor magnético $\\vec{A}$:\n",
    "\\begin{align}\n",
    "& \\vec{E} = -\\vec{\\nabla}\\Phi - \\partial_{t}\\vec{A}, \\\\\n",
    "& \\vec{B} = \\vec{\\nabla}\\times\\vec{A},\n",
    "\\end{align}\n",
    "com \n",
    "$$\\Phi=\\Phi(\\vec{r},t),\\ \\vec{A}=\\vec{A}(\\vec{r},t)$$\n",
    "sendo, respectivamente, o potencial escalar elétrico e o potencial vetor magnético.\n",
    "\n",
    "Como verificaremos a seguir, a dinâmica clássica dessa partícula pode ser descrita através da Lagrangeana\n",
    "\\begin{align}\n",
    "L & = \\frac{1}{2}m\\dot{\\vec{r}}^{2} + q\\dot{\\vec{r}}\\cdot\\vec{A} - q\\Phi \\\\\n",
    "& = \\frac{m}{2}\\sum_{j=1}^{3}\\dot{r}_{j}^{2}+ q\\sum_{j=1}^{3}\\dot{r}_{j}A_{j}-q\\Phi. \\hspace{5cm} (\\star)\n",
    "\\end{align}\n",
    "Acima e doravante usaremos a notação $\\dot{q}=\\frac{dq}{dt}$ para uma variável escalar, vetorial ou matricial qualquer $q$."
   ]
  },
  {
   "cell_type": "markdown",
   "id": "d3161a35",
   "metadata": {},
   "source": [
    "### Lema\n",
    "Pode-se verificar, usando as equações de Euler-Lagrange,\n",
    "\\begin{equation}\n",
    "\\frac{\\partial L}{\\partial r_{j}}-\\frac{d}{dt}\\Big(\\frac{\\partial L}{\\partial\\dot{r}_{j}}\\Big) = 0 \\text{ para } j=1,2,3,\n",
    "\\end{equation}\n",
    "que a Lagrangena na eq. ($\\star$) é consistente com a força de Lorentz e a 2ª lei de Newton:\n",
    "\\begin{align}\n",
    " \\vec{F} = q\\vec{E} + q\\dot{\\vec{r}}\\times\\vec{B} = \\frac{d}{dt}\\big(m\\dot{\\vec{r}}\\big).\n",
    "\\end{align}\n",
    "\n",
    "\n",
    "#### Prova\n",
    "\n",
    "A força de Lorentz substituída na 2ª lei de Newton temos que\n",
    "\\begin{align}\n",
    "& \\vec{F} = q\\vec{E} + q\\dot{\\vec{r}}\\times\\vec{B} = \\frac{d}{dt}\\big(m\\dot{\\vec{r}}\\big) \\\\\n",
    "& \\therefore m\\ddot{r}_{j} = -q\\frac{\\partial \\Phi}{\\partial r_{j}} - q\\frac{\\partial A_{j}}{\\partial t} + q\\big(\\dot{\\vec{r}}\\times\\vec{\\nabla}\\times\\vec{A}\\big)_{j},\n",
    "\\end{align}\n",
    "em que usamos\n",
    "\\begin{align}\n",
    "& \\vec{E} = -\\vec{\\nabla}\\Phi - \\frac{\\partial \\vec{A}}{\\partial t} \\text{ e  } \\vec{B}=\\vec{\\nabla}\\times\\vec{A} \\\\\n",
    "& \\therefore E_{j} = -\\nabla_{j}\\Phi - \\partial_{t}A_{j} \\text{ com } \\nabla_{j}\\equiv\\frac{\\partial}{\\partial r_{j}}.\n",
    "\\end{align}"
   ]
  },
  {
   "cell_type": "markdown",
   "id": "6492a95f",
   "metadata": {},
   "source": [
    "A lagrangeana em questão é\n",
    "\\begin{equation}\n",
    "L = \\frac{1}{2}m\\dot{\\vec{r}}^{2} + q\\dot{\\vec{r}}\\cdot\\vec{A} - q\\Phi = \\frac{m}{2}\\sum_{k=1}^{3}\\dot{r}_{k}^{2}+ q\\sum_{k=1}^{3}\\dot{r}_{k}A_{k}-q\\Phi.\n",
    "\\end{equation}\n",
    "Vamos substituí-la nas equações de Euler-Lagrange:\n",
    "\\begin{equation}\n",
    "\\frac{\\partial L}{\\partial r_{j}}-\\frac{d}{dt}\\frac{\\partial L}{\\partial\\dot{r}_{j}}=0.\n",
    "\\end{equation}\n",
    "Primeiro olhamos para\n",
    "\\begin{align}\n",
    "\\frac{\\partial L}{\\partial r_{j}} & = \\frac{m}{2}\\sum_{k=1}^{3}\\frac{\\partial \\dot{r}_{k}^{2}}{\\partial r_{j}}+ q\\sum_{k=1}^{3}\\Big(\\frac{\\partial \\dot{r}_{k}}{\\partial r_{j}}A_{k}+\\dot{r}_{k}\\frac{\\partial A_{k}}{\\partial r_{j}}\\Big)-q\\frac{\\partial \\Phi}{\\partial r_{j}} \\\\\n",
    "& = 0+ q\\sum_{k=1}^{3}\\Big(0+\\dot{r}_{k}\\frac{\\partial A_{k}}{\\partial r_{j}}\\Big) - q\\frac{\\partial \\Phi}{\\partial r_{j}} \\\\\n",
    "& = q\\sum_{k=1}^{3}\\dot{r}_{k}\\frac{\\partial A_{k}}{\\partial r_{j}} - q\\frac{\\partial \\Phi}{\\partial r_{j}}\n",
    "\\end{align}"
   ]
  },
  {
   "cell_type": "markdown",
   "id": "81dace00",
   "metadata": {},
   "source": [
    "e\n",
    "\\begin{align}\n",
    "\\frac{\\partial L}{\\partial \\dot{r}_{j}} & = \\frac{m}{2}\\sum_{k=1}^{3}\\frac{\\partial \\dot{r}_{k}^{2}}{\\partial \\dot{r}_{j}}+ q\\sum_{k=1}^{3}\\Big(\\frac{\\partial \\dot{r}_{k}}{\\partial \\dot{r}_{j}}A_{k}+\\dot{r}_{k}\\frac{\\partial A_{k}}{\\partial \\dot{r}_{j}}\\Big)-q\\frac{\\partial \\Phi}{\\partial \\dot{r}_{j}} \\\\\n",
    "& = \\frac{m}{2}\\sum_{k=1}^{3}2\\dot{r}_{k}\\frac{\\partial \\dot{r}_{k}}{\\partial \\dot{r}_{j}}+ q\\sum_{k=1}^{3}\\Big(\\delta_{j,k}A_{k}+\\dot{r}_{k}0\\Big)-q0 \\\\\n",
    "& = m\\sum_{k=1}^{3}\\dot{r}_{k}\\delta_{j,k}+ qA_j \\\\\n",
    "& = m\\dot{r}_{j} + qA_{j} \\\\\n",
    "\\therefore \\frac{d}{dt}\\frac{\\partial L}{\\partial \\dot{r}_{j}} & = m\\ddot{r}_{j} + q\\frac{dA_{j}}{dt}.\n",
    "\\end{align}"
   ]
  },
  {
   "cell_type": "markdown",
   "id": "05e81e46",
   "metadata": {},
   "source": [
    "Substituindo esses resultados na equação de Euler-Lagrange, vem que\n",
    "\\begin{align}\n",
    "& \\frac{\\partial L}{\\partial r_{j}}-\\frac{d}{dt}\\frac{\\partial L}{\\partial\\dot{r}_{j}} = q\\sum_{k=1}^{3}\\dot{r}_{k}\\frac{\\partial A_{k}}{\\partial r_{j}} - q\\frac{\\partial \\Phi}{\\partial r_{j}}-m\\ddot{r}_{j} - q\\frac{dA_{j}}{dt} = 0 \\\\\n",
    "& \\therefore\\ m\\ddot{r}_{j} =  - q\\frac{\\partial \\Phi}{\\partial r_{j}} - q\\frac{dA_{j}}{dt} + q\\sum_{k=1}^{3}\\dot{r}_{k}\\frac{\\partial A_{k}}{\\partial r_{j}}.\n",
    "\\end{align}\n",
    "Como $A_{j}=A_{j}(r_{1},r_{2},r_{3},t)$, usamos\n",
    "\\begin{align}\n",
    "\\frac{dA_{j}}{dt} = \\sum_{k=1}^{3}\\frac{\\partial A_{j}}{\\partial r_{k}}\\frac{d r_{k}}{dt} + \\frac{\\partial A_{j}}{\\partial t}\\frac{d t}{dt} = \\sum_{k=1}^{3}\\frac{\\partial A_{j}}{\\partial r_{k}}\\dot{r}_{k} + \\frac{\\partial A_{j}}{\\partial t} \n",
    "\\end{align}\n",
    "para escrever\n",
    "\\begin{align}\n",
    "m\\ddot{r}_{j} & = -q\\frac{\\partial \\Phi}{\\partial r_{j}} - q\\sum_{k=1}^{3}\\frac{\\partial A_{j}}{\\partial r_{k}}\\dot{r}_{k} - q\\frac{\\partial A_{j}}{\\partial t} + q\\sum_{k=1}^{3}\\dot{r}_{k}\\frac{\\partial A_{k}}{\\partial r_{j}} \\\\\n",
    "& = -q\\frac{\\partial \\Phi}{\\partial r_{j}}  - q\\frac{\\partial A_{j}}{\\partial t}  + q\\sum_{k=1}^{3}\\dot{r}_{k}\\Big(\\frac{\\partial A_{k}}{\\partial r_{j}} -\\frac{\\partial A_{j}}{\\partial r_{k}}\\Big).\n",
    "\\end{align}"
   ]
  },
  {
   "cell_type": "markdown",
   "id": "a63b9a45",
   "metadata": {},
   "source": [
    "Por fim, notamos que\n",
    "\\begin{align}\n",
    "\\big(\\dot{\\vec{r}}\\times\\vec{\\nabla}\\times\\vec{A}\\big)_{j} & = \\sum_{kl}\\epsilon_{jkl}\\dot{r}_{k}(\\vec{\\nabla}\\times\\vec{A})_{l} \\\\\n",
    "& = \\sum_{kl}\\epsilon_{jkl}\\dot{r}_{k}\\sum_{mn}\\epsilon_{lmn}\\nabla_{m}A_{n} \\\\\n",
    "& = \\sum_{k}\\dot{r}_{k}\\sum_{mn}\\Big(\\sum_{l}\\epsilon_{jkl}\\epsilon_{lmn}\\Big)\\nabla_{m}A_{n} \\\\\n",
    "& = \\sum_{k}\\dot{r}_{k}\\sum_{mn}\\Big(\\sum_{l}\\epsilon_{ljk}\\epsilon_{lmn}\\Big)\\nabla_{m}A_{n} \\\\\n",
    "& = \\sum_{k}\\dot{r}_{k}\\sum_{mn}(\\delta_{jm}\\delta_{kn}-\\delta_{jn}\\delta_{km})\\nabla_{m}A_{n} \\\\\n",
    "& = \\sum_{k}\\dot{r}_{k}(\\nabla_{j}A_{k}-\\nabla_{k}A_{j}) \\\\\n",
    "& = \\sum_{k}\\dot{r}_{k}\\Big(\\frac{\\partial A_{k}}{\\partial r_{j}}-\\frac{\\partial A_{j}}{\\partial r_{k}}).\n",
    "\\end{align}\n",
    "Com isso, concluímos a verificação de que a lagrangeana na eq. $(\\star)$, substituída nas equações de Lagrange,  é consistente com a força de Lorentz e a 2ª lei de Newton. \n",
    "\n",
    "$\\square$"
   ]
  },
  {
   "cell_type": "markdown",
   "id": "25dd5597",
   "metadata": {},
   "source": [
    "Para obter a hamiltoniana, precisaremos do __momento canonicamente conjugado__ a $\\vec{r}$, que é obtido de\n",
    "\\begin{align}\n",
    "p_{k} & = \\frac{\\partial L}{\\partial \\dot{r}_{k}} \\\\\n",
    "& = \\frac{\\partial}{\\partial \\dot{r}_{k}}\\Big(\\frac{m}{2}\\sum_{j=1}^{3}\\dot{r}_{j}^{2}+ q\\sum_{j=1}^{3}\\dot{r}_{j}A_{j}-q\\Phi\\Big) \\\\\n",
    "& = \\frac{m}{2}\\sum_{j=1}^{3}2\\dot{r}_{j}\\frac{\\partial \\dot{r}_{j}}{\\partial \\dot{r}_{k}} + q\\sum_{j=1}^{3}\\frac{\\partial \\dot{r}_{j}}{\\partial \\dot{r}_{k}}A_{j}-q\\frac{\\partial \\Phi}{\\partial \\dot{r}_{k}} \\\\\n",
    "&  = m\\sum_{j=1}^{3}\\dot{r}_{j}\\delta_{j,k} + q\\sum_{j=1}^{3}\\delta_{j,k}A_{j}-q0 \\\\\n",
    "& = m\\dot{r}_{k} + qA_{k}.\n",
    "\\end{align}\n",
    "Portanto\n",
    "$$\\vec{p} = m\\dot{\\vec{r}} + q\\vec{A}, \\ \\therefore\\ \\dot{\\vec{r}} = \\frac{1}{m}\\big(\\vec{p}-q\\vec{A}\\big).$$"
   ]
  },
  {
   "cell_type": "markdown",
   "id": "319c1e18",
   "metadata": {},
   "source": [
    "A __hamiltoniana__ associada à lagrangeana acima é\n",
    "\\begin{align}\n",
    "H & = \\vec{p}\\cdot\\dot{\\vec{r}} - L \\\\ \n",
    "& = \\vec{p}\\cdot\\dot{\\vec{r}} - \\Big(\\frac{1}{2}m\\dot{\\vec{r}}^{2} + q\\dot{\\vec{r}}\\cdot\\vec{A} - q\\Phi\\Big) \\\\\n",
    "& = \\vec{p}\\cdot\\dot{\\vec{r}} - \\frac{1}{2}m\\dot{\\vec{r}}^{2} - q\\vec{A}\\cdot\\dot{\\vec{r}} + q\\Phi \\\\\n",
    "& = \\vec{p}\\cdot\\frac{1}{m}\\big(\\vec{p}-q\\vec{A}\\big) - \\frac{1}{2}m\\frac{1}{m^{2}}\\big|\\big|\\vec{p}-q\\vec{A}\\big|\\big|^{2} - q\\vec{A}\\cdot\\frac{1}{m}\\big(\\vec{p}-q\\vec{A}\\big) + q\\Phi \\\\\n",
    "& = \\frac{1}{m}\\big(\\vec{p}-q\\vec{A}\\big)\\cdot\\big(\\vec{p}-q\\vec{A}\\big) - \\frac{1}{2m}\\big|\\big|\\vec{p}-q\\vec{A}\\big|\\big|^{2}  + q\\Phi \\\\\n",
    "& = \\frac{1}{2m}\\big|\\big|\\vec{p}-q\\vec{A}\\big|\\big|^{2} + q\\Phi.\n",
    "\\end{align}"
   ]
  },
  {
   "cell_type": "markdown",
   "id": "0b75746e",
   "metadata": {},
   "source": [
    "Quantizando,\n",
    "\\begin{equation}\n",
    "\\vec{p}\\rightarrow -i\\hbar\\vec{\\nabla},\n",
    "\\end{equation}\n",
    "podemos escrever a __equação de Schrödinger__ para a função de onda de uma partícula não relativística de massa $m$ e carga elétrica $q$ sujeita a campos elétrico e magnético representados pelos potenciais $\\Phi$ e $\\vec{A}$:\n",
    "$$H\\Psi=\\Big(\\frac{1}{2m}\\big|\\big|-i\\hbar\\vec{\\nabla}-q\\vec{A}\\big|\\big|^{2} + q\\Phi\\Big)\\Psi = i\\hbar\\frac{\\partial}{\\partial t}\\Psi, \\hspace{3cm} (*)$$\n",
    "com \n",
    "$$\\Psi=\\Psi(\\vec{r},t).$$\n",
    "\n",
    "Vale observar que em geral \n",
    "\\begin{equation}\n",
    "[\\vec{p},\\vec{A}]\\ne \\mathbb{O},\n",
    "\\end{equation}\n",
    "pois\n",
    "\\begin{align}\n",
    "\\vec{p}\\cdot\\vec{A}\\Psi & = \\sum_{j=1}^{3}p_{j}A_{j}\\Psi \\\\\n",
    "& = \\sum_{j=1}^{3}(-i\\hbar)\\nabla_{j}(A_{j}\\Psi) \\\\\n",
    "& = \\sum_{j=1}^{3}(-i\\hbar)\\big((\\nabla_{j}A_{j})\\Psi+A_{j}\\nabla_{j}\\Psi\\big) \\\\\n",
    "& = (-i\\hbar)\\big((\\sum_{j=1}^{3}\\nabla_{j}A_{j})\\Psi+ (\\sum_{j=1}^{3}A_{j}\\nabla_{j})\\Psi\\big) \\\\\n",
    "& = (-i\\hbar)\\big((\\vec{\\nabla}\\cdot\\vec{A})\\Psi + \\vec{A}\\cdot\\vec{\\nabla}\\Psi\\big) \\\\\n",
    "& = (-i\\hbar)(\\vec{\\nabla}\\cdot\\vec{A})\\Psi + \\vec{A}\\cdot\\vec{p}\\Psi.\n",
    "\\end{align}"
   ]
  },
  {
   "cell_type": "markdown",
   "id": "30b4c773",
   "metadata": {},
   "source": [
    "Ou seja\n",
    "\\begin{equation}\n",
    "\\vec{p}\\cdot\\vec{A} - \\vec{A}\\cdot\\vec{p} = (-i\\hbar)\\vec{\\nabla}\\cdot\\vec{A},\n",
    "\\end{equation}\n",
    "que é igual ao operador nulo somente se o potencial vetor magnético tiver divergente nulo, i.e., se \n",
    "$$\\vec{\\nabla}\\cdot\\vec{A}=0.$$\n",
    "Isso é de se esperar pois $\\vec{A}=\\vec{A}(\\vec{r},t)$ e $\\vec{p}\\cdot\\vec{r}\\ne \\vec{r}\\cdot\\vec{p}$. \n",
    "\n",
    "Da teoria eletromagnética, sabemos que, para\n",
    "\\begin{equation}\n",
    "\\chi = \\chi(\\vec{r},t)\n",
    "\\end{equation}\n",
    "uma função escalar real qualquer, se fazemos uma __transformação de calibre__ (ou transformação de gauge):\n",
    "\\begin{align}\n",
    "& \\Phi\\rightarrow \\Phi' = \\Phi - \\partial_{t}\\chi, \\\\\n",
    "& \\vec{A}\\rightarrow \\vec{A}' = \\vec{A} + \\vec{\\nabla}\\chi,\n",
    "\\end{align}\n",
    "não teremos nenhuma mudança nos campos elétrico, \n",
    "\\begin{equation}\n",
    "\\vec{E}' = -\\vec{\\nabla}\\Phi'-\\partial_{t}\\vec{A}'=-\\vec{\\nabla}\\Phi-\\partial_{t}\\vec{A}=\\vec{E},\n",
    "\\end{equation}\n",
    "e magnético\n",
    "\\begin{equation}\n",
    "\\vec{B}'=\\vec{\\nabla}\\times\\vec{A}' = \\vec{\\nabla}\\times\\vec{A}=\\vec{B}.\n",
    "\\end{equation}\n",
    "Por conseguinte a força de Lorentz também será a mesma\n",
    "\\begin{equation}\n",
    "\\vec{F}' = q\\vec{E}'+q\\vec{v}\\times\\vec{B}' = q\\vec{E}+q\\vec{v}\\times\\vec{B} = \\vec{F}.\n",
    "\\end{equation}"
   ]
  },
  {
   "cell_type": "markdown",
   "id": "f5a34993",
   "metadata": {},
   "source": [
    "Essa verificação é feita da seguinte forma. Temos que\n",
    "\\begin{align}\n",
    "\\vec{E}' & = -\\vec{\\nabla}\\Phi'-\\partial_{t}\\vec{A}' \\\\\n",
    "& = -\\vec{\\nabla}\\big(\\Phi - \\partial_{t}\\chi\\big) -\\partial_{t}\\big(\\vec{A} + \\vec{\\nabla}\\chi\\big) \\\\\n",
    "& = -\\vec{\\nabla}\\Phi + \\vec{\\nabla}(\\partial_{t}\\chi) -\\partial_{t}\\vec{A} - \\partial_{t}(\\vec{\\nabla}\\chi) \\\\\n",
    "& = -\\vec{\\nabla}\\Phi -\\partial_{t}\\vec{A} \\\\\n",
    "& = \\vec{E},\n",
    "\\end{align}\n",
    "em que usamos\n",
    "\\begin{equation}\n",
    "\\partial_{j}\\partial_{t}\\chi = \\partial_{t}\\partial_{j}\\chi.\n",
    "\\end{equation}"
   ]
  },
  {
   "cell_type": "markdown",
   "id": "fa8149f6",
   "metadata": {},
   "source": [
    "Teremos também que\n",
    "\\begin{align}\n",
    "\\vec{B}' & = \\vec{\\nabla}\\times\\vec{A}' \\\\\n",
    "& = \\vec{\\nabla}\\times\\big( \\vec{A} + \\vec{\\nabla}\\chi\\big) \\\\\n",
    "& = \\vec{\\nabla}\\times\\vec{A} + \\vec{\\nabla}\\times\\vec{\\nabla}\\chi  \\\\\n",
    "& = \\vec{\\nabla}\\times\\vec{A} + \\vec{0} \\\\\n",
    "& = \\vec{B}.\n",
    "\\end{align}\n",
    "Acima usamos\n",
    "\\begin{align}\n",
    "& \\big(\\vec{\\nabla}\\times\\vec{\\nabla}\\chi\\big)_{j} = \\sum_{kl}\\epsilon_{jkl}\\nabla_{k}(\\vec{\\nabla}\\chi)_{l} = \\sum_{kl}\\epsilon_{jkl}\\nabla_{k}\\nabla_{l}\\chi = 0 \\\\\n",
    "& \\therefore\\ \\vec{\\nabla}\\times\\vec{\\nabla}\\chi=\\vec{0},\n",
    "\\end{align}\n",
    "pois \n",
    "\\begin{equation}\n",
    "\\sum_{k=l}\\epsilon_{jkl}\\nabla_{k}\\nabla_{l}\\chi=0 \\text{ pois } \\epsilon_{jkk}=0\n",
    "\\end{equation}\n",
    "e \n",
    "\\begin{equation}\n",
    "\\sum_{k\\ne l}\\epsilon_{jkl}\\nabla_{k}\\nabla_{l}\\chi=0\n",
    "\\end{equation}\n",
    "pois \n",
    "\\begin{align}\n",
    "\\epsilon_{jkl}\\nabla_{k}\\nabla_{l}+\\epsilon_{jlk}\\nabla_{l}\\nabla_{k} & = (\\epsilon_{jkl}+\\epsilon_{jlk})\\nabla_{k}\\nabla_{l} \\\\\n",
    "& = (\\epsilon_{jkl}-\\epsilon_{jkl})\\nabla_{k}\\nabla_{l} \\\\\n",
    "& = 0\\nabla_{k}\\nabla_{l}\\\\\n",
    "& =0,\n",
    "\\end{align}\n",
    "em que usamos $\\nabla_{k}\\nabla_{l} = \\nabla_{l}\\nabla_{k}$."
   ]
  },
  {
   "cell_type": "markdown",
   "id": "8ada7930",
   "metadata": {},
   "source": [
    "No entanto, como os potenciais elétrico e magnético aparecem explicitamente na equação de Schrödinger, eq. ($*$), fica a questão sobre quais são os __efeitos__ de transformações de calibre nesse caso. Vamos verificar isso substituindo a transformação de calibre, \n",
    "$$\\Phi\\rightarrow \\Phi' = \\Phi - \\partial_{t}\\chi,\\ \\vec{A}\\rightarrow \\vec{A}' = \\vec{A} + \\vec{\\nabla}\\chi$$\n",
    "na eq. $(*)$. Vamos verificar que o que essa transformação faz é adicionar uma fase proporcional a $q\\chi$ na __função de onda__\n",
    "\\begin{align}\n",
    "   & \\Psi \\rightarrow \\Psi' = e^{iq\\chi/\\hbar}\\Psi \\\\\n",
    "    & \\therefore\\ \\Psi = e^{-iq\\chi/\\hbar}\\Psi'.\n",
    "\\end{align}\n",
    "Teremos assim que\n",
    "\\begin{align}\n",
    "i\\hbar\\partial_{t}\\Psi & = i\\hbar e^{-iq\\chi/\\hbar}(-iq/\\hbar)(\\partial_{t}\\chi)\\Psi' + i\\hbar e^{-iq\\chi/\\hbar}\\partial_{t}\\Psi' \\\\\n",
    "&  = q e^{-iq\\chi/\\hbar}(\\partial_{t}\\chi)\\Psi' + i\\hbar e^{-iq\\chi/\\hbar}\\partial_{t}\\Psi'\n",
    "\\end{align}"
   ]
  },
  {
   "cell_type": "markdown",
   "id": "6639fae3",
   "metadata": {},
   "source": [
    "Substituindo esse resultado na eq. ($*$), vem que\n",
    "\\begin{align}\n",
    "& H\\Psi = i\\hbar\\partial_t \\Psi \\\\\n",
    "& \\therefore\\ \\Big(\\frac{1}{2m}\\big|\\big|-i\\hbar\\vec{\\nabla}-q\\vec{A}\\big|\\big|^{2} + q\\Phi\\Big)\\Psi = i\\hbar\\partial_{t}\\Psi \\\\\n",
    "& \\therefore\\ \\Big(\\frac{1}{2m}\\big|\\big|-i\\hbar\\vec{\\nabla}-q\\vec{A}\\big|\\big|^{2} + q\\Phi\\Big)e^{-iq\\chi/\\hbar}\\Psi' = q e^{-iq\\chi/\\hbar}(\\partial_{t}\\chi)\\Psi' + i\\hbar e^{-iq\\chi/\\hbar}\\partial_{t}\\Psi' \\\\\n",
    "& \\therefore\\ e^{iq\\chi/\\hbar}\\big(\\frac{1}{2m}\\big|\\big|-i\\hbar\\vec{\\nabla}-q\\vec{A}\\big)\\big|\\big|^{2} + q\\Phi\\Big)e^{-iq\\chi/\\hbar}\\Psi' - e^{iq\\chi/\\hbar}q(\\partial_{t}\\chi)e^{-iq\\chi/\\hbar}\\Psi' = i\\hbar\\partial_{t}\\Psi' \\\\\n",
    "& \\therefore\\ e^{iq\\chi/\\hbar}\\Big(\\frac{1}{2m}\\big|\\big|-i\\hbar\\vec{\\nabla}-q\\vec{A}\\big|\\big|^{2} + q\\Phi-q(\\partial_{t}\\chi)\\Big)e^{-iq\\chi/\\hbar}\\Psi' = i\\hbar\\partial_{t}\\Psi' \\\\\n",
    "& \\therefore\\ \\Big(e^{iq\\chi/\\hbar}\\frac{1}{2m}\\big|\\big|-i\\hbar\\vec{\\nabla}-q\\vec{A}\\big|\\big|^{2}e^{-iq\\chi/\\hbar} + q(\\Phi-\\partial_{t}\\chi)\\Big)\\Psi' = i\\hbar\\partial_{t}\\Psi' \\\\\n",
    "& \\therefore\\ \\Big(e^{iq\\chi/\\hbar}\\frac{1}{2m}\\big|\\big|-i\\hbar\\vec{\\nabla}-q\\vec{A}\\big|\\big|^{2}e^{-iq\\chi/\\hbar} + q\\Phi'\\Big)\\Psi' = i\\hbar\\partial_{t}\\Psi' \\\\\n",
    "& \\therefore\\ \\Big(\\frac{1}{2m}e^{iq\\chi/\\hbar}\\big(-i\\hbar\\vec{\\nabla}-q\\vec{A}\\big)e^{-iq\\chi/\\hbar}e^{iq\\chi/\\hbar}\\cdot\\big(-i\\hbar\\vec{\\nabla}-q\\vec{A}\\big)e^{-iq\\chi/\\hbar} + q\\Phi'\\Big)\\Psi' = i\\hbar\\partial_{t}\\Psi' \\\\\n",
    "& \\therefore\\ \\Big(\\frac{1}{2m}\\big(-i\\hbar e^{iq\\chi/\\hbar}\\vec{\\nabla}e^{-iq\\chi/\\hbar}-q\\vec{A}\\big)\\cdot\\big(-i\\hbar e^{iq\\chi/\\hbar}\\vec{\\nabla}e^{-iq\\chi/\\hbar}-q\\vec{A}\\big) + q\\Phi'\\Big)\\Psi' = i\\hbar\\partial_{t}\\Psi' \\\\\n",
    "& \\therefore\\ \\Big(\\frac{1}{2m}\\big|\\big|-i\\hbar e^{iq\\chi/\\hbar}\\vec{\\nabla}e^{-iq\\chi/\\hbar}-q\\vec{A}\\big|\\big|^{2} + q\\Phi'\\Big)\\Psi' = i\\hbar\\partial_{t}\\Psi' \\\\\n",
    "& \\therefore\\ \\Big(\\frac{1}{2m}\\big|\\big|-i\\hbar\\vec{\\nabla} -q\\vec{\\nabla}\\chi-q\\vec{A}\\big|\\big|^{2} + q\\Phi'\\Big)\\Psi' = i\\hbar\\partial_{t}\\Psi' \\\\\n",
    "& \\therefore\\ \\Big(\\frac{1}{2m}\\big|\\big|-i\\hbar\\vec{\\nabla} -q\\vec{A}'\\big|\\big|^{2} + q\\Phi'\\Big)\\Psi' = i\\hbar\\partial_{t}\\Psi' \\\\\n",
    "& \\therefore\\ H'\\Psi'= i\\hbar\\partial_{t}\\Psi',\n",
    "\\end{align}"
   ]
  },
  {
   "cell_type": "markdown",
   "id": "f52dc616",
   "metadata": {},
   "source": [
    "em que usamos\n",
    "\\begin{align}\n",
    "-i\\hbar e^{iq\\chi/\\hbar}\\vec{\\nabla}e^{-iq\\chi/\\hbar}\\Psi' & = -i\\hbar e^{iq\\chi/\\hbar}(\\vec{\\nabla}e^{-iq\\chi/\\hbar})\\Psi' -i\\hbar e^{iq\\chi/\\hbar}e^{-iq\\chi/\\hbar}(\\vec{\\nabla}\\Psi') \\\\\n",
    "& = -i\\hbar e^{iq\\chi/\\hbar}e^{-iq\\chi/\\hbar}(-iq/\\hbar)(\\vec{\\nabla}\\chi)\\Psi' -i\\hbar\\vec{\\nabla}\\Psi' \\\\\n",
    "& = \\big(-q(\\vec{\\nabla}\\chi) -i\\hbar\\vec{\\nabla}\\big)\\Psi'.\n",
    "\\end{align}\n",
    "Acima também usamos\n",
    "\\begin{align}\n",
    "\\vec{\\nabla}e^{-iq\\chi/\\hbar} & = \\sum_j\\hat{e}_j\\nabla_j e^{-iq\\chi/\\hbar}  = \\sum_j\\hat{e}_je^{-iq\\chi/\\hbar}\\nabla_j(-iq\\chi/\\hbar) \\\\\n",
    "& = (-iq/\\hbar)\\sum_j\\hat{e}_je^{-iq\\chi/\\hbar}\\nabla_j\\chi = (-iq/\\hbar)e^{-iq\\chi/\\hbar}\\sum_j\\hat{e}_j\\nabla_j\\chi \\\\\n",
    "& = (-iq/\\hbar)e^{-iq\\chi/\\hbar}\\vec{\\nabla}\\chi.\n",
    "\\end{align}\n",
    "\n",
    "Ou seja, parece assim que __a transformação de calibre não tem nenhuma consequência observável__ pois\n",
    "\\begin{equation}\n",
    "|\\Psi'|^{2} = \\Psi'(\\Psi')^{*} = e^{iq\\chi/\\hbar}\\Psi e^{-iq\\chi/\\hbar}\\Psi^{*} = |\\Psi|^{2}. \n",
    "\\end{equation}\n",
    "\n",
    "No entanto, existem discussões sobre fundamentos de MQ que envolvem esse tema, principalmente o __efeito Aharonov-Bohm__, que geram publicações científicas até os dias de hoje. Veja e.g.:\n",
    "* Aharonov, Y; Bohm, D (1959). \"Significance of electromagnetic potentials in quantum theory\". Physical Review. 115 (3): 485–491.\n",
    "* Olariu, S; Popescu, II (1985). \"The quantum effects of electromagnetic fluxes\". Reviews of Modern Physics. 57 (2): 339.\n",
    "* Overstreet, Chris; Asenbaum, Peter; Curti, Joseph; Kim, Minjeong; Kasevich, Mark A. (2022). \"Observation of a gravitational Aharonov-Bohm effect\". Science. 375 (6577): 226–229."
   ]
  },
  {
   "cell_type": "markdown",
   "id": "d6ef5060",
   "metadata": {},
   "source": [
    "Voltando ao nosso tema principal aqui, i.e., o átomo de Hidrogênio, se consideramos um sistema composto pelo __elétron__ e pelo __próton__, por exemplo, o hamiltoniano de acoplamento mínimo é\n",
    "\\begin{align}\n",
    "H = \\frac{1}{2m_{e}}\\big|\\big|\\vec{p}_{e}-q_e\\vec{A}_{e}\\big|\\big|^{2} + \\frac{1}{2m_{p}}\\big|\\big|\\vec{p}_{p}-q_p\\vec{A}_{p}\\big|\\big|^{2} + e(\\Phi_{p}-\\Phi_{e}) - \\frac{ke^{2}}{|\\vec{r}_{p}-\\vec{r}_{e}|},\n",
    "\\end{align}\n",
    "em que\n",
    "\\begin{equation}\n",
    "p_{s} = -i\\hbar\\vec{\\nabla}_{s},\\ \\vec{A}_{s} = \\vec{A}(\\vec{r}_{s},t),\\ \\Phi_{s} = \\Phi(\\vec{r}_{s},t) \\text{ para } s=e,p.\n",
    "\\end{equation}\n",
    "Esse hamiltoniano é chamado de __acoplamento mínimo__ pois não estão incluídas nele as interações envolvendo os spins do próton e do elétron, que levam às estruturas fina e hiperfina do átomo de Hidrogênio. As interações com campos eletromagnéticos externos envolvendo __spins__ devem ser inseridas explicitamente usando\n",
    "\\begin{equation}\n",
    "U = -\\vec{\\mu}\\cdot\\vec{B} = -\\frac{gq}{2m}\\vec{S}\\cdot\\vec{\\nabla}\\times\\vec{A}.\n",
    "\\end{equation}"
   ]
  },
  {
   "cell_type": "markdown",
   "id": "681e271d-5a95-4c98-b6b1-aef5b3524f58",
   "metadata": {},
   "source": [
    "---\n",
    "## Exercícios\n",
    "\n",
    "$1.$ Considere um oscilador harmônico quântico unidimensional (OHQ1D) com carga $q$ e massa $m$ sob a influência de um campo elétrico $\\vec{E}=-E\\hat{i}$ aplicado na mesma direção de oscilação do OHQ1D. Escolha um gauge no qual $\\vec{A}=\\vec{0}$; com isso teremos que $\\vec{E}=-\\vec{\\nabla}\\Phi\\ \\therefore\\ \\Phi = -EX.$ O Hamiltoniano desse sistema fica escrito como $H = \\frac{P^2}{2m} + \\frac{m\\omega^2}{2}X^2 + q\\Phi$. Faça a mudança de variável $\\Xi = aX + B$ e escolha $a=1$ e $B = \\frac{-qE}{m\\omega^2}I = bI$ para obter o hamiltoniano reescalado $H' = H - C =  \\frac{P_\\Xi^2}{2m} + \\frac{m\\omega^2}{2}\\Xi^2.$ Argumente que os autovalores e autofunções de $H$ são $E_n = \\hbar\\omega(n+1/2) + C$ e $\\psi_n(\\xi) = \\psi_n(x+b),$ repsectivamente."
   ]
  }
 ],
 "metadata": {
  "kernelspec": {
   "display_name": "Python 3 (ipykernel)",
   "language": "python",
   "name": "python3"
  },
  "language_info": {
   "codemirror_mode": {
    "name": "ipython",
    "version": 3
   },
   "file_extension": ".py",
   "mimetype": "text/x-python",
   "name": "python",
   "nbconvert_exporter": "python",
   "pygments_lexer": "ipython3",
   "version": "3.12.2"
  }
 },
 "nbformat": 4,
 "nbformat_minor": 5
}
