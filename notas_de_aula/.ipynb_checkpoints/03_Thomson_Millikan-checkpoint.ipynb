{
 "cells": [
  {
   "cell_type": "markdown",
   "metadata": {},
   "source": [
    "### Notas de aula de Mecânica Quântica <br> Autor: Jonas Maziero"
   ]
  },
  {
   "cell_type": "markdown",
   "metadata": {},
   "source": [
    "# O 'fim' do período clássico\n",
    "Em 1900, _Lord Kelvin_ (1824-1907) disse: \"Não existe nada novo há ser descoberto em Física. Tudo o que resta a fazer são medidas mais e mais precisas.\" Esse excesso de confiança se devia ao sucesso que as teorias chamadas hoje em dia de _Física Clássica_ tinham naquela época em explicar os fenômenos naturais. Dentre estas teorias, podemos citar:\n",
    "* Mecânica Newtoniana (e suas versões Lagrangeana ou Hamiltoniana),\n",
    "* Eletromagnetismo de Maxwell, \n",
    "* Termodinâmica,\n",
    "* Mecânica Estatísica Clássica.\n",
    "\n",
    "Mas haviam alguns experimentos que a Física Clássica não dava conta de descrever (radiação de corpo negro, efeito fotoelétrico, espectros de emissão e absorção atômicos, calor específico de sólidos, etc). Esses experimentos motivaram alguns físicos, hoje bem conhecidos, a propor conceitos estranhos à Física Clássica, tais como quantização da energia de oscilação de um oscilador harmônico e dualidade onda-partícula. Descreveremos inicialmente alguns desses desenvolvimentos, a chamada Velha Teoria Quântica, que foram feitos de 1900 a 1925."
   ]
  },
  {
   "cell_type": "markdown",
   "metadata": {},
   "source": [
    "# Quantização da carga elétrica\n",
    "A quantização da matéria foi proposta por _Demócrito_ já antes de Cristo. Depois de vários desenvolvimentos, por volta de 1900 esta hipótese era bem aceita, com, por exemplo, a teoria cinética dos gases levando a predições termodinâmicas que concordavam muito bem com os experimentos. Segundo Richard Feynman, a ideia de que a matéria não é contínua, mas sim granular, seria uma das heranças intelectuais mais importantes da humanidade.\n",
    "\n",
    "Em torno de 1900, o Eletromagnetismo também já tinha sido desenvolvido, e portanto o conceito de carga elétrica era familiar aos cientistas. Como quase sempre em ciência, existem muitos pequenos desenvolvimentos e ideias que culminam em uma grande descoberta. Aqui pularemos esses passos e descreveremos somente os importantes experimentos de J.J. Thomson e de Robert Millikan, que nos possibilitaram não só inferir que todos os tipos de matéria (átomos) contêm um mesmo tipo de carga elétrica fundamental, mas que essa partícula elementar fornece a unidade de carga elétrica, que para um objeto qualquer é quantizada, ou seja, a carga elétrica de um objeto qualquer é um múltiplo inteiro da carga elétrica elementar:\n",
    "\\begin{equation}\n",
    "q=ne\n",
    "\\end{equation}\n",
    "com $n\\in\\mathbb{Z}$ e $$e=1,602176634\\mathrm{x}10^{-19} \\text{ C}.$$"
   ]
  },
  {
   "cell_type": "markdown",
   "metadata": {},
   "source": [
    "## Experimento de J. J. Thomson (medida de $e/m_{e}$)\n",
    "Um aparelho tal como aquele usado no experimento de Thomson (J.J. Thomson, On the Cathode Rays, Proceedings of the Cambridge Philosophical Society 9, 243 (1897)), (https://www.nobelprize.org/prizes/physics/1906/thomson/lecture/) está mostrado na figura abaixo.\n",
    "\n",
    "<figure>\n",
    "    <img src=\"fig_01_thomson.png\" width=\"700\">\n",
    "    <div class=\"caption\">Fonte: https://commons.wikimedia.org/wiki/File:J_J_Thomsons_cathode_ray_tube_with_magnet_coils,_1897._(9663807404).jpg.</div>\n",
    "</figure>"
   ]
  },
  {
   "cell_type": "markdown",
   "metadata": {},
   "source": [
    "Uma diferença de potencial elétrico (ddp) é aplicada entre o cátodo $C$ (placa circular pequena mais para a direita) e o colimador/placa metálica $A$ (as duas placas cilíndricas com um orifício). Cargas elétricas são arrancadas de $C$ e aceleradas pela ddp em direção a $A$. Os colimadores $A$ e $B$ selecionam as cargas elétricas que possuem velocidade paralela ao plano das placas metálicas $D$ e $E$ (placas planas no centro do aparato). Essas cargas elétricas são finalmente detectadas na extremidade esquerda do tubo de raios catódicos, onde se mede a altura $y$ em relação ao ponto médio entre $D$ e $E$. Um campo elétrico $\\vec{E}$ é criado na região entre as placas pela aplicação de uma ddp entre $D$ e $E$ ($\\vec{E}$ é aproximadamente uniforme na região central entre as placas $D$ e $E$). Espiras de corrente são utilizadas para criar um campo magnético (também aproximadamente uniforme na região central entre as placas $D$ e $E$) ortogonal a $\\vec{E}$ e à velocidade $\\vec{v}$ das cargas elétricas.\n",
    "\n",
    "### Experimento para obter a velocidade inicial\n",
    "Considere que $D$ (placa superior) possui potencial elétrico positivo e $E$ (placa inferior) possui potencial elétrico negativo. Por conseguinte, o campo elétrico aponta de $D$ pra $E$, e, se a carga elétrica dos íons for negativa ($q<0$), existe uma força elétrica\n",
    "\\begin{equation}\n",
    "\\vec{F}_{e}=q\\vec{E}\n",
    "\\end{equation}\n",
    "que desviará as cargas  pra cima. Através das leis de Maxwell do eletromagnetismo, sabemos obter os módulos dos campos elétrico e magnético (que estão relacionados com a ddp e a corrente elétrica nos solenóides, respectivamente). Então, lembrando que a força magnética é\n",
    "\\begin{equation}\n",
    "\\vec{F}_{m}=q\\vec{v}\\mathrm{x}\\vec{B},\n",
    "\\end{equation}\n",
    "vemos que se o campo magnético apontar para fora do plano da figura, a força magnética será para baixo. Fixada a corrente elétrica no solenóide, podemos obter o módulo da velocidade ajustando a ddp entre $D$ e $E$ (ou vice-versa) até que a trajetória das cargas não sofra (aproximadamente) desvio algum. Nesse caso teremos a _velocidade inicial das cargas elétricas_:\n",
    "\\begin{equation}\n",
    "F_{e}=F_{m}\\Rightarrow qE=qvB\\Rightarrow v=\\frac{E}{B}.\n",
    "\\end{equation}"
   ]
  },
  {
   "cell_type": "markdown",
   "metadata": {},
   "source": [
    "### Experimento para obter a razão carga elétrica/massa\n",
    "Seguindo, abrimos os circuitos dos solenóides, fazendo \n",
    "$$\\vec{B}=\\vec{0}.$$\n",
    "A mesma ddp é aplicada entre as placas $D$ e $E$, portanto temos o mesmo campo elétrico $\\vec{E}$ do caso anterior. Consideremos que as placas possuem comprimento $x_{1}$. Na direção $x$ (horizontal) não há aceleração, então o _tempo que as cargas passam na região entre as placas_ E e D é\n",
    "\\begin{equation}\n",
    "v_{x}=v_{x0}=v=\\frac{E}{B}=\\frac{x_{1}}{t_{1}}\\Rightarrow t_{1}=\\frac{x_{1}B}{E},\n",
    "\\end{equation}\n",
    "em que $t_{1}$ é o tempo que as cargas elétricas passam na região entre as placas. \n",
    "\n",
    "Como a aceleração é constante na direção $y$ (vertical), $y=y_{0}+v_{0y}t+a_{y}t^{2}/2$, $y_{0}:=0$ e $v_{y0}=0$:\n",
    "\\begin{equation}\n",
    "y_{1} = \\frac{a_{y}t_{1}^{2}}{2} = \\frac{F_{y}}{m}\\frac{t_{1}^{2}}{2} = \\frac{qE}{m}\\frac{x_{1}^{2}B^{2}}{2E^{2}} = \\frac{qx_{1}^{2}B^{2}}{2mE}.\n",
    "\\end{equation}\n",
    "Ademais, as cargas saem da região entre as placas com velocidade ($v_{y}=v_{y0}+a_{y}t_{1}$),\n",
    "\\begin{equation}\n",
    "v_{y}=\\frac{qE}{m}\\frac{x_{1}B}{E} = \\frac{qx_{1}B}{m}.\n",
    "\\end{equation}\n",
    "\n",
    "Fora da região entre as placas não há força alguma (mais uma aproximação). Seja $x_{2}$ a distância da extremidade direita das placas até a coordenada horizontal na qual as cargas elétricas são detectadas. Como $v_{x}=\\text{constante}$, o tempo desde que as cargas elétricas saem da região entre as placas até chegarem na placa de detecção é\n",
    "\\begin{equation}\n",
    "t_{2} = \\frac{x_{2}}{v_{x0}}= \\frac{x_{2}}{E/B} =\\frac{x_{2}B}{E}.\n",
    "\\end{equation}\n",
    "\n",
    "Assim, a coordenada vertical na qual as cargas são detectadas é obtida somando os deslocamente dentro e fora das placas (fora usa $y=y_{0}+v_{y0}t_{2}$):\n",
    "\\begin{align}\n",
    "y &= y_{1}+y_{2} = y_{1}+y_{1}+v_{y}t_{2} = 2\\frac{qx_{1}^{2}B^{2}}{2mE} + \\frac{qx_{1}B}{m}\\frac{x_{2}B}{E} \\\\\n",
    "&= \\frac{qx_{1}B^{2}}{mE}(x_{1}+x_{2}).\n",
    "\\end{align}\n",
    "Portanto, a relação carga-massa para essas partículas é obtida de\n",
    "\\begin{equation}\n",
    "\\frac{q}{m}=\\frac{Ey}{B^{2}x_{1}(x_{1}+x_{2})}.\n",
    "\\end{equation}"
   ]
  },
  {
   "cell_type": "markdown",
   "metadata": {},
   "source": [
    "Note que todos os parâmetros no lado direito da última equação podem ser obtidos experimentalmente (usando uma régua, um amperímetro e um voltímetro). Thomson utilizou vários materiais como _cátodo_ (que é de onde saem as cargas elétricas), e obteve o valor aproximado (dentro do erro experimental):\n",
    "\\begin{equation}\n",
    "\\frac{q}{m}\\approx 2\\mathrm{x}10^{11}\\text{C/kg},\n",
    "\\end{equation}\n",
    "que está bem próximo do valor mais preciso obtido até hoje (https://physics.nist.gov/cgi-bin/cuu/Value?esme): \n",
    "$$-e/m_{e}=-1,75882001076(53)\\mathrm{x}10^{11} \\text{ C/kg}.$$ \n",
    "\n",
    "#### Conclusão importante\n",
    "A medida do mesmo valor de $q/m$ para tantos materiais levou Thomson a propor que essa carga elétrica era devida a uma partícula, que ele chamou de __corpúsculo__, que _estaria presente em todas as substâncias_. Esse experimento é tido como a __descoberta do elétron__, nome este que foi dado posteriormente por Lorentz. Ademais, comparação com resultados de experimentos feitos com íons de Hidrogênio permitiram a Thomson dizer que o elétron, além de ter carga elétrica negativa, possui massa aproximadamente 2000 vezes menor que a do elemento mais leve conhecido (o Hidrogênio)."
   ]
  },
  {
   "cell_type": "markdown",
   "metadata": {},
   "source": [
    "\n",
    "## Experimento de Millikan (medida de $e$)\n",
    "O experimento de Robert Millikan, publicado em 1913 (https://physics.aps.org/articles/v5/9) e mostrado nas figuras abaixo, consiste de um borrifador de gotas \n",
    "de óleo (ou de outro material). Essas gotas, que podem possuir carga elétrica não nula (adquiridas na borrifagem), descem sujeitas à força gravitacional e à força de arrasto com o ar. Depois, adiciona-se a força elétrica ligando um campo elétrico entre as placas mostradas na figura. Mede-se o tempo de descida e subida das gotas observando-as com o microscópio. Uma fonte de _raios X_, que não está mostrada na figura, pode ser usada para ionizar as gotas (para mudar sua carga elétrica).\n",
    "<figure>\n",
    "<img src=\"fig_01_millikan.png\" width=\"600\">\n",
    "<div class=\"caption\">Fonte: https://commons.wikimedia.org/wiki/File:Milikan_exp.png.</div>\n",
    "</figure>\n",
    "<figure>\n",
    "<img src=\"fig_01_millikan_.jpg\" width=\"300\">\n",
    "<div class=\"caption\">Fonte: https://commons.wikimedia.org/wiki/File:Millikan%E2%80%99s_oil-drop_apparatus_1.jpg.</div>\n",
    "</figure>"
   ]
  },
  {
   "cell_type": "markdown",
   "metadata": {},
   "source": [
    "Na __descida__ e na subida as gotas atingem rapidamente a velocidade terminal, então vamos nos concentrar nesse limite. Na descida, teremos\n",
    "\\begin{equation}\n",
    "F_{g}-F_{a} = 0 \\Rightarrow mg - bv_{d} = 0 \\Rightarrow b=\\frac{mg}{v_{d}},\n",
    "\\end{equation}\n",
    "onde $b$ é o coeficiente de arrasto, $m$ é a massa da gota, $g\\approx 9,807\\text{ m/s}^{2}$, e $v_{d}$ é a velocidade de descida.\n",
    "\n",
    "Na __subida__, com o campo elétrico ligado, e na velocidade terminal, temos que\n",
    "\\begin{equation}\n",
    "F_{e}-F_{g}-F_{a}=0 \\Rightarrow q_{n}E-mg-bv_{s}=0,\n",
    "\\end{equation}\n",
    "onde $q_{n}$ é a carga elétrica da gota, $E$ é o campo elétrico (conhecido) e $v_{s}$ é a velocidade de subida. Teremos assim a __carga elétrica da gota__\n",
    "\\begin{equation}\n",
    "q_{n} = \\frac{mg}{E}+\\frac{bv_{s}}{E} = \\frac{mg}{E}+\\frac{mg}{v_{d}}\\frac{v_{s}}{E} = \\frac{mg}{Ev_{d}}\\left(v_{d}+v_{s}\\right). \\hspace{2cm}(\\star)\n",
    "\\end{equation}\n",
    "As velocidades de descida e de subida são obtidas experimentalmente medindo-se os tempos de descida e de subida, respectivamente. Teremos \n",
    "\\begin{equation}\n",
    "v_{d}=\\frac{d}{T_{d}} \\text{ e } v_{s}=\\frac{d}{T_{s}},\n",
    "\\end{equation}\n",
    "onde $T_{d}$ é o tempo de descida, $T_{s}$ é o tempo de subida e $d$ é a distância entre as placas. A densidade do óleo era conhecida, e com isso a massa da gota (que é aproximadamente esférica) é obtida de\n",
    "\\begin{equation}\n",
    "m = \\rho V = \\frac{\\rho 4\\pi a^{3}}{3},\n",
    "\\end{equation}\n",
    "onde $a$ é o raio da gota. Da _lei de Stokes_ (válida para velocidades não muito altas) temos\n",
    "\\begin{equation}\n",
    "b = 6\\pi\\eta a = \\frac{mg}{v_{d}} \\Rightarrow a = \\frac{mg}{6\\pi\\eta v_{d}},\n",
    "\\end{equation}\n",
    "em que $\\eta$ é o coeficiente de viscosidade do ar (conhecido). Juntando com a equação anterior, teremos a __massa da gota__\n",
    "\\begin{equation}\n",
    "m = \\sqrt{\\frac{3(6\\pi\\eta v_{d})^{3}}{4\\pi\\rho g^{3}}}.\n",
    "\\end{equation}"
   ]
  },
  {
   "cell_type": "markdown",
   "metadata": {},
   "source": [
    "A __quantização__ da carga elétrica da gota nos dá:\n",
    "\\begin{equation}\n",
    "q_{n} = ne = \\frac{mg}{Ev_{d}}\\left(v_{d}+v_{s}\\right),\n",
    "\\end{equation}\n",
    "em que $e$ é a carga elétrica elementar e $n$ é um número natural. Nos experimentos, Millikan usou raios X para ionizar as gotas (depois que ela chega na placa inferior), que teriam uma nova quantidade de carda elétrica (note que $v_{d}$ não muda pois $\\vec{E}=\\vec{0}$ na descida e a massa das cargas retiradas é muito menor que a massa da gota):\n",
    "\\begin{equation}\n",
    "q_{n'}=n'e =  \\frac{mg}{Ev_{d}}\\left(v_{d}+v'_{s}\\right),\n",
    "\\end{equation}\n",
    "que nos dá uma mudança de carga elétrica da gota:\n",
    "\\begin{equation}\n",
    "q_{n'}-q_{n}=(n'-n)e:=\\delta_{n}e=\\frac{mg}{Ev_{d}}\\left(v'_{s}-v_{s}\\right).\n",
    "\\end{equation}\n",
    "Por conseguinte (usamos a Eq. ($\\star$))\n",
    "\\begin{equation}\n",
    "\\frac{n}{v_{d}+v_{s}} = \\frac{\\delta_{n}}{v'_{s}-v_{s}} = \\frac{mg}{Ev_{d}e}.\n",
    "\\end{equation}\n",
    "Millikan procurou os valores de $n$ e de $\\delta_{n}$ que forneciam o mesmo valor para $\\frac{n}{v_{d}+v_{s}}$ e para $\\frac{\\delta_{n}}{v_{s}-v'_{s}}$, repetindo a medida inúmeras vezes. Dessa constante ele obteve o valor da __carga elétrica elementar__ usando:\n",
    "\\begin{equation}\n",
    "e = \\frac{mg}{Ev_{d}} = 1,591\\mathrm{x}10^{-19}\\text{ C},\n",
    "\\end{equation}\n",
    "que está bem próximo do exato atual $e=1,602176634\\mathrm{x}10^{-19} \\text{ C}$ (https://physics.nist.gov/cgi-bin/cuu/Value?e)."
   ]
  },
  {
   "cell_type": "markdown",
   "metadata": {},
   "source": [
    "## Exercícios\n",
    "\n",
    "$1.$ Considerando o experimento de Thompson, escreva os campos elétrico $\\vec{E}$ e magnético $\\vec{B}$, respectivamente, em termos da diferença de potencia $V$ entre as placas e da corrente elétrica $i$ no solenóide.\n",
    "\n",
    "$2.$ Um próton de um raio cósmico aproxima-se da superfície da Terra verticalmente, na linha do equador, com velocidade $3\\mathrm{x}10^{6}\\text{ m/s}$. Nesse local a componente horizontal do campo magnético tem magnitude aproximada de $3,5\\mathrm{x}10^{-5}\\text { T}$. Qual é a razão entre a força magnética e a força gravitacional no próton?\n",
    "\n",
    "$3.$ Considere o experimento de Thomson com campo elétrico desligado e campo magnético ligado. Mostre que o ângulo que a velocidade instantânea do elétron faz com a direção horizontal pode ser escrito como $\\theta_{t} = qBt/m$. Assim, para $x_{1}\\ll 1$ (comprimento das placas pequeno), teremos que a trajetória do elétron é desviada de um ângulo $\\theta\\approx qBx_{1}/mv$.\n",
    "\n",
    "$4.$ Considere o experimeto de Millikan e mostre que um campo elétrico $E=2mg/q$ é necessário para que o tempo de subida da gota de óleo seja igual ao tempo de descida.\n",
    "\n",
    "$5.$ Considere uma variação do experimento de Millikan em que o campo elétrico $\\vec{E}$ é aplicado na direção horizontal. No regime onde a gota atingiu sua velocidade terminal $\\vec{v}$, mostre que o menor ângulo que sua velocidade faz com a direção vertical é $\\theta=\\arcsin(qE/bv)$."
   ]
  }
 ],
 "metadata": {
  "kernelspec": {
   "display_name": "Python 3 (ipykernel)",
   "language": "python",
   "name": "python3"
  },
  "language_info": {
   "codemirror_mode": {
    "name": "ipython",
    "version": 3
   },
   "file_extension": ".py",
   "mimetype": "text/x-python",
   "name": "python",
   "nbconvert_exporter": "python",
   "pygments_lexer": "ipython3",
   "version": "3.11.1"
  }
 },
 "nbformat": 4,
 "nbformat_minor": 4
}
