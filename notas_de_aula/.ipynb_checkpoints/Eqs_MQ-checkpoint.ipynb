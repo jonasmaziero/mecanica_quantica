{
 "cells": [
  {
   "cell_type": "markdown",
   "metadata": {},
   "source": [
    "\\begin{align}\n",
    "& \\text{Notas de aula: Mecânica Quântica, Autor: Jonas Maziero, Departamento de Física, UFSM}\\\\\n",
    "& X \\equiv \\{x_{j},p_{j}\\} \\text{; } p_{j} = N_{j}/N \\text{; } \\langle X\\rangle=\\sum_{j}x_{j}p_{j} \\text{; } Var(X)= \\langle(X-\\langle X\\rangle)^{2}\\rangle=\\langle X^{2}\\rangle-\\langle X\\rangle^{2} \\text{; } \\\\ \n",
    "& Cov(X,Y)=\\langle(X-\\langle X\\rangle)(Y-\\langle Y\\rangle)\\rangle =\\langle XY\\rangle - \\langle X\\rangle\\langle Y\\rangle \\text{; } \\\\\n",
    "& i\\hbar\\partial_{t}U_{t}=H_{t}U_{t} \\text{; }[H_{t},H_{t'}]=\\mathbb{O}\\Rightarrow U_{t}=e^{-\\frac{i}{\\hbar}\\int_{0}^{t}H_{t'}dt'} \\text{; } H_t=H\\Rightarrow U_t = e^{-iHt/\\hbar}; \\\\\n",
    "& O_{t}^{S}=O_{0}^{S}=(O_{0}^{S})^{\\dagger}=\\sum_{j}o_{j}|o_{j}^{S}\\rangle\\langle o_{j}^{S}| \\text{;  } |\\psi_{t}^{S}\\rangle=U_{t}|\\psi_{0}^{S}\\rangle \\text{; } i\\hbar\\partial_{t}|\\psi_{t}^{S}\\rangle = H_{t}|\\psi_{t}^{S}\\rangle \\text{;  } Pr(o_{j})_{t}=|\\langle o_{j}^{S}|\\psi_{t}^{S}\\rangle|^{2} \\text{;  } \\\\\n",
    "& O_{t}^{H} = (O_{t}^{H})^{\\dagger}=\\sum_{j}o_{j}|o_{j}^{H}\\rangle\\langle o_{j}^{H}| \\text{; } |o_{j}^{H}\\rangle = U_{t}^{\\dagger}|o_{j}^{S}\\rangle \\text{; } |\\psi_{t}^{H}\\rangle=|\\psi_{0}^{S}\\rangle \\text{;  } Pr(o_{j})_{t}=|\\langle o_{j}^{H}|\\psi_{0}^{S}\\rangle|^{2} \\text{; } \\\\\n",
    "& O_{t}^{H} = U_{t}^{\\dagger}O_{t}^{S}U_{t} \\text{; } i\\hbar\\partial_{t}O_{t}^{H} = [O_{t}^{H},H_{t}^{H}] + i\\hbar\\partial_{t}^{H}O_{t}^{S} \\text{; } \\\\\n",
    "& H_{t}=H_{c}+V_{t} \\text{; } W_{t} = e^{-iH_{c}t/\\hbar} \\text{; } |o_{j}^{I}(t)\\rangle=W_{t}^{\\dagger}|o_{j}^{S}\\rangle \\text{; } O_{t}^{I}=W_{t}^{\\dagger}O_{t}^{S}W_{t} \\text{; } i\\hbar\\partial_{t}|\\psi_{t}^{I}\\rangle = V_{t}|\\psi_{t}^{I}\\rangle \\text{; } \\\\ \n",
    "& Pr(o_{j})_{t}=|\\langle o_{j}^{I}|\\psi_{t}^{I}\\rangle|^{2} \\text{; } f(O) = f\\Big(\\sum_j o_j|o_j\\rangle\\langle o_j|\\Big) =\\sum_j f(o_j)|o_j\\rangle\\langle o_j|;\\\\\n",
    "& \\hat{n}\\cdot\\vec{\\sigma} = \\begin{bmatrix} \\cos\\theta & e^{-i\\phi}sin\\theta \\\\ e^{i\\phi}sin\\theta & -\\cos\\theta \\end{bmatrix} \\text{; } \\sigma_1 = \\begin{bmatrix} 0 & 1 \\\\ 1 & 0 \\end{bmatrix};\\ \\sigma_2 = \\begin{bmatrix} 0 & -i \\\\ i & 0 \\end{bmatrix};\\ \\sigma_3 = \\begin{bmatrix} 1 & 0 \\\\ 0 & -1 \\end{bmatrix}; \\\\\n",
    "& [\\sigma_j,\\sigma_k] = 2i\\epsilon_{jkl}\\sigma_l;\\ U = -\\vec{\\mu}\\cdot\\vec{B};\\ \\vec{\\mu} = \\frac{gq}{2m}\\vec{L}; \\\\ \n",
    "& |n_{+1}\\rangle=\\cos(\\theta/2)|z_{+}\\rangle+e^{i\\phi}\\sin(\\theta/2)|z_{-}\\rangle \\text{, }|n_{-1}\\rangle=\\sin(\\theta/2)|z_{+}\\rangle-e^{i\\phi}\\cos(\\theta/2)|z_{-}\\rangle; \\\\\n",
    "& H = \\hbar\\omega(N+\\mathbb{I}/2) \\text{; } N=a^{\\dagger}a \\text{; } [a,a^{\\dagger}]=\\mathbb{I} \\text{; } N|n\\rangle=n|n\\rangle \\text{; } n=0,1,2,\\cdots,\\infty \\text{; } \\\\ \n",
    "& a|n\\rangle=\\sqrt{n}|n-1\\rangle;\\ a^{\\dagger}|n\\rangle=\\sqrt{n+1}|n+1\\rangle;\\ a := \\sqrt{m\\omega/2\\hbar}\\left(X + (i/m\\omega)P\\right) \\\\\n",
    "& Var(A)Var(B)\\ge |\\langle[A,B]\\rangle/2|^{2}+CovQ(A,B)^{2} \\text{; } CovQ(A,B)=(Cov(A,B)+Cov(B,A))/2; \\\\\n",
    "& \\mathrm{Var}(A)+\\mathrm{Var}(B) \\ge \\max\\left(2^{-1}|\\langle\\xi|(A\\pm B)|\\xi_{\\perp}\\rangle|^{2},\\pm i\\langle[A,B]\\rangle + |\\langle\\xi_{\\perp}|(A\\pm iB)|\\xi\\rangle|^{2}\\right); \\\\\n",
    "& \\sigma_{H_{t}}\\Delta t_{O} \\ge \\frac{\\hbar}{2} \\text{; } \\Delta t_{O} := \\frac{\\sigma_{O_{t}}}{|\\partial_{t}\\langle O_{t}\\rangle|} \\text{; } H_{t}=H\\Rightarrow t_{\\perp} \\ge \\frac{\\hbar\\pi}{2\\sigma_{H}}; \\\\\n",
    "& \\{|\\psi_{j}\\rangle,p_{j}\\}\\equiv\\rho=\\sum_{j}p_{j}|\\psi_{j}\\rangle\\langle\\psi_{j}| \\text{; } Tr(\\rho)=1 \\text{; } \\rho\\ge\\mathbb{O} \\text{; } Pr(o|\\rho)=Tr(\\rho\\Pi_{o}); \\\\ \n",
    "& \\langle O\\rangle_{\\rho}=Tr(O\\rho) \\text{, } \\rho_{t}\\equiv\\{U_{t}|\\psi_{j}\\rangle,p_{j}\\}=U_{t}\\rho U_{t}^{\\dagger} \\text{; } i\\hbar\\partial_{t}\\rho_{t}=[H_{t},\\rho_{t}]; \\\\\n",
    "& \\rho_{th} = Z^{-1}e^{-\\beta H} \\text{; } Z = Tr(e^{-\\beta H}) \\text{; } S_{th}(\\rho)/(k_{B}\\ln 2) = S_{vN}(\\rho) = -\\mathrm{Tr}(\\rho\\log_{2}\\rho) \\text{; } \\\\ \n",
    "& -k_{B}T\\ln Z =: F = \\langle H\\rangle - TS_{th}; A\\otimes B = \\begin{bmatrix}A_{11}B & A_{12}B & \\cdots \\\\ A_{21}B & A_{22}B & \\cdots \\\\ \\vdots & \\vdots & \\vdots \\end{bmatrix}; \\\\\n",
    "& (A\\otimes B)(C\\otimes D)=AC\\otimes BD \\text{;}\\hspace{1cm} |\\Psi\\rangle = \\sum_{j_{1}=1}^{d_{1}}\\sum_{j_{2}=1}^{d_{2}}\\cdots\\sum_{j_{n}=1}^{d_{n}} c_{j_{1}j_{2}\\cdots j_{n}} |\\psi_{j_{1}}\\rangle\\otimes|\\psi_{j_{2}}\\rangle\\cdots\\otimes|\\psi_{j_{n}}\\rangle; \\\\\n",
    "& Pr\\left(o_{j}^{(1)},o_{k}^{(2)}|\\Psi\\right) = \\left|\\langle\\Psi|\\left(|o_{j}^{(1)}\\rangle\\otimes|o_{k}^{(2)}\\rangle\\right)\\right|^{2} \\text{;} \\hspace{1cm} Pr\\left(o_{j}^{(1)}|\\Psi\\right) = \\sum_{k}Pr\\left(o_{j}^{(1)},o_{k}^{(2)}|\\Psi\\right); \\\\\n",
    "& [X_{j},X_{k}] = \\mathbb{O} \\text{; }\\hspace{0.2cm} [P_{j},P_{k}] = \\mathbb{O}\\text{; } \\hspace{0.2cm} [X_{j},P_{k}] = i\\hbar\\mathbb{I}\\delta_{jk}\\text{; } \\hspace{0.2cm} j,k=1,2,3; \\\\\n",
    "& \\langle x_{j}|P_{j}|\\psi\\rangle = \\frac{\\hbar}{i}\\partial_{x_{j}}\\langle x_{j}|\\psi\\rangle \\text{; } \\langle X_{j}^{n}\\rangle_{\\psi} = \\int dx_{j}|\\psi(x_{j})|^{2}x_{j}^{n} \\text{; } \\langle P_{j}^{n}\\rangle_{\\psi} = \\int dx_{j}\\psi^{*}(x_{j})\\left(\\frac{\\hbar}{i}\\partial_{x_{j}} \\right)^{n}\\psi(x_{j}); \\\\\n",
    "& i\\hbar\\partial_{t}\\psi_{t}(\\vec{x}) = \\frac{-\\hbar^{2}}{2m}\\nabla^{2}_{\\vec{x}}\\psi_{t}(\\vec{x}) + u_{t}(\\vec{x})\\psi_{t}(\\vec{x}) \\text{; } \\psi(\\vec{p}) = \\frac{1}{(2\\pi\\hbar)^{3/2}}\\int d^{3}x e^{-i\\vec{p}\\cdot\\vec{x}/\\hbar}\\psi(\\vec{x}); \\\\ \n",
    "\\end{align}"
   ]
  },
  {
   "cell_type": "markdown",
   "metadata": {},
   "source": [
    "\\begin{align}\n",
    "& [L_{j},L_{k}] = i\\hbar\\varepsilon_{jkl}L_{l} \\text{; } [L^{2},L_{k}] = \\mathbb{O}  \\text{ para } k=1,2,3 \\text{; } L_{\\pm} := L_{1} \\pm iL_{2} \\text{, } L_{\\pm}L_{\\mp} = L^{2} - L_{3}^{2} \\pm\\hbar L_{3};\\\\\n",
    "& L_{\\pm}|l,m\\rangle = \\hbar\\sqrt{l(l+1)-m(m\\pm1)}|l,m\\pm1\\rangle; |j,m\\rangle =\\sum_{m_a,m_b}C_{m_a m_b m}^{j_a j_b j}|m_a\\rangle\\otimes|m_b\\rangle; \\\\\n",
    "& \\vec{J} := \\vec{J}_{a}\\otimes\\mathbb{I}_{b} + \\mathbb{I}_{a}\\otimes\\vec{J}_{b} = \\sum_{i=1}^{3}\\hat{e}_{i}\\left(J_{i}^{a}\\otimes\\mathbb{I}_{b} + \\mathbb{I}_{a}\\otimes J_{i}^{b}\\right)=\\sum_{i=1}^{3}\\hat{e}_{i}J_{j} \\text{; } J_{\\pm} = J_{\\pm}^{a}\\otimes\\mathbb{I}_{b} + \\mathbb{I}_{a}\\otimes J_{\\pm}^{b}; \\\\\n",
    "& E_{n}=E_{n}^{(0)}+ E_{n}^{(1)} + E_{n}^{(2)}+\\cdots;\\ E_{n}^{(1)} = \\langle\\psi_{n}^{(0)}|H_{1}|\\psi_{n}^{(0)}\\rangle;\\ E_n^2 = \\sum_{m\\ne n}\\frac{|\\langle\\psi_{n}^{(0)}|H_1|\\psi_m^{(0)}\\rangle|^{2}}{E_n^{(0)}-E_m^{(0)}}; \\\\\n",
    "& |\\psi_{n}^{(1)}\\rangle = \\sum_{m\\ne n}\\frac{\\langle\\psi_{m}^{(0)}|H_{1}|\\psi_{n}^{(0)}\\rangle}{E_{n}^{(0)}-E_{m}^{(0)}}|\\psi_{m}^{(0)}\\rangle,\\\\\n",
    "& |\\psi_{n}^{(2)}\\rangle = \\sum_{m\\ne n}\\sum_{m'\\ne n}\\frac{\\langle\\psi_{m}^{(0)}|H_{1}|\\psi_{m'}^{(0)}\\rangle}{E_{n}^{(0)}-E_{m}^{(0)}}\\frac{\\langle\\psi_{m'}^{(0)}|H_{1}|\\psi_{n}^{(0)}\\rangle}{E_{n}^{(0)}-E_{m'}^{(0)}}|\\psi_{m}^{(0)}\\rangle - E_{n}^{(1)}\\sum_{m\\ne n}\\frac{\\langle\\psi_{m}^{(0)}|H_{1}|\\psi_{n}^{(0)}\\rangle}{(E_{n}^{(0)}-E_{m}^{(0)})^{2}}|\\psi_{m}^{(0)}\\rangle; \\\\\n",
    "& \\vec{J} := \\vec{J}_{a}\\otimes\\mathbb{I}_{b} + \\mathbb{I}_{a}\\otimes\\vec{J}_{b} = \\sum_{i=1}^{3}\\hat{e}_{i}\\left(J_{i}^{a}\\otimes\\mathbb{I}_{b} + \\mathbb{I}_{a}\\otimes J_{i}^{b}\\right)=\\sum_{i=1}^{3}\\hat{e}_{i}J_{j};\\ J_{\\pm} = J_{\\pm}^{a}\\otimes\\mathbb{I}_{b} + \\mathbb{I}_{a}\\otimes J_{\\pm}^{b}; \\\\\n",
    "& m \\ne m_{a}+m_{b} \\Rightarrow C_{m_{a}m_{b}m}^{j_{a}j_{b}j}=0;\\ |\\psi_n\\rangle = N_{n}(|\\psi_{n}^{(0)}\\rangle+\\sum_{j}|\\psi_{n}^{(j)}\\rangle);\\ |\\psi_{n}^{(1)}\\rangle = \\sum_{m\\ne n}\\frac{\\langle\\psi_{m}^{(0)}|H_{1}|\\psi_{n}^{(0)}\\rangle}{E_{n}^{(0)}-E_{m}^{(0)}}|\\psi_{m}^{(0)}\\rangle \\text{; }  \\\\\n",
    "& E_{n}^{(1)}c_{n,l} = \\sum_{k=1}^{d_{n}}\\langle\\psi_{n,l}^{(0)}|H_{1}|\\psi_{n,k}^{(0)}\\rangle c_{n,k}; \\hspace{0.2cm} E_{n}^{(2)}c_{n,l} = \\sum_{k=1}^{d_{n}}\\langle\\psi_{n,l}^{(0)}|\\sum_{m\\ne n}\\sum_{j=1}^{d_{m}}\\frac{H_{1}|\\psi_{m,j}^{(0)}\\rangle\\langle\\psi_{m,j}^{(0)}|H_{1}}{E_{n}^{(0)}-E_{m}^{(0)}}|\\psi_{n,k}^{(0)}\\rangle c_{n,k}; \\\\\n",
    "& |\\psi_{t}\\rangle = \\sum_{n}a_{n}(t)e^{-iE_{n}^{(0)}t/\\hbar}|\\psi_{n}^{(0)}\\rangle \\text{; }  \\hspace{0.2cm} a_{n}(t) = \\sum_{k=0}^{\\infty}a_{n}^{(k)}(t) \\text{; }  \\\\ \n",
    "& a_{m}^{(j)}(t) = \\frac{1}{i\\hbar}\\int_{0}^{t}dt'\\sum_{n}a_{n}^{(j-1)}(t')e^{i\\omega_{mn}t'}\\langle\\psi_{m}^{(0)}|H_{1}|\\psi_{n}^{(0)}\\rangle;\\\\\n",
    "& \\text{Thm Pauli: } \\partial_\\alpha E(\\alpha) = \\big\\langle\\partial_\\alpha H(\\alpha)\\big\\rangle; \\text{Thm variacional: } \\langle H\\rangle_{\\phi_0} \\ge E_0,\\ \\langle H\\rangle_{\\phi_1} \\ge E_1; \\\\\n",
    "& \\psi_{n,l,m_{l}}= \\sqrt{\\left(\\frac{2Z}{a_{0}n}\\right)^{3}\\frac{(n-l-1)!}{(n+l)!2n}}e^{-Zr/a_{0}n}\\left(\\frac{2Zr}{a_{0}n}\\right)^{l}L_{n-l-1}^{2l+1}\\left(\\frac{2Zr}{a_{0}n}\\right) \\\\\n",
    "& \\hspace{1.8cm}\\times\\sqrt{(2l+1)\\frac{(l-|m_{l}|)!}{(l+|m_{l}|)!}}(\\sin\\theta)^{|m_{l}|}\\frac{\\partial^{|m_{l}|}P_{l}(\\cos\\theta)}{\\partial \\cos\\theta^{|m_{l}|}}\\frac{1}{\\sqrt{4\\pi}}e^{im_{l}\\phi}; \\\\\n",
    "& P_{l}(z) = \\frac{1}{l!2^{l}}\\frac{\\partial^{l}}{\\partial z^{l}}(z^{2}-1)^{l};\\ L_{n-l-1}^{2l+1}(\\rho) = \\frac{e^{\\rho}\\rho^{-(2l+1)}}{(n-l-1)!}\\frac{\\partial^{n-l-1}}{\\partial\\rho^{n-l-1}}\\left(e^{-\\rho}\\rho^{n+l}\\right);\\ E_n = -\\frac{\\mu Z^{2}e^{4}}{(4\\pi\\epsilon_{0})^{2}2\\hbar^{2}}\\frac{1}{n^{2}}; \\\\\n",
    "& \\sin(\\alpha\\pm\\beta) = \\sin\\alpha\\cos\\beta \\pm \\cos\\alpha\\sin\\beta;\\ \\cos(\\alpha\\pm\\beta) = \\cos\\alpha\\cos\\beta \\mp \\sin\\alpha\\sin\\beta.\n",
    "\\end{align}"
   ]
  },
  {
   "cell_type": "markdown",
   "metadata": {},
   "source": [
    "\\begin{align}\n",
    "& \\text{Constantes físicas:}\\\\\n",
    "& e = 1.60217662\\times 10^{-19}\\  C\\ \\text{(carga elementar)}, \\\\\n",
    "& k = 8.9875517923\\times 10^9\\ Nm^2/C^2\\ \\text{(constante de Coulomb)}, \\\\\n",
    "& \\epsilon_0 = 8.8541878128\\times 10^{-12}\\ F/m\\ \\text{(permissividade do vácuo)}, \\\\\n",
    "& \\mu_0 = 1.25663706212\\times 10^{-6}\\ N/A^2\\ \\text{ (permeabilidade do vácuo) }, \\\\\n",
    "& h = 6.626069\\times 10^{-34}\\ Js\\ \\text{(constante de Planck)}, \\\\\n",
    "& c = 2.99792458\\times 10^8\\ m/s \\ \\text{(velocidade da luz no vácuo)}, \\\\\n",
    "& G = 6.6742\\times 10^{-11}\\ Nm^2/kg^2 \\ \\text{(constante gravitacional)}, \\\\\n",
    "& k_B = 1.38065\\times 10^{-23}\\ J/K \\ \\text{(constante de Boltzmann)}, \\\\\n",
    "& m_e = 9.109382\\times 10^{-31}\\ kg \\ \\text{(massa do elétron)}, \\\\\n",
    "& m_p = 1.6726219\\times 10^{-27}\\ kg \\ \\text{(massa do próton)}, \\\\\n",
    "& m_n = 1.67492749804\\times 10^{-27}\\ kg \\ \\text{(massa do nêutron)}, \\\\\n",
    "& m_T = 5.9722\\times 10^{24}\\ kg \\ \\text{(massa da Terra)}, \\\\\n",
    "& m_S = 1.98847\\times 10^{30}\\ kg \\ \\text{(massa do Sol)}, \\\\\n",
    "& u = 1.660538921\\times 10^{-27}\\ kg \\ \\text{(unidade de massa atômica)}, \\\\\n",
    "& d_{TS} = 1.496\\times 10^{11}\\ m \\ \\text{(distância Terra-Sol)}, \\\\\n",
    "& r_T = 6.3781\\times 10^6\\ m \\ \\text{(raio da Terra)}, \\\\\n",
    "& \\sigma = 5.670374419\\times 10^{-8}\\ \\frac{W}{m^2 K^4} \\ \\text{(constante de Stefan-Boltzmann)}, \\\\\n",
    "& Ri = 10973734.848575922\\ m^{-1} \\ \\text{(constante de Rydberg)}, \\\\\n",
    "& \\alpha = \\frac{ke^2}{\\hbar c}\\approx \\frac{1}{137.035999084} \\ \\text{(constante de estrutura fina)}, \\\\\n",
    "& a_0 = \\frac{\\hbar^2}{m_e k e^2} \\approx 0.52917710^{-10}\\ m \\ \\text{(raio de Bohr)}, \\\\\n",
    "\\end{align}"
   ]
  },
  {
   "cell_type": "code",
   "execution_count": null,
   "metadata": {},
   "outputs": [],
   "source": []
  }
 ],
 "metadata": {
  "kernelspec": {
   "display_name": "Python 3 (ipykernel)",
   "language": "python",
   "name": "python3"
  },
  "language_info": {
   "codemirror_mode": {
    "name": "ipython",
    "version": 3
   },
   "file_extension": ".py",
   "mimetype": "text/x-python",
   "name": "python",
   "nbconvert_exporter": "python",
   "pygments_lexer": "ipython3",
   "version": "3.12.2"
  }
 },
 "nbformat": 4,
 "nbformat_minor": 4
}
