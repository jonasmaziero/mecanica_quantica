{
 "cells": [
  {
   "cell_type": "markdown",
   "id": "a1794c48-c294-4c0b-997f-3376f6470ba0",
   "metadata": {},
   "source": [
    "## Notas de aula de Mecânica Quântica <br> Autor: Jonas Maziero"
   ]
  },
  {
   "cell_type": "markdown",
   "id": "57e6e40a-1593-4615-901a-fe9846c3df1b",
   "metadata": {},
   "source": [
    "# Diagonalização de um hamiltoniano fermiônico quadrático\n",
    "\n",
    "## Hamiltoniano de férmions livres\n",
    "Considere operadores $\\{a_j\\}_{j=1}^n$ que satisfazem as RCCF e o hamiltoniano $$H_f = \\sum_{j=1}^n \\alpha_j a_j^\\dagger a_j = \\sum_{j=1}^n \\alpha_j N_j$$ com \n",
    "$$\\alpha_j \\ge 0\\ \\forall j.$$\n",
    "Esse hamiltoniano é usado para descrever um sistema de __férmions livres__, não interagentes, e é usado e.g. no __modelo de Drude-Sommerfeld__ para a condução de eletricidade em metais.\n",
    "\n",
    "Vimos que \n",
    "$$N_j|n_j(0)\\rangle_j = N_j|0\\rangle_j = 0|0\\rangle_j.$$\n",
    "Isso implica que \n",
    "$$N_j|vac\\rangle = N_j|\\cdots 000 \\cdots \\rangle_{\\cdots(j-1)j(j+1)\\cdots} =  0|\\cdots 000 \\cdots \\rangle_{\\cdots(j-1)j(j+1)\\cdots}\\ \\forall j.$$\n",
    "Portanto \n",
    "$$H_f|vac\\rangle = \\sum_{j=1}^n \\alpha_j a_j^\\dagger a_j|vac\\rangle = \\sum_{j=1}^n \\alpha_j N_j |vac\\rangle  = \\sum_{j=1}^n \\alpha_j 0 |vac\\rangle = (0)|vac\\rangle.$$ \n",
    "Por conseguinte, \n",
    "$$|E_\\min\\rangle = |vac\\rangle$$\n",
    "é o autoestado fundamental de $H_f$ e a menor energia possível é $$E_{\\min} = 0,$$ que corresponde ao caso em que nenhum dos modos fermiônicos está ocupado. \n",
    "\n",
    "No caso em que temos também \n",
    "$$\\alpha_j < 0$$\n",
    "a energia do estado fundamental é \n",
    "$$E_\\min = \\sum_{j=1}^n \\min(0,\\alpha_j)$$\n",
    "e o autovetor correpondente é obtido de $|vac\\rangle$ aplicando-se o operador de levantamento $a_j^\\dagger$ para todo $j$ tal que $\\alpha_j < 0$:\n",
    "$$|E_\\min\\rangle = \\Pi_{j|\\alpha_j<0}a_j^\\dagger|vac\\rangle.$$\n"
   ]
  },
  {
   "cell_type": "markdown",
   "id": "0a3d7693-fd3f-4df2-9d54-852f2ee700ad",
   "metadata": {},
   "source": [
    "## Hamiltoniano fermiônico quadrático\n",
    "\n",
    "Consideremos agora um hamiltoniano quadrático mas mais geral $$H = \\sum_{j,k=1}^n \\alpha_{jk}a_j^\\dagger a_k.$$ Impondo que esse operador seja hermitinano, teremos que\n",
    "\\begin{align}\n",
    "& H^\\dagger = \\sum_{j,k=1}^n \\alpha_{jk}^* a_k^\\dagger a_j  \\equiv \\sum_{k,j=1}^n \\alpha_{kj}^* a_j^\\dagger a_k = H = \\sum_{j,k=1}^n \\alpha_{jk}a_j^\\dagger a_k \\\\\n",
    "& \\therefore\\ \\alpha_{kj}^* = \\alpha_{jk}.\n",
    "\\end{align}\n",
    "Ou seja, a matriz de coeficientes $A = (\\alpha_{jk})$ é hermitiana: \n",
    "$$A^\\dagger =A.$$\n",
    "\n",
    "Seguindo, vamos definir novos operadores $\\{b_j\\}_{j=1}^n$ em termos de $\\{a_j\\}_{j=1}^n$: $$b_j = \\sum_{k=1}^n u_{jk}a_k.$$ Vamos escolher a matrix de coeficientes $U=(u_{jk})$ de forma que os operadores $\\{b_j\\}_{j=1}^n$ satisfaçam as RCCF:\n",
    "\\begin{align}\n",
    "\\{b_j,b_k^\\dagger\\} & = \\Big\\{\\sum_{l=1}^n u_{jl}a_l,\\sum_{m=1}^n u_{km}^* a_m^\\dagger\\Big\\} \\\\\n",
    "& = \\sum_{l,m=1}^n u_{jl}u_{km}^* \\{a_l,a_m^\\dagger\\} \\\\\n",
    "& = \\sum_{l,m=1}^n u_{jl}u_{km}^* \\delta_{l,m}I \\\\\n",
    "& = \\sum_{l=1}^n u_{jl}u_{kl}^* I \\\\\n",
    "& = (UU^\\dagger)_{jk} I \\\\\n",
    "& := \\delta_{j,k} I,\n",
    "\\end{align}"
   ]
  },
  {
   "cell_type": "markdown",
   "id": "0e3eaa5c-05c4-4014-8d0a-5a9cecf3acb4",
   "metadata": {},
   "source": [
    "o que implica que $$UU^\\dagger = I,$$ ou seja, $U$ é uma matriz unitária. Para para verificar isso nos falta ainda mostrar que $U^\\dagger U=I$. Como nesse caso __$U$ é uma matriz quadrada__, podemos fazer o seguinte\n",
    "\\begin{align}\n",
    "& UU^\\dagger = I\\ \\therefore\\ UU^\\dagger U = IU = U \\\\\n",
    "& \\therefore\\ (UU^\\dagger U - U) = 0_V\\ \\therefore\\ U(U^\\dagger U - I) = 0_V \\\\\n",
    "& \\therefore\\ U^\\dagger U - I = 0_V\\ \\therefore\\ U^\\dagger U = I.\n",
    "\\end{align}\n",
    "Ademais, teremos que\n",
    "\\begin{align}\n",
    "\\{b_j,b_k\\} & = \\Big\\{\\sum_{l=1}^n u_{jl}a_l,\\sum_{m=1}^n u_{km} a_m\\Big\\} \\\\\n",
    "& = \\sum_{l,m=1}^n u_{jl}u_{km} \\{a_l,a_m\\} \\\\\n",
    "& = \\sum_{l,m=1}^n u_{jl}u_{km} 0_V \\\\\n",
    "& = 0_V.\n",
    "\\end{align}"
   ]
  },
  {
   "cell_type": "markdown",
   "id": "dd825f58-7937-4e54-a636-9f0cb0d0f293",
   "metadata": {},
   "source": [
    "Podemos escrever $$|b\\rangle = \\begin{bmatrix} b_1 \\\\ \\vdots \\\\ b_n\\end{bmatrix} = \\begin{bmatrix} u_{11} & \\cdots & u_{1n} \\\\  \\vdots & \\ddots & \\vdots \\\\ u_{n1} & \\cdots & u_{nn} \\end{bmatrix}\\begin{bmatrix} a_1 \\\\ \\vdots \\\\ a_n\\end{bmatrix} = U|a\\rangle.$$ Assim  $$|a\\rangle = U^\\dagger U|a\\rangle = I|a\\rangle = U^\\dagger|b\\rangle = \\begin{bmatrix} u_{11}^* & \\cdots & u_{n1}^* \\\\  \\vdots & \\ddots & \\vdots \\\\ u_{1n}^* & \\cdots & u_{nn}^* \\end{bmatrix}\\begin{bmatrix} b_1 \\\\ \\vdots \\\\ b_n\\end{bmatrix}.$$ Ou seja\n",
    "$$a_j = \\sum_{k=1}^n u_{kj}^* b_k.$$"
   ]
  },
  {
   "cell_type": "markdown",
   "id": "b1361b5e-34a6-4ba1-8404-3d9ba9373925",
   "metadata": {},
   "source": [
    "Com isso podemos escrever o hamiltoniano como segue\n",
    "\\begin{align}\n",
    "H & = \\sum_{j,k=1}^n \\alpha_{jk}a_j^\\dagger a_k \\\\\n",
    "& = \\sum_{j,k=1}^n \\alpha_{jk} \\sum_{l=1}^n u_{lj} b_l^\\dagger \\sum_{m=1}^n u_{mk}^* b_m \\\\\n",
    "& = \\sum_{l,m=1}^n \\Big(\\sum_{j,k=1}^n u_{lj}\\alpha_{jk}u_{mk}^*\\Big) b_l^\\dagger  b_m \\\\\n",
    "& = \\sum_{l,m=1}^n \\Big( \\sum_{k=1}^n   (UA)_{lk}(U^\\dagger)_{km}\\Big) b_l^\\dagger  b_m \\\\\n",
    "& = \\sum_{l,m=1}^n (UAU^\\dagger)_{lm} b_l^\\dagger  b_m \\\\\n",
    "& = \\sum_{l,m=1}^n \\lambda_l \\delta_{lm} b_l^\\dagger  b_m \\\\\n",
    "& = \\sum_{l=1}^n \\lambda_l  b_l^\\dagger  b_l,\n",
    "\\end{align}\n",
    "que é um hamiltoniano quadrático para férmions livres, o qual já vimos como diagonalizar. Acima escolhemos a matriz unitária $U$ que diagonaliza a matriz de coeficientes $A=(\\alpha_{jk})$: $$UAU^\\dagger = diag(\\lambda_1,\\cdots,\\lambda_n).$$"
   ]
  },
  {
   "cell_type": "markdown",
   "id": "1bc0df14-2696-482e-8680-02f43efabdd0",
   "metadata": {},
   "source": [
    "Em relação ao estado fundamental, se $$\\lambda_j\\ge 0\\ \\forall j$$ teremos que o __estado fundamental é o mesmo__ para $H_f = \\sum_{j=1}^n \\alpha_j a_j^\\dagger a_j$ e para $H = \\sum_{j=1}^n \\lambda_j b_j^\\dagger b_j$, lembrando que $b_j = \\sum_{k=1}^n u_{jk}a_k.$ Para verificar isso, vamos começar provando que \n",
    "$$a_j^\\dagger a_j|\\psi\\rangle =|\\oslash\\rangle \\text{ se e somente se } a_j|\\psi\\rangle =|\\oslash\\rangle.$$\n",
    "Começamos a prova assumindo que \n",
    "$$a_j|\\psi\\rangle =|\\oslash\\rangle,$$\n",
    "o que implica que $a_j^\\dagger a_j|\\psi\\rangle = a_j^\\dagger|\\oslash\\rangle = |\\oslash\\rangle$. Por fim, assumimos que $$a_j^\\dagger a_j|\\psi\\rangle =|\\oslash\\rangle,$$\n",
    "o que implica em\n",
    "\\begin{align}\n",
    "& a_j a_j^\\dagger a_j|\\psi\\rangle = a_j|\\oslash\\rangle = |\\oslash\\rangle \\\\\n",
    "& \\therefore\\ (I - a_j^\\dagger a_j ) a_j|\\psi\\rangle = a_j|\\psi\\rangle - a_j^\\dagger a_j^2|\\psi\\rangle =  a_j|\\psi\\rangle - a_j^\\dagger 0_V|\\psi\\rangle =  a_j|\\psi\\rangle - a_j|\\oslash\\rangle  \\\\\n",
    "& \\therefore\\ a_j|\\psi\\rangle = |\\oslash\\rangle.\n",
    "\\end{align}\n",
    "\n",
    "Com isso, vemos que $a_j^\\dagger a_j|\\psi\\rangle = |\\oslash\\rangle\\ \\forall j$ implica em $a_j|\\psi\\rangle = |\\oslash\\rangle\\ \\forall j$ que implica em $$b_j|\\psi\\rangle = \\sum_{k=1}^n u_{jk}a_k|\\psi\\rangle = \\sum_{k=1}^n u_{jk}|\\oslash\\rangle = |\\oslash\\rangle\\ \\forall j,$$\n",
    "o que implica que\n",
    "$$b_j^\\dagger b_j|\\psi\\rangle = |\\oslash\\rangle\\ \\forall j.$$ \n",
    "Com isso temos que\n",
    "$$H|vac\\rangle = (0)|vac\\rangle.$$\n",
    "Novamente, se os $\\lambda_j$ não são todos positivos, obtemos o autoestado de mais baixa energia aplicando o operador de levantamento $b_j^\\dagger$ para os valores de $j$ para os quais $\\lambda_j < 0$."
   ]
  },
  {
   "cell_type": "markdown",
   "id": "5177fb58-56d1-4157-8107-22c44d3b4ba2",
   "metadata": {},
   "source": [
    "## Hamiltoniano fermiônico quadrático mais geral\n",
    "\n",
    "Vamos considerar um hamiltoniano que tem termos quadráticos em termos de produtos de operadores escada: \n",
    "$$H_g = \\sum_{j,k=1}^n \\Big(\\alpha_{jk}a_j^\\dagger a_k - \\alpha_{jk}^* a_j a_k^\\dagger + \\beta_{jk} a_j a_k - \\beta_{jk}^* a_j^\\dagger a_k^\\dagger \\Big).$$\n",
    "\n",
    "Vamos impor que esse hamiltoniano seja hermitiano:\n",
    "\\begin{align}\n",
    "H_g^\\dagger & = \\sum_{j,k=1}^n \\Big(\\alpha_{jk}^* a_k^\\dagger a_j  - \\alpha_{jk} a_k a_j^\\dagger + \\beta_{jk}^* a_k^\\dagger a_j^\\dagger - \\beta_{jk} a_k a_j \\Big) \\\\\n",
    "& = \\sum_{j\\ne k} \\Big(\\alpha_{jk}^* a_k^\\dagger a_j  - \\alpha_{jk} a_k a_j^\\dagger + \\beta_{jk}^* a_k^\\dagger a_j^\\dagger - \\beta_{jk} a_k a_j \\Big) + \\sum_{j= k} \\Big(\\alpha_{jj}^* a_j^\\dagger a_j  - \\alpha_{jj} a_j a_j^\\dagger + \\beta_{jj}^* a_j^\\dagger a_j^\\dagger - \\beta_{jj} a_j a_j \\Big) \\\\\n",
    "& = \\sum_{j\\ne k} \\Big(-\\alpha_{jk}^*  a_j a_k^\\dagger  + \\alpha_{jk} a_j^\\dagger a_k - \\beta_{jk}^* a_j^\\dagger a_k^\\dagger + \\beta_{jk} a_j a_k \\Big) + \\sum_{j= k} \\Big(\\alpha_{jj}^* a_j^\\dagger a_j  - \\alpha_{jj} a_j a_j^\\dagger + \\beta_{jj}^* a_j^\\dagger a_j^\\dagger - \\beta_{jj} a_j a_j \\Big) \\\\\n",
    "& = \\sum_{j\\ne k} \\Big(-\\alpha_{jk}^*  a_j a_k^\\dagger  + \\alpha_{jk} a_j^\\dagger a_k - \\beta_{jk}^* a_j^\\dagger a_k^\\dagger + \\beta_{jk} a_j a_k \\Big) + \\sum_{j= k} \\Big(\\alpha_{jj}^* a_j^\\dagger a_j  - \\alpha_{jj} a_j a_j^\\dagger + \\beta_{jj}^* 0_V - \\beta_{jj} 0_V \\Big) \\\\\n",
    "\\end{align}\n",
    "Comparando com\n",
    "\\begin{align}\n",
    "H_g & = \\sum_{j\\ne k} \\Big(\\alpha_{jk}a_j^\\dagger a_k - \\alpha_{jk}^* a_j a_k^\\dagger + \\beta_{jk} a_j a_k - \\beta_{jk}^* a_j^\\dagger a_k^\\dagger \\Big) + \\sum_{j= k} \\Big(\\alpha_{jj}a_j^\\dagger a_j - \\alpha_{jj}^* a_j a_j^\\dagger + \\beta_{jj} a_j a_j - \\beta_{jj}^* a_j^\\dagger a_j^\\dagger \\Big) \\\\\n",
    "& = \\sum_{j\\ne k} \\Big(\\alpha_{jk}a_j^\\dagger a_k - \\alpha_{jk}^* a_j a_k^\\dagger + \\beta_{jk} a_j a_k - \\beta_{jk}^* a_j^\\dagger a_k^\\dagger \\Big) + \\sum_{j= k} \\Big(\\alpha_{jj}a_j^\\dagger a_j - \\alpha_{jj}^* a_j a_j^\\dagger + \\beta_{jj} 0_V - \\beta_{jj}^* 0_V \\Big), \\\\\n",
    "\\end{align}\n",
    "em impondo que \n",
    "$$H_g^\\dagger = H_g$$\n",
    "vemos que\n",
    "$$\\alpha_{jj}^*=\\alpha_{jj}\\ \\therefore\\ \\alpha_{jj}\\in\\mathbb{R}.$$\n",
    "Não concluímos nada sobre $\\beta_{jj}$ e sobre $\\alpha_{jk},\\beta_{jk}$ para $j\\ne k.$"
   ]
  },
  {
   "cell_type": "markdown",
   "id": "14c9c14d-79ad-47e3-a983-af2220f81930",
   "metadata": {},
   "source": [
    "Seguindo, definimos \n",
    "$$b_j = \\sum_{k=1}^n \\big(\\gamma_{jk}a_k + \\mu_{jk} a_k^\\dagger\\big)$$\n",
    "e vamos impor que esses operadores satisfaçam as RCCF. Teremos assim que\n",
    "\\begin{align}\n",
    "\\{b_j,b_k^\\dagger\\} & = \\Big\\{\\sum_{l=1}^n \\big(\\gamma_{jl}a_l + \\mu_{jl} a_l^\\dagger\\big),\\sum_{m=1}^n \\big(\\gamma_{km}^* a_m^\\dagger + \\mu_{km}^* a_m\\big) \\Big\\} \\\\\n",
    "& = \\sum_{l,m=1}^n \\gamma_{jl}\\gamma_{km}^*\\{a_l,a_m^\\dagger\\} + \\sum_{l,m=1}^n \\gamma_{jl}\\mu_{km}^*\\{a_l,a_m\\} + \\sum_{l,m=1}^n \\mu_{jl}\\gamma_{km}^*\\{a_l^\\dagger,a_m^\\dagger\\} + \\sum_{l,m=1}^n \\mu_{jl} \\mu_{km}^*\\{a_l^\\dagger,a_m\\} \\\\\n",
    "& = \\sum_{l,m=1}^n \\gamma_{jl}\\gamma_{km}^* \\delta_{lm}I + \\sum_{l,m=1}^n \\gamma_{jl}\\mu_{km}^* 0_V + \\sum_{l,m=1}^n \\mu_{jl}\\gamma_{km}^* 0_V + \\sum_{l,m=1}^n \\mu_{jl} \\mu_{km}^* \\delta_{lm}I \\\\\n",
    "& = \\sum_{l=1}^n \\Big(\\gamma_{jl}\\gamma_{kl}^* + \\mu_{jl} \\mu_{kl}^* \\Big) I \\\\\n",
    "& = \\sum_{l=1}^n \\Big( G_{jl}(G^\\dagger)_{lk} + M_{jl}(M^\\dagger)_{lk} \\Big)I \\\\\n",
    "& = \\Big( (GG^\\dagger)_{jk} + (MM^\\dagger)_{jk} \\Big)I \\\\\n",
    "& := \\delta_{jk}I,\n",
    "\\end{align}\n",
    "em que definimos \n",
    "$$G=(\\gamma_{jk}) \\text{ e } M = (\\mu_{jk}).$$\n",
    "Por conseguinte, devemos ter\n",
    "$$GG^\\dagger + MM^\\dagger = I.$$"
   ]
  },
  {
   "cell_type": "markdown",
   "id": "446d068e-6421-45c9-9ba5-c4afdff43e91",
   "metadata": {},
   "source": [
    "Consideremos também a outra RCCF:\n",
    "\\begin{align}\n",
    "\\{b_j,b_k\\} & = \\Big\\{\\sum_{l=1}^n \\big(\\gamma_{jl}a_l + \\mu_{jl} a_l^\\dagger\\big),\\sum_{m=1}^n \\big(\\gamma_{km}a_m + \\mu_{km}a_m^\\dagger\\big)\\Big\\} \\\\\n",
    "& = \\sum_{l,m=1}^n \\gamma_{jl}\\gamma_{km}\\{a_l,a_m\\} + \\sum_{l,m=1}^n \\gamma_{jl}\\mu_{km}\\{a_l,a_m^\\dagger\\} + \\sum_{l,m=1}^n \\mu_{jl}\\gamma_{km} \\{a_l^\\dagger,a_m\\} + \\sum_{l,m=1}^n \\mu_{jl}\\mu_{km} \\{a_l^\\dagger,a_m^\\dagger\\} \\\\\n",
    "& = \\sum_{l,m=1}^n \\gamma_{jl}\\gamma_{km}0_V + \\sum_{l,m=1}^n \\gamma_{jl}\\mu_{km}\\delta_{lm}I + \\sum_{l,m=1}^n \\mu_{jl}\\gamma_{km}\\delta_{lm}I + \\sum_{l,m=1}^n \\mu_{jl}\\mu_{km}0_V \\\\\n",
    "& = \\sum_{l=1}^n \\big(\\gamma_{jl}\\mu_{kl} + \\mu_{jl}\\gamma_{kl}\\big)I \\\\\n",
    "& = \\sum_{l=1}^n \\big(G_{jl}(M^T)_{lk} + M_{jl}(G^T)_{lk} \\big)I \\\\\n",
    "& = \\big((GM^T)_{jk} + (MG^T)_{jk} \\big)I \\\\\n",
    "& := 0_V. \n",
    "\\end{align}\n",
    "Portanto\n",
    "$$GM^T + MG^T = 0_V.$$"
   ]
  },
  {
   "cell_type": "markdown",
   "id": "7b85ca59-a19d-4b25-ba9f-0c47ff168de2",
   "metadata": {},
   "source": [
    "Para melhor entender o significado dessas restrições, vamos considerar novamente $b_j = \\sum_{k=1}^n \\big(\\gamma_{jk}a_k + \\mu_{jk} a_k^\\dagger\\big)$ e $b_j^\\dagger = \\sum_{k=1}^n \\big(\\gamma_{jk}^*a_k^\\dagger + \\mu_{jk}^* a_k\\big)$ para escrever\n",
    "\\begin{align}\n",
    "\\begin{bmatrix} |b\\rangle \\\\ |b^\\dagger\\rangle\\end{bmatrix}=|\\beta\\rangle = \\begin{bmatrix} b_1 \\\\ \\vdots \\\\ b_n \\\\ b_1^\\dagger \\\\ \\vdots \\\\ b_n^\\dagger \\end{bmatrix} = \\begin{bmatrix} \\gamma_{11} & \\cdots & \\gamma_{1n} & \\mu_{11} & \\cdots & \\mu_{1n} \\\\ \\vdots & \\cdots & \\vdots & \\vdots & \\cdots & \\vdots \\\\  \\gamma_{n1} & \\cdots & \\gamma_{nn} & \\mu_{n1} & \\cdots & \\mu_{nn} \\\\ \\mu_{11}^* & \\cdots & \\mu_{1n}^* & \\gamma_{11}^* & \\cdots & \\gamma_{1n}^* \\\\ \\vdots & \\cdots & \\vdots & \\vdots & \\cdots & \\vdots \\\\ \\mu_{n1}^* & \\cdots & \\mu_{nn}^* & \\gamma_{n1}^* & \\cdots & \\gamma_{nn}^* \\end{bmatrix}\\begin{bmatrix} a_1 \\\\ \\vdots \\\\ a_n \\\\ a_1^\\dagger \\\\ \\vdots \\\\ a_n^\\dagger \\end{bmatrix} =: T|\\alpha\\rangle = T\\begin{bmatrix} |a\\rangle \\\\ |a^\\dagger\\rangle \\end{bmatrix}.\n",
    "\\end{align}\n",
    "Assim, se $T$ é uma matriz unitária, podemos escrever\n",
    "$$|\\alpha\\rangle = T^\\dagger T|\\alpha\\rangle = T^\\dagger|\\beta\\rangle$$\n",
    "ou\n",
    "$$|\\alpha\\rangle =: \\begin{bmatrix} |a\\rangle \\\\ |a^\\dagger\\rangle \\end{bmatrix} = T^\\dagger|\\beta\\rangle =: T^\\dagger \\begin{bmatrix} |b\\rangle \\\\ |b^\\dagger\\rangle\\end{bmatrix}$$\n",
    "com\n",
    "$$T = \\begin{bmatrix} G & M \\\\ M^* & G^*\\end{bmatrix}.$$\n",
    "Notemos que\n",
    "$$G,M\\in\\mathbb{C}^{n\\times n}\\ \\therefore\\ T\\in\\mathbb{C}^{2n\\times 2n}.$$"
   ]
  },
  {
   "cell_type": "markdown",
   "id": "5bd1cded-25bd-4262-a842-36a48a16c509",
   "metadata": {},
   "source": [
    "Vamos verificar a unitariedade de $T$:\n",
    "\\begin{align}\n",
    "TT^\\dagger & = \\begin{bmatrix} G & M \\\\ M^* & G^*\\end{bmatrix}\\begin{bmatrix} G^\\dagger & (M^*)^\\dagger \\\\ M^\\dagger & (G^*)^\\dagger \\end{bmatrix} \\\\\n",
    "& = \\begin{bmatrix} G & M \\\\ M^* & G^*\\end{bmatrix}\\begin{bmatrix} G^\\dagger & M^T \\\\ M^\\dagger & G^T \\end{bmatrix} \\\\\n",
    "& = \\begin{bmatrix} \\big(GG^\\dagger + MM^\\dagger\\big) & \\big(GM^T + MG^T\\big) \\\\ \\big(M^*G^\\dagger + G^* M^\\dagger\\big) & \\big(M^* M^T + G^* G^T\\big) \\end{bmatrix} \\\\\n",
    "& = \\begin{bmatrix} I & 0_V \\\\ \\big(MG^T + G M^T\\big)^* & \\big(M M^\\dagger + G G^\\dagger\\big)^* \\end{bmatrix} \\\\\n",
    "& = \\begin{bmatrix} I & 0_V \\\\ 0_V & I \\end{bmatrix},\n",
    "\\end{align}\n",
    "em que usamos as relações $GG^\\dagger + MM^\\dagger = I$ e $GM^T + MG^T = 0_V$ para obter\n",
    "\\begin{align}\n",
    "M^*G^\\dagger + G^* M^\\dagger & = M^*(G^T)^* + G^* (M^T)^* = (MG^T)^* + (GM^T)^* = (MG^T + (GM^T)^* \\\\\n",
    "& = 0_V^* = 0_V, \\\\\n",
    "M^* M^T + G^* G^T & = M^* (M^\\dagger)^* + G^* (G^\\dagger)^* = (MM^\\dagger)^* + (GG^\\dagger)^* = (MM^\\dagger + GG^\\dagger)^* \\\\\n",
    "& = I^* = I.\n",
    "\\end{align}\n",
    "\n",
    "\n",
    "Como $T$ é uma matriz quadrada, podemos fazer a verificação de que \n",
    "$$T^\\dagger T=I$$\n",
    "da mesma forma como fizemos acima para $U$."
   ]
  },
  {
   "cell_type": "markdown",
   "id": "75b99bda-6404-454e-8373-b280f9d3e33e",
   "metadata": {},
   "source": [
    "Agora não é difícil verificar que, definindo as matrizes de coeficientes \n",
    "$$A=(\\alpha_{jk}) \\text{ e } B=(\\beta_{jk})$$\n",
    "e\n",
    "$$|a\\rangle = \\begin{bmatrix}a_1 & \\cdots & a_n\\end{bmatrix}^T \\text{ e } |a^\\dagger\\rangle = \\begin{bmatrix}a_1^\\dagger & \\cdots & a_n^\\dagger\\end{bmatrix}^T$$\n",
    "o hamiltoniano pode ser escrito como segue\n",
    "\\begin{align}\n",
    "H_g & = \\sum_{j,k=1}^n \\Big(a_j^\\dagger\\alpha_{jk} a_k -  a_j \\alpha_{jk}^* a_k^\\dagger +  a_j \\beta_{jk} a_k -  a_j^\\dagger \\beta_{jk}^* a_k^\\dagger \\Big) \\\\\n",
    "& = \\sum_{j=1}^n \\Big(a_j^\\dagger\\sum_{k=1}^n A_{jk} a_k -  a_j \\sum_{k=1}^n(A^*)_{jk} a_k^\\dagger +  a_j\\sum_{k=1}^n B_{jk} a_k -  a_j^\\dagger\\sum_{k=1}^n (B^*)_{jk} a_k^\\dagger \\Big) \\\\\n",
    "& = \\sum_{j=1}^n|a^\\dagger\\rangle_j(A|a\\rangle)_j -  \\sum_{j=1}^n|a\\rangle_j (A^* |a^\\dagger\\rangle)_j +  \\sum_{j=1}^n|a\\rangle_j (B |a\\rangle)_j - \\sum_{j=1}^n|a^\\dagger\\rangle_j (B^* |a^\\dagger\\rangle)_j \\\\\n",
    "& = |a^\\dagger\\rangle^T A|a\\rangle - |a\\rangle^T A^* |a^\\dagger\\rangle +  |a\\rangle^T B |a\\rangle - |a^\\dagger\\rangle^T B^* |a^\\dagger\\rangle \\\\\n",
    "& = \\begin{bmatrix} |a^\\dagger\\rangle^T & |a\\rangle^T \\end{bmatrix} \\begin{bmatrix} A & -B^* \\\\ B & -A^*  \\end{bmatrix}\\begin{bmatrix} |a\\rangle  \\\\ |a^\\dagger\\rangle  \\end{bmatrix} \\\\\n",
    "& = \\begin{bmatrix} |b^\\dagger\\rangle^T & |b\\rangle^T \\end{bmatrix}T \\Xi T^\\dagger\\begin{bmatrix} |b\\rangle  \\\\ |b^\\dagger\\rangle  \\end{bmatrix} \\\\\n",
    "& = \\begin{bmatrix} |b^\\dagger\\rangle^T & |b\\rangle^T \\end{bmatrix} \\begin{bmatrix}D&0\\\\0&-D\\end{bmatrix} \\begin{bmatrix} |b\\rangle  \\\\ |b^\\dagger\\rangle  \\end{bmatrix} \\\\\n",
    "& = \\sum_{j=1}^n d_j b_j^\\dagger b_j - \\sum_{j=1}^n d_j b_j b_j^\\dagger \\\\\n",
    "& = \\sum_{j=1}^n d_j b_j^\\dagger b_j - \\sum_{j=1}^n d_j (I-b_j^\\dagger b_j) \\\\\n",
    "& = 2\\sum_{j=1}^n d_j b_j^\\dagger b_j - \\sum_{j=1}^n d_j I.\n",
    "\\end{align}"
   ]
  },
  {
   "cell_type": "markdown",
   "id": "dc5ad256-1f49-417f-a7a4-acb7587387d5",
   "metadata": {},
   "source": [
    "Para as contas acima, notamos que\n",
    "\\begin{align}\n",
    "& |\\beta\\rangle = T|\\alpha\\rangle\\ \\therefore\\ \\begin{bmatrix} |b\\rangle \\\\ |b^\\dagger\\rangle\\end{bmatrix} =\\begin{bmatrix} G & M \\\\ M^* & G^*\\end{bmatrix}\\begin{bmatrix} |a\\rangle \\\\ |a^\\dagger\\rangle\\end{bmatrix}\\ \\therefore\\ \\begin{cases} |b\\rangle = G|a\\rangle + M|a^\\dagger\\rangle \\\\ |b^\\dagger\\rangle = M^*|a\\rangle + G^*|a^\\dagger\\rangle \\end{cases} \\\\\n",
    "& \\therefore\\ \\begin{bmatrix} |b^\\dagger\\rangle \\\\ |b\\rangle \\end{bmatrix} =\\begin{bmatrix} G^* & M^* \\\\ M & G \\end{bmatrix}\\begin{bmatrix} |a^\\dagger\\rangle \\\\ |a\\rangle \\end{bmatrix}\\ \\therefore\\  \\begin{bmatrix} |a^\\dagger\\rangle \\\\ |a\\rangle \\end{bmatrix} = \\begin{bmatrix} G^* & M^* \\\\ M & G \\end{bmatrix}^\\dagger \\begin{bmatrix} |b^\\dagger\\rangle \\\\ |b\\rangle \\end{bmatrix} \\\\\n",
    "& \\ \\therefore\\  \\begin{bmatrix} |a^\\dagger\\rangle^T & |a\\rangle^T \\end{bmatrix} = \\begin{bmatrix} |b^\\dagger\\rangle^T & |b\\rangle^T \\end{bmatrix}\\Big(\\Big(\\Big(\\begin{bmatrix} G^* & M^* \\\\ M & G \\end{bmatrix}\\Big)^*\\Big)^T\\Big)^T = \\begin{bmatrix} |b^\\dagger\\rangle^T & |b\\rangle^T \\end{bmatrix}\\begin{bmatrix} G & M \\\\ M^* & G^* \\end{bmatrix} = \\begin{bmatrix} |b^\\dagger\\rangle^T & |b\\rangle^T \\end{bmatrix}T.\n",
    "\\end{align}"
   ]
  },
  {
   "cell_type": "markdown",
   "id": "4c5941f4-6d80-4456-b990-c6d398613417",
   "metadata": {},
   "source": [
    "Acima definimos \n",
    "$$\\Xi = \\begin{bmatrix} A & -B^* \\\\ B & -A^*  \\end{bmatrix}$$\n",
    "e escolhemos a transformação unitária $T$ de forma a diagonalizar $\\Xi$, i.e.,\n",
    "$$ D = diag(d_1,\\cdots,d_n)\\ \\therefore\\ T \\Xi T^\\dagger=diag(d_1,\\cdots,d_n,-d_1,\\cdots,-d_n),$$\n",
    "com $d_j\\in\\mathbb{R}$ para todo $j=1,\\cdots,n.$ Isso pode ser feito e.g. se\n",
    "$$\\Xi^\\dagger = \\begin{bmatrix} A^\\dagger & B^\\dagger \\\\ (-B^*)^\\dagger & (-A^*)^\\dagger  \\end{bmatrix} = \\Xi=\\begin{bmatrix} A & -B^* \\\\ B & -A^*  \\end{bmatrix}.$$\n",
    "Para isso, devemos ter\n",
    "\\begin{align}\n",
    "& A^\\dagger = A \\ \\therefore\\ A \\text{ deve ser hermitiana}, \\\\\n",
    "& B^T = -B \\ \\therefore\\ B \\text{ deve ser anti-simétrica}.\n",
    "\\end{align}"
   ]
  },
  {
   "cell_type": "markdown",
   "id": "1cbcc2db-c25c-495f-98a7-1d34265dbc54",
   "metadata": {},
   "source": [
    "Vamos considerar a Matriz,\n",
    "$$S=\\begin{bmatrix}0&I\\\\I&0\\end{bmatrix}=S^\\dagger,\\ \\therefore\\ S^2=I,$$\n",
    "que quando aplicada à esquerda troca linhas e quando aplica pela direita troca colunas. Vemos assim que\n",
    "\\begin{align}\n",
    "S\\Xi S^\\dagger & = S^\\dagger\\Xi S = \\begin{bmatrix}0&I\\\\I&0\\end{bmatrix}\\begin{bmatrix}A&-B^*\\\\B&-A^*\\end{bmatrix}\\begin{bmatrix}0&I\\\\I&0\\end{bmatrix} \\\\\n",
    "& = \\begin{bmatrix}B&-A^*\\\\A&-B^*\\end{bmatrix}\\begin{bmatrix}0&I\\\\I&0\\end{bmatrix} = \\begin{bmatrix}-A^*&B\\\\-B^*&A\\end{bmatrix} = -\\begin{bmatrix}A&-B^*\\\\B&-A^*\\end{bmatrix}^* \\\\\n",
    "& = -\\Xi^*.\n",
    "\\end{align}"
   ]
  },
  {
   "cell_type": "code",
   "execution_count": null,
   "id": "a5995b04-0e71-418a-a9c0-b296a69b975f",
   "metadata": {},
   "outputs": [],
   "source": []
  },
  {
   "cell_type": "markdown",
   "id": "6d1421bd-9782-4195-bbb9-13ed4545c848",
   "metadata": {},
   "source": [
    "## Referências\n",
    "\n",
    "* M. A. Nielsen, “The Fermionic canonical commutation relations and the Jordan-Wigner transform”, https://michaelnielsen.org/blog/fermions-and-the-jordan-wigner-transform-i-introduction/.\n"
   ]
  },
  {
   "cell_type": "code",
   "execution_count": null,
   "id": "14ad2d12-f2f7-4484-b0eb-2cfc3a1af940",
   "metadata": {},
   "outputs": [],
   "source": []
  }
 ],
 "metadata": {
  "kernelspec": {
   "display_name": "Python 3 (ipykernel)",
   "language": "python",
   "name": "python3"
  },
  "language_info": {
   "codemirror_mode": {
    "name": "ipython",
    "version": 3
   },
   "file_extension": ".py",
   "mimetype": "text/x-python",
   "name": "python",
   "nbconvert_exporter": "python",
   "pygments_lexer": "ipython3",
   "version": "3.12.2"
  }
 },
 "nbformat": 4,
 "nbformat_minor": 5
}
