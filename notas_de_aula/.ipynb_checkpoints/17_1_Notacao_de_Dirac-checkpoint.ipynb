{
 "cells": [
  {
   "cell_type": "markdown",
   "metadata": {},
   "source": [
    "### Notas de aula de Mecânica Quântica <br> Autor: Jonas Maziero"
   ]
  },
  {
   "cell_type": "markdown",
   "metadata": {},
   "source": [
    "# Notação de Dirac\n",
    "\n",
    "Em física clássica, estamos acostumados a lidar com vetores. Por exemplo, para a descrição da dinâmica clássica de uma partícula definimos a posição da partícula em relação a um certo referencial $O$ usando um vetor\n",
    "$$\\vec{r}.$$\n",
    "Esse vetor é descrito graficamente por uma seta em $\\mathbb{R}^3$ que vai da origem do referencial até a posição da partícula. O tamanho da seta é calculado usando a norma do vetor:\n",
    "$$r = ||\\vec{r}|| = \\sqrt{\\vec{r}\\cdot\\vec{r}}.$$\n",
    "Dizemos que um vetor é unitário ou normalizado quando sua norma for igual a 1.\n",
    "\n",
    "Frequentemente é útil escrever um vetor em termos de uma base, que usualmente é composta por versores. Por exemplo, para o sistema de coordenada cartesiano, estamos acostumados a usar os versores \n",
    "$$\\hat{i},\\ \\hat{j},\\ \\hat{k},$$\n",
    "que apontam, respectivamente, para as direções $x$, $y$, $z$ positivas. Em termos dessa base ortonormal, um vetor fica escrito como\n",
    "$$\\vec{r} = x\\hat{i} + y\\hat{j} + z\\hat{k} = \\begin{bmatrix}\\hat{i}\\cdot\\vec{r} \\\\ \\hat{j}\\cdot\\vec{r} \\\\ \\hat{k}\\cdot\\vec{r}\\end{bmatrix} = \\begin{bmatrix} x \\\\ y \\\\ z \\end{bmatrix}.$$\n",
    "Os números $\\{x,y,z\\}$ são as componentes do vetor $\\vec{r}$ quando escrito na base $\\{\\hat{i},\\hat{j},\\hat{k}\\}.$ \n",
    "\n",
    "Algo análogo pode ser feito pra qualquer vetor $\\vec{v}$ em qualquer base $\\{\\hat{e}_1,\\hat{e}_2,\\hat{e}_3\\}$:\n",
    "$$\\vec{v} = v_1\\hat{e}_1 + v_2\\hat{e}_2 + v_3\\hat{e}_3 = \\begin{bmatrix}\\hat{e}_1\\cdot\\vec{v} \\\\ \\hat{e}_2\\cdot\\vec{v} \\\\ \\hat{e}_3\\cdot\\vec{v}\\end{bmatrix} = \\begin{bmatrix} v_1 \\\\ v_2 \\\\ v_3 \\end{bmatrix}.$$\n"
   ]
  },
  {
   "cell_type": "markdown",
   "metadata": {},
   "source": [
    "Na notação de Dirac, escrevemos um vetor como\n",
    "$$|v\\rangle,$$\n",
    "que é chamado de __ket__. Tomando o transposto conjugado (o _adjunto_) obtemos o __bra__\n",
    "$$\\langle v| = |v\\rangle^\\dagger = (|v\\rangle^T)^*.$$\n",
    "\n",
    "Se representamos o vetor $|v\\rangle$ em uma base ortonormal $\\{|b_j\\rangle\\}$ teremos a representação matricial\n",
    "$$|v\\rangle = \\begin{bmatrix}\\langle b_1|v\\rangle \\\\ \\vdots \\\\ \\langle b_n|v\\rangle \\end{bmatrix}.$$\n",
    "\n",
    "O produto de um bra por um ket, o __braket__, é um escalar\n",
    "\\begin{align}\n",
    "\\langle w|v\\rangle & = |w\\rangle^\\dagger |v\\rangle = \\begin{bmatrix}\\langle b_1|w\\rangle^* & \\cdots & \\langle b_n|v\\rangle^* \\end{bmatrix}\\begin{bmatrix}\\langle b_1|v\\rangle \\\\ \\vdots \\\\ \\langle b_n|v\\rangle \\end{bmatrix} \\\\\n",
    "& = \\sum_{j=1}^n \\langle b_j|w\\rangle^*\\langle b_j|v\\rangle.\n",
    "\\end{align}\n",
    "Esse seria o análogo e.g. de $\\vec{r}\\cdot\\vec{v}.$"
   ]
  },
  {
   "cell_type": "markdown",
   "metadata": {},
   "source": [
    "Já o produto de um ket por um bra, o __ketbra__, é uma matriz:\n",
    "\\begin{align}\n",
    "|v\\rangle\\langle w| & = |v\\rangle|w\\rangle^\\dagger = \\begin{bmatrix}\\langle b_1|v\\rangle \\\\ \\vdots \\\\ \\langle b_n|v\\rangle \\end{bmatrix}\\begin{bmatrix}\\langle b_1|w\\rangle^* & \\cdots & \\langle b_n|v\\rangle^* \\end{bmatrix} \\\\\n",
    "& = \\begin{bmatrix}\\langle b_1|v\\rangle\\langle b_1|w\\rangle^* & \\cdots & \\langle b_1|v\\rangle\\langle b_n|v\\rangle^* \\\\ \\vdots & \\vdots & \\vdots \\\\ \\langle b_n|v\\rangle\\langle b_1|w\\rangle^* & \\cdots & \\langle b_n|v\\rangle\\langle b_n|v\\rangle^* \\end{bmatrix}.\n",
    "\\end{align}"
   ]
  },
  {
   "cell_type": "markdown",
   "metadata": {},
   "source": [
    "--- \n",
    "# Exercícios\n",
    "\n",
    "$1.$ "
   ]
  },
  {
   "cell_type": "code",
   "execution_count": null,
   "metadata": {},
   "outputs": [],
   "source": []
  }
 ],
 "metadata": {
  "kernelspec": {
   "display_name": "Python 3 (ipykernel)",
   "language": "python",
   "name": "python3"
  },
  "language_info": {
   "codemirror_mode": {
    "name": "ipython",
    "version": 3
   },
   "file_extension": ".py",
   "mimetype": "text/x-python",
   "name": "python",
   "nbconvert_exporter": "python",
   "pygments_lexer": "ipython3",
   "version": "3.12.2"
  }
 },
 "nbformat": 4,
 "nbformat_minor": 4
}
