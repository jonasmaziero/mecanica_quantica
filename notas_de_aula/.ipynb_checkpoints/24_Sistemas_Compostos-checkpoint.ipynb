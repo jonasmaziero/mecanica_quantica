{
 "cells": [
  {
   "cell_type": "markdown",
   "metadata": {},
   "source": [
    "### Notas de aula de Mecânica Quântica <br> Autor: Jonas Maziero"
   ]
  },
  {
   "cell_type": "markdown",
   "metadata": {},
   "source": [
    "# Sistemas compostos\n",
    "Embora as predições da MQ tenham sido feitas para quantons individuais, desde 1925, foi somente há bem pouco tempo que conseguiu-se, experimentalmente, controlar e experimentar com um único quanton. E o caminho moderno da descrição quântica da Natureza é começando com sistemas simples e adicionando complexidade aos poucos (experimentalmente). Até aqui vimos principalmene como estados de um único grau de liberdade são descritos. Vejamos agora como ficam os postulados da MQ quando o sistema que queremos descrever é composto por dois ou mais graus de liberdade.\n",
    "\n",
    "## Estados\n",
    "O estado de um sistema composto pelos graus de liberdade enumerados por $s=1,2,\\cdots,n$ é descrito por um vetor normalizado no espaço de Hilbert obtido tomando-se o produto tensorial dos espaços de Hilbert individuais:\n",
    "\\begin{equation}\n",
    "|\\Psi\\rangle \\in \\mathcal{H} = \\mathcal{H}_{1}\\otimes\\mathcal{H}_{2}\\otimes\\cdots\\otimes\\mathcal{H}_{n}=\\bigotimes_{s=1}^{n}\\mathcal{H}_{s}.\n",
    "\\end{equation}\n",
    "\n",
    "Em termos de dimensão, temos\n",
    "$$\\dim\\mathcal{H}=:d = d_{1}d_{2}\\cdots d_{n} = \\Pi_{s=1}^{n}d_{s},$$\n",
    "com $d_{s}\\dim\\mathcal{H}_{s}$.\n",
    "\n",
    "O produto tensorial de duas matrizes quaisquer $A\\in\\mathbb{C}^{m\\mathrm{x}n}$  e $B\\in\\mathbb{C}^{p\\mathrm{x}q}$ é uma matriz $C\\in\\mathbb{C}^{mp\\mathrm{x}nq}$ definida como:\n",
    "\\begin{equation}\n",
    "C = A\\otimes B := \\begin{bmatrix} A_{11}B & A_{12}B & \\cdots & A_{1n}B \\\\\n",
    "                    A_{21}B & A_{22}B & \\cdots & A_{2n}B \\\\\n",
    "                    \\vdots & \\vdots & \\cdots & \\vdots \\\\\n",
    "                    A_{m1}B & A_{m2}B & \\cdots & A_{mn}B\n",
    "      \\end{bmatrix}.\n",
    "\\end{equation}"
   ]
  },
  {
   "cell_type": "markdown",
   "metadata": {},
   "source": [
    "Note que se conhecemos as bases locais $\\{|\\psi_{j_{s}}\\rangle \\}_{j=1}^{d_{s}}$, obteremos uma base para o espaço total usando o conjunto de todos os vetores:\n",
    "\\begin{equation}\n",
    "\\{|\\psi_{j_{1}}\\rangle\\otimes|\\psi_{j_{2}}\\rangle\\cdots\\otimes|\\psi_{j_{n}}\\rangle\\} = \\left\\{\\bigotimes_{s=1}^{n}|\\psi_{j_{s}}\\rangle\\right\\}.\n",
    "\\end{equation}\n",
    "Qualquer vetor de $\\mathcal{H}$ pode ser expresso como\n",
    "\\begin{equation}\n",
    "|\\Psi\\rangle = \\sum_{j_{1}=1}^{d_{1}}\\sum_{j_{2}=1}^{d_{2}}\\cdots\\sum_{j_{n}=1}^{d_{n}} c_{j_{1}j_{2}\\cdots j_{n}} |\\psi_{j_{1}}\\rangle\\otimes|\\psi_{j_{2}}\\rangle\\cdots\\otimes|\\psi_{j_{n}}\\rangle,\n",
    "\\end{equation}\n",
    "com\n",
    "\\begin{equation}\n",
    "c_{j_{1}j_{2}\\cdots j_{n}} = \\left(\\langle\\psi_{j_{1}}|\\otimes\\langle\\psi_{j_{2}}|\\cdots\\otimes\\langle\\psi_{j_{n}}|\\right)|\\Psi\\rangle\n",
    "\\end{equation}\n",
    "se a base for ortonormal."
   ]
  },
  {
   "cell_type": "markdown",
   "metadata": {},
   "source": [
    "## Observáveis\n",
    "Observáveis de um sistema composto são descritos por matrizes Hermitianas de dimensão $d\\mathrm{x}d$, com $d=\\dim(\\mathcal{H}_{1}\\otimes\\cdots\\otimes\\mathcal{H}_{n})$. Se queremos nos referir a um observável do sistema $1,$ por exemplo, escrevemos\n",
    "\\begin{equation}\n",
    "O_{1}\\otimes I_{2}\\otimes\\cdots\\otimes I_{n},\n",
    "\\end{equation}\n",
    "em que $I_s$ é o operador identidade para o subsistema $s$. Sejam $|\\psi_{j_{s}}\\rangle$ vetores de estado quaisquer do sistema $s$ e $|o_{j_{1}}\\rangle$ um autovetor de $O_{1}$ correspondente ao autovalor $o_{j_{1}}$, então\n",
    "\\begin{align}\n",
    "& O_{1}\\otimes I_{2}\\otimes\\cdots\\otimes I_{n}(|o_{j_{1}}\\rangle\\otimes|\\psi_{j_{2}}\\rangle\\otimes\\cdots\\otimes|\\psi_{j_{n}}\\rangle) =  O_{1}|o_{j_{1}}\\rangle\\otimes I_{2}|\\psi_{j_{2}}\\rangle\\otimes\\cdots\\otimes I_{n}|\\psi_{j_{n}}\\rangle \\\\\n",
    "& =  o_{j_{1}}|o_{j_{1}}\\rangle\\otimes|\\psi_{j_{2}}\\rangle\\otimes\\cdots\\otimes|\\psi_{j_{n}}\\rangle.\n",
    "\\end{align}\n",
    "\n",
    "Também podemos ter _observáveis conjuntos_ dos sistemas $3$ e $4$, por exemplo. Nesse caso escrevemos, de forma geral, \n",
    "\\begin{equation}\n",
    "I_{1}\\otimes I_{2}\\otimes O_{3,4}\\otimes I_{5}\\cdots\\otimes I_{n}.\n",
    "\\end{equation}\n",
    "\n",
    "No estudo de sistemas compostos, é frequente o uso das igualdades:\n",
    "\\begin{align}\n",
    "& (A\\otimes B)(C\\otimes D)=AC\\otimes BD, \\\\\n",
    "& (A\\otimes B)^{\\dagger}=A^{\\dagger}\\otimes B^{\\dagger}.\n",
    "\\end{align}"
   ]
  },
  {
   "cell_type": "markdown",
   "metadata": {},
   "source": [
    "### Exemplo: \n",
    "#### Dois sistemas de dois níveis\n",
    "Aqui o espaço de estados é \n",
    "$$\\mathcal{H}_{ab}=\\mathbb{C}^{4} = \\mathbb{C}^{2}\\otimes\\mathbb{C}^{2}=\\mathcal{H}_{a}\\otimes\\mathcal{H}_{b}.$$\n",
    "Os estados puros desse sistema são quaisquer vetores normalizados de $\\mathbb{C}^{4}$. Os operadores densidade serão quaisquer matrizes de $\\mathbb{C}^{4x4}$ positivas-semidefinidas e de traço igual a um.\n",
    "\n",
    "Vamos considerar um sistema de dois níveis em um estado qualquer desconhecido $|?\\rangle$. Digamos que medimos $\\sigma_{z}$ em cada um dos sistemas, mas separadamente. Se os resultado $z_{+}$ é obtido no sistema $1$ e $z_{-}$ é obtido no sistema $2$, o estado preparado será:\n",
    "\\begin{equation}\n",
    "|z_{+}\\rangle\\otimes|z_{-}\\rangle \\doteq \\begin{bmatrix} (\\langle z_{+}|\\otimes\\langle z_{+}|)(|z_{+}\\rangle\\otimes|z_{-}\\rangle) \\\\ (\\langle z_{+}|\\otimes\\langle z_{-}|)(|z_{+}\\rangle\\otimes|z_{-}\\rangle) \\\\ (\\langle z_{-}|\\otimes\\langle z_{+}|)(|z_{+}\\rangle\\otimes|z_{-}\\rangle) \\\\ (\\langle z_{-}|\\otimes\\langle z_{-}|)(|z_{+}\\rangle\\otimes|z_{-}\\rangle) \\end{bmatrix} =  \\begin{bmatrix} \\langle z_{+}|z_{+}\\rangle\\otimes\\langle z_{+}|z_{-}\\rangle \\\\ \\langle z_{+}|z_{+}\\rangle\\otimes\\langle z_{-}|z_{-}\\rangle \\\\ \\langle z_{-}|z_{+}\\rangle\\otimes\\langle z_{+}|z_{-}\\rangle \\\\ \\langle z_{-}|z_{+}\\rangle\\otimes\\langle z_{-}|z_{+}\\rangle \\end{bmatrix}\n",
    "=\\begin{bmatrix} 0 \\\\ 1 \\\\ 0 \\\\ 0 \\end{bmatrix}\n",
    "\\end{equation}\n",
    "na base $\\{|z_{+}\\rangle\\otimes|z_{+}\\rangle, |z_{+}\\rangle\\otimes|z_{-}\\rangle, |z_{-}\\rangle\\otimes|z_{+}\\rangle, |z_{-}\\rangle\\otimes|z_{-}\\rangle\\}$."
   ]
  },
  {
   "cell_type": "markdown",
   "metadata": {},
   "source": [
    "Como exemplo de sistema físico, vamos considerar que esses sistemas são __dipolos magnéticos__, cujo Hamiltoniano de interação é\n",
    "\\begin{align}\n",
    "H_{dd} & = (\\hbar D/2)(\\vec{\\mu}_{a}\\cdot\\vec{\\mu}_{b}-3(\\vec{\\mu}_{a}\\cdot\\hat{n})(\\vec{\\mu}_{b}\\cdot\\hat{n})) \\\\\n",
    "& \\downarrow \\text{ quantiza } \\\\\n",
    "& = (\\hbar D/2)\\left((\\vec{\\sigma}_{a}\\otimes\\sigma_{0}^{b})\\cdot(\\sigma_{0}^{a}\\otimes\\vec{\\sigma}_{b})-3(\\hat{n}\\cdot(\\vec{\\sigma}_{a}\\otimes\\sigma_{0}^{b}))(\\hat{n}\\cdot(\\sigma_{0}^{a}\\otimes\\vec{\\sigma}_{b}))\\right),\n",
    "\\end{align}\n",
    "com \n",
    "$$D=\\frac{\\mu_{0}\\gamma_{a}\\gamma_{b}}{16\\pi r^{3}}$$\n",
    "com $\\gamma_{s}$ sendo a razão giromagnética do dipolo magnético $s=a,b$ e $\\hat{r}$ é o versor que aponta do dipolo $a$ para o dipolo $b$. Para  o versor que aponta de um dipolo para o outro sendo\n",
    "$$\\hat{n} = \\hat{k},$$\n",
    "pode-se usar $\\vec{\\sigma}=\\sum_{j=1}^{3}\\sigma_{j}\\hat{e}_{j}$ para obter\n",
    "\\begin{align}\n",
    "H_{dd} & = (\\hbar D/2)(\\sigma_{1}\\otimes\\sigma_{1}+\\sigma_{2}\\otimes\\sigma_{2}-2\\sigma_{3}\\otimes\\sigma_{3}) \\\\\n",
    "& = \\begin{bmatrix} -\\hbar D & 0&0&0 \\\\ 0&\\hbar D&\\hbar D&0 \\\\ 0&\\hbar D&\\hbar D&0 \\\\ 0&0&0&-\\hbar D \\end{bmatrix} \\\\\n",
    "  & = 0|\\Psi_{-}\\rangle\\langle\\Psi_{-}|+2\\hbar D|\\Psi_{+}\\rangle\\langle\\Psi_{+}|-\\hbar D(|\\Phi_{-}\\rangle\\langle\\Phi_{-}|+|\\Phi_{+}\\rangle\\langle\\Phi_{+}|),\n",
    "\\end{align}\n",
    "com\n",
    "\\begin{align}\n",
    "& |\\Psi_{\\pm}\\rangle=2^{-1/2}(|z_{+}\\rangle\\otimes|z_{-}\\rangle\\pm|z_{-}\\rangle\\otimes|z_{+}\\rangle), \\\\ \n",
    "& |\\Phi_{\\pm}\\rangle=2^{-1/2}(|z_{+}\\rangle\\otimes|z_{+}\\rangle\\pm|z_{-}\\rangle\\otimes|z_{-}\\rangle)\n",
    "\\end{align}\n",
    "sendo uma base ortonormal, chamada de base de Bell. O cálculo dos autovalores e autovetores desse hamiltoniano foi feito com a ajuda do código Sympy abaixo."
   ]
  },
  {
   "cell_type": "code",
   "execution_count": 4,
   "metadata": {},
   "outputs": [
    {
     "data": {
      "image/png": "[encoded data removed]",
      "text/latex": [
       "$\\displaystyle \\left( \\left[\\begin{matrix}1 & 0\\\\0 & 1\\end{matrix}\\right], \\  \\left[\\begin{matrix}0 & 1\\\\1 & 0\\end{matrix}\\right], \\  \\left[\\begin{matrix}0 & - 1.0 i\\\\1.0 i & 0\\end{matrix}\\right], \\  \\left[\\begin{matrix}1 & 0\\\\0 & -1\\end{matrix}\\right]\\right)$"
      ],
      "text/plain": [
       "⎛⎡1  0⎤  ⎡0  1⎤  ⎡  0    -1.0⋅ⅈ⎤  ⎡1  0 ⎤⎞\n",
       "⎜⎢    ⎥, ⎢    ⎥, ⎢             ⎥, ⎢     ⎥⎟\n",
       "⎝⎣0  1⎦  ⎣1  0⎦  ⎣1.0⋅ⅈ    0   ⎦  ⎣0  -1⎦⎠"
      ]
     },
     "execution_count": 4,
     "metadata": {},
     "output_type": "execute_result"
    }
   ],
   "source": [
    "from sympy import init_printing, Matrix, symbols\n",
    "init_printing(use_unicode=True)\n",
    "\n",
    "def pauli(j):\n",
    "    if j == 0:\n",
    "        return Matrix([[1,0],[0,1]])\n",
    "    if j == 1:\n",
    "        return Matrix([[0,1],[1,0]])\n",
    "    if j == 2:\n",
    "        return Matrix([[0,-1j],[1j,0]])\n",
    "    if j == 3:\n",
    "        return Matrix([[1,0],[0,-1]])\n",
    "    \n",
    "pauli(0),pauli(1),pauli(2),pauli(3)"
   ]
  },
  {
   "cell_type": "code",
   "execution_count": 5,
   "metadata": {},
   "outputs": [
    {
     "data": {
      "image/png": "[encoded data removed]",
      "text/latex": [
       "$\\displaystyle \\left[\\begin{matrix}- D \\hbar & 0 & 0 & 0\\\\0 & D \\hbar & 1.0 D \\hbar & 0\\\\0 & 1.0 D \\hbar & D \\hbar & 0\\\\0 & 0 & 0 & - D \\hbar\\end{matrix}\\right]$"
      ],
      "text/plain": [
       "⎡-D⋅h̅     0        0      0  ⎤\n",
       "⎢                            ⎥\n",
       "⎢ 0      D⋅h̅    1.0⋅D⋅h̅   0  ⎥\n",
       "⎢                            ⎥\n",
       "⎢ 0    1.0⋅D⋅h̅    D⋅h̅     0  ⎥\n",
       "⎢                            ⎥\n",
       "⎣ 0       0        0     -D⋅h̅⎦"
      ]
     },
     "execution_count": 5,
     "metadata": {},
     "output_type": "execute_result"
    }
   ],
   "source": [
    "from sympy.physics.quantum import TensorProduct\n",
    "\n",
    "def tp(x,y):\n",
    "    return TensorProduct(x,y)\n",
    "\n",
    "# Representação matricial de Hdd\n",
    "D, hbb = symbols('D hbar'); \n",
    "Hd = (hbb*D/2)*(tp(pauli(1),pauli(1))+tp(pauli(2),pauli(2))-2*tp(pauli(3),pauli(3))); Hd"
   ]
  },
  {
   "cell_type": "code",
   "execution_count": 6,
   "metadata": {},
   "outputs": [
    {
     "data": {
      "image/png": "[encoded data removed]",
      "text/latex": [
       "$\\displaystyle \\left[ \\left( 0, \\  1, \\  \\left[ \\left[\\begin{matrix}0\\\\-1.0\\\\1.0\\\\0\\end{matrix}\\right]\\right]\\right), \\  \\left( - D \\hbar, \\  2, \\  \\left[ \\left[\\begin{matrix}1.0\\\\0\\\\0\\\\0\\end{matrix}\\right], \\  \\left[\\begin{matrix}0\\\\0\\\\0\\\\1.0\\end{matrix}\\right]\\right]\\right), \\  \\left( 2.0 D \\hbar, \\  1, \\  \\left[ \\left[\\begin{matrix}0\\\\1.0\\\\1.0\\\\0\\end{matrix}\\right]\\right]\\right)\\right]$"
      ],
      "text/plain": [
       "⎡⎛      ⎡⎡ 0  ⎤⎤⎞  ⎛         ⎡⎡1.0⎤  ⎡ 0 ⎤⎤⎞  ⎛            ⎡⎡ 0 ⎤⎤⎞⎤\n",
       "⎢⎜      ⎢⎢    ⎥⎥⎟  ⎜         ⎢⎢   ⎥  ⎢   ⎥⎥⎟  ⎜            ⎢⎢   ⎥⎥⎟⎥\n",
       "⎢⎜      ⎢⎢-1.0⎥⎥⎟  ⎜         ⎢⎢ 0 ⎥  ⎢ 0 ⎥⎥⎟  ⎜            ⎢⎢1.0⎥⎥⎟⎥\n",
       "⎢⎜0, 1, ⎢⎢    ⎥⎥⎟, ⎜-D⋅h̅, 2, ⎢⎢   ⎥, ⎢   ⎥⎥⎟, ⎜2.0⋅D⋅h̅, 1, ⎢⎢   ⎥⎥⎟⎥\n",
       "⎢⎜      ⎢⎢1.0 ⎥⎥⎟  ⎜         ⎢⎢ 0 ⎥  ⎢ 0 ⎥⎥⎟  ⎜            ⎢⎢1.0⎥⎥⎟⎥\n",
       "⎢⎜      ⎢⎢    ⎥⎥⎟  ⎜         ⎢⎢   ⎥  ⎢   ⎥⎥⎟  ⎜            ⎢⎢   ⎥⎥⎟⎥\n",
       "⎣⎝      ⎣⎣ 0  ⎦⎦⎠  ⎝         ⎣⎣ 0 ⎦  ⎣1.0⎦⎦⎠  ⎝            ⎣⎣ 0 ⎦⎦⎠⎦"
      ]
     },
     "execution_count": 6,
     "metadata": {},
     "output_type": "execute_result"
    }
   ],
   "source": [
    "Hd.eigenvects() # Autovalores e autovetores de Hdd"
   ]
  },
  {
   "cell_type": "markdown",
   "metadata": {},
   "source": [
    "Usando o operador de evolução temporal\n",
    "\\begin{align}\n",
    "U_{dd} &= e^{-iH_{dd}t/\\hbar} \\\\\n",
    "& = e^{0}|\\Psi_{-}\\rangle\\langle\\Psi_{-}|+e^{-i2Dt}|\\Psi_{+}\\rangle\\langle\\Psi_{+}|+e^{iDt}(|\\Phi_{-}\\rangle\\langle\\Phi_{-}|+|\\Phi_{+}\\rangle\\langle\\Phi_{+}|)\n",
    "\\end{align}\n",
    "aplicado ao estado inicial $|z_{+}\\rangle\\otimes|z_{-}\\rangle$, obteremos o estado evoluído\n",
    "\\begin{align}\n",
    "|\\psi_{t}\\rangle & = U_{t}|\\psi_{0}\\rangle = U_{dd}(|z_{+}\\rangle\\otimes|z_{-}\\rangle) \\\\\n",
    "& = |\\Psi_{-}\\rangle\\langle\\Psi_{-}|(|z_{+}\\rangle\\otimes|z_{-}\\rangle)+ e^{-i2Dt}|\\Psi_{+}\\rangle\\langle\\Psi_{+}|(|z_{+}\\rangle\\otimes|z_{-}\\rangle) \\\\ \n",
    "& \\hspace{0.5cm}+ e^{iDt}(|\\Phi_{-}\\rangle\\langle\\Phi_{-}|(|z_{+}\\rangle\\otimes|z_{-}\\rangle) + |\\Phi_{+}\\rangle\\langle\\Phi_{+}|(|z_{+}\\rangle\\otimes|z_{-}\\rangle)) \\\\\n",
    "& = 2^{-1/2}(|\\Psi_{-}\\rangle + e^{-i2Dt}|\\Psi_{+}\\rangle) + 0 \\\\\n",
    "& = 2^{-1}(|z_{+}\\rangle\\otimes|z_{-}\\rangle - |z_{-}\\rangle\\otimes|z_{+}\\rangle + e^{-i2Dt}(|z_{+}\\rangle\\otimes|z_{-}\\rangle + |z_{-}\\rangle\\otimes|z_{+}\\rangle)) \\\\\n",
    "& = e^{-iDt}2^{-1}(|z_{+}\\rangle\\otimes|z_{-}\\rangle(e^{+iDt}+e^{-iDt}) - |z_{-}\\rangle\\otimes|z_{+}\\rangle(e^{+iDt}-e^{-iDt})) \\\\\n",
    "& \\equiv \\cos(Dt)|z_{+}\\rangle\\otimes|z_{-}\\rangle -i\\sin(Dt)|z_{-}\\rangle\\otimes|z_{+}\\rangle.\n",
    "\\end{align}\n",
    "Acima usamos e.g.\n",
    "\\begin{align}\n",
    "& \\langle\\Psi_{+}|(|z_{+}\\rangle\\otimes|z_{-}\\rangle) = 2^{-1/2}(\\langle z_{+}|\\otimes\\langle z_{-}|+\\langle z_{-}|\\otimes\\langle z_{+}|)(|z_{+}\\rangle\\otimes|z_{-}\\rangle) \\\\\n",
    "&  = 2^{-1/2}((\\langle z_{+}|\\otimes\\langle z_{-}|)(|z_{+}\\rangle\\otimes|z_{-}\\rangle) + (\\langle z_{-}|\\otimes\\langle z_{+}|)(|z_{+}\\rangle\\otimes|z_{-}\\rangle)) \\\\\n",
    "&  = 2^{-1/2}(\\langle z_{+}|z_{+}\\rangle\\otimes\\langle z_{-}|z_{-}\\rangle + \\langle z_{-}|z_{+}\\rangle\\otimes\\langle z_{+}|z_{-}\\rangle) \\\\\n",
    "& = 2^{-1/2}.\n",
    "\\end{align}\n",
    "\n",
    "\n",
    "Para as condições consideradas acima, se os dipolos interagem por um tempo \n",
    "$$t=\\pi/4D,$$\n",
    "obteremos\n",
    "\\begin{equation}\n",
    "|\\Psi_{t=\\pi/4D}\\rangle = \\left(|z_{+}\\rangle\\otimes|z_{-}\\rangle - i|z_{-}\\rangle\\otimes|z_{+}\\rangle\\right)/\\sqrt{2}.\n",
    "\\end{equation}\n",
    "Este é um __estado emaranhado__, que é uma superposição envolvendo estados ortogonais de dois ou mais quantons e que não pode ser escrita como um produto tensorial de vetores dos espaços individuais, i.e., \n",
    "$$|\\Psi_{t=\\pi/4D}\\rangle\\ne|\\omega_{1}\\rangle\\otimes|\\delta_{2}\\rangle.$$ \n",
    "E existência desse tipo de estado exige que usemos o produto tensorial no lugar de somente o produto cartesiano dos espaços de estados individuais. Os cálculos acima também podem ser feitos usando o código Sympy abaixo."
   ]
  },
  {
   "cell_type": "code",
   "execution_count": 7,
   "metadata": {},
   "outputs": [],
   "source": [
    "def proj(psi): # retorna o projetor no esto psi\n",
    "    d = psi.shape[0]; P = zeros(d,d)\n",
    "    for j in range(0,d):\n",
    "        for k in range(0,d):\n",
    "            P[j,k] = psi[j]*conjugate(psi[k])\n",
    "    return P"
   ]
  },
  {
   "cell_type": "code",
   "execution_count": 9,
   "metadata": {},
   "outputs": [],
   "source": [
    "def cb(n,j): # retorna os vetores da base computacinal\n",
    "    vec = zeros(n,1)\n",
    "    vec[j] = 1\n",
    "    return vec"
   ]
  },
  {
   "cell_type": "code",
   "execution_count": 10,
   "metadata": {},
   "outputs": [],
   "source": [
    "def bell(j,k): # retorna os vetores da base de Bell\n",
    "    if j == 0 and k == 0:\n",
    "        return (1/sqrt(2))*(tp(cb(2,0),cb(2,0))+tp(cb(2,1),cb(2,1)))\n",
    "    elif j == 0 and k == 1:\n",
    "        return (1/sqrt(2))*(tp(cb(2,0),cb(2,1))+tp(cb(2,1),cb(2,0)))\n",
    "    elif j == 1 and k == 0:\n",
    "        return (1/sqrt(2))*(tp(cb(2,0),cb(2,1))-tp(cb(2,1),cb(2,0)))\n",
    "    elif j == 1 and k == 1:\n",
    "        return (1/sqrt(2))*(tp(cb(2,0),cb(2,0))-tp(cb(2,1),cb(2,1)))"
   ]
  },
  {
   "cell_type": "code",
   "execution_count": 16,
   "metadata": {},
   "outputs": [
    {
     "data": {
      "image/png": "[encoded data removed]",
      "text/latex": [
       "$\\displaystyle \\left[\\begin{matrix}0\\\\\\frac{1}{2} + \\frac{e^{- 2.0 i D t}}{2}\\\\- \\frac{1}{2} + \\frac{e^{- 2.0 i D t}}{2}\\\\0\\end{matrix}\\right]$"
      ],
      "text/plain": [
       "⎡        0        ⎤\n",
       "⎢                 ⎥\n",
       "⎢      -2.0⋅ⅈ⋅D⋅t ⎥\n",
       "⎢ 1   ℯ           ⎥\n",
       "⎢ ─ + ─────────── ⎥\n",
       "⎢ 2        2      ⎥\n",
       "⎢                 ⎥\n",
       "⎢       -2.0⋅ⅈ⋅D⋅t⎥\n",
       "⎢  1   ℯ          ⎥\n",
       "⎢- ─ + ───────────⎥\n",
       "⎢  2        2     ⎥\n",
       "⎢                 ⎥\n",
       "⎣        0        ⎦"
      ]
     },
     "execution_count": 16,
     "metadata": {},
     "output_type": "execute_result"
    }
   ],
   "source": [
    "from sympy import sqrt, zeros, conjugate, exp, simplify\n",
    "t = symbols('t')\n",
    "Udd = proj(bell(1,0))+exp(-1j*2*D*t)*proj(bell(0,1))+exp(1j*D*t)*(proj(bell(0,0))+proj(bell(1,1)))\n",
    "psi_t = Udd*tp(cb(2,0),cb(2,1))\n",
    "simplify(psi_t) # Estado evoluído sob Hdd"
   ]
  },
  {
   "cell_type": "markdown",
   "metadata": {},
   "source": [
    "### Schrödinger: \n",
    "#### \"Para estados emaranhados, nossa incerteza sobre as partes é maior que nossa incerteza sobre o todo\"\n",
    "Para sistemas compostos, o __estado reduzido__ de algum dos subsistemas é obtido tomando-se o __traço parcial__ (https://arxiv.org/abs/1601.07458) sobre os outros subsistemas. Por exemplo, se o estado do sistema composto por dois graus de liberdade é \n",
    "$$\\rho_{ab}:\\mathcal{H}_{ab}\\rightarrow\\mathcal{H}_{ab},$$ \n",
    "o operador densidade que descreve o estado do quanton $a$ é\n",
    "\\begin{align}\n",
    "\\rho_{a} & = Tr_{b}(\\rho_{ab}) \\\\\n",
    "& := \\sum_{j=1}^{d_{b}}(\\mathbb{I}_{a}\\otimes\\langle\\beta_{j}|)\\rho_{ab}(\\mathbb{I}_{a}\\otimes|\\beta_{j}\\rangle).\n",
    "\\end{align}\n",
    "O operador densidade reduzido $\\rho_{b}$ é definido de forma similar. Observamos também que uma definição equivalente para o traço parcial seria \n",
    "\\begin{align}\n",
    "Tr_{b}\\big(|\\psi\\rangle\\langle\\phi|\\otimes|\\xi\\rangle\\langle\\eta|\\big) & := |\\psi\\rangle\\langle\\phi|\\otimes Tr_{b}(|\\xi\\rangle\\langle\\eta|) \\\\\n",
    "& = |\\psi\\rangle\\langle\\phi|\\otimes\\langle\\eta|\\xi\\rangle \\\\\n",
    "& = \\langle\\eta|\\xi\\rangle|\\psi\\rangle\\langle\\phi|,\n",
    "\\end{align}\n",
    "em que $|\\psi\\rangle,|\\phi\\rangle\\in\\mathcal{H}_{a}$ e $|\\xi\\rangle,|\\eta\\rangle\\in\\mathcal{H}_{b}.$\n",
    "\n",
    "Pode-se mostrar que a única função $f:D(\\mathcal{H}_a\\otimes\\mathcal{H}_b)\\rightarrow D(\\mathcal{H}_a)$ para a qual\n",
    "$$\\langle A\\otimes I\\rangle_{\\rho_{ab}} = \\langle A\\rangle_{f(\\rho_{ab})}$$\n",
    "é o traço parcial, i.e., $f(\\rho_{ab})=Tr_b (\\rho_{ab})$.\n",
    "\n",
    "Para o estado evoluído segundo o Hamiltoniano $H_{dd}$ considerado acima, o operador densidade para os dois dipolos magnéticos é\n",
    "\\begin{align}\n",
    "\\rho_{ab}(t) & = |\\psi_{t}\\rangle\\langle\\psi_{t}| \\\\\n",
    "& = (\\cos(Dt)|z_{+}\\rangle\\otimes|z_{-}\\rangle -i\\sin(Dt)|z_{-}\\rangle\\otimes|z_{+}\\rangle)(\\cos(Dt)\\langle z_{+}|\\otimes\\langle z_{-}| +i\\sin(Dt)\\langle z_{-}|\\otimes\\langle z_{+}|) \\\\\n",
    "& = \\cos^{2}(Dt)|z_{+}\\rangle\\langle z_{+}|\\otimes|z_{-}\\rangle\\langle z_{-}| + \\sin^{2}(Dt)|z_{-}\\rangle\\langle z_{-}|\\otimes|z_{+}\\rangle\\langle z_{+}| \\\\\n",
    "& \\hspace{0.5cm} + (i\\sin(Dt)\\cos(Dt)|z_{+}\\rangle\\langle z_{-}|\\otimes|z_{-}\\rangle\\langle z_{+}|+t.c.),\n",
    "\\end{align}\n",
    "em que $t.c.$ denota o transposto conjugado (adjunto). O operador densidade do dipolo $a$ é então\n",
    "\\begin{align}\n",
    "\\rho_{a}(t) & = Tr_{b}(\\rho_{ab}(t)) \\\\\n",
    "& = \\cos^{2}(Dt)\\mathbb{I}_{a}|z_{+}\\rangle\\langle z_{+}|\\mathbb{I}_{a}\\otimes\\langle z_{+}|z_{-}\\rangle\\langle z_{-}|z_{+}\\rangle + \\sin^{2}(Dt)\\mathbb{I}_{a}|z_{-}\\rangle\\langle z_{-}|\\mathbb{I}_{a}\\otimes\\langle z_{+}|z_{+}\\rangle\\langle z_{+}|z_{+}\\rangle \\\\\n",
    "& \\hspace{0.5cm} + (i\\sin(Dt)\\cos(Dt)\\mathbb{I}_{a}|z_{+}\\rangle\\langle z_{-}|\\mathbb{I}_{a}\\otimes\\langle z_{+}|z_{-}\\rangle\\langle z_{+}|z_{+}\\rangle+t.c.) \\\\\n",
    "& \\hspace{0.5cm} + \\cos^{2}(Dt)\\mathbb{I}_{a}|z_{+}\\rangle\\langle z_{+}|\\mathbb{I}_{a}\\otimes\\langle z_{-}|z_{-}\\rangle\\langle z_{-}|z_{-}\\rangle + \\sin^{2}(Dt)\\mathbb{I}_{a}|z_{-}\\rangle\\langle z_{-}|\\mathbb{I}_{a}\\otimes\\langle z_{-}|z_{+}\\rangle\\langle z_{+}|z_{-}\\rangle \\\\\n",
    "& \\hspace{0.5cm} + (i\\sin(Dt)\\cos(Dt)\\mathbb{I}_{a}|z_{+}\\rangle\\langle z_{-}|\\mathbb{I}_{a}\\otimes\\langle z_{-}|z_{-}\\rangle\\langle z_{+}|z_{-}\\rangle+t.c.) \\\\\n",
    "& = \\cos^{2}(Dt)|z_{+}\\rangle\\langle z_{+}| + \\sin^{2}(Dt)|z_{-}\\rangle\\langle z_{-}|.\n",
    "\\end{align}\n",
    "\n",
    "Como existe algum observável $O$ tal que $O|\\psi\\rangle=o|\\psi_{t}\\rangle$, e temos informação completa sobre o estado conjunto dos dois dipolos, e assim\n",
    "\\begin{equation}\n",
    "S_{vn}(|\\psi_{t}\\rangle)=0\n",
    "\\end{equation}\n",
    "pra qualquer instante de tempo $t$. Por outro lado, como mostrado na figura abaixo, nossa incerteza sobre o estado do dipolo $a$,\n",
    "\\begin{equation}\n",
    "S_{vn}(\\rho_{a}(t))=-\\cos^{2}(Dt)\\log_{2}(\\cos^{2}(Dt))-\\sin^{2}(Dt)\\log_{2}(\\sin^{2}(Dt)),\n",
    "\\end{equation}\n",
    "pode ser máxima."
   ]
  },
  {
   "cell_type": "code",
   "execution_count": 17,
   "metadata": {},
   "outputs": [],
   "source": [
    "import math\n",
    "import numpy as np\n",
    "from matplotlib import pyplot as plt"
   ]
  },
  {
   "cell_type": "code",
   "execution_count": 18,
   "metadata": {},
   "outputs": [
    {
     "data": {
      "image/png": "[encoded data removed]",
      "text/plain": [
       "<Figure size 640x480 with 1 Axes>"
      ]
     },
     "metadata": {},
     "output_type": "display_data"
    }
   ],
   "source": [
    "Dt=np.arange(0.01,math.pi,0.013)\n",
    "Sa=-(np.cos(Dt)**2)*np.log2(np.cos(Dt)**2)\\\n",
    "-(np.sin(Dt)**2)*np.log2(np.sin(Dt)**2)\n",
    "plt.xlabel(r'$Dt$'); plt.ylabel(r'$S_{vn}(\\rho_{a})$')\n",
    "plt.plot(Dt,Sa); plt.show()"
   ]
  },
  {
   "cell_type": "markdown",
   "metadata": {},
   "source": [
    "## Regra de Born para sistemas compostos\n",
    "Em geral, se temos, por exemplo, um sistema bipartido $\\mathcal{H}_{ab}$ preparado no estado $|\\Psi_{ab}\\rangle$ e medimos observáceis globais desse sistema \n",
    "$$O^{ab}=\\sum_{j=1}^{d_{a}d_{b}}o^{ab}_{j}|o^{ab}_{j}\\rangle\\langle o^{ab}_{j}|,$$\n",
    "como e.g. a energia associada à interação dipolar magnética, as probabilidades são calculadas usualmente:\n",
    "\\begin{equation}\n",
    "Pr(o^{ab}_{j})=|\\langle\\Psi_{ab}|o^{ab}_{j}\\rangle|^{2}.\n",
    "\\end{equation}\n",
    "Por exemplo, para o Hamiltoniano $H_{dd}$, a probabilidade da energia dos dipolos ser nula no instante de tempo $t$ é\n",
    "\\begin{equation}\n",
    "Pr(E=0|\\psi_{t}) = |\\langle\\Psi_{-}|\\psi_{t}\\rangle|^{2} = |\\langle\\Psi_{-}|2^{-1/2}(|\\Psi_{-}\\rangle + e^{-i2Dt}|\\Psi_{+}\\rangle)|^{2} = 1/2.\n",
    "\\end{equation}\n",
    "\n",
    "Se medimos os __observáveis locais__\n",
    "$$O^{(s)}=\\sum_{j=1}^{d_{s}}o_{j}^{(s)}|o_{j}^{(s)}\\rangle\\langle o_{j}^{(s)}|$$\n",
    "com $s=a,b$, para um sistema composto por dois subsistemas e preparado no estado $|\\Psi_{ab}\\rangle$, teremos a seguinte generalização direta para a regra de Born:\n",
    "\\begin{equation}\n",
    "Pr\\left(o_{j}^{(a)},o_{k}^{(b)}|\\Psi_{ab}\\right) = \\left|\\langle\\Psi_{ab}|\\left(|o_{j}^{(a)}\\rangle\\otimes|o_{k}^{(b)}\\rangle\\right)\\right|^{2}.\n",
    "\\end{equation}"
   ]
  },
  {
   "cell_type": "markdown",
   "metadata": {},
   "source": [
    "Vale observar que $|o_{j}^{(a)}\\rangle\\otimes|o_{k}^{(b)}\\rangle$ é o autovetor se usamos \n",
    "$$O^{a}\\otimes O^{b} \\text{ ou } O^{a}\\otimes\\mathbb{I}_{b}+\\mathbb{I}_{a}\\otimes O^{b}$$\n",
    "para representar os observáveis locais. Os autovalores são, respectivamente, $o_{j}^{(a)}o_{k}^{(b)}$ e $o_{j}^{(a)}+o_{k}^{(b)}$. No entanto, como o Hamiltoniano é um observável e para sistemas independentes devemos ter dinâmicas independentes, i.e., $U_{t}^{ab}=U_{t}^{a}\\otimes U_{t}^{b}$, __devemos usar__ \n",
    "$$O^{a}\\otimes\\mathbb{I}_{b}+\\mathbb{I}_{a}\\otimes O^{b}$$\n",
    "para representar dois observáveis locais medidos 'conjuntamente'. Explicitando essa afirmação, consideremos e.g. \n",
    "$$H^{ab}=H^{a}\\otimes \\mathbb{I}_{b} + \\mathbb{I}_{a}\\otimes H^{b}.$$\n",
    "Então, como \n",
    "$$e^{X+Y}=e^{X}e^{Y} \\text{ para } [X,Y]=\\mathbb{O},$$\n",
    "temos que\n",
    "$$e^{X\\otimes \\mathbb{I}_{b}}=e^{X}\\otimes \\mathbb{I}_{b}$$ \n",
    "e\n",
    "$$e^{\\mathbb{I}_{a}\\otimes Y}=\\mathbb{I}_{a}\\otimes e^{Y}.$$"
   ]
  },
  {
   "cell_type": "markdown",
   "metadata": {},
   "source": [
    "Vem assim que\n",
    "\\begin{align}\n",
    "U_{t}^{ab} &= e^{-iH^{ab}t/\\hbar} \\\\\n",
    "& = e^{-i(H^{a}\\otimes \\mathbb{I}_{b} + \\mathbb{I}_{a}\\otimes H^{b})t/\\hbar}  \\\\\n",
    "& = e^{-iH^{a}t/\\hbar\\otimes \\mathbb{I}_{b}}e^{\\mathbb{I}_{a}\\otimes (-iH^{b})t/\\hbar)} \\\\\n",
    "& = \\left(e^{-iH^{a}t/\\hbar}\\otimes \\mathbb{I}_{b}\\right)\\left(\\mathbb{I}_{a}\\otimes e^{-iH^{b}t/\\hbar}\\right) \\\\\n",
    "& = e^{-iH^{a}t/\\hbar}\\otimes e^{-iH^{b}t/\\hbar} \\\\\n",
    "& = U_{t}^{a}\\otimes U_{t}^{b}.\n",
    "\\end{align}\n",
    "\n",
    "Por outro lado, se $\\tilde{H}^{ab}=H^{a}\\otimes H^{b}$ temos\n",
    "\\begin{align}\n",
    "\\tilde{U}_{t}^{ab} &= e^{-i\\tilde{H}^{ab}t/\\hbar} \\\\\n",
    "& = e^{-iH^{a}\\otimes H^{b}t/\\hbar} \\\\\n",
    "& = e^{-i\\sum_{j}E_{j}^{a}|E_{j}^{a}\\rangle\\langle E_{j}^{a}|\\otimes \\sum_{k}E_{k}^{b}|E_{k}^{b}\\rangle\\langle E_{k}^{b}|t/\\hbar} \\\\ \n",
    "& = e^{\\sum_{j,k}(-iE_{j}^{a}E_{k}^{b}t/\\hbar)|E_{j}^{a}\\rangle\\langle E_{j}^{a}|\\otimes |E_{k}^{b}\\rangle\\langle E_{k}^{b}|} \\\\\n",
    "& = \\sum_{j,k}e^{-iE_{j}^{a}E_{k}^{b}t/\\hbar}|E_{j}^{a}\\rangle\\langle E_{j}^{a}|\\otimes |E_{k}^{b}\\rangle\\langle E_{k}^{b}| \\\\\n",
    "& \\ne \\tilde{U}_{t}^{a}\\otimes \\tilde{U}_{t}^{b}.\n",
    "\\end{align}"
   ]
  },
  {
   "cell_type": "markdown",
   "metadata": {},
   "source": [
    "Podemos obter uma generalização da regra de Born no caso em que somente __um dos subsistemas é medido__ da seguinte forma. Digamos que para um sistema bipartido preparado no estado $|\\Psi_{ab}\\rangle$ queremos obter as probabilidades para medidas de $O^{(a)}$. Neste caso, consideremos que $O^{(b)}$ também foi medido e calculamos a probabilidade marginal:\n",
    "\\begin{align}\n",
    "Pr\\left(o_{j}^{(a)}|\\Psi_{ab}\\right) &= \\sum_{k=1}^{d_{b}}Pr\\left(o_{j}^{(a)},o_{k}^{(b)}|\\Psi_{ab}\\right) \\\\\n",
    "& = \\sum_{k=1}^{d_{b}}\\left|\\langle\\Psi_{ab}|\\left(|o_{j}^{(a)}\\rangle\\otimes|o_{k}^{(b)}\\rangle\\right)\\right|^{2} \\\\\n",
    "& = \\sum_{k=1}^{d_{b}} (\\langle o_{j}^{(a)}|\\otimes\\langle o_{k}^{(b)}|)|\\Psi_{ab}\\rangle\\langle\\Psi_{ab}|(|o_{j}^{(a)}\\rangle\\otimes|o_{k}^{(b)}\\rangle) \\\\\n",
    "& = \\sum_{l=1}^{d_{a}}\\sum_{k=1}^{d_{b}} (\\langle o_{l}^{(a)}|\\otimes\\langle o_{k}^{(b)}|)((|o_{j}^{a}\\rangle\\langle o_{j}^{a}|\\otimes\\mathbb{I}_{b})|\\Psi_{ab}\\rangle\\langle\\Psi_{ab}|)(|o_{l}^{(a)}\\rangle\\otimes|o_{k}^{(b)}\\rangle) \\\\\n",
    "& = \\mathrm{Tr}_{ab}\\left(|\\Psi_{ab}\\rangle\\langle\\Psi_{ab}|\\left(|o_{j}^{(a)}\\rangle\\langle o_{j}^{(a)}|\\otimes\\mathbb{I}_{2}\\right)\\right).\n",
    "\\end{align}\n",
    "\n",
    "Por exemplo, para os dois dipolos magnéticos, a probabilidade de ao medir a componente $z$ do dipolo $a$ obtermos valor positivo é (lembrando, $|\\psi_{t}\\rangle=\\cos(Dt)|z_{+}\\rangle\\otimes|z_{-}\\rangle -i\\sin(Dt)|z_{-}\\rangle\\otimes|z_{+}\\rangle$):\n",
    "\\begin{align}\n",
    "Pr(z_{+}^{a}|\\psi_{t}) & = Pr(z_{+}^{a},z_{+}^{b}|\\psi_{t}) + Pr(z_{+}^{a},z_{-}^{b}|\\psi_{t}) \\\\\n",
    "& = |(\\langle z_{+}|\\otimes\\langle z_{+}|)|\\psi_{t}\\rangle|^{2} + |(\\langle z_{+}|\\otimes\\langle z_{-}|)|\\psi_{t}\\rangle|^{2} \\\\\n",
    "& = 0 + \\cos^{2}(Dt),\n",
    "\\end{align}\n",
    "que coincide com o resultado visto na forma do operador densidade reduzido obtido acima, pois\n",
    "\\begin{align}\n",
    "Pr(z_{+}|\\rho_{a}(t)) & = Tr(\\rho_{a}(t)|z_{+}\\rangle\\langle z_{+}|) \\\\\n",
    "& \\equiv \\langle z_{+}|\\rho_{a}(t)|z_{+}\\rangle \\\\\n",
    "& = \\langle z_{+}|(\\cos^{2}(Dt)|z_{+}\\rangle\\langle z_{+}| + \\sin^{2}(Dt)|z_{-}\\rangle\\langle z_{-}|)|z_{+}\\rangle \\\\\n",
    "& = \\cos^{2}(Dt).\n",
    "\\end{align}\n",
    "\n",
    "Vale mencionar que para obter probabilidades marginais, podemos calcular primeiro as probabilidades \"globais\" e depois somar sobre os índices dos outros subsistemas, ou podemos calcular o estado reduzido do subsistema de interesse e então proceder com os cálculos da mesma forma que fizemos para um único quanton."
   ]
  },
  {
   "cell_type": "markdown",
   "metadata": {},
   "source": [
    "## Estado pós-medida para sistemas compostos\n",
    "No caso de um único grau de liberdade, pela _repetibilidade_, sabemos que o estado do sistema pós-medida quando o valor obtido na medida do observável $O$ for $o_{j}$ é o autovetor correspondente $|o_{j}\\rangle$. Podemos escrever isso de outra maneira. Podemos dizer que obter $o_{j}$ projeta o estado do sistema na direção de $|o_{j}\\rangle.$ Assim, o estado normalizado pós-medida poder ser escrito como\n",
    "\\begin{equation}\n",
    "|\\psi\\rangle \\xrightarrow[]{o_{j}} \\frac{\\Pi_{o_{j}}|\\psi\\rangle}{||\\Pi_{o_{j}}|\\psi\\rangle||} = \\frac{|o_{j}\\rangle\\langle o_{j}|\\psi\\rangle}{|||o_{j}\\rangle\\langle o_{j}|\\psi\\rangle||} = \\frac{|\\langle o_{j}|\\psi\\rangle|e^{i\\phi}}{|\\langle o_{j}|\\psi\\rangle|}\\frac{|o_{j}\\rangle}{|||o_{j}\\rangle||} \\equiv |o_{j}\\rangle.\n",
    "\\end{equation}\n",
    "\n",
    "Para sistemas compostos, se o tratamos como um único sistema, essa mesma regra é válida. Se medimos observáveis de todos os subsistemas, a generalização é\n",
    "\\begin{equation}\n",
    "|\\Psi\\rangle \\xrightarrow[]{o_{j_{1}},\\cdots,o_{j_{n}}} \\frac{\\Pi_{o_{j_{1}}}\\otimes\\cdots\\otimes\\Pi_{o_{j_{n}}}|\\Psi\\rangle}{||\\Pi_{o_{j_{1}}}\\otimes\\cdots\\otimes\\Pi_{o_{j_{n}}}|\\Psi\\rangle||} \\equiv |o_{j_{1}}\\rangle\\otimes\\cdots\\otimes|o_{j_{n}}\\rangle.\n",
    "\\end{equation}\n",
    "Se, por outro lado, fazemos medidas e.g. somente no subsistema $1$, teremos o estado pós-medida\n",
    "\\begin{equation}\n",
    "|\\Psi\\rangle \\xrightarrow[]{o_{j_{1}}} \\frac{\\Pi_{o_{j_{1}}}\\otimes\\mathbb{I}_{2}\\otimes\\cdots\\otimes\\mathbb{I}_{n}|\\Psi\\rangle}{||\\Pi_{o_{j_{1}}}\\otimes\\mathbb{I}_{2}\\otimes\\cdots\\otimes\\mathbb{I}_{n}|\\Psi\\rangle||}.\n",
    "\\end{equation}\n",
    "A extensão direta dessa ideia possibilita a obtenção do estado para medidas em alguns dos subsistemas."
   ]
  },
  {
   "cell_type": "markdown",
   "metadata": {},
   "source": [
    "Como __exemplo__, vamos considerar mais uma vez os dois dipolos magnéticos praparados no estado $|\\psi_{t}\\rangle=\\cos(Dt)|z_{+}\\rangle\\otimes|z_{-}\\rangle -i\\sin(Dt)|z_{-}\\rangle\\otimes|z_{+}\\rangle$. Se medimos a energia desse sistema e obtemos o valor $2\\hbar D$, cujo autovetor correspondente é $|\\Psi_{+}\\rangle$, o estado dos dipolos imediatamente depois da medida será:\n",
    "\\begin{align}\n",
    "|\\psi_{t}\\rangle \\xrightarrow[]{E=2\\hbar D} & \\Pi_{2\\hbar D}|\\psi_{t}\\rangle = |\\Psi_{+}\\rangle\\langle\\Psi_{+}|(\\cos(Dt)|z_{+}\\rangle\\otimes|z_{-}\\rangle -i\\sin(Dt)|z_{-}\\rangle\\otimes|z_{+}\\rangle) \\\\\n",
    "& = \\cos(Dt)|\\Psi_{+}\\rangle\\langle\\Psi_{+}|(|z_{+}\\rangle\\otimes|z_{-}\\rangle) -i\\sin(Dt)|\\Psi_{+}\\rangle\\langle\\Psi_{+}|(|z_{-}\\rangle\\otimes|z_{+}\\rangle)) \\\\\n",
    "& = 2^{-1/2}(\\cos(Dt)-i\\sin(Dt))|\\Psi_{+}\\rangle \\\\\n",
    "& = 2^{-1/2}e^{-iDt}|\\Psi_{+}\\rangle.\n",
    "\\end{align}\n",
    "Normalizando obtemos o estado pós medida $|\\Psi_{+}\\rangle=2^{-1/2}(|z_{+}\\rangle\\otimes|z_{-}\\rangle+|z_{-}\\rangle\\otimes|z_{+}\\rangle)$.\n",
    "\n",
    "Para exemplificar com medidas locais, consideremos que depois de obter esse valor de energia, medimos a componente de spin na direção $y$ do dipolo $a$ e obtemos o valor $+1$. O estado pós-medida será\n",
    "\\begin{align}\n",
    "|\\Psi_{+}\\rangle \\xrightarrow[]{\\sigma_{y}^{a}=+1} & (|y_{+}\\rangle\\langle y_{+}|\\otimes\\mathbb{I}_{b})|\\Psi_{+}\\rangle = 2^{-1/2}(|y_{+}\\rangle\\langle y_{+}|z_{+}\\rangle\\otimes|z_{-}\\rangle + |y_{+}\\rangle\\langle y_{+}|z_{-}\\rangle\\otimes|z_{+}\\rangle) \\\\\n",
    "& = 2^{-1/2}(2^{-1/2}|y_{+}\\rangle\\otimes|z_{-}\\rangle + 2^{-1/2}|y_{+}\\rangle\\otimes|z_{+}\\rangle) \\\\\n",
    "& =  2^{-1/2}|y_{+}\\rangle\\otimes 2^{-1/2}(|z_{-}\\rangle + |z_{+}\\rangle).\n",
    "\\end{align}\n",
    "Normalizando teremos o estado pós medida $|y_{+}\\rangle\\otimes|x_{+}\\rangle$."
   ]
  },
  {
   "cell_type": "markdown",
   "metadata": {},
   "source": [
    "O mesmo tipo de regra se estende para quando existe incerteza sobre a preparação do sistema. Ou seja, se $\\rho_{1,\\cdots,n}=\\sum_{j}p_{j}|\\psi_{j}^{(1\\cdots n)}\\rangle\\langle \\psi_{j}^{(1\\cdots n)}|$, então, se medimos um observável de um ou mais subsistemas e obtemos o resultado cujo projetor no autovetor correspondente é $\\Pi_{k}$, como\n",
    "\\begin{equation}\n",
    "|\\psi_{j}^{(1\\cdots n)}\\rangle \\rightarrow \\frac{\\Pi_{k}|\\psi_{j}^{(1\\cdots n)}\\rangle}{||\\Pi_{k}|\\psi_{j}^{(1\\cdots n)}\\rangle||},\n",
    "\\end{equation}\n",
    "teremos que\n",
    "\\begin{equation}\n",
    "\\rho_{1,\\cdots,n}\\rightarrow \\frac{\\Pi_{k}\\rho_{1,\\cdots,n}\\Pi_{k}}{Tr(\\Pi_{k}\\rho_{1,\\cdots,n}\\Pi_{k})},\n",
    "\\end{equation}\n",
    "em que a forma de $\\Pi_{k}$ depende de quais dos subsistemas são medidos."
   ]
  },
  {
   "cell_type": "markdown",
   "metadata": {},
   "source": [
    "## Dinâmica de subsistemas\n",
    "Para um sistema fechado com $n$ graus de liberdade preparado em no estado inicial $\\rho_{0}^{(1\\cdots n)}$, a evolução é unitária (reversível) com o estado evoluído dado por\n",
    "\\begin{equation}\n",
    "\\rho_{t}^{(1\\cdots n)}=U_{t}^{(1\\cdots n)}\\rho_{0}^{(1\\cdots n)}(U_{t}^{(1\\cdots n)})^{\\dagger},\n",
    "\\end{equation}\n",
    "com \n",
    "$$i\\hbar\\partial_{t}U_{t}^{(1\\cdots n)}=H_{t}^{(1\\cdots n)}U_{t}^{(1\\cdots n)}.$$\n",
    "Lembrando, essas duas equações são equivalentes a equação de von Neumann $$i\\hbar\\partial_{t}\\rho_{t}^{(1\\cdots n)}=[H_{t}^{(1\\cdots n)},\\rho_{t}^{(1\\cdots n)}].$$\n",
    "\n",
    "Note que um __sistema__ ser __fechado__ não significa que este não interage com outros sistemas externos, mas significa que essa interação não afeta significativamente estes últimos. Por exemplo, um momento de dipolo magnético pode ser tratado como um sistema fechado quando interage com um campo magnético criado por uma espira de corrente elétrica. Como o campo criado pelo dipolo não afeta substancialmente o movimento dos elétrons que geram o campo, não precimos incluir a descrição desse movimento dentro do formalismo quântico, i.e., tratamos o campo magnético como um campo clássico. Essa observação não vale pra os dois dipolos considerados como exemplo aqui.\n",
    "\n",
    "No entanto, por exemplo, se preparamos os dois dipolos magnéticos no estado inicial $|z_{+}\\rangle\\otimes|z_{-}\\rangle$ e este é deixado evoluir sob a ação de um banho térmico, a evolução desse sistema é irreversível e não unitária e para tempos muito grandes temos equilíbrio térmico:\n",
    "\\begin{equation}\n",
    "|z_{+}\\rangle\\otimes|z_{-}\\rangle \\rightarrow \\lim_{t\\rightarrow\\infty}\\rho_{t}=\\rho_{th}=\\frac{e^{-\\beta H}}{Tr(e^{-\\beta H})}.\n",
    "\\end{equation}\n",
    "Se consideramos que o sistema como um todo é fechado (isso seria o caso para todo o universo), e estamos interessados, por exemplo, na dinâmica do subsistema $1$, podemos obter o seu estado tomando o traço parcial sobre os subsistemas que não usaremos (ou que não temos acesso diretamente, como seria o caso do banho térmico):\n",
    "\\begin{equation}\n",
    "\\rho_{t}^{(1)} = Tr_{2\\cdots n}(\\rho_{t}^{(12\\cdots n)}).\n",
    "\\end{equation}\n",
    "A mesma ideia se aplica se estamos interessados no estado evoluído de um ou mais dos outros subsistemas.\n",
    "\n",
    "Existem vários formalismos para tratar dessas dinâmicas mais gerais de sistemas abertos:\n",
    "* Operações quânticas ou representação de Kraus: https://arxiv.org/abs/1510.09081;\n",
    "* Equação mestra: https://arxiv.org/abs/1110.2122;\n",
    "* Equação de Schrödinger estocástica: https://doi.org/10.1088/0305-4470/25/21/023;\n",
    "* Equações de Bloch-Redfield ou Fokker-Planck: https://doi.org/10.1063/1.1474579;\n",
    "* $\\vdots$."
   ]
  },
  {
   "cell_type": "markdown",
   "metadata": {},
   "source": [
    "---\n",
    "# Exercícios\n",
    "\n",
    "$1.$ Verifique a igualdade $(A\\otimes B)(C\\otimes D)=AC\\otimes BD$ para $A,C\\in\\mathbb{C}^{m\\mathrm{x}n}$ e $B,D\\in\\mathbb{C}^{p\\mathrm{x}q}$ com $m,n,p,q\\in\\mathbb{N}_{>1}$.\n",
    " \n",
    "$2.$ Verifique a igualdade $(A\\otimes B)^{\\dagger}=A^{\\dagger}\\otimes B^{\\dagger}$ para $A\\in\\mathbb{C}^{m\\mathrm{x}n}$ e $B\\in\\mathbb{C}^{p\\mathrm{x}q}$ com $m,n,p,q\\in\\mathbb{N}_{>1}$.\n",
    "\n",
    "$3.$ Forneça a representação matricial do vetor de estado $|z_{-}\\rangle\\otimes|z_{-}\\rangle$ na base $\\{|z_{+}\\rangle\\otimes|z_{+}\\rangle, |z_{+}\\rangle\\otimes|z_{-}\\rangle, |z_{-}\\rangle\\otimes|z_{+}\\rangle, |z_{-}\\rangle\\otimes|z_{-}\\rangle\\}$.\n",
    "\n",
    "$4.$ Verifique que para $\\hat{n} = \\hat{k}$, o Hamiltoniano da interação dipolar magnética pode ser escrito como $H_{dd} = (\\hbar D/2)(\\sigma_{1}\\otimes\\sigma_{1}+\\sigma_{2}\\otimes\\sigma_{2}-2\\sigma_{3}\\otimes\\sigma_{3})$.\n",
    "\n",
    "$5.$ Obtenha a representação matricial do Hamiltoniano $H_{dd}$, da última questão, na base $\\{|z_{+}\\rangle\\otimes|z_{+}\\rangle, |z_{+}\\rangle\\otimes|z_{-}\\rangle, |z_{-}\\rangle\\otimes|z_{+}\\rangle, |z_{-}\\rangle\\otimes|z_{-}\\rangle\\}$.\n",
    "\n",
    "$6.$ Verifique que a base de Bell $\\{|\\Psi_{\\pm}\\rangle,|\\Phi_{\\pm}\\rangle\\}$ é uma base ortonormal completa para $\\mathbb{C}^{4}$.\n",
    "\n",
    "$7.$ Verifique que $\\langle\\Psi_{+}|(|z_{+}\\rangle\\otimes|z_{-}\\rangle) = 2^{-1/2}$ e que $\\langle\\Phi_{+}|(|z_{+}\\rangle\\otimes|z_{-}\\rangle) = \\langle\\Phi_{-}|(|z_{+}\\rangle\\otimes|z_{-}\\rangle) = 0$.\n",
    "\n",
    "$8.$ Partindo do operador densidade $\\rho_{ab} = \\cos^{2}(Dt)|z_{+}\\rangle\\langle z_{+}|\\otimes|z_{-}\\rangle\\langle z_{-}| + \\sin^{2}(Dt)|z_{-}\\rangle\\langle z_{-}|\\otimes|z_{+}\\rangle\\langle z_{+}| + (i\\sin(Dt)\\cos(Dt)|z_{+}\\rangle\\langle z_{-}|\\otimes|z_{-}\\rangle\\langle z_{+}|+t.c.)$ do sistema composto $\\mathcal{H}_{ab}$, use o traço parcial para obter o estado reduzido $\\rho_{b}$ do subsistema $\\mathcal{H}_{b}$.\n",
    "\n",
    "$9.$ Considere dois dipolos magnéticos interagindo segundo o Hamiltoniano $H_{dd}$ e em equilíbrio térmico com um ambiente com temperatura $T$. Quais são as probabilidades para as diferentes energias possíveis desses dipolos?\n",
    "\n",
    "$10.$ Mostre que se o estado de um sistema composto é descrito pelo operador densidade $\\rho_{ab}=\\sum_{j}p_{j}|\\Psi_{j}^{ab}\\rangle\\langle\\Psi_{j}^{ab}|$, e medimos um observável local $O^{a}$, as probabilidades dos seus possíveis valores são dadas por: $Pr(o_{j}^{a}|\\rho_{ab}) = \\mathrm{Tr}\\left(\\rho_{ab}\\left(|o_{j}^{(a)}\\rangle\\langle o_{j}^{(a)}|\\otimes\\mathbb{I}_{2}\\right)\\right)$. (OBS. Aqui a solução fica fácil se usar a ideia de operador densidade como representando um ensemble de estados puros.)\n",
    "\n",
    "$11.$ Para o estado evoluído dos dois dipolos magnéticos, $|\\psi_{t}\\rangle=\\cos(Dt)|z_{+}\\rangle\\otimes|z_{-}\\rangle -i\\sin(Dt)|z_{-}\\rangle\\otimes|z_{+}\\rangle$, calcule a probabilidade de obtermos $z_{+}^{a}$ usando $Pr(z_{+}^{a}|\\psi_{t})=Pr(z_{+}^{a},x_{+}^{b}|\\psi_{t})+Pr(z_{+}^{a},x_{-}^{b}|\\psi_{t})$.\n",
    "\n",
    "$12.$ Usando projetores, obtenha o estado pós-medida para as medidas locais de $\\sigma_{x}^{a}$ e $\\sigma_{z}^{b}$ com resultados $+1$ e  $-1$, respectivamente, para os dipolos preparados no estado $|\\psi_{t}\\rangle$ da questão anterior.\n",
    "\n",
    "$13.$ Para dois operadores normais quaisquer $X:\\mathcal{H}^{a}\\rightarrow\\mathcal{H}^{a}$ e $Y:\\mathcal{H}^{b}\\rightarrow\\mathcal{H}^{b}$, como devemos escrever esses operadores, individualmente, para atuá-los no espaço de Hilbert composto $\\mathcal{H}^{ab}=\\mathcal{H}^{a}\\otimes \\mathcal{H}^{b}$? Baseado na resposta a essa pergunta, verifique que $[X,Y]=\\mathbb{O}$.\n",
    "\n",
    "$14.$ Verifique que $e^{X\\otimes \\mathbb{I}_{b}}=e^{X}\\otimes \\mathbb{I}_{b}$, para $X=X^\\dagger$ (o mesmo raciocínio pode ser aplicado para verificar que $e^{\\mathbb{I}_{a}\\otimes Y}=\\mathbb{I}_{a}\\otimes e^{Y}$). \n",
    "\n",
    "$15.$ Disserte sobre porque dizemos que a dinâmica unitária é reversível."
   ]
  }
 ],
 "metadata": {
  "kernelspec": {
   "display_name": "Python 3 (ipykernel)",
   "language": "python",
   "name": "python3"
  },
  "language_info": {
   "codemirror_mode": {
    "name": "ipython",
    "version": 3
   },
   "file_extension": ".py",
   "mimetype": "text/x-python",
   "name": "python",
   "nbconvert_exporter": "python",
   "pygments_lexer": "ipython3",
   "version": "3.11.1"
  }
 },
 "nbformat": 4,
 "nbformat_minor": 4
}
