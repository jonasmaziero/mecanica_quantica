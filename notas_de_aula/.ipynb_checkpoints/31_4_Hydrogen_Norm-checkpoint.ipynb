{
 "cells": [
  {
   "cell_type": "markdown",
   "metadata": {},
   "source": [
    "### Notas de aula de Mecânica Quântica <br> Autor: Jonas Maziero\n",
    "\n",
    "# Átomos Hidrogenóides\n",
    "\n",
    "Anteriormente, usamos separação de variáveis, $\\psi(r,\\theta,\\phi)=\\Omega(r)\\Theta(\\theta)\\Phi(\\phi)$, para reescrever a equação diferencial \n",
    "$$\\frac{-\\hbar^{2}}{2\\mu}\\left(\\frac{1}{r^{2}}\\frac{\\partial}{\\partial r}\\left(r^{2}\\frac{\\partial\\psi}{\\partial r}\\right) + \\frac{1}{r^{2}\\sin\\theta}\\frac{\\partial}{\\partial \\theta}\\left(\\sin\\theta\\frac{\\partial\\psi}{\\partial \\theta}\\right) + \\frac{1}{r^{2}\\sin^{2}\\theta}\\frac{\\partial^{2}\\psi}{\\partial \\phi^{2}} \\right) + U(r)\\psi = E\\psi$$\n",
    "em termos de três equações diferenciais, uma para cada coordenada:\n",
    "\\begin{align}\n",
    "& \\frac{\\partial}{\\partial r}\\left(r^{2}\\frac{\\partial\\Omega(r)}{\\partial r}\\right) + \\left(\\frac{r^{2}2\\mu(E-U(r))}{\\hbar^{2}}-l(l+1)\\right)\\Omega(r)=0, \\\\\n",
    "& \\sin\\theta\\frac{\\partial}{\\partial \\theta}\\left(\\sin\\theta\\frac{\\partial\\Theta(\\theta)}{\\partial \\theta}\\right) + \\left(l(l+1)\\sin^{2}\\theta-m_{l}^{2}\\right)\\Theta(\\theta)=0, \\\\\n",
    "& \\frac{\\partial^{2}\\Phi(\\phi)}{\\partial \\phi^{2}}+m_{l}^{2}\\Phi(\\phi)=0.\n",
    "\\end{align}\n",
    "Usando a técnica de solução por séries de potências para obter\n",
    "\\begin{align}\n",
    "& \\Omega_{n,l}(\\rho) = C_{n,l}e^{-\\rho/2}\\rho^{l}L_{n-l-1}^{2l+1}(\\rho) \\text{ com } L_{n-l-1}^{2l+1}(\\rho) = \\frac{e^{\\rho}\\rho^{-(2l+1)}}{(n-l-1)!}\\frac{\\partial^{n-l-1}}{\\partial\\rho^{n-l-1}}\\left(e^{-\\rho}\\rho^{n+l}\\right), \\\\\n",
    "& \\Theta_{l,m_{l}}(z) = (1-z^{2})^{|m_{l}|/2}\\frac{\\partial^{|m_{l}|}P_{l}(z)}{\\partial z^{|m_{l}|}} \\text{ com } P_{l}(z) := \\frac{1}{l!2^{l}}\\frac{\\partial^{l}}{\\partial z^{l}}(z^{2}-1)^{l},\\\\\n",
    "& \\Phi(\\phi)=c_{+}e^{+im_{l}\\phi} + c_{-}e^{-im_{l}\\phi}\\ \\rightarrow\\ \\Phi(\\phi)=c_{+}e^{+im_{l}\\phi},\n",
    "\\end{align}\n",
    "em que $n=1,2,3,\\cdots,N$, $l=0,1,\\cdots,n-1$ e $m_l = -l,-l+1,\\cdots,l.$ Também obtivemos \n",
    "$$E_n=E_1/n^2$$\n",
    "com $E_1 = -\\frac{\\mu Z^{2}e^{4}}{(4\\pi\\epsilon_{0})^{2}2\\hbar^{2}}$. \n",
    "\n",
    "Já conhecemos a forma matemática das soluções, mas ainda nos falta normalizá-las, o que será feito na sequência."
   ]
  },
  {
   "cell_type": "markdown",
   "metadata": {},
   "source": [
    "## Ortogonalidade e normalização das autofunções\n",
    "\n",
    "Já obtivemos a forma geral das funções de onda de átomos hidrogenóides. Vamos olhar agora para a ortogonalidade e normalização dessas funções de onda.\n",
    "\n",
    "Vamos começar olhando para o produto interno entre duas autofunções de átomos hidrogenóides\n",
    "\\begin{align}\n",
    "\\langle\\psi_{n,l,m_{l}}|\\psi_{n',l',m_{l}'}\\rangle & = \\iiint \\psi_{n,l,m_{l}}(r,\\theta,\\phi)^{*}\\psi_{n',l',m_{l}'}(r,\\theta,\\phi)dV \\\\\n",
    "& = \\iiint \\Omega_{n,l}(r)^{*}\\Theta_{l,m_{l}}(\\theta)^{*}\\Phi_{m_{l}}(\\phi)^{*}\\Omega_{n',l'}(r)\\Theta_{l',m_{l}'}(\\theta)\\Phi_{m_{l}'}(\\phi)r^{2}\\sin\\theta dr d\\theta d\\phi \\\\\n",
    "& = \\int_{0}^{\\infty}\\Omega_{n,l}(r)^{*}\\Omega_{n',l'}(r)r^{2}dr\\int_{0}^{\\pi}\\Theta_{l,m_{l}}(\\theta)^{*}\\Theta_{l',m_{l}'}(\\theta)\\sin\\theta d\\theta\\int_{0}^{2\\pi}\\Phi_{m_{l}}(\\phi)^{*}\\Phi_{m_{l}'}(\\phi)d\\phi \\\\\n",
    "& = \\int_{0}^{\\infty}\\Omega_{n,l}(r)^{*}\\Omega_{n',l'}(r)r^{2}dr\\int_{0}^{\\pi}\\Theta_{l,m_{l}}(\\theta)^{*}\\Theta_{l',m_{l}}(\\theta)\\sin\\theta d\\theta 2\\pi\\delta_{m_{l}m_{l}'}\n",
    "\\end{align}\n",
    "pois \n",
    "\\begin{equation}\n",
    "\\int_{0}^{2\\pi}\\Phi_{m_{l}}(\\phi)^{*}\\Phi_{m_{l}'}(\\phi)d\\phi=2\\pi\\delta_{m_{l}m_{l}'}.\n",
    "\\end{equation}\n",
    "Como $z=\\cos\\theta$, usando $\\sin\\theta=\\sqrt{1-z^{2}}$, $dz=-\\sin\\theta d\\theta$ e\n",
    "\\begin{equation}\n",
    "\\Theta_{l,m_{l}}(z) = \\frac{(1-z^{2})^{|m_{l}|/2}}{l!2^{l}}\\frac{\\partial^{|m_{l}|+l}(z^{2}-1)^{l}}{\\partial z^{|m_{l}|+l}},\n",
    "\\end{equation}\n",
    "escrevemos\n",
    "\\begin{align}\n",
    "I_{\\theta} & = \\int_{0}^{\\pi}\\Theta_{l,m_{l}}(\\theta)^{*}\\Theta_{l',m_{l}}(\\theta)\\sin\\theta d\\theta \\\\\n",
    "& = \\int_{+1}^{-1}\\Theta_{l,m_{l}}(z)\\Theta_{l',m_{l}}(z)(-dz) \\\\\n",
    "& = \\frac{(-1)^{|m_{l}|}}{l!l'!2^{l+l'}}\\int_{-1}^{+1}(z^{2}-1)^{|m_{l}|}\\frac{\\partial^{|m_{l}|+l}(z^{2}-1)^{l}}{\\partial z^{|m_{l}|+l}}\\frac{\\partial^{|m_{l}|+l'}(z^{2}-1)^{l'}}{\\partial z^{|m_{l}|+l'}}dz \\\\\n",
    "& = \\frac{(-1)^{|m_{l}|}}{l!l'!2^{l+l'}}\\int_{-1}^{+1}Z^{|m_{l}|}\\frac{\\partial^{|m_{l}|+l}Z^{l}}{\\partial z^{|m_{l}|+l}}\\frac{\\partial^{|m_{l}|+l'}Z^{l'}}{\\partial z^{|m_{l}|+l'}}dz,\n",
    "\\end{align}"
   ]
  },
  {
   "cell_type": "markdown",
   "metadata": {},
   "source": [
    "com \n",
    "\\begin{equation}\n",
    "Z:=z^{2}-1.\n",
    "\\end{equation}\n",
    "\n",
    "Se integramos por partes com\n",
    "\\begin{equation}\n",
    "u=Z^{|m_{l}|}\\frac{\\partial^{|m_{l}|+l}Z^{l}}{\\partial z^{|m_{l}|+l}} \\text{ e } dv=\\frac{\\partial^{|m_{l}|+l'}Z^{l'}}{\\partial z^{|m_{l}|+l'}}dz,\n",
    "\\end{equation}\n",
    "teremos \n",
    "\\begin{align}\n",
    "v & =\\int dv = \\int\\frac{\\partial^{|m_{l}|+l'}Z^{l'}}{\\partial z^{|m_{l}|+l'}}dz = \\int\\frac{\\partial}{\\partial z}\\frac{\\partial^{|m_{l}|+l'-1}Z^{l'}}{\\partial z^{|m_{l}|+l'-1}}dz = \\int d\\left(\\frac{\\partial^{|m_{l}|+l'-1}Z^{l'}}{\\partial z^{|m_{l}|+l'-1}}\\right) \\\\\n",
    "& = \\frac{\\partial^{|m_{l}|+l'-1}Z^{l'}}{\\partial z^{|m_{l}|+l'-1}}\n",
    "\\end{align}\n",
    "e\n",
    "\\begin{equation}\n",
    "\\big[uv\\big]_{-1}^{+1} = \\left(Z^{|m_{l}|}\\frac{\\partial^{|m_{l}|+l}Z^{l}}{\\partial z^{|m_{l}|+l}}\\frac{\\partial^{|m_{l}|+l'-1}Z^{l'}}{\\partial z^{|m_{l}|+l'-1}}\\right)_{-1}^{+1} = 0\n",
    "\\end{equation}\n",
    "pois \n",
    "$$Z(-1)=Z(+1)=0.$$\n",
    "Ademais \n",
    "$$du=d\\left(Z^{|m_{l}|}\\frac{\\partial^{|m_{l}|+l}Z^{l}}{\\partial z^{|m_{l}|+l}}\\right) = \\frac{\\partial^{1}}{\\partial z^{1}}\\left(Z^{|m_{l}|}\\frac{\\partial^{|m_{l}|+l}Z^{l}}{\\partial z^{|m_{l}|+l}}\\right)dz.$$\n",
    "Portanto\n",
    "\\begin{equation}\n",
    "I_{\\theta} = \\frac{(-1)^{|m_{l}|}}{l!l'!2^{l+l'}}\\left(0+(-1)^{1}\\int_{-1}^{+1}\\frac{\\partial^{|m_{l}|+l'-1}Z^{l'}}{\\partial z^{|m_{l}|+l'-1}}\\frac{\\partial^{1}}{\\partial z^{1}}\\left(Z^{|m_{l}|}\\frac{\\partial^{|m_{l}|+l}Z^{l}}{\\partial z^{|m_{l}|+l}}\\right)dz\\right).\n",
    "\\end{equation}"
   ]
  },
  {
   "cell_type": "markdown",
   "metadata": {},
   "source": [
    "Se __integramos por partes $|m_{l}|+l'$ vezes__ obteremos por fim \n",
    "$$v=Z^{l'}$$\n",
    "e \n",
    "$$du=d^{|m_{l}|+l'}\\left(Z^{|m_{l}|}\\frac{\\partial^{|m_{l}|+l}Z^{l}}{\\partial z^{|m_{l}|+l}}\\right),$$\n",
    "e assim\n",
    "\\begin{equation}\n",
    "I_{\\theta} = \\frac{(-1)^{|m_{l}|}(-1)^{|m_{l}|+l'}}{l!l'!2^{l+l'}}\\int_{-1}^{+1}Z^{l'}\\frac{\\partial^{|m_{l}|+l'}}{\\partial z^{|m_{l}|+l'}}\\left(Z^{|m_{l}|}\\frac{\\partial^{|m_{l}|+l}Z^{l}}{\\partial z^{|m_{l}|+l}}\\right)dz.\n",
    "\\end{equation}\n",
    "OBS. O termo $\\big[uv\\big]_{-1}^{+1}$ continua sendo nulo para qualquer \"ordem\" da integração por partes pois termos proporcionais a $Z$ continuam aparecendo em $u$, como e.g. em \n",
    "$$u=\\frac{\\partial^{1}}{\\partial z^{1}}\\left(Z^{|m_{l}|}\\frac{\\partial^{|m_{l}|+l}Z^{l}}{\\partial z^{|m_{l}|+l}}\\right)=|m_{l}|Z^{|m_{l}|-1}\\frac{\\partial^{|m_{l}|+l}Z^{l}}{\\partial z^{|m_{l}|+l}} + Z^{|m_{l}|}\\frac{\\partial^{|m_{l}|+l+1}Z^{l}}{\\partial z^{|m_{l}|+l+1}}.$$\n",
    "\n",
    "Agora, fazendo uso da __regra de Leibniz__:\n",
    "\\begin{equation}\n",
    "\\frac{\\partial^{k}(f(z)g(z))}{\\partial z^{k}} = \\sum_{j=0}^{k}\\binom{k}{j}\\frac{\\partial^{k-j}f(z)}{\\partial z^{k-j}}\\frac{\\partial^{j}g(z)}{\\partial z^{j}},\n",
    "\\end{equation}\n",
    "com $\\binom{k}{j}=\\frac{k!}{j!(k-j)!},$ escrevemos as derivadas no integrando como\n",
    "\\begin{equation}\n",
    "\\frac{\\partial^{|m_{l}|+l'}}{\\partial z^{|m_{l}|+l'}}\\left(Z^{|m_{l}|}\\frac{\\partial^{|m_{l}|+l}Z^{l}}{\\partial z^{|m_{l}|+l}}\\right) = \\sum_{j=0}^{|m_{l}|+l'}\\binom{|m_{l}|+l'}{j}\\frac{\\partial^{|m_{l}|+l'-j}Z^{|m_{l}|}}{\\partial z^{|m_{l}|+l'-j}}\\frac{\\partial^{|m_{l}|+l+j}Z^{l}}{\\partial z^{|m_{l}|+l+j}}.\n",
    "\\end{equation}"
   ]
  },
  {
   "cell_type": "markdown",
   "metadata": {},
   "source": [
    "Como \n",
    "$$Z^{|m_{l}|}=(z^{2}-1)^{|m_{l}|} = z^{2|m_{l}|}+c_{2|m_{l}|-2}z^{2|m_{l}|-2}+\\cdots,$$\n",
    "para que $I_{\\theta}$ não seja nula por causa das derivadas, devemos ter que\n",
    "\\begin{equation}\n",
    "|m_{l}|+l'-j \\le 2|m_{l}|.\n",
    "\\end{equation}\n",
    "Do mesmo modo, como \n",
    "$$Z^{l}=(z^{2}-1)^{l} = z^{2l}+c_{2l-1}z^{2l-1}+\\cdots,$$\n",
    "devemos ter\n",
    "\\begin{equation}\n",
    "|m_{l}|+l+j \\le 2l.\n",
    "\\end{equation}\n",
    "Somando essas duas equações obtemos que\n",
    "\\begin{equation}\n",
    "2|m_l|+l'+l\\le 2|m_l|+2l  \\ \\therefore\\ l'\\le l.\n",
    "\\end{equation}\n",
    "\n",
    "No entanto, se __mudamos a definição de $u$ e $dv$ na integração por partes__, a 'simetria' dos labels $l$ e $l'$ se manifestará e teremos que\n",
    "\\begin{equation}\n",
    "l'\\ge l.\n",
    "\\end{equation}\n",
    "Por conseguinte, como a única maneira de satisfazer as duas condições é com $l=l'$, teremos que\n",
    "\\begin{equation}\n",
    "l\\ne l'\\Rightarrow I_{\\theta}=0.\n",
    "\\end{equation}\n",
    "\n",
    "Para $l=l'$, das igualdades acima temos que o único termo que sobra da fórmula de Leibniz é para $j=l-|m_{l}|$:\n",
    "\\begin{equation}\n",
    "l=l' \\Rightarrow |m_l|+l-j=2|m_l| \\Rightarrow j=l-|m_{l}|.\n",
    "\\end{equation}\n",
    "Assim, substituindo esses resultados na integral vem que\n",
    "\\begin{align}\n",
    "I_{\\theta} & = \\frac{(-1)^{|m_{l}|}(-1)^{|m_{l}|+l'}}{l!l'!2^{l+l'}}\\int_{-1}^{+1}Z^{l'}\\sum_{j=0}^{|m_{l}|+l'}\\binom{|m_{l}|+l'}{j}\\frac{\\partial^{|m_{l}|+l'-j}Z^{|m_{l}|}}{\\partial z^{|m_{l}|+l'-j}}\\frac{\\partial^{|m_{l}|+l+j}Z^{l}}{\\partial z^{|m_{l}|+l+j}}dz \\\\\n",
    "&= \\delta_{l,l'}\\frac{(-1)^{|m_{l}|}(-1)^{|m_{l}|+l}}{l!l!2^{2l}}\\int_{-1}^{+1}Z^{l}\\binom{|m_{l}|+l}{l-|m_{l}|}\\frac{\\partial^{|m_{l}|+l-l+|m_{l}|}Z^{|m_{l}|}}{\\partial z^{|m_{l}|+l-l+|m_{l}|}}\\frac{\\partial^{|m_{l}|+l+l-|m_{l}|}Z^{l}}{\\partial z^{|m_{l}|+l+l-|m_{l}|}}dz \\\\\n",
    "&= \\delta_{l,l'}\\frac{(-1)^{2|m_{l}|+l}(l+|m_{l}|)!}{(l!)^{2}2^{2l}(l-|m_{l}|)!(2|m_{l}|)!}\\int_{-1}^{+1}Z^{l}\\frac{\\partial^{2|m_{l}|}Z^{|m_{l}|}}{\\partial z^{2|m_{l}|}}\\frac{\\partial^{2l}Z^{l}}{\\partial z^{2l}}dz.\n",
    "\\end{align}"
   ]
  },
  {
   "cell_type": "markdown",
   "metadata": {},
   "source": [
    "Como\n",
    "\\begin{align}\n",
    "\\frac{\\partial^{2|m_{l}|}Z^{|m_{l}|}}{\\partial z^{2|m_{l}|}} & = \\frac{\\partial^{2|m_{l}|}(z^{2}-1)^{|m_{l}|}}{\\partial z^{2|m_{l}|}} \\\\\n",
    "& = \\frac{\\partial^{2|m_{l}|}}{\\partial z^{2|m_{l}|}}\\left(z^{2|m_{l}|}+c_{2|m_{l}|-2}z^{2|m_{l}|-2}+\\cdots\\right) \\\\\n",
    "& = \\frac{\\partial^{2|m_{l}|}z^{2|m_{l}|}}{\\partial z^{2|m_{l}|}}+0+\\cdots+0 \\\\\n",
    "& = (2|m_{l}|)!,\n",
    "\\end{align}\n",
    "e analogamente \n",
    "$$\\frac{\\partial^{2l}Z^{l}}{\\partial z^{2l}}=(2l)!,$$\n",
    "vem que\n",
    "\\begin{equation}\n",
    "I_{\\theta} = \\delta_{l,l'}\\frac{(-1)^{2|m_{l}|+l}(l+|m_{l}|)!}{(l!)^{2}2^{2l}(l-|m_{l}|)!(2|m_{l}|)!}(2|m_{l}|)!(2l)!\\int_{-1}^{+1}Z^{l}dz.\n",
    "\\end{equation}"
   ]
  },
  {
   "cell_type": "markdown",
   "metadata": {},
   "source": [
    "A integral, que é resolvida usando a __função beta__ descrita na sequência, é\n",
    "\\begin{align}\n",
    "\\int_{-1}^{+1}Z^{l}dz &=  \\int_{-1}^{+1}(z^{2}-1)^{l}dz \\\\\n",
    "& = \\int_{0}^{\\pi}(\\cos^{2}\\theta-1)^{l}\\sin\\theta d\\theta \\\\ \n",
    "& = \\int_{0}^{\\pi}(-\\sin^{2}\\theta)^{l}\\sin\\theta d\\theta \\\\\n",
    "& = (-1)^{l}\\int_{0}^{\\pi}\\sin^{2l+1}\\theta d\\theta \\\\\n",
    "& = (-1)^{l}2\\int_{0}^{\\pi/2}\\sin^{2l+1}\\theta d\\theta \\\\\n",
    "& = (-1)^{l}2\\int_{0}^{\\pi/2}(\\cos\\theta)^{2(-1/2)+1}(\\sin\\theta)^{2l+1}d\\theta \\\\\n",
    "& = (-1)^{l}\\frac{(-1/2)!l!}{(-1/2+l+1)!} \\\\\n",
    "& = (-1)^{l}\\frac{(-1/2)!l!}{(l+1/2)!} \\\\\n",
    "& = (-1)^{l}\\frac{2^{2l+1}l!l!}{(2l+1)!},\n",
    "\\end{align}\n",
    "em que a última igualdade será obtida a seguir usando a função beta. Assim, temos finalmente que\n",
    "\\begin{align}\n",
    "I_{\\theta} &= \\delta_{l,l'}\\frac{(-1)^{2|m_{l}|+l}(l+|m_{l}|)!}{(l!)^{2}2^{2l}(l-|m_{l}|)!}(2l)!(-1)^{l}\\frac{2^{2l+1}l!l!}{(2l+1)!} \\\\ \n",
    "& = \\delta_{l,l'}\\frac{(-1)^{2(|m_{l}|+l)}(l+|m_{l}|)!}{(l-|m_{l}|)!}(2l)!2\\frac{1}{(2l+1)(2l)!} \\\\\n",
    "& = \\delta_{l,l'}\\frac{2}{2l+1}\\frac{(l+|m_{l}|)!}{(l-|m_{l}|)!}.\n",
    "\\end{align}"
   ]
  },
  {
   "cell_type": "markdown",
   "metadata": {},
   "source": [
    "---\n",
    "__Função beta__\n",
    "\n",
    "Lembrando, nas aulas sobre radiação de corpo negro, usamos a _função gama generalizada_\n",
    "$$\\Gamma_{m}(n)=\\int_{0}^{\\infty}x^{n-1}e^{-mx}dx=\\frac{(n-1)!}{m^{n}}$$\n",
    "para obter a lei de Stefan-Boltzmann $U_{T}=\\sigma T^{4}$. Aqui, vamos fazer uso da função gama \n",
    "$$\\Gamma(n)=\\Gamma_{1}(n)=(n-1)!$$\n",
    "para escrever (para $j,k>-1$)\n",
    "\\begin{equation}\n",
    "\\Gamma(j+1)\\Gamma(k+1)=j!k! = \\int_{0}^{\\infty}u^{j}e^{-u}du\\int_{0}^{\\infty}v^{k}e^{-v}dv.\n",
    "\\end{equation}\n",
    "\n",
    "Fazendo as mudanças de variável \n",
    "$$u=x^{2}\\therefore du=2xdx,\\ v=y^{2}\\therefore dv=2ydy$$ \n",
    "podemos escrever\n",
    "\\begin{align}\n",
    "j!k! &= \\int_{0}^{\\infty}x^{2j}e^{-x^{2}}2xdx\\int_{0}^{\\infty}y^{2k}e^{-y^{2}}2ydy \\\\\n",
    "&= 4\\int_{0}^{\\infty}\\int_{0}^{\\infty}x^{2j+1}y^{2k+1}e^{-(x^{2}+y^{2})}dxdy.\n",
    "\\end{align}"
   ]
  },
  {
   "cell_type": "markdown",
   "metadata": {},
   "source": [
    "Passando para coordenadas polares\n",
    "$$x=r\\cos\\theta,\\ y=r\\sin\\theta,$$\n",
    "com $r\\in[0,\\infty)$ e $\\theta\\in[0,\\pi/2]$, teremos\n",
    "\\begin{align}\n",
    "j!k! &= 4\\int_{0}^{\\infty}\\int_{0}^{\\pi/2}(r\\cos\\theta)^{2j+1}(r\\sin\\theta)^{2k+1}e^{-r^{2}}rd\\theta dr \\\\\n",
    "&= 4\\int_{0}^{\\infty}r^{2j+2k+3}e^{-r^{2}}dr\\int_{0}^{\\pi/2}(\\cos\\theta)^{2j+1}(\\sin\\theta)^{2k+1}d\\theta \\\\\n",
    "&= (j+k+1)!2\\int_{0}^{\\pi/2}(\\cos\\theta)^{2j+1}(\\sin\\theta)^{2k+1}d\\theta,\n",
    "\\end{align}\n",
    "em que a integral foi resolvida usando o exercício 1 $\\Big(\\int_{0}^{\\infty}x^{2s+1}e^{-ax^{2}}dx=s!/(2a^{s+1})\\Big)$. \n",
    "\n",
    "Temos assim a _função beta_:\n",
    "\\begin{equation}\n",
    "B(j+1,k+1) := 2\\int_{0}^{\\pi/2}(\\cos\\theta)^{2j+1}(\\sin\\theta)^{2k+1}d\\theta = \\frac{j!k!}{(j+k+1)!}\n",
    "\\end{equation}\n",
    "ou, de forma equivalente\n",
    "\\begin{equation}\n",
    "B(j,k) = \\frac{\\Gamma(j)\\Gamma(k)}{\\Gamma(j+k)}.\n",
    "\\end{equation}\n",
    "\n",
    "---"
   ]
  },
  {
   "cell_type": "markdown",
   "metadata": {},
   "source": [
    "#### Aplicação da função beta\n",
    "Com a mudança de variável \n",
    "$$t=\\cos^{2}\\theta \\therefore dt=-2\\cos\\theta\\sin\\theta d\\theta,$$\n",
    "obtemos:\n",
    "\\begin{align}\n",
    "B(j+1,k+1) & = \\frac{j!k!}{(j+k+1)! } \\\\\n",
    "& = 2\\int_{1}^{0}t^{j}\\cos\\theta(1-t)^{k}\\sin\\theta \\frac{dt}{-2\\cos\\theta\\sin\\theta} \\\\\n",
    "&= \\int_{0}^{1}t^{j}(1-t)^{k}dt \\hspace{1cm} (\\diamond\\diamond) \\\\\n",
    "& = 2\\int_{0}^{1}x^{2j+1}(1-x^{2})^{k}dx,\n",
    "\\end{align}\n",
    "em que na última igualdade fizemos a mudança de variável \n",
    "$$x^{2}=t\\therefore 2xdx=dt.$$\n",
    "\n",
    "Agora, vamos considerar $j=k$ e fazer outra troca de variável: \n",
    "$$s=2t-1\\therefore ds=2dt.$$\n",
    "Substituindo na equação $(\\diamond\\diamond)$, obteremos\n",
    "\\begin{align}\n",
    "\\frac{k!k!}{(2k+1)!} &= \\int_{-1}^{1}\\left(\\frac{1+s}{2}\\right)^{k}\\left(\\frac{1-s}{2}\\right)^{k}\\frac{ds}{2} \\\\\n",
    "& = \\frac{1}{2^{2k+1}}\\int_{-1}^{1}\\left((1-s)(1+s)\\right)^{k}ds \\\\ \n",
    "& = \\frac{1}{2^{2k+1}}2\\int_{0}^{1}\\left(1-s^{2}\\right)^{k}ds \\\\\n",
    "& = \\frac{1}{2^{2k+1}}2\\int_{0}^{1}s^{2(-1/2)+1}\\left(1-s^{2}\\right)^{k}ds \\\\\n",
    "& = \\frac{1}{2^{2k+1}}\\frac{(-1/2)!k!}{(-1/2+k+1)!} \\\\\n",
    "& = \\frac{1}{2^{2k+1}}\\frac{(-1/2)!k!}{(k+1/2)!}.\n",
    "\\end{align}\n",
    "Nas últimas passagens usamos a paridade do integrando e a última igualdade da penúltima equação. Precisamos deste último resultado, para fatoriais e.g. de $-1/2$, nas integrais que fizemos acima.\n",
    "\n",
    "---"
   ]
  },
  {
   "cell_type": "markdown",
   "metadata": {},
   "source": [
    "Voltando para a ortogonalidade das autofunções:\n",
    "\\begin{align}\n",
    "\\langle\\psi_{n,l,m_{l}}|\\psi_{n',l',m_{l}'}\\rangle & = \\int_{0}^{\\infty}\\Omega_{n,l}(r)^{*}\\Omega_{n',l'}(r)r^{2}dr\\delta_{l,l'}\\frac{2}{2l+1}\\frac{(l+|m_{l}|)!}{(l-|m_{l}|)!} 2\\pi\\delta_{m_{l}m_{l}'} \\\\\n",
    "& = I_{r}\\frac{4\\pi}{2l+1}\\frac{(l+|m_{l}|)!}{(l-|m_{l}|)!}\\delta_{l,l'}\\delta_{m_{l}m_{l}'}. \\hspace{5cm} (\\heartsuit)\n",
    "\\end{align}\n",
    "\n",
    "Usando \n",
    "\\begin{equation}\n",
    "\\rho=2\\beta r \\text{ e } \\Omega_{n,l}(\\rho) = C_{n,l}e^{-\\rho/2}\\rho^{l}L_{n-l-1}^{2l+1}(\\rho),\n",
    "\\end{equation}\n",
    "podemos escrever\n",
    "\\begin{align}\n",
    "I_{r} & = \\int_{0}^{\\infty}\\Omega_{n,l}(r)\\Omega_{n',l}(r)r^{2}dr \\\\ \n",
    "& = \\int_{0}^{\\infty}C_{n,l}e^{-\\rho/2}\\rho^{l}L_{n-l-1}^{2l+1}(\\rho)C_{n',l}e^{-\\rho/2}\\rho^{l}L_{n'-l-1}^{2l+1}(\\rho)\\frac{\\rho^{2}}{4\\beta^{2}}\\frac{d\\rho}{2\\beta} \\\\\n",
    "& = \\frac{C_{n,l}^{*}C_{n',l}}{8\\beta^{3}}\\int_{0}^{\\infty} e^{-\\rho}\\rho^{2l+2}L_{n-l-1}^{2l+1}(\\rho)L_{n'-l-1}^{2l+1}(\\rho)d\\rho \\\\\n",
    "& = \\frac{C_{n,l}^{*}C_{n',l}}{8\\beta^{3}}\\int_{0}^{\\infty} e^{-\\rho}\\rho^{k}\\rho L_{j}^{k}(\\rho)L_{j'}^{k}(\\rho)d\\rho,\n",
    "\\end{align}\n",
    "com \n",
    "\\begin{equation}\n",
    "k:=2l+1\\text{, } j=n-l-1 \\text{ e } j'=n'-l-1.\n",
    "\\end{equation}"
   ]
  },
  {
   "cell_type": "markdown",
   "metadata": {},
   "source": [
    "Seguindo, faremos uso da __relação__ (referência 13, equação (13.75)):\n",
    "\\begin{equation}\n",
    "\\rho L_{j}^{k}(\\rho) = (2j+k+1)L_{j}^{k}(\\rho) - (j+1)L_{j+1}^{k}(\\rho) - (j+k)L_{j-1}^{k}(\\rho)\n",
    "\\end{equation}\n",
    "para escrever\n",
    "\\begin{align}\n",
    "\\frac{8\\beta^{3}}{C_{n,l}^{*}C_{n',l}}I_{r} & = (2j+k+1)\\int_{0}^{\\infty} e^{-\\rho}\\rho^{k}L_{j}^{k}(\\rho)L_{j'}^{k}(\\rho)d\\rho \\\\\n",
    "& \\hspace{0.5cm} -(j+1)\\int_{0}^{\\infty} e^{-\\rho}\\rho^{k}L_{j+1}^{k}(\\rho)L_{j'}^{k}(\\rho)d\\rho \\\\\n",
    "& \\hspace{0.5cm} -(j+k)\\int_{0}^{\\infty} e^{-\\rho}\\rho^{k}L_{j-1}^{k}(\\rho)L_{j'}^{k}(\\rho)d\\rho. \\hspace{0.5cm} (\\spadesuit)\n",
    "\\end{align}"
   ]
  },
  {
   "cell_type": "markdown",
   "metadata": {},
   "source": [
    "---\n",
    "Agora, vamos verificar a relação de ortogonalidade dos polinômios associados de Laguerre:\n",
    "\\begin{equation}\n",
    "\\int_{0}^{\\infty}e^{-\\rho}\\rho^{k}L_{j}^{k}(\\rho)L_{j'}^{k}(\\rho)d\\rho = \\frac{(j+k)!}{j!}\\delta_{j,j'}. \\hspace{0.5cm} (\\clubsuit)\n",
    "\\end{equation}\n",
    "\n",
    "Tomando a __função geradora__ (referência 13, equação (13.73))\n",
    "\\begin{equation}\n",
    "G(\\rho,t) = \\frac{e^{-\\rho t/(1-t)}}{(1-t)^{1+k}}=\\sum_{j=0}^{\\infty}L_{j}^{k}(\\rho)t^{j},\n",
    "\\end{equation}\n",
    "vamos olhar para a integral\n",
    "\\begin{align}\n",
    "I & = \\int_{0}^{\\infty} \\rho^{k}e^{-\\rho}G(\\rho,t)G(\\rho,s)d\\rho \\\\\n",
    "& = \\int_{0}^{\\infty}\\rho^{k}e^{-\\rho}\\frac{e^{-\\rho t/(1-t)}}{(1-t)^{1+k}}\\frac{e^{-\\rho s/(1-s)}}{(1-s)^{1+k}}d\\rho \\\\\n",
    "& = \\int_{0}^{\\infty} \\rho^{k}\\frac{e^{-A\\rho}}{((1-t)(1-s))^{1+k}}d\\rho \\\\\n",
    "& = \\int_{0}^{\\infty} \\rho^{k}e^{-\\rho}\\sum_{j=0}^{\\infty}L_{j}^{k}(\\rho)t^{j}\\sum_{j'=0}^{\\infty}L_{j'}^{k}(\\rho)s^{j'}d\\rho \\\\\n",
    "& = \\sum_{j,j'=0}^{\\infty}t^{j}s^{j'}\\int_{0}^{\\infty} \\rho^{k}e^{-\\rho}L_{j}^{k}(\\rho)L_{j'}^{k}(\\rho)d\\rho,\n",
    "\\end{align}\n",
    "com\n",
    "\\begin{align}\n",
    "A & := 1+\\frac{t}{1-t}+\\frac{s}{1-s} = \\frac{(1-t)(1-s)+t(1-s)+s(1-t)}{(1-t)(1-s)} \\\\\n",
    "& = \\frac{1-ts}{(1-t)(1-s)}.\n",
    "\\end{align}"
   ]
  },
  {
   "cell_type": "markdown",
   "metadata": {},
   "source": [
    "Agora fazemos a mudança de variável $y = A\\rho$ para obter\n",
    "\\begin{align}\n",
    "I & = \\int_{0}^{\\infty} \\frac{y^{k}}{A^{k}}\\frac{e^{-y}}{((1-t)(1-s)^{1+k}}\\frac{dy}{A} \\\\\n",
    "& = \\frac{1}{(1-ts)^{k+1}}\\int_{0}^{\\infty}y^{k}e^{-y}dy \\\\ \n",
    "& = \\frac{1}{(1-ts)^{k+1}}\\Gamma(k+1) \\\\\n",
    "& = \\sum_{j=0}^{\\infty}\\binom{j+k}{j}(st)^{j} k! \\\\\n",
    "& = \\sum_{j=0}^{\\infty}\\frac{(j+k)!}{k!j!}(st)^{j} k! \\\\ \n",
    "& = \\sum_{j=0}^{\\infty}\\frac{(j+k)!}{j!}s^{j}t^{j} \\\\\n",
    "& = \\sum_{j,j'=0}^{\\infty}t^{j}s^{j'}\\frac{(j+k)!}{j!}\\delta_{j,j'}.\n",
    "\\end{align}\n",
    "Acima usamos a série binomial \n",
    "$$\\frac{1}{(1-z)^{\\beta+1}}=\\sum_{j=0}^{\\infty}\\binom{j+\\beta}{j}z^{j}.$$ \n",
    "Finalmente, impondo a igualdade dos coeficientes das potências de $s$ e $t$ nas últimas igualdades nas duas equações para $I$, teremos a relação de ortogonalidade ($\\clubsuit$).\n",
    "\n",
    "---\n",
    "\n",
    "Substituindo a relação de ortogonalidade  ($\\clubsuit$) na Eq. $(\\spadesuit)$, obteremos ($k=2l+1$)\n",
    "\\begin{align}\n",
    "\\frac{8\\beta^{3}}{C_{n,l}^{*}C_{n',l}}I_{r} & = (2j+k+1)\\frac{(j+k)!}{j!}\\delta_{j,j'}  \\hspace{5.5cm} (\\spadesuit\\spadesuit) \\\\\n",
    "& \\hspace{0.5cm} -(j+1)\\frac{(j+1+k)!}{(j+1)!}\\delta_{j+1,j'} -(j+k)\\frac{(j-1+k)!}{(j-1)!}\\delta_{j-1,j'}.\n",
    "\\end{align}"
   ]
  },
  {
   "cell_type": "markdown",
   "metadata": {},
   "source": [
    "Consideremos separadamente os casos $n=n'$ e $n\\ne n'$. Primeiramente\n",
    "### $n=n'$: normalização das autofunções\n",
    "$n=n'\\therefore j=j'\\ (j=n-l-1 \\text{ e } j'=n'-l-1)\\ \\therefore \\delta_{j+1,j'}=\\delta_{j-1,j'}=0$ e, substituindo $k=2l+1$ e $j=n-l-1$ na Eq. $(\\spadesuit\\spadesuit)$, vem que\n",
    "\\begin{align}\n",
    "I_{r}(n=n') & = \\frac{|c_{n,l}|^{2}}{8\\beta^{3}}(2j+k+1)\\frac{(j+k)!}{j!} \\\\\n",
    "& = \\frac{|c_{n,l}|^{2}}{8\\beta^{3}}(2(n-l-1)+2l+1+1)\\frac{(n-l-1+2l+1)!}{(n-l-1)!} \\\\\n",
    "& = \\frac{|c_{n,l}|^{2}}{8\\beta^{3}}2n\\frac{(n+l)!}{(n-l-1)!}.\n",
    "\\end{align}\n",
    "Assim, substituindo $I_{r}$ na Eq. $(\\heartsuit)$, com $n=n'$, $l=l'$ e $m_{l}=m_{l}'$, vem que\n",
    "\\begin{align}\n",
    "& \\langle\\psi_{n,l,m_{l}}|\\psi_{n,l,m_{l}}\\rangle = 1 \\\\\n",
    "& =\\frac{|c_{n,l}|^{2}}{8\\beta^{3}}2n\\frac{(n+l)!}{(n-l-1)!}\\frac{4\\pi}{2l+1}\\frac{(l+|m_{l}|)!}{(l-|m_{l}|)!}\n",
    "\\end{align}\n",
    "e, desconsiderando a fase da constante de normalização, obtemos\n",
    "\\begin{equation}\n",
    "C_{n,l} = \\sqrt{8\\beta^{3}\\frac{(n-l-1)!}{(n+l)!2n}}\\sqrt{\\frac{2l+1}{4\\pi}\\frac{(l-|m_{l}|)!}{(l+|m_{l}|)!}}\n",
    "\\end{equation}\n",
    "\n",
    "Usando o raio de Bohr $a_{0}:= \\hbar^{2}/\\mu ke^{2}$ e a energia $E=-(\\mu k^{2}Z^{2}e^{4})/(2\\hbar^{2}n^{2})$, com $k=1/4\\pi\\epsilon_{0}$, escrevemos\n",
    "\\begin{equation}\n",
    "\\beta = \\sqrt{\\frac{-2\\mu E}{\\hbar^{2}}} = \\sqrt{\\frac{2\\mu}{\\hbar^{2}}\\frac{\\mu k^{2}Z^{2}e^{4}}{2\\hbar^{2}n^{2}}} = \\frac{Z\\mu k e^{2}}{\\hbar^{2}n} = \\frac{Z}{a_{0}n}.\n",
    "\\end{equation}"
   ]
  },
  {
   "cell_type": "markdown",
   "metadata": {},
   "source": [
    "Assim, usando \n",
    "$$\\rho=2\\beta r= 2Zr/a_{0}n,\\ z=\\cos\\theta,$$\n",
    "teremos as funções de onda de átomos hidrogenóides:\n",
    "\\begin{align}\n",
    "\\color{blue}{\\psi_{n,l,m_{l}}(r,\\theta,\\phi)} & = \\Omega_{n,l}(\\rho)\\Theta_{l,m_{l}}(z)\\Phi_{m_{l}}(\\phi) \\\\\n",
    "& = C_{n,l}e^{-\\rho/2}\\rho^{l}L_{n-l-1}^{2l+1}(\\rho)(1-z^{2})^{|m_{l}|/2}\\frac{\\partial^{|m_{l}|}P_{l}(z)}{\\partial z^{|m_{l}|}}e^{im_{l}\\phi} \\\\\n",
    "& \\color{blue}{= \\sqrt{\\left(\\frac{2Z}{a_{0}n}\\right)^{3}\\frac{(n-l-1)!}{(n+l)!2n}}e^{-Zr/a_{0}n}\\left(\\frac{2Zr}{a_{0}n}\\right)^{l}L_{n-l-1}^{2l+1}\\left(\\frac{2Zr}{a_{0}n}\\right)\\sqrt{(2l+1)\\frac{(l-|m_{l}|)!}{(l+|m_{l}|)!}}(\\sin\\theta)^{|m_{l}|}\\frac{\\partial^{|m_{l}|}P_{l}(\\cos\\theta)}{\\partial z^{|m_{l}|}}\\frac{1}{\\sqrt{4\\pi}}e^{im_{l}\\phi}},\n",
    "\\end{align}\n",
    "com $L_{j}^{k}(x)=(e^{x}x^{-k}/j!)\\partial_{x^{j}}(e^{-x}x^{j+k})$ e $P_{l}(z)=(1/l!2^{l})\\partial_{z^{l}}(z^{2}-1)^{l}$.\n",
    "\n",
    "OBS. Os harmônicos esféricos normalizados,\n",
    "\\begin{equation}\n",
    "\\Upsilon_{l,m_{l}}(\\theta,\\phi) = \\sqrt{(2l+1)\\frac{(l-|m_{l}|)!}{(l+|m_{l}|)!}}(\\sin\\theta)^{|m_{l}|}\\frac{\\partial^{|m_{l}|}P_{l}(\\cos\\theta)}{\\partial z^{|m_{l}|}}\\frac{1}{\\sqrt{4\\pi}}e^{im_{l}\\phi},\n",
    "\\end{equation}\n",
    "podem ser úteis para o estudo de outros sistemas."
   ]
  },
  {
   "cell_type": "code",
   "execution_count": 2,
   "metadata": {},
   "outputs": [],
   "source": [
    "from sympy import exp, diff, factorial, sqrt, symbols, simplify, pi\n",
    "\n",
    "# Polinômios associados de Laguerre\n",
    "def rodrigues_laguerre(j,k,x):\n",
    "    if j == 0:\n",
    "        return 1\n",
    "    rod = exp(-x)*x**(j+k)\n",
    "    for l in range(1,j+1):\n",
    "        rod = diff(rod,x)\n",
    "    return ((exp(x)*(x**(-k)))/(factorial(j)))*rod\n",
    "\n",
    "def rodrigues_legendre(l,z):\n",
    "    if l == 0:\n",
    "        return 1\n",
    "    elif l == 1:\n",
    "        return z\n",
    "    rod = (z**2-1)**l\n",
    "    for j in range(1,l+1):\n",
    "        rod = diff(rod,z)\n",
    "    return (1/(factorial(l)*2**l))*rod\n",
    "\n",
    "def legendre_associada(l,ml,z):\n",
    "    order = abs(ml)\n",
    "    if order == 0:\n",
    "        return rodrigues_legendre(l,z)\n",
    "    if order == 1:\n",
    "        return diff(rodrigues_legendre(l,z),z)*sqrt(1-z**2)\n",
    "    rod = rodrigues_legendre(l,z)\n",
    "    for j in range(1,order+1):\n",
    "        rod = diff(rod,z)\n",
    "    return rod*(1-z**2)**(order/2)"
   ]
  },
  {
   "cell_type": "code",
   "execution_count": 4,
   "metadata": {},
   "outputs": [
    {
     "data": {
      "text/latex": [
       "$\\displaystyle \\frac{\\sqrt{2} x z \\sqrt{\\frac{Z^{3}}{a_{0}^{3}}} e^{- \\frac{x}{2}}}{8 \\sqrt{\\pi}}$"
      ],
      "text/plain": [
       "sqrt(2)*x*z*sqrt(Z**3/a_{0}**3)*exp(-x/2)/(8*sqrt(pi))"
      ]
     },
     "execution_count": 4,
     "metadata": {},
     "output_type": "execute_result"
    }
   ],
   "source": [
    "def psi(n,l,ml,Z,mu,a0,x,z,ph):\n",
    "    Psi = sqrt(((2*Z)/(a0*n))**3*(factorial(n-l-1)/(factorial(n+l)*2*n)))\n",
    "    Psi *= exp(-x/2)*x**l; j = n-l-1; k = 2*l+1; Psi *= rodrigues_laguerre(j,k,x)\n",
    "    Psi *= sqrt(((2*l+1)/(4*pi))*(factorial(l-abs(ml))/factorial(l+abs(ml))))\n",
    "    Psi *= legendre_associada(l,ml,z)\n",
    "    return Psi\n",
    "\n",
    "Z,mu,a0,x,z,ph = symbols('Z mu a_{0} x z phi'); \n",
    "n,l,ml = 2,1,0; simplify(psi(n,l,ml,Z,mu,a0,x,z,ph)) "
   ]
  },
  {
   "cell_type": "markdown",
   "metadata": {},
   "source": [
    "#### Algumas autofunções ($z=\\cos\\theta$, $x=2Zr/na_{0}$):\n",
    "\\begin{align}\n",
    "\\psi_{1,0,0}(r,\\theta,\\phi) & = \\frac{1}{\\sqrt{\\pi}}\\left(\\frac{Z}{a_{0}}\\right)^{3/2}e^{-Zr/a_{0}}, \\\\\n",
    "\\psi_{2,0,0}(r,\\theta,\\phi) & = \\frac{1}{4\\sqrt{2\\pi}}\\left(\\frac{Z}{a_{0}}\\right)^{3/2}\\left(2-\\frac{Zr}{a_{0}}\\right)e^{-Zr/2a_{0}}, \\\\\n",
    "\\psi_{2,1,0}(r,\\theta,\\phi) & = \\frac{1}{4\\sqrt{2\\pi}}\\left(\\frac{Z}{a_{0}}\\right)^{3/2}\\frac{Zr}{a_{0}}e^{-Zr/2a_{0}}\\cos\\theta, \\\\\n",
    "\\psi_{2,1,\\pm1}(r,\\theta,\\phi) & = \\frac{1}{8\\sqrt{\\pi}}\\left(\\frac{Z}{a_{0}}\\right)^{3/2}\\frac{Zr}{a_{0}}e^{-Zr/2a_{0}}\\sin\\theta e^{\\pm im_{l}\\phi}, \\\\\n",
    "\\psi_{3,0,0}(r,\\theta,\\phi) & = \\frac{1}{18\\sqrt{3\\pi}}\\left(\\frac{Z}{a_{0}}\\right)^{3/2}\\left(6-\\frac{4Zr}{a_{0}}+\\frac{4Z^{2}r^{2}}{9a_{0}^{2}}\\right)e^{-Zr/3a_{0}}, \\\\\n",
    "\\psi_{3,1,0}(r,\\theta,\\phi) & = \\frac{\\sqrt{2}}{27\\sqrt{\\pi}}\\left(\\frac{Z}{a_{0}}\\right)^{3/2}\\left(2-\\frac{Zr}{3a_{0}}\\right)\\frac{Zr}{a_{0}}e^{-Zr/3a_{0}}\\cos\\theta, \\\\\n",
    "\\psi_{3,1,\\pm1}(r,\\theta,\\phi) & = \\frac{1}{27\\sqrt{\\pi}}\\left(\\frac{Z}{a_{0}}\\right)^{3/2}\\left(2-\\frac{Zr}{3a_{0}}\\right)\\frac{Zr}{a_{0}}e^{-Zr/3a_{0}}\\sin\\theta e^{\\pm im_{l}\\phi}, \\\\\n",
    "\\end{align}"
   ]
  },
  {
   "cell_type": "markdown",
   "metadata": {},
   "source": [
    "### Ortogonalidade das autofunções\n",
    "* $n\\ne n'\\therefore j\\ne j'$\n",
    "\n",
    "voltaremos, algum dia"
   ]
  },
  {
   "cell_type": "markdown",
   "metadata": {},
   "source": [
    "## Densidade de probabilidade\n",
    "\\begin{equation}\n",
    "|\\psi_{n,l,m_{l}}(r,\\theta,\\phi)|^{2} = |\\Omega_{n,l}(r)|^{2}|\\Theta_{l,m_{l}}(\\theta)|^{2}|\\Phi_{m_{l}}(\\phi)|^{2} :=|\\Omega_{n,l}(r)|^{2}|\\Theta_{l,m_{l}}(\\theta)|^{2}.\n",
    "\\end{equation}\n",
    "Com o código abaixo, pode-se observar a \"densidade de probabilidade\" para átomos hidrogenóides."
   ]
  },
  {
   "cell_type": "code",
   "execution_count": 3,
   "metadata": {},
   "outputs": [
    {
     "name": "stdout",
     "output_type": "stream",
     "text": [
      "psi_1,0,0 = sqrt(Z**3/a0**3)*exp(-x/2)/sqrt(pi)\n",
      "psi_2,0,0 = sqrt(2)*sqrt(Z**3/a0**3)*(2 - x)*exp(-x/2)/(8*sqrt(pi))\n",
      "psi_2,1,-1 = x*sqrt(Z**3/a0**3)*sqrt(1 - z**2)*exp(-x/2)/(8*sqrt(pi))\n",
      "psi_2,1,0 = sqrt(2)*x*z*sqrt(Z**3/a0**3)*exp(-x/2)/(8*sqrt(pi))\n",
      "psi_2,1,1 = x*sqrt(Z**3/a0**3)*sqrt(1 - z**2)*exp(-x/2)/(8*sqrt(pi))\n"
     ]
    }
   ],
   "source": [
    "Z,mu,a0,x,z,ph = symbols('Z mu a0 x z phi')\n",
    "for n in range(1,3): # testes para escrever em um programa Python\n",
    "    for l in range (0,n):\n",
    "        for ml in range(-l,l+1):\n",
    "            print('psi_'+str(n)+','+str(l)+','+str(ml)+' = '+ \n",
    "                  str(simplify(psi(n,l,ml,Z,mu,a0,x,z,ph))))"
   ]
  },
  {
   "cell_type": "code",
   "execution_count": 4,
   "metadata": {},
   "outputs": [],
   "source": [
    "def psiH_python(n,l,ml): # Escreve a funcao de onda em um codigo Python\n",
    "    f = open(\"psiH.py\",\"w\"); f.write(\"import numpy as np \\n\"); \n",
    "    f.write(\"import math \\n\"); f.write(\"\\n\");\n",
    "    f.write(\"def psi_H(Z,mu,a0,x,z):\\n\"); \n",
    "    f.write(\"    pi = math.pi \\n\");\n",
    "    f.write(\"    return \"+str(simplify(psi(n,l,ml,Z,mu,a0,x,z,ph)))+\"\\n\")\n",
    "    f.write(\"\\n\"); f.write(\"def sqrt(x):\\n\"); \n",
    "    f.write(\"    return np.sqrt(x) \\n\")\n",
    "    f.write(\"\\n\"); f.write(\"def exp(x):\\n\"); \n",
    "    f.write(\"    return np.exp(x) \\n\")\n",
    "    f.close()\n",
    "    \n",
    "import importlib\n",
    "me = 9.109382*10**-31 # kg (massa do elétron)\n",
    "mp = 1.6726219*10**-27 # kg (massa do próton)\n",
    "import numpy as np\n",
    "import math\n",
    "from matplotlib import pyplot as plt"
   ]
  },
  {
   "cell_type": "code",
   "execution_count": 5,
   "metadata": {},
   "outputs": [
    {
     "data": {
      "image/png": "[encoded data removed]",
      "text/plain": [
       "<Figure size 600x600 with 1 Axes>"
      ]
     },
     "metadata": {},
     "output_type": "display_data"
    }
   ],
   "source": [
    "n,l,ml = 4,3,3; Z,mu,a0,x,z,ph = symbols('Z mu a0 x z phi'); \n",
    "psiH_python(n,l,ml); import psiH; importlib.reload(psiH) # carrega a função Python\n",
    "Z=1; a0=1; mu=(me*mp)/(me+mp); cm=7*n; xx = np.arange(-cm,cm,0.05); \n",
    "yy = np.arange(-cm,cm,0.05); zz = np.zeros((xx.shape[0],yy.shape[0]))\n",
    "for j in range(0,xx.shape[0]):\n",
    "    for k in range(0,yy.shape[0]):\n",
    "        rr = math.sqrt(xx[j]**2 + yy[k]**2)#; print(rr)\n",
    "        if xx[j] != 0:\n",
    "            tt = math.atan(yy[k]/xx[j])\n",
    "        elif xx[j] == 0 and yy[k] != 0:\n",
    "            tt = math.pi/2\n",
    "        elif xx[j] == 0 and yy[k] == 0:\n",
    "            tt = 0\n",
    "        #print(tt)\n",
    "        x = (2*Z*rr)/(a0*n); z = math.cos(tt); zz[j,k] = psiH.psi_H(Z,mu,a0,x,z)**2\n",
    "n_samples = 10**3; z_max = np.amax(zz)#; print(z_max)\n",
    "xxx = np.zeros(n_samples); yyy = np.zeros(n_samples)\n",
    "ll = 0\n",
    "while ll < n_samples:\n",
    "    j = np.random.randint(0,xx.shape[0]); k = np.random.randint(0,yy.shape[0])#; print(j,k)\n",
    "    rn = 0 + (z_max-0)*np.random.random()#; print(rn)\n",
    "    if zz[j,k] > rn:\n",
    "        ll += 1; xxx[ll-1] = xx[j]; yyy[ll-1] = yy[k]\n",
    "plt.figure(figsize = (6,6), dpi = 100); plt.scatter(yyy,xxx,s=1.2)\n",
    "plt.xlabel(r'$x(a_{0})$'); plt.ylabel(r'$z(a_{0})$'); ym = np.amax(yy)\n",
    "plt.xlim(np.amin(xx),np.amax(xx)); plt.ylim(np.amin(yy),ym)\n",
    "plt.title('Densidade de probabilidade para medidas de posição')\n",
    "plt.annotate(r'$n=$'+str(n)+r',$l=$'+str(l)+r',$m_{l}=$'+str(ml),xy=(0,0.9*ym),xytext=(0,0.9*ym),fontsize=14)\n",
    "plt.savefig('fig_psi2_H_433.png')\n",
    "plt.show()"
   ]
  },
  {
   "cell_type": "markdown",
   "metadata": {},
   "source": [
    "Seguem os resultados das simulações tabelados para $n=1,2,3,4.$\n",
    "<table>\n",
    "    <tr>\n",
    "        <td> <img src='fig_psi2_H_100.png' width='270'> </td>\n",
    "        <td> <img src='fig_psi2_H_200.png' width='270'> </td>\n",
    "        <td> <img src='fig_psi2_H_210.png' width='270'> </td>\n",
    "        <td> <img src='fig_psi2_H_211.png' width='270'> </td>\n",
    "    </tr>\n",
    "    <tr>\n",
    "        <td> <img src='fig_psi2_H_300.png' width='250'> </td>\n",
    "        <td> <img src='fig_psi2_H_310.png' width='250'> </td>\n",
    "        <td> <img src='fig_psi2_H_311.png' width='250'> </td>\n",
    "        <td> <img src='fig_psi2_H_320.png' width='250'> </td>\n",
    "        <td> <img src='fig_psi2_H_321.png' width='250'> </td>\n",
    "    </tr>\n",
    "    <tr>\n",
    "        <td> <img src='fig_psi2_H_400.png' width='250'> </td>\n",
    "        <td> <img src='fig_psi2_H_410.png' width='250'> </td>\n",
    "        <td> <img src='fig_psi2_H_411.png' width='250'> </td>\n",
    "        <td> <img src='fig_psi2_H_420.png' width='250'> </td>\n",
    "        <td> <img src='fig_psi2_H_421.png' width='250'> </td>\n",
    "    </tr>\n",
    "    <tr>\n",
    "        <td> <img src='fig_psi2_H_422.png' width='250'> </td>\n",
    "        <td> <img src='fig_psi2_H_430.png' width='250'> </td>\n",
    "        <td> <img src='fig_psi2_H_431.png' width='250'> </td>\n",
    "        <td> <img src='fig_psi2_H_432.png' width='250'> </td>\n",
    "        <td> <img src='fig_psi2_H_433.png' width='250'> </td>\n",
    "    </tr>\n",
    "</table>"
   ]
  },
  {
   "cell_type": "markdown",
   "metadata": {},
   "source": [
    "A seguir estão mostradas as densidades de probabilidades correspondentes.\n",
    "<figure>\n",
    "    <img src=\"fig_psi2_H_continuo.png\" width=\"700\">\n",
    "    <div class=\"caption\">Fonte: https://upload.wikimedia.org/wikipedia/commons/thumb/c/cc/Waterstof_golffunksie.png/640px-Waterstof_golffunksie.png.</div>\n",
    "</figure>"
   ]
  },
  {
   "cell_type": "markdown",
   "metadata": {},
   "source": [
    "Para enterdermos melhor essas densidades de probabilidade, é útil olhar para a função de onda radial normalizada\n",
    "\\begin{equation}\n",
    "\\Omega_{n,l}(r) = \\sqrt{\\left(\\frac{2Z}{a_{0}n}\\right)^{3}\\frac{(n-l-1)!}{(n+l)!2n}}e^{-Zr/a_{0}n}\\left(\\frac{2Zr}{a_{0}n}\\right)^{l}L_{n-l-1}^{2l+1}\\left(\\frac{2Zr}{a_{0}n}\\right).\n",
    "\\end{equation}"
   ]
  },
  {
   "cell_type": "code",
   "execution_count": 8,
   "metadata": {},
   "outputs": [
    {
     "name": "stdout",
     "output_type": "stream",
     "text": [
      "sqrt(6)*x*sqrt(Z**3/a0**3)*exp(-x/2)/12\n"
     ]
    }
   ],
   "source": [
    "def psiR(n,l,Z,mu,a0,x): # Função de onda radial\n",
    "    Psi = sqrt(((2*Z)/(a0*n))**3*(factorial(n-l-1)/(factorial(n+l)*2*n)))\n",
    "    Psi *= exp(-x/2)*x**l; j = n-l-1; k = 2*l+1; \n",
    "    Psi *= rodrigues_laguerre(j,k,x)\n",
    "    return Psi\n",
    "Z,mu,a0,x = symbols('Z mu a0 x') # x = Zr/a0\n",
    "n,l=2,1; print(simplify(psiR(n,l,Z,mu,a0,x)))"
   ]
  },
  {
   "cell_type": "code",
   "execution_count": 7,
   "metadata": {},
   "outputs": [
    {
     "data": {
      "image/png": "[encoded data removed]",
      "text/plain": [
       "<Figure size 600x400 with 1 Axes>"
      ]
     },
     "metadata": {},
     "output_type": "display_data"
    }
   ],
   "source": [
    "def psiR_python(n,l,Z,mu,a0,x): \n",
    "    # Escreve a funcao de onda radial normalizada em um codigo Python\n",
    "    f = open(\"psiRp.py\",\"w\"); f.write(\"import numpy as np \\n\"); \n",
    "    f.write(\"import math \\n\"); f.write(\"\\n\")\n",
    "    f.write(\"def psi_R(Z,mu,a0,x):\\n\")\n",
    "    f.write(\"    return \"+str(simplify(psiR(n,l,Z,mu,a0,x)))+\"\\n\")\n",
    "    f.write(\"\\n\"); f.write(\"def sqrt(x):\\n\"); \n",
    "    f.write(\"    return np.sqrt(x) \\n\")\n",
    "    f.write(\"\\n\"); f.write(\"def exp(x):\\n\"); \n",
    "    f.write(\"    return np.exp(x) \\n\")\n",
    "    f.close()\n",
    "#Z,mu,a0,x = symbols('Z mu a0 x'); n,l=2,0; psiR_python(n,l,Z,mu,a0,x)\n",
    "def plot_psiR(n,l):\n",
    "    Z=1; a0=1; mu=(me*mp)/(me+mp)\n",
    "    N = 300; xmin = 0; xmax = n*7; dx = (xmax-xmin)/N; \n",
    "    x = np.zeros(N+1); y = np.zeros(N+1)\n",
    "    for j in range(0,N+1):\n",
    "        x[j] = xmin + j*dx; x[j]*=((2*Z)/(a0*n)); \n",
    "        y[j] = psiRp.psi_R(Z,mu,a0,x[j])**2\n",
    "    plt.figure(figsize = (6,4), dpi = 100)\n",
    "    plt.plot(x,y)\n",
    "    plt.xlabel(r'$r(a_{0})$'); plt.xlim(0,xmax); \n",
    "    ymax = np.amax(y); plt.ylim(-0.05*ymax,1.05*ymax)\n",
    "    plt.ylabel(r'$|\\Omega|^{2}$',fontsize=12)\n",
    "    plt.annotate(r'$n=$'+str(n)+r',$l=$'+str(l), xy=(0.4*xmax,0.75*ymax), \n",
    "                 xytext=(0.4*xmax,0.75*ymax), fontsize=14)\n",
    "    #plt.title('Densidade de probabilidade radial')\n",
    "    plt.show()\n",
    "Z,mu,a0,x = symbols('Z mu a0 x'); psiR_python(n,l,Z,mu,a0,x); \n",
    "import psiRp; importlib.reload(psiRp)\n",
    "n,l=2,1; plot_psiR(n,l)"
   ]
  },
  {
   "cell_type": "markdown",
   "metadata": {},
   "source": [
    "---\n",
    "# Exercícios\n",
    "\n",
    "$1.$ Usando a função gama generalizada, verifique que $\\int_{0}^{\\infty}x^{2s+1}e^{-ax^{2}}dx=\\frac{s!}{2a^{s+1}}$.\n",
    "\n",
    "$2.$ Verifique que $G(x,t) = \\frac{e^{-x t/(1-t)}}{(1-t)^{1+k}}$ é a função geradora do polinômio associado de Laguerre $L_{j}^{k}(x)=\\frac{e^{x}x^{-k}}{j!}\\partial_{x^{j}}(e^{-x}x^{j+k})$.\n",
    "\n",
    "$3.$ Verifique a validade da relação $(j+1)L_{j+1}^{k}(x) = (2j+k+1-x)L_{j}^{k}(x) - (j+k)L_{j-1}^{k}(x)$ para os polinômios associados de Laguerre.\n",
    "\n",
    "$4.$ Escreva explicitamente as autofunções $\\psi_{3,2,m_{l}}(r,\\theta,\\phi)$ de átomos hidrogenóides, para $m_{l}=0,\\pm1,\\pm2$.\n",
    "\n",
    "$5.$ Verifique explicitamente a normalização da autofunção $\\psi_{1,0,0}(r,\\theta,\\phi)  = \\frac{1}{\\sqrt{\\pi}}\\left(\\frac{Z}{a_{0}}\\right)^{3/2}e^{-Zr/a_{0}}$.\n",
    "\n",
    "$6.$ Verifique que para $n\\ne n'$ temos $I_r=0$, e portanto que $\\langle\\psi_{n,l,m_l}|\\psi_{n',l,m_l}\\rangle=0$ nestes casos.\n",
    "\n",
    "$7.$ Verifique o valor médio da coordenada radial para o estado fundamental do átomo de Hidrogênio é igual ao raio de Bohr: $\\langle R\\rangle_{\\psi_{1,0,0}}=3a_0/2.$\n",
    "\n",
    "$8.$ O Muónio é um sistema constituído por um antimuón e por um elétron, sendo que o antimuón é uma partícula elementar de carga elétrica $+e$, spin 1/2 e massa $m_m \\approx 1,883531627\\times 10^{-28}\\text{ kg}.$ Dado que a energia de um átomo hidrogenóide é $E_n = -\\mu k^2 Z^2 e^4/2\\hbar^2 n^2,$ obtenha a energia do estado fundamental do Muónio e a compare com aquela do átomo de Hidrogênio. Já o positrônio é um sistema constituído por um elétron e pelo sua antipartícula, o pósitron que tem carga elétrica $+e$, spin $1/2$ e massa igual à massa do elétron. Calcule também a energia do estado fundamental do positrônio."
   ]
  },
  {
   "cell_type": "markdown",
   "metadata": {},
   "source": [
    "---\n",
    "## Referências\n",
    "\n",
    "$9.$ EISBERG, R. M., RESNICK, R.. Quantum Physics of Atoms, Molecules, Solids, Nuclei, and Particles. John Wiley & Sons, California: 1985.\n",
    "\n",
    "$13.$ ARFKEN, G. B., WEBER, H. J.. Mathematical Methods for Physiscists. Elsevier, Oxford: 2005."
   ]
  },
  {
   "cell_type": "code",
   "execution_count": null,
   "metadata": {},
   "outputs": [],
   "source": []
  }
 ],
 "metadata": {
  "kernelspec": {
   "display_name": "Python 3 (ipykernel)",
   "language": "python",
   "name": "python3"
  },
  "language_info": {
   "codemirror_mode": {
    "name": "ipython",
    "version": 3
   },
   "file_extension": ".py",
   "mimetype": "text/x-python",
   "name": "python",
   "nbconvert_exporter": "python",
   "pygments_lexer": "ipython3",
   "version": "3.11.1"
  }
 },
 "nbformat": 4,
 "nbformat_minor": 4
}
