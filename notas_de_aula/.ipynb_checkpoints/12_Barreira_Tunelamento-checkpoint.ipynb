{
 "cells": [
  {
   "cell_type": "markdown",
   "metadata": {},
   "source": [
    "### Notas de aula: Mecânica Quântica <br> Autor: Jonas Maziero"
   ]
  },
  {
   "cell_type": "markdown",
   "metadata": {},
   "source": [
    "# Potencial Barreira e Tunelamento Quântico\n",
    "Para a barreira de potencial, podemos escrever a função energia potencial como:\n",
    "\\begin{cases}\n",
    "U(x<0)=0, \\\\\n",
    "U(0<x<a)=U_{0}=\\text{constante}, \\\\\n",
    "U(x>a)=0.\n",
    "\\end{cases}\n",
    "As soluções da equação de Schrödinher, que, para as três regiões, pode ser escrita na forma \n",
    "\\begin{equation}\n",
    "\\partial_{xx}\\Xi(x)+k^{2}\\Xi(x)=0,\n",
    "\\end{equation}\n",
    "são obtidas como no caso do potencial dregrau. \n",
    "\n",
    "## $E<U_{0}$\n",
    "Nesse caso as soluções da EqSIT1D podem ser escritas na forma\n",
    "\\begin{cases}\n",
    "\\Xi_{e}(x<0) = c_{ed}e^{ik_{e}x} + c_{ee}e^{-ik_{e}x}, \\\\\n",
    "\\Xi_{b}(0<x<a) = c_{bd}e^{-k_{b}x} + c_{bc}e^{k_{b}x}, \\\\\n",
    "\\Xi_{d}(x>a) = c_{dd}e^{ik_{e}x} + c_{de}e^{-ik_{e}x},\n",
    "\\end{cases}\n",
    "com\n",
    "\\begin{equation}\n",
    "k_{e}=\\frac{\\sqrt{2mE}}{\\hbar} \\text{ e } k_{b}=\\frac{\\sqrt{2m(U_{0}-E)}}{\\hbar}.\n",
    "\\end{equation}\n",
    "Assim\n",
    "\\begin{equation}\n",
    "\\frac{k_{b}}{k_{e}} = \\frac{\\sqrt{2m(U_{0}-E)}}{\\sqrt{2mE}} \\therefore k_{b} = k_{e}\\sqrt{\\frac{U_{0}}{E}-1}.\n",
    "\\end{equation}\n",
    "OBS. Aqui não usarei o til para diferenciar os dois casos.\n",
    "\n",
    "Novamente, $c_{ed}$ determina o fluxo de quantons incidindo na barreira de potencial e consideramos que os quantons movem-se inicialmente na região $x<0$ da esquerda para a direita. Pontanto, se o quanton passou para a região $x>a$ não há motivo para este retornar, então\n",
    "\\begin{equation}\n",
    "c_{de} := 0.\n",
    "\\end{equation}"
   ]
  },
  {
   "cell_type": "code",
   "execution_count": 4,
   "metadata": {},
   "outputs": [
    {
     "data": {
      "image/png": "[encoded data removed]",
      "text/plain": [
       "<Figure size 800x300 with 1 Axes>"
      ]
     },
     "metadata": {},
     "output_type": "display_data"
    }
   ],
   "source": [
    "import matplotlib\n",
    "from matplotlib import pyplot as plt\n",
    "matplotlib.rcParams.update({'font.size':12})\n",
    "plt.figure(figsize = (8,3), dpi = 100)\n",
    "U0 = 0.5; m = 1; a = 1; N = 1000; xmin = -0.5; xmax = -3*xmin\n",
    "plt.annotate(r'$U_0$', xy=(a,0.5), xytext=(a,0.5), fontsize=12)\n",
    "plt.annotate(r'$a=$'+str(a)[:4], xy=(a,0.01), xytext=(a,0.01), fontsize=12)\n",
    "plt.xlim(xmin,xmax); plt.ylim(0.0,1.01)\n",
    "plt.annotate(\"\", xy=(-0.3,U0/2), xytext=(-0.2,U0/2), arrowprops=dict(arrowstyle=\"<-\"))\n",
    "plt.annotate(\"\", xy=(0,0), xytext=(0,U0), arrowprops=dict(arrowstyle=\"-\"))\n",
    "plt.annotate(\"\", xy=(a,0), xytext=(a,U0), arrowprops=dict(arrowstyle=\"-\"))\n",
    "plt.annotate(\"\", xy=(0-0.01,U0-0.001), xytext=(a+0.01,U0-0.001), arrowprops=dict(arrowstyle=\"-\"))\n",
    "plt.show()"
   ]
  },
  {
   "cell_type": "markdown",
   "metadata": {},
   "source": [
    "As outras constantes, $c_{ee},c_{bd},c_{ba},c_{dd}$, são determinadas, em termos de $c_{ed}$, impondo a continuidade da função de onda e de sua primeira derivada. Usando\n",
    "\\begin{cases}\n",
    "\\partial_{x}\\Xi_{e} = ik_{e}\\left(c_{ed}e^{ik_{e}x}-c_{ee}e^{-ik_{e}x}\\right), \\\\\n",
    "\\partial_{x}\\Xi_{b} = -k_{b}\\left(c_{bd}e^{-k_{b}x}-c_{bc}e^{k_{b}x}\\right), \\\\\n",
    "\\partial_{x}\\Xi_{d} = ik_{e}c_{dd}e^{ik_{e}x},\n",
    "\\end{cases}\n",
    "teremos\n",
    "\\begin{align}\n",
    "\\Xi_{e}(x=0) = \\Xi_{b}(x=0) & \\\\\n",
    "& \\therefore c_{ed}+c_{ee}=c_{bd}+c_{bc} \\therefore -c_{ee}+c_{bd}+c_{bc}+0c_{dd}=c_{ed}, \\\\\n",
    "\\Xi_{b}(x=a) = \\Xi_{d}(x=a) & \\\\ \n",
    "& \\therefore c_{bd}e^{-k_{b}a}+c_{bc}e^{k_{b}a}=c_{dd}e^{ik_{e}a} \\therefore 0c_{ee}+e^{-k_{b}a}c_{bd}+e^{k_{b}a}c_{bc}-e^{ik_{e}a}c_{dd}=0, \\\\\n",
    "\\partial_{x}\\Xi_{e}(x=0)=\\partial_{x}\\Xi_{b}(x=0) & \\\\ \n",
    "& \\therefore ik_{e}(c_{ed}-c_{ee})=-k_{b}(c_{bd}-c_{bc}) \\therefore ik_{e}c_{ee}-k_{b}c_{bd}+k_{b}c_{bc}+0c_{dd}=ik_{e}c_{ed}, \\\\\n",
    "\\partial_{x}\\Xi_{e}(x=a)=\\partial_{x}\\Xi_{b}(x=a) & \\\\ \n",
    "& \\therefore -k_{b}\\left(c_{bd}e^{-k_{b}a}-c_{bc}e^{k_{b}a}\\right) = ik_{e}c_{dd}e^{ik_{e}a} \\therefore 0c_{ee}-k_{b}e^{-k_{b}a}c_{bd}+k_{b}e^{k_{b}a}c_{bc}-ik_{e}e^{ik_{e}a}c_{dd}=0.\n",
    "\\end{align}\n",
    "Este sistema de equações lineares (SEL) está resolvido com o código Sympy abaixo."
   ]
  },
  {
   "cell_type": "code",
   "execution_count": 7,
   "metadata": {},
   "outputs": [
    {
     "data": {
      "image/png": "[encoded data removed]",
      "text/latex": [
       "$\\displaystyle \\left\\{ c_{bc} : 0.5 c_{dd} e^{- a k_{b}} e^{i a k_{e}} + \\frac{0.5 i c_{dd} k_{e} e^{- a k_{b}} e^{i a k_{e}}}{k_{b}}, \\  c_{bd} : 0.5 c_{dd} e^{a k_{b}} e^{i a k_{e}} - \\frac{0.5 i c_{dd} k_{e} e^{a k_{b}} e^{i a k_{e}}}{k_{b}}, \\  c_{ed} : \\frac{0.25 i c_{dd} k_{b} e^{a k_{b}} e^{i a k_{e}}}{k_{e}} - \\frac{0.25 i c_{dd} k_{b} e^{- a k_{b}} e^{i a k_{e}}}{k_{e}} + 0.5 c_{dd} e^{a k_{b}} e^{i a k_{e}} + 0.5 c_{dd} e^{- a k_{b}} e^{i a k_{e}} - \\frac{0.25 i c_{dd} k_{e} e^{a k_{b}} e^{i a k_{e}}}{k_{b}} + \\frac{0.25 i c_{dd} k_{e} e^{- a k_{b}} e^{i a k_{e}}}{k_{b}}, \\  c_{ee} : - \\frac{0.25 i c_{dd} k_{b} e^{a k_{b}} e^{i a k_{e}}}{k_{e}} + \\frac{0.25 i c_{dd} k_{b} e^{- a k_{b}} e^{i a k_{e}}}{k_{e}} - \\frac{0.25 i c_{dd} k_{e} e^{a k_{b}} e^{i a k_{e}}}{k_{b}} + \\frac{0.25 i c_{dd} k_{e} e^{- a k_{b}} e^{i a k_{e}}}{k_{b}}\\right\\}$"
      ],
      "text/plain": [
       "⎧                                                              -a⋅k_{b}  ⅈ⋅a⋅k ↪\n",
       "⎪                    -a⋅k_{b}  ⅈ⋅a⋅k_{e}   0.5⋅ⅈ⋅c_{dd}⋅k_{e}⋅ℯ        ⋅ℯ      ↪\n",
       "⎨c_{bc}: 0.5⋅c_{dd}⋅ℯ        ⋅ℯ          + ─────────────────────────────────── ↪\n",
       "⎪                                                           k_{b}              ↪\n",
       "⎩                                                                              ↪\n",
       "\n",
       "↪ _{e}                                                               a⋅k_{b}   ↪\n",
       "↪                           a⋅k_{b}  ⅈ⋅a⋅k_{e}   0.5⋅ⅈ⋅c_{dd}⋅k_{e}⋅ℯ       ⋅ℯ ↪\n",
       "↪ ────, c_{bd}: 0.5⋅c_{dd}⋅ℯ       ⋅ℯ          - ───────────────────────────── ↪\n",
       "↪                                                                k_{b}         ↪\n",
       "↪                                                                              ↪\n",
       "\n",
       "↪ ⅈ⋅a⋅k_{e}                               a⋅k_{b}  ⅈ⋅a⋅k_{e}                   ↪\n",
       "↪                    0.25⋅ⅈ⋅c_{dd}⋅k_{b}⋅ℯ       ⋅ℯ            0.25⋅ⅈ⋅c_{dd}⋅k ↪\n",
       "↪ ─────────, c_{ed}: ─────────────────────────────────────── - ─────────────── ↪\n",
       "↪                                     k_{e}                                    ↪\n",
       "↪                                                                              ↪\n",
       "\n",
       "↪       -a⋅k_{b}  ⅈ⋅a⋅k_{e}                                                    ↪\n",
       "↪ _{b}⋅ℯ        ⋅ℯ                        a⋅k_{b}  ⅈ⋅a⋅k_{e}               -a⋅ ↪\n",
       "↪ ───────────────────────── + 0.5⋅c_{dd}⋅ℯ       ⋅ℯ          + 0.5⋅c_{dd}⋅ℯ    ↪\n",
       "↪   k_{e}                                                                      ↪\n",
       "↪                                                                              ↪\n",
       "\n",
       "↪                                         a⋅k_{b}  ⅈ⋅a⋅k_{e}                   ↪\n",
       "↪ k_{b}  ⅈ⋅a⋅k_{e}   0.25⋅ⅈ⋅c_{dd}⋅k_{e}⋅ℯ       ⋅ℯ            0.25⋅ⅈ⋅c_{dd}⋅k ↪\n",
       "↪      ⋅ℯ          - ─────────────────────────────────────── + ─────────────── ↪\n",
       "↪                                     k_{b}                                    ↪\n",
       "↪                                                                              ↪\n",
       "\n",
       "↪       -a⋅k_{b}  ⅈ⋅a⋅k_{e}                                 a⋅k_{b}  ⅈ⋅a⋅k_{e} ↪\n",
       "↪ _{e}⋅ℯ        ⋅ℯ                     0.25⋅ⅈ⋅c_{dd}⋅k_{b}⋅ℯ       ⋅ℯ          ↪\n",
       "↪ ─────────────────────────, c_{ee}: - ─────────────────────────────────────── ↪\n",
       "↪   k_{b}                                               k_{e}                  ↪\n",
       "↪                                                                              ↪\n",
       "\n",
       "↪                         -a⋅k_{b}  ⅈ⋅a⋅k_{e}                        a⋅k_{b}   ↪\n",
       "↪    0.25⋅ⅈ⋅c_{dd}⋅k_{b}⋅ℯ        ⋅ℯ            0.25⋅ⅈ⋅c_{dd}⋅k_{e}⋅ℯ       ⋅ℯ ↪\n",
       "↪  + ──────────────────────────────────────── - ────────────────────────────── ↪\n",
       "↪                     k_{e}                                      k_{b}         ↪\n",
       "↪                                                                              ↪\n",
       "\n",
       "↪ ⅈ⋅a⋅k_{e}                        -a⋅k_{b}  ⅈ⋅a⋅k_{e}⎫\n",
       "↪             0.25⋅ⅈ⋅c_{dd}⋅k_{e}⋅ℯ        ⋅ℯ         ⎪\n",
       "↪ ───────── + ────────────────────────────────────────⎬\n",
       "↪                              k_{b}                  ⎪\n",
       "↪                                                     ⎭"
      ]
     },
     "execution_count": 7,
     "metadata": {},
     "output_type": "execute_result"
    }
   ],
   "source": [
    "from sympy import init_printing, symbols, solve, exp\n",
    "init_printing(use_unicode=True)\n",
    "\n",
    "ced,cee,cbd,cbc,cdd=symbols('c_{ed},c_{ee},c_{bd},c_{bc},c_{dd}')\n",
    "a,ke,kb = symbols('a,k_{e},k_{b}')\n",
    "solve([ced+cee-cbd-cbc, \n",
    "       cbd*exp(-kb*a)+cbc*exp(kb*a)-cdd*exp(1j*ke*a), \n",
    "      1j*ke*(ced-cee)+kb*(cbd-cbc), \n",
    "       -kb*(cbd*exp(-kb*a)-cbc*exp(kb*a))-1j*ke*cdd*exp(1j*ke*a)],\n",
    "      [ced,cee,cbd,cbc])"
   ]
  },
  {
   "cell_type": "markdown",
   "metadata": {},
   "source": [
    "Assim\n",
    "\\begin{align}\n",
    "c_{bc} &= \\frac{c_{dd}e^{-ak_{b}+iak_{e}}}{2}\\left(\\frac{k_{b}+ik_{e}}{k_{b}}\\right), \\\\\n",
    "c_{bd} &= \\frac{c_{dd}e^{ak_{b}+iak_{e}}}{2}\\left(\\frac{k_{b}-ik_{e}}{k_{b}}\\right), \\\\\n",
    "c_{ed} &= \\frac{c_{dd}e^{iak_{e}}}{2}\\left(2\\cosh(ak_{b})+i\\frac{k_{b}^{2}-k_{e}^{2}}{k_{b}k_{e}}\\sinh(ak_{b})\\right), \\\\\n",
    "c_{ee} &= -\\frac{ic_{dd}e^{iak_{e}}}{2}\\frac{k_{b}^{2}+k_{e}^{2}}{k_{b}k_{e}}\\sinh(ak_{b}).\n",
    "\\end{align}\n",
    "\n",
    "Na forma matricial, o SEL acima fica escrito como segue:\n",
    "\\begin{equation}\n",
    "\\begin{bmatrix} -1&1&1&0 \\\\ 0&e^{-k_{b}a}&e^{k_{b}a}&-e^{ik_{e}a} \\\\ ik_{e}&-k_{b}&k_{b}&0 \\\\ 0&-k_{b}e^{-k_{b}a}&k_{b}e^{k_{b}a}&-ik_{e}e^{ik_{e}a} \\end{bmatrix}\\begin{bmatrix} c_{ee}\\\\c_{bd}\\\\c_{bc}\\\\c_{dd}\\end{bmatrix}=\\begin{bmatrix} c_{ed} \\\\ 0 \\\\ ik_{e}c_{ed} \\\\ 0\\end{bmatrix}\\text{ ou } A|x\\rangle=|y\\rangle.\n",
    "\\end{equation}\n",
    "Se $\\det(A)\\ne 0$, a inversa de $A$ existe e a solução desse sistema de equações lineares não homogêneo é\n",
    "\\begin{equation}\n",
    "|x\\rangle=A^{-1}|y\\rangle \\text{, com } (A^{-1})_{j,k}=\\frac{(-1)^{k+j}\\det(A^{(k,j)})}{\\det(A)}.\n",
    "\\end{equation}\n",
    "No entanto, essas contas são muito longas para os propósitos dessa disciplina, e por isso usaremos os resultados obtidos com o Sympy, como mostrado abaixo."
   ]
  },
  {
   "cell_type": "code",
   "execution_count": 10,
   "metadata": {},
   "outputs": [
    {
     "data": {
      "image/png": "[encoded data removed]",
      "text/latex": [
       "$\\displaystyle \\left[\\begin{matrix}-1 & 1 & 1 & 0\\\\0 & e^{- a k_{b}} & e^{a k_{b}} & - e^{1.0 i a k_{e}}\\\\1.0 i k_{e} & - k_{b} & k_{b} & 0\\\\0 & - k_{b} e^{- a k_{b}} & k_{b} e^{a k_{b}} & - 1.0 i k_{e} e^{1.0 i a k_{e}}\\end{matrix}\\right]$"
      ],
      "text/plain": [
       "⎡    -1              1                1                      0             ⎤\n",
       "⎢                                                                          ⎥\n",
       "⎢                 -a⋅k_{b}          a⋅k_{b}             1.0⋅ⅈ⋅a⋅k_{e}      ⎥\n",
       "⎢     0          ℯ                 ℯ                  -ℯ                   ⎥\n",
       "⎢                                                                          ⎥\n",
       "⎢1.0⋅ⅈ⋅k_{e}       -k_{b}           k_{b}                    0             ⎥\n",
       "⎢                                                                          ⎥\n",
       "⎢                     -a⋅k_{b}         a⋅k_{b}                1.0⋅ⅈ⋅a⋅k_{e}⎥\n",
       "⎣     0       -k_{b}⋅ℯ          k_{b}⋅ℯ         -1.0⋅ⅈ⋅k_{e}⋅ℯ             ⎦"
      ]
     },
     "execution_count": 10,
     "metadata": {},
     "output_type": "execute_result"
    }
   ],
   "source": [
    "from sympy import Matrix, simplify\n",
    "\n",
    "A = Matrix([[-1,1,1,0],[0,exp(-kb*a),exp(kb*a),-exp(1j*ke*a)],[1j*ke,-kb,kb,0],\n",
    "            [0,-kb*exp(-kb*a),kb*exp(kb*a),-1j*ke*exp(1j*ke*a)]]); A"
   ]
  },
  {
   "cell_type": "code",
   "execution_count": 12,
   "metadata": {},
   "outputs": [],
   "source": [
    "Am1 = A.inv()#; simplify(Am1) # is not working anymore"
   ]
  },
  {
   "cell_type": "code",
   "execution_count": 13,
   "metadata": {},
   "outputs": [
    {
     "data": {
      "image/png": "[encoded data removed]",
      "text/latex": [
       "$\\displaystyle \\frac{1.0 c_{ed} \\left(- k_{b}^{2} e^{2 a k_{b}} + k_{b}^{2} - k_{e}^{2} e^{2 a k_{b}} + k_{e}^{2}\\right)}{1.0 k_{b}^{2} e^{2 a k_{b}} - 1.0 k_{b}^{2} - 2.0 i k_{b} k_{e} e^{2 a k_{b}} - 2.0 i k_{b} k_{e} - 1.0 k_{e}^{2} e^{2 a k_{b}} + 1.0 k_{e}^{2}}$"
      ],
      "text/plain": [
       "                                     ⎛       2  2⋅a⋅k_{b}        2        2  2 ↪\n",
       "                          1.0⋅c_{ed}⋅⎝- k_{b} ⋅ℯ          + k_{b}  - k_{e} ⋅ℯ  ↪\n",
       "────────────────────────────────────────────────────────────────────────────── ↪\n",
       "         2  2⋅a⋅k_{b}            2                      2⋅a⋅k_{b}              ↪\n",
       "1.0⋅k_{b} ⋅ℯ          - 1.0⋅k_{b}  - 2.0⋅ⅈ⋅k_{b}⋅k_{e}⋅ℯ          - 2.0⋅ⅈ⋅k_{b ↪\n",
       "\n",
       "↪ ⋅a⋅k_{b}        2⎞                          \n",
       "↪          + k_{e} ⎠                          \n",
       "↪ ────────────────────────────────────────────\n",
       "↪                    2  2⋅a⋅k_{b}            2\n",
       "↪ }⋅k_{e} - 1.0⋅k_{e} ⋅ℯ          + 1.0⋅k_{e} "
      ]
     },
     "execution_count": 13,
     "metadata": {},
     "output_type": "execute_result"
    }
   ],
   "source": [
    "cee = Am1[0,0]*ced + 0 + Am1[0,2]*1j*ke*ced + 0; simplify(cee)"
   ]
  },
  {
   "cell_type": "code",
   "execution_count": 14,
   "metadata": {},
   "outputs": [
    {
     "data": {
      "image/png": "[encoded data removed]",
      "text/latex": [
       "$\\displaystyle \\frac{2.0 c_{ed} k_{e} \\left(i k_{b} + k_{e}\\right) e^{2 a k_{b}}}{- 1.0 k_{b}^{2} e^{2 a k_{b}} + 1.0 k_{b}^{2} + 2.0 i k_{b} k_{e} e^{2 a k_{b}} + 2.0 i k_{b} k_{e} + 1.0 k_{e}^{2} e^{2 a k_{b}} - 1.0 k_{e}^{2}}$"
      ],
      "text/plain": [
       "                                                                           2⋅a ↪\n",
       "                                       2.0⋅c_{ed}⋅k_{e}⋅(ⅈ⋅k_{b} + k_{e})⋅ℯ    ↪\n",
       "────────────────────────────────────────────────────────────────────────────── ↪\n",
       "           2  2⋅a⋅k_{b}            2                      2⋅a⋅k_{b}            ↪\n",
       "- 1.0⋅k_{b} ⋅ℯ          + 1.0⋅k_{b}  + 2.0⋅ⅈ⋅k_{b}⋅k_{e}⋅ℯ          + 2.0⋅ⅈ⋅k_ ↪\n",
       "\n",
       "↪ ⋅k_{b}                                        \n",
       "↪                                               \n",
       "↪ ──────────────────────────────────────────────\n",
       "↪                      2  2⋅a⋅k_{b}            2\n",
       "↪ {b}⋅k_{e} + 1.0⋅k_{e} ⋅ℯ          - 1.0⋅k_{e} "
      ]
     },
     "execution_count": 14,
     "metadata": {},
     "output_type": "execute_result"
    }
   ],
   "source": [
    "cbd = Am1[1,0]*ced + 0 + Am1[1,2]*1j*ke*ced + 0; simplify(cbd)"
   ]
  },
  {
   "cell_type": "code",
   "execution_count": 15,
   "metadata": {},
   "outputs": [
    {
     "data": {
      "image/png": "[encoded data removed]",
      "text/latex": [
       "$\\displaystyle \\frac{2.0 c_{ed} k_{e} \\left(- i k_{b} + k_{e}\\right)}{1.0 k_{b}^{2} e^{2 a k_{b}} - 1.0 k_{b}^{2} - 2.0 i k_{b} k_{e} e^{2 a k_{b}} - 2.0 i k_{b} k_{e} - 1.0 k_{e}^{2} e^{2 a k_{b}} + 1.0 k_{e}^{2}}$"
      ],
      "text/plain": [
       "                                           2.0⋅c_{ed}⋅k_{e}⋅(-ⅈ⋅k_{b} + k_{e}) ↪\n",
       "────────────────────────────────────────────────────────────────────────────── ↪\n",
       "         2  2⋅a⋅k_{b}            2                      2⋅a⋅k_{b}              ↪\n",
       "1.0⋅k_{b} ⋅ℯ          - 1.0⋅k_{b}  - 2.0⋅ⅈ⋅k_{b}⋅k_{e}⋅ℯ          - 2.0⋅ⅈ⋅k_{b ↪\n",
       "\n",
       "↪                                             \n",
       "↪ ────────────────────────────────────────────\n",
       "↪                    2  2⋅a⋅k_{b}            2\n",
       "↪ }⋅k_{e} - 1.0⋅k_{e} ⋅ℯ          + 1.0⋅k_{e} "
      ]
     },
     "execution_count": 15,
     "metadata": {},
     "output_type": "execute_result"
    }
   ],
   "source": [
    "cbc = Am1[2,0]*ced + 0 + Am1[2,2]*1j*ke*ced + 0; simplify(cbc)"
   ]
  },
  {
   "cell_type": "code",
   "execution_count": 16,
   "metadata": {},
   "outputs": [
    {
     "data": {
      "image/png": "[encoded data removed]",
      "text/latex": [
       "$\\displaystyle \\frac{4.0 i c_{ed} k_{b} k_{e} e^{a \\left(k_{b} - 1.0 i k_{e}\\right)}}{1.0 k_{b}^{2} + 2.0 i k_{b} k_{e} - 1.0 k_{e}^{2} + \\left(- 1.0 k_{b}^{2} + 2.0 i k_{b} k_{e} + 1.0 k_{e}^{2}\\right) e^{2 a k_{b}}}$"
      ],
      "text/plain": [
       "                                                     a⋅(k_{b} - 1.0⋅ⅈ⋅k_{e})   ↪\n",
       "                           4.0⋅ⅈ⋅c_{ed}⋅k_{b}⋅k_{e}⋅ℯ                          ↪\n",
       "────────────────────────────────────────────────────────────────────────────── ↪\n",
       "         2                                2   ⎛           2                    ↪\n",
       "1.0⋅k_{b}  + 2.0⋅ⅈ⋅k_{b}⋅k_{e} - 1.0⋅k_{e}  + ⎝- 1.0⋅k_{b}  + 2.0⋅ⅈ⋅k_{b}⋅k_{e ↪\n",
       "\n",
       "↪                           \n",
       "↪                           \n",
       "↪ ──────────────────────────\n",
       "↪              2⎞  2⋅a⋅k_{b}\n",
       "↪ } + 1.0⋅k_{e} ⎠⋅ℯ         "
      ]
     },
     "execution_count": 16,
     "metadata": {},
     "output_type": "execute_result"
    }
   ],
   "source": [
    "cdd = Am1[3,0]*ced + 0 + Am1[3,2]*1j*ke*ced + 0; simplify(cdd)"
   ]
  },
  {
   "cell_type": "markdown",
   "metadata": {},
   "source": [
    "## Densidade de probabilidade\n",
    "Assumiremos $c_{ed}\\in\\mathbb{R}$. Usando as expressões obtidas acima para os coeficientes das funções de onda, obteremos à esquerda da barreira:\n",
    "\\begin{align}\n",
    "|\\Xi_{e}|^{2} & = \\Xi_{e}\\Xi_{e}^{*} \\\\\n",
    "& = \\left(c_{ed}e^{ik_{e}x}+c_{ee}e^{-ik_{e}x}\\right)\\left(c_{ed}^{*}e^{-ik_{e}x}+c_{ee}^{*}e^{ik_{e}x}\\right) \\\\\n",
    "& = |c_{ed}|^{2} + c_{ed}c_{ee}^{*}e^{2ik_{e}x} + c_{ee}c_{ed}^{*}e^{-2ik_{e}x} + |c_{ee}|^{2} \\\\\n",
    "& = |c_{ed}|^{2} + |c_{ee}|^{2} + 2\\Re\\left(c_{ed}c_{ee}^{*}e^{2ik_{e}x}\\right) \\\\\n",
    "& = c_{ed}^{2} + |c_{ee}|^{2} + 2c_{ed}\\left(\\Re(c_{ee}^{*})\\Re\\left(e^{2ik_{e}x}\\right)-\\Im(c_{ee}^{*})\\Im\\left(e^{2ik_{e}x}\\right)\\right) \\\\\n",
    "& = c_{ed}^{2} + |c_{ee}|^{2} + 2c_{ed}\\left(\\Re(c_{ee})\\cos(2k_{e}x)+\\Im(c_{ee})\\sin(2k_{e}x)\\right).\n",
    "\\end{align}\n",
    "Na barreira\n",
    "\\begin{align}\n",
    "|\\Xi_{b}|^{2} & = \\Xi_{b}\\Xi_{b}^{*} \\\\\n",
    "& = \\left(c_{bd}e^{-k_{b}x}+c_{bc}e^{k_{b}x}\\right)\\left(c_{bd}^{*}e^{-k_{b}x}+c_{bc}^{*}e^{k_{b}x}\\right) \\\\\n",
    "& = |c_{bd}|^{2}e^{-2k_{b}x} + c_{bd}c_{bc}^{*} + c_{bd}^{*}c_{bc} + |c_{bc}|^{2}e^{2k_{b}x} \\\\\n",
    "& = |c_{bd}|^{2}e^{-2k_{b}x} + |c_{bc}|^{2}e^{2k_{b}x} + 2\\Re(c_{bd}c_{bc}^{*}) \\\\\n",
    "& = |c_{bd}|^{2}e^{-2k_{b}x} + |c_{bc}|^{2}e^{2k_{b}x} + 2(\\Re(c_{bd})\\Re(c_{bc}^{*})-\\Im(c_{bd})\\Im(c_{bc}^{*})) \\\\\n",
    "& = |c_{bd}|^{2}e^{-2k_{b}x} + |c_{bc}|^{2}e^{2k_{b}x} + 2(\\Re(c_{bd})\\Re(c_{bc})+\\Im(c_{bd})\\Im(c_{bc})).\n",
    "\\end{align}\n",
    "À direita da barreira\n",
    "\\begin{align}\n",
    "|\\Xi_{d}|^{2} & = \\Xi_{d}\\Xi_{d}^{*} = c_{dd}e^{ik_{e}x}c_{dd}^{*}e^{-ik_{e}x} = |c_{dd}|^{2}.\n",
    "\\end{align}\n",
    "\n",
    "Essas densidades de probabilidade estão mostradas na figura abaixo.\n",
    "\n",
    "Claro, o limite de $a$ \"muito\" grande fornece o mesmo comportamento do potencial degrau."
   ]
  },
  {
   "cell_type": "code",
   "execution_count": 32,
   "metadata": {},
   "outputs": [
    {
     "data": {
      "application/vnd.jupyter.widget-view+json": {
       "model_id": "4ac506f7f28b4d7eb3799e611246abea",
       "version_major": 2,
       "version_minor": 0
      },
      "text/plain": [
       "interactive(children=(FloatSlider(value=0.241, description='E', max=0.499, min=0.001, step=0.01), FloatSlider(…"
      ]
     },
     "execution_count": 32,
     "metadata": {},
     "output_type": "execute_result"
    }
   ],
   "source": [
    "from ipywidgets import interactive\n",
    "import matplotlib\n",
    "from matplotlib import pyplot as plt\n",
    "import math\n",
    "import numpy as np\n",
    "\n",
    "def E_lt_U0(E,a):\n",
    "    matplotlib.rcParams.update({'font.size':12}); \n",
    "    plt.figure(figsize = (8,3), dpi = 100)\n",
    "    U0 = 0.5; m = 1; ke = math.sqrt(2*m*E); \n",
    "    kb = math.sqrt(U0/E-1)*ke; ced = 0.5\n",
    "    den = -1j*kb**2*math.exp(2*a*kb)*math.sin(a*ke)\\\n",
    "    - kb**2*math.exp(2*a*kb)*math.cos(a*ke) + 1j*kb**2*math.sin(a*ke)\\\n",
    "    + kb**2*math.cos(a*ke) - 2*kb*ke*math.exp(2*a*kb)*math.sin(a*ke)\\\n",
    "    + 2*1j*kb*ke*math.exp(2*a*kb)*math.cos(a*ke) - 2*kb*ke*math.sin(a*ke)\\\n",
    "    + 2*1j*kb*ke*math.cos(a*ke) + 1j*ke**2*math.exp(2*a*kb)*math.sin(a*ke)\\\n",
    "    + ke**2*math.exp(2*a*kb)*math.cos(a*ke) - 1j*ke**2*math.sin(a*ke)\\\n",
    "    - ke**2*math.cos(a*ke) \n",
    "    cee = ced*(1j*kb**2*math.exp(2*a*kb)*math.sin(a*ke)\\\n",
    "               + kb**2*math.exp(2*a*kb)*math.cos(a*ke)\\\n",
    "               - 1j*kb**2*math.sin(a*ke) - kb**2*math.cos(a*ke)\\\n",
    "               + 1j*ke**2*math.exp(2*a*kb)*math.sin(a*ke)\\\n",
    "               + ke**2*math.exp(2*a*kb)*math.cos(a*ke)\\\n",
    "               - 1j*ke**2*math.sin(a*ke) - ke**2*math.cos(a*ke))\n",
    "    cee /= den\n",
    "    cbc = 2*ced*ke*(-kb*math.sin(a*ke) + 1j*kb*math.cos(a*ke)\\\n",
    "                    - 1j*ke*math.sin(a*ke) - ke*math.cos(a*ke))\n",
    "    cbc /= den\n",
    "    cbd = 2*1j*ced*ke*(kb*(math.cos(a*ke)+1j*math.sin(a*ke))\\\n",
    "                       + ke*(math.sin(a*ke)\\\n",
    "                             - 1j*math.cos(a*ke)))*math.exp(2*a*kb)\n",
    "    cbd /= den\n",
    "    cdd = 4*1j*ced*kb*ke*math.exp(a*kb)\n",
    "    cdd /= den \n",
    "    N = 1000; xmin = -5*math.pi; xmax = -xmin; dx = (xmax-xmin)/N;\n",
    "    x = np.zeros(N); y = np.zeros(N)\n",
    "    for j in range(0,N):\n",
    "        x[j] = xmin + j*dx\n",
    "        if x[j] < 0:\n",
    "            y[j] = ced**2 + (cee.real)**2 + (cee.imag)**2\\\n",
    "            + 2*ced*((cee.real)*math.cos(2*ke*x[j])\\\n",
    "                     +(cee.imag)*math.sin(2*ke*x[j]))\n",
    "        elif x[j] > 0 and x[j] < a:\n",
    "            y[j] = ((cbd.real)**2+(cbd.imag)**2)*math.exp(-2*kb*x[j])\\\n",
    "            +((cbc.real)**2+(cbc.imag)**2)*math.exp(2*kb*x[j])\\\n",
    "            +2*((cbd.real)*(cbc.real)+(cbd.imag)*(cbc.imag))\n",
    "        elif x[j] > a:\n",
    "            y[j] = (cdd.real)**2+(cdd.imag)**2\n",
    "    plt.annotate(r'$E=$'+str(E)[:5], xy=(xmax-8,0.8), \n",
    "                 xytext=(xmax-8,0.8), fontsize=12)\n",
    "    plt.plot(x,y); plt.xlabel(r'$x$',fontsize=10); \n",
    "    plt.ylabel(r'$|\\Xi|^{2}$',fontsize=15)\n",
    "    plt.annotate(r'$a=$'+str(a)[:4], xy=(a,0.02), \n",
    "                 xytext=(a,0.02), fontsize=12)\n",
    "    plt.xlim(xmin,xmax); plt.ylim(0.0,1.01)\n",
    "    plt.annotate(\"\", xy=(0,0), xytext=(0,U0), \n",
    "                 arrowprops=dict(arrowstyle=\"-\"))\n",
    "    plt.annotate(\"\", xy=(a,0), xytext=(a,U0), \n",
    "                 arrowprops=dict(arrowstyle=\"-\"))\n",
    "    plt.annotate(\"\", xy=(0-0.08,U0-0.005), xytext=(a+0.08,U0-0.005), \n",
    "                 arrowprops=dict(arrowstyle=\"-\"))\n",
    "    plt.savefig('z10_psiEmU.png',format = 'png', dpi = 100)\n",
    "    plt.show()\n",
    "    \n",
    "interactive(E_lt_U0, E=(0+10**-3,0.5-10**-3,0.01), a=(0.0,16,0.5))"
   ]
  },
  {
   "cell_type": "markdown",
   "metadata": {},
   "source": [
    "## Tunelamento quântico\n",
    "No caso da barreira de potencial, como quantons podem ser refletidos tanto em $x=0$ quanto em $x=a$, iniciaremos calculando o coeficiente de transmissão, que é dado por:\n",
    "\\begin{equation}\n",
    "T:=\\frac{|c_{dd}|^{2}}{|c_{ed}|^{2}},\n",
    "\\end{equation}\n",
    "uma vez que a velocidade é a mesma, $\\omega/k_{e}$, nas regiões $x<0$ e $x>a$. Simplificando obtemos\n",
    "\\begin{align}\n",
    "c_{dd} & = \\frac{-ic_{ed}4k_{e}k_{b}e^{k_{b}a}e^{-ik_{e}a}}{2k_{b}(k_{b}-ik_{e})e^{2k_{b}a}-(k_{b}+ik_{e})(k_{b}+ik_{e}+(k_{b}-ik_{e})e^{2k_{b}a})} \\\\\n",
    "& = \\frac{-ic_{ed}4k_{e}k_{b}e^{k_{b}a}e^{-ik_{e}a}} {2(k_{b}^{2}-ik_{b}k_{e})e^{2k_{b}a}-k_{b}^{2}-2ik_{b}k_{e}+k_{e}^{2}-(k_{b}^{2}+k_{e}^{2})e^{2k_{b}a}} \\\\\n",
    "& = \\frac{-ic_{ed}4k_{e}k_{b}e^{k_{b}a}e^{-ik_{e}a}} {(2k_{b}^{2}-k_{b}^{2}-k_{e}^{2})e^{2k_{b}a}-k_{b}^{2}+k_{e}^{2}-2ik_{b}k_{e}(e^{2k_{b}a}+1)}\\frac{e^{-k_{b}a}}{e^{-k_{b}a}} \\\\\n",
    "& = \\frac{-ic_{ed}4k_{e}k_{b}e^{-ik_{e}a}} {(k_{b}^{2}-k_{e}^{2})e^{k_{b}a}-(k_{b}^{2}-k_{e}^{2})e^{-k_{b}a}-2ik_{b}k_{e}(e^{k_{b}a}+e^{-k_{b}a})}\\frac{1/4k_{b}k_{e}}{1/4k_{b}k_{e}} \\\\\n",
    "& = \\frac{-ic_{ed}e^{-ik_{e}a}} {\\frac{k_{b}^{2}-k_{e}^{2}}{2k_{b}k_{e}}\\frac{e^{k_{b}a}-e^{-k_{b}a}}{2}-i\\frac{e^{k_{b}a}+e^{-k_{b}a}}{2}} \\\\\n",
    "& = \\frac{-ie^{-ik_{e}a}} {\\frac{k_{b}^{2}-k_{e}^{2}}{2k_{b}k_{e}}\\sinh(k_{b}a)-i\\cosh(k_{b}a)}c_{ed}.\n",
    "\\end{align}"
   ]
  },
  {
   "cell_type": "markdown",
   "metadata": {},
   "source": [
    "Segue assim que\n",
    "\\begin{align}\n",
    "T & = \\frac{1} {\\frac{(k_{b}^{2}-k_{e}^{2})^{2}}{4k_{b}^{2}k_{e}^{2}}\\sinh^{2}(k_{b}a)+\\cosh^{2}(k_{b}a)} \\\\\n",
    "& = \\frac{4k_{b}^{2}k_{e}^{2}} {(k_{b}^{4}+k_{e}^{4}-2k_{b}^{2}k_{e}^{2})\\sinh^{2}(k_{b}a)+4k_{b}^{2}k_{e}^{2}\\cosh^{2}(k_{b}a)} \\\\\n",
    "& = \\frac{4k_{b}^{2}k_{e}^{2}} {(k_{b}^{4}+k_{e}^{4}+2k_{b}^{2}k_{e}^{2})\\sinh^{2}(k_{b}a)+4k_{b}^{2}k_{e}^{2}(\\cosh^{2}(k_{b}a)-\\sinh^{2}(k_{b}a))} \\\\\n",
    "& = \\frac{1} {\\frac{(k_{b}^{2}+k_{e}^{2})^{2}}{4k_{b}^{2}k_{e}^{2}}\\sinh^{2}(k_{b}a)+1}.\n",
    "\\end{align}\n",
    "Como \n",
    "\\begin{align}\n",
    "& \\frac{(k_{b}^{2}+k_{e}^{2})^{2}}{k_{b}^{2}k_{e}^{2}} = \\frac{(2m(U_{0}-E)+2mE)^{2}}{2m(U_{0}-E)2mE} = \\frac{U_{0}^{2}}{E(U_{0}-E)} = \\frac{1}{\\frac{E}{U_{0}}\\left(1-\\frac{E}{U_{0}}\\right)}.\n",
    "\\end{align}\n",
    "obteremos, finalmente, que\n",
    "\\begin{equation}\n",
    "T = \\left(\\frac{\\sinh^{2}\\left(ak_{e}\\sqrt{\\frac{U_{0}}{E}-1}\\right)}{4\\frac{E}{U_{0}}\\left(1-\\frac{E}{U_{0}}\\right)}+1\\right)^{-1}.\n",
    "\\end{equation}"
   ]
  },
  {
   "cell_type": "code",
   "execution_count": 24,
   "metadata": {},
   "outputs": [
    {
     "data": {
      "application/vnd.jupyter.widget-view+json": {
       "model_id": "0d4bc6e64f314925b7ad6b00f1a44fe4",
       "version_major": 2,
       "version_minor": 0
      },
      "text/plain": [
       "interactive(children=(FloatSlider(value=1.4000000001000001, description='a', max=3.0, min=1e-10), Output()), _…"
      ]
     },
     "execution_count": 24,
     "metadata": {},
     "output_type": "execute_result"
    }
   ],
   "source": [
    "def EltU0(a):\n",
    "    matplotlib.rcParams.update({'font.size':12}); \n",
    "    plt.figure(figsize = (4,4), dpi = 100)\n",
    "    U0 = 1; m = 1; hbb = 1\n",
    "    x = np.arange(0.01,0.999,0.005); \n",
    "    ke = np.sqrt(2*m*x)/hbb; kb = np.sqrt((U0/x)-1)*ke\n",
    "    T = 1/(1+((np.sinh(kb*a)**2)*((kb**2+ke**2)**2/(4*kb**2*ke**2)))); \n",
    "    R = 1-T\n",
    "    plt.plot(x,R); plt.plot(x,T); \n",
    "    plt.xlim(0,1); plt.ylim(-0.01,1.05)\n",
    "    plt.xlabel(r'$E/U_{0}$'); \n",
    "    plt.legend((r'$R$',r'$T$'),loc=(1.01,0.5))\n",
    "    plt.annotate(r'$a=$'+str(a)[:5], xy=(0.8,0.9), \n",
    "                 xytext=(1.01,0.9), fontsize=12)\n",
    "    plt.show()\n",
    "interactive(EltU0, a=(10**-10,3,0.1))"
   ]
  },
  {
   "cell_type": "markdown",
   "metadata": {},
   "source": [
    "## Aplicações\n",
    "Vemos assim que, ao contrário do regime clássico, no regime quântico um quanton pode, mesmo tendo energia menor do que a altura da barreira, passar para o outro lado. Esse fenômeno é o chamado de __tunelamento quântico__. O tunelamendo quântico, assim como vários outros fenômenos quânticos, podem ser pensados como sendo cosequência do aspecto ondulatório dos quantons. No caso do tunelamento quântico, existe um fenômeno ondulatório clássico análogo, que é a chamada __reflexão interna total frustrada__.\n",
    "\n",
    "O tunelamento quântico possui muitas aplicações físicas e tecnológicas: O funcionamento do __olfato__ envolve, em parte, o tunelamento quântico (https://www.ted.com/talks/luca_turin_the_science_of_scent?utm_campaign=tedspread&utm_medium=referral&utm_source=tedcomshare), que tem associado um _espectroscópio_ para medida de frequências de vibrações moleculares. Esse fenômeno também tem outras aplicações tecnológicas importantes tais como o _microscópio de varredura por tunelamento_, o STM (https://www.nobelprize.org/prizes/physics/1986/rohrer/lecture/), o __diodo túnel__ (https://www.nobelprize.org/prizes/physics/1973/esaki/lecture/), as __juncões Josephson__ (https://www.nobelprize.org/prizes/physics/1973/josephson/lecture/), os __relógios atômicos__ (https://cienciahoje.org.br/coluna/se-nao-fosse-o-relogio-atomico/), (https://www.nobelprize.org/uploads/2018/06/hansch-lecture.pdf), etc."
   ]
  },
  {
   "cell_type": "markdown",
   "metadata": {},
   "source": [
    "---\n",
    "# Exercícios\n",
    "\n",
    "$1.$ Dadas as definições $\\sinh(x):=(e^{x}-e^{-x})/2$ e $\\cosh(x):=(e^{x}+e^{-x})/2$, verifique que $\\cosh^{2}(x)-\\sinh^{2}(x)=1$.\n",
    "\n",
    "$2.$ Uma camada de óxido, em um dispositivo semicondutor, forma uma barreira de $0,6\\text{ nm}$ de largura e $9\\text{ eV}$ de altura. Para elétrons acelerados com uma ddp de $4\\text{ V}$, qual é a fração deles que consegue atravessar a barreira? Qual deveria ser a ddp de aceleração para que o valor de $T$ seja o dobro desse valor?\n",
    "\n",
    "$3.$ Faça todos os cálculos necessários para obter o coeficiente de trasmissão para $E>U_{0}$, sob as mesmas condições iniciais usadas nas notas de aula para o caso $E<U_{0}$. Faça um gráfico de $T$ e $R$ versus $E/U_{0}$."
   ]
  }
 ],
 "metadata": {
  "kernelspec": {
   "display_name": "Python 3 (ipykernel)",
   "language": "python",
   "name": "python3"
  },
  "language_info": {
   "codemirror_mode": {
    "name": "ipython",
    "version": 3
   },
   "file_extension": ".py",
   "mimetype": "text/x-python",
   "name": "python",
   "nbconvert_exporter": "python",
   "pygments_lexer": "ipython3",
   "version": "3.12.2"
  }
 },
 "nbformat": 4,
 "nbformat_minor": 4
}
