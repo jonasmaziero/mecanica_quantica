{
 "cells": [
  {
   "cell_type": "markdown",
   "id": "21b643a5",
   "metadata": {},
   "source": [
    "### Notas de aula de Mecânica Quântica <br> Autor: Jonas Maziero"
   ]
  },
  {
   "cell_type": "markdown",
   "id": "47f0ed53",
   "metadata": {},
   "source": [
    "# Fase de Berry\n",
    "A fase geométrica, \n",
    "$$\\gamma_{n}(t)=i\\int_{0}^{t}\\langle E_{n}(t')|\\dot{E}_{n}(t')\\rangle dt',$$\n",
    "que vimos ao estudar o teorema adiabático, ganhou importância com o trabalho de Michael Berry (https://doi.org/10.1098/rspa.1984.0023), e hoje também é chamada de fase de Berry. \n",
    "\n",
    "Para investigar mais a fundo esta fase, vamos considerar que a dependência temporal do hamiltoniano pode ser escrita em termos de um __vetor de parâmetros__ $\\vec{R}_{t}$. Aqui consideraremos somente o caso em que \n",
    "$$\\vec{R}_t\\in\\mathbb{R}^3,$$\n",
    "para evitar complicações com o teorema de Stokes (mas a princípio os resultados serão válidos também para $\\vec{R}_t\\in\\mathbb{R}^n$). Teremos então que \n",
    "$$H_{t} = H_t(\\vec{R}_{t}) \\text{, } E_{n}(t)=E_{n}(\\vec{R}_{t})\\text{ e } |E_{n}(t)\\rangle=|E_{n}(\\vec{R}_{t})\\rangle.$$\n",
    "\n",
    "A seguir, para limpar a notação, vamos usar\n",
    "$$f(\\vec{R}_{t'})\\equiv f\\ \\forall f,\\ \\vec{\\nabla}_{\\vec{R}_{t'}}\\equiv \\vec{\\nabla},\\ E_{m}(t')\\equiv E_{m}.$$\n",
    "\n",
    "Assim\n",
    "\\begin{align}\n",
    "|\\dot{E}_{m}\\rangle & = \\partial_{t'}|E_{n}\\rangle  \\equiv \\frac{d}{dt'}|E_{n}\\rangle \\\\\n",
    "& = \\sum_{j=1}^{3}\\big(\\partial_{X_{j}}|E_{n}\\rangle\\big)\\frac{d X_{j}}{d t'} \\\\\n",
    "& = \\vec{\\nabla}|E_{n}\\rangle\\cdot \\frac{d\\vec{R}_{t'}}{dt'},\n",
    "\\end{align}\n",
    "em que usamos \n",
    "$$\\vec{R}_{t'}=\\big(X_{1}(t'),X_{2}(t'),X_{3}(t')\\big).$$\n",
    "Note que os operadores diferenciais são aplicados componente a componente em um ket."
   ]
  },
  {
   "cell_type": "markdown",
   "id": "5c9c27d3",
   "metadata": {},
   "source": [
    "Com isso, podemos escrever\n",
    "\\begin{align}\n",
    "\\gamma_{n}(t) & = i\\int_{0}^{t}\\langle E_{n}|\\vec{\\nabla}|E_{n}\\rangle\\cdot \\frac{d\\vec{R}_{t'}}{dt'} dt' \\\\\n",
    "& = i\\int_{\\vec{R}_{0}}^{\\vec{R}_{t}}\\langle E_{n}|\\vec{\\nabla}|E_{n}\\rangle\\cdot d\\vec{R}_{t'}.\n",
    "\\end{align}\n",
    "Com isso trocamos a integral temporal pela integral no espaço de parâmetros.\n",
    "\n",
    "Se o intervalo de tempo $t$ é tal que o parâmetro $\\vec{R}$ volta ao seu valor inicial, i.e., se\n",
    "$$\\vec{R}_{t}:=\\vec{R}_{0},$$\n",
    "e definimos um _potencial vetor generalizado_ ou _potencial vetor de Berry_ ou _conexão de Berry_:\n",
    "$$\\vec{\\mathcal{A}}_{n}(\\vec{R}_{t'}) := i\\langle E_{n}|\\vec{\\nabla}|E_{n}\\rangle \\equiv \\vec{\\mathcal{A}}_{n},$$"
   ]
  },
  {
   "cell_type": "markdown",
   "id": "f3395917",
   "metadata": {},
   "source": [
    "teremos que a fase de Berry para um __caminho fechado $C$__ no espaço de parâmetros $\\vec{R}_{t'}$ é\n",
    "\\begin{align}\n",
    "\\gamma_{n}(C) & = \\oint_{C}i\\langle E_{n}|\\vec{\\nabla}|E_{n}\\rangle\\cdot d\\vec{R}_{t'} \\\\\n",
    "& =: \\oint_{C} \\vec{\\mathcal{A}}_{n}\\cdot d\\vec{R}_{t'} \\\\\n",
    "& = \\int_{S}\\big(\\vec{\\nabla}\\times \\vec{\\mathcal{A}}_{n}\\big)\\cdot d\\vec{a} \\\\\n",
    "& =: \\int_{S}\\vec{\\mathcal{B}}_{n}\\cdot d\\vec{a},\n",
    "\\end{align}\n",
    "que pode ser identificada como o fluxo através da superfície $S$, delimitada pelo caminho $C$, no espaço de parâmetros $\\vec{R}$, de um _campo vetorial generalizado_ ou _curvatura de Berry_:\n",
    "$$\\vec{\\mathcal{B}}_{n}(\\vec{R}) := \\vec{\\nabla}_{\\vec{R}}\\times \\vec{\\mathcal{A}}_{n} \\equiv \\vec{\\mathcal{B}}_{n}.$$\n",
    "Acima, na passagem da 2ª para a 3ª igualdade, usamos o __teorema de Stokes__. Vale observar que, assim como fizemos para $\\gamma_{n}(t)$, podemos verificar que $\\vec{\\mathcal{A}}_{n}$ e $\\vec{\\mathcal{B}}_{n}$ são vetores com componentes reais."
   ]
  },
  {
   "cell_type": "markdown",
   "id": "7148bf7e",
   "metadata": {},
   "source": [
    "__Teorema.__ A fase geométrica $\\gamma_{n}(t)$ depende somente da geometria do caminho $C$ percorrido pelo vetor de parâmetros $\\vec{R}(t)$ (por isso o nome fase geométrica). \n",
    "\n",
    "_Prova._ Consideremos que ao percorrer o caminho $C$ os autovetores do hamiltoniano recebam um fator de fase que depende do caminho, i.e.,\n",
    "$$|E_{n}\\rangle \\rightarrow e^{i\\chi}|E_{n}\\rangle,$$\n",
    "com $\\chi=\\chi(\\vec{R})$ sendo uma função escalar qualquer. Temos assim que\n",
    "\\begin{align}\n",
    "\\vec{\\nabla}|E_{n}\\rangle & \\rightarrow \\vec{\\nabla}\\big(e^{i\\chi}|E_{n}\\rangle\\big) \\\\\n",
    "& = i\\big(\\vec{\\nabla}\\chi\\big)e^{i\\chi}|E_{n}\\rangle + e^{i\\chi}\\vec{\\nabla}|E_{n}\\rangle.\n",
    "\\end{align}\n",
    "Com isso, o novo potencial vetor generalizado será\n",
    "\\begin{align}\n",
    "\\vec{\\mathcal{A}}_{n} & \\rightarrow i\\langle E_{n}|e^{-i\\chi}\\vec{\\nabla}\\big(e^{i\\chi}|E_{n}\\rangle\\big) \\\\\n",
    "& = i\\langle E_{n}|e^{-i\\chi}\\Big(i\\big(\\vec{\\nabla}\\chi\\big)e^{i\\chi}|E_{n}\\rangle + e^{i\\chi}\\vec{\\nabla}|E_{n}\\rangle\\Big) \\\\\n",
    "& = - \\vec{\\nabla}\\chi + i\\langle E_{n}|\\vec{\\nabla}|E_{n}\\rangle \\\\\n",
    "& = \\vec{\\mathcal{A}}_{n} - \\vec{\\nabla}\\chi.\n",
    "\\end{align}"
   ]
  },
  {
   "cell_type": "markdown",
   "id": "368ac166",
   "metadata": {},
   "source": [
    "Por conseguinte, o campo vetorial generalizado passa a ser\n",
    "\\begin{align}\n",
    "\\vec{\\mathcal{B}}_{n} & \\rightarrow \\vec{\\nabla}\\times\\big(\\vec{\\mathcal{A}}_{n} - \\vec{\\nabla}\\chi\\big) \\\\\n",
    "& = \\vec{\\nabla}\\times\\vec{\\mathcal{A}}_{n} - \\vec{\\nabla}\\times\\vec{\\nabla}\\chi\\big) \\\\\n",
    "& = \\vec{\\nabla}\\times\\vec{\\mathcal{A}}_{n} - 0 \\\\\n",
    "& = \\vec{\\mathcal{B}}_{n}.\n",
    "\\end{align}\n",
    "Isto implica que a fase geométrica não muda com a mudança de fase $e^{i\\chi}$ dos autovetores de energia:\n",
    "$$\\gamma_{n}(C) \\xrightarrow[]{|E_{n}\\rangle \\rightarrow e^{i\\chi}|E_{n}\\rangle} \\gamma_{n}(C),$$\n",
    "como queríamos demonstrar.\n",
    "<br> $\\square$"
   ]
  },
  {
   "cell_type": "markdown",
   "id": "04956f85",
   "metadata": {},
   "source": [
    "__Equação fundamental para $\\gamma_{n}(C)$__ <br>\n",
    "Para duas funções arbitrárias $f$ e $g$ de $\\mathbb{R}^{3}$, pode-se verificar que \n",
    "$$\\vec{\\nabla}\\times(f\\vec{\\nabla}g) = (\\vec{\\nabla}f)\\times(\\vec{\\nabla}g).$$\n",
    "Usando este resultado, podemos escrever\n",
    "\\begin{align}\n",
    "\\vec{\\mathcal{B}}_{n} &= \\vec{\\nabla}\\times \\vec{\\mathcal{A}}_{n} \\\\\n",
    "& = \\vec{\\nabla}\\times i\\langle E_{n}|\\vec{\\nabla}|E_{n}\\rangle \\\\\n",
    "& = i\\big(\\vec{\\nabla}\\langle E_{n}|\\big)\\times\\big(\\vec{\\nabla}|E_{n}\\rangle\\big) \\\\\n",
    "& = i\\big(\\vec{\\nabla}\\langle E_{n}|\\big)\\sum_{m}|E_{m}\\rangle\\langle E_{m}|\\times\\big(\\vec{\\nabla}|E_{n}\\rangle\\big) \\\\\n",
    "& = i\\sum_{m}\\big(\\vec{\\nabla}\\langle E_{n}|\\big)|E_{m}\\rangle\\times\\langle E_{m}|\\vec{\\nabla}|E_{n}\\rangle \\\\\n",
    "& = i\\sum_{m\\ne n}\\big(\\vec{\\nabla}\\langle E_{n}|\\big)|E_{m}\\rangle\\times\\langle E_{m}|\\vec{\\nabla}|E_{n}\\rangle,\n",
    "\\end{align}\n",
    "pois\n",
    "\\begin{align}\n",
    "& \\vec{\\nabla}\\big(\\langle E_{n}|E_{n}\\rangle\\big) = \\vec{\\nabla}(1) = 0 \\\\\n",
    "& = \\big(\\vec{\\nabla}\\langle E_{n}|\\big)|E_{n}\\rangle + \\langle E_{n}|\\big(\\vec{\\nabla}|E_{n}\\rangle\\big) \\\\\n",
    "& \\therefore \\big(\\vec{\\nabla}\\langle E_{n}|\\big)|E_{n}\\rangle = - \\langle E_{n}|\\big(\\vec{\\nabla}|E_{n}\\rangle\\big) \\\\\n",
    "& \\therefore \\big(\\vec{\\nabla}\\langle E_{n}|\\big)|E_{n}\\rangle\\times\\langle E_{n}|\\vec{\\nabla}|E_{n}\\rangle \\\\\n",
    "& = -\\langle E_{n}|\\vec{\\nabla}|E_{n}\\rangle\\times\\langle E_{n}|\\vec{\\nabla}|E_{n}\\rangle = 0.\n",
    "\\end{align}"
   ]
  },
  {
   "cell_type": "markdown",
   "id": "9665a0ee",
   "metadata": {},
   "source": [
    "Tomando o gradiente de \n",
    "$$H|E_{n}\\rangle=E_{n}|E_{n}\\rangle,$$\n",
    "em que usamos a notação $H(\\vec{R}_{t'})\\equiv H$ e $E_n(\\vec{R}_{t'})\\equiv E_n$, obtemos\n",
    "\\begin{align}\n",
    "& \\big(\\vec{\\nabla}H\\big)|E_{n}\\rangle + H\\big(\\vec{\\nabla}|E_{n}\\rangle\\big) \\\\\n",
    "& = \\big(\\vec{\\nabla}E_{n}\\big)|E_{n}\\rangle + E_{n}\\big(\\vec{\\nabla}|E_{n}\\rangle\\big).\n",
    "\\end{align}\n",
    "Agora, para $m\\ne n$, tomamos o produto interno de $|E_{m}\\rangle$ com esta última equação:\n",
    "\\begin{align}\n",
    "& \\langle E_{m}|\\big(\\vec{\\nabla}H\\big)|E_{n}\\rangle + \\langle E_{m}|H\\big(\\vec{\\nabla}|E_{n}\\rangle\\big) \\\\\n",
    "& = \\langle E_{m}|\\big(\\vec{\\nabla}E_{n}\\big)|E_{n}\\rangle + \\langle E_{m}|E_{m}\\big(\\vec{\\nabla}|E_{n}\\rangle\\big) \\\\\n",
    "& \\therefore \\langle E_{m}|\\big(\\vec{\\nabla}H\\big)|E_{n}\\rangle + E_{m}\\langle E_{m}|\\big(\\vec{\\nabla}|E_{n}\\rangle\\big) \\\\\n",
    "& = \\big(\\vec{\\nabla}E_{n}\\big)\\langle E_{m}|E_{n}\\rangle + E_{n}\\langle E_{m}|\\big(\\vec{\\nabla}|E_{n}\\rangle\\big) \\\\\n",
    "& = 0 + E_{n}\\langle E_{m}|\\big(\\vec{\\nabla}|E_{n}\\rangle\\big) \\\\\n",
    "& \\therefore \\langle E_{m}|\\big(\\vec{\\nabla}|E_{n}\\rangle\\big) = \\frac{\\langle E_{m}|\\big(\\vec{\\nabla}H\\big)|E_{n}\\rangle}{E_{n}-E_{m}}.\n",
    "\\end{align}"
   ]
  },
  {
   "cell_type": "markdown",
   "id": "197f2639",
   "metadata": {},
   "source": [
    "Vem assim que\n",
    "\\begin{align}\n",
    "\\vec{\\mathcal{B}}_{n} & = i\\sum_{m\\ne n}\\big(\\langle E_{m}|\\vec{\\nabla}|E_{n}\\rangle\\big)^{*}\\times\\langle E_{m}|\\vec{\\nabla}|E_{n}\\rangle \\\\\n",
    "& = i\\sum_{m\\ne n}\\frac{\\big(\\langle E_{m}|\\big(\\vec{\\nabla}H\\big)|E_{n}\\rangle\\big)^{*}}{\\big(E_{n}-E_{m}\\big)^{*}}\\times\\frac{\\langle E_{m}|\\big(\\vec{\\nabla}H\\big)|E_{n}\\rangle}{E_{n}-E_{m}} \\\\\n",
    "& = i\\sum_{m\\ne n}\\frac{\\langle E_{n}|\\big(\\vec{\\nabla}H\\big)|E_{m}\\rangle\\times\\langle E_{m}|\\big(\\vec{\\nabla}H\\big)|E_{n}\\rangle}{\\big(E_{n}-E_{m}\\big)^{2}}\n",
    "\\end{align}\n",
    "Com isso a fase de Berry fica escrita como\n",
    "$$\\gamma_{n}(C) = \\int_{S}i\\sum_{m\\ne n}\\frac{\\langle E_{n}|\\big(\\vec{\\nabla}H\\big)|E_{m}\\rangle\\times\\langle E_{m}|\\big(\\vec{\\nabla}H\\big)|E_{n}\\rangle}{\\big(E_{n}-E_{m}\\big)^{2}}\\cdot d\\vec{a}.$$\n",
    "Segundo Berry, essa equação contém o seu principal resultado. Ela é difícil de interpretar, mas uma característica que aparece evidentemente é que $\\gamma_{n}(C)$ está relacionada com a soma da projeção do vetor no integrando sobro um elemento de área, varendo a superfície $S$ no espaço de parâmetros."
   ]
  },
  {
   "cell_type": "markdown",
   "id": "b4aa203e",
   "metadata": {},
   "source": [
    "### Exemplo: Fase de Berry para spin 1/2\n",
    "Consideremos novamente uma partícula de spin 1/2 sujeita a um campo magnético que varia lentamente com o tempo em um cone com eixo sendo o eixo z, como no exemplo apresentado no estudo do teorema adiabático. No regime adiabático, $\\omega\\ll \\omega_{1}$, temos que\n",
    "\\begin{align}\n",
    "\\lambda & = \\sqrt{\\omega^{2}+\\omega_{1}^{2}-2\\omega\\omega_{1}\\cos\\alpha} \\\\\n",
    "& = \\omega_{1}\\sqrt{1-2(\\omega/\\omega_{1})\\cos\\alpha} \\\\\n",
    "& \\approx \\omega_{1}\\big(1-(1/2)2(\\omega/\\omega_{1})\\cos\\alpha\\big) \\\\\n",
    "& = \\omega_{1} - \\omega\\cos\\alpha.\n",
    "\\end{align}"
   ]
  },
  {
   "cell_type": "code",
   "execution_count": 3,
   "id": "13b973a5",
   "metadata": {},
   "outputs": [
    {
     "data": {
      "text/latex": [
       "$\\displaystyle 1 - \\frac{x}{2} - \\frac{x^{2}}{8} - \\frac{x^{3}}{16} - \\frac{5 x^{4}}{128} - \\frac{7 x^{5}}{256} + O\\left(x^{6}\\right)$"
      ],
      "text/plain": [
       "1 - x/2 - x**2/8 - x**3/16 - 5*x**4/128 - 7*x**5/256 + O(x**6)"
      ]
     },
     "execution_count": 3,
     "metadata": {},
     "output_type": "execute_result"
    }
   ],
   "source": [
    "from sympy import symbols, series, sqrt\n",
    "x = symbols('x'); series(sqrt(1-x))"
   ]
  },
  {
   "cell_type": "markdown",
   "id": "0376086b",
   "metadata": {},
   "source": [
    "Das eqs. $(\\square)$ das notas de aula sobre o teorema adiabático, pode-se escrever os autovetores do Hamiltoniano dependente do tempo como segue:\n",
    "\\begin{align}\n",
    "& |z_{+}\\rangle = \\cos(\\alpha/2)|\\chi_{+}(t)\\rangle + e^{i\\omega t}\\sin(\\alpha/2)|\\chi_{-}(t)\\rangle, \\\\\n",
    "& |z_{-}\\rangle = e^{-i\\omega t}\\sin(\\alpha/2)|\\chi_{+}(t)\\rangle - \\cos(\\alpha/2)|\\chi_{-}(t)\\rangle.\n",
    "\\end{align}\n",
    "Com isso, usando a aproximação adiabática ($\\lambda\\approx \\omega_1$), o estado evoluído da eq. $(\\triangle)$ pode ser escrito como\n",
    "\\begin{align}\n",
    "|\\psi_{t}\\rangle = & \\big(\\cos(\\lambda t/2)-i((\\omega_{1}-\\omega)/\\lambda)\\sin(\\lambda t/2)\\big)\\cos(\\alpha/2)e^{-i\\omega t/2}\\big(\\cos(\\alpha/2)|\\chi_{+}(t)\\rangle + e^{i\\omega t}\\sin(\\alpha/2)|\\chi_{-}(t)\\rangle\\big) \\\\\n",
    "& + \\big(\\cos(\\lambda t/2)-i((\\omega_{1}+\\omega)/\\lambda)\\sin(\\lambda t/2)\\big)\\sin(\\alpha/2)e^{+i\\omega t/2}\\big(e^{-i\\omega t}\\sin(\\alpha/2)|\\chi_{+}(t)\\rangle - \\cos(\\alpha/2)|\\chi_{-}(t)\\rangle\\big) \\\\\n",
    " = & \\big(\\cos(\\lambda t/2)-i((\\omega_{1}-\\omega\\cos\\alpha)/\\lambda)\\sin(\\lambda t/2)\\big)e^{-i\\omega t/2}|\\chi_{+}(t)\\rangle \\\\\n",
    " & + \\big(0-i((0-\\omega\\sin\\alpha)/\\lambda)\\sin(\\lambda t/2)\\big)e^{i\\omega t/2}|\\chi_{-}(t)\\rangle \\\\\n",
    " \\approx & e^{-i\\lambda t/2}e^{-i\\omega t/2}|\\chi_{+}(t)\\rangle + i\\frac{\\omega}{\\omega_{1}}\\sin\\alpha\\sin(\\omega_{1} t/2)e^{i\\omega t/2}|\\chi_{-}(t)\\rangle \\\\\n",
    " \\approx & e^{-i(\\omega_{1} - \\omega\\cos\\alpha)t/2}e^{-i\\omega t/2}|\\chi_{+}(t)\\rangle + 0 \\\\\n",
    " =& e^{i\\gamma_{+}(t)}e^{i\\theta_{+}(t)}|\\chi_{+}(t)\\rangle,\n",
    "\\end{align}\n",
    "em que usamos $\\omega/\\omega_1\\ll1$ e que $\\lambda\\approx \\omega_{1} - \\omega\\cos\\alpha.$"
   ]
  },
  {
   "cell_type": "markdown",
   "id": "bb57925b",
   "metadata": {},
   "source": [
    "Como $E_{+}(t)=\\hbar\\omega_{1}/2$, a fase dinâmica é\n",
    "$$\\theta_{+}(t) = -\\frac{1}{\\hbar}\\int_{0}^{t}E_{+}(t')dt' = -\\frac{1}{\\hbar}\\int_{0}^{t}\\frac{\\hbar\\omega_{1}}{2}dt' = -\\frac{\\omega_{1}t}{2}.$$\n",
    "Assim, a fase geométrica é identificada com\n",
    "$$\\gamma_{+}(t) = \\frac{(\\cos\\alpha-1)\\omega t}{2}.$$\n",
    "Para uma precessão completa do campo magnético, \n",
    "$$t=\\frac{2\\pi}{\\omega}\\ \\therefore\\ \\vec{B}_0 = \\vec{B}_{\\frac{2\\pi}{\\omega}},$$\n",
    "a fase de Berry tem o seguinte valor\n",
    "$$\\gamma_{+}(t=2\\pi/\\omega) = \\gamma(C) = (\\cos\\alpha-1)\\pi.$$\n",
    "\n",
    "Agora vamos fazer o cálculo usando as expressões estudadas acima. Vamos considerar o mesmo exemplo, mas agora com um campo magnético que percorre uma __curva arbitrária__. Lembre que $\\gamma_{n}(C) = \\int_{S}\\vec{\\mathcal{B}}_{n}\\cdot d\\vec{a}$ com $\\vec{\\mathcal{B}}_{n}=\\vec{\\nabla}\\times\\vec{\\mathcal{A}}_{n}$ e $\\vec{\\mathcal{A}}_{n} := i\\langle E_{n}|\\vec{\\nabla}|E_{n}\\rangle.$ O estado para qualquer tempo pode ser escrito na forma geral\n",
    "$$|\\chi_{+}\\rangle = \\cos(\\theta/2)|z_{+}\\rangle + e^{i\\phi}\\sin(\\theta/2)|z_{-}\\rangle.$$\n",
    "Usando o operador nabla em coordenadas esféricas, \n",
    "$$\\vec{\\nabla} = \\hat{r}\\partial_{r}+\\hat{\\theta}r^{-1}\\partial_{\\theta} + \\hat{\\phi}r^{-1}\\sin^{-1}\\theta\\partial_{\\phi},$$\n",
    "teremos que\n",
    "\\begin{align}\n",
    "\\vec{\\nabla}|\\chi_{+}\\rangle & = \\vec{\\nabla}\\big(\\cos(\\theta/2)\\big)|z_{+}\\rangle + \\vec{\\nabla}\\big(e^{i\\phi}\\sin(\\theta/2)\\big)|z_{-}\\rangle \\\\\n",
    "& = \\big(0-\\hat{\\theta}r^{-1}\\sin(\\theta/2)(1/2) + 0\\big)|z_{+}\\rangle + \\big(0 + \\hat{\\theta}r^{-1}e^{i\\phi}\\cos(\\theta/2)(1/2) + \\hat{\\phi}r^{-1}\\sin^{-1}\\theta e^{i\\phi}i\\sin(\\theta/2)\\big)|z_{-}\\rangle \\\\\n",
    "& = -\\hat{\\theta}\\frac{\\sin(\\theta/2)}{2r}|z_{+}\\rangle + \\frac{e^{i\\phi}}{r}\\Big(\\hat{\\theta}\\cos(\\theta/2)/2 + \\hat{\\phi}i\\sin^{-1}(\\theta)\\sin(\\theta/2)\\big)|z_{-}\\rangle.\n",
    "\\end{align}"
   ]
  },
  {
   "cell_type": "markdown",
   "id": "1c6d8977",
   "metadata": {},
   "source": [
    "Assim a conexão de Berry fica escrita como \n",
    "\\begin{align}\n",
    "\\vec{\\mathcal{A}} & = i\\langle\\chi_{+}|\\vec{\\nabla}|\\chi_{+}\\rangle \\\\\n",
    "& = -i\\hat{\\theta}\\frac{\\sin(\\theta/2)\\cos(\\theta/2)}{2r} + i\\frac{1}{r}\\Big(\\hat{\\theta}\\sin(\\theta/2)\\cos(\\theta/2)/2 + \\hat{\\phi}i\\sin^{-1}(\\theta)\\sin^{2}(\\theta/2)\\big) \\\\\n",
    " & = -i\\hat{\\theta}\\frac{\\sin(\\theta)}{4r} + i\\frac{1}{r}\\Big(\\hat{\\theta}\\sin(\\theta)/4 + \\hat{\\phi}i\\sin^{-1}(\\theta)\\sin^{2}(\\theta/2)\\big) \\\\\n",
    "& = -\\hat{\\phi}\\frac{\\sin^{2}(\\theta/2)}{r\\sin\\theta}.\n",
    "\\end{align}\n",
    "Usando o rotacional em coordenadas esféricas, \n",
    "\\begin{align}\n",
    "\\vec{\\nabla}\\times\\vec{A} = & r^{-1}\\sin^{-1}\\theta\\big(\\partial_{\\theta}(A_{\\phi}\\sin\\theta)-\\partial_{\\phi}A_{\\theta}\\big)\\hat{r} + r^{-1}\\big(\\sin^{-1}\\theta\\partial_{\\phi}A_{r}-\\partial_{r}(rA_{\\phi})\\big)\\hat{\\theta} \\\\\n",
    "& + r^{-1}\\big(\\partial_{r}(rA_{\\theta})-\\partial_{\\theta}A_{r}\\big)\\hat{\\phi},\n",
    "\\end{align}\n",
    "teremos que a curvatura de Berry é dada por\n",
    "\\begin{align}\n",
    "\\vec{\\mathcal{B}} & = \\vec{\\nabla}\\times\\vec{\\mathcal{A}} \\\\\n",
    "& = -\\frac{1}{r\\sin\\theta}\\frac{\\partial}{\\partial \\theta}\\Big(\\sin\\theta  \\frac{\\sin^{2}(\\theta/2)}{r\\sin\\theta}\\Big)\\hat{r}  + 0\\hat{\\theta} + 0\\hat{\\phi} \\\\\n",
    " & = -\\frac{1}{\\sin\\theta}\\Big(2\\sin(\\theta/2)\\cos(\\theta/2)(1/2)\\Big)\\frac{1}{r^{2}}\\hat{r}  \\\\\n",
    " & = -\\frac{1}{2r^{2}}\\hat{r}.\n",
    "\\end{align}"
   ]
  },
  {
   "cell_type": "markdown",
   "id": "ec68bc82",
   "metadata": {},
   "source": [
    "Com isso, vem que\n",
    "\\begin{align}\n",
    "\\gamma_{+}(C) & = \\int_{S}\\vec{\\mathcal{B}}\\cdot d\\vec{a} = -\\int_{S}\\frac{1}{2r^{2}}\\hat{r}\\cdot r^{2}d\\Omega\\hat{r} \\\\\n",
    "& = -\\frac{\\Omega}{2},\n",
    "\\end{align}\n",
    "em que $\\Omega$ é o ângulo sólido subentendido pelo vetor campo magnético em torno da origem. Portanto _a fase de Berry é proporcional ao ângulo sólido transcorrido pelo vetor de parâmetros_.\n",
    "\n",
    "Deste resultado geral, podemos obter o resultado particular acima, pois\n",
    "\\begin{align}\n",
    "\\Omega & = \\int d\\Omega = \\int_{0}^{2\\pi}\\int_{0}^{\\alpha}\\sin\\theta d\\theta d\\phi = 2\\pi\\big(-\\cos\\theta\\big)_{0}^{\\alpha} \\\\\n",
    "& = 2\\pi(-\\cos\\alpha+1).\n",
    "\\end{align}\n",
    "Assim\n",
    "$$\\gamma_{+}(C) = -\\frac{2\\pi(-\\cos\\alpha+1)}{2} = \\pi(\\cos\\alpha-1),$$\n",
    "que é o mesmo resultado que obtivemos explicitamente acima."
   ]
  },
  {
   "cell_type": "markdown",
   "id": "72114708",
   "metadata": {},
   "source": [
    "---\n",
    "## Exercícios\n",
    "\n",
    "$1.$ Para duas funções arbitrárias $f$ e $g$ de $\\mathbb{R}^{3}$, verifique que\n",
    "$$\\vec{\\nabla}\\times(f\\vec{\\nabla}g) = (\\vec{\\nabla}f)\\times(\\vec{\\nabla}g).$$\n",
    "\n",
    "$2.$ No contexto da fase de Berry, verifique que $\\vec{A}_{n}(\\vec{R})$ e $\\vec{B}_{n}(\\vec{R})$ são vetores reais (de $\\mathbb{R}^{3}$)."
   ]
  },
  {
   "cell_type": "markdown",
   "id": "12378c9d",
   "metadata": {},
   "source": [
    "---\n",
    "### Referências\n",
    "\n",
    "1. GRIFFITHS, D. J. Introduction to Quantum Mechanics. Prentice Hall, Upper Saddle River: 2005.\n",
    "\n",
    "1. MESSIAH, A. Quantum Mechanics. Dover, Mineola: 1999."
   ]
  }
 ],
 "metadata": {
  "kernelspec": {
   "display_name": "Python 3 (ipykernel)",
   "language": "python",
   "name": "python3"
  },
  "language_info": {
   "codemirror_mode": {
    "name": "ipython",
    "version": 3
   },
   "file_extension": ".py",
   "mimetype": "text/x-python",
   "name": "python",
   "nbconvert_exporter": "python",
   "pygments_lexer": "ipython3",
   "version": "3.12.2"
  }
 },
 "nbformat": 4,
 "nbformat_minor": 5
}
