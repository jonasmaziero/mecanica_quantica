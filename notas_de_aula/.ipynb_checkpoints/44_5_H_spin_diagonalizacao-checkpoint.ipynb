{
 "cells": [
  {
   "cell_type": "markdown",
   "id": "a1794c48-c294-4c0b-997f-3376f6470ba0",
   "metadata": {},
   "source": [
    "## Notas de aula de Mecânica Quântica <br> Autor: Jonas Maziero"
   ]
  },
  {
   "cell_type": "markdown",
   "id": "57e6e40a-1593-4615-901a-fe9846c3df1b",
   "metadata": {},
   "source": [
    "# Diagonalização de Hamiltonianos de spin 1D\n",
    "\n",
    "## Modelos XY, XX e Ising\n",
    "O modelo XY é dado pelo Hamiltoniano\n",
    "$$H_{XY} = -\\frac{J}{2}\\sum_{j=1}^{L-1} \\Big((1+\\gamma)\\sigma_j^x\\sigma_{j+1}^x + (1-\\gamma)\\sigma_j^y\\sigma_{j+1}^y\\Big) -g\\sum_{j=1}^L \\sigma_j^z,$$\n",
    "em que $J$ é a interação de troca no plano $xy$, o parâmetro \n",
    "$$\\gamma\\in[0,1]$$\n",
    "dita a anisotropia dessa interação de troca e $g$ é a intensidade do campo magnético transverso, aplicado na direção $z$.\n",
    "\n",
    "Ao fazer $\\gamma=0$ obtemos o modelo $XX$:\n",
    "$$H_{XX} = H_{XY}(\\gamma=0) = -\\frac{J}{2}\\sum_{j=1}^{L-1} \\Big(\\sigma_j^x\\sigma_{j+1}^x + \\sigma_j^y\\sigma_{j+1}^y\\Big) -g\\sum_{j=1}^L \\sigma_j^z.$$\n",
    "\n",
    "Ao fazer $\\gamma=1$ obtemos o modelo de Ising em um campo transverso (TFIM) ou hamiltoniano quântico de Ising (IQ):\n",
    "$$H_{IQ} = H_{XY}(\\gamma=1) = -J\\sum_{j=1}^{L-1}\\sigma_j^x\\sigma_{j+1}^x -g\\sum_{j=1}^L \\sigma_j^z.$$"
   ]
  },
  {
   "cell_type": "markdown",
   "id": "b035b4ef-0707-4760-8676-bacefda91247",
   "metadata": {},
   "source": [
    "## Hamiltonianos em termos dos operadores escada de spin\n",
    "\n",
    "Seguindo a referência 1, vamos definir os operadores escada para spins como\n",
    "$$\\sigma_j^\\pm := 2^{-1}\\big(\\sigma_j^x \\pm i\\sigma_j^y\\big)\\ \\therefore\\ \\sigma_j^x = \\sigma_j^+ + \\sigma_j^-,\\ \\sigma_j^y = -i(\\sigma_j^+ - \\sigma_j^-)$$\n",
    "e \n",
    "$$\\sigma_j^z = 2\\sigma_j^+\\sigma_j^- - I.$$\n",
    "\n",
    "Com isso, vem que\n",
    "\\begin{align}\n",
    "H_{XY} & = -\\frac{J}{2}\\sum_{j=1}^{L-1} \\Big((1+\\gamma)\\sigma_j^x\\sigma_{j+1}^x + (1-\\gamma)\\sigma_j^y\\sigma_{j+1}^y\\Big) -g\\sum_{j=1}^L \\sigma_j^z \\\\\n",
    "& = -\\frac{J}{2}\\sum_{j=1}^{L-1} \\Big((1+\\gamma)(\\sigma_j^+ + \\sigma_j^-)(\\sigma_{j+1}^+ + \\sigma_{j+1}^-) + (1-\\gamma)(-i)(\\sigma_j^+ - \\sigma_j^-)(-i)(\\sigma_{j+1}^+ - \\sigma_{j+1}^-)\\Big) -g\\sum_{j=1}^L (2\\sigma_j^+\\sigma_j^- - I) \\\\\n",
    "& = -\\frac{J}{2}\\sum_{j=1}^{L-1} \\Big((1+\\gamma)(\\sigma_j^+\\sigma_{j+1}^+ + \\sigma_j^+\\sigma_{j+1}^- + \\sigma_j^-\\sigma_{j+1}^+ + \\sigma_j^-\\sigma_{j+1}^-) \\\\\n",
    "& \\hspace{2cm} - (1-\\gamma)(-i)(\\sigma_j^+\\sigma_{j+1}^+ - \\sigma_j^+\\sigma_{j+1}^- - \\sigma_j^-\\sigma_{j+1}^+ + \\sigma_j^-\\sigma_{j+1}^-)\\Big) -2g\\sum_{j=1}^L \\sigma_j^+\\sigma_j^- + g\\sum_{j=1}^L I \\\\\n",
    "& = - J\\sum_{j=1}^{L-1}\\Big(\\sigma_j^+\\sigma_{j+1}^- + \\sigma_j^-\\sigma_{j+1}^+ + \\gamma\\big(\\sigma_j^+\\sigma_{j+1}^+ + \\sigma_j^-\\sigma_{j+1}^-\\big)\\Big) -2g\\sum_{j=1}^L \\sigma_j^+\\sigma_j^-,\n",
    "\\end{align}\n",
    "em o termo proporcional a identidade, $g\\sum_{j=1}^L I$, foi desconsiderado. Isso é feito pois esse termo só desloca as energias (não muda os autovetores), e estamos interessados somente em diferenças de energia.\n",
    "\n",
    "Os casos particulareso dos hamiltoniano XX e Ising são\n",
    "\\begin{align}\n",
    "H_{XX} & = - J\\sum_{j=1}^{L-1}\\Big(\\sigma_j^+\\sigma_{j+1}^- + \\sigma_j^-\\sigma_{j+1}^+\\Big) -2g\\sum_{j=1}^L \\sigma_j^+\\sigma_j^-, \\\\\n",
    "H_{IQ} & = - J\\sum_{j=1}^{L-1}\\Big(\\sigma_j^+\\sigma_{j+1}^- + \\sigma_j^-\\sigma_{j+1}^+ + \\sigma_j^+\\sigma_{j+1}^+ + \\sigma_j^-\\sigma_{j+1}^-\\Big) -2g\\sum_{j=1}^L \\sigma_j^+\\sigma_j^-.\n",
    "\\end{align}"
   ]
  },
  {
   "cell_type": "markdown",
   "id": "0884bc93-a76f-4873-b590-075cd94be5c3",
   "metadata": {},
   "source": [
    "## Transformada de Jordan-Wigner\n",
    "\n",
    "Como já discutimos, embora a álgebra dos operadores escada fermiônicos $(a_j^2=0,\\ \\{a_j,a_j^\\dagger\\}=I)$ é similar à álgebra dos operadores escada de spin $((\\sigma_j^-)^2=0,\\ \\{\\sigma_j^-,\\sigma_j^+\\}=I)$ para um único \"sítio\", quando consideramos \"sítios\" diferentes, enquanto os operadores fermiônicos anticomutam $(\\{a_j,a_k^\\dagger\\}=0\\ \\therefore\\ a_j a_k^\\dagger = -a_k^\\dagger a_j)$ os operadores de spin comutam $([\\sigma_j^-,\\sigma_k^+]=0\\ \\therefore\\ \\sigma_j^-\\sigma_k^+=\\sigma_j^+\\sigma_k^-)$.\n",
    "\n",
    "Uma forma de obter uma mapa com ação equivalente para operadores fermiônicos e de spin, podemos usar, por exemplo, a transformada de Jordan-Wigner (TJW):\n",
    "$$a_j := \\Big(\\Pi_{k=1}^{j-1}(-\\sigma_k^z)\\Big)\\sigma_j^- = (-\\sigma_1^z)\\cdots(-\\sigma_{j-1}^z)\\sigma_j^-,$$\n",
    "em que introduzimos o operador string\n",
    "$$\\Big(\\Pi_{k=1}^{j-1}(-\\sigma_k^z)\\Big) = (-\\sigma_1^z)\\cdots(-\\sigma_{j-1}^z)$$\n",
    "para corrigir o sinal que aparece quando trocamos as ordens de aplicação de operadores fermiônicos.\n",
    "\n",
    "Como os operadores de spin atuam em um espaço produto tensorial dos espaços individuais\n",
    "$$\\mathcal{H}_1\\otimes\\cdots\\otimes\\mathcal{H}_{j-1}\\otimes\\mathcal{H}_j\\otimes\\mathcal{H}_{j+1}\\otimes\\cdots\\otimes\\mathcal{H}_L,$$\n",
    "e\n",
    "$$(A\\otimes B)^\\dagger = A^\\dagger\\otimes B^\\dagger,$$\n",
    "vem que\n",
    "\\begin{align}\n",
    "a_j^\\dagger & := \\big((-\\sigma_1^z)\\otimes\\cdots\\otimes(-\\sigma_{j-1}^z)\\otimes\\sigma_j^-\\big)^\\dagger \\\\\n",
    "& = (-\\sigma_1^z)^\\dagger \\otimes\\cdots\\otimes(-\\sigma_{j-1}^z)^\\dagger \\otimes(\\sigma_j^-)^\\dagger \\\\\n",
    "& = (-\\sigma_1^z) \\otimes\\cdots\\otimes(-\\sigma_{j-1}^z) \\otimes \\sigma_j^+ \\\\\n",
    "& = \\Big(\\Pi_{k=1}^{j-1}(-\\sigma_k^z)\\Big)\\sigma_j^+.\n",
    "\\end{align}"
   ]
  },
  {
   "cell_type": "markdown",
   "id": "b986f136-8560-4ebd-9d08-1fa18d954fcb",
   "metadata": {},
   "source": [
    "### Mapa entre álgebras\n",
    "\n",
    "Claro, precisamos verificar se esses operadores $a_j,a_j^\\dagger$ satisfazem as relações canônicas de comutação para férmions (RCCF):\n",
    "\\begin{align}\n",
    "\\{a_j,a_j\\} & = a_j a_j + a_j a_j = 2a_j^2 \\\\\n",
    "& = 2\\big((-\\sigma_1^z) \\otimes\\cdots\\otimes(-\\sigma_{j-1}^z) \\otimes \\sigma_j^-\\big)\\big((-\\sigma_1^z) \\otimes\\cdots\\otimes(-\\sigma_{j-1}^z) \\otimes \\sigma_j^-\\big) \\\\\n",
    "& = 2(-\\sigma_1^z)^2 \\otimes\\cdots\\otimes(-\\sigma_{j-1}^z)^2 \\otimes (\\sigma_j^-)^2 \\\\\n",
    "& = 2I \\otimes\\cdots\\otimes I \\otimes 0_{\\mathcal{H}_j} \\\\\n",
    "& = 0_{\\mathcal{H}_1\\otimes\\cdots\\otimes\\mathcal{H}_j},\n",
    "\\end{align}\n",
    "em que usamos\n",
    "\\begin{align}\n",
    "(\\sigma^z)^2 & = \\begin{bmatrix}1&0\\\\0&-1\\end{bmatrix}\\begin{bmatrix}1&0\\\\0&-1\\end{bmatrix} = \\begin{bmatrix}1&0\\\\0&1\\end{bmatrix} = I, \\\\\n",
    "(\\sigma^-)^2 & = \\begin{bmatrix}0&0\\\\1&0\\end{bmatrix}\\begin{bmatrix}0&0\\\\1&0\\end{bmatrix} = \\begin{bmatrix}0&0\\\\0&0\\end{bmatrix} = 0.\n",
    "\\end{align}"
   ]
  },
  {
   "cell_type": "markdown",
   "id": "097387b1-ef19-409f-83e4-ccd02e8da993",
   "metadata": {},
   "source": [
    "Sem perda de generalidade, consideramos\n",
    "$k>j$\n",
    "e escrevemos\n",
    "\\begin{align}\n",
    "a_j & = (-\\sigma_1^z)\\otimes\\cdots\\otimes(-\\sigma_{j-1}^z)\\otimes\\sigma_j^-\\otimes I_{j+1}\\otimes\\cdots\\otimes I_{k-1}\\otimes I_k, \\\\\n",
    "a_k & = (-\\sigma_1^z)\\otimes\\cdots\\otimes(-\\sigma_{j-1}^z)\\otimes(-\\sigma_j^z)\\otimes (-\\sigma_{j+1}^z)\\otimes\\cdots\\otimes (-\\sigma_{k-1}^z)\\otimes \\sigma_k^-, \\\\\n",
    "a_k^\\dagger & = (-\\sigma_1^z)\\otimes\\cdots\\otimes(-\\sigma_{j-1}^z)\\otimes(-\\sigma_j^z)\\otimes (-\\sigma_{j+1}^z)\\otimes\\cdots\\otimes (-\\sigma_{k-1}^z)\\otimes \\sigma_k^+.\n",
    "\\end{align}\n",
    "\n",
    "Teremos assim que\n",
    "\\begin{align}\n",
    "\\{a_j,a_k\\} & = a_j a_k + a_k a_j \\\\\n",
    "& = \\big((-\\sigma_1^z)\\otimes\\cdots\\otimes(-\\sigma_{j-1}^z)\\otimes\\sigma_j^-\\otimes I_{j+1}\\otimes\\cdots\\otimes I_{k-1}\\otimes I_k\\big)\\big((-\\sigma_1^z)\\otimes\\cdots\\otimes(-\\sigma_{j-1}^z)\\otimes(-\\sigma_j^z)\\otimes (-\\sigma_{j+1}^z)\\otimes\\cdots\\otimes (-\\sigma_{k-1}^z)\\otimes \\sigma_k^-\\big) \\\\\n",
    "& + \\big((-\\sigma_1^z)\\otimes\\cdots\\otimes(-\\sigma_{j-1}^z)\\otimes(-\\sigma_j^z)\\otimes (-\\sigma_{j+1}^z)\\otimes\\cdots\\otimes (-\\sigma_{k-1}^z)\\otimes \\sigma_k^-\\big)\\big((-\\sigma_1^z)\\otimes\\cdots\\otimes(-\\sigma_{j-1}^z)\\otimes\\sigma_j^-\\otimes I_{j+1}\\otimes\\cdots\\otimes I_{k-1}\\otimes I_k\\big) \\\\\n",
    "& = I_1\\otimes\\cdots\\otimes I_{j-1}\\otimes(-\\sigma_j^-\\sigma_j^z)\\otimes (-\\sigma_{j+1}^z)\\otimes\\cdots\\otimes (-\\sigma_{k-1}^z)\\otimes \\sigma_k^- + I_1\\otimes\\cdots\\otimes I_{j-1}\\otimes(-\\sigma_j^z\\sigma_j^-)\\otimes (-\\sigma_{j+1}^z)\\otimes\\cdots\\otimes (-\\sigma_{k-1}^z)\\otimes \\sigma_k^- \\\\\n",
    "& = -I_1\\otimes\\cdots\\otimes I_{j-1}\\otimes(\\sigma_j^-\\sigma_j^z+\\sigma_j^z\\sigma_j^-)\\otimes (-\\sigma_{j+1}^z)\\otimes\\cdots\\otimes (-\\sigma_{k-1}^z)\\otimes \\sigma_k^- \\\\\n",
    "& = -I_1\\otimes\\cdots\\otimes I_{j-1}\\otimes 0_{\\mathcal{H}_j}\\otimes (-\\sigma_{j+1}^z)\\otimes\\cdots\\otimes (-\\sigma_{k-1}^z)\\otimes \\sigma_k^- \\\\\n",
    "& = 0_{\\mathcal{H}_1\\otimes\\cdots\\otimes\\mathcal{H}_k},\n",
    "\\end{align}\n",
    "em que usamos\n",
    "\\begin{align}\n",
    "\\{\\sigma^z,\\sigma^-\\} = 2^{-1}\\{\\sigma^z,\\sigma^x -i\\sigma^y\\} = 0\n",
    "\\end{align}\n",
    "pois as matrizes de Pauli anticomutam."
   ]
  },
  {
   "cell_type": "markdown",
   "id": "b555d814-1fd2-41c2-9e93-5c3777a2caeb",
   "metadata": {},
   "source": [
    "De forma análoga teremos que\n",
    "\\begin{align}\n",
    "\\{a_j,a_k^\\dagger\\} & = a_j a_k^\\dagger + a_k^\\dagger a_j \\\\\n",
    "& = \\big((-\\sigma_1^z)\\otimes\\cdots\\otimes(-\\sigma_{j-1}^z)\\otimes\\sigma_j^-\\otimes I_{j+1}\\otimes\\cdots\\otimes I_{k-1}\\otimes I_k\\big)\\big((-\\sigma_1^z)\\otimes\\cdots\\otimes(-\\sigma_{j-1}^z)\\otimes(-\\sigma_j^z)\\otimes (-\\sigma_{j+1}^z)\\otimes\\cdots\\otimes (-\\sigma_{k-1}^z)\\otimes \\sigma_k^+\\big) \\\\\n",
    "& + \\big((-\\sigma_1^z)\\otimes\\cdots\\otimes(-\\sigma_{j-1}^z)\\otimes(-\\sigma_j^z)\\otimes (-\\sigma_{j+1}^z)\\otimes\\cdots\\otimes (-\\sigma_{k-1}^z)\\otimes \\sigma_k^+\\big)\\big((-\\sigma_1^z)\\otimes\\cdots\\otimes(-\\sigma_{j-1}^z)\\otimes\\sigma_j^-\\otimes I_{j+1}\\otimes\\cdots\\otimes I_{k-1}\\otimes I_k\\big) \\\\\n",
    "& = I_1\\otimes\\cdots\\otimes I_{j-1}\\otimes(-\\sigma_j^-\\sigma_j^z)\\otimes (-\\sigma_{j+1}^z)\\otimes\\cdots\\otimes (-\\sigma_{k-1}^z)\\otimes \\sigma_k^+ + I_1\\otimes\\cdots\\otimes I_{j-1}\\otimes(-\\sigma_j^z\\sigma_j^-)\\otimes (-\\sigma_{j+1}^z)\\otimes\\cdots\\otimes (-\\sigma_{k-1}^z)\\otimes \\sigma_k^+ \\\\\n",
    "& = -I_1\\otimes\\cdots\\otimes I_{j-1}\\otimes(\\sigma_j^-\\sigma_j^z+\\sigma_j^z\\sigma_j^-)\\otimes (-\\sigma_{j+1}^z)\\otimes\\cdots\\otimes (-\\sigma_{k-1}^z)\\otimes \\sigma_k^+ \\\\\n",
    "& = -I_1\\otimes\\cdots\\otimes I_{j-1}\\otimes 0_{\\mathcal{H}_j}\\otimes (-\\sigma_{j+1}^z)\\otimes\\cdots\\otimes (-\\sigma_{k-1}^z)\\otimes \\sigma_k^+ \\\\\n",
    "& = 0_{\\mathcal{H}_1\\otimes\\cdots\\otimes\\mathcal{H}_k}.\n",
    "\\end{align}"
   ]
  },
  {
   "cell_type": "markdown",
   "id": "e5d6312c-f04b-41c8-b907-51a348d2a562",
   "metadata": {},
   "source": [
    "Também podemos obter expressões envolvendo o produto de operadores fermiônicos escritos em termos do produto tensorial de operadores de spin. Temos por exemplo que\n",
    "\\begin{align}\n",
    "a_j^\\dagger a_j & = \\big((-\\sigma_1^z)\\otimes\\cdots\\otimes(-\\sigma_{j-1}^z)\\otimes\\sigma_j^+\\big)\\big((-\\sigma_1^z)\\otimes\\cdots\\otimes(-\\sigma_{j-1}^z)\\otimes\\sigma_j^-\\big) \\\\\n",
    "& = (-\\sigma_1^z)^2\\otimes\\cdots\\otimes(-\\sigma_{j-1}^z)^2\\otimes\\sigma_j^+\\sigma_j^- \\\\\n",
    "& = I_1\\otimes\\cdots\\otimes I_{j-1}\\otimes\\sigma_j^+\\sigma_j^- \\\\\n",
    "& = \\sigma_j^+\\sigma_j^-.\n",
    "\\end{align}\n",
    "Do mesmo modo pode-se mostrar que\n",
    "$$a_j a_j^\\dagger = \\sigma_j^-\\sigma_j^+,$$\n",
    "o que, como esperado, nos retorna a equivalência das álgebras em cada sítio:\n",
    "$$\\{a_j,a_j^\\dagger\\} = \\{\\sigma_j^-,\\sigma_j^+\\} = I_j.$$"
   ]
  },
  {
   "cell_type": "markdown",
   "id": "4b9b07c8-8f4e-426a-b13f-d2564bdbf806",
   "metadata": {},
   "source": [
    "### Mapa entre estados\n",
    "\n",
    "Para os mapas em relação ao estados, consideramos que\n",
    "$$\\sigma_j^z|\\sigma_j\\rangle = \\sigma_j|\\sigma_j\\rangle$$\n",
    "com\n",
    "$$\\sigma_j = \\pm 1.$$\n",
    "Um estado produto tensorial de $n$ spins será escrito\n",
    "$$|\\vec{\\sigma}\\rangle = |\\sigma_1\\rangle\\otimes\\cdots\\otimes|\\sigma_L\\rangle \\equiv |\\sigma_1 \\cdots\\sigma_L\\rangle.$$\n",
    "\n",
    "Vejamos como estes estados ficam escritos na linguagem fermiônica. O estado de vácuo, com zero férmions, é definido por\n",
    "$$a_j|0_j\\rangle = |\\oslash\\rangle = 0.$$\n",
    "Como no caso de spins temos que\n",
    "$$\\sigma_j^-|-1\\rangle_j = |\\oslash\\rangle_i = 0,$$\n",
    "lembrando que $a_j = \\Pi_{k=1}^{j-1}(-\\sigma_j^z)\\sigma_j^-$, concluímos que\n",
    "$$|0\\rangle = |-1\\rangle_1\\otimes\\cdots\\otimes|-1\\rangle_L = |-1,\\cdots,-1\\rangle = |\\downarrow\\cdots\\downarrow\\rangle.$$\n",
    "Ou seja\n",
    "$$|0_j\\rangle = |\\downarrow\\rangle_j,\\ |1_j\\rangle = |\\uparrow\\rangle_j.$$\n",
    "\n",
    "Isso também pode ser visto de\n",
    "$$\\sigma_j^z = 2\\sigma_j^+\\sigma_j^- - I = 2a_j^\\dagger a_j - I = 2N_j - I.$$\n",
    "Assim, usando $N_j|n_j\\rangle=n_j|n_j\\rangle=$ com $n_j=0,1$ teremos que\n",
    "$$\\sigma_j = 2n_j-1\\ \\therefore\\ n_j = (\\sigma_j +1)/2.$$\n",
    "\n",
    "Concluímos com tudo isso que a base padrão de Pauli é equivalente à base de Fock:\n",
    "$$|n_1,\\cdots,n_L\\rangle \\equiv |\\sigma_1,\\cdots,\\sigma_L\\rangle.$$"
   ]
  },
  {
   "cell_type": "markdown",
   "id": "19a8dffd-7e0c-4ecf-b5f2-4cd4117ccda4",
   "metadata": {},
   "source": [
    "## Hamiltoniano em termos de operadores fermiônicos\n",
    "\n",
    "Vamos escrever o hamiltoniano XY\n",
    "$$H_{XY} = - J\\sum_{j=1}^{L-1}\\Big(\\sigma_j^+\\sigma_{j+1}^- + \\sigma_j^-\\sigma_{j+1}^+ + \\gamma\\big(\\sigma_j^+\\sigma_{j+1}^+ + \\sigma_j^-\\sigma_{j+1}^-\\big)\\Big) -2g\\sum_{j=1}^L \\sigma_j^+\\sigma_j^-$$\n",
    "em termos de operadores fermiônicos.\n",
    "\n",
    "Quanto ao último termo do hamiltoniano, já mostramos que\n",
    "$$a_j^\\dagger a_j = \\sigma_j^+\\sigma_j^-.$$\n",
    "\n",
    "Como fizemos ao verificar as RCCF, consideramos aqui, sem perda de generalidade, $k>j$. Dos cálculos feitos anteriormente neste caso, pode-se identificar que\n",
    "\\begin{align}\n",
    "a_j a_k^\\dagger & = I_1\\otimes\\cdots\\otimes I_{j-1}\\otimes(-\\sigma_j^-\\sigma_j^z)\\otimes (-\\sigma_{j+1}^z)\\otimes\\cdots\\otimes (-\\sigma_{k-1}^z)\\otimes \\sigma_k^+ \\\\\n",
    "& = \\sigma_j^-\\sigma_k^+\\Pi_{l=j}^{k-1}(-\\sigma_l^z).\n",
    "\\end{align}"
   ]
  },
  {
   "cell_type": "markdown",
   "id": "ca142394-5b38-4de5-b096-7a4dbaa53ce7",
   "metadata": {},
   "source": [
    "Para $k=j+1$ segue que\n",
    "\\begin{align}\n",
    "a_j a_{j+1}^\\dagger & = \\sigma_j^-\\sigma_{j+1}^+\\Pi_{l=j}^{j+1-1}(-\\sigma_l^z) = \\sigma_j^-\\sigma_{j+1}^+(-\\sigma_j^z) \\\\\n",
    "& = \\sigma_j^-(-\\sigma_j^z)\\sigma_{j+1}^+  = -\\sigma_j^-\\sigma_j^z\\sigma_{j+1}^+ \\\\\n",
    "& = -(\\sigma_j^z\\sigma_j^- +2\\sigma_j^-)\\sigma_{j+1}^+ = -(-\\sigma_j^- +2\\sigma_j^-)\\sigma_{j+1}^+ \\\\\n",
    "& = -\\sigma_j^-\\sigma_{j+1}^+ = -  a_{j+1}^\\dagger a_j,\n",
    "\\end{align}\n",
    "em que usamos $[\\sigma^z,\\sigma^-]=-2\\sigma^-$, $\\sigma^z\\sigma^-=-\\sigma^-$ e em que usamos que $\\{a_{j+1},a_j^\\dagger\\}=0\\ \\therefore\\ a_{j+1}a_j^\\dagger = - a_j^\\dagger a_{j+1}.$\n",
    "\n",
    "Tomando o adjunto dessa equação, obtemos\n",
    "\\begin{align}\n",
    "& (a_j a_{j+1}^\\dagger)^\\dagger = a_{j+1}a_j^\\dagger = - a_j^\\dagger a_{j+1} \\\\\n",
    "& = (-\\sigma_j^-\\sigma_{j+1}^+)^\\dagger = (-\\sigma_j^-\\otimes\\sigma_{j+1}^+)^\\dagger = -(\\sigma_j^-)^\\dagger\\otimes(\\sigma_{j+1}^+)^\\dagger \\\\\n",
    "& = -\\sigma_j^+\\sigma_{j+1}^-.\n",
    "\\end{align}\n",
    "Aqui também usamos as RCCF. Com isso temos os 2 primeiros termos (que não multiplicam $\\gamma$) de $H_{XY}.$"
   ]
  },
  {
   "cell_type": "markdown",
   "id": "732cbcf1-a49b-4218-8eb9-6ea0f783a7dc",
   "metadata": {},
   "source": [
    "Vamos obter os 2 termos que faltam. Consideremos novamente as relação obtidas quando verificamos as RCCF:\n",
    "\\begin{align}\n",
    "a_j^\\dagger a_k^\\dagger & = \\big((-\\sigma_1^z)\\otimes\\cdots\\otimes(-\\sigma_{j-1}^z)\\otimes\\sigma_j^+\\otimes I_{j+1}\\otimes\\cdots\\otimes I_{k-1}\\otimes I_k\\big)\\big((-\\sigma_1^z)\\otimes\\cdots\\otimes(-\\sigma_{j-1}^z)\\otimes(-\\sigma_j^z)\\otimes (-\\sigma_{j+1}^z)\\otimes\\cdots\\otimes (-\\sigma_{k-1}^z)\\otimes \\sigma_k^+\\big) \\\\\n",
    "& = (-\\sigma_1^z)^2\\otimes\\cdots\\otimes(-\\sigma_{j-1}^z)^2\\otimes(-\\sigma_j^+\\sigma_j^z)\\otimes (-\\sigma_{j+1}^z)\\otimes\\cdots\\otimes (-\\sigma_{k-1}^z)\\otimes \\sigma_k^+ \\\\\n",
    "& = I_1\\otimes\\cdots\\otimes I_{j-1}\\otimes(-\\sigma_j^+\\sigma_j^z)\\otimes (-\\sigma_{j+1}^z)\\otimes\\cdots\\otimes (-\\sigma_{k-1}^z)\\otimes \\sigma_k^+ \\\\\n",
    "& = \\sigma_j^+\\sigma_k^+\\Pi_{l=j}^{k-1}(-\\sigma_l^z).\n",
    "\\end{align}\n",
    "\n",
    "Para $k=j+1$ esta expressão se reduz a\n",
    "\\begin{align}\n",
    "a_j^\\dagger a_{j+1}^\\dagger & = \\sigma_j^+\\sigma_{j+1}^+\\Pi_{l=j}^{j+1-1}(-\\sigma_l^z) = \\sigma_j^+\\sigma_{j+1}^+(-\\sigma_j^z) = -\\sigma_j^+\\sigma_j^z\\sigma_{j+1}^+ \\\\\n",
    "& = -(-\\sigma_j^+)\\sigma_{j+1}^+ = \\sigma_j^+\\sigma_{j+1}^+,\n",
    "\\end{align}\n",
    "em que usamos $\\sigma^+\\sigma^z = -\\sigma^+.$ Tomando o adjunto dessa equação, obtemos\n",
    "\\begin{align}\n",
    "(a_j^\\dagger a_{j+1}^\\dagger)^\\dagger & = a_{j+1} a_j \\\\\n",
    "& = (\\sigma_j^+\\sigma_{j+1}^+)^\\dagger = (\\sigma_j^+\\otimes\\sigma_{j+1}^+)^\\dagger = \\sigma_j^-\\sigma_{j+1}^-.\n",
    "\\end{align}"
   ]
  },
  {
   "cell_type": "markdown",
   "id": "75d56e28-5b00-4e0c-aef4-526187797bcb",
   "metadata": {},
   "source": [
    "Com isso, finalmente obteremos\n",
    "\\begin{align}\n",
    "H_{XY} & = - J\\sum_{j=1}^{L-1}\\Big(\\sigma_j^+\\sigma_{j+1}^- + \\sigma_j^-\\sigma_{j+1}^+ + \\gamma\\big(\\sigma_j^+\\sigma_{j+1}^+ + \\sigma_j^-\\sigma_{j+1}^-\\big)\\Big) -2g\\sum_{j=1}^L \\sigma_j^+\\sigma_j^- \\\\\n",
    "& = - J\\sum_{j=1}^{L-1}\\Big(a_j^\\dagger a_{j+1} + a_{j+1}^\\dagger a_j + \\gamma\\big(a_j^\\dagger a_{j+1}^\\dagger + a_{j+1}a_j\\big)\\Big) -2g\\sum_{j=1}^L a_j^\\dagger a_j\n",
    "\\end{align}\n",
    "\n",
    "OBS. Para $\\gamma=0$ esse hamiloniano tem a mesma forma do bem conhecido hamiltoniano _tight-binding_, cuja solução é conhecida.\n",
    "\n",
    "#### Agora usando o operador string\n",
    "\n",
    "Na TJW, vamos definir\n",
    "$$a_j=\\Pi_{k=1}^{j-1}(-\\sigma_k^z)\\sigma_j^- =: S_j\\sigma_j^-,$$\n",
    "em\n",
    "$$S_j := \\Pi_{k=1}^{j-1}(-\\sigma_k^z)$$\n",
    "é o operador string para spins. Como $-\\sigma_k^z = -|\\uparrow_k\\rangle\\langle\\uparrow_k|+|\\downarrow_k\\rangle\\langle\\downarrow_k|$ temos que\n",
    "$$-\\sigma_k^z|\\uparrow_k\\rangle = -|\\uparrow_k\\rangle,\\ -\\sigma_k^z|\\downarrow_k\\rangle = |\\downarrow_k\\rangle.$$\n",
    "Ou seja, o operador string dá um sinal de menos para cada spin pra cima que houver à esquerda do spin $j$."
   ]
  },
  {
   "cell_type": "markdown",
   "id": "e32dbb0c-0847-4069-bd5d-bbb2789b48b5",
   "metadata": {},
   "source": [
    "Analogamente ao caso do operador string para férmions, podemos escrever este operador string na forma exponencial\n",
    "\\begin{align}\n",
    "S_j & := \\Pi_{k=1}^{j-1}(-\\sigma_k^z) \\equiv e^{i\\pi\\sum_{k=1}^{j-1}(\\sigma_k^z+I)/2} = \\Pi_{k=1}^{j-1}e^{i\\pi(\\sigma_k^z+I)/2}, \\\\\n",
    "\\end{align}\n",
    "em que usamos que $[\\sigma_k^z,\\sigma_l^z]=0\\ \\forall k,l.$ Também usamos que $e^{i\\pi\\sum_{k=1}^{j-1}(\\sigma_k^z+I)/2}|\\sigma_1\\cdots\\sigma_L\\rangle = e^{i\\pi\\sum_{k=1}^{j-1}(\\sigma_k+1)/2}|\\sigma_1\\cdots\\sigma_L\\rangle = e^{i\\pi N_{\\uparrow}^{<j}}|\\sigma_1\\cdots\\sigma_L\\rangle$ com $N_{\\uparrow}^{<j}$ sendo o número de spins up à esquerda do spin $j$. Verificamos explicitamente que essa forma exponencial é o operador string de spin como segue\n",
    "\\begin{align}\n",
    "S_j & = \\Pi_{k=1}^{j-1}e^{i\\pi(\\sigma_k^z+I)/2} = \\Pi_{k=1}^{j-1}\\sum_{l=0}^\\infty \\frac{(i\\pi)^l((\\sigma_k^z+I)/2)^l}{l!} \\\\\n",
    "& = \\Pi_{k=1}^{j-1}\\Big(I + \\sum_{l=1}^\\infty \\frac{(i\\pi)^l((\\sigma_k^z+I)/2)^l}{l!}\\Big) \\\\\n",
    "& = \\Pi_{k=1}^{j-1}\\Big(I + \\sum_{l=1}^\\infty \\frac{(i\\pi)^l}{l!}((\\sigma_k^z+I)/2)\\Big) \\\\\n",
    "& = \\Pi_{k=1}^{j-1}\\Big(I + \\Big(-1+\\sum_{l=0}^\\infty \\frac{(i\\pi)^l}{l!}\\Big)((\\sigma_k^z+I)/2)\\Big) \\\\\n",
    "& = \\Pi_{k=1}^{j-1}\\Big(I + \\Big(-1+e^{i\\pi}\\Big)((\\sigma_k^z+I)/2)\\Big) \\\\\n",
    "& = \\Pi_{k=1}^{j-1}\\Big(I + \\Big(-1+e^{i\\pi}\\Big)((\\sigma_k^z+I)/2)\\Big) \\\\\n",
    "& = \\Pi_{k=1}^{j-1}\\Big(I + -2((\\sigma_k^z+I)/2)\\Big) \\\\\n",
    "& = \\Pi_{k=1}^{j-1}(-\\sigma_k^z),\n",
    "\\end{align}\n",
    "em que usamos que \n",
    "$$((\\sigma_k^z+I)/2)^2 = ((\\sigma_k^z)^2+\\sigma_k^z+\\sigma_k^z+I)/4 = (\\sigma_k^z+I)/2.$$"
   ]
  },
  {
   "cell_type": "markdown",
   "id": "315d8007-ae8d-43fc-800c-7124141895f0",
   "metadata": {},
   "source": [
    "É fácil ver que o operador string é hermitiano\n",
    "$$S_j^\\dagger = S_j$$ \n",
    "e unitário\n",
    "\\begin{align}\n",
    "S_j^\\dagger S_j = S_j^2 & = \\Pi_{k=1}^{j-1}(-\\sigma_k^z)\\Pi_{l=1}^{j-1}(-\\sigma_l^z) \\\\\n",
    "& = \\big((-\\sigma_1^z)\\otimes\\cdots\\otimes(-\\sigma_{j-1}^z)\\big)\\big((-\\sigma_1^z)\\otimes\\cdots\\otimes(-\\sigma_{j-1}^z)\\big) \\\\\n",
    "& = (-\\sigma_1^z)^2\\otimes\\cdots\\otimes(-\\sigma_{j-1}^z)^2 \\\\\n",
    "& = I_1\\otimes\\cdots\\otimes I_{j-1}.\n",
    "\\end{align}\n",
    "\n",
    "Também temos que\n",
    "\\begin{align}\n",
    "S_j S_{j+1} & = \\Pi_{k=1}^{j-1}(-\\sigma_k^z)\\Pi_{l=1}^{j+1-1}(-\\sigma_l^z) \\\\\n",
    "& = \\big((-\\sigma_1^z)\\otimes\\cdots\\otimes(-\\sigma_{j-1}^z)\\otimes I_j\\big)\\big((-\\sigma_1^z)\\otimes\\cdots\\otimes(-\\sigma_{j-1}^z)\\otimes(-\\sigma_j^z)\\big) \\\\\n",
    "& = (-\\sigma_1^z)^2\\otimes\\cdots\\otimes(-\\sigma_{j-1}^z)^2\\otimes(-\\sigma_j^z) \\\\\n",
    "& = I_1\\otimes\\cdots\\otimes I_{j-1}\\otimes(-\\sigma_j^z) \\\\\n",
    "& = (-\\sigma_j^z).\n",
    "\\end{align}\n",
    "Com isso, segue que\n",
    "\\begin{align}\n",
    "a_j^\\dagger a_{j+1} & = (S_j\\sigma_j^-)^\\dagger S_{j+1}\\sigma_{j+1}^- = (\\sigma_j^-)^\\dagger S_j^\\dagger S_{j+1}\\sigma_{j+1}^- = \\sigma_j^+ S_j S_{j+1}\\sigma_{j+1}^- \\\\\n",
    "& = \\sigma_j^+ (-\\sigma_j^z)\\sigma_{j+1}^- = -(-\\sigma_j^+)\\sigma_{j+1}^-\\\\\n",
    "& = \\sigma_j^+\\sigma_{j+1}^-,\n",
    "\\end{align}\n",
    "em que usamos que $\\sigma^+\\sigma^z = \\begin{bmatrix}0&1\\\\0&0\\end{bmatrix}\\begin{bmatrix}1&0\\\\0&-1\\end{bmatrix} = \\begin{bmatrix}0&-1\\\\0&0\\end{bmatrix} = -\\sigma^+.$"
   ]
  },
  {
   "cell_type": "markdown",
   "id": "ba474e46-5fa0-476f-8406-5ce009ab9cc1",
   "metadata": {},
   "source": [
    "Tomado o adjunto da última equação, obteremos\n",
    "\\begin{align}\n",
    "& (a_j^\\dagger a_{j+1})^\\dagger = a_{j+1}^\\dagger a_j \\\\\n",
    "& = (\\sigma_j^+\\sigma_{j+1}^-)^\\dagger = (\\sigma_j^+\\otimes\\sigma_{j+1}^-)^\\dagger = (\\sigma_j^+)^\\dagger\\otimes(\\sigma_{j+1}^-)^\\dagger = \\sigma_j^-\\otimes\\sigma_{j+1}^+ = \\sigma_j^-\\sigma_{j+1}^+.\n",
    "\\end{align}\n",
    "\n",
    "Temos também que\n",
    "$$a_j^\\dagger a_j = (S_j\\sigma_j^-)^\\dagger S_j\\sigma_j^-  = \\sigma_j^+ S_j S_j\\sigma_j^- = \\sigma_j^+\\sigma_j^-.$$"
   ]
  },
  {
   "cell_type": "code",
   "execution_count": null,
   "id": "d184446f-1f1b-40fd-8434-3f53b3292ba3",
   "metadata": {},
   "outputs": [],
   "source": []
  },
  {
   "cell_type": "markdown",
   "id": "be547638-a48e-464b-832f-368876c96957",
   "metadata": {},
   "source": [
    "### Condições periódicas de contorno\n",
    "\n"
   ]
  },
  {
   "cell_type": "code",
   "execution_count": null,
   "id": "bbba3728-33da-4e6c-aab7-69fa4e8edf9b",
   "metadata": {},
   "outputs": [],
   "source": []
  },
  {
   "cell_type": "code",
   "execution_count": null,
   "id": "74c9b417-5c72-4096-a144-5d08abd1c49b",
   "metadata": {},
   "outputs": [],
   "source": []
  },
  {
   "cell_type": "markdown",
   "id": "502b9a7c-b715-42cf-851b-4c3a4258a868",
   "metadata": {},
   "source": [
    "### Setores de paridade par e ímpar\n",
    "\n"
   ]
  },
  {
   "cell_type": "code",
   "execution_count": null,
   "id": "4f24ca9c-256a-4136-bb90-6066f49c3606",
   "metadata": {},
   "outputs": [],
   "source": []
  },
  {
   "cell_type": "markdown",
   "id": "4e7851cd-9647-4a8b-b126-7e9f4fc2a95d",
   "metadata": {},
   "source": [
    "### Espaço de Fourier\n",
    "\n",
    "Para dizgonalizar o hamiltoniano acima, definimos um novo conjunto de operadores\n",
    "$$a_j:= \\frac{e^{i\\pi/4}}{\\sqrt{L}}\\sum_k e^{ikj} b_k$$\n",
    "com $k$ tal que são satisfeitas as seguintes relações de ortogonalidade\n",
    "$$\\frac{1}{L}\\sum_k e^{ik(j-l)} = \\delta_{j,l}, \\ \\frac{1}{L}\\sum_{j=1}^{L} e^{ij(k-q)} = \\delta_{k,q}.$$\n",
    "\n",
    "Teremos assim que\n",
    "\\begin{align}\n",
    "\\sum_j a_j^\\dagger a_{j+1} & = \\sum_j \\frac{e^{-i\\pi/4}}{\\sqrt{L}}\\sum_k e^{-ikj} b_k^\\dagger \\frac{e^{i\\pi/4}}{\\sqrt{L}}\\sum_q e^{iq(j+1)} b_q \\\\\n",
    "& = \\sum_{k,q} e^{iq}\\Big(\\frac{1}{L}\\sum_j e^{i(q-k)j}\\Big) b_k^\\dagger b_q \\\\\n",
    "& = \\sum_{k,q} e^{iq}\\delta_{k,q} b_k^\\dagger b_q \\\\\n",
    "& = \\sum_k e^{ik} b_k^\\dagger b_k.\n",
    "\\end{align}"
   ]
  },
  {
   "cell_type": "markdown",
   "id": "f4fff209-6eb9-4271-b1d6-4c9c840aa62f",
   "metadata": {},
   "source": [
    "e\n",
    "\\begin{align}\n",
    "\\sum_j a_{j+1}^\\dagger a_j & = \\sum_j \\frac{e^{-i\\pi/4}}{\\sqrt{L}}\\sum_k e^{-ik(j+1)} b_k^\\dagger \\frac{e^{i\\pi/4}}{\\sqrt{L}}\\sum_q e^{iqj} b_q \\\\\n",
    "& = \\sum_{k,q} e^{-ik}\\Big(\\frac{1}{L}\\sum_j e^{i(q-k)j}\\Big) b_k^\\dagger b_q \\\\\n",
    "& = \\sum_{k,q} e^{-ik}\\delta_{k,q} b_k^\\dagger b_q \\\\\n",
    "& = \\sum_k e^{-ik} b_k^\\dagger b_k.\n",
    "\\end{align}\n",
    "\n",
    "Para os outros termos do hamiltoniano teremos que\n",
    "\\begin{align}\n",
    "\\sum_j a_j^\\dagger a_{j+1}^\\dagger & = \\sum_j \\frac{e^{i\\pi/4}}{\\sqrt{L}}\\sum_k e^{-ikj} b_k^\\dagger \\frac{e^{i\\pi/4}}{\\sqrt{L}}\\sum_q e^{-iq(j+1)} b_q^\\dagger \\\\\n",
    "& = e^{i\\pi/2}\\sum_{k,q} e^{-iq}\\Big(\\frac{1}{L}\\sum_j e^{i((-q)-k)j}\\Big) b_k^\\dagger b_q^\\dagger \\\\\n",
    "& = i\\sum_{k,q} e^{-iq}\\delta_{k,-q} b_k^\\dagger b_q^\\dagger \\\\\n",
    "& = i\\sum_k e^{ik} b_k^\\dagger b_{-k}^\\dagger.\n",
    "\\end{align}"
   ]
  },
  {
   "cell_type": "markdown",
   "id": "a28efd99-59f9-4847-ba24-ed20b4263651",
   "metadata": {},
   "source": [
    "Tomando o adjunto desta última equação, teremos que\n",
    "\\begin{align}\n",
    "& \\Big(\\sum_j a_j^\\dagger a_{j+1}^\\dagger\\Big)^\\dagger = \\sum_j \\Big(a_j^\\dagger a_{j+1}^\\dagger\\Big)^\\dagger = \\sum_j a_{j+1}a_j \\\\\n",
    "& = \\Big(i\\sum_k e^{ik} b_k^\\dagger b_{-k}^\\dagger\\Big)^\\dagger = -i\\sum_k e^{-ik} \\big(b_k^\\dagger b_{-k}^\\dagger\\big)^\\dagger \\\\\n",
    "& = -i\\sum_k e^{-ik} b_{-k}b_k\n",
    "\\end{align}\n",
    "\n",
    "Já o último termo fica escrito como\n",
    "Teremos assim que\n",
    "\\begin{align}\n",
    "\\sum_j a_j^\\dagger a_j & = \\sum_j \\frac{e^{-i\\pi/4}}{\\sqrt{L}}\\sum_k e^{-ikj} b_k^\\dagger \\frac{e^{i\\pi/4}}{\\sqrt{L}}\\sum_q e^{iqj} b_q \\\\\n",
    "& = \\sum_{k,q}\\Big(\\frac{1}{L}\\sum_j e^{i(q-k)j}\\Big) b_k^\\dagger b_q \\\\\n",
    "& = \\sum_{k,q} \\delta_{k,q} b_k^\\dagger b_q \\\\\n",
    "& = \\sum_k b_k^\\dagger b_k.\n",
    "\\end{align}"
   ]
  },
  {
   "cell_type": "markdown",
   "id": "e0bcb0fc-2e2f-4b27-b7d0-b34e1a9789a2",
   "metadata": {},
   "source": [
    "Fazendo \n",
    "$$\\gamma=0$$\n",
    "teremos o hamiltoniano do modelo XX reeescrito da seguinte forma\n",
    "\\begin{align}\n",
    "H_{XX} & = - J\\sum_{j=1}^{L-1}\\Big(a_j^\\dagger a_{j+1} + a_{j+1}^\\dagger a_j \\Big) -2g\\sum_{j=1}^L a_j^\\dagger a_j \\\\\n",
    "& = - J\\Big(\\sum_k e^{ik} b_k^\\dagger b_k + \\sum_k e^{-ik} b_k^\\dagger b_k \\Big) -2g \\sum_k b_k^\\dagger b_k \\\\\n",
    "& = \\sum_k \\big(-2J\\cos(k) -2g)b_k^\\dagger b_k \\\\\n",
    "& = \\sum_k \\epsilon_k b_k^\\dagger b_k,\n",
    "\\end{align}\n",
    "com as energias (relação de dispersão) dadas por\n",
    "$$\\epsilon_k = -2J\\cos(k) -2g.$$\n",
    "Essa relação de dispersão está mostrada nas figuras abaixo."
   ]
  },
  {
   "cell_type": "code",
   "execution_count": 259,
   "id": "c1a898fc-005d-4790-aa63-0e38afd12f5e",
   "metadata": {},
   "outputs": [
    {
     "data": {
      "image/png": "[encoded data removed]",
      "text/plain": [
       "<Figure size 640x480 with 1 Axes>"
      ]
     },
     "metadata": {},
     "output_type": "display_data"
    }
   ],
   "source": [
    "import matplotlib.pyplot as plt\n",
    "import numpy as np\n",
    "import math\n",
    "k = np.arange(-math.pi,math.pi,0.01)\n",
    "def fEk(k,g):\n",
    "    J = 1#; g = -1.1\n",
    "    return -2*J*np.cos(k) - 2*g\n",
    "g = -1.1; Ek1 = fEk(k,g)\n",
    "g = 0.5; Ek2 = fEk(k,g)\n",
    "g = 1.1; Ek3 = fEk(k,g)\n",
    "Ek4 = 0*Ek1\n",
    "plt.plot(k,Ek1, label=r'$g<J$'); plt.plot(k,Ek2, label=r'$-J<g<J$'); plt.plot(k,Ek3, label=r'$g>J$'); plt.plot(k,Ek4)\n",
    "plt.xlabel(r'$k$'); plt.ylabel(r'$\\epsilon_k$')\n",
    "plt.legend(); plt.show()"
   ]
  },
  {
   "cell_type": "markdown",
   "id": "80f8c117-8bd4-496c-bfa0-9d6a5ae5b4c7",
   "metadata": {},
   "source": [
    "Como observado na figura acima, temos 3 regimes principais\n",
    "\\begin{align}\n",
    "& (i)\\ g<-J\\ \\therefore\\ \\epsilon_k >0, \\\\\n",
    "& (ii) -J<g<J\\ \\therefore\\ \\epsilon_{k<k_F}<0,\\  \\epsilon_{k>k_F}>0, \\\\\n",
    "& (iii)\\ g>J\\ \\therefore\\ \\epsilon_k <0,\n",
    "\\end{align}\n",
    "em que _momento de Fermi_ $k_F$ é definido por\n",
    "$$\\epsilon_{k_F} = 0\\ \\therefore\\ -2J\\cos(k_F) -2g = 0\\ \\therefore\\ k_F = \\arccos(-g/J).$$\n",
    "\n",
    "No caso $(i)$, como $\\epsilon_k>0$, ter um estado ocupado por férmions aumenta a energia, por isso o estado fundamental será neste caso\n",
    "$$|E_{gs}(g<-J)\\rangle = |0\\rangle = |\\downarrow,\\downarrow,\\cdots,\\downarrow\\rangle$$\n",
    "com a a energia dada por\n",
    "$$E_{gs}=0.$$\n",
    "\n",
    "No caso $(iii)$, como $\\epsilon_k<0$, ter estados ocupados por férmions diminui a energia, por isso o estado fundamental será neste caso\n",
    "$$|E_{gs}(g<-J)\\rangle = \\Pi_k b_k^\\dagger|0\\rangle = |\\uparrow,\\uparrow\\cdots \\uparrow\\rangle$$\n",
    "com a a energia dada por\n",
    "$$E_{gs}=\\sum_k\\epsilon_k.$$\n",
    "\n",
    "No caso $(ii)$ a energia é negativa se o momento tiver módulo menor que o momento de Fermi. Por isso, popular estados com $|k|<k_F$ diminui a energia, que será dada por\n",
    "$$E_{gs} = \\sum_{|k|<k_F}\\epsilon_k.$$\n",
    "O autoestado correspondente é\n",
    "$$|E_{gs}\\rangle = \\Pi_{|k|<k_F}b_k^\\dagger|0\\rangle.$$\n",
    "Note que este estado, quando escrito em termos de estados de spin, é um estado produto tensorial e portanto não é emaranhado."
   ]
  },
  {
   "cell_type": "markdown",
   "id": "6d1421bd-9782-4195-bbb9-13ed4545c848",
   "metadata": {},
   "source": [
    "## Referências\n",
    "\n",
    "$1.$ G. T. Landi, “One-dimensional quantum spin chains”, 2019.\n"
   ]
  },
  {
   "cell_type": "code",
   "execution_count": null,
   "id": "5c70143e-145d-47f5-b329-d1a02dbd148b",
   "metadata": {},
   "outputs": [],
   "source": []
  }
 ],
 "metadata": {
  "kernelspec": {
   "display_name": "Python 3 (ipykernel)",
   "language": "python",
   "name": "python3"
  },
  "language_info": {
   "codemirror_mode": {
    "name": "ipython",
    "version": 3
   },
   "file_extension": ".py",
   "mimetype": "text/x-python",
   "name": "python",
   "nbconvert_exporter": "python",
   "pygments_lexer": "ipython3",
   "version": "3.12.2"
  }
 },
 "nbformat": 4,
 "nbformat_minor": 5
}
