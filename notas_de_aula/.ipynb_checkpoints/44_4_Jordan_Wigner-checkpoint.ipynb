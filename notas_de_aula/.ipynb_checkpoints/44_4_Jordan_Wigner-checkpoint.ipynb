{
 "cells": [
  {
   "cell_type": "markdown",
   "id": "a1794c48-c294-4c0b-997f-3376f6470ba0",
   "metadata": {},
   "source": [
    "## Notas de aula de Mecânica Quântica <br> Autor: Jonas Maziero"
   ]
  },
  {
   "cell_type": "markdown",
   "id": "57e6e40a-1593-4615-901a-fe9846c3df1b",
   "metadata": {},
   "source": [
    "# Transformada de Jordan-Wigner\n",
    "\n",
    "A transformada de Jordan-Wigner (TJW) é usada para mapear um sistema de férmions em um sistema de qubits (spins 1/2) e vice-versa. Essa técnica é usada, por exemplo, para se resolver exatamente o problema da diagonalização de hamiltonianos quânticos de cadeias unidimensionais de spin 1/2. Mas uma das aplicações mais promissoras atualmente é a simulação de sistemas fermiônicos usando computadores quânticos.\n",
    "\n",
    "## Um qubit - um férmion\n",
    "\n",
    "Tendo que para um __modo férmiônico__ segue que\n",
    "$$\\{a,a^\\dagger\\}=I,\\ \\{a,a\\}=0,$$\n",
    "vimos que para um férmion os autovetores de $N=a^\\dagger a$ são $0$ ou $1$, vimos que os operadores escada atuam como \n",
    "$$a|1\\rangle = |0\\rangle,\\ a|0\\rangle = |\\oslash\\rangle, a^\\dagger|0\\rangle = |1\\rangle, a^\\dagger|1\\rangle=|\\oslash\\rangle.$$ \n",
    "\n",
    "Para um __qubit__, um spin 1/2, considere os operadores escada \n",
    "$$\\sigma^+ = |1\\rangle\\langle 0|,\\ \\sigma^- = |0\\rangle\\langle 1| = (\\sigma^+)^\\dagger.$$\n",
    "Vemos nesse caso que\n",
    "\\begin{align}\n",
    "& \\{\\sigma^-,(\\sigma^-)^\\dagger\\} = \\{\\sigma^-,\\sigma^+\\} = \\sigma^-\\sigma^+ + \\sigma^+\\sigma^- = |0\\rangle\\langle 1||1\\rangle\\langle 0| + |1\\rangle\\langle 0||0\\rangle\\langle 1| = |0\\rangle\\langle 0| + |1\\rangle\\langle 1| = I, \\\\\n",
    "& \\{\\sigma^-,\\sigma^-\\} = 2\\sigma^-\\sigma^- = |0\\rangle\\langle 1||0\\rangle\\langle 1| = 0_V.\n",
    "\\end{align}\n",
    "Ou seja, os operadores escada de um modo férmiônico e os operadores escada de um spin 1/2 satisfazem a mesma álgebra."
   ]
  },
  {
   "attachments": {},
   "cell_type": "markdown",
   "id": "80f7ee16-49e6-4d95-82e4-a140ae11324f",
   "metadata": {},
   "source": [
    "Ademais\n",
    "\\begin{align}\n",
    "& \\sigma^-|1\\rangle =  |0\\rangle\\langle 1||1\\rangle = |0\\rangle, \\ \\sigma^-|0\\rangle =  |0\\rangle\\langle 1||0\\rangle = |\\oslash\\rangle, \\\\\n",
    "& \\sigma^+|1\\rangle =  |1\\rangle\\langle 0||1\\rangle = |\\oslash\\rangle, \\ \\sigma^+|0\\rangle =  |1\\rangle\\langle 0||0\\rangle = |1\\rangle.\n",
    "\\end{align}\n",
    "\n",
    "Isso mostra um completa equivalência entre um qubit (um spin 1/2) e um férmion, com o estado de qubit\n",
    "$$|\\uparrow\\rangle := |z_+\\rangle = |0\\rangle$$\n",
    "correspondendo a um modo fermiônico não ocupado \n",
    "$$|n=0\\rangle=|0\\rangle$$\n",
    "e o estado de qubit\n",
    "$$|\\downarrow\\rangle := |z_-\\rangle = |1\\rangle$$ \n",
    "correspondendo a um modo fermiônico ocupado \n",
    "$$|n=1\\rangle = |1\\rangle.$$ \n",
    "\n",
    "Sobre um qubit, pode ser útil considerar as seguintes relações em termos dos operadores escada:\n",
    "\\begin{align}\n",
    "& \\sigma^-\\sigma^- = \\sigma^+\\sigma^+ = 0_V, \\\\\n",
    "& \\sigma^-\\sigma^+ = |0\\rangle\\langle 0|, \\\\\n",
    "& \\sigma^+\\sigma^- = |1\\rangle\\langle 1|, \\\\\n",
    "& Z = |0\\rangle\\langle 0| - |1\\rangle\\langle 1| = 2|0\\rangle\\langle 0| - (|0\\rangle\\langle 0|+|1\\rangle\\langle 1|) = 2\\sigma^-\\sigma^+ - I, \\\\\n",
    "& X = |0\\rangle\\langle 1| + |1\\rangle\\langle 0| = \\sigma^- + \\sigma^+, \\\\\n",
    "& Y = -i(|0\\rangle\\langle 1| - |1\\rangle\\langle 0|) = -i(\\sigma^- - \\sigma^+).\n",
    "\\end{align}\n",
    "\n",
    "A correspondência spin 1/2 - modo férmiômico está ilustrada na figura abaixo <br>\n",
    "<img src='fig_fermion_spin.png' width='500'>"
   ]
  },
  {
   "cell_type": "markdown",
   "id": "e76986e3-9088-4fc7-9ca4-a73f2e0af9ed",
   "metadata": {},
   "source": [
    "### Vários qubits - vários férmions\n",
    "\n",
    "No entanto, quando consideramos vários qubits, os operadores de spin de qubits diferentes comutam. Mas operadores fermiônicos independentes não comutam, eles anticomutam. Por isso não é direto mapear qubits em férmions e vice-versa.\n",
    "\n",
    "Considerando uma cadeia unidimensional de spins (férmions), Jordan e Wigner, em 1928, resolveram esse problema adicionando um fator de fase \n",
    "$$\\phi_j = \\pi\\sum_{k<j}n_k,$$\n",
    "chamado de __string__, de forma que\n",
    "$$\\sigma_j^- = -a_j e^{i\\phi_j}.$$\n",
    "\n",
    "Veja a ilustração na figura abaixo. <br>\n",
    "<img src='fig_fermion_spin_1d.png' width='500'>"
   ]
  },
  {
   "cell_type": "markdown",
   "id": "e24d574b-d3c9-4ece-bce9-7cf4849be9fe",
   "metadata": {},
   "source": [
    "Nós já vimos o motivo disso quando mostramos que\n",
    "$$a_j|n\\rangle = a_j(a_1^\\dagger)^{n_1}(a_2^\\dagger)^{n_2}\\cdots(a_{j-1}^\\dagger)^{n_{j-1}}(a_{j}^\\dagger)^{n_{j}}(a_{j+1}^\\dagger)^{n_{j+1}}\\cdots (a_n^\\dagger)^{n_n}|vac\\rangle = \\begin{cases} -(-1)^{\\sum_{k=1}^{j-1}n_k}|n_1\\cdots n_{j-1}0_j n_{j+1}\\cdots n_n\\rangle  \\text{ se } n_j=1, \\\\ |\\oslash\\rangle \\text{ se } n_j=0, \\end{cases}$$\n",
    "uma vez que\n",
    "$$e^{i\\phi_j} = e^{i\\pi\\sum_{k>j}n_k} = \\cos\\Big(\\pi\\sum_{k>j}n_k\\Big) + i\\sin\\Big(\\pi\\sum_{k>j}n_k\\Big) \\equiv (-1)^{\\sum_{k>j}n_k}.$$\n",
    "\n",
    "A __transformada de Jordan-Wigner__ é então definida por\n",
    "\\begin{align}\n",
    "& \\sigma_j^- = -a_j e^{-i\\pi\\sum_{l<j}n_l}, \\\\\n",
    "& \\sigma_j^+ = -a_j^\\dagger e^{i\\pi\\sum_{l<j}n_l}, \\\\\n",
    "& Z_j = 2a_j^\\dagger a_j - I.\n",
    "\\end{align}\n",
    "De certo modo\n",
    "$$\\text{qubit}=\\text{férmion}\\times\\text{string}.$$"
   ]
  },
  {
   "cell_type": "markdown",
   "id": "f77fd9ab-94db-4766-8235-a50c31f5c3e9",
   "metadata": {},
   "source": [
    "Vale notar também que, para $|0\\rangle=|\\uparrow\\rangle,\\ |1\\rangle=|\\downarrow\\rangle$\n",
    "teremos que $Z_j=|\\uparrow\\rangle\\langle\\uparrow|_j -|\\downarrow\\rangle\\langle\\downarrow|_j$\n",
    "e assim\n",
    "$$Z_j|\\uparrow\\rangle_j = |\\uparrow\\rangle_j,\\ Z_j|\\downarrow\\rangle_j = -|\\downarrow\\rangle_j.$$\n",
    "Como os autovalores de $N_j=1$ é representado por $Z_j=\\uparrow$ e $N_j=0$ é representado por $Z_j=\\downarrow$, vemos que contar o número de modos fermiônicos ocupados à esquerda de $j$ corresponde a contar quantos spins à esquerda do spin $j$ tem componente negativa em $z$. Ou seja\n",
    "\\begin{align}\n",
    "& a_j = -\\otimes_{k=1}^{j-1}Z_j\\otimes\\sigma_j^- \\\\\n",
    "& a_j^\\dagger = -\\otimes_{k=1}^{j-1}Z_j\\otimes\\sigma_j^+,\n",
    "\\end{align}\n",
    "pois $(A\\otimes B)^\\dagger = A^\\dagger \\otimes B^\\dagger$, $Z_j^\\dagger=Z_j$ e $(\\sigma_j^-)^\\dagger = \\sigma_j^+.$\n",
    "\n",
    "Vale observar também que como $N_j$ tem autovalores $0$ ou $1$ e $Z_j$ tem autovalores $-1$ ou $1$, podemos obter uma correspondência entre os operadores fazendo\n",
    "\\begin{align}\n",
    "Z_j & = 2N_j - I \\\\\n",
    "& = 2a_j^\\dagger a_j - \\{a_j,a_j^\\dagger\\} = 2a_j^\\dagger a_j - a_j a_j^\\dagger - a_j^\\dagger a_j \\\\\n",
    "& = a_j^\\dagger a_j - a_j a_j^\\dagger.\n",
    "\\end{align}\n",
    "Teremos assim a correspondência\n",
    "\\begin{align}\n",
    "& N_j=0\\ \\rightarrow\\ Z_j=-1, \\\\\n",
    "& N_j=1\\ \\rightarrow\\ Z_j=1.\n",
    "\\end{align}"
   ]
  },
  {
   "cell_type": "markdown",
   "id": "40b991c2-2819-41c3-868b-b063eb4fd328",
   "metadata": {},
   "source": [
    "Como \n",
    "$$Z_j^2 = I$$\n",
    "teremos que\n",
    "\\begin{align}\n",
    "& \\sigma_j^- = -\\otimes_{k=1}^{j-1}Z_j\\otimes a_j \\\\\n",
    "& \\sigma_j^+ = -\\otimes_{k=1}^{j-1}Z_j\\otimes a_j^\\dagger.\n",
    "\\end{align}\n",
    "\n",
    "Por conseguinte\n",
    "\\begin{align}\n",
    "X_j & = \\sigma_j^- + \\sigma_j^+ \\\\\n",
    "& = -\\otimes_{k=1}^{j-1}Z_j\\otimes a_j -\\otimes_{k=1}^{j-1}Z_j\\otimes a_j^\\dagger \\\\\n",
    "& = -\\otimes_{k=1}^{j-1}Z_j\\otimes(a_j^\\dagger +a_j).\n",
    "\\end{align}"
   ]
  },
  {
   "cell_type": "markdown",
   "id": "38d894f6-a90f-4e6e-aa3a-a14cabb03cb6",
   "metadata": {},
   "source": []
  },
  {
   "cell_type": "markdown",
   "id": "6d1421bd-9782-4195-bbb9-13ed4545c848",
   "metadata": {},
   "source": [
    "## Referências\n",
    "\n",
    "* M. A. Nielsen, “The Fermionic canonical commutation relations and the Jordan-Wigner transform”, https://michaelnielsen.org/blog/fermions-and-the-jordan-wigner-transform-i-introduction/.\n",
    "\n",
    "* P. Jordan and E. Wigner, “Über das Paulische Äquivalenzverbot,” Z. Physik, vol. 47, no. 9, Art. no. 9, Sep. 1928, doi: 10.1007/BF01331938.\n"
   ]
  },
  {
   "cell_type": "code",
   "execution_count": null,
   "id": "0f5f3a2c-6685-4e71-aa4c-7bcc79fa9deb",
   "metadata": {},
   "outputs": [],
   "source": []
  }
 ],
 "metadata": {
  "kernelspec": {
   "display_name": "Python 3 (ipykernel)",
   "language": "python",
   "name": "python3"
  },
  "language_info": {
   "codemirror_mode": {
    "name": "ipython",
    "version": 3
   },
   "file_extension": ".py",
   "mimetype": "text/x-python",
   "name": "python",
   "nbconvert_exporter": "python",
   "pygments_lexer": "ipython3",
   "version": "3.12.2"
  }
 },
 "nbformat": 4,
 "nbformat_minor": 5
}
