{
 "cells": [
  {
   "cell_type": "markdown",
   "metadata": {},
   "source": [
    "### Notas de aula de Mecânica Quântica <br> Autor: Jonas Maziero"
   ]
  },
  {
   "cell_type": "markdown",
   "metadata": {},
   "source": [
    "# Teoria de perturbação dependente do tempo\n",
    "Aqui queremos obter correções perturbativas para a equação de Schrödinger\n",
    "\\begin{equation}\n",
    "i\\hbar\\partial_{t}|\\psi_{t}\\rangle = H|\\psi_{t}\\rangle,\n",
    "\\end{equation}\n",
    "para um Hamiltoniano do tipo\n",
    "$$H=H_{0}+H_{1}.$$ \n",
    "Novamente, assumimos que os autovalores e autovetores de $H_0$ são conhecidos.\n",
    "\n",
    "Como um __prelúdio__, consideremos que \n",
    "$$H_1=0$$\n",
    "e que $H_{0}$ é independente do tempo e que conhecemos a solução de \n",
    "$$H_{0}|\\psi_{n}^{(0)}\\rangle=E_{n}^{(0)}|\\psi_{n}^{(0)}\\rangle.$$\n",
    "Como nesse caso o operador de evolução temporal é \n",
    "$$W_{t}=e^{-iH_{0}t/\\hbar},$$ \n",
    "se o estado inicial for \n",
    "$$|\\psi'_0\\rangle=\\sum_{n}c_{n}|\\psi_{n}^{(0)}\\rangle$$"
   ]
  },
  {
   "cell_type": "markdown",
   "metadata": {},
   "source": [
    "com $c_{n}=\\langle\\psi_{n}^{(0)}|\\psi'_0\\rangle$, o estado evoluído pode ser escrito como\n",
    "\\begin{align}\n",
    "|\\psi_{t}'\\rangle &= W_{t}|\\psi'_0\\rangle \\\\\n",
    "& = \\sum_{n}c_{n}e^{-iH_{0}t/\\hbar}|\\psi_{n}^{(0)}\\rangle \\\\\n",
    "& = \\sum_{n}c_{n}e^{-iE_{n}^{(0)}t/\\hbar}|\\psi_{n}^{(0)}\\rangle \\\\ \n",
    "& =: \\sum_{n}c_{n}(t)|\\psi_{n}^{(0)}\\rangle,\n",
    "\\end{align}\n",
    "com\n",
    "$$c_{n}(t)=c_{n}e^{-iE_{n}^{(0)}t/\\hbar}.$$\n",
    "\n",
    "Sem perda de generalidade, quando a perturbação é incluída, $$H_1\\ne 0,$$ podemos escrever o estado evoluído como segue\n",
    "o estado evoluído no tempo pelo Hamiltoniano geral pode ser escrito como\n",
    "\\begin{align}\n",
    "|\\psi_{t}\\rangle & = \\sum_{n}A_{n}(t)|\\psi_{n}^{(0)}\\rangle \\\\\n",
    "& =: \\sum_{n}a_{n}(t)e^{-iE_{n}^{(0)}t/\\hbar}|\\psi_{n}^{(0)}\\rangle,\n",
    "\\end{align}\n",
    "i.e., os coeficientes dependentes do tempo nesse caso geral são dados por\n",
    "$$A_{n}(t):=a_{n}(t)e^{-iE_{n}^{(0)}t/\\hbar}.$$"
   ]
  },
  {
   "cell_type": "markdown",
   "metadata": {},
   "source": [
    "Assim\n",
    "$$H_{1}=0\\ \\therefore a_{n}(t)=c_{n}.$$\n",
    "Nosso objetivo será obter os $a_{n}(t)$ via correções perturbativas. Como na teoria de perturbação independente do tempo, aqui usamos \n",
    "$$H\\rightarrow H_{0}+\\xi H_{1}.$$ \n",
    "Assim, substituindo tudo na equação de Schrödinger, teremos\n",
    "\\begin{align}\n",
    "& i\\hbar\\partial_{t}|\\psi_{t}\\rangle  = H|\\psi_{t}\\rangle \\\\\n",
    "& \\therefore i\\hbar\\partial_{t}\\sum_{n}a_{n}(t)e^{-iE_{n}^{(0)}t/\\hbar}|\\psi_{n}^{(0)}\\rangle = (H_{0}+\\xi H_{1})\\sum_{n}a_{n}(t)e^{-iE_{n}^{(0)}t/\\hbar}|\\psi_{n}^{(0)}\\rangle \\\\\n",
    "& \\therefore i\\hbar\\sum_{n}\\left(\\partial_{t}a_{n}(t) -i\\hbar^{-1}E_{n}^{(0)}a_{n}(t)\\right)e^{-iE_{n}^{(0)}t/\\hbar}|\\psi_{n}^{(0)}\\rangle = \\sum_{n}a_{n}(t)e^{-iE_{n}^{(0)}t/\\hbar}(E_{n}^{(0)}\\mathbb{I}+\\xi H_{1})|\\psi_{n}^{(0)}\\rangle.\n",
    "\\end{align}\n",
    "\n",
    "Seguindo, tomamos o __produto interno de $|\\psi_{m}^{(0)}\\rangle$__ com essa última equação, e assim obtemos:\n",
    "\\begin{align}\n",
    "& i\\hbar\\sum_{n}\\left(\\partial_{t}a_{n}(t) -i\\hbar^{-1}E_{n}^{(0)}a_{n}(t)\\right)e^{-iE_{n}^{(0)}t/\\hbar}\\langle \\psi_{m}^{(0)}|\\psi_{n}^{(0)}\\rangle = \\sum_{n}a_{n}(t)e^{-iE_{n}^{(0)}t/\\hbar}\\left( E_{n}^{(0)}\\langle \\psi_{m}^{(0)}|\\psi_{n}^{(0)}\\rangle + \\xi\\langle \\psi_{m}^{(0)}|H_{1}|\\psi_{n}^{(0)}\\rangle\\right) \\\\\n",
    "& \\therefore i\\hbar\\left(\\partial_{t}a_{m}(t) -i\\hbar^{-1}E_{m}^{(0)}a_{m}(t)\\right)e^{-iE_{m}^{(0)}t/\\hbar} = a_{m}(t)e^{-iE_{m}^{(0)}t/\\hbar}E_{m}^{(0)} + \\xi\\sum_{n}a_{n}(t)e^{-iE_{n}^{(0)}t/\\hbar}\\langle\\psi_{m}^{(0)}|H_{1}|\\psi_{n}^{(0)}\\rangle \\\\\n",
    "& \\therefore i\\hbar\\partial_{t}a_{m}(t) + E_{m}^{(0)}a_{m}(t) = a_{m}(t)E_{m}^{(0)} + \\xi\\sum_{n}a_{n}(t)e^{-i(E_{n}^{(0)}-E_{m}^{(0)})t/\\hbar}\\langle\\psi_{m}^{(0)}|H_{1}|\\psi_{n}^{(0)}\\rangle \\\\\n",
    "& \\therefore i\\hbar\\partial_{t}a_{m}(t) = \\xi\\sum_{n}a_{n}(t)e^{i\\omega_{mn}t}\\langle\\psi_{m}^{(0)}|H_{1}|\\psi_{n}^{(0)}\\rangle,\n",
    "\\end{align}\n",
    "onde usamos as frequências de Bohr \n",
    "$$\\omega_{mn}=(E_{m}^{(0)}-E_{n}^{(0)})/\\hbar.$$"
   ]
  },
  {
   "cell_type": "markdown",
   "metadata": {},
   "source": [
    "Aplicamos agora a expansão de __Rayleigh-Schrödinger__ para os coeficientes:\n",
    "\\begin{equation}\n",
    "a_{n}(t) = \\sum_{k=0}^{\\infty}a_{n}^{(k)}(t)\\xi^{k}.\n",
    "\\end{equation}\n",
    "Assim segue que\n",
    "\\begin{align}\n",
    "& i\\hbar\\partial_{t}\\sum_{k=0}^{\\infty}a_{m}^{(k)}(t)\\xi^{k} = \\xi\\sum_{n}\\sum_{k=0}^{\\infty}a_{n}^{(k)}(t)\\xi^{k}e^{i\\omega_{mn}t}\\langle\\psi_{m}^{(0)}|H_{1}|\\psi_{n}^{(0)}\\rangle \\\\\n",
    "& \\therefore \\sum_{k=0}^{\\infty}\\left(i\\hbar\\partial_{t}a_{m}^{(k)}(t)\\right)\\xi^{k} = 0\\xi^{0} + \\sum_{k=0}^{\\infty}\\left(\\sum_{n}a_{n}^{(k)}(t)e^{i\\omega_{mn}t}\\langle\\psi_{m}^{(0)}|H_{1}|\\psi_{n}^{(0)}\\rangle\\right)\\xi^{k+1}.\n",
    "\\end{align}"
   ]
  },
  {
   "cell_type": "markdown",
   "metadata": {},
   "source": [
    "Igualando os coeficientes para as diferentes potências de $\\xi$, obteremos as correções perturbativas de diferentes ordens. A correção de __ordem zero__ é obtida de\n",
    "\\begin{equation}\n",
    "i\\hbar\\partial_{t}a_{m}^{(0)}(t) = 0 \\Rightarrow a_{m}^{(0)}(t)=a_{m}^{(0)}(0)=c_{m},\n",
    "\\end{equation}\n",
    "que corresponde ao caso não perturbado.\n",
    "\n",
    "A correção de __primeira ordem__ é obtida de\n",
    "\\begin{equation}\n",
    "i\\hbar\\partial_{t}a_{m}^{(1)}(t) = \\sum_{n}a_{n}^{(0)}(t)e^{i\\omega_{mn}t}\\langle\\psi_{m}^{(0)}|H_{1}|\\psi_{n}^{(0)}\\rangle.\n",
    "\\end{equation}\n",
    "\n",
    "E similarmente para uma ordem qualquer $j=1,2,3,\\cdots$:\n",
    "\\begin{equation}\n",
    "i\\hbar\\partial_{t}a_{m}^{(j)}(t) = \\sum_{n}a_{n}^{(j-1)}(t)e^{i\\omega_{mn}t}\\langle\\psi_{m}^{(0)}|H_{1}|\\psi_{n}^{(0)}\\rangle.\n",
    "\\end{equation}\n",
    "Aplicando o teorema fundamental do cálculo, obtemos uma equação integral que pode ser usada sucessivamente para o cálculo de correções de ordem mais alta a partir da anterior:\n",
    "\\begin{equation}\n",
    "\\color{blue}{a_{m}^{(j)}(t) = \\frac{1}{i\\hbar}\\int_{0}^{t}dt'\\sum_{n}a_{n}^{(j-1)}(t')e^{i\\omega_{mn}t'}\\langle\\psi_{m}^{(0)}|H_{1}|\\psi_{n}^{(0)}\\rangle}.\n",
    "\\end{equation}\n",
    "Resolvidas essas equações, substituímos os resutados em \n",
    "$$\\color{blue}{a_{n}(t) = \\sum_{k=0}^{N}a_{n}^{(k)}(t)}$$\n",
    "para obter \n",
    "$$\\color{blue}{|\\psi_{t}\\rangle = \\sum_{n}a_{n}(t)e^{-iE_{n}^{(0)}t/\\hbar}|\\psi_{n}^{(0)}\\rangle},$$\n",
    "que deve ser normalizado antes de ser utilizado para calcular probabilidades. Note que $N$ é a ordem mais alta de perturbação que escolheremos calcular para um certo sistema."
   ]
  },
  {
   "cell_type": "markdown",
   "metadata": {},
   "source": [
    "### Exemplo <br> Oscilador harmônico com força externa constante\n",
    "Nesse caso, o sistema não perturbado é um oscilador harmônico quântico unidimensional, que é descrito por\n",
    "\\begin{align}\n",
    "& H_{0}=\\hbar\\omega(a^{\\dagger}a+I/2), \\\\\n",
    "& E_{n}^{(0)}=\\hbar\\omega(n+1/2), \\\\\n",
    "& |\\psi_{n}^{(0)}\\rangle=|n\\rangle,\n",
    "\\end{align}\n",
    "com $n\\in\\mathbb{N}$. \n",
    "\n",
    "Quanto ao hamiltoniano de perturbação, notamos que para ter força, \n",
    "$$F_{x}=-\\partial_{X}U,$$\n",
    "constante, devemos ter \n",
    "$$U\\propto X.$$\n",
    "Então, nesse caso o hamiltoniano de perturbação é pode ser escrito como\n",
    "\\begin{equation}\n",
    "H_{1} = -g(a^{\\dagger}+a),\n",
    "\\end{equation}\n",
    "com $g$ sendo uma constante positiva.\n",
    "\n",
    "Consideramos nesse exemplo o oscilador harmônico preparado inicialmente no estado fundamental \n",
    "$$|\\psi_{0}\\rangle:=|0\\rangle=\\sum_{n=0}^{\\infty}c_{n}|n\\rangle\\ \\therefore\\ c_{n}=\\delta_{n0}.$$\n",
    "Lembrando, para este sistema temos que\n",
    "$$|\\psi_{t}\\rangle = \\sum_{n=0}^{\\infty}a_{n}(t)e^{iE_n^{(0)}t}|n\\rangle$$ e $$a_{n}(t)=\\sum_{k=0}^{\\infty}a_{n}^{(k)}(t),$$ já com o limite $\\xi\\rightarrow 1$ tomado."
   ]
  },
  {
   "cell_type": "markdown",
   "metadata": {},
   "source": [
    "__Correção de 1ª ordem__:\n",
    "Usando a expressão geral $a_{m}^{(j)}(t) = \\frac{1}{i\\hbar}\\int_{0}^{t}dt'\\sum_{n}a_{n}^{(j-1)}(t')e^{i\\omega_{mn}t'}\\langle\\psi_{m}^{(0)}|H_{1}|\\psi_{n}^{(0)}\\rangle$, podemos escrever\n",
    "\\begin{equation}\n",
    "a_{m}^{(1)}(t) = \\frac{1}{i\\hbar}\\int_{0}^{t}dt'\\sum_{n}c_{n}e^{i\\omega_{mn}t'}\\langle m|H_{1}|n\\rangle.\n",
    "\\end{equation}\n",
    "Agora\n",
    "\\begin{align}\n",
    "\\langle m|H_{1}|n\\rangle & = -g(\\langle m|a^{\\dagger}|n\\rangle + \\langle m|a|n\\rangle) \\\\\n",
    "& = -g(\\sqrt{n+1}\\langle m|n+1\\rangle + \\sqrt{n}\\langle m|n-1\\rangle) \\\\\n",
    "& = -g(\\sqrt{n+1}\\delta_{m,n+1} + \\sqrt{n}\\delta_{m,n-1}).\n",
    "\\end{align}\n",
    "Assim\n",
    "\\begin{align}\n",
    "a_{m}^{(1)}(t) & = \\frac{-g}{i\\hbar}\\int_{0}^{t}dt'\\sum_{n}c_{n}e^{i\\omega_{mn}t'}\\left(\\sqrt{n+1}\\delta_{m,n+1} + \\sqrt{n}\\delta_{m,n-1}\\right) \\\\\n",
    "& =  \\frac{-g}{i\\hbar}\\int_{0}^{t}dt'\\left(c_{m-1}e^{i\\omega_{m,m-1}t'}\\sqrt{m} + c_{m+1}e^{i\\omega_{m,m+1}t'}\\sqrt{m+1}\\right) \\\\\n",
    "& =  \\frac{-g}{i\\hbar}\\left(\\frac{\\delta_{m-1,0}\\sqrt{m}}{i\\omega_{m,m-1}}\\left[e^{i\\omega_{m,m-1}t'}\\right]_{0}^{t} + \\frac{\\delta_{m+1,0}\\sqrt{m+1}}{i\\omega_{m,m+1}}\\left[e^{i\\omega_{m,m+1}t'}\\right]_{0}^{t}\\right) \\\\\n",
    "& =  \\frac{-g}{i\\hbar}\\left(\\frac{\\delta_{m,1}\\sqrt{1}}{i\\omega_{1,1-1}}\\left[e^{i\\omega_{1,1-1}t}-1\\right] + \\frac{0\\sqrt{m+1}}{i\\omega_{m,m+1}}\\left[e^{i\\omega_{m,m+1}t}-1\\right]\\right) \\\\\n",
    "& = \\frac{g}{\\hbar\\omega_{1,0}}\\left(e^{i\\omega_{1,0}t}-1\\right)\\delta_{m,1}.\n",
    "\\end{align}\n",
    "Se notamos que\n",
    "\\begin{align}\n",
    "\\omega_{n,m} &=(E_{n}^{(0)}-E_{m}^{(0)})/\\hbar=(\\hbar\\omega(n+1/2)-\\hbar\\omega(m+1/2))/\\hbar \\\\\n",
    "& =(n-m)\\omega,\n",
    "\\end{align}\n",
    "então $\\omega_{1,0}=\\omega$ e a correção de primeira ordem, que é não nula somente para $m=1$, fica escrita como\n",
    "\\begin{equation}\n",
    "a_{m}^{(1)}(t) = \\Big(\\frac{g}{\\hbar\\omega}\\Big)\\left(e^{i\\omega t}-1\\right)\\delta_{m,1}.\n",
    "\\end{equation}"
   ]
  },
  {
   "cell_type": "markdown",
   "metadata": {},
   "source": [
    "__Correção de 2ª ordem__:\n",
    "\\begin{align}\n",
    "a_{m}^{(2)}(t) & = \\frac{1}{i\\hbar}\\int_{0}^{t}dt'\\sum_{n}a_{n}^{(1)}(t')e^{i\\omega_{mn}t'}\\langle m|H_{1}|n\\rangle \\\\\n",
    "& = \\frac{1}{i\\hbar}\\int_{0}^{t}dt'\\sum_{n}\\frac{g}{\\hbar\\omega}\\left(e^{i\\omega t'}-1\\right)\\delta_{n,1}e^{i\\omega_{mn}t'}(-g)(\\sqrt{n+1}\\delta_{m,n+1} + \\sqrt{n}\\delta_{m,n-1}) \\\\\n",
    "& = \\frac{-g^{2}}{i\\hbar^{2}\\omega}\\int_{0}^{t}dt'\\left(e^{i\\omega t'}-1\\right)e^{i\\omega_{m,1}t'}(\\sqrt{1+1}\\delta_{m,1+1} + \\sqrt{1}\\delta_{m,1-1}) \\\\\n",
    "& = \\frac{-g^{2}}{i\\hbar^{2}\\omega}\\left(\\sqrt{2}\\delta_{m,2}\\int_{0}^{t}dt'\\left(e^{i\\omega t'}-1\\right)e^{i\\omega_{2,1}t'} + \\delta_{m,0}\\int_{0}^{t}dt'\\left(e^{i\\omega t'}-1\\right)e^{i\\omega_{0,1}t'} \\right) \\\\\n",
    "& = \\frac{-g^{2}}{i\\hbar^{2}\\omega}\\left(\\sqrt{2}\\delta_{m,2}\\int_{0}^{t}dt'\\left(e^{i\\omega t'}-1\\right)e^{i\\omega t'} + \\delta_{m,0}\\int_{0}^{t}dt'\\left(e^{i\\omega t'}-1\\right)e^{-i\\omega t'} \\right) \\\\\n",
    "& = \\frac{-g^{2}}{i\\hbar^{2}\\omega}\\left(\\sqrt{2}\\delta_{m,2}\\left(\\int_{0}^{t}dt'e^{2i\\omega t'} - \\int_{0}^{t}dt'e^{i\\omega t'}\\right) + \\delta_{m,0}\\left(\\int_{0}^{t}dt' -\\int_{0}^{t}dt'e^{-i\\omega t'} \\right)\\right) \\\\\n",
    "& = \\frac{-g^{2}}{i\\hbar^{2}\\omega}\\left(\\sqrt{2}\\delta_{m,2}\\left(\\frac{e^{2i\\omega t}-1}{2i\\omega} - \\frac{e^{i\\omega t}-1}{i\\omega}\\right) + \\delta_{m,0}\\left(t - \\frac{e^{-i\\omega t}-1}{-i\\omega} \\right)\\right) \\\\\n",
    "& = \\frac{g^{2}}{\\hbar^{2}\\omega^{2}}\\left(\\sqrt{2}\\delta_{m,2}2^{-1}\\left(e^{2i\\omega t}-1 - 2e^{i\\omega t}+2\\right) + \\delta_{m,0}\\left(i\\omega t + e^{-i\\omega t}-1 \\right)\\right) \\\\\n",
    "& = \\left(\\frac{g}{\\hbar\\omega}\\right)^{2}\\left(\\delta_{m,2}2^{-1/2}\\left(e^{2i\\omega t}-1\\right)^{2} + \\delta_{m,0}\\left(i\\omega t + e^{-i\\omega t}-1 \\right)\\right).\n",
    "\\end{align}\n",
    "Note que haverá correção de segunda ordem somente para $m=0$ e para $m=2$."
   ]
  },
  {
   "cell_type": "markdown",
   "metadata": {},
   "source": [
    "Considerando forças pequenas,\n",
    "$$g\\ll \\hbar\\omega,$$\n",
    "e contando que as correções de ordem maior terão magnitude proporcional a $(g/\\hbar\\omega)^{j}$, desprezamos correções de ordem maior que 2. Assim o __estado corrigido não normalizado__ lê-se\n",
    "\\begin{align}\n",
    "|\\psi_{t}\\rangle & = \\sum_{n=0}^{\\infty}a_{n}(t)e^{-iE_{n}^{(0)}t/\\hbar}|n\\rangle \\\\\n",
    "& \\propto  a_{0}(t)e^{-iE_{0}^{(0)}t/\\hbar}|0\\rangle + a_{1}(t)e^{-iE_{1}^{(0)}t/\\hbar}|1\\rangle + a_{2}(t)e^{-iE_{2}^{(0)}t/\\hbar}|2\\rangle \\\\\n",
    "& \\approx \\left(c_{0}+a_{0}^{(1)}(t)+a_{0}^{(2)}(t)\\right)e^{-i\\omega t/2}|0\\rangle + \\left(c_{1}+a_{1}^{(1)}(t)+a_{1}^{(2)}(t)\\right)e^{-3i\\omega t/2}|1\\rangle + \\left(c_{2}+a_{2}^{(1)}(t)+a_{2}^{(2)}(t)\\right)e^{-5i\\omega t/2}|2\\rangle \\\\\n",
    "& = \\left(1+0+\\left(\\frac{g}{\\hbar\\omega}\\right)^{2}\\left(i\\omega t + e^{-i\\omega t}-1 \\right)\\right)e^{-i\\omega t/2}|0\\rangle + \\left(0+\\frac{g}{\\hbar\\omega}\\left(e^{i\\omega t}-1\\right)+0\\right)e^{-3i\\omega t/2}|1\\rangle \\\\\n",
    "& \\hspace{0.5cm} + \\left(0+0+\\left(\\frac{g}{\\hbar\\omega}\\right)^{2}2^{-1/2}\\left(e^{2i\\omega t}-1\\right)^{2}\\right)e^{-5i\\omega t/2}|2\\rangle \\\\\n",
    "& = \\left(1+\\left(\\frac{g}{\\hbar\\omega}\\right)^{2}\\left(i\\omega t + e^{-i\\omega t}-1 \\right)\\right)e^{-i\\omega t/2}|0\\rangle + \\frac{g}{\\hbar\\omega}\\left(e^{i\\omega t}-1\\right)e^{-3i\\omega t/2}|1\\rangle + \\left(\\frac{g}{\\hbar\\omega}\\right)^{2}2^{-1/2}\\left(e^{2i\\omega t}-1\\right)^{2}e^{-5i\\omega t/2}|2\\rangle.\n",
    "\\end{align}\n",
    "\n",
    "Vale observar que para usar esse estado para calcular probabilidades, devemos primeiramente normalizá-lo, o que será feito em um exercício."
   ]
  },
  {
   "cell_type": "markdown",
   "metadata": {},
   "source": [
    "## Régra de ouro de Fermi\n",
    "\n",
    "Vamos considerar um sistema físico preparado inicialmente em um autoestado de $H_0$:\n",
    "$$|\\psi_0\\rangle = |\\psi_i^{(0)}\\rangle = \\sum_n c_n|\\psi_n^{(0)}\\rangle \\ \\therefore\\ c_n = \\delta_{n,i}.$$\n",
    "Estaremos interessados em calcular qual é a probabilidade do sistema, sob a ação de $H_1$, fazer a transição para um certo autovetor de $H_0$:\n",
    "$$|\\psi_t\\rangle = |\\psi_f^{(0)}\\rangle.$$\n",
    "Lembremos que \n",
    "$$|\\psi_t\\rangle = \\sum_m a_m(t)e^{-iE_m^{(0)}t/\\hbar}|\\psi_m^{(0)}\\rangle$$\n",
    "com \n",
    "$a_m(t) = \\sum_{j=0}^\\infty a_m^{(j)}(t)$\n",
    "em que\n",
    "$a_{m}^{(j)}(t) = \\frac{1}{i\\hbar}\\int_{0}^{t}dt'\\sum_{n}a_{n}^{(j-1)}(t')e^{i\\omega_{mn}t'}\\langle\\psi_{m}^{(0)}|H_{1}|\\psi_{n}^{(0)}\\rangle.$"
   ]
  },
  {
   "cell_type": "markdown",
   "metadata": {},
   "source": [
    "A probabilidade de transição entre autovetores de $H_0$ é\n",
    "\\begin{align}\n",
    "Pr\\big(|\\psi_i^{(0)}\\rangle\\rightarrow|\\psi_f^{(0)}\\rangle\\big) & = \\big|\\langle \\psi_f^{(0)}|\\psi_t\\rangle\\big|^2 \\\\\n",
    "& = \\Big|\\langle \\psi_f^{(0)}|\\sum_m a_m(t)e^{-iE_m^{(0)}t/\\hbar}|\\psi_m^{(0)}\\rangle\\Big|^2 \\\\ \n",
    "& = \\Big|\\sum_m a_m(t)e^{-iE_m^{(0)}t/\\hbar}\\langle \\psi_f^{(0)}|\\psi_m^{(0)}\\rangle\\Big|^2 \\\\\n",
    "& = \\Big|\\sum_m a_m(t)e^{-iE_m^{(0)}t/\\hbar}\\delta_{f,m}\\Big|^2 \\\\\n",
    "& = \\Big|a_f(t)e^{-iE_f^{(0)}t/\\hbar}\\Big|^2 \\\\\n",
    "& = \\big|a_f(t)\\big|^2.\n",
    "\\end{align}\n",
    "\n",
    "Consideremos \n",
    "$$H_1 = V$$\n",
    "com $H_1=V$ sendo hermitiano e __independente do tempo__. A correção perturbativa de 1ª ordem para o coeficiente $a_i(t)$ é"
   ]
  },
  {
   "cell_type": "markdown",
   "metadata": {},
   "source": [
    "\\begin{align}\n",
    "a_f^{(1)}(t) & = \\frac{1}{i\\hbar}\\int_0^t dt' \\sum_n a_n^{(0)}(t)e^{i\\omega_{f,n}t'}\\langle\\psi_f^{(0)}|H_1|\\psi_n^{(0)}\\rangle \\\\\n",
    "& = \\frac{1}{i\\hbar}\\int_0^t dt' \\sum_n c_n e^{i\\omega_{f,n}t'}\\langle\\psi_f^{(0)}|V|\\psi_n^{(0)}\\rangle \\\\\n",
    "& = \\frac{1}{i\\hbar}\\int_0^t dt' \\sum_n \\delta_{n,i} e^{i\\omega_{f,n}t'}V_{f,n} \\\\\n",
    "& = \\frac{1}{i\\hbar}\\int_0^t dt' e^{i\\omega_{f,i}t'}V_{f,i} \\\\\n",
    "& = \\frac{1}{i\\hbar}V_{f,i}\\int_0^t dt' e^{i\\omega_{f,i}t'} \\\\\n",
    "& = \\frac{1}{i\\hbar}V_{f,i}\\Big(\\frac{e^{i\\omega_{f,i}t'}}{i\\omega_{f,i}}\\Big)_0^t \\\\\n",
    "& = -\\frac{V_{f,i}}{\\omega_{f,i}\\hbar}\\Big(e^{i\\omega_{f,i}t} - 1\\Big) \\\\\n",
    "& = -\\frac{V_{f,i}}{\\hbar^{-1}(E_f - E_i)\\hbar}e^{i\\omega_{f,i}t/2}\\Big(e^{i\\omega_{f,i}t/2} - e^{-i\\omega_{f,i}t/2}\\Big) \\\\\n",
    "& = -\\frac{V_{f,i}}{E_f - E_i}e^{i\\omega_{f,i}t/2}2i\\sin(\\omega_{f,i}t/2).\n",
    "\\end{align}"
   ]
  },
  {
   "cell_type": "markdown",
   "metadata": {},
   "source": [
    "Se nos limitarmos a correções perturbativas de 1ª ordem, teremos a probabilidade de transição\n",
    "\\begin{align}\n",
    "Pr\\big(|\\psi_i^{(0)}\\rangle\\rightarrow|\\psi_f^{(0)}\\rangle\\big) & \\approx |a_f^{(0)}(t)+a_f^{(1)}(t)|^2 \\\\\n",
    "& = 0 +  \\frac{4|V_{f,i}|^2}{(E_f-E_i)^2}\\sin^2(\\omega_{f,i}t/2) \\\\\n",
    "& = \\frac{4|V_{f,i}|^2}{\\hbar^2}\\frac{\\sin^2(\\omega_{f,i}t/2)}{\\omega_{f,i}^2}.\n",
    "\\end{align}"
   ]
  },
  {
   "cell_type": "markdown",
   "metadata": {},
   "source": [
    "Seguindo, vamos considerar que o estado inicial, $|\\psi_i^{(0)}\\rangle$, faz parte do espectro __discreto__ de $H_0$ e que o estado final, $|\\psi_f^{(0)}\\rangle$, faz parte de espectro __contínuo__ de $H_0$. Vamos considerar a probabilidade de transição para um conjunto de estados finais do contínuo:\n",
    "\\begin{align}\n",
    "Pr\\big(|\\psi_i^{(0)}\\rangle\\rightarrow\\{|\\psi_f^{(0)}\\rangle\\}\\big) & = \\sum_{f}Pr\\big(|\\psi_i^{(0)}\\rangle\\rightarrow|\\psi_f^{(0)}\\rangle\\big) \\\\\n",
    "& = \\int Pr\\big(|\\psi_i^{(0)}\\rangle\\rightarrow|\\psi_f^{(0)}\\rangle\\big)\\rho(E_f)dE_f \\\\\n",
    "& = \\int 4|V_{f,i}|^2\\frac{\\sin^2((E_f-E_i)^2t/2\\hbar^2)}{(E_f-E_i)^2}\\rho(E_f)dE_f,\n",
    "\\end{align}\n",
    "em que $\\rho(E_f)$ é a densidade de probabilidade da energia $E_f$. Com a ajuda da figura abaixo, onde graficamos $\\sin^2(x/2)/x^2$, vemos que a maior contribuição para essa integral é obtida para valores de $E_f$ próximos de $E_i$."
   ]
  },
  {
   "cell_type": "code",
   "execution_count": 57,
   "metadata": {},
   "outputs": [
    {
     "data": {
      "image/png": "[encoded data removed]",
      "text/plain": [
       "<Figure size 640x480 with 1 Axes>"
      ]
     },
     "metadata": {},
     "output_type": "display_data"
    }
   ],
   "source": [
    "import numpy as np\n",
    "import math\n",
    "from matplotlib import pyplot as plt\n",
    "\n",
    "x = np.arange(-6*math.pi,6*math.pi,0.1)\n",
    "y = (np.sin(x/2)**2)/(x**2)\n",
    "plt.plot(x,y)\n",
    "plt.xlabel(r'$\\omega_{f,i}/t$')\n",
    "plt.ylabel(r'$\\sin^2(\\omega_{f,i}t/2)/\\omega_{f,i}^2$')\n",
    "plt.show()"
   ]
  },
  {
   "cell_type": "markdown",
   "metadata": {},
   "source": [
    "Vamos assumir que __$V_{f,i}$ e $\\rho(E_f)$ variam pouco__ nesse pequeno intervalo de valores de $E_f$ de forma que podemos, de forma aproximada, tirá-los da integral:\n",
    "\\begin{align}\n",
    "Pr\\big(|\\psi_i^{(0)}\\rangle\\rightarrow\\{|\\psi_f^{(0)}\\rangle\\}\\big) & \\approx 4|V_{f,i}|^2\\rho(E_f)\\int \\frac{\\sin^2((E_f-E_i)^2t/2\\hbar^2)}{(E_f-E_i)^2}dE_f \\\\\n",
    "& = 4|V_{f,i}|^2\\rho(E_f)\\int \\frac{\\sin^2(\\omega_{f,i}^2 t/2)}{(\\hbar\\omega_{f,i}t/2)^2(2/t)^2}\\hbar d(\\omega_{f,i} t/2)(2/t) \\\\\n",
    "& = \\frac{2|V_{f,i}|^2\\rho(E_f) t}{\\hbar} \\int \\frac{\\sin^2(u)}{u^2} du \\\\\n",
    "& = \\frac{2|V_{f,i}|^2\\rho(E_f) t}{\\hbar}\\pi,\n",
    "\\end{align}\n",
    "em que usamos $dE_f = \\hbar d\\omega_{f,i}$ pois $E_i$ é fixa, e a integral é resolvida a seguir. Com isso, a __probabilidade de transição por unidade de tempo__ pode ser escrita como\n",
    "\\begin{align}\n",
    "w & = \\frac{Pr\\big(|\\psi_i^{(0)}\\rangle\\rightarrow\\{|\\psi_f^{(0)}\\rangle\\}\\big)}{t} \\\\\n",
    "& \\approx \\frac{2\\pi}{\\hbar}|V_{f,i}|^2\\rho(E_f),\n",
    "\\end{align}\n",
    "com $\\rho(E_f)$ calculada em $E_f=E_i$. Essa é a __regra de ouro de Fermi__. Ela diz que a probabilidade de transição de um autoestado do espectro discreto para um autoestado do espectro contínuo é proporcional ao elemento de matriz do Hamiltoniano de perturbação ligando estes estados e à densidade de estados do espectro contínuo em torno daquele valor de energia."
   ]
  },
  {
   "cell_type": "code",
   "execution_count": 5,
   "metadata": {},
   "outputs": [
    {
     "data": {
      "text/latex": [
       "$\\displaystyle \\pi$"
      ],
      "text/plain": [
       "pi"
      ]
     },
     "execution_count": 5,
     "metadata": {},
     "output_type": "execute_result"
    }
   ],
   "source": [
    "from sympy import symbols, integrate, sin, oo\n",
    "u = symbols('u')\n",
    "integrate((sin(u)**2)/(u**2), (u,-oo,oo))"
   ]
  },
  {
   "cell_type": "markdown",
   "metadata": {},
   "source": [
    "---\n",
    "### Solução da integral $\\int_{-\\infty}^{+\\infty} \\frac{\\sin^2(u)}{u^2} du$\n",
    "\n",
    "Começamos aplicando integração por partes:\n",
    "\\begin{align}\n",
    "& w = \\sin^2(u)\\ \\therefore\\ dw = 2\\sin(u)\\cos(u)du, \\\\\n",
    "& dv = u^{-2}du\\ \\therefore\\ v = -u^{-1}.\n",
    "\\end{align}\n",
    "Assim, usando que a função integrada é par, teremos que\n",
    "\\begin{align}\n",
    "\\int_{-\\infty}^{\\infty} \\frac{\\sin^2(u)}{u^2} du & = 2\\int_{0}^{\\infty} \\frac{\\sin^2(u)}{u^2} du \\\\\n",
    "& = 2\\Big(-\\frac{\\sin^2(u)}{u}\\Big)_0^\\infty - 2\\int_0^\\infty \\frac{2\\sin(u)\\cos(u)du}{-u} \\\\\n",
    "& = 2\\Big(-0 + \\lim_{u\\rightarrow 0}\\frac{\\sin^2(u)}{u}\\Big) + 2\\int_0^\\infty \\frac{\\sin(2u)d(2u)}{2u} \\\\\n",
    "& = 2\\Big(-0 + 0\\Big) + 2\\int_0^\\infty \\frac{\\sin(x)d(x)}{x} \\\\\n",
    "& = 2\\int_0^\\infty \\frac{\\sin(x)dx}{x} \\\\\n",
    "& = 2\\frac{\\pi}{2},\n",
    "\\end{align}\n",
    "em que usamos \n",
    "$$\\lim_{u\\rightarrow 0}\\frac{\\sin^2(u)}{u}=\\lim_{u\\rightarrow 0}\\frac{2\\sin(u)\\cos(u)}{1}=0.$$"
   ]
  },
  {
   "cell_type": "markdown",
   "metadata": {},
   "source": [
    "Essa _integral de Dirichlet_, $\\int_0^\\infty \\frac{\\sin(x)d(x)}{x}$, pode ser feita da seguinte forma. Primeiro notamos que\n",
    "$$I_1 = I_2$$\n",
    "com\n",
    "\\begin{align}\n",
    "I_2 & = \\int_0^\\infty \\int_0^\\infty e^{-sx}\\sin(x)dsdx \\\\\n",
    "& = \\int_0^\\infty \\sin(x)\\Big(\\int_0^\\infty e^{-sx}ds\\Big)dx \\\\\n",
    "& = \\int_0^\\infty \\sin(x)\\Big[\\frac{e^{-sx}}{-x}\\Big]_0^\\infty dx \\\\\n",
    "& = -\\int_0^\\infty \\frac{\\sin(x)}{x}\\Big[e^{-\\infty x}-e^{0}\\Big] dx \\\\\n",
    "& = \\int_0^\\infty \\frac{\\sin(x)}{x}dx \\\\\n",
    "\\end{align}"
   ]
  },
  {
   "cell_type": "markdown",
   "metadata": {},
   "source": [
    "e\n",
    "\\begin{align}\n",
    "I_1 & = \\int_0^\\infty \\int_0^\\infty e^{-sx}\\sin(x)dx ds \\\\\n",
    "& = \\int_0^\\infty \\frac{1}{s^2+1} ds \\\\\n",
    "& = \\int_{\\pi/2}^{0} \\frac{1}{\\tan^2(u) + 1} \\frac{-du}{\\cos^2(u)} \\\\\n",
    "& = \\int_{\\pi/2}^{0} \\frac{\\cos^2(u)}{\\sin^2(u) + \\cos^2(u)} \\frac{du}{\\cos^2(u)} \\\\\n",
    "& = \\int_0^{\\pi/2} du \\\\\n",
    "& = \\pi/2,\n",
    "\\end{align}\n",
    "em que fizemos a troca de variável $s = \\tan(u)\\ \\therefore\\ ds = du/\\cos^2 u$ e usamos a integral"
   ]
  },
  {
   "cell_type": "markdown",
   "metadata": {},
   "source": [
    "\\begin{align}\n",
    "\\int_0^\\infty e^{-sx}\\sin(x)dx & = \\int_0^\\infty e^{-sx}\\frac{e^{ix}-e^{-ix}}{2i}dx \\\\\n",
    "& = \\frac{1}{2i}\\Big(\\int_0^\\infty e^{-(s-i)x}dx - \\int_0^\\infty e^{-(s+i)x}dx\\Big) \\\\\n",
    "& = \\frac{1}{2i}\\Big( \\Big[\\frac{e^{-(s-i)x}}{-(s-i)}\\Big]_0^\\infty - \\Big[\\frac{e^{-(s+i)x}}{-(s+i)}\\Big]_0^\\infty\\Big) \\\\\n",
    "& = \\frac{1}{2i}\\Big( \\frac{1}{-(s-i)}\\Big(e^{-(s-i)\\infty}-e^{0}\\Big) - \\frac{1}{-(s+i)}\\Big[e^{-(s+i)\\infty}-e^{0}\\Big]_0^\\infty\\Big) \\\\\n",
    "& = \\frac{1}{2i}\\Big( \\frac{1}{-(s-i)}\\Big(0-1\\Big) - \\frac{1}{-(s+i)}\\Big[0-1\\Big]\\Big) \\\\\n",
    "& = \\frac{1}{2i}\\Big( \\frac{1}{(s-i)} - \\frac{1}{(s+i)}\\Big) \\\\\n",
    "& = \\frac{1}{2i}\\Big( \\frac{s+i-s+i}{(s-i)(s+i)}\\Big) \\\\\n",
    "& = \\frac{1}{2i}\\Big( \\frac{2i}{s^2 + 1}\\Big) \\\\\n",
    "& = \\frac{1}{s^2 + 1}.\n",
    "\\end{align}"
   ]
  },
  {
   "cell_type": "markdown",
   "metadata": {},
   "source": [
    "---\n",
    "# Exercícios\n",
    "\n",
    "$1.$ Para o exemplo do oscilador harmônico com força constante, no contexto da teoria de perturbação dependente do tempo, dado que a probabilidade de transição de um estado inicial $|\\psi_{i}\\rangle$ para um estado final $|\\psi_{f}\\rangle$ é dada por $Pr(|\\psi_{i}\\rangle\\rightarrow|\\psi_{f}\\rangle) = |\\langle\\psi_{f}|\\psi_{t}\\rangle|^{2}$, obtenha $Pr(|0\\rangle\\rightarrow|1\\rangle)$.\n",
    "\n",
    "$2.$ Considere um sistema quântico constituído por um átomo de 2 níveis (AT) e por um oscilador harmônico quântico unidimensional (OH). Se AT e OH não interagirem, o hamiltoniano do sistema é dado por $H_0 = -\\frac{\\hbar\\omega_a}{2}\\sigma_z + \\hbar\\omega_o(a^\\dagger a+I/2),$ com $\\sigma_z = |1\\rangle\\langle 1|-|2\\rangle\\langle 2|.$ Mostre que os autovalores e autovetores de $H_0$ são dados, respectivamente, por $E_{j,n}^{(0)} = -\\frac{\\hbar\\omega_a}{2}(-1)^{j-1} + \\hbar\\omega_o(n+1/2)$ e $|\\psi_{j,n}^{(0)}\\rangle = |j\\rangle_a\\otimes|n\\rangle_o$. Consideremos agora que a interação do AT com o OH é descrita pelo seguinte hamiltoniano de interação $H_1 = \\frac{-i\\hbar g}{2}(\\sigma_+ a + \\sigma_- a^\\dagger),$ em que $\\sigma_+ = |2\\rangle\\langle 1|$ e $\\sigma_- = |1\\rangle\\langle 2|$ são, respectivamente, os operadores de levantamento e abaixamento para AT. Sempre podemos escrever o estado evoluído como $|\\psi_t\\rangle = \\sum_{j=1}^{2}\\sum_{n=0}^{\\infty}a_{j,n}(t)e^{-iE_{j,n}^{(0)}t/\\hbar}|j\\rangle\\otimes|n\\rangle.$ Para o sistema preparado em um estado inicial $|\\psi_{t=0}\\rangle = |1\\rangle_a\\otimes|1\\rangle_o$, usando teoria de perturbação dependente do tempo de 1ª ordem, mostre que, no instante de tempo $t$, encontraremos o sistema no estado $|2\\rangle_a\\otimes|0\\rangle_o$ com probabilidade proporcioanal a $Pr(|2\\rangle_a\\otimes|0\\rangle_o)_t = \\frac{g^2}{2\\omega_{(2,0),(1,1)}^2} \\big(1 - \\cos(\\omega_{(2,0),(1,1)}t)\\big)$, em que $\\omega_{(j,n),(j',n')} = E_{j,n}^{(0)} - E_{j',n'}^{(0)}$ é a frequência de Bohr.\n",
    "\n",
    "$3.$ Desenvolva a teoria de perturbação dependente do tempo para resolver a equação de Schrödinger  $i\\hbar\\partial_t|\\psi_t\\rangle = H_t|\\psi_t\\rangle$ com $H_t=H_0+H_1$ para espectros degenerados, i.e., para $H_{0}|\\psi_{nk}^{(0)}\\rangle=E_{n}^{(0)}|\\psi_{nk}^{(0)}\\rangle;\\ k=1,\\cdots,d_n.$\n",
    "\n",
    "$4.$ Considere o oscilador harmônico quântico bidimensional (OHQ2D) preparado incialmente no estado fundamental $|00\\rangle$ e sujeito a uma força constante $\\vec{F} = -g(\\hat{i}+\\hat{j})$. Obtenha o hamiltoniano de perturbação (energia potencial) correspondente a esta força. Use teoria de perturbação dependente do tempo degenerada para calcular a probabilidade do OHQ2D transitar para o estado $|01\\rangle$ no instante de tempo $t$."
   ]
  }
 ],
 "metadata": {
  "kernelspec": {
   "display_name": "Python 3 (ipykernel)",
   "language": "python",
   "name": "python3"
  },
  "language_info": {
   "codemirror_mode": {
    "name": "ipython",
    "version": 3
   },
   "file_extension": ".py",
   "mimetype": "text/x-python",
   "name": "python",
   "nbconvert_exporter": "python",
   "pygments_lexer": "ipython3",
   "version": "3.12.2"
  }
 },
 "nbformat": 4,
 "nbformat_minor": 4
}
