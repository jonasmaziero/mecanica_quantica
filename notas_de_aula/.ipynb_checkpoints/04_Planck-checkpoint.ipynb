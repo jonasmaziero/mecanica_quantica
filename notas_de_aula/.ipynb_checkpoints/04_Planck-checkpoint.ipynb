{
 "cells": [
  {
   "cell_type": "markdown",
   "metadata": {},
   "source": [
    "### Notas de aula de Mecânica Quântica <br> Autor: Jonas Maziero"
   ]
  },
  {
   "cell_type": "markdown",
   "metadata": {},
   "source": [
    "# Quantização da energia\n",
    "## Radiação de corpo negro\n",
    "Um sistema físico em __equilíbrio térmico__ é caracterizado pelo fato de que as taxas com que este absorve e libera energia são as mesmas. Aqui vamos focar em trocas de energia com o ambiente através da emissão e absorção de radiação eletromagnética (RE). \n",
    "\n",
    "Sistemas atômicos ou moleculares (e.g. gases), emitem e absorvem RE num conjunto discreto de frequências. Aqui estaremos interessados em sistemas condensados, líquidos ou sólidos, que emitem e absorvem RE em um conjunto _contínuo de frequências_. \n",
    "\n",
    "O __espectro__ de absorção (EA) ou espectro de emissão (EE) de RE de um sistema condensado é, respectivamente, a intensidade da RE emitida ou absorvida como função da sua frequência $\\nu$ (ou do comprimento de onda $\\lambda=c/\\nu$). \n",
    "\n",
    "Todo sistema físico possui _temperatura_ positiva (pela $3^{a}$ lei da termodinâmica) e troca energia (mais comumente RE) com seu ambiente. O espectro dessa RE depende da temperatura desse sistema e também de sua composição (e possivelmente de outros fatores, tais como geometria, que não serão considerados aqui). __Corpos negros__ ideais são sistemas que absorvem toda a RE (em todas as frequências) que neles incide. O EA e EE de corpos negros são ditos normais, pois independem da do tipo de átomo que os constitui. Todos os resultados discutidos na sequência se referem a esse tipo de sistema.\n",
    "\n",
    "Uma radiação eletromagnética que se assemelha bem à radiação de corpo negro é a radiação provinda de uma cavidade em equilíbrio térmico, que é a radiação que sai por um orifício muito pequeno feito como ilustrado na figura abaixo. As teorias desenvolvidas a seguir são implementadas nesse tipo de corpo negro.\n",
    "\n",
    "<figure>\n",
    "    <img src=\"fig_02_cavity.png\" width=\"200\">\n",
    "    <div class=\"caption\">Fonte: https://commons.wikimedia.org/wiki/File:Conceptual-black-body.svg.</div>\n",
    "</figure>\n"
   ]
  },
  {
   "cell_type": "markdown",
   "metadata": {},
   "source": [
    "### Resultados empíricos\n",
    "A __radiância espectral__ $R_{T}(\\lambda)$ é definida de forma que $R_{T}(\\lambda)d\\lambda$ é a energia por unidade de tempo (potência) por unidade de área ganha ou perdida (por absorção ou emissão de RE com comprimento de onda entre $\\lambda$ e $\\lambda+d\\lambda$) por um corpo negro a uma temperatura $T$:\n",
    "\\begin{equation}\n",
    "R_{T}(\\lambda)d\\lambda = \\frac{\\text{energia emitida ou absorvida nos comprimentos de onda entre } \\lambda \\text{ e } \\lambda+d\\lambda}{(\\text{unidade de área})(\\text{unidade de tempo})}.\n",
    "\\end{equation}\n",
    "De experimentos, sabe-se que, para um corpo negro em uma dada temperatura $T$, $R_{T}(\\lambda)$ vai pra zero para comprimentos de onda muito baixos e muito altos:\n",
    "\\begin{equation}\n",
    "R_{T}(\\lambda\\rightarrow 0)\\rightarrow 0 \\text{ e } R_{T}(\\lambda\\rightarrow \\infty)\\rightarrow 0,\n",
    "\\end{equation}\n",
    "passando por um máximo em um comprimento de onda que é proporcional ao inverso da temperatura ($\\max_{\\lambda} R_{T}(\\lambda)\\equiv R_{T}(\\lambda_{\\max})$):\n",
    "\\begin{equation}\n",
    "\\lambda_{\\max}\\propto \\frac{1}{T} \\therefore \\nu_{\\max}\\propto T,\n",
    "\\end{equation}\n",
    "resultado conhecido como __lei de deslocamento de Wien__.\n",
    "\n",
    "\n",
    "Sabe-se também que a _radiância_, \n",
    "\\begin{equation}\n",
    "R_{T}:=\\int_{0}^{\\infty}R_{T}(\\lambda)d\\lambda =\\frac{\\text{energia emitida ou absorvida}}{(\\text{unidade de área})(\\text{unidade de tempo})},\n",
    "\\end{equation}\n",
    "aumenta com a temperatura seguindo a __lei de Stefan-Boltzmann__:\n",
    "\\begin{equation}\n",
    "R_{T}=\\sigma T^{4},\n",
    "\\end{equation}\n",
    "em que \n",
    "$$\\sigma=5,67\\mathrm{x}10^{-8}\\hspace{0.1cm}\\mathrm{W}/\\mathrm{m}^{2}K^{4}$$ \n",
    "é a constante de Stefan-Boltzmann."
   ]
  },
  {
   "cell_type": "markdown",
   "metadata": {},
   "source": [
    "### Número de modos de oscilação\n",
    "#### Cavidade 1D\n",
    "Consideraremos cavidades metálicas, e portanto que a amplitude da onda eletromagética é nula nas paredes. Começamos considerando uma cavidade unidimensional de comprimento $L$, como ilustrado na figura abaixo. \n",
    "<figure>\n",
    "    <img src=\"fig_02_cavity1D.png\" width=\"300\">\n",
    "</figure>\n",
    "Para ondas estacionárias, somente comprimentos de onda da RE tais que um número inteiro de meios comprimentos de onda cabe no espaço $L$ são possíveis:\n",
    "\\begin{equation}\n",
    "n_{x}\\frac{\\lambda}{2} = L \\Rightarrow n_{x} = \\frac{2L}{\\lambda} \\text{ com } n_{x}=1,2,3,\\cdots.\n",
    "\\end{equation}\n",
    "Se consideramos comprimentos de onda em um intervalo entre $\\lambda$ e $\\lambda+d\\lambda$, com $d\\lambda\\rightarrow 0$, o número de modos de oscilação da RE nesse intervalo é:\n",
    "\\begin{equation}\n",
    "d n_{x} = \\left|\\lim_{d\\lambda\\rightarrow 0}\\left(\\frac{\\frac{2L}{\\lambda+d\\lambda}-\\frac{2L}{\\lambda}}{d\\lambda}\\right)\\right|d\\lambda=\\frac{2L}{\\lambda^{2}}d\\lambda.\n",
    "\\end{equation}\n",
    "Como existem duas polarizações ortogonais (ondas totalmente distiguíveis) pra cada modo de oscilação, multiplicamos a equação anterior por dois:\n",
    "\\begin{equation}\n",
    "d n_{x} = \\frac{4L}{\\lambda^{2}}d\\lambda.\n",
    "\\end{equation}"
   ]
  },
  {
   "cell_type": "markdown",
   "metadata": {},
   "source": [
    "#### Cavidade 2D\n",
    "Vamos agora para a contagem do número de modos de oscilação em uma cavidade bi-dimensinal, que está ilustrada na figura abaixo.\n",
    "<figure>\n",
    "    <img src=\"fig_02_cavity2D.png\" width=\"200\">\n",
    "</figure>\n",
    "A amplitude da onda deve ser nula nas paredes. Podemos escrever essa onda da seguinte forma (colocamos a origem do referencial no canto inferior esquerdo):\n",
    "\\begin{equation}\n",
    "f(x,y)=C(t)\\sin k_{x}x\\sin k_{y}y = C(t)\\sin\\frac{n_{x}\\pi x}{L}\\sin\\frac{n_{y}\\pi y}{L},\n",
    "\\end{equation}\n",
    "com $n_{x},n_{y}\\in\\mathbb{Z}_{+}$. Para determinar os possíveis valores desses números de modos, transformamos o problema 2D em um problema 1D, usando a ilustração da figura acima. Podemos pensar em termos das coordenadas dos pontos de amplitude nula, ou, da mesma forma, em termos das projeções 1D da onda 2D. Essas projeções devem ser tais que múltiplos inteiros de meio \"comprimento de onda\" cabem nas direções $x$ e $y$, i.e.,\n",
    "\\begin{equation}\n",
    "L = n_{x}\\frac{\\lambda_{x}}{2} = n_{x}\\frac{\\lambda}{2\\sin\\phi} \\text{ e } L = n_{y}\\frac{\\lambda_{y}}{2} = n_{y}\\frac{\\lambda}{2\\cos\\phi}.\n",
    "\\end{equation}\n",
    "Assim, no espaço $(n_{x},n_{y})$ do número de modos de oscilação, os pontos dentro do círculo de raio quadrado:\n",
    "\\begin{equation}\n",
    "r^{2}=n_{x}^{2}+n_{y}^{2} = \\frac{4L^{2}}{\\lambda^{2}}\\left(\\sin^{2}\\phi+\\cos^{2}\\phi\\right)=  \\frac{4L^{2}}{\\lambda^{2}},\n",
    "\\end{equation}\n",
    "nos fornecem o número de modos com comprimento de onda maior que um certo comprimento de onda mínimo. O número de modos de oscilação é então dado pela área do respectivo quadrante:\n",
    "\\begin{equation}\n",
    "N = \\pi r^{2}\\frac{1}{4} = \\pi \\frac{4L^{2}}{\\lambda^{2}}\\frac{1}{4}=\\frac{\\pi L^{2}}{\\lambda^{2}}.\n",
    "\\end{equation}\n",
    "Então o número de modos de oscilação no intervalo entre $\\lambda$ e $\\lambda+d\\lambda$ é (já multiplicado por 2 por causa das polarizações ortogonais) é:\n",
    "\\begin{equation}\n",
    "dN = \\Big|\\frac{dN}{d\\lambda}\\Big|d\\lambda = \\frac{4\\pi L^{2}}{\\lambda^{3}}d\\lambda.\n",
    "\\end{equation}"
   ]
  },
  {
   "cell_type": "markdown",
   "metadata": {},
   "source": [
    "#### Cavidade 3D\n",
    "Para o caso tridimensional fazemos o processo análogo:\n",
    "\\begin{equation}\n",
    "L = n_{x}\\frac{\\lambda_{x}}{2} = n_{x}\\frac{\\lambda}{2\\sin\\theta\\cos\\phi} = n_{y}\\frac{\\lambda_{y}}{2} = n_{y}\\frac{\\lambda}{2\\sin\\theta\\sin\\phi} = n_{z}\\frac{\\lambda_{z}}{2} = n_{z}\\frac{\\lambda}{2\\cos\\theta}.\n",
    "\\end{equation}\n",
    "Nesse caso o número de modos de oscilação é obtido pelo volume no espaço $(n_{x},n_{y},n_{z})$ do octante de raio quadrado:\n",
    "\\begin{align}\n",
    "& r^{2} = n_{x}^{2}+n_{y}^{2}+n_{z}^{2} \\\\\n",
    "& = \\frac{4L^{2}}{\\lambda^{2}}\\left(\\sin^{2}\\theta\\cos^{2}\\phi+\\sin^{2}\\theta\\sin^{2}\\phi+\\cos^{2}\\theta\\right) \\\\ \n",
    "& = \\frac{4L^{2}}{\\lambda^{2}}, \\\\\n",
    "& \\therefore\\ r =  \\frac{2L}{\\lambda},\n",
    "\\end{align}\n",
    "que é\n",
    "\\begin{equation}\n",
    "N = \\frac{4}{3}\\pi r^{3}\\frac{1}{8} = \\frac{4}{3}\\pi \\frac{2^{3}L^{3}}{\\lambda^{3}}\\frac{1}{8} = \\frac{4\\pi L^{3}}{3\\lambda^{3}}.\n",
    "\\end{equation}\n",
    "Por conseguinte, o número de modos de oscilação no intervalo entre $\\lambda$ e $\\lambda+d\\lambda$ é (já multiplicado por 2 por causa das polarizações ortogonais) é:\n",
    "\\begin{equation}\n",
    "dN = \\Big|\\frac{dN}{d\\lambda}\\Big|d\\lambda = \\frac{8\\pi L^{3}}{\\lambda^{4}}d\\lambda.\n",
    "\\end{equation}\n",
    "\n",
    "A quantidade que usaremos posteriormente, e que é independente da geometria da cavidade, é a _densidade volumétrica de modos de oscilação_:\n",
    "\\begin{equation}\n",
    "n(\\lambda)d\\lambda = \\frac{dN}{L^{3}}= \\frac{8\\pi}{\\lambda^{4}}d\\lambda.\n",
    "\\end{equation}"
   ]
  },
  {
   "cell_type": "markdown",
   "metadata": {},
   "source": [
    "### Teoria clássica: Equação de Rayleigh-Jeans\n",
    "Para a radiação térmica de cavidade, teremos que a radiância espectral (potência emitida através do orifício) é proporcional à densidade de energia dentro da cavidade:\n",
    "\\begin{equation}\n",
    "R_{T}(\\lambda) \\propto u_{T}(\\lambda).\n",
    "\\end{equation}\n",
    "Essa densidade de energia será calculada multiplicando-se a densidade de modos de oscilação pela energia média de cada modo:\n",
    "\\begin{equation}\n",
    "u_{T}(\\lambda) = n(\\lambda)\\bar{E}.\n",
    "\\end{equation}\n",
    "\n",
    "A densidade de probabilidade para um sistema em equilíbrio térmico a uma temperatura $T$ era conhecida e é dada pelo __fator de Boltzmann__:\n",
    "\\begin{equation}\n",
    "\\rho(E) = Ae^{-\\beta E},\n",
    "\\end{equation}\n",
    "com\n",
    "\\begin{equation}\n",
    "\\beta=\\frac{1}{k_{B}T}\n",
    "\\end{equation}\n",
    "e $A$ é uma constante de normalização. Note que $\\rho(E)dE$ é a probabilidade do sistema ter energia com valor entre $E$ e $E+dE$. Na última equação, \n",
    "$$k_{B}=1,38065\\mathrm{x}10^{-23}\\text{ J/K}$$\n",
    "é a constante de Boltzmann. Para o caso da energia assumir valores no contínuo dos números reais, a normalização requer que o sistema livre tenha algum valor positivo de energia, i.e.,\n",
    "\\begin{align}\n",
    "& \\int_{0}^{\\infty}\\rho(E)dE=\\int_{0}^{\\infty}Ae^{-\\beta E}dE = 1 \\Rightarrow \\frac{A}{-\\beta}\\left(e^{-\\beta E}\\right)_{0}^{\\infty}=1 \\\\\n",
    "& \\therefore\\ \\frac{A}{-\\beta }\\left(0-1\\right)=1 \\Rightarrow A= \\beta \\\\\n",
    "& \\therefore\\ \\rho(E) = \\beta e^{-\\beta E}.\n",
    "\\end{align}"
   ]
  },
  {
   "cell_type": "markdown",
   "metadata": {},
   "source": [
    "O valor médio da energia é obtido como segue\n",
    "\\begin{align}\n",
    "\\overline{E} & := \\int_{0}^{\\infty}E\\rho(E)dE \\\\\n",
    "&= \\int_{0}^{\\infty}E\\beta e^{-\\beta E}dE \\\\\n",
    "& =: \\frac{1}{\\beta}\\int_{0}^{\\infty}w e^{-w}dw  \\\\\n",
    "& = \\frac{1}{\\beta}\\left(\\left(-we^{-w}\\right)_{0}^{\\infty}-\\int_{0}^{\\infty}-e^{-w}dw\\right) \\\\\n",
    "& = k_{B}T\\left(0+\\left(-e^{-w}\\right)_{0}^{\\infty}\\right) \\\\\n",
    "& = k_{B}T.\n",
    "\\end{align}\n",
    "Acima resolvemos a integral por partes usando \n",
    "$$u=w,\\ du=dw,\\ dv=e^{-w}dw\\Rightarrow v=-e^{-w}.$$\n",
    "Note que nesse caso a energia média só depende da temperatura.\n",
    "\n",
    "Com isso vem que\n",
    "\\begin{equation}\n",
    "u_{T}(\\lambda) = \\bar{E}n(\\lambda) = k_{B}T\\frac{8\\pi}{\\lambda^{4}} = \\frac{8\\pi k_{B}T}{\\lambda^{4}},\n",
    "\\end{equation}\n",
    "que é a chamada __equação de Rayleigh-Jeans__.\n",
    "\n",
    "Vemos assim que, fixada a temperatura, para comprimentos de onda muito grandes (frequências pequenas) a radiância espectral vai pra zero, como esperado dos experimentos:\n",
    "\\begin{equation}\n",
    "u_{T}(\\lambda\\rightarrow \\infty)\\rightarrow 0.\n",
    "\\end{equation}\n",
    "No entanto, para comprimentos de onda muito pequenos (frequências muito grandes), a previsão clássica para a radiância espectral vai para infinito:\n",
    "\\begin{equation}\n",
    "u_{T}(\\lambda\\rightarrow 0)\\rightarrow \\infty.\n",
    "\\end{equation}\n",
    "Essa previsão, que está absurdamente errada, é conhecida como a __catástrofe do ultravioleta__. Abaixo estão mostrados gráficos da radiância espectral em função do comprimento de onda para diferentes valores de temperatura."
   ]
  },
  {
   "cell_type": "code",
   "execution_count": 15,
   "metadata": {},
   "outputs": [],
   "source": [
    "from matplotlib import pyplot as plt\n",
    "import numpy as np\n",
    "import math\n",
    "kB = 1.38065*10**-23 # J/K (constante de Boltzmann)"
   ]
  },
  {
   "cell_type": "code",
   "execution_count": 17,
   "metadata": {},
   "outputs": [
    {
     "data": {
      "image/png": "[encoded data removed]",
      "text/plain": [
       "<Figure size 600x400 with 1 Axes>"
      ]
     },
     "metadata": {},
     "output_type": "display_data"
    }
   ],
   "source": [
    "def u_rayleigh_jeans(lbda,T):\n",
    "    return (8*math.pi*kB*T)/(lbda**4)\n",
    "def rayleigh_jeans(T,T1,T2,T3):\n",
    "    import matplotlib\n",
    "    matplotlib.rcParams.update({'font.size':12}); \n",
    "    plt.figure(figsize = (6,4), dpi = 100)\n",
    "    x = np.arange(100*10**-9,2500*10**-9,10*10**-9); \n",
    "    y = u_rayleigh_jeans(x,T); y1 = u_rayleigh_jeans(x,T1) \n",
    "    y2 = u_rayleigh_jeans(x,T2); y3 = u_rayleigh_jeans(x,T3)\n",
    "    plt.plot(x*10**9, y, color = 'blue'); \n",
    "    plt.plot(x*10**9, y1, color = 'cyan')\n",
    "    plt.plot(x*10**9, y2, color = 'green'); \n",
    "    plt.plot(x*10**9, y3, color = 'red')\n",
    "    plt.xlabel(r'$\\lambda(nm)$'); plt.ylabel(r'$u$')\n",
    "    plt.legend((r'$T=6000$ K',r'$T=5000$ K',r'$T=4000$ K',r'$T=3000$ K'))\n",
    "    plt.xlim(0,500); plt.ylim(0,); plt.show()\n",
    "    \n",
    "rayleigh_jeans(6000,5000,4000,3000)"
   ]
  },
  {
   "cell_type": "markdown",
   "metadata": {},
   "source": [
    "### Teoria quântica: Equação de Planck\n",
    "Como \n",
    "$$n(\\lambda) = \\frac{8\\pi}{\\lambda^{4}},$$\n",
    "e portanto $n(\\lambda\\rightarrow 0)\\rightarrow\\infty$, a única maneira de termos $u(\\lambda\\rightarrow 0)\\rightarrow 0$ é se a energia média depender do comprimento de onda, $\\overline{E}=\\overline{E}(\\lambda)$, e for pra zero mais rápido que $n$ vai pra infinito para comprimentos de onda pequenos, $\\overline{E}(\\lambda\\rightarrow 0)\\rightarrow 0$. Planck propôs uma equação empírica que satisfaz esses requerimentos e depois introduziu mudanças conceituais (que discutiremos a seguir) que lhe possibilitaram obtê-la (https://www.nobelprize.org/prizes/physics/1918/planck/lecture/).\n",
    "\n",
    "Planck supôs que a energia de um modo de oscilação da radiação eletromagnética de frequência $\\nu$ é um múltiplo de uma unidade fundamental de energia que é proporcional à frequência:\n",
    "\\begin{equation}\n",
    "\\epsilon\\propto \\nu :=h\\nu,\n",
    "\\end{equation}\n",
    "com $h$ sendo a _constante de Planck_. Ou seja, Planck supôs que a energia do oscilador não era contínua mas sim _quantizada_:\n",
    "\\begin{equation}\n",
    "E = E_{j} = j\\epsilon = jh\\nu,\n",
    "\\end{equation}\n",
    "com $j=0,1,2,3,\\cdots$.\n",
    "\n",
    "Nesse caso, a probabilidade de encontrarmos um sistema em equilíbrio térmico com uma energia $E_{j}$ é dada pelo _peso de Boltzmann_:\n",
    "\\begin{equation}\n",
    "Pr(E_{j}) = Ae^{-\\beta E_{j}} = Ae^{-\\beta jh\\nu}.\n",
    "\\end{equation}\n",
    "Pela _normalização_ segue que (usamos a série $\\sum_{j=0}^{\\infty}x^{j}=1/(1-x)$ para $|x|<1$):\n",
    "\\begin{align}\n",
    "& \\sum_{j=0}^{\\infty}Pr(E_{j}) := 1 \\\\\n",
    "& = \\sum_{j=0}^{\\infty}Ae^{-\\beta jh\\nu} = A\\sum_{j=0}^{\\infty}\\left(e^{-\\beta h\\nu}\\right)^{j} = A\\frac{1}{1-e^{-\\beta h\\nu}}. \\\\\n",
    "& \\Rightarrow A = 1-e^{-\\beta h\\nu}.\n",
    "\\end{align}\n",
    "Assim\n",
    "\\begin{equation}\n",
    "Pr(E_{j}) = (1-e^{-\\beta h\\nu})e^{-\\beta h\\nu j}.\n",
    "\\end{equation}"
   ]
  },
  {
   "cell_type": "code",
   "execution_count": 20,
   "metadata": {},
   "outputs": [],
   "source": [
    "from sympy import symbols, Sum, oo"
   ]
  },
  {
   "cell_type": "code",
   "execution_count": 22,
   "metadata": {},
   "outputs": [
    {
     "data": {
      "text/latex": [
       "$\\displaystyle \\begin{cases} \\frac{1}{1 - x} & \\text{for}\\: \\left|{x}\\right| < 1 \\\\\\sum_{j=0}^{\\infty} x^{j} & \\text{otherwise} \\end{cases}$"
      ],
      "text/plain": [
       "Piecewise((1/(1 - x), Abs(x) < 1), (Sum(x**j, (j, 0, oo)), True))"
      ]
     },
     "execution_count": 22,
     "metadata": {},
     "output_type": "execute_result"
    }
   ],
   "source": [
    "j,x = symbols('j x'); Sum(x**j,(j,0,oo)).doit()"
   ]
  },
  {
   "cell_type": "markdown",
   "metadata": {},
   "source": [
    "A energia média é dada por ($\\lambda\\nu=c$):\n",
    "\\begin{align}\n",
    "\\overline{E} &:= \\sum_{j=0}^{\\infty}E_{j}Pr(E_{j}) \\\\\n",
    "& = \\sum_{j=0}^{\\infty}jh\\nu (1-e^{-\\beta h\\nu})e^{-\\beta h\\nu j} \\\\ \n",
    "& = h\\nu (1-e^{-\\beta h\\nu})\\sum_{j=0}^{\\infty}j\\left(e^{-\\beta h\\nu}\\right)^{j} \\\\\n",
    "& = h\\nu (1-e^{-\\beta h\\nu})\\frac{e^{-\\beta h\\nu}}{(1-e^{-\\beta h\\nu})^{2}} \\\\\n",
    "& = \\frac{h\\nu e^{-\\beta h\\nu}}{1-e^{-\\beta h\\nu}} \\\\\n",
    "& = \\frac{h\\nu}{e^{\\beta h\\nu}-1} \\\\\n",
    "& = \\frac{hc/\\lambda}{e^{\\beta hc/\\lambda}-1}.\n",
    "\\end{align}\n",
    "\n",
    "A série usada acima é obtida usando o truque de Feynman $\\partial_{x}x^{j+1} = (j+1)x^{j} = jx^{j} + x^{j}$, que nos leva a:\n",
    "\\begin{align}\n",
    "\\sum_{j=0}^{\\infty} jx^{j} & = \\sum_{j=0}^{\\infty} (\\partial_{x}x^{j+1} - x^{j}) \\\\\n",
    "& = \\frac{\\partial}{\\partial_{x}}\\left(x\\sum_{j=0}^{\\infty} x^{j}\\right) - \\sum_{j=0}^{\\infty} x^{j} \\\\\n",
    "& = \\frac{\\partial}{\\partial_{x}}\\left(x\\frac{1}{1-x}\\right) - \\frac{1}{1-x} \\\\\n",
    "& = \\frac{1}{1-x} + \\frac{x}{(1-x)^{2}} - \\frac{1}{1-x} \\\\\n",
    "& = \\frac{x}{(1-x)^{2}}.\n",
    "\\end{align}"
   ]
  },
  {
   "cell_type": "markdown",
   "metadata": {},
   "source": [
    "A densidade de energia eletromagnética dentro da cavidade é então dada pela __fórmula de Planck__:\n",
    "\\begin{align}\n",
    "u_{T}(\\lambda) & = n(\\lambda)\\overline{E} \\\\\n",
    "& = \\frac{8\\pi}{\\lambda^{4}}\\frac{hc/\\lambda}{e^{\\beta hc/\\lambda}-1} \\\\ \n",
    "& = \\frac{8\\pi hc}{\\lambda^{5}(e^{hc/k_{B}T\\lambda}-1)}.\n",
    "\\end{align}\n",
    "Essa fórmula descreve muito bem os valores obtidos experimentalmente, com a constante de Planck tomando o valor:\n",
    "\\begin{equation}\n",
    "h = 6.626069\\times 10^{-34}\\ Js.\n",
    "\\end{equation}\n",
    "A seguir estão mostrados gráficos de $u_{T}(\\lambda).$"
   ]
  },
  {
   "cell_type": "code",
   "execution_count": 26,
   "metadata": {},
   "outputs": [],
   "source": [
    "h = 6.626069*10**-34 # Js (constante de Planck)\n",
    "c = 2.99792458*10**8 # m/s (velocidade da luz no vácuo)"
   ]
  },
  {
   "cell_type": "code",
   "execution_count": 28,
   "metadata": {},
   "outputs": [
    {
     "data": {
      "image/png": "[encoded data removed]",
      "text/plain": [
       "<Figure size 600x400 with 1 Axes>"
      ]
     },
     "metadata": {},
     "output_type": "display_data"
    }
   ],
   "source": [
    "def u_planck(lbda,T):\n",
    "    return (8*math.pi*h*c)/((lbda**5)*(np.exp((h*c)/(kB*T*lbda))-1))\n",
    "def planck(T,T1,T2,T3):\n",
    "    import matplotlib\n",
    "    matplotlib.rcParams.update({'font.size':12}); \n",
    "    plt.figure(figsize = (6,4), dpi = 100)\n",
    "    x = np.arange(100*10**-9,2500*10**-9,10*10**-9)\n",
    "    y = u_planck(x,T); y1 = u_planck(x,T1); \n",
    "    y2 = u_planck(x,T2); y3 = u_planck(x,T3)\n",
    "    plt.plot(x*10**9, y, color = 'blue'); \n",
    "    plt.plot(x*10**9, y1, color = 'cyan')\n",
    "    plt.plot(x*10**9, y2, color = 'green'); \n",
    "    plt.plot(x*10**9, y3, color = 'red')\n",
    "    plt.xlabel(r'$\\lambda(nm)$'); plt.ylabel(r'$u$')\n",
    "    plt.legend((r'$T=6000$',r'$T=5000$',r'$T=4000$',r'$T=3000$'), \n",
    "               loc='upper right')\n",
    "    plt.ylim(0,1.4*10**6); plt.show()\n",
    "    \n",
    "planck(6000,5000,4000,3000)"
   ]
  },
  {
   "cell_type": "code",
   "execution_count": 30,
   "metadata": {},
   "outputs": [
    {
     "data": {
      "application/vnd.jupyter.widget-view+json": {
       "model_id": "45abf2bb254e4a0fa449d01886b0ae60",
       "version_major": 2,
       "version_minor": 0
      },
      "text/plain": [
       "interactive(children=(IntSlider(value=40, description='th', max=90, step=10), IntSlider(value=180, description…"
      ]
     },
     "execution_count": 30,
     "metadata": {},
     "output_type": "execute_result"
    }
   ],
   "source": [
    "from ipywidgets import interactive\n",
    "\n",
    "from mpl_toolkits import mplot3d\n",
    "def planck_3d(th,ph):\n",
    "    import matplotlib\n",
    "    matplotlib.rcParams.update({'font.size':12}); \n",
    "    #plt.figure(figsize = (6,4,4), dpi = 100)\n",
    "    x = np.linspace(100*10**-9, 2000*10**-9, 40); \n",
    "    y = np.linspace(3000, 6000, 10); X, Y = np.meshgrid(x, y)\n",
    "    Z = u_planck(X,Y); fig = plt.figure(); \n",
    "    ax = plt.axes(projection=\"3d\"); ax.plot_wireframe(X, Y, Z, color='blue')\n",
    "    ax.set_xlabel(r'$\\lambda$'); ax.set_ylabel(r'$T$'); ax.set_zlabel(r'$u$')\n",
    "    ax.view_init(th, ph); fig.tight_layout(); plt.show()\n",
    "    \n",
    "interactive(planck_3d, th = (0,90,10), ph = (0,360,10))"
   ]
  },
  {
   "cell_type": "markdown",
   "metadata": {},
   "source": [
    "#### Equação de Rayleigh-Jeans a partir da equação de Planck\n",
    "Fixada a temperatura, se $\\lambda\\gg 1$ temos que $\\frac{hc}{k_{B}T\\lambda}\\ll 1$. Usando a série de Taylor para a exponencial, $e^{u}=\\sum_{j=0}^{\\infty}\\frac{u^{j}}{j!}=1+u+u^{2}/2!+\\cdots$, temos que \n",
    "\\begin{equation}\n",
    "\\exp\\left(\\frac{hc}{k_{B}T\\lambda}\\right)\\approx 1+\\frac{hc}{k_{B}T\\lambda}.\n",
    "\\end{equation}\n",
    "Assim\n",
    "\\begin{equation}\n",
    "u(\\lambda\\gg1) \\approx \\frac{8\\pi hc}{\\lambda^{5}\\left(1+\\frac{hc}{k_{B}T\\lambda}-1\\right)} = \\frac{8\\pi k_{B}T}{\\lambda^{4}},\n",
    "\\end{equation}\n",
    "que é a equação de Rayleigh-Jeans. Ou seja, para comprimentos de onda muito grandes, a suposição de que a energia da radiação elétromagnética da cavidade é contínua leva a resultados corretos, mas isso não é o caso para comprimentos de onda pequenos."
   ]
  },
  {
   "cell_type": "markdown",
   "metadata": {},
   "source": [
    "#### Lei de deslocamento de Wien, a partir da equação de Planck\n",
    "Para obter essa lei (https://www.nobelprize.org/prizes/physics/1911/wien/lecture/), obtemos o comprimento de onda em que a densidade de energia é máxima fazendo:\n",
    "\\begin{align}\n",
    "& \\left(\\frac{\\partial u_T(\\lambda)}{\\partial\\lambda}\\right)_{\\lambda_{\\max}}=0 = \\partial_{\\lambda}\\left(8\\pi hc\\lambda^{-5}\\left(e^{hc/k_{B}T\\lambda}-1\\right)^{-1}\\right)_{\\lambda_{\\max}} \\\\\n",
    "& \\therefore 8\\pi hc\\left(-5\\lambda_{\\max}^{-6}\\left(e^{hc/k_{B}T\\lambda_{\\max}}-1\\right)^{-1} + \\lambda_{\\max}^{-5}(-1)\\left(e^{hc/k_{B}T\\lambda_{\\max}}-1\\right)^{-2}e^{hc/k_{B}T\\lambda_{\\max}}(-1)\\frac{hc}{k_{B}T}\\lambda_{\\max}^{-2} \\right) = 0 \\\\\n",
    "& \\therefore \\lambda_{\\max}^{-6}\\left(e^{hc/k_{B}T\\lambda_{\\max}}-1\\right)^{-2}\\left(-5\\left(e^{hc/k_{B}T\\lambda_{\\max}}-1\\right)+e^{hc/k_{B}T\\lambda_{\\max}}\\frac{hc}{k_{B}T\\lambda_{\\max}}\\right) = 0 \\\\\n",
    "& \\therefore 1-e^{-hc/k_{B}T\\lambda_{\\max}}-\\frac{hc}{5k_{B}T\\lambda_{\\max}}=0.\n",
    "\\end{align}\n",
    "Definimos \n",
    "\\begin{equation}\n",
    "x:= \\frac{hc}{k_{B}T\\lambda_{\\max}} \\Rightarrow \\lambda_{\\max} = \\left(\\frac{hc}{xk_{B}}\\right)\\frac{1}{T},\n",
    "\\end{equation}\n",
    "com $x$ sendo a solução da equação transcedental:\n",
    "\\begin{equation}\n",
    "f(x):=e^{-x}+\\frac{x}{5}-1=0.\n",
    "\\end{equation}\n",
    "Essa função possui duas raízes. A solução $x=0$ corresponde a $\\lambda_{\\max}=\\infty$, que seria obtida no caso clássico. A outra raíz, que nos interessa aqui e cujo cálculo está ilustrado abaixo, é\n",
    "\\begin{equation}\n",
    "x\\approx 4,965.\n",
    "\\end{equation}"
   ]
  },
  {
   "cell_type": "code",
   "execution_count": 34,
   "metadata": {},
   "outputs": [
    {
     "data": {
      "text/latex": [
       "$\\displaystyle \\frac{8 c h \\pi \\left(5 T k_{B} \\lambda \\left(1 - e^{\\frac{c h}{T k_{B} \\lambda}}\\right) + c h e^{\\frac{c h}{T k_{B} \\lambda}}\\right)}{T k_{B} \\lambda^{7} \\left(1 - e^{\\frac{c h}{T k_{B} \\lambda}}\\right)^{2}}$"
      ],
      "text/plain": [
       "8*c*h*pi*(5*T*k_B*lambda*(1 - exp(c*h/(T*k_B*lambda))) + c*h*exp(c*h/(T*k_B*lambda)))/(T*k_B*lambda**7*(1 - exp(c*h/(T*k_B*lambda)))**2)"
      ]
     },
     "execution_count": 34,
     "metadata": {},
     "output_type": "execute_result"
    }
   ],
   "source": [
    "from sympy import exp, simplify, diff\n",
    "T, lbda, hh, cc, pi, k = symbols('T lambda h c pi k_B'); \n",
    "up = (8*pi*hh*cc)/((lbda**5)*(exp((hh*cc)/(k*T*lbda))-1))\n",
    "simplify(diff(up,lbda)) # Conferindo a derivada ..."
   ]
  },
  {
   "cell_type": "code",
   "execution_count": 36,
   "metadata": {},
   "outputs": [
    {
     "data": {
      "image/png": "[encoded data removed]",
      "text/plain": [
       "<Figure size 500x300 with 1 Axes>"
      ]
     },
     "metadata": {},
     "output_type": "display_data"
    }
   ],
   "source": [
    "# Gráfico para orientar na busca pela raíz\n",
    "import matplotlib\n",
    "matplotlib.rcParams.update({'font.size':12}); \n",
    "plt.figure(figsize = (5,3), dpi = 100)\n",
    "x = np.arange(-1,7,10**-1); y = np.exp(-x)+x/5-1; \n",
    "plt.plot(x, y, color = 'blue')\n",
    "y1 = np.zeros(80); plt.plot(x, y1, color = 'red'); \n",
    "plt.xlabel(r'$x$'); plt.ylabel(r'$f(x)$'); plt.show()"
   ]
  },
  {
   "cell_type": "code",
   "execution_count": 38,
   "metadata": {},
   "outputs": [
    {
     "data": {
      "text/plain": [
       "(4.965114593505859, 1)"
      ]
     },
     "execution_count": 38,
     "metadata": {},
     "output_type": "execute_result"
    }
   ],
   "source": [
    "%run numerics.ipynb\n",
    "def f(x):\n",
    "    return math.exp(-x)+x/5-1\n",
    "bissection(f, 2, 6, 10**-5, 10**3)"
   ]
  },
  {
   "cell_type": "markdown",
   "metadata": {},
   "source": [
    "#### Lei de Stefan-Boltzmann, a partir da equação de Planck\n",
    "Para obter essa lei vamos somar a densidade de energia sobre todos os comprimentos de onda (frequências):\n",
    "\\begin{align}\n",
    "U_{T} & := \\int_{0}^{\\infty}u_{T}(\\nu)d\\nu \\\\\n",
    "& = \\int_{0}^{\\infty}\\frac{8\\pi h\\nu^{3}}{c^{3}\\left(e^{h\\nu/k_{B}T}-1\\right)}d\\nu \\\\ \n",
    "& = \\int_{0}^{\\infty}\\frac{8\\pi h(h\\nu/k_{B}T)^{3}(k_{B}T/h)^{3}}{c^{3}\\left(e^{h\\nu/k_{B}T}-1\\right)}d(h\\nu/k_{B}T)(k_{B}T/h) \\\\ \n",
    "& = \\frac{8\\pi h}{c^{3}}\\left(\\frac{k_{B}T}{h}\\right)^{4}\\int_{0}^{\\infty}\\frac{x^{3}}{e^{x}-1}dx \\\\\n",
    "& = \\left(\\frac{8\\pi h}{c^{3}}\\left(\\frac{k_{B}}{h}\\right)^{4}\\frac{\\pi^{4}}{15}\\right)T^{4},\n",
    "\\end{align}\n",
    "com a última integral obtida como mostrado a seguir. Acima definimos $x=h\\nu/k_B T.$"
   ]
  },
  {
   "cell_type": "markdown",
   "metadata": {},
   "source": [
    "\n",
    "---\n",
    "#### Função gama generalizada\n",
    "Primeiro, vamos definir uma versão modificada da _função Gama_:\n",
    "\\begin{equation}\n",
    "\\Gamma_{m}(n):=\\int_{0}^{\\infty}x^{n-1}e^{-mx}dx = \\frac{(n-1)!}{m^{n}},\n",
    "\\end{equation}\n",
    "com $n\\in\\mathbb{Z}_{+}$. Para verificar esse resultado, vamos verificar primeiro que $\\Gamma_{m}(n+1)=n\\Gamma_{m}(n)/m$ com\n",
    "\\begin{equation}\n",
    "\\Gamma_{m}(n+1):=\\int_{0}^{\\infty}x^{n}e^{-mx}dx.\n",
    "\\end{equation}\n",
    "Aqui usamos integração por partes definindo \n",
    "$$u=x^{n}\\therefore du=nx^{n-1}dx \\text{ e } dv=e^{-mx}dx \\therefore v=-e^{-mx}/m.$$\n",
    "Assim\n",
    "\\begin{align}\n",
    "\\Gamma_{m}(n+1) & = \\left(-x^{n}e^{-mx}/m\\right)_{0}^{\\infty} - \\int_{0}^{\\infty}(-e^{-mx}/m)nx^{n-1}dx \\\\\n",
    "& = 0 + \\frac{n}{m}\\int_{0}^{\\infty}e^{-mx}x^{n-1}dx \\\\\n",
    "& = \\frac{n}{m}\\Gamma_{m}(n).\n",
    "\\end{align}"
   ]
  },
  {
   "cell_type": "markdown",
   "metadata": {},
   "source": [
    "Por conseguinte\n",
    "\\begin{align}\n",
    "\\Gamma_{m}(1) & = \\int_{0}^{\\infty}x^{0}e^{-mx}dx = \\left(-e^{-mx}/m\\right)_{0}^{\\infty} = (-0+1)/m = 1/m, \\\\\n",
    "\\Gamma_{m}(2) & = \\Gamma_{m}(1+1) = 1\\Gamma_{m}(1)/m = 1/m^{2} =  1!/m^{2}, \\\\\n",
    "\\Gamma_{m}(3) & = \\Gamma_{m}(2+1) = 2\\Gamma_{m}(2)/m = 2/m^{3} = 2!/m^{3}, \\\\\n",
    "\\Gamma_{m}(4) & = \\Gamma_{m}(3+1) = 3\\Gamma_{m}(3)/m = 6/m^{3}= 3!/m^{4}, \\\\\n",
    "& \\vdots \\\\\n",
    "& \\Gamma_{m}(n) = \\frac{(n-1)!}{m^{n}}.\n",
    "\\end{align}\n",
    "\n",
    "\n",
    "#### A integral $\\int_{0}^{\\infty}\\frac{x^{3}}{e^{x}-1}dx=\\pi^{4}/15$ \n",
    "Lembrando da série $\\sum_{m=0}^{\\infty}x^{m}=1/(1-x),$ voltamos ao cálculo da integral:\n",
    "\\begin{align}\n",
    "\\int_{0}^{\\infty}\\frac{x^{3}}{e^{x}-1}dx & = \\int_{0}^{\\infty}\\frac{x^{3}e^{-x}}{1-e^{-x}}dx \\\\\n",
    "& = \\int_{0}^{\\infty}x^{3}e^{-x}\\sum_{m=0}^{\\infty}(e^{-x})^{m}dx \\\\ \n",
    "& = \\sum_{m=0}^{\\infty}\\int_{0}^{\\infty}x^{3}e^{-(m+1)x}dx = \\sum_{m=0}^{\\infty}\\Gamma_{m+1}(4) \\\\ \n",
    "& = \\sum_{m=0}^{\\infty}\\frac{(4-1)!}{(m+1)^{4}} \\\\\n",
    "& = 6\\sum_{m=0}^{\\infty}\\frac{1}{(m+1)^{4}} \\\\\n",
    "& = 6\\zeta(4) \\\\\n",
    "& = 6\\frac{\\pi^{4}}{90} \\\\\n",
    "& = \\frac{\\pi^{4}}{15},\n",
    "\\end{align}\n",
    "onde usamos a _função zeta de Riemann_ (https://www.claymath.org/millennium-problems/riemann-hypothesis), (https://youtu.be/sD0NjbwqlYw):\n",
    "\\begin{equation}\n",
    "\\zeta(s) = \\sum_{n=1}^{\\infty}\\frac{1}{n^{s}}.\n",
    "\\end{equation}"
   ]
  },
  {
   "cell_type": "markdown",
   "metadata": {},
   "source": [
    "---\n",
    "# Exercícios\n",
    "$1.$ Considere a densidade de probabilidade $\\rho(x\\in[0,10])=A(10-x)^{2}/10$, com $A$ uma constante real, e $\\rho(x<0)=\\rho(x>10)=0$. Normalize essa distribuição de probabilidades usando $\\int_{-\\infty}^{\\infty}\\rho(x)dx=1$ e, usando a definição $\\bar{x}=\\int_{-\\infty}^{\\infty}x\\rho(x)dx$, calcule $\\bar{x}$.\n",
    "\n",
    "$2.$ Verifique que a equação de Planck pode ser escrita em termos da frequência como segue:\n",
    "\\begin{equation}\n",
    "u_{T}(\\nu)=\\frac{8\\pi h\\nu^{3}}{c^{3}\\left(e^{h\\nu/k_{B}T}-1\\right)}.\n",
    "\\end{equation}\n",
    "\n",
    "$3.$ Qual é o valor do comprimento de onda no qual a taxa de emissão de radiação eletromagnética pelo corpo humano é máxima? Explicite todas as suposições que você precisou fazer para obter a sua resposta.\n",
    "\n",
    "$4.$ Obtenha e simplifique a expressão para $u_{T}(\\lambda_{\\max})$, verificando que $u_{T}(\\lambda_{\\max})\\propto T^{5}$."
   ]
  }
 ],
 "metadata": {
  "kernelspec": {
   "display_name": "Python 3 (ipykernel)",
   "language": "python",
   "name": "python3"
  },
  "language_info": {
   "codemirror_mode": {
    "name": "ipython",
    "version": 3
   },
   "file_extension": ".py",
   "mimetype": "text/x-python",
   "name": "python",
   "nbconvert_exporter": "python",
   "pygments_lexer": "ipython3",
   "version": "3.12.2"
  }
 },
 "nbformat": 4,
 "nbformat_minor": 4
}
