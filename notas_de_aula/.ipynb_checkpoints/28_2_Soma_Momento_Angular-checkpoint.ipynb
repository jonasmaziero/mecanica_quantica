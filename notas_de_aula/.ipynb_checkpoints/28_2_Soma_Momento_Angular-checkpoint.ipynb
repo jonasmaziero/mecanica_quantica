{
 "cells": [
  {
   "cell_type": "markdown",
   "metadata": {},
   "source": [
    "### Notas de aula de Mecânica Quântica <br> Autor: Jonas Maziero"
   ]
  },
  {
   "cell_type": "markdown",
   "metadata": {},
   "source": [
    "# Soma de momentos angulares\n",
    "Na Mecânica Quântica de Schrödinger, o momento angular intrínseco, o spin, é descrito por operadores que satisfazem a álgebra do momento angular. Na sequência, consideraremos o caso para o qual, para descrevermos o sistema, precisamos somar 2 ou mais momentos angulares. Pode ser o momento angular orbital e o spin de um elétron, pode ser os spins de dois elétrons, ou qualquer outra combinação de 2 momentos angulares.\n",
    "\n",
    "Consideremos os momentos angulares $\\vec{J}_{s}$ com $s=a,b$, ou seja, consideremos dois vetores cujas componentes satisfazem a álgebra do momento angular:\n",
    "\\begin{equation}\n",
    "[J_{j}^{s},J_{k}^{s}]=i\\hbar\\varepsilon_{jkl}J_{l}^{s} \\text{ para } j,k=1,2,3.\n",
    "\\end{equation}\n",
    "Para esses dois graus de liberdade, a soma desses momentos angulares é representada por um operador Hermitiano que atua no espaço de Hilbert composto $\\mathcal{H}_{a}\\otimes\\mathcal{H}_{b}$ e que é escrito como segue:\n",
    "\\begin{align}\n",
    "\\vec{J} & := \\vec{J}_{a}\\otimes\\mathbb{I}_{b} + \\mathbb{I}_{a}\\otimes\\vec{J}_{b} \\equiv \\vec{J}_{a} + \\vec{J}_{b} \\\\\n",
    "& = \\sum_{i=1}^{3}\\hat{e}_{i}\\left(J_{i}^{a}\\otimes\\mathbb{I}_{b} + \\mathbb{I}_{a}\\otimes J_{i}^{b}\\right) \\\\\n",
    "& = \\sum_{i=1}^{3}\\hat{e}_{i}J_{j}.\n",
    "\\end{align}"
   ]
  },
  {
   "cell_type": "markdown",
   "metadata": {},
   "source": [
    "Para os conjuntos de observáveis\n",
    "\\begin{equation}\n",
    "\\{J_{a}^{2},J_{b}^{2},J_{3}^{a},J_{3}^{b}\\} \\text{ e } \\{J_{a}^{2},J_{b}^{2},J^{2},J_{3}\\},\n",
    "\\end{equation}\n",
    "verificaremos na sequência que os observáveis dentro de cada um dos conjuntos formam um conjunto de observáveis mutuamente compatíveis, lembrando que observáveis mutuamente compatíveis comutam e portanto compartilham a mesma base de autovetores. Bom, da álgebra de momento angular já temos que \n",
    "$$[J_{s}^{2},J_{3}^{s}]=0 \\text{ para } s=a,b.$$\n",
    "Para os cálculos que seguem, primeiro usamos \n",
    "$$(A\\otimes B)(C\\otimes D) = AC\\otimes BD,$$\n",
    "que vale para quaisquer operadores $A,C:\\mathcal{H}_{a}\\rightarrow\\mathcal{H}_{a}$ e $B,D:\\mathcal{H}_{b}\\rightarrow\\mathcal{H}_{b}$, para ver que \n",
    "\\begin{align}\n",
    "[A\\otimes\\mathbb{I}_{b},\\mathbb{I}_{a}\\otimes B] & = (A\\otimes\\mathbb{I}_{b})(\\mathbb{I}_{a}\\otimes B) - (\\mathbb{I}_{a}\\otimes B)(A\\otimes\\mathbb{I}_{b}) \\\\\n",
    "&= (A\\mathbb{I}_{a}\\otimes\\mathbb{I}_{b}B) - (\\mathbb{I}_{a}A\\otimes B\\mathbb{I}_{b}) \\\\\n",
    "& = A\\otimes B - A\\otimes B \\\\\n",
    "& = 0.\n",
    "\\end{align}\n",
    "Esse resultado pode ser aplicado diretamente a\n",
    "\\begin{align}\n",
    "& [J_{a}^{2},J_{b}^{2}] = [J_{a}^{2}\\otimes\\mathbb{I}_{b},\\mathbb{I}_{a}\\otimes J_{b}^{2}] = 0, \\\\\n",
    "& [J_{a}^{2},J_{3}^{b}] = [J_{a}^{2}\\otimes\\mathbb{I}_{b},\\mathbb{I}_{a}\\otimes J_{3}^{b}] = 0, \\\\\n",
    "& [J_{b}^{2},J_{3}^{a}] = [\\mathbb{I}_{a}\\otimes J_{b}^{2},J_{3}^{a}\\otimes\\mathbb{I}_{b}] = 0, \\\\\n",
    "& [J_{3}^{a},J_{3}^{b}] = [J_{3}^{a}\\otimes\\mathbb{I}_{b},\\mathbb{I}_{a}\\otimes J_{3}^{b}] = 0.\n",
    "\\end{align}\n",
    "Verificamos assim que todos os operadores do conjunto $\\{J_{a}^{2},J_{3}^{a},J_{b}^{2},J_{3}^{b}\\}$ comutam."
   ]
  },
  {
   "cell_type": "markdown",
   "metadata": {},
   "source": [
    "Agora vamos para o segundo conjunto de operadores. Aqui começamos verificando que __$\\vec{J}$ é de fato um momento angular__, ou seja, verifiquemos que suas componentes satisfazem a álgebra do momento angular:\n",
    "\\begin{align}\n",
    "[J_{j},J_{k}] & = [J_{j}^{a}\\otimes\\mathbb{I}_{b} + \\mathbb{I}_{a}\\otimes J_{j}^{b}, J_{k}^{a}\\otimes\\mathbb{I}_{b} + \\mathbb{I}_{a}\\otimes J_{k}^{b}] \\\\\n",
    "              & = [J_{j}^{a}\\otimes\\mathbb{I}_{b},J_{k}^{a}\\otimes\\mathbb{I}_{b}] + [J_{j}^{a}\\otimes\\mathbb{I}_{b},\\mathbb{I}_{a}\\otimes J_{k}^{b}] + [\\mathbb{I}_{a}\\otimes J_{j}^{b},J_{k}^{a}\\otimes\\mathbb{I}_{b}] + [\\mathbb{I}_{a}\\otimes J_{j}^{b},\\mathbb{I}_{a}\\otimes J_{k}^{b}] \\\\\n",
    "              & = [J_{j}^{a},J_{k}^{a}]\\otimes\\mathbb{I}_{b} + 0 + 0 + \\mathbb{I}_{a}\\otimes[J_{j}^{b},J_{k}^{b}] \\\\\n",
    "              & = i\\hbar\\varepsilon_{jkl}J_{l}^{a}\\otimes\\mathbb{I}_{b} + \\mathbb{I}_{a}\\otimes i\\hbar\\varepsilon_{jkl}J_{l}^{b} \\\\\n",
    "              & = i\\hbar\\varepsilon_{jkl}\\left(J_{l}^{a}\\otimes\\mathbb{I}_{b} + \\mathbb{I}_{a}\\otimes J_{l}^{b}\\right)  \\\\\n",
    "              & = i\\hbar\\varepsilon_{jkl}J_{l}.\n",
    "\\end{align}\n",
    "Acima usamos que\n",
    "$$[A\\otimes\\mathbb{I}_B,A'\\otimes\\mathbb{I}_B] = [A,A']\\otimes\\mathbb{I}_B$$\n",
    "e\n",
    "$$[\\mathbb{I}_A\\otimes B,\\mathbb{I}_A\\otimes B'] = \\mathbb{I}_A\\otimes[B,B'].$$\n",
    "Assim, pela mesma demonstração feita no caso do momento angular orbital, temos aqui que\n",
    "\\begin{equation}\n",
    "[J^{2},J_{j}] = 0 \\text{ para }  j=1,2,3.\n",
    "\\end{equation}\n",
    "Desse resultado segue que \n",
    "$$[J^{2},J_{3}]=0.$$\n",
    "Pode-se verificar que\n",
    "\\begin{align}\n",
    "J^{2} & = \\vec{J}\\cdot\\vec{J} \\\\\n",
    "& = \\Big(\\sum_j J_j\\hat{e}_j\\Big)\\cdot\\Big(\\sum_k J_k \\hat{e}_k\\Big) \\\\\n",
    "& = \\Big(\\sum_j (J_j^a\\otimes I_b+I_a\\otimes J_j^b) \\hat{e}_j\\Big)\\cdot\\Big(\\sum_k (J_k^a\\otimes I_b+I_a\\otimes J_k^b) \\hat{e}_k\\Big) \\\\\n",
    "& =  J_{a}^{2}\\otimes\\mathbb{I}_{b} +  \\mathbb{I}_{a}\\otimes J_{b}^{2} + 2\\sum_{j=1}^{3}J_{j}^{a}\\otimes J_{j}^{b}.\n",
    "\\end{align}"
   ]
  },
  {
   "cell_type": "markdown",
   "metadata": {},
   "source": [
    "Usando\n",
    "\\begin{equation}\n",
    "[A\\otimes B,A'\\otimes\\mathbb{I}] = [A,A']\\otimes B\n",
    "\\end{equation}\n",
    "vemos que\n",
    "\\begin{align}\n",
    "[J^{2},J_{a}^{2}] & = [J^{2},J_{a}^{2}\\otimes\\mathbb{I}_{b}] \\\\\n",
    "                  & = [J_{a}^{2}\\otimes\\mathbb{I}_{b},J_{a}^{2}\\otimes\\mathbb{I}_{b}] + [\\mathbb{I}_{a}\\otimes J_{b}^{2},J_{a}^{2}\\otimes\\mathbb{I}_{b}] + [2\\sum_{j=1}^{3}J_{j}^{a}\\otimes J_{j}^{b},J_{a}^{2}\\otimes\\mathbb{I}_{b}] \\\\\n",
    "                  & = 0 + 0 + 2\\sum_{j=1}^{3}[J_{j}^{a},J_{a}^{2}]\\otimes J_{j}^{b} = 0.\n",
    "\\end{align}\n",
    "Do mesmo modo, pode-se verificar que\n",
    "\\begin{equation}\n",
    "[J^{2},J_{b}^{2}] = 0.\n",
    "\\end{equation}\n",
    "Nos falta ainda olhar para\n",
    "\\begin{align}\n",
    "[J_{a}^{2},J_{3}] & = [J_{a}^{2}\\otimes\\mathbb{I}_{b},J_{3}^{a}\\otimes\\mathbb{I}_{b} + \\mathbb{I}_{a}\\otimes J_{3}^{b}] \\\\ \n",
    "& = [J_{a}^{2}\\otimes\\mathbb{I}_{b},J_{3}^{a}\\otimes\\mathbb{I}_{b}] + [J_{a}^{2}\\otimes\\mathbb{I}_{b},\\mathbb{I}_{a}\\otimes J_{3}^{b}] \\\\\n",
    "& = [J_{a}^{2},J_{3}^{a}]\\otimes\\mathbb{I}_{b} + 0 \\\\\n",
    "                  & = 0.\n",
    "\\end{align}\n",
    "Analogamente, pode-se verificar que\n",
    "\\begin{equation}\n",
    "[J_{b}^{2},J_{3}] = 0.\n",
    "\\end{equation}\n",
    "\n",
    "Com isso, verificamos que os operadores do conjunto $\\{J_{a}^{2},J_{b}^{2},J^{2},J_{3}\\}$ também são mutuamente compatíveis."
   ]
  },
  {
   "cell_type": "markdown",
   "metadata": {},
   "source": [
    "Vamos denotar os autovetores comuns dos operadores \n",
    "$$\\{J_{a}^{2},J_{3}^{a},J_{b}^{2},J_{3}^{b}\\} \\text{ por } |j_{a},m_{a}\\rangle\\otimes|j_{b},m_{b}\\rangle$$\n",
    "e para os autovetores comuns dos operadores \n",
    "$$\\{J_{a}^{2},J_{b}^{2},J^{2},J_{3}\\} \\text{ usaremos } |j_{a},j_{b},j,m\\rangle.$$\n",
    "Assim, usando \n",
    "$$(A\\otimes B)(C\\otimes D)=AC\\otimes BD,$$\n",
    "teremos que\n",
    "\\begin{align}\n",
    "(J_{a}^{2}\\otimes\\mathbb{I}_{b})(|j_{a},m_{a}\\rangle\\otimes|j_{b},m_{b}\\rangle) & = (J_{a}^{2}|j_{a},m_{a}\\rangle)\\otimes|j_{b},m_{b}\\rangle \\\\\n",
    "& = \\hbar^{2}j_{a}(j_{a}+1)|j_{a},m_{a}\\rangle\\otimes|j_{b},m_{b}\\rangle, \\\\\n",
    "(J_{3}^{a}\\otimes\\mathbb{I}_{b})(|j_{a},m_{a}\\rangle\\otimes|j_{b},m_{b}\\rangle) & = (J_{3}^{a}|j_{a},m_{a}\\rangle)\\otimes|j_{b},m_{b}\\rangle \\\\\n",
    "& = \\hbar m_{a}|j_{a},m_{a}\\rangle\\otimes|j_{b},m_{b}\\rangle, \\\\\n",
    "(\\mathbb{I}_{a}\\otimes J_{b}^{2})(|j_{a},m_{a}\\rangle\\otimes|j_{b},m_{b}\\rangle) & = |j_{a},m_{a}\\rangle\\otimes(J_{b}^{2}|j_{b},m_{b}\\rangle) \\\\\n",
    "& = \\hbar^{2}j_{b}(j_{b}+1)|j_{a},m_{a}\\rangle\\otimes|j_{b},m_{b}\\rangle, \\\\\n",
    "(\\mathbb{I}_{a}\\otimes J_{3}^{b})(|j_{a},m_{a}\\rangle\\otimes|j_{b},m_{b}\\rangle) & = |j_{a},m_{a}\\rangle\\otimes(J_{3}^{b}|j_{b},m_{b}\\rangle) \\\\\n",
    "& = \\hbar m_{b}|j_{a},m_{a}\\rangle\\otimes|j_{b},m_{b}\\rangle\n",
    "\\end{align}\n",
    "e\n",
    "\\begin{align}\n",
    "& J_{a}^{2}\\otimes\\mathbb{I}_{b}|j_{a},j_{b},j,m\\rangle = \\hbar^{2}j_{a}(j_{a}+1)|j_{a},j_{b},j,m\\rangle, \\\\\n",
    "& \\mathbb{I}_{a}\\otimes J_{b}^{2}|j_{a},j_{b},j,m\\rangle = \\hbar^{2}j_{b}(j_{b}+1)|j_{a},j_{b},j,m\\rangle, \\\\\n",
    "& J^{2}|j_{a},j_{b},j,m\\rangle = \\hbar^{2}j(j+1)|j_{a},j_{b},j,m\\rangle, \\\\\n",
    "& J_{3}|j_{a},j_{b},j,m\\rangle = \\hbar m|j_{a},j_{b},j,m\\rangle.\n",
    "\\end{align}\n",
    "\n",
    "Notemos ainda que\n",
    "\\begin{align}\n",
    "J_{3}|j_{a},m_{a}\\rangle\\otimes|j_{b},m_{b}\\rangle & = (J_{3}^{a}\\otimes\\mathbb{I}_{b})(|j_{a},m_{a}\\rangle\\otimes|j_{b},m_{b}\\rangle) + (\\mathbb{I}_{a}\\otimes J_{3}^{b})(|j_{a},m_{a}\\rangle\\otimes|j_{b},m_{b}\\rangle) \\\\\n",
    "               & = \\hbar m_{a}|j_{a},m_{a}\\rangle\\otimes|j_{b},m_{b}\\rangle + \\hbar m_{b}|j_{a},m_{a}\\rangle\\otimes|j_{b},m_{b}\\rangle \\\\\n",
    "               & = \\hbar (m_{a}+m_{b})|j_{a},m_{a}\\rangle\\otimes|j_{b},m_{b}\\rangle.\n",
    "\\end{align}"
   ]
  },
  {
   "cell_type": "markdown",
   "metadata": {},
   "source": [
    "Ou seja, $|j_{a},m_{a}\\rangle\\otimes|j_{b},m_{b}\\rangle$ também é autovetor de $J_{3}$ com autovalor $\\hbar(m_{a}+m_{b})$. \n",
    "\n",
    "No entanto, __as componentes dos momentos angulares individuais não comutam com o momento angular total__. Por exemplo:\n",
    "\\begin{align}\n",
    "[J^{2},J_{3}^{a}] & = \\sum_{j=1}^{3}[J_{j}^{2},J_{3}^{a}\\otimes\\mathbb{I}_{b}] \\\\\n",
    "& = \\sum_{j=1}^{3}\\left(J_{j}[J_{j},J_{3}^{a}\\otimes\\mathbb{I}_{b}] + [J_{j},J_{3}^{a}\\otimes\\mathbb{I}_{b}]J_{j} \\right) \\\\\n",
    "                  & = \\sum_{j=1}^{3}\\left(J_{j}[J_{j}^{a}\\otimes\\mathbb{I}_{b}+\\mathbb{I}_{a}\\otimes J_{j}^{b},J_{3}^{a}\\otimes\\mathbb{I}_{b}] + [J_{j}^{a}\\otimes\\mathbb{I}_{b}+\\mathbb{I}_{a}\\otimes J_{j}^{b},J_{3}^{a}\\otimes\\mathbb{I}_{b}]J_{j} \\right) \\\\\n",
    "                & = \\sum_{j=1}^{3}\\left(J_{j}([J_{j}^{a},J_{3}^{a}]\\otimes\\mathbb{I}_{b}+0) + ([J_{j}^{a},J_{3}^{a}]\\otimes\\mathbb{I}_{b}+0)J_{j} \\right) \\\\\n",
    "                & = \\sum_{j=1}^{3}i\\hbar \\varepsilon_{j3k}\\left(J_{j}J_{k}^{a}\\otimes\\mathbb{I}_{b} + J_{k}^{a}\\otimes\\mathbb{I}_{b}J_{j} \\right) \\\\\n",
    "                & = i\\hbar \\varepsilon_{13k}\\left(J_{1}J_{k}^{a}\\otimes\\mathbb{I}_{b} + J_{k}^{a}\\otimes\\mathbb{I}_{b}J_{1} \\right) + i\\hbar \\varepsilon_{23k}\\left(J_{2}J_{k}^{a}\\otimes\\mathbb{I}_{b} + J_{k}^{a}\\otimes\\mathbb{I}_{b}J_{2} \\right) + 0 \\\\\n",
    "                & = i\\hbar \\varepsilon_{132}\\left(J_{1}J_{2}^{a}\\otimes\\mathbb{I}_{b} + J_{2}^{a}\\otimes\\mathbb{I}_{b}J_{1} \\right) + i\\hbar \\varepsilon_{231}\\left(J_{2}J_{1}^{a}\\otimes\\mathbb{I}_{b} + J_{1}^{a}\\otimes\\mathbb{I}_{b}J_{2} \\right) \\\\\n",
    "                & = i\\hbar\\left(J_{2}J_{1}^{a}\\otimes\\mathbb{I}_{b} + J_{1}^{a}\\otimes\\mathbb{I}_{b}J_{2} - J_{1}J_{2}^{a}\\otimes\\mathbb{I}_{b} - J_{2}^{a}\\otimes\\mathbb{I}_{b}J_{1} \\right) \\\\\n",
    "                & = i\\hbar(J_{2}^{a}\\otimes\\mathbb{I}_{b}+\\mathbb{I}_{a}\\otimes J_{2}^{b})J_{1}^{a}\\otimes\\mathbb{I}_{b} + J_{1}^{a}\\otimes\\mathbb{I}_{b}(J_{2}^{a}\\otimes\\mathbb{I}_{b}+\\mathbb{I}_{a}\\otimes J_{2}^{b}) \\\\\n",
    "                & \\hspace{1cm} - (J_{1}^{a}\\otimes\\mathbb{I}_{b}+\\mathbb{I}_{a}\\otimes J_{1}^{b})J_{2}^{a}\\otimes\\mathbb{I}_{b} - J_{2}^{a}\\otimes\\mathbb{I}_{b}(J_{1}^{a}\\otimes\\mathbb{I}_{b}+\\mathbb{I}_{a}\\otimes J_{1}^{b})  \\\\\n",
    "                & = i\\hbar(J_{2}^{a}J_{1}^{a}\\otimes\\mathbb{I}_{b} + J_{1}^{a}\\otimes J_{2}^{b} + J_{1}^{a}J_{2}^{a}\\otimes\\mathbb{I}_{b}  + J_{1}^{a}\\otimes J_{2}^{b} \\\\\n",
    "                & \\hspace{1cm} - J_{1}^{a}J_{2}^{a}\\otimes\\mathbb{I}_{b} - J_{2}^{a}\\otimes J_{1}^{b} - J_{2}^{a}J_{1}^{a}\\otimes\\mathbb{I}_{b} - J_{2}^{a}\\otimes J_{1}^{b}) \\\\\n",
    "                & = 2i\\hbar(J_{1}^{a}\\otimes J_{2}^{b} - J_{2}^{a}\\otimes J_{1}^{b}) \\\\\n",
    "                & \\ne 0.                \n",
    "\\end{align}\n",
    "Analogamente, pode-se verificar que\n",
    "\\begin{equation}\n",
    "[J^{2},J_{3}^{b}] \\ne 0.\n",
    "\\end{equation}"
   ]
  },
  {
   "cell_type": "markdown",
   "metadata": {},
   "source": [
    "Estes últimos resultados nos mostram que, para os momentos angulares individuais fixos (i.e., para os valores dos números quânticos $j_{s}$ fixos), estados $|j_{a},j_{b},j,m\\rangle$ com momento angular total fixo devem corresponder a superposições de dois ou mais estados $|j_{a},m_{a}\\rangle\\otimes|j_{b},m_{b}\\rangle$ com valores fixos das componentes $z$ dos momentos angulares individuais. Para escrevermos essa superposição explicitamente, vamos utilizar a relação de completeza:\n",
    "\\begin{equation}\n",
    "\\sum_{m_{s}=-j_{s}}^{j_{s}}|j_{s},m_{s}\\rangle\\langle j_{s},m_{s}| = \\mathbb{I}_{j_{s}}\n",
    "\\end{equation}\n",
    "para escrever o operador identidade no subespaço $\\mathcal{H}_{j_{a}}\\otimes\\mathcal{H}_{j_{b}}\\subset\\mathcal{H}$ gerado por estados com $\\{j_{s}\\}_{s=a,b}$ constantes. Segue assim que\n",
    "\\begin{align}\n",
    "|j_{a},j_{b},j,m\\rangle & = \\mathbb{I}_{j_{a}}\\otimes\\mathbb{I}_{j_{b}}|j_{a},j_{b},j,m\\rangle \\\\\n",
    "                        & = \\left(\\sum_{m_{a}=-j_{a}}^{j_{a}}|j_{a},m_{a}\\rangle\\langle j_{a},m_{a}|\\otimes\\sum_{m_{b}=-j_{b}}^{j_{b}}|j_{b},m_{b}\\rangle\\langle j_{b},m_{b}|\\right)|j_{a},j_{b},j,m\\rangle \\\\\n",
    "                        & = \\sum_{m_{a}=-j_{a}}^{j_{a}}\\sum_{m_{b}=-j_{b}}^{j_{b}}(|j_{a},m_{a}\\rangle\\otimes|j_{b},m_{b}\\rangle)(\\langle j_{a},m_{a}|\\otimes\\langle j_{b},m_{b}|)|j_{a},j_{b},j,m\\rangle \\\\\n",
    "                        & =: \\sum_{m_{a}=-j_{a}}^{j_{a}}\\sum_{m_{b}=-j_{b}}^{j_{b}} C_{m_{a}m_{b}m}^{j_{a}j_{b}j}|j_{a},m_{a}\\rangle\\otimes|j_{b},m_{b}\\rangle,\n",
    "\\end{align}\n",
    "onde usamos novamente $AB\\otimes CD=(A\\otimes C)(B\\otimes D)$ e definimos os chamados __coeficientes de Clebsch-Gordan__ como:\n",
    "\\begin{equation}\n",
    "C_{m_{a}m_{b}m}^{j_{a}j_{b}j} := (\\langle j_{a},m_{a}|\\otimes\\langle j_{b},m_{b}|)|j_{a},j_{b},j,m\\rangle.\n",
    "\\end{equation}"
   ]
  },
  {
   "cell_type": "markdown",
   "metadata": {},
   "source": [
    "Existem tabelas desses coeficientes, cuja obtenção usa restrições algébricas e simetrias. Por exemplo, uma __condição necessária para que os coeficientes sejam não nulos__ é que\n",
    "\\begin{equation}\n",
    "m=m_{a}+m_{b}.\n",
    "\\end{equation}\n",
    "Para verificar essa afirmação consideremos (\"atua\" $J_{3}$ na esquerda e $J_{3}^{s}$ na direita)\n",
    "\\begin{align}\n",
    "& (\\langle j_{a},m_{a}|\\otimes\\langle j_{b},m_{b}|)(J_{3} - J_{3}^{a}\\otimes\\mathbb{I}_{b} - \\mathbb{I}_{a}\\otimes J_{3}^{b})|j_{a},j_{b},j,m\\rangle = (\\langle j_{a},m_{a}|\\otimes\\langle j_{b},m_{b}|)\\mathbb{O}|j_{a},j_{b},j,m\\rangle = 0, \\\\\n",
    "& \\therefore \\hbar(m-m_{a}-m_{b})(\\langle j_{a},m_{a}|\\otimes\\langle j_{b},m_{b}|)|j_{a},j_{b},j,m\\rangle = 0, \\\\\n",
    "& \\therefore \\hbar(m-m_{a}-m_{b})C_{m_{a}m_{b}m}^{j_{a}j_{b}j} = 0.\n",
    "\\end{align}\n",
    "\n",
    "Vale observar que como a base $|j_{s},m_{s}\\rangle$ possiu $2j_{s}+1$ vetores, temos a dimensão\n",
    "\\begin{equation}\n",
    "\\dim(\\mathcal{H}_{j_{a}}\\otimes\\mathcal{H}_{j_{b}}) = (2j_{a}+1)(2j_{b}+1),\n",
    "\\end{equation}\n",
    "que é igual ao número de estados da base $\\{|j_{a},j_{b},j,m\\rangle\\}$. "
   ]
  },
  {
   "cell_type": "markdown",
   "metadata": {},
   "source": [
    "## Possíveis valores de $j$ pra $j_s$ fixos\n",
    "Agora, fixados os valores de $j_{s}$, se conhecermos também os possíveis valores de $m_{s}$, e consequentemente os possíveis valores de $m$, para obter os possíveis valores de $j$, notemos que o maior momento angular total é obtido se $\\vec{J}_{a}$ e $\\vec{J}_{b}$ forem __\"paralelos\"__, ou seja, se tiverem ambos e.g. os valores máximos das componentes $z$ dos momentos angulares individuais, i.e., se $\\{m_{s}=j_{s}\\}_{s=a,b}$. Assim\n",
    "\\begin{equation}\n",
    "m=m_{a}+m_{b}=j_{a}+j_{b}=j_{\\max}.\n",
    "\\end{equation}\n",
    "Por outro lado, o menor valor possível de $j$ é obtido se $\\vec{J}_{a}$ e $\\vec{J}_{b}$ forem __\"antiparalelos\"__, ou seja, se e.g. $m_{a}=j_{a}$ e $m_{b}=-j_{b}$ ou $m_{a}=-j_{a}$ e $m_{b}=j_{b}$. Para ter o mínimo positivo entre $m=j_{a}-j_{b}$ e $m=j_{b}-j_{a}$ usamos como o menor valor de $j$ o módulo $|j_{a}-j_{b}|$, i.e., \n",
    "\\begin{equation}\n",
    "j_{min}=\\min(j_{a}-j_{b},j_{b}-j_{a}) = |j_{a}-j_{b}|.\n",
    "\\end{equation}\n",
    "Com isso segue que $j\\in\\mathbb{N}$ com\n",
    "\\begin{equation}\n",
    "j=|j_{a}-j_{b}|,|j_{a}-j_{b}|+1,\\cdots,j_{a}+j_{b},\n",
    "\\end{equation}\n",
    "uma vez que $m_s$ mudam de 1 em 1, pela ação dos operadores escada.\n",
    "\n",
    "<img src='fig_L_sum.png' width='700'>"
   ]
  },
  {
   "cell_type": "markdown",
   "metadata": {},
   "source": [
    "## __Exemplo:__ Soma de dois momentos angulares $j_a=j_b=1/2$\n",
    "Como um primeiro exemplo, consideremos que \n",
    "$$j_{s}=1/2 \\text{ para } s=a,b.$$\n",
    "Nesse caso \n",
    "$$m_{s}=-1/2,1/2,\\ j=0,1,\\ m(j=0)=0 \\text{ e } m(j=1)=-1,0,1.$$\n",
    "Vamos determinar os coeficientes de Clebsch-Gordan nesse caso. Por conveniência, não escreveremos $j_{s}$ nos labels dos vetores de estado, ou seja, denotaremos\n",
    "$$|j_s,m_s\\rangle\\equiv|m_s\\rangle \\text{ e } |j_a,j_b,j,m\\rangle\\equiv|j,m\\rangle.$$\n",
    "Usando a restrição \n",
    "$$m=m_{a}+m_{b}$$\n",
    "e começando com o estado de maior $j$ e de maior componente $z$ do momento angular total, vemos que\n",
    "\\begin{align}\n",
    "|j=1,m=1\\rangle & = \\sum_{m_{a}=-1/2}^{1/2}\\sum_{m_{b}=-1/2}^{1/2}C_{m_{a}m_{b}m}^{j_{a}j_{b}j}|m_{a}\\rangle\\otimes|m_{b}\\rangle \\\\\n",
    "                & = C_{-1/2,-1/2,1}^{1/2,1/2,1}|-1/2\\rangle\\otimes|-1/2\\rangle + C_{-1/2,1/2,1}^{1/2,1/2,1}|-1/2\\rangle\\otimes|1/2\\rangle + C_{1/2,-1/2,1}^{1/2,1/2,1}|1/2\\rangle\\otimes|-1/2\\rangle + C_{1/2,1/2,1}^{1/2,1/2,1}|1/2\\rangle\\otimes|1/2\\rangle \\\\\n",
    "                & = 0 + 0 + 0 + C_{1/2,1/2,1}^{1/2,1/2,1}|1/2\\rangle\\otimes|1/2\\rangle \\\\\n",
    "                & = |m_{a}=1/2\\rangle\\otimes|m_{b}=1/2\\rangle.\n",
    "\\end{align}"
   ]
  },
  {
   "cell_type": "markdown",
   "metadata": {},
   "source": [
    "Seguindo, aplicamos o operador de abaixamento $J_{-} = J_{1}-iJ_{2}$ nesse estado, lembrando que \n",
    "$$J_{-}|j,m\\rangle=\\hbar\\sqrt{j(j+1)-m(m-1)}|j,m-1\\rangle,$$\n",
    "para obter \n",
    "$$J_{-}|j=1,m=1\\rangle=\\hbar\\sqrt{1(1+1)-1(1-1)}|1,1-1\\rangle=\\hbar\\sqrt{2}|1,0\\rangle.$$\n",
    "Assim\n",
    "\\begin{align}\n",
    "|j=1,m=0\\rangle & = (1/\\hbar\\sqrt{2})J_{-}|j=1,m=1\\rangle \\\\\n",
    "                & = (1/\\hbar\\sqrt{2})(J_{-}^{a}\\otimes\\mathbb{I}_{b} + \\mathbb{I}_{a}\\otimes J_{-}^{b})|1/2\\rangle\\otimes|1/2\\rangle \\\\\n",
    "                & = (1/\\hbar\\sqrt{2})((J_{-}^{a}|1/2\\rangle)\\otimes|1/2\\rangle + |1/2\\rangle\\otimes(J_{-}^{b}|1/2\\rangle)) \\\\\n",
    "                & = (1/\\hbar\\sqrt{2})((\\hbar\\sqrt{j_{a}(j_{a}+1)-m_{a}(m_{a}-1)}|1/2-1\\rangle)\\otimes|1/2\\rangle + |1/2\\rangle\\otimes(\\hbar\\sqrt{j_{b}(j_{b}+1)-m_{b}(m_{b}-1)}|1/2-1\\rangle)) \\\\\n",
    "                & = (1/\\sqrt{2})(\\sqrt{1/2(1/2+1)-(1/2)(1/2-1)}|-1/2\\rangle\\otimes|1/2\\rangle + \\sqrt{(1/2)(1/2+1)-(1/2)(1/2-1)}|1/2\\rangle\\otimes|-1/2\\rangle) \\\\\n",
    "                & = (1/\\sqrt{2})(\\sqrt{3/4+1/4}|-1/2\\rangle\\otimes|1/2\\rangle + \\sqrt{3/4+1/4}|1/2\\rangle\\otimes|-1/2\\rangle) \\\\\n",
    "                & = (1/\\sqrt{2})|m_{a}=-1/2\\rangle\\otimes|m_{b}=1/2\\rangle + (1/\\sqrt{2})|m_{a}=1/2\\rangle\\otimes|m_{b}=-1/2\\rangle.\n",
    "\\end{align}"
   ]
  },
  {
   "cell_type": "markdown",
   "metadata": {},
   "source": [
    "Ainda\n",
    "$$J_{-}|j=1,m=0\\rangle=\\hbar\\sqrt{1(1+1)-0(0-1)}|1,0-1\\rangle=\\hbar\\sqrt{2}|j=1,m=-1\\rangle.$$\n",
    "Assim\n",
    "\\begin{align}\n",
    "|j=1,m=-1\\rangle & = (\\hbar^{-1}/\\sqrt{2})J_{-}|j=1,m=0\\rangle \\\\\n",
    "                 & = (\\hbar^{-1}/2)(J_{-}^{a}\\otimes\\mathbb{I}_{b} + \\mathbb{I}_{a}\\otimes J_{-}^{b})(|-1/2\\rangle\\otimes|1/2\\rangle + |1/2\\rangle\\otimes|-1/2\\rangle) \\\\\n",
    "                 & = (\\hbar^{-1}/2)(J_{-}^{a}\\otimes\\mathbb{I}_{b}|-1/2\\rangle\\otimes|1/2\\rangle + J_{-}^{a}\\otimes\\mathbb{I}_{b}|1/2\\rangle\\otimes|-1/2\\rangle + \\mathbb{I}_{a}\\otimes J_{-}^{b}|-1/2\\rangle\\otimes|1/2\\rangle + \\mathbb{I}_{a}\\otimes J_{-}^{b}|1/2\\rangle\\otimes|-1/2\\rangle) \\\\\n",
    "                 & = (1/2)(|\\oslash\\rangle\\otimes|1/2\\rangle + \\sqrt{1}|-1/2\\rangle\\otimes|-1/2\\rangle + \\sqrt{1}|-1/2\\rangle\\otimes|-1/2\\rangle + |1/2\\rangle\\otimes|\\oslash\\rangle) \\\\\n",
    "                 & = |m_{a}=-1/2\\rangle\\otimes|m_{b}=-1/2\\rangle.\n",
    "\\end{align}"
   ]
  },
  {
   "cell_type": "markdown",
   "metadata": {},
   "source": [
    "Construiremos o estado que falta da base como o primeiro\n",
    "\\begin{align}\n",
    "|j=0,m=0\\rangle & = \\sum_{m_{a}=-1/2}^{1/2}\\sum_{m_{b}=-1/2}^{1/2}C_{m_{a}m_{b}m}^{j_{a}j_{b}j}|m_{a}\\rangle\\otimes|m_{b}\\rangle \\\\\n",
    "                & = C_{-1/2,-1/2,0}^{1/2,1/2,0}|-1/2\\rangle\\otimes|-1/2\\rangle + C_{-1/2,1/2,0}^{1/2,1/2,0}|-1/2\\rangle\\otimes|1/2\\rangle + C_{1/2,-1/2,0}^{1/2,1/2,0}|1/2\\rangle\\otimes|-1/2\\rangle + C_{1/2,1/2,0}^{1/2,1/2,0}|1/2\\rangle\\otimes|1/2\\rangle \\\\\n",
    "                & = 0 + C_{-1/2,1/2,0}^{1/2,1/2,0}|-1/2\\rangle\\otimes|1/2\\rangle + C_{1/2,-1/2,0}^{1/2,1/2,0}|1/2\\rangle\\otimes|-1/2\\rangle + 0 \\\\\n",
    "                & = (1/\\sqrt{2})\\left(|m_{a}=-1/2\\rangle\\otimes|m_{b}=1/2\\rangle - |m_{a}=1/2\\rangle\\otimes|m_{b}=-1/2\\rangle\\right),\n",
    "\\end{align}\n",
    "com a escolha dos coeficientes de Clebsch-Gordan feita de forma que o estado seja normalizado e ortogonal aos outros estados da base, i.e.,\n",
    "\\begin{equation}\n",
    "|||j=0,m=0\\rangle||=1 \\therefore |C_{-1/2,1/2,0}^{1/2,1/2,0}|^{2}+|C_{1/2,-1/2,0}^{1/2,1/2,0}|^{2}=1\n",
    "\\end{equation}\n",
    "e\n",
    "\\begin{equation}\n",
    "\\langle j=1,m=0|j=0,m=0\\rangle=0 \\therefore (1/\\sqrt{2})C_{-1/2,1/2,0}^{1/2,1/2,0}+(1/\\sqrt{2})C_{1/2,-1/2,0}^{1/2,1/2,0}=0.\n",
    "\\end{equation}"
   ]
  },
  {
   "cell_type": "markdown",
   "metadata": {},
   "source": [
    "---\n",
    "# Exercícios\n",
    "\n",
    "$1.$ Verifique que $J^{2} = J_{a}^{2}\\otimes\\mathbb{I}_{b} +  \\mathbb{I}_{a}\\otimes J_{b}^{2} + 2\\sum_{j=1}^{3}J_{j}^{a}\\otimes J_{j}^{b}$.\n",
    "\n",
    "$2.$ Verifique que $[A\\otimes B,A'\\otimes\\mathbb{I}] = [A,A']\\otimes B$.\n",
    "\n",
    "$3.$ Verifique que $[J^{2},J_{b}^{2}] = \\mathbb{O}$.\n",
    "\n",
    "$4.$ Verifique que $[J_{b}^{2},J_{3}] = \\mathbb{O}$.\n",
    "\n",
    "$5.$ Verifique que $[J^{2},J_{3}^{b}] = 2i\\hbar(J_{2}^{a}\\otimes J_{1}^{b}-J_{1}^{a}\\otimes J_{2}^{b}) \\ne \\mathbb{O}$.\n",
    "\n",
    "$6.$ Obtenha a base $\\{|j,m\\rangle\\}$ em termos da base $\\{|m_{a}\\rangle\\otimes|m_{b}\\rangle\\}$ para $j_{a}=1$ e $j_{b}=1/2$.\n",
    "\n",
    "$7.$ O oscilador de Schwinger é um mapa entre a álgebra do momento angular (AMA) e a álgebra de osciladores harmônicos desacoplados. Esse mapa pode ser definido por: $J_{1}= (\\hbar/2)(a_{1}^{\\dagger}\\otimes a_{2}+a_{1}\\otimes a_{2}^{\\dagger})$, $J_{2}= (\\hbar/2i)(a_{1}^{\\dagger}\\otimes a_{2}-a_{1}\\otimes a_{2}^{\\dagger})$, e $J_{3} := (\\hbar/2)(a_{1}^{\\dagger}a_{1}\\otimes\\mathbb{I}_{2} - \\mathbb{I}_{1}\\otimes a_{2}^{\\dagger}a_{2})$, com $a_{j}^{\\dagger}$ e $a_{j}$  sendo, respectivamente, os operadores de criação e aniquilação do oscilador harmônico unidimensional $j=1,2$. Verifique que as componentes de $\\vec{J}$, construídas dessa forma, satisfazem as relações de comutação que definem a álgebra do momento angular.\n",
    "\n",
    "$8.$ Considere a soma de momentos angulares para dois quantons de spin 3/2, ou seja, considere $j_a=j_b=3/2$. Escreva os seguintes estados da base de autovetores do momento angular total\n",
    "$$|j_a=3/2,j_b=3/2,j=3,m=3\\rangle,\\ |j_a=3/2,j_b=3/2,j=3,m=2\\rangle$$\n",
    "em termos dos estados da base de autovetores de $J_3^a$ e  $J_3^b$: \n",
    "$$\\left\\{|j_a=3/2,m_a\\rangle\\otimes|j_b=3/2,m_b\\rangle\\right\\}.$$"
   ]
  },
  {
   "cell_type": "markdown",
   "metadata": {},
   "source": [
    "---\n",
    "# Material suplementar\n",
    "\n",
    "## __Exemplo:__ Soma de três momentos angulares $j_a=j_b=j_c=1/2$\n"
   ]
  },
  {
   "cell_type": "code",
   "execution_count": null,
   "metadata": {},
   "outputs": [],
   "source": []
  },
  {
   "cell_type": "code",
   "execution_count": null,
   "metadata": {},
   "outputs": [],
   "source": []
  },
  {
   "cell_type": "code",
   "execution_count": null,
   "metadata": {},
   "outputs": [],
   "source": []
  },
  {
   "cell_type": "code",
   "execution_count": null,
   "metadata": {},
   "outputs": [],
   "source": []
  },
  {
   "cell_type": "markdown",
   "metadata": {},
   "source": [
    "Esse código está em produção. Não utilizar por enquanto."
   ]
  },
  {
   "cell_type": "code",
   "execution_count": 59,
   "metadata": {},
   "outputs": [],
   "source": [
    "def cJp(j,m):\n",
    "    hb = symbols('hbar')\n",
    "    return hb*sqrt(j*(j+1)-m*(m+1))\n",
    "def cJm(j,m):\n",
    "    hb = symbols('hbar')\n",
    "    return hb*sqrt(j*(j+1)-m*(m-1))"
   ]
  },
  {
   "cell_type": "code",
   "execution_count": 71,
   "metadata": {},
   "outputs": [
    {
     "name": "stdout",
     "output_type": "stream",
     "text": [
      " ja =  0.5  jb =  0.5\n",
      "j= 1.0 m= 1.0\n",
      "ma= 0.5 , mb= 0.5 , ccg= 1 , Os outros coeficientes são nulos\n",
      "j =  1.0 , m =  0.0\n",
      "ma =  0.5 , mb =  0.5 , ccg =  0\n",
      "ma =  0.5 , mb =  -0.5 , ccg =  0.707106781186547\n",
      "ma =  -0.5 , mb =  0.5 , ccg =  0.707106781186547\n",
      "ma =  -0.5 , mb =  -0.5 , ccg =  0\n",
      "j =  1.0 , m =  -1.0\n",
      "ma =  0.5 , mb =  0.5 , ccg =  0\n",
      "ma =  0.5 , mb =  -0.5 , ccg =  0\n",
      "ma =  -0.5 , mb =  0.5 , ccg =  0\n",
      "ma =  -0.5 , mb =  -0.5 , ccg =  nan\n",
      "j= 0.0 m= 0.0\n",
      "ma= 0.5 , mb= 0.5 , ccg= 1 , Os outros coeficientes são nulos\n"
     ]
    }
   ],
   "source": [
    "def clebsch_gordan(ja,jb):\n",
    "    nma = int(2*ja+1)\n",
    "    nmb = int(2*jb+1)\n",
    "    nj = int(ja+jb-abs(ja-jb)+1)\n",
    "    print(' ja = ',ja,' jb = ',jb)\n",
    "    for k in range(0,nj):\n",
    "        j = ja+jb-k\n",
    "        nm = int(2*j+1)\n",
    "        m = j\n",
    "        print('j=',j,'m=',m)\n",
    "        print('ma=',ja,', mb=',jb,', ccg=',1,', Os outros coeficientes são nulos')\n",
    "        for l in range(1,nm):\n",
    "            m = j-l\n",
    "            print('j = ',j,', m = ',m)\n",
    "            norm = cJm(j,m)\n",
    "            for p in range(0,nma):\n",
    "                ma = ja-p\n",
    "                for q in range(0,nmb):\n",
    "                    mb = jb-q\n",
    "                    if m != (ma+mb):\n",
    "                        ccg = 0\n",
    "                    else:\n",
    "                        if ma != (-ja):\n",
    "                            ccg = cJm(ja,ma)/norm \n",
    "                        else:\n",
    "                            ccg = cJm(jb,mb)/norm \n",
    "                    print('ma = ',ma,', mb = ',mb,', ccg = ',ccg)\n",
    "                        \n",
    "    return\n",
    "clebsch_gordan(1/2,1/2)"
   ]
  }
 ],
 "metadata": {
  "kernelspec": {
   "display_name": "Python 3 (ipykernel)",
   "language": "python",
   "name": "python3"
  },
  "language_info": {
   "codemirror_mode": {
    "name": "ipython",
    "version": 3
   },
   "file_extension": ".py",
   "mimetype": "text/x-python",
   "name": "python",
   "nbconvert_exporter": "python",
   "pygments_lexer": "ipython3",
   "version": "3.12.2"
  }
 },
 "nbformat": 4,
 "nbformat_minor": 4
}
