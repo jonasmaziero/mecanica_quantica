{
 "cells": [
  {
   "cell_type": "markdown",
   "metadata": {},
   "source": [
    "### Notas de aula de Mecânica Quântica <br> Autor: Jonas Maziero"
   ]
  },
  {
   "cell_type": "markdown",
   "metadata": {},
   "source": [
    "# Oscilador harmônico quântico 1D\n",
    "O potencial harmônico clássico unidimensional, \n",
    "$$U=kx^{2}/2,$$\n",
    "correspondente à força restauradora \n",
    "$$F_{x}=-\\partial_{x}U=-kx$$\n",
    "(e usando $\\omega=\\sqrt{k/m}$), nos fornece, depois da quantização $x\\rightarrow X$ e $p\\rightarrow P$, o Hamiltoniano quântico para o oscilador harmônico quântico (OHQ) unidimensional (OHQ1D) não relativístico:\n",
    "\\begin{equation}\n",
    "H_{ohq} = \\frac{P^{2}}{2m} + \\frac{m\\omega^{2}X^{2}}{2}.\n",
    "\\end{equation}\n",
    "Como \n",
    "$$[X,P]\\ne 0,$$\n",
    "não parece ser trivial diagonalizar esse hamiltoniano. A seguir veremos como usar os operadores escada para encontrar os __autovalores e autovetores de $H_{ohq}$__."
   ]
  },
  {
   "cell_type": "markdown",
   "metadata": {},
   "source": [
    "## Operadores escada\n",
    "Definimos os operadores escada como uma combinação linear dos operadores posição $X$ e momento linear $P$:\n",
    "\\begin{align}\n",
    "& a := \\sqrt{\\frac{m\\omega}{2\\hbar}}\\left(X + \\frac{i}{m\\omega}P\\right) \\\\\n",
    "& \\therefore a^{\\dagger} = \\sqrt{\\frac{m\\omega}{2\\hbar}}\\left(X - \\frac{i}{m\\omega}P\\right).\n",
    "\\end{align}\n",
    "Essa técnica pode ser vista como uma aplicação particular da ideia da transformada de Jordan-Wigner. \n",
    "\n",
    "Podemos manipular as equações acima para obter:\n",
    "\\begin{align}\n",
    "& X = \\sqrt{\\frac{\\hbar}{2m\\omega}}(a^{\\dagger}+a), \\\\\n",
    "& P = i\\sqrt{\\frac{\\hbar m\\omega}{2}}(a^{\\dagger}-a).\n",
    "\\end{align}"
   ]
  },
  {
   "cell_type": "markdown",
   "metadata": {},
   "source": [
    "Aqui usaremos a relação canônica de comutação entre posição e momento linear,\n",
    "\\begin{equation}\n",
    "[X,P]=i\\hbar I,\n",
    "\\end{equation}\n",
    "para verificar que\n",
    "\\begin{align}\n",
    "[a,a^{\\dagger}] & = \\frac{m\\omega}{2\\hbar}\\left[X + \\frac{i}{m\\omega}P,X - \\frac{i}{m\\omega}P\\right] \\\\\n",
    "& = \\frac{m\\omega}{2\\hbar}\\left(0 - \\frac{i}{m\\omega}[X,P] + \\frac{i}{m\\omega}[P,X] + 0\\right) \\\\\n",
    "& = \\frac{m\\omega}{2\\hbar}\\frac{-2i}{m\\omega}[X,P] \\\\\n",
    "& = \\frac{-i}{\\hbar}i\\hbar I \\\\\n",
    "& = I \\\\ \n",
    "& =aa^{\\dagger}-a^{\\dagger}a.\n",
    "\\end{align}\n",
    "Por conseguinte\n",
    "$$aa^{\\dagger} = I + a^{\\dagger}a,\\ a^{\\dagger}a = aa^{\\dagger} - I.$$\n",
    "\n",
    "Assim, o Hamiltoniano fica escrito como\n",
    "\\begin{align}\n",
    "H_{ohq} & = \\frac{1}{2m}\\Big(-\\frac{\\hbar m\\omega}{2}(a^{\\dagger}-a)(a^{\\dagger}-a)\\Big) + \\frac{m\\omega^{2}}{2}\\frac{\\hbar}{2m\\omega}(a^{\\dagger}+a)(a^{\\dagger}+a)\\\\\n",
    "& = \\frac{\\hbar\\omega}{4}\\left(-(a^{\\dagger})^{2}+a^{\\dagger}a+aa^{\\dagger}-a^{2} + (a^{\\dagger})^{2}+a^{\\dagger}a+aa^{\\dagger}+a^{2}\\right) \\\\\n",
    "& = \\frac{\\hbar\\omega}{2}(a^{\\dagger}a+aa^{\\dagger}) \\\\\n",
    "& = \\frac{\\hbar\\omega}{2}(a^{\\dagger}a+I+a^{\\dagger}a) \\\\\n",
    "& = \\hbar\\omega(N+I/2), \n",
    "\\end{align}\n",
    "onde definimos o __operador número__, que é positivo-semidefinido e Hermintiano, como:\n",
    "\\begin{equation}\n",
    "N:=a^{\\dagger}a.\n",
    "\\end{equation}"
   ]
  },
  {
   "cell_type": "markdown",
   "metadata": {},
   "source": [
    "## Diagonalização do Hamiltoniano\n",
    "Vamos definir\n",
    "\\begin{equation}\n",
    "N|n\\rangle=n|n\\rangle\n",
    "\\end{equation}\n",
    "e obter os possíveis valores de $n$. Primeiramente usamos a positividade da norma de um vetor qualquer do espaço de Hilbert associado:\n",
    "\\begin{align}\n",
    "&||a|n\\rangle||^{2}\\ge 0 \\\\\n",
    "& \\therefore\\ 0\\le(a|n\\rangle,a|n\\rangle)=(|n\\rangle,a^{\\dagger}a|n\\rangle) =(|n\\rangle,N|n\\rangle) = n\\langle n|n\\rangle=n \\\\\n",
    "& \\therefore\\ n \\ge 0.\n",
    "\\end{align}\n",
    "Vale observar que este resultado também poderia ser obtido notando-se que $N$ é um operador positivo semi-definido, e portanto possui autovalores reais e não negativos.\n",
    "\n",
    "A principal observação a ser feita na sequência é sobre a ação dos operadores escada nos autovetores de $N$, que também são autovetores de $H$. Começamos usando $[a,a^\\dagger] = I$ para escrever\n",
    "\\begin{align}\n",
    "N(a|n\\rangle) & = a^{\\dagger}aa|n\\rangle \\\\\n",
    "& = (aa^{\\dagger}-I)a|n\\rangle \\\\\n",
    "& = aa^{\\dagger}a|n\\rangle-a|n\\rangle \\\\\n",
    "& = aN|n\\rangle-a|n\\rangle \\\\\n",
    "& = an|n\\rangle-a|n\\rangle \\\\\n",
    "& = (n-1)(a|n\\rangle).\n",
    "\\end{align}\n",
    "Ou seja, $a|n\\rangle$ também é autovetor de $N$, mas correspondente ao autovalor $n-1$. Note que o estado $|n-1\\rangle$ é autovetor de $N$ correspondente a este mesmo autovalor. Essas duas relações são satisfeitas se\n",
    "\\begin{equation}\n",
    "a|n\\rangle\\propto|n-1\\rangle =: c|n-1\\rangle.\n",
    "\\end{equation}"
   ]
  },
  {
   "cell_type": "markdown",
   "metadata": {},
   "source": [
    "Para que possam representar estados físicamente aceitáveis, esses vetores devem ser normalizados. Vem então que\n",
    "\\begin{align}\n",
    "& (a|n\\rangle,a|n\\rangle) = (c|n-1\\rangle,c|n-1\\rangle), \\\\\n",
    "& \\therefore\\ (|n\\rangle,a^\\dagger a|n\\rangle) = c^* c(|n-1\\rangle,|n-1\\rangle), \\\\\n",
    "& \\therefore\\ \\langle n|N|n\\rangle = |c|^{2}\\langle n-1|n-1\\rangle, \\\\\n",
    "& \\therefore\\ n\\langle n|n\\rangle = n = |c|^{2} \\\\\n",
    "& \\therefore\\  |c|=\\sqrt{n},\n",
    "\\end{align}\n",
    "que nos fornece a ação do operador de abaixamento na base número (assumimos $c\\in\\mathbb{R}$):\n",
    "\\begin{equation}\n",
    "a|n\\rangle = \\sqrt{n}|n-1\\rangle.\n",
    "\\end{equation}\n",
    "Vale observar que se $a|n\\rangle \\propto |n-1\\rangle$ então as equações $N(a|n\\rangle)=(n-1)(a|n\\rangle)$ e $N|n-1\\rangle=(n-1)|n-1\\rangle$ são satisfeitas, pois $a|n\\rangle$ e $|n-1\\rangle$ estão na mesma direção. No entanto, essas 2 equações não implicam necessariamente que $a|n\\rangle$ e $|n-1\\rangle$ estão na mesma direção.\n",
    "\n",
    "Já sabemos que $n\\ge 0$ e que $a$ leva $|n\\rangle$ em um autovetor de $N$ \"diminuído por uma unidade\". Podemos usar esses fatos para argumentar que $n$ deve ser inteiro. O __menor valor possível__ de $n$ é $0$. Então se $a$ atua no autovetor \n",
    "$$|n=0\\rangle\\equiv|0\\rangle,$$\n",
    "devemos obter um vetor que não é um estado possível, que é o vetor nulo, i.e., \\begin{equation}\n",
    "a|0\\rangle=|\\oslash\\rangle.\n",
    "\\end{equation}\n",
    "Agora, se $n$ pudesse ser real, teríamos, por exemplo, $a|0.5\\rangle=|-0.5\\rangle$, que não é um valor possível de $n$. Concluímos então que __$n$ é um número natural__ incluindo zero:\n",
    "$$n\\in\\mathbb{Z}_{\\ge 0}.$$\n",
    "\n",
    "Também pode-se mostrar que\n",
    "\\begin{equation}\n",
    "a^{\\dagger}|n\\rangle = \\sqrt{n+1}|n+1\\rangle.\n",
    "\\end{equation}\n",
    "Em contraste com $a$, o operador $a^{\\dagger}$ pode aumentar o autovalor $n$ indefinidamente. Não há argumento matemático impondo um limite superior para $n$. Resumindo\n",
    "\\begin{align}\n",
    "& N|n\\rangle=n|n\\rangle, \\\\\n",
    "& H_{ohq}|n\\rangle = E_{n}|n\\rangle=\\hbar\\omega(n+1/2)|n\\rangle, \\\\\n",
    "& E_{n}=\\hbar\\omega(n+1/2), \\\\\n",
    "& n=0,1,2,3,\\cdots,\\infty.\n",
    "\\end{align}\n",
    "Vemos, no entanto, que há uma restrição física para o limite superior de $n$, e que é imposta pela energia máxima que o OHQ poderá ter. Além disso, a restrição $n\\ge 0$ implica em uma energia mínima não nula dos OHQ, a chamada __energia de ponto zero__\n",
    "$$E_0 = \\frac{\\hbar\\omega}{2},$$ que apresenta o fato que todo OHQ está sempre oscilando.\n",
    "\n",
    "Abaixo está mostrado o diagrama de níveis de energia para o OHQ1D."
   ]
  },
  {
   "cell_type": "code",
   "execution_count": 17,
   "metadata": {},
   "outputs": [
    {
     "data": {
      "image/png": "[encoded data removed]",
      "text/plain": [
       "<Figure size 640x480 with 1 Axes>"
      ]
     },
     "metadata": {},
     "output_type": "display_data"
    }
   ],
   "source": [
    "from matplotlib import pyplot as plt\n",
    "import matplotlib\n",
    "matplotlib.rcParams.update({'font.size':10})\n",
    "xmin = 0; xmax = 1\n",
    "for j in range(0,5):\n",
    "    plt.hlines(j,xmin,xmax,color='blue'); \n",
    "for j in range(0,4):\n",
    "    plt.text(-0.13,j,j,color='black',fontsize=13)\n",
    "    plt.text(1.01,j, str(2*j+1)+r'$\\hbar\\omega/2$',\\\n",
    "             color='black',fontsize=13)\n",
    "for j in range(0,3):\n",
    "    plt.annotate(\"\", xy=(0.5,j), xytext=(0.5,j+1), \\\n",
    "                 arrowprops=dict(arrowstyle=\"<->\"))\n",
    "    plt.text(0.51,(2*j+1)/2,r'$\\hbar\\omega$',fontsize=13)\n",
    "plt.text(0.45,3.5,r'$\\vdots$',fontsize=20)\n",
    "plt.text(-0.13,4,r'$n$',color='black',fontsize=13)\n",
    "plt.text(1.01,4,r'$E_{n}=\\hbar\\omega(n+1/2)$',fontsize=13)\n",
    "plt.axis('off'); plt.xlim(0,2); plt.ylim(-0.05,4.05); \n",
    "plt.show()"
   ]
  },
  {
   "cell_type": "markdown",
   "metadata": {},
   "source": [
    "## Autofunções do OHQ na base de posição\n",
    "\n",
    "### Estado fundamental\n",
    "Baseado na álgebra do OHQ, temos que\n",
    "\\begin{align}\n",
    "& \\langle x|a|0\\rangle = \\langle x|\\oslash\\rangle = 0 \\\\\n",
    "& = \\langle x|\\sqrt{\\frac{m\\omega}{2\\hbar}}\\Big(X+\\frac{i}{m\\omega}P\\Big)|0\\rangle \\\\\n",
    "& = \\sqrt{\\frac{m\\omega}{2\\hbar}}\\Big(\\langle x|X|0\\rangle+\\frac{i}{m\\omega}\\langle x|P|0\\rangle\\Big) \\\\\n",
    "& = \\sqrt{\\frac{m\\omega}{2\\hbar}}\\Big(x\\langle x|0\\rangle+\\frac{i}{m\\omega}\\frac{\\hbar}{i}\\partial_x \\langle x|0\\rangle\\Big) \\\\\n",
    "& = \\sqrt{\\frac{m\\omega}{2\\hbar}}\\Big(x\\psi_0 (x)+\\frac{i}{m\\omega}\\frac{\\hbar}{i}\\partial_x \\psi_0 (x)\\Big).\n",
    "\\end{align}\n",
    "Portanto\n",
    "\\begin{align}\n",
    "& \\partial_x \\psi_0 (x) = - \\frac{m\\omega x}{\\hbar}\\psi_0 (x) \\\\\n",
    "& \\therefore\\ \\psi_0 (x) = C e^{-m\\omega x^2 /2\\hbar}.\n",
    "\\end{align}"
   ]
  },
  {
   "cell_type": "markdown",
   "metadata": {},
   "source": [
    "Apliquemos normalização:\n",
    "\\begin{align}\n",
    "& \\int_{-\\infty}^{\\infty}|\\psi_0 (x)|^2 dx = 1 \\\\\n",
    "& \\therefore\\ |C|^{2}\\int_{-\\infty}^{\\infty} e^{-m\\omega x^2 /\\hbar} dx = 1 \\\\\n",
    "& \\therefore\\ |C|^{2}\\sqrt{\\frac{\\pi\\hbar}{m\\omega}} = 1 \\\\\n",
    "& \\therefore\\ |C|^2 = \\Big(\\frac{m\\omega}{\\pi\\hbar}\\Big)^{1/2}.\n",
    "\\end{align}\n",
    "Com isso, fazendo $C\\in\\mathbb{R}$, obtemos a função de onda na base da posição para o estado fundamental do OHQ1D:\n",
    "$$\\psi_0 (x) = \\Big(\\frac{m\\omega}{\\pi\\hbar}\\Big)^{1/4} e^{-m\\omega x^2 /2\\hbar}.$$"
   ]
  },
  {
   "cell_type": "markdown",
   "metadata": {},
   "source": [
    "### 1º estado excitado\n",
    "Usando \n",
    "$$|1\\rangle =a^\\dagger |0\\rangle $$ \n",
    "e \n",
    "$$a^\\dagger = \\sqrt{\\frac{m\\omega}{2\\hbar}}\\Big(X-\\frac{i}{m\\omega}P\\Big)$$\n",
    "obteremos a função de onda na base da posição para o 1º estado excitado do OHQ1D:\n",
    "\\begin{align}\n",
    "\\psi_1 (x) & = \\langle x|1\\rangle \\\\\n",
    "& = \\langle x|a^\\dagger |0\\rangle \\\\\n",
    "& = \\langle x|\\sqrt{\\frac{m\\omega}{2\\hbar}}\\Big(X-\\frac{i}{m\\omega}P\\Big) |0\\rangle \\\\\n",
    "& = \\sqrt{\\frac{m\\omega}{2\\hbar}}\\Big(\\langle x|X|0\\rangle -\\frac{i}{m\\omega}\\langle x|P |0\\rangle\\Big) \\\\\n",
    "& = \\sqrt{\\frac{m\\omega}{2\\hbar}}\\Big(x\\langle x|0\\rangle -\\frac{i}{m\\omega}\\frac{\\hbar}{i}\\partial_x \\langle x |0\\rangle\\Big) \\\\\n",
    "& = \\sqrt{\\frac{m\\omega}{2\\hbar}}\\Big(x\\psi_0 (x) -\\frac{\\hbar}{m\\omega}\\partial_x \\psi_0 (x)\\Big) \\\\\n",
    "& = \\sqrt{\\frac{m\\omega}{2\\hbar}}\\Big(x\\Big(\\frac{m\\omega}{\\pi\\hbar}\\Big)^{1/4} e^{-m\\omega x^2 /2\\hbar} -\\frac{\\hbar}{m\\omega}\\partial_x \\Big(\\frac{m\\omega}{\\pi\\hbar}\\Big)^{1/4} e^{-m\\omega x^2 /2\\hbar}\\Big) \\\\\n",
    "& = \\sqrt{\\frac{m\\omega}{2\\hbar}}\\Big(x\\Big(\\frac{m\\omega}{\\pi\\hbar}\\Big)^{1/4} e^{-m\\omega x^2 /2\\hbar} +\\frac{\\hbar}{m\\omega}\\Big(\\frac{m\\omega}{\\pi\\hbar}\\Big)^{1/4} \\frac{m\\omega x}{\\hbar} e^{-m\\omega x^2 /2\\hbar}\\Big) \\\\\n",
    "& = \\sqrt{2\\pi}\\Big(\\frac{m\\omega}{\\pi\\hbar}\\Big)^{3/4}x e^{-m\\omega x^2 /2\\hbar}.\n",
    "\\end{align}"
   ]
  },
  {
   "cell_type": "markdown",
   "metadata": {},
   "source": [
    "### $n$-ésimo estado excitado\n",
    "Usando $a^{\\dagger}|n\\rangle=\\sqrt{n+1}|n+1\\rangle$, podemos escrever o $n$-ésimo estado excitado do OHQ1D em termos do estado fundamental através de aplicações do operador de levantamento:\n",
    "\\begin{align}\n",
    "& a^{\\dagger}|0\\rangle=\\sqrt{0+1}|0+1\\rangle=|1\\rangle \\therefore |1\\rangle=a^{\\dagger}|0\\rangle, \\\\\n",
    "& a^{\\dagger}|1\\rangle=\\sqrt{1+1}|1+1\\rangle = \\sqrt{2}|2\\rangle \\therefore |2\\rangle = \\frac{1}{\\sqrt{2}}a^{\\dagger}|1\\rangle = \\frac{1}{\\sqrt{2}}(a^{\\dagger})^{2}|0\\rangle, \\\\\n",
    "& a^{\\dagger}|2\\rangle=\\sqrt{2+1}|2+1\\rangle = \\sqrt{3}|3\\rangle \\therefore |3\\rangle = \\frac{1}{\\sqrt{3}}a^{\\dagger}|2\\rangle = \\frac{1}{\\sqrt{3.2.1}}(a^{\\dagger})^{3}|0\\rangle, \\\\\n",
    "& a^{\\dagger}|3\\rangle=\\sqrt{3+1}|3+1\\rangle = \\sqrt{4}|4\\rangle \\therefore |4\\rangle = \\frac{1}{\\sqrt{4}}a^{\\dagger}|3\\rangle = \\frac{1}{\\sqrt{4.3.2.1}}(a^{\\dagger})^{4}|0\\rangle, \\\\\n",
    "& \\vdots \\\\\n",
    "& \\therefore\\  |n\\rangle = \\frac{1}{\\sqrt{n!}}(a^{\\dagger})^{n}|0\\rangle.\n",
    "\\end{align}"
   ]
  },
  {
   "cell_type": "markdown",
   "metadata": {},
   "source": [
    "Teremos assim que\n",
    "\\begin{align}\n",
    "\\psi_n (x) & = \\langle x|n\\rangle \\\\\n",
    "& = \\langle x|\\frac{1}{\\sqrt{n!}}(a^\\dagger)^n |0\\rangle\\\\\n",
    "& = \\frac{1}{\\sqrt{n!}}\\Big(\\frac{m\\omega}{2\\hbar}\\Big)^{n/2}\\langle x|\\Big(X-\\frac{i}{m\\omega}P\\Big)^n |0\\rangle.\n",
    "\\end{align}\n",
    "Por hora, não temos uma expressão geral pra essa função de onda a partir do método algébrico, como tínhamos usando o método analítico. Fica como desafio para você obter a fórmula geral para $\\psi_n(x)$. Abaixo seguem alguns comentários gerais sobre esse problema.\n",
    "\n",
    "Para escalares, quando temos que lidar com uma expressão deste tipo, usamos o binômio de Newton \n",
    "$$(a+b)^n = \\sum_{k=0}^{n}\\binom{n}{k}a^{n-k}b^k$$ \n",
    "com \n",
    "$$\\binom{n}{k} = \\frac{n!}{k!(n-k)!}.$$\n",
    "Não é difícil verificar que\n",
    "\\begin{align}\n",
    "(a+b)^2 & = a^2 + 2ab + b^2, \\\\\n",
    "(a+b)^3 & = a^3 + 3a^2 b + 3ab^2 + b^3.\n",
    "\\end{align}"
   ]
  },
  {
   "cell_type": "markdown",
   "metadata": {},
   "source": [
    "No entanto, para operadores, por causa da sua possível não comutatividade, não podemos usar essa fórmula diretamente. Na verdade, neste caso, depois de rascunhar um pouco, nota-se que temos que escrever\n",
    "$$(A+B)^n = \\sum_{j_1,j_2,\\cdots,j_{n-1},j_n =A,B}j_1 j_2 \\cdots j_{n-1}j_n.$$\n",
    "Por exemplo\n",
    "\\begin{align}\n",
    "(A+B)^2 & = \\sum_{j_1,j_1=A,B}j_1 j_2 \\\\\n",
    "& = AA + AB + BA + BB \\\\\n",
    "& = A^2 + AB + BA + B^2, \\\\\n",
    "(A+B)^3 & = \\sum_{j_1,j_2,j_3 =A,B}j_1 j_2 j_3 \\\\\n",
    "& = AAA + AAB + ABA + ABB + BAA + BAB + BBA + BBB \\\\\n",
    "& = A^3 + A^2 B + ABA + AB^2 + BA^2 + BAB + B^2 A + B^3.\n",
    "\\end{align}\n",
    "Então me parece que teremos que usar alguma outra técnica para obter $\\psi_n(x).$"
   ]
  },
  {
   "cell_type": "markdown",
   "metadata": {},
   "source": [
    "## Valores médios e desvios padrões de $X$ e $P$ para $|\\psi\\rangle=|n\\rangle$\n",
    "Consideremos o OHQ preparado em um estado com energia definida. Para a posição teremos\n",
    "\\begin{align}\n",
    "\\langle X\\rangle_{n} &= \\langle n|X|n\\rangle \\\\\n",
    "& = \\langle n|\\sqrt{\\frac{\\hbar}{2m\\omega}}(a^{\\dagger}+a)|n\\rangle \\\\\n",
    "& = \\sqrt{\\frac{\\hbar}{2m\\omega}}(\\langle n|a^{\\dagger}|n\\rangle+\\langle n|a|n\\rangle) \\\\\n",
    "& = \\sqrt{\\frac{\\hbar}{2m\\omega}}(\\langle n|\\sqrt{n+1}|n+1\\rangle+\\langle n|\\sqrt{n}|n-1\\rangle) \\\\\n",
    "& = 0.\n",
    "\\end{align}\n",
    "e\n",
    "\\begin{align}\n",
    "\\langle X^{2}\\rangle_{n} &= \\frac{\\hbar}{2m\\omega}\\langle n|(a^{\\dagger}+a)(a^{\\dagger}+a)|n\\rangle \\\\\n",
    "& = \\frac{\\hbar}{2m\\omega}(\\langle n|(a^{\\dagger})^{2}|n\\rangle+\\langle n|a^{2}|n\\rangle + \\langle n|a^{\\dagger}a|n\\rangle + \\langle n|aa^{\\dagger}|n\\rangle) \\\\\n",
    "& = \\frac{\\hbar}{2m\\omega}(\\langle n|\\sqrt{n+1}a^{\\dagger}|n+1\\rangle+\\langle n|\\sqrt{n}a|n-1\\rangle + \\langle n|N|n\\rangle + \\langle n|(a^{\\dagger}a+\\mathbb{I})|n\\rangle) \\\\\n",
    "& = \\frac{\\hbar}{2m\\omega}(\\langle n|\\sqrt{n+1}\\sqrt{n+2}|n+2\\rangle+\\langle n|\\sqrt{n}\\sqrt{n-1}|n-2\\rangle + \\langle n|N|n\\rangle + \\langle n|(N+\\mathbb{I})|n\\rangle) \\\\\n",
    "& = \\frac{\\hbar}{2m\\omega}(0+0 + n + (n+1)) \\\\\n",
    "& = \\frac{\\hbar}{2m\\omega}(2n+1).\n",
    "\\end{align}\n",
    "\n",
    "Analogamente, pode-se mostrar que para o momento linear teremos:\n",
    "\\begin{align}\n",
    "& \\langle P\\rangle_{n} = 0, \\\\\n",
    "& \\langle P^{2}\\rangle_{n}=\\frac{\\hbar m\\omega}{2}(2n+1).\n",
    "\\end{align}\n",
    "Portanto, a incerteza sobre a posição e sobre o momento linear aumentam com $n$. Juntando os resultados acima vemos que\n",
    "\\begin{align}\n",
    "& Var(X)_{n}Var(P)_{n}=\\frac{\\hbar}{2m\\omega}(2n+1)\\frac{\\hbar m\\omega}{2}(2n+1) = \\frac{\\hbar^{2}}{4}(2n+1)^{2}, \\\\\n",
    "& \\therefore \\sigma_{X}^{n}\\sigma_{P}^{n} = \\hbar(2n+1)/2.\n",
    "\\end{align}\n",
    "Temos assim que o estado fundamental do oscilador harmônico, $n=0$, atinge o limite inferior para o produto das incertezas da posição e momento linear (discutiremos relações de incerteza mais adiante):\n",
    "\\begin{equation}\n",
    "Var(X)_{0}Var(P)_{0}=\\frac{\\hbar^{2}}{4}.\n",
    "\\end{equation}\n",
    "i.e., $|0\\rangle$ é um estado de mínima incerteza. Vale observar que a função de onda na base da posição para este estado é uma função gaussiana."
   ]
  },
  {
   "cell_type": "markdown",
   "metadata": {},
   "source": [
    "\n",
    "## Valores médios e desvios padrões de $X$ e $P$ para $|\\psi\\rangle=\\sum_{n=0}^{\\infty}c_{n}|n\\rangle$\n",
    "Para a posição\n",
    "\\begin{align}\n",
    "\\langle X\\rangle_{\\psi} & = \\sqrt{\\frac{\\hbar}{2m\\omega}}\\langle\\psi|(a^{\\dagger}+a)\\sum_{n}c_{n}|n\\rangle \\\\\n",
    "& = \\sqrt{\\frac{\\hbar}{2m\\omega}}\\langle\\psi|\\sum_{n}c_{n}(a^{\\dagger}|n\\rangle+a|n\\rangle) \\\\\n",
    "& = \\sqrt{\\frac{\\hbar}{2m\\omega}}\\sum_{m}c_{m}^{*}\\langle m|\\sum_{n}c_{n}(\\sqrt{n+1}|n+1\\rangle+\\sqrt{n}|n-1\\rangle) \\\\\n",
    "& = \\sqrt{\\frac{\\hbar}{2m\\omega}}\\sum_{m,n}c_{m}^{*}c_{n}(\\sqrt{n+1}\\langle m|n+1\\rangle+\\sqrt{n}\\langle m|n-1\\rangle) \\\\\n",
    "& = \\sqrt{\\frac{\\hbar}{2m\\omega}}\\sum_{m,n}c_{m}^{*}c_{n}(\\sqrt{n+1}\\delta_{m,n+1}+\\sqrt{n}\\delta_{m,n-1}) \\\\\n",
    "& = \\sqrt{\\frac{\\hbar}{2m\\omega}}\\sum_{n}c_{n}\\left(c_{n+1}^{*}\\sqrt{n+1} + c_{n-1}^{*}\\sqrt{n}\\right).\n",
    "\\end{align}\n",
    "\n",
    "Por exemplo, para $|\\psi\\rangle=(|0\\rangle+|1\\rangle)/\\sqrt{2}$ teremos $c_{0}=c_{1}=1/\\sqrt{2}, c_{n>1}=0$ e assim \n",
    "\\begin{align}\n",
    "\\langle X\\rangle_{\\psi} & = \\sqrt{\\frac{\\hbar}{2m\\omega}}\\left(c_{0}\\left(c_{0+1}^{*}\\sqrt{0+1} + c_{0-1}^{*}\\sqrt{0}\\right) + c_{1}\\left(c_{1+1}^{*}\\sqrt{1+1} + c_{1-1}^{*}\\sqrt{1}\\right) + 0 \\right) \\\\\n",
    "& = \\sqrt{\\frac{\\hbar}{2m\\omega}}.\n",
    "\\end{align}\n",
    "\n",
    "Do mesmo modo que para $\\langle X\\rangle_{\\psi}$, pode-se mostrar que \n",
    "\\begin{equation}\n",
    "\\langle P\\rangle_{\\psi} = i\\sqrt{\\frac{\\hbar m\\omega}{2}}\\sum_{n}c_{n}\\left(c_{n+1}^{*}\\sqrt{n+1} - c_{n-1}^{*}\\sqrt{n}\\right).\n",
    "\\end{equation}\n",
    "\n",
    "Vemos assim que cada par $x_{0},p_{0}$ usado para fazer o gráfico apresentado na próxima seção corresponde a uma (ou mais) combinação linear dos estados da base número."
   ]
  },
  {
   "cell_type": "markdown",
   "metadata": {},
   "source": [
    "## Dinâmica gerada pelo Hamiltoniano do OHQ\n",
    "Como $H_{ohq}=\\sum_{n=0}^{\\infty}E_{n}|n\\rangle\\langle n|$, com $E_{n}=\\frac{\\hbar\\omega}{2}(n+1/2)$, o operador de evolução temporal é\n",
    "\\begin{equation}\n",
    "U_{t}=e^{-iH_{ohq}t/\\hbar}=\\sum_{n=0}^{\\infty}e^{-iE_{n}t/\\hbar}|n\\rangle\\langle n|.\n",
    "\\end{equation}\n",
    "\n",
    "### Dinâmica do OHQ na representação de Schrödinger\n",
    "Se o estado preparado for um autovetor de $H_{ohq}$, este só ganha uma fase, i.e., $|n\\rangle\\rightarrow e^{-iE_{n}t/\\hbar}|n\\rangle$. Consideremos então que o estado inicial é uma combinação linear qualquer \n",
    "$$|\\psi_{0}\\rangle = \\sum_{m}c_{m}|m\\rangle.$$\n",
    "Teremos assim que\n",
    "\\begin{align}\n",
    "|\\psi_{t}\\rangle & = U_{t}|\\psi_{0}\\rangle \\\\\n",
    "& = \\sum_{n=0}^{\\infty}e^{-iE_{n}t/\\hbar}|n\\rangle\\langle n|\\sum_{m}c_{m}|m\\rangle \\\\\n",
    "& = \\sum_{m}c_{m}\\sum_{n=0}^{\\infty}e^{-iE_{n}t/\\hbar}|n\\rangle\\langle n|m\\rangle \\\\\n",
    "& = \\sum_{m}c_{m}\\sum_{n=0}^{\\infty}e^{-iE_{n}t/\\hbar}|n\\rangle\\delta_{n,m} \\\\\n",
    "& = \\sum_{m}c_{m}e^{-iE_{m}t/\\hbar}|m\\rangle.\n",
    "\\end{align}\n",
    "Ou seja, o estado $|m\\rangle$ ganha uma fase $e^{-iE_{m}t/\\hbar}$ proporcional à energia daquele estado."
   ]
  },
  {
   "cell_type": "markdown",
   "metadata": {},
   "source": [
    "### Dinâmica do OHQ na representação de Heisenberg\n",
    "Para esse sistema, nessa representação, é conveniente olhar para a evolução temporal dos operadores escada. Como na representação de Schrödinger \n",
    "$$H_{ohq}^{S}=\\hbar\\omega(a_{S}^{\\dagger}a_{S}+I/2),$$\n",
    "com $a_{S}\\equiv a$, na representação de Heisenberg \n",
    "$$H_{ohq}^{H}=\\hbar\\omega(a_{H}^{\\dagger}a_{H}+I/2).$$\n",
    "Vamos para a equação de Heisenberg:\n",
    "\\begin{align}\n",
    "& i\\hbar\\partial_{t}a_{H} = [a_{H},H_{ohq}^{H}] + 0 \\\\\n",
    "& = \\hbar\\omega([a_{H},a_{H}^{\\dagger}a_{H}]+[a_{H},I]/2) \\\\\n",
    "& = \\hbar\\omega(a_{H}^{\\dagger}[a_{H},a_{H}] + [a_{H},a_{H}^{\\dagger}]a_{H} + 0) \\\\\n",
    "& = \\hbar\\omega(0 + I a_{H} + 0) \\\\\n",
    "& = \\hbar\\omega a_{H}.\n",
    "\\end{align}\n",
    "Portanto\n",
    "$$\\partial_{t}a_{H} = -i\\omega a_{H}.$$"
   ]
  },
  {
   "cell_type": "markdown",
   "metadata": {},
   "source": [
    "A solução é\n",
    "\\begin{equation}\n",
    "a_{H} = e^{-i\\omega t}a,\n",
    "\\end{equation}\n",
    "onde usamos $a_{H}(t=0)\\equiv a_{S}\\equiv a$. Analogamente, $a_{H}^{\\dagger} = e^{i\\omega t}a_{S}^{\\dagger}$. Com isso vem que\n",
    "\\begin{align}\n",
    "X_{t}^{H} & = \\sqrt{\\frac{\\hbar}{2m\\omega}}(e^{i\\omega t}a^{\\dagger}+e^{-i\\omega t}a) \\\\\n",
    "&= \\sqrt{\\frac{\\hbar}{2m\\omega}}((\\cos(\\omega t)+i\\sin(\\omega t))a^{\\dagger}+(\\cos(\\omega t)-i\\sin(\\omega t))a) \\\\\n",
    "& = \\cos(\\omega t)\\sqrt{\\frac{\\hbar}{2m\\omega}}(a^{\\dagger}+a) + \\sin(\\omega t)\\frac{1}{m\\omega}i\\sqrt{\\frac{\\hbar m\\omega}{2}}(a^{\\dagger}-a) \\\\\n",
    "& = X\\cos\\omega t + \\frac{P}{m\\omega}\\sin\\omega t, \\\\\n",
    "\\end{align}\n",
    "Pode-se verificar também que \n",
    "\\begin{align}\n",
    "P_{t}^{H} & = i\\sqrt{\\frac{\\hbar m\\omega}{2}}(e^{i\\omega t}a^{\\dagger}-e^{-i\\omega t}a) \\\\\n",
    "& = -m\\omega X\\sin\\omega t + P\\cos\\omega t.\n",
    "\\end{align}\n",
    "As equações acima podem ser escritas como uma única equação matricial:\n",
    "\\begin{equation}\n",
    "\\begin{bmatrix} X_{t}^{H} \\\\ P_{t}^{H}/m\\omega \\end{bmatrix} = \\begin{bmatrix} \\cos\\omega t & \\sin\\omega t \\\\ -\\sin\\omega t & \\cos\\omega t \\end{bmatrix}\\begin{bmatrix} X \\\\ P/m\\omega \\end{bmatrix}.\n",
    "\\end{equation}\n",
    "Vemos assim que a dinâmica sob o Hamiltoniano do OHQ gira os valores médios da posição e do momento no __\"espaço de fase\"__ com coordenadas \n",
    "$$\\big(\\langle X_{t}^{H}\\rangle_{\\psi_{0}},\\langle P_{t}^{H}\\rangle_{\\psi_{0}}/m\\omega\\big)).$$\n",
    "O raio do círculo é igual a norma do vetor $\\begin{bmatrix} X_{t}^{H} & P_{t}^{H}/m\\omega \\end{bmatrix}^{T}$, que é $\\sqrt{\\langle X\\rangle^{2}+\\langle P/m\\omega\\rangle^{2}}$. Veja a figura abaixo."
   ]
  },
  {
   "cell_type": "code",
   "execution_count": 30,
   "metadata": {},
   "outputs": [
    {
     "data": {
      "application/vnd.jupyter.widget-view+json": {
       "model_id": "36fe893a7821460d81194e2ae20d8a3d",
       "version_major": 2,
       "version_minor": 0
      },
      "text/plain": [
       "interactive(children=(FloatSlider(value=0.0, description='x0', max=1.0), FloatSlider(value=0.0, description='p…"
      ]
     },
     "execution_count": 30,
     "metadata": {},
     "output_type": "execute_result"
    }
   ],
   "source": [
    "from ipywidgets import interactive\n",
    "import numpy as np\n",
    "\n",
    "def ohq_dyn(x0,p0,tmax):\n",
    "    matplotlib.rcParams.update({'font.size':11})\n",
    "    fig = plt.figure(figsize=(6,6))\n",
    "    w = 1; t = np.arange(0,tmax,0.01); x = np.cos(w*t)*x0 + np.sin(w*t)*p0\n",
    "    y = -np.sin(w*t)*x0 + np.cos(w*t)*p0\n",
    "    plt.plot(x,y,linestyle='dashed'); plt.xlim(-1,1); plt.ylim(-1,1)\n",
    "    plt.xlabel(r'$\\langle X_{t}^{H}\\rangle$',fontsize=13)\n",
    "    plt.ylabel(r'$\\langle P_{t}^{H}\\rangle/m\\omega$',fontsize=13)\n",
    "    plt.annotate(r'$t=$'+str(tmax)[:5],xy=(0.6,0.8),xytext=(0.6,0.8)\\\n",
    "                 ,fontsize=12)\n",
    "    xm = np.cos(w*tmax)*x0 + np.sin(w*tmax)*p0\n",
    "    ym = -np.sin(w*tmax)*x0 + np.cos(w*tmax)*p0\n",
    "    plt.annotate(r'$\\bigcirc$', xy=(xm,ym), xytext=(xm,ym), fontsize=12)\n",
    "    plt.show()\n",
    "    \n",
    "interactive(ohq_dyn, x0 = (0,1,0.1), p0 = (0,1,0.1), tmax = (0,20,0.05))"
   ]
  },
  {
   "cell_type": "markdown",
   "metadata": {},
   "source": [
    "---\n",
    "# Exercícios\n",
    "\n",
    "$1.$ Verifique que para quaisquer três operadores lineares $A,B,C:\\mathcal{H}\\rightarrow\\mathcal{H}$, teremos as seguintes igualdades para relações de comutação: $[A,BC]=[A,B]C+B[A,C]$ e $[AB,C]=A[B,C]+[A,C]B$.\n",
    "\n",
    "$2.$ Verifique que o operador número, $N=a^{\\dagger}a$, e o Hamiltoniano do oscilador harmônico, $H=\\hbar\\omega(a^{\\dagger}a+\\mathbb{I}/2)$ são observáveis compatíveis, i.e., mostre que $[N,H]=0$.\n",
    "\n",
    "$3.$ Mostre que para qualquer operador $A:\\mathcal{H}\\rightarrow\\mathcal{H}$, o operador $B:=A^{\\dagger}A$ é positivo semidefinido (notação $B\\ge 0$). Ou seja, mostre que $\\langle B\\rangle_{\\psi}\\ge 0$ para qualquer $|\\psi\\rangle\\in\\mathcal{H}$. Mostre que os autovalores de $B$ são não negativos. Utilize esses resultados para mostrar que os autovalores do operador número são não negativos, i.e., $n\\ge 0$.\n",
    "\n",
    "$4.$ Verifique que $N(a^{\\dagger}|n\\rangle)=(n+1)(a^{\\dagger}|n\\rangle)$ e $a^{\\dagger}|n\\rangle=\\sqrt{n+1}|n+1\\rangle$, para $N=a^\\dagger a$.\n",
    "\n",
    "$5.$ Similarmente ao que fizemos para $\\psi_1 (x)$, obtenha a função de onda na base de posição para o 2º estado excitado do OHQ, i.e., obtenha $\\psi_2 (x)$.\n",
    "\n",
    "$6.$ Verifique que $\\langle P\\rangle_{n} = 0$ e $\\langle P^{2}\\rangle_{n}=\\hbar m\\omega(2n+1)/2$.\n",
    "\n",
    "$7.$ Calcule $\\langle P\\rangle_{\\psi}$ para $|\\psi\\rangle=\\sum_{n}c_{n}|n\\rangle$.\n",
    "\n",
    "$8.$ Resolvendo a eq. de Heisenberg, verifique que $a_{H}^{\\dagger} = e^{i\\omega t}a_{S}^{\\dagger}$, para a dinâmica gerada pelo Hamiltoniano do OHQ.\n",
    "\n",
    "$9.$ Para a dinâmica do OHQ, verifique que podemos escrever as soluções apresentadas na seção correspondente como: $X_{t}^{H} = X\\cos\\omega t + \\frac{P}{m\\omega}\\sin\\omega t$ e $P_{t}^{H} = -m\\omega X\\sin\\omega t + P\\cos\\omega t$.\n",
    "\n",
    "$10.$ Considerando o estado fundamental do oscilador harmônico quântico unidimensional, calcule a função correlação temporal \n",
    "$$C_t = \\langle X_t X_0 \\rangle,$$\n",
    "com $X_t$ sendo o operador posição na representação de Heisenberg."
   ]
  }
 ],
 "metadata": {
  "kernelspec": {
   "display_name": "Python 3 (ipykernel)",
   "language": "python",
   "name": "python3"
  },
  "language_info": {
   "codemirror_mode": {
    "name": "ipython",
    "version": 3
   },
   "file_extension": ".py",
   "mimetype": "text/x-python",
   "name": "python",
   "nbconvert_exporter": "python",
   "pygments_lexer": "ipython3",
   "version": "3.12.2"
  }
 },
 "nbformat": 4,
 "nbformat_minor": 4
}
