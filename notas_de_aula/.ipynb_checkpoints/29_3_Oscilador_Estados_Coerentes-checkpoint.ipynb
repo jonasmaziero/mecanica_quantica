{
 "cells": [
  {
   "cell_type": "markdown",
   "metadata": {},
   "source": [
    "### Notas de aula de Mecânica Quântica <br> Autor: Jonas Maziero"
   ]
  },
  {
   "cell_type": "markdown",
   "metadata": {},
   "source": [
    "# Estados coerentes do OHQ\n",
    "Os estados coerentes foram essenciais para o desenvolvimento de uma área muito importante da Física, a Óptica Quântica (https://www.nobelprize.org/prizes/physics/2005/glauber/lecture/) e são as seguintes combinações lineares dos estados da base número $\\{|n\\rangle\\}$:\n",
    "\\begin{equation}\n",
    "|\\alpha\\rangle = \\sum_{n=0}^{\\infty}\\frac{e^{-|\\alpha|^{2}/2}\\alpha^{n}}{\\sqrt{n!}}|n\\rangle,\n",
    "\\end{equation}\n",
    "onde \n",
    "$$\\alpha\\in\\mathbb{C}.$$\n",
    "Esses estados são __autovetores do operador de abaixamento__ (que não é Hermitiano):\n",
    "\\begin{align}\n",
    "a|\\alpha\\rangle & = e^{-|\\alpha|^{2}/2}\\sum_{n=0}^{\\infty}\\frac{\\alpha^{n}}{\\sqrt{n!}}a|n\\rangle  \\\\\n",
    "& = e^{-|\\alpha|^{2}/2}\\left(0+\\sum_{n=1}^{\\infty}\\frac{\\alpha\\alpha^{n-1}}{\\sqrt{n((n-1)!)}}\\sqrt{n}|n-1\\rangle\\right) \\\\ \n",
    "& = \\alpha e^{-|\\alpha|^{2}/2}\\sum_{m=0}^{\\infty}\\frac{\\alpha^{m}}{\\sqrt{m!}}|m\\rangle \\\\ \n",
    "& = \\alpha|\\alpha\\rangle.\n",
    "\\end{align}"
   ]
  },
  {
   "cell_type": "markdown",
   "metadata": {},
   "source": [
    "### Distribuição de probabilidades para a energia\n",
    "O valor médio do operador número nesse estado é:\n",
    "\\begin{align}\n",
    "\\langle N\\rangle_{\\alpha} & = \\langle\\alpha|N|\\alpha\\rangle \\\\\n",
    "& =\\langle\\alpha|a^{\\dagger}a|\\alpha\\rangle \\\\\n",
    "& = \\langle\\alpha|\\alpha^{*}\\alpha|\\alpha\\rangle \\\\\n",
    "& = |\\alpha|^{2}\\langle\\alpha|\\alpha\\rangle \\\\ \n",
    "& = |\\alpha|^{2}.\n",
    "\\end{align}\n",
    "\n",
    "A probabilidade do OHQ, preparado em um estado coerente, ter energia $E_{n}$ é:\n",
    "\\begin{align}\n",
    "Pr(E_{n}|\\alpha) & = |\\langle n|\\alpha\\rangle|^{2} \\\\\n",
    "& = \\left|\\langle n|e^{-|\\alpha|^{2}/2}\\sum_{m=0}^{\\infty}\\frac{\\alpha^{m}}{\\sqrt{m!}}|m\\rangle\\right|^{2} \\\\\n",
    "& = \\left|e^{-|\\alpha|^{2}/2}\\sum_{m=0}^{\\infty}\\frac{\\alpha^{m}}{\\sqrt{m!}}\\langle n|m\\rangle\\right|^{2} \\\\\n",
    "& = \\left|e^{-|\\alpha|^{2}/2}\\sum_{m=0}^{\\infty}\\frac{\\alpha^{m}}{\\sqrt{m!}}\\delta_{n,m}\\right|^{2} \\\\\n",
    "& = \\left|\\frac{e^{-|\\alpha|^{2}/2}\\alpha^{n}}{\\sqrt{n!}}\\right|^{2} \\\\\n",
    "& = \\frac{e^{-|\\alpha|^{2}}|\\alpha|^{2n}}{n!} \\\\ \n",
    "& = \\frac{e^{-\\langle N\\rangle_{\\alpha}}\\langle N\\rangle_{\\alpha}^{n}}{n!},\n",
    "\\end{align}\n",
    "que é denominada __distribuição Poissoniana__ de probabilidades."
   ]
  },
  {
   "cell_type": "code",
   "execution_count": 7,
   "metadata": {},
   "outputs": [
    {
     "data": {
      "application/vnd.jupyter.widget-view+json": {
       "model_id": "2793318223e04f27852c38fcc0a19d4d",
       "version_major": 2,
       "version_minor": 0
      },
      "text/plain": [
       "interactive(children=(FloatSlider(value=2.0, description='Nm', max=5.0, step=0.025), Output()), _dom_classes=(…"
      ]
     },
     "execution_count": 7,
     "metadata": {},
     "output_type": "execute_result"
    }
   ],
   "source": [
    "import math\n",
    "from ipywidgets import interactive\n",
    "import matplotlib\n",
    "from matplotlib import pyplot as plt\n",
    "import numpy as np\n",
    "\n",
    "def poisson(Nm):\n",
    "    matplotlib.rcParams.update({'font.size':11})\n",
    "    plt.figure(figsize = (6,4), dpi = 100)\n",
    "    N = 11; x = np.zeros(N); pr = np.zeros(N)\n",
    "    for n in range(0,N):\n",
    "        x[n] = n; pr[n] = (math.exp(-Nm)*Nm**n)/math.factorial(n)\n",
    "    plt.plot(x,pr); plt.xlim(0,N-1); plt.ylim(0,1)\n",
    "    plt.xlabel('n',fontsize=13)\n",
    "    plt.ylabel(r'$Pr(E_{n}|\\alpha)$',fontsize=13)\n",
    "    plt.annotate(r'$\\langle N\\rangle=$'+str(Nm),xy=(8,0.9),xytext=(8,0.9))\n",
    "    plt.show()\n",
    "    \n",
    "interactive(poisson, Nm = (0,5,0.025))"
   ]
  },
  {
   "cell_type": "markdown",
   "metadata": {},
   "source": [
    "### Estados coerentes são os \"mais clássicos\" dos estados quânticos\n",
    "Teremos \n",
    "\\begin{align}\n",
    "\\langle X\\rangle_{\\alpha} & = \\langle\\alpha|\\sqrt{\\hbar/2m\\omega}(a^{\\dagger}+a)|\\alpha\\rangle \\\\\n",
    "& = \\sqrt{\\hbar/2m\\omega}\\left(\\langle\\alpha|a^{\\dagger}|\\alpha\\rangle+\\langle\\alpha|a|\\alpha\\rangle\\right) \\\\\n",
    "& = \\sqrt{\\hbar/2m\\omega}\\left((a|\\alpha\\rangle,|\\alpha\\rangle)+(|\\alpha\\rangle,a|\\alpha\\rangle)\\right) \\\\\n",
    "& = \\sqrt{\\hbar/2m\\omega}\\left((\\alpha|\\alpha\\rangle,|\\alpha\\rangle)+(|\\alpha\\rangle,\\alpha|\\alpha\\rangle)\\right) \\\\ \n",
    "& = \\sqrt{\\hbar/2m\\omega}(\\alpha^{*}+\\alpha) \\\\\n",
    "& = \\sqrt{2\\hbar/m\\omega}\\Re(\\alpha) , \\\\\n",
    "\\langle X^{2}\\rangle_{\\alpha} & = (\\hbar/2m\\omega)\\langle\\alpha|(a^{\\dagger}+a)^{2}|\\alpha\\rangle \\\\\n",
    "& = (\\hbar/2m\\omega)\\langle\\alpha|((a^{\\dagger})^{2}+a^{\\dagger}a+aa^{\\dagger}+a^{2})|\\alpha\\rangle \\\\ \n",
    "& = (\\hbar/2m\\omega)\\langle\\alpha|((a^{\\dagger})^{2}+a^{\\dagger}a+a^{\\dagger}a+\\mathbb{I}+a^{2})|\\alpha\\rangle \\\\\n",
    "& = (\\hbar/2m\\omega)((\\alpha^{*})^{2}+2|\\alpha|^{2}+1+\\alpha^{2}), \\\\\n",
    "Var(X)_{\\alpha} & = \\langle X^{2}\\rangle_{\\alpha} - \\langle X\\rangle_{\\alpha}^{2} \\\\ \n",
    "& = (\\hbar/2m\\omega)[(\\alpha^{*})^{2}+2|\\alpha|^{2}+1+\\alpha^{2} - (\\alpha^{*})^{2}-2|\\alpha|^{2}-\\alpha^{2}] \\\\ \n",
    "& = \\hbar/2m\\omega.\n",
    "\\end{align}\n",
    "\n",
    "Acima usamos\n",
    "\\begin{align}\n",
    "\\langle\\alpha|a^\\dagger = (a|\\alpha\\rangle)^\\dagger = (\\alpha|\\alpha\\rangle)^\\dagger = \\alpha^* \\langle\\alpha|.\n",
    "\\end{align}"
   ]
  },
  {
   "cell_type": "markdown",
   "metadata": {},
   "source": [
    "Para o momento linear, pode-se mostrar que:\n",
    "\\begin{align}\n",
    "\\langle P\\rangle_{\\alpha} & = i\\sqrt{\\hbar m\\omega/2}(\\alpha^{*}-\\alpha) \\\\\n",
    "& = \\sqrt{2\\hbar m\\omega}\\Im(\\alpha), \\\\\n",
    "\\langle P^{2}\\rangle_{\\alpha} & = -(\\hbar m\\omega/2)((\\alpha^{*})^{2}-2|\\alpha|^{2}-1+\\alpha^{2}), \\\\\n",
    "Var(P)_{\\alpha} & = \\hbar m\\omega/2.\n",
    "\\end{align}\n",
    "Vemos assim que\n",
    "\\begin{equation}\n",
    "Var(X)_{\\alpha}Var(P)_{\\alpha}=\\frac{\\hbar^{2}}{4},\n",
    "\\end{equation}\n",
    "que é o __mínimo possível para a relação de incerteza__ de Heisenberg, para qualquer que seja $\\alpha$.\n",
    "\n",
    "OBS. Vale notar também que\n",
    "\\begin{align}\n",
    "\\alpha & = \\Re(\\alpha) + i \\Im(\\alpha) \\\\\n",
    "& = \\sqrt{\\frac{m\\omega}{2\\hbar}}\\langle X\\rangle_\\alpha + \\frac{1}{\\sqrt{2\\hbar m\\omega}}\\langle P\\rangle_\\alpha \\\\\n",
    "& = \\sqrt{\\frac{m\\omega}{2\\hbar}}\\Big(\\langle X\\rangle_\\alpha + \\frac{i}{m\\omega}\\langle P\\rangle_\\alpha \\Big).\n",
    "\\end{align}"
   ]
  },
  {
   "cell_type": "markdown",
   "metadata": {},
   "source": [
    "### Dinâmica do estado coerente sob $H_{ohq}$\n",
    "Vamos considerar um oscilador preparado inicialmente em um estado coerente, $|\\psi_{0}\\rangle=|\\alpha\\rangle$, e evoluindo sob a ação do Hamiltoniano do OHQ, \n",
    "\\begin{align}\n",
    "U_{t} & = e^{-iHt/\\hbar} \\\\\n",
    "& = e^{-i\\hbar\\omega(N+\\mathbb{I}/2)t/\\hbar} \\\\\n",
    "& = e^{-i\\omega t\\mathbb{I}/2}e^{-i\\omega tN} \\\\\n",
    "& \\equiv e^{-i\\omega t/2}e^{-i\\omega tN}.\n",
    "\\end{align}\n",
    "O estado desse sistema é obtido como segue\n",
    "\\begin{align}\n",
    "|\\psi_{t}\\rangle & = U_{t}|\\alpha\\rangle \\\\\n",
    "& = e^{-i\\omega t/2}e^{-i\\omega tN}e^{-|\\alpha|^{2}/2}\\sum_{n=0}^{\\infty}\\frac{\\alpha^{n}}{\\sqrt{n!}}|n\\rangle \\\\\n",
    "& = e^{-i\\omega t/2}e^{-|\\alpha|^{2}/2}\\sum_{n=0}^{\\infty}\\frac{\\alpha^{n}}{\\sqrt{n!}}e^{-i\\omega tN}|n\\rangle \\\\\n",
    "& = e^{-i\\omega t/2}e^{-|\\alpha|^{2}/2}\\sum_{n=0}^{\\infty}\\frac{\\alpha^{n}}{\\sqrt{n!}}e^{-i\\omega tn}|n\\rangle \\\\\n",
    "& = e^{-i\\omega t/2}e^{-|\\alpha|^{2}/2}\\sum_{n=0}^{\\infty}\\frac{\\left(\\alpha e^{-i\\omega t}\\right)^{n}}{\\sqrt{n!}}|n\\rangle \\\\\n",
    "& = e^{-i\\omega t/2}e^{-\\left|\\alpha e^{-i\\omega t}\\right|^{2}/2}\\sum_{n=0}^{\\infty}\\frac{\\left(\\alpha e^{-i\\omega t}\\right)^{n}}{\\sqrt{n!}}|n\\rangle \\\\\n",
    "& \\equiv e^{-\\left|\\alpha_{t}\\right|^{2}/2}\\sum_{n=0}^{\\infty}\\frac{\\alpha_{t}^{n}}{\\sqrt{n!}}|n\\rangle \\\\\n",
    "& = |\\alpha_{t}\\rangle,\n",
    "\\end{align}"
   ]
  },
  {
   "cell_type": "markdown",
   "metadata": {},
   "source": [
    "com \n",
    "$$\\alpha_{t}:=\\alpha e^{-i\\omega t}.$$\n",
    "Podemos ver que essa dinâmica corresponde a um giro no plano complexo:\n",
    "\\begin{cases}\n",
    "\\Re(\\alpha_{t}) = \\Re(\\alpha e^{-i\\omega t}) = \\Re(\\alpha)\\Re(e^{-i\\omega t}) - \\Im(\\alpha)\\Im(e^{-i\\omega t}) = \\cos(\\omega t)\\Re(\\alpha) -(-\\sin(\\omega t))\\Im(\\alpha), \\\\\n",
    "\\Im(\\alpha_{t}) = \\Im(\\alpha e^{-i\\omega t}) = \\Re(\\alpha)\\Im(e^{-i\\omega t}) + \\Im(\\alpha)\\Re(e^{-i\\omega t}) = -\\sin(\\omega t)\\Re(\\alpha) +\\cos(\\omega t)\\Im(\\alpha),\n",
    "\\end{cases}\n",
    "ou\n",
    "\\begin{equation}\n",
    "\\begin{bmatrix} \\Re(\\alpha_{t}) \\\\ \\Im(\\alpha_{t}) \\end{bmatrix} = \\begin{bmatrix} \\cos(\\omega t) & \\sin(\\omega t) \\\\ -\\sin(\\omega t) & \\cos(\\omega t) \\end{bmatrix}\\begin{bmatrix} \\Re(\\alpha) \\\\ \\Im(\\alpha) \\end{bmatrix}.\n",
    "\\end{equation}\n",
    "\n",
    "Ademais, como o estado evoluído é um estado coerente, teremos\n",
    "\\begin{align}\n",
    "\\langle X\\rangle_{\\alpha_{t}} & =  \\sqrt{\\hbar/2m\\omega}(\\alpha^{*}_{t}+\\alpha_{t}) = \\sqrt{2\\hbar/m\\omega}\\Re(\\alpha_{t}), \\\\ \n",
    "\\langle P\\rangle_{\\alpha_{t}} & = i\\sqrt{\\hbar m\\omega/2}(\\alpha^{*}_{t}-\\alpha_{t}) = \\sqrt{2\\hbar m\\omega}\\Im(\\alpha_{t}).\n",
    "\\end{align}\n",
    "Portanto, a dinâmica de \n",
    "$$\\left(\\sqrt{2m\\omega/\\hbar}\\langle X\\rangle_{\\alpha_{t}},\\sqrt{1/2\\hbar m\\omega}\\langle P\\rangle_{\\alpha_{t}}\\right)$$\n",
    "é a mesma que aquela mostrada na figura abaixo. Esse resultado é esperado em vista dos resultados obtidos acima na representação de Heisenberg."
   ]
  },
  {
   "cell_type": "code",
   "execution_count": 9,
   "metadata": {},
   "outputs": [
    {
     "data": {
      "application/vnd.jupyter.widget-view+json": {
       "model_id": "ef38b37f243f42319a4651419a50862f",
       "version_major": 2,
       "version_minor": 0
      },
      "text/plain": [
       "interactive(children=(FloatSlider(value=0.0, description='Re_a', max=1.0), FloatSlider(value=0.0, description=…"
      ]
     },
     "execution_count": 9,
     "metadata": {},
     "output_type": "execute_result"
    }
   ],
   "source": [
    "def alpha_t(Re_a,Im_a,tmax):\n",
    "    matplotlib.rcParams.update({'font.size':11})\n",
    "    fig = plt.figure(figsize=(6,6)); w = 1\n",
    "    t = np.arange(0,tmax,0.01)\n",
    "    x = np.cos(w*t)*Re_a + np.sin(w*t)*Im_a; \n",
    "    y = -np.sin(w*t)*Re_a + np.cos(w*t)*Im_a\n",
    "    plt.plot(x,y,linestyle='dashed'); \n",
    "    plt.xlim(-1,1); plt.ylim(-1,1)\n",
    "    plt.xlabel(r'$\\Re(\\alpha_{t})$',fontsize=13)\n",
    "    plt.ylabel(r'$\\Im(\\alpha_{t})$',fontsize=13)\n",
    "    plt.annotate(r'$t=$'+str(tmax)[:5], xy=(0.6,0.8), xytext=(0.6,0.8), fontsize=12)\n",
    "    xm = np.cos(w*tmax)*Re_a + np.sin(w*tmax)*Im_a; \n",
    "    ym = -np.sin(w*tmax)*Re_a + np.cos(w*tmax)*Im_a\n",
    "    plt.annotate(r'$\\alpha_{t}$', xy=(xm,ym), xytext=(xm,ym), fontsize=12); \n",
    "    plt.show()\n",
    "    \n",
    "interactive(alpha_t, Re_a = (0,1,0.1), Im_a = (0,1,0.1), tmax = (0,20,0.05))"
   ]
  },
  {
   "cell_type": "markdown",
   "metadata": {},
   "source": [
    "### Estados coerentes formam uma base super-completa\n",
    "Podemos verificar que estados coerentes diferentes __não são ortonormais__.\n",
    "Usando $|\\alpha\\rangle = e^{-|\\alpha|^{2}/2}\\sum_{n=0}^{\\infty}\\frac{\\alpha^{n}}{\\sqrt{n!}}|n\\rangle$ teremos\n",
    "\\begin{align}\n",
    "\\langle\\alpha|\\beta\\rangle &= e^{-|\\alpha|^{2}/2}\\sum_{n=0}^{\\infty}\\frac{(\\alpha^{*})^{n}}{\\sqrt{n!}}\\langle n|e^{-|\\beta|^{2}/2}\\sum_{m=0}^{\\infty}\\frac{\\beta^{m}}{\\sqrt{m!}}|m\\rangle \\\\\n",
    "& = e^{-(|\\alpha|^{2}+|\\beta|^{2})/2}\\sum_{n,m=0}^{\\infty}\\frac{(\\alpha^{*})^{n}\\beta^{m}}{\\sqrt{n!m!}}\\langle n|m\\rangle \\\\\n",
    "& = e^{-(|\\alpha|^{2}+|\\beta|^{2})/2}\\sum_{n,m=0}^{\\infty}\\frac{(\\alpha^{*})^{n}\\beta^{m}}{\\sqrt{n!m!}}\\delta_{n,m} \\\\\n",
    "& = e^{-(|\\alpha|^{2}+|\\beta|^{2})/2}\\sum_{n=0}^{\\infty}\\frac{(\\alpha^{*}\\beta)^{n}}{n!} \\\\\n",
    "& = e^{-(|\\alpha|^{2}+|\\beta|^{2})/2}e^{\\alpha^{*}\\beta} \\\\\n",
    "& = e^{-(|\\alpha|^{2}+|\\beta|^{2}-2\\alpha^{*}\\beta)/2},\n",
    "\\end{align}\n",
    "e assim\n",
    "\\begin{align}\n",
    "|\\langle\\alpha|\\beta\\rangle|^{2}&= e^{-(|\\alpha|^{2}+|\\beta|^{2})/2}e^{\\alpha^{*}\\beta}e^{-(|\\alpha|^{2}+|\\beta|^{2})/2}e^{\\alpha\\beta^{*}} \\\\\n",
    "& = e^{-(|\\alpha|^{2}+|\\beta|^{2}-\\alpha^{*}\\beta-\\alpha\\beta^{*})} \\\\\n",
    "& = e^{-(\\alpha-\\beta)(\\alpha^{*}-\\beta^{*})} \\\\\n",
    "&= e^{-|\\alpha-\\beta|^{2}}.\n",
    "\\end{align}"
   ]
  },
  {
   "cell_type": "markdown",
   "metadata": {},
   "source": [
    "Aqui verificaremos que, além disso, eles formam uma __base supercompleta__, o que significa que se somarmos os projetores em todos os estados coerentes obteremos um operador maior que o operador identidade. Mais explicitamente, verificaremos que\n",
    "\\begin{equation}\n",
    "\\iint|\\alpha\\rangle\\langle\\alpha|d^{2}\\alpha=\\pi I.\n",
    "\\end{equation}\n",
    "Para fazer a integral sobre o plano complexo, usamos\n",
    "\\begin{equation}\n",
    "\\alpha=|\\alpha|e^{i\\theta} \\text{ e } d^{2}\\alpha=|\\alpha|d\\theta d|\\alpha|.\n",
    "\\end{equation}\n",
    "Assim\n",
    "\\begin{align}\n",
    "\\iint|\\alpha\\rangle\\langle\\alpha|d^{2}\\alpha & = \\int_{0}^{\\infty}d|\\alpha|\\int_{0}^{2\\pi}d\\theta|\\alpha|e^{-|\\alpha|^{2}}\\sum_{n=0}^{\\infty}\\frac{|\\alpha|^{n}e^{i\\theta n}}{\\sqrt{n!}}|n\\rangle\\sum_{m=0}^{\\infty}\\frac{|\\alpha|^{m}e^{-i\\theta m}}{\\sqrt{m!}}\\langle m|\\\\\n",
    " & = \\sum_{n,m=0}^{\\infty}\\frac{1}{\\sqrt{n!m!}}|n\\rangle\\langle m|\\int_{0}^{\\infty}|\\alpha|^{n+m+1}e^{-|\\alpha|^{2}}d|\\alpha|\\stackrel{=2\\pi\\delta_{nm}}{\\overbrace{\\int_{0}^{2\\pi}e^{i\\theta(n-m)}d\\theta}}\\\\\n",
    " & = 2\\pi\\sum_{n=0}^{\\infty}\\frac{1}{n!}|n\\rangle\\langle n|\\int_{0}^{\\infty}|\\alpha|^{2n+1}e^{-|\\alpha|^{2}}d|\\alpha|.\n",
    "\\end{align}"
   ]
  },
  {
   "cell_type": "markdown",
   "metadata": {},
   "source": [
    "Acima usamos a integral \n",
    "$$\\int_{0}^{2\\pi}e^{i(n-m)\\theta}d\\theta=2\\pi\\delta_{n,m},$$ para $n,m\\in\\mathbb{N}$, que é demonstrada como segue. Para $m=n$ teremos \n",
    "$$\\int_{0}^{2\\pi}e^{i(n-m)\\theta}d\\theta=\\int_{0}^{2\\pi}d\\theta = 2\\pi.$$\n",
    "Para $n\\ne m$ teremos \n",
    "\\begin{align}\n",
    "\\int_{0}^{2\\pi}e^{i(n-m)\\theta}d\\theta &= \\int_{0}^{2\\pi}\\cos((n-m)\\theta)d\\theta+i\\int_{0}^{2\\pi}\\sin((n-m)\\theta)d\\theta \\\\\n",
    "& = \\left(\\frac{\\sin((n-m)\\theta)}{n-m}\\right)_{0}^{2\\pi}-i\\left(\\frac{\\cos((n-m)\\theta)}{n-m}\\right)_{0}^{2\\pi} \\\\\n",
    "&= \\frac{1}{n-m}\\left(\\sin((n-m)2\\pi)-0-i(\\cos((n-m)2\\pi)-1)\\right) \\\\\n",
    "&=0.\n",
    "\\end{align}"
   ]
  },
  {
   "cell_type": "markdown",
   "metadata": {},
   "source": [
    "Seguindo, fazendo a mudança de variável \n",
    "$$x=|\\alpha|^{2}\\Rightarrow dx=2|\\alpha|d|\\alpha|$$\n",
    "teremos (notamos que $|\\alpha|^{2n+1}=(|\\alpha|^{2})^{n}|\\alpha|$)\n",
    "\\begin{align}\n",
    "\\int|\\alpha\\rangle\\langle\\alpha|d^{2}\\alpha & = 2\\pi\\sum_{n=0}^{\\infty}\\frac{1}{n!}|n\\rangle\\langle n|\\int_{0}^{\\infty}x^{n}|\\alpha|e^{-x}\\frac{dx}{2|\\alpha|} \\\\ \n",
    "& =\\pi\\sum_{n=0}^{\\infty}\\frac{1}{n!}|n\\rangle\\langle n|\\int_{0}^{\\infty}x^{n}e^{-x}dx \\\\\n",
    "& =\\pi\\sum_{n=0}^{\\infty}\\frac{1}{n!}|n\\rangle\\langle n|\\Gamma(n+1)\\\\\n",
    " & = \\pi\\sum_{n=0}^{\\infty}\\frac{1}{n!}|n\\rangle\\langle n|n! \\\\\n",
    " & =\\pi I.\n",
    "\\end{align}"
   ]
  },
  {
   "cell_type": "markdown",
   "metadata": {},
   "source": [
    "---\n",
    "# Exercícios\n",
    "\n",
    "$1.$ Verifique que $\\langle P\\rangle_{\\alpha} = i\\sqrt{\\hbar m\\omega/2}(\\alpha^{*}-\\alpha)$, $\\langle P^{2}\\rangle_{\\alpha} = -(\\hbar m\\omega/2)((\\alpha^{*})^{2}-2|\\alpha|^{2}-1+\\alpha^{2})$ e $Var(P)_{\\alpha} = \\hbar m\\omega/2$.\n",
    "\n",
    "$2.$ Para $|\\alpha\\rangle=e^{-|\\alpha|^2/2}\\sum_{m=0}^\\infty \\frac{\\alpha^m}{\\sqrt{m!}}|m\\rangle$, verifique que $\\langle\\alpha|\\alpha\\rangle=1.$"
   ]
  }
 ],
 "metadata": {
  "kernelspec": {
   "display_name": "Python 3 (ipykernel)",
   "language": "python",
   "name": "python3"
  },
  "language_info": {
   "codemirror_mode": {
    "name": "ipython",
    "version": 3
   },
   "file_extension": ".py",
   "mimetype": "text/x-python",
   "name": "python",
   "nbconvert_exporter": "python",
   "pygments_lexer": "ipython3",
   "version": "3.12.2"
  }
 },
 "nbformat": 4,
 "nbformat_minor": 4
}
