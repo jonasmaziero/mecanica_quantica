{
 "cells": [
  {
   "cell_type": "markdown",
   "id": "4ae46450",
   "metadata": {},
   "source": [
    "### Notas de aula de Mecânica Quântica <br> Autor: Jonas Maziero"
   ]
  },
  {
   "cell_type": "markdown",
   "id": "80c17131",
   "metadata": {},
   "source": [
    "# Íon da molécula de hidrogênio $(H_{2}^{+})$\n",
    "\n",
    "Neste caso temos um sistema quântico constituído por 2 prótons, em 2 núcleos separados, e 1 elétron. Consideremos que os 2 prótons estão parados a uma distância $R$ um do outro (veja a figura abaixo). Um os dos principais produtos do nosso cálculo será obter uma estimativa para o valor de $R$. Com a suposição de $R$ fixo, teremos que o hamiltoniano desse sistema será\n",
    "$$H = -\\frac{\\hbar^{2}}{2m_{e}}\\nabla^{2} -ke^{2}\\Big(\\frac{1}{r_{1}}+\\frac{1}{r_{2}}\\Big).$$\n",
    "A _energia de repulsão entre os prótons_, \n",
    "$$U_{pp} = \\frac{ke^2}{R},$$\n",
    "pode ser incluída depois que obtermos $R$, que por enquanto será considerado fixo. \n",
    "\n",
    "<img src='fig_H2+.png' width='250'>\n",
    "\n",
    "Se ignoramos um dos prótons, a função de onda é aquela do átomo de Hidrogênio. Para o estado fundamental temos a função de onda normalizada (veja o código abaixo):\n",
    "$$\\psi_{0}(r) = \\frac{1}{\\sqrt{\\pi a_{0}^{3}}}e^{-r/a_{0}}.$$\n",
    "\n",
    "Assim, como uma 1ª tentativa de função de onda variacional, podemos usar\n",
    "$$\\phi = A\\big(\\psi_{0}(r_{1})+\\psi_{0}(r_{2})\\big).$$\n",
    "Podemos interpretar esse estado como descrevendo o elétron como uma superposição de funções de onda individuais que descrevem sua interação com um único núcleo.\n",
    "\n",
    "Esse tipo de função de onda molecular é usualmente chamado de CLOA, que é a sigla para Combinação Linear de Orbitais Atômicos (__LCAO__, que é a sigla para __Linear Combination of Atomic Orbitals__). \n",
    "\n",
    "Pela simetria do sistema por troca dos prótons, temos que os módulos dos coeficientes na combinação linear devem ser iguais. Usaremos o sinal de mais, que leva a um estado ligado. Ficará como exercício mostrar que o uso do sinal de menos leva a um estado não ligado."
   ]
  },
  {
   "cell_type": "code",
   "execution_count": 1,
   "id": "2329ef9f",
   "metadata": {},
   "outputs": [
    {
     "data": {
      "image/png": "[encoded data removed]",
      "text/latex": [
       "$\\displaystyle 1$"
      ],
      "text/plain": [
       "1"
      ]
     },
     "execution_count": 1,
     "metadata": {},
     "output_type": "execute_result"
    }
   ],
   "source": [
    "from sympy import pi, oo, symbols, integrate, exp, init_printing\n",
    "init_printing(use_unicode=True)\n",
    "r, a0 = symbols('r a_{0}', positive=True)\n",
    "integrate(r**2*(1/(pi*a0**3))*exp(-2*r/a0),(r,0,oo))*4*pi # ok psi0 está normalizada"
   ]
  },
  {
   "cell_type": "markdown",
   "id": "5d2c21b2",
   "metadata": {},
   "source": [
    "Normalizando\n",
    "\\begin{align}\n",
    "& \\int d^{3}r |\\phi|^{2} = 1 \\\\\n",
    "& = |A|^{2}\\int d^{3}r\\big(|\\psi_{0}(r_{1})|^{2}+|\\psi_{0}(r_{2})|^{2}+2\\psi_{0}(r_{1})\\psi_{0}(r_{2})\\big) \\\\\n",
    "& = |A|^{2}\\Big(1+1+\\frac{2}{\\pi a_{0}^{3}}\\int d^{3}r e^{-(r_{1}+r_{2})/a_{0}}\\big) \\\\\n",
    "& =: |A|^{2}2(1+I), \\\\\n",
    "& \\therefore A = \\frac{1}{\\sqrt{2(1+I)}}.\n",
    "\\end{align}\n",
    "\n",
    "<img src='fig_H2+_ref1.png' width='300'>\n",
    "\n",
    "Seguindo, escolhemos o __referencial__ de forma que o próton 1 está na origem e o próton 2 está no eixo positivo $z$. Teremos assim que\n",
    "\\begin{align}\n",
    "& r_{1}=r,\\\\ \n",
    "& r_{2} =r'= \\sqrt{r^{2}+R^{2}-2rR\\cos\\theta},\n",
    "\\end{align}\n",
    "em que $\\theta$ é o ângulo entre $\\vec{r}$ e o eixo $z$ ($\\hat{k}$). Com isso, teremos que a chamada __integral de sobreposição__ (de _overlap_) é\n",
    "\\begin{align}\n",
    "I & = \\langle\\psi_{0}(r_{1})|\\psi_{0}(r_{2})\\rangle \\\\\n",
    "& = \\int d^{3}r \\psi_{0}(r_{1})^{*}\\psi_{0}(r_{2})\\\\\n",
    "& = \\frac{1}{\\pi a_{0}^{3}}\\int d^{3}r e^{-(r_{1}+r_{2})/a_{0}} \\\\\n",
    "& = \\frac{1}{\\pi a_{0}^{3}}\\int_{0}^{\\infty}r^{2}dr\\int_{0}^{\\pi}\\sin\\theta d\\theta e^{-\\big(r+\\sqrt{r^{2}+R^{2}-2rR\\cos\\theta}\\big)/a_{0}}\\int_{0}^{2\\pi}d\\phi \\\\\n",
    "& = 2\\pi\\frac{1}{\\pi a_{0}^{3}}\\int_{0}^{\\infty}r^{2}e^{-r/a_{0}}dr\\int_{0}^{\\pi}\\sin\\theta d\\theta e^{-\\sqrt{r^{2}+R^{2}-2rR\\cos\\theta}/a_{0}}.\n",
    "\\end{align}"
   ]
  },
  {
   "cell_type": "markdown",
   "id": "12e02442",
   "metadata": {},
   "source": [
    "Seguindo, fazemos a seguinte mudança de variável\n",
    "\\begin{align}\n",
    "& y = \\sqrt{r^{2}+R^{2}-2rR\\cos\\theta}/a_{0} \\ \\therefore\\ a_{0}^{2}y^{2} = r^{2}+R^{2}-2rR\\cos\\theta \\\\\n",
    "& \\therefore\\ a_{0}^{2}d(y^{2}) = a_{0}^{2}2ydy = 2rR\\sin\\theta d\\theta \\ \\therefore\\ \\sin\\theta d\\theta =  \\frac{a_{0}^{2}ydy}{rR}; \\\\\n",
    "& \\begin{cases} \\theta = 0 \\ \\therefore\\ y = \\sqrt{(r-R)^{2}}/a_{0} = |r-R|/a_{0}, \\\\ \\theta = \\pi \\ \\therefore\\ y = \\sqrt{(r+R)^{2}}/a_{0} = (r+R)/a_{0} \\end{cases}.\n",
    "\\end{align}"
   ]
  },
  {
   "cell_type": "markdown",
   "id": "dd221a3d",
   "metadata": {},
   "source": [
    "Assim\n",
    "\\begin{align}\n",
    "I & = \\frac{1}{\\pi a_{0}^{3}}2\\pi\\int_{0}^{\\infty}r^{2}e^{-r/a_{0}}dr\\int_{|r-R|/a_{0}}^{(r+R)/a_{0}}\\frac{a_{0}^{2}ydy}{rR}e^{-y} \\\\\n",
    "& = \\frac{1}{\\pi a_{0}^{3}}\\frac{2\\pi a_{0}^{2}}{R}\\int_{0}^{\\infty}re^{-r/a_{0}}dr\\int_{|r-R|/a_{0}}^{(r+R)/a_{0}}ye^{-y}dy \\\\\n",
    "& = \\frac{1}{\\pi a_{0}^{3}}\\frac{2\\pi a_{0}^{2}}{R}\\int_{0}^{\\infty}re^{-r/a_{0}}dr\\Big(\\big[-ye^{-y}\\big]_{|r-R|/a_{0}}^{(r+R)/a_{0}} - \\int_{|r-R|/a_{0}}^{(r+R)/a_{0}}(-e^{-y})dy\\Big) \\\\\n",
    "& = \\frac{1}{\\pi a_{0}^{3}}\\frac{2\\pi a_{0}^{2}}{R}\\int_{0}^{\\infty}re^{-r/a_{0}}dr\\Big(-\\frac{r+R}{a_{0}}e^{-(r+R)/a_{0}}+\\frac{|r-R|}{a_{0}}e^{-|r-R|/a_{0}} -e^{-(r+R)/a_{0}} + e^{-|r-R|/a_{0}}\\Big) \\\\\n",
    "& = \\frac{1}{\\pi a_{0}^{3}}\\frac{2\\pi a_{0}}{R}\\int_{0}^{\\infty}re^{-r/a_{0}}dr\\Big(-\\big(r+R+a_{0}\\big)e^{-(r+R)/a_{0}}+\\big(|r-R|+a_{0}\\big)e^{-|r-R|/a_{0}}\\Big) \\\\\n",
    "& = \\frac{1}{\\pi a_{0}^{3}}\\frac{2\\pi a_{0}}{R}\\int_{0}^{\\infty}dr\\Big(-\\big(r^{2}+(R+a_{0})r\\big)e^{-(2r+R)/a_{0}}+\\big(r|r-R|+a_{0}r\\big)e^{-(r+|r-R|)/a_{0}}\\Big) \\\\\n",
    "& = -\\frac{1}{\\pi a_{0}^{3}}\\frac{2\\pi a_{0}}{R}\\Big(\\int_{0}^{\\infty}r^{2}e^{-(2r+R)/a_{0}}dr + (R+a_{0})\\int_{0}^{\\infty}re^{-(2r+R)/a_{0}}dr \\\\\n",
    "& \\hspace{2cm} - \\int_{0}^{R}\\big(r|r-R|+a_{0}r\\big)e^{-(r+|r-R|)/a_{0}} - \\int_{R}^{\\infty}\\big(r|r-R|+a_{0}r\\big)e^{-(r+|r-R|)/a_{0}}\\Big) \\\\\n",
    "& = -\\frac{1}{\\pi a_{0}^{3}}\\frac{2\\pi a_{0}}{R}\\Big(\\frac{a_{0}^{3}e^{-R/a_{0}}}{4} + \\frac{(R+a_{0})a_{0}^{2}e^{-R/a_{0}}}{4} - \\int_{0}^{R}\\big(r(R-r)+a_{0}r\\big)e^{-(r+R-r)/a_{0}} \\\\\n",
    "& \\hspace{2cm} - \\int_{R}^{\\infty}\\big(r(r-R)+a_{0}r\\big)e^{-(r+r-R)/a_{0}}\\Big) \\\\\n",
    "& = -\\frac{1}{\\pi a_{0}^{3}}\\frac{2\\pi a_{0}}{R}\\Big(\\frac{a_{0}^{3}e^{-R/a_{0}}}{4} + \\frac{(R+a_{0})a_{0}^{2}e^{-R/a_{0}}}{4} - \\frac{R^{2}(R+3a_{0})}{6} - \\frac{a_{0}^{2}(3R+2a_{0})e^{-R/a_{0}}}{4}\\Big) \\\\\n",
    "& = \\frac{1}{\\pi a_{0}^{3}}\\pi a_{0}^{3}\\big(R^{2}/3a_{0}^{2} + R/a_{0}+1\\big)e^{-R/a_{0}} \\\\\n",
    "& = \\big(R^{2}/3a_{0}^{2} + R/a_{0}+1\\big)e^{-R/a_{0}},\n",
    "\\end{align}\n",
    "em que usamos integração por partes: \n",
    "$$u=y\\ \\therefore\\ du=dy\\ \\text{e}\\ dv=e^{-y}dy\\ \\therefore\\ v = -e^{-y}.$$\n",
    "A simplificação da expressão também foi feita usando Sympy. Também usamos as integrais obtidas abaixo usando o Sympy. Essas integrais podem ser resolvidas por partes, assim como fizemos ao estudar o átomo de Hélio."
   ]
  },
  {
   "cell_type": "code",
   "execution_count": 2,
   "id": "63acadf8",
   "metadata": {},
   "outputs": [
    {
     "data": {
      "image/png": "[encoded data removed]",
      "text/latex": [
       "$\\displaystyle \\left( \\frac{a_{0}^{3} e^{- \\frac{R}{a_{0}}}}{4}, \\  \\frac{a_{0}^{2} \\left(R + a_{0}\\right) e^{- \\frac{R}{a_{0}}}}{4}, \\  \\frac{R^{2} \\left(R + 3 a_{0}\\right) e^{- \\frac{R}{a_{0}}}}{6}, \\  \\frac{a_{0}^{2} \\cdot \\left(3 R + 2 a_{0}\\right) e^{- \\frac{R}{a_{0}}}}{4}\\right)$"
      ],
      "text/plain": [
       "⎛         -R                         -R                       -R              \n",
       "⎜        ─────                      ─────                    ─────            \n",
       "⎜     3  a_{0}       2              a_{0}   2                a_{0}       2    \n",
       "⎜a_{0} ⋅ℯ       a_{0} ⋅(R + a_{0})⋅ℯ       R ⋅(R + 3⋅a_{0})⋅ℯ       a_{0} ⋅(3⋅\n",
       "⎜─────────────, ─────────────────────────, ───────────────────────, ──────────\n",
       "⎝      4                    4                         6                       \n",
       "\n",
       "               -R  ⎞\n",
       "              ─────⎟\n",
       "              a_{0}⎟\n",
       "R + 2⋅a_{0})⋅ℯ     ⎟\n",
       "───────────────────⎟\n",
       "    4              ⎠"
      ]
     },
     "execution_count": 2,
     "metadata": {},
     "output_type": "execute_result"
    }
   ],
   "source": [
    "A0,r,R = symbols('a_{0} r R', positive=True)\n",
    "I1 = integrate(r**2*exp(-(2*r+R)/A0),(r,0,oo))\n",
    "I2 = (R+A0)*integrate(r*exp(-(2*r+R)/A0),(r,0,oo))\n",
    "I3 = integrate((r*(R-r)+A0*r)*exp(-R/A0),(r,0,R))\n",
    "I4 = integrate((r*(r-R)+A0*r)*exp(-(2*r-R)/A0),(r,R,oo))\n",
    "from sympy import simplify\n",
    "simplify(I1), simplify(I2), simplify(I3), simplify(I4)"
   ]
  },
  {
   "cell_type": "code",
   "execution_count": 3,
   "id": "356ffa1b",
   "metadata": {},
   "outputs": [
    {
     "data": {
      "image/png": "[encoded data removed]",
      "text/latex": [
       "$\\displaystyle \\frac{\\pi a_{0} \\left(R^{2} + 3 R a_{0} + 3 a_{0}^{2}\\right) e^{- \\frac{R}{a_{0}}}}{3}$"
      ],
      "text/plain": [
       "                                      -R  \n",
       "                                     ─────\n",
       "        ⎛ 2                      2⎞  a_{0}\n",
       "π⋅a_{0}⋅⎝R  + 3⋅R⋅a_{0} + 3⋅a_{0} ⎠⋅ℯ     \n",
       "──────────────────────────────────────────\n",
       "                    3                     "
      ]
     },
     "execution_count": 3,
     "metadata": {},
     "output_type": "execute_result"
    }
   ],
   "source": [
    "simplify(-((2*pi*A0)/R)*(I1+I2-I3-I4))"
   ]
  },
  {
   "cell_type": "markdown",
   "id": "f87001fa",
   "metadata": {},
   "source": [
    "Tendo a integral de overlap, obtemos a constante de normalização e a função de onda teste:\n",
    "\\begin{align}\n",
    "& A = \\frac{1}{\\sqrt{2(1+I)}} = \\frac{1}{\\sqrt{2\\big(1+\\big(R^{2}/3a_{0}^{2} + R/a_{0}+1\\big)e^{-R/a_{0}}\\big)}}, \\\\\n",
    "& \\therefore\\ \\phi = \\frac{\\psi_{0}(r_{1})+\\psi_{0}(r_{2})}{\\sqrt{2\\big(1+\\big(R^{2}/3a_{0}^{2} + R/a_{0}+1\\big)e^{-R/a_{0}}\\big)}}.\n",
    "\\end{align}\n",
    "\n",
    "Seguindo, vamos usar a equação de Schrödinger para o átomo de Hidrogênio:\n",
    "$$\\Big(-\\frac{\\hbar^{2}}{2m_{e}}\\nabla^{2}-\\frac{ke^{2}}{r}\\Big)\\psi_{0}(r)=E_{1}^{(0)}\\psi_{0}(r).$$\n",
    "Com isso, vem que\n",
    "\\begin{align}\n",
    "H\\phi & = \\Big(-\\frac{\\hbar^{2}}{2m_{e}}\\nabla^{2}-\\frac{ke^{2}}{r}-\\frac{ke^{2}}{r_{2}}\\Big)A\\big(\\psi_{0}(r)+\\psi_{0}(r_{2})\\big) \\\\\n",
    "& = A\\Big(\\Big(-\\frac{\\hbar^{2}}{2m_{e}}\\nabla^{2}-\\frac{ke^{2}}{r}\\Big)\\psi_{0}(r) + \\Big(-\\frac{\\hbar^{2}}{2m_{e}}\\nabla^{2}-\\frac{ke^{2}}{r_{2}}\\Big)\\psi_{0}(r_{2}) - ke^{2}\\Big(\\frac{\\psi_{0}(r)}{r_{2}}+\\frac{\\psi_{0}(r_{2})}{r}\\Big)\\Big) \\\\\n",
    "& = A\\Big(E_{1}^{(0)}\\psi_{0}(r) + E_{1}^{(0)}\\psi_{0}(r_{2}) - ke^{2}\\Big(\\frac{\\psi_{0}(r)}{r_{2}}+\\frac{\\psi_{0}(r_{2})}{r}\\Big)\\Big) \\\\\n",
    "& = E_{1}^{(0)}\\phi - Ake^{2}\\Big(\\frac{\\psi_{0}(r)}{r_{2}}+\\frac{\\psi_{0}(r_{2})}{r}\\Big).\n",
    "\\end{align}"
   ]
  },
  {
   "cell_type": "markdown",
   "id": "b8421f0d",
   "metadata": {},
   "source": [
    "Assim, o valor médio do Hamiltoniano do $H_2^+$ fica escrito como\n",
    "\\begin{align}\n",
    "\\langle H\\rangle_{\\phi} & = \\int d^{3}r \\phi^{*}H\\phi \\\\\n",
    "& = E_{1}^{(0)}\\int d^{3}r|\\phi|^{2} - |A|^{2}ke^{2}\\int d^{3}r \\big(\\psi_{0}(r)^{*}+\\psi_{0}(r_{2})^{*}\\big)\\Big(\\frac{\\psi_{0}(r)}{r_{2}}+\\frac{\\psi_{0}(r_{2})}{r}\\Big) \\\\\n",
    "& = E_{1}^{(0)} - A^{2}ke^{2}\\Big(\\int d^{3}r \\psi_{0}(r)\\frac{1}{r_{2}}\\psi_{0}(r) + \\int d^{3}r \\psi_{0}(r)\\frac{1}{r}\\psi_{0}(r_{2}) \\\\\n",
    "& \\hspace{3cm} + \\int d^{3}r \\psi_{0}(r_{2})\\frac{1}{r_{2}}\\psi_{0}(r) + \\int d^{3}r \\psi_{0}(r_{2})\\frac{1}{r}\\psi_{0}(r_{2}) \\Big) \\\\\n",
    "& = E_{1}^{(0)} - 2A^{2}ke^{2}\\Big(\\int d^{3}r \\psi_{0}(r)\\frac{1}{r_{2}}\\psi_{0}(r) + \\int d^{3}r \\psi_{0}(r)\\frac{1}{r}\\psi_{0}(r_{2}) \\Big) \\\\\n",
    "& = E_{1}^{(0)} - 2A^{2}ke^{2}(I_{D} + I_{T}).\n",
    "\\end{align}\n",
    "Passemos agora para o cálculo da chamada __integral direta__\n",
    "\\begin{align}\n",
    "I_{D} & = \\int d^{3}r \\psi_{0}(r)\\frac{1}{r_{2}}\\psi_{0}(r) \\\\\n",
    "& \\equiv \\langle\\psi_{0}|\\Big(\\int d^{3}r \\frac{|\\vec{r}\\rangle\\langle \\vec{r}|}{r_{2}}\\Big)|\\psi_{0}\\rangle \\\\\n",
    "& = \\frac{1}{\\pi a_{0}^{3}}\\int_{0}^{2\\pi}d\\phi\\int_{0}^{\\infty}r^{2}e^{-2r/a_{0}}dr\\int_{0}^{\\pi}\\frac{\\sin\\theta d\\theta}{ \\sqrt{r^{2}+R^{2}-2rR\\cos\\theta}} \\\\\n",
    "& = \\frac{1}{\\pi a_{0}^{3}}2\\pi\\int_{0}^{\\infty}r^{2}e^{-2r/a_{0}}dr\\frac{1}{rR}\\big(r+R-|r-R|\\big) \\\\\n",
    "& = \\frac{2}{R a_{0}^{3}}\\Big(\\int_{0}^{R}re^{-2r/a_{0}}dr2r + \\int_{R}^{\\infty}re^{-2r/a_{0}}dr2R \\Big) \\\\\\\n",
    "& = \\frac{2}{R a_{0}^{3}}\\frac{a_{0}^{3}\\big(1 - \\big(1+R/a_{0}\\big)e^{-2R/a_{0}}\\big)}{2} \\\\\n",
    "& = \\frac{1}{R} - \\Big(\\frac{1}{R} + \\frac{1}{a_{0}}\\Big)e^{-2R/a_{0}}.\n",
    "\\end{align}\n",
    "\n",
    "Acima, a integral $\\int_{0}^{\\pi}\\frac{\\sin\\theta d\\theta}{ \\sqrt{r^{2}+R^{2}-2rR\\cos\\theta}}$ é feita usando a seguinte troca de variável: $u=r^{2}+R^{2}-2rR\\cos\\theta.$ As  integrais em $r$ podem ser feitas via integração por partes."
   ]
  },
  {
   "cell_type": "code",
   "execution_count": 4,
   "id": "da7401e5",
   "metadata": {},
   "outputs": [
    {
     "data": {
      "image/png": "[encoded data removed]",
      "text/latex": [
       "$\\displaystyle - \\frac{\\sqrt{R^{2} - 2 R r + r^{2}}}{R r} + \\frac{\\sqrt{R^{2} + 2 R r + r^{2}}}{R r}$"
      ],
      "text/plain": [
       "     _________________      _________________\n",
       "    ╱  2            2      ╱  2            2 \n",
       "  ╲╱  R  - 2⋅R⋅r + r     ╲╱  R  + 2⋅R⋅r + r  \n",
       "- ──────────────────── + ────────────────────\n",
       "          R⋅r                    R⋅r         "
      ]
     },
     "execution_count": 4,
     "metadata": {},
     "output_type": "execute_result"
    }
   ],
   "source": [
    "from sympy import sin, cos, sqrt\n",
    "th = symbols('theta')\n",
    "integrate(sin(th)/sqrt(r**2+R**2-2*r*R*cos(th)),(th,0,pi))"
   ]
  },
  {
   "cell_type": "code",
   "execution_count": 5,
   "id": "17833fd5",
   "metadata": {
    "scrolled": true
   },
   "outputs": [
    {
     "data": {
      "image/png": "[encoded data removed]",
      "text/latex": [
       "$\\displaystyle \\frac{a_{0}^{2} \\left(- R + a_{0} e^{\\frac{2 R}{a_{0}}} - a_{0}\\right) e^{- \\frac{2 R}{a_{0}}}}{2}$"
      ],
      "text/plain": [
       "       ⎛             2⋅R         ⎞  -2⋅R \n",
       "       ⎜            ─────        ⎟  ─────\n",
       "     2 ⎜            a_{0}        ⎟  a_{0}\n",
       "a_{0} ⋅⎝-R + a_{0}⋅ℯ      - a_{0}⎠⋅ℯ     \n",
       "─────────────────────────────────────────\n",
       "                    2                    "
      ]
     },
     "execution_count": 5,
     "metadata": {},
     "output_type": "execute_result"
    }
   ],
   "source": [
    "simplify(2*integrate(r**2*exp(-2*r/A0),(r,0,R)) + 2*R*integrate(r*exp(-2*r/A0),(r,R,oo)))"
   ]
  },
  {
   "cell_type": "markdown",
   "id": "7a8952f7",
   "metadata": {},
   "source": [
    "Já a chamada __integral de troca__ é obtida como segue\n",
    "\\begin{align}\n",
    "I_{T} & = \\int d^{3}r \\psi_{0}(r)\\frac{1}{r}\\psi_{0}(r_{2})  \\\\\n",
    "& \\equiv \\langle\\psi_{0}|\\Big(\\int d^{3}r \\frac{|\\vec{r}\\rangle\\langle \\vec{r}_{2}|}{r}\\Big)|\\psi_{0}\\rangle \\\\\n",
    "& = \\frac{1}{\\pi a_{0}^{3}}\\int_{0}^{2\\pi}d\\phi\\int_{0}^{\\infty}\\frac{r^{2}e^{-r/a_{0}}}{r}dr\\int_{0}^{\\pi} e^{-\\sqrt{r^{2}+R^{2}-2rR\\cos\\theta}/a_{0}} \\sin\\theta d\\theta \\\\\n",
    "& = \\frac{1}{\\pi a_{0}^{3}}2\\pi\\int_{0}^{\\infty}re^{-r/a_{0}}dr\\int_{|r-R|/a_{a}}^{(r+R)/a_{0}} e^{-y} \\frac{a_{0}^{2}ydy}{rR} \\\\\n",
    "& = \\frac{2}{R a_{0}}\\int_{0}^{\\infty}e^{-r/a_{0}}dr\\Big(-\\big(1+y\\big)e^{-y}\\Big)_{|r-R|/a_{0}}^{(r+R)/a_{0}} \\\\\n",
    "& = \\frac{2}{R a_{0}}\\int_{0}^{\\infty}e^{-r/a_{0}}dr\\Big(-\\big(1+(r+R)/a_{0}\\big)e^{-(r+R)/a_{0}} + \\big(1+|r-R|/a_{a}\\big)e^{-|r-R|/a_{0}}\\Big) \\\\\n",
    "& = \\frac{2}{R a_{0}}\\Big(-\\int_{0}^{\\infty}e^{-r/a_{0}}dr\\big(1+(r+R)/a_{0}\\big)e^{-(r+R)/a_{0}} + \\int_{0}^{R}e^{-r/a_{0}}dr\\big(1+(R-r)/a_{a}\\big)e^{-(R-r)/a_{0}} \\\\ \n",
    "& \\hspace{2cm} + \\int_{R}^{\\infty}e^{-r/a_{0}}dr\\big(1+(r-R)/a_{0}\\big)e^{-(r-R)/a_{0}}\\Big) \\\\\n",
    "& = \\frac{2}{R a_{0}}\\Big(-\\int_{0}^{\\infty}dr\\big(1+(r+R)/a_{0}\\big)e^{-(2r+R)/a_{0}} + \\int_{0}^{R}dr\\big(1+(R-r)/a_{0}\\big)e^{-R/a_{0}} \\\\ \n",
    "& \\hspace{2cm} + \\int_{R}^{\\infty}dr\\big(1+(r-R)/a_{0}\\big)e^{-(2r-R)/a_{0}}\\Big) \\\\\n",
    "& = \\frac{2}{R a_{0}}\\frac{R(R+a_{0})e^{-R/a_{0}}}{2a_{0}} \\\\\n",
    "& = \\frac{1}{a_{0}}\\Big(1+\\frac{R}{a_{0}}\\Big)e^{-R/a_{0}},\n",
    "\\end{align}\n",
    "em que fizemos novamente a troca de variável \n",
    "$$y=\\sqrt{r^{2}+R^{2}-2rR\\cos\\theta}/a_{0}\\ \\therefore\\ d(y^{2}) = 2ydy=2rR\\sin\\theta d\\theta/a_{0}^{2}.$$"
   ]
  },
  {
   "cell_type": "code",
   "execution_count": 6,
   "id": "6ccbf717",
   "metadata": {},
   "outputs": [
    {
     "data": {
      "image/png": "[encoded data removed]",
      "text/latex": [
       "$\\displaystyle \\left(- y - 1\\right) e^{- y}$"
      ],
      "text/plain": [
       "          -y\n",
       "(-y - 1)⋅ℯ  "
      ]
     },
     "execution_count": 6,
     "metadata": {},
     "output_type": "execute_result"
    }
   ],
   "source": [
    "y = symbols('y'); integrate(y*exp(-y))"
   ]
  },
  {
   "cell_type": "code",
   "execution_count": 7,
   "id": "8ab55583",
   "metadata": {},
   "outputs": [
    {
     "data": {
      "image/png": "[encoded data removed]",
      "text/latex": [
       "$\\displaystyle \\frac{R \\left(R + a_{0}\\right) e^{- \\frac{R}{a_{0}}}}{2 a_{0}}$"
      ],
      "text/plain": [
       "                -R  \n",
       "               ─────\n",
       "               a_{0}\n",
       "R⋅(R + a_{0})⋅ℯ     \n",
       "────────────────────\n",
       "      2⋅a_{0}       "
      ]
     },
     "execution_count": 7,
     "metadata": {},
     "output_type": "execute_result"
    }
   ],
   "source": [
    "simplify(-integrate((1+(r+R)/A0)*exp(-(2*r+R)/A0),(r,0,oo)) + integrate((1+(R-r)/A0)*exp(-R/A0),(r,0,R)) \n",
    "        + integrate((1+(r-R)/A0)*exp(-(2*r-R)/A0),(r,R,oo)))"
   ]
  },
  {
   "cell_type": "markdown",
   "id": "843c9634",
   "metadata": {},
   "source": [
    "Temos assim que\n",
    "\\begin{align}\n",
    "\\langle H\\rangle_{\\phi} & = E_{1}^{(0)} - 2A^{2}ke^{2}(I_{D} + I_{T}) \\\\\n",
    "& = E_{1}^{(0)} - 2\\frac{1}{2\\big(1+\\big(R^{2}/3a_{0}^{2} + R/a_{0}+1\\big)e^{-R/a_{0}}\\big)}ke^{2}\\Big(\\frac{1}{R} - \\Big( \\frac{1}{R} + \\frac{1}{a_{0}}\\Big)e^{-2R/a_{0}} + \\frac{1}{a_{0}}\\Big(1+\\frac{R}{a_{0}}\\Big)e^{-R/a_{0}} \\Big).\n",
    "\\end{align}\n",
    "\n",
    "Para obter a __energia total__, $E$, incluímos também a energia coulombiana de interação próton-próton:\n",
    "\\begin{align}\n",
    "U_{pp} & = \\frac{ke^{2}}{R} = \\frac{ke^{2}}{R}\\frac{E_{1}^{(0)}}{E_{1}^{(0)}} = -\\frac{ke^{2}}{R}\\frac{2a_{0}}{ke^{2}}E_{1}^{(0)} \\\\\n",
    "& = -\\frac{2a_{0}}{R}E_{1}^{(0)},\n",
    "\\end{align}\n",
    "em que usamos \n",
    "$$E_{1}^{(0)} = -\\frac{m_{e}k^{2}e^{4}}{2\\hbar^{2}} = -\\frac{ke^{2}}{2a_{0}}.$$"
   ]
  },
  {
   "cell_type": "markdown",
   "id": "167afa25",
   "metadata": {},
   "source": [
    "Por conseguinte\n",
    "\\begin{align}\n",
    "& \\langle H_{t}\\rangle_{\\phi} = \\langle H\\rangle_{\\phi} + U_{pp} \\\\\n",
    "& = E_{1}^{(0)} - \\frac{1}{\\big(1+\\big(R^{2}/3a_{0}^{2} + R/a_{0}+1\\big)e^{-R/a_{0}}\\big)}ke^{2}\\Big(\\frac{1}{R} - \\Big( \\frac{1}{R} + \\frac{1}{a_{0}}\\Big)e^{-2R/a_{0}} + \\frac{1}{a_{0}}\\Big(1+\\frac{R}{a_{0}}\\Big)e^{-R/a_{0}} \\Big) -\\frac{2a_{0}}{R}E_{1}^{(0)} \\\\\n",
    "& = E_{1}^{(0)}\\Big(1-\\frac{2a_{0}}{R}\\Big) - \\frac{1}{\\big(1+\\big(R^{2}/3a_{0}^{2} + R/a_{0}+1\\big)e^{-R/a_{0}}\\big)}\\frac{ke^{2}}{R}\\Big(1 - \\Big(1 + \\frac{R}{a_{0}}\\Big)e^{-2R/a_{0}} + \\frac{R}{a_{0}}\\Big(1+\\frac{R}{a_{0}}\\Big)e^{-R/a_{0}} \\Big) \\\\\n",
    "& = E_{1}^{(0)}\\Big(1-\\frac{2a_{0}}{R}\\Big) - \\frac{1}{\\big(1+\\big(R^{2}/3a_{0}^{2} + R/a_{0}+1\\big)e^{-R/a_{0}}\\big)}\\frac{-2a_{0}}{R}E_{1}^{(0)}\\Big(1 - \\Big(1 + \\frac{R}{a_{0}}\\Big)e^{-2R/a_{0}} + \\frac{R}{a_{0}}\\Big(1+\\frac{R}{a_{0}}\\Big)e^{-R/a_{0}} \\Big) \\\\\n",
    "& = -E_{1}^{(0)}\\Big(-1+\\frac{2}{x} - \\frac{2}{x}\\frac{1 - (1 + x)e^{-2x} + x(1+x)e^{-x}}{1+\\big(x^{2}/3 + x+1\\big)e^{-x}}\\Big) \\\\\n",
    "& = -E_{1}^{(0)}\\Big(-1+\\frac{2}{x}\\Big( 1 - \\frac{1 - (1 + x)e^{-2x} + x(1+x)e^{-x}}{1+\\big(x^{2}/3 + x+1\\big)e^{-x}}\\Big)\\Big) \\\\\n",
    "& = -E_{1}^{(0)}\\Big(-1+\\frac{2}{x}\\Big(\\frac{1+\\big(x^{2}/3 + x+1\\big)e^{-x} -1 + (1 + x)e^{-2x} - x(1+x)e^{-x}}{1+\\big(x^{2}/3 + x+1\\big)e^{-x}}\\Big)\\Big) \\\\\n",
    "& = -E_{1}^{(0)}\\Big(-1+\\frac{2}{x}\\Big(\\frac{(1-2x^{2}/3)e^{-x}+ (1 + x)e^{-2x}}{1+\\big(x^{2}/3 + x+1\\big)e^{-x}}\\Big)\\Big) \\\\\n",
    "& = -E_{1}^{(0)}f(x),\n",
    "\\end{align}\n",
    "em que definimos $$x:=\\frac{R}{a_{0}}.$$ \n",
    "\n",
    "Na figura abaixo está mostrado o gráfico da estimativa variacional para a energia do estado fundamental do íon da molécula de Hidrogênio, $\\langle H_t\\rangle$ em função da distância entre os núcleos reescalada, $R/a_0$, para as funções de onda teste $\\phi_\\pm = A_\\pm\\big(\\psi_0(r_1)\\pm\\psi_0(r_2)\\big)$, com $\\phi_+=\\phi.$ "
   ]
  },
  {
   "cell_type": "code",
   "execution_count": 34,
   "id": "37cd01d5-9c5d-44bd-93b4-fb229ccbad19",
   "metadata": {},
   "outputs": [
    {
     "data": {
      "image/png": "[encoded data removed]",
      "text/plain": [
       "<Figure size 640x480 with 1 Axes>"
      ]
     },
     "metadata": {},
     "output_type": "display_data"
    }
   ],
   "source": [
    "from matplotlib import pyplot as plt\n",
    "import matplotlib\n",
    "import numpy as np\n",
    "\n",
    "def Htm(x): # em unidade de -E_1^0\n",
    "    return -1 + (2*x**-1)*(((1-2*x**2/3)*np.exp(-x)+(1+x)*np.exp(-2*x))/(1+(1+x+x**2/3)*np.exp(-x)))\n",
    "def Htm_phim(x): # em unidade de -E_1^0\n",
    "    return -1 + (2*x**-1)*(((-1+2*x**2/3)*np.exp(-x)+(1+x)*np.exp(-2*x))/(1-(1+x+x**2/3)*np.exp(-x)))\n",
    "\n",
    "x = np.arange(0.5,8,0.01); y = Htm(x); y2 = Htm_phim(x)\n",
    "plt.plot(x,y,label=r'$\\langle H\\rangle_\\phi_+$'); plt.plot(x,y2,'-.',label=r'$\\langle H\\rangle_{\\phi_-}$')\n",
    "yfree = -1*np.ones(len(x)); plt.plot(x,yfree, '--')\n",
    "plt.ylim(-1.2,0.5)\n",
    "plt.xlabel(r'$R/a_{0}$')\n",
    "plt.ylabel(r'$\\langle H_{t}\\rangle_{\\phi}(-E_{1}^{(0)})$')\n",
    "#plt.legend()\n",
    "plt.show()"
   ]
  },
  {
   "cell_type": "markdown",
   "id": "fa016cf3",
   "metadata": {},
   "source": [
    "## Distância entre os prótons e energia de ligação\n",
    "\n",
    "Vemos assim que existe um estado ligado para o íon da molécula de hidrogênio, pois a energia tem um mínimo menor que $-E_{1}^{(0)}$, que é a energia de um átomo de hidrogênio mais um próton livre. Funções de onda teste melhores nos fornecerão energias de ligação ainda menores. Note que aqui o parâmetro variacional é $R$, a distância entre os prótons. Na sequência obteremos o valor de $R$ que minimiza $\\langle H_{t}\\rangle_{\\phi}$. \n",
    "\n",
    "A partir do gráfico, podemos ver que o ponto de extremo é também um ponto de mínimo, e portanto podemos usar somente $\\partial_R\\langle H\\rangle =0.$ Com a ajuda do código abaixo, vemos que a __distância entre os prótons__ é\n",
    "$$R_{opt} \\approx 2.49a_{0} \\approx 1.32\\ \\overset{\\circ}{A}.$$\n",
    "O valor experimental é\n",
    "$$R_{exp} = 1.06\\ \\overset{\\circ}{A}.$$\n",
    "A __energia de ligação__, que é a diferença da energia da molécula de hidrogêncio ionizada, que estamos limitando superiormente por $\\langle H\\rangle$, e a energia de um átomo de hidrogênio mais um próton livre, que é $E_{1}^{0}$:\n",
    "\\begin{align}\n",
    "E_{lig} & = E_{(p+e)+p} - E_{(2p+e)} \\\\\n",
    "& \\approx -13.6\\text{ eV} - (-15.37\\text{ eV}) \\\\\n",
    "& \\approx 1.76\\text{ eV},\n",
    "\\end{align}\n",
    "enquanto que o valor experimental é\n",
    "$$E_{lig}^{exp} \\approx 2.8\\text{ eV}.$$"
   ]
  },
  {
   "cell_type": "code",
   "execution_count": 35,
   "id": "c6a7ed1f",
   "metadata": {},
   "outputs": [
    {
     "name": "stdout",
     "output_type": "stream",
     "text": [
      "2*(x**2*(x + 1)*(3*x + (3 - 2*x**2)*exp(x) + 3) + x*(-6*x + (2*x**2 - 4*x - 3)*exp(x) - 3)*(x**2 + 3*x + 3*exp(x) + 3) + (-3*x + (2*x**2 - 3)*exp(x) - 3)*(x**2 + 3*x + 3*exp(x) + 3))*exp(-x)/(x**2*(x**2 + 3*x + 3*exp(x) + 3)**2)\n"
     ]
    }
   ],
   "source": [
    "from sympy import diff\n",
    "x = symbols('x')\n",
    "Htm_ = -1 + (2*x**-1)*(((1-2*x**2/3)*exp(-x)+(1+x)*exp(-2*x))/(1+(1+x+x**2/3)*exp(-x)))\n",
    "dHtm = diff(Htm_,x,1) # derivada do valor médio do hamiltoniano\n",
    "print(simplify(dHtm))"
   ]
  },
  {
   "cell_type": "code",
   "execution_count": 36,
   "id": "12b390be",
   "metadata": {},
   "outputs": [
    {
     "data": {
      "image/png": "[encoded data removed]",
      "text/plain": [
       "<Figure size 500x300 with 1 Axes>"
      ]
     },
     "metadata": {},
     "output_type": "display_data"
    }
   ],
   "source": [
    "def dHtm(x):\n",
    "    der = 2*(x**2*(x + 1)*(3*x + (3 - 2*x**2)*np.exp(x) + 3) \n",
    "            + x*(-6*x + (2*x**2 - 4*x - 3)*np.exp(x) - 3)*(x**2 + 3*x + 3*np.exp(x) + 3) \n",
    "            + (-3*x + (2*x**2 - 3)*np.exp(x) - 3)*(x**2 + 3*x + 3*np.exp(x) + 3))*np.exp(-x)/(x**2*(x**2 + 3*x + 3*np.exp(x) + 3)**2)\n",
    "    return der\n",
    "\n",
    "matplotlib.rcParams.update({'font.size':10})\n",
    "plt.figure(figsize = (5,3), dpi = 100)\n",
    "x = np.arange(2,3,0.05); y = dHtm(x); y1 = 0*x\n",
    "plt.plot(x,y); plt.plot(x,y1)\n",
    "plt.ylabel(r'$\\partial_{R/a_{0}}\\langle H_{t}\\rangle_{\\phi}(-E_{1}^{(0)})$')\n",
    "plt.xlabel(r'$R/a_{0}$')\n",
    "plt.show()"
   ]
  },
  {
   "cell_type": "code",
   "execution_count": 37,
   "id": "b1efa496",
   "metadata": {},
   "outputs": [],
   "source": [
    "def bissection(f, xe, xd, err, Nm):\n",
    "    # f: a função da qual queremos calcular as raízes\n",
    "    # xe, xd ! limites \"esquerdo\" e \"direito\" para procurar a raíz\n",
    "    # xm, fxm ! ponto médio e valor da função nesse ponto\n",
    "    # xr ! valor da raíz\n",
    "    # err ! largura máxima tolerada e atual do intervalo no qual procuramos a raíz\n",
    "    # Nm, Ni ! número máximo e atual de iterações\n",
    "    if f(xe)*f(xd) > 0:\n",
    "        if abs(f(xe)) < 10**-15:\n",
    "            xr = xe; er = 1; return xr, er\n",
    "        if abs(f(xd)) < 10**-15:\n",
    "            xr = xd; er = 1; return xr, er\n",
    "        xr = 0; er = 0#; print('Não há raíz nesse intervalo')\n",
    "    else:\n",
    "        Ni = 0\n",
    "        while True: \n",
    "            dx = xd-xe; xm = (xe+xd)/2#; print('xm = ',xm, ' f(xm) = ',f(xm))\n",
    "            if dx < err:\n",
    "                xr = xm; er = 1; return xr, er\n",
    "            fxm = f(xm)\n",
    "            if abs(fxm) < 10**-15:\n",
    "                xr = xm; er = 1; return xr, er\n",
    "            if f(xe)*f(xm) < 0:\n",
    "                xd = xm\n",
    "            else:\n",
    "                xe = xm\n",
    "            Ni = Ni + 1\n",
    "            if Ni > Nm:\n",
    "                er=0; break\n",
    "        xr = xm; er = 1\n",
    "    return xr, er"
   ]
  },
  {
   "cell_type": "code",
   "execution_count": 38,
   "id": "930fa030",
   "metadata": {},
   "outputs": [
    {
     "data": {
      "image/png": "[encoded data removed]",
      "text/latex": [
       "$\\displaystyle \\left( 2.49283218383789, \\  1\\right)$"
      ],
      "text/plain": [
       "(2.4928321838378906, 1)"
      ]
     },
     "execution_count": 38,
     "metadata": {},
     "output_type": "execute_result"
    }
   ],
   "source": [
    "bissection(dHtm, 2, 3, 10**-5, 10**3) # valor ótimo de x = R/a0"
   ]
  },
  {
   "cell_type": "code",
   "execution_count": 39,
   "id": "e3f0868a",
   "metadata": {},
   "outputs": [
    {
     "data": {
      "image/png": "[encoded data removed]",
      "text/latex": [
       "$\\displaystyle 1.31914979385121 \\cdot 10^{-10}$"
      ],
      "text/plain": [
       "1.3191497938512097e-10"
      ]
     },
     "execution_count": 39,
     "metadata": {},
     "output_type": "execute_result"
    }
   ],
   "source": [
    "h = 6.626069*10**-34 # Js (constante de Planck)\n",
    "import math\n",
    "hb = h/(2*math.pi) # hbar\n",
    "me = 9.109382*10**-31 # kg (massa do elétron)\n",
    "k = 8.9875517923*10**9 # Nm^2/C^2 (constante de Coulomb)\n",
    "e = 1.60217662*10**-19 # C (carga elementar)\n",
    "a0=(hb**2)/(me*k*e**2) # ~ 0.52917710^-10 m (raio de Bohr)\n",
    "2.49283218383789*a0  # valor otimo de R"
   ]
  },
  {
   "cell_type": "code",
   "execution_count": 40,
   "id": "2ac4b068",
   "metadata": {},
   "outputs": [
    {
     "data": {
      "image/png": "[encoded data removed]",
      "text/latex": [
       "$\\displaystyle \\left( -1.12966198474142, \\  -15.3698363584248, \\  1.76414141070733\\right)$"
      ],
      "text/plain": [
       "(-1.129661984741418, -15.369836358424816, 1.7641414107073317)"
      ]
     },
     "execution_count": 40,
     "metadata": {},
     "output_type": "execute_result"
    }
   ],
   "source": [
    "def bohr(Z,n): # em eV\n",
    "    return ((-((k*e**2)/(2*a0))/e)*Z**2)/n**2\n",
    "\n",
    "# <H> em unidades de -E1, em eV e energia de ligacao\n",
    "Htm(2.49283218383789), Htm(2.49283218383789)*(-bohr(1,1)), bohr(1,1)-Htm(2.49283218383789)*(-bohr(1,1))"
   ]
  },
  {
   "cell_type": "markdown",
   "id": "647e2763",
   "metadata": {},
   "source": [
    "## Estabilidade da molécula\n",
    "\n",
    "Em torno do ponto de mínima energia, $R_{opt}$, a curva de energia pode ser aproximada por aquela de um __oscilador harmônico__:\n",
    "\\begin{align} \n",
    "& U=\\frac{m\\omega^{2}x^{2}}{2}\\ \\therefore\\ \\partial_{xx}U = m\\omega^{2} \\\\\n",
    "& \\therefore\\ \\omega = \\sqrt{\\frac{\\partial_{xx}U}{m}}.\n",
    "\\end{align}\n",
    "Dessa última equação vemos que podemos estimar a frequência de vibração do oscilador harmônico a partir do gráfico de energia.\n",
    "\n",
    "Para o $H_2^+$, com a ajuda do código abaixo, obtemos\n",
    "$$\\big(\\partial_{xx}f(x)\\big)_{R_{opt}} \\approx 0.13.$$\n",
    "Notemos que como $x=R/a_{0}$, teremos\n",
    "$$\\partial_{xx}=\\partial_{x}\\partial_{x} = (\\partial_{x}R)\\partial_{R}(\\partial_{x}R)\\partial_{R} = a_{0}^{2}\\partial_{RR}.$$\n",
    "Então (lembra que $\\langle H_{t}\\rangle_{\\phi} = \\langle H\\rangle_{\\phi} + U_{pp} = -E_{1}^{(0)}f(x)$) a __frequência__ é\n",
    "\\begin{align}\n",
    "\\omega & = \\sqrt{\\frac{\\partial_{RR}\\langle H_{t}\\rangle}{m}} \\\\\n",
    "& = \\sqrt{\\frac{-(E_{1}^{(0)}/a_{0}^{2})\\partial_{xx}f(x)}{m}} \\\\\n",
    "& \\approx 3.42\\times 10^{14}\\text{ Hz}.\n",
    "\\end{align}\n",
    "com \n",
    "$$m=\\frac{m_{p}m_{p}}{m_{p}+m_{p}} = \\frac{m_{p}}{2}$$\n",
    "sendo a massa reduzida dos 2 prótons."
   ]
  },
  {
   "cell_type": "code",
   "execution_count": 41,
   "id": "59809407",
   "metadata": {},
   "outputs": [
    {
     "name": "stdout",
     "output_type": "stream",
     "text": [
      "2*(2*x**4*(x + 1)**2*(3*x + (3 - 2*x**2)*exp(x) + 3) + 12*x**3*(x**2 + 3*x + 3*exp(x) + 3)**2 - 2*x**2*(x + 1)*(3*x + (3 - 2*x**2)*exp(x) + 3)*(x**2 + 3*x + 3*exp(x) + 3) + x**2*(-2*x*(x + 1)*(6*x + (-2*x**2 + 4*x + 3)*exp(x) + 3) + (3*x + (3 - 2*x**2)*exp(x) + 3)*(-x**2 + x + 1))*(x**2 + 3*x + 3*exp(x) + 3) + x**2*(-2*x**2 + 8*x - 1)*(x**2 + 3*x + 3*exp(x) + 3)**2*exp(x) + 2*x*(6*x + (-2*x**2 + 4*x + 3)*exp(x) + 3)*(x**2 + 3*x + 3*exp(x) + 3)**2 + 2*(3*x + (3 - 2*x**2)*exp(x) + 3)*(x**2 + 3*x + 3*exp(x) + 3)**2)*exp(-x)/(x**3*(x**2 + 3*x + 3*exp(x) + 3)**3)\n"
     ]
    }
   ],
   "source": [
    "def ddHtm(x):\n",
    "    Htm_ = -1 + (2*x**-1)*(((1-2*x**2/3)*exp(-x)+(1+x)*exp(-2*x))/(1+(1+x+x**2/3)*exp(-x)))\n",
    "    d2 = diff(Htm_,x,2) # derivada segunda de <H>, para obter a frequência\n",
    "    return d2\n",
    "x = symbols('x')\n",
    "print(simplify(ddHtm(x)))"
   ]
  },
  {
   "cell_type": "code",
   "execution_count": 42,
   "id": "aebbe36e",
   "metadata": {},
   "outputs": [
    {
     "data": {
      "image/png": "[encoded data removed]",
      "text/latex": [
       "$\\displaystyle 0.125665661374464$"
      ],
      "text/plain": [
       "0.125665661374464"
      ]
     },
     "execution_count": 42,
     "metadata": {},
     "output_type": "execute_result"
    }
   ],
   "source": [
    "def d2Htm(x):\n",
    "    d2 = 2*(2*x**4*(x + 1)**2*(3*x + (3 - 2*x**2)*exp(x) + 3) \n",
    "            + 12*x**3*(x**2 + 3*x + 3*exp(x) + 3)**2 \n",
    "            - 2*x**2*(x + 1)*(3*x + (3 - 2*x**2)*exp(x) + 3)*(x**2 + 3*x + 3*exp(x) + 3) \n",
    "            + x**2*(-2*x*(x + 1)*(6*x + (-2*x**2 + 4*x + 3)*exp(x) + 3) \n",
    "                    + (3*x + (3 - 2*x**2)*exp(x) + 3)*(-x**2 + x + 1))*(x**2 + 3*x + 3*exp(x) + 3) \n",
    "            + x**2*(-2*x**2 + 8*x - 1)*(x**2 + 3*x + 3*exp(x) + 3)**2*exp(x) \n",
    "            + 2*x*(6*x + (-2*x**2 + 4*x + 3)*exp(x) + 3)*(x**2 + 3*x + 3*exp(x) + 3)**2 \n",
    "            + 2*(3*x + (3 - 2*x**2)*exp(x) + 3)*(x**2 + 3*x + 3*exp(x) + 3)**2)*exp(-x)/(x**3*(x**2 + 3*x + 3*exp(x) + 3)**3)\n",
    "    return d2\n",
    "d2Htm(2.49283218383789)"
   ]
  },
  {
   "cell_type": "code",
   "execution_count": 43,
   "id": "85713b3b",
   "metadata": {},
   "outputs": [
    {
     "data": {
      "image/png": "[encoded data removed]",
      "text/latex": [
       "$\\displaystyle 342010081346730.0$"
      ],
      "text/plain": [
       "342010081346730."
      ]
     },
     "execution_count": 43,
     "metadata": {},
     "output_type": "execute_result"
    }
   ],
   "source": [
    "# frequencia\n",
    "mp = 1.6726219*10**-27 # kg (massa do próton)\n",
    "om = sqrt((-((bohr(1,1)*e)/a0**2)*0.125665661374464)/(mp/2)) # passa a energia pra Joules\n",
    "om"
   ]
  },
  {
   "cell_type": "markdown",
   "id": "873cbe0a",
   "metadata": {},
   "source": [
    "Para o estado fundamental do oscilador harmônico quântico, e com $\\omega=3.42\\times 10^{14}\\text{ Hz}$, teremos a energia\n",
    "$$E_{0} = \\frac{\\hbar\\omega}{2} = 0.11\\text{ eV},$$\n",
    "que é menor que a energia de ligação do $H_{2}^{+}$, que é $1.76\\text{ eV}$. Portanto, pelo menos para este estado de oscilação, nossos cálculos indicam que a $H_{2}^{+}$ não se quebrará.\n",
    "\n",
    "Podemos obter também o número de estados do oscilador harmônico tais que $H_{2}^{+}$ não se quebra. Obtemos isso impondo\n",
    "\\begin{align}\n",
    "\\hbar\\omega(n+1/2) \\le 1.76\\text{ eV}\\ \\therefore\\ n \\le \\Big\\lfloor\\Big(\\frac{1.76\\text{ eV}}{\\hbar\\omega}-\\frac{1}{2}\\Big)\\Big\\rfloor \\approx \\lfloor 7.32\\rfloor = 7,\n",
    "\\end{align}\n",
    "em que $\\lfloor r\\rfloor$ é o inteiro menor e mais próximo a $r$ (a função floor). Temos então 8 estados ligados do oscilador para os quais a molécula é estável.\n",
    "\n",
    "Vale notar que a energia térmica a temperatura ambiente ($300\\text{ K}$) é aproximandamente $0.04\\text{ eV}$, e portanto não é suficiente para excitar os modos de oscilação do oscilador a ponto de quebrar a molécula (cuja menor energia e $0.11\\text{ eV}$)."
   ]
  },
  {
   "cell_type": "code",
   "execution_count": 44,
   "id": "9f3ebb2a",
   "metadata": {},
   "outputs": [
    {
     "data": {
      "image/png": "[encoded data removed]",
      "text/latex": [
       "$\\displaystyle 0.112557543918487$"
      ],
      "text/plain": [
       "0.11255754391848714"
      ]
     },
     "execution_count": 44,
     "metadata": {},
     "output_type": "execute_result"
    }
   ],
   "source": [
    "((hb*342010081346730)/2)/e # energia de oscilacao em eV"
   ]
  },
  {
   "cell_type": "code",
   "execution_count": 45,
   "id": "74aeebf7",
   "metadata": {},
   "outputs": [
    {
     "data": {
      "image/png": "[encoded data removed]",
      "text/latex": [
       "$\\displaystyle 7.31822318935179$"
      ],
      "text/plain": [
       "7.31822318935179"
      ]
     },
     "execution_count": 45,
     "metadata": {},
     "output_type": "execute_result"
    }
   ],
   "source": [
    "# No. de estados ligados\n",
    "nmax = (1.76)/(hb*om/e) -1/2; nmax"
   ]
  },
  {
   "cell_type": "code",
   "execution_count": 46,
   "id": "6cb36a6a",
   "metadata": {},
   "outputs": [
    {
     "data": {
      "image/png": "[encoded data removed]",
      "text/latex": [
       "$\\displaystyle 0.0387780281052909$"
      ],
      "text/plain": [
       "0.03877802810529091"
      ]
     },
     "execution_count": 46,
     "metadata": {},
     "output_type": "execute_result"
    }
   ],
   "source": [
    "kB = 1.38065*10**-23 # J/K (constante de Boltzmann)\n",
    "T = 300; (3*kB*T/2)/e # energia termica para temperatura ambiente"
   ]
  },
  {
   "cell_type": "markdown",
   "id": "3c2169b8",
   "metadata": {
    "tags": []
   },
   "source": [
    "## Exercícios\n",
    "\n",
    "$1.$ Considerando o íon da molécula de Hidrogênio, faça os cálculos e o gráfico para verificar que a função de onda teste $\\phi_{-} = A\\big(\\psi_{0}(r_{1})-\\psi_{0}(r_{2})\\big)$ indica um estado não ligado para esta molécula.\n",
    "\n",
    "$2.$ Qual seria a temperatura para a qual a energia térmica seria a mesma que a energia de oscilação necessária para quebrar a molécula $H_{2}^{+}$?"
   ]
  },
  {
   "cell_type": "markdown",
   "id": "a4bece41-e7f7-4692-94a0-7c7ebb321101",
   "metadata": {},
   "source": [
    "## Referências\n",
    "\n",
    "$1.$ GRIFFITHS, D. J. Introduction to Quantum Mechanics. Prentice Hall, Upper Saddle River: 2005.\n",
    "\n",
    "$2.$ PAULING, L., WILSON JR, E. B.. Introduction to Quantum Mechanics With Applications to Chemistry. Dover Publications, Nova York: 1963."
   ]
  }
 ],
 "metadata": {
  "kernelspec": {
   "display_name": "Python 3 (ipykernel)",
   "language": "python",
   "name": "python3"
  },
  "language_info": {
   "codemirror_mode": {
    "name": "ipython",
    "version": 3
   },
   "file_extension": ".py",
   "mimetype": "text/x-python",
   "name": "python",
   "nbconvert_exporter": "python",
   "pygments_lexer": "ipython3",
   "version": "3.11.1"
  }
 },
 "nbformat": 4,
 "nbformat_minor": 5
}
