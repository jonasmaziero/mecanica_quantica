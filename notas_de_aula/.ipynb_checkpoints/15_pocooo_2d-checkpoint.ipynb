{
 "cells": [
  {
   "cell_type": "markdown",
   "metadata": {},
   "source": [
    "### Notas de aula de Mecânica Quântica <br> Autor: Jonas Maziero"
   ]
  },
  {
   "cell_type": "markdown",
   "metadata": {},
   "source": [
    "# Poço quadrado infinito 2D <br> Degenerescência\n",
    "\n",
    "Consideremos aqui a versão bidimensional do poço quadrado infinito. Esse caso é bem parecido com o caso unidimensional. Mas no caso 2D aparece uma grande novidade, que é a possibilidade de termos mais de uma autofunção correspondente a um mesmo valor de energia, o que denominamos de degenerescência.\n",
    "\n",
    "A energia potencial nesse caso lê-se\n",
    "\\begin{cases}\n",
    "U(0<x<L_{x},0<y<L_{y}) = 0, \\\\\n",
    "U(x,y) = \\infty \\text{ nos outros casos}.\n",
    "\\end{cases}\n",
    "Como no caso 1D, a função de onda é nula nas regiões em que $U=\\infty$. Dentro do poço $U=0$ e a EqSIT fica escrita como\n",
    "\\begin{equation}\n",
    "-\\frac{\\hbar^{2}}{2m}\\partial_{xx}\\Lambda(x,y)-\\frac{\\hbar^{2}}{2m}\\partial_{yy}\\Lambda(x,y)=E\\Lambda(x,y).\n",
    "\\end{equation}\n",
    "Usando separação de variáveis,\n",
    "\\begin{equation}\n",
    "\\Lambda(x,y) = \\Xi(x)\\Upsilon(y),\n",
    "\\end{equation}\n",
    "segue que\n",
    "\\begin{align}\n",
    "& -\\frac{\\hbar^{2}}{2m}\\partial_{xx}\\Xi(x)\\Upsilon(y)-\\frac{\\hbar^{2}}{2m}\\partial_{yy}\\Xi(x)\\Upsilon(y)=E\\Xi(x)\\Upsilon(y), \\\\\n",
    "&\\therefore -\\Upsilon(y)\\frac{\\hbar^{2}}{2m}\\partial_{xx}\\Xi(x)-\\Xi(x)\\frac{\\hbar^{2}}{2m}\\partial_{yy}\\Upsilon(y)=E\\Xi(x)\\Upsilon(y).\n",
    "\\end{align}\n",
    "Dividindo a última equação por $\\Xi(x)\\Upsilon(y)$, obtemos\n",
    "\\begin{equation}\n",
    "-\\frac{1}{\\Xi(x)}\\frac{\\hbar^{2}}{2m}\\partial_{xx}\\Xi(x)=\\frac{1}{\\Upsilon(y)}\\frac{\\hbar^{2}}{2m}\\partial_{yy}\\Upsilon(y)+E.\n",
    "\\end{equation}"
   ]
  },
  {
   "cell_type": "markdown",
   "metadata": {},
   "source": [
    "Como mudando $x$ não podemos mudar o lado direito e mudando $y$ não podemos mudar o lado esquerdo da última equação, os dois lados dessa equação devem ser iguais a uma mesma constante:\n",
    "\\begin{align}\n",
    "& -\\frac{1}{\\Xi(x)}\\frac{\\hbar^{2}}{2m}\\partial_{xx}\\Xi(x)=C \\text{ e } \\frac{1}{\\Upsilon(y)}\\frac{\\hbar^{2}}{2m}\\partial_{yy}\\Upsilon(y)+E=C, \\\\\n",
    "& \\therefore \\partial_{xx}\\Xi(x)+\\frac{2mC}{\\hbar^{2}}\\Xi(x) = 0 \\text{ e } \\partial_{yy}\\Upsilon(y)+\\frac{2m(E-C)}{\\hbar^{2}}\\Upsilon(y)=0, \\\\\n",
    "& \\therefore \\partial_{xx}\\Xi(x)+k_{x}^{2}\\Xi(x) = 0 \\text{ e } \\partial_{yy}\\Upsilon(y)+k_{y}^{2}\\Upsilon(y)=0, \\\\\n",
    "& \\therefore \\Xi(x)=ae^{ik_{x}x}+be^{-ik_{x}x} \\text{ e } \\Upsilon(y)=ce^{ik_{y}y}+de^{-ik_{y}y}.\n",
    "\\end{align}\n",
    "Acima definimos\n",
    "$$k_x = \\frac{\\sqrt{2mC}}{\\hbar},\\ k_y = \\frac{\\sqrt{2m(E-C)}}{\\hbar}.$$\n",
    "\n",
    "Aplicando as condições de contorno em $x=0$ e $y=0$:\n",
    "\\begin{equation}\n",
    "\\Xi(0)=a+b=0 \\therefore a=-b \\text{; } \\Upsilon(0)=c+d=0\\therefore c=-d.\n",
    "\\end{equation}\n",
    "Assim\n",
    "\\begin{align}\n",
    "& \\Xi(x)=ae^{ik_{x}x}+be^{-ik_{x}x} = a(e^{ik_{x}x}-e^{-ik_{x}x})=2ia\\sin(k_{x}x)=:A\\sin(k_{x}x), \\\\\n",
    "& \\Upsilon(y)=2ic\\sin(k_{y}y)=D\\sin(k_{y}y).\n",
    "\\end{align}"
   ]
  },
  {
   "cell_type": "markdown",
   "metadata": {},
   "source": [
    "## Autoenergias\n",
    "As outras condições de contorno em $x=L_{x}$ e $y=L_{y}$ fornecem:\n",
    "\\begin{align}\n",
    "& \\Xi(L_{x})=A\\sin(k_{x}L_{x})=0 \\therefore k_{x}L_{x}=n_{x}\\pi \\text{ com } n_{x}=1,2,3,\\cdots, \\\\\n",
    "& \\Upsilon(L_{y}) = D\\sin(k_{y}L_{y}) = 0 \\therefore k_{y}L_{y}=n_{y}\\pi \\text{ com } n_{y}=1,2,3,\\cdots.\n",
    "\\end{align}\n",
    "Dessas equações obteremos\n",
    "\\begin{align}\n",
    "& k_{x}L_{x} = \\sqrt{2mC/\\hbar^{2}}L_{x} = n_{x}\\pi \\therefore C = \\frac{\\hbar^{2}n_{x}^{2}\\pi^{2}}{2mL_{x}^{2}}, \\\\\n",
    "& k_{y}L_{y} = \\sqrt{2m(E-C)/\\hbar^{2}}L_{y} = n_{y}\\pi \\therefore E=C+ \\frac{\\hbar^{2}n_{y}^{2}\\pi^{2}}{2mL_{y}^{2}},\n",
    "\\end{align}\n",
    "que nos fornece as energias possíveis do quanton\n",
    "\\begin{equation}\n",
    "E = \\frac{\\hbar^{2}\\pi^{2}}{2m}\\left(\\frac{n_{x}^{2}}{L_{x}^{2}}+\\frac{n_{y}^{2}}{L_{y}^{2}}\\right)=:E_{n_{x},n_{y}} \\text{, com }n_{x},n_{y}=1,2,3,\\cdots.\n",
    "\\end{equation}"
   ]
  },
  {
   "cell_type": "markdown",
   "metadata": {},
   "source": [
    "## Degenerescência\n",
    "Para observar de forma simples a degenerescência de estados quânticos, consideremos\n",
    "\\begin{equation}\n",
    "L_{x}:=L_{y}:=L.\n",
    "\\end{equation}\n",
    "Assim\n",
    "\\begin{equation}\n",
    "E = \\frac{\\hbar^{2}\\pi^{2}}{2mL^{2}}\\left(n_{x}^{2}+n_{y}^{2}\\right)=:E_{n_{x},n_{y}} \\text{, com }n_{x},n_{y}=1,2,3,\\cdots.\n",
    "\\end{equation}\n",
    "Usando \n",
    "\\begin{equation}\n",
    "E_{1,1} = \\frac{\\hbar^{2}\\pi^{2}}{2mL^{2}},\n",
    "\\end{equation}\n",
    "mostramos alguns valores da energia abaixo."
   ]
  },
  {
   "cell_type": "code",
   "execution_count": 1,
   "metadata": {},
   "outputs": [],
   "source": [
    "from sympy import symbols\n",
    "import math"
   ]
  },
  {
   "cell_type": "code",
   "execution_count": 2,
   "metadata": {},
   "outputs": [
    {
     "name": "stdout",
     "output_type": "stream",
     "text": [
      "nx =  1 , ny =  1 , E_nx,ny =  2*E11\n",
      "nx =  1 , ny =  2 , E_nx,ny =  5*E11\n",
      "nx =  1 , ny =  3 , E_nx,ny =  10*E11\n",
      "nx =  1 , ny =  4 , E_nx,ny =  17*E11\n",
      "nx =  2 , ny =  1 , E_nx,ny =  5*E11\n",
      "nx =  2 , ny =  2 , E_nx,ny =  8*E11\n",
      "nx =  2 , ny =  3 , E_nx,ny =  13*E11\n",
      "nx =  2 , ny =  4 , E_nx,ny =  20*E11\n",
      "nx =  3 , ny =  1 , E_nx,ny =  10*E11\n",
      "nx =  3 , ny =  2 , E_nx,ny =  13*E11\n",
      "nx =  3 , ny =  3 , E_nx,ny =  18*E11\n",
      "nx =  3 , ny =  4 , E_nx,ny =  25*E11\n",
      "nx =  4 , ny =  1 , E_nx,ny =  17*E11\n",
      "nx =  4 , ny =  2 , E_nx,ny =  20*E11\n",
      "nx =  4 , ny =  3 , E_nx,ny =  25*E11\n",
      "nx =  4 , ny =  4 , E_nx,ny =  32*E11\n"
     ]
    }
   ],
   "source": [
    "def E11(m,L):\n",
    "    return (hb**2*math.pi**2)/(2*m*L**2)\n",
    "\n",
    "def E_poco2d(nx,ny,E_11):\n",
    "    return E_11*(nx**2+ny**2)\n",
    "\n",
    "E_11 = symbols('E11')\n",
    "for nx in range(1,5):\n",
    "    for ny in range(1,5):\n",
    "        print('nx = ', nx, ', ny = ', ny, ', E_nx,ny = ', E_poco2d(nx,ny,E_11))"
   ]
  },
  {
   "cell_type": "markdown",
   "metadata": {},
   "source": [
    "Vemos assim que existem diferentes estados do quanton associados a um mesmo valor de energia. Por exemplo \n",
    "\\begin{cases}\n",
    "E_{1,2}=E_{2,1}=5E_{1,1}, \\\\\n",
    "E_{1,3}=E_{3,1}=10E_{1,1}, \\\\\n",
    "E_{2,3}=E_{3,2}=13E_{1,1}, \\\\\n",
    "\\vdots.\n",
    "\\end{cases}\n",
    "Na verdade, estados com $n_{x}=n_{y}=:n$ não são degenerados. Dizemos que o subespaço gerado pelas autofunções \n",
    "\\begin{equation}\n",
    "H\\Lambda_{n,n}(x,y)=E_{n,n}\\Lambda_{n,n}(x,y)\n",
    "\\end{equation}\n",
    "possui dimensão $d_{E_{n,n}}=1$, com $H=-(\\hbar^{2}/2m)(\\partial_{xx}+\\partial_{yy})$. Para o poço quadrado finito 2D, sempre que $n_{x}\\ne n_{y}$ temos duas autofunções,\n",
    "\\begin{equation}\n",
    "H\\Lambda_{n_{x},n_{y}}(x,y)=E_{\\{n_{y},n_{x}\\}}\\Lambda_{n_{x},n_{y}}(x,y) \\text{ e } H\\Lambda_{n_{y},n_{x}}(x,y)=E_{\\{n_{y},n_{x}\\}}\\Lambda_{n_{y},n_{x}}(x,y),\n",
    "\\end{equation}\n",
    "correspondentes a uma mesma energia $E_{n_{x},n_{y}}=E_{n_{y},n_{x}}=:E_{\\{n_{y},n_{x}\\}}$. Essas autofunções geram um subespaço com dimensão $d_{E_{\\{n_{y},n_{x}\\}}}=2$.\n",
    "\n",
    "Vale observar que qualquer imperfeição, mensurável, na construção do poço quebrará a simetria do poço, considerada acima, e não teremos mais estados degenerados. \n",
    "\n",
    "Por outro lado, conforme pode ser visto usando a figura abaixo, mesmo com $L_{x}\\ne L_{y}$, podemos ter degenerescência mudando $p\\in[0,1]$ para \n",
    "$$L_{y}=pL_{x}.$$"
   ]
  },
  {
   "cell_type": "markdown",
   "metadata": {},
   "source": [
    "### Diagrama de níveis de energia"
   ]
  },
  {
   "cell_type": "code",
   "execution_count": 3,
   "metadata": {},
   "outputs": [],
   "source": [
    "from ipywidgets import interactive\n",
    "me = 9.109382*10**-31 # kg (massa do elétron)\n",
    "from matplotlib import pyplot as plt\n",
    "h = 6.626069*10**-34 # Js (constante de Planck)\n",
    "hb = h/(2*math.pi) # hbar\n",
    "e = 1.60217662*10**-19 # C (carga elementar)"
   ]
  },
  {
   "cell_type": "code",
   "execution_count": 4,
   "metadata": {},
   "outputs": [
    {
     "data": {
      "application/vnd.jupyter.widget-view+json": {
       "model_id": "8b74339a3bf8406694a9b1e78f434659",
       "version_major": 2,
       "version_minor": 0
      },
      "text/plain": [
       "interactive(children=(FloatSlider(value=0.5, description='p', max=1.0, min=0.05, step=0.05), Output()), _dom_c…"
      ]
     },
     "execution_count": 4,
     "metadata": {},
     "output_type": "execute_result"
    }
   ],
   "source": [
    "def Enxny(nx,ny,Lx,Ly,m):\n",
    "    return ((hb**2*math.pi**2)/(2*m))*(nx**2/Lx**2 + ny**2/Ly**2)/e\n",
    "def poco2d_energias(Lx,Ly,m,xmin,xmax):\n",
    "    plt.hlines(Enxny(1,1,Lx,Ly,m),xmin,xmax,color='magenta')\n",
    "    plt.text(-0.28,Enxny(1,1,Lx,Ly,m),r'$n_{x}=1,n_{y}=1$',color='magenta')\n",
    "    plt.text(1.01,Enxny(1,1,Lx,Ly,m),'%3.2f' % (Enxny(1,1,Lx,Ly,m))+' eV',\n",
    "             color='magenta')\n",
    "    plt.hlines(Enxny(1,2,Lx,Ly,m),xmin,xmax,color='blue')\n",
    "    plt.text(-0.28,Enxny(1,2,Lx,Ly,m),r'$n_{x}=1,n_{y}=2$',color='blue')\n",
    "    plt.text(1.01,Enxny(1,2,Lx,Ly,m),'%3.2f' % (Enxny(1,2,Lx,Ly,m))+' eV',\n",
    "             color='blue')\n",
    "    plt.hlines(Enxny(2,1,Lx,Ly,m),xmin,xmax,color='cyan')\n",
    "    plt.text(-0.28,Enxny(2,1,Lx,Ly,m),r'$n_{x}=2,n_{y}=1$',color='cyan')\n",
    "    plt.text(1.01,Enxny(2,1,Lx,Ly,m),'%3.2f' % (Enxny(2,1,Lx,Ly,m))+' eV',\n",
    "             color='cyan')\n",
    "    plt.hlines(Enxny(2,2,Lx,Ly,m),xmin,xmax,color='red')\n",
    "    plt.text(-0.28,Enxny(2,2,Lx,Ly,m),r'$n_{x}=2,n_{y}=2$',color='red')\n",
    "    plt.text(1.01,Enxny(2,2,Lx,Ly,m),'%3.2f' % (Enxny(2,2,Lx,Ly,m))+' eV',\n",
    "             color='red')\n",
    "    plt.hlines(Enxny(1,3,Lx,Ly,m),xmin,xmax,color='black')\n",
    "    plt.text(-0.28,Enxny(1,3,Lx,Ly,m),r'$n_{x}=1,n_{y}=3$',color='black')\n",
    "    plt.text(1.01,Enxny(1,3,Lx,Ly,m),'%3.2f' % (Enxny(1,3,Lx,Ly,m))+' eV',\n",
    "             color='black')\n",
    "    plt.hlines(Enxny(3,1,Lx,Ly,m),xmin,xmax,color='brown')\n",
    "    plt.text(-0.28,Enxny(3,1,Lx,Ly,m),r'$n_{x}=3,n_{y}=1$',color='brown')\n",
    "    plt.text(1.01,Enxny(3,1,Lx,Ly,m),'%3.2f' % (Enxny(3,1,Lx,Ly,m))+' eV',\n",
    "             color='brown')\n",
    "    plt.hlines(Enxny(2,3,Lx,Ly,m),xmin,xmax,color='green')\n",
    "    plt.text(-0.28,Enxny(2,3,Lx,Ly,m),r'$n_{x}=2,n_{y}=3$',color='green')\n",
    "    plt.text(1.01,Enxny(2,3,Lx,Ly,m),'%3.2f' % (Enxny(2,3,Lx,Ly,m))+' eV',\n",
    "             color='green')\n",
    "    plt.hlines(Enxny(3,2,Lx,Ly,m),xmin,xmax,color='yellow')\n",
    "    plt.text(-0.28,Enxny(3,2,Lx,Ly,m),r'$n_{x}=3,n_{y}=2$',color='yellow')\n",
    "    plt.text(1.01,Enxny(3,2,Lx,Ly,m),'%3.2f' % (Enxny(3,2,Lx,Ly,m))+' eV',\n",
    "             color='yellow')\n",
    "    plt.hlines(Enxny(3,3,Lx,Ly,m),xmin,xmax,color='orange')\n",
    "    plt.text(-0.28,Enxny(3,3,Lx,Ly,m),r'$n_{x}=3,n_{y}=3$',color='orange')\n",
    "    plt.text(1.01,Enxny(3,3,Lx,Ly,m),'%3.2f' % (Enxny(3,3,Lx,Ly,m))+' eV',\n",
    "             color='orange')\n",
    "    plt.axis('off')\n",
    "    plt.show()\n",
    "def call_e(p):\n",
    "    m = me; xmin = 0; xmax = 1; Lx = 10**-9; Ly = p*Lx; \n",
    "    poco2d_energias(Lx,Ly,m,xmin,xmax)\n",
    "interactive(call_e, p=(0.05,1,0.05))"
   ]
  },
  {
   "cell_type": "markdown",
   "metadata": {},
   "source": [
    "## Autofunções normalizadas\n",
    "Dos resutados acima temos que $\\Xi(x)=A\\sin\\frac{n_{x}\\pi x}{L_{x}}$ e $\\Upsilon(y)=C\\sin\\frac{n_{y}\\pi y}{L_{y}}$. Assim \n",
    "$$\\Lambda(x,y)=\\Xi(x)\\Upsilon(y)=N\\sin\\frac{n_{x}\\pi x}{L_{x}}\\sin\\frac{n_{y}\\pi y}{L_{y}},$$\n",
    "com $N=AC$ sendo a constante de normalização. Como o quanton deve estar em algum lugar dentro do poço, devemos ter\n",
    "\\begin{align}\n",
    "& \\int_{-\\infty}^{+\\infty}\\int_{-\\infty}^{+\\infty}|\\Lambda(x,y)|^{2}dx = 1 \\\\\n",
    "& =|N|^{2}\\int_{0}^{L_{x}}\\int_{0}^{L_{y}}\\sin^{2}\\frac{n_{x}\\pi x}{L_{x}}\\sin^{2}\\frac{n_{y}\\pi y}{L_{y}}dxdy \\\\\n",
    "& = |N|^{2}\\int_{0}^{L_{x}}\\left(\\frac{1}{2}-\\frac{1}{2}\\cos\\frac{2n_{x}\\pi x}{L_{x}}\\right)dx\\int_{0}^{L_{y}}\\left(\\frac{1}{2}-\\frac{1}{2}\\cos\\frac{2n_{y}\\pi y}{L_{y}}\\right)dy \\\\\n",
    "& = |N|^{2}\\left(\\frac{L_{x}}{2}-\\frac{L_{x}}{4n_{x}\\pi}\\left(\\sin\\frac{2n_{x}\\pi x}{L_{x}}\\right)_{0}^{L_{x}}\\right)\\left(\\frac{L_{y}}{2}-\\frac{L_{y}}{4n_{y}\\pi}\\left(\\sin\\frac{2n_{y}\\pi y}{L_{y}}\\right)_{0}^{L_{y}}\\right) \\\\ \n",
    "& = |N|^{2}\\frac{L_{x}L_{y}}{4}.\n",
    "\\end{align}\n",
    "Desconsiderando a fase, obtemos $N=\\sqrt{4/L_{x}L_{y}}$. Com isso chegamos na função de onda completa para o poço quadrado infinito 2D:\n",
    "\\begin{equation}\n",
    "\\Lambda_{n_{x}n_{y}}(x,y)=\\Xi_{n_{x}}(x)\\Upsilon_{n_{y}}(y) = \\sqrt{\\frac{4}{L_{x}L_{y}}}\\sin\\frac{n_{x}\\pi x}{L_{x}}\\sin\\frac{n_{y}\\pi y}{L_{y}}.\n",
    "\\end{equation}\n",
    "Abaixo estão mostrados gráficos dessa função de onda e da densidade de probabilidade associada."
   ]
  },
  {
   "cell_type": "code",
   "execution_count": 5,
   "metadata": {},
   "outputs": [],
   "source": [
    "import numpy as np"
   ]
  },
  {
   "cell_type": "code",
   "execution_count": 9,
   "metadata": {},
   "outputs": [
    {
     "data": {
      "application/vnd.jupyter.widget-view+json": {
       "model_id": "f134129edb4a4a4da9526fd7778f010a",
       "version_major": 2,
       "version_minor": 0
      },
      "text/plain": [
       "interactive(children=(IntSlider(value=3, description='nx', max=6, min=1), IntSlider(value=3, description='ny',…"
      ]
     },
     "execution_count": 9,
     "metadata": {},
     "output_type": "execute_result"
    }
   ],
   "source": [
    "def psi_poco2d(nx,ny,th,ph):\n",
    "    Lx = 10**-9; Ly = Lx; N = 30; xll = 0; xul = Lx; yll = 0; yul = Ly\n",
    "    x = np.linspace(xll,xul,N); y = np.linspace(yll,yul,N); \n",
    "    X, Y = np.meshgrid(x, y)\n",
    "    Z = math.sqrt(4/(Lx*Ly))*np.sin((nx*math.pi*X)/Lx)*np.sin((ny*math.pi*Y)/Ly)\n",
    "    #Z = Z*Z # para plotar a densidade de probabilidade\n",
    "    from mpl_toolkits import mplot3d\n",
    "    fig = plt.figure(figsize=(10,8)); \n",
    "    ax = fig.add_subplot(111,projection='3d')\n",
    "    ax.plot_wireframe(X, Y, Z, color='green'); \n",
    "    ax.view_init(th, ph)#; fig.tight_layout()\n",
    "    ax.set_xlabel(r'$x$'); ax.set_ylabel(r'$y$'); \n",
    "    ax.set_zlabel(r'$\\Lambda_{n_{x},n_{y}}(x,y)$')\n",
    "    plt.show()\n",
    "interactive(psi_poco2d, nx=(1,6,1), ny=(1,6,1), th = (0,90,10), ph = (0,180,10))"
   ]
  },
  {
   "cell_type": "markdown",
   "metadata": {},
   "source": [
    "## Valores médios\n",
    "Para os cálculos a seguir usaremos $\\Lambda(x,y)=\\Xi(x)\\Upsilon(y)$ com\n",
    "\\begin{equation}\n",
    "\\Xi(x):=\\sqrt{\\frac{2}{L_{x}}}\\sin\\left(\\frac{n_{x}\\pi x}{L_{x}}\\right) \\text{ e } \\Upsilon(y):=\\sqrt{\\frac{2}{L_{y}}}\\sin\\left(\\frac{n_{y}\\pi y}{L_{y}}\\right).\n",
    "\\end{equation}\n",
    "Notemos que\n",
    "\\begin{align}\n",
    "\\int_{-\\infty}^{+\\infty}|\\Upsilon(y)|^{2}dy & = \\int_{0}^{L_{x}}\\frac{2}{L_{y}}\\sin^{2}\\left(\\frac{n_{y}\\pi y}{L_{y}}\\right)dy \\\\\n",
    "& = \\frac{2}{L_{y}}\\int_{0}^{L_{x}}\\left(\\frac{1}{2}-\\frac{1}{2}\\cos\\left(\\frac{2n_{y}\\pi y}{L_{y}}\\right)\\right)dy \\\\\n",
    "& = \\frac{2}{L_{y}}\\left(\\frac{L_{x}}{2}-0\\right) = 1,\n",
    "\\end{align}\n",
    "o que mostra que a função $\\Upsilon(y)$ definida acima é de fato uma função de onda. O mesmo vale para a $\\Xi(x)$ definida acima.\n",
    "\n",
    "### Valores médios de posição\n",
    "Para o quanton no poço quadrado infinito, o valor médio da posição é\n",
    "\\begin{align}\n",
    "\\langle X\\rangle & = \\int_{-\\infty}^{+\\infty}\\int_{-\\infty}^{+\\infty}x|\\Lambda(x,y)|^{2}dxdy \\\\\n",
    "& = \\int_{0}^{L_{x}}x|\\Xi(x)|^{2}dx\\int_{0}^{L_{y}}|\\Upsilon(y)|^{2}dy \\\\\n",
    "& = \\frac{2}{L_{x}}\\int_{0}^{L_{x}}x\\sin^{2}\\left(\\frac{n_{x}\\pi x}{L_{x}}\\right)dx\\left(1\\right) \\\\\n",
    "& = \\frac{2}{L_{x}}\\int_{0}^{L_{x}}x\\left(\\frac{1}{2}-\\frac{1}{2}\\cos\\left(\\frac{2n_{x}\\pi x}{L_{x}}\\right)\\right)dx \\\\\n",
    "& = \\frac{1}{L_{x}}\\left(\\frac{L_{x}^{2}}{2}-\\int_{0}^{L_{x}}x\\cos\\left(\\frac{2n_{x}\\pi x}{L_{x}}\\right)dx\\right) \\\\\n",
    "& = \\frac{L_{x}}{2},\n",
    "\\end{align}\n",
    "em que, definindo $u=x\\therefore du=dx$, $dv=\\cos\\left(\\frac{2n_{x}\\pi x}{L_{x}}\\right)dx \\therefore v=\\frac{L_{x}}{2n_{x}\\pi}\\sin\\left(\\frac{2n_{x}\\pi x}{L_{x}}\\right)$, usamos\n",
    "\\begin{align}\n",
    "& \\int_{0}^{L_{x}}x\\cos\\left(\\frac{2n_{x}\\pi x}{L_{x}}\\right)dx = \\left(x\\frac{L_{x}}{2n_{x}\\pi}\\sin\\left(\\frac{2n_{x}\\pi x}{L_{x}}\\right)\\right)_{0}^{L_{x}} -\\int_{0}^{L_{x}}\\frac{L_{x}}{2n_{x}\\pi}\\sin\\left(\\frac{2n_{x}\\pi x}{L_{x}}\\right)dx \\\\\n",
    "&= 0 +\\left(\\frac{L_{x}}{2n_{x}\\pi}\\right)^{2}\\left(\\cos\\left(\\frac{2n_{x}\\pi x}{L_{x}}\\right)\\right)_{0}^{L_{x}} \\\\\n",
    "& = + \\left(\\frac{L_{x}}{2n_{x}\\pi}\\right)^{2}\\left(\\cos\\left(2n_{x}\\pi\\right)-\\cos(0)\\right) \\\\\n",
    "& = +\\left(\\frac{L_{x}}{2n_{x}\\pi}\\right)^{2}\\left(1-1\\right) \\\\\n",
    "& = 0.\n",
    "\\end{align}"
   ]
  },
  {
   "cell_type": "code",
   "execution_count": 17,
   "metadata": {},
   "outputs": [
    {
     "data": {
      "text/latex": [
       "$\\displaystyle 2 \\sqrt{\\frac{1}{L_{x} L_{y}}} \\sin{\\left(\\frac{\\pi n_{x} x}{L_{x}} \\right)} \\sin{\\left(\\frac{\\pi n_{y} y}{L_{y}} \\right)}$"
      ],
      "text/plain": [
       "2*sqrt(1/(L_{x}*L_{y}))*sin(pi*n_{x}*x/L_{x})*sin(pi*n_{y}*y/L_{y})"
      ]
     },
     "execution_count": 17,
     "metadata": {},
     "output_type": "execute_result"
    }
   ],
   "source": [
    "from sympy import sqrt, sin, pi, simplify, integrate\n",
    "\n",
    "def Lambda(x,y):\n",
    "    return sqrt(4/(Lx*Ly))*sin((nx*pi*x)/Lx)*sin((ny*pi*y)/Ly)\n",
    "\n",
    "nx,ny,Lx,Ly,x,y = symbols('n_{x} n_{y} L_{x} L_{y} x y'); Lambda(x,y)"
   ]
  },
  {
   "cell_type": "code",
   "execution_count": 18,
   "metadata": {},
   "outputs": [
    {
     "data": {
      "text/latex": [
       "$\\displaystyle \\begin{cases} \\frac{L_{x} \\left(\\pi n_{y} - \\frac{\\sin{\\left(2 \\pi n_{y} \\right)}}{2}\\right) \\left(\\pi^{2} n_{x}^{2} - \\pi n_{x} \\sin{\\left(2 \\pi n_{x} \\right)} + \\sin^{2}{\\left(\\pi n_{x} \\right)}\\right)}{2 \\pi^{3} n_{x}^{2} n_{y}} & \\text{for}\\: n_{x} > -\\infty \\wedge n_{x} < \\infty \\wedge n_{x} \\neq 0 \\wedge \\frac{\\pi n_{y}}{L_{y}} \\neq 0 \\\\0 & \\text{otherwise} \\end{cases}$"
      ],
      "text/plain": [
       "Piecewise((L_{x}*(pi*n_{y} - sin(2*pi*n_{y})/2)*(pi**2*n_{x}**2 - pi*n_{x}*sin(2*pi*n_{x}) + sin(pi*n_{x})**2)/(2*pi**3*n_{x}**2*n_{y}), (n_{x} > -oo) & (n_{x} < oo) & Ne(n_{x}, 0) & Ne(pi*n_{y}/L_{y}, 0)), (0, True))"
      ]
     },
     "execution_count": 18,
     "metadata": {},
     "output_type": "execute_result"
    }
   ],
   "source": [
    "simplify(integrate(x*(Lambda(x,y)**2),(x,0,Lx),(y,0,Ly)))"
   ]
  },
  {
   "cell_type": "markdown",
   "metadata": {},
   "source": [
    "Para o quadrado da coordenada $x$:\n",
    "\\begin{align}\n",
    "\\langle X^{2}\\rangle & = \\int_{-\\infty}^{+\\infty}\\int_{-\\infty}^{+\\infty}x^{2}|\\Lambda(x,y)|^{2}dxdy \\\\\n",
    "& = \\int_{0}^{L_{x}}x^{2}|\\Xi(x)|^{2}dx\\int_{0}^{L_{y}}|\\Upsilon(y)|^{2}dy \\\\\n",
    "& = \\frac{2}{L_{x}}\\int_{0}^{L_{x}}x^{2}\\sin^{2}\\left(\\frac{n_{x}\\pi x}{L_{x}}\\right)dx\\left(1\\right) \\\\\n",
    "& = \\frac{2}{L_{x}}\\int_{0}^{L_{x}}x^{2}\\left(\\frac{1}{2}-\\frac{1}{2}\\cos\\left(\\frac{2n_{x}\\pi x}{L_{x}}\\right)\\right)dx \\\\\n",
    "& = \\frac{1}{L_{x}}\\left(\\frac{L_{x}^{3}}{3}-\\int_{0}^{L_{x}}x^{2}\\cos\\left(\\frac{2n_{x}\\pi x}{L_{x}}\\right)dx\\right).\n",
    "\\end{align}\n",
    "Definindo $u=x^{2}\\therefore du=2xdx$ e $dv=\\cos\\left(\\frac{2n_{x}\\pi x}{L_{x}}\\right)dx\\therefore v=\\frac{L_{x}}{2n_{x}\\pi}\\sin\\left(\\frac{2n_{x}\\pi x}{L_{x}}\\right)$, integramos por partes:\n",
    "\\begin{align}\n",
    "& \\int_{0}^{L_{x}}x^{2}\\cos\\left(\\frac{2n_{x}\\pi x}{L_{x}}\\right)dx = \\left(x^{2}\\frac{L_{x}}{2n_{x}\\pi}\\sin\\left(\\frac{2n_{x}\\pi x}{L_{x}}\\right)\\right)_{0}^{L_{x}} -\\int_{0}^{L_{x}}\\frac{L_{x}}{2n_{x}\\pi}\\sin\\left(\\frac{2n_{x}\\pi x}{L_{x}}\\right)2xdx \\\\\n",
    "& = \\frac{L_{x}}{2n_{x}\\pi}\\left(L_{x}^{2}\\sin\\left(2n_{x}\\pi\\right)-0\\sin(0)\\right) -\\frac{L_{x}}{n_{x}\\pi}\\int_{0}^{L_{x}}x\\sin\\left(\\frac{2n_{x}\\pi x}{L_{x}}\\right)dx.\n",
    "\\end{align}\n",
    "Definindo $u=x\\therefore du=dx$ e $dv=\\sin\\left(\\frac{2n_{x}\\pi x}{L_{x}}\\right)dx\\therefore v=-\\frac{L_{x}}{2n_{x}\\pi}\\cos\\left(\\frac{2n_{x}\\pi x}{L_{x}}\\right)$, integramos por partes novamente:\n",
    "\\begin{align}\n",
    "& \\int_{0}^{L_{x}}x^{2}\\cos\\left(\\frac{2n_{x}\\pi x}{L_{x}}\\right)dx = 0 -\\frac{L_{x}}{n_{x}\\pi}\\left(\\left(-x\\frac{L_{x}}{2n_{x}\\pi}\\cos\\left(\\frac{2n_{x}\\pi x}{L_{x}}\\right)\\right)_{0}^{L_{x}}-\\int_{0}^{L_{x}}-\\frac{L_{x}}{2n_{x}\\pi}\\cos\\left(\\frac{2n_{x}\\pi x}{L_{x}}\\right)dx\\right) \\\\\n",
    "& =-\\frac{L_{x}}{n_{x}\\pi}\\left(-L_{x}\\frac{L_{x}}{2n_{x}\\pi}\\cos\\left(2n_{x}\\pi\\right)-0\\cos(0)\\right)+\\left(\\frac{L_{x}}{2n_{x}\\pi}\\right)^{2}\\left(\\sin\\left(\\frac{2n_{x}\\pi x}{L_{x}}\\right)\\right)_{0}^{L_{x}} \\\\\n",
    "& = \\frac{L_{x}^{3}}{2n_{x}^{2}\\pi^{2}}+0.\n",
    "\\end{align}\n",
    "Assim\n",
    "\\begin{equation}\n",
    "\\langle X^{2}\\rangle = \\frac{1}{L_{x}}\\left(\\frac{L_{x}^{3}}{3}-\\frac{L_{x}^{3}}{2n_{x}^{2}\\pi^{2}}\\right) = L_{x}^{2}\\left(\\frac{1}{3}-\\frac{1}{2n_{x}^{2}\\pi^{2}}\\right).\n",
    "\\end{equation}"
   ]
  },
  {
   "cell_type": "code",
   "execution_count": 19,
   "metadata": {},
   "outputs": [
    {
     "data": {
      "text/latex": [
       "$\\displaystyle \\begin{cases} \\frac{L_{x}^{2} \\left(\\pi n_{y} - \\frac{\\sin{\\left(2 \\pi n_{y} \\right)}}{2}\\right) \\left(2 \\pi^{3} n_{x}^{3} - 3 \\pi^{2} n_{x}^{2} \\sin{\\left(2 \\pi n_{x} \\right)} - 3 \\pi n_{x} \\cos{\\left(2 \\pi n_{x} \\right)} + \\frac{3 \\sin{\\left(2 \\pi n_{x} \\right)}}{2}\\right)}{6 \\pi^{4} n_{x}^{3} n_{y}} & \\text{for}\\: n_{x} > -\\infty \\wedge n_{x} < \\infty \\wedge n_{x} \\neq 0 \\wedge \\frac{\\pi n_{y}}{L_{y}} \\neq 0 \\\\0 & \\text{otherwise} \\end{cases}$"
      ],
      "text/plain": [
       "Piecewise((L_{x}**2*(pi*n_{y} - sin(2*pi*n_{y})/2)*(2*pi**3*n_{x}**3 - 3*pi**2*n_{x}**2*sin(2*pi*n_{x}) - 3*pi*n_{x}*cos(2*pi*n_{x}) + 3*sin(2*pi*n_{x})/2)/(6*pi**4*n_{x}**3*n_{y}), (n_{x} > -oo) & (n_{x} < oo) & Ne(n_{x}, 0) & Ne(pi*n_{y}/L_{y}, 0)), (0, True))"
      ]
     },
     "execution_count": 19,
     "metadata": {},
     "output_type": "execute_result"
    }
   ],
   "source": [
    "simplify(integrate((x**2)*(Lambda(x,y)**2),(x,0,Lx),(y,0,Ly)))"
   ]
  },
  {
   "cell_type": "markdown",
   "metadata": {},
   "source": [
    "### Valores médios de momento linear\n",
    "De $\\Lambda(x,y)=\\Xi(x)\\Upsilon(y)$ com $\\Xi(x)=\\sqrt{\\frac{2}{L_{x}}}\\sin\\left(\\frac{n_{x}\\pi x}{L_{x}}\\right)$, usamos\n",
    "\\begin{equation}\n",
    "\\partial_{x}\\Xi(x) = \\sqrt{\\frac{2}{L_{x}}}\\frac{n_{x}\\pi}{L_{x}}\\cos\\left(\\frac{n_{x}\\pi x}{L_{x}}\\right)\n",
    "\\end{equation}\n",
    "para obter o valor médio da coordenada $x$ do momento linear:\n",
    "\\begin{align}\n",
    "\\langle P_{x}\\rangle & = \\int_{-\\infty}^{+\\infty}\\int_{-\\infty}^{+\\infty} \\Lambda(x,y)^{*}\\left(\\frac{\\hbar}{i}\\partial_{x}\\Lambda(x,y)\\right)dxdy \\\\\n",
    "& = \\frac{\\hbar}{i}\\int_{0}^{L_{x}}\\Xi(x)\\partial_{x}\\Xi(x)dx\\int_{0}^{L_{y}}|\\Upsilon(y)|^{2}dy \\\\\n",
    "& = \\frac{\\hbar}{i}\\frac{2}{L_{x}}\\frac{n_{x}\\pi}{L_{x}}\\int_{0}^{L_{x}}\\sin\\left(\\frac{n_{x}\\pi x}{L_{x}}\\right)\\cos\\left(\\frac{n_{x}\\pi x}{L_{x}}\\right)dx \\\\\n",
    "& = \\frac{\\hbar n_{x}\\pi}{iL_{x}^{2}}\\int_{0}^{L_{x}}\\sin\\left(\\frac{2n_{x}\\pi x}{L_{x}}\\right)dx \\\\\n",
    "& = \\frac{\\hbar n_{x}\\pi}{iL_{x}^{2}}\\left(\\frac{L_{x}}{2n_{x}\\pi}\\cos\\left(\\frac{2n_{x}\\pi x}{L_{x}}\\right)\\right)_{0}^{L_{x}} \\\\\n",
    "& = \\frac{\\hbar n_{x}\\pi}{iL_{x}^{2}}\\frac{L_{x}}{2n_{x}\\pi}(\\cos(2n_{x}\\pi)-\\cos(0)) \\\\\n",
    "& = \\frac{\\hbar n_{x}\\pi}{iL_{x}^{2}}\\frac{L_{x}}{2n_{x}\\pi}(1-1) \\\\\n",
    "& = 0.\n",
    "\\end{align}"
   ]
  },
  {
   "cell_type": "code",
   "execution_count": 21,
   "metadata": {},
   "outputs": [
    {
     "data": {
      "text/latex": [
       "$\\displaystyle \\begin{cases} - \\frac{0.5 i \\hbar \\left(2 \\pi n_{y} - \\sin{\\left(2 \\pi n_{y} \\right)}\\right) \\sin^{2}{\\left(\\pi n_{x} \\right)}}{\\pi L_{x} n_{y}} & \\text{for}\\: \\frac{\\pi n_{x}}{L_{x}} \\neq 0 \\wedge \\frac{\\pi n_{y}}{L_{y}} \\neq 0 \\\\0 & \\text{otherwise} \\end{cases}$"
      ],
      "text/plain": [
       "Piecewise((-0.5*I*hbar*(2*pi*n_{y} - sin(2*pi*n_{y}))*sin(pi*n_{x})**2/(pi*L_{x}*n_{y}), Ne(pi*n_{x}/L_{x}, 0) & Ne(pi*n_{y}/L_{y}, 0)), (0, True))"
      ]
     },
     "execution_count": 21,
     "metadata": {},
     "output_type": "execute_result"
    }
   ],
   "source": [
    "from sympy import diff\n",
    "hbb = symbols('hbar')\n",
    "simplify((hbb/1j)*integrate(Lambda(x,y)*diff(Lambda(x,y),x),(x,0,Lx),(y,0,Ly)))"
   ]
  },
  {
   "cell_type": "markdown",
   "metadata": {},
   "source": [
    "Usando\n",
    "\\begin{equation}\n",
    "\\partial_{xx}\\Xi(x) = -\\sqrt{\\frac{2}{L_{x}}}\\left(\\frac{n_{x}\\pi}{L_{x}}\\right)^{2}\\sin\\left(\\frac{n_{x}\\pi x}{L_{x}}\\right)\n",
    "\\end{equation}\n",
    "teremos o valor médio do quadrado da componente $x$ do momento linear:\n",
    "\\begin{align}\n",
    "\\langle P_{x}^{2}\\rangle & = \\int_{-\\infty}^{+\\infty}\\int_{-\\infty}^{+\\infty} \\Lambda(x,y)^{*}\\left(-\\hbar^{2}\\partial_{xx}\\Lambda(x,y)\\right)dxdy \\\\\n",
    "& = -\\hbar^{2}\\int_{0}^{L_{x}}\\Xi(x)\\partial_{xx}\\Xi(x)dx\\int_{0}^{L_{y}}|\\Upsilon(y)|^{2}dy \\\\\n",
    "& = \\hbar^{2}\\frac{2}{L_{x}}\\left(\\frac{n_{x}\\pi}{L_{x}}\\right)^{2}\\int_{0}^{L_{x}}\\sin^{2}\\left(\\frac{n_{x}\\pi x}{L_{x}}\\right)dx \\\\\n",
    "& = \\hbar^{2}\\frac{2}{L_{x}}\\left(\\frac{n_{x}\\pi}{L_{x}}\\right)^{2}\\int_{0}^{L_{x}}\\left(\\frac{1}{2}-\\frac{1}{2}\\cos\\left(\\frac{2n_{x}\\pi x}{L_{x}}\\right)\\right)dx \\\\\n",
    "& =\\hbar^{2}\\frac{1}{L_{x}}\\left(\\frac{n_{x}\\pi}{L_{x}}\\right)^{2}\\left(L_{x}-0\\right) \\\\\n",
    "& = \\left(\\frac{\\hbar n_{x}\\pi}{L_{x}}\\right)^{2}.\n",
    "\\end{align}"
   ]
  },
  {
   "cell_type": "code",
   "execution_count": 22,
   "metadata": {},
   "outputs": [
    {
     "data": {
      "text/latex": [
       "$\\displaystyle \\begin{cases} \\frac{\\hbar^{2} n_{x} \\left(2 \\pi n_{x} - \\sin{\\left(2 \\pi n_{x} \\right)}\\right) \\left(2 \\pi n_{y} - \\sin{\\left(2 \\pi n_{y} \\right)}\\right)}{4 L_{x}^{2} n_{y}} & \\text{for}\\: \\frac{\\pi n_{x}}{L_{x}} \\neq 0 \\wedge \\frac{\\pi n_{y}}{L_{y}} \\neq 0 \\\\0 & \\text{otherwise} \\end{cases}$"
      ],
      "text/plain": [
       "Piecewise((hbar**2*n_{x}*(2*pi*n_{x} - sin(2*pi*n_{x}))*(2*pi*n_{y} - sin(2*pi*n_{y}))/(4*L_{x}**2*n_{y}), Ne(pi*n_{x}/L_{x}, 0) & Ne(pi*n_{y}/L_{y}, 0)), (0, True))"
      ]
     },
     "execution_count": 22,
     "metadata": {},
     "output_type": "execute_result"
    }
   ],
   "source": [
    "simplify(-hbb**2*integrate(Lambda(x,y)*diff(Lambda(x,y),x,x),(x,0,Lx),(y,0,Ly)))"
   ]
  },
  {
   "cell_type": "markdown",
   "metadata": {},
   "source": [
    "### Valores médios e variância de posição e de momento linear\n",
    "Como vocês verificarão, temos que\n",
    "$$\\langle Y\\rangle=L_{y}/2,\\ \\langle Y^{2}\\rangle=L_{y}^{2}\\left(\\frac{1}{3}-\\frac{1}{2n_{y}^{2}\\pi^{2}}\\right).$$\n",
    "Por consequência\n",
    "\\begin{align}\n",
    "\\langle\\vec{R}\\rangle & = \\langle(X\\hat{i}+Y\\hat{j})\\rangle = \\int_{-\\infty}^{+\\infty}\\int_{-\\infty}^{+\\infty}(x\\hat{i}+y\\hat{j})|\\Lambda(x,y)|^{2}dxdy \\\\\n",
    "& = \\hat{i}\\int_{-\\infty}^{+\\infty}\\int_{-\\infty}^{+\\infty}x|\\Lambda(x,y)|^{2}dxdy + \\hat{j}\\int_{-\\infty}^{+\\infty}\\int_{-\\infty}^{+\\infty}y|\\Lambda(x,y)|^{2}dxdy \\\\\n",
    "& =\\langle X\\rangle\\hat{i} + \\langle Y\\rangle\\hat{j} \\\\\n",
    "& = \\frac{L_{x}}{2}\\hat{i} + \\frac{L_{y}}{2}\\hat{j} \\\\\n",
    "\\langle\\vec{R}\\rangle^{2}&=\\langle\\vec{R}\\rangle\\cdot\\langle\\vec{R}\\rangle=\\langle X\\rangle^{2} + \\langle Y\\rangle^{2}=\\frac{L_{x}^{2}}{4} + \\frac{L_{y}^{2}}{4}, \\\\\n",
    "\\langle R^{2}\\rangle &= \\langle(X^{2}+Y^{2})\\rangle = \\langle X^{2}\\rangle + \\langle Y^{2}\\rangle = L_{x}^{2}\\left(\\frac{1}{3}-\\frac{1}{2n_{x}^{2}\\pi^{2}}\\right)+L_{y}^{2}\\left(\\frac{1}{3}-\\frac{1}{2n_{y}^{2}\\pi^{2}}\\right), \\\\\n",
    "Var(\\vec{R})&= \\langle R^{2}\\rangle-\\langle\\vec{R}\\rangle^{2} = \\langle X^{2}\\rangle + \\langle Y^{2}\\rangle -\\langle X\\rangle^{2} - \\langle Y\\rangle^{2} = Var(X)+Var(Y) \\\\\n",
    "& = L_{x}^{2}\\left(\\frac{1}{12}-\\frac{1}{2n_{x}^{2}\\pi^{2}}\\right)+L_{y}^{2}\\left(\\frac{1}{12}-\\frac{1}{2n_{y}^{2}\\pi^{2}}\\right).\n",
    "\\end{align}\n",
    "\n",
    "Cálculos similares para o momento linear ficam como exercício."
   ]
  },
  {
   "cell_type": "markdown",
   "metadata": {},
   "source": [
    "---\n",
    "# Exercícios\n",
    "OBS. As primeiras 5 questões são sobre o poço quadrado infinito 2D. As últimas 2 questões são sobre o poço quadrado infinito 3D.\n",
    "\n",
    "$1.$ Verifique que $\\langle Y\\rangle=L_{y}/2$.\n",
    "\n",
    "$2.$ Verifique que $\\langle Y^{2}\\rangle=L_{y}^{2}\\left(\\frac{1}{3}-\\frac{1}{2n_{y}^{2}\\pi^{2}}\\right)$.\n",
    "\n",
    "$3.$ Verifique que $\\langle P_{y}\\rangle=0$.\n",
    "\n",
    "$4.$ Verifique que $\\langle P_{y}^{2}\\rangle=\\left(\\frac{\\hbar n_{y}\\pi}{L_{y}}\\right)^{2}$.\n",
    "\n",
    "$5.$ Verifique que $\\langle\\vec{P}\\rangle=\\vec{0}$ e $\\langle P^{2}\\rangle=Var(\\vec{P})=\\left(\\frac{\\hbar n_{x}\\pi}{L_{x}}\\right)^{2}+\\left(\\frac{\\hbar n_{y}\\pi}{L_{y}}\\right)^{2}$.\n",
    "\n",
    "$6.$ Obtenha as autoenergias e autofunções do poço quadrado infinito 3D, cuja energia potencial é:\n",
    "\\begin{cases}\n",
    "U(0<x<L_{x},0<y<L_{y},0<z<L_{z})=0, \\\\\n",
    "U(x,y,z)=\\infty \\text{ nos outros casos}.\n",
    "\\end{cases}\n",
    "\n",
    "$7.$ Quais são as dimensões dos subespaços degenerados no caso do poço quadrado infinito 3D simétrico, $L_{x}=L_{y}=L_{z}=:L\\text{?}$"
   ]
  },
  {
   "cell_type": "code",
   "execution_count": null,
   "metadata": {},
   "outputs": [],
   "source": []
  }
 ],
 "metadata": {
  "kernelspec": {
   "display_name": "Python 3 (ipykernel)",
   "language": "python",
   "name": "python3"
  },
  "language_info": {
   "codemirror_mode": {
    "name": "ipython",
    "version": 3
   },
   "file_extension": ".py",
   "mimetype": "text/x-python",
   "name": "python",
   "nbconvert_exporter": "python",
   "pygments_lexer": "ipython3",
   "version": "3.11.1"
  }
 },
 "nbformat": 4,
 "nbformat_minor": 4
}
