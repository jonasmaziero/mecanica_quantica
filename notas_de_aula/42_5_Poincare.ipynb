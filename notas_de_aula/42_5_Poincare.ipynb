{
 "cells": [
  {
   "cell_type": "markdown",
   "id": "4ecf5f32-d488-4b08-90ca-7d4966caad7a",
   "metadata": {},
   "source": [
    "### Notas de aula de Mecânica Quântica <br> Autor: Jonas Maziero\n",
    "---\n",
    "\n",
    "# Grupo de Poincaré"
   ]
  },
  {
   "cell_type": "code",
   "execution_count": null,
   "id": "a8a6fa49-2ca9-467c-b654-1d9ec593c359",
   "metadata": {},
   "outputs": [],
   "source": []
  }
 ],
 "metadata": {
  "kernelspec": {
   "display_name": "Python 3 (ipykernel)",
   "language": "python",
   "name": "python3"
  },
  "language_info": {
   "codemirror_mode": {
    "name": "ipython",
    "version": 3
   },
   "file_extension": ".py",
   "mimetype": "text/x-python",
   "name": "python",
   "nbconvert_exporter": "python",
   "pygments_lexer": "ipython3",
   "version": "3.12.2"
  }
 },
 "nbformat": 4,
 "nbformat_minor": 5
}
