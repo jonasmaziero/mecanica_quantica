{
 "cells": [
  {
   "cell_type": "markdown",
   "id": "a1794c48-c294-4c0b-997f-3376f6470ba0",
   "metadata": {},
   "source": [
    "## Notas de aula de Mecânica Quântica <br> Autor: Jonas Maziero\n",
    "\n",
    "# Sistemas de partículas idênticas\n",
    "\n",
    "## Indistinguibilidade"
   ]
  },
  {
   "cell_type": "markdown",
   "id": "58513386-9cc5-4748-b83a-e84d1e8786a9",
   "metadata": {},
   "source": [
    "### Exemplo: Poço quadrado finito unidimensional"
   ]
  },
  {
   "cell_type": "code",
   "execution_count": 2,
   "id": "0f33d2b5-da38-40d9-968c-240bc1cbe37f",
   "metadata": {},
   "outputs": [
    {
     "data": {
      "text/latex": [
       "$\\displaystyle \\frac{a^{3}}{2 \\pi^{2} n^{2}}$"
      ],
      "text/plain": [
       "a**3/(2*pi**2*n**2)"
      ]
     },
     "execution_count": 2,
     "metadata": {},
     "output_type": "execute_result"
    }
   ],
   "source": [
    "from sympy import integrate, symbols, pi, cos, simplify, sin\n",
    "a,x = symbols('a x', positive=True)\n",
    "n,m = symbols('n m', integer=True,positive=True)\n",
    "simplify(integrate(x**2*cos(2*n*pi*x/a),(x,0,a)))"
   ]
  },
  {
   "cell_type": "code",
   "execution_count": 20,
   "id": "6b6f2654-8969-415b-9dbf-a51634f10b8f",
   "metadata": {},
   "outputs": [
    {
     "data": {
      "text/latex": [
       "$\\displaystyle \\frac{a^{2}}{3} - \\frac{a^{2}}{2 \\pi^{2} n^{2}}$"
      ],
      "text/plain": [
       "a**2/3 - a**2/(2*pi**2*n**2)"
      ]
     },
     "execution_count": 20,
     "metadata": {},
     "output_type": "execute_result"
    }
   ],
   "source": [
    "simplify(integrate((2/a)*x**2*sin(n*pi*x/a)**2,(x,0,a)))"
   ]
  },
  {
   "cell_type": "code",
   "execution_count": 22,
   "id": "c3e971b4-1275-4b9c-b345-c2b4876c3dd4",
   "metadata": {},
   "outputs": [
    {
     "data": {
      "text/latex": [
       "$\\displaystyle \\frac{a}{2}$"
      ],
      "text/plain": [
       "a/2"
      ]
     },
     "execution_count": 22,
     "metadata": {},
     "output_type": "execute_result"
    }
   ],
   "source": [
    "simplify(integrate((2/a)*x*sin(n*pi*x/a)**2,(x,0,a)))"
   ]
  },
  {
   "cell_type": "markdown",
   "id": "92bb7255-f9bd-44e2-9da0-cb7f417f9288",
   "metadata": {},
   "source": [
    "### Exemplo: Oscilador harmônico quântico"
   ]
  },
  {
   "cell_type": "code",
   "execution_count": 26,
   "id": "35cd7889-4e7c-466e-b247-663cd18ac7e4",
   "metadata": {},
   "outputs": [
    {
     "data": {
      "text/latex": [
       "$\\displaystyle \\begin{cases} \\frac{4 a m n \\left(\\left(-1\\right)^{m + n} - 1\\right)}{\\pi^{2} \\left(m^{4} - 2 m^{2} n^{2} + n^{4}\\right)} & \\text{for}\\: m \\neq n \\\\\\frac{a}{2} & \\text{otherwise} \\end{cases}$"
      ],
      "text/plain": [
       "Piecewise((4*a*m*n*((-1)**(m + n) - 1)/(pi**2*(m**4 - 2*m**2*n**2 + n**4)), Ne(m, n)), (a/2, True))"
      ]
     },
     "execution_count": 26,
     "metadata": {},
     "output_type": "execute_result"
    }
   ],
   "source": [
    "simplify(integrate((2/a)*x*sin(n*pi*x/a)*sin(m*pi*x/a),(x,0,a)))"
   ]
  },
  {
   "cell_type": "code",
   "execution_count": 16,
   "id": "38408b5a-9fa1-4823-85c5-96dea8636888",
   "metadata": {},
   "outputs": [
    {
     "data": {
      "text/latex": [
       "$\\displaystyle \\frac{\\sqrt{\\pi}}{2}$"
      ],
      "text/plain": [
       "sqrt(pi)/2"
      ]
     },
     "execution_count": 16,
     "metadata": {},
     "output_type": "execute_result"
    }
   ],
   "source": [
    "from sympy import exp, oo\n",
    "u = symbols('u')\n",
    "integrate(u**2*exp(-u**2),(u,-oo,oo))"
   ]
  },
  {
   "cell_type": "code",
   "execution_count": 18,
   "id": "c831e95b-741f-4c79-aa55-6c430073ac58",
   "metadata": {},
   "outputs": [
    {
     "data": {
      "text/latex": [
       "$\\displaystyle \\frac{3 \\sqrt{\\pi}}{4}$"
      ],
      "text/plain": [
       "3*sqrt(pi)/4"
      ]
     },
     "execution_count": 18,
     "metadata": {},
     "output_type": "execute_result"
    }
   ],
   "source": [
    "integrate(u**4*exp(-u**2),(u,-oo,oo))"
   ]
  },
  {
   "cell_type": "code",
   "execution_count": 27,
   "id": "b81843f0-f94e-43a8-a804-1c24338ac39d",
   "metadata": {},
   "outputs": [
    {
     "data": {
      "text/latex": [
       "$\\displaystyle 1.29289321881345$"
      ],
      "text/plain": [
       "1.29289321881345"
      ]
     },
     "execution_count": 27,
     "metadata": {},
     "output_type": "execute_result"
    }
   ],
   "source": [
    "from sympy import sqrt\n",
    "2-1/sqrt(2.)"
   ]
  },
  {
   "cell_type": "code",
   "execution_count": null,
   "id": "77ac4a21-ceea-4303-9a69-40d9fb40386e",
   "metadata": {},
   "outputs": [],
   "source": []
  }
 ],
 "metadata": {
  "kernelspec": {
   "display_name": "Python 3 (ipykernel)",
   "language": "python",
   "name": "python3"
  },
  "language_info": {
   "codemirror_mode": {
    "name": "ipython",
    "version": 3
   },
   "file_extension": ".py",
   "mimetype": "text/x-python",
   "name": "python",
   "nbconvert_exporter": "python",
   "pygments_lexer": "ipython3",
   "version": "3.12.2"
  }
 },
 "nbformat": 4,
 "nbformat_minor": 5
}
