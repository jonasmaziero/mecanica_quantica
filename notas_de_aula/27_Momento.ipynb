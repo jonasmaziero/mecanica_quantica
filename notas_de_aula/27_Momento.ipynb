{
 "cells": [
  {
   "cell_type": "markdown",
   "metadata": {},
   "source": [
    "### Notas de Aula de Mecânica Quântica<br>Autor: Jonas Maziero"
   ]
  },
  {
   "cell_type": "markdown",
   "metadata": {},
   "source": [
    "# Mecânica Quântica na base de momento linear\n",
    "\n",
    "Quase tudo que discutimos para a posição também vale para o momento linear. Em particular, \n",
    "\\begin{equation}\n",
    "P_{j}=P_{j}^{\\dagger},\\ P_{j}|p_{j}\\rangle=p_{j}|p_{j}\\rangle \\text{ com } p_{j}\\in\\mathbb{R}\n",
    "\\end{equation}\n",
    "e \n",
    "\\begin{equation}\n",
    "P_{j}=\\int_{-\\infty}^{+\\infty}p_{j}|p_{j}\\rangle\\langle p_{j}|dp_{j} \\text{ para } j=1,2,3.\n",
    "\\end{equation}\n",
    "Também podemos escrever o estado do sistema na base de momento linear\n",
    "\\begin{equation}\n",
    "|\\psi_{t}\\rangle = \\int d^{3}p \\psi_{t}(\\vec{p})|\\vec{p}\\rangle,\n",
    "\\end{equation}\n",
    "com \n",
    "$$\\psi_{t}(\\vec{p}) = \\langle\\vec{p}|\\psi_{t}\\rangle$$\n",
    "sendo a __função de onda na base do momento linear__. Se conhecemos a \"forma\" da energia potencial $U_{t}$ também podemos obter uma equação diferencial para esses coeficientes. No entanto, se temos $\\psi_{t}(\\vec{x})$ e queremos obter $\\psi_{t}(\\vec{p})$, podemos começar usando\n",
    "$$|\\psi_{t}\\rangle = \\int d^{3}x \\psi_{t}(\\vec{x})|\\vec{x}\\rangle$$\n",
    "olhando para\n",
    "\\begin{align}\n",
    "\\psi_{t}(\\vec{p}) & = \\langle \\vec{p}|\\psi_{t}\\rangle \\\\\n",
    "& = \\langle \\vec{p}|\\int d^{3}x \\psi_{t}(\\vec{x})|\\vec{x}\\rangle \\\\\n",
    "& = \\int d^{3}x \\psi_{t}(\\vec{x})\\langle \\vec{p}|\\vec{x}\\rangle.\n",
    "\\end{align}\n",
    "Nos falta assim obter $\\langle \\vec{p}|\\vec{x}\\rangle$. Vamos obter esse produto interno na sequência.\n",
    "\n",
    "Lembrando, $\\langle\\vec{x}|\\vec{P}|\\psi\\rangle = -i\\hbar\\vec{\\nabla}_{\\vec{x}}\\langle\\vec{x}|\\psi\\rangle$. Como essa equação vale para qualquer $|\\psi\\rangle$, podemos escrever\n",
    "\\begin{align}\n",
    "\\langle\\vec{x}|\\vec{P}|\\vec{p}\\rangle &= \\langle\\vec{x}|\\vec{p}|\\vec{p}\\rangle = \\vec{p}\\langle\\vec{x}|\\vec{p}\\rangle \\\\ \n",
    "& = -i\\hbar\\vec{\\nabla}_{\\vec{x}}\\langle\\vec{x}|\\vec{p}\\rangle.\n",
    "\\end{align}"
   ]
  },
  {
   "cell_type": "markdown",
   "metadata": {},
   "source": [
    "Para $C\\in\\mathbb{C}$, pode-se verificar que essa equação é satisfeita pela seguinte função\n",
    "\\begin{equation}\n",
    "\\langle\\vec{x}|\\vec{p}\\rangle = Ce^{i\\vec{p}\\cdot\\vec{x}/\\hbar}.\n",
    "\\end{equation}\n",
    "Para obter a constante, usamos a representação integral da função delta de Dirac\n",
    "\\begin{equation}\n",
    "\\delta(x-a) = \\frac{1}{2\\pi}\\int_{-\\infty}^{+\\infty}dp e^{ip(x-a)}\n",
    "\\end{equation}\n",
    "aplicada em\n",
    "\\begin{align}\n",
    "\\langle\\vec{x}|\\vec{x}'\\rangle & = (\\langle x_{1}|\\otimes\\langle x_{2}|\\otimes\\langle x_{3}|)(|x_{1}'\\rangle\\otimes|x_{2}'\\rangle\\otimes|x_{3}'\\rangle) \\\\\n",
    "& = \\Pi_{j=1}^{3}\\langle x_{j}|x_{j}'\\rangle \\\\\n",
    "& = \\Pi_{j=1}^{3}\\delta(x_{j}-x_{j}') \\\\ \n",
    "& = \\langle\\vec{x}|\\mathbb{I}|\\vec{x}'\\rangle \\\\\n",
    "& = \\int d^{3}p \\langle\\vec{x}|\\vec{p}\\rangle\\langle\\vec{p}|\\vec{x}'\\rangle \\\\ \n",
    "& = \\int d^{3}p Ce^{i\\vec{p}\\cdot\\vec{x}/\\hbar}C^{*}e^{-i\\vec{p}\\cdot\\vec{x}'/\\hbar} \\\\\n",
    "& = |C|^{2}\\int d^{3}p e^{i\\vec{p}\\cdot(\\vec{x}-\\vec{x}')/\\hbar} \\\\ \n",
    "& = |C|^{2}\\int d^{3}p e^{i(p_1 (x_1-x_1')+p_2 (x_2-x_2')+p_3 (x_3-x_3'))/\\hbar} \\\\ \n",
    "& = |C|^{2}(2\\pi)^{3}\\hbar^{3}\\Pi_{j=1}^{3}\\frac{1}{2\\pi}\\int d(p_{j}/\\hbar) e^{i(p_{j}/\\hbar)(x_{j}-x_{j}')} \\\\\n",
    "&= |C|^{2}(2\\pi\\hbar)^{3}\\Pi_{j=1}^{3}\\delta(x_{j}-x_{j}').\n",
    "\\end{align}\n",
    "Se usamos $C\\in\\mathbb{R}$, então $C=1/(2\\pi\\hbar)^{3/2}$ e\n",
    "\\begin{equation}\n",
    "\\langle\\vec{x}|\\vec{p}\\rangle = \\frac{1}{(2\\pi\\hbar)^{3/2}}e^{i\\vec{p}\\cdot\\vec{x}/\\hbar}.\n",
    "\\end{equation}\n",
    "\n",
    "Ou seja, as funções de onda nas bases de posição e de momento linear estão relacionadas pela __transformada de Fourier__ e pela transformada de Fourier inversa:\n",
    "\\begin{align}\n",
    "\\psi(\\vec{p}) & = \\frac{1}{(2\\pi\\hbar)^{3/2}}\\int d^{3}x e^{-i\\vec{p}\\cdot\\vec{x}/\\hbar}\\psi(\\vec{x}), \\\\\n",
    "\\psi(\\vec{x}) & = \\frac{1}{(2\\pi\\hbar)^{3/2}}\\int d^{3}p e^{i\\vec{p}\\cdot\\vec{x}/\\hbar}\\psi(\\vec{p}).\n",
    "\\end{align}"
   ]
  },
  {
   "cell_type": "markdown",
   "metadata": {},
   "source": [
    "__Integral completando quadrados__\n",
    "\n",
    "A seguir, usaremos repetidas vezes uma integral com a seguinte forma\n",
    "$$\\int_{-\\infty}^{\\infty}dx\\exp(-ax^2 +bx) = \\sqrt{\\pi/a}e^{b^2/4a}.$$\n",
    "Essa integral pode ser obtida completando quadrados como segue\n",
    "\\begin{align}\n",
    "\\int_{-\\infty}^{\\infty}dx\\exp(-ax^2 +bx) & = \\int_{-\\infty}^{\\infty}dx\\exp\\big(-(\\sqrt{a}x - b/2\\sqrt{a})^2+b^2/4a\\big) \\\\\n",
    "& = \\exp(b^2/4a)\\int_{-\\infty}^{\\infty}(dy/\\sqrt{a})\\exp\\big(-y^2\\big) \\\\\n",
    "& = \\sqrt{\\pi/a}\\exp(b^2/4a),\n",
    "\\end{align}\n",
    "em que usamos a troca de variável\n",
    "$$y = \\sqrt{a}x - \\frac{b}{2\\sqrt{a}}\\ \\therefore\\ dy = \\sqrt{a}dx.$$\n",
    "$\\square$"
   ]
  },
  {
   "cell_type": "markdown",
   "metadata": {},
   "source": [
    "## Exemplo: Pacote Gaussiano\n",
    "A função de onda que nos fornece o pacote de ondas Gaussiano em uma dimensão centrado em $x=0$ lê-se:\n",
    "\\begin{equation}\n",
    "\\psi_{G}(x) = \\frac{1}{\\pi^{1/4}d^{1/2}}e^{ikx-x^{2}/2d^{2}}\\ \\therefore\\ |\\psi_{G}(x)|^{2} = \\frac{1}{\\pi^{1/2}d}e^{-x^{2}/d^{2}},\n",
    "\\end{equation}\n",
    "com $k,d\\in\\mathbb{R}$. Teremos assim que a função de onda na base de momento linear é\n",
    "\\begin{align}\n",
    "\\psi(p) & = (2\\pi\\hbar)^{-1/2}\\int_{-\\infty}^{+\\infty}e^{-ipx/\\hbar}\\psi_{G}(x)dx \\\\\n",
    "& = (2\\pi\\hbar)^{-1/2}\\pi^{-1/4}d^{-1/2}\\int_{-\\infty}^{+\\infty}e^{-\\hbar^{-1}ipx}e^{ikx-2^{-1}d^{-2}x^{2}}dx \\\\\n",
    "& = (2\\hbar)^{-1/2}\\pi^{-3/4}d^{-1/2}\\int_{-\\infty}^{+\\infty}e^{-i\\hbar^{-1}(p-\\hbar k)x-2^{-1}d^{-2}x^{2}}dx \\\\\n",
    "& = (2\\hbar)^{-1/2}\\pi^{-3/4}d^{-1/2}\\int_{-\\infty}^{+\\infty}e^{-\\left(2^{-1/2}di\\hbar^{-1}(p-\\hbar k)+2^{-1/2}d^{-1}x\\right)^2}e^{-2^{-1}d^{2}\\hbar^{-2}(p-\\hbar k)^{2}}dx,\n",
    "\\end{align}\n",
    "em que completamos quadrados para obter a última expressão. Fazendo a seguinte mudança de variável: \n",
    "$$y = 2^{-1/2}di\\hbar^{-1}(p-\\hbar k)+2^{-1/2}d^{-1}x\\ \\therefore\\ dy = 2^{-1/2}d^{-1}dx$$\n",
    "obtemos\n",
    "\\begin{align}\n",
    "\\psi(p) & = (2\\hbar)^{-1/2}\\pi^{-3/4}d^{-1/2}e^{-2^{-1}d^{2}\\hbar^{-2}(p-\\hbar k)^{2}}\\int_{-\\infty}^{+\\infty}e^{-y^{2}}dy2^{1/2}d \\\\\n",
    "& = \\hbar^{-1/2}\\pi^{-3/4}d^{1/2}e^{-2^{-1}d^{2}\\hbar^{-2}(p-\\hbar k)^{2}}\\pi^{1/2} \\\\\n",
    "& = \\hbar^{-1/2}\\pi^{-1/4}d^{1/2}e^{-2^{-1}d^{2}\\hbar^{-2}(p-\\hbar k)^{2}}.\n",
    "\\end{align}"
   ]
  },
  {
   "cell_type": "markdown",
   "metadata": {},
   "source": [
    "Lembrando, para $n\\in\\mathbb{N_{>0}}$ temos $\\langle X^{n}\\rangle_{\\psi} = \\int_{-\\infty}^{\\infty}x^{n}|\\psi(x)|^{2}dx$ e $\\langle P^{n}\\rangle_{\\psi} = \\int_{-\\infty}^{\\infty}\\psi^{*}(x)(-i\\hbar\\partial_{x})^{n}\\psi(x)dx$. Assim\n",
    "\\begin{align}\n",
    "\\langle X\\rangle_{\\psi_{G}} & = \\int_{-\\infty}^{+\\infty}x|\\psi_{G}(x)|^{2}dx \\\\\n",
    "& = \\frac{1}{\\pi^{1/2}d}\\int_{-\\infty}^{+\\infty}xe^{ikx-x^{2}/2d^{2}}e^{-ikx-x^{2}/2d^{2}}dx \\\\\n",
    "& = \\frac{1}{\\pi^{1/2}d}\\int_{-\\infty}^{+\\infty}xe^{-x^{2}/d^{2}}dx \\\\\n",
    "& = 0,\n",
    "\\end{align}\n",
    "pois a função sendo integrada é ímpar. Para o quadrado da posição usa o truque de Feynman:\n",
    "\\begin{align}\n",
    "\\langle X^{2}\\rangle_{\\psi_{G}} & = \\int_{-\\infty}^{+\\infty}x^{2}|\\psi_{G}(x)|^{2}dx \\\\\n",
    "& = \\frac{1}{\\pi^{1/2}d}\\int_{-\\infty}^{+\\infty}x^{2}e^{-x^{2}/d^{2}}dx \\\\\n",
    "& = -\\frac{1}{\\pi^{1/2}d}\\partial_{d^{-2}}\\int_{-\\infty}^{+\\infty}e^{-d^{-2}x^{2}}dx \\\\\n",
    "& = -\\frac{1}{\\pi^{1/2}d}\\partial_{d^{-2}}\\sqrt{\\pi/d^{-2}} \\\\\n",
    "& = -\\frac{1}{d}\\partial_{d^{-2}}(d^{-2})^{-1/2} \\\\\n",
    "& = -\\frac{1}{d}(-1/2)(d^{-2})^{-3/2} \\\\\n",
    "& = \\frac{d^{2}}{2}.\n",
    "\\end{align}"
   ]
  },
  {
   "cell_type": "markdown",
   "metadata": {},
   "source": [
    "Usando \n",
    "$$\\partial_{x}\\psi(x) = \\partial_{x}\\frac{1}{\\pi^{1/4}d^{1/2}}e^{ikx-x^{2}/2d^{2}} = \\psi(x)(ik-x/d^{2})$$\n",
    "teremos\n",
    "\\begin{align}\n",
    "\\langle P\\rangle &= \\int_{-\\infty}^{+\\infty}dx\\psi(x)^{*}\\frac{\\hbar}{i}\\frac{\\partial}{\\partial x}\\psi(x) \\\\\n",
    "& = \\frac{\\hbar}{i}\\int_{-\\infty}^{+\\infty}dx\\frac{1}{\\pi^{1/4}d^{1/2}}e^{-ikx-x^{2}/2d^{2}}\\frac{1}{\\pi^{1/4}d^{1/2}}e^{ikx-x^{2}/2d^{2}}(ik-x/d^{2}) \\\\\n",
    "& = \\frac{\\hbar}{i}\\frac{1}{\\pi^{1/2}d}\\int_{-\\infty}^{+\\infty}dxe^{-ikx-x^{2}/2d^{2}}e^{ikx-x^{2}/2d^{2}}(ik-x/d^{2}) \\\\\n",
    "&  = \\frac{\\hbar}{i}\\frac{1}{\\pi^{1/2}d}\\big(ik\\int_{-\\infty}^{+\\infty}dxe^{-x^{2}/d^{2}} + \\frac{1}{d^{2}}\\int_{-\\infty}^{+\\infty}dxe^{-x^{2}/d^{2}}x \\big)  \\\\\n",
    "& = \\frac{\\hbar}{i}\\frac{1}{\\pi^{1/2}d}\\big(ik\\sqrt{\\pi d^{2}} + \\frac{1}{d^{2}}0 \\big) \\\\\n",
    "&= \\hbar k.\n",
    "\\end{align}"
   ]
  },
  {
   "cell_type": "markdown",
   "metadata": {},
   "source": [
    "Ademais, usando \n",
    "\\begin{align}\n",
    "\\partial_{xx}\\psi(x) & = \\partial_x\\big(\\psi(x)(ik-x/d^{2})\\big) \\\\\n",
    "& = (\\partial_{x}\\psi(x))(ik-x/d^{2}) + \\psi(x)(0-1/d^{2})  \\\\\n",
    "& = \\psi(x)(ik-x/d^{2})(ik-x/d^{2}) + \\psi(x)(0-1/d^{2}) \\\\\n",
    "& = \\psi(x)\\big(-k^{2}-2ikx/d^{2}+x^{2}/d^{4}-1/d^{2}\\big)\n",
    "\\end{align}\n",
    "e \n",
    "$$\\int_{-\\infty}^{\\infty} x^{2}e^{-ax^{2}}dx = \\sqrt{\\pi/4 a^{3}}$$\n",
    "teremos que\n",
    "\\begin{align}\n",
    "\\langle P^{2}\\rangle & = \\int_{-\\infty}^{+\\infty}dx\\psi(x)^{*}\\left(\\frac{\\hbar}{i}\\frac{\\partial}{\\partial x}\\right)^{2}\\psi(x) \\\\\n",
    "&= -\\hbar^{2}\\int_{-\\infty}^{+\\infty}dx\\psi(x)^{*}\\partial_{xx}\\psi(x) \\\\\n",
    "&  = -\\hbar^{2}\\int_{-\\infty}^{+\\infty}dx\\psi(x)^{*}\\psi(x)\\big(-k^{2}-1/d^{2}-2ikx/d^{2}+x^{2}/d^{4}\\big) \\\\\n",
    "& = \\frac{\\hbar^{2}}{\\pi^{1/2}d}\\left( (k^{2}+1/d^{2})\\int_{-\\infty}^{\\infty}dxe^{-x^{2}/d^{2}} + \\frac{2ik}{d^{2}}\\int_{-\\infty}^{\\infty}dxe^{-x^{2}/d^{2}}x  - \\frac{1}{d^{4}}\\int_{-\\infty}^{\\infty}dxe^{-x^{2}/d^{2}}x^{2} \\right) \\\\\n",
    "& = \\frac{\\hbar^{2}}{\\pi^{1/2}d}\\left( (k^{2}+1/d^{2})\\sqrt{\\pi d^{2}} + \\frac{2ik}{d^{2}}0  - \\frac{1}{d^{4}}\\sqrt{\\frac{\\pi d^{6}}{4}} \\right) \\\\\n",
    "& = \\frac{\\hbar^{2}}{\\pi^{1/2}d}\\left( (k^{2}+1/d^{2})\\sqrt{\\pi d^{2}} - \\frac{\\sqrt{\\pi}d}{2d^{2}} \\right) \\\\\n",
    "& = \\hbar^{2}(k^{2}+1/(2d^{2})).\n",
    "\\end{align}"
   ]
  },
  {
   "cell_type": "markdown",
   "metadata": {},
   "source": [
    "As variâncias são então dadas por\n",
    "\\begin{align}\n",
    "\\mathrm{Var}(X)& =\\langle X^{2}\\rangle-\\langle X\\rangle^{2} = 2^{-1}d^{2}, \\\\\n",
    "\\mathrm{Var}(P)&=\\langle P^{2}\\rangle-\\langle P\\rangle^{2} = \\hbar^{2}d^{-2}2^{-1}.\n",
    "\\end{align}\n",
    "Isso nos leva a \n",
    "\\begin{equation}\n",
    "\\mathrm{Var}(X)\\mathrm{Var}(P)=\\hbar^{2}/4,\n",
    "\\end{equation}\n",
    "que é o mínimo possível na relação de incerteza de Heisenberg, que será discutida mais adiante. Abaixo usamos o Sympy para fazer as contas detalhadas acima."
   ]
  },
  {
   "cell_type": "code",
   "execution_count": 16,
   "metadata": {},
   "outputs": [
    {
     "data": {
      "text/plain": [
       "(1.00000000000000, 0, d**2/2)"
      ]
     },
     "execution_count": 16,
     "metadata": {},
     "output_type": "execute_result"
    }
   ],
   "source": [
    "from sympy import symbols, cos, sin, exp, pi, sqrt, integrate, simplify, conjugate, oo\n",
    "\n",
    "def psi_gauss_x(kx,d,x):\n",
    "    return ((cos(kx*x)+1j*sin(kx*x))*(exp(-x**2/(2*d**2))))/(pi**(1/4)*sqrt(d))\n",
    "\n",
    "kx, d = symbols('k_{x} d', real=True, positive=True); x = symbols('x', real=True)\n",
    "norm = integrate(simplify(psi_gauss_x(kx,d,x)*conjugate(psi_gauss_x(kx,d,x))),(x,-oo,+oo)) # ok!\n",
    "xm = integrate(x*exp(-x**2/d**2)/(sqrt(pi)*d),(x,-oo,+oo)) # valor médio de x\n",
    "x2m = integrate(x**2*exp(-x**2/d**2)/(sqrt(pi)*d),(x,-oo,+oo)) # valor médio de x^2\n",
    "norm, xm, x2m"
   ]
  },
  {
   "cell_type": "markdown",
   "metadata": {},
   "source": [
    "As respectivas densidades de probabilidade são\n",
    "\\begin{align}\n",
    "& |\\psi_{G}(x)|^{2} = \\frac{1}{\\pi^{1/2}d} e^{-x^{2}/d^{2}}, \\\\\n",
    "& |\\psi_{G}(p)|^{2} = \\frac{d}{\\hbar\\sqrt{\\pi}}e^{-d^{2}(p-\\hbar k)^{2}/\\hbar^{2}}.\n",
    "\\end{align}\n",
    "Visualize as respectivas densidades de probabilidade abaixo (usamos $\\hbar=1$)."
   ]
  },
  {
   "cell_type": "code",
   "execution_count": 33,
   "metadata": {},
   "outputs": [
    {
     "data": {
      "application/vnd.jupyter.widget-view+json": {
       "model_id": "b05c66b5ae864cd0b22cbba36ce1e1a0",
       "version_major": 2,
       "version_minor": 0
      },
      "text/plain": [
       "interactive(children=(FloatSlider(value=2.5500000000000003, description='d', max=5.0, min=0.1), IntSlider(valu…"
      ]
     },
     "execution_count": 33,
     "metadata": {},
     "output_type": "execute_result"
    }
   ],
   "source": [
    "from matplotlib import pyplot as plt\n",
    "from ipywidgets import interactive\n",
    "import numpy as np\n",
    "\n",
    "def gaussian(d,kx):\n",
    "    import matplotlib; matplotlib.rcParams.update({'font.size':12}); \n",
    "    plt.figure(figsize = (5,4), dpi = 100)\n",
    "    hb = 1; x = np.linspace(-10.0, 10.0, num=200); \n",
    "    p = np.linspace(-10.0, 10.0, num=200)\n",
    "    y1 = np.exp(-pow(x,2)/pow(d,2))/(np.sqrt(np.pi)*d)\n",
    "    y2 = d*np.exp(-pow(d,2)*pow(p-hb*kx,2)/pow(hb,2))/(hb*np.sqrt(np.pi))\n",
    "    plt.subplot(2, 1, 1); plt.plot(x, y1, '-.')\n",
    "    plt.title('$x$'); plt.ylabel('$|psi(x)|^{2}$'); \n",
    "    plt.subplot(2, 1, 2); plt.plot(p, y2, '--'); \n",
    "    plt.xlabel('$p_{x}$'); plt.ylabel('$|psi(p_{x})|^{2}$')\n",
    "    plt.show()\n",
    "interactive(gaussian, d = (0.1,5), kx = (-5,5))"
   ]
  },
  {
   "cell_type": "markdown",
   "metadata": {},
   "source": [
    "## Evolução do pacote gaussiano para uma partícula livre\n",
    "Consideremos um quanton se movimentanto em __uma dimensão__ com função de onda inicial na base de posição \n",
    "$$\\Psi(x,0) = \\psi_{G}(x) = \\frac{1}{\\pi^{1/4}d^{1/2}}e^{ikx-x^{2}/2d^{2}}.$$\n",
    "Vimos que neste caso a função de onda na base de momento linear é\n",
    "$$\\Psi(p,0) = \\psi(p) = \\hbar^{-1/2}\\pi^{-1/4}d^{1/2}e^{-2^{-1}d^{2}\\hbar^{-2}(p-\\hbar k)^{2}}.$$\n",
    "Se este quanton está livre, o operador hamiltoniano fica escrito como\n",
    "$$H = \\frac{P^2}{2m}.$$"
   ]
  },
  {
   "cell_type": "markdown",
   "metadata": {},
   "source": [
    "Como podemos escrever qualquer estado como uma combinação linear dos autovetores do operador momento linear, i.e., $|\\psi\\rangle=\\int_{-\\infty}^{\\infty}dp \\psi(p)|p\\rangle$, podemos fazer isso para o estado inicial\n",
    "$$|\\Psi_0\\rangle = \\int_{-\\infty}^{\\infty}dp \\Psi(p,0)|p\\rangle.$$\n",
    "Assim, o estado evoluído no tempo pode ser obtido como segue\n",
    "\\begin{align}\n",
    "|\\Psi_t\\rangle & = U_t|\\Psi_0\\rangle \\\\\n",
    "& = e^{-iHt/\\hbar}|\\Psi_0\\rangle \\\\\n",
    "& = e^{-iP^2 t/2m\\hbar}\\int_{-\\infty}^{\\infty}dp \\Psi(p,0)|p\\rangle \\\\\n",
    "& = \\int_{-\\infty}^{\\infty}dp \\Psi(p,0)e^{-iP^2 t/2m\\hbar}|p\\rangle \\hspace{1cm} (\\star) \\\\\n",
    "& = \\int_{-\\infty}^{\\infty}dp \\Psi(p,0)e^{-ip^2 t/2m\\hbar}|p\\rangle \\hspace{1cm} (\\star\\star)  \\\\\n",
    "& = \\int_{-\\infty}^{\\infty}dp \\hbar^{-1/2}\\pi^{-1/4}d^{1/2}e^{-2^{-1}d^{2}\\hbar^{-2}(p-\\hbar k)^{2}}e^{-ip^2 t/2m\\hbar}|p\\rangle.\n",
    "\\end{align}"
   ]
  },
  {
   "cell_type": "markdown",
   "metadata": {},
   "source": [
    "Usando \n",
    "$$\\langle x|p\\rangle = \\frac{1}{(2\\pi\\hbar)^{1/2}}e^{ipx/\\hbar}$$\n",
    "teremos que\n",
    "\\begin{align}\n",
    "& \\Psi(x,t) = \\langle x|\\Psi_t\\rangle \\\\\n",
    "& = \\langle x|\\int_{-\\infty}^{\\infty}dp \\hbar^{-1/2}\\pi^{-1/4}d^{1/2}e^{-2^{-1}d^{2}\\hbar^{-2}(p-\\hbar k)^{2}}e^{-ip^2 t/2m\\hbar}|p\\rangle \\\\\n",
    "& = \\int_{-\\infty}^{\\infty}dp \\hbar^{-1/2}\\pi^{-1/4}d^{1/2}e^{-2^{-1}d^{2}\\hbar^{-2}(p-\\hbar k)^{2}}e^{-ip^2 t/2m\\hbar} \\langle x|p\\rangle \\\\\n",
    "& = \\int_{-\\infty}^{\\infty}dp \\hbar^{-1/2}\\pi^{-1/4}d^{1/2}e^{-2^{-1}d^{2}\\hbar^{-2}(p-\\hbar k)^{2}}e^{-ip^2 t/2m\\hbar} \\frac{1}{(2\\pi\\hbar)^{1/2}}e^{ipx/\\hbar} \\\\\n",
    "& = \\frac{d^{1/2}}{2^{1/2}\\pi^{3/4}\\hbar}\\int_{-\\infty}^{\\infty}dp e^{-2^{-1}d^{2}\\hbar^{-2}(p-\\hbar k)^{2}}e^{-ip^2 t/2m\\hbar}e^{ipx/\\hbar} \\\\\n",
    "& = \\Big(\\frac{1}{\\pi d^2}\\Big)^{1/4}\\frac{1}{\\sqrt{1 + \\frac{it\\hbar}{md^2}}}\\exp\\Big(\\frac{-i\\hbar k^2 d^2 t/2m + ikd^2x - x^2/2 }{d^2\\big(1 + \\frac{it\\hbar}{md^2}\\big)}\\Big) \\\\\n",
    "\\end{align}"
   ]
  },
  {
   "cell_type": "markdown",
   "metadata": {},
   "source": [
    "em que usamos\n",
    "\\begin{align}\n",
    "I & = \\int_{-\\infty}^{\\infty}dp e^{-2^{-1}d^{2}\\hbar^{-2}(p-\\hbar k)^{2}}e^{-ip^2 t/2m\\hbar}e^{ipx/\\hbar} \\\\\n",
    "& = \\int_{-\\infty}^{\\infty}dp e^{-(p^2-2\\hbar kp+\\hbar^2 k^2)d^2 /2\\hbar^2}e^{-ip^2 t/2m\\hbar}e^{ipx/\\hbar} \\\\\n",
    "& = e^{-k^2 d^2 /2}\\int_{-\\infty}^{\\infty}dp e^{-(d^2/2\\hbar^2 +it/2m\\hbar)p^2 + (kd^2 /\\hbar + ix/\\hbar)p} \\\\\n",
    "& =: e^{-k^2 d^2 /2}\\int_{-\\infty}^{\\infty}dp e^{-(bp^2 - cp)} \\\\\n",
    "& =: e^{-k^2 d^2 /2}\\int_{-\\infty}^{\\infty}dp e^{-(\\sqrt{b}p - c/2\\sqrt{b})^2 + c^2 /4b} \\\\\n",
    "& =: e^{-k^2 d^2 /2 + c^2 /4b}\\int_{-\\infty}^{\\infty}\\frac{dy}{\\sqrt{b}} e^{-y^2} \\\\\n",
    "& =: e^{-k^2 d^2 /2 + c^2 /4b}\\sqrt{\\frac{\\pi}{b}} \\\\\n",
    "& =: \\sqrt{\\frac{\\pi}{b}}\\exp\\Big(\\frac{-4bk^2 d^2 /2 + c^2 }{4b}\\Big) \\\\\n",
    "\\end{align}\n",
    "onde definimos\n",
    "\\begin{align}\n",
    "& b := \\frac{d^2}{2\\hbar^2} + \\frac{it}{2m\\hbar}, \\\\\n",
    "& c := \\frac{kd^2}{\\hbar} + \\frac{ix}{\\hbar},\n",
    "\\end{align}\n",
    "e fizemos a mudança de variável\n",
    "$$y = \\sqrt{b}p - \\frac{c}{2\\sqrt{b}}\\ \\therefore\\ dy = \\sqrt{b}dp.$$"
   ]
  },
  {
   "cell_type": "markdown",
   "metadata": {},
   "source": [
    "Acima também usamos\n",
    "\\begin{align}\n",
    "& \\frac{d^{1/2}}{2^{1/2}\\pi^{3/4}\\hbar}\\sqrt{\\frac{\\pi}{b}} = \\frac{d^{1/2}}{2^{1/2}\\pi^{3/4}\\hbar}\\sqrt{\\frac{\\pi}{\\frac{d^2}{2\\hbar^2} + \\frac{it}{2m\\hbar}}} = \\frac{d^{1/2}}{2^{1/2}\\pi^{3/4}\\hbar}\\frac{\\pi^{1/2}}{\\sqrt{\\frac{d^2}{2\\hbar^2}}\\sqrt{1 + \\frac{it}{2m\\hbar}\\frac{2\\hbar^2}{d^2}}} \\\\\n",
    "& = \\frac{1}{\\pi^{1/4}d^{1/2}}\\frac{1}{\\sqrt{1 + \\frac{it\\hbar}{2m d^2}}}\n",
    "\\end{align}\n",
    "e\n",
    "\\begin{align}\n",
    "& \\frac{-4k^2 d^2b/2 + c^2}{4b} = \\frac{-2k^2 d^2\\Big(\\frac{d^2}{2\\hbar^2}+\\frac{it}{2m\\hbar}\\Big) + \\Big(\\frac{kd^2}{\\hbar}+\\frac{ix}{\\hbar}\\Big)^2}{4\\Big(\\frac{d^2}{2\\hbar^2 }+\\frac{it}{2m\\hbar}\\Big)} \\\\\n",
    "& = \\frac{\\frac{-2k^2 d^2}{\\hbar^2}\\Big(\\frac{d^2}{2}+\\frac{it\\hbar}{2m}\\Big) + \\frac{2}{2\\hbar^2}\\Big(kd^2+ix\\Big)^2}{4\\frac{d^2}{2\\hbar^2 }\\Big(1+\\frac{it}{2m\\hbar}\\frac{2\\hbar^2 }{d^2}\\Big)} = \\frac{-\\frac{k^2d^4}{2}-\\frac{k^2 d^2 it\\hbar}{2m} + \\frac{k^2 d^4}{2} - \\frac{x^2}{2} + kd^2 ix}{d^2\\Big(1+\\frac{it\\hbar}{2md^2\\hbar}\\Big)} \\\\\n",
    "& = \\frac{-\\frac{k^2 d^2 it\\hbar}{2m} - \\frac{x^2}{2} + kd^2 ix}{d^2\\Big(1+\\frac{it\\hbar}{2md^2\\hbar}\\Big)}.\n",
    "\\end{align}"
   ]
  },
  {
   "cell_type": "markdown",
   "metadata": {},
   "source": [
    "Teremos assim a densidade de probabilidade\n",
    "\\begin{align}\n",
    "|\\Psi(x,t)|^2 & = \\Big(\\frac{1}{\\pi d^2}\\Big)^{1/2}\\frac{1}{\\sqrt{1 + \\frac{it\\hbar}{md^2}}}\\exp\\Big(\\frac{-i\\hbar k^2 d^2 t/2m + ikd^2x - x^2/2 }{d^2\\big(1 + \\frac{it\\hbar}{md^2}\\big)}\\Big)\\frac{1}{\\sqrt{1 - \\frac{it\\hbar}{md^2}}}\\exp\\Big(\\frac{i\\hbar k^2 d^2 t/2m - ikd^2x - x^2/2 }{d^2\\big(1 - \\frac{it\\hbar}{md^2}\\big)}\\Big) \\\\\n",
    "& = \\Big(\\frac{1}{\\pi d^2}\\Big)^{1/2}\\frac{1}{\\sqrt{1 + \\big(\\frac{t\\hbar}{md^2}\\big)^2}}\\exp\\Big(\\frac{-i\\hbar k^2 d^2 t/2m + ikd^2x - x^2/2 }{d^2\\big(1 + \\frac{it\\hbar}{md^2}\\big)}+\\frac{i\\hbar k^2 d^2 t/2m - ikd^2x - x^2/2 }{d^2\\big(1 - \\frac{it\\hbar}{md^2}\\big)}\\Big) \\\\\n",
    "& = \\Big(\\frac{1}{\\pi d^2}\\Big)^{1/2}\\frac{1}{\\sqrt{1 + \\big(\\frac{t\\hbar}{md^2}\\big)^2}}\\exp\\Big(\\frac{\\big(1 - \\frac{it\\hbar}{md^2}\\big)\\big(-i\\hbar k^2 d^2 t/2m + ikd^2x - x^2/2\\big) + \\big(1 + \\frac{it\\hbar}{md^2}\\big)\\big(i\\hbar k^2 d^2 t/2m - ikd^2x - x^2/2\\big)  }{d^2\\big(1 + \\frac{it\\hbar}{md^2}\\big)\\big(1 - \\frac{it\\hbar}{md^2}\\big)}\\Big) \\\\\n",
    "& = \\frac{1}{\\sqrt{\\pi d^2\\big(1 + \\big(\\frac{t\\hbar}{md^2}\\big)^2}\\big)}\\exp\\Big(\\frac{-\\Big(x-\\frac{\\hbar k t}{m}\\Big)^2 }{d^2\\big(1 + \\big(\\frac{t\\hbar}{md^2}\\big)^2\\big)}\\Big) \\\\\n",
    "& = \\frac{1}{\\sqrt{\\pi d_t^2}}\\exp\\left(\\frac{-\\Big(x-\\frac{\\hbar k t}{m}\\Big)^2}{2d_t^2/2}\\right) \\\\\n",
    "\\end{align}"
   ]
  },
  {
   "cell_type": "markdown",
   "metadata": {},
   "source": [
    "com\n",
    "\\begin{align}\n",
    "& -x^2-2\\frac{t\\hbar}{md^2}\\Big(d^2 kx - \\frac{d^2 \\hbar k^2 t}{2m}\\Big) = -x^2 + 2\\frac{\\hbar k t}{m}x - \\frac{\\hbar^2 k^2 t^2}{m^2} \\\\\n",
    "& = -\\Big(x-\\frac{\\hbar k t}{m}\\Big)^2,\n",
    "\\end{align}\n",
    "em que\n",
    "$$\\langle P(0)\\rangle = \\hbar k,$$\n",
    "e\n",
    "$$d_t = d\\sqrt{1 + \\big(\\frac{t\\hbar}{md^2}\\big)^2}.$$\n",
    "Assim\n",
    "$$Var(X(t)) = \\frac{d_t^2}{2} = \\frac{d^2}{2} \\Big(1 + \\big(\\frac{t\\hbar}{md^2}\\big)^2\\Big).$$\n",
    "\n",
    "Vemos assim que o pacote de ondas continua sendo gaussiano. Ademais, vemos que a largura do pacote de ondas aumenta com uma dependência quadrática com o tempo."
   ]
  },
  {
   "cell_type": "code",
   "execution_count": 42,
   "metadata": {},
   "outputs": [
    {
     "data": {
      "application/vnd.jupyter.widget-view+json": {
       "model_id": "6b6c2dbfa6ef49b1837692528994b6f0",
       "version_major": 2,
       "version_minor": 0
      },
      "text/plain": [
       "interactive(children=(FloatSlider(value=2.5004999999999997, description='t', max=5.0, min=0.001), Output()), _…"
      ]
     },
     "execution_count": 42,
     "metadata": {},
     "output_type": "execute_result"
    }
   ],
   "source": [
    "def gaussian_free(t):\n",
    "    import matplotlib; matplotlib.rcParams.update({'font.size':12})\n",
    "    from matplotlib import pyplot as plt\n",
    "    plt.figure(figsize = (5,4), dpi = 100)\n",
    "    x = np.arange(-10, 10, 0.1)\n",
    "    d = 1; hbb = 1; m=1\n",
    "    dt = (0.5*d**2)*(1+((t*hbb)/(m*d**2))**2)\n",
    "    y = (1/(sqrt(pi)*dt))*np.exp(-x**2/dt**2)\n",
    "    plt.plot(x, y)\n",
    "    plt.xlim(-10,10); plt.ylim(0,1); \n",
    "    plt.xlabel(r'$x$'); plt.ylabel(r'$|\\Psi(x,t)|^{2}$'); \n",
    "    plt.show()\n",
    "interactive(gaussian_free, t = (0.001,5))"
   ]
  },
  {
   "cell_type": "code",
   "execution_count": 44,
   "metadata": {},
   "outputs": [
    {
     "data": {
      "text/plain": [
       "409968000000000000"
      ]
     },
     "execution_count": 44,
     "metadata": {},
     "output_type": "execute_result"
    }
   ],
   "source": [
    "t_universe = 13*10**9*365*24*60*60; t_universe # 4x10^17 s"
   ]
  },
  {
   "cell_type": "code",
   "execution_count": 46,
   "metadata": {},
   "outputs": [],
   "source": [
    "import math\n",
    "h = 6.626069*10**-34 # Js (constante de Planck)\n",
    "hb = h/(2*math.pi) # hbar\n",
    "me = 9.109382*10**-31 # kg (massa do elétron)\n",
    "c = 2.99792458*10**8 # m/s (velocidade da luz no vácuo)"
   ]
  },
  {
   "cell_type": "code",
   "execution_count": 48,
   "metadata": {},
   "outputs": [
    {
     "data": {
      "text/plain": [
       "1.1262745359335592e+45"
      ]
     },
     "execution_count": 48,
     "metadata": {},
     "output_type": "execute_result"
    }
   ],
   "source": [
    "dt = (((10**-9)**2)/2)*(1 + ((t_universe*hb)/(me*((10**-9)**2)))**2) # tamanho do pacote de ondas\n",
    "dt"
   ]
  },
  {
   "cell_type": "code",
   "execution_count": 50,
   "metadata": {},
   "outputs": [
    {
     "data": {
      "text/plain": [
       "8.67201249067776e+26"
      ]
     },
     "execution_count": 50,
     "metadata": {},
     "output_type": "execute_result"
    }
   ],
   "source": [
    "Su = 93*10**9*360*24*60*60*c # tamanho do universo visível, em metros\n",
    "Su"
   ]
  },
  {
   "cell_type": "code",
   "execution_count": 52,
   "metadata": {},
   "outputs": [
    {
     "data": {
      "text/plain": [
       "1.2987464410876736e+18"
      ]
     },
     "execution_count": 52,
     "metadata": {},
     "output_type": "execute_result"
    }
   ],
   "source": [
    "dt/Su # tamanho do pacote de ondas em frente ao tamanho do universo"
   ]
  },
  {
   "cell_type": "markdown",
   "metadata": {},
   "source": [
    "#### Exemplo\n",
    "O universo tem certa de $13.77$ bilhões de anos. Consideremos um elétron que foi criado há \n",
    "$$t = 13 \\text{ bilhões de anos,}$$\n",
    "com uma função de onda gaussina com largura em posição\n",
    "$$d=10^{-9}\\text{ m}.$$ \n",
    "A largura do pacote de ondas desse elétron hoje seria\n",
    "$$d_t \\approx 10^{45}\\text{ m}.$$\n",
    "Considerando que o tamanho do universo visível é estimado ser\n",
    "$$S_u = 10^{26} \\text{ m},$$\n",
    "vemos que o elétron seria muito maior que o universo como um todo:\n",
    "$$d_t \\approx 10^{18}S_u.$$\n",
    "\n",
    "__Especulativamente__, observo que, por exemplo, se um elétron é criado no espaço vazio, e passa um tempo suficiente para que seu pacote de ondas cresça ao ponto de que parte dele se sobreponha com matéria (estrelas, planetas, poeira, parte da função de onda de outros quantons extensos), e ocorrer uma medida projetiva de posição, o elétron assumirá uma posição bem definida, passando a fazer parte e.g. daquela estrela. Esse seria um _mecanismo de aumento de massa de agregados_, pois a partir de então repetidas medidas de posição seriam feitas e o elétron ficaria localizado naquela região."
   ]
  },
  {
   "cell_type": "markdown",
   "metadata": {
    "tags": []
   },
   "source": [
    "## Equação de Schrödinger na base de momento linear\n",
    "\n",
    "Tomamos o produto interno de um autovetor de momento, $|\\vec{p}\\rangle$, com a equação de Schrödinger para o estado, $i\\hbar\\partial_t|\\psi_t\\rangle=H_t|\\psi_t\\rangle$, obtendo\n",
    "\\begin{align}\n",
    "& \\langle\\vec{p}|i\\hbar\\partial_t|\\psi_t\\rangle = i\\hbar\\partial_t\\langle\\vec{p}|\\psi_t\\rangle  = i\\hbar\\partial_t\\psi_t(\\vec{p}) \\\\\n",
    "& = \\langle\\vec{p}|H_t|\\psi_t\\rangle = \\langle\\vec{p}|\\Big(\\frac{P^2}{2m}+U_t\\Big)|\\psi_t\\rangle \\\\\n",
    "& = \\frac{p^2}{2m}\\psi_t(\\vec{p}) + \\langle\\vec{p}|U_t|\\psi_t\\rangle.\n",
    "\\end{align}\n",
    "\n",
    "### Partícula livre\n",
    "Neste caso $U_t = 0$. Assim, vem que\n",
    "\\begin{align}\n",
    "& i\\hbar\\partial_t\\psi_t(\\vec{p}) = \\frac{p^2}{2m}\\psi_t(\\vec{p}) \\\\\n",
    "& \\therefore\\ \\partial_t\\psi_t(\\vec{p}) = \\frac{-ip^2}{2m\\hbar}\\psi_t(\\vec{p}) \\\\\n",
    "& \\therefore\\ \\psi_t(\\vec{p}) = \\psi_0(\\vec{p})e^{-ip^2t/2m\\hbar} = \\psi_0(\\vec{p})e^{-iEt/\\hbar},\n",
    "\\end{align}\n",
    "em que usamos \n",
    "$$E = p^2/2m.$$\n",
    "Acima obtivemos essa mesma equação quando passamos da Eq. $(\\star)$ para a Eq. $(\\star\\star)$."
   ]
  },
  {
   "cell_type": "markdown",
   "metadata": {},
   "source": [
    "### Operador posição na base de momento linear\n",
    "\n",
    "Define o operador de delocamento infinitesimal no momento como\n",
    "$$M(\\delta p_j) = \\mathbb{I} - \\frac{i}{\\hbar}X_j\\delta p_j,$$\n",
    "pois o gerador de mudança de momento é a posição.\n",
    "\n",
    "Com isso, analogamente ao que fizemos na base de posição, podemos mostrar que\n",
    "$$\\langle p_j|X_j|\\psi\\rangle = \\frac{\\hbar}{i}\\frac{\\partial}{\\partial p_j}\\langle p_j|\\psi\\rangle.$$"
   ]
  },
  {
   "cell_type": "markdown",
   "metadata": {},
   "source": [
    "### Oscilador harmônico 1D\n",
    "Neste caso, o operador energia potencial como ser escrito como\n",
    "$$U = m\\omega^2 X^2 /2.$$\n",
    "Precisamos obter\n",
    "\\begin{align}\n",
    "& \\langle p|U|\\psi_t\\rangle = \\frac{m\\omega^2 }{2}\\langle p|X^2|\\psi_t\\rangle \\\\\n",
    "& = \\frac{m\\omega^2 }{2}\\int_{-\\infty}^{\\infty}dp'\\langle p|X|p'\\rangle\\langle p'|X|\\psi_t\\rangle \\\\\n",
    "& = \\frac{m\\omega^2 }{2}\\int_{-\\infty}^{\\infty}dp'\\langle p|X|p'\\rangle\\frac{\\hbar}{i}\\frac{\\partial}{\\partial p'}\\langle p'|\\psi_t\\rangle \\\\\n",
    "& = \\frac{m\\omega^2 }{2}\\langle p|X\\Big(\\int_{-\\infty}^{\\infty}dp'\\frac{\\hbar}{i}\\frac{\\partial}{\\partial p'}\\langle p'|\\psi_t\\rangle|p'\\rangle\\Big) \\\\\n",
    "& = \\frac{m\\omega^2 }{2}\\frac{\\hbar}{i}\\frac{\\partial}{\\partial p}\\langle p|\\Big(\\int_{-\\infty}^{\\infty}dp'\\frac{\\hbar}{i}\\frac{\\partial}{\\partial p'}\\langle p'|\\psi_t\\rangle|p'\\rangle\\Big) \\\\\n",
    "& = \\frac{m\\omega^2 }{2}\\int_{-\\infty}^{\\infty}dp'\\frac{\\hbar}{i}\\frac{\\partial}{\\partial p}\\Big(\\frac{\\hbar}{i}\\frac{\\partial}{\\partial p'}\\langle p'|\\psi_t\\rangle\\langle p|p'\\rangle\\Big) \\\\\n",
    "& = \\frac{m\\omega^2 }{2}\\int_{-\\infty}^{\\infty}dp'\\frac{\\hbar}{i}\\frac{\\partial}{\\partial p}\\Big(\\frac{\\hbar}{i}\\frac{\\partial}{\\partial p'}\\langle p'|\\psi_t\\rangle\\delta(p-p')\\Big) \\\\\n",
    "& = -\\frac{\\hbar^2 m\\omega^2 }{2}\\frac{\\partial^2}{\\partial p^2}\\psi_t(p).\n",
    "\\end{align}"
   ]
  },
  {
   "cell_type": "markdown",
   "metadata": {},
   "source": [
    "Usando o que obtivemos no caso da partícula livre, a equação de Schrödinger na base de momento linear para o oscilador harmônico 1D fica escrita como segue\n",
    "$$i\\hbar\\frac{\\partial}{\\partial t}\\psi_t (p) = \\frac{p^2}{2m}\\psi_t (p) -\\frac{\\hbar^2 m\\omega^2 }{2}\\frac{\\partial^2}{\\partial p^2}\\psi_t(p).$$\n",
    "\n",
    "Como o potencial é independente do tempo, podemos fazer separação de variáveis (usa a função de onda de partícula livre como motivação)\n",
    "$$\\psi_t(p) = \\xi(p)e^{-iEt/\\hbar},$$\n",
    "para obter a equação independente do tempo:\n",
    "\\begin{align}\n",
    "& E\\xi(p) = \\frac{p^2}{2m}\\xi(p) -\\frac{\\hbar^2 m\\omega^2 }{2}\\partial_{pp}\\xi(p) \\\\\n",
    "& \\therefore\\ \\partial_{pp}\\xi(p) + \\frac{2}{\\hbar^2 m\\omega^2}\\Big(E-\\frac{p^2}{2m}\\Big)\\xi(p) = 0,\n",
    "\\end{align}\n",
    "que é uma equação diferencial de 2ª ordem com coeficientes não constantes."
   ]
  },
  {
   "cell_type": "markdown",
   "metadata": {
    "tags": []
   },
   "source": [
    "---\n",
    "# Exercícios\n",
    "\n",
    "$1.$ Usando o operador de mudança de momento linear $T_{p}(\\delta p_{j})=\\mathbb{I}-(i/\\hbar)X_{j}\\delta p_{j}$, tal que $T_{p}(\\delta p_{j})|p_{j}\\rangle=|p_{j}+\\delta p_{j}\\rangle$, verifique que, na base de momento linear, o operador posição atua de forma tal que $\\langle p_{j}|X_{j}|\\psi\\rangle=-i\\hbar\\partial_{p_{j}}\\langle p_{j}|\\psi\\rangle$.\n",
    "\n",
    "$2.$ Verifique que a função $\\langle\\vec{x}|\\vec{p}\\rangle = Ce^{i\\vec{p}\\cdot\\vec{x}/\\hbar}$, com $C\\in\\mathbb{C}$ constante, satisfaz a equação diferencial $\\vec{\\nabla}_{\\vec{x}}\\langle\\vec{x}|\\vec{p}\\rangle =(i\\vec{p}/\\hbar)\\langle\\vec{x}|\\vec{p}\\rangle$."
   ]
  }
 ],
 "metadata": {
  "kernelspec": {
   "display_name": "Python 3 (ipykernel)",
   "language": "python",
   "name": "python3"
  },
  "language_info": {
   "codemirror_mode": {
    "name": "ipython",
    "version": 3
   },
   "file_extension": ".py",
   "mimetype": "text/x-python",
   "name": "python",
   "nbconvert_exporter": "python",
   "pygments_lexer": "ipython3",
   "version": "3.12.2"
  }
 },
 "nbformat": 4,
 "nbformat_minor": 4
}
