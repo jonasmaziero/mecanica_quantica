{
 "cells": [
  {
   "cell_type": "markdown",
   "metadata": {},
   "source": [
    "### Notas de aula de Mecânica Quântica <br> Autor: Jonas Maziero"
   ]
  },
  {
   "cell_type": "markdown",
   "metadata": {},
   "source": [
    "# Momento angular orbital\n",
    "Obtemos o momento angular quântico quantizando a expressão clássica. Ou seja, trocamos as variáveis dinâmicas clássicas por operadores lineares em um espaço de Hilbert:\n",
    "\\begin{align}\n",
    "& \\vec{L} = \\vec{X}\\mathrm{x}\\vec{P} \\\\\n",
    "& = \\sum_{j=1}^{3}\\hat{e}_{j}(\\vec{X}\\mathrm{x}\\vec{P})_{j} \\\\\n",
    "& = \\sum_{j=1}^{3}\\hat{e}_{j}\\sum_{k,l=1}^{3}\\varepsilon_{jkl}X_{k}P_{l} \\\\\n",
    "& = \\sum_{j=1}^{3}\\hat{e}_{j}L_{j}.\n",
    "\\end{align}\n",
    "Ou seja, as componentes do momento angular orbital são dadas por\n",
    "$$L_{j}=\\sum_{k,l=1}^{3}\\varepsilon_{jkl}X_{k}P_{l},$$\n",
    "com $j=1,2,3.$"
   ]
  },
  {
   "cell_type": "markdown",
   "metadata": {},
   "source": [
    "## Relação de comutação para as componentes do momento angular (orbital)\n",
    "Usando novamente \n",
    "\\begin{align}\n",
    "& [A,BC]=B[A,C]+[A,B]C, \\\\\n",
    "& [AB,C] = A[B,C]+[A,C]B,\n",
    "\\end{align}\n",
    "teremos\n",
    "\\begin{align}\n",
    "[L_{j},L_{k}] & = \\left[\\sum_{l,m=1}^{3}\\varepsilon_{jlm}X_{l}P_{m} , \\sum_{p,q=1}^{3}\\varepsilon_{kpq}X_{p}P_{q} \\right] \\\\\n",
    "& = \\sum_{l,m,p,q=1}^{3}\\varepsilon_{jlm}\\varepsilon_{kpq}\\left[X_{l}P_{m} , X_{p}P_{q} \\right] \\\\\n",
    "              & = \\sum_{l,m,p,q=1}^{3}\\varepsilon_{jlm}\\varepsilon_{kpq}\\left(X_{l}[P_{m} , X_{p}P_{q}] + [X_{l} , X_{p}P_{q}]P_{m} \\right) \\\\\n",
    "              & = \\sum_{l,m,p,q=1}^{3}\\varepsilon_{jlm}\\varepsilon_{kpq}\\left(X_{l}X_{p}[P_{m},P_{q}] + X_{l}[P_{m},X_{p}]P_{q} + X_{p}[X_{l},P_{q}]P_{m} + [X_{l} , X_{p}]P_{q}P_{m} \\right) \\\\\n",
    "              & = \\sum_{l,m,p,q=1}^{3}\\varepsilon_{jlm}\\varepsilon_{kpq}\\left(0 + X_{l}(-i\\hbar\\mathbb{1}\\delta_{mp})P_{q} + X_{p}(i\\hbar I\\delta_{lq})P_{m} + 0 \\right) \\\\\n",
    "              & = -i\\hbar\\sum_{l,m,q=1}^{3}\\varepsilon_{jlm}\\varepsilon_{kmq}X_{l}P_{q} + i\\hbar\\sum_{l,m,p=1}^{3}\\varepsilon_{jlm}\\varepsilon_{kpl}X_{p}P_{m} \\\\\n",
    "\\end{align}"
   ]
  },
  {
   "cell_type": "markdown",
   "metadata": {},
   "source": [
    "Podemos verificar a seguinte identidade:\n",
    "\\begin{equation}\n",
    "\\sum_{j=1}^{3}\\varepsilon_{jkl}\\varepsilon_{jmn} = \\delta_{km}\\delta_{ln} - \\delta_{kn}\\delta_{lm}.\n",
    "\\end{equation}"
   ]
  },
  {
   "cell_type": "code",
   "execution_count": 2,
   "metadata": {},
   "outputs": [],
   "source": [
    "from sympy import LeviCivita, KroneckerDelta\n",
    "\n",
    "ss = 0 # verificação da última igualdade\n",
    "for k in range(1,4):\n",
    "    for l in range(1,4):\n",
    "        for m in range(1,4):\n",
    "            for n in range(1,4):\n",
    "                s = 0\n",
    "                for j in range(1,4):\n",
    "                    s += LeviCivita(j,k,l)*LeviCivita(j,m,n)\n",
    "                ss += abs(s-(KroneckerDelta(k,m)*KroneckerDelta(l,n)-KroneckerDelta(k,n)*KroneckerDelta(l,m)))\n",
    "                if ss != 0:\n",
    "                    print(ss)"
   ]
  },
  {
   "cell_type": "markdown",
   "metadata": {},
   "source": [
    "Obtemos assim\n",
    "\\begin{align}\n",
    "[L_{j},L_{k}] & = i\\hbar\\sum_{l,q=1}^{3}\\sum_{m=1}^{3}\\varepsilon_{mjl}\\varepsilon_{mkq}X_{l}P_{q} - i\\hbar\\sum_{m,p=1}^{3}\\sum_{l=1}^{3}\\varepsilon_{ljm}\\varepsilon_{lkp}X_{p}P_{m} \\\\\n",
    "              & = i\\hbar\\sum_{l,q=1}^{3}(\\delta_{jk}\\delta_{lq}-\\delta_{jq}\\delta_{lk})X_{l}P_{q} - i\\hbar\\sum_{m,p=1}^{3}(\\delta_{jk}\\delta_{mp}-\\delta_{jp}\\delta_{mk})X_{p}P_{m}.\n",
    "\\end{align}\n",
    "Como para $j=k$ temos $[L_{j},L_{k}]=0$, vamos considerar a relação acima com \n",
    "$$j\\ne k\\ \\therefore\\ \\delta_{jk}=0.$$\n",
    "Assim\n",
    "\\begin{align}\n",
    "[L_{j},L_{k}] & = -i\\hbar\\sum_{l,q=1}^{3}\\delta_{jq}\\delta_{lk}X_{l}P_{q} + i\\hbar\\sum_{m,p=1}^{3}\\delta_{jp}\\delta_{mk}X_{p}P_{m} \\\\\n",
    "              & = i\\hbar(-X_{k}P_{j} + X_{j}P_{k}).\n",
    "\\end{align}"
   ]
  },
  {
   "cell_type": "markdown",
   "metadata": {},
   "source": [
    "Substituindo explicitamente os índices, vem que\n",
    "\\begin{align}\n",
    "[L_{1},L_{2}] & = i\\hbar(X_{1}P_{2}-X_{2}P_{1}) \\\\\n",
    "& = i\\hbar\\sum_{j,k}\\varepsilon_{3jk}X_{j}P_{k} \\\\ \n",
    "& = i\\hbar L_{3} \\\\\n",
    "& =  i\\hbar\\varepsilon_{123}L_{3}.\n",
    "\\end{align}\n",
    "Analogamente, verificar-se que \n",
    "\\begin{align}\n",
    "[L_{2},L_{3}] & = i\\hbar(X_{2}P_{3} - X_{3}P_{2}) \\\\\n",
    "& = i\\hbar(\\epsilon_{123}X_{2}P_{3} + \\epsilon_{132}X_{3}P_{2}) \\\\\n",
    "& = i\\hbar L_{1} \\\\\n",
    "& = i\\hbar\\varepsilon_{231}L_{1}, \\\\\n",
    "[L_{1},L_{3}] & = i\\hbar(X_{1}P_{3} - X_{3}P_{1}) \\\\\n",
    "& = i\\hbar(-\\epsilon_{213}X_{1}P_{3} - \\epsilon_{231}X_{3}P_{1}) \\\\\n",
    "& = -i\\hbar L_{2} \\\\\n",
    "& = i\\hbar\\varepsilon_{132}L_{2}.\n",
    "\\end{align}\n",
    "Com isso, a importante relação de comutação para as componentes do momento angular pode ser escrita em uma forma geral:\n",
    "\\begin{align}\n",
    "[L_{j},L_{k}] & = i\\hbar\\varepsilon_{jkl}L_{l} \\\\\n",
    "& = i\\hbar\\sum_{l=1}^{3}\\varepsilon_{jkl}L_{l}.\n",
    "\\end{align}\n",
    "Essa relação de comutação defina a chamada __álgebra do momento angular__. Embora essa relação tenha sido obtida para o momento angular, ela será usada como sinônimo que qualquer momento angular (orbital, de spin, misturas)."
   ]
  },
  {
   "cell_type": "markdown",
   "metadata": {},
   "source": [
    "## Autovalores do momento angular\n",
    "Aqui, consideremos qualquer operador $\\vec{L}$ cujas componentes satisfazem a relação de comutação \n",
    "$$[L_{j},L_{k}] = i\\hbar\\varepsilon_{jkl}L_{l} = i\\hbar\\sum_{l=1}^{3}\\varepsilon_{jkl}L_{l}.$$\n",
    "\n",
    "Primeiramente verifiquemos que o quadrado do momento angular comuta com todas as suas componentes:\n",
    "\\begin{align}\n",
    "[L^{2},L_{k}] & = \\left[\\sum_{j=1}^{3}L_{j}^{2},L_{k}\\right] \\\\\n",
    "& = \\sum_{j=1}^{3}[L_{j}L_{j},L_{k}] \\\\\n",
    "& = \\sum_{j=1}^{3}(L_{j}[L_{j},L_{k}] + [L_{j},L_{k}]L_{j}) \\\\\n",
    "& = \\sum_{j=1}^{3}\\left(L_{j}i\\hbar\\sum_{l=1}^{3}\\varepsilon_{jkl}L_{l} + i\\hbar\\sum_{l=1}^{3}\\varepsilon_{jkl}L_{l}L_{j}\\right) \\\\\n",
    "& = i\\hbar\\sum_{j,l=1}^{3}\\varepsilon_{jkl}(L_{j}L_{l} + L_{l}L_{j}) \\\\\n",
    "& = i\\hbar\\sum_{j,l=1}^{3}\\varepsilon_{jkl}\\{L_{j},L_{l}\\}.\n",
    "\\end{align}"
   ]
  },
  {
   "cell_type": "markdown",
   "metadata": {},
   "source": [
    "Considerando as componentes explicitamente, temos por exemplo que\n",
    "\\begin{align}\n",
    "[L^{2},L_{1}] & = i\\hbar(\\varepsilon_{213}\\{L_{2},L_{3}\\} + \\varepsilon_{312}\\{L_{3},L_{2}\\}) \\\\\n",
    "& = i\\hbar\\{L_{2},L_{3}\\}(\\varepsilon_{213} + \\varepsilon_{312}) \\\\ \n",
    "& = i\\hbar\\{L_{2},L_{3}\\}(\\varepsilon_{213} - \\varepsilon_{213}) \\\\\n",
    "& = 0,\n",
    "\\end{align}\n",
    "onde usamos que para o anticomutador vale a igualdade:\n",
    "$$\\{L_{j},L_{k}\\}=\\{L_{k},L_{j}\\}.$$\n",
    "Analogamente, pode-se verificar também que \n",
    "$$[L^{2},L_{2}]=[L^{2},L_{3}]=0.$$\n",
    "Com isso vemos que\n",
    "\\begin{equation}\n",
    "[L^{2},L_{k}] = 0  \\text{ para } k=1,2,3.\n",
    "\\end{equation}"
   ]
  },
  {
   "cell_type": "markdown",
   "metadata": {},
   "source": [
    "Seguindo, consideremos que $L^{2}$ compartilha a base de autovetores $|\\lambda,m\\rangle$ com $L_{3}$ e\n",
    "\\begin{cases}\n",
    "L^{2}|\\lambda,m\\rangle = \\hbar^2\\lambda|\\lambda,m\\rangle \\\\\n",
    "L_{3}|\\lambda,m\\rangle = \\hbar m|l,m\\rangle.\n",
    "\\end{cases}\n",
    "Acima usamos duas letras para identificar os autovetores pois eles estão relacionados com os valores possíveis dos 2 observáveis, $L^2$ e $L_3$. Usamos o $\\hbar$ pois ele é a unidade de momento angular em Mecânica Quântica.\n",
    "\n",
    "Vale observar que aqui escolhemos a direção $z$ com a __direção de quantização__, mas qualquer outra escolha levaria aos mesmos resultados observacionais que esta.\n",
    "\n",
    "Vamos verificar que $\\lambda = l(l+1)$ com $l=n/2$ para $n\\in\\mathbb{N}$ e $m=-l,-l+1,\\cdots,-1,0,1\\cdots,l-1,l$. Para isso precisaremos dos __operadores escada__:\n",
    "\\begin{equation}\n",
    "L_{\\pm} := L_{1} \\pm iL_{2}.\n",
    "\\end{equation}\n",
    "Como\n",
    "\\begin{equation}\n",
    "[L^{2},L_{\\pm}] = [L^{2},L_{1}] \\pm i[L^{2},L_{2}] = 0, \n",
    "\\end{equation}\n",
    "vemos que os vetores $L_{\\pm}|\\lambda,m\\rangle$ também são autovetores de $L^{2}$ correspondentes aos mesmos autovalores $\\lambda$ que $|\\lambda,m\\rangle$, i.e.,\n",
    "\\begin{equation}\n",
    "L^{2}(L_{\\pm}|\\lambda,m\\rangle) = \\lambda(L_{\\pm}|\\lambda,m\\rangle).\n",
    "\\end{equation}\n",
    "\n",
    "Por outro lado, os operadores escada não comutam com as componentes do momento angular. Por exemplo\n",
    "\\begin{align}\n",
    "[L_{3},L_{\\pm}] & = [L_{3},L_{1}] \\pm i[L_{3},L_{2}] \\\\\n",
    "& = i\\hbar\\varepsilon_{312}L_{2} \\pm i i\\hbar\\varepsilon_{321}L_{1} \\\\\n",
    "&= i\\hbar L_{2} \\pm \\hbar L_{1} \\\\\n",
    "&= \\pm\\hbar(L_{1} \\pm iL_{2}) \\\\\n",
    "& = \\pm\\hbar L_{\\pm}.\n",
    "\\end{align}\n",
    "Por outro lado, vemos que\n",
    "\\begin{align}\n",
    "L_{3}(L_{\\pm}|\\lambda,m\\rangle) & = (L_{3}L_{\\pm})|\\lambda,m\\rangle \\\\\n",
    "& = (\\pm\\hbar L_{\\pm} + L_{\\pm}L_{3})|\\lambda,m\\rangle \\\\\n",
    "&= \\pm\\hbar L_{\\pm}|\\lambda,m\\rangle + L_{\\pm}L_{3}|\\lambda,m\\rangle \\\\\n",
    "& = \\pm\\hbar L_{\\pm}|\\lambda,m\\rangle + L_{\\pm}\\hbar m|\\lambda,m\\rangle \\\\\n",
    "& = \\hbar( m \\pm 1)(L_{\\pm}|\\lambda,m\\rangle).\n",
    "\\end{align}"
   ]
  },
  {
   "cell_type": "markdown",
   "metadata": {},
   "source": [
    "Ou seja, os vetores $L_{\\pm}|\\lambda,m\\rangle$ também são autovetores de $L_{3}$, mas com autovalores aumentados ou diminuídos de $\\hbar$ em relação àquele associado com $|\\lambda,m\\rangle$. \n",
    "\n",
    "Agora, como \n",
    "$$L^{2} = L_{1}^{2}+L_{2}^{2}+L_{3}^{2},$$\n",
    "_não poderemos aumentar nem diminuir indefinidamente os autovalores de $L_{3}$_ através da aplicação dos operadores escada. Por isso, para os valores definidos por \n",
    "$$m:=\\pm l,$$\n",
    "a ação dos operadores escada nos retorna o vetor nulo:\n",
    "\\begin{equation}\n",
    "L_{\\pm}|\\lambda,m =\\pm l\\rangle := |\\oslash\\rangle.\n",
    "\\end{equation}\n",
    "\n",
    "Note que como \n",
    "$$m_{\\min}=-l,\\ m_{\\max}=l$$\n",
    "e $m$ aumenta ou diminiu de 1 em 1, para um dado $l$, os possíveis valores de $m$ são:\n",
    "\\begin{equation}\n",
    "m=-l,-l+1,\\cdots,l-1,l.\n",
    "\\end{equation}\n",
    "\n",
    "Continuando, vamos escrever $\\lambda$ em termos de $l$. Para isso consideremos os produtos de operadores escada:\n",
    "\\begin{align}\n",
    "L_{\\pm}L_{\\mp} & = (L_{1} \\pm iL_{2})(L_{1} \\mp iL_{2}) \\\\\n",
    "& = L_{1}^{2} \\mp iL_{1}L_{2} \\pm iL_{2}L_{1} + L_{2}^{2}  \\\\ \n",
    "& = L_{1}^{2} + L_{2}^{2} + L_{3}^{2} - L_{3}^{2} \\mp i[L_{1},L_{2}]  \\\\\n",
    "& = L^{2} - L_{3}^{2} \\mp ii\\hbar\\varepsilon_{123}L_{3} \\\\\n",
    "& = L^{2} - L_{3}^{2} \\pm\\hbar L_{3}.\n",
    "\\end{align}"
   ]
  },
  {
   "cell_type": "markdown",
   "metadata": {},
   "source": [
    "Com isso, podemos escrever\n",
    "\\begin{align}\n",
    "L^{2}|\\lambda,m=l\\rangle & = (L_{-}L_{+} + L_{3}^{2} + \\hbar L_{3})|\\lambda,l\\rangle  \\\\ \n",
    "&= L_{-}L_{+}|\\lambda,l\\rangle + L_{3}^{2}|\\lambda,l\\rangle + \\hbar L_{3}|\\lambda,l\\rangle  \\\\\n",
    "& = |\\oslash\\rangle + \\hbar^{2}l^{2}|\\lambda,l\\rangle + \\hbar\\hbar l|\\lambda,l\\rangle \\\\\n",
    "                 & = \\hbar^{2}l(l+1)|\\lambda,l\\rangle  \\\\\n",
    "                 & = \\hbar^2\\lambda|\\lambda,l\\rangle.\n",
    "\\end{align}\n",
    "Analogamente, pode-se verificar que \n",
    "$$L^2|\\lambda,-l\\rangle=\\hbar^2 l(l+1)|\\lambda,-l\\rangle.$$\n",
    "Por conseguinte\n",
    "$$\\lambda = l(l+1).$$\n",
    "\n",
    "Como $l$ determina $\\lambda$ unicamente, vamos usar $l$ ao invés de $\\lambda$ para denotar os autovetores comuns de $L^2$ e $L_3$:\n",
    "$$|\\lambda,m\\rangle \\equiv |l,m\\rangle.$$\n",
    "\n",
    "### Domínio de $l$\n",
    "Consideremos que os autovalores de $L_{3}$ são, por definição, $\\hbar m$ e que vimos que se começamos no estado $|l,m=-l\\rangle$ e aplicamos $L_{+}$ um número $n$ de vezes, aumentaremos o valor de $m$ de uma unidade em cada aplicação de $L_{+}$, até obtermos o estado $|l,m=l\\rangle$, i.e.,\n",
    "\\begin{equation}\n",
    "|l,m=l\\rangle := L_{+}^{n}|l,m=-l\\rangle \\text{, com } n\\in\\mathbb{N}.\n",
    "\\end{equation}\n",
    "Como $n\\in\\mathbb{N}_0$ teremos que \n",
    "\\begin{align}\n",
    "& l=-l+n\\ \\therefore\\ 2l=n \\ \\therefore\\ l = \\frac{n}{2} \\\\\n",
    "& \\therefore l= 0, \\frac{1}{2}, 1, \\frac{3}{2}, 2, \\frac{5}{2},\\cdots.\n",
    "\\end{align}"
   ]
  },
  {
   "cell_type": "markdown",
   "metadata": {},
   "source": [
    "### Ação dos operadores escada na base $|l,m\\rangle$\n",
    "Como os operadores escada aumentam ou diminuem o número quântico $m$ de uma unidade, teremos e.g.\n",
    "\\begin{equation}\n",
    "L_{+}|l,m\\rangle \\propto |l,m+1\\rangle =: c|l,m+1\\rangle,\n",
    "\\end{equation}\n",
    "onde introduzimos a constate $c$ para transformar a proporcionalidade em igualdade. Olhemos agora para o quadrado da norma desse vetor\n",
    "\\begin{align}\n",
    "\\langle l,m|L_{+}^{\\dagger}L_{+}|l,m\\rangle & = \\langle l,m|L_{-}L_{+}|l,m\\rangle \\\\\n",
    "& = \\langle l,m|(L^{2} - L_{3}^{2} -\\hbar L_{3})|l,m\\rangle \\\\\n",
    "& = \\langle l,m|\\left(\\hbar^{2}l(l+1)-\\hbar^{2}m^{2}-\\hbar^{2}m\\right)|l,m\\rangle \\\\\n",
    "&= \\left(\\hbar^{2}l(l+1)-\\hbar^{2}m^{2}-\\hbar^{2}m\\right)\\langle l,m|l,m\\rangle \\\\\n",
    "& = \\hbar^{2}[l(l+1) - m(m+1)]  \\\\\n",
    "& = \\langle l,m+1|c^{*}c|l,m+1\\rangle \\\\\n",
    "& = |c|^{2}.\n",
    "\\end{align}\n",
    "Usando $c\\in\\mathbb{R}$ obtemos\n",
    "\\begin{equation}\n",
    "L_{+}|l,m\\rangle = \\hbar\\sqrt{l(l+1)-m(m+1)}|l,m+1\\rangle.\n",
    "\\end{equation}\n",
    "Pode-se mostrar também que\n",
    "\\begin{equation}\n",
    "L_{-}|l,m\\rangle = \\hbar\\sqrt{l(l+1)-m(m-1)}|l,m-1\\rangle.\n",
    "\\end{equation}"
   ]
  },
  {
   "cell_type": "markdown",
   "metadata": {},
   "source": [
    "---\n",
    "# Exercícios\n",
    "\n",
    "$1.$ Escreva explicitamente a relação de incerteza de Robertson para as componentes do momento angular, e a discuta no que concerne a (in)compatibilidade dessas componentes.\n",
    "\n",
    "$2.$ Verifique que $[L^{2},L_{2}]=[L^{2},L_{3}]=\\mathbb{O}$.\n",
    "\n",
    "$3.$ Analogamente ao que fizemos usando $L^{2}=L_{-}L_{+} + L_{3}^{2} + \\hbar L_{3}$, obtenha $\\lambda=\\hbar^{2}l(l+1)$ usando $L^{2}=L_{+}L_{-} + L_{3}^{2} - \\hbar L_{3}$.\n",
    "\n",
    "$4.$ Verifique que $L_{-}|l,m\\rangle = \\hbar\\sqrt{l(l+1)-m(m-1)}|l,m-1\\rangle$.\n"
   ]
  },
  {
   "cell_type": "code",
   "execution_count": null,
   "metadata": {},
   "outputs": [],
   "source": []
  }
 ],
 "metadata": {
  "kernelspec": {
   "display_name": "Python 3 (ipykernel)",
   "language": "python",
   "name": "python3"
  },
  "language_info": {
   "codemirror_mode": {
    "name": "ipython",
    "version": 3
   },
   "file_extension": ".py",
   "mimetype": "text/x-python",
   "name": "python",
   "nbconvert_exporter": "python",
   "pygments_lexer": "ipython3",
   "version": "3.11.1"
  }
 },
 "nbformat": 4,
 "nbformat_minor": 4
}
