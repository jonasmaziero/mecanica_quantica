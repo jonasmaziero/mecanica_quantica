{
 "cells": [
  {
   "cell_type": "markdown",
   "id": "69e70fb6",
   "metadata": {},
   "source": [
    "### Notas de aula de Mecânica Quântica <br> Autor: Jonas Maziero\n",
    "---"
   ]
  },
  {
   "cell_type": "markdown",
   "id": "130aa766",
   "metadata": {},
   "source": [
    "# Relatividade Restrita\n",
    "\n",
    "Uma das separações mais importantes entre a Mecânica Newtoniana e a relatividade restrita de Einstein (RRE) é que nesta última não assumimos que o tempo é o mesmo para todos os referenciais (inerciais). Na RRE usamos dois __postulados básicos__:\n",
    "1. A velocidade da luz no vácuo é a mesma, $c$, para todos os referenciais inerciais.\n",
    "1. As leis da natureza são as mesmas para todos os referenciais inerciais.\n",
    "\n",
    "Então, se consideramos dois referenciais inerciais $K$ e $K'$, pelo postulado 1 as posições e intervalos de tempo medidos nesses referenciais deve ser tais que\n",
    "$$\\vec{c} = \\frac{d\\vec{r}}{dt} = \\frac{d\\vec{r}'}{dt'}=\\vec{c}'.$$\n",
    "Em coordenadas cartesianas temos que\n",
    "\\begin{align}\n",
    "& dr^{2}=dx^{2}+dy^{2}+dz^{2}, \\\\\n",
    "& dr'^{2}=dx'^{2}+dy'^{2}+dz'^{2}.\n",
    "\\end{align}\n",
    "Segue assim, da equação acima para $\\vec{c}$, que\n",
    "\\begin{align}\n",
    "c^{2}dt^{2}-dr^{2} = c^{2}dt^{2}-dx^{2}-dy^{2}-dz^{2} =0, \\\\\n",
    "c^{2}dt'^{2}-dr'^{2} = c^{2}dt'^{2}-dx'^{2}-dy'^{2}-dz'^{2}=0.\n",
    "\\end{align}"
   ]
  },
  {
   "cell_type": "markdown",
   "id": "2aeedeb5",
   "metadata": {},
   "source": [
    "Estas equações são consistentes com a existência de um intervalo $ds$ invariante, i.e.,\n",
    "$$\\pm ds^{2} = c^{2}dt^{2}-dx^{2}-dy^{2}-dz^{2} = c^{2}dt'^{2}-dx'^{2}-dy'^{2}-dz'^{2},$$\n",
    "em um espaço, chamado de __espaço-tempo__ com coordenadas ($x^{\\mu},\\ \\mu=0,1,2,3$):\n",
    "$$x^{0}=ct,\\ x^{1}=x,\\ x^{2}=y,\\ x^{3}=z.$$\n",
    "A invariância do intervalo também pode ser escrita como\n",
    "$$ds^{2} = \\eta_{\\mu\\nu}dx^{\\mu}dx^{\\nu} = \\eta_{\\mu\\nu}dx'^{\\mu}dx'^{\\nu}$$\n",
    "com a __métrica de Minkowski__ sendo\n",
    "$$\\eta_{\\mu\\nu}=\\begin{bmatrix}1&0&0&0 \\\\ 0&-1&0&0 \\\\ 0&0&-1&0 \\\\ 0&0&0&-1\\end{bmatrix} = diag(1,-1,-1,-1).$$"
   ]
  },
  {
   "cell_type": "markdown",
   "id": "ad2b17d7-5f8e-4e9b-8e7f-7fcbfeffbcf6",
   "metadata": {},
   "source": [
    "### Exemplo 1\n",
    "Considere um vetor contravariante no espaço quadri-dimensional da relatividade restrita (o espaço-tempo): \n",
    "$$\\lambda^{\\mu} = (\\lambda^{0},\\lambda^{1},\\lambda^{2},\\lambda^{3})=(\\lambda^{0},\\vec{\\lambda}).$$\n",
    "O correspondente vetor cavariante é\n",
    "$$\\lambda_{\\mu} = \\eta_{\\mu\\nu}\\lambda^{\\nu} = (\\lambda^{0},-\\lambda^{1},-\\lambda^{2},-\\lambda^{3})=(\\lambda^{0},-\\vec{\\lambda}).$$\n",
    "Já o produto interno entre dois quadrivetores $\\lambda^{\\mu}$ e $\\sigma^{\\mu}$ será dado por\n",
    "\\begin{align}\n",
    "\\lambda^{\\mu}\\sigma_{\\mu} & = \\lambda^{\\mu}\\eta_{\\mu\\nu}\\sigma^{\\nu} = \\lambda^{0}\\sigma^{0} - \\lambda^{1}\\sigma^{1} - \\lambda^{2}\\sigma^{2} - \\lambda^{3}\\sigma^{3} \\\\\n",
    "& =  \\lambda^{0}\\sigma^{0} - \\vec{\\lambda}\\cdot\\vec{\\sigma}.\n",
    "\\end{align}\n",
    "$\\diamond$"
   ]
  },
  {
   "cell_type": "markdown",
   "id": "3c63653b",
   "metadata": {},
   "source": [
    "O postulado 2 é incorporado em uma teoria considerando __equações tensoriais__, que manterão sua forma frente a mudanças de referenciais.\n",
    "\n",
    "Sobre o tempo. Cada referencial possui seu __tempo coordenado__, que é medido por um relógio em repouso naquele referencial. A trajetória de uma partícula no espaço-tempo é chamada de __linha de mundo__ da partícula. Podemos definir um tempo invariante, o intervalo de __tempo próprio__ $d\\tau$ entre dois pontos na linha de mundo usando\n",
    "$$c^{2}d\\tau^{2} = c^{2}dt^{2}-dx^{2}-dy^{2}-dz^{2} = \\eta_{\\mu\\nu}dx^{\\mu}dx^{\\nu}.$$\n",
    "O tempo próprio é medido por um relógio que se move junto com a partícula (está em repouso em relação a essa partícula). Em geral o relógio é algum grau de liberdade interno da partícula.\n",
    "A velocidade da partícula em relação ao referencial $K$ é \n",
    "$$\\vec{v}=\\frac{d\\vec{r}}{dt}.$$\n",
    "Podemos obter a relação entre o tempo próprio e o tempo coordenado como segue\n",
    "\\begin{align}\n",
    "& \\frac{c^{2}d\\tau^{2}}{c^{2}dt^{2}} = \\frac{c^{2}dt^{2}}{c^{2}dt^{2}}-\\frac{dr^{2}}{c^{2}dt^{2}} \\\\\n",
    "& \\therefore\\ d\\tau^{2} = \\Big(1 - \\frac{v^{2}}{c^{2}}\\Big)dt^{2} \\ \\therefore\\ d\\tau = \\sqrt{1 - v^{2}/c^{2}}dt \\\\\n",
    "& \\therefore\\ d\\tau = \\gamma^{-1}dt,\n",
    "\\end{align}\n",
    "em que definimos __fator de correção relativístico__\n",
    "$$\\gamma := \\frac{1}{\\sqrt{1-v^{2}/c^{2}}}.$$"
   ]
  },
  {
   "cell_type": "markdown",
   "id": "27d67dc6",
   "metadata": {},
   "source": [
    "## Transformações de Lorentz\n",
    "Essas transformações conectam as coordenadas espaço-temporais $x^{\\mu}$ e $x^{\\mu'}$ de um partícula em dois referenciais incerciais $K$ e $K'$, respectivamente. De forma geral, essas coordenadas podem ser relacionadas por uma transformação afim (que é uma transformação linear que inclui deslocamento da origem):\n",
    "$$x^{\\mu'} = \\Lambda^{\\mu'}_{\\nu}x^{\\nu} + a^{\\mu}.$$\n",
    "Se $a^{\\mu}=0$ a transformação dita homogênea ou simplemente de Lorentz e se $a^{\\mu}\\ne 0$ a tranformação é inomogênea ou de Poincaré."
   ]
  },
  {
   "cell_type": "markdown",
   "id": "c6ed5179",
   "metadata": {},
   "source": [
    "Com exemplo vamos considerar uma transformação de Lorentz homogênea com $a^{\\mu}=0$, i.e., as origens $O$ e $O'$ dos referenciais cartesianos $K$ e $K'$ coincidem em $t=t'=0$, com um boost na direção $x$, ou seja, $K'$ se movimenta no eixo $x$ de $K$. Generalizando as transformações de Galilei, pode-se escrever\n",
    "\\begin{align}\n",
    "& t' = \\gamma(t-xv/c^{2}), \\\\\n",
    "& x' = \\gamma(x-vt), \\\\\n",
    "& y'=y, \\\\\n",
    "& z' = z,\n",
    "\\end{align}\n",
    "com\n",
    "$$\\gamma = \\frac{1}{\\sqrt{1-v^{2}/c^{2}}}.$$\n",
    "\n",
    "Verifica-se neste caso a invariância do elemento de linha\n",
    "\\begin{align}\n",
    "ds'^{2} & = c^{2}dt'^{2} - dx'^{2} - dy'^{2} - dz'^{2} \\\\\n",
    "& = c^{2}\\gamma^{2}(dt-dxv/c^{2})^{2} - \\gamma^{2}(dx-vdt)^{2}  - dy^{2} - dz^{2} \\\\\n",
    "& = c^{2}\\gamma^{2}(dt^{2}-2dtdxv/c^{2}+dx^{2}v^{2}/c^{4}) - \\gamma^{2}(dx^{2}-2dxvdt+v^{2}dt^{2})  - dy^{2} - dz^{2} \\\\\n",
    "& = c^{2}(1-v^{2}/c^{2})\\gamma^{2}dt^{2} - (1-v^{2}/c^{2})\\gamma^{2}dx^{2} - dy^{2} - dz^{2} - 0dxdt \\\\\n",
    "& = c^{2}dt^{2} - dx^{2} - dy^{2} - dz^{2} \\\\\n",
    "& = ds^{2}.\n",
    "\\end{align}"
   ]
  },
  {
   "cell_type": "markdown",
   "id": "0f1465f6",
   "metadata": {},
   "source": [
    "### Alguns quadrivetores\n",
    "Denotamos um 4-vetor geral por\n",
    "$$\\lambda^{\\mu} = (\\lambda^{0},\\lambda^{1},\\lambda^{2},\\lambda^{3}) = (\\lambda^{0},\\vec{\\lambda}).$$\n",
    "A 4-velocidade coordenada é\n",
    "$$v^{\\mu} = \\frac{dx^{\\mu}}{dt} = (c,\\vec{v}).$$\n",
    "A 4-velocidade própria é\n",
    "$$u^{\\mu} = \\frac{dx^{\\mu}}{d\\tau} = \\gamma\\frac{dx^{\\mu}}{dt} = \\gamma v^{\\mu} = \\gamma(c,\\vec{v})  = (\\gamma c,\\gamma\\vec{v}).$$\n",
    "O 4-momento é\n",
    "$$p^{\\mu} = m_{0}u^{\\mu} = (\\gamma m_{0}c,\\gamma m_{0}\\vec{v}) = (E/c,\\vec{p}),$$\n",
    "em que definimos a energia da partícula como\n",
    "$$E = \\gamma m_{0}c^{2}.$$"
   ]
  },
  {
   "cell_type": "markdown",
   "id": "a6fba4ae",
   "metadata": {},
   "source": [
    "Consideremos dois referenciais $K$ e $K'$ com a partícula de massa de repouso $m_{0}$ em repouso em relação ao referencial $K'$. Assim\n",
    "$$p^{\\mu'} = (m_{0}c,\\vec{0})$$\n",
    "pois\n",
    "$\\gamma'=1$ uma vez que $v'=0$. Consideremos o produto interno, que é invariante sob a transformação de coordenadas:\n",
    "\\begin{align}\n",
    "& p^{\\mu}p_{\\mu} = p^{\\mu'}p_{\\mu'} \\\\\n",
    "& \\therefore\\ (p^{0})^{2}-\\vec{p}^{2} = (p^{0'})^{2} - \\vec{0} \\\\\n",
    "& \\therefore\\ E^{2}/c^{2} -p^{2} = m_{0}^{2}c^{2} \\\\\n",
    "& \\therefore\\ E^{2} = p^{2}c^{2} + m_{0}^{2}c^{4},\n",
    "\\end{align}\n",
    "em que usamos que $\\vec{p}'=\\gamma m_{0}\\vec{v}'=\\vec{0}$. Essa é a relação relativística entre energia e momento linear."
   ]
  },
  {
   "cell_type": "markdown",
   "id": "e10b95fa-4382-43f8-a321-7b6658f6ea4a",
   "metadata": {},
   "source": [
    "--- \n",
    "# Exercícios"
   ]
  },
  {
   "cell_type": "code",
   "execution_count": null,
   "id": "f4e55ea3-9050-41ee-9543-efaac10f4f9f",
   "metadata": {},
   "outputs": [],
   "source": []
  }
 ],
 "metadata": {
  "kernelspec": {
   "display_name": "Python 3 (ipykernel)",
   "language": "python",
   "name": "python3"
  },
  "language_info": {
   "codemirror_mode": {
    "name": "ipython",
    "version": 3
   },
   "file_extension": ".py",
   "mimetype": "text/x-python",
   "name": "python",
   "nbconvert_exporter": "python",
   "pygments_lexer": "ipython3",
   "version": "3.12.2"
  }
 },
 "nbformat": 4,
 "nbformat_minor": 5
}
