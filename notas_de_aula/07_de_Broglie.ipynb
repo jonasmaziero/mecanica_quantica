{
 "cells": [
  {
   "cell_type": "markdown",
   "metadata": {},
   "source": [
    "### Notas de aula de Mecânica Quântica <br> Autor: Jonas Maziero"
   ]
  },
  {
   "cell_type": "markdown",
   "metadata": {},
   "source": [
    "# Ondas de matéria\n",
    "\n",
    "## Dualidade onda-partícula para a radiação eletromagnética (REM)\n",
    "\n",
    "### Interpretação ondulatória da REM\n",
    "\n",
    "__Maxwell__, aplicando suas equações no vácuo ($\\rho=0$, $\\vec{j}=0$), \n",
    "\\begin{align}\n",
    "& \\vec{\\nabla}\\cdot\\vec{E} = 0 \\text{, } \\\\ \n",
    "& \\vec{\\nabla}\\mathrm{x}\\vec{E} = - \\partial_{t}\\vec{B} \\text{, } \\\\ \n",
    "& \\vec{\\nabla}\\cdot\\vec{B} = 0 \\text{, } \\\\ \n",
    "& \\vec{\\nabla}\\mathrm{x}\\vec{B} = \\mu_{0}\\epsilon_{0}\\partial_{t}\\vec{E},\n",
    "\\end{align}\n",
    "mostrou que luz é um tipo de onda eletromagnética, uma onda de campos elétricos e magnéticos,\n",
    "\\begin{align}\n",
    "& \\nabla^{2}\\vec{E}-c^{-2}\\partial_{tt}\\vec{E}=0\\text{, } \\\\ \n",
    "& \\nabla^{2}\\vec{B}-c^{-2}\\partial_{tt}\\vec{B}=0\n",
    "\\end{align}\n",
    "com velocidade \n",
    "$$c = \\frac{1}{\\sqrt{\\mu_{0}\\epsilon_{0}}} \\approx 299.792.458,00\\text{ m/s}.$$\n",
    "Acima e doravante usamos a notação\n",
    "$$\\partial_t = \\frac{\\partial}{\\partial t},\\ \\partial_{tt} = \\frac{\\partial^2}{\\partial t^2}.$$\n",
    "As ondas eletromagnéticas de Maxwell estão ilustradas na figura a baixo.\n",
    "<figure>\n",
    "    <img src=\"fig_05_maxwell.gif\" width=\"350\">\n",
    "    <div class=\"caption\">Fonte: https://commons.wikimedia.org/wiki/File:EM-Wave.gif.</div>\n",
    "</figure>"
   ]
  },
  {
   "cell_type": "code",
   "execution_count": 2,
   "metadata": {},
   "outputs": [
    {
     "data": {
      "text/latex": [
       "$\\displaystyle 299792458.000007$"
      ],
      "text/plain": [
       "299792458.000007"
      ]
     },
     "execution_count": 2,
     "metadata": {},
     "output_type": "execute_result"
    }
   ],
   "source": [
    "from sympy import *\n",
    "eps0 = 8.8541878128*10**-12 #F/m (permissividade do vácuo)\n",
    "mu0 = 1.25663706212*10**-6 # N/A^2 (permeabilidade do vácuo) \n",
    "\n",
    "1/sqrt(mu0*eps0)"
   ]
  },
  {
   "cell_type": "markdown",
   "metadata": {},
   "source": [
    "A transferência de energia por essa onda de uma antena para outra foi verificada por __Heinrich Hertz__ em 1888, como ilustrado na figura abaixo. Um circuito com ddp oscilante cria uma onda eletromagnética no transmissor $T$. Essa onda é transmitida através do espaço e chega na antena (o receptor), o que é evidenciado pelas faíscas observadas em $M$.\n",
    "<figure>\n",
    "    <img src=\"fig_05_hertz_antena.png\" width=\"350\">\n",
    "    <div class=\"caption\">Fonte: https://commons.wikimedia.org/wiki/File:Hertz_transmitter_and_receiver_-_English.svg.</div>\n",
    "</figure>"
   ]
  },
  {
   "cell_type": "markdown",
   "metadata": {},
   "source": [
    "Por outro lado, demonstrações de fenômenos tipicamente ondulatórios são usualmente feitas pela observação de fenômenos de difração e interferência. Um experimento famoso favorecendo a teoria da propagação ondulatória de ondas eletromagnéticas é o _experimento de dupla fenda_ atribuído a Thomas __Young__. Veja o esquema desse experimento na figura abaixo.\n",
    "<figure>\n",
    "    <img src=\"fig_05_double_slit.png\" width=\"400\">\n",
    "    <div class=\"caption\">Fonte: https://commons.wikimedia.org/wiki/File:Double-slit_schematic.svg.</div>\n",
    "</figure>"
   ]
  },
  {
   "cell_type": "markdown",
   "metadata": {},
   "source": [
    "Nesse experimento, teremos interferência construtiva (destrutiva) máxima entre as ondas provindas das duas fendas quando a diferença de caminho for igual a um múltiplo inteiro de um (meio) comprimento de onda. Para a distância entre a tela de detecção e as fendas muito maior que a distância entre as fendas, $a\\ll d$, as localizações das faixas mais claras são obitas fazendo:\n",
    "\\begin{equation}\n",
    "\\Delta s \\approx a\\sin\\alpha' \\approx a\\sin\\alpha = n\\lambda.\n",
    "\\end{equation}\n",
    "Como \n",
    "$$\\sin\\alpha \\approx \\tan\\alpha = \\frac{x}{d} = \\frac{n\\lambda}{a},$$ \n",
    "teremos \n",
    "$$x \\approx n\\frac{\\lambda d}{a}$$ \n",
    "e a primeira faixa clara (além da central) terá coordenada:\n",
    "\\begin{equation}\n",
    "x_{1} = \\frac{\\lambda d}{a}.\n",
    "\\end{equation}\n",
    "Para um valor típico de $d\\approx 1\\text{ m}$, vemos que se:\n",
    "* Se $\\lambda\\gg a$ (comprimento de onda muito maior que a distância entre as fendas), então $x_{1}\\gg 1$ e veremos somente a faixa clara central, que se estende por toda a tela de detecção. \n",
    "* Se $\\lambda\\ll a$ (comprimento de onda muito menor que a distância entre as fendas), então $x_{1}\\ll 1$ e, considerando a precisão limitada dos aparelhos de medida, veremos uma única faixa clara contínua, sem faixas escuras distinguíveis.\n",
    "\n",
    "Para conseguirmos observar o padrão de interferência temos que ter satisfeita uma __condição__ muito importante para nossa discussão aqui:\n",
    "\\begin{equation}\n",
    "\\lambda \\approx a.\n",
    "\\end{equation}\n",
    "_Condição para observarmos fenômenos de interferência_: Para que padrões de interferência sejam visíveis é preciso que o comprimento de onda, da onda em questão, seja da ordem da distância entre as fendas no experimento de dupla fenda, ou da ordem da dimensão da fenda para difração por uma única fenda. E foi ao satisfazer essa condição que Young conseguiu mostrar a existência do fenômeno de interferência para a luz visível, favorecendo a teoria ondulatória da luz. Young observou um padrão de interferência parecido com o mostrado na figura abaixo.\n",
    "\n",
    "<figure>\n",
    "    <img src=\"fig_Double_slit.jpg\" width=\"200\">\n",
    "    <div class=\"caption\">Fonte: https://commons.wikimedia.org/wiki/File:Double_slit_simulated.jpg.</div>\n",
    "</figure>"
   ]
  },
  {
   "cell_type": "markdown",
   "metadata": {},
   "source": [
    "### Interpretação corpuscular da REM\n",
    "\n",
    "Por outro lado, vimos que\n",
    "* Para explicar a radiação de corpo negro, __Planck__ precisou assumir que a REM da cavidade trocava energia com as cargas elétricas da parede em quantidades múltiplas de $$E=h\\nu,$$\n",
    "com $\\nu$ sendo a frequência do modo de oscilação da onda eletromagnética na cavidade e $h$ é a constante de Planck. \n",
    "* __Einstein__ estendeu essa ideia assumindo que a luz, ao interagir com a matéria, pode ser considerada como sendo composta por partículas de luz, os fótons, que possuem energia $h\\nu$ e momento linear \n",
    "$$p=\\frac{h}{\\lambda}.$$\n",
    "\n",
    "Essa suposição foi também utilizada \n",
    "* por __Compton__ para explicar a diminuição do comprimento de onda da REM ao ser espalhada por elétrons\n",
    "$$\\Delta\\lambda = \\lambda_c(1-\\cos\\phi);$$ \n",
    "* por __Bohr__ para explicar o espectro de linhas do átomo de Hidrogênio\n",
    "$$\\Delta E=h\\nu\\ \\therefore\\ E_n = \\frac{Z^2 E_1}{n^2}.$$ \n",
    "\n",
    "Todos esses físicos conseguiram explicar, através dessa suposição, fenômenos inexplicáveis pela Física clássica, incluindo a teoria ondulatória de Maxwell da radiação eletromagnética.\n",
    "\n",
    "Chegamos assim em uma situação em que não podemos dizer que a REM é uma onda nem que ela é formada por partículas. A REM se comporta de maneira dual. Ao se propagar no expaço, a REM se comporta como onda, mas ao trocar energia com a matéria a REM se comporta como sendo constituída por partículas. Essa é a chamada __dualidade onda-partícula da REM__."
   ]
  },
  {
   "cell_type": "markdown",
   "metadata": {},
   "source": [
    "## Dualidade onda-partícula para a matéria\n",
    "Louis __de Broglie__ fez a audaciosa, surpreendente e importante suposição de que deveria haver \"simetria de comportamento\" para a matéria e para a radiação eletromagnética (https://www.nobelprize.org/prizes/physics/1929/broglie/lecture/). Ou seja, a matéria também deveria apresentar comportamento dual. O aspecto partícula da matéria é o que usualmente observamos. Mas naquela época não existia nenhuma evidência experimental de que a matéria apresentasse comportamento ondulatório. Veremos como foram desenvolvidas e verificadas experimentalmente essas ideias de de Broglie, que foram muito importantes para o desenvolvimento da Mecânica Quântica ondulatória de Schrödinger.\n",
    "\n",
    "Então, segundo a hipótese de de Broglie, qualquer _quanton_ (o nome que daremos para sistemas quânticos), como e.g. o elétron, o próton, a molécula de $H_{2},$ etc, tem uma onda associada com __comprimento de onda de de Broglie__:\n",
    "\\begin{equation}\n",
    "\\lambda_{d}=\\frac{h}{p},\n",
    "\\end{equation}\n",
    "em que $p$ é o momento linear do quanton, e __frequência de de Broglie__:\n",
    "\\begin{equation}\n",
    "\\nu_{d} = \\frac{E}{h},\n",
    "\\end{equation}\n",
    "em que $E$ é a energia total do quanton. Note que essas relações são idênticas àquelas equações que tínhamos para a radiação eletromagnética, para o fóton."
   ]
  },
  {
   "cell_type": "markdown",
   "metadata": {},
   "source": [
    "## Ondas de matéria e quantização do momento angular\n",
    "Uma consequência imediata, e promissora, dessas relações é a _quantização do momento angular_ dos estados estacionários do átomo de Bohr. Se o elétron é uma onda, como hipotetizado por de Broglie, um estado estacionário corresponde a uma onda estacionária, i.e., deve caber um número inteiro de comprimentos de onda na órbita do elétron. Para as órbitas circulares de Bohr:\n",
    "\\begin{align}\n",
    "& 2\\pi r= n\\lambda_{d}=n\\frac{h}{p} \\\\\n",
    "& \\therefore rp = L = n\\frac{h}{2\\pi}=n\\hbar,\n",
    "\\end{align}\n",
    "com $n=1,2,3,\\cdots$. Veja um exemplo na figura abaixo.\n",
    "<figure>\n",
    "    <img src=\"fig_05_deBroglie_orbits.png\" width=\"300\">\n",
    "    <div class=\"caption\">Fonte: https://commons.wikimedia.org/wiki/File:Stationary_wave_Quantum_rule_in_atom.svg.</div>\n",
    "</figure>\n",
    "O elétron sendo uma onda estacionária, a força resultante devido à sua interação com o núcleo seria nula. Isso explicaria porquê o elétron estando em um estado estacionário não emitiria radiação eletromagnética (pois não está acelerado)."
   ]
  },
  {
   "cell_type": "markdown",
   "metadata": {},
   "source": [
    "## Determinação do comprimento de onda de de Broglie\n",
    "Para determiar $\\lambda_{d}=h/p$, isolaremos $p$ na expressão relativística para a energia:\n",
    "\\begin{equation}\n",
    "E^{2} = (E_{0}+E_{c})^{2} = E_{0}^{2}+p^{2}c^{2},\n",
    "\\end{equation}\n",
    "com a energia de repouso sendo\n",
    "\\begin{equation}\n",
    "E_{0}=m_{0}c^2\n",
    "\\end{equation}\n",
    "e $m_{0}$ é a massa de repouso da partícula. Teremos assim\n",
    "\\begin{align}\n",
    "p & = \\sqrt{\\frac{(E_{0}+E_{c})^{2}-E_{0}^{2}}{c^{2}}} = \\sqrt{\\frac{E_{0}^{2}+2E_{0}E_{c}+E_{c}^{2}-E_{0}^{2}}{c^{2}}} \\\\\n",
    "&  = c^{-1}\\sqrt{E_{c}(E_{c}+2E_{0})},\n",
    "\\end{align}\n",
    "e o comprimento de onda de de Broglie fica\n",
    "\\begin{align}\n",
    "\\lambda_{d} & = \\frac{h}{p} = \\frac{hc}{\\sqrt{E_{c}(E_{c}+2E_{0})}}= \\frac{hc}{\\sqrt{E_{c}(E_{c}+2E_{0})}}\\frac{1/E_{0}}{1/E_{0}} = \\frac{h/m_{0}c}{\\sqrt{(E_{c}/E_{0})(E_{c}/E_{0}+2)}} \\\\ \n",
    "& = \\frac{\\lambda_{c}}{\\sqrt{(E_{c}/E_{0})(E_{c}/E_{0}+2)}},\n",
    "\\end{align}\n",
    "onde identificamos o comprimento de onda de Compton\n",
    "\\begin{equation}\n",
    "\\lambda_{c} = \\frac{h}{m_{0}c} = \\frac{hc}{E_{0}},\n",
    "\\end{equation}\n",
    "o __comprimento de onda de Compton__ do quanton.\n",
    "\n",
    "OBS. No limite não relativístico (baixas velocidades), $E_{c}\\ll E_{0}$ e\n",
    "\\begin{align}\n",
    "\\lambda_{d} & = \\frac{hc}{\\sqrt{E_{c}(E_{c}+2E_{0})}} \\approx \\frac{hc}{\\sqrt{E_{c}2E_{0}}} = \\frac{hc}{\\sqrt{E_{c}2m_{0}c^{2}}} \\\\\n",
    "& = \\frac{h}{\\sqrt{E_{c}2m_{0}}},\n",
    "\\end{align}\n",
    "que é a mesma expressão que obteríamos isolando $p$ na expressão não relativística para a energia cinética: $E_{c} = p^{2}/2m_{0}$."
   ]
  },
  {
   "cell_type": "markdown",
   "metadata": {},
   "source": [
    "### Exemplos de $\\lambda_{d}$\n",
    "1. Para uma bolinha de ping pong com massa $m_{0}=2\\text{ g}$ e velocidade $5\\text{ m/s}$ temos\n",
    "\\begin{align}\n",
    "& E_{0} \\approx 1.\\,122\\mathrm{x}10^{33}\\text{ eV}\\text{, } E_{c} \\approx mv^{2}/2 \\approx 1.56\\mathrm{x}10^{17}\\text{ eV}\\text{, } \\lambda_{c} = 1,11\\mathrm{x}10^{-39}\\text{ m}, \\\\\n",
    "& \\lambda_{d} = 6,63\\mathrm{x}10^{-32}\\text{ m} \\approx 6,63\\mathrm{x}10^{-22}\\overset{\\circ}{A}.\n",
    "\\end{align}\n",
    "\n",
    "1. Consideremos um próton vindo do espaço com energia $150\\text{ GeV}$. Como pode ser verificado com o código abaixo\n",
    "\\begin{equation}\n",
    "\\lambda_{d} \\approx 8,21\\mathrm{x}10^{-18}\\text{ m}= 8,21\\mathrm{x}10^{-8}\\overset{\\circ}{A}.\n",
    "\\end{equation}\n",
    "\n",
    "1. Consideremos um elétron \"lento\", acelerado com uma ddp de $10\\text{ V}$, i.e., com $E_{c}=10\\text{ eV}$. Nesse caso, como pode ser verificado com o código abaixo\n",
    "\\begin{equation}\n",
    "\\lambda_{d} \\approx 3,878\\text{ }\\overset{\\circ}{A},\n",
    "\\end{equation}\n",
    "que é aproximadamente o espaçamento entre planos atômicos de Bragg de um cristal. Isso indica que a hipótese de de Broglie poderia ser testada usando difração de Bragg por cristais, assim como foi feito com raios X."
   ]
  },
  {
   "cell_type": "code",
   "execution_count": 3,
   "metadata": {},
   "outputs": [
    {
     "data": {
      "text/plain": [
       "(938272083.0701021, 1.3214096447652182e-15, 8.21438935604147e-18)"
      ]
     },
     "execution_count": 3,
     "metadata": {},
     "output_type": "execute_result"
    }
   ],
   "source": [
    "mp = 1.6726219*10**-27 # kg (massa do próton)\n",
    "c = 2.99792458*10**8 # m/s (velocidade da luz no vácuo)\n",
    "e = 1.60217662*10**-19 # C (carga elementar)\n",
    "h = 6.626069*10**-34 # Js (constante de Planck)\n",
    "heV = h/e # em eV\n",
    "\n",
    "def debrogliel(m0,Ec):\n",
    "    return (heV*c)/sqrt(Ec*(Ec+2*E0(m0)))\n",
    "def comptonl(m0):\n",
    "    return h/(m0*c)\n",
    "def E0(m0): # em eV\n",
    "    return (m0*c**2)/e\n",
    "def Ecc(m,v): # em eV\n",
    "    return ((m*v**2)/2)/e\n",
    "\n",
    "E0(mp), comptonl(mp), debrogliel(mp,150*10**9)"
   ]
  },
  {
   "cell_type": "markdown",
   "metadata": {},
   "source": [
    "### Regimes de comportamento de $\\lambda_{d}$\n",
    "Vale a pena salientar que o comprimento de onda de de Broglie não é uma propriedade do quanton, mas depende de sua energia cinética. Ilustramos essa dependência na figura abaixo, olhando para \n",
    "\\begin{equation}\n",
    "\\frac{\\lambda_{d}}{\\lambda_{c}}=\\frac{1}{\\sqrt{\\left(\\frac{E_{c}}{E_{0}}\\right)^{2}+2\\frac{E_{c}}{E_{0}}}}.\n",
    "\\end{equation}\n",
    "Notamos nessa figura a existência de um ponto de transição em $E_{c}\\approx E_{0}$ entre dois regimes distintos de dependência de $\\lambda_{d}$ com $E_{c}$:\n",
    "* Para $E_{c}\\ll E_{0}$ temos $\\lambda_{d}\\propto E_{c}^{-1/2}$.\n",
    "* Para $E_{c}\\gg E_{0}$, teremos $\\lambda_{d}\\propto E_{c}^{-1}$."
   ]
  },
  {
   "cell_type": "code",
   "execution_count": 4,
   "metadata": {},
   "outputs": [],
   "source": [
    "from matplotlib import pyplot as plt\n",
    "import numpy as np"
   ]
  },
  {
   "cell_type": "code",
   "execution_count": 5,
   "metadata": {},
   "outputs": [
    {
     "data": {
      "image/png": "[encoded data removed]",
      "text/plain": [
       "<Figure size 400x600 with 1 Axes>"
      ]
     },
     "metadata": {},
     "output_type": "display_data"
    }
   ],
   "source": [
    "import matplotlib\n",
    "matplotlib.rcParams.update({'font.size':12}); \n",
    "plt.figure(figsize = (4,6), dpi = 100)\n",
    "x = np.linspace(10**-6, 10**4, 10**5); y = 1/np.sqrt(x*(x+2))\n",
    "plt.xlabel(r'$E_{c}/E_{0}$', fontsize=13); \n",
    "plt.ylabel(r'$\\lambda_{d}/\\lambda_{c}$', fontsize=13)\n",
    "plt.xlim(10**-6,10**4); plt.ylim(10**-4,10**3); plt.loglog(x, y); \n",
    "plt.show()"
   ]
  },
  {
   "cell_type": "markdown",
   "metadata": {},
   "source": [
    "## Verificação experimental da hipótese de de Broglie\n",
    "Como visto no exemplo acima, elétrons lentos possuem comprimento de onda de de Broglie da ordem da separação entre átomos em um cristal típico, indicando assim uma possível maneira para medição de suas propriedades ondulatórias (com procedimentos análogos aos feitos para demonstrar que raios X são um tipo de onda eletromagnética). Na figura abaixo, está mostrado um esquema do aparato experimental utilizado por __Davisson e Germer__ (https://www.nobelprize.org/prizes/physics/1937/davisson/lecture/).\n",
    "<figure>\n",
    "    <img src=\"fig_05_davisson_germer.png\" width=\"450\">\n",
    "    <div class=\"caption\">Fonte: https://commons.wikimedia.org/wiki/File:Aparell_de_Davisson-Germer.png.</div>\n",
    "</figure>\n",
    "\n",
    "Como vimos anteriormente, quando discutimos a quantização da luz, a condição de Bragg para interferência construtiva máxima para duas ondas espalhadas em planos de Bragg diferentes é\n",
    "\\begin{equation}\n",
    "2d\\sin(\\theta/2) =n\\lambda,\n",
    "\\end{equation}\n",
    "com $n$ sendo um número natural positivo. Utilizando \n",
    "$$d=0,215\\text{ nm}$$\n",
    "para o Níquel, obtido por difração de raios X, e o ângulo onde se observa o máximo da intensidade do feixe de elétrons no gráfico polar, que é \n",
    "$$\\theta_{\\max}=50^{\\circ},$$\n",
    "Davisson e Germer obtiveram o comprimento de onda\n",
    "\\begin{equation}\n",
    "\\lambda = \\frac{2d\\sin(\\theta/2)}{n} = \\frac{(2)(0,215\\text{ nm})\\sin((50\\pi/180)/2)}{1} \\approx 0,182\\text{ nm}. \n",
    "\\end{equation}\n",
    "Esse resultado concorda muito bem com o comprimento de onda de elétrons com a energia daqueles usados nesses experimentos, que era $54\\text{ eV}$:\n",
    "\\begin{equation}\n",
    "\\lambda_{d} \\approx 0,167\\text{ nm}.\n",
    "\\end{equation}"
   ]
  },
  {
   "cell_type": "code",
   "execution_count": 6,
   "metadata": {},
   "outputs": [
    {
     "data": {
      "text/plain": [
       "(1.81725852548501e-10, 1.66891013028648e-10)"
      ]
     },
     "execution_count": 6,
     "metadata": {},
     "output_type": "execute_result"
    }
   ],
   "source": [
    "import math\n",
    "me = 9.109382*10**-31 # kg (massa do elétron)\n",
    "2*0.215*10**-9*sin((50*math.pi/180)/2), debrogliel(me,54)"
   ]
  },
  {
   "cell_type": "markdown",
   "metadata": {},
   "source": [
    "## Experimento de dupla fenda com moléculas grandes\n",
    "Houveram várias verificações experimentais da hipótese de de Broglie (com elétrons, com nêutrons, com átomos de Hélio, com grandes moléculas como e.g. $C_{60}$, etc), comprovando sem sombra de dúvidas que a matéria também apresenta características ondulatórias. Experimentos que pretendem investigar possíveis limites de aplicação da Mecânica Quântica tem sido feitos com quantons cada vez mais massivos, com um famoso exemplo sendo o experimento feito com fulerenos, moléculas contendo 60 átomos de Carbono. No vídeo abaixo está mostrada a detecção molécula a molécula (Phthalocyanine) em um experimento de dupla fenda."
   ]
  },
  {
   "cell_type": "code",
   "execution_count": 8,
   "metadata": {},
   "outputs": [
    {
     "data": {
      "image/jpeg": "[encoded data removed]",
      "text/html": [
       "\n",
       "        <iframe\n",
       "            width=\"400\"\n",
       "            height=\"400\"\n",
       "            src=\"https://www.youtube.com/embed/wDx8tu-iX8U\"\n",
       "            frameborder=\"0\"\n",
       "            allowfullscreen\n",
       "            \n",
       "        ></iframe>\n",
       "        "
      ],
      "text/plain": [
       "<IPython.lib.display.YouTubeVideo at 0x13c2290f310>"
      ]
     },
     "execution_count": 8,
     "metadata": {},
     "output_type": "execute_result"
    }
   ],
   "source": [
    "from IPython.display import YouTubeVideo; YouTubeVideo('wDx8tu-iX8U',width=400,height=400)"
   ]
  },
  {
   "cell_type": "markdown",
   "metadata": {},
   "source": [
    "Portanto, assim como a radiação eletromagnética, ao se mover pelo espaço a matéria se comporta como onda mas ao trocar energia com outros quantons essa se comporta como partícula. Fica comprovada assim a existência de __ondas de matéria__. O fato de não observarmos o comportamento tipo onda da matéria rotineiramente é entendido por seu comprimento de onda típico ser realmente muito pequeno.\n",
    "\n",
    "Poderíamos pensar que um quanton do feixe que interage com outros quantons do feixe, fazendo aparecer o comportamento ondulatório. Mas esses experimentos com controle individual dos quantons mostram que a dualidade onda-partícula é uma propriedade individual de cada quanton.\n",
    "\n",
    "O mesmo tipo de experimento foi feito com __fótons__. Veja e.g. (https://doi.org/10.1119/1.4955173) e (https://youtu.be/ayvbKafw2g0).\n",
    "\n",
    "Fica aqui a questão de qual é a __equação de onda__ que precisamos resolver para encontrar as função de onda que descreve uma determinada onda de matéria. Veremos na sequência a resposta de Schrödinger para essa pergunta."
   ]
  },
  {
   "cell_type": "markdown",
   "metadata": {},
   "source": [
    "---\n",
    "# Exercícios\n",
    "\n",
    "$1.$ Se a energia cinética de uma partícula for muito maior que sua energia de repouso, podemos usar a aproximação $pc\\approx E_{c}\\approx E$. Verifique que essa aproximação é razoável para um elétron com energia cinética $100\\text{ GeV}$, e calcule seu comprimento de onda de de Broglie.\n",
    "\n",
    "$2.$ Os elétrons de um microscópio eletrônico são acelerados por uma ddp $V_{0}$ que faz com que eles tenham comprimento de onda igual a $0,04\\text{ nm}$. Determine o valor de $V_{0}$.\n",
    "\n",
    "$3.$ De acordo com a mecânica estatística, a energia cinética média, $\\bar{E}_{c}$, de uma partícula de um gás em equilíbrio térmico a uma temperatura $T$ é igual a $3k_{B}T/2$, com $k_{B}$ sendo a constante de Boltzmann. Obtenha  $\\bar{E}_{c}$, em elétron-volts, e o comprimento de onda de de Broglie para um gás de moléculas de Nitrogênio a temperatura ambiente.\n",
    "\n",
    "$4.$ Qual é a energia cinética de um próton com comprimento de onda de de Broglie é $0,25\\text{ nm}$. Se um feixe de prótons com esse comprimento de onda é difratado por um cristal de calcita com distância entre planos de Bragg igual a $0,304\\text{ nm}$, qual é o ângulo correspondente ao máximo de difração de Bragg de primeira ordem?\n",
    "\n",
    "$5.$ Qual é o ângulo de Bragg $\\theta$ para elétrons com energias cinéticas de $75\\text{ eV}$ e $100\\text{ eV}$ difratados por um cristal de Níquel.\n",
    "\n",
    "$6.$ Um feixe de nêutrons incide em um cristal cujo espaçamento entre planos de Bragg é $0,3\\text{ nm}$ e o primeiro máximo de difração é observado para $\\theta=42^{\\circ}$. Determine o comprimento de onda de de Broglie e a energia cinética dos nêutrons.\n",
    "\n",
    "$7.$ Um elétron e um pósitron (que possui massa de repouso $m_{e}$ e carga elétrica $+e$) se movem com velocidade $3\\mathrm{x}10^{6}\\text{ m/s}$ um em direção ao outro, sendo aniquilados, e emitindo dois fótons de mesma energia. Quais eram os comprimentos de onda de de Broglie do elétron e do pósitron? Qual é a energia, comprimento de onda e momento linear dos fótons. \n",
    "\n",
    "$8.$ De início, de Broglie aplicou $\\lambda=h/p$ para fótons, imaginando que tivessem uma massa pequena mas finita. Ele supôs que ondas eletromagnéticas de radiofrequência, com $\\lambda=30\\text{ m}$, viajam com velocidade $v_{rf}>0,99c$, com $c$ sendo a velocidade da luz visível ($\\lambda=500\\text{ nm}$) no vácuo. Partindo de $h\\nu=\\gamma mc^{2}$, com $\\gamma=1/\\sqrt{1-v^{2}/c^{2}}$, verifique a conclusão de de Broglie de que a massa de repouso do fóton é menor que $10^{-44}\\text{ kg}$."
   ]
  }
 ],
 "metadata": {
  "kernelspec": {
   "display_name": "Python 3 (ipykernel)",
   "language": "python",
   "name": "python3"
  },
  "language_info": {
   "codemirror_mode": {
    "name": "ipython",
    "version": 3
   },
   "file_extension": ".py",
   "mimetype": "text/x-python",
   "name": "python",
   "nbconvert_exporter": "python",
   "pygments_lexer": "ipython3",
   "version": "3.11.1"
  }
 },
 "nbformat": 4,
 "nbformat_minor": 4
}
