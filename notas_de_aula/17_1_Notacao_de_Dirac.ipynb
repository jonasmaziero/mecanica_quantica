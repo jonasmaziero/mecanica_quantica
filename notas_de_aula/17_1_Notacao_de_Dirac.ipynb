{
 "cells": [
  {
   "cell_type": "markdown",
   "metadata": {},
   "source": [
    "### Notas de aula de Mecânica Quântica <br> Autor: Jonas Maziero"
   ]
  },
  {
   "cell_type": "markdown",
   "metadata": {},
   "source": [
    "# Notação de Dirac\n",
    "\n",
    "Em física clássica, estamos acostumados a lidar com vetores. Por exemplo, para a descrição da dinâmica clássica de uma partícula definimos a posição da partícula em relação a um certo referencial $O$ usando um vetor\n",
    "$$\\vec{r}.$$\n",
    "Esse vetor é descrito graficamente por uma seta em $\\mathbb{R}^3$ que vai da origem do referencial até a posição da partícula. O tamanho da seta é calculado usando a norma do vetor:\n",
    "$$r = ||\\vec{r}|| = \\sqrt{\\vec{r}\\cdot\\vec{r}}.$$\n",
    "Dezemos que um vetor é unitário ou normalizado quando sua norma for igual a 1.\n",
    "\n",
    "Frequentemente é útil escrever um vetor em termos de uma base, que usualmente é composta por versores. Por exemplo, para o sistema de coordenada cartesiano, estamos acostumados a usar os versores \n",
    "$$\\hat{i},\\ \\hat{j},\\ \\hat{k},$$\n",
    "que apontam, respectivamente, para as direções $x$, $y$, $z$ positivas. Em termos dessa base ortonormal, um vetor fica escrito como\n",
    "$$\\vec{r} = x\\hat{i} + y\\hat{j} + z\\hat{k} = \\begin{bmatrix}\\hat{i}\\cdot\\vec{r} \\\\ \\hat{j}\\cdot\\vec{r} \\\\ \\hat{k}\\cdot\\vec{r}\\end{bmatrix} = \\begin{bmatrix} x \\\\ y \\\\ z \\end{bmatrix}.$$\n",
    "Os números $\\{x,y,z\\}$ são as componentes do vetor $\\vec{r}$ quando escrito na base $\\{\\hat{i},\\hat{j},\\hat{k}\\}.$\n"
   ]
  },
  {
   "cell_type": "code",
   "execution_count": null,
   "metadata": {},
   "outputs": [],
   "source": []
  },
  {
   "cell_type": "markdown",
   "metadata": {},
   "source": [
    "--- \n",
    "# Exercícios\n",
    "\n",
    "$1.$ "
   ]
  },
  {
   "cell_type": "code",
   "execution_count": null,
   "metadata": {},
   "outputs": [],
   "source": []
  }
 ],
 "metadata": {
  "kernelspec": {
   "display_name": "Python 3 (ipykernel)",
   "language": "python",
   "name": "python3"
  },
  "language_info": {
   "codemirror_mode": {
    "name": "ipython",
    "version": 3
   },
   "file_extension": ".py",
   "mimetype": "text/x-python",
   "name": "python",
   "nbconvert_exporter": "python",
   "pygments_lexer": "ipython3",
   "version": "3.11.1"
  }
 },
 "nbformat": 4,
 "nbformat_minor": 4
}
