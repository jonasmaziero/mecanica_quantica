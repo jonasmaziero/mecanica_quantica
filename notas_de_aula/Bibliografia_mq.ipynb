{
 "cells": [
  {
   "cell_type": "markdown",
   "metadata": {},
   "source": [
    "# Bibliografia\n",
    "\n",
    "$1.$ SAKURAI, J. J. Mecânica Quântica Moderna. Bookman, Porto Alegre: 2013.\n",
    "\n",
    "$2.$ GRIFFITHS, D. J. Introduction to Quantum Mechanics. Prentice Hall, Upper Saddle River: 2005.\n",
    "\n",
    "$3.$ PIZA, A. F. R. T. Mecânica Quântica. Edusp, São Paulo: 2003.\n",
    "\n",
    "$4.$ FEYNMAN, R. P. The Feynman Lectures on Physics. Addison-Wesley, Reading: 1966. v. 3.\n",
    "\n",
    "$5.$ MESSIAH, A. Quantum Mechanics. Dover, Mineola: 1999.\n",
    "\n",
    "$6.$ HORBATSCH, M. Quantum Mechanics using Maple. Springer, Berlin: 1995.\n",
    "\n",
    "$7.$ PESSOA Jr., O. Conceitos de Física Quântica, Vols. I e II, Editora Livraria da Física, 2006.\n",
    "\n",
    "$8.$ TIPLER, P.A., LLEWELLYN, R.A.. Física Moderna. LTC, Rio de Janeiro: 2010.\n",
    "\n",
    "$9.$ EISBERG, R. M., RESNICK, R.. Quantum Physics of Atoms, Molecules, Solids, Nuclei, and Particles. John Wiley & Sons, California: 1985.\n",
    "\n",
    "$10.$ NUSSENZVEIG, H. M.. Curso de Física Básica – Vol. 4. Editora Blucher, São Paulo: 1998.\n",
    "\n",
    "$11.$ AMARAL, B., BARAVIERA, A. T., TERRA CUNHA, M. O.. Mecânica Quântica para Matemáticos em Formação. IMPA, Rio de Janeiro: 2011. Disponível em https://impa.br/wp-content/uploads/2017/04/28CBM_12.pdf.\n",
    "\n",
    "$12.$ THORNTON, S.T., MARION, J.B.. Classical Dynamics of Particles and Systems. Thomson Learning, Belmont: 2004.\n",
    "\n",
    "$13.$ ARFKEN, G. B., WEBER, H. J.. Mathematical Methods for Physiscists. Elsevier, Oxford: 2005.\n",
    "\n",
    "$14.$ NIELSEN, M. A., CHUANG, I. L.. Quantum Computation and Quantum Information. Cambridge University Press, Cambridge: 2010.\n",
    "\n",
    "$15.$ MACHADO, K. D., Teoria do Eletromagnetismo. Volumes 1, 2 e 3. Editora UEPG, Ponta Grossa: 2000.\n",
    "\n",
    "$16.$ PAULING, L., WILSON JR, E. B.. Introduction to Quantum Mechanics With Applications to Chemistry. Dover Publications, Nova York: 1963.\n",
    "\n",
    "$17.$ BETHE, H. A., JACKIW, R.. Intermidiate Quantum Mechanics. Westview Press, Nova York: 1997."
   ]
  },
  {
   "cell_type": "code",
   "execution_count": null,
   "metadata": {},
   "outputs": [],
   "source": []
  }
 ],
 "metadata": {
  "kernelspec": {
   "display_name": "Python 3 (ipykernel)",
   "language": "python",
   "name": "python3"
  },
  "language_info": {
   "codemirror_mode": {
    "name": "ipython",
    "version": 3
   },
   "file_extension": ".py",
   "mimetype": "text/x-python",
   "name": "python",
   "nbconvert_exporter": "python",
   "pygments_lexer": "ipython3",
   "version": "3.11.1"
  }
 },
 "nbformat": 4,
 "nbformat_minor": 4
}
