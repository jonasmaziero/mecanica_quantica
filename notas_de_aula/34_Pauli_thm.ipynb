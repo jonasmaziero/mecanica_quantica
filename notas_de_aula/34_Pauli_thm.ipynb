{
 "cells": [
  {
   "cell_type": "markdown",
   "metadata": {},
   "source": [
    "### Notas de aula de Mecânica Quântica <br> Autor: Jonas Maziero"
   ]
  },
  {
   "cell_type": "markdown",
   "metadata": {},
   "source": [
    "# Teorema de Pauli\n",
    "Vamos considerar que hamiltoniano de um sistema e as auto-energias e auto-funções desse hamiltoniano dependem de um certo parâmetro:\n",
    "$$H=H(\\alpha)\\ \\therefore\\ E=E(\\alpha),\\ \\psi=\\psi(\\vec{r},\\alpha),$$\n",
    "em que $\\alpha$ é um parâmetro qualquer, tal como a massa ou carga elétrica de um quanton, a frequência associada a um campo magnético externo, etc. Então podemos escrever\n",
    "\\begin{equation}\n",
    "\\partial_{\\alpha}E(\\alpha) = \\langle\\partial_{\\alpha}H(\\alpha)\\rangle.\n",
    "\\end{equation}\n",
    "\n",
    "## Prova\n",
    "Para verificar a validade dessa igualdade, começamos considerando a equação de Schrödinger independente do tempo:\n",
    "\\begin{equation}\n",
    "H(\\alpha)\\psi(\\vec{r},\\alpha) = E(\\alpha)\\psi(\\vec{r},\\alpha). \\hspace{2cm} (\\star)\n",
    "\\end{equation}\n",
    "Lembrando, da condição de normalização da função de onda, temos que\n",
    "\\begin{equation}\n",
    "\\int d^{3}r\\psi(\\vec{r},\\alpha)^{*}\\psi(\\vec{r},\\alpha)=1,\n",
    "\\end{equation}\n",
    "em que consideramos que o hamiltoniano e suas autoenergias e autofunções dependem do parâmentro $\\alpha$. \n",
    "Seguindo, multiplicamos a eq. $(\\star)$ por $\\psi(\\vec{r},\\alpha)^{*}$ e integramos em $\\mathbb{R}^{3}$:\n",
    "\\begin{align}\n",
    "\\int d^{3}r\\psi(\\vec{r},\\alpha)^{*}H(\\alpha)\\psi(\\vec{r},\\alpha) &= \\int d^{3}r\\psi(\\vec{r},\\alpha)^{*}E(\\alpha)\\psi(\\vec{r},\\alpha) \\\\\n",
    "&= E(\\alpha)\\int d^{3}r\\psi(\\vec{r},\\alpha)^{*}\\psi(\\vec{r},\\alpha) \\\\\n",
    "&=E(\\alpha).\n",
    "\\end{align}"
   ]
  },
  {
   "cell_type": "markdown",
   "metadata": {},
   "source": [
    "Derivando última essa equação em relação a $\\alpha$, obteremos\n",
    "\\begin{align}\n",
    "\\partial_{\\alpha}E(\\alpha) &= \\int d^{3}r\\psi(\\vec{r},\\alpha)^{*}(\\partial_{\\alpha}H(\\alpha))\\psi(\\vec{r},\\alpha) \\\\\n",
    "& + \\int d^{3}r(\\partial_{\\alpha}\\psi(\\vec{r},\\alpha)^{*})H(\\alpha)\\psi(\\vec{r},\\alpha) + \\int d^{3}r\\psi(\\vec{r},\\alpha)^{*}H(\\alpha)(\\partial_{\\alpha}\\psi(\\vec{r},\\alpha)). \\hspace{1cm} (\\star\\star)\n",
    "\\end{align}\n",
    "\n",
    "Notemos que\n",
    "\\begin{align}\n",
    "& \\psi^* H = (H\\psi)^\\dagger = (E\\psi)^\\dagger = \\psi^\\dagger E = \\psi^* E.\n",
    "\\end{align}"
   ]
  },
  {
   "cell_type": "markdown",
   "metadata": {},
   "source": [
    "Assim, usando a eq. $(\\star)$ e o resultado \n",
    "$$\\psi(\\vec{r},\\alpha)^{*}H(\\alpha)=\\psi(\\vec{r},\\alpha)^{*}E(\\alpha),$$\n",
    "veremos que a última linha da Eq. $(\\star\\star)$ é nula:\n",
    "\\begin{align}\n",
    "& \\int d^{3}r(\\partial_{\\alpha}\\psi(\\vec{r},\\alpha)^{*})H(\\alpha)\\psi(\\vec{r},\\alpha) + \\int d^{3}r\\psi(\\vec{r},\\alpha)^{*}H(\\alpha)(\\partial_{\\alpha}\\psi(\\vec{r},\\alpha)) \\\\\n",
    "& = \\int d^{3}r(\\partial_{\\alpha}\\psi(\\vec{r},\\alpha)^{*})E(\\alpha)\\psi(\\vec{r},\\alpha) + \\int d^{3}r\\psi(\\vec{r},\\alpha)^{*}E(\\alpha)(\\partial_{\\alpha}\\psi(\\vec{r},\\alpha)) \\\\\n",
    "& = E(\\alpha)\\left(\\int d^{3}r(\\partial_{\\alpha}\\psi(\\vec{r},\\alpha)^{*})\\psi(\\vec{r},\\alpha) + \\int d^{3}r\\psi(\\vec{r},\\alpha)^{*}(\\partial_{\\alpha}\\psi(\\vec{r},\\alpha))\\right) \\\\\n",
    "& = E(\\alpha)\\int d^{3}r\\partial_{\\alpha}(\\psi(\\vec{r},\\alpha)^{*}\\psi(\\vec{r},\\alpha)) \\\\\n",
    "& = E(\\alpha)\\partial_{\\alpha}\\int d^{3}r(\\psi(\\vec{r},\\alpha)^{*}\\psi(\\vec{r},\\alpha)) \\\\\n",
    "&= E(\\alpha)\\partial_{\\alpha}(1)=0.\n",
    "\\end{align}\n",
    "A Eq. $(\\star\\star)$ fica então escrita como \n",
    "$$\\partial_{\\alpha}E(\\alpha) = \\langle\\partial_{\\alpha}H(\\alpha)\\rangle,$$\n",
    "concluindo assim a prova do teorema. $\\hspace{4cm}\\square$"
   ]
  },
  {
   "cell_type": "markdown",
   "metadata": {},
   "source": [
    "## Exemplos\n",
    "### Oscilador harmônico 1D\n",
    "Nesse caso, teremos \n",
    "\\begin{align}\n",
    "& H=P^{2}/2m+m\\omega^{2}X^{2}/2=H(\\omega), \\\\\n",
    "&E_{n}=\\hbar\\omega(n+1/2)=E_{n}(\\omega).\n",
    "\\end{align}\n",
    "Aplicando o teorema de Pauli, teremos que\n",
    "\\begin{align}\n",
    "\\partial_{\\omega}E_{n}(\\omega) & = \\hbar(n+1/2)  \\\\\n",
    "& = \\langle\\partial_{\\omega}H(\\omega)\\rangle_{\\Xi_{n}} \\\\\n",
    "& = \\big\\langle\\big(0+ m\\omega X^{2}\\big)\\big\\rangle_{\\Xi_{n}} \\\\\n",
    "& = m\\omega\\langle X^{2}\\rangle_{\\Xi_{n}}.\n",
    "\\end{align}\n",
    "Vemos assim que, para qualquer um dos possíveis valores de $n=1,2,3,\\cdots$, obtivemos o valor médio do quadrado da posição:\n",
    "\\begin{equation}\n",
    "\\langle X^{2}\\rangle_{\\Xi_{n}} = \\frac{\\hbar(n+1/2)}{m\\omega} = \\frac{\\hbar\\omega(n+1/2)}{m\\omega^{2}} = \\frac{E_{n}}{m\\omega^{2}}.\n",
    "\\end{equation}\n",
    "\n",
    "Pode-se verificar também, escolhendo-se apropriadamente o parâmetro a ser usado no teorema de Pauli, que\n",
    "\\begin{align}\n",
    "\\langle P^{2}\\rangle_{\\Xi_{n}}=m^{2}\\omega^{2}\\langle X^{2}\\rangle_{\\Xi_{n}}=mE_{n}\n",
    "\\end{align}"
   ]
  },
  {
   "cell_type": "markdown",
   "metadata": {},
   "source": [
    "### Átomos hidrogenóides\n",
    "A seguir utilizaremos o teorema de Pauli para obter alguns valores médios que serão úteis para o estudo da estrutura fina dos níveis de energia desse tipo de átomo.\n",
    "### $\\langle 1/r\\rangle$\n",
    "Nesse caso, as energias possíveis são\n",
    "\\begin{equation}\n",
    "E_{n}=-\\frac{\\mu k^{2}Z^{2}e^{4}}{2\\hbar^{2}n^{2}} = - \\frac{\\mu c^{2}Z^{2}\\alpha^{2}}{2n^{2}},\n",
    "\\end{equation}\n",
    "em que definimos a constante de estrutura fina\n",
    "\\begin{equation}\n",
    "\\alpha := \\frac{ke^{2}}{\\hbar c} \\approx \\frac{1}{137,04}.\n",
    "\\end{equation}\n",
    "E o Hamiltoniano pode ser escrito como \n",
    "\\begin{equation}\n",
    "H=\\frac{p^{2}}{2\\mu}-\\frac{kZe^{2}}{r} =\\frac{p^{2}}{2\\mu}-\\frac{Z\\hbar c\\alpha}{r},\n",
    "\\end{equation}\n",
    "em que \n",
    "$$\\mu=\\frac{m_e m_n}{m_e + m_n}$$\n",
    "é a massa reuzida.\n",
    "Aplicando o teorema de Pauli, teremos que\n",
    "\\begin{equation}\n",
    "\\partial_{\\alpha}E_{n} = - \\frac{\\mu c^{2}Z^{2}\\alpha}{n^{2}} = \\langle\\partial_{\\alpha}H\\rangle = \\left\\langle\\left(0-\\frac{Z\\hbar c}{r}\\right)\\right\\rangle,\n",
    "\\end{equation}\n",
    "da qual inferimos que\n",
    "\\begin{equation}\n",
    "\\left\\langle\\frac{1}{r}\\right\\rangle_{\\psi_{n,l,m_{l},m_{s}}} = \\frac{\\mu cZ\\alpha}{\\hbar n^{2}} = \\frac{Z}{a_{0}n^{2}},\n",
    "\\end{equation}\n",
    "em que usamos o raio de Bohr \n",
    "$$a_{0}=\\frac{\\hbar^{2}}{\\mu ke^{2}}=\\frac{\\hbar}{\\mu c\\alpha}.$$"
   ]
  },
  {
   "cell_type": "code",
   "execution_count": 3,
   "metadata": {},
   "outputs": [
    {
     "data": {
      "text/plain": [
       "(0.007297353708285256, 0.0072971395213076475)"
      ]
     },
     "execution_count": 3,
     "metadata": {},
     "output_type": "execute_result"
    }
   ],
   "source": [
    "import math\n",
    "e = 1.60217662*10**-19 # C (carga elementar)\n",
    "k = 8.9875517923*10**9 # Nm^2/C^2 (constante de Coulomb)\n",
    "h = 6.626069*10**-34 # Js (constante de Planck)\n",
    "hb = h/(2*math.pi) # hbar\n",
    "c = 2.99792458*10**8 # m/s (velocidade da luz no vácuo)\n",
    "al = (k*e**2)/(hb*c); al, 1/137.04  # valor aproximado da constante de estrutura fina"
   ]
  },
  {
   "cell_type": "markdown",
   "metadata": {},
   "source": [
    "### $\\langle 1/r^{2}\\rangle$\n",
    "Em coordenadas esféricas, usando o momento angular\n",
    "\\begin{equation}\n",
    "L^{2} = -\\hbar^{2}\\left(\\frac{1}{\\sin\\theta}\\frac{\\partial}{\\partial\\theta}\\left(\\sin\\theta\\frac{\\partial}{\\partial\\theta}\\right) + \\frac{1}{\\sin^{2}\\theta}\\frac{\\partial^{2}}{\\partial\\phi^{2}}\\right),\n",
    "\\end{equation}\n",
    "podemos escrever a EqSIT como segue\n",
    "\\begin{align}\n",
    "& \\frac{-\\hbar^{2}}{2\\mu}\\left(\\frac{1}{r^{2}}\\frac{\\partial}{\\partial r}\\left(r^{2}\\frac{\\partial\\psi}{\\partial r}\\right) + \\frac{1}{r^{2}\\sin\\theta}\\frac{\\partial}{\\partial \\theta}\\left(\\sin\\theta\\frac{\\partial\\psi}{\\partial \\theta}\\right) + \\frac{1}{r^{2}\\sin^{2}\\theta}\\frac{\\partial^{2}\\psi}{\\partial \\phi^{2}} \\right) + U(r)\\psi = E\\psi, \\\\\n",
    "& \\therefore \\left(F(r)+\\frac{L^{2}}{2\\mu r^{2}}\\right)\\psi = \\left(F(r)+\\frac{\\hbar^{2}l(l+1)}{2\\mu r^{2}}\\right)\\psi =H\\psi= E\\psi,\n",
    "\\end{align}\n",
    "em que definimos \n",
    "\\begin{equation}\n",
    "F(r)=\\frac{-\\hbar^{2}}{2\\mu}\\frac{1}{r^{2}}\\frac{\\partial}{\\partial r}\\left(r^{2}\\frac{\\partial}{\\partial r}\\right)+U(r)\n",
    "\\end{equation}\n",
    "e \n",
    "$$U(r)=-\\frac{kZe^{2}}{r}.$$\n",
    "Notando que $F(r)$ não depende de $l$, usaremos $l$ como parâmetro no teorema de Pauli. "
   ]
  },
  {
   "cell_type": "markdown",
   "metadata": {},
   "source": [
    "Como a energia depende explicitamente somente de $n$, poderíamos pensar que $\\partial_{l}E_{n}=0$. No entanto, temos que lembrar que $n$ e $l$ estão vinculados. Ao obter a função de onda radial, truncamos a série fazendo\n",
    "\\begin{equation}\n",
    "n= j_{\\max}+l+1\n",
    "\\end{equation}\n",
    "com $j_{\\max}$ fixo e determinando a maior potência de $r$ na série. Com isso vem que\n",
    "\\begin{align}\n",
    "& \\partial_{l}E_{n} = (\\partial_{n}E_{n})(\\partial_{l}n) \\\\\n",
    "& = \\partial_{n}\\left(- \\frac{\\mu c^{2}Z^{2}\\alpha^{2}}{2n^{2}}\\right)(1) \\\\\n",
    "& = \\frac{\\mu c^{2}Z^{2}\\alpha^{2}}{n^{3}} \\\\\n",
    "& = \\langle\\partial_{l}H\\rangle \\\\\n",
    "& = \\left\\langle\\partial_{l}\\left(F(r)+\\frac{\\hbar^{2}l(l+1)}{2\\mu r^{2}}\\right)\\right\\rangle \\\\\n",
    "& = 0 + \\frac{\\hbar^{2}(2l+1)}{2\\mu}\\left\\langle\\frac{1}{r^{2}}\\right\\rangle.\n",
    "\\end{align}\n",
    "Assim\n",
    "\\begin{equation}\n",
    "\\left\\langle\\frac{1}{r^{2}}\\right\\rangle_{\\psi_{n,l,m_{l},m_{s}}} = \\frac{\\mu^{2} c^{2}Z^{2}\\alpha^{2}}{\\hbar^{2}(l+1/2)n^{3}} = \\frac{Z^{2}}{a_{0}^{2}(l+1/2)n^{3}}.\n",
    "\\end{equation}"
   ]
  },
  {
   "cell_type": "markdown",
   "metadata": {},
   "source": [
    "### $\\langle 1/r^{3}\\rangle$\n",
    "\n",
    "Nesse caso não usaremos o teorema de Pauli, mas o introduzimos aqui para ficar guardado junto com os resultados relacionados.\n",
    "\n",
    "Para energias potenciais dependentes somente da posição, i.e., para $U=U(\\vec{R})$, vemos que, em termos de valores médios, podemos obter uma 2ª lei de Newton:\n",
    "\\begin{equation}\n",
    "m\\partial_{tt}\\langle\\vec{R}(t)\\rangle = \\partial_{t}\\langle\\vec{P}(t)\\rangle = \\langle - \\nabla_{\\vec{R}}U(\\vec{R})\\rangle = \\langle\\vec{F}(t)\\rangle.\n",
    "\\end{equation}\n",
    "\n",
    "Para __estados estacionários__, a densidade de probabilidade não depende do tempo. Por conseguinte, valores médios também não dependem do tempo. Portanto\n",
    "\\begin{equation}\n",
    "\\langle\\vec{F}(t)\\rangle = \\langle - \\nabla_{\\vec{R}}U(\\vec{R})\\rangle  = 0.\n",
    "\\end{equation}\n",
    "\n",
    "Se decompormos o momento linear em termos de suas componentes nas direções radial e tangencial, \n",
    "\\begin{equation}\n",
    "\\vec{P}=\\vec{P}_{r}+\\vec{P}_{t} \\ \\therefore\\ P^{2}=P_{r}^{2}+P_{t}^{2}.\n",
    "\\end{equation}\n",
    "Como \n",
    "\\begin{align}\n",
    "& \\vec{L}=\\vec{R}\\mathrm{x}\\vec{P}=\\vec{R}\\mathrm{x}\\vec{P}_{r}+\\vec{R}\\mathrm{x}\\vec{P}_{t}=0+\\vec{R}\\mathrm{x}\\vec{P}_{t} \\\\\n",
    "& \\therefore\\ L=RP_{t},\n",
    "\\end{align}\n",
    "e então \n",
    "$$P_{t}^{2}= \\frac{L^{2}}{R^{2}}.$$"
   ]
  },
  {
   "cell_type": "markdown",
   "metadata": {},
   "source": [
    "Assim\n",
    "\\begin{align}\n",
    "H &= \\frac{P^{2}}{2\\mu}+U(R) \\\\\n",
    "& = \\frac{P_{r}^{2}}{2\\mu} + \\frac{P_{t}^{2}}{2\\mu}+U(R) \\\\\n",
    "& = \\frac{P_{r}^{2}}{2\\mu} + \\frac{L^{2}}{2\\mu R^{2}}+U(R) \\\\\n",
    "&= \\frac{P_{r}^{2}}{2\\mu}+\\tilde{U}(R),\n",
    "\\end{align}\n",
    "onde definimos o __potencial efetivo__:\n",
    "\\begin{align}\n",
    "\\tilde{U}(R) & := \\frac{L^{2}}{2\\mu R^{2}}+U(R) \\\\\n",
    "& = \\frac{L^{2}}{2\\mu R^{2}} -\\frac{kZe^{2}}{R},\n",
    "\\end{align}\n",
    "transformando o problema 3D em um __problema efetivo em 1D__."
   ]
  },
  {
   "cell_type": "markdown",
   "metadata": {},
   "source": [
    "Com isso teremos\n",
    "\\begin{align}\n",
    "& \\vec{0} = \\langle\\vec{F}\\rangle = \\langle(-\\vec{\\nabla}_{\\vec{R}}\\tilde{U}(R))\\rangle \\\\\n",
    "& = \\langle -\\hat{r}\\partial_{R}\\tilde{U}(R)\\rangle +\\hat{\\theta}0+\\hat{\\phi}0 \\\\\n",
    "& = -\\hat{r}\\left(\\left\\langle \\partial_{R}\\left(\\frac{\\hbar^{2}l(l+1)}{2\\mu R^{2}}\\right)\\right\\rangle + \\left\\langle \\partial_{R}\\left(-\\frac{kZe^{2}}{R}\\right)\\right\\rangle\\right) \\\\\n",
    "& = -\\hat{r}\\left(\\left\\langle \\partial_{R}\\left(\\frac{\\hbar^{2}l(l+1)}{2\\mu R^{2}}\\right)\\right\\rangle + \\left\\langle \\partial_{R}\\left(-\\frac{kZe^{2}}{R}\\right)\\right\\rangle\\right) \\\\\n",
    "& = -\\hat{r}\\left(-\\frac{\\hbar^{2}l(l+1)}{\\mu}\\left\\langle \\frac{1}{R^{3}}\\right\\rangle + kZe^{2}\\left\\langle\\frac{1}{R^{2}}\\right\\rangle\\right)\n",
    "\\end{align}\n",
    "e assim ($a_{0}=\\hbar^{2}/\\mu ke^{2}$)\n",
    "\\begin{align}\n",
    "\\left\\langle\\frac{1}{R^{3}}\\right\\rangle_{\\psi_{n,l,m_{l},m_{s}}} &= \\frac{\\mu kZe^{2}}{\\hbar^{2}l(l+1)}\\left\\langle\\frac{1}{R^{2}}\\right\\rangle \\\\\n",
    "& = \\frac{Z}{a_{0}l(l+1)}\\frac{Z^{2}}{a_{0}^{2}(l+1/2)n^{3}} \\\\\n",
    "& = \\frac{Z^{3}}{a_{0}^{3}l(l+1)(l+1/2)n^{3}}.\n",
    "\\end{align}"
   ]
  },
  {
   "cell_type": "markdown",
   "metadata": {},
   "source": [
    "---\n",
    "## Exercícios\n",
    "$1.$ Use o teorema de Pauli para mostrar que, para o oscilador harmônico, $\\langle p^{2}\\rangle_{\\Xi_{n}}=m^{2}\\omega^{2}\\langle x^{2}\\rangle_{\\Xi_{n}}=mE_{n}$.\n",
    "\n",
    "$2.$ Para átomos hidrogenóides, use o teorema de Pauli para mostrar que $\\langle p^{2}\\rangle_{\\psi_{n,l,m_{l},m_{s}}}=-2\\mu E_{n}$.\n",
    "\n",
    "$3.$ O Hamiltoniano do oscilador harmônico quântico bidimensional é dado por $H=\\frac{P_1^2}{2m}+\\frac{P_2^2}{2m} + \\frac{m\\omega^2 X_1^2}{2} + \\frac{m\\omega^2 X_2^2}{2}$, enquanto que as energias possíveis são dadas por $E_{n_1,n_2} = \\hbar\\omega(n_1+n_2+1),$ com $n_1,n_2\\in\\mathbb{N}_0.$ Aplique o teorema de Pauli para mostrar que para qualquer estado deste sistema são válidas as seguintes igualdades: $\\langle R^2\\rangle=\\frac{\\hbar}{m\\omega}(n_1+n_2+1)$ e $\\langle P^2\\rangle=m^2\\omega^2\\langle X^2\\rangle$, em que $\\vec{R}=X_1\\hat{e}_1+X_2\\hat{e}_2$ e $\\vec{P}=P_1\\hat{e}_1+P_2\\hat{e}_2$, com $\\{\\hat{e}_1,\\hat{e}_2\\}$ sendo a base padrão normalizada para $\\mathbb{R}^2$."
   ]
  },
  {
   "cell_type": "markdown",
   "metadata": {},
   "source": [
    "---\n",
    "## Referências"
   ]
  }
 ],
 "metadata": {
  "kernelspec": {
   "display_name": "Python 3 (ipykernel)",
   "language": "python",
   "name": "python3"
  },
  "language_info": {
   "codemirror_mode": {
    "name": "ipython",
    "version": 3
   },
   "file_extension": ".py",
   "mimetype": "text/x-python",
   "name": "python",
   "nbconvert_exporter": "python",
   "pygments_lexer": "ipython3",
   "version": "3.11.1"
  }
 },
 "nbformat": 4,
 "nbformat_minor": 4
}
