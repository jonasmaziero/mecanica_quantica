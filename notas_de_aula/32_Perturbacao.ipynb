{
 "cells": [
  {
   "cell_type": "markdown",
   "metadata": {},
   "source": [
    "### Notas de aula de Mecânica Quântica <br> Autor: Jonas Maziero"
   ]
  },
  {
   "cell_type": "markdown",
   "metadata": {},
   "source": [
    "# Teoria de perturbação\n",
    "São poucos os exemplos conhecidos de sistemas físicos quânticos para os quais dispomos de soluções exatas conhecidas. O objetivo da teoria de perturbação é construir soluções aproximadas (estáticas ou dinâmicas) a partir das soluções analíticas obtidas em casos particulares, que geralmente estão relacionados com intensidades de interação maiores em relação às correções que queremos incluir."
   ]
  },
  {
   "cell_type": "markdown",
   "metadata": {},
   "source": [
    "# Teoria de perturbação independente do tempo: <br> Espectros discretos não degenerados\n",
    "Para Hamiltonianos com espectro discreto não degenerado, começamos considerando que nosso objetivo é obter a solução da equação de autovalores e autovetores\n",
    "\\begin{equation}\n",
    "H|\\psi_{n}\\rangle = E_{n}|\\psi_{n}\\rangle\n",
    "\\end{equation}\n",
    "quando o Hamiltoniano pode ser escrito como \n",
    "\\begin{equation}\n",
    "H = H_{0} + H_{1},\n",
    "\\end{equation}\n",
    "onde $H_{0}$ representa a parte \"mais intensa\" da interação e cujos autovalores e autovetores são conhecidos, i.e., conhecemos a solução de \n",
    "\\begin{equation}\n",
    "H_{0}|\\psi_{n}^{(0)}\\rangle = E_{n}^{(0)}|\\psi_{n}^{(0)}\\rangle,\n",
    "\\end{equation}\n",
    "e $H_{1}$ é a __perturbação__, uma interação de \"intensidade pequena\" em relação a $H_{0}$. "
   ]
  },
  {
   "cell_type": "markdown",
   "metadata": {},
   "source": [
    "Na sequência obteremos equações que nos possibilitarão, a princípio, calcular correções parturbativas de várias ordens para as autoenergias e autofunções. \n",
    "\n",
    "Começaremos trocando $H = H_{0} + H_{1}$ por\n",
    "\\begin{equation}\n",
    "H = H_{0} + \\xi H_{1}.\n",
    "\\end{equation}\n",
    "O __parâmetro__ contínuo $\\xi$ é usado para controlar a intensidade com que a perturbação é incluída. Para $\\xi=0$ temos o caso não perturbado e para $\\xi=1$ a perturbação é incluída em toda sua intensidade. \n",
    "\n",
    "Seguindo, escrevemos a solução geral para os autovetores em termos da não perturbada como\n",
    "\\begin{equation}\n",
    "|\\psi_{n}\\rangle = N_{n}(|\\psi_{n}^{(0)}\\rangle + |\\chi_{n}\\rangle) = \\frac{|\\psi_{n}^{(0)}\\rangle+|\\chi_{n}\\rangle}{\\sqrt{1+\\langle\\chi_{n}|\\chi_{n}\\rangle}}, \\hspace{2cm} (\\star)\n",
    "\\end{equation}\n",
    "com $|\\chi_{n}\\rangle$ não sendo necessariamente normalizado e sendo ortogonal à solução não perturbada:\n",
    "\\begin{equation}\n",
    "\\langle\\chi_{n}|\\psi_{n}^{(0)}\\rangle:=0.\n",
    "\\end{equation}"
   ]
  },
  {
   "cell_type": "markdown",
   "metadata": {},
   "source": [
    "Substituindo o Hamiltoniano e autovetores, como escritos acima, na equação característica, teremos que\n",
    "\\begin{align}\n",
    "& H|\\psi_{n}\\rangle = (H_{0}+\\xi H_{1})N_{n}(|\\psi_{n}^{(0)}\\rangle + |\\chi_{n}\\rangle ) \\\\\n",
    "& = N_{n}\\left(H_{0}|\\psi_{n}^{(0)}\\rangle + H_{0}|\\chi_{n}\\rangle + \\xi H_{1}|\\psi_{n}^{(0)}\\rangle + \\xi H_{1}|\\chi_{n}\\rangle\\right) \\\\ \n",
    "& = N_{n}\\left(E_{n}^{(0)}|\\psi_{n}^{(0)}\\rangle + H_{0}|\\chi_{n}\\rangle + \\xi H_{1}|\\psi_{n}^{(0)}\\rangle + \\xi H_{1}|\\chi_{n}\\rangle\\right) \\\\\n",
    "& = E_{n}|\\psi_{n}\\rangle = E_{n}N_{n}(|\\psi_{n}^{(0)}\\rangle + |\\chi_{n}\\rangle).\n",
    "\\end{align}\n",
    "Das duas últimas linhas desta equação, prontamente identificamos a relação:\n",
    "\\begin{equation}\n",
    "(E_{n}-E_{n}^{(0)})|\\psi_{n}^{(0)}\\rangle = \\xi H_{1}|\\psi_{n}^{(0)}\\rangle + (H_{0}+ \\xi H_{1} - E_{n})|\\chi_{n}\\rangle. \\hspace{2cm}\\text{(*)}\n",
    "\\end{equation}\n",
    "Se tomarmos o produto interno de $|\\psi_{n}^{(0)}\\rangle$ com ($*$),\n",
    "\\begin{align}\n",
    "& (E_{n}-E_{n}^{(0)})\\langle\\psi_{n}^{(0)}|\\psi_{n}^{(0)}\\rangle = E_{n}-E_{n}^{(0)} \\\\\n",
    "& = \\xi \\langle\\psi_{n}^{(0)}|H_{1}|\\psi_{n}^{(0)}\\rangle + \\langle\\psi_{n}^{(0)}|H_{0}|\\chi_{n}\\rangle + \\xi \\langle\\psi_{n}^{(0)}|H_{1}|\\chi_{n}\\rangle - E_{n}\\langle\\psi_{n}^{(0)}|\\chi_{n}\\rangle \\\\\n",
    "& = \\xi \\langle\\psi_{n}^{(0)}|H_{1}|\\psi_{n}^{(0)}\\rangle + E_{n}^{(0)}\\langle\\psi_{n}^{(0)}|\\chi_{n}\\rangle + \\xi \\langle\\psi_{n}^{(0)}|H_{1}|\\chi_{n}\\rangle - 0 \\\\\n",
    "& = \\xi\\left(\\langle\\psi_{n}^{(0)}|H_{1}|\\psi_{n}^{(0)}\\rangle + \\langle\\psi_{n}^{(0)}|H_{1}|\\chi_{n}\\rangle\\right),\n",
    "\\end{align}\n",
    "obteremos\n",
    "\\begin{equation}\n",
    "E_{n} = E_{n}^{(0)} + \\xi\\langle\\psi_{n}^{(0)}|H_{1}|\\psi_{n}^{(0)}\\rangle + \\xi\\langle\\psi_{n}^{(0)}|H_{1}|\\chi_{n}\\rangle.  \\hspace{2cm} (**)\n",
    "\\end{equation}\n",
    "\n",
    "OBS. Essa equação já seria suficiente para algumas aplicações importantes, como veremos em uma outra oportunidade."
   ]
  },
  {
   "cell_type": "markdown",
   "metadata": {},
   "source": [
    "Note que na Eq. $(**)$ somente o último termo está escrito em termos de $|\\chi_{n}\\rangle$, que não conhecemos. Vamos então decompor este vetor na base ortonormal não perturbada $\\{|\\psi_{n}^{(0)}\\rangle\\}$:\n",
    "\\begin{equation}\n",
    "|\\chi_{n}\\rangle = \\sum_{m}\\langle\\psi_{m}^{(0)}|\\chi_{n}\\rangle|\\psi_{m}^{(0)}\\rangle \\equiv \\sum_{m\\ne n}\\langle\\psi_{m}^{(0)}|\\chi_{n}\\rangle|\\psi_{m}^{(0)}\\rangle.\n",
    "\\end{equation}\n",
    "Para obter os coeficientes $\\langle\\psi_{m}^{(0)}|\\chi_{n}\\rangle$ tomamos o produto interno de $|\\psi_{m}^{(0)}\\rangle$ com a Eq. ($*$) para $m\\ne n$:\n",
    "\\begin{align}\n",
    "& (E_{n}-E_{n}^{(0)})\\langle\\psi_{m}^{(0)}|\\psi_{n}^{(0)}\\rangle = 0 \\\\\n",
    "& = \\xi \\langle\\psi_{m}^{(0)}|H_{1}|\\psi_{n}^{(0)}\\rangle + \\langle\\psi_{m}^{(0)}|H_{0}|\\chi_{n}\\rangle + \\xi \\langle\\psi_{m}^{(0)}|H_{1}|\\chi_{n}\\rangle - E_{n}\\langle\\psi_{m}^{(0)}|\\chi_{n}\\rangle \\\\\n",
    "& = \\xi \\langle\\psi_{m}^{(0)}|H_{1}|\\psi_{n}^{(0)}\\rangle + E_{m}^{(0)}\\langle\\psi_{m}^{(0)}|\\chi_{n}\\rangle + \\xi \\langle\\psi_{m}^{(0)}|H_{1}|\\chi_{n}\\rangle - E_{n}\\langle\\psi_{m}^{(0)}|\\chi_{n}\\rangle.\n",
    "\\end{align}\n",
    "Assim, como $E_{n}\\ne E_{m}^{(0)}$ (supomos que a interação perturbativa não cria degenerescências), temos que\n",
    "\\begin{equation}\n",
    "\\langle\\psi_{m}^{(0)}|\\chi_{n}\\rangle = \\xi\\frac{\\langle\\psi_{m}^{(0)}|H_{1}|\\psi_{n}^{(0)}\\rangle}{E_{n}-E_{m}^{(0)}} + \\xi\\frac{\\langle\\psi_{m}^{(0)}|H_{1}|\\chi_{n}\\rangle}{E_{n}-E_{m}^{(0)}}.\n",
    "\\end{equation}"
   ]
  },
  {
   "cell_type": "markdown",
   "metadata": {},
   "source": [
    "Usando esses coeficientes na decomposição de $|\\chi_{n}\\rangle$ e o substituindo _iterativamente_ vem que\n",
    "\\begin{align}\n",
    "|\\chi_{n}\\rangle & = \\xi\\sum_{m\\ne n}\\frac{\\langle\\psi_{m}^{(0)}|H_{1}|\\psi_{n}^{(0)}\\rangle}{E_{n}-E_{m}^{(0)}}|\\psi_{m}^{(0)}\\rangle + \\xi\\sum_{m\\ne n}\\frac{\\langle\\psi_{m}^{(0)}|H_{1}|\\chi_{n}\\rangle}{E_{n}-E_{m}^{(0)}}|\\psi_{m}^{(0)}\\rangle \\\\\n",
    "& = \\xi\\sum_{m\\ne n}\\frac{\\langle\\psi_{m}^{(0)}|H_{1}|\\psi_{n}^{(0)}\\rangle}{E_{n}-E_{m}^{(0)}}|\\psi_{m}^{(0)}\\rangle \\\\\n",
    "& + \\xi\\sum_{m\\ne n}\\frac{\\langle\\psi_{m}^{(0)}|H_{1}\\left(\\xi\\sum_{m'\\ne n}\\frac{\\langle\\psi_{m'}^{(0)}|H_{1}|\\psi_{n}^{(0)}\\rangle}{E_{n}-E_{m'}^{(0)}}|\\psi_{m'}^{(0)}\\rangle + \\xi\\sum_{m'\\ne n}\\frac{\\langle\\psi_{m'}^{(0)}|H_{1}|\\chi_{n}\\rangle}{E_{n}-E_{m'}^{(0)}}|\\psi_{m'}^{(0)}\\rangle \\right)}{E_{n}-E_{m}^{(0)}}|\\psi_{m}^{(0)}\\rangle \\\\\n",
    "& = \\xi\\sum_{m\\ne n}\\frac{\\langle\\psi_{m}^{(0)}|H_{1}|\\psi_{n}^{(0)}\\rangle}{E_{n}-E_{m}^{(0)}}|\\psi_{m}^{(0)}\\rangle + \\xi^{2}\\sum_{m\\ne n}\\sum_{m'\\ne n}\\frac{\\langle\\psi_{m}^{(0)}|H_{1}|\\psi_{m'}^{(0)}\\rangle}{E_{n}-E_{m}^{(0)}}\\frac{\\langle\\psi_{m'}^{(0)}|H_{1}|\\psi_{n}^{(0)}\\rangle}{E_{n}-E_{m'}^{(0)}}|\\psi_{m}^{(0)}\\rangle \\\\ \n",
    "& \\hspace{0.4cm} + \\xi^{2}\\sum_{m\\ne n}\\sum_{m'\\ne n}\\frac{\\langle\\psi_{m}^{(0)}|H_{1}|\\psi_{m'}^{(0)}\\rangle}{E_{n}-E_{m}^{(0)}}\\frac{\\langle\\psi_{m'}^{(0)}|H_{1}|\\chi_{n}\\rangle}{E_{n}-E_{m'}^{(0)}}|\\psi_{m}^{(0)}\\rangle. \\hspace{5cm} (\\diamond)\n",
    "\\end{align}\n",
    "Vale observar que poderíamos continuar com esse processo indefinidamente.\n",
    "\n",
    "Substituindo a equação ($\\diamond$) na equação $(**)$ obteremos\n",
    "\\begin{align}\n",
    "E_{n} & = \\xi^{0}E_{n}^{(0)} + \\xi^{1}\\langle\\psi_{n}^{(0)}|H_{1}|\\psi_{n}^{(0)}\\rangle + \\xi^{2}\\sum_{m\\ne n}\\frac{\\langle\\psi_{n}^{(0)}|H_{1}|\\psi_{m}^{(0)}\\rangle\\langle\\psi_{m}^{(0)}|H_{1}|\\psi_{n}^{(0)}\\rangle}{E_{n}-E_{m}^{(0)}} \\\\\n",
    "& \\hspace{0.5cm} + \\xi^{3}\\sum_{m\\ne n}\\sum_{m'\\ne n}\\frac{\\langle\\psi_{n}^{(0)}|H_{1}|\\psi_{m}^{(0)}\\rangle\\langle\\psi_{m}^{(0)}|H_{1}|\\psi_{m'}^{(0)}\\rangle\\langle\\psi_{m'}^{(0)}|H_{1}|\\psi_{n}^{(0)}\\rangle}{(E_{n}-E_{m}^{(0)})(E_{n}-E_{m'}^{(0)})} \\\\\n",
    "& \\hspace{0.5cm} + \\xi^{3}\\sum_{m\\ne n}\\sum_{m'\\ne n}\\frac{\\langle\\psi_{n}^{(0)}|H_{1}|\\psi_{m}^{(0)}\\rangle\\langle\\psi_{m}^{(0)}|H_{1}|\\psi_{m'}^{(0)}\\rangle\\langle\\psi_{m'}^{(0)}|H_{1}|\\chi_{n}\\rangle}{(E_{n}-E_{m}^{(0)})(E_{n}-E_{m'}^{(0)})}. \\hspace{1cm} (\\diamond\\diamond)\n",
    "\\end{align}\n",
    "Notemos que ainda nos resta o $E_{n}$ no denominador das expressões acima. Lidaremos com esta questão a seguir usando a expansão de Rayleigh-Schrödinger."
   ]
  },
  {
   "cell_type": "markdown",
   "metadata": {},
   "source": [
    "Vamos considerar a expansão de cada autovalor na base de potências de $\\xi$, a chamada __expansão de Rayleigh-Schrödinger__:\n",
    "\\begin{equation}\n",
    "E_{n} = \\sum_{j=0}^{\\infty} E_{n}^{(j)}\\xi^{j}.\n",
    "\\end{equation}\n",
    "Usando a série \n",
    "$$\\frac{1}{1+x} = \\sum_{j=0}^{\\infty}(-1)^j x^{j},$$\n",
    "para $|x|<1$, teremos que $\\big(x=-\\sum_{j=1}^{\\infty} E_{n}^{(j)}\\xi^{j}/(E_{n}^{(0)}-E_{m}^{(0)})\\big)$:\n",
    "\\begin{align}\n",
    "\\frac{1}{E_{n}-E_{m}^{(0)}} & = \\frac{1}{E_{n}^{(0)}+\\sum_{j=1}^{\\infty} E_{n}^{(j)}\\xi^{j}-E_{m}^{(0)}} \\\\\n",
    "& = \\frac{1}{(E_{n}^{(0)}-E_{m}^{(0)})}\\frac{1}{(1+\\sum_{j=1}^{\\infty} E_{n}^{(j)}\\xi^{j}/(E_{n}^{(0)}-E_{m}^{(0)}))} \\\\\n",
    "& = \\frac{1}{(E_{n}^{(0)}-E_{m}^{(0)})}\\left(1 - \\frac{\\sum_{j=1}^{\\infty} E_{n}^{(j)}\\xi^{j}}{E_{n}^{(0)}-E_{m}^{(0)}} + \\frac{(\\sum_{j=1}^{\\infty} E_{n}^{(j)}\\xi^{j})^{2}}{(E_{n}^{(0)}-E_{m}^{(0)})^{2}} - \\frac{(\\sum_{j=1}^{\\infty} E_{n}^{(j)}\\xi^{j})^{3}}{(E_{n}^{(0)}-E_{m}^{(0)})^{3}} + \\cdots\\right) \\\\\n",
    "& = \\frac{1}{E_{n}^{(0)}-E_{m}^{(0)}} - \\frac{\\sum_{j=1}^{\\infty} E_{n}^{(j)}\\xi^{j}}{(E_{n}^{(0)}-E_{m}^{(0)})^{2}} + \\frac{(\\sum_{j=1}^{\\infty} E_{n}^{(j)}\\xi^{j})^{2}}{(E_{n}^{(0)}-E_{m}^{(0)})^{3}} - \\frac{(\\sum_{j=1}^{\\infty} E_{n}^{(j)}\\xi^{j})^{3}}{(E_{n}^{(0)}-E_{m}^{(0)})^{4}} + \\cdots \\\\\n",
    "& = \\xi^{0}\\frac{1}{E_{n}^{(0)} - E_{m}^{(0)}} - \\xi^{1}\\frac{E_{n}^{(1)}}{(E_{n}^{(0)}-E_{m}^{(0)})^{2}} + \\xi^{2}\\left( \\frac{E_{n}^{(2)}}{(E_{n}^{(0)}-E_{m}^{(0)})^{2}} + \\frac{(E_{n}^{(1)})^{2}}{(E_{n}^{(0)}-E_{m}^{(0)})^{3}}\\right) \\\\ \n",
    "& \\hspace{0.5cm} - \\cdots. \\hspace{13cm} (\\triangle)\n",
    "\\end{align}"
   ]
  },
  {
   "cell_type": "code",
   "execution_count": 8,
   "metadata": {},
   "outputs": [
    {
     "data": {
      "text/latex": [
       "$\\displaystyle 1 - x + x^{2} - x^{3} + x^{4} + O\\left(x^{5}\\right)$"
      ],
      "text/plain": [
       "1 - x + x**2 - x**3 + x**4 + O(x**5)"
      ]
     },
     "execution_count": 8,
     "metadata": {},
     "output_type": "execute_result"
    }
   ],
   "source": [
    "from sympy import symbols, series\n",
    "x = symbols('x'); series(pow(1+x,-1),x0=0,n=5)"
   ]
  },
  {
   "cell_type": "markdown",
   "metadata": {},
   "source": [
    "Se substituirmos esta expressão naquela para $E_{n}$ acima obteremos as várias _ordens de correção para a energia_:\n",
    "\\begin{align}\n",
    "E_{n} & = \\xi^{0}E_{n}^{(0)} + \\xi E_{n}^{(1)} + \\xi^{2}E_{n}^{(2)} + \\xi^{3}E_{n}^{(3)} + \\cdots \\\\\n",
    "& = \\xi^{0}E_{n}^{(0)} + \\xi^{1}\\langle\\psi_{n}^{(0)}|H_{1}|\\psi_{n}^{(0)}\\rangle + \\xi^{2}\\sum_{m\\ne n}\\frac{|\\langle\\psi_{n}^{(0)}|H_{1}|\\psi_{m}^{(0)}\\rangle|^{2}}{E_{n}^{(0)}-E_{m}^{(0)}} \\\\\n",
    "& + \\xi^{3}\\left(\\sum_{m\\ne n}\\sum_{m'\\ne n}\\frac{\\langle\\psi_{n}^{(0)}|H_{1}|\\psi_{m}^{(0)}\\rangle\\langle\\psi_{m}^{(0)}|H_{1}|\\psi_{m'}^{(0)}\\rangle\\langle\\psi_{m'}^{(0)}|H_{1}|\\psi_{n}^{(0)}\\rangle}{(E_{n}^{(0)}-E_{m}^{(0)})(E_{n}^{(0)}-E_{m'}^{(0)})} - E_{n}^{(1)}\\sum_{m\\ne n}\\frac{|\\langle\\psi_{n}^{(0)}|H_{1}|\\psi_{m}^{(0)}\\rangle|^{2}}{(E_{n}^{(0)}-E_{m}^{(0)})^{2}} \\right) \\\\\n",
    "& + \\cdots.\n",
    "\\end{align}\n",
    "As correções de 1ª, 2ª e 3ª ordem para a energia são, explicitamente, dadas por:\n",
    "\\begin{align}\n",
    "E_{n}^{(1)} &= \\langle\\psi_{n}^{(0)}|H_{1}|\\psi_{n}^{(0)}\\rangle, \\\\\n",
    "E_{n}^{(2)} &= \\sum_{m\\ne n}\\frac{|\\langle\\psi_{n}^{(0)}|H_{1}|\\psi_{m}^{(0)}\\rangle|^{2}}{E_{n}^{(0)}-E_{m}^{(0)}}, \\\\\n",
    "E_{n}^{(3)} &= \\sum_{m\\ne n}\\sum_{m'\\ne n}\\frac{\\langle\\psi_{n}^{(0)}|H_{1}|\\psi_{m}^{(0)}\\rangle\\langle\\psi_{m}^{(0)}|H_{1}|\\psi_{m'}^{(0)}\\rangle\\langle\\psi_{m'}^{(0)}|H_{1}|\\psi_{n}^{(0)}\\rangle}{(E_{n}^{(0)}-E_{m}^{(0)})(E_{n}^{(0)}-E_{m'}^{(0)})} - E_{n}^{(1)}\\sum_{m\\ne n}\\frac{|\\langle\\psi_{n}^{(0)}|H_{1}|\\psi_{m}^{(0)}\\rangle|^{2}}{(E_{n}^{(0)}-E_{m}^{(0)})^{2}}.\n",
    "\\end{align}\n",
    "\n",
    "Teremos assim a seguinte aproximação para as autoenergias (faz $\\xi=1$):\n",
    "\\begin{equation}\n",
    "E_{n}\\approx E_{n}^{(0)}+E_{n}^{(1)}+E_{n}^{(2)}+E_{n}^{(3)}+\\cdots+E_{n}^{(Q)},\n",
    "\\end{equation}\n",
    "em que $Q$ é a aproximação de mais alta ordem considerada. Note que a aproximação de ordem zero, $E_n^{(0)}$, é a solução não perturbativa, ou seja, são os autovalores de $H_0.$"
   ]
  },
  {
   "cell_type": "markdown",
   "metadata": {},
   "source": [
    "Substituindo a expansão de Rayleigh-Schrödinger na eq. ($\\diamond$), obteremos\n",
    "\\begin{align}\n",
    "|\\chi_{n}\\rangle & = \\xi\\sum_{m\\ne n}\\frac{\\langle\\psi_{m}^{(0)}|H_{1}|\\psi_{n}^{(0)}\\rangle}{E_{n}^{(0)}-E_{m}^{(0)}}|\\psi_{m}^{(0)}\\rangle \\\\ \n",
    "& \\hspace{0.4cm} + \\xi^{2}\\left(\\sum_{m\\ne n}\\sum_{m'\\ne n}\\frac{\\langle\\psi_{m}^{(0)}|H_{1}|\\psi_{m'}^{(0)}\\rangle}{E_{n}^{(0)}-E_{m}^{(0)}}\\frac{\\langle\\psi_{m'}^{(0)}|H_{1}|\\psi_{n}^{(0)}\\rangle}{E_{n}^{(0)}-E_{m'}^{(0)}}|\\psi_{m}^{(0)}\\rangle - E_{n}^{(1)}\\sum_{m\\ne n}\\frac{\\langle\\psi_{m}^{(0)}|H_{1}|\\psi_{n}^{(0)}\\rangle}{(E_{n}^{(0)}-E_{m}^{(0)})^{2}}|\\psi_{m}^{(0)}\\rangle \\right) + \\cdots \\\\\n",
    "& = \\xi^{1}|\\psi_{n}^{(1)}\\rangle+\\xi^{2}|\\psi_{n}^{(2)}\\rangle+\\cdots.\n",
    "\\end{align}\n",
    "\n",
    "As correções de 1ª e 2ª ordem para as autofunções são obtidas, explicitamente, usando:\n",
    "\\begin{align}\n",
    "|\\psi_{n}^{(1)}\\rangle &= \\sum_{m\\ne n}\\frac{\\langle\\psi_{m}^{(0)}|H_{1}|\\psi_{n}^{(0)}\\rangle}{E_{n}^{(0)}-E_{m}^{(0)}}|\\psi_{m}^{(0)}\\rangle, \\\\\n",
    "|\\psi_{n}^{(2)}\\rangle &= \\sum_{m\\ne n}\\sum_{m'\\ne n}\\frac{\\langle\\psi_{m}^{(0)}|H_{1}|\\psi_{m'}^{(0)}\\rangle}{E_{n}^{(0)}-E_{m}^{(0)}}\\frac{\\langle\\psi_{m'}^{(0)}|H_{1}|\\psi_{n}^{(0)}\\rangle}{E_{n}^{(0)}-E_{m'}^{(0)}}|\\psi_{m}^{(0)}\\rangle - E_{n}^{(1)}\\sum_{m\\ne n}\\frac{\\langle\\psi_{m}^{(0)}|H_{1}|\\psi_{n}^{(0)}\\rangle}{(E_{n}^{(0)}-E_{m}^{(0)})^{2}}|\\psi_{m}^{(0)}\\rangle.\n",
    "\\end{align}\n",
    "\n",
    "Aproximação para as autofunções (faz $\\xi=1$):\n",
    "\\begin{equation}\n",
    "|\\psi_{n}\\rangle \\approx N_{n}\\left(|\\psi_{n}^{(0)}\\rangle+|\\psi_{n}^{(1)}\\rangle+|\\psi_{n}^{(2)}\\rangle+\\cdots+|\\psi_{n}^{(Q-1)}\\rangle\\right),\n",
    "\\end{equation}\n",
    "com \n",
    "\\begin{equation}\n",
    "N_{n} = \\frac{1}{\\sqrt{1+\\langle\\chi_{n}|\\chi_{n}\\rangle}} = \\frac{1}{\\sqrt{1+\\sum_{j,k=1}^{Q-1}\\langle\\psi_{n}^{(j)}|\\psi_{n}^{(k)}\\rangle}}.\n",
    "\\end{equation}\n",
    "\n",
    "Vale observar que uma correção perturbativa de ordem $Q$ para os autovalores corresponde a uma correção de ordem $Q-1$ para os autovetores, o que pode ser inferido a partir da equação $(**).$"
   ]
  },
  {
   "cell_type": "markdown",
   "metadata": {},
   "source": [
    "## Exemplo\n",
    "Consideremos o Hamiltoniano $H=H_{0}+H_{1}$ com \n",
    "\\begin{equation}\n",
    "H_{0}=-\\omega\\sigma_{y} = -\\omega\\begin{bmatrix}0&-i\\\\i&0\\end{bmatrix}\n",
    "\\end{equation}\n",
    "e Hamiltoniano perturbativo \n",
    "\\begin{equation}\n",
    "H_{1}=-\\epsilon\\sigma_{x} = -\\epsilon\\begin{bmatrix}0&1\\\\1&0\\end{bmatrix}.\n",
    "\\end{equation}\n",
    "Ademais, incluímos $\\hbar/2$ em $\\omega$ e em $\\epsilon.$\n",
    "\n",
    "Calculemos as correções perturbativas de primeira e de segunda ordem para as auto-energias desse sistema e as correções de primeira ordem para os autovetores de $H$.\n",
    "\n",
    "Temos $H_{0}=-\\omega|y_{+}\\rangle\\langle y_{+}|+\\omega|y_{-}\\rangle\\langle y_{-}|$. Assim \n",
    "\\begin{equation}\n",
    "E_{1}^{(0)}=-\\omega\\text{, }E_{2}^{(0)}=\\omega\\text{, }|\\psi_{1}^{(0)}\\rangle = |y_{+}\\rangle=\\frac{1}{\\sqrt{2}}\\begin{bmatrix}1\\\\i\\end{bmatrix}  \\text{ e } |\\psi_{2}^{(0)}\\rangle = |y_{-}\\rangle=\\frac{1}{\\sqrt{2}}\\begin{bmatrix}1\\\\-i\\end{bmatrix} .\n",
    "\\end{equation}\n",
    "Utilizaremos a relação\n",
    "\\begin{align}\n",
    "\\sigma_{x}|y_{\\pm}\\rangle &= \\sigma_{x}(|z_{+}\\rangle \\pm i|z_{-}\\rangle)/\\sqrt{2} = (\\sigma_{x}|z_{+}\\rangle \\pm i\\sigma_{x}|z_{-}\\rangle)/\\sqrt{2} = (|z_{-}\\rangle \\pm i|z_{+}\\rangle)/\\sqrt{2} \\\\\n",
    "&= \\pm i|y_{\\mp}\\rangle.\n",
    "\\end{align}\n",
    "As correções de primeira ordem para a energia $\\left(E_{n}^{(1)} = \\langle\\psi_{n}^{(0)}|H_{1}|\\psi_{n}^{(0)}\\rangle\\right)$ são dadas por:\n",
    "\\begin{align}\n",
    "E_{1}^{(1)} & = \\langle\\psi_{1}^{(0)}|H_{1}|\\psi_{1}^{(0)}\\rangle = -\\epsilon\\langle y_{+}|\\sigma_{x}|y_{+}\\rangle = -i\\epsilon\\langle y_{+}|y_{-}\\rangle \\\\\n",
    "&= 0, \\\\\n",
    "E_{2}^{(1)} & = \\langle\\psi_{2}^{(0)}|H_{1}|\\psi_{2}^{(0)}\\rangle = -\\epsilon\\langle y_{-}|\\sigma_{x}|y_{-}\\rangle = i\\epsilon\\langle y_{-}|y_{+}\\rangle \\\\\n",
    "&= 0.\n",
    "\\end{align}"
   ]
  },
  {
   "cell_type": "markdown",
   "metadata": {},
   "source": [
    "As correções de segunda ordem para a energia $\\left(E_{n}^{(2)} = \\sum_{m\\ne n}\\frac{|\\langle\\psi_{n}^{(0)}|H_{1}|\\psi_{m}^{(0)}\\rangle|^{2}}{E_{n}^{(0)}-E_{m}^{(0)}}\\right)$ são dadas por:\n",
    "\\begin{align}\n",
    "E_{1}^{(2)} & = \\sum_{m\\ne 1}\\frac{|\\langle\\psi_{1}^{(0)}|H_{1}|\\psi_{m}^{(0)}\\rangle|^{2}}{E_{1}^{(0)}-E_{m}^{(0)}} = \\frac{|\\langle\\psi_{1}^{(0)}|H_{1}|\\psi_{2}^{(0)}\\rangle|^{2}}{E_{1}^{(0)}-E_{2}^{(0)}} = \\frac{\\epsilon^{2}|\\langle y_{+}|\\sigma_{x}|y_{-}\\rangle|^{2}}{-\\omega-\\omega} \\\\\n",
    "&= \\frac{-\\epsilon^{2}}{2\\omega}, \\\\\n",
    "E_{2}^{(2)} & =  \\sum_{m\\ne 2}\\frac{|\\langle\\psi_{2}^{(0)}|H_{1}|\\psi_{m}^{(0)}\\rangle|^{2}}{E_{2}^{(0)}-E_{m}^{(0)}} = \\frac{|\\langle\\psi_{2}^{(0)}|H_{1}|\\psi_{1}^{(0)}\\rangle|^{2}}{E_{2}^{(0)}-E_{1}^{(0)}} = \\frac{\\epsilon^{2}|\\langle y_{-}|\\sigma_{x}|y_{+}\\rangle|^{2}}{\\omega-(-\\omega)} \\\\\n",
    "&= \\frac{\\epsilon^{2}}{2\\omega}.\n",
    "\\end{align}\n",
    "\n",
    "Assim, as aproximações perturbativas para as energias são\n",
    "\\begin{align}\n",
    "E_{1} &\\approx E_{1}^{(0)}+E_{1}^{(1)}+E_{1}^{(2)} = -\\omega+0-\\frac{\\epsilon^{2}}{2\\omega} \\\\\n",
    "&= -\\omega\\left(1+\\frac{\\epsilon^{2}}{2\\omega^{2}}\\right), \\\\\n",
    "E_{2} &\\approx E_{2}^{(0)}+E_{2}^{(1)}+E_{2}^{(2)} = +\\omega+0+\\frac{\\epsilon^{2}}{2\\omega} \\\\\n",
    "&= \\omega\\left(1+\\frac{\\epsilon^{2}}{2\\omega^{2}}\\right).\n",
    "\\end{align}\n",
    "\n",
    "Vemos neste exemplo que a inclusão de correções de mais altas ordens não necessariamente melhoram a aproximação de forma gradativa. Nesse caso, em 1ª ordem não temos nenhuma correção, que só é obtida quando consideramos as correções de 2ª ordem."
   ]
  },
  {
   "cell_type": "code",
   "execution_count": 13,
   "metadata": {},
   "outputs": [
    {
     "data": {
      "image/png": "[encoded data removed]",
      "text/plain": [
       "<Figure size 500x300 with 1 Axes>"
      ]
     },
     "metadata": {},
     "output_type": "display_data"
    }
   ],
   "source": [
    "import matplotlib\n",
    "from matplotlib import pyplot as plt\n",
    "\n",
    "matplotlib.rcParams.update({'font.size':12}); \n",
    "plt.figure(figsize = (5,3), dpi = 100)\n",
    "plt.hlines(0.1, 0, 0.3, color='blue')\n",
    "plt.text(-0.1, 0.1, r'$-\\omega$', color='blue')\n",
    "plt.hlines(0.2, 0, 0.3, color='blue')\n",
    "plt.text(-0.1, 0.2, r'$\\omega$', color='blue')\n",
    "plt.plot([0.3,0.6],[0.1,0.05], '--', color='gray', linewidth=0.5)\n",
    "plt.plot([0.3,0.6],[0.2,0.25], '--', color='gray', linewidth=0.5)\n",
    "plt.hlines(0.05, 0.6, 0.9, color='blue')\n",
    "plt.text(0.95, 0.05, r'$-\\omega(1+\\epsilon^{2}/2\\omega^{2})$', color='blue')\n",
    "plt.hlines(0.25, 0.6, 0.9, color='blue')\n",
    "plt.text(0.95, 0.25, r'$\\omega(1+\\epsilon^{2}/2\\omega^{2})$', color='blue')\n",
    "plt.axis('off'); plt.show()"
   ]
  },
  {
   "cell_type": "markdown",
   "metadata": {},
   "source": [
    "As correções de primeira ordem para o estado $\\left(|\\psi_{n}^{(1)}\\rangle = \\sum_{m\\ne n}\\frac{\\langle\\psi_{m}^{(0)}|H_{1}|\\psi_{n}^{(0)}\\rangle}{E_{n}^{(0)}-E_{m}^{(0)}}|\\psi_{m}^{(0)}\\rangle\\right)$ são dadas por:\n",
    "\\begin{align}\n",
    "|\\psi_{1}^{(1)}\\rangle & = \\sum_{m\\ne 1}\\frac{\\langle\\psi_{m}^{(0)}|H_{1}|\\psi_{1}^{(0)}\\rangle}{E_{1}^{(0)}-E_{m}^{(0)}}|\\psi_{m}^{(0)}\\rangle = \\frac{\\langle\\psi_{2}^{(0)}|H_{1}|\\psi_{1}^{(0)}\\rangle}{E_{1}^{(0)}-E_{2}^{(0)}}|\\psi_{2}^{(0)}\\rangle = \\frac{-\\epsilon\\langle y_{-}|\\sigma_{x}|y_{+}\\rangle}{-\\omega-\\omega}|y_{-}\\rangle \\\\\n",
    "&= \\frac{i\\epsilon}{2\\omega}|y_{-}\\rangle, \\\\\n",
    "|\\psi_{2}^{(1)}\\rangle & = \\sum_{m\\ne 2}\\frac{\\langle\\psi_{m}^{(0)}|H_{1}|\\psi_{2}^{(0)}\\rangle}{E_{2}^{(0)}-E_{m}^{(0)}}|\\psi_{m}^{(0)}\\rangle = \\frac{\\langle\\psi_{1}^{(0)}|H_{1}|\\psi_{2}^{(0)}\\rangle}{E_{2}^{(0)}-E_{1}^{(0)}}|\\psi_{1}^{(0)}\\rangle = \\frac{-\\epsilon\\langle y_{+}|\\sigma_{x}|y_{-}\\rangle}{\\omega+\\omega}|y_{+}\\rangle \\\\\n",
    "&= -\\frac{i\\epsilon}{2\\omega}|y_{+}\\rangle.\n",
    "\\end{align}\n",
    "Como $\\langle\\chi_{1}|\\chi_{1}\\rangle=\\langle\\psi_{1}^{(1)}|\\psi_{1}^{(1)}\\rangle=\\epsilon^{2}/4\\omega^{2}$ e $\\langle\\chi_{2}|\\chi_{2}\\rangle=\\langle\\psi_{2}^{(1)}|\\psi_{2}^{(1)}\\rangle=\\epsilon^{2}/4\\omega^{2}$ temos \\begin{equation}\n",
    "N_{1}=N_{2}=\\frac{1}{\\sqrt{1+\\epsilon^{2}/4\\omega^{2}}}\n",
    "\\end{equation}\n",
    "e as aproximações perturbativas para os autovetores de $H$ são:\n",
    "\\begin{align}\n",
    "& |\\psi_{1}\\rangle \\approx \\frac{|y_{+}\\rangle+\\frac{i\\epsilon}{2\\omega}|y_{-}\\rangle}{\\sqrt{1+\\epsilon^{2}/4\\omega^{2}}}, \\\\\n",
    "& |\\psi_{2}\\rangle \\approx \\frac{|y_{-}\\rangle+\\frac{i\\epsilon}{2\\omega}|y_{+}\\rangle}{\\sqrt{1+\\epsilon^{2}/4\\omega^{2}}}.\n",
    "\\end{align}\n",
    "\n",
    "Vemos, usando o código abaixo, que a solução aproximada é igual à exata no limite de perturbações pequenas."
   ]
  },
  {
   "cell_type": "code",
   "execution_count": 15,
   "metadata": {},
   "outputs": [
    {
     "data": {
      "image/png": "[encoded data removed]",
      "text/latex": [
       "$\\displaystyle \\left( \\left[\\begin{matrix}0 & 1.0 i \\omega\\\\- 1.0 i \\omega & 0\\end{matrix}\\right], \\  \\left[ \\left( - \\omega, \\  1, \\  \\left[ \\left[\\begin{matrix}- 1.0 i\\\\1.0\\end{matrix}\\right]\\right]\\right), \\  \\left( \\omega, \\  1, \\  \\left[ \\left[\\begin{matrix}1.0 i\\\\1.0\\end{matrix}\\right]\\right]\\right)\\right]\\right)$"
      ],
      "text/plain": [
       "⎛⎡   0      1.0⋅ⅈ⋅ω⎤  ⎡⎛       ⎡⎡-1.0⋅ⅈ⎤⎤⎞  ⎛      ⎡⎡1.0⋅ⅈ⎤⎤⎞⎤⎞\n",
       "⎜⎢                 ⎥, ⎢⎜-ω, 1, ⎢⎢      ⎥⎥⎟, ⎜ω, 1, ⎢⎢     ⎥⎥⎟⎥⎟\n",
       "⎝⎣-1.0⋅ⅈ⋅ω     0   ⎦  ⎣⎝       ⎣⎣ 1.0  ⎦⎦⎠  ⎝      ⎣⎣ 1.0 ⎦⎦⎠⎦⎠"
      ]
     },
     "execution_count": 15,
     "metadata": {},
     "output_type": "execute_result"
    }
   ],
   "source": [
    "from sympy import Matrix, init_printing, sqrt\n",
    "init_printing(use_unicode=True)\n",
    "\n",
    "def pauli(j):\n",
    "    if j == 1:\n",
    "        return Matrix([[0,1],[1,0]])\n",
    "    if j == 2:\n",
    "        return Matrix([[0,-1j],[1j,0]])\n",
    "    if j == 3:\n",
    "        return Matrix([[1,0],[0,-1]])\n",
    "\n",
    "w = symbols('omega')\n",
    "H0=-w*pauli(2); H0, H0.eigenvects()"
   ]
  },
  {
   "cell_type": "code",
   "execution_count": 17,
   "metadata": {},
   "outputs": [
    {
     "data": {
      "image/png": "[encoded data removed]",
      "text/latex": [
       "$\\displaystyle \\left( \\left[\\begin{matrix}0 & - \\epsilon + 1.0 i \\omega\\\\- \\epsilon - 1.0 i \\omega & 0\\end{matrix}\\right], \\  \\left[ \\left( - \\left(\\epsilon^{2} + \\omega^{2}\\right)^{0.5}, \\  1, \\  \\left[ \\left[\\begin{matrix}\\frac{\\left(\\epsilon^{2} + \\omega^{2}\\right)^{0.5}}{\\epsilon + i \\omega}\\\\1.0\\end{matrix}\\right]\\right]\\right), \\  \\left( \\left(\\epsilon^{2} + \\omega^{2}\\right)^{0.5}, \\  1, \\  \\left[ \\left[\\begin{matrix}- \\frac{\\left(\\epsilon^{2} + \\omega^{2}\\right)^{0.5}}{\\epsilon + i \\omega}\\\\1.0\\end{matrix}\\right]\\right]\\right)\\right]\\right)$"
      ],
      "text/plain": [
       "⎛                          ⎡⎛                  ⎡⎡         0.5⎤⎤⎞  ⎛                 ⎡⎡          0.5 ⎤⎤⎞⎤⎞\n",
       "⎜                          ⎢⎜          0.5     ⎢⎢⎛ 2    2⎞   ⎥⎥⎟  ⎜         0.5     ⎢⎢ ⎛ 2    2⎞    ⎥⎥⎟⎥⎟\n",
       "⎜⎡   0      -ε + 1.0⋅ⅈ⋅ω⎤  ⎢⎜ ⎛ 2    2⎞        ⎢⎢⎝ε  + ω ⎠   ⎥⎥⎟  ⎜⎛ 2    2⎞        ⎢⎢-⎝ε  + ω ⎠    ⎥⎥⎟⎥⎟\n",
       "⎜⎢                      ⎥, ⎢⎜-⎝ε  + ω ⎠   , 1, ⎢⎢────────────⎥⎥⎟, ⎜⎝ε  + ω ⎠   , 1, ⎢⎢──────────────⎥⎥⎟⎥⎟\n",
       "⎜⎣-ε - ⅈ⋅ω       0      ⎦  ⎢⎜                  ⎢⎢  ε + ⅈ⋅ω   ⎥⎥⎟  ⎜                 ⎢⎢   ε + ⅈ⋅ω    ⎥⎥⎟⎥⎟\n",
       "⎜                          ⎢⎜                  ⎢⎢            ⎥⎥⎟  ⎜                 ⎢⎢              ⎥⎥⎟⎥⎟\n",
       "⎝                          ⎣⎝                  ⎣⎣    1.0     ⎦⎦⎠  ⎝                 ⎣⎣     1.0      ⎦⎦⎠⎦⎠"
      ]
     },
     "execution_count": 17,
     "metadata": {},
     "output_type": "execute_result"
    }
   ],
   "source": [
    "eps = symbols('epsilon'); H = H0 - eps*pauli(1); H, H.eigenvects()"
   ]
  },
  {
   "cell_type": "code",
   "execution_count": 19,
   "metadata": {},
   "outputs": [
    {
     "data": {
      "image/png": "[encoded data removed]",
      "text/latex": [
       "$\\displaystyle 1 + \\frac{x^{2}}{2} + O\\left(x^{3}\\right)$"
      ],
      "text/plain": [
       "     2        \n",
       "    x     ⎛ 3⎞\n",
       "1 + ── + O⎝x ⎠\n",
       "    2         "
      ]
     },
     "execution_count": 19,
     "metadata": {},
     "output_type": "execute_result"
    }
   ],
   "source": [
    "x = symbols('x'); series(sqrt(1+x**2),x0=0,n=3)"
   ]
  },
  {
   "cell_type": "markdown",
   "metadata": {},
   "source": [
    "---\n",
    "# Exercícios\n",
    "\n",
    "$1.$ Verifique que a constante de normalização na eq. $(\\star)$, considerada $\\in\\mathbb{R}$, é dada por $N_{n} = \\frac{1}{\\sqrt{1+\\langle\\chi_{n}|\\chi_{n}\\rangle}}$, i.e., verifique que $|\\psi_{n}\\rangle=\\frac{|\\psi_{n}^{(0)}\\rangle+|\\chi_{n}\\rangle}{\\sqrt{1+\\langle\\chi_{n}|\\chi_{n}\\rangle}}$.\n",
    "\n",
    "$2.$ Considere o Hamiltoniano $H=H_{0}+H_{1}$ com $H_{0}=\\omega\\sigma_{z}=\\omega\\begin{bmatrix}1&0\\\\0&-1\\end{bmatrix}$ e Hamiltoniano perturbativo $H_{1}=\\epsilon\\sigma_{x}$, com $\\omega=\\epsilon$. Calcule as correções perturbativas de 1ª ordem e de 2ª orden para as auto-energias desse sistema. Calcule os autovetores de $H$ com correção perturbativa de 1ª ordem.\n",
    "\n",
    "$3.$ Para espectros discretos não degenerados, obtenha as expressões que devemos usar para calcular as correções perturbativas de 4ª ordem para as autoenergias, $E_{n}^{(4)}$, e de 3ª ordem para as autofunções, $|\\psi_{n}^{(3)}\\rangle$.\n",
    "\n",
    "$4.$ Considere um sistema físico com Hamiltoniano $H=H_{0}+H_{1}$, onde $H_{0}=\\omega S_{z}$, com $\\omega\\in\\mathbb{R}_{>0}$, e o Hamiltoniano de perturbação é $H_{1}=\\epsilon S_{x}$, com $\\epsilon\\in\\mathbb{R}_{>0}$ e $\\epsilon \\ll \\omega$. Considere $S_{x} = \\frac{\\hbar}{\\sqrt{2}}\\begin{bmatrix} 0 & 1 & 0 \\\\ 1 & 0 & 1 \\\\ 0 & 1 & 0 \\end{bmatrix}$ e $S_{z} = \\hbar\\begin{bmatrix} 1 & 0 & 0 \\\\ 0 & 0 & 0 \\\\ 0 & 0 & -1 \\end{bmatrix}$. Dado que as expressões para as correções perturbativas de primeira e segunda ordem são obtidas, respectivamente, de $E_{n}^{(1)} = \\langle E_{n}^{(0)}|H_{1}|E_{n}^{(0)}\\rangle$ e $E_{n}^{(2)} = \\sum_{m\\ne n}|\\langle E_{n}^{(0)}|H_{1}|E_{m}^{(0)}\\rangle|^{2}/(E_{n}^{(0)}-E_{m}^{(0)})$, as calcule para o estado fundamental deste sistema.\n",
    "\n",
    "$5.$ O modelo de Ising em um campo tranverso é dado por $H_I = \\sum_{\\langle jk\\rangle}J_{jk}\\sigma_j^z\\sigma_k^z + \\sum_j h_j\\sigma_j^x,$ em que $\\langle jk\\rangle$ denota a soma sobre primeiros vizinhos, $J_{jk}$ é a interação de troca entre spins 1/2 e $h_j$ é proporcional ao campo magnético externo aplicado no spin $j=1,\\cdots,N$. Para dois spins 1/2 com $J_{12}=h_1=h_2=1$, obtemos o Hamiltoniano não perturbado: $H_0=H_I= J_{12}\\sigma_1^z\\otimes\\sigma_2^z + h_1\\sigma_1^x\\otimes I_2 + h_2 I_1\\otimes\\sigma_2^x=\\begin{bmatrix}1&1&1&0 \\\\ 1&-1&0&1 \\\\ 1&0&-1&1 \\\\ 0&1&1&1\\end{bmatrix}$, em que usamos $I_j = \\begin{bmatrix}1&0\\\\0&1\\end{bmatrix}$,  $\\sigma_j^z = \\begin{bmatrix}1&0\\\\0&-1\\end{bmatrix}$ e  $\\sigma_j^x = \\begin{bmatrix}0&1\\\\1&0\\end{bmatrix}$ para $j=1,2$, e $\\otimes$ denota o produto tensorial. Esse hamiltoniano tem autovalores $\\lambda_1 = -\\sqrt{5},\\ \\lambda_2 = -1,\\ \\lambda_3 = 1,\\ \\lambda_4=\\sqrt{5}$. Os respectivos autovetores são $|\\lambda_1\\rangle = \\frac{1}{\\sqrt{5+\\sqrt{5}}}\\begin{bmatrix}1 & -(\\sqrt{5}+1)/2 & -(\\sqrt{5}+1)/2 & 1 \\end{bmatrix}^T$, $|\\lambda_2\\rangle = \\frac{1}{\\sqrt{2}}\\begin{bmatrix}0 & -1 & 1 & 0 \\end{bmatrix}^T$, $|\\lambda_3\\rangle = \\frac{1}{\\sqrt{2}}\\begin{bmatrix}-1 & 0 & 0 & 1 \\end{bmatrix}^T$ e $|\\lambda_4\\rangle = \\frac{1}{\\sqrt{5+\\sqrt{5}}}\\begin{bmatrix}1 & (\\sqrt{5}-1)/2 & (\\sqrt{5}-1)/2 & 1 \\end{bmatrix}^T$, em que $T$ denota a transposta matricial. Aplique teoria de perturbação para espectros discretos não degenerados para calcular as correções de 1ª ordem para todos os autovalores de $H_0$, dado que o Hamiltoniano de perturbação é $H_1 = g\\sigma_1^y\\otimes\\sigma_2^y = g\\begin{bmatrix}0&0&0&-1 \\\\ 0&0&1&0 \\\\ 0&1&0&0 \\\\ -1&0&0&0\\end{bmatrix},$ em que $\\sigma_j^y = \\begin{bmatrix}0&-i\\\\i&0\\end{bmatrix}$ para $j=1,2.$ Desenhe o diagrama de níveis de energia sem e com a correção perturbativa."
   ]
  }
 ],
 "metadata": {
  "kernelspec": {
   "display_name": "Python 3 (ipykernel)",
   "language": "python",
   "name": "python3"
  },
  "language_info": {
   "codemirror_mode": {
    "name": "ipython",
    "version": 3
   },
   "file_extension": ".py",
   "mimetype": "text/x-python",
   "name": "python",
   "nbconvert_exporter": "python",
   "pygments_lexer": "ipython3",
   "version": "3.12.2"
  }
 },
 "nbformat": 4,
 "nbformat_minor": 4
}
