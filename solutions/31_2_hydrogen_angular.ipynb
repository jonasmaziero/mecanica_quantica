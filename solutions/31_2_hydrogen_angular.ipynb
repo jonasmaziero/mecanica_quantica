{
 "cells": [
  {
   "cell_type": "markdown",
   "metadata": {},
   "source": [
    "### Notas de aula de Mecânica Quântica <br> Autor: Jonas Maziero\n",
    "# Exercícios"
   ]
  },
  {
   "cell_type": "markdown",
   "metadata": {},
   "source": [
    "---\n",
    "$1.$ Verifique que $e^{\\pm im_{l}\\phi}$, $\\cos(m_{l}\\phi)$ e $\\sin(m_{l}\\phi)$ são soluções particulares de $\\partial_{\\phi\\phi}\\Phi(\\phi)+m_{l}^{2}\\Phi(\\phi)=0$."
   ]
  },
  {
   "cell_type": "markdown",
   "metadata": {},
   "source": [
    "_SOL._ Consideremos as derivadas\n",
    "\\begin{align}\n",
    "& \\partial_{\\phi\\phi}(e^{\\pm im_{l}\\phi}) = \\partial_{\\phi}(\\pm im_{l}e^{\\pm im_{l}\\phi}) = (\\pm im_{l})^{2}e^{\\pm im_{l}\\phi} = -m_{l}^{2}e^{\\pm im_{l}\\phi}, \\\\\n",
    "& \\partial_{\\phi\\phi}(\\cos(m_{l}\\phi)) = -m_{l}\\partial_{\\phi}(\\sin(m_{l}\\phi)) = -m_{l}^{2}\\cos(m_{l}\\phi), \\\\\n",
    "& \\partial_{\\phi\\phi}(\\sin(m_{l}\\phi)) = m_{l}\\partial_{\\phi}(\\cos(m_{l}\\phi)) = -m_{l}^{2}\\sin(m_{l}\\phi).\n",
    "\\end{align}\n",
    "Vemos assim que todas essas funções satisfazem a eq. diferencial $\\partial_{\\phi\\phi}\\Phi(\\phi)+m_{l}^{2}\\Phi(\\phi)=0$."
   ]
  },
  {
   "cell_type": "markdown",
   "metadata": {},
   "source": [
    "---\n",
    "$2.$ Para $\\Phi_{m_{l}}^{\\pm}(\\phi) = c_{+}e^{+im_{l}\\phi}\\pm c_{-}e^{-im_{l}\\phi}$ com $m_{l}\\in\\mathbb{Z}$, verifique que $\\partial_{\\phi}\\Phi_{m_{l}}^{\\pm}(\\phi+2\\pi)=\\partial_{\\phi}\\Phi_{m_{l}}^{\\pm}(\\phi)$."
   ]
  },
  {
   "cell_type": "markdown",
   "metadata": {},
   "source": [
    "_SOL._ Temos $\\partial_{\\phi}\\Phi_{m_{l}}^{\\pm}(\\phi)=im_{l}(c_{+}e^{+im_{l}\\phi}\\mp c_{-}e^{-im_{l}\\phi})$. Portanto \n",
    "\\begin{align}\n",
    "\\partial_{\\phi}\\Phi_{m_{l}}^{\\pm}(\\phi+2\\pi) & = im_{l}(c_{+}e^{+im_{l}(\\phi+2\\pi)}\\mp c_{-}e^{-im_{l}(\\phi+2\\pi)}) \\\\\n",
    "& = im_{l}(c_{+}e^{+im_{l}\\phi}e^{im_{l}2\\pi}\\mp c_{-}e^{-im_{l}\\phi}e^{-im_{l}2\\pi}) \\\\\n",
    "& = \\partial_{\\phi}\\Phi_{m_{l}}^{\\pm}(\\phi)\n",
    "\\end{align}\n",
    "pois $e^{\\pm im_{l}2\\pi} = \\cos(m_{l}2\\pi)\\pm i\\sin(m_{l}2\\pi) = 1\\pm 0.$"
   ]
  },
  {
   "cell_type": "markdown",
   "metadata": {},
   "source": [
    "---\n",
    "$3.$ Verifique a condição de ortogonalidade $\\langle\\Phi_{m_{l}}^{\\pm}|\\Phi_{m'_{l}}^{\\pm}\\rangle:=\\int_{0}^{2\\pi}(\\Phi_{m_{l}}^{\\pm}(\\phi))^{*}\\Phi_{m'_{l}}^{\\pm}(\\phi)d\\phi=0$ com $m_{l}\\ne m'_{l}$, para a função mostrada na questão 2."
   ]
  },
  {
   "cell_type": "markdown",
   "metadata": {},
   "source": [
    "_SOL._ Para $n\\in\\mathbb{N}$, teremos\n",
    "\\begin{align}\n",
    "& \\int_{0}^{2\\pi}\\cos(n\\phi)d\\phi = \\frac{1}{n}\\left(\\sin(n\\phi)\\right)_{0}^{2\\pi} = 0, \\\\\n",
    "& \\int_{0}^{2\\pi}\\sin(n\\phi)d\\phi = -\\frac{1}{n}\\left(\\cos(n\\phi)\\right)_{0}^{2\\pi} = -\\frac{1}{n}\\left(\\cos(n2\\pi)-\\cos(0)\\right) = -\\frac{1}{n}(1-1) = 0, \\\\\n",
    "& \\therefore\\ \\int_{0}^{2\\pi}e^{\\pm in\\phi}d\\phi = \\int_{0}^{2\\pi}\\cos(n\\phi)d\\phi \\pm i\\int_{0}^{2\\pi}\\sin(n\\phi)d\\phi = 0\\pm i0=0.\n",
    "\\end{align}\n",
    "Assim\n",
    "\\begin{align}\n",
    "\\langle\\Phi_{m_{l}}^{\\pm}|\\Phi_{m'_{l}}^{\\pm}\\rangle &= \\int_{0}^{2\\pi}\\left(c_{+}^{*}e^{-im_{l}\\phi}\\pm c_{-}^{*}e^{im_{l}\\phi}\\right)\\left(c_{+}e^{+im_{l}'\\phi}\\pm c_{-}e^{-im_{l}'\\phi}\\right)d\\phi \\\\\n",
    "&= |c_{+}|^{2}\\int_{0}^{2\\pi}e^{-i(m_{l}-m_{l}')\\phi}d\\phi \\pm c_{+}^{*}c_{-}\\int_{0}^{2\\pi}e^{-i(m_{l}+m_{l}')\\phi}d\\phi \\pm c_{-}^{*}c_{+}\\int_{0}^{2\\pi}e^{i(m_{l}+m_{l}')\\phi}d\\phi + |c_{-}|^{2}\\int_{0}^{2\\pi}e^{i(m_{l}-m_{l}')\\phi}d\\phi \\\\\n",
    "&= |c_{+}|^{2}0 \\pm c_{+}^{*}c_{-}0 \\pm c_{-}^{*}c_{+}0 + |c_{-}|^{2}0 \\\\\n",
    "& = 0.\n",
    "\\end{align}"
   ]
  },
  {
   "cell_type": "markdown",
   "metadata": {},
   "source": [
    "---\n",
    "$4.$ Verifique que $\\vec{P}\\Phi_{m_{l}}^{\\pm}(\\phi)=\\hat{\\phi}\\frac{\\hbar m_{l}}{r\\sin\\theta}\\Phi_{m_{l}}^{\\mp}(\\phi)$ para $\\Phi_{m_{l}}^{\\pm}(\\phi)=c_{+}e^{+im_{l}\\phi}\\pm c_{-}e^{-im_{l}\\phi}$ com $m_{l}\\in\\mathbb{Z}$."
   ]
  },
  {
   "cell_type": "markdown",
   "metadata": {},
   "source": [
    "_SOL._ Usando o $\\vec{\\nabla} = \\hat{r}\\frac{\\partial}{\\partial r} + \\hat{\\theta}\\frac{1}{r}\\frac{\\partial}{\\partial \\theta} + \\hat{\\phi}\\frac{1}{r\\sin\\theta}\\frac{\\partial}{\\partial \\phi}$ teremos\n",
    "\\begin{align}\n",
    "\\vec{P}\\Phi_{m_{l}}^{\\pm}(\\phi) & = \\frac{\\hbar}{i}\\vec{\\nabla}\\Phi_{m_{l}}^{\\pm}(\\phi) = \\frac{\\hbar}{i}\\left(\\hat{r}\\frac{\\partial}{\\partial r} + \\hat{\\theta}\\frac{1}{r}\\frac{\\partial}{\\partial \\theta} + \\hat{\\phi}\\frac{1}{r\\sin\\theta}\\frac{\\partial}{\\partial \\phi}\\right)\\left(c_{+}e^{+im_{l}\\phi}\\pm c_{-}e^{-im_{l}\\phi}\\right) \\\\\n",
    "& = \\frac{\\hbar}{i}\\left(\\hat{r}0 + \\hat{\\theta}0 + \\hat{\\phi}\\frac{1}{r\\sin\\theta}\\left(im_{l}c_{+}e^{+im_{l}\\phi}\\mp im_{l} c_{-}e^{-im_{l}\\phi}\\right)\\right) \\\\\n",
    "&= \\frac{\\hbar m_{l}}{r\\sin\\theta}\\left(c_{+}e^{+im_{l}\\phi}\\mp c_{-}e^{-im_{l}\\phi}\\right) = \\frac{\\hbar m_{l}}{r\\sin\\theta}\\Phi_{m_{l}}^{\\mp}(\\phi).\n",
    "\\end{align}"
   ]
  },
  {
   "cell_type": "markdown",
   "metadata": {},
   "source": [
    "---\n",
    "$5.$ Verifique que $P_{l}^{i}(z) = ca_{1}\\frac{1}{l!2^{l}}\\frac{\\partial^{l}}{\\partial z^{l}}(z^{2}-1)^{l}$ para $l=3,5$, com $c$ sendo uma constante escolhida de maneira apropriada para cada $l$.\n",
    "\n",
    "** refazer com o novo a_j"
   ]
  },
  {
   "cell_type": "markdown",
   "metadata": {},
   "source": [
    "_SOL._ Temos que $P_{l}^{i}(z) = \\sum_{j=0}^{(l-1)/2}a_{2j+1}(l)z^{2j+1}$ para $l=3,5,7,\\cdots$ e $a_{j}(l)=\\frac{(j-1)(j-2)-l(l+1)}{j(j-1)}a_{j-2}(l)$. \n",
    "\n",
    "Assim, para $l=3$, usando \n",
    "\\begin{align}\n",
    "a_{3}(3) &= \\frac{(3-1)(3-2)-3(3+1)}{3(3-1)}a_{3-2}(3) = \\frac{(2)(1)-3(4)}{3(2)}a_{1}(3) = \\frac{-10}{6}a_{1}  = \\frac{-5}{3}a_{1},\n",
    "\\end{align}\n",
    "obteremos\n",
    "\\begin{align}\n",
    "P_{3}^{i}(z) &= \\sum_{j=0}^{(3-1)/2}a_{2j+1}(3)z^{2j+1} = a_{1}(3)z+a_{3}(3)z^{3} =  a_{1}z-\\frac{5}{3}a_{1}z^{3} = a_{1}\\left(z-\\frac{5}{3}z^{3}\\right).\n",
    "\\end{align}\n",
    "Por outro lado,\n",
    "\\begin{align}\n",
    "P_{3}^{i}(z) &= ca_{1}\\frac{1}{3!2^{3}}\\frac{\\partial^{3}}{\\partial z^{3}}(z^{2}-1)^{3} = ca_{1}\\frac{1}{(6)(8)}\\frac{\\partial^{3}}{\\partial z^{3}}(z^{6}-3z^{4}+3z^{2}-1) \\\\\n",
    "& = \\frac{ca_{1}}{48}\\frac{\\partial^{2}}{\\partial z^{2}}(6z^{5}-12z^{3}+6z) = \\frac{ca_{1}}{48}\\frac{\\partial}{\\partial z}(30z^{4}-36z^{2}+6) \\\\\n",
    "& = \\frac{ca_{1}}{48}\\frac{\\partial}{\\partial z}(120z^{3}-72z) = \\frac{72ca_{1}}{48}(z-(120/72)z^{3})  = \\frac{72ca_{1}}{48}(z-(5/3)z^{3}).\n",
    "\\end{align}"
   ]
  },
  {
   "cell_type": "markdown",
   "metadata": {},
   "source": [
    "Para $l=5$, usando \n",
    "\\begin{align}\n",
    "a_{3}(5) & = \\frac{(3-1)(3-2)-5(5+1)}{3(3-1)}a_{3-2}(5) = \\frac{(2)(1)-5(6)}{3(2)}a_{1}(5) = \\frac{2-30}{6}a_{1} = -\\frac{28}{6}a_{1} = -\\frac{14}{3}a_{1}, \\\\\n",
    "a_{5}(5) & = \\frac{(5-1)(5-2)-5(5+1)}{5(5-1)}a_{5-2}(5) = \\frac{(4)(3)-5(6)}{5(4)}a_{3}(5) = -\\frac{12-30}{20} \\frac{14}{3}a_{1} = \\frac{21}{5}a_{1},\n",
    "\\end{align}\n",
    "obteremos\n",
    "\\begin{align}\n",
    "P_{5}^{i}(z) & = \\sum_{j=0}^{(5-1)/2}a_{2j+1}(5)z^{2j+1} = a_{1}z + a_{3}(5)z^{3} + a_{5}(5)z^{5} \\\\ \n",
    "& = a_{1}z -\\frac{14}{3}a_{1}z^{3} + \\frac{21}{5}a_{1}z^{5} = \\frac{a_{1}}{15}\\left(15z - 70z^{3} + 63z^{5}\\right).\n",
    "\\end{align}\n",
    "Por outro lado\n",
    "\\begin{align}\n",
    "P_{5}^{i}(z) & = ca_{1}\\frac{1}{5!2^{5}}\\frac{\\partial^{5}}{\\partial z^{5}}(z^{2}-1)^{5} = ca_{1}\\frac{1}{5!2^{5}}\\frac{\\partial^{5}}{\\partial z^{5}}\\left(z^{10}-5z^{8}+10z^{6}-10z^{4}+5z^{2}-1\\right) \\\\\n",
    "&  = ca_{1}\\frac{1}{5!2^{5}}\\frac{\\partial^{4}}{\\partial z^{4}}\\left(10z^{9}-40z^{7}+60z^{5}-40z^{3}+10z\\right)  = ca_{1}\\frac{1}{5!2^{5}}\\frac{\\partial^{3}}{\\partial z^{3}}\\left(90z^{8}-280z^{6}+300z^{4}-120z^{2}+10\\right) \\\\\n",
    "& = ca_{1}\\frac{1}{5!2^{5}}\\frac{\\partial^{2}}{\\partial z^{2}}\\left(720z^{7}-1680z^{5}+1200z^{3}-240z\\right) = ca_{1}\\frac{1}{5!2^{5}}\\frac{\\partial^{1}}{\\partial z^{1}}\\left(5040z^{6}-8400z^{4}+3600z^{2}-240\\right) \\\\\n",
    "& = ca_{1}\\frac{1}{5!2^{5}}\\left(30240z^{5}-33600z^{3}+7200z\\right) = ca_{1}\\frac{480}{5!2^{5}}\\left(63z^{5}-70z^{3}+15z\\right).\n",
    "\\end{align}"
   ]
  },
  {
   "cell_type": "code",
   "execution_count": 2,
   "metadata": {},
   "outputs": [
    {
     "data": {
      "image/png": "[encoded data removed]",
      "text/latex": [
       "$\\displaystyle z^{10} - 5 z^{8} + 10 z^{6} - 10 z^{4} + 5 z^{2} - 1$"
      ],
      "text/plain": [
       " 10      8       6       4      2    \n",
       "z   - 5⋅z  + 10⋅z  - 10⋅z  + 5⋅z  - 1"
      ]
     },
     "execution_count": 2,
     "metadata": {},
     "output_type": "execute_result"
    }
   ],
   "source": [
    "from sympy import symbols, expand, init_printing\n",
    "init_printing(use_unicode=True)\n",
    "z = symbols('z'); expand((z**2-1)**5)"
   ]
  },
  {
   "cell_type": "code",
   "execution_count": 3,
   "metadata": {},
   "outputs": [
    {
     "data": {
      "image/png": "[encoded data removed]",
      "text/latex": [
       "$\\displaystyle \\left( 480.0, \\  1.0, \\  1.0\\right)$"
      ],
      "text/plain": [
       "(480.0, 1.0, 1.0)"
      ]
     },
     "execution_count": 3,
     "metadata": {},
     "output_type": "execute_result"
    }
   ],
   "source": [
    "7200/15, 33600/(70*480), 30240/(63*480)"
   ]
  },
  {
   "cell_type": "markdown",
   "metadata": {},
   "source": [
    "---\n",
    "$6.$ Para $l=3$, quais são os valores possíveis de $m_{l}$? Obtenha $\\Theta_{l=3,m_{l}}(\\theta)$ (usando o mesmo procedimento utilizado em aula)."
   ]
  },
  {
   "cell_type": "markdown",
   "metadata": {},
   "source": [
    "_SOL._ Usando $P_{l}(z) = \\frac{1}{l!2^{l}}\\frac{\\partial^{l}}{\\partial z^{l}}(z^{2}-1)^{l}$, começamos calculando \n",
    "\\begin{align}\n",
    "P_{3}(z) &= \\frac{1}{3!2^{3}}\\frac{\\partial^{3}}{\\partial z^{3}}(z^{2}-1)^{3} = \\frac{1}{(6)(8)}\\frac{\\partial^{2}}{\\partial z^{2}}\\left(3(z^{2}-1)^{2}2z\\right) = \\frac{1}{8}\\frac{\\partial^{2}}{\\partial z^{2}}\\left((z^{2}-1)^{2}z\\right) \\\\\n",
    "&  = \\frac{1}{8}\\frac{\\partial}{\\partial z}\\left(2(z^{2}-1)2zz+(z^{2}-1)^{2}\\right) = \\frac{1}{8}\\frac{\\partial}{\\partial z}\\left(4(z^{2}-1)z^{2}+(z^{2}-1)^{2}\\right) \\\\\n",
    "&  = \\frac{1}{8}\\left(4(2z)z^{2} + 4(z^{2}-1)2z+2(z^{2}-1)2z\\right)  = \\frac{1}{8}\\left(8z^{3} + 12z(z^{2}-1)\\right) \\\\\n",
    "&  = \\frac{1}{8}\\left(20z^{3} - 12z\\right) = \\frac{1}{2}\\left(5z^{3} - 3z\\right).\n",
    "\\end{align}\n",
    "A seguir, também precisaremos de\n",
    "\\begin{align}\n",
    "& \\frac{\\partial P_{3}(z)}{\\partial z} = \\frac{1}{2}\\left(15z^{2} - 3\\right) = \\frac{3}{2}\\left(5z^{2} - 1\\right), \\\\\n",
    "& \\frac{\\partial^{2}P_{3}(z)}{\\partial z^{2}} = \\frac{1}{2}30z = 15z, \\\\\n",
    "& \\frac{\\partial^{3}P_{3}(z)}{\\partial z^{3}} = \\frac{1}{2}30 = 15.\n",
    "\\end{align}"
   ]
  },
  {
   "cell_type": "markdown",
   "metadata": {},
   "source": [
    "Em geral, $m_{l}=-l,-l+1,\\cdots,l-1,l$. Assim, para $l=3$ teremos $m_{l}=-3,-2,-1,0,1,2,3$. Em geral $\\Theta_{l,m_{l}}(z) = (1-z^{2})^{|m_{l}|/2}\\frac{\\partial^{|m_{l}|}P_{l}(z)}{\\partial z^{|m_{l}|}}$. Assim\n",
    "\\begin{align}\n",
    "\\Theta_{3,0}(z) &= (1-z^{2})^{0/2}\\frac{\\partial^{0}P_{3}(z)}{\\partial z^{0}} = \\frac{1}{2}\\left(5z^{3} - 3z\\right), \\\\\n",
    "\\Theta_{3,1}(z) &= \\Theta_{3,-1}(z) = (1-z^{2})^{1/2}\\frac{\\partial^{1}P_{3}(z)}{\\partial z^{1}}  = (1-z^{2})^{1/2}\\frac{3}{2}\\left(5z^{2} - 1\\right), \\\\\n",
    "\\Theta_{3,2}(z) &= \\Theta_{3,-2}(z) = (1-z^{2})^{2/2}\\frac{\\partial^{2}P_{l}(z)}{\\partial z^{2}} = (1-z^{2})15z, \\\\\n",
    "\\Theta_{3,3}(z) &= \\Theta_{3,-3}(z) = (1-z^{2})^{3/2}\\frac{\\partial^{3}P_{3}(z)}{\\partial z^{3}} = (1-z^{2})^{3/2}15.\n",
    "\\end{align}"
   ]
  },
  {
   "cell_type": "code",
   "execution_count": null,
   "metadata": {},
   "outputs": [],
   "source": []
  }
 ],
 "metadata": {
  "kernelspec": {
   "display_name": "Python 3 (ipykernel)",
   "language": "python",
   "name": "python3"
  },
  "language_info": {
   "codemirror_mode": {
    "name": "ipython",
    "version": 3
   },
   "file_extension": ".py",
   "mimetype": "text/x-python",
   "name": "python",
   "nbconvert_exporter": "python",
   "pygments_lexer": "ipython3",
   "version": "3.11.1"
  }
 },
 "nbformat": 4,
 "nbformat_minor": 4
}
