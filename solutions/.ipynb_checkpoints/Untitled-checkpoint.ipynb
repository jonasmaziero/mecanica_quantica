{
 "cells": [
  {
   "cell_type": "code",
   "execution_count": null,
   "id": "23a9e4d1-ac64-489d-a785-c0bf2254b763",
   "metadata": {},
   "outputs": [],
   "source": [
    "\n",
    "import numpy as np\n",
    "from scipy.linalg import eig\n",
    "\n",
    "# Matriz complexa\n",
    "B = np.array([[1, -1j],\n",
    "              [1j,  1]])\n",
    "\n",
    "autovalores, autovetores = eig(B)\n",
    "\n",
    "print(\"Matriz B:\",B,\"Autovalores:\",autovalores,\n",
    "      \"Autovetores:\", autovetores)"
   ]
  },
  {
   "cell_type": "code",
   "execution_count": null,
   "id": "f9b687b8-2ca7-4013-882a-b9fd2e5aefaf",
   "metadata": {},
   "outputs": [],
   "source": [
    "from sympy import Matrix\n",
    "s0=Matrix([[1,0],[0,1]]); s1=Matrix([[0,1],[1,0]])\n",
    "s2=Matrix([[0,-1j],[1j,0]]); s3=Matrix([[1,0],[0,-1]])\n",
    "s1*s1, s2*s2, s3*s3, s1*s2, s2*s1, s1*s3, s3*s1, s2*s3, s3*s2"
   ]
  },
  {
   "cell_type": "code",
   "execution_count": null,
   "id": "8f3de418-3381-4bd8-8b0f-71809e0a10d9",
   "metadata": {},
   "outputs": [],
   "source": [
    "from sympy.physics.quantum import TensorProduct as tp\n",
    "from sympy import symbols, Matrix\n",
    "A11,A12,A21,A22 = symbols(\"A_{11} A_{12} A_{21} A_{22}\")\n",
    "B11,B12,B21,B22 = symbols('B_{11} B_{12} B_{21} B_{22}')\n",
    "A = Matrix([[A11,A12],[A21,A22]]) \n",
    "B = Matrix([[B11,B12],[B21,B22]])\n",
    "tp(A,B)"
   ]
  },
  {
   "cell_type": "code",
   "execution_count": 16,
   "id": "fbe9520c-3219-4c8f-bf95-4cb6a8f91927",
   "metadata": {},
   "outputs": [
    {
     "data": {
      "text/latex": [
       "$\\displaystyle \\left[\\begin{matrix}a + f & c + h\\\\i + n & k + p\\end{matrix}\\right]$"
      ],
      "text/plain": [
       "Matrix([\n",
       "[a + f, c + h],\n",
       "[i + n, k + p]])"
      ]
     },
     "execution_count": 16,
     "metadata": {},
     "output_type": "execute_result"
    }
   ],
   "source": [
    "from sympy import symbols, Matrix, zeros\n",
    "def ptrace(da, db, C, ssys):\n",
    "    if ssys == 'a':\n",
    "        ptr = zeros(db,db)\n",
    "        for j in range(0, db):\n",
    "            for k in range(0, db):\n",
    "                for l in range(0, da):\n",
    "                    ptr[j,k] += C[l*db+j,l*db+k]\n",
    "    elif ssys == 'b':\n",
    "        ptr = zeros(da,da)\n",
    "        for j in range(0, da):\n",
    "            for k in range(0, da):\n",
    "                for l in range(0, db):\n",
    "                    ptr[j,k] += C[j*db+l,k*db+l]\n",
    "    return ptr\n",
    "a,b,c,d,e,f,g,h = symbols('a,b,c,d,e,f,g,h')\n",
    "i,j,k,l,m,n,o,p = symbols('i,j,k,l,m,n,o,p')\n",
    "C = Matrix([[a,b,c,d],[e,f,g,h],[i,j,k,l],[m,n,o,p]])\n",
    "A = ptrace(2,2,C,'a'); B = ptrace(2,2,C,'b')\n",
    "C \n",
    "A\n",
    "B"
   ]
  },
  {
   "cell_type": "code",
   "execution_count": 42,
   "id": "04f44831-9e95-46c1-930d-6f4344dcae9f",
   "metadata": {},
   "outputs": [
    {
     "name": "stdout",
     "output_type": "stream",
     "text": [
      "schmidt coefficients, base_a, base_b\n"
     ]
    },
    {
     "data": {
      "text/plain": [
       "([sqrt(2)/2, sqrt(2)/2],\n",
       " [Matrix([\n",
       "  [1],\n",
       "  [0]]),\n",
       "  Matrix([\n",
       "  [0],\n",
       "  [1]])],\n",
       " [Matrix([\n",
       "  [1],\n",
       "  [0]]),\n",
       "  Matrix([\n",
       "  [0],\n",
       "  [1]])])"
      ]
     },
     "execution_count": 42,
     "metadata": {},
     "output_type": "execute_result"
    }
   ],
   "source": [
    "from sympy import Matrix, sqrt, zeros, conjugate\n",
    "\n",
    "def proj(psi): # projetor - simbolico\n",
    "    d = psi.shape[0]\n",
    "    proj = zeros(d,d)\n",
    "    for j in range(0,d):\n",
    "        for k in range(0,d):\n",
    "            proj[j,k] = psi[j]*conjugate(psi[k])\n",
    "    return proj\n",
    "\n",
    "def inner_product(v,w): # produto interno - simbolico\n",
    "    d = len(v); ip = 0\n",
    "    for j in range(0,d):\n",
    "        ip += conjugate(v[j])*w[j]\n",
    "    return ip\n",
    "\n",
    "def norm(v): # norma de vetor - simbolico\n",
    "    d = len(v)\n",
    "    return sqrt(inner_product(v,v))\n",
    "    \n",
    "def schmidt_decomp(da,db,Psi):\n",
    "    scoeff = [] # lista para os coeficientes de Schmidt\n",
    "    base_a = [] # lista para os autovetores de A\n",
    "    base_b = [] # lista para os autovetores de B\n",
    "    P_Psi = proj(Psi)\n",
    "    A = ptrace(da, db, P_Psi, 'b')\n",
    "    eig_a = A.eigenvects()\n",
    "    B = ptrace(da, db, P_Psi, 'a')\n",
    "    eig_b = B.eigenvects()\n",
    "    ne = 0\n",
    "    j = 0\n",
    "    while ne < da:\n",
    "        mult = eig_a[j][1] # multiplicidade do autovalor\n",
    "        ne += mult\n",
    "        for k in range(0,mult):\n",
    "            scoeff.append(sqrt(eig_a[j][0]))\n",
    "            base_a.append(eig_a[j][2][k]/norm(eig_a[j][2][k]))\n",
    "        j += 1\n",
    "    ne = 0\n",
    "    j = 0\n",
    "    while ne < db:\n",
    "        mult = eig_b[j][1]\n",
    "        ne += mult\n",
    "        for k in range(0,mult):\n",
    "            base_b.append(eig_b[j][2][k]/norm(eig_b[j][2][k]))\n",
    "        j += 1\n",
    "    return scoeff, base_a, base_b\n",
    "\n",
    "Psi = Matrix([[1/sqrt(2)],[0],[0],[1/sqrt(2)]])\n",
    "#Psi = Matrix([[1],[0],[0],[0]])\n",
    "scoeff, base_a, base_b = schmidt_decomp(2,2,Psi)\n",
    "print('schmidt coefficients, base_a, base_b'); \n",
    "scoeff, base_a, base_b"
   ]
  },
  {
   "cell_type": "code",
   "execution_count": null,
   "id": "2420d19d-0024-4afa-b1b2-f8533ab4e357",
   "metadata": {},
   "outputs": [],
   "source": []
  }
 ],
 "metadata": {
  "kernelspec": {
   "display_name": "Python 3 (ipykernel)",
   "language": "python",
   "name": "python3"
  },
  "language_info": {
   "codemirror_mode": {
    "name": "ipython",
    "version": 3
   },
   "file_extension": ".py",
   "mimetype": "text/x-python",
   "name": "python",
   "nbconvert_exporter": "python",
   "pygments_lexer": "ipython3",
   "version": "3.12.2"
  }
 },
 "nbformat": 4,
 "nbformat_minor": 5
}
