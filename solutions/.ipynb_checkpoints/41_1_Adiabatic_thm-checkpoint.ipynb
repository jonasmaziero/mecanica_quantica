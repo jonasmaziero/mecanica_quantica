{
 "cells": [
  {
   "cell_type": "markdown",
   "id": "2a37d0ca-e2ef-4bbe-9d6d-1e113d3b6031",
   "metadata": {},
   "source": [
    "### Notas de aula de Mecânica Quântica <br> Autor: Jonas Maziero\n",
    "# Exercícios"
   ]
  },
  {
   "cell_type": "markdown",
   "id": "19ca6209-0a38-4af7-859a-c0af7e825d73",
   "metadata": {},
   "source": [
    "---\n",
    "$1.$ Verifique que $|\\dot{E}_n(t)\\rangle^\\dagger = \\langle\\dot{E}_n(t)|$."
   ]
  },
  {
   "cell_type": "markdown",
   "id": "e1b7a246-79ab-42f3-a238-40890ede1da6",
   "metadata": {},
   "source": [
    "_SOL._ Aplicando a definição de derivada, teremos que\n",
    "\\begin{align}\n",
    "|\\dot{E}_n(t)\\rangle^\\dagger & = \\big(\\partial_t|E_n(t)\\rangle\\big)^\\dagger \\\\\n",
    "& = \\Big(\\lim_{\\delta t\\rightarrow 0} \\frac{|E_n(t+\\delta t)\\rangle-|E_n(t)\\rangle}{\\delta t}\\Big)^\\dagger \\\\\n",
    "& = \\lim_{\\delta t\\rightarrow 0}\\Big( \\frac{|E_n(t+\\delta t)\\rangle-|E_n(t)\\rangle}{\\delta t}\\Big)^\\dagger \\\\\n",
    "& = \\lim_{\\delta t\\rightarrow 0}\\Big( \\frac{|E_n(t+\\delta t)\\rangle^\\dagger-|E_n(t)\\rangle^\\dagger}{(\\delta t)^*}\\Big) \\\\\n",
    "& = \\lim_{\\delta t\\rightarrow 0}\\Big( \\frac{\\langle E_n(t+\\delta t)|-\\langle E_n(t)|}{\\delta t}\\Big) \\\\\n",
    "& = \\partial_t \\langle E_n(t)| \\\\\n",
    "& = \\langle \\dot{E}_n(t)|.\n",
    "\\end{align}\n",
    "Acima assumimos que o adjunto \"comuta\" com o limite."
   ]
  },
  {
   "cell_type": "markdown",
   "id": "8f81df46",
   "metadata": {},
   "source": [
    "---\n",
    "$2.$ Verifique que o estado evoluído da eq. $(\\triangle)$ é solução da equação de Schrödinger, com o hamiltoniano sendo aquele dado no exemplo acima."
   ]
  },
  {
   "cell_type": "markdown",
   "id": "98061490",
   "metadata": {},
   "source": [
    "_SOL._ Temos que\n",
    "\\begin{align}\n",
    "i\\hbar|\\dot{\\psi}_{t}\\rangle & = i\\hbar\\partial_t\\big(\\cos(\\lambda t/2)-i((\\omega_{1}-\\omega)/\\lambda)\\sin(\\lambda t/2)\\big)\\cos(\\alpha/2)e^{-i\\omega t/2}|z_{+}\\rangle + i\\hbar\\partial_t\\big(\\cos(\\lambda t/2)-i((\\omega_{1}+\\omega)/\\lambda)\\sin(\\lambda t/2)\\big)\\sin(\\alpha/2)e^{+i\\omega t/2}|z_{-}\\rangle \\\\\n",
    "& = \\Big(-\\frac{i\\hbar\\lambda}{2}\\big(\\sin(\\lambda t/2)+i((\\omega_{1}-\\omega)/\\lambda)\\cos(\\lambda t/2)\\big) + \\frac{\\hbar\\omega}{2}\\big(\\cos(\\lambda t/2)-i((\\omega_{1}-\\omega)/\\lambda)\\sin(\\lambda t/2)\\big)\\Big)\\cos(\\alpha/2)e^{-i\\omega t/2}|z_{+}\\rangle \\\\\n",
    "& + \\Big(-\\frac{i\\hbar\\lambda}{2}\\big(\\sin(\\lambda t/2)+i((\\omega_{1}+\\omega)/\\lambda)\\cos(\\lambda t/2)\\big) - \\frac{\\hbar\\omega}{2}\\big(\\cos(\\lambda t/2)-i((\\omega_{1}+\\omega)/\\lambda)\\sin(\\lambda t/2)\\big)\\Big)\\sin(\\alpha/2)e^{+i\\omega t/2}|z_{-}\\rangle.\n",
    "\\end{align}\n",
    "Usando \n",
    "\\begin{align}\n",
    "H_t|z_+\\rangle & = \\frac{\\hbar\\omega_{1}}{2}\\begin{bmatrix}\\cos\\alpha & e^{-i\\omega t}\\sin\\alpha \\\\ e^{i\\omega t}\\sin\\alpha & -\\cos\\alpha\\end{bmatrix}\\begin{bmatrix} 1 \\\\ 0 \\end{bmatrix} \\\\\n",
    "& = \\frac{\\hbar\\omega_{1}}{2}\\big( \\cos\\alpha|z_+\\rangle + e^{i\\omega t}\\sin\\alpha|z_-\\rangle\\big), \\\\\n",
    "H_t|z_-\\rangle & = \\frac{\\hbar\\omega_{1}}{2}\\begin{bmatrix}\\cos\\alpha & e^{-i\\omega t}\\sin\\alpha \\\\ e^{i\\omega t}\\sin\\alpha & -\\cos\\alpha\\end{bmatrix}\\begin{bmatrix} 0 \\\\ 1 \\end{bmatrix} \\\\\n",
    "& = \\frac{\\hbar\\omega_{1}}{2}\\big( e^{-i\\omega t}\\sin\\alpha|z_+\\rangle - \\cos\\alpha|z_-\\rangle\\big),\n",
    "\\end{align}"
   ]
  },
  {
   "cell_type": "markdown",
   "id": "5570e9a6-2225-4c5f-b093-19903f953669",
   "metadata": {},
   "source": [
    "teremos que\n",
    "\\begin{align}\n",
    "H_t|\\psi_t\\rangle & = \\big(\\cos(\\lambda t/2)-i((\\omega_{1}-\\omega)/\\lambda)\\sin(\\lambda t/2)\\big)\\cos(\\alpha/2)e^{-i\\omega t/2}H_t|z_{+}\\rangle + \\big(\\cos(\\lambda t/2)-i((\\omega_{1}+\\omega)/\\lambda)\\sin(\\lambda t/2)\\big)\\sin(\\alpha/2)e^{+i\\omega t/2}H_t|z_{-}\\rangle \\\\\n",
    "& = \\big(\\cos(\\lambda t/2)-i((\\omega_{1}-\\omega)/\\lambda)\\sin(\\lambda t/2)\\big)\\cos(\\alpha/2)e^{-i\\omega t/2}\\frac{\\hbar\\omega_{1}}{2}\\big( \\cos\\alpha|z_+\\rangle + e^{i\\omega t}\\sin\\alpha|z_-\\rangle\\big) \\\\\n",
    "& + \\big(\\cos(\\lambda t/2)-i((\\omega_{1}+\\omega)/\\lambda)\\sin(\\lambda t/2)\\big)\\sin(\\alpha/2)e^{+i\\omega t/2}\\frac{\\hbar\\omega_{1}}{2}\\big( e^{-i\\omega t}\\sin\\alpha|z_+\\rangle - \\cos\\alpha|z_-\\rangle\\big) \\\\\n",
    "& = \\frac{\\hbar\\omega_{1}}{2}\\big(\\cos(\\lambda t/2)-i((\\omega_{1}-\\omega)/\\lambda)\\sin(\\lambda t/2)\\big)\\cos(\\alpha/2)\\cos\\alpha e^{-i\\omega t/2}|z_+\\rangle + \\frac{\\hbar\\omega_{1}}{2}\\big(\\cos(\\lambda t/2)-i((\\omega_{1}+\\omega)/\\lambda)\\sin(\\lambda t/2)\\big)\\sin(\\alpha/2)2\\sin(\\alpha/2)\\cos(\\alpha/2) e^{-i\\omega t/2}|z_+\\rangle \\\\\n",
    "& + \\frac{\\hbar\\omega_{1}}{2}\\big(\\cos(\\lambda t/2)-i((\\omega_{1}-\\omega)/\\lambda)\\sin(\\lambda t/2)\\big)\\cos(\\alpha/2)2\\sin(\\alpha/2)\\cos(\\alpha/2) e^{i\\omega t/2}|z_-\\rangle - \\frac{\\hbar\\omega_{1}}{2}\\big(\\cos(\\lambda t/2)-i((\\omega_{1}+\\omega)/\\lambda)\\sin(\\lambda t/2)\\big)\\sin(\\alpha/2)\\cos\\alpha e^{+i\\omega t/2}|z_-\\rangle\\big) \\\\\n",
    "& = \\frac{\\hbar\\omega_{1}}{2}\\Big(\\big(\\cos(\\lambda t/2)-i((\\omega_{1}-\\omega)/\\lambda)\\sin(\\lambda t/2)\\big)\\cos\\alpha + \\big(\\cos(\\lambda t/2)-i((\\omega_{1}+\\omega)/\\lambda)\\sin(\\lambda t/2)\\big)2\\sin^2(\\alpha/2)\\Big)\\cos(\\alpha/2) e^{-i\\omega t/2}|z_+\\rangle \\\\\n",
    "& + \\frac{\\hbar\\omega_{1}}{2}\\Big(\\big(\\cos(\\lambda t/2)-i((\\omega_{1}-\\omega)/\\lambda)\\sin(\\lambda t/2)\\big)2\\cos^2(\\alpha/2) - \\big(\\cos(\\lambda t/2)-i((\\omega_{1}+\\omega)/\\lambda)\\sin(\\lambda t/2)\\big)\\cos\\alpha\\big)\\Big) \\sin(\\alpha/2)e^{i\\omega t/2}|z_-\\rangle.\n",
    "\\end{align}\n",
    "Para que $i\\hbar\\partial_t|\\psi_t\\rangle$ seja igual a $H_t|\\psi_t\\rangle$ devemos ter todos os coeficientes iguais. Para os coeficientes de $|z_+\\rangle$ devemos ter\n",
    "\\begin{align}\n",
    "-\\frac{i\\hbar\\lambda}{2}\\big(\\sin(\\lambda t/2)+i((\\omega_{1}-\\omega)/\\lambda)\\cos(\\lambda t/2)\\big) + \\frac{\\hbar\\omega}{2}\\big(\\cos(\\lambda t/2)-i((\\omega_{1}-\\omega)/\\lambda)\\sin(\\lambda t/2)\\big) = \\frac{\\hbar\\omega_{1}}{2}\\Big(\\big(\\cos(\\lambda t/2)-i((\\omega_{1}-\\omega)/\\lambda)\\sin(\\lambda t/2)\\big)\\cos\\alpha + \\big(\\cos(\\lambda t/2)-i((\\omega_{1}+\\omega)/\\lambda)\\sin(\\lambda t/2)\\big)2\\sin^2(\\alpha/2)\\Big) \\hspace{1cm} ?\n",
    "\\end{align}"
   ]
  },
  {
   "cell_type": "markdown",
   "id": "db418055-ba68-47d8-bb18-2a63dd601459",
   "metadata": {},
   "source": [
    "Como as funções $\\sin(\\lambda t/2)$ e $\\cos(\\lambda t/2)$ são linearmente independentes, seus coeficientes também devem ser iguais. Para $\\sin(\\lambda t/2)$ temos\n",
    "\\begin{align}\n",
    "& -\\frac{i\\hbar\\lambda}{2} - \\frac{\\hbar\\omega}{2}i\\frac{\\omega_{1}-\\omega}{\\lambda} = -\\frac{\\hbar\\omega_{1}}{2}i\\frac{\\omega_{1}-\\omega}{\\lambda}\\cos\\alpha -\\frac{\\hbar\\omega_{1}}{2}2i\\frac{\\omega_{1}+\\omega}{\\lambda}\\sin^2(\\alpha/2)  \\hspace{1cm} ? \\\\\n",
    "& \\therefore\\ \\lambda^2 + \\omega_{1}\\omega-\\omega^2 = (\\omega_{1}^2-\\omega_{1}\\omega)\\cos\\alpha +2(\\omega_{1}^2+\\omega_{1}\\omega)\\frac{1}{2}(1-\\cos\\alpha)  \\hspace{1cm} ? \\\\\n",
    "& \\therefore\\ \\lambda^2 = - \\omega_{1}\\omega  + \\omega^2 + \\omega_{1}^2\\cos\\alpha -\\omega_{1}\\omega\\cos\\alpha - \\cos\\alpha\\omega_{1}^2 - \\omega_{1}\\omega\\cos\\alpha + \\omega_{1}^2+\\omega_{1}\\omega  \\hspace{1cm} ? \\\\\n",
    "& \\therefore\\ \\lambda^2 = \\omega^2 +  \\omega_1^2 - 2\\omega_{1}\\omega\\cos\\alpha  \\hspace{1cm} \\text{ok!}\n",
    "\\end{align}\n",
    "Para $\\cos(\\lambda t/2)$ temos\n",
    "\\begin{align}\n",
    "& \\frac{\\hbar\\lambda}{2}\\frac{\\omega_{1}-\\omega}{\\lambda} +  \\frac{\\hbar\\omega}{2} = \\frac{\\hbar\\omega_{1}}{2}\\cos\\alpha + \\frac{\\hbar\\omega_{1}}{2}2\\sin^2(\\alpha/2) \\hspace{1cm} ? \\\\\n",
    "& \\therefore\\ \\frac{\\hbar\\omega_{1}}{2} - \\frac{\\hbar\\omega}{2} + \\frac{\\hbar\\omega}{2} = \\frac{\\hbar\\omega_{1}}{2}\\Big(\\cos\\alpha + 2\\frac{1}{2}(1-\\cos(\\alpha)\\Big) \\hspace{1cm}  \\text{ok!}\n",
    "\\end{align}\n",
    "\n",
    "Para os coeficientes de $|z_-\\rangle$ devemos ter\n",
    "\\begin{align}\n",
    "& \\Big(-\\frac{i\\hbar\\lambda}{2}\\big(\\sin(\\lambda t/2)+i((\\omega_{1}+\\omega)/\\lambda)\\cos(\\lambda t/2)\\big) - \\frac{\\hbar\\omega}{2}\\big(\\cos(\\lambda t/2)-i((\\omega_{1}+\\omega)/\\lambda)\\sin(\\lambda t/2)\\big)\\Big) \\\\\n",
    "& = \\frac{\\hbar\\omega_{1}}{2}\\Big(\\big(\\cos(\\lambda t/2)-i((\\omega_{1}-\\omega)/\\lambda)\\sin(\\lambda t/2)\\big)2\\cos^2(\\alpha/2) - \\big(\\cos(\\lambda t/2)-i((\\omega_{1}+\\omega)/\\lambda)\\sin(\\lambda t/2)\\big)\\cos\\alpha\\big)\\Big).\n",
    "\\end{align}"
   ]
  },
  {
   "cell_type": "markdown",
   "id": "1bf92efc-7f19-4036-ac42-86a60f0eeaf0",
   "metadata": {},
   "source": [
    "Para os coeficientes de $\\sin(\\lambda t/2)$ temos\n",
    "\\begin{align}\n",
    "& -\\frac{i\\hbar\\lambda}{2} + \\frac{\\hbar\\omega}{2}i\\frac{\\omega_{1}+\\omega}{\\lambda} = -\\frac{\\hbar\\omega_{1}}{2}i\\frac{\\omega_{1}-\\omega}{\\lambda}2\\cos^2(\\alpha/2) + \\frac{\\hbar\\omega_{1}}{2}i\\frac{\\omega_{1}+\\omega}{\\lambda}\\cos\\alpha \\hspace{1cm} ? \\\\\n",
    "& \\therefore\\ -\\lambda + \\frac{\\omega\\omega_{1}+\\omega^2}{\\lambda} = -\\frac{\\omega_{1}^2-\\omega\\omega_{1}}{\\lambda}2\\frac{1}{2}(1+\\cos\\alpha) + \\frac{\\omega_{1}^2+\\omega_{1}\\omega}{\\lambda}\\cos\\alpha \\hspace{1cm} ? \\\\\n",
    "& \\therefore\\ \\lambda^2 = \\omega\\omega_{1}+\\omega^2 +(\\omega_{1}^2-\\omega\\omega_{1})(1+\\cos\\alpha) - (\\omega_{1}^2+\\omega_{1}\\omega)\\cos\\alpha \\hspace{1cm} ? \\\\\n",
    "& \\therefore\\ \\lambda^2 = \\omega^2 +\\omega_{1}^2-2\\omega\\omega_{1}\\cos\\alpha \\hspace{1cm} \\text{ok!}.\n",
    "\\end{align}\n",
    "Para os coeficientes de $\\cos(\\lambda t/2)$ temos\n",
    "\\begin{align}\n",
    "& \\frac{\\hbar\\lambda}{2}\\frac{\\omega_{1}+\\omega}{\\lambda} - \\frac{\\hbar\\omega}{2} = \\frac{\\hbar\\omega_{1}}{2}2\\cos^2(\\alpha/2) - \\frac{\\hbar\\omega_{1}}{2}\\cos\\alpha \\hspace{1cm} ? \\\\\n",
    "& \\therefore\\ \\frac{\\hbar\\omega_1}{2} + \\frac{\\hbar\\omega}{2} - \\frac{\\hbar\\omega}{2} = \\frac{\\hbar\\omega_{1}}{2}2\\frac{1}{2}(1+\\cos\\alpha) - \\frac{\\hbar\\omega_{1}}{2}\\cos\\alpha \\hspace{1cm} \\text{ok!}.\n",
    "\\end{align}\n",
    "Fica verificado assim que a equação de Schrödinger é satisfeita pelo estado evoluído proposto, dado o hamiltoniano."
   ]
  },
  {
   "cell_type": "markdown",
   "id": "735a9092",
   "metadata": {},
   "source": [
    "---\n",
    "$3.$ Obtenha a igualdade para a probabilidade de transição na equação $(\\diamond).$"
   ]
  },
  {
   "cell_type": "markdown",
   "id": "e059567c",
   "metadata": {},
   "source": [
    "_SOL._ Usando \n",
    "$$|\\chi_{-}(t)\\rangle = e^{-i\\omega t}\\sin(\\alpha/2)|z_{+}\\rangle - \\cos(\\alpha/2)|z_{-}\\rangle$$\n",
    "e\n",
    "\\begin{align}\n",
    "|\\psi_{t}\\rangle = & \\big(\\cos(\\lambda t/2)-i((\\omega_{1}-\\omega)/\\lambda)\\sin(\\lambda t/2)\\big)\\cos(\\alpha/2)e^{-i\\omega t/2}|z_{+}\\rangle \\\\\n",
    "& + \\big(\\cos(\\lambda t/2)-i((\\omega_{1}+\\omega)/\\lambda)\\sin(\\lambda t/2)\\big)\\sin(\\alpha/2)e^{+i\\omega t/2}|z_{-}\\rangle, \\hspace{1cm} (\\triangle)\n",
    "\\end{align}\n",
    "em lembrando que $\\{|z_+\\rangle,|z_-\\rangle\\}$ é uma base ortonormal, teremos que\n",
    "\\begin{align}\n",
    "Pr(\\chi_-(t)|\\psi_t) & = |\\langle\\chi_-(t)|\\psi_t|^2 \\\\\n",
    "& = \\Big|\\Big(\\cos\\frac{\\lambda t}{2} - i\\frac{\\omega_1 -\\omega}{\\lambda}\\sin\\frac{\\lambda t}{2}\\Big)\\frac{2}{2}\\sin\\frac{\\alpha}{2}\\cos\\frac{\\alpha}{2}e^{i\\omega t/2} - \\Big(\\cos\\frac{\\lambda t}{2} - i\\frac{\\omega_1 +\\omega}{\\lambda}\\sin\\frac{\\lambda t}{2}\\Big)\\frac{2}{2}\\sin\\frac{\\alpha}{2}\\cos\\frac{\\alpha}{2}e^{i\\omega t/2}\\Big|^2 \\\\\n",
    "& = \\Big|e^{i\\omega t/2}\\Big|^2\\sin^2\\alpha \\frac{1}{4}\\Big|0+0+\\frac{2i\\omega}{\\lambda}\\sin\\frac{\\lambda t}{2}\\Big|^2 \\\\\n",
    "& = \\Big(\\frac{\\omega}{\\lambda}\\Big)^2\\sin^2\\alpha\\sin^2\\frac{\\lambda t}{2}.\n",
    "\\end{align}"
   ]
  },
  {
   "cell_type": "markdown",
   "id": "7d5c4424-81f1-40aa-b40c-1aba427ef514",
   "metadata": {},
   "source": [
    "---\n",
    "$4.$ Considere um sistema quântico de 2 níveis com um hamiltoniano dependente do tempo dado por:\n",
    "$$ H_t = \\frac{\\hbar \\omega}{2} \\begin{bmatrix} \\cos\\theta_t & e^{-i\\phi}\\sin\\theta_t \\\\ e^{i\\phi}\\sin\\theta_t & -\\cos\\theta_t \\end{bmatrix} $$\n",
    "em que $\\omega$ e $\\phi$ são constantes no tempo e  $\\theta_t = \\pi t/T.$ Obtenha os autovelores e autovetores instantâneos do hamiltoniano $H_t$. Escreva explicitamente a expressão para a condição adiabática aplicada a este sistema. Verifique se a aproximação adiabática é satisfeita para este sistema nos casos: $T=10\\text{ s}$, $T = 10^3\\text{ s}$ e $T = 10^6\\text{ s}.$"
   ]
  },
  {
   "cell_type": "markdown",
   "id": "ea665e58-66da-466e-b6e8-d73dd678b10e",
   "metadata": {},
   "source": [
    "_SOL._ Os autovalores são\n",
    "$$E_{\\pm}(t) = \\pm \\frac{\\hbar \\omega}{2}$$\n",
    "e os autovetores correspondentes são\n",
    "\\begin{align}\n",
    "|E_+(t)\\rangle & = \\cos(\\theta_t/2)|z_+\\rangle + e^{i\\phi}\\sin(\\theta_t/2)|z_-\\rangle, \\\\\n",
    "|E_-(t)\\rangle & = \\sin(\\theta_t/2)|z_+\\rangle - e^{i\\phi}\\cos(\\theta_t/2)|z_-\\rangle.\n",
    "\\end{align}\n",
    "\n",
    "Temos que\n",
    "\\begin{align}\n",
    "\\dot{H}_t & = \\frac{\\hbar \\omega}{2} \\begin{bmatrix} -\\dot{\\theta}_t\\sin\\theta_t & \\dot{\\theta}_t e^{-i\\phi}\\cos\\theta_t \\\\\n",
    "\\dot{\\theta}_t e^{i\\phi}\\cos\\theta_t & \\dot{\\theta}_t \\sin\\theta_t\\end{bmatrix} = \\frac{\\hbar \\omega\\dot{\\theta}_t}{2} \\begin{bmatrix} -\\sin\\theta_t & e^{-i\\phi}\\cos\\theta_t \\\\ e^{i\\phi}\\cos\\theta_t & \\sin\\theta_t \\end{bmatrix}\n",
    "\\end{align}\n",
    "e\n",
    "\\begin{align} \n",
    "\\dot{H}_t|E_+(t)\\rangle & = \\frac{\\hbar \\omega\\dot{\\theta}_t}{2} \\begin{bmatrix} -\\sin\\theta_t & e^{-i\\phi}\\cos\\theta_t \\\\ e^{i\\phi}\\cos\\theta_t & \\sin\\theta_t \\end{bmatrix}\\begin{bmatrix} \\cos(\\theta_t/2) \\\\ e^{i\\phi}\\sin(\\theta_t/2) \\end{bmatrix} \\\\\n",
    "& = \\frac{\\hbar \\omega\\dot{\\theta}_t}{2} \\begin{bmatrix} -\\sin\\theta_t \\cos(\\theta_t/2) + \\cos\\theta_t\\sin(\\theta_t/2) \\\\ e^{i\\phi}\\cos\\theta_t\\cos(\\theta_t/2) + e^{i\\phi}\\sin\\theta_t \\sin(\\theta_t/2) \\end{bmatrix} = \\frac{\\hbar \\omega\\dot{\\theta}_t}{2} \\begin{bmatrix} -\\sin(\\theta_t/2) \\\\ e^{i\\phi}(\\cos\\theta_t/2) \\end{bmatrix} \\\\\n",
    "& = -\\frac{\\hbar \\omega\\dot{\\theta}_t}{2}|E_-(t)\\rangle.\n",
    "\\end{align}\n",
    "\n",
    "A diferença de energia é\n",
    "$$E_+(t) - E_-(t) = \\frac{\\hbar\\omega}{2} - \\Big(-\\frac{\\hbar\\omega}{2}\\Big) = \\hbar\\omega.$$\n",
    "\n",
    "Temos assim que\n",
    "\\begin{align}\n",
    "\\frac{|\\langle E_-(t)|\\dot{H}_t|E_+(t)\\rangle|}{E_+(t) - E_-(t)} & = \\frac{\\frac{\\hbar \\omega\\dot{\\theta}_t}{2}}{\\hbar\\omega} = \\frac{\\dot{\\theta}_t}{2} = \\frac{\\pi}{2T} = \\frac{\\pi}{2T}.\n",
    "\\end{align}"
   ]
  },
  {
   "cell_type": "code",
   "execution_count": 1,
   "id": "c8a41587-43f5-4402-a37f-44d04781eb93",
   "metadata": {},
   "outputs": [
    {
     "data": {
      "text/plain": [
       "(0.15707963267948966, 0.0015707963267948967, 1.5707963267948967e-06)"
      ]
     },
     "execution_count": 1,
     "metadata": {},
     "output_type": "execute_result"
    }
   ],
   "source": [
    "from sympy import pi\n",
    "float(pi/(2*10**1)), float(pi/(2*10**3)), float(pi/(2*10**6))"
   ]
  },
  {
   "cell_type": "markdown",
   "id": "ff7f97a9-39ed-45bd-97bf-1c9b53679375",
   "metadata": {},
   "source": [
    "---\n",
    "$5.$ Prove o teorema adiabático considerando hamiltonianos com espectro discreto não degenerado e com $[H_t,H_{t'}]\\ne 0.$\n",
    "Dica: Use $|\\psi_t\\rangle = \\sum_m c_m(t)e^{-\\frac{i}{\\hbar}\\int_0^t E_m(t')dt'}|E_m(t)\\rangle$."
   ]
  },
  {
   "cell_type": "markdown",
   "id": "f9e7ed9a-9a77-4dfe-bb87-19bb7b307411",
   "metadata": {},
   "source": [
    "_SOL._ Vamos substituir a dica na equação de Schrödinger\n",
    "\\begin{align}\n",
    "i\\hbar\\partial_t|\\psi_t\\rangle & = i\\hbar\\partial_t\\sum_m c_m(t)e^{-\\frac{i}{\\hbar}\\int_0^t E_m(t')dt'}|E_m(t)\\rangle \\\\\n",
    "& = i\\hbar\\sum_m \\dot{c_m}(t)e^{-\\frac{i}{\\hbar}\\int_0^t E_m(t')dt'}|E_m(t)\\rangle + i\\hbar\\sum_m c_m(t)e^{-\\frac{i}{\\hbar}\\int_0^t E_m(t')dt'}\\Big(-\\frac{i}{\\hbar}\\partial_t\\int_0^t E_m(t')dt'\\Big)|E_m(t)\\rangle \\\\\n",
    "& + i\\hbar\\sum_m c_m(t)e^{-\\frac{i}{\\hbar}\\int_0^t E_m(t')dt'}|\\dot{E_m}(t)\\rangle \\\\\n",
    "& = i\\hbar\\sum_m \\dot{c_m}(t)e^{-\\frac{i}{\\hbar}\\int_0^t E_m(t')dt'}|E_m(t)\\rangle + \\sum_m c_m(t)e^{-\\frac{i}{\\hbar}\\int_0^t E_m(t')dt'}E_m(t)|E_m(t)\\rangle \\\\\n",
    "& + i\\hbar\\sum_m c_m(t)e^{-\\frac{i}{\\hbar}\\int_0^t E_m(t')dt'}|\\dot{E_m}(t)\\rangle \\\\\n",
    "& = H_t|\\psi_t\\rangle \\\\\n",
    "& = \\sum_m c_m(t)e^{-\\frac{i}{\\hbar}\\int_0^t E_m(t')dt'}H_t|E_m(t)\\rangle \\\\\n",
    "& = \\sum_m c_m(t)e^{-\\frac{i}{\\hbar}\\int_0^t E_m(t')dt'}E_m(t)|E_m(t)\\rangle.\n",
    "\\end{align}"
   ]
  },
  {
   "cell_type": "markdown",
   "id": "4055a2a7-6f35-4646-97b9-7e3bdaffcf44",
   "metadata": {},
   "source": [
    "Por conseguinte\n",
    "\\begin{align}\n",
    "& i\\hbar\\sum_m \\dot{c_m}(t)e^{-\\frac{i}{\\hbar}\\int_0^t E_m(t')dt'}|E_m(t)\\rangle + i\\hbar\\sum_m c_m(t)e^{-\\frac{i}{\\hbar}\\int_0^t E_m(t')dt'}|\\dot{E_m}(t)\\rangle = 0.\n",
    "\\end{align}\n",
    "\n",
    "Tomando o produto interno de $|E_n(t)\\rangle$ com esta equação, obteremos\n",
    "\\begin{align}\n",
    "& \\sum_m \\dot{c_m}(t)e^{-\\frac{i}{\\hbar}\\int_0^t E_m(t')dt'}\\langle E_n(t)|E_m(t)\\rangle = -\\sum_m c_m(t)e^{-\\frac{i}{\\hbar}\\int_0^t E_m(t')dt'}\\langle E_n(t)|\\dot{E_m}(t)\\rangle \\\\\n",
    "& \\therefore\\ \\sum_m \\dot{c_m}(t)e^{-\\frac{i}{\\hbar}\\int_0^t E_m(t')dt'}\\delta_{n,m} = -\\sum_m c_m(t)e^{-\\frac{i}{\\hbar}\\int_0^t E_m(t')dt'}\\langle E_n(t)|\\dot{E_m}(t)\\rangle \\\\\n",
    "& \\therefore\\ \\dot{c_n}(t)e^{-\\frac{i}{\\hbar}\\int_0^t E_n(t')dt'} = -\\sum_m c_m(t)e^{-\\frac{i}{\\hbar}\\int_0^t E_m(t')dt'}\\langle E_n(t)|\\dot{E_m}(t)\\rangle \\\\\n",
    "& \\therefore\\ \\dot{c_n}(t) = -\\sum_m c_m(t)e^{-\\frac{i}{\\hbar}\\int_0^t\\big(E_n(t')-E_m(t')\\big)dt'}\\langle E_n(t)|\\dot{E_m}(t)\\rangle \\\\\n",
    "& \\therefore\\ \\dot{c_n}(t) = -\\sum_{m=n} c_m(t)e^{-\\frac{i}{\\hbar}\\int_0^t\\big(E_n(t')-E_m(t')\\big)dt'}\\langle E_n(t)|\\dot{E_m}(t)\\rangle -\\sum_{m\\ne n} c_m(t)e^{-\\frac{i}{\\hbar}\\int_0^t\\big(E_n(t')-E_m(t')\\big)dt'}\\langle E_n(t)|\\dot{E_m}(t)\\rangle \\\\\n",
    "& \\therefore\\ \\dot{c_n}(t) = -c_n(t)\\langle E_n(t)|\\dot{E_n}(t)\\rangle - \\sum_{m\\ne n} c_m(t)e^{-\\frac{i}{\\hbar}\\int_0^t\\big(E_n(t')-E_m(t')\\big)dt'}\\langle E_n(t)|\\dot{E_m}(t)\\rangle.\n",
    "\\end{align}"
   ]
  },
  {
   "cell_type": "markdown",
   "id": "8bc8f421-41c0-4ffc-821f-6cb1066db7c0",
   "metadata": {},
   "source": [
    "Seguindo, consideremos a equação de autovalores $H_{t}|E_{m}(t)\\rangle=E_{m}(t)|E_{m}(t)\\rangle$. Derivando esta equação em relação ao tempo e tomando o produto interno com $|E_{n}(t)\\rangle$, e assumindo que $H_t$ é não degenerado, obteremos\n",
    "\\begin{align}\n",
    "& \\dot{H}_t|E_{m}(t)\\rangle + H_{t}|\\dot{E_m}(t)\\rangle = \\dot{E_m}(t)|E_{m}(t)\\rangle + E_{m}(t)|\\dot{E_m}(t)\\rangle \\\\\n",
    "& \\therefore \\langle E_n(t)|\\dot{H}_t|E_{m}(t)\\rangle + \\langle E_n(t)|H_{t}|\\dot{E_m}(t)\\rangle = \\dot{E_m}(t)\\langle E_n(t)|E_{m}(t)\\rangle + E_{m}(t)\\langle E_n(t)|\\dot{E_m}(t)\\rangle \\\\\n",
    "& \\therefore \\langle E_n(t)|\\dot{H}_t|E_{m}(t)\\rangle + E_n(t)\\langle E_n(t)|\\dot{E_m}(t)\\rangle = \\dot{E_m}(t)\\delta_{n,m} + E_{m}(t)\\langle E_n(t)|\\dot{E_m}(t)\\rangle \\\\\n",
    "& \\therefore \\langle E_n(t)|\\dot{H}_t|E_{m}(t)\\rangle + E_n(t)\\langle E_n(t)|\\dot{E_m}(t)\\rangle = \\dot{E_m}(t)\\delta_{n,m} + E_{m}(t)\\langle E_n(t)|\\dot{E_m}(t)\\rangle \\\\\n",
    "& \\therefore \\langle E_n(t)|\\dot{H}_t|E_{m}(t)\\rangle - \\dot{E_m}(t)\\delta_{n,m} = (E_m(t)-E_n(t))\\langle E_n(t)|\\dot{E_m}(t)\\rangle \\\\\n",
    "& \\therefore \\langle E_n(t)|\\dot{E_m}(t)\\rangle = \\frac{\\langle E_n(t)|\\dot{H}_t|E_{m}(t)\\rangle}{E_m(t)-E_n(t)} - \\frac{\\dot{E_m}(t)\\delta_{n,m}}{E_m(t)-E_n(t)}.\n",
    "\\end{align}\n",
    "Temos assim que\n",
    "$$\\dot{c_n}(t) = -c_n(t)\\langle E_n(t)|\\dot{E_n}(t)\\rangle - \\sum_{m\\ne n} c_m(t)e^{-\\frac{i}{\\hbar}\\int_0^t\\big(E_n(t')-E_m(t')\\big)dt'}\\frac{\\langle E_n(t)|\\dot{H}_t|E_{m}(t)\\rangle}{E_m(t)-E_n(t)}.$$"
   ]
  },
  {
   "cell_type": "markdown",
   "id": "8b8a217b-22bb-4171-ae29-8a2cb537164a",
   "metadata": {},
   "source": [
    "Agora aplicamos a aproximação adiabática\n",
    "$$|\\langle E_n(t)|\\dot{H}_t|E_{m}(t)\\rangle|\\ll |E_m(t)-E_n(t)|$$\n",
    "para obter\n",
    "\\begin{align}\n",
    "& \\dot{c_n}(t) \\approx -c_n(t)\\langle E_n(t)|\\dot{E_n}(t)\\rangle \\\\\n",
    "& \\therefore\\ c_n(t) = c_n(0)e^{i\\gamma_n(t)},\n",
    "\\end{align}\n",
    "com a fase geométrica dada por\n",
    "$$\\gamma_n(t) = i\\int_0^t\\langle E_n(t')|\\dot{E_n}(t')\\rangle dt'.$$"
   ]
  },
  {
   "cell_type": "markdown",
   "id": "90c0eff2-2b2c-47d2-9690-af7193d9a336",
   "metadata": {},
   "source": [
    "Por conseguinte, se o sistema iniciar em um autovetor do hamiltoniano, i.e.,\n",
    "$$|\\psi_0\\rangle = |E_n(0)\\rangle,$$\n",
    "temos que\n",
    "\\begin{align}\n",
    "|\\psi_0\\rangle & = \\sum_m c_m(0)e^{-\\frac{i}{\\hbar}\\int_0^0 E_m(t')dt'}|E_m(0)\\rangle \\\\\n",
    "& = \\sum_m c_m(0)|E_m(0)\\rangle \\\\\n",
    "& = |E_n(0)\\rangle,\n",
    "\\end{align}\n",
    "então \n",
    "$$c_m(0) = \\delta_{n,m}.$$\n",
    "Com isso, vemos que\n",
    "\\begin{align}\n",
    "|\\psi_t\\rangle & = \\sum_m c_m(t)e^{-\\frac{i}{\\hbar}\\int_0^t E_m(t')dt'}|E_m(t)\\rangle \\\\\n",
    "& = \\sum_m c_m(0)e^{i\\gamma_m(t)}e^{-\\frac{i}{\\hbar}\\int_0^t E_m(t')dt'}|E_m(t)\\rangle \\\\\n",
    "& = \\sum_m \\delta_{m,n}e^{i\\gamma_m(t)}e^{-\\frac{i}{\\hbar}\\int_0^t E_m(t')dt'}|E_m(t)\\rangle \\\\\n",
    "& = e^{i\\gamma_m(t)}e^{i\\theta_n(t)}|E_n(t)\\rangle,\n",
    "\\end{align}\n",
    "com a fase dinâmica definida como\n",
    "$$\\theta_n(t) = -\\frac{1}{\\hbar}\\int_0^t E_m(t')dt'.$$\n",
    "Esse é o resultado que queríamos demonstrar. Ou seja, se a condição adiabática é satisfeita e o sistema é inicialmente preparado em um autovetor do hamiltoniano, em qualquer instante de tempo seu estado continuará sendo um autovetor do hamiltoniano evoluído no tempo com o mesmo índice do estado inicial. Por exemplo, se o sistema for preparado no estado fundamental, este permanece no estado fundamental para todo tempo."
   ]
  },
  {
   "cell_type": "code",
   "execution_count": null,
   "id": "e02ce861-70ca-4665-b01f-7fbbba4f8c09",
   "metadata": {},
   "outputs": [],
   "source": []
  }
 ],
 "metadata": {
  "kernelspec": {
   "display_name": "Python 3 (ipykernel)",
   "language": "python",
   "name": "python3"
  },
  "language_info": {
   "codemirror_mode": {
    "name": "ipython",
    "version": 3
   },
   "file_extension": ".py",
   "mimetype": "text/x-python",
   "name": "python",
   "nbconvert_exporter": "python",
   "pygments_lexer": "ipython3",
   "version": "3.12.2"
  }
 },
 "nbformat": 4,
 "nbformat_minor": 5
}
