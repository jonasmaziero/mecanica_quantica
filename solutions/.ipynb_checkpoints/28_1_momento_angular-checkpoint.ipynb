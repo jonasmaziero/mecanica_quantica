{
 "cells": [
  {
   "cell_type": "markdown",
   "metadata": {},
   "source": [
    "### Notas de aula de Mecânica Quântica <br> Autor: Jonas Maziero\n",
    "\n",
    "# Exercícios"
   ]
  },
  {
   "cell_type": "markdown",
   "metadata": {},
   "source": [
    "---\n",
    "$1.$ Escreva explicitamente a relação de incerteza de Robertson para as componentes do momento angular, e a discuta no que concerne a (in)compatibilidade dessas componentes."
   ]
  },
  {
   "cell_type": "markdown",
   "metadata": {},
   "source": [
    "_SOL._ Usando a relação de comutação que define a álgebra do momento angular, $[L_{j},L_{k}]=i\\hbar\\epsilon_{jkl}L_{l},$ e a RIR, $\\sigma_{A}\\sigma_{B}\\ge 2^{-1}|\\langle[A,B]\\rangle|,$ teremos que\n",
    "\\begin{align}\n",
    "\\sigma_{L_{j}}\\sigma_{L_{k}} & \\ge 2^{-1}|\\langle[L_{j},L_{k}]\\rangle| = 2^{-1}|\\langle i\\hbar\\epsilon_{jkl}L_{l}\\rangle| = 2^{-1}\\hbar\\epsilon_{jkl}|\\langle L_{l}\\rangle|.\n",
    "\\end{align}\n",
    "Assumindo $j\\ne k\\ne l$, vemos assim que se $\\langle L_{l}\\rangle\\ne0$ então o produto das indeterminações de $L_{j}$ e $L_{k}$ não pode ser nulo. Ou seja, em geral, as componentes do momento angular são observáveis incompatíveis."
   ]
  },
  {
   "cell_type": "markdown",
   "metadata": {},
   "source": [
    "---\n",
    "$2.$ Verifique que $[L^{2},L_{2}]=[L^{2},L_{3}]=0$."
   ]
  },
  {
   "cell_type": "markdown",
   "metadata": {},
   "source": [
    "_SOL._ Como foi mostrado nas notas de aula, $[L^{2},L_{k}] = i\\hbar\\sum_{j,l=1}^{3}\\varepsilon_{jkl}\\{L_{j},L_{l}\\}.$ Assim\n",
    "\\begin{align}\n",
    "[L^{2},L_{2}] & = i\\hbar\\sum_{j,l=1}^{3}\\varepsilon_{j2l}\\{L_{j},L_{l}\\} = i\\hbar(\\varepsilon_{123}\\{L_{1},L_{3}\\} + \\varepsilon_{321}\\{L_{3},L_{1}\\}) \\\\\n",
    "& = i\\hbar(\\varepsilon_{123}\\{L_{1},L_{3}\\} + \\varepsilon_{321}\\{L_{1},L_{3}\\}) = i\\hbar\\{L_{1},L_{3}\\}(\\varepsilon_{123} + \\varepsilon_{321}) \\\\\n",
    "& = i\\hbar\\{L_{1},L_{3}\\}(\\varepsilon_{123} - \\varepsilon_{123}) \\\\ \n",
    "& = 0, \\\\\n",
    "[L^{2},L_{3}] & = i\\hbar\\sum_{j,l=1}^{3}\\varepsilon_{j3l}\\{L_{j},L_{l}\\} = i\\hbar(\\varepsilon_{132}\\{L_{1},L_{2}\\} + \\varepsilon_{231}\\{L_{2},L_{1}\\}) \\\\\n",
    "&  = i\\hbar(\\varepsilon_{132}\\{L_{1},L_{2}\\} + \\varepsilon_{231}\\{L_{1},L_{2}\\}) = i\\hbar\\{L_{1},L_{2}\\}(\\varepsilon_{132} + \\varepsilon_{231}) \\\\\n",
    "&  = i\\hbar\\{L_{1},L_{2}\\}(\\varepsilon_{132} + \\varepsilon_{231}) = i\\hbar\\{L_{1},L_{2}\\}(\\varepsilon_{132} - \\varepsilon_{132}) \\\\\n",
    "& = 0.\n",
    "\\end{align}"
   ]
  },
  {
   "cell_type": "markdown",
   "metadata": {},
   "source": [
    "---\n",
    "$3.$ Lembrando, $L|l,m_{l}\\rangle:=\\lambda|l,m_{l}\\rangle$ e $L_{3}|l,m_{l}\\rangle:=\\hbar m_{l}|l,m_{l}\\rangle$. Analogamente ao que fizemos em aula usando $L^{2}=L_{-}L_{+} + L_{3}^{2} + \\hbar L_{3}$, obtenha $\\lambda=\\hbar^{2}l(l+1)$ usando $L^{2}=L_{+}L_{-} + L_{3}^{2} - \\hbar L_{3}$."
   ]
  },
  {
   "cell_type": "markdown",
   "metadata": {},
   "source": [
    "_SOL._ Escolhendo o autovetor $|l,-l\\rangle$ de $L^{2}$ teremos\n",
    "\\begin{align}\n",
    "& L^{2}|l,-l\\rangle = \\lambda|l,-l\\rangle \\\\\n",
    "&= (L_{+}L_{-} + L_{3}^{2} - \\hbar L_{3})|l,-l\\rangle = |\\oslash\\rangle + (\\hbar^{2}(-l)^{2}-\\hbar^{2}(-l))|l,-l\\rangle \\\\\n",
    "&= \\hbar^{2}l(l+1)|l,-l\\rangle, \\\\\n",
    "& \\therefore \\lambda=\\hbar^{2}l(l+1).\n",
    "\\end{align}"
   ]
  },
  {
   "cell_type": "markdown",
   "metadata": {},
   "source": [
    "---\n",
    "$4.$ Verifique que $L_{-}|l,m\\rangle = \\hbar\\sqrt{l(l+1)-m(m-1)}|l,m-1\\rangle$."
   ]
  },
  {
   "cell_type": "markdown",
   "metadata": {},
   "source": [
    "_SOL._ Como $L_{3}(L_{-}|l,m\\rangle)=\\hbar(m-1)(L_{-}|l,m\\rangle)$, vemos que $L_{-}|l,m\\rangle\\propto|l,m-1\\rangle=:c|l,m-1\\rangle$. Assim, tomando o produto interno desse vetor com ele mesmo,\n",
    "\\begin{align}\n",
    "& \\langle l,m|L_{-}^{\\dagger}L_{-}|l,m\\rangle = \\langle l,m-1|c^{*}c|l,m-1\\rangle, \\\\\n",
    "& = \\langle l,m|L_{+}L_{-}|l,m\\rangle = |c|^{2}\\langle l,m-1|l,m-1\\rangle \\\\\n",
    "& = \\langle l,m|(L^{2}-L_{3}^{2}+\\hbar L_{3})|l,m\\rangle = \\langle l,m|(\\hbar^{2}l(l+1)-\\hbar^{2}m^{2}+\\hbar\\hbar m)|l,m\\rangle.\n",
    "\\end{align}\n",
    "Desconsiderando a fase, obtemos $c=\\hbar\\sqrt{l(l+1)-m(m-1)}$ e $L_{-}|l,m\\rangle = \\hbar\\sqrt{l(l+1)-m(m-1)}|l,m-1\\rangle$."
   ]
  },
  {
   "cell_type": "code",
   "execution_count": null,
   "metadata": {},
   "outputs": [],
   "source": []
  }
 ],
 "metadata": {
  "kernelspec": {
   "display_name": "Python 3 (ipykernel)",
   "language": "python",
   "name": "python3"
  },
  "language_info": {
   "codemirror_mode": {
    "name": "ipython",
    "version": 3
   },
   "file_extension": ".py",
   "mimetype": "text/x-python",
   "name": "python",
   "nbconvert_exporter": "python",
   "pygments_lexer": "ipython3",
   "version": "3.11.1"
  }
 },
 "nbformat": 4,
 "nbformat_minor": 4
}
