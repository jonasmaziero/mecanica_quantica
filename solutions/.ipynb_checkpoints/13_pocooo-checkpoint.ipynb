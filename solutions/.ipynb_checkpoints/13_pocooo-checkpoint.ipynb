{
 "cells": [
  {
   "cell_type": "markdown",
   "metadata": {},
   "source": [
    "# Exercícios"
   ]
  },
  {
   "cell_type": "markdown",
   "metadata": {},
   "source": [
    "---\n",
    "$1.$ Se um fóton com comprimento de onda $694,3\\text{ nm}$ é emitido quando um elétron em um poço quadrado infinito transita do estado $n=2$ para o estado $n=1$, qual é a largura $a$ do poço?"
   ]
  },
  {
   "cell_type": "markdown",
   "metadata": {},
   "source": [
    "_SOL._ Temos que $E_{n} = \\left(\\frac{\\hbar^{2}\\pi^{2}}{2ma^{2}}\\right)n^{2}=:E_{1}n^{2}\\text{, com }n\\in\\mathbb{Z}_{>0}.$ Assim $|E_{2}-E_{1}|=h\\nu=hc/\\lambda=\\left|\\left(\\frac{\\hbar^{2}\\pi^{2}}{2ma^{2}}\\right)(2^{2}-1^{2})\\right|=\\frac{3\\hbar^{2}\\pi^{2}}{2ma^{2}}.$ Então $a=\\sqrt{\\frac{3\\hbar^{2}\\pi^{2}\\lambda}{2mhc}} \\approx 7,95\\text{x}10^{-10}\\text{ m}.$"
   ]
  },
  {
   "cell_type": "code",
   "execution_count": 1,
   "metadata": {},
   "outputs": [
    {
     "data": {
      "text/plain": [
       "7.948082837237327e-10"
      ]
     },
     "execution_count": 1,
     "metadata": {},
     "output_type": "execute_result"
    }
   ],
   "source": [
    "from sympy import sqrt, pi\n",
    "import math\n",
    "me = 9.109382*10**-31 # kg (massa do elétron)\n",
    "h = 6.626069*10**-34 # Js (constante de Planck)\n",
    "c = 2.99792458*10**8 # m/s (velocidade da luz no vácuo)\n",
    "hb = h/(2*math.pi) # hbar\n",
    "lbda = 694.3*10**-9; a = sqrt((3*hb**2*pi**2*lbda)/(2*me*h*c)); float(a)"
   ]
  },
  {
   "cell_type": "markdown",
   "metadata": {},
   "source": [
    "---\n",
    "$2.$ Mostre que, para $n\\gg 1$, a diferença percentual de energia de níveis consecutivos de um quanton em um poço quadrado infinito pode ser escrita como $(E_{n+1}-E_{n})/E_{n}\\approx 2/n$ (que está de acordo com o princípio de correspondência de Bohr)."
   ]
  },
  {
   "cell_type": "markdown",
   "metadata": {},
   "source": [
    "_SOL._ Usando a expressão para a energia usada no último exercício, teremos $\\frac{E_{n+1}-E_{n}}{E_{n}}=\\frac{E_{1}(n+1)^{2}-E_{1}n^{2}}{E_{1}n^{2}} = \\frac{n^{2}+2n+1-n^{2}}{n^{2}}\\approx \\frac{2n}{n^{2}}\\approx \\frac{2}{n}.$"
   ]
  },
  {
   "cell_type": "markdown",
   "metadata": {},
   "source": [
    "---\n",
    "$3.$ Verifique que duas funções de onda $\\Xi(x)$ e $e^{i\\phi}\\Xi(x)$ fornecem a mesma densidade de probabilidade, i.e., verifique que $\\left|e^{i\\phi}\\Xi(x)\\right|^{2}=\\left|\\Xi(x)\\right|^{2}$. Verifique também que os valores médios de $X$, e de $P$, são os mesmos paras as duas funções de onda $\\Xi(x)$ e $e^{i\\phi}\\Xi(x)$."
   ]
  },
  {
   "cell_type": "markdown",
   "metadata": {},
   "source": [
    "_SOL._ Primeiramente notemos que $|e^{i\\phi}\\Xi(x)|^{2}=e^{i\\phi}\\Xi(x)e^{-i\\phi}\\Xi(x)^{*}=e^{0}|\\Xi(x)|^{2}.$ Para a posição, $\\langle X\\rangle_{e^{i\\phi}\\Xi(x)} = \\int x|e^{i\\phi}\\Xi(x)|^{2}dx = \\int x|\\Xi(x)|^{2}dx=\\langle X\\rangle_{e^{\\Xi(x)}}.$ Para o momento linear teremos $\\langle P\\rangle_{e^{i\\phi}\\Xi(x)} = \\int x(e^{i\\phi}\\Xi(x))^{*}(-i\\hbar\\partial_{x})(e^{i\\phi}\\Xi(x))dx = \\int xe^{-i\\phi}e^{i\\phi}\\Xi(x)^{*}(-i\\hbar\\partial_{x})\\Xi(x)dx = \\langle P\\rangle_{e^{\\Xi(x)}}.$"
   ]
  },
  {
   "cell_type": "markdown",
   "metadata": {},
   "source": [
    "---\n",
    "$4.$ Calcule a probabilidade de, em medidas de posição, encontrarmos um quanton em um poço quadrado infinito entre os pontos $x=0,2a$ e $x=0,4a$."
   ]
  },
  {
   "cell_type": "markdown",
   "metadata": {},
   "source": [
    "_SOL._ A função de onda é $\\Xi_{i}(0<x<a) = \\sqrt{\\frac{2}{a}}\\sin\\left(\\frac{n\\pi x}{a}\\right)$ detro do poço e nula fora dele. Lembrando que a densidade de probabilidade é $|\\Xi(x)|^{2}dx$, obtemos a probabilidade de encontrar o quanton em um certo intervalo de posição fazendo a soma\n",
    "\\begin{align}\n",
    "Pr(0,2a<x<0,4a) & = \\int_{0,2a}^{0,4a}|\\Xi(x)|^{2}dx \\\\\n",
    "& = \\frac{2}{a}\\int_{0,2a}^{0,4a}\\sin^{2}(n\\pi x/a)dx \\\\\n",
    "& = \\frac{2}{a}\\int_{0,2a}^{0,4a}\\left(\\frac{1}{2}-\\frac{1}{2}\\cos(2n\\pi x/a)\\right)dx \\\\\n",
    "& = \\frac{1}{a}\\left(\\left(x\\right)_{0,2a}^{0,4a}-\\frac{a}{2n\\pi}\\left(\\sin(2n\\pi x/a)\\right)_{0,2a}^{0,4a}\\right) \\\\\n",
    "&= \\frac{1}{a}\\left(0,2a - \\frac{a}{2n\\pi}\\left(\\sin(2n\\pi x/a)\\right)_{0,2a}^{0,4a}\\right) \\\\\n",
    "& = 0,2 - \\frac{1}{2n\\pi}\\left(\\sin(0,8n\\pi)-\\sin(0,4n\\pi)\\right).\n",
    "\\end{align}"
   ]
  },
  {
   "cell_type": "markdown",
   "metadata": {},
   "source": [
    "---\n",
    "$5.$ Para a função de onda do poço quadrado infinito, calcule $\\langle X^{2}\\rangle$ e $\\langle P^{2}\\rangle$."
   ]
  },
  {
   "cell_type": "markdown",
   "metadata": {},
   "source": [
    "_SOL._ a função de onda é $\\Xi(0<x<a) = \\sqrt{\\frac{2}{a}}\\sin\\left(\\frac{n\\pi x}{a}\\right)$ e $\\Xi(x<0)=\\Xi(x>a)=0$. Teremos assim que\n",
    "\\begin{align}\n",
    "\\langle X^{2}\\rangle &= \\int_{-\\infty}^{+\\infty}x^{2}|\\Xi(x)|^{2}dx \\\\\n",
    "& = \\frac{2}{a}\\int_{0}^{a}x^{2}\\sin^{2}\\left(\\frac{n\\pi x}{a}\\right)dx \\\\\n",
    "& = \\frac{2}{a}\\int_{0}^{a}x^{2}\\left(\\frac{1}{2}-\\frac{1}{2}\\cos\\left(\\frac{2n\\pi x}{a}\\right)\\right)dx \\\\\n",
    "& = \\frac{1}{a}\\left(\\int_{0}^{a}x^{2}dx-\\int_{0}^{a}x^{2}\\cos\\left(\\frac{2n\\pi x}{a}\\right)dx\\right).\n",
    "\\end{align}\n",
    "Agora, integrando por partes com $u=x^{2}\\therefore du=2xdx$ e $dv=\\cos\\left(\\frac{2n\\pi x}{a}\\right)dx\\therefore v=\\frac{a}{2n\\pi}\\sin\\left(\\frac{2n\\pi x}{a}\\right)$, teremos\n",
    "\\begin{align}\n",
    "\\int_{0}^{a}x^{2}\\cos\\left(\\frac{2n\\pi x}{a}\\right)dx &= \\left(x^{2}\\frac{a}{2n\\pi}\\sin\\left(\\frac{2n\\pi x}{a}\\right)\\right)_{0}^{a} - \\int_{0}^{a}\\frac{a}{2n\\pi}\\sin\\left(\\frac{2n\\pi x}{a}\\right)2xdx \\\\\n",
    "& = 0 - \\frac{a}{n\\pi}\\int_{0}^{a}x\\sin\\left(\\frac{2n\\pi x}{a}\\right)dx.\n",
    "\\end{align}\n",
    "Integrando por partes mais uma vez, com $u=x\\therefore du=dx$ e $dv=\\sin\\left(\\frac{2n\\pi x}{a}\\right)dx \\therefore v=-\\frac{a}{2n\\pi}\\cos\\left(\\frac{2n\\pi x}{a}\\right)$, teremos\n",
    "\\begin{align}\n",
    "\\int_{0}^{a}x^{2}\\cos\\left(\\frac{2n\\pi x}{a}\\right)dx &= - \\frac{a}{n\\pi}\\left(\\left(-x\\frac{a}{2n\\pi}\\cos\\left(\\frac{2n\\pi x}{a}\\right)\\right)_{0}^{a} - \\int_{0}^{a}\\left(-\\frac{a}{2n\\pi}\\cos\\left(\\frac{2n\\pi x}{a}\\right)\\right)dx \\right) \\\\\n",
    "&= - \\frac{a}{n\\pi}\\left( -\\frac{a}{2n\\pi}(a(1)-0(1)) + 0 \\right) \\\\\n",
    "& = \\frac{a^{3}}{2n^{2}\\pi^{2}}.\n",
    "\\end{align}\n",
    "Por conseguinte\n",
    "\\begin{equation}\n",
    "\\langle X^{2}\\rangle = \\frac{1}{a}\\left(\\frac{a^{3}}{3}-\\frac{a^{3}}{2n^{2}\\pi^{2}} \\right) = a^{2}\\left(\\frac{1}{3}-\\frac{1}{2n^{2}\\pi^{2}} \\right).\n",
    "\\end{equation}"
   ]
  },
  {
   "cell_type": "markdown",
   "metadata": {},
   "source": [
    "Para o quadrado do momento linear, usando $\\partial_{xx}\\Xi(x) = \\partial_{xx}\\sin\\left(\\frac{n\\pi x}{a}\\right) = \\sqrt{\\frac{2}{a}}\\frac{n\\pi}{a}\\partial_{x}\\cos\\left(\\frac{n\\pi x}{a}\\right) = -\\sqrt{\\frac{2}{a}}\\left(\\frac{n\\pi}{a}\\right)^{2}\\sin\\left(\\frac{n\\pi x}{a}\\right)$, teremos\n",
    "\\begin{align}\n",
    "\\langle P^{2}\\rangle &= \\int_{-\\infty}^{+\\infty}\\Xi(x)^{*}\\left(-\\hbar^{2}\\partial_{xx}\\right)\\Xi(x)dx = \\frac{2}{a}\\left(\\frac{\\hbar n\\pi}{a}\\right)^{2}\\int_{0}^{a}\\sin^{2}\\left(\\frac{n\\pi x}{a}\\right)dx  \\\\\n",
    "& = \\frac{2}{a}\\left(\\frac{\\hbar n\\pi}{a}\\right)^{2}\\int_{0}^{a}\\left(\\frac{1}{2}-\\frac{1}{2}\\cos\\left(\\frac{2n\\pi x}{a}\\right)\\right)dx \\\\\n",
    "& = \\frac{1}{a}\\left(\\frac{\\hbar n\\pi}{a}\\right)^{2}\\left(a-\\frac{a}{2n\\pi}\\left(\\sin\\left(\\frac{2n\\pi x}{a}\\right)\\right)_{0}^{a}\\right)dx  \\\\\n",
    "& = \\left(\\frac{\\hbar n\\pi}{a}\\right)^{2}.\n",
    "\\end{align}"
   ]
  },
  {
   "cell_type": "code",
   "execution_count": null,
   "metadata": {},
   "outputs": [],
   "source": []
  }
 ],
 "metadata": {
  "kernelspec": {
   "display_name": "Python 3 (ipykernel)",
   "language": "python",
   "name": "python3"
  },
  "language_info": {
   "codemirror_mode": {
    "name": "ipython",
    "version": 3
   },
   "file_extension": ".py",
   "mimetype": "text/x-python",
   "name": "python",
   "nbconvert_exporter": "python",
   "pygments_lexer": "ipython3",
   "version": "3.11.1"
  }
 },
 "nbformat": 4,
 "nbformat_minor": 4
}
