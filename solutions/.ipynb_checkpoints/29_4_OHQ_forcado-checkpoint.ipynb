{
 "cells": [
  {
   "cell_type": "markdown",
   "metadata": {},
   "source": [
    "### Notas de aula de Mecânica Quântica <br> Autor: Jonas Maziero\n",
    "\n",
    "# Exercícios"
   ]
  },
  {
   "cell_type": "markdown",
   "metadata": {},
   "source": [
    "---\n",
    "$1.$ Verifique a relação de comutação entre o Hamiltoniano do oscilador forçado em diferentes tempos: $[H_{t},H_{t'}]=\\hbar\\omega(F_{t}-F_{t'})(a^{\\dagger}-a)$."
   ]
  },
  {
   "cell_type": "markdown",
   "metadata": {},
   "source": [
    "_SOL._ Usando $H_{t} = \\hbar\\omega(a^{\\dagger}a+\\mathbb{I}/2)-F_{t}(a+a^{\\dagger})$ e \n",
    "\\begin{align}\n",
    "[a^{\\dagger}a,a+a^{\\dagger}] &= [a^{\\dagger}a,a] + [a^{\\dagger}a,a^{\\dagger}] = a^{\\dagger}[a,a] + [a^{\\dagger},a]a + a^{\\dagger}[a,a^{\\dagger}] + [a^{\\dagger},a^{\\dagger}]a \\\\\n",
    "&= \\mathbb{O} - \\mathbb{I}a + a^{\\dagger}\\mathbb{I} + \\mathbb{O} = a^{\\dagger}-a.\n",
    "\\end{align}\n",
    "teremos\n",
    "\\begin{align}\n",
    "[H_{t},H_{t'}] &= \\left[\\hbar\\omega(a^{\\dagger}a+\\mathbb{I}/2)-F_{t}(a+a^{\\dagger}),\\hbar\\omega(a^{\\dagger}a+\\mathbb{I}/2)-F_{t'}(a+a^{\\dagger})\\right] \\\\\n",
    "& = \\left[\\hbar\\omega(a^{\\dagger}a+\\mathbb{I}/2),\\hbar\\omega(a^{\\dagger}a+\\mathbb{I}/2)\\right] + \\left[\\hbar\\omega(a^{\\dagger}a+\\mathbb{I}/2),-F_{t'}(a+a^{\\dagger})\\right] + \\left[-F_{t}(a+a^{\\dagger}),\\hbar\\omega(a^{\\dagger}a+\\mathbb{I}/2)\\right] + \\left[-F_{t}(a+a^{\\dagger}),-F_{t'}(a+a^{\\dagger})\\right] \\\\ \n",
    "& = \\mathbb{O} -\\hbar\\omega F_{t'}\\left[a^{\\dagger}a,a+a^{\\dagger}\\right] -F_{t}\\hbar\\omega\\left[a+a^{\\dagger},a^{\\dagger}a\\right] + F_{t}F_{t'}\\left[(a+a^{\\dagger}),(a+a^{\\dagger})\\right] \\\\\n",
    "& = \\hbar\\omega(F_{t}-F_{t'})\\left[a^{\\dagger}a,a+a^{\\dagger}\\right] + \\mathbb{O} = \\hbar\\omega(F_{t}-F_{t'})(a^{\\dagger}-a).\n",
    "\\end{align}"
   ]
  },
  {
   "cell_type": "markdown",
   "metadata": {},
   "source": [
    "---\n",
    "$2.$ Para a dinâmica do oscilador forçado, verifique que podemos escrever uma das soluções apresentadas na seção correspondente como: $\\frac{P_{t}^{H}}{m\\omega} = -X\\sin\\omega t + \\frac{P}{m\\omega}\\cos\\omega t + \\sqrt{\\frac{2\\hbar}{m\\omega}}\\left(\\Im(v_{t})\\cos\\omega t - \\Re(v_{t})\\sin\\omega t\\right)\\mathbb{I}$."
   ]
  },
  {
   "cell_type": "markdown",
   "metadata": {},
   "source": [
    "_SOL._ Partimos de $P_{t}^{H} = i\\sqrt{\\frac{\\hbar m\\omega}{2}}\\left(e^{i\\omega t}(a^{\\dagger} + v_{t}^{*}\\mathbb{I}) - e^{-i\\omega t}(a + v_{t}\\mathbb{I})\\right)$. Colocando as funções trigonométricas em evidência, teremos\n",
    "\\begin{align}\n",
    "P_{t}^{H} &= i\\sqrt{\\frac{\\hbar m\\omega}{2}}\\left(\\cos(\\omega t)(a^{\\dagger} + v_{t}^{*}\\mathbb{I} - a - v_{t}\\mathbb{I})+i\\sin(\\omega t)(a^{\\dagger} + v_{t}^{*}\\mathbb{I} + a + v_{t}\\mathbb{I})\\right) \\\\\n",
    "&= \\cos(\\omega t)i\\sqrt{\\frac{\\hbar m\\omega}{2}}(a^{\\dagger} - a) - \\sin(\\omega t)\\sqrt{\\frac{\\hbar m\\omega}{2}}(a^{\\dagger}+a) - \\cos(\\omega t)i\\sqrt{\\frac{\\hbar m\\omega}{2}}2i\\Im(v_{t})\\mathbb{I} - \\sin(\\omega t)\\sqrt{\\frac{\\hbar m\\omega}{2}}2\\Re(v_{t})\\mathbb{I} \\\\\n",
    "&= \\cos(\\omega t)P - \\sin(\\omega t)m\\omega X + \\sqrt{2\\hbar m\\omega}\\left(\\cos(\\omega t)\\Im(v_{t})-\\sin(\\omega t)\\Re(v_{t})\\right)\\mathbb{I} \\\\\n",
    "\\therefore \\frac{P_{t}^{H}}{m\\omega} &= \\cos(\\omega t)\\frac{P}{m\\omega} - \\sin(\\omega t)X + \\sqrt{\\frac{2\\hbar}{ m\\omega}}\\left(\\cos(\\omega t)\\Im(v_{t})-\\sin(\\omega t)\\Re(v_{t})\\right)\\mathbb{I}.\n",
    "\\end{align}"
   ]
  },
  {
   "cell_type": "markdown",
   "metadata": {},
   "source": [
    "---\n",
    "$3.$ Para o oscilador forçado, usando o mesmo tipo de manipulação da eq. de Heisenberg que fizemos ao obter $a_{H}$, mostre que $a_{H}^{\\dagger} = e^{i\\omega t}(a^{\\dagger} + v_{t}^{*}\\mathbb{I})$."
   ]
  },
  {
   "cell_type": "markdown",
   "metadata": {},
   "source": [
    "_SOL._ Lembremos que $v_{t} = \\frac{i}{\\hbar}\\int_{0}^{t}dt'e^{i\\omega t'}F_{t'}$ e consideremos a eq. de Heisenberg\n",
    "\\begin{align}\n",
    "i\\hbar\\partial_{t}a_{H}^{\\dagger} & = [a_{H}^{\\dagger},H_{t}^{H}] = \\left[a_{H}^{\\dagger},\\hbar\\omega(a_{H}^{\\dagger}a_{H}+\\mathbb{I}/2)-F_{t}(a_{H}+a_{H}^{\\dagger})\\right] \\\\\n",
    "& = \\hbar\\omega([a_{H}^{\\dagger},a_{H}^{\\dagger}a_{H}]+0) - F_{t}([a_{H}^{\\dagger},a_{H}]+[a_{H}^{\\dagger},a_{H}^{\\dagger}]) \\\\\n",
    "& = -\\hbar\\omega a_{H}^{\\dagger} + F_{t}\\mathbb{I}, \\\\\n",
    "\\therefore \\partial_{t}a_{H}^{\\dagger} & = i\\omega a_{H}^{\\dagger} - (iF_{t}/\\hbar)\\mathbb{I}.\n",
    "\\end{align}\n",
    "\n",
    "Notemos que\n",
    "\\begin{align}\n",
    "& \\partial_{t}\\left(e^{-i\\omega t}a_{H}^{\\dagger}\\right) = \\left(\\partial_{t}e^{-i\\omega t}\\right)a_{H}^{\\dagger} + e^{-i\\omega t}\\partial_{t}a_{H}^{\\dagger} = -i\\omega e^{-i\\omega t}a_{H}^{\\dagger} + e^{-i\\omega t}\\partial_{t}a_{H}^{\\dagger}, \\\\\n",
    "& \\therefore e^{i\\omega t}\\partial_{t}\\left(e^{-i\\omega t}a_{H}^{\\dagger}\\right) = -i\\omega a_{H}^{\\dagger} + \\partial_{t}a_{H}^{\\dagger} = -(iF_{t}/\\hbar)\\mathbb{I}, \\\\\n",
    "& \\therefore \\partial_{t}\\left(e^{-i\\omega t}a_{H}^{\\dagger}\\right) = -e^{-i\\omega t}(iF_{t}/\\hbar)\\mathbb{I}, \\\\\n",
    "& \\therefore \\int_{0}^{t}dt'\\partial_{t'}\\left(e^{-i\\omega t'}a_{H}^{\\dagger}(t')\\right) = -\\int_{0}^{t}dt'e^{-i\\omega t'}(iF_{t'}/\\hbar)\\mathbb{I}, \\\\\n",
    "& \\therefore e^{-i\\omega t}a_{H}^{\\dagger}(t)-e^{-i\\omega 0}a_{H}^{\\dagger}(0) = -\\frac{i}{\\hbar}\\int_{0}^{t}dt'e^{-i\\omega t'}F_{t'}\\mathbb{I}, \\\\\n",
    "& \\therefore a_{H}^{\\dagger} = e^{i\\omega t}(a^{\\dagger} + v_{t}^{*}\\mathbb{I}).\n",
    "\\end{align}"
   ]
  }
 ],
 "metadata": {
  "kernelspec": {
   "display_name": "Python 3 (ipykernel)",
   "language": "python",
   "name": "python3"
  },
  "language_info": {
   "codemirror_mode": {
    "name": "ipython",
    "version": 3
   },
   "file_extension": ".py",
   "mimetype": "text/x-python",
   "name": "python",
   "nbconvert_exporter": "python",
   "pygments_lexer": "ipython3",
   "version": "3.11.1"
  }
 },
 "nbformat": 4,
 "nbformat_minor": 4
}
