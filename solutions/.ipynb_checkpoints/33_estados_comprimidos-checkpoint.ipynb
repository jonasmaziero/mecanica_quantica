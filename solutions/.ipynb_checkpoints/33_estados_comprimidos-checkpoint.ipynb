{
 "cells": [
  {
   "cell_type": "markdown",
   "id": "f5a13c6b",
   "metadata": {},
   "source": [
    "### Notas de aula de Mecânica Quântica <br> Autor: Jonas Maziero\n",
    "# Exercícios"
   ]
  },
  {
   "cell_type": "markdown",
   "id": "3448a220",
   "metadata": {},
   "source": [
    "---\n",
    "$1.$ Verifique que\n",
    "$$\\langle n|(a^{\\dagger})^{p}|n\\rangle = \\langle n|a^{p}|n\\rangle = 0$$\n",
    "para qualquer $n=0,1,2,\\cdots$ e qualquer $p=1,2,3,\\cdots$."
   ]
  },
  {
   "cell_type": "markdown",
   "id": "553e7da4",
   "metadata": {},
   "source": [
    "_SOL._ Usando $a|n\\rangle = \\sqrt{n}|n-1\\rangle$ e $a^\\dagger|n\\rangle = \\sqrt{n+1}|n+1\\rangle$ temos que\n",
    "\\begin{align}\n",
    "& (a^\\dagger)^p|n\\rangle \\propto |n+p\\rangle \\ne |n\\rangle, \\\\\n",
    "& a^p|n\\rangle \\propto |n-p\\rangle  \\ne |n\\rangle, \\\\\n",
    "\\end{align}\n",
    "pois $p>0$. Por conseguinte\n",
    "\\begin{align}\n",
    "& \\langle n|(a^{\\dagger})^{p}|n\\rangle \\propto \\langle n|n+p\\rangle = 0, \\\\\n",
    "& \\langle n|a^{p}|n\\rangle \\propto \\langle n|n-p\\rangle = 0.  \n",
    "\\end{align}"
   ]
  },
  {
   "cell_type": "markdown",
   "id": "fdf8873c",
   "metadata": {},
   "source": [
    "---\n",
    "$2.$ Verifique que\n",
    "$$\\langle m|(a^{\\dagger}+a)^{2}|n\\rangle = \\sqrt{(n+1)(n+2)}\\delta_{m,n+2}+(2n+1)\\delta_{m,n} + \\sqrt{n(n-1)}\\delta_{m,n-2}.$$"
   ]
  },
  {
   "cell_type": "markdown",
   "id": "f0faf3e8",
   "metadata": {},
   "source": [
    "_SOL._ Usando $a|n\\rangle = \\sqrt{n}|n-1\\rangle$ e $a^\\dagger|n\\rangle = \\sqrt{n+1}|n+1\\rangle$ podemos escrever\n",
    "\\begin{align}\n",
    "\\langle m|(a^{\\dagger}+a)^{2}|n\\rangle & = \\langle m|(a^{\\dagger}+a)(a^{\\dagger}+a)|n\\rangle \\\\\n",
    "& = \\langle m|\\big(a^{\\dagger}a^{\\dagger}+a^{\\dagger}a + aa^{\\dagger}+aa\\big)|n\\rangle \\\\\n",
    "& = \\langle m|\\big(a^{\\dagger}\\sqrt{n+1}|n+1\\rangle + a^{\\dagger}\\sqrt{n}|n-1\\rangle + a\\sqrt{n+1}|n+1\\rangle+a\\sqrt{n}|n-1\\rangle\\big) \\\\\n",
    "& = \\langle m|\\big(\\sqrt{n+1}\\sqrt{n+1+1}|n+1+1\\rangle + \\sqrt{n}\\sqrt{n-1+1}|n-1+1\\rangle + \\sqrt{n+1}\\sqrt{n+1}|n+1-1\\rangle + \\sqrt{n}\\sqrt{n-1}|n-1-1\\rangle\\big) \\\\\n",
    "& = \\sqrt{(n+1)(n+2)}\\langle m|n+2\\rangle + n\\langle m|n\\rangle + (n+1)\\langle m|n\\rangle + \\sqrt{n(n-1)}\\langle m|n-2\\rangle \\\\\n",
    "& = \\sqrt{(n+1)(n+2)}\\delta_{m,n+2} + n\\delta_{m,n} + (n+1)\\delta_{m,n} + \\sqrt{n(n-1)}\\delta_{m,n-2} \\\\\n",
    "& = \\sqrt{(n+1)(n+2)}\\delta_{m,n+2} + (2n+1)\\delta_{m,n} + \\sqrt{n(n-1)}\\delta_{m,n-2}.\n",
    "\\end{align}"
   ]
  },
  {
   "cell_type": "markdown",
   "id": "e5d595ab",
   "metadata": {},
   "source": [
    "---\n",
    "$3.$ Verifique que\n",
    "$$|||n\\rangle + |\\psi_{n}^{(1)}\\rangle||^{2} = 1 + 2\\Big(\\frac{\\xi}{8\\omega^{2}}\\Big)^{2}(n(n+1)+1),$$\n",
    "com $|\\psi_{n}^{(1)}\\rangle$ dado na eq. $(\\star)$."
   ]
  },
  {
   "cell_type": "markdown",
   "id": "db96f03f",
   "metadata": {},
   "source": [
    "_SOL._ Usando $|\\psi_{n}^{(1)}\\rangle = \\frac{\\xi}{8\\omega^{2}}\\Big(-\\sqrt{(n+1)(n+2)}|n+2\\rangle + \\sqrt{n(n-1)}|n-2\\rangle\\Big)$ teremos que\n",
    "\\begin{align}\n",
    "|||n\\rangle + |\\psi_{n}^{(1)}\\rangle||^{2} & = \\big(\\langle n|+\\langle \\psi_{n}^{(1)}| \\big)\\big(|n\\rangle + |\\psi_{n}^{(1)}\\rangle\\big) \\\\\n",
    "& = \\langle n|n\\rangle + \\langle n|\\psi_{n}^{(1)}\\rangle + \\langle \\psi_{n}^{(1)}|n\\rangle + \\langle \\psi_{n}^{(1)}|\\psi_{n}^{(1)}\\rangle \\\\\n",
    "& = 1 + 0 + 0 + \\Big(\\frac{\\xi}{8\\omega^{2}}\\Big)^2\\big((n+1)(n+2) + 0 + 0 + n(n-1)\\big) \\\\\n",
    "& = 1 + \\Big(\\frac{\\xi}{8\\omega^{2}}\\Big)^2\\big(n^2+2n+n+2+n^2-n\\big) \\\\\n",
    "& = 1 + \\Big(\\frac{\\xi}{8\\omega^{2}}\\Big)^2 2\\big(n(n+1)+1\\big).\n",
    "\\end{align}"
   ]
  },
  {
   "cell_type": "markdown",
   "id": "46f47568",
   "metadata": {},
   "source": [
    "---\n",
    "\n",
    "$4.$ Verifique que\n",
    "\\begin{align}\n",
    "& Var(X)_{0'} = \\langle 0'|X^{2}|0'\\rangle-\\langle 0'|X|0'\\rangle^{2} = \\frac{\\hbar}{2m\\omega'} = B^{2}, \\\\ \n",
    "& Var(P)_{0'} = \\langle 0'|P^{2}|0'\\rangle-\\langle 0'|P|0'\\rangle^{2} = \\frac{\\hbar m\\omega'}{2} = \\frac{\\hbar^{2}}{2B^{2}},\n",
    "\\end{align}\n",
    "e que portanto\n",
    "$$Var(X)_{0'}Var(P)_{0'} = \\hbar^{2}/4.$$"
   ]
  },
  {
   "cell_type": "markdown",
   "id": "a30333e3",
   "metadata": {},
   "source": [
    "_SOL._ Temos que\n",
    "\\begin{align}\n",
    "& X = \\alpha\\big(A^\\dagger + A\\big) = \\sqrt{\\frac{\\hbar}{2m\\omega'}}\\big(A^\\dagger + A\\big), \\\\\n",
    "& P = \\beta\\big(A^\\dagger - A\\big) = i\\sqrt{\\frac{\\hbar m\\omega'}{2}}\\big(A^\\dagger - A\\big),\n",
    "\\end{align}\n",
    "em que\n",
    "\\begin{align}\n",
    "& A^\\dagger|n'\\rangle = \\sqrt{n'+1}|n'+1\\rangle, \\\\\n",
    "& A|n'\\rangle = \\sqrt{n'}|n'-1\\rangle.\n",
    "\\end{align}\n",
    "Vem assim que\n",
    "\\begin{align}\n",
    "\\langle X\\rangle_{0'} & = \\langle 0'|X|0'\\rangle \\\\\n",
    "& = \\sqrt{\\frac{\\hbar}{2m\\omega'}}\\langle 0'|\\big(A^\\dagger + A\\big)|0'\\rangle \\\\\n",
    "& = \\sqrt{\\frac{\\hbar}{2m\\omega'}}\\langle 0'|\\big(\\sqrt{1'}|1'\\rangle + |\\oslash\\rangle\\big) \\\\\n",
    "& = 0, \\\\\n",
    "\\langle X^2\\rangle_{0'} & = \\langle 0'|X^2|0'\\rangle \\\\\n",
    "& = \\frac{\\hbar}{2m\\omega'}\\langle 0'|\\big(A^\\dagger + A\\big)^2|0'\\rangle \\\\\n",
    "& = \\frac{\\hbar}{2m\\omega'}\\langle 0'|\\big(A^\\dagger A^\\dagger + A^\\dagger A + AA^\\dagger + AA\\big)|0'\\rangle \\\\\n",
    "& = \\frac{\\hbar}{2m\\omega'}\\langle 0'|\\big(\\sqrt{(1)(2)}|2\\rangle +|\\oslash\\rangle + \\sqrt{(1)(1)}|0'\\rangle + |\\oslash\\rangle\\big) \\\\\n",
    "& = \\frac{\\hbar}{2m\\omega'} = B^2 , \\\\\n",
    "Var(X)_{0'} & = \\langle X^2\\rangle_{0'} - \\langle X\\rangle_{0'}^2 \\\\\n",
    "& = B^2,\n",
    "\\end{align}\n",
    "em que usamos $B= \\sqrt{\\frac{\\hbar}{m\\omega'}}$. \n",
    "\n",
    "Ademais, também podemos escrever\n",
    "\\begin{align}\n",
    "\\langle P\\rangle_{0'} & = \\langle 0'|P|0'\\rangle \\\\\n",
    "& = i\\sqrt{\\frac{\\hbar m\\omega'}{2}}\\langle 0'|\\big(A^\\dagger - A\\big)|0'\\rangle \\\\\n",
    "& = i\\sqrt{\\frac{\\hbar m\\omega'}{2}}\\langle 0'|\\big(\\sqrt{1'}|1'\\rangle - |\\oslash\\rangle\\big) \\\\\n",
    "& = 0, \\\\\n",
    "\\langle P^2\\rangle_{0'} & = \\langle 0'|X^2|0'\\rangle \\\\\n",
    "& = -\\frac{\\hbar m\\omega'}{2}\\langle 0'|\\big(A^\\dagger - A\\big)^2|0'\\rangle \\\\\n",
    "& = -\\frac{\\hbar m\\omega'}{2}\\langle 0'|\\big(A^\\dagger A^\\dagger - A^\\dagger A - AA^\\dagger + AA\\big)|0'\\rangle \\\\\n",
    "& = -\\frac{\\hbar^2 2m\\omega'}{4\\hbar}\\langle 0'|\\big(\\sqrt{(1)(2)}|2\\rangle - |\\oslash\\rangle - \\sqrt{(1)(1)}|0'\\rangle + |\\oslash\\rangle\\big) \\\\\n",
    "& = \\frac{\\hbar^2 2m\\omega'}{4\\hbar} = \\frac{\\hbar^2}{4B^2}, \\\\\n",
    "Var(P)_{0'} & = \\langle P^2\\rangle_{0'} - \\langle P\\rangle_{0'}^2 \\\\\n",
    "& = \\frac{\\hbar^2}{4B^2}.\n",
    "\\end{align}\n",
    "Portanto\n",
    "$$Var(X)_{0'}Var(P)_{0'} = B^2\\frac{\\hbar^2}{4B^2} = \\frac{\\hbar^2}{4}. $$"
   ]
  },
  {
   "cell_type": "markdown",
   "id": "5c6af394",
   "metadata": {},
   "source": [
    "---\n",
    "$5.$ Verifique que\n",
    "$$a^{\\dagger}a^{\\dagger}-aa = -\\frac{i}{2\\hbar}(XP+PX).$$"
   ]
  },
  {
   "cell_type": "markdown",
   "id": "1d3d7145",
   "metadata": {},
   "source": [
    "_SOL._ Vamos usar $a=\\sqrt{\\frac{m\\omega}{2\\hbar}}\\Big(X + \\frac{i}{m\\omega}P\\Big)$ para escrever\n",
    "\\begin{align}\n",
    "a^{\\dagger}a^{\\dagger}-aa & = \\sqrt{\\frac{m\\omega}{2\\hbar}}\\Big(X - \\frac{i}{m\\omega}P\\Big)\\sqrt{\\frac{m\\omega}{2\\hbar}}\\Big(X - \\frac{i}{m\\omega}P\\Big) - \\sqrt{\\frac{m\\omega}{2\\hbar}}\\Big(X + \\frac{i}{m\\omega}P\\Big)\\sqrt{\\frac{m\\omega}{2\\hbar}}\\Big(X + \\frac{i}{m\\omega}P\\Big) \\\\\n",
    "& = \\frac{m\\omega}{2\\hbar}\\Big(X^2 - \\frac{i}{m\\omega}XP - \\frac{i}{m\\omega}PX - \\frac{1}{m^2\\omega^2}P^2 - X^2 - \\frac{i}{m\\omega}XP - \\frac{i}{m\\omega}PX + \\frac{1}{m^2\\omega^2}P^2\\Big) \\\\\n",
    "& = -\\frac{i}{\\hbar}\\big(XP + PX\\big).\n",
    "\\end{align}"
   ]
  },
  {
   "cell_type": "markdown",
   "id": "9cfe4c17",
   "metadata": {},
   "source": [
    "---\n",
    "$6.$ Verifique que\n",
    "\\begin{align}\n",
    "& [a^{\\dagger}a^{\\dagger}-aa,a]=-2a^{\\dagger}, \\\\\n",
    "& [a^{\\dagger}a^{\\dagger}-aa,a^{\\dagger}]=-2a.\n",
    "\\end{align}"
   ]
  },
  {
   "cell_type": "markdown",
   "id": "c7571ee7",
   "metadata": {},
   "source": [
    "_SOL._ Aplicando $[a,a^\\dagger]=I$, $[A+B,C]=[A,C]+[B,C]$, $[AB,C]=A[B,C]+[A,C]B$ e $[A,BC]=[A,B]C+B[A,C]$ teremos que\n",
    "\\begin{align}\n",
    "[a^\\dagger a^\\dagger-aa,a] & = [a^\\dagger a^\\dagger,a] - [aa,a] \\\\\n",
    "& = a^\\dagger[a^\\dagger,a] + [a^\\dagger,a]a^\\dagger - a[a,a]  - [a,a]a \\\\\n",
    "& = a^\\dagger(-I) + (-I)a^\\dagger - a(0)  - (0)a \\\\\n",
    "& = -2a^\\dagger, \\\\\n",
    "[a^\\dagger a^\\dagger-aa,a^\\dagger] & = [a^\\dagger a^\\dagger,a^\\dagger] - [aa,a^\\dagger] \\\\\n",
    "& = a^\\dagger[a^\\dagger,a^\\dagger] + [a^\\dagger,a^\\dagger]a^\\dagger - a[a,a^\\dagger]  - [a,a^\\dagger]a \\\\\n",
    "& = a^\\dagger(0) + (0)a^\\dagger - a(I)  - (I)a \\\\\n",
    "& = -2a.\n",
    "\\end{align}"
   ]
  }
 ],
 "metadata": {
  "kernelspec": {
   "display_name": "Python 3 (ipykernel)",
   "language": "python",
   "name": "python3"
  },
  "language_info": {
   "codemirror_mode": {
    "name": "ipython",
    "version": 3
   },
   "file_extension": ".py",
   "mimetype": "text/x-python",
   "name": "python",
   "nbconvert_exporter": "python",
   "pygments_lexer": "ipython3",
   "version": "3.11.1"
  }
 },
 "nbformat": 4,
 "nbformat_minor": 5
}
