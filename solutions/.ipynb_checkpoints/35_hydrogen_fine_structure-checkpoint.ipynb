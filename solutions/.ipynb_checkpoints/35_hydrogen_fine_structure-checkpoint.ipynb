{
 "cells": [
  {
   "cell_type": "markdown",
   "metadata": {},
   "source": [
    "### Notas de aula de Mecânica Quântica <br> Autor: Jonas Maziero\n",
    "# Exercícios"
   ]
  },
  {
   "cell_type": "markdown",
   "metadata": {},
   "source": [
    "---\n",
    "$1.$ Calcule os valores possíveis da correção perturbativa relativística para $n=2$."
   ]
  },
  {
   "cell_type": "markdown",
   "metadata": {},
   "source": [
    "_SOL._ Para $n=2$ podemos ter $l=0$ ou $l=1$. A correção perturbativa de 1ª ordem, nesse caso, é $E_{n}^{r(1)}= -\\alpha^{4}mc^{2}\\frac{1}{8n^{4}}\\left(\\frac{4n}{l+1/2} -3 \\right).$ Assim\n",
    "\\begin{align}\n",
    "E_{n=2,l=0}^{r(1)} = -\\alpha^{4}mc^{2}\\frac{1}{8(2^{4})}\\left(\\frac{4(2)}{0+1/2} -3 \\right) \\approx -1,47\\text{x}10^{-4}\\text{ eV}, \\\\\n",
    "E_{n=2,l=1}^{r(1)} = -\\alpha^{4}mc^{2}\\frac{1}{8(2^{4})}\\left(\\frac{4(2)}{1+1/2} -3 \\right) \\approx -2,64\\text{x}10^{-5}\\text{ eV}.\n",
    "\\end{align}"
   ]
  },
  {
   "cell_type": "code",
   "execution_count": 4,
   "metadata": {},
   "outputs": [
    {
     "data": {
      "text/plain": [
       "(-0.0001470884064030586, -2.6400483200548978e-05)"
      ]
     },
     "execution_count": 4,
     "metadata": {},
     "output_type": "execute_result"
    }
   ],
   "source": [
    "me = 9.109382*10**-31 # kg (massa do elétron)\n",
    "mp = 1.6726219*10**-27 # kg (massa do próton)\n",
    "h = 6.626069*10**-34 # Js (constante de Planck)\n",
    "import math\n",
    "hb = h/(2*math.pi) # hbar\n",
    "k = 8.9875517923*10**9 # Nm^2/C^2 (constante de Coulomb)\n",
    "e = 1.60217662*10**-19 # C (carga elementar)\n",
    "c = 2.99792458*10**8 # m/s (velocidade da luz no vácuo)\n",
    "al = (k*e**2)/(hb*c) # ~1/137.035999084 (constante de estrutura fina)\n",
    "\n",
    "def Erel(n,l): # em eV\n",
    "    return -(al**4*m*c**2/e)*(1/(8*n**4))*((4*n)/(l+1/2)-3)\n",
    "\n",
    "m = (me*mp)/(me+mp); Erel(2,0), Erel(2,1)"
   ]
  },
  {
   "cell_type": "markdown",
   "metadata": {},
   "source": [
    "---\n",
    "$2.$ Calcule os valores possíveis da correção perturbativa pela interação spin-órbita para $n=2$."
   ]
  },
  {
   "cell_type": "markdown",
   "metadata": {},
   "source": [
    "_SOL._ Para $n=2$ podemos ter $l=0$ ou $l=1$. Ademais, $s=1/2$. Assim, para $l=0$ temos que $j=1/2$. Para $l=1$ podemos ter $j=1/2$ e $j=3/2$. A correção perturbativa de 1ª ordem, nesse caso, é $E_{n}^{so(1)}= \\alpha^{4}mc^{2}\\frac{1}{2n^{3}}\\left(\\frac{j(j+1)-l(l+1)-3/4}{l(l+1/2)(l+1)}\\right).$ Assim\n",
    "\\begin{align}\n",
    "E_{n=2,l=0,j=1/2}^{so(1)} & = -\\frac{\\alpha^{4}mc^{2}}{n^{3}} \\approx 1,81\\text{x}10^{-4}\\text{ eV}, \\\\\n",
    "E_{n=2,l=1,j=1/2}^{so(1)} & = \\alpha^{4}mc^{2}\\frac{1}{2(2^{3})}\\left(\\frac{(1/2)(1/2+1)-1(1+1)-3/4}{1(1+1/2)(1+1)}\\right) \\approx -6,03\\text{x}10^{-5}\\text{ eV}, \\\\\n",
    "E_{n=2,l=1,j=3/2}^{so(1)} & = \\alpha^{4}mc^{2}\\frac{1}{2(2^{3})}\\left(\\frac{(3/2)(3/2+1)-1(1+1)-3/4}{1(1+1/2)(1+1)}\\right) \\approx -3,02\\text{x}10^{-5}\\text{ eV}.\n",
    "\\end{align}"
   ]
  },
  {
   "cell_type": "code",
   "execution_count": 5,
   "metadata": {},
   "outputs": [
    {
     "data": {
      "text/plain": [
       "(0.00018103188480376447, -6.034396160125482e-05, 3.017198080062741e-05)"
      ]
     },
     "execution_count": 5,
     "metadata": {},
     "output_type": "execute_result"
    }
   ],
   "source": [
    "def bohrH(m,n): # em eV\n",
    "    return (-(al**2*m*c**2)/(2*n**2))/e\n",
    "def Eso(n,l,j):\n",
    "    if l==0:\n",
    "        return ((2*n*e*bohrH(m,n)**2)/(m*c**2))*2 # j=0+1/2=1/2\n",
    "    else:\n",
    "        return ((2*n*e*bohrH(m,n)**2)/(m*c**2))*((j*(j+1)-l*(l+1)-3/4)/(l*(l+1/2)*(l+1)))\n",
    "Eso(2,0,1/2), Eso(2,1,1/2), Eso(2,1,3/2)"
   ]
  },
  {
   "cell_type": "markdown",
   "metadata": {},
   "source": [
    "---\n",
    "$3.$ Calcule os valores possíveis da correção perturbativa pelo termo de Darwin para $n=2$."
   ]
  },
  {
   "cell_type": "markdown",
   "metadata": {},
   "source": [
    "_SOL._ Como visto nas notas de aula, $\\psi_{n,l>0,m_{l}}(r,\\theta,\\phi)=0\\Rightarrow E_{n}^{d(1)}=0.$ Assim, nos resta analisar $n=2,l=0,m_{l}=0.$ Temos assim que\n",
    "$$\\psi_{2,0,0}(r,\\theta,\\phi) = \\frac{1}{4\\sqrt{2\\pi}}\\left(\\frac{Z}{a_{0}}\\right)^{3/2}\\left(2-\\frac{Zr}{a_{0}}\\right)e^{-Zr/2a_{0}}.$$\n",
    "Com isso, a correção de Darwin é dada por (usamos o raio de Bohr $a_{0}=\\frac{\\hbar^{2}}{kme^{2}}$ e $\\alpha = \\frac{ke^{2}}{\\hbar c}$)\n",
    "\\begin{align}\n",
    "E_{n=2,l=0,m_{l}=0}^{d(1)} &= \\frac{2\\pi\\hbar^{2}ke^{2}}{5m^{2}c^{2}}\\left|\\psi_{2,0,0}^{(0)}(\\vec{0})\\right|^{2} \\\\\n",
    "& = \\frac{2\\pi\\hbar^{2}ke^{2}}{5m^{2}c^{2}}\\left|\\frac{1}{4\\sqrt{2\\pi}}\\left(\\frac{Z}{a_{0}}\\right)^{3/2}\\left(2-\\frac{Z(0)}{a_{0}}\\right)e^{-Z(0)/2a_{0}}\\right|^{2} \\\\\n",
    "& = \\frac{2\\pi\\hbar^{2}ke^{2}}{5m^{2}c^{2}}\\frac{1}{4(2\\pi)}\\left(\\frac{1}{a_{0}}\\right)^{3} \\\\\n",
    "& = \\frac{\\hbar^{2}ke^{2}}{20m^{2}c^{2}}\\frac{k^{3}m^{3}e^{6}}{\\hbar^{6}} \\\\\n",
    "& = \\frac{k^{4}e^{8}}{\\hbar^{4}c^{4}}mc^{2}\\frac{1}{20} \\\\ \n",
    "& = \\alpha^{4}mc^{2}\\frac{1}{20} \\\\\n",
    "& \\approx 7,24\\text{x}10^{-5}\\text{ eV}.\n",
    "\\end{align}"
   ]
  },
  {
   "cell_type": "code",
   "execution_count": 6,
   "metadata": {},
   "outputs": [
    {
     "data": {
      "text/plain": [
       "7.241275392150578e-05"
      ]
     },
     "execution_count": 6,
     "metadata": {},
     "output_type": "execute_result"
    }
   ],
   "source": [
    "(al**4*m*c**2*(1/20))/e"
   ]
  },
  {
   "cell_type": "markdown",
   "metadata": {},
   "source": [
    "---\n",
    "$4.$ Calcule os possíveis valores de energia do átomo de Hidrogênio para $n=2$, incluindo as correções relativística, de interação spin-órbita e de Darwin."
   ]
  },
  {
   "cell_type": "markdown",
   "metadata": {},
   "source": [
    "_SOL._ Usando os resultados dos exercícios 2, 3 e 7, obtemos\n",
    "\\begin{align}\n",
    "E_{n=2,l=0,m_{l}=0}^{(1)} &= E_{n=2,l=0,m_{l}=0}^{r(1)} + E_{n=2,l=0,m_{l}=0}^{so(1)} + E_{n=2,l=0,m_{l}=0}^{d(1)} \\approx -1,47\\text{x}10^{-4}\\text{ eV} + 1,81\\text{x}10^{-4}\\text{ eV} + 7,24\\text{x}10^{-5}\\text{ eV} \\\\\n",
    "& = 1,06\\text{x}10^{-4}\\text{ eV}, \\\\\n",
    "E_{n=2,l=1,j=1/2}^{(1)} &= E_{n=2,l=1,j=1/2}^{r(1)} + E_{n=2,l=1,j=1/2}^{so(1)} + E_{n=2,l=1,j=1/2}^{d(1)} \\approx -2,64\\text{x}10^{-5}\\text{ eV} -6,03\\text{x}10^{-5}\\text{ eV} + 0 \\\\\n",
    "& = -8,67\\text{x}10^{-5}\\text{ eV}, \\\\\n",
    "E_{n=2,l=1,j=3/2}^{(1)} &= E_{n=2,l=1,j=3/2}^{r(1)} + E_{n=2,l=1,j=3/2}^{so(1)} + E_{n=2,l=1,j=3/2}^{d(1)} \\approx -2,64\\text{x}10^{-5}\\text{ eV} -3,02\\text{x}10^{-5}\\text{ eV} + 0 \\\\\n",
    "& = -5,66\\text{x}10^{-5}\\text{ eV}.\n",
    "\\end{align}"
   ]
  },
  {
   "cell_type": "code",
   "execution_count": 7,
   "metadata": {},
   "outputs": [
    {
     "data": {
      "text/plain": [
       "(0.00010640000000000002, -8.670000000000002e-05, -5.660000000000001e-05)"
      ]
     },
     "execution_count": 7,
     "metadata": {},
     "output_type": "execute_result"
    }
   ],
   "source": [
    "-1.47*10**-4 + 1.81*10**-4 + 7.24*10**-5, -2.64*10**-5-6.03*10**-5, -2.64*10**-5-3.02*10**-5"
   ]
  },
  {
   "cell_type": "code",
   "execution_count": null,
   "metadata": {},
   "outputs": [],
   "source": []
  }
 ],
 "metadata": {
  "kernelspec": {
   "display_name": "Python 3 (ipykernel)",
   "language": "python",
   "name": "python3"
  },
  "language_info": {
   "codemirror_mode": {
    "name": "ipython",
    "version": 3
   },
   "file_extension": ".py",
   "mimetype": "text/x-python",
   "name": "python",
   "nbconvert_exporter": "python",
   "pygments_lexer": "ipython3",
   "version": "3.11.1"
  }
 },
 "nbformat": 4,
 "nbformat_minor": 4
}
