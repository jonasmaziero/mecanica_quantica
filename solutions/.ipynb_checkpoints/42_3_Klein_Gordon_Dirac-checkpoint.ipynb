{
 "cells": [
  {
   "cell_type": "markdown",
   "id": "1c0cafff",
   "metadata": {},
   "source": [
    "---\n",
    "$1.$ Usando a equação de Klein-Gordon, $\\partial_{\\mu}\\partial^{\\mu}\\psi+(m_{0}^{2}c^{2}/\\hbar^{2})\\psi=0,$ verifique que $j^{\\mu} = \\frac{i\\hbar}{2m_{0}c}\\left(\\psi^{*}\\partial^{\\mu}\\psi-\\psi\\partial^{\\mu}\\psi^{*}\\right)$ satisfaz a equação da continuidade $\\partial_{\\mu}j^{\\mu}=0$."
   ]
  },
  {
   "cell_type": "markdown",
   "id": "aab85b4b",
   "metadata": {},
   "source": [
    "_SOL._ Consideremos a equação de Klein-Gordon, \n",
    "$$\\partial_{\\mu}\\partial^{\\mu}\\psi+(m_{0}^{2}c^{2}/\\hbar^{2})\\psi=0,$$\n",
    "e o complexo conjugado desta equação\n",
    "$$\\partial_{\\mu}\\partial^{\\mu}\\psi^{*}+(m_{0}^{2}c^{2}/\\hbar^{2})\\psi^{*}=0.$$\n",
    "Seguindo, multiplicamos estas equações, respectivamente, por $\\psi^{*}$ e por $\\psi$, obtendo assim\n",
    "$$\\psi^{*}\\partial_{\\mu}\\partial^{\\mu}\\psi + (m_{0}^{2}c^{2}/\\hbar^{2})|\\psi|^{2}=0,$$\n",
    "e\n",
    "$$\\psi\\partial_{\\mu}\\partial^{\\mu}\\psi^{*}+(m_{0}^{2}c^{2}/\\hbar^{2})|\\psi|^{2}=0.$$\n",
    "Subtraindo essas duas equações, vemos que\n",
    "$$\\psi^{*}\\partial_{\\mu}\\partial^{\\mu}\\psi - \\psi\\partial_{\\mu}\\partial^{\\mu}\\psi^{*} = 0.$$\n",
    "Notemos ainda que\n",
    "\\begin{align}\n",
    "\\big(\\partial^{\\mu}\\psi\\big)\\big(\\partial_{\\mu}\\psi^{*}\\big) & = \\big(g^{\\mu\\nu}\\partial_{\\nu}\\psi\\big)\\big(g_{\\mu\\xi}\\partial^{\\xi}\\psi^{*}\\big) \\\\\n",
    "& = g^{\\mu\\nu}g_{\\mu\\xi}\\big(\\partial_{\\nu}\\psi\\big)\\big(\\partial^{\\xi}\\psi^{*}\\big) \\\\\n",
    "& = g^{\\nu\\mu}g_{\\mu\\xi}\\big(\\partial_{\\nu}\\psi\\big)\\big(\\partial^{\\xi}\\psi^{*}\\big) \\\\\n",
    "& = \\delta^{\\nu}_{\\xi}\\big(\\partial_{\\nu}\\psi\\big)\\big(\\partial^{\\xi}\\psi^{*}\\big) \\\\\n",
    "& = \\big(\\partial_{\\nu}\\psi\\big)\\big(\\partial^{\\nu}\\psi^{*}\\big),\n",
    "\\end{align}\n",
    "em que usamos que $\\partial_{\\nu}g_{\\mu\\xi}=0$ para a métrica do espaço euclidiano. Consideremos agora a derivada covariante da densidade de corrente de probabilidade:\n",
    "\\begin{align}\n",
    "\\partial_{\\mu}j^{\\mu} & = \\frac{i\\hbar}{2m_{0}c}\\Big(\\partial_{\\mu}\\big(\\psi^{*}\\partial^{\\mu}\\psi\\big) - \\partial_{\\mu}\\big(\\psi\\partial^{\\mu}\\psi^{*}\\big)\\Big) \\\\\n",
    " & = \\frac{i\\hbar}{2m_{0}c}\\Big(\\big(\\partial_{\\mu}\\psi^{*}\\big)\\big(\\partial^{\\mu}\\psi\\big) + \\psi^{*}\\partial_{\\mu}\\partial^{\\mu}\\psi - \\big(\\partial_{\\mu}\\psi\\big)\\big(\\partial^{\\mu}\\psi^{*}\\big)  - \\psi\\partial_{\\mu}\\partial^{\\mu}\\psi^{*}\\Big) \\\\\n",
    "& = 0,\n",
    "\\end{align}\n",
    "como queríamos demonstrar."
   ]
  },
  {
   "cell_type": "markdown",
   "id": "5bc63960-e589-4487-a630-e95744d1b58e",
   "metadata": {},
   "source": [
    "---\n",
    "$2.$ Verifique que as 16 matrizes $\\{I_4,\\gamma^\\mu,\\sigma^{\\mu,\\nu},\\gamma^5\\gamma^\\mu,\\gamma^5\\}$ são linearmente independentes, em que\n",
    "$\\gamma^5=i\\gamma^0\\gamma^1\\gamma^2\\gamma^3$, $\\sigma^{\\mu\\nu} = i[\\gamma^\\mu,\\gamma^\\nu]/2$ pra $\\mu<\\nu$ e $\\mu,\\nu=0,1,2,3.$ Isso implica que qualquer matriz $M$ de dimensão $16\\times 16$ pode ser escrita como uma combinação linear das matrizes desse conjunto: $A = aI_4 + b_\\mu\\gamma^\\mu + c_{\\mu\\nu}\\sigma^{\\mu,\\nu} + d_\\mu\\gamma^5\\gamma^\\mu e\\gamma^5.$ Obtenha os coeficientes $\\{a,b_\\mu,c_{\\mu\\nu},d_\\mu,e\\}$ em termos dos elementos de matriz de $A$.\n",
    "Dica. Use o produto interno de Hilbert-Schmidt, para verificar que estas matrizes são ortogonais e para obter os coeficientes. Use o sympy para te ajudar com as contas. "
   ]
  },
  {
   "cell_type": "markdown",
   "id": "5088cd91-3e63-4605-a189-a70fc1eadb21",
   "metadata": {},
   "source": [
    "_SOL._ Como vemos usando o código abaixo, as matrizes do conjunto acima são mutuamente ortogonais sob o produto interno de Hilbert-Schmidt, e portanto são mutuamente ortogonais."
   ]
  },
  {
   "cell_type": "code",
   "execution_count": 8,
   "id": "748decee-ff8f-44dc-b72a-1c1b56f40c69",
   "metadata": {},
   "outputs": [
    {
     "data": {
      "image/png": "[encoded data removed]",
      "text/latex": [
       "$\\displaystyle \\left( \\left[\\begin{matrix}1 & 0 & 0 & 0\\\\0 & 1 & 0 & 0\\\\0 & 0 & 1 & 0\\\\0 & 0 & 0 & 1\\end{matrix}\\right], \\  \\left[\\begin{matrix}1 & 0 & 0 & 0\\\\0 & 1 & 0 & 0\\\\0 & 0 & -1 & 0\\\\0 & 0 & 0 & -1\\end{matrix}\\right], \\  \\left[\\begin{matrix}0 & 0 & 0 & 1\\\\0 & 0 & 1 & 0\\\\0 & -1 & 0 & 0\\\\-1 & 0 & 0 & 0\\end{matrix}\\right], \\  \\left[\\begin{matrix}0 & 0 & 0 & - 1.0 i\\\\0 & 0 & 1.0 i & 0\\\\0 & 1.0 i & 0 & 0\\\\- 1.0 i & 0 & 0 & 0\\end{matrix}\\right], \\  \\left[\\begin{matrix}0 & 0 & 1 & 0\\\\0 & 0 & 0 & -1\\\\-1 & 0 & 0 & 0\\\\0 & 1 & 0 & 0\\end{matrix}\\right]\\right)$"
      ],
      "text/plain": [
       "⎛⎡1  0  0  0⎤  ⎡1  0  0   0 ⎤  ⎡0   0   0  1⎤  ⎡  0       0      0    -1.0⋅ⅈ⎤ \n",
       "⎜⎢          ⎥  ⎢            ⎥  ⎢            ⎥  ⎢                            ⎥ \n",
       "⎜⎢0  1  0  0⎥  ⎢0  1  0   0 ⎥  ⎢0   0   1  0⎥  ⎢  0       0    1.0⋅ⅈ    0   ⎥ \n",
       "⎜⎢          ⎥, ⎢            ⎥, ⎢            ⎥, ⎢                            ⎥,\n",
       "⎜⎢0  0  1  0⎥  ⎢0  0  -1  0 ⎥  ⎢0   -1  0  0⎥  ⎢  0     1.0⋅ⅈ    0      0   ⎥ \n",
       "⎜⎢          ⎥  ⎢            ⎥  ⎢            ⎥  ⎢                            ⎥ \n",
       "⎝⎣0  0  0  1⎦  ⎣0  0  0   -1⎦  ⎣-1  0   0  0⎦  ⎣-1.0⋅ⅈ    0      0      0   ⎦ \n",
       "\n",
       " ⎡0   0  1  0 ⎤⎞\n",
       " ⎢            ⎥⎟\n",
       " ⎢0   0  0  -1⎥⎟\n",
       " ⎢            ⎥⎟\n",
       " ⎢-1  0  0  0 ⎥⎟\n",
       " ⎢            ⎥⎟\n",
       " ⎣0   1  0  0 ⎦⎠"
      ]
     },
     "execution_count": 8,
     "metadata": {},
     "output_type": "execute_result"
    }
   ],
   "source": [
    "from sympy import Matrix, init_printing, trace, conjugate\n",
    "init_printing(use_unicode=True)\n",
    "I4 = Matrix([[1,0,0,0],[0,1,0,0],[0,0,1,0],[0,0,0,1]])\n",
    "def gama(mu):\n",
    "    if mu == 0:\n",
    "        return Matrix([[1,0,0,0],[0,1,0,0],[0,0,-1,0],[0,0,0,-1]])\n",
    "    elif mu == 1:\n",
    "        return Matrix([[0,0,0,1],[0,0,1,0],[0,-1,0,0],[-1,0,0,0]])\n",
    "    elif mu == 2:\n",
    "        return Matrix([[0,0,0,-1j],[0,0,1j,0],[0,1j,0,0],[-1j,0,0,0]])\n",
    "    elif mu == 3:\n",
    "        return Matrix([[0,0,1,0],[0,0,0,-1],[-1,0,0,0],[0,1,0,0]])\n",
    "    \n",
    "I4, gama(0), gama(1), gama(2), gama(3)"
   ]
  },
  {
   "cell_type": "code",
   "execution_count": 9,
   "id": "2b6b6b9e-27f0-4667-92b7-a9be96fe29c2",
   "metadata": {},
   "outputs": [
    {
     "data": {
      "image/png": "[encoded data removed]",
      "text/latex": [
       "$\\displaystyle \\left( \\left[\\begin{matrix}0 & 0 & 0 & 1.0 i\\\\0 & 0 & 1.0 i & 0\\\\0 & 1.0 i & 0 & 0\\\\1.0 i & 0 & 0 & 0\\end{matrix}\\right], \\  \\left[\\begin{matrix}0 & 0 & 0 & 1.0\\\\0 & 0 & -1.0 & 0\\\\0 & 1.0 & 0 & 0\\\\-1.0 & 0 & 0 & 0\\end{matrix}\\right], \\  \\left[\\begin{matrix}0 & 0 & 1.0 i & 0\\\\0 & 0 & 0 & - 1.0 i\\\\1.0 i & 0 & 0 & 0\\\\0 & - 1.0 i & 0 & 0\\end{matrix}\\right], \\  \\left[\\begin{matrix}1.0 & 0 & 0 & 0\\\\0 & -1.0 & 0 & 0\\\\0 & 0 & 1.0 & 0\\\\0 & 0 & 0 & -1.0\\end{matrix}\\right], \\  \\left[\\begin{matrix}0 & 1.0 i & 0 & 0\\\\- 1.0 i & 0 & 0 & 0\\\\0 & 0 & 0 & 1.0 i\\\\0 & 0 & - 1.0 i & 0\\end{matrix}\\right], \\  \\left[\\begin{matrix}0 & 1.0 & 0 & 0\\\\1.0 & 0 & 0 & 0\\\\0 & 0 & 0 & 1.0\\\\0 & 0 & 1.0 & 0\\end{matrix}\\right]\\right)$"
      ],
      "text/plain": [
       "⎛⎡  0      0      0    1.0⋅ⅈ⎤  ⎡ 0     0    0    1.0⎤  ⎡  0      0     1.0⋅ⅈ  \n",
       "⎜⎢                          ⎥  ⎢                    ⎥  ⎢                      \n",
       "⎜⎢  0      0    1.0⋅ⅈ    0  ⎥  ⎢ 0     0   -1.0   0 ⎥  ⎢  0      0       0    \n",
       "⎜⎢                          ⎥, ⎢                    ⎥, ⎢                      \n",
       "⎜⎢  0    1.0⋅ⅈ    0      0  ⎥  ⎢ 0    1.0   0     0 ⎥  ⎢1.0⋅ⅈ    0       0    \n",
       "⎜⎢                          ⎥  ⎢                    ⎥  ⎢                      \n",
       "⎝⎣1.0⋅ⅈ    0      0      0  ⎦  ⎣-1.0   0    0     0 ⎦  ⎣  0    -1.0⋅ⅈ    0    \n",
       "\n",
       "  0   ⎤  ⎡1.0   0     0    0  ⎤  ⎡  0     1.0⋅ⅈ    0       0  ⎤  ⎡ 0   1.0   0\n",
       "      ⎥  ⎢                    ⎥  ⎢                            ⎥  ⎢            \n",
       "-1.0⋅ⅈ⎥  ⎢ 0   -1.0   0    0  ⎥  ⎢-1.0⋅ⅈ    0      0       0  ⎥  ⎢1.0   0    0\n",
       "      ⎥, ⎢                    ⎥, ⎢                            ⎥, ⎢            \n",
       "  0   ⎥  ⎢ 0    0    1.0   0  ⎥  ⎢  0       0      0     1.0⋅ⅈ⎥  ⎢ 0    0    0\n",
       "      ⎥  ⎢                    ⎥  ⎢                            ⎥  ⎢            \n",
       "  0   ⎦  ⎣ 0    0     0   -1.0⎦  ⎣  0       0    -1.0⋅ⅈ    0  ⎦  ⎣ 0    0   1.\n",
       "\n",
       "    0 ⎤⎞\n",
       "      ⎥⎟\n",
       "    0 ⎥⎟\n",
       "      ⎥⎟\n",
       "   1.0⎥⎟\n",
       "      ⎥⎟\n",
       "0   0 ⎦⎠"
      ]
     },
     "execution_count": 9,
     "metadata": {},
     "output_type": "execute_result"
    }
   ],
   "source": [
    "def comm(x,y):\n",
    "    return x*y - y*x\n",
    "\n",
    "def sig(mu,nu):\n",
    "    return 1j*comm(gama(mu),gama(nu))/2\n",
    "\n",
    "sig(0,1), sig(0,2), sig(0,3), sig(1,2), sig(1,3), sig(2,3)    "
   ]
  },
  {
   "cell_type": "code",
   "execution_count": 10,
   "id": "8a18438f-14c1-4e2c-864e-92ab28be35b9",
   "metadata": {},
   "outputs": [
    {
     "data": {
      "image/png": "[encoded data removed]",
      "text/latex": [
       "$\\displaystyle \\left[\\begin{matrix}0 & 0 & 1.0 & 0\\\\0 & 0 & 0 & 1.0\\\\1.0 & 0 & 0 & 0\\\\0 & 1.0 & 0 & 0\\end{matrix}\\right]$"
      ],
      "text/plain": [
       "⎡ 0    0   1.0   0 ⎤\n",
       "⎢                  ⎥\n",
       "⎢ 0    0    0   1.0⎥\n",
       "⎢                  ⎥\n",
       "⎢1.0   0    0    0 ⎥\n",
       "⎢                  ⎥\n",
       "⎣ 0   1.0   0    0 ⎦"
      ]
     },
     "execution_count": 10,
     "metadata": {},
     "output_type": "execute_result"
    }
   ],
   "source": [
    "g5 = 1j*gama(0)*gama(1)*gama(2)*gama(3); g5"
   ]
  },
  {
   "cell_type": "code",
   "execution_count": 11,
   "id": "f53120ea-f6f5-4e92-9017-1a95c9fa6d24",
   "metadata": {},
   "outputs": [
    {
     "data": {
      "image/png": "[encoded data removed]",
      "text/latex": [
       "$\\displaystyle \\left( \\left[\\begin{matrix}0 & 0 & -1.0 & 0\\\\0 & 0 & 0 & -1.0\\\\1.0 & 0 & 0 & 0\\\\0 & 1.0 & 0 & 0\\end{matrix}\\right], \\  \\left[\\begin{matrix}0 & -1.0 & 0 & 0\\\\-1.0 & 0 & 0 & 0\\\\0 & 0 & 0 & 1.0\\\\0 & 0 & 1.0 & 0\\end{matrix}\\right], \\  \\left[\\begin{matrix}0 & 1.0 i & 0 & 0\\\\- 1.0 i & 0 & 0 & 0\\\\0 & 0 & 0 & - 1.0 i\\\\0 & 0 & 1.0 i & 0\\end{matrix}\\right], \\  \\left[\\begin{matrix}-1.0 & 0 & 0 & 0\\\\0 & 1.0 & 0 & 0\\\\0 & 0 & 1.0 & 0\\\\0 & 0 & 0 & -1.0\\end{matrix}\\right]\\right)$"
      ],
      "text/plain": [
       "⎛⎡ 0    0   -1.0   0  ⎤  ⎡ 0    -1.0   0    0 ⎤  ⎡  0     1.0⋅ⅈ    0      0   \n",
       "⎜⎢                    ⎥  ⎢                    ⎥  ⎢                            \n",
       "⎜⎢ 0    0    0    -1.0⎥  ⎢-1.0   0     0    0 ⎥  ⎢-1.0⋅ⅈ    0      0      0   \n",
       "⎜⎢                    ⎥, ⎢                    ⎥, ⎢                            \n",
       "⎜⎢1.0   0    0     0  ⎥  ⎢ 0     0     0   1.0⎥  ⎢  0       0      0    -1.0⋅ⅈ\n",
       "⎜⎢                    ⎥  ⎢                    ⎥  ⎢                            \n",
       "⎝⎣ 0   1.0   0     0  ⎦  ⎣ 0     0    1.0   0 ⎦  ⎣  0       0    1.0⋅ⅈ    0   \n",
       "\n",
       "⎤  ⎡-1.0   0    0    0  ⎤⎞\n",
       "⎥  ⎢                    ⎥⎟\n",
       "⎥  ⎢ 0    1.0   0    0  ⎥⎟\n",
       "⎥, ⎢                    ⎥⎟\n",
       "⎥  ⎢ 0     0   1.0   0  ⎥⎟\n",
       "⎥  ⎢                    ⎥⎟\n",
       "⎦  ⎣ 0     0    0   -1.0⎦⎠"
      ]
     },
     "execution_count": 11,
     "metadata": {},
     "output_type": "execute_result"
    }
   ],
   "source": [
    "g5*gama(0), g5*gama(1), g5*gama(2), g5*gama(3)"
   ]
  },
  {
   "cell_type": "code",
   "execution_count": 12,
   "id": "1875009e-ebe4-4a38-8c90-b0a62e52e2f1",
   "metadata": {},
   "outputs": [],
   "source": [
    "list_gama = [I4, gama(0), gama(1), gama(2), gama(3), sig(0,1), sig(0,2), sig(0,3), sig(1,2), sig(1,3), sig(2,3), g5*gama(0), g5*gama(1), g5*gama(2), g5*gama(3), g5]\n",
    "for j in range(0,16):\n",
    "    for k in range(0,16):\n",
    "        if j != k:\n",
    "            tr = trace(conjugate(list_gama[j])*list_gama[k])\n",
    "            if tr != 0:\n",
    "                print(tr)"
   ]
  },
  {
   "cell_type": "code",
   "execution_count": 13,
   "id": "a7a779ae-2e86-40f7-9d75-b4c2bef84226",
   "metadata": {},
   "outputs": [
    {
     "name": "stdout",
     "output_type": "stream",
     "text": [
      "4\n",
      "4\n",
      "-4\n",
      "-4.00000000000000\n",
      "-4\n",
      "-4.00000000000000\n",
      "-4.00000000000000\n",
      "-4.00000000000000\n",
      "4.00000000000000\n",
      "4.00000000000000\n",
      "4.00000000000000\n",
      "-4.00000000000000\n",
      "4.00000000000000\n",
      "4.00000000000000\n",
      "4.00000000000000\n",
      "4.00000000000000\n"
     ]
    }
   ],
   "source": [
    "for j in range(0,16):\n",
    "    for k in range(0,16):\n",
    "        if j == k:\n",
    "            tr = trace(conjugate(list_gama[j])*list_gama[k])\n",
    "            print(trace(list_gama[j]*list_gama[k]))"
   ]
  },
  {
   "cell_type": "code",
   "execution_count": 14,
   "id": "0668b2bc-0354-418b-8aa3-3201a7382aec",
   "metadata": {},
   "outputs": [
    {
     "data": {
      "image/png": "[encoded data removed]",
      "text/latex": [
       "$\\displaystyle \\left[\\begin{matrix}A_{11} & A_{12} & A_{13} & A_{14}\\\\A_{21} & A_{22} & A_{23} & A_{24}\\\\A_{31} & A_{32} & A_{33} & A_{34}\\\\A_{41} & A_{42} & A_{43} & A_{44}\\end{matrix}\\right]$"
      ],
      "text/plain": [
       "⎡A₁₁  A₁₂  A₁₃  A₁₄⎤\n",
       "⎢                  ⎥\n",
       "⎢A₂₁  A₂₂  A₂₃  A₂₄⎥\n",
       "⎢                  ⎥\n",
       "⎢A₃₁  A₃₂  A₃₃  A₃₄⎥\n",
       "⎢                  ⎥\n",
       "⎣A₄₁  A₄₂  A₄₃  A₄₄⎦"
      ]
     },
     "execution_count": 14,
     "metadata": {},
     "output_type": "execute_result"
    }
   ],
   "source": [
    "from sympy import symbols\n",
    "A11,A12,A13,A14,A21,A22,A23,A24,A31,A32,A33,A34,A41,A42,A43,A44 = symbols('A11 A12 A13 A14 A21 A22 A23 A24 A31 A32 A33 A34 A41 A42 A43 A44')\n",
    "A = Matrix([[A11,A12,A13,A14],[A21,A22,A23,A24],[A31,A32,A33,A34],[A41,A42,A43,A44]])\n",
    "A"
   ]
  },
  {
   "cell_type": "code",
   "execution_count": 15,
   "id": "83a14032-6926-4c17-b80d-6b5e9b87d8fa",
   "metadata": {},
   "outputs": [
    {
     "name": "stdout",
     "output_type": "stream",
     "text": [
      "A11 + A22 + A33 + A44\n",
      "A11 + A22 - A33 - A44\n",
      "-A14 - A23 + A32 + A41\n",
      "1.0*I*A14 - 1.0*I*A23 - 1.0*I*A32 + 1.0*I*A41\n",
      "-A13 + A24 + A31 - A42\n",
      "-1.0*I*A14 - 1.0*I*A23 - 1.0*I*A32 - 1.0*I*A41\n",
      "-1.0*A14 + 1.0*A23 - 1.0*A32 + 1.0*A41\n",
      "-1.0*I*A13 + 1.0*I*A24 - 1.0*I*A31 + 1.0*I*A42\n",
      "1.0*A11 - 1.0*A22 + 1.0*A33 - 1.0*A44\n",
      "1.0*I*A12 - 1.0*I*A21 + 1.0*I*A34 - 1.0*I*A43\n",
      "1.0*A12 + 1.0*A21 + 1.0*A34 + 1.0*A43\n",
      "1.0*A13 + 1.0*A24 - 1.0*A31 - 1.0*A42\n",
      "-1.0*A12 - 1.0*A21 + 1.0*A34 + 1.0*A43\n",
      "1.0*I*A12 - 1.0*I*A21 - 1.0*I*A34 + 1.0*I*A43\n",
      "-1.0*A11 + 1.0*A22 + 1.0*A33 - 1.0*A44\n",
      "1.0*A13 + 1.0*A24 + 1.0*A31 + 1.0*A42\n"
     ]
    }
   ],
   "source": [
    "for j in range(0,16):\n",
    "    coeff = trace(conjugate(list_gama[j])*A)\n",
    "    print(coeff)"
   ]
  },
  {
   "cell_type": "markdown",
   "id": "ad8aeb8d-a2bc-4cef-b7d0-350742cd5f21",
   "metadata": {},
   "source": [
    "---\n",
    "$4.$ Considerando as matrizes de Pauli $\\sigma_1=\\begin{bmatrix}0&1\\\\1&0\\end{bmatrix},\\ \\sigma_2=\\begin{bmatrix}0&-i\\\\i&0\\end{bmatrix},\\ \\sigma_3=\\begin{bmatrix}1&0\\\\0&-1\\end{bmatrix}$ e a matriz identidade $\\sigma_0=\\begin{bmatrix}1&0\\\\0&1\\end{bmatrix}$, para as quais segue que $\\sigma_j^2=\\sigma_0$ para $j=0,1,2,3$ e $\\sigma_j\\sigma_k=\\sum_l i\\epsilon_{jkl}\\sigma_l$ para $j\\ne k$, verifique que $(\\vec{v}\\cdot\\vec{\\sigma})(\\vec{w}\\cdot\\vec{\\sigma}) = (\\vec{v}\\cdot\\vec{w})\\sigma_0 + i\\vec{\\sigma}\\cdot(\\vec{v}\\times\\vec{w}),$ em que $\\vec{v},\\vec{w}\\in\\mathbb{R}^3.$"
   ]
  },
  {
   "cell_type": "markdown",
   "id": "75c96e79-a032-4f72-b7e7-2b2e192e4cce",
   "metadata": {},
   "source": [
    "_SOL._ Usando que o produto vetorial é\n",
    "$$\\vec{v}\\times\\vec{w} = \\sum_j\\hat{e}_j(\\vec{v}\\times\\vec{w})_j = \\sum_j\\hat{e}_j\\sum_{k,l} \\epsilon_{jkl}v_k w_l,$$\n",
    "e o produto escalar é\n",
    "$$\\vec{v}\\cdot\\vec{w} = \\sum_j v_j w_j$$\n",
    "teremos que\n",
    "\\begin{align}\n",
    "(\\vec{v}\\cdot\\vec{\\sigma})(\\vec{w}\\cdot\\vec{\\sigma}) & = \\sum_j v_j\\sigma_j\\sum_k v_k\\sigma_k \\\\\n",
    "& = \\sum_{j=k} v_j\\sigma_j w_k\\sigma_k + \\sum_{j\\ne k} v_j\\sigma_j w_k\\sigma_k  \\\\\n",
    "& = \\sum_{j} v_j w_j\\sigma_j^2 + \\sum_{j\\ne k}\\sigma_j\\sigma_k v_j w_k  \\\\\n",
    "& = \\sum_{j} v_j w_j\\sigma_0 + \\sum_{j\\ne k}\\sum_l i\\epsilon_{jkl}\\sigma_l v_j w_k  \\\\\n",
    "& =(\\vec{v}\\cdot\\vec{w})\\sigma_0 + \\sum_l i\\sigma_l\\sum_{j\\ne k}\\epsilon_{jkl} v_j w_k  \\\\\n",
    "& =(\\vec{v}\\cdot\\vec{w})\\sigma_0 + \\sum_l i\\sigma_l\\sum_{j\\ne k}\\epsilon_{ljk} v_j w_k  \\\\\n",
    "& =(\\vec{v}\\cdot\\vec{w})\\sigma_0 + i\\sum_l \\sigma_l(\\vec{v}\\times\\vec{w})_l  \\\\\n",
    "& =(\\vec{v}\\cdot\\vec{w})\\sigma_0 + i\\vec{\\sigma}\\cdot(\\vec{v}\\times\\vec{w}).\n",
    "\\end{align}"
   ]
  },
  {
   "cell_type": "code",
   "execution_count": null,
   "id": "8e7a08f0-b6e1-4639-b54e-f4312054e7d4",
   "metadata": {},
   "outputs": [],
   "source": []
  }
 ],
 "metadata": {
  "kernelspec": {
   "display_name": "Python 3 (ipykernel)",
   "language": "python",
   "name": "python3"
  },
  "language_info": {
   "codemirror_mode": {
    "name": "ipython",
    "version": 3
   },
   "file_extension": ".py",
   "mimetype": "text/x-python",
   "name": "python",
   "nbconvert_exporter": "python",
   "pygments_lexer": "ipython3",
   "version": "3.11.1"
  }
 },
 "nbformat": 4,
 "nbformat_minor": 5
}
