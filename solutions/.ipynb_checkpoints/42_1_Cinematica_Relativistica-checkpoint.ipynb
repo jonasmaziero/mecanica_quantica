{
 "cells": [
  {
   "cell_type": "markdown",
   "id": "2da5afe3-5676-464a-9aea-482db4501f7d",
   "metadata": {},
   "source": [
    "### Notas de aula de Mecânica Quântica <br> Autor: Jonas Maziero\n",
    "# Exercícios"
   ]
  },
  {
   "cell_type": "markdown",
   "id": "585f5142",
   "metadata": {},
   "source": [
    "---\n",
    "$1.$ Calcule a base natural e a base dual para coordenadas cilíndricas, $x=\\rho\\cos\\phi, y = \\rho\\sin\\phi, z = z$, e verifique que neste caso $\\hat{e}_{i}=\\hat{e}^{i}$ para $i=\\rho,\\phi,z$."
   ]
  },
  {
   "cell_type": "markdown",
   "id": "18cb08ad",
   "metadata": {},
   "source": [
    "_SOL._ Em coordenadas cilíndricas, temos que\n",
    "\\begin{align}\n",
    "\\begin{cases} x=\\rho\\cos\\phi, \\\\ y = \\rho\\sin\\phi, \\\\ z = z \\end{cases}. \\ \\therefore\\ \\begin{cases} \\rho=\\sqrt{x^{2}+y^{2}}, \\\\ \\phi = \\arctan(y/x), \\\\ z = z. \\end{cases}\n",
    "\\end{align}\n",
    "Vetor posição\n",
    "\\begin{align}\n",
    "\\vec{r} & = x\\hat{i} + y\\hat{j} + z\\hat{k} \\\\\n",
    "& =  \\rho\\cos\\phi\\hat{i} + \\rho\\sin\\phi\\hat{j} + z\\hat{k}.\n",
    "\\end{align}"
   ]
  },
  {
   "cell_type": "markdown",
   "id": "37c9b426",
   "metadata": {},
   "source": [
    "Base natural\n",
    "\\begin{align}\n",
    "e_{\\rho} & = \\frac{\\partial\\vec{r}}{\\partial \\rho} = \\cos\\phi\\hat{i} + \\sin\\phi\\hat{j}, \\\\\n",
    "e_{\\phi} & = \\frac{\\partial\\vec{r}}{\\partial \\phi} = -\\rho\\sin\\phi\\hat{i} + \\rho\\cos\\phi\\hat{j}, \\\\\n",
    "e_{z} & = \\frac{\\partial\\vec{r}}{\\partial z} = \\hat{k}.\n",
    "\\end{align}\n",
    "Normalizando\n",
    "\\begin{align}\n",
    "\\hat{e}_{\\rho} & = \\frac{e_{\\rho}}{1} = \\cos\\phi\\hat{i} + \\sin\\phi\\hat{j}, \\\\\n",
    "\\hat{e}_{\\phi} & = \\frac{e_{\\phi}}{\\rho} = -\\sin\\phi\\hat{i} + \\cos\\phi\\hat{j}, \\\\\n",
    "\\hat{e}_{z} & = \\frac{e_{z}}{1} = \\hat{k}.\n",
    "\\end{align}"
   ]
  },
  {
   "cell_type": "markdown",
   "id": "56b80f04",
   "metadata": {},
   "source": [
    "Base dual\n",
    "\\begin{align}\n",
    "e^{\\rho} & = \\nabla\\rho = \\frac{\\partial\\rho}{\\partial x}\\hat{i} + \\frac{\\partial\\rho}{\\partial y}\\hat{j} + \\frac{\\partial\\rho}{\\partial z}\\hat{k} = \\cos\\phi\\hat{i} + \\sin\\phi\\hat{j}, \\\\\n",
    "e^{\\phi} & = \\nabla\\phi = \\frac{\\partial\\phi}{\\partial x}\\hat{i} + \\frac{\\partial\\phi}{\\partial y}\\hat{j} + \\frac{\\partial\\phi}{\\partial z}\\hat{k} = -\\frac{\\sin\\phi}{\\rho}\\hat{i} + \\frac{\\cos\\phi}{\\rho}\\hat{j} \\\\\n",
    "e^{z} & = \\nabla z = \\frac{\\partial z}{\\partial x}\\hat{i} + \\frac{\\partial z}{\\partial y}\\hat{j} + \\frac{\\partial z}{\\partial z}\\hat{k} = \\hat{k}.\n",
    "\\end{align}"
   ]
  },
  {
   "cell_type": "markdown",
   "id": "d50edad4",
   "metadata": {},
   "source": [
    "em que usamos\n",
    "\\begin{align}\n",
    "\\frac{\\partial\\rho}{\\partial x} & = \\frac{1}{2}\\big(x^{2}+y^{2}\\big)^{-1/2}2x = \\frac{x}{\\sqrt{x^{2}+y^{2}}} = \\frac{x}{\\rho} = \\cos\\phi, \\\\\n",
    "\\frac{\\partial\\rho}{\\partial y} & = \\frac{y}{\\rho} = \\sin\\phi, \\\\\n",
    "\\frac{\\partial\\phi}{\\partial x} & = \\frac{\\partial}{\\partial x}\\arctan(y/x) = \\frac{\\partial}{\\partial (y/x)}\\arctan(y/x)\\frac{\\partial(y/x)}{\\partial x} = \\frac{1}{1+(y/x)^{2}}\\frac{-y}{x^{2}} \\\\\n",
    "& = \\frac{x^{2}}{x^{2}+y^{2}}\\frac{-y}{x^{2}} = -\\frac{y}{\\rho^{2}} = -\\frac{\\sin\\phi}{\\rho}, \\\\\n",
    "\\frac{\\partial\\phi}{\\partial y} & = \\frac{\\partial}{\\partial y}\\arctan(y/x) = \\frac{\\partial}{\\partial (y/x)}\\arctan(y/x)\\frac{\\partial(y/x)}{\\partial y} = \\frac{1}{1+(y/x)^{2}}\\frac{1}{x} \\\\\n",
    "& = \\frac{x^{2}}{x^{2}+y^{2}}\\frac{1}{x} = \\frac{x}{\\rho^{2}} = \\frac{\\cos\\phi}{\\rho}.\n",
    "\\end{align}"
   ]
  },
  {
   "cell_type": "markdown",
   "id": "c937a0d3",
   "metadata": {},
   "source": [
    "Normalizando\n",
    "\\begin{align}\n",
    "\\hat{e}^{\\rho} & = \\frac{e^{\\rho}}{1} = \\cos\\phi\\hat{i} + \\sin\\phi\\hat{j}, \\\\\n",
    "\\hat{e}^{\\phi} & = \\frac{e^{\\phi}}{1/\\rho} = -\\sin\\phi\\hat{i} + \\cos\\phi\\hat{j}, \\\\\n",
    "\\hat{e}^{z} & = \\frac{e^{z}}{1} = \\hat{k}.\n",
    "\\end{align}\n",
    "Vemos assim que para coordenadas cilíndricas\n",
    "$$\\hat{e}^{\\rho}=\\hat{e}_{\\rho},\\ \\hat{e}^{\\phi}=\\hat{e}_{\\phi},\\ \\hat{e}^{z}=\\hat{e}_{z},$$\n",
    "como queríamos verificar."
   ]
  },
  {
   "cell_type": "markdown",
   "id": "6c2d1cf6-e132-4681-9a92-88551e26ec96",
   "metadata": {},
   "source": [
    "---\n",
    "$2.$ Calcule o elemento de linha para coordenadas cilíndricas."
   ]
  },
  {
   "cell_type": "markdown",
   "id": "4e36f38c-063d-42cc-bbac-4f11c79267c4",
   "metadata": {},
   "source": [
    "_SOL._ O elemento de linha é dado por \n",
    "$$ds^2 = g_{ij}du^i du^j,$$\n",
    "com \n",
    "$$g_{ij}=e_i\\cdot e_j$$ \n",
    "e \n",
    "$$e_i = \\frac{\\partial\\vec{r}}{\\partial u^i}.$$ \n",
    "Do exercício 1, temos que \n",
    "$$e_{\\rho} = \\cos\\phi\\hat{i} + \\sin\\phi\\hat{j},\\ e_{\\phi} = -\\rho\\sin\\phi\\hat{i} + \\rho\\cos\\phi\\hat{j},\\ e_{z} = \\hat{k}.$$\n",
    "As componentes do tensor métrico são então dadas por\n",
    "\\begin{align}\n",
    "g_{11} & = e_1\\cdot e_1 = e_\\rho\\cdot e_\\rho = (\\cos\\phi\\hat{i} + \\sin\\phi\\hat{j})\\cdot(\\cos\\phi\\hat{i} + \\sin\\phi\\hat{j}) = \\cos^2\\phi + \\sin^2\\phi \\\\\n",
    "& = 1, \\\\\n",
    "g_{12} & = e_1\\cdot e_2 = e_\\rho\\cdot e_\\phi = (\\cos\\phi\\hat{i} + \\sin\\phi\\hat{j})\\cdot(-\\rho\\sin\\phi\\hat{i} + \\rho\\cos\\phi\\hat{j}) = -\\rho\\sin\\phi\\cos\\phi + \\rho\\sin\\phi\\cos\\phi \\\\\n",
    "& = 0 = g_{21}, \\\\\n",
    "g_{13} & = e_1\\cdot e_3 = e_\\rho\\cdot e_z = (\\cos\\phi\\hat{i} + \\sin\\phi\\hat{j})\\cdot\\hat{k} \\\\\n",
    "& = 0 = g_{31}, \\\\\n",
    "g_{22} & = e_2\\cdot e_2 = e_\\phi\\cdot e_\\phi = (-\\rho\\sin\\phi\\hat{i} + \\rho\\cos\\phi\\hat{j})\\cdot(-\\rho\\sin\\phi\\hat{i} + \\rho\\cos\\phi\\hat{j}) = \\rho^2\\sin^2\\phi +  \\rho^2\\cos^2\\phi \\\\\n",
    "& = \\rho^2, \\\\\n",
    "g_{23} & = e_2\\cdot e_3 = e_\\phi\\cdot e_z = (-\\rho\\sin\\phi\\hat{i} + \\rho\\cos\\phi\\hat{j})\\cdot\\hat{k} \\\\\n",
    "& = 0 = g_{32}, \\\\\n",
    "g_{33} & = e_3\\cdot e_3 = e_z\\cdot e_z \\\\\n",
    "& = 1.\n",
    "\\end{align}\n",
    "Os únicos termos não nulos do tensor métrico são\n",
    "\\begin{align}\n",
    "ds^2 & = g_{11}du^1 du^1 + g_{22}du^2 du^2 + g_{33}du^3 du^3 \\\\\n",
    "& = (1)d\\rho d\\rho + \\rho^2 d\\phi d\\phi + (1)dz dz \\\\\n",
    "& = d\\rho^2 + \\rho^2 d\\phi^2 + dz^2.\n",
    "\\end{align}"
   ]
  },
  {
   "cell_type": "markdown",
   "id": "642519f3-c549-44c4-9aec-ac014150930c",
   "metadata": {},
   "source": [
    "---\n",
    "$3.$ Concernindo à relação entre sistemas de coordenadas, verifique que $e_{j'}=U_{j'}^{i}e_{i},\\ \\lambda^{i}=U^{i}_{j'}\\lambda^{j'},\\ e^{j'} = U^{j'}_{i}e^{i},\\ \\lambda_{i}=U_{i}^{j'}\\lambda_{j'}.$"
   ]
  },
  {
   "cell_type": "markdown",
   "id": "3938637f-7b1a-404b-bf2f-78f046f20647",
   "metadata": {},
   "source": [
    "_SOL._ Temos que\n",
    "\\begin{align}\n",
    "e_{j'} & = \\frac{\\partial\\vec{r}}{\\partial u^{j'}} = \\frac{\\partial\\vec{r}}{\\partial u^i}\\frac{\\partial u^i}{\\partial u^{j'}} = e_i U^i_{\\ j'}  = U^i_{\\ j'}e_i, \\\\ \n",
    "\\vec{\\lambda} & = \\lambda^{j'} e_{j'} = \\lambda^{j'} \\frac{\\partial\\vec{r}}{\\partial u^{j'}} = \\lambda^{j'} \\frac{\\partial\\vec{r}}{\\partial u^i}\\frac{\\partial u^i}{\\partial u^{j'}} = \\lambda^{j'} e_i U^{i}_{\\ j'} = U^{i}_{\\ j'}\\lambda^{j'} e_i  = \\lambda^i e_i, \\\\\n",
    "e^{j'} & = \\nabla u^{j'} = \\frac{\\partial u^{j'}}{\\partial x}\\hat{i} + \\frac{\\partial u^{j'}}{\\partial y}\\hat{j} + \\frac{\\partial u^{j'}}{\\partial z}\\hat{k} = \\frac{\\partial u^{j'}}{\\partial u^i}\\frac{\\partial u^i}{\\partial x}\\hat{i} + \\frac{\\partial u^{j'}}{\\partial u^i}\\frac{\\partial u^i}{\\partial y}\\hat{j} + \\frac{\\partial u^{j'}}{\\partial u^i}\\frac{\\partial u^i}{\\partial z}\\hat{k} \\\\\n",
    "& = \\frac{\\partial u^{j'}}{\\partial u^i}\\Big(\\frac{\\partial u^i}{\\partial x}\\hat{i} + \\frac{\\partial u^i}{\\partial y}\\hat{j} + \\frac{\\partial u^i}{\\partial z}\\hat{k}\\Big) = U^{j'}_{\\ i}\\nabla u^i = U^{j'}_{\\ i}e^i, \\\\\n",
    "\\vec{\\lambda} & = \\lambda_{j'}e^{j'} = \\lambda_{j'}U^{j'}_{\\ i}e^i = U^{j'}_{\\ i}\\lambda_{j'}e^i = \\lambda_i e^i.\n",
    "\\end{align}"
   ]
  },
  {
   "cell_type": "markdown",
   "id": "41fe8699-986d-44ec-8d81-89cdf82d3ef6",
   "metadata": {},
   "source": [
    "---\n",
    "$4.$ Para dois vetores quaisquer, verifique a invariância do produto interno frente a mudanças de sistemas de coordenadas na forma: $\\mu_{i'}\\lambda^{i'}=\\mu_{j}\\lambda^{j}$."
   ]
  },
  {
   "cell_type": "markdown",
   "id": "d3b59261-3fec-4e76-ac79-3c13c5438b28",
   "metadata": {},
   "source": [
    "_SOL._ Temos que\n",
    "\\begin{align}\n",
    "\\mu_{i'}\\lambda^{i'} & = U^{j}_{\\ i'}\\mu_j U^{i'}_{\\ k}\\lambda^k = U^{j}_{\\ i'}U^{i'}_{\\ k}\\mu_j \\lambda^k = \\frac{\\partial u^j}{\\partial u^{i'}}\\frac{\\partial u^{i'}}{\\partial u^k}\\mu_j \\lambda^k = \\frac{\\partial u^j}{\\partial u^k}\\mu_j \\lambda^k = \\delta^j_k\\mu_j \\lambda^k \\\\\n",
    "& = \\mu_j \\lambda^j.\n",
    "\\end{align}"
   ]
  },
  {
   "cell_type": "code",
   "execution_count": null,
   "id": "02381e16-744b-443e-afb7-b32769527eaa",
   "metadata": {},
   "outputs": [],
   "source": []
  }
 ],
 "metadata": {
  "kernelspec": {
   "display_name": "Python 3 (ipykernel)",
   "language": "python",
   "name": "python3"
  },
  "language_info": {
   "codemirror_mode": {
    "name": "ipython",
    "version": 3
   },
   "file_extension": ".py",
   "mimetype": "text/x-python",
   "name": "python",
   "nbconvert_exporter": "python",
   "pygments_lexer": "ipython3",
   "version": "3.11.1"
  }
 },
 "nbformat": 4,
 "nbformat_minor": 5
}
