{
 "cells": [
  {
   "cell_type": "markdown",
   "metadata": {},
   "source": [
    "### Notas de aula de Mecânica Quântica <br> Autor: Jonas Maziero\n",
    "\n",
    "# Exercícios"
   ]
  },
  {
   "cell_type": "markdown",
   "metadata": {},
   "source": [
    "---\n",
    "$1.$ As séries de Lyman, Balmer, Paschen, Brackett e Pfund para o átomo de Hidrogênio estão relacionadas a comprimentos de onda envolvendo transições com $n_{i}=1,2,3,4,5$, respectivamente. Para cada uma dessas séries, usando o modelo de Bohr, calcule o comprimento de onda dos fótons emitidos quando $n_{f}=n_{i}+1,n_{i}+2,n_{i}+3,n_{i}+\\infty$. Faça um esboço de como ficariam distribuídas essas linhas em um chapa fotográfica, em função do comprimento de onda."
   ]
  },
  {
   "cell_type": "markdown",
   "metadata": {},
   "source": [
    "_SOL._ Usando a fórmula de Bohr, os comprimentos de ondas estão mostrados abaixo."
   ]
  },
  {
   "cell_type": "code",
   "execution_count": 1,
   "metadata": {},
   "outputs": [],
   "source": [
    "def bohr(Z,n): # em eV\n",
    "    return ((-((k*e**2)/(2*a0))/e)*Z**2)/n**2\n",
    "def bohrf(Z,ni,nf): # Frequências de Bohr\n",
    "    return abs((bohr(Z,nf)-bohr(Z,ni))/heV)\n",
    "def bohrl(Z,ni,nf): # Comprimentos de onda de Bohr\n",
    "    return c/bohrf(Z,ni,nf)"
   ]
  },
  {
   "cell_type": "code",
   "execution_count": 22,
   "metadata": {},
   "outputs": [],
   "source": [
    "from matplotlib import pyplot as plt\n",
    "import math\n",
    "c = 2.99792458*10**8 # m/s (velocidade da luz no vácuo)\n",
    "k = 8.9875517923*10**9 # Nm^2/C^2 (constante de Coulomb)\n",
    "e = 1.60217662*10**-19 # C (carga elementar)\n",
    "me = 9.109382*10**-31 # kg (massa do elétron)\n",
    "h = 6.626069*10**-34 # Js (constante de Planck)\n",
    "heV = h/e # em eV\n",
    "hb = h/(2*math.pi) # hbar\n",
    "a0=(hb**2)/(me*k*e**2) # ~ 0.52917710^-10 m (raio de Bohr)"
   ]
  },
  {
   "cell_type": "code",
   "execution_count": 23,
   "metadata": {},
   "outputs": [],
   "source": [
    "def plot_lambdas(ni,cor):\n",
    "    Z=1; plt.figure(figsize=(12,1.5))\n",
    "    nf=ni+1; plt.vlines(bohrl(Z,ni,nf),0,1,color=cor)\n",
    "    plt.text(0.98*bohrl(Z,ni,nf),1.05,r'$\\lambda$='+\"% 8.3e\"% (bohrl(Z,ni,nf)),color=cor)\n",
    "    plt.text(0.996*bohrl(Z,ni,nf),-0.1,str(nf)+r'$\\rightarrow$'+str(ni),color=cor)\n",
    "    nf=ni+2; plt.vlines(bohrl(Z,ni,nf),0,1,color=cor)\n",
    "    plt.text(0.98*bohrl(Z,ni,nf),1.05,r'$\\lambda$='+\"% 8.3e\"% (bohrl(Z,ni,nf)),color=cor)\n",
    "    plt.text(0.993*bohrl(Z,ni,nf),-0.08,str(nf)+r'$\\rightarrow$'+str(ni),color=cor)\n",
    "    nf=ni+3; plt.vlines(bohrl(Z,ni,nf),0,1,color=cor)\n",
    "    plt.text(0.98*bohrl(Z,ni,nf),1.05,r'$\\lambda$='+\"% 8.3e\"% (bohrl(Z,ni,nf)),color=cor)\n",
    "    plt.text(0.991*bohrl(Z,ni,nf),-0.08,str(nf)+r'$\\rightarrow$'+str(ni),color=cor)\n",
    "    nf=ni+1000; plt.vlines(bohrl(Z,ni,nf),0,1,color=cor)\n",
    "    plt.text(0.98*bohrl(Z,ni,nf),1.05,r'$\\lambda$='+\"% 8.3e\"% (bohrl(Z,ni,nf)),color=cor)\n",
    "    plt.text(0.99*bohrl(Z,ni,nf),-0.08,str(nf)+r'$\\rightarrow$'+str(ni),color=cor)"
   ]
  },
  {
   "cell_type": "code",
   "execution_count": 24,
   "metadata": {},
   "outputs": [
    {
     "data": {
      "image/png": "[encoded data removed]",
      "text/plain": [
       "<Figure size 1200x150 with 1 Axes>"
      ]
     },
     "metadata": {},
     "output_type": "display_data"
    }
   ],
   "source": [
    "ni=1; cor='blue'; plot_lambdas(ni,cor); plt.axis('off'); plt.show() # Lyman"
   ]
  },
  {
   "cell_type": "code",
   "execution_count": 25,
   "metadata": {},
   "outputs": [
    {
     "data": {
      "image/png": "[encoded data removed]",
      "text/plain": [
       "<Figure size 1200x150 with 1 Axes>"
      ]
     },
     "metadata": {},
     "output_type": "display_data"
    }
   ],
   "source": [
    "ni=2; cor='cyan'; plot_lambdas(ni,cor); plt.axis('off'); plt.show() # Balmer"
   ]
  },
  {
   "cell_type": "code",
   "execution_count": 26,
   "metadata": {},
   "outputs": [
    {
     "data": {
      "image/png": "[encoded data removed]",
      "text/plain": [
       "<Figure size 1200x150 with 1 Axes>"
      ]
     },
     "metadata": {},
     "output_type": "display_data"
    }
   ],
   "source": [
    "ni=3; cor='green'; plot_lambdas(ni,cor); plt.axis('off'); plt.show() # Paschen"
   ]
  },
  {
   "cell_type": "code",
   "execution_count": 27,
   "metadata": {},
   "outputs": [
    {
     "data": {
      "image/png": "[encoded data removed]",
      "text/plain": [
       "<Figure size 1200x150 with 1 Axes>"
      ]
     },
     "metadata": {},
     "output_type": "display_data"
    }
   ],
   "source": [
    "ni=4; cor='magenta'; plot_lambdas(ni,cor); plt.axis('off'); plt.show() # Brackett"
   ]
  },
  {
   "cell_type": "code",
   "execution_count": 28,
   "metadata": {},
   "outputs": [
    {
     "data": {
      "image/png": "[encoded data removed]",
      "text/plain": [
       "<Figure size 1200x150 with 1 Axes>"
      ]
     },
     "metadata": {},
     "output_type": "display_data"
    }
   ],
   "source": [
    "ni=5; cor='red'; plot_lambdas(ni,cor); plt.axis('off'); plt.show() # Pfund"
   ]
  },
  {
   "cell_type": "markdown",
   "metadata": {},
   "source": [
    "---\n",
    "$2.$ Se o momento angular da Terra fosse quantizado, como o do átomo de Hidrogênio, qual seria o número quântico do estado estacionário da Terra (use como raio da órbita da Terra $1,5\\mathrm{x}10^{11}\\text{ m}$)? Qual seria a energia liberada em uma transição para o nível de energia imediatamente inferior? Se essa energia fosse emitida e.g. na forma de uma onda gravitacional, ela seria fácil de detectar?"
   ]
  },
  {
   "cell_type": "markdown",
   "metadata": {},
   "source": [
    "_SOL._ Segundo Bohr, $L=n\\hbar$ com $n=1,2,3,\\cdots$. Para a aproximação de uma órbita circular da Terra em torno do Sol, seu momento angular é \n",
    "\\begin{align}\n",
    "L_{T} &= d_{TS}p_{T} = d_{TS}m_{T}v_{T} = d_{TS}m_{T}\\frac{2\\pi d_{TS}}{\\text{período}} = \\frac{2\\pi d_{TS}^{2}m_{T}}{(360)(24)(60)(60)} = \\hbar n, \\\\\n",
    "\\therefore n &= \\frac{2\\pi d_{TS}^{2}m_{T}}{(360)(24)(60)(60\\text{ s})\\hbar} \\approx 2.560265886554794\\text{x}10^{74}\\approx 10^{74}.\n",
    "\\end{align}"
   ]
  },
  {
   "cell_type": "code",
   "execution_count": 30,
   "metadata": {},
   "outputs": [
    {
     "data": {
      "text/plain": [
       "2.560265886554794e+74"
      ]
     },
     "execution_count": 30,
     "metadata": {},
     "output_type": "execute_result"
    }
   ],
   "source": [
    "mT = 5.9722*10**24 # kg (massa da Terra)\n",
    "dTS = 1.496*10**11 # m (distância Terra-Sol)\n",
    "nT=(2*math.pi*mT*dTS**2)/(360*24*60*60*hb); nT"
   ]
  },
  {
   "cell_type": "markdown",
   "metadata": {},
   "source": [
    "Igualando as forças centrípeta e gravitacional, \n",
    "\\begin{align}\n",
    "F_{c}=F_{g}\\therefore m_{T}\\frac{v_{T}^{2}}{d_{TS}} = \\frac{Gm_{T}m_{S}}{d_{TS}^{2}} \\therefore v_{T} = \\sqrt{\\frac{Gm_{S}}{d_{TS}}}.\n",
    "\\end{align}\n",
    "Usando essa velocidade na quantização do momento angular, teremos os raios das órbitas:\n",
    "\\begin{equation}\n",
    "L_{T} = d_{TS}m_{T}v_{T} = d_{TS}m_{T}\\sqrt{\\frac{Gm_{S}}{d_{TS}}}=n\\hbar \\therefore d_{TS} = \\frac{\\hbar^{2}}{Gm_{S}m_{T}^{2}}n^{2}.\n",
    "\\end{equation}\n",
    "Poderíamos obter $n_{T}$ também dessa expressão."
   ]
  },
  {
   "cell_type": "code",
   "execution_count": 39,
   "metadata": {},
   "outputs": [
    {
     "data": {
      "text/latex": [
       "$\\displaystyle 2.5233830653379507161278106235314523135204404303276 \\cdot 10^{74}$"
      ],
      "text/plain": [
       "2.5233830653379507161278106235314523135204404303276e+74"
      ]
     },
     "execution_count": 39,
     "metadata": {},
     "output_type": "execute_result"
    }
   ],
   "source": [
    "from sympy import N, sqrt\n",
    "nT = N(sqrt(dTS*G*mS*mT**2)/hb, 50); nT # A função N é para fazer o cálculo numérico com mais casas decimais (+ precisão)"
   ]
  },
  {
   "cell_type": "markdown",
   "metadata": {},
   "source": [
    "A energia total é\n",
    "\\begin{align}\n",
    "E &= E_{c}+E_{pg} = \\frac{m_{T}v_{T}^{2}}{2} - \\frac{Gm_{T}m_{S}}{d_{TS}} = \\frac{m_{T}}{2}\\frac{Gm_{S}}{d_{TS}} - \\frac{Gm_{T}m_{S}}{d_{TS}} = - \\frac{Gm_{T}m_{S}}{2d_{TS}} \\\\\n",
    "&= - \\frac{Gm_{T}m_{S}}{2}\\frac{Gm_{S}m_{T}^{2}}{\\hbar^{2}n^{2}} = -\\frac{G^{2}m_{S}^{2}m_{T}^{3}}{2\\hbar^{2}n^{2}} = E_{n}.\n",
    "\\end{align}\n",
    "A energia da onda gravitacional que seria emitida em uma transição entre níveis de energia próximos seria obtida de\n",
    "\\begin{align}\n",
    "h\\nu &= \\Delta E = |E_{n}-E_{n-1}|=\\frac{G^{2}m_{S}^{2}m_{T}^{3}}{2\\hbar^{2}}\\left|1/n^{2}-1/(n-1)^{2}\\right| \\\\\n",
    "&\\approx 2,1\\text{x}10^{-41}\\text{ J} \\approx 1,31\\text{x}10^{-22}\\text{ eV}.\n",
    "\\end{align}\n",
    "Essa energia dificilmente será detectável experimentalmente."
   ]
  },
  {
   "cell_type": "code",
   "execution_count": 38,
   "metadata": {},
   "outputs": [
    {
     "data": {
      "text/latex": [
       "$\\displaystyle 1.31047106242146451230028010279 \\cdot 10^{-22}$"
      ],
      "text/plain": [
       "1.31047106242146451230028010279e-22"
      ]
     },
     "execution_count": 38,
     "metadata": {},
     "output_type": "execute_result"
    }
   ],
   "source": [
    "G = 6.6742*10**-11 # Nm^2/kg^2 (constante gravitacional)\n",
    "mS = 1.98847*10**30 # kg (massa do Sol)\n",
    "N(((G**2*mS**2*mT**3)/(2*hb**2)*abs(1/nT**2 - 1/(nT-1)**2))/e, 30)"
   ]
  },
  {
   "cell_type": "markdown",
   "metadata": {},
   "source": [
    "---\n",
    "$3.$ Usando LASERs sintonizáveis, foram preparados os chamados átomos de Rydberg, ou átomos gigantes, do Sódio com $n\\approx 100$. O diâmetro desse átomo corresponderia àquele do átomo de Hidrogênio para $n\\approx 600$. Qual seria esse diâmetro? Qual seria a velocidade do elétron nessa órbita? Qual é a razão dessa velocidade e àquela obtida com $n=1$?"
   ]
  },
  {
   "cell_type": "markdown",
   "metadata": {},
   "source": [
    "_SOL._ Os raios das órbitas de Bohr são $r_{n} = a_{0}n^{2}/Z$, com $a_{0}$ sendo o raio de Bohr. O diâmetro seria então\n",
    "\\begin{equation}\n",
    "d = 2r_{600} = 2a_{0}600^{2}/1 \\approx 38,1\\mathrm{x}10^{-6}\\text{ m}.\n",
    "\\end{equation}\n",
    "Podemos obter a velocidade usando $v_{n}=\\sqrt{kZe^{2}/m_{e}r_{n}}$:\n",
    "\\begin{equation}\n",
    "v_{600} = \\sqrt{\\frac{kZe^{2}}{m_{e}r_{600}}} \\approx 3646,15\\text{ m/s}.\n",
    "\\end{equation}\n",
    "Para o estado fundamental do átomo de Hidrogênio, $v_{1}\\approx 2,19\\mathrm{x}10^{6}\\text{ m/s}$. Teremos assim que $v_{600}/v_{1}\\approx 1,67\\mathrm{x}10^{-3}$."
   ]
  },
  {
   "cell_type": "code",
   "execution_count": 40,
   "metadata": {},
   "outputs": [
    {
     "data": {
      "text/plain": [
       "(3.810075374229989e-05,\n",
       " 3646.15267517042,\n",
       " 2187691.60510225,\n",
       " 0.00166666666666667)"
      ]
     },
     "execution_count": 40,
     "metadata": {},
     "output_type": "execute_result"
    }
   ],
   "source": [
    "def rn_bohr(n,Z):\n",
    "    return (a0*n**2)/Z\n",
    "def vn_bohr(n,Z):\n",
    "    return sqrt((k*Z*e**2)/(me*rn_bohr(n,Z)))\n",
    "Z = 1; d600 = 2*rn_bohr(600,Z); v600 = vn_bohr(600,Z); v1 = vn_bohr(1,Z)\n",
    "d600, v600, v1, v600/v1"
   ]
  },
  {
   "cell_type": "markdown",
   "metadata": {},
   "source": [
    "---\n",
    "$4.$ A transição do primeiro estado excitado para o estado fundamental do átomo de Potássio resulta na emissão de um fóton com comprimento de onda $\\lambda=770\\text{ nm}$. Se o experimento de Franck-Hertz for executado com vapor de Potássio, para que valor da tensão deverá ocorrer a primeira queda da corrente elétrica? "
   ]
  },
  {
   "cell_type": "markdown",
   "metadata": {},
   "source": [
    "_SOL._ A energia do fóton emitido ou absorvido em uma transição entre os dois estados de menor energia é $|E_{2}-E_{1}|=h\\nu$. Para $eV_{0}<h\\nu$, os elétrons acelerados não conseguem excitar os átomos de potássio. Para $eV_{0}=h\\nu$ teremos tais excitações. Assim\n",
    "\\begin{equation}\n",
    "V_{0} = \\frac{h\\nu}{e} = \\frac{hc}{e\\lambda} \\approx 1,61\\text{ V}.\n",
    "\\end{equation}"
   ]
  },
  {
   "cell_type": "code",
   "execution_count": 41,
   "metadata": {},
   "outputs": [
    {
     "data": {
      "text/plain": [
       "1.6101841298477726"
      ]
     },
     "execution_count": 41,
     "metadata": {},
     "output_type": "execute_result"
    }
   ],
   "source": [
    "(h*c)/(e*770*10**-9)"
   ]
  },
  {
   "cell_type": "markdown",
   "metadata": {},
   "source": [
    "---\n",
    "$5.$ Moseley previu que átomos com números atômicos $Z=43,61\\text{ e } 75$ deveriam existir. Usando a teoria de Bohr como aproximação, calcule os comprimentos e frequências dos 'raios X' que seriam emitidos por esses átomos na linha $K_{\\alpha}$ para $n_{i}=2,3$."
   ]
  },
  {
   "cell_type": "markdown",
   "metadata": {},
   "source": [
    "_SOL._ Aqui usaremos a relação $Z = \\frac{1}{\\sqrt{cR_{\\infty}\\left|1/n_{i}^{2}-1/n_{f}^{2}\\right|}}\\sqrt{\\nu_{n_{i},n_{f}}}$, que nos dá as frequências: $\\nu_{n_{i},n_{f}}=cR_{\\infty}\\left|1/n_{i}^{2}-1/n_{f}^{2}\\right|Z^{2}$."
   ]
  },
  {
   "cell_type": "code",
   "execution_count": 43,
   "metadata": {},
   "outputs": [
    {
     "name": "stdout",
     "output_type": "stream",
     "text": [
      "Z= 43 , ni= 2 , nf= 1 , f= 4.56218970216881e+18\n",
      "Z= 43 , ni= 3 , nf= 1 , f= 5.407039647014886e+18\n",
      "Z= 61 , ni= 2 , nf= 1 , f= 9.181129195116357e+18\n",
      "Z= 61 , ni= 3 , nf= 1 , f= 1.088133830532309e+19\n",
      "Z= 75 , ni= 2 , nf= 1 , f= 1.3879024918712578e+19\n",
      "Z= 75 , ni= 3 , nf= 1 , f= 1.6449214718474168e+19\n"
     ]
    }
   ],
   "source": [
    "Ri = 10973734.848575922 # m^-1 (constante de Rydberg)\n",
    "\n",
    "def freq(ni,nf,Z):\n",
    "    return c*Ri*abs(1/ni**2 - 1/nf**2)*Z**2\n",
    "nf = 1 # K_alpha\n",
    "Z = 43\n",
    "ni=2; print('Z=',Z,', ni=',ni,', nf=',nf,', f=',freq(ni,nf,Z))\n",
    "ni=3; print('Z=',Z,', ni=',ni,', nf=',nf,', f=',freq(ni,nf,Z))\n",
    "Z = 61\n",
    "ni=2; print('Z=',Z,', ni=',ni,', nf=',nf,', f=',freq(ni,nf,Z))\n",
    "ni=3; print('Z=',Z,', ni=',ni,', nf=',nf,', f=',freq(ni,nf,Z))\n",
    "Z = 75\n",
    "ni=2; print('Z=',Z,', ni=',ni,', nf=',nf,', f=',freq(ni,nf,Z))\n",
    "ni=3; print('Z=',Z,', ni=',ni,', nf=',nf,', f=',freq(ni,nf,Z))"
   ]
  },
  {
   "cell_type": "code",
   "execution_count": null,
   "metadata": {},
   "outputs": [],
   "source": []
  }
 ],
 "metadata": {
  "kernelspec": {
   "display_name": "Python 3 (ipykernel)",
   "language": "python",
   "name": "python3"
  },
  "language_info": {
   "codemirror_mode": {
    "name": "ipython",
    "version": 3
   },
   "file_extension": ".py",
   "mimetype": "text/x-python",
   "name": "python",
   "nbconvert_exporter": "python",
   "pygments_lexer": "ipython3",
   "version": "3.11.1"
  }
 },
 "nbformat": 4,
 "nbformat_minor": 4
}
