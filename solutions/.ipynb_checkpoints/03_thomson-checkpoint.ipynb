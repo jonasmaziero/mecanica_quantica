{
 "cells": [
  {
   "cell_type": "markdown",
   "metadata": {},
   "source": [
    "### Notas de aula de Mecânica Quântica <br> Autor: Jonas Maziero\n",
    "\n",
    "# Exercícios"
   ]
  },
  {
   "cell_type": "markdown",
   "metadata": {},
   "source": [
    "---\n",
    "$1.$ Considerando o experimento de Thompson, escreva os campos elétrico $\\vec{E}$ e magnético $\\vec{B}$, respectivamente, em termos da diferença de potencial $V$ entre as placas e da corrente elétrica $i$ no solenóide."
   ]
  },
  {
   "cell_type": "markdown",
   "metadata": {},
   "source": [
    "_SOL._ Vamos assumir que as placas são grandes o suficiente para que os efeitos de borda sejam desprezíveis. Vamos assumir também que as placas possuem densidade de carga constante. Começamos lembrando da lei de Gauss $$\\oint_S \\vec{E}\\cdot d\\vec{A} = q_S/\\epsilon_0,$$\n",
    "que é aplicada a qualquer superfície gaussiana $S$. Vamos considerar primeiramente uma única placa infinita carregada positivamente. O campo elétrico é ortogonal ao plano da placa e aponta para longe dessa nos dois lados da placa. Vamos considerar como superfície gaussiana um cilíndro com área da base igual a $A$. Vem assim que a carga elétrica contida em $S$ é\n",
    "$$q_S = \\sigma A.$$\n",
    "Vema assim que\n",
    "\\begin{align}\n",
    "& \\oint_S \\vec{E}\\cdot d\\vec{A} = \\int_{esquerda}\\vec{E}\\cdot d\\vec{A} + \\int_{lateral}\\vec{E}\\cdot d\\vec{A} + \\int_{direita}\\vec{E}\\cdot d\\vec{A} \\\\\n",
    "& = \\int_{esquerda}E dA + \\int_{lateral}(0) + \\int_{direita}E dA \\\\\n",
    "& = 2E\\int dA = 2EA = q_S/\\epsilon_0 = \\sigma A/\\epsilon_0 \\\\\n",
    "& \\therefore E = \\frac{\\sigma}{2\\epsilon_0}.\n",
    "\\end{align}\n",
    "O cálculo para uma placa com carga negativa é o mesmo, só mudando o sentido do campo elétrico.\n",
    "\n",
    "Agora consideremos 2 placas infinitas com cargas opostas. Nas regiões fora das placas os campos gerados por elas se cancelam, pois tem sentidos opostos. Na região entre as placas os campos elétricos gerados por elas se somam, pois tem o mesmo sentido. Temos Assim que $E=0$ fora das placas e \n",
    "$$E=2\\frac{\\sigma}{2\\epsilon_0} = \\frac{\\sigma}{\\epsilon_0}$$\n",
    "na região entre as placas. Se a área das placas for $\\mathcal{A}$ e o módulo da carga elétrica de cada placa é $q$, então\n",
    "$$E = \\frac{q}{\\epsilon_0 \\mathcal{A}}.$$\n",
    "Quanto à diferença de potencial entre as placas, sendo $d$ a distância entre as placas, teremos que\n",
    "\\begin{align}\n",
    "& \\Delta V = - \\int_i^f \\vec{E}\\cdot d\\vec{s} = - \\int_-^+ (-E ds) = E \\int_-^+ ds = Ed \\\\\n",
    "& \\therefore\\ E = \\frac{\\Delta V}{d}.\n",
    "\\end{align}"
   ]
  },
  {
   "cell_type": "markdown",
   "metadata": {},
   "source": [
    "Passamos agora para o cálculo do campo magnético. Como esse sistema não tem a simetria necessária para aplicação da lei de Ampère, $\\oint_C \\vec{B}\\cdot dzvec{s} = \\mu_0 i_c$, vamos aplicar a lei de Biot-Savart\n",
    "$$d\\vec{B} = \\frac{\\mu_0}{4\\pi}\\frac{i d\\vec{s}\\times \\hat{r}}{r^2},$$\n",
    "em que $id\\vec{s}$ é o elemento de corrente elétrica e $\\hat{r}$ aponta do elemento de corrente elétrica para o ponto onde estamos calculando o campo elétrico gerado.\n",
    "\n",
    "Vamos aplicar essa lei para calcular o campo magnético no eixo central $z$ de uma espira com corrente elétrica $i$ com raio $R$. Pela simetria do sistema, vemos que as componentes do campo magnético ortogonais à direção $z$ são canceladas, restando somente a componente paralela. Usamos também que\n",
    "$$r^2 = R^2 + z^2,\\ dB_\\parallel = dB\\cos\\alpha = dB\\frac{R}{r},$$\n",
    "com $\\alpha$ sendo o ângulo entra a direção $z$ e $\\hat{r}.$ Com isso, vem que\n",
    "\\begin{align}\n",
    "B & = \\int dB_\\parallel = \\int dB\\cos\\alpha \\\\\n",
    "& = \\int \\frac{\\mu_0}{4\\pi}\\frac{i ds \\sin(\\pi/2)}{r^2}\\cos\\alpha = \\int \\frac{\\mu_0}{4\\pi}\\frac{i ds}{r^2}\\frac{R}{r} \\\\\n",
    "& = \\frac{\\mu_0 iR}{4\\pi r^3} \\int ds = \\frac{\\mu_0 iR}{4\\pi (R^2+z^2)^{3/2}} 2\\pi R \\\\\n",
    "& = \\frac{\\mu_0 i R^2}{2(R^2+z^2)^{3/2}}.\n",
    "\\end{align}\n",
    "\n",
    "Considerando que cada solenóide tem $N$ espiras e que os sentidos das correntes elétricas dos solenóides é contrário de forma que os campos magnéticos se somam no ponto entre os solenóides, teremos que\n",
    "$$B = \\frac{\\mu_0 iN R^2}{(R^2+z^2)^{3/2}}.$$"
   ]
  },
  {
   "cell_type": "markdown",
   "metadata": {},
   "source": [
    "---\n",
    "$2.$ Um próton de um raio cósmico aproxima-se da Terra verticalmente, na linha do equador, com velocidade $3\\mathrm{x}10^{6}\\text{ m/s}$. Nesse local a componente horizontal do campo magnético tem magnitude aproximada de $3,5\\mathrm{x}10^{-5}\\text { T}$. Qual é a razão entre a força magnética e a força gravitacional no próton?"
   ]
  },
  {
   "cell_type": "markdown",
   "metadata": {},
   "source": [
    "_SOL._ A força magnética no próton é obtida de $\\vec{F}_{m}=q\\vec{v}\\mathrm{x}\\vec{B}\\therefore F_{m}=evV\\sin\\theta$, com $\\theta$ sendo o ângulo entre $\\vec{v}$ e $\\vec{B}$. Aproximando a Terra por uma esfera, usando coordenadas esféricas, podemos escrever $\\vec{v}=v(-\\hat{r})$ e assumir que $\\vec{B}=B\\hat{\\theta}$, o que nos fornece $\\theta=\\pi/2$ e $F_{m}=evB$. Já a força gravitacional é $\\vec{F}_{g}=-(Gm_{p}m_{T}/r^{2})\\hat{r}$. Considerando $r=R_{T}$, o raio da Terra, teremos\n",
    "\\begin{equation}\n",
    "\\frac{F_{m}}{F_{g}} = \\frac{evB}{Gm_{p}m_{T}/R_{T}^{2}} \\approx 1,03\\mathrm{x}10^{9}.\n",
    "\\end{equation}\n",
    "Ou seja, a força elétrica é cerca de 1 bilhão de vezes mais forte que a força gravitacional nesse caso."
   ]
  },
  {
   "cell_type": "code",
   "execution_count": 1,
   "metadata": {},
   "outputs": [],
   "source": [
    "e = 1.60217662*10**-19 # C (carga elementar)\n",
    "G = 6.6742*10**-11 # Nm^2/kg^2 (constante gravitacional)\n",
    "mT = 5.9722*10**24 # kg (massa da Terra)\n",
    "rT = 6.3781*10**6 # m (raio da Terra)\n",
    "mp = 1.6726219*10**-27 # kg (massa do próton)"
   ]
  },
  {
   "cell_type": "code",
   "execution_count": 2,
   "metadata": {},
   "outputs": [
    {
     "data": {
      "text/plain": [
       "1026481197.5191432"
      ]
     },
     "execution_count": 2,
     "metadata": {},
     "output_type": "execute_result"
    }
   ],
   "source": [
    "(e*3*10**6*3.5*10**-5)/(G*mp*mT/rT**2)"
   ]
  },
  {
   "cell_type": "markdown",
   "metadata": {},
   "source": [
    "---\n",
    "$3.$ Considere o experimento de Thomson com campo elétrico desligado e campo magnético ligado. Mostre que o ângulo que a velocidade instantânea do elétron faz com a direção horizontal pode ser escrito como $\\theta_{t} = qBt/m$. Assim, para $x_{1}\\ll 1$ (comprimento das placas pequeno), teremos que a trajetória do elétron é desviada de um ângulo $\\theta\\approx qBx_{1}/mv$."
   ]
  },
  {
   "cell_type": "markdown",
   "metadata": {},
   "source": [
    "_SOL._ A força magnética é $\\vec{F}_{m}=q\\vec{v}\\mathrm{x}\\vec{B}=qv\\hat{i}\\mathrm{x}B\\hat{j}=qvB\\hat{k}$. A componente $y$ da velocidade das cargas elétricas ao sair da região entre as placas pode ser obtida aplicando as equações da Mecânica Clássica para aceleração constante: \n",
    "\\begin{align}\n",
    "& v_{y}=v_{y0}+a_{y}t_{1}=0+\\frac{F_{y}}{m}\\frac{x_{1}}{v}=\\frac{qvB}{m}\\frac{x_{1}}{v} = \\frac{qBx_{1}}{m}, \\\\\n",
    "& \\tan\\theta = \\frac{v_{y}}{v_{x}} = \\frac{v_{y}}{v} = \\frac{qBx_{1}}{mv}.\n",
    "\\end{align}\n",
    "Para $x_{1}\\ll 1$ esperamos que o desvio seja muito pequeno. Nesse caso \n",
    "$$\\tan\\theta\\approx \\theta\\approx \\frac{qBx_{1}}{mv}.$$\n",
    "Como $t=x_{1}/v$ teremos que \n",
    "$$\\theta_{t}\\approx\\frac{qBt}{m}.$$"
   ]
  },
  {
   "cell_type": "markdown",
   "metadata": {},
   "source": [
    "___\n",
    "$4.$ Considere o experimento de Millikan e mostre que um campo elétrico $E=2mg/q$ é necessário para que o tempo de subida da gota de óleo seja igual ao tempo de descida."
   ]
  },
  {
   "cell_type": "markdown",
   "metadata": {},
   "source": [
    "_SOL._ Depois de atingir a velocidade terminal constante, na descida \n",
    "\\begin{equation}\n",
    "F_{g}=F_{a}\\therefore mg=bv_{d}=bd/t_{d} \\therefore t_{d}=bd/mg.\n",
    "\\end{equation}\n",
    "Para a subida, depois de atingir a velocidade terminal, temos que \n",
    "\\begin{equation}\n",
    "F_{e}=F_{g}+F_{a}\\therefore qE=mg+bv_{s}=mg+bd/t_{s} \\therefore t_{s}=bd/(qE-mg).\n",
    "\\end{equation}\n",
    "Com isso, vem que \n",
    "\\begin{align}\n",
    "t_{d}=t_{s} \\therefore \\frac{bd}{mg}=\\frac{bd}{qE-mg} \\therefore qE-mg=mg \\therefore E=2mg/q.\n",
    "\\end{align}"
   ]
  },
  {
   "cell_type": "markdown",
   "metadata": {},
   "source": [
    "---\n",
    "$5.$ Considere uma variação do experimento de Millikan em que o campo elétrico $\\vec{E}$ é aplicado na direção horizontal. No regime onde a gota atingiu sua velocidade terminal $\\vec{v}$, mostre que o menor ângulo que sua velocidade faz com a direção vertical é $\\theta=\\arcsin(qE/bv)$."
   ]
  },
  {
   "cell_type": "markdown",
   "metadata": {},
   "source": [
    "_SOL._ Como a força de arrasto é contrária ao movimento, $\\vec{F}_{a}=-b\\vec{v}$, e existe força gravitacional na vertical e força elétrica na horizontal, quando a gota atinge a velocidade terminal teremos\n",
    "\\begin{align}\n",
    "& -F_{g}+F_{a,y}=0 \\therefore m_{g}g = bv_{y}, \\\\\n",
    "& F_{e}-F_{a,x} = 0 \\therefore qE=bv_{x}.\n",
    "\\end{align}\n",
    "Assim, como \n",
    "$$\\sin\\theta = v_{x}/v=qE/bv,$$\n",
    "temos \n",
    "$$\\theta=\\arcsin(qE/bv).$$\n",
    "Podería-se mostrar também que a velocidade terminal é \n",
    "$$v=\\sqrt{v_{x}^{2}+v_{y}^{2}}=\\sqrt{(qE/b)^{2}+(mg/b)^{2}},$$\n",
    "mas no experimento de Millikan, $v$ era obtida experimentalmente."
   ]
  },
  {
   "cell_type": "code",
   "execution_count": null,
   "metadata": {},
   "outputs": [],
   "source": []
  }
 ],
 "metadata": {
  "kernelspec": {
   "display_name": "Python 3 (ipykernel)",
   "language": "python",
   "name": "python3"
  },
  "language_info": {
   "codemirror_mode": {
    "name": "ipython",
    "version": 3
   },
   "file_extension": ".py",
   "mimetype": "text/x-python",
   "name": "python",
   "nbconvert_exporter": "python",
   "pygments_lexer": "ipython3",
   "version": "3.11.1"
  }
 },
 "nbformat": 4,
 "nbformat_minor": 4
}
