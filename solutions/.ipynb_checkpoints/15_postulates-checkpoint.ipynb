{
 "cells": [
  {
   "cell_type": "markdown",
   "metadata": {},
   "source": [
    "# Exercícios"
   ]
  },
  {
   "cell_type": "markdown",
   "metadata": {},
   "source": [
    "---\n",
    "$1.$ Considere um vetor qualquer $|\\psi\\rangle$ de um espaço de Hilbert $\\mathcal{H}$. Decomponha $|\\psi\\rangle$ em termos de uma base ortonormal $\\{|b_{j}\\rangle\\}_{j=1}^{\\dim\\mathcal{H}}$ de $\\mathcal{H}$. Mostre que as componentes de $|\\psi\\rangle$ nessa base são dadas por $\\langle b_{j}|\\psi\\rangle$. Use esse resultado para mostrar que o operador identidade em $\\mathcal{H}$ pode ser escrito em termos da base $\\{|b_{j}\\rangle\\}_{j=1}^{\\dim\\mathcal{H}}$ como segue: $\\mathbb{I}=\\sum_{j=1}^{\\dim\\mathcal{H}}|b_{j}\\rangle\\langle b_{j}|$."
   ]
  },
  {
   "cell_type": "markdown",
   "metadata": {},
   "source": [
    "_SOL._ Uma vez que $\\{|b_{j}\\rangle\\}_{j=1}^{d}$, com $d=\\dim\\mathcal{H}$ é uma base ortonormal para $\\mathcal{H}$, podemos escrever qualquer vetor desse espaço como uma combinação linear dos elementos dessa base: $|\\psi\\rangle=\\sum_{j=1}^{d}\\psi_{b_{j}}|b_{j}\\rangle$. Se tomamos o produto interno de um vetor $|b_{k}\\rangle$ da base com esse vetor geral, teremos $\\langle b_{k}|\\psi\\rangle=(|b_{k}\\rangle,\\sum_{j=1}^{d}\\psi_{b_{j}}|b_{j}\\rangle)=\\sum_{j=1}^{d}\\psi_{b_{j}}(|b_{k}\\rangle,|b_{j}\\rangle)=\\sum_{j=1}^{d}\\psi_{b_{j}}\\delta_{k,j} = \\psi_{b_{k}}$. Com isso, podemos escrever $|\\psi\\rangle = \\sum_{j=1}^{d}\\langle b_{j}|\\psi\\rangle|b_{j}\\rangle = \\sum_{j=1}^{d}|b_{j}\\rangle\\langle b_{j}|\\psi\\rangle = (\\sum_{j=1}^{d}|b_{j}\\rangle\\langle b_{j}|)|\\psi\\rangle = \\mathbb{I}_{\\mathcal{H}}|\\psi\\rangle$, e portanto $\\mathbb{I}_{\\mathcal{H}}=\\sum_{j=1}^{d}|b_{j}\\rangle\\langle b_{j}|$."
   ]
  },
  {
   "cell_type": "markdown",
   "metadata": {},
   "source": [
    "---\n",
    "$2.$ Considere um sistema quântico de três níveis em que a ação do operador Hamiltoniano na base ortonormal $\\{|1\\rangle,|2\\rangle,|3\\rangle\\}$ é\n",
    "\\begin{cases}\n",
    "H|1\\rangle=a|1\\rangle+a|3\\rangle, \\\\\n",
    "H|2\\rangle=a|2\\rangle+b|3\\rangle, \\\\\n",
    "H|3\\rangle=a|1\\rangle+b|2\\rangle+a|3\\rangle.\n",
    "\\end{cases}\n",
    "Forneça a representação matricial de $H$ na base acima."
   ]
  },
  {
   "cell_type": "markdown",
   "metadata": {},
   "source": [
    "_SOL._ A representação matricial desse operador é\n",
    "\\begin{align}\n",
    "H \\doteq \\begin{bmatrix} \n",
    "\\langle 1|H|1\\rangle & \\langle 1|H|2\\rangle & \\langle 1|H|3\\rangle \\\\ \n",
    "\\langle 2|H|1\\rangle & \\langle 2|H|2\\rangle & \\langle 2|H|3\\rangle \\\\ \n",
    "\\langle 3|H|1\\rangle & \\langle 3|H|2\\rangle & \\langle 3|H|3\\rangle \\end{bmatrix}\n",
    "= \\begin{bmatrix} \n",
    "a & 0 & a \\\\ \n",
    "0 & a & b \\\\ \n",
    "a & b & a \\end{bmatrix}.\n",
    "\\end{align}"
   ]
  },
  {
   "cell_type": "markdown",
   "metadata": {},
   "source": [
    "---\n",
    "$3.$ Mostre que os autovalores de um operador Hermitiano $A$ são números reais. Verifique que dois autovetores de $A$ correspondentes a autovalores diferentes são ortogonais."
   ]
  },
  {
   "cell_type": "markdown",
   "metadata": {},
   "source": [
    "_SOL._ Consideremos a eq. de autovalores e autorvetores para $A|a\\rangle=a|a\\rangle$. Assim\n",
    "\\begin{align}\n",
    "& \\langle a'|A|a\\rangle = (|a'\\rangle,A|a\\rangle) = (|a'\\rangle,a|a\\rangle) = a(|a'\\rangle,|a\\rangle) \\\\\n",
    "&= (A^{\\dagger}|a'\\rangle,|a\\rangle) = (A|a'\\rangle,|a\\rangle) = (a'|a'\\rangle,|a\\rangle) = a'^{*}(|a'\\rangle,|a\\rangle).\n",
    "\\end{align}\n",
    "Subtraindo as duas últimas desigualdades, $(a-a'^{*})\\langle a'|a\\rangle=0$. Se $a=a'$, como $\\langle a'|a\\rangle=\\langle a|a\\rangle=1$, devemos ter\n",
    "\\begin{equation}\n",
    "a-a'^{*}=0\\therefore a\\in\\mathbb{R}.\n",
    "\\end{equation}\n",
    "Se $a\\ne a'\\therefore a-a'\\ne 0$ devemos ter ortogonalidade dos autovetores correspondentes: $\\langle a'|a\\rangle=0$."
   ]
  },
  {
   "cell_type": "markdown",
   "metadata": {},
   "source": [
    "---\n",
    "$4.$ Mostre que se usarmos a base de autovetores de um operador $A$ como base para representá-lo na forma de produto externo, teremos que $\\langle a_{j} |A|a_{k}\\rangle = a_{k}\\delta_{jk}$ e $\\langle a|A|a'\\rangle = a\\delta(a-a')$ e portanto que $A=\\sum_{j=1}^{d} a_{j}  |a_{j}\\rangle\\langle a_{j}|$ e $A=\\int a |a\\rangle\\langle a|da $."
   ]
  },
  {
   "cell_type": "markdown",
   "metadata": {},
   "source": [
    "_SOL._ Usando as eqs. de autovalores e autovetores $A|a_{j}\\rangle=a_{j}|a_{j}\\rangle$ e $A|a\\rangle=a|a\\rangle$ teremos\n",
    "\\begin{align}\n",
    "& \\langle a_{j}|A|a_{k}\\rangle = \\langle a_{j}|a_{k}|a_{k}\\rangle = a_{k}\\langle a_{j}|a_{k}\\rangle = a_{k}\\delta_{j,k}, \\\\\n",
    "& \\langle a|A|a'\\rangle = \\langle a|a'|a'\\rangle = a'\\langle a|a'\\rangle = a'\\delta(a-a').\n",
    "\\end{align}\n",
    "Assim as representações produto externo ficam escritas como\n",
    "\\begin{align}\n",
    "& A = \\sum_{j,k}\\langle a_{j}|A|a_{k}\\rangle|a_{j}\\rangle\\langle a_{k}| = \\sum_{j,k}a_{k}\\delta_{j,k}|a_{j}\\rangle\\langle a_{k}| = \\sum_{j}a_{j}|a_{j}\\rangle\\langle a_{j}|, \\\\\n",
    "& A = \\iint \\langle a|A|a'\\rangle|a\\rangle\\langle a'|dada' = \\iint a\\delta(a-a')|a\\rangle\\langle a'|dada'  = \\int  a|a\\rangle\\langle a|da.\n",
    "\\end{align}"
   ]
  },
  {
   "cell_type": "markdown",
   "metadata": {},
   "source": [
    "---\n",
    "$5.$ Verifique que se $A$ for um observável com espectro contínuo, podemos escrever seu valor médio na forma: $\\langle A\\rangle_{\\psi}=\\langle\\psi|A|\\psi\\rangle$."
   ]
  },
  {
   "cell_type": "markdown",
   "metadata": {},
   "source": [
    "_SOL._ Aplicando a definição de média de uma variável aleatória com espectro contínuo, teremos\n",
    "\\begin{align}\n",
    "\\langle A\\rangle &= \\int a\\rho(a)da = \\int a|\\langle\\psi|a\\rangle|^{2}da = \\int a\\langle\\psi|a\\rangle\\langle\\psi|a\\rangle^{*}da \\\\\n",
    "& = \\int a\\langle\\psi|a\\rangle\\langle a|\\psi\\rangle da = \\langle\\psi|\\left(\\int a|a\\rangle\\langle a| da\\right)|\\psi\\rangle \\\\\n",
    "&= \\langle\\psi|A|\\psi\\rangle.\n",
    "\\end{align}"
   ]
  },
  {
   "cell_type": "markdown",
   "metadata": {},
   "source": [
    "---\n",
    "$6.$ Mostre que dois operadores Hermitianos $A$ e $B$ com espectro contínuo compartilham o mesmo conjunto de autovetores se e somente se comutarem."
   ]
  },
  {
   "cell_type": "markdown",
   "metadata": {},
   "source": [
    "_SOL._ Começamos assumindo que $A$ e $B$ compartilham a mesma base de autovetores: $A=\\int d\\alpha a_{\\alpha}|\\alpha\\rangle\\langle\\alpha|$ e $B=\\int d\\alpha b_{\\alpha}|\\alpha\\rangle\\langle\\alpha|.$ Por conseguinte\n",
    "\\begin{align}\n",
    "[A,B] &= AB-BA \\\\\n",
    "& = \\int d\\alpha a_{\\alpha}|\\alpha\\rangle\\langle\\alpha|\\int d\\alpha' b_{\\alpha'}|\\alpha'\\rangle\\langle\\alpha'| - \\int d\\alpha' b_{\\alpha'}|\\alpha'\\rangle\\langle\\alpha'|\\int d\\alpha a_{\\alpha}|\\alpha\\rangle\\langle\\alpha| \\\\\n",
    "& = \\iint d\\alpha d\\alpha' a_{\\alpha}b_{\\alpha'}|\\alpha\\rangle\\langle\\alpha|\\alpha'\\rangle\\langle\\alpha'| - \\iint d\\alpha' d\\alpha b_{\\alpha'}a_{\\alpha}|\\alpha'\\rangle\\langle\\alpha'|\\alpha\\rangle\\langle\\alpha| \\\\\n",
    "& = \\iint d\\alpha d\\alpha' a_{\\alpha}b_{\\alpha'}|\\alpha\\rangle\\delta(\\alpha-\\alpha')\\langle\\alpha'| - \\iint d\\alpha' d\\alpha b_{\\alpha'}a_{\\alpha}|\\alpha'\\rangle\\delta(\\alpha'-\\alpha)\\langle\\alpha| \\\\\n",
    "& = \\int d\\alpha a_{\\alpha}b_{\\alpha}|\\alpha\\rangle\\langle\\alpha| - \\int d\\alpha b_{\\alpha}a_{\\alpha}|\\alpha\\rangle\\langle\\alpha| = \\int d\\alpha (a_{\\alpha}b_{\\alpha}-b_{\\alpha}a_{\\alpha})|\\alpha\\rangle\\langle\\alpha| \\\\\n",
    "&= \\mathbb{O}.\n",
    "\\end{align}\n",
    "\n",
    "Seguindo, assumimos que $[A,B]=\\mathbb{O}.$ Consideremos a eq. de autovalores para $A|a\\rangle=a|a\\rangle.$ Então,  fazendo a aplicação:\n",
    "\\begin{align}\n",
    "A(B|a\\rangle) & = (AB)|a\\rangle = (BA)|a\\rangle = B(A|a\\rangle) = B(a|a\\rangle) \\\\\n",
    "&= a(B|a\\rangle).\n",
    "\\end{align}\n",
    "Por conseguinte, como $B|a\\rangle$ é autovetor de $A$ correspondente ao mesmo autovalor $a$ que $|a\\rangle$, se não há degenerescência então $B|a\\rangle\\propto|a\\rangle$. Se houver degenrescência então $B:\\mathcal{H}_{a}\\rightarrow\\mathcal{H}_{a}$ com $\\mathcal{H}_{a}$ sendo o subespaço gerado pelos autovetores de $A$ correspondentes ao autovalor $a$. Como $B$ é um operador Hermitiano, existe uma base ortonormal de $\\mathcal{H}_{a}$ que o diagonaliza. Claro, $A$ também é diagonal nessa base."
   ]
  },
  {
   "cell_type": "markdown",
   "metadata": {},
   "source": [
    "---\n",
    "$7.$ Verifique que a equação de Schrödinger $i\\hbar\\partial_{t}U_{t}=H_{t}U_{t}$ é satisfeita pelo operador de evolução temporal $U_{t}=e^{-iHt/\\hbar}$ o expandindo em série de Taylor (e depois fazendo a derivada)."
   ]
  },
  {
   "cell_type": "markdown",
   "metadata": {},
   "source": [
    "_SOL._ Derivando a série de Taylor $U_{t}=e^{-iHt/\\hbar}=\\mathbb{I}+(-iH/\\hbar)t+(-iH/\\hbar)^{2}t^{2}/2!+(-iH/\\hbar)^{3}t^{3}/3!+\\cdots$ obteremos\n",
    "\\begin{align}\n",
    "i\\hbar\\partial_{t}U_{t} &= i\\hbar\\left(0+(-iH/\\hbar)+(-iH/\\hbar)^{2}2t/2!+(-iH/\\hbar)^{3}3t^{2}/3!+\\cdots\\right) \\\\\n",
    "&= (i\\hbar)(-iH/\\hbar)\\left(\\mathbb{I}+(-iH/\\hbar)t+(-iH/\\hbar)^{2}t^{2}/2!+\\cdots\\right) \\\\\n",
    "&= HU_{t}.\n",
    "\\end{align}"
   ]
  },
  {
   "cell_type": "markdown",
   "metadata": {},
   "source": [
    "---\n",
    "$8.$ Verifique que se o Hamiltoniano independe do tempo, então este comuta com o operador de evolução temporal, i.e., verifique que $[U_{t},H]=[e^{-iHt/\\hbar},H]=0$."
   ]
  },
  {
   "cell_type": "markdown",
   "metadata": {},
   "source": [
    "_SOL._ Como qualquer potência de $H$ comuta com $H$, i.e., $[H^{j},H]=H^{j}H-HH^{j}=H^{j+1}-H^{j+1}=\\mathbb{O}$ para $j\\in\\mathbb{N},$ teremos que\n",
    "\\begin{align}\n",
    "[U_{t},H] &= [e^{-iHt/\\hbar},H] = \\left[\\sum_{j=0}^{\\infty}\\frac{(-iHt/\\hbar)^{j}}{j!},H\\right] \\\\\n",
    "&= \\sum_{j=0}^{\\infty}(-iHt/\\hbar)^{j}[H^{j},H] = \\mathbb{O}.\n",
    "\\end{align}"
   ]
  },
  {
   "cell_type": "markdown",
   "metadata": {},
   "source": [
    "---\n",
    "$9.$ Verifique que se o Hamiltoniano de um quanton puder ser escrito como $H_{t} = f_{t}V$, com $f_{t}$ sendo uma função escalar do tempo $t$ e $V$ um operador Hermitiano independente do tempo, então $[H_{t},H_{t'}]=\\mathbb{0}$. Nesse caso, use decomposição espectral de $V=\\sum_{j}v_{j}|v_{j}\\rangle\\langle v_{j}|$ para verificar que $U_{t}=e^{-\\frac{i}{\\hbar}\\int_{0}^{t}H_{t'}dt'}$ satisfaz a equação de Schrödinger $i\\hbar\\partial_{t}U_{t}=H_{t}U_{t}$."
   ]
  },
  {
   "cell_type": "markdown",
   "metadata": {},
   "source": [
    "_SOL._ Começamos verificando que\n",
    "\\begin{align}\n",
    "[H_{t},H_{t'}] &= [f_{t}V,f_{t'}V] = f_{t}f_{t'}[V,V] = f_{t}f_{t'}\\mathbb{O} = \\mathbb{O}.\n",
    "\\end{align}\n",
    "Seguindo, consideremos\n",
    "\\begin{align}\n",
    "i\\hbar\\partial_{t}U_{t} &= i\\hbar\\partial_{t}e^{-\\frac{i}{\\hbar}\\int_{0}^{t}H_{t'}dt'} = i\\hbar\\partial_{t}e^{-\\frac{i}{\\hbar}\\int_{0}^{t}f_{t'}Vdt'} \\\\ \n",
    "& = i\\hbar\\partial_{t}e^{-\\frac{i}{\\hbar}V\\int_{0}^{t}f_{t'}dt'} =: i\\hbar\\partial_{t}e^{-\\frac{i}{\\hbar}VF_{t}} \\\\\n",
    "& = i\\hbar\\partial_{t}e^{-\\frac{i}{\\hbar}\\sum_{j}v_{j}|v_{j}\\rangle\\langle v_{j}|F_{t}} = i\\hbar\\partial_{t}\\sum_{j}e^{-\\frac{iv_{j}F_{t}}{\\hbar}}|v_{j}\\rangle\\langle v_{j}| \\\\\n",
    "& = i\\hbar\\sum_{j}(-iv_{j}/\\hbar)(\\partial_{t}F_{t})e^{-\\frac{iv_{j}F_{t}}{\\hbar}}|v_{j}\\rangle\\langle v_{j}| = \\sum_{j}f_{t}e^{-\\frac{iv_{j}F_{t}}{\\hbar}}v_{j}|v_{j}\\rangle\\langle v_{j}| \\\\\n",
    "& = \\sum_{j}f_{t}e^{-\\frac{iv_{j}F_{t}}{\\hbar}}V|v_{j}\\rangle\\langle v_{j}| = f_{t}V\\sum_{j}e^{-\\frac{iv_{j}F_{t}}{\\hbar}}|v_{j}\\rangle\\langle v_{j}| \\\\\n",
    "&= f_{t}Ve^{-\\frac{i}{\\hbar}VF_{t}} = H_{t}U_{t},\n",
    "\\end{align}\n",
    "em que definimos $F_{t}=\\int_{0}^{t}f_{t'}dt'$ e usamos $\\partial_{t}F_{t}=\\partial_{t}\\int_{0}^{t}f_{t'}dt'=f_{t}.$"
   ]
  },
  {
   "cell_type": "markdown",
   "metadata": {},
   "source": [
    "---\n",
    "$10.$ Para $H_{t}=H$, mostre que a série de Dyson para $U_{t}$ é igual a série de Taylor para $e^{-iHt/\\hbar}$."
   ]
  },
  {
   "cell_type": "markdown",
   "metadata": {},
   "source": [
    "_SOL._ A série de Dyson é $U_{t}= \\mathbb{I} + \\sum_{j=1}^{\\infty}\\left(\\frac{-i}{\\hbar}\\right)^{j}\\int_{0}^{t}dt_{1}H_{t_{1}}\\int_{0}^{t_{1}}dt_{2}H_{t_{2}}\\cdots\\int_{0}^{t_{j-1}}dt_{j}H_{t_{j}}.$ Para operadores Hamiltonianos independentes do tempo, teremos\n",
    "\\begin{align}\n",
    "U_{t} &= \\mathbb{I} + \\sum_{j=1}^{\\infty}\\left(\\frac{-i}{\\hbar}\\right)^{j}\\int_{0}^{t}dt_{1}H\\int_{0}^{t_{1}}dt_{2}H\\cdots\\int_{0}^{t_{j-1}}dt_{j}H \\\\\n",
    " &= \\mathbb{I} + \\sum_{j=1}^{\\infty}\\left(\\frac{-i}{\\hbar}\\right)^{j}H^{j}\\int_{0}^{t_{0}}dt_{1}\\int_{0}^{t_{1}}dt_{2}\\cdots \\int_{0}^{t_{j-2}}dt_{j-1}\\frac{t_{j-1}^{1}}{1} \\\\\n",
    " &= \\mathbb{I} + \\sum_{j=1}^{\\infty}\\left(\\frac{-i}{\\hbar}\\right)^{j}H^{j}\\int_{0}^{t_{0}}dt_{1}\\int_{0}^{t_{1}}dt_{2}\\cdots \\int_{0}^{t_{j-3}}dt_{j-2}\\frac{t_{j-2}^{2}}{2} \\\\\n",
    " &= \\mathbb{I} + \\sum_{j=1}^{\\infty}\\left(\\frac{-i}{\\hbar}\\right)^{j}H^{j}\\int_{0}^{t_{0}}dt_{1}\\int_{0}^{t_{1}}dt_{2}\\cdots\\frac{t_{j-3}^{3}}{3!} \\\\\n",
    "& \\vdots \\\\\n",
    " &= \\mathbb{I} + \\sum_{j=1}^{\\infty}\\left(\\frac{-i}{\\hbar}\\right)^{j}H^{j}\\frac{t_{j-j}^{j}}{j!} = \\sum_{j=0}^{\\infty}\\left(\\frac{-iHt}{\\hbar}\\right)^{j}\\Big/j! \\\\\n",
    " &= e^{-iHt/\\hbar}.\n",
    "\\end{align}"
   ]
  }
 ],
 "metadata": {
  "kernelspec": {
   "display_name": "Python 3 (ipykernel)",
   "language": "python",
   "name": "python3"
  },
  "language_info": {
   "codemirror_mode": {
    "name": "ipython",
    "version": 3
   },
   "file_extension": ".py",
   "mimetype": "text/x-python",
   "name": "python",
   "nbconvert_exporter": "python",
   "pygments_lexer": "ipython3",
   "version": "3.11.1"
  }
 },
 "nbformat": 4,
 "nbformat_minor": 4
}
