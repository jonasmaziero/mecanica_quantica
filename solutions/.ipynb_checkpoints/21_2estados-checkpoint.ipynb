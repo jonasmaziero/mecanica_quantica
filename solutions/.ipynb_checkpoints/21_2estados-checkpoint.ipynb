{
 "cells": [
  {
   "cell_type": "markdown",
   "metadata": {},
   "source": [
    "### Notas de aula de Mecânica Quântica <br> Autor: Jonas Maziero\n",
    "\n",
    "# Exercícios"
   ]
  },
  {
   "cell_type": "markdown",
   "metadata": {},
   "source": [
    "---\n",
    "$1.$ Obtenha o comutador $[H_{t},H_{t'}]$ para o Hamiltoniano $H_{t} = \\begin{bmatrix} e_{1} & \\gamma e^{i\\omega t} \\\\ \\gamma e^{-i\\omega t} & e_{2} \\end{bmatrix}$ com $\\gamma,\\omega,e_{1},e_{2}\\in\\mathbb{R}.$ Verifique que $[H_{t},H_{t'}]=\\mathbb{O}$ se e somente se $t=t'+n2\\pi/\\omega$ com $n\\in\\mathbb{N}.$"
   ]
  },
  {
   "cell_type": "markdown",
   "metadata": {},
   "source": [
    "_SOL._ O comutador desse hamiltoniano calculado em dois tempos $t$ e $t'$ é\n",
    "\\begin{align}\n",
    "[H_{t},H_{t'}] &= H_{t}H_{t'} - H_{t'}H_{t} \\\\\n",
    "& = \\begin{bmatrix} e_{1} & \\gamma e^{i\\omega t} \\\\ \\gamma e^{-i\\omega t} & e_{2} \\end{bmatrix}\\begin{bmatrix} e_{1} & \\gamma e^{i\\omega t'} \\\\ \\gamma e^{-i\\omega t'} & e_{2} \\end{bmatrix} - \\begin{bmatrix} e_{1} & \\gamma e^{i\\omega t'} \\\\ \\gamma e^{-i\\omega t'} & e_{2} \\end{bmatrix}\\begin{bmatrix} e_{1} & \\gamma e^{i\\omega t} \\\\ \\gamma e^{-i\\omega t} & e_{2} \\end{bmatrix} \\\\\n",
    "& = \\begin{bmatrix} e_{1}^{2}+\\gamma^{2}e^{i\\omega(t-t')} & e_{1}\\gamma e^{i\\omega t'}+e_{2}\\gamma e^{i\\omega t} \\\\ e_{1}\\gamma e^{-i\\omega t}+e_{2}\\gamma e^{-i\\omega t'} & e_{2}^{2}+\\gamma^{2}e^{-i\\omega(t-t')} \\end{bmatrix} - \\begin{bmatrix} e_{1}^{2}+\\gamma^{2}e^{-i\\omega(t-t')} & e_{1}\\gamma e^{i\\omega t}+e_{2}\\gamma e^{i\\omega t'} \\\\ e_{1}\\gamma e^{-i\\omega t'}+e_{2}\\gamma e^{-i\\omega t} & e_{2}^{2}+\\gamma^{2}e^{i\\omega(t-t')} \\end{bmatrix} \\\\\n",
    "& = \\begin{bmatrix} \\gamma^{2}(e^{i\\omega(t-t')}-e^{-i\\omega(t-t')}) & \\gamma(e_{1}-e_{2})(e^{i\\omega t'}-e^{i\\omega t}) \\\\ -\\gamma(e_{1}-e_{2})(e^{-i\\omega t'}-e^{-i\\omega t}) & -\\gamma^{2}(e^{i\\omega(t-t')}-e^{-i\\omega(t-t')}) \\end{bmatrix} \n",
    "= \\begin{bmatrix} \\gamma^{2}2i\\sin(\\omega(t-t')) & \\gamma(e_{1}-e_{2})(e^{i\\omega t'}-e^{i\\omega t}) \\\\ -\\gamma(e_{1}-e_{2})(e^{-i\\omega t'}-e^{-i\\omega t}) & -\\gamma^{2}2i\\sin(\\omega(t-t')) \\end{bmatrix}.\n",
    "\\end{align}\n",
    "Portanto, para que $[H_{t},H_{t'}] =\\mathbb{O}$, é necessário que $\\sin(\\omega(t-t'))=0\\ \\therefore\\  \\omega(t-t')=n\\pi$ com $n\\in\\mathbb{N}.$ Ou seja, $t=t'+n\\pi/\\omega.$ Também é necessário que $e^{-i\\omega t'}-e^{-i\\omega t}=0 \\text{ e } e^{i\\omega t'}-e^{i\\omega t}=0\\ \\therefore cos(\\omega t')\\pm i\\sin(\\omega t')-cos(\\omega t)\\mp i\\sin(\\omega t)\\ \\therefore \\omega t=\\omega t'+m2\\pi$ para $m\\in\\mathbb{N},$ que é um subconjunto do conjunto aterior. Por outro lado, se $t=t'+n2\\pi/\\omega$ então $\\sin(\\omega(t-t'))=\\sin(n2\\pi)=0$ e $e^{\\pm i\\omega t'}-e^{\\pm i\\omega t}=e^{\\pm i\\omega t'}-e^{\\pm i\\omega(t'+n2\\pi/\\omega)} = e^{\\pm i\\omega t'}(1-e^{\\pm in2\\pi})=0.$"
   ]
  },
  {
   "cell_type": "markdown",
   "metadata": {},
   "source": [
    "---\n",
    "$2.$ Verifique que o coeficiente $c_{2}(t)$ pode ser escrito como $c_{2}(t) = e^{-i(\\omega-\\omega_{21})t/2}\\left(k_{3}\\sin\\xi t + k_{4}\\cos\\xi t \\right)$."
   ]
  },
  {
   "cell_type": "markdown",
   "metadata": {},
   "source": [
    "_SOL._ Começamos com $c_{2}(t) = e^{-i(\\omega-\\omega_{21})t/2}\\left(C'_{1}e^{i\\sqrt{((\\omega-\\omega_{21})/2)^{2}+\\gamma^{2}/\\hbar^{2}}t}+C'_{2}e^{-i\\sqrt{((\\omega-\\omega_{21})/2)^{2}+\\gamma^{2}/\\hbar^{2}}t}\\right),$ onde $\\xi := \\sqrt{\\frac{\\gamma^{2}}{\\hbar^{2}}+\\left(\\frac{\\omega-\\omega_{21}}{2}\\right)^{2}}.$ Assim\n",
    "\\begin{align}\n",
    "c_{2}(t) &= e^{-i(\\omega-\\omega_{21})t/2}\\left(C'_{1}e^{i\\xi t}+C'_{2}e^{-i\\xi t}\\right) \\\\\n",
    "&= e^{-i(\\omega-\\omega_{21})t/2}\\left(C'_{1}(\\cos(\\xi t)+i\\sin(\\xi t))+C'_{2}(\\cos(\\xi t)-i\\sin(\\xi t))\\right) \\\\\n",
    "&= e^{-i(\\omega-\\omega_{21})t/2}\\left((C'_{1}+C'_{2})\\cos(\\xi t)+i(C'_{1}-C'_{2})\\sin(\\xi t)\\right) \\\\\n",
    "&=: e^{-i(\\omega-\\omega_{21})t/2}\\left(k_{3}\\cos(\\xi t)+k_{4}\\sin(\\xi t)\\right).\n",
    "\\end{align}"
   ]
  },
  {
   "cell_type": "markdown",
   "metadata": {},
   "source": [
    "---\n",
    "$3.$ Repita os cálculos feitos nas notas de aula considerando como estado inicial o estado $|2\\rangle$ (no lugar do estado $|1\\rangle$). Ou seja, obtenha a constante $k_{1}$ e a probabilidade de transição $Pr(|2\\rangle\\rightarrow|1\\rangle)=Pr(1(t))$."
   ]
  },
  {
   "cell_type": "markdown",
   "metadata": {},
   "source": [
    "_SOL._ Neste caso devemos ter\n",
    "\\begin{align}\n",
    "c_{1}(0) & = e^{i(\\omega-\\omega_{21})0/2}\\left(k_{1}\\sin(\\xi 0) + k_{2}\\cos(\\xi 0) \\right) = k_{2}=0, \\\\\n",
    "c_{2}(0) & = e^{-i(\\omega-\\omega_{21})0/2}\\left(k_{3}\\sin(\\xi 0) + k_{4}\\cos(\\xi 0) \\right) = k_{4} =1.\n",
    "\\end{align}\n",
    "Vem assim que\n",
    "\\begin{equation}\n",
    "c_{1}(t) = e^{i(\\omega-\\omega_{21})t/2}k_{1}\\sin(\\xi t).\n",
    "\\end{equation}\n",
    "Para facilitar a solução desse problema, usamos uma das equações do sistema original, $i\\hbar\\partial_{t}c_{2}(t)= \\gamma e^{-i(\\omega-\\omega_{21}) t}c_{1}(t)$, para escrever\n",
    "\\begin{align}\n",
    "c_{2}(t) & = \\gamma^{-1}e^{-i(\\omega-\\omega_{21}) t}i\\hbar\\partial_{t}c_{1}(t) \\\\\n",
    "         & = \\gamma^{-1}e^{-i(\\omega-\\omega_{21}) t}i\\hbar\\left(i\\frac{\\omega-\\omega_{21}}{2}e^{i(\\omega-\\omega_{21})t/2}k_{1}\\sin\\xi t  + \\xi e^{i(\\omega-\\omega_{21})t/2}k_{1}\\cos\\xi t\\right) \\\\\n",
    "         & = \\gamma^{-1}i\\hbar k_{1}e^{i(\\omega-\\omega_{21}) t/2}\\left(i\\frac{\\omega-\\omega_{21}}{2}\\sin\\xi t  + \\xi\\cos\\xi t\\right).\n",
    "\\end{align}\n",
    "\n",
    "Agora aplicamos a normalização do estado $|\\psi_{t}^{I}\\rangle=c_{1}|1\\rangle+c_{2}|2\\rangle$:\n",
    "\\begin{align}\n",
    "& |c_{1}(t)|^{2} + |c_{2}(t)|^{2} = 1 \\\\\n",
    "& \\therefore\\ k_{1}^{2}\\sin^{2}\\xi t + \\gamma^{-2}\\hbar^{2} k_{1}^{2}\\left(i\\frac{\\omega-\\omega_{21}}{2}\\sin\\xi t  + \\xi\\cos\\xi t\\right)\\left(-i\\frac{\\omega-\\omega_{21}}{2}\\sin\\xi t  + \\xi\\cos\\xi t\\right) = 1 \\\\\n",
    "& \\therefore\\ k_{1}^{2}\\sin^{2}\\xi t + \\gamma^{-2}\\hbar^{2} k_{1}^{2}\\left(\\left(\\frac{\\omega-\\omega_{21}}{2}\\right)^{2}\\sin^{2}\\xi t  + \\xi^{2}\\cos^{2}\\xi t\\right) = 1 \\\\ \n",
    "& \\therefore\\ k_{1}^{2}\\left((\\gamma^{2}/\\hbar^{2})\\sin^{2}\\xi t + \\left(\\left(\\frac{\\omega-\\omega_{21}}{2}\\right)^{2}\\sin^{2}\\xi t  + \\xi^{2}\\cos^{2}\\xi t\\right) \\right)= \\gamma^{2}/\\hbar^{2}.\n",
    "\\end{align}\n",
    "\n",
    "Assim\n",
    "\\begin{align}\n",
    "k_{1}^{2} & = \\frac{\\gamma^{2}/\\hbar^{2}}{\\left(\\left(\\frac{\\omega-\\omega_{21}}{2}\\right)^{2}+\\frac{\\gamma^{2}}{\\hbar^{2}}\\right)\\sin^{2}\\xi t  + \\xi^{2}\\cos^{2}\\xi t} = \\frac{\\gamma^{2}/\\hbar^{2}}{\\xi^{2}\\sin^{2}\\xi t  + \\xi^{2}\\cos^{2}\\xi t} = \\frac{\\gamma^{2}/\\hbar^{2}}{\\gamma^{2}/\\hbar^{2} + \\left(\\frac{\\omega-\\omega_{21}}{2}\\right)^{2}} \\\\\n",
    "& = \\frac{1}{1 + \\left(\\frac{\\hbar\\omega_{21}}{2\\gamma}\\left(1-\\frac{\\omega}{\\omega_{21}}\\right)\\right)^{2}}.\n",
    "\\end{align}\n",
    "\n",
    "A probabilidade de transição $|2\\rangle\\rightarrow|1\\rangle$ é:\n",
    "\\begin{equation}\n",
    "Pr(1(t)) = \\left|\\langle 1|\\psi_{t}^{I}\\rangle\\right|^{2} = \\left|c_{1}(t)\\right|^{2} = k_{1}^{2}\\sin^{2}\\xi t = \\frac{\\sin^{2}\\xi t}{1 + \\left(\\frac{\\hbar\\omega_{21}}{2\\gamma}\\left(1-\\frac{\\omega}{\\omega_{21}}\\right)\\right)^{2}}.\n",
    "\\end{equation}"
   ]
  },
  {
   "cell_type": "markdown",
   "metadata": {},
   "source": [
    "---\n",
    "$4.$ No contexto da última questão, obtenha a relação entre $\\omega$ e $\\omega_{21}$ e a expressão dos tempos, $t_{\\max}$, necessários para que a probabilidade de transição seja igual a um, i.e., $Pr(|2\\rangle\\rightarrow|1\\rangle)=1$."
   ]
  },
  {
   "cell_type": "markdown",
   "metadata": {},
   "source": [
    "_SOL._ Como $\\sin^{2}\\xi t\\in[0,1]$, a única maneira de termos $Pr(1(t))=1$ é se o divisor for igual a 1, que só é possível se $\\frac{\\hbar\\omega_{21}}{2\\gamma}\\left(1-\\frac{\\omega}{\\omega_{21}}\\right)=0$, que por sua vez só é obtido na condição de ressonância $$\\omega=\\omega_{21}.$$ Neste regime, para termos $Pr(1(t))=1$ precisamos que $\\sin^{2}\\xi t=1\\ \\therefore\\ \\xi t=(2j+1)\\pi/2$ com $j=0,1,2,\\cdots.$ Por conseguinte, $$t_{\\max}=\\frac{(2j+1)\\pi/2}{\\xi} = \\frac{(2j+1)\\pi/2}{\\sqrt{\\frac{\\gamma^{2}}{\\hbar^{2}}+\\left(\\frac{\\omega-\\omega_{21}}{2}\\right)^{2}}} = \\frac{(2j+1)\\pi\\hbar}{2\\gamma}.$$"
   ]
  }
 ],
 "metadata": {
  "kernelspec": {
   "display_name": "Python 3 (ipykernel)",
   "language": "python",
   "name": "python3"
  },
  "language_info": {
   "codemirror_mode": {
    "name": "ipython",
    "version": 3
   },
   "file_extension": ".py",
   "mimetype": "text/x-python",
   "name": "python",
   "nbconvert_exporter": "python",
   "pygments_lexer": "ipython3",
   "version": "3.11.1"
  }
 },
 "nbformat": 4,
 "nbformat_minor": 4
}
