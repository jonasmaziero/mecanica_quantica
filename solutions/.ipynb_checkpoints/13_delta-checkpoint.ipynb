{
 "cells": [
  {
   "cell_type": "markdown",
   "metadata": {},
   "source": [
    "### Notas de aula de Mecânica Quântica <br> Autor: Jonas Maziero\n",
    "\n",
    "# Exercícios"
   ]
  },
  {
   "cell_type": "markdown",
   "metadata": {},
   "source": [
    "---\n",
    "$1.$ Calcule a integral $\\int_{-\\infty}^{\\infty}e^{x+3}\\delta(x+3)dx$."
   ]
  },
  {
   "cell_type": "markdown",
   "metadata": {},
   "source": [
    "_SOL._ Usando que $\\int_{-\\infty}^{\\infty}f(x)\\delta(x-a)dx=f(a)$ teremos $\\int_{-\\infty}^{\\infty}e^{x+3}\\delta(x+3)dx = \\int_{-\\infty}^{\\infty}e^{x+3}\\delta(x-(-3))dx = e^{-3+3}=e^{0}=1$."
   ]
  },
  {
   "cell_type": "markdown",
   "metadata": {},
   "source": [
    "---\n",
    "$2.$ Considere $U(x)=\\alpha\\delta(x)$ com $\\alpha$ sendo um número real positivo. Existem estados ligados (com $E<0$) nesse caso? Para espalhamento por esse potencial, quais são os coeficientes de trasmissão e de reflexão?"
   ]
  },
  {
   "cell_type": "markdown",
   "metadata": {},
   "source": [
    "_SOL._ Como a energia positiva está associada a uma força de repulsão, não teremos estados ligados nesse caso. Já reescrevendo essa energia potencial como $U(x)=-(-\\alpha)\\delta(x)$ vemos que as contas são as mesmas que as das notas de aula e que os coeficientes de reflexão e de trasmissão também são os mesmos, pois dependem de $\\alpha^{2}$."
   ]
  },
  {
   "cell_type": "markdown",
   "metadata": {},
   "source": [
    "---\n",
    "$3.$ A matriz de transferência, ou matriz $S$, é definida por $\\begin{bmatrix}c_{dd}\\\\c_{de}\\end{bmatrix}=\\begin{bmatrix}S_{1,1}&S_{1,2}\\\\S_{2,1}&S_{2,2}\\end{bmatrix}\\begin{bmatrix}c_{ed}\\\\c_{ee}\\end{bmatrix}$. Obtenha os elementos dessa matriz, $S_{j,k}$, no caso do problema de espalhamento por um potencial função delta tratado nestas notas de aula."
   ]
  },
  {
   "cell_type": "markdown",
   "metadata": {},
   "source": [
    "_SOL._ As eqs. para os coeficientes são $c_{ed}+c_{ee}=c_{dd}$ e $c_{ee}= \\frac{m\\alpha/\\hbar^{2}}{ik-m\\alpha/\\hbar^{2}}c_{ed}$, que podem ser reescritas como $$\\begin{cases}c_{dd}=c_{ed}+c_{ee}, \\\\  0= (m\\alpha/\\hbar^{2})c_{ed}-(ik-m\\alpha/\\hbar^{2})c_{ee}\\end{cases}.$$ Assim $S=\\begin{bmatrix}1&1 \\\\ m\\alpha/\\hbar^{2}&-(ik-m\\alpha/\\hbar^{2}) \\end{bmatrix}.$"
   ]
  }
 ],
 "metadata": {
  "kernelspec": {
   "display_name": "Python 3 (ipykernel)",
   "language": "python",
   "name": "python3"
  },
  "language_info": {
   "codemirror_mode": {
    "name": "ipython",
    "version": 3
   },
   "file_extension": ".py",
   "mimetype": "text/x-python",
   "name": "python",
   "nbconvert_exporter": "python",
   "pygments_lexer": "ipython3",
   "version": "3.11.1"
  }
 },
 "nbformat": 4,
 "nbformat_minor": 4
}
