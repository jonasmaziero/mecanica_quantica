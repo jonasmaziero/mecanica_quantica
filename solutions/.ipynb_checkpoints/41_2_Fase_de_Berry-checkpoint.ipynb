{
 "cells": [
  {
   "cell_type": "markdown",
   "id": "fb51623a-fdff-453f-981e-8ff9edf74961",
   "metadata": {},
   "source": [
    "### Notas de aula de Mecânica Quântica <br> Autor: Jonas Maziero\n",
    "# Exercícios"
   ]
  },
  {
   "cell_type": "markdown",
   "id": "2bc10e82",
   "metadata": {},
   "source": [
    "---\n",
    "$1.$ Para duas funções arbitrárias $f$ e $g$ de $\\mathbb{R}^{3}$, verifique que\n",
    "$$\\vec{\\nabla}\\times(f\\vec{\\nabla}g) = (\\vec{\\nabla}f)\\times(\\vec{\\nabla}g).$$\n"
   ]
  },
  {
   "cell_type": "markdown",
   "id": "f6073925",
   "metadata": {},
   "source": [
    "_SOL._ Para o lado direito temos\n",
    "\\begin{align}\n",
    "\\big((\\vec{\\nabla}f)\\times(\\vec{\\nabla}g)\\big)_j & = \\sum_{k,l}\\epsilon_{jkl}(\\vec{\\nabla}f)_k(\\vec{\\nabla}g)_l \\\\\n",
    "& = \\sum_{k,l}\\epsilon_{jkl}(\\nabla_k f)(\\nabla_l g).\n",
    "\\end{align}\n",
    "Para o lado esquerdo teremos\n",
    "\\begin{align}\n",
    "\\big(\\vec{\\nabla}\\times(f\\vec{\\nabla}g)\\big)_j & = \\sum_{kl}\\epsilon_{jkl}\\nabla_k(f\\vec{\\nabla}g)_l \\\\\n",
    "& = \\sum_{kl}\\epsilon_{jkl}\\nabla_k(f\\nabla_l g) \\\\\n",
    "& = \\sum_{kl}\\epsilon_{jkl}\\big((\\nabla_k f)(\\nabla_l g) + f\\nabla_k\\nabla_l g\\big) \\\\\n",
    "& = \\sum_{kl}\\epsilon_{jkl}(\\nabla_k f)(\\nabla_l g) + f\\big(\\epsilon_{jkl}\\nabla_k\\nabla_l g+\\epsilon_{jlk}\\nabla_l\\nabla_k g\\big) \\\\\n",
    "& = \\sum_{kl}\\epsilon_{jkl}(\\nabla_k f)(\\nabla_l g) + f\\big(\\epsilon_{jkl}\\nabla_k\\nabla_l g-\\epsilon_{jkl}\\nabla_k\\nabla_l g\\big) \\\\\n",
    "& = \\sum_{kl}\\epsilon_{jkl}(\\nabla_k f)(\\nabla_l g).\n",
    "\\end{align}"
   ]
  },
  {
   "cell_type": "markdown",
   "id": "074714c8",
   "metadata": {},
   "source": [
    "---\n",
    "$2.$ No contexto da fase de Berry, verifique que $\\vec{A}_{n}(\\vec{R})$ e $\\vec{B}_{n}(\\vec{R})$ são vetores reais (de $\\mathbb{R}^{3}$)."
   ]
  },
  {
   "cell_type": "markdown",
   "id": "e6606dd6",
   "metadata": {},
   "source": [
    "_SOL._"
   ]
  }
 ],
 "metadata": {
  "kernelspec": {
   "display_name": "Python 3 (ipykernel)",
   "language": "python",
   "name": "python3"
  },
  "language_info": {
   "codemirror_mode": {
    "name": "ipython",
    "version": 3
   },
   "file_extension": ".py",
   "mimetype": "text/x-python",
   "name": "python",
   "nbconvert_exporter": "python",
   "pygments_lexer": "ipython3",
   "version": "3.11.1"
  }
 },
 "nbformat": 4,
 "nbformat_minor": 5
}
