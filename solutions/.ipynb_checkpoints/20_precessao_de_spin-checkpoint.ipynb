{
 "cells": [
  {
   "cell_type": "markdown",
   "metadata": {},
   "source": [
    "### Notas de aula de Mecânica Quântica <br> Autor: Jonas Maziero\n",
    "\n",
    "# Exercícios"
   ]
  },
  {
   "cell_type": "markdown",
   "metadata": {},
   "source": [
    "---\n",
    "$1.$ Verifique que um campo magnético $\\vec{B} = \\beta z\\hat{k}$, com $\\beta$ sendo uma constante real, não satisfaz a equação de Maxwell $\\vec{\\nabla}\\cdot\\vec{B}=0$. Verifique que $\\vec{B}=\\beta(x\\hat{i}-z\\hat{k})$ e $\\vec{B}=\\beta x\\hat{i}+(\\alpha-\\beta z)\\hat{k}$ satisfazem essa equação, com $\\alpha$ sendo uma constante real."
   ]
  },
  {
   "cell_type": "markdown",
   "metadata": {},
   "source": [
    "_SOL._ Usando $\\vec{\\nabla}\\cdot\\vec{B}=\\sum_{j=1}^{3}\\partial_{x_{j}}B_{j}=\\partial_{x}B_{x}+\\partial_{y}B_{y}+\\partial_{z}B_{z}$ teremos\n",
    "\\begin{align}\n",
    "& \\vec{\\nabla}\\cdot\\vec{B} = \\vec{\\nabla}\\cdot(\\beta z\\hat{k}) = 0+0+\\beta\\ne0, \\\\\n",
    "& \\vec{\\nabla}\\cdot\\vec{B} = \\vec{\\nabla}\\cdot(\\beta(x\\hat{i}-z\\hat{k})) = \\beta+0-\\beta=0, \\\\\n",
    "& \\vec{\\nabla}\\cdot\\vec{B} = \\vec{\\nabla}\\cdot(\\beta x\\hat{i}+(\\alpha-\\beta z)\\hat{k}) = \\beta+0-\\beta=0.\n",
    "\\end{align}"
   ]
  },
  {
   "cell_type": "markdown",
   "metadata": {},
   "source": [
    "---\n",
    "$2.$ Verifique que $|x_{\\pm}\\rangle = \\sqrt{1/2}|z_{+}\\rangle \\pm \\sqrt{1/2}|z_{-}\\rangle$ e que eles formam uma base ortonormal. Verifique também que $|z_{+}\\rangle = (1/\\sqrt{2})(|y_{+}\\rangle+|y_{-}\\rangle)$, $|z_{-}\\rangle = (-i/\\sqrt{2})(|y_{+}\\rangle-|y_{-}\\rangle)$, $|y_{\\pm}\\rangle = ((1\\pm i)/2)|x_{+}\\rangle + ((1\\mp i)/2)|x_{-}\\rangle$ e $|x_{\\pm}\\rangle = ((1\\mp i)/2)|y_{+}\\rangle + ((1\\pm i)/2)|y_{-}\\rangle$."
   ]
  },
  {
   "cell_type": "markdown",
   "metadata": {},
   "source": [
    "_SOL._ Usando $|z_{\\pm}\\rangle=(|x_{+}\\rangle\\pm|x_{-}\\rangle)/\\sqrt{2}$ podemos escrever\n",
    "\\begin{align}\n",
    "|z_{+}\\rangle + |z_{-}\\rangle = (|x_{+}\\rangle+|x_{-}\\rangle)/\\sqrt{2}+(|x_{+}\\rangle-|x_{-}\\rangle)/\\sqrt{2} = 2|x_{+}\\rangle/\\sqrt{2}, \\\\\n",
    "|z_{+}\\rangle - |z_{-}\\rangle = (|x_{+}\\rangle+|x_{-}\\rangle)/\\sqrt{2}-(|x_{+}\\rangle-|x_{-}\\rangle)/\\sqrt{2} = 2|x_{-}\\rangle/\\sqrt{2},\n",
    "\\end{align}\n",
    "das quais obtemos as relações buscadas $|x_{\\pm}\\rangle = \\sqrt{1/2}|z_{+}\\rangle \\pm \\sqrt{1/2}|z_{-}\\rangle.$ Quanto a ortonormalidade, teremos\n",
    "\\begin{align}\n",
    "\\langle x_{\\pm}|x_{\\pm}\\rangle &= \\sqrt{1/2}(\\langle z_{+}|\\pm\\langle z_{-}|)\\sqrt{1/2}(|z_{+}\\rangle \\pm |z_{-}\\rangle) \\\\\n",
    "&= (1/2)\\left(\\langle z_{+}|z_{+}\\rangle \\pm \\langle z_{+}|z_{-}\\rangle \\pm \\langle z_{-}|z_{+}\\rangle + \\langle z_{-}|z_{-}\\rangle\\right) \\\\\n",
    "&=1, \\\\\n",
    "\\langle x_{\\pm}|x_{\\mp}\\rangle &= \\sqrt{1/2}(\\langle z_{+}|\\pm\\langle z_{-}|)\\sqrt{1/2}(|z_{+}\\rangle \\mp |z_{-}\\rangle) \\\\\n",
    "&= (1/2)\\left(\\langle z_{+}|z_{+}\\rangle \\mp \\langle z_{+}|z_{-}\\rangle \\pm \\langle z_{-}|z_{+}\\rangle - \\langle z_{-}|z_{-}\\rangle\\right) \\\\\n",
    "&=0.\n",
    "\\end{align}"
   ]
  },
  {
   "cell_type": "markdown",
   "metadata": {},
   "source": [
    "Começamos com $|y_{+}\\rangle = (1/\\sqrt{2})(|z_{+}\\rangle + i|z_{-}\\rangle)$ e $|y_{-}\\rangle = (1/\\sqrt{2})(|z_{+}\\rangle - i|z_{-}\\rangle).$ Somando essas eqs. obteremos $|y_{+}\\rangle+|y_{-}\\rangle = (1/\\sqrt{2})(|z_{+}\\rangle + i|z_{-}\\rangle)+(1/\\sqrt{2})(|z_{+}\\rangle - i|z_{-}\\rangle) = 2|z_{+}\\rangle/\\sqrt{2}.$ Subtraindo as eqs. vem que $|y_{+}\\rangle-|y_{-}\\rangle = (1/\\sqrt{2})(|z_{+}\\rangle + i|z_{-}\\rangle)-(1/\\sqrt{2})(|z_{+}\\rangle - i|z_{-}\\rangle) = 2i|z_{+}\\rangle/\\sqrt{2}.$ Destas relações obtemos facilmente que $|z_{+}\\rangle = (1/\\sqrt{2})(|y_{+}\\rangle+|y_{-}\\rangle)$ e $|z_{-}\\rangle = (-i/\\sqrt{2})(|y_{+}\\rangle-|y_{-}\\rangle).$\n",
    "\n",
    "As outras relações são obtidas da seguinte forma\n",
    "\\begin{align}\n",
    "|y_{+}\\rangle &= (1/\\sqrt{2})(|z_{+}\\rangle + i|z_{-}\\rangle) = (1/\\sqrt{2})((1/\\sqrt{2})(|x_{+}\\rangle + |x_{-}\\rangle) + i(1/\\sqrt{2})(|x_{+}\\rangle -|z_{-}\\rangle)) \\\\\n",
    "&= \\frac{1+i}{2}|x_{+}\\rangle + \\frac{1-i}{2}|x_{-}\\rangle, \\\\\n",
    "|y_{-}\\rangle &= (1/\\sqrt{2})(|z_{+}\\rangle - i|z_{-}\\rangle) = (1/\\sqrt{2})((1/\\sqrt{2})(|x_{+}\\rangle + |x_{-}\\rangle) - i(1/\\sqrt{2})(|x_{+}\\rangle -|z_{-}\\rangle)) \\\\\n",
    "&= \\frac{1-i}{2}|x_{+}\\rangle + \\frac{1+i}{2}|x_{-}\\rangle.\n",
    "\\end{align}\n",
    "\n",
    "Por fim, fazemos\n",
    "\\begin{align}\n",
    "|x_{+}\\rangle &= (1/\\sqrt{2})(|z_{+}\\rangle + |z_{-}\\rangle) = (1/\\sqrt{2})((1/\\sqrt{2})(|y_{+}\\rangle + |y_{-}\\rangle) + (-i/\\sqrt{2})(|y_{+}\\rangle -|y_{-}\\rangle)) \\\\\n",
    "&= \\frac{1-i}{2}|y_{+}\\rangle + \\frac{1+i}{2}|y_{-}\\rangle, \\\\\n",
    "|x_{-}\\rangle &= (1/\\sqrt{2})(|z_{+}\\rangle - |z_{-}\\rangle) = (1/\\sqrt{2})((1/\\sqrt{2})(|y_{+}\\rangle + |y_{-}\\rangle) - (-i/\\sqrt{2})(|y_{+}\\rangle -|y_{-}\\rangle)) \\\\\n",
    "&= \\frac{1+i}{2}|y_{+}\\rangle + \\frac{1-i}{2}|y_{-}\\rangle.\n",
    "\\end{align}"
   ]
  },
  {
   "cell_type": "markdown",
   "metadata": {},
   "source": [
    "---\n",
    "$3.$ Verifique que os autovalores de $\\hat{n}\\cdot\\vec{\\sigma} = \\begin{bmatrix} \\cos\\theta & e^{-i\\phi}\\sin\\theta \\\\ e^{i\\phi}\\sin\\theta & -\\cos\\theta \\end{bmatrix}$ são $n_{\\pm}=\\pm 1$ e que seus autovetores podem ser expressos como \n",
    "$|n_{+}\\rangle = \\cos(\\theta/2)|z_{+}\\rangle + e^{i\\phi}\\sin(\\theta/2)|z_{-}\\rangle$ e $|n_{-}\\rangle = \\sin(\\theta/2)|z_{+}\\rangle - e^{i\\phi}\\cos(\\theta/2)|z_{-}\\rangle$."
   ]
  },
  {
   "cell_type": "markdown",
   "metadata": {},
   "source": [
    "_SOL._ Para os autovalores,\n",
    "\\begin{align}\n",
    "& \\det(\\hat{n}\\cdot\\vec{\\sigma}-\\lambda\\mathbb{I}) = \\det\\begin{bmatrix} \\cos\\theta-\\lambda & e^{-i\\phi}\\sin\\theta \\\\ e^{i\\phi}\\sin\\theta & -\\cos\\theta-\\lambda \\end{bmatrix} \\\\ \n",
    "& = -(\\cos\\theta-\\lambda)(\\cos\\theta+\\lambda)-\\sin^{2}\\theta = -\\cos^{2}\\theta+\\lambda^{2}-\\sin^{2}\\theta \\\\\n",
    "& = \\lambda^{2}-1=0, \\\\\n",
    "& \\therefore \\lambda = \\pm1.\n",
    "\\end{align}"
   ]
  },
  {
   "cell_type": "markdown",
   "metadata": {},
   "source": [
    "Para os autovetores, usamos $(\\hat{n}\\cdot\\vec{\\sigma}-\\lambda\\mathbb{I})|n\\rangle=|0\\rangle.$ Começamos com $\\lambda=+1$:\n",
    "\\begin{align}\n",
    "\\begin{bmatrix} \\cos\\theta-1 & e^{-i\\phi}\\sin\\theta \\\\ e^{i\\phi}\\sin\\theta & -\\cos\\theta-1 \\end{bmatrix}\\begin{bmatrix}a\\\\b\\end{bmatrix} = \\begin{bmatrix}0\\\\0\\end{bmatrix} \\ \\therefore\\ \\begin{cases}(\\cos\\theta-1)a+e^{-i\\phi}\\sin\\theta b=0, \\\\ e^{i\\phi}\\sin\\theta a -(\\cos\\theta+1)b=0.\\end{cases}\n",
    "\\end{align}\n",
    "Isolando $a=-(e^{-i\\phi}\\sin\\theta/(\\cos\\theta-1))b$ na 1ª eq. e substituindo na 2ª eq. obtemos \n",
    "\\begin{align}\n",
    "& e^{i\\phi}\\sin\\theta (-e^{-i\\phi}\\sin\\theta/(\\cos\\theta-1))b -(\\cos\\theta+1)b = (-\\sin^{2}\\theta-(\\cos\\theta+1)(\\cos\\theta-1))b/(\\cos\\theta-1) \\\\\n",
    "&= (-\\sin^{2}\\theta-\\cos^{2}\\theta+1)b/(\\cos\\theta-1) = 0b=0.\n",
    "\\end{align}\n",
    "Então podemos fazer $b=e^{i\\phi}\\sin(\\theta/2)$ teremos\n",
    "\\begin{align}\n",
    "a &= \\frac{\\cos\\theta+1}{e^{i\\phi}\\sin\\theta}b = \\frac{\\cos^{2}(\\theta/2)-\\sin^{2}(\\theta/2)+\\cos^{2}(\\theta/2)+\\sin^{2}(\\theta/2)}{e^{i\\phi}2\\sin(\\theta/2)\\cos(\\theta/2)}e^{i\\phi}\\sin(\\theta/2) \\\\\n",
    "&= \\frac{2\\cos^{2}(\\theta/2)}{2\\cos(\\theta/2)} = \\cos(\\theta/2).\n",
    "\\end{align}\n",
    "Assim\n",
    "\\begin{align}\n",
    "|n_{+}\\rangle &= \\begin{bmatrix}a\\\\b\\end{bmatrix} = \\begin{bmatrix} \\cos(\\theta/2) \\\\ e^{i\\phi}\\sin(\\theta/2) \\end{bmatrix} \\\\\n",
    "&= \\cos(\\theta/2)\\begin{bmatrix} 1 \\\\ 0 \\end{bmatrix} + e^{i\\phi}\\sin(\\theta/2)\\begin{bmatrix} 0 \\\\ 1 \\end{bmatrix} = \\cos(\\theta/2)|z_{+}\\rangle + e^{i\\phi}\\sin(\\theta/2)|z_{-}\\rangle.\n",
    "\\end{align}"
   ]
  },
  {
   "cell_type": "markdown",
   "metadata": {},
   "source": [
    "Para $\\lambda=-1$ teremos\n",
    "\\begin{align}\n",
    "\\begin{bmatrix} \\cos\\theta+1 & e^{-i\\phi}\\sin\\theta \\\\ e^{i\\phi}\\sin\\theta & -\\cos\\theta+1 \\end{bmatrix}\\begin{bmatrix}a\\\\b\\end{bmatrix} = \\begin{bmatrix}0\\\\0\\end{bmatrix} \\ \\therefore\\ \\begin{cases}(\\cos\\theta+1)a+e^{-i\\phi}\\sin\\theta b=0, \\\\ e^{i\\phi}\\sin\\theta a -(\\cos\\theta-1)b=0.\\end{cases}\n",
    "\\end{align}\n",
    "Isolando $a=-(e^{-i\\phi}\\sin\\theta/(\\cos\\theta+1))b$ na 1ª eq. e substituindo na 2ª eq. obtemos \n",
    "\\begin{align}\n",
    "& e^{i\\phi}\\sin\\theta (-e^{-i\\phi}\\sin\\theta/(\\cos\\theta+1))b -(\\cos\\theta-1)b = (-\\sin^{2}\\theta-(\\cos\\theta+1)(\\cos\\theta-1))b/(\\cos\\theta+1) \\\\\n",
    "&= (-\\sin^{2}\\theta-\\cos^{2}\\theta+1)b/(\\cos\\theta+1) = 0b=0.\n",
    "\\end{align}\n",
    "Então podemos fazer $b=-e^{i\\phi}\\cos(\\theta/2)$ teremos\n",
    "\\begin{align}\n",
    "a &= \\frac{\\cos\\theta-1}{e^{i\\phi}\\sin\\theta}b = -\\frac{\\cos^{2}(\\theta/2)-\\sin^{2}(\\theta/2)-\\cos^{2}(\\theta/2)-\\sin^{2}(\\theta/2)}{e^{i\\phi}2\\sin(\\theta/2)\\cos(\\theta/2)}e^{i\\phi}\\cos(\\theta/2) \\\\\n",
    "&= \\frac{2\\sin^{2}(\\theta/2)}{2\\sin(\\theta/2)} = \\sin(\\theta/2).\n",
    "\\end{align}\n",
    "Assim\n",
    "\\begin{align}\n",
    "|n_{-}\\rangle &= \\begin{bmatrix}a\\\\b\\end{bmatrix} = \\begin{bmatrix} \\sin(\\theta/2) \\\\ -e^{i\\phi}\\cos(\\theta/2) \\end{bmatrix} \\\\\n",
    "&= \\sin(\\theta/2)\\begin{bmatrix} 1 \\\\ 0 \\end{bmatrix} + -e^{i\\phi}\\cos(\\theta/2)\\begin{bmatrix} 0 \\\\ 1 \\end{bmatrix} = \\sin(\\theta/2)|z_{+}\\rangle - e^{i\\phi}\\cos(\\theta/2)|z_{-}\\rangle.\n",
    "\\end{align}"
   ]
  },
  {
   "cell_type": "markdown",
   "metadata": {},
   "source": [
    "---\n",
    "$4.$ Verifique que se multiplicarmos o estado do sistema por uma fase global, não modificamos as probabilidades, i.e., mostre que $Pr(o_{j}|\\psi)=Pr(o_{j}|\\phi)$ para $|\\phi\\rangle:=e^{i\\xi}|\\psi\\rangle$ com $\\xi\\in\\mathbb{R}.$"
   ]
  },
  {
   "cell_type": "markdown",
   "metadata": {},
   "source": [
    "_SOL._ Substutindo na regra de Born, vem que\n",
    "\\begin{align}\n",
    "Pr(o_{j}|\\phi) &= |\\langle o_{j}|\\phi\\rangle|^{2} = |\\langle o_{j}e^{i\\xi}|\\psi\\rangle|^{2} = |e^{i\\xi}|\\cdot|\\langle o_{j}|\\psi\\rangle|^{2} \\\\\n",
    "& = 1\\cdot|\\langle o_{j}|\\psi\\rangle|^{2} = \\langle o_{j}|\\psi\\rangle|^{2} \\\\\n",
    "& = Pr(o_{j}|\\psi).\n",
    "\\end{align}"
   ]
  },
  {
   "cell_type": "markdown",
   "metadata": {},
   "source": [
    "---\n",
    "$5.$ No contexto da descrição da precessão de spin na representação de Schrödinger, obtenha o estado evoluído, as probabilidades, os valores médios e os desvios padrões considerando um campo magnético constante aplicado na direção $x$, e com o spin 1/2 preparado inicialmente em um estado genérico $|n_{+}\\rangle$.  Verifique também que $R_{x}(-\\omega t)\\hat{n}_{0}=\\hat{n}_{t}$ com $\\hat{n}_{t}=\\begin{bmatrix} \\langle\\sigma_{x}\\rangle_{\\psi_{t}} & \\langle\\sigma_{y}\\rangle_{\\psi_{t}} & \\langle\\sigma_{z}\\rangle_{\\psi_{t}} \\end{bmatrix}^{T}$."
   ]
  },
  {
   "cell_type": "markdown",
   "metadata": {},
   "source": [
    "_SOL._ Nesse caso, $H=-(\\hbar\\omega/2)\\sigma_{x} = -(\\hbar\\omega/2)|x_{+}\\rangle\\langle x_{+}| + (\\hbar\\omega/2)|x_{-}\\rangle\\langle x_{-}|.$ O operador de evolução temporal é $U_{t} = e^{-iHt/\\hbar} = e^{i\\omega t/2}|x_{+}\\rangle\\langle x_{+}| + e^{-i\\omega t/2}|x_{-}\\rangle\\langle x_{-}|.$ O estado evoluído é\n",
    "\\begin{align}\n",
    "|\\psi_{t}\\rangle &= U_{t}|\\psi_{0}\\rangle \\\\\n",
    "=& (e^{i\\omega t/2}|x_{+}\\rangle\\langle x_{+}| + e^{-i\\omega t/2}|x_{-}\\rangle\\langle x_{-}|)(\\cos(\\theta/2)|z_{+}\\rangle + e^{i\\phi}\\sin(\\theta/2)|z_{-}\\rangle) \\\\\n",
    "=& e^{i\\omega t/2}\\cos(\\theta/2)|x_{+}\\rangle\\langle x_{+}|z_{+}\\rangle + e^{i\\omega t/2}e^{i\\phi}\\sin(\\theta/2)|x_{+}\\rangle\\langle x_{+}|z_{-}\\rangle \\\\ \n",
    "&+ e^{-i\\omega t/2}\\cos(\\theta/2)|x_{-}\\rangle\\langle x_{-}|z_{+}\\rangle + e^{-i\\omega t/2}e^{i\\phi}\\sin(\\theta/2)|x_{-}\\rangle\\langle x_{-}|z_{-}\\rangle \\\\\n",
    "=& e^{i\\omega t/2}(\\cos(\\theta/2)+e^{i\\phi}\\sin(\\theta/2))|x_{+}\\rangle/\\sqrt{2} + e^{-i\\omega t/2}(\\cos(\\theta/2) - e^{i\\phi}\\sin(\\theta/2))|x_{-}\\rangle/\\sqrt{2}.\n",
    "\\end{align}"
   ]
  },
  {
   "cell_type": "markdown",
   "metadata": {},
   "source": [
    "* Para $\\sigma_{x}$ <br>\n",
    "Probabilidades\n",
    "\\begin{align}\n",
    "Pr(x_{+}|\\psi_{t}) &= |\\langle x_{+}|\\psi_{t}\\rangle|^{2} = \\left|e^{i\\omega t/2}(\\cos(\\theta/2)+e^{i\\phi}\\sin(\\theta/2))/\\sqrt{2}\\right|^{2} \\\\\n",
    "&= \\left(\\cos(\\theta/2)+e^{i\\phi}\\sin(\\theta/2)\\right)\\left(\\cos(\\theta/2)+e^{-i\\phi}\\sin(\\theta/2)\\right)/2 \\\\\n",
    "&= \\left(\\cos^{2}(\\theta/2) + \\sin(\\theta/2)\\cos(\\theta/2)(e^{i\\phi}+e^{-i\\phi}) + \\sin^{2}(\\theta/2)\\right)/2 \\\\\n",
    "&= (1 + 2\\sin(\\theta/2)\\cos(\\theta/2)\\cos(\\phi))/2 = (1 + \\sin(\\theta)\\cos(\\phi))/2.\n",
    "\\end{align}\n",
    "Valor médio\n",
    "\\begin{align}\n",
    "\\langle\\sigma_{x}\\rangle_{\\psi_{t}} &= (+1)Pr(x_{+}|\\psi_{t})+(-1)Pr(x_{-}|\\psi_{t}) \\\\\n",
    "&= (1 + \\sin(\\theta)\\cos(\\phi))/2 - (1 - \\sin(\\theta)\\cos(\\phi))/2 \\\\\n",
    "&= \\sin\\theta\\cos\\phi.\n",
    "\\end{align}\n",
    "Variância ($\\text{(desvio padrão)}^{2}$)\n",
    "\\begin{align}\n",
    "Var(\\sigma_{x}|\\psi_{t}) &= \\langle\\sigma_{x}^{2}\\rangle_{\\psi_{t}} - \\langle\\sigma_{x}\\rangle_{\\psi_{t}}^{2} = 1-\\sin^{2}(\\theta)\\cos^{2}(\\phi).\n",
    "\\end{align}"
   ]
  },
  {
   "cell_type": "markdown",
   "metadata": {},
   "source": [
    "* Para $\\sigma_{y}$ <br>\n",
    "Probabilidades (usamos o exercício 3):\n",
    "\\begin{align}\n",
    "Pr(y_{+}|\\psi_{t}) &= |\\langle y_{+}|\\psi_{t}\\rangle|^{2} \\\\\n",
    "&= \\left|e^{i\\omega t/2}(\\cos(\\theta/2)+e^{i\\phi}\\sin(\\theta/2))\\langle y_{+}|x_{+}\\rangle/\\sqrt{2} + e^{-i\\omega t/2}(\\cos(\\theta/2) - e^{i\\phi}\\sin(\\theta/2))\\langle y_{+}|x_{-}\\rangle/\\sqrt{2}\\right|^{2} \\\\\n",
    "&= \\frac{1}{8}\\left|e^{i\\omega t/2}(\\cos(\\theta/2)+e^{i\\phi}\\sin(\\theta/2))(1-i) + e^{-i\\omega t/2}(\\cos(\\theta/2) - e^{i\\phi}\\sin(\\theta/2))(1+i)\\right|^{2} \\\\\n",
    "&= \\frac{1}{8}\\left(e^{i\\omega t/2}(\\cos(\\theta/2)+e^{i\\phi}\\sin(\\theta/2))(1-i) + e^{-i\\omega t/2}(\\cos(\\theta/2) - e^{i\\phi}\\sin(\\theta/2))(1+i)\\right) \\\\\n",
    "& \\hspace{0.9cm}  \\left(e^{-i\\omega t/2}(\\cos(\\theta/2)+e^{-i\\phi}\\sin(\\theta/2))(1+i) + e^{i\\omega t/2}(\\cos(\\theta/2) - e^{-i\\phi}\\sin(\\theta/2))(1-i)\\right) \\\\\n",
    "&= \\frac{1}{8}\\big(1(1+\\sin\\theta\\cos\\phi)(1-i^{2}) + 1(1-\\sin\\theta\\cos\\phi)(1-i^{2}) \\\\\n",
    "& \\hspace{0.9cm} + e^{i\\omega t}(\\cos^{2}(\\theta/2)-\\sin^{2}(\\theta/2) + \\sin(\\theta/2)\\cos(\\theta/2)(e^{i\\phi}-e^{-i\\phi}))(1-i)^{2} \\\\\n",
    "& \\hspace{0.9cm} + e^{-i\\omega t}(\\cos^{2}(\\theta/2)-\\sin^{2}(\\theta/2) - \\sin(\\theta/2)\\cos(\\theta/2)(e^{i\\phi}-e^{-i\\phi}))(1+i)^{2}\\big) \\\\\n",
    "&= \\frac{1}{8}\\big(4 + e^{i\\omega t}(\\cos\\theta +i\\sin\\theta\\sin\\phi)(-2i) + e^{-i\\omega t}(\\cos\\theta - i\\sin\\theta\\sin\\phi)2i\\big) \\\\\n",
    "&= \\frac{1}{8}\\big(4 - 2i\\cos\\theta(e^{i\\omega t}- e^{-i\\omega t}) + 2\\sin\\theta\\sin\\phi(e^{i\\omega t}+ e^{-i\\omega t})\\big)  \\\\\n",
    "& = \\frac{1}{2}\\big(1 +\\cos\\theta\\sin(\\omega t) + \\sin\\theta\\sin\\phi\\cos(\\omega t)\\big) \n",
    "\\end{align}\n",
    "Valor médio:\n",
    "\\begin{align}\n",
    "\\langle\\sigma_{y}\\rangle_{\\psi_{t}} = \\cos\\theta\\sin(\\omega t) + \\sin\\theta\\sin\\phi\\cos(\\omega t).\n",
    "\\end{align}"
   ]
  },
  {
   "cell_type": "markdown",
   "metadata": {},
   "source": [
    "* Para $\\sigma_{z}$\n",
    "Probabilidades:\n",
    "\\begin{align}\n",
    "Pr(z_{+}|\\psi_{t}) &= |\\langle z_{+}|\\psi_{t}\\rangle|^{2} \\\\\n",
    "&= \\big|e^{i\\omega t/2}(\\cos(\\theta/2)+e^{i\\phi}\\sin(\\theta/2))\\langle z_{+}|x_{+}\\rangle/\\sqrt{2} + e^{-i\\omega t/2}(\\cos(\\theta/2) - e^{i\\phi}\\sin(\\theta/2))\\langle z_{+}|x_{-}\\rangle/\\sqrt{2}\\big|^{2} \\\\\n",
    "&= \\frac{1}{4}\\big|e^{i\\omega t/2}(\\cos(\\theta/2)+e^{i\\phi}\\sin(\\theta/2)) + e^{-i\\omega t/2}(\\cos(\\theta/2) - e^{i\\phi}\\sin(\\theta/2))\\big|^{2} \\\\\n",
    "&= \\frac{1}{4}\\big(e^{i\\omega t/2}(\\cos(\\theta/2)+e^{i\\phi}\\sin(\\theta/2)) + e^{-i\\omega t/2}(\\cos(\\theta/2) - e^{i\\phi}\\sin(\\theta/2))\\big) \\\\\n",
    "& \\hspace{1cm} \\big(e^{-i\\omega t/2}(\\cos(\\theta/2)+e^{-i\\phi}\\sin(\\theta/2)) + e^{i\\omega t/2}(\\cos(\\theta/2) - e^{-i\\phi}\\sin(\\theta/2))\\big) \\\\\n",
    "& = \\frac{1}{4}\\big( 1(1+\\sin\\theta\\cos\\phi) + 1(1-\\sin\\theta\\cos\\phi) + e^{i\\omega t}(\\cos^{2}(\\theta/2)-\\sin^{2}(\\theta/2) + \\sin(\\theta/2)\\cos(\\theta/2)(e^{i\\phi}-e^{-i\\phi})) \\\\\n",
    "&  \\hspace{1cm} + e^{-i\\omega t}(\\cos^{2}(\\theta/2)-\\sin^{2}(\\theta/2) - \\sin(\\theta/2)\\cos(\\theta/2)(e^{i\\phi}-e^{-i\\phi}))\\big) \\\\\n",
    "& = \\frac{1}{4}\\big(2 + e^{i\\omega t}(\\cos\\theta + i\\sin\\theta\\sin\\phi) + e^{-i\\omega t}(\\cos\\theta - i\\sin\\theta\\sin\\phi)\\big) \\\\\n",
    "& = \\frac{1}{4}\\big(2 + \\cos\\theta(e^{i\\omega t}+e^{-i\\omega t}) + i\\sin\\theta\\sin\\phi(e^{i\\omega t}-e^{-i\\omega t})\\big) \\\\\n",
    "& = \\frac{1}{4}\\big(2 + 2\\cos\\theta\\cos(\\omega t) - 2\\sin\\theta\\sin\\phi\\sin(\\omega t)\\big) \\\\\n",
    "& = \\frac{1}{2}\\big(1 + \\cos\\theta\\cos(\\omega t) - \\sin\\theta\\sin\\phi\\sin(\\omega t)\\big).\n",
    "\\end{align}\n",
    "Valor médion\n",
    "\\begin{align}\n",
    "\\langle\\sigma_{z}\\rangle_{\\psi_{t}} = \\cos\\theta\\cos(\\omega t) - \\sin\\theta\\sin\\phi\\sin(\\omega t).\n",
    "\\end{align}"
   ]
  },
  {
   "cell_type": "markdown",
   "metadata": {},
   "source": [
    "Por fim, podemos verificar que\n",
    "\\begin{align}\n",
    "R_{x}(-\\omega t)\\hat{n} &= \\begin{bmatrix}1&0&0 \\\\ 0&\\cos(\\omega t)&\\sin(\\omega t) \\\\ 0&-\\sin(\\omega t)&\\cos(\\omega t)\\end{bmatrix}\\begin{bmatrix}\\sin\\theta\\cos\\phi \\\\ \\sin\\theta\\sin\\phi \\\\ \\cos\\theta\\end{bmatrix} \\\\\n",
    "& = \\begin{bmatrix}\\sin\\theta\\cos\\phi \\\\ \\cos(\\omega t)\\sin\\theta\\sin\\phi+\\sin(\\omega t)\\cos\\theta \\\\ -\\sin(\\omega t)\\sin\\theta\\sin\\phi+\\cos(\\omega t)\\cos\\theta\\end{bmatrix} \\\\\n",
    "&= \\begin{bmatrix} \\langle\\sigma_{x}\\rangle_{\\psi_{t}} \\\\ \\langle\\sigma_{y}\\rangle_{\\psi_{t}} \\\\ \\langle\\sigma_{z}\\rangle_{\\psi_{t}} \\end{bmatrix} = \\hat{n}_{t}.\n",
    "\\end{align}"
   ]
  },
  {
   "cell_type": "markdown",
   "metadata": {},
   "source": [
    "---\n",
    "$6.$ Verifique a relação de comutação geral entre matrizes de Pauli: $[\\sigma_{j},\\sigma_{k}]=2i\\epsilon_{jkl}\\sigma_{l}$."
   ]
  },
  {
   "cell_type": "markdown",
   "metadata": {},
   "source": [
    "_SOL._ Usando $[A,B]=-[B,A]$ e as representações matriciais na base $\\{|z_{+}\\rangle,|z_{-}\\rangle\\}$ teremos\n",
    "\\begin{align}\n",
    "[\\sigma_{1},\\sigma_{2}] &= \\left[\\begin{bmatrix}0&1\\\\1&0\\end{bmatrix},\\begin{bmatrix}0&-i\\\\i&0\\end{bmatrix}\\right] = \\begin{bmatrix}0&1\\\\1&0\\end{bmatrix}\\begin{bmatrix}0&-i\\\\i&0\\end{bmatrix} - \\begin{bmatrix}0&-i\\\\i&0\\end{bmatrix}\\begin{bmatrix}0&1\\\\1&0\\end{bmatrix} \\\\\n",
    "&= \\begin{bmatrix}i&0\\\\0&-i\\end{bmatrix}-\\begin{bmatrix}-i&0\\\\0&i\\end{bmatrix} = 2i\\begin{bmatrix}1&0\\\\0&-1\\end{bmatrix} = 2i\\epsilon_{123}\\sigma_{3}, \\\\\n",
    "[\\sigma_{2},\\sigma_{1}] & = -[\\sigma_{1},\\sigma_{2}] = -2i\\epsilon_{123}\\sigma_{3} = 2i\\epsilon_{213}\\sigma_{3}, \\\\\n",
    "[\\sigma_{1},\\sigma_{3}] &= \\left[\\begin{bmatrix}0&1\\\\1&0\\end{bmatrix},\\begin{bmatrix}1&0\\\\0&-1\\end{bmatrix}\\right] = \\begin{bmatrix}0&1\\\\1&0\\end{bmatrix}\\begin{bmatrix}1&0\\\\0&-1\\end{bmatrix} - \\begin{bmatrix}1&0\\\\0&-1\\end{bmatrix}\\begin{bmatrix}0&1\\\\1&0\\end{bmatrix} \\\\\n",
    "&= \\begin{bmatrix}0&-1\\\\1&0\\end{bmatrix}-\\begin{bmatrix}0&1\\\\-1&0\\end{bmatrix} = -2i\\begin{bmatrix}0&-i\\\\i&0\\end{bmatrix} = 2i\\epsilon_{132}\\sigma_{2}, \\\\\n",
    "[\\sigma_{3},\\sigma_{1}] & = -[\\sigma_{1},\\sigma_{3}] = -2i\\epsilon_{132}\\sigma_{2} = 2i\\epsilon_{312}\\sigma_{2}, \\\\\n",
    "[\\sigma_{2},\\sigma_{3}] &= \\left[\\begin{bmatrix}0&-i\\\\i&0\\end{bmatrix},\\begin{bmatrix}1&0\\\\0&-1\\end{bmatrix}\\right] = \\begin{bmatrix}0&-i\\\\i&0\\end{bmatrix}\\begin{bmatrix}1&0\\\\0&-1\\end{bmatrix} - \\begin{bmatrix}1&0\\\\0&-1\\end{bmatrix}\\begin{bmatrix}0&-i\\\\i&0\\end{bmatrix} \\\\\n",
    "&= \\begin{bmatrix}0&i\\\\i&0\\end{bmatrix}-\\begin{bmatrix}0&-i\\\\-i&0\\end{bmatrix} = 2i\\begin{bmatrix}0&1\\\\1&0\\end{bmatrix} = 2i\\epsilon_{231}\\sigma_{1}, \\\\\n",
    "[\\sigma_{3},\\sigma_{2}] & = -[\\sigma_{2},\\sigma_{3}] = -2i\\epsilon_{231}\\sigma_{1} = 2i\\epsilon_{321}\\sigma_{1}.\n",
    "\\end{align}\n",
    "Claro, se $j=k$ teremos $[\\sigma_{j},\\sigma_{j}]=2i\\epsilon_{jjl}\\sigma_{l}=0.$"
   ]
  },
  {
   "cell_type": "markdown",
   "metadata": {},
   "source": [
    "---\n",
    "$7.$ Verifique que\n",
    "\\begin{cases}\n",
    "\\sigma_{x}|z_{+}\\rangle = |z_{-}\\rangle \\text{, }\\sigma_{x}|z_{-}\\rangle = |z_{+}\\rangle, \\\\\n",
    "\\sigma_{y}|z_{+}\\rangle = i|z_{-}\\rangle \\text{, }\\sigma_{y}|z_{-}\\rangle = -i|z_{+}\\rangle, \\\\\n",
    "\\sigma_{z}|z_{+}\\rangle = |z_{+}\\rangle \\text{, }\\sigma_{z}|z_{-}\\rangle = -|z_{-}\\rangle.\n",
    "\\end{cases}"
   ]
  },
  {
   "cell_type": "markdown",
   "metadata": {},
   "source": [
    "_SOL._ Usando as representações produto externo, teremos\n",
    "\\begin{align}\n",
    "\\sigma_{x}|z_{+}\\rangle &= (|z_{+}\\rangle\\langle z_{-}|+|z_{-}\\rangle\\langle z_{+}|)|z_{+}\\rangle = |z_{+}\\rangle\\langle z_{-}|z_{+}\\rangle+|z_{-}\\rangle\\langle z_{+}|z_{+}\\rangle \\\\\n",
    "&= 0+|z_{-}\\rangle, \\\\\n",
    "\\sigma_{x}|z_{-}\\rangle &= (|z_{+}\\rangle\\langle z_{-}|+|z_{-}\\rangle\\langle z_{+}|)|z_{-}\\rangle = |z_{+}\\rangle\\langle z_{-}|z_{-}\\rangle+|z_{-}\\rangle\\langle z_{+}|z_{-}\\rangle \\\\\n",
    "&= |z_{+}\\rangle +0, \\\\\n",
    "\\sigma_{y}|z_{+}\\rangle &= (-i|z_{+}\\rangle\\langle z_{-}|+i|z_{-}\\rangle\\langle z_{+}|)|z_{+}\\rangle = -i|z_{+}\\rangle\\langle z_{-}|z_{+}\\rangle+i|z_{-}\\rangle\\langle z_{+}|z_{+}\\rangle \\\\\n",
    "&= 0+i|z_{-}\\rangle, \\\\\n",
    "\\sigma_{y}|z_{-}\\rangle &= (-i|z_{+}\\rangle\\langle z_{-}|+i|z_{-}\\rangle\\langle z_{+}|)|z_{-}\\rangle = -i|z_{+}\\rangle\\langle z_{-}|z_{-}\\rangle+i|z_{-}\\rangle\\langle z_{+}|z_{-}\\rangle \\\\\n",
    "&= -i|z_{+}\\rangle +0, \\\\\n",
    "\\sigma_{z}|z_{+}\\rangle &= (|z_{+}\\rangle\\langle z_{+}|-|z_{-}\\rangle\\langle z_{-}|)|z_{+}\\rangle = |z_{+}\\rangle\\langle z_{+}|z_{+}\\rangle+|z_{-}\\rangle\\langle z_{-}|z_{+}\\rangle \\\\\n",
    "&= |z_{+}\\rangle+0, \\\\\n",
    "\\sigma_{z}|z_{-}\\rangle &= (|z_{+}\\rangle\\langle z_{+}|-|z_{-}\\rangle\\langle z_{-}|)|z_{-}\\rangle = |z_{+}\\rangle\\langle z_{+}|z_{-}\\rangle-|z_{-}\\rangle\\langle z_{-}|z_{-}\\rangle \\\\\n",
    "&= 0-|z_{-}\\rangle.\n",
    "\\end{align}"
   ]
  },
  {
   "cell_type": "markdown",
   "metadata": {},
   "source": [
    "---\n",
    "$8.$ No contexto da descrição da precessão de spin na representação de Heisenberg,  calcule probabilidades e valores médios evoluídos no tempo considerando um campo magnético constante aplicado na direção $x$, e com o spin 1/2 preparado inicialmente em um estado genérico $|n_{+}\\rangle$."
   ]
  },
  {
   "cell_type": "markdown",
   "metadata": {},
   "source": [
    "_SOL._ Temos que $H = -\\frac{\\hbar\\omega}{2}\\sigma_{x} = -\\frac{\\hbar\\omega}{2}|x_{+}\\rangle\\langle x_{+}|+\\frac{\\hbar\\omega}{2}|x_{-}\\rangle\\langle x_{-}|,$ e assim $U_{t}^{\\dagger} = e^{iHt/\\hbar} = e^{-i\\omega t/2}|x_{+}\\rangle\\langle x_{+}|+e^{i\\omega t/2}|x_{-}\\rangle\\langle x_{-}|.$\n",
    "* Componente $x$ <br>\n",
    "Usando o exercício 3, teremos que\n",
    "\\begin{align}\n",
    "|x_{+}(t)\\rangle &= U_{t}^{\\dagger}|x_{+}\\rangle = e^{-i\\omega t/2}|x_{+}\\rangle.\n",
    "\\end{align}\n",
    "Assim\n",
    "\\begin{align}\n",
    "Pr(x_{+}(t)) &= |\\langle\\psi_{0}^{S}|x_{+}(t)\\rangle|^{2} = |\\langle n_{+}|x_{+}(t)\\rangle|^{2} = \\big|(\\cos(\\theta/2)\\langle z_{+}|+e^{-i\\phi}\\sin(\\theta/2)\\langle z_{-}|)e^{-i\\omega t/2}|x_{+}\\rangle\\big|^{2} \\\\\n",
    "&= \\big|(\\cos(\\theta/2)+e^{-i\\phi}\\sin(\\theta/2)\\big|^{2} = (1+\\sin\\theta\\cos\\phi)/2.\n",
    "\\end{align}\n",
    "e \n",
    "\\begin{align}\n",
    "\\langle\\sigma_{x}(t)\\rangle = \\sin\\theta\\cos\\phi.\n",
    "\\end{align}"
   ]
  },
  {
   "cell_type": "markdown",
   "metadata": {},
   "source": [
    "* Componente $y$ <br>\n",
    "Autovetor evoluído no tempo\n",
    "\\begin{align}\n",
    "|y_{+}(t)\\rangle &= U_{t}^{\\dagger}|y_{+}\\rangle = e^{-i\\omega t/2}|x_{+}\\rangle\\langle x_{+}|y_{+}\\rangle + e^{i\\omega t/2}|x_{-}\\rangle\\langle x_{-}|y_{+}\\rangle \\\\\n",
    "& = e^{-i\\omega t/2}|x_{+}\\rangle(1+i)/2 + e^{i\\omega t/2}|x_{-}\\rangle(1-i)/2.\n",
    "\\end{align}\n",
    "Probabilidade(s)\n",
    "\\begin{align}\n",
    "Pr(y_{+}(t)) &= |\\langle n_{+}|y_{+}(t)\\rangle|^{2} \\\\\n",
    "&= \\big|(\\cos(\\theta/2)\\langle z_{+}|+e^{-i\\phi}\\sin(\\theta/2)\\langle z_{-}|)(e^{-i\\omega t/2}|x_{+}\\rangle(1+i)/2 + e^{i\\omega t/2}|x_{-}\\rangle(1-i)/2)\\big|^{2} \\\\\n",
    "&= \\frac{1}{4}\\big|\\cos(\\theta/2)e^{-i\\omega t/2}(1+i)\\langle z_{+}|x_{+}\\rangle + \\cos(\\theta/2)e^{i\\omega t/2}(1-i)\\langle z_{+}|x_{-}\\rangle \\\\\n",
    "& \\hspace{1cm} + e^{-i\\phi}\\sin(\\theta/2)e^{-i\\omega t/2}(1+i)\\langle z_{-}|x_{+}\\rangle + e^{-i\\phi}\\sin(\\theta/2)e^{i\\omega t/2}(1-i)\\langle z_{-}|x_{-}\\rangle\\big|^{2} \\\\\n",
    "&= \\frac{1}{8}\\big|(\\cos(\\theta/2)+e^{-i\\phi}\\sin(\\theta/2))e^{-i\\omega t/2}(1+i) +(\\cos(\\theta/2)-e^{-i\\phi}\\sin(\\theta/2))e^{i\\omega t/2}(1-i)\\big|^{2} \\\\\n",
    "&= \\frac{1}{8}\\big((\\cos(\\theta/2)+e^{-i\\phi}\\sin(\\theta/2))e^{-i\\omega t/2}(1+i) +(\\cos(\\theta/2)-e^{-i\\phi}\\sin(\\theta/2))e^{i\\omega t/2}(1-i)\\big) \\\\\n",
    "& \\hspace{1cm} \\big((\\cos(\\theta/2)+e^{i\\phi}\\sin(\\theta/2))e^{i\\omega t/2}(1-i) +(\\cos(\\theta/2)-e^{i\\phi}\\sin(\\theta/2))e^{-i\\omega t/2}(1+i)\\big) \\\\\n",
    "& = \\frac{1}{8}\\big((1+\\sin\\theta\\cos\\phi)(1)(1-i^{2}) + (1-\\sin\\theta\\cos\\phi)(1)(1-i^{2}) \\\\\n",
    "& \\hspace{1cm} + (\\cos\\theta-\\sin(\\theta/2)\\cos(\\theta/2)(e^{i\\phi}-e^{-i\\phi}))e^{-i\\omega t}(1+i)^{2} \\\\\n",
    "& \\hspace{1cm} + (\\cos\\theta-\\sin(\\theta/2)\\cos(\\theta/2)(e^{i\\phi}-e^{-i\\phi}))e^{i\\omega t}(1-i)^{2}\\big) \\\\\n",
    "& = \\frac{1}{8}\\big(4 + (\\cos\\theta-\\sin(\\theta/2)\\cos(\\theta/2)2i\\sin\\phi)e^{-i\\omega t}2i + (\\cos\\theta-\\sin(\\theta/2)\\cos(\\theta/2)2i\\sin\\phi)e^{i\\omega t}(-2i)\\big) \\\\\n",
    "& = \\frac{1}{8}\\big(4 + 2(i\\cos\\theta+\\sin\\theta\\sin\\phi)e^{-i\\omega t} - 2(i\\cos\\theta+\\sin\\theta\\sin\\phi)e^{i\\omega t}\\big) \\\\\n",
    "& = \\frac{1}{4}\\big(2 - i\\cos\\theta(e^{i\\omega t}-e^{-i\\omega t}) + \\sin\\theta\\sin\\phi(e^{i\\omega t}+e^{-i\\omega t})\\big) \\\\\n",
    "& = \\frac{1}{4}\\big(2 - i\\cos\\theta 2i\\sin(\\omega t) + \\sin\\theta\\sin\\phi 2\\cos(\\omega t)\\big) \\\\\n",
    "& = \\frac{1}{2}\\big(1 + \\cos\\theta\\sin(\\omega t) + \\sin\\theta\\sin\\phi\\cos(\\omega t)\\big).\n",
    "\\end{align}\n",
    "Assim\n",
    "\\begin{align}\n",
    "\\langle\\sigma_{y}(t)\\rangle =  \\cos\\theta\\sin(\\omega t) + \\sin\\theta\\sin\\phi\\cos(\\omega t).\n",
    "\\end{align}"
   ]
  },
  {
   "cell_type": "markdown",
   "metadata": {},
   "source": [
    "* Componente $z$ <br>\n",
    "Autovetor evoluído no tempo\n",
    "\\begin{align}\n",
    "|z_{+}(t)\\rangle &= U_{t}^{\\dagger}|z_{+}\\rangle = e^{-i\\omega t/2}|x_{+}\\rangle\\langle x_{+}|z_{+}\\rangle + e^{i\\omega t/2}|x_{-}\\rangle\\langle x_{-}|z_{+}\\rangle \\\\\n",
    "& = (e^{-i\\omega t/2}|x_{+}\\rangle + e^{i\\omega t/2}|x_{-}\\rangle)/\\sqrt{2}.\n",
    "\\end{align}\n",
    "Probabilidade(s)\n",
    "\\begin{align}\n",
    "Pr(z_{+}(t)) &= |\\langle n_{+}|z_{+}(t)\\rangle|^{2} \\\\\n",
    "&= \\frac{1}{2}\\big|(\\cos(\\theta/2)\\langle z_{+}|+e^{-i\\phi}\\sin(\\theta/2)\\langle z_{-}|)(e^{-i\\omega t/2}|x_{+}\\rangle + e^{i\\omega t/2}|x_{-}\\rangle)\\big|^{2} \\\\\n",
    "&= \\frac{1}{2}\\big|\\cos(\\theta/2)e^{-i\\omega t/2}\\langle z_{+}|x_{+}\\rangle + \\cos(\\theta/2)e^{i\\omega t/2}\\langle z_{+}|x_{-}\\rangle + e^{-i\\phi}\\sin(\\theta/2)e^{-i\\omega t/2}\\langle z_{-}|x_{+}\\rangle + e^{-i\\phi}\\sin(\\theta/2)e^{i\\omega t/2}\\langle z_{-}|x_{-}\\rangle\\big|^{2} \\\\\n",
    "&= \\frac{1}{4}\\big|\\cos(\\theta/2)e^{-i\\omega t/2} + \\cos(\\theta/2)e^{i\\omega t/2} + e^{-i\\phi}\\sin(\\theta/2)e^{-i\\omega t/2} - e^{-i\\phi}\\sin(\\theta/2)e^{i\\omega t/2}\\big|^{2} \\\\\n",
    "&= \\frac{1}{4}\\big|(\\cos(\\theta/2) + e^{-i\\phi}\\sin(\\theta/2))e^{-i\\omega t/2} + (\\cos(\\theta/2) - e^{-i\\phi}\\sin(\\theta/2))e^{i\\omega t/2}\\big|^{2} \\\\\n",
    "&= \\frac{1}{4}\\big(\\big((\\cos(\\theta/2) + e^{-i\\phi}\\sin(\\theta/2))e^{-i\\omega t/2} + (\\cos(\\theta/2) - e^{-i\\phi}\\sin(\\theta/2))e^{i\\omega t/2}\\big) \\\\\n",
    "& \\hspace{1.2cm}\\big((\\cos(\\theta/2) + e^{i\\phi}\\sin(\\theta/2))e^{i\\omega t/2} + (\\cos(\\theta/2) - e^{i\\phi}\\sin(\\theta/2))e^{-i\\omega t/2}\\big)\\big) \\\\\n",
    "&= \\frac{1}{4}\\big((1+\\sin\\theta\\cos\\phi) + (1-\\sin\\theta\\cos\\phi) + (\\cos\\theta-i\\sin\\theta\\sin\\phi)e^{-i\\omega t} + (\\cos\\theta+i\\sin\\theta\\sin\\phi)e^{i\\omega t}\\big) \\\\\n",
    "&= \\frac{1}{4}\\big(2 + \\cos\\theta(e^{-i\\omega t}+e^{i\\omega t}) + i\\sin\\theta\\sin\\phi(e^{i\\omega t}-e^{-i\\omega t})\\big) \\\\\n",
    "&= \\frac{1}{4}\\big(2 + 2\\cos\\theta\\cos(\\omega t) -2\\sin\\theta\\sin\\phi\\sin(\\omega t)\\big) \\\\\n",
    "&= \\frac{1}{2}\\big(1 + \\cos\\theta\\cos(\\omega t) -\\sin\\theta\\sin\\phi\\sin(\\omega t)\\big).\n",
    "\\end{align}\n",
    "Assim\n",
    "\\begin{align}\n",
    "\\langle\\sigma_{z}(t)\\rangle =  \\cos\\theta\\cos(\\omega t) -\\sin\\theta\\sin\\phi\\sin(\\omega t).\n",
    "\\end{align}"
   ]
  },
  {
   "cell_type": "markdown",
   "metadata": {},
   "source": [
    "---\n",
    "$9.$ Para $H=-\\frac{\\hbar\\omega}{2}\\sigma_{x},$ obtenha $\\langle\\sigma_{x}(t)\\rangle,\\langle\\sigma_{y}(t)\\rangle,\\langle\\sigma_{z}(t)\\rangle$ a partir da solução da equação de Heisenberg."
   ]
  },
  {
   "cell_type": "markdown",
   "metadata": {},
   "source": [
    "_SOL._ Usamos $i\\hbar\\partial_{t}O_{t}^{H}=[O_{t}^{H},H_{t}^{H}]+i\\hbar\\partial_{t}^{H}O_{t}^{S}.$ Observamos que\n",
    "$\\partial_{t}^{H}O_{t}^{S} = U_{t}^{\\dagger}(\\partial_{t}^{S}O_{t}^{S})U_{t}=U_{t}^{\\dagger}(\\mathbb{O})U_{t}=\\mathbb{O}$ pois $O_{t}^{S}=\\sigma_{j}.$ Com isso, vem que\n",
    "\\begin{align}\n",
    "i\\hbar\\partial_{t}\\sigma_{x}^{H} &= \\big[\\sigma_{x}^{H},-\\frac{\\hbar\\omega}{2}\\sigma_{x}^{H}\\big] = \\mathbb{O}, \\\\\n",
    "i\\hbar\\partial_{t}\\sigma_{y}^{H} &= \\big[\\sigma_{y}^{H},-\\frac{\\hbar\\omega}{2}\\sigma_{x}^{H}\\big] = -\\frac{\\hbar\\omega}{2}\\big[\\sigma_{2}^{H},\\sigma_{1}^{H}\\big] = -\\frac{\\hbar\\omega}{2}2i\\epsilon_{213}\\sigma_{3}^{H} = i\\hbar\\omega\\sigma_{3}^{H}, \\\\\n",
    "i\\hbar\\partial_{t}\\sigma_{z}^{H} &= \\big[\\sigma_{z}^{H},-\\frac{\\hbar\\omega}{2}\\sigma_{x}^{H}\\big] = -\\frac{\\hbar\\omega}{2}\\big[\\sigma_{3}^{H},\\sigma_{1}^{H}\\big] = -\\frac{\\hbar\\omega}{2}2i\\epsilon_{312}\\sigma_{2}^{H} = -i\\hbar\\omega\\sigma_{2}^{H}.\n",
    "\\end{align}\n",
    "Assim $\\sigma_{x}^{H}(t)=\\sigma_{x}^{H}(0)=\\sigma_{x}^{S}.$ As outras 2 eqs. são acopladas:\n",
    "\\begin{cases}\n",
    "\\partial_{t}\\sigma_{y}^{H} = \\omega\\sigma_{z}^{H}, \\\\\n",
    "\\partial_{t}\\sigma_{z}^{H} = -\\omega\\sigma_{y}^{H},\n",
    "\\end{cases}\n",
    "cuja solução é\n",
    "\\begin{cases}\n",
    "\\sigma_{y}^{H}(t) = \\cos(\\omega t)\\sigma_{y}^{H}(0) + \\sin(\\omega t)\\sigma_{z}^{S}(0) = \\cos(\\omega t)\\sigma_{y}^{S} + \\sin(\\omega t)\\sigma_{z}^{S}, \\\\\n",
    "\\sigma_{z}^{H}(t) = -\\sin(\\omega t)\\sigma_{y}^{H}(0) + \\cos(\\omega t)\\sigma_{z}^{H}(0) = -\\sin(\\omega t)\\sigma_{y}^{S} + \\cos(\\omega t)\\sigma_{z}^{S}.\n",
    "\\end{cases}\n",
    "Com isso, obteremos os seguintes valores médios\n",
    "\\begin{align}\n",
    "\\langle\\sigma_{x}(t)\\rangle &= \\langle n_{+}|\\sigma_{x}^{H}(t)|n_{+}\\rangle = \\langle n_{+}|\\sigma_{x}^{H}(0)|n_{+}\\rangle = \\sin\\theta\\cos\\phi, \\\\\n",
    "\\langle\\sigma_{y}(t)\\rangle &= \\langle n_{+}|\\sigma_{y}^{H}(t)|n_{+}\\rangle = \\cos(\\omega t)\\langle\\sigma_{y}^{S}\\rangle + \\sin(\\omega t)\\langle\\sigma_{z}^{S}\\rangle = \\cos(\\omega t)\\sin\\theta\\sin\\phi + \\sin(\\omega t)\\cos\\theta, \\\\\n",
    "\\langle\\sigma_{z}(t)\\rangle &= \\langle n_{+}|\\sigma_{z}^{H}(t)|n_{+}\\rangle = -\\sin(\\omega t)\\langle\\sigma_{y}^{S}\\rangle + \\cos(\\omega t)\\langle\\sigma_{z}^{S}\\rangle = -\\sin(\\omega t)\\sin\\theta\\cos\\phi + \\cos(\\omega t)\\cos\\theta.\n",
    "\\end{align}"
   ]
  },
  {
   "cell_type": "markdown",
   "metadata": {},
   "source": [
    "---\n",
    "$10.$ As três componentes do momento angular de spin de uma partícula de spin $1$ são representadas pelos seguintes operadores Hermitianos:\n",
    "\\begin{equation}\n",
    "S_{x} = \\frac{\\hbar}{\\sqrt{2}}\\begin{bmatrix} 0 & 1 & 0 \\\\ 1 & 0 & 1 \\\\ 0 & 1 & 0 \\end{bmatrix}\\text{, }\n",
    "S_{y} = \\frac{\\hbar}{\\sqrt{2}}\\begin{bmatrix} 0 & -i & 0 \\\\ i & 0 & -i \\\\ 0 & i & 0 \\end{bmatrix}\\text{, }\n",
    "S_{z} = \\hbar\\begin{bmatrix} 1 & 0 & 0 \\\\ 0 & 0 & 0 \\\\ 0 & 0 & -1 \\end{bmatrix}. \\\\\n",
    "\\end{equation}\n",
    "Essas matrizes tem espectro de autovalores $-\\hbar,0,+\\hbar$. Os autovetores normalizados de $S_{x}$ são\n",
    "\\begin{equation}\n",
    "|x_{-\\hbar}\\rangle = \\frac{1}{2}\\begin{bmatrix} 1 \\\\ -\\sqrt{2} \\\\ 1 \\end{bmatrix}\\text{, }\n",
    "|x_{0}\\rangle = \\frac{1}{\\sqrt{2}}\\begin{bmatrix} -1 \\\\ 0 \\\\ 1 \\end{bmatrix}\\text{, }\n",
    "|x_{+\\hbar}\\rangle = \\frac{1}{2}\\begin{bmatrix} 1 \\\\ \\sqrt{2} \\\\ 1 \\end{bmatrix}.\n",
    "\\end{equation}\n",
    "Dito que a componente do spin dessa partícula na direção $x$ foi medida e que foi obtido o valor $0$, calcule as probabilidades dos diferentes valores de $S_{z}$."
   ]
  },
  {
   "cell_type": "markdown",
   "metadata": {},
   "source": [
    "_SOL._ O estado preparado foi $|x_{0}\\rangle$. É facil ver que os autovetores de $S_{z}$ são\n",
    "\\begin{equation}\n",
    "|z_{-\\hbar}\\rangle = \\begin{bmatrix} 0 \\\\ 0 \\\\ 1 \\end{bmatrix}\\text{, }\n",
    "|z_{0}\\rangle = \\begin{bmatrix} 0 \\\\ 1 \\\\ 0 \\end{bmatrix}\\text{, }\n",
    "|z_{+\\hbar}\\rangle = \\begin{bmatrix} 1 \\\\ 0 \\\\ 0 \\end{bmatrix}.\n",
    "\\end{equation}\n",
    "Então, aplicando a regra de Born, teremos\n",
    "\\begin{align}\n",
    "Pr(z_{-\\hbar}|x_{0}) & = |\\langle z_{-\\hbar}|x_{0}\\rangle|^{2} = 1/2, \\\\\n",
    "Pr(z_{0}|x_{0}) & = |\\langle z_{0}|x_{0}\\rangle|^{2} = 0, \\\\\n",
    "Pr(z_{+\\hbar}|x_{0}) & = |\\langle z_{+\\hbar}|x_{0}\\rangle|^{2} = 1/2 .\n",
    "\\end{align}"
   ]
  },
  {
   "cell_type": "markdown",
   "metadata": {},
   "source": [
    "---\n",
    "$11.$ Dado que os autovetores de $S_{y}$ são\n",
    "\\begin{equation}\n",
    "|y_{-\\hbar}\\rangle = \\frac{1}{2}\\begin{bmatrix} -1 \\\\ i\\sqrt{2} \\\\ 1 \\end{bmatrix}\\text{, }\n",
    "|y_{0}\\rangle = \\frac{1}{\\sqrt{2}}\\begin{bmatrix} 1 \\\\ 0 \\\\ 1 \\end{bmatrix}\\text{, }\n",
    "|y_{+\\hbar}\\rangle = \\frac{1}{2}\\begin{bmatrix} -1 \\\\ -i\\sqrt{2} \\\\ 1 \\end{bmatrix},\n",
    "\\end{equation}\n",
    "considere uma partícula de spin $1$ sujeita a um campo magnético constante na direção $z$ positiva e preparada inicialmente no estado $|y_{0}\\rangle$. Calcule o estado evoluído no tempo, $|\\psi_{t}\\rangle$, e a probabilidade  $Pr(y_{0}|\\psi_{t})$."
   ]
  },
  {
   "cell_type": "markdown",
   "metadata": {},
   "source": [
    "_SOL._ Colocando todas as constantes que aparecem no Hamiltoniano quantizado em $\\omega$, teremos $H=-\\vec{\\mu}\\cdot\\vec{B}=-\\omega S_{z}=-\\omega \\hbar\\begin{bmatrix} 1 & 0 & 0 \\\\ 0 & 0 & 0 \\\\ 0 & 0 & -1 \\end{bmatrix}$. Como o Hamiltoniano é independente do tempo, podemos escrever\n",
    "\\begin{align}\n",
    "U_{t} & = e^{-iHt/\\hbar} = e^{\\sum_{j}(-iE_{j}t/\\hbar)|E_{j}\\rangle\\langle E_{j}|} = \\sum_{j}e^{-iE_{j}t/\\hbar}|E_{j}\\rangle\\langle E_{j}| \\\\\n",
    "& = e^{-i\\hbar\\omega t/\\hbar}|z_{-\\hbar}\\rangle\\langle z_{-\\hbar}| + e^{-i0/\\hbar}|z_{0}\\rangle\\langle z_{0}| + e^{i\\hbar\\omega t/\\hbar}|z_{\\hbar}\\rangle\\langle z_{\\hbar}| \\\\\n",
    "& = e^{-i\\omega t}|z_{-\\hbar}\\rangle\\langle z_{-\\hbar}| + |z_{0}\\rangle\\langle z_{0}| + e^{i\\omega t}|z_{\\hbar}\\rangle\\langle z_{\\hbar}|.\n",
    "\\end{align}\n",
    "Assim o estado evoluído será\n",
    "\\begin{align}\n",
    "|\\psi_{t}\\rangle & = U_{t}|y_{0}\\rangle \\\\\n",
    "& = e^{-i\\omega t}|z_{-\\hbar}\\rangle\\langle z_{-\\hbar}|y_{0}\\rangle + |z_{0}\\rangle\\langle z_{0}|y_{0}\\rangle + e^{i\\omega t}|z_{\\hbar}\\rangle\\langle z_{\\hbar}|y_{0}\\rangle \\\\\n",
    "& = e^{-i\\omega t}|z_{-\\hbar}\\rangle(1/\\sqrt{2}) + |z_{0}\\rangle(0) + e^{i\\omega t}|z_{\\hbar}\\rangle(1/\\sqrt{2}) \\\\\n",
    "& = 2^{-1/2}\\left(e^{-i\\omega t}|z_{-\\hbar}\\rangle + e^{i\\omega t}|z_{\\hbar}\\rangle\\right).\n",
    "\\end{align}\n",
    "Por fim\n",
    "\\begin{align}\n",
    "Pr(y_{0}|\\psi_{t}) & = |\\langle y_{0}|\\psi_{t}\\rangle|^{2} \\\\\n",
    "& = 2^{-1}|e^{-i\\omega t}\\langle y_{0}|z_{-\\hbar}\\rangle + e^{i\\omega t}\\langle y_{0}|z_{\\hbar}\\rangle|^{2} \\\\\n",
    "& = 2^{-1}|e^{-i\\omega t}(2^{-1/2}) + e^{i\\omega t}(2^{-1/2})|^{2} \\\\\n",
    "& = 2^{-2}|2\\cos\\omega t|^{2} \\\\\n",
    "& = \\cos^{2}\\omega t.\n",
    "\\end{align}"
   ]
  },
  {
   "cell_type": "markdown",
   "metadata": {},
   "source": [
    "---\n",
    "$12.$ Considere uma partícula de spin $s=2$, cujas componentes são descritas pelas seguintes matrizes Hermitianas:\n",
    "\\begin{equation}\n",
    "S_{x}=\\frac{\\hbar}{2}\\begin{bmatrix} 0 & 2 & 0 & 0 & 0 \\\\ 2 & 0 & \\sqrt{6} & 0 & 0 \\\\ 0 & \\sqrt{6} & 0 & \\sqrt{6} & 0 \\\\ 0 & 0 & \\sqrt{6} & 0 & 2 \\\\ 0 & 0 & 0 & 2 & 0 \\end{bmatrix} \\text{, } S_{y}=\\frac{\\hbar}{2}\\begin{bmatrix} 0 & -2i & 0 & 0 & 0 \\\\ 2i & 0 & -\\sqrt{6}i & 0 & 0 \\\\ 0 & \\sqrt{6}i & 0 & -\\sqrt{6}i & 0 \\\\ 0 & 0 & \\sqrt{6}i & 0 & -2i \\\\ 0 & 0 & 0 & 2i & 0 \\end{bmatrix}\\text{, } S_{z}=\\hbar\\begin{bmatrix} 2 & 0 & 0 & 0 & 0 \\\\ 0 & 1 & 0 & 0 & 0 \\\\ 0 & 0 & 0 & 0 & 0 \\\\ 0 & 0 & 0 & -1 & 0 \\\\ 0 & 0 & 0 & 0 & -2 \\end{bmatrix}.\n",
    "\\end{equation}\n",
    "Considere que a componente $x$ desse spin foi medida e que se obteve o valor $2\\hbar$, cujo autovetor correspondente é $|x_{2\\hbar}\\rangle=\\begin{bmatrix} 1 & 2 & \\sqrt{6} & 2 & 1 \\end{bmatrix}^{T}/4$. Se a componente $z$ for medida na sequência, quais são as probabilidades para os seus possíveis valores?"
   ]
  },
  {
   "cell_type": "markdown",
   "metadata": {},
   "source": [
    "_SOL._ Vemos facilmente que os autovetores de $S_{z}$ são os vetores da base padrão de $\\mathbb{C}^{5}$. A probabilidade dos seus possíveis valores é dada pela regra de Born: $Pr(S_{z}=z|x_{2\\hbar})=|\\langle z|x_{2\\hbar}\\rangle|^{2}$. Podemos usar a decomposição $|x_{2\\hbar}\\rangle=(1/4)|z_{2\\hbar}\\rangle+(2/4)|z_{\\hbar}\\rangle+(\\sqrt{6}/4)|z_{0}\\rangle+(2/4)|z_{-\\hbar}\\rangle+(1/4)|z_{-2\\hbar}\\rangle$  para obter:\n",
    "\\begin{align}\n",
    "& Pr(S_{z}=2\\hbar|x_{2\\hbar}) = |\\langle z_{2\\hbar}|x_{2\\hbar}\\rangle|^{2} = |1/4|^{2} = 1/16, \\\\\n",
    "& Pr(S_{z}=1\\hbar|x_{2\\hbar}) = |\\langle z_{1\\hbar}|x_{2\\hbar}\\rangle|^{2} = |2/4|^{2} = 1/4, \\\\\n",
    "& Pr(S_{z}=0|x_{2\\hbar}) = |\\langle z_{0}|x_{2\\hbar}\\rangle|^{2} = |\\sqrt{6}/4|^{2} = 3/8, \\\\\n",
    "& Pr(S_{z}=-\\hbar|x_{2\\hbar}) = |\\langle z_{-\\hbar}|x_{2\\hbar}\\rangle|^{2} = |2/4|^{2} = 1/4, \\\\\n",
    "& Pr(S_{z}=-2\\hbar|x_{2\\hbar}) = |\\langle z_{-2\\hbar}|x_{2\\hbar}\\rangle|^{2} = |1/4|^{2} = 1/16.\n",
    "\\end{align}"
   ]
  },
  {
   "cell_type": "code",
   "execution_count": 4,
   "metadata": {},
   "outputs": [
    {
     "data": {
      "image/png": "[encoded data removed]",
      "text/latex": [
       "$\\displaystyle \\left[ \\left( 0, \\  1, \\  \\left[ \\left[\\begin{matrix}1\\\\0\\\\- \\frac{\\sqrt{6}}{3}\\\\0\\\\1\\end{matrix}\\right]\\right]\\right), \\  \\left( - 2 \\hbar, \\  1, \\  \\left[ \\left[\\begin{matrix}1\\\\-2\\\\\\sqrt{6}\\\\-2\\\\1\\end{matrix}\\right]\\right]\\right), \\  \\left( - \\hbar, \\  1, \\  \\left[ \\left[\\begin{matrix}-1\\\\1\\\\0\\\\-1\\\\1\\end{matrix}\\right]\\right]\\right), \\  \\left( \\hbar, \\  1, \\  \\left[ \\left[\\begin{matrix}-1\\\\-1\\\\0\\\\1\\\\1\\end{matrix}\\right]\\right]\\right), \\  \\left( 2 \\hbar, \\  1, \\  \\left[ \\left[\\begin{matrix}1\\\\2\\\\\\sqrt{6}\\\\2\\\\1\\end{matrix}\\right]\\right]\\right)\\right]$"
      ],
      "text/plain": [
       "⎡⎛      ⎡⎡ 1  ⎤⎤⎞                                                             \n",
       "⎢⎜      ⎢⎢    ⎥⎥⎟  ⎛         ⎡⎡1 ⎤⎤⎞  ⎛       ⎡⎡-1⎤⎤⎞  ⎛      ⎡⎡-1⎤⎤⎞  ⎛      \n",
       "⎢⎜      ⎢⎢ 0  ⎥⎥⎟  ⎜         ⎢⎢  ⎥⎥⎟  ⎜       ⎢⎢  ⎥⎥⎟  ⎜      ⎢⎢  ⎥⎥⎟  ⎜      \n",
       "⎢⎜      ⎢⎢    ⎥⎥⎟  ⎜         ⎢⎢-2⎥⎥⎟  ⎜       ⎢⎢1 ⎥⎥⎟  ⎜      ⎢⎢-1⎥⎥⎟  ⎜      \n",
       "⎢⎜      ⎢⎢-√6 ⎥⎥⎟  ⎜         ⎢⎢  ⎥⎥⎟  ⎜       ⎢⎢  ⎥⎥⎟  ⎜      ⎢⎢  ⎥⎥⎟  ⎜      \n",
       "⎢⎜0, 1, ⎢⎢────⎥⎥⎟, ⎜-2⋅h̅, 1, ⎢⎢√6⎥⎥⎟, ⎜-h̅, 1, ⎢⎢0 ⎥⎥⎟, ⎜h̅, 1, ⎢⎢0 ⎥⎥⎟, ⎜2⋅h\n",
       "⎢⎜      ⎢⎢ 3  ⎥⎥⎟  ⎜         ⎢⎢  ⎥⎥⎟  ⎜       ⎢⎢  ⎥⎥⎟  ⎜      ⎢⎢  ⎥⎥⎟  ⎜      \n",
       "⎢⎜      ⎢⎢    ⎥⎥⎟  ⎜         ⎢⎢-2⎥⎥⎟  ⎜       ⎢⎢-1⎥⎥⎟  ⎜      ⎢⎢1 ⎥⎥⎟  ⎜      \n",
       "⎢⎜      ⎢⎢ 0  ⎥⎥⎟  ⎜         ⎢⎢  ⎥⎥⎟  ⎜       ⎢⎢  ⎥⎥⎟  ⎜      ⎢⎢  ⎥⎥⎟  ⎜      \n",
       "⎢⎜      ⎢⎢    ⎥⎥⎟  ⎝         ⎣⎣1 ⎦⎦⎠  ⎝       ⎣⎣1 ⎦⎦⎠  ⎝      ⎣⎣1 ⎦⎦⎠  ⎝      \n",
       "⎣⎝      ⎣⎣ 1  ⎦⎦⎠                                                             \n",
       "\n",
       "         ⎤\n",
       "  ⎡⎡1 ⎤⎤⎞⎥\n",
       "  ⎢⎢  ⎥⎥⎟⎥\n",
       "  ⎢⎢2 ⎥⎥⎟⎥\n",
       "  ⎢⎢  ⎥⎥⎟⎥\n",
       "̅, 1, ⎢⎢√6⎥⎥⎟⎥\n",
       "  ⎢⎢  ⎥⎥⎟⎥\n",
       "  ⎢⎢2 ⎥⎥⎟⎥\n",
       "  ⎢⎢  ⎥⎥⎟⎥\n",
       "  ⎣⎣1 ⎦⎦⎠⎥\n",
       "         ⎦"
      ]
     },
     "execution_count": 4,
     "metadata": {},
     "output_type": "execute_result"
    }
   ],
   "source": [
    "from sympy import symbols, Matrix, sqrt, init_printing\n",
    "init_printing(use_unicode=True)\n",
    "hb = symbols('hbar')\n",
    "Sx = (hb/2)*Matrix([[0,2,0,0,0],[2,0,sqrt(6),0,0],[0,sqrt(6),0,sqrt(6),0],[0,0,sqrt(6),0,2],[0,0,0,2,0]])\n",
    "Sy = (hb/2)*Matrix([[0,-2*1j,0,0,0],[2*1j,0,-sqrt(6)*1j,0,0],[0,sqrt(6)*1j,0,-sqrt(6)*1j,0],[0,0,sqrt(6)*1j,0,-2*1j],[0,0,0,2*1j,0]])\n",
    "Sz = (hb/2)*Matrix([[2,0,0,0,0],[0,1,0,0,0],[0,0,0,0,0],[0,0,0,-1,0],[0,0,0,0,-2]])\n",
    "Sx.eigenvects()"
   ]
  },
  {
   "cell_type": "markdown",
   "metadata": {},
   "source": [
    "---\n",
    "$13.$ Para os estados de polarização da luz (direções de oscilação do campo elétrico) teremos o análogo do que vimos para as componentes do momento magnético intrínseco de uma partícula de spin 1/2, i.e., a base ortonormal de autovetores de $\\sigma_{z}$ é $\\{|\\leftrightarrow\\rangle,|\\updownarrow\\rangle\\}$ (polarizações horizontal e vertical), a base ortonormal de autovetores de $\\sigma_{x}$ é $\\{|\\nearrow\\rangle=(|\\leftrightarrow\\rangle+|\\updownarrow\\rangle)/\\sqrt{2},|\\nwarrow\\rangle=(|\\leftrightarrow\\rangle-|\\updownarrow\\rangle)/\\sqrt{2}\\}$ (polarizações diagonal direita e diagonal esquerda) e a base ortonormal de autovetores de $\\sigma_{y}$ é $\\{|\\circlearrowright\\rangle=(|\\leftrightarrow\\rangle+i|\\updownarrow\\rangle)/\\sqrt{2},|\\circlearrowleft\\rangle=(|\\leftrightarrow\\rangle-i|\\updownarrow\\rangle)/\\sqrt{2}\\}$ (polarizações circular direita e circular esquerda). Considere analisadores de polarização $P_{x},P_{y},P_{z}$, que fazem o processo de medida análogo ao feito pelos aparelhos de Stern-Gerlach $SG_{x},SG_{y},SG_{z}$, respectivamente. Calcule as probabilidades para os possíveis resultados das seguintes sequências de preparações e medidas:\n",
    "\\begin{align}\n",
    "(a) \\hspace{1cm} & |\\leftrightarrow\\rangle \\hspace{0.3cm} \\underrightarrow{P_{z}} \\hspace{0.3cm} |?\\rangle \\text{;}\\\\\n",
    "(b) \\hspace{1cm} & |\\leftrightarrow\\rangle \\hspace{0.3cm} \\underrightarrow{P_{z}} \\hspace{0.3cm} |?\\rangle \\hspace{0.3cm} \\underrightarrow{P_{x}} \\hspace{0.3cm} |?\\rangle \\text{;} \\\\\n",
    "(c) \\hspace{1cm} & |\\leftrightarrow\\rangle \\hspace{0.3cm} \\underrightarrow{P_{z}} \\hspace{0.3cm} |?\\rangle \\hspace{0.3cm} \\underrightarrow{P_{x}} \\hspace{0.3cm} |?\\rangle \\hspace{0.3cm} \\underrightarrow{P_{y}} \\hspace{0.3cm} |?\\rangle.\n",
    "\\end{align}"
   ]
  },
  {
   "cell_type": "markdown",
   "metadata": {},
   "source": [
    "_SOL._ (a) Usando a regra de Born, obteremos $\\leftrightarrow$ com probabilidade $Pr(\\leftrightarrow)=|\\langle\\leftrightarrow|\\leftrightarrow\\rangle|^{2}=1$ e $\\updownarrow$ com probabilidade $Pr(\\updownarrow)=|\\langle\\leftrightarrow|\\updownarrow\\rangle|^{2}=0$. <br>\n",
    "(b) Do item anterior, sabemos que o estado depois da medida $P_{z}$ é $|\\leftrightarrow\\rangle$. Ao medirmos $P_{x}$ obteremos $\\nearrow$ com probabilidade $Pr(\\nearrow)=|\\langle\\leftrightarrow|\\nearrow\\rangle|^{2}=|\\langle\\leftrightarrow|(|\\leftrightarrow\\rangle+|\\updownarrow\\rangle)/\\sqrt{2}|^{2}=1/2$. Para a outra possibilidade, $\\nwarrow$, teremos $Pr(\\nwarrow)=1-Pr(\\nearrow)=1/2$. <br>\n",
    "(c) Do item anterior temos duas possibilidades de estados pós medida $P_{x}$: $|\\nearrow\\rangle$ com probabilidade $1/2$ e $|\\nwarrow\\rangle$ também com probabilidade $1/2$. Teremos assim que para cada um dos resultados possíveis da medida $P_x$ teremos as seguintes probabilidades para a medida $P_y$:\n",
    "\\begin{align}\n",
    "Pr(\\circlearrowright|\\nearrow) & = |\\langle\\circlearrowright|\\nearrow\\rangle|^2 = |\\big((|\\langle\\leftrightarrow|+i\\langle\\updownarrow|)/\\sqrt{2}\\big)\\big((|\\leftrightarrow\\rangle+|\\updownarrow\\rangle)/\\sqrt{2}\\big)|^2 = \\frac{1}{4}|(1+i)|^2 = 1/2; \\\\\n",
    "Pr(\\circlearrowleft|\\nearrow) & = 1-Pr(\\circlearrowright|\\nearrow) = 1/2; \\\\\n",
    "Pr(\\circlearrowright|\\nwarrow) & = |\\langle\\circlearrowright|\\nwarrow\\rangle|^2 = |\\big((|\\langle\\leftrightarrow|+i\\langle\\updownarrow|)/\\sqrt{2}\\big)\\big((|\\leftrightarrow\\rangle-|\\updownarrow\\rangle)/\\sqrt{2}\\big)|^2 = \\frac{1}{4}|(1-i)|^2 = 1/2; \\\\\n",
    "Pr(\\circlearrowleft|\\nwarrow) & = 1-Pr(\\circlearrowright|\\nwarrow) = 1/2.\n",
    "\\end{align}"
   ]
  },
  {
   "cell_type": "markdown",
   "metadata": {},
   "source": [
    "---\n",
    "$14.$ Se spins 3/2 vindos de um forno passam por um gradiente efetivo de campo magnético na direção $\\hat{x}$ (lembre que nesse caso temos efetivamente $\\langle\\vec{F}\\rangle=\\langle(-\\vec{\\nabla}U)\\rangle=\\langle(-\\vec{\\nabla}(-\\vec{\\mu}\\cdot\\vec{B}))\\rangle\\propto \\mu_x$), em quantas direções diferentes eles podem ser desviados? Se um desses spins foi desviado pra cima na direção $\\hat{x}$ com o maior ângulo de desvio possível, em que estado quântico $|\\psi\\rangle$ esse spin foi preparado? Se fizermos esse spin, preparado inicialmente nesse estado $|\\psi\\rangle$, passar novamente por um gradiente efetivo de campo magnético na direção $\\hat{x}$, qual será o estado $|\\phi\\rangle$ do spin depois da interação com o gradiente de campo magnético? Se fizermos o spin 3/2 preparado nesse estado $|\\phi\\rangle$ passar por um gradiente efetivo de campo magnético na direção $\\hat{y}$, qual é a probabilidade do spin ter o maior ângulo possível de desvio nessa direção?"
   ]
  },
  {
   "cell_type": "markdown",
   "metadata": {},
   "source": [
    "_SOL._ São quatro possibilidades de desvio, pois para $s=3/2$ existem quatro valores possíveis da componente do spin na direção $\\hat{x}$, pois $m_x=-3/2,-1/2,1/2,3/2$, e a força depende linearmente desses valores.\n",
    "\n",
    "Para o maior desvio, o estado preparado será \n",
    "$$|\\psi\\rangle = |x_{3/2}\\rangle,$$\n",
    "pois esse autovetor corresponde ao maior autovalor de $S_x$, que corresponde ao maior valor possível da componente de $\\vec{S}$ na direção $x$. \n",
    "\n",
    "Como o gradiente efetivo de campo magnético na direção $\\hat{x}$ mede o observável $S_x$ e $|x_{3/2}\\rangle$ é autovetor desse observável, pela suposição de repetibilidade obteremos o mesmo resultado, ou seja, o estado depois da nova interação com o gradiente de campo magnético continuará sendo \n",
    "$$|\\phi\\rangle=|x_{3/2}\\rangle.$$\n",
    "\n",
    "Identificado o estado preparado, $|\\phi\\rangle=|x_{3/2}\\rangle,$ e o autovetor do observável sendo medido, $|y_{3/2}\\rangle$, a probabilidade é dada pela regra de Born\n",
    "\\begin{align}\n",
    "Pr(y_{3/2}|\\phi) & = Pr(y_{3/2}|x_{3/2}) = |\\langle y_{3/2}|x_{3/2}\\rangle|^2 = | |y_{3/2}\\rangle^\\dagger |x_{3/2}\\rangle|^2 \\\\\n",
    "& = \\left|\\sqrt{\\frac{1}{8}}\\begin{bmatrix}-i&-\\sqrt{3}&i\\sqrt{3}&1\\end{bmatrix}\\sqrt{\\frac{1}{8}}\\begin{bmatrix}1\\\\\\sqrt{3}\\\\\\sqrt{3}\\\\1\\end{bmatrix}\\right|^2 \\\\\n",
    "& = \\frac{1}{64}\\left|(-i-3+3i+1)\\right|^2 = \\frac{1}{64}\\left|2(i-1)\\right|^2 \\\\\n",
    "& = \\frac{4}{64}(i-1)(-i-1) = \\frac{1}{16}(1-i+i+1) \\\\\n",
    "& = \\frac{1}{8}.\n",
    "\\end{align}"
   ]
  },
  {
   "cell_type": "markdown",
   "metadata": {},
   "source": [
    "---\n",
    "$15.$ Considere o quanton de spin 3/2 sujeito a um campo magnético constante, no tempo e no espaço, na direção $\\hat{z}$, o que efetivamente nos fornece um hamiltoniano $H=-\\omega S_z$. Considere o spin 3/2 preparado inicialmente no estado $|\\psi\\rangle$ da questão $14$. Calcule o estado do spin 3/2 em um instante de tempo $t$ qualquer, seguindo a representação de Schrödinger da dinâmica quântica."
   ]
  },
  {
   "cell_type": "markdown",
   "metadata": {},
   "source": [
    "_SOL._ Como o hamiltoniano é idenpendente do tempo, podemos usar o seguinte operador de evolução temporal:\n",
    "$$U_t = e^{-iHt/\\hbar} = e^{-i(-\\omega S_z)t/\\hbar} = e^{i\\omega S_z t/\\hbar}.$$\n",
    "Teremos assim o estado evoluído no tempo:\n",
    "\\begin{align}\n",
    "|\\psi_t\\rangle & = U_t|\\psi_0\\rangle \\\\\n",
    "& = e^{i\\omega S_z t/\\hbar}|x_{3/2}\\rangle \\\\\n",
    "& = e^{i\\omega S_z t/\\hbar}\\frac{1}{\\sqrt{8}}\\big(|z_{3/2}\\rangle + \\sqrt{3}|z_{1/2}\\rangle + \\sqrt{3}|z_{-1/2}\\rangle + |z_{-3/2}\\rangle\\big) \\\\\n",
    "& = \\frac{1}{\\sqrt{8}}\\big(e^{i\\omega S_z t/\\hbar}|z_{3/2}\\rangle + \\sqrt{3}e^{i\\omega S_z t/\\hbar}|z_{1/2}\\rangle + \\sqrt{3}e^{i\\omega S_z t/\\hbar}|z_{-1/2}\\rangle + e^{i\\omega S_z t/\\hbar}|z_{-3/2}\\rangle\\big) \\\\\n",
    "& = \\frac{1}{\\sqrt{8}}\\big(e^{i\\omega(3\\hbar/2)t/\\hbar}|z_{3/2}\\rangle +e^{i\\omega(\\hbar/2)t/\\hbar} \\sqrt{3}|z_{1/2}\\rangle + e^{i\\omega(-\\hbar/2)t/\\hbar}\\sqrt{3}|z_{-1/2}\\rangle + e^{i\\omega(-3\\hbar/2)t/\\hbar}|z_{-3/2}\\rangle\\big) \\\\\n",
    "& = \\frac{1}{\\sqrt{8}}\\big(e^{3i\\omega t/2}|z_{3/2}\\rangle +e^{i\\omega t/2} \\sqrt{3}|z_{1/2}\\rangle + e^{-i\\omega t/2}\\sqrt{3}|z_{-1/2}\\rangle + e^{-3i\\omega t/2}|z_{-3/2}\\rangle\\big). \\\\\n",
    "\\end{align}\n",
    "Acima usamos a ação de uma função de operador em seus autovetores: $f(cA)|a_j\\rangle = f(ca_j)|a_j\\rangle$, para $A|a_j\\rangle=a_j|a_j\\rangle$ e $c\\in\\mathbb{C}.$"
   ]
  },
  {
   "cell_type": "markdown",
   "metadata": {},
   "source": [
    "---\n",
    "$16.$ Considerando o mesmo hamiltoniano da questão $15$, na representação de Heisenberg, usando a equação de Heisenberg, calcule $S_x^H(t)$, $S_y^H(t)$ e $S_z^H(t)$. Dica: $[S_x^H,S_z^H]=-i\\hbar S_y^H$, $[S_y^H,S_z^H]=i\\hbar S_x^H$."
   ]
  },
  {
   "cell_type": "markdown",
   "metadata": {},
   "source": [
    "_SOL._ Pela equação de Heisenberg temos que\n",
    "\\begin{align}\n",
    "i\\hbar\\partial_t S_x^H(t) & = [S_x^H(t),H_t^H] = [S_x^H(t),-\\omega S_z^H(t)] \\\\\n",
    "&  = -\\omega[S_x^H(t), S_z^H(t)] = -\\omega (-i\\hbar S_y^H(t)) \\\\\n",
    "& = i\\hbar\\omega S_y^H(t), \\\\\n",
    "i\\hbar\\partial_t S_y^H(t) & = [S_y^H(t),H_t^H] = [S_y^H(t),-\\omega S_z^H(t)] \\\\\n",
    "& = -\\omega[S_y^H(t), S_z^H(t)] = -\\omega (i\\hbar S_x^H(t)) \\\\\n",
    "& = -i\\hbar\\omega S_x^H(t), \\\\\n",
    "i\\hbar\\partial_t S_z^H(t) & = [S_z^H(t),H_t^H] = [S_z^H(t),-\\omega S_z^H(t)] \\\\\n",
    "& = -\\omega[S_z^H(t), S_z^H(t)] \\\\\n",
    "& = 0.\n",
    "\\end{align}\n",
    "Ou seja\n",
    "$$S_z^H(t) = S_z$$\n",
    "e\n",
    "$$\\partial_t S_x^H(t)=\\omega S_y^H(t),\\ \\partial_t S_y^H(t) = -\\omega S_x^H(t).$$\n",
    "Pode-se verificar que a solução desse sistema de equação pode ser escrita como segue:\n",
    "\\begin{align}\n",
    "& S_x^H(t) = \\cos(\\omega t)S_x + \\sin(\\omega t)S_y, \\\\\n",
    "& S_y^H(t) = -\\sin(\\omega t)S_x + \\cos(\\omega t)S_y.\n",
    "\\end{align}"
   ]
  },
  {
   "cell_type": "code",
   "execution_count": null,
   "metadata": {},
   "outputs": [],
   "source": []
  }
 ],
 "metadata": {
  "kernelspec": {
   "display_name": "Python 3 (ipykernel)",
   "language": "python",
   "name": "python3"
  },
  "language_info": {
   "codemirror_mode": {
    "name": "ipython",
    "version": 3
   },
   "file_extension": ".py",
   "mimetype": "text/x-python",
   "name": "python",
   "nbconvert_exporter": "python",
   "pygments_lexer": "ipython3",
   "version": "3.11.1"
  }
 },
 "nbformat": 4,
 "nbformat_minor": 4
}
