{
 "cells": [
  {
   "cell_type": "markdown",
   "id": "f5a13c6b",
   "metadata": {},
   "source": [
    "### Notas de aula de Mecânica Quântica <br> Autor: Jonas Maziero\n",
    "# Exercícios: Efeito Stark"
   ]
  },
  {
   "cell_type": "markdown",
   "id": "3448a220",
   "metadata": {},
   "source": [
    "---\n",
    "$1.$ Verifique que a mudança de coordenadas esféricas $(r,\\theta,\\phi)\\rightarrow (r,\\pi-\\theta,\\phi+\\pi)$ nos fornece a inversão espacial $\\vec{r}\\rightarrow -\\vec{r}$."
   ]
  },
  {
   "cell_type": "markdown",
   "id": "553e7da4",
   "metadata": {},
   "source": [
    "_SOL._ Vamos usar \n",
    "$$\\cos(x\\pm y)=\\cos(x)\\cos(y)\\mp\\sin(x)\\sin(y)$$ \n",
    "e \n",
    "$$\\sin(x\\pm y)=\\sin(x)\\cos(y)\\pm\\cos(x)\\sin(y).$$\n",
    "Teremos assim que \n",
    "$$\\sin(\\pi\\pm\\theta) = \\sin(\\pi)\\cos(\\theta)\\pm\\cos(\\pi)\\sin(\\theta) = \\mp\\sin(\\theta),$$\n",
    "e\n",
    "$$\\cos(\\pi\\pm\\theta) = \\cos(\\pi)\\cos(\\theta)\\mp\\sin(\\pi)\\sin(\\theta) = -cos(\\theta).$$\n",
    "Com isso, podemos escrever\n",
    "\\begin{align}\n",
    "x' & = r'\\sin(\\theta')\\cos(\\phi') = r\\sin(\\pi-\\theta)\\cos(\\pi+\\theta) = r\\sin(\\theta)(-\\cos(\\phi)) = -x, \\\\\n",
    "y' & = r'\\sin(\\theta')\\sin(\\phi') = r\\sin(\\pi-\\theta)\\sin(\\pi+\\theta) = r\\sin(\\theta)(-\\sin(\\phi)) = -y, \\\\\n",
    "x' & = r'\\cos(\\theta') = r\\cos(\\pi-\\theta) = r(-\\cos(\\theta)) = -z.\n",
    "\\end{align}\n",
    "Assim vemos que\n",
    "$$(r,\\theta,\\phi)\\rightarrow (r,\\pi-\\theta,\\phi+\\pi)\\ \\Rightarrow\\ \\vec{r}\\rightarrow -\\vec{r}.$$"
   ]
  },
  {
   "cell_type": "markdown",
   "id": "fdf8873c",
   "metadata": {},
   "source": [
    "---\n",
    "$2.$ Verifique que\n",
    "\\begin{equation}\n",
    "\\langle\\psi_{1,0,0}^{(0)}|H_{1}|\\psi_{m,l,m_{l}}^{(0)}\\rangle = \\vec{E}\\cdot\\langle\\vec{d}\\rangle_{100,nlm_{l}}\n",
    "\\end{equation}\n",
    "com\n",
    "\\begin{equation}\n",
    "\\langle\\vec{d}\\rangle_{100,nlm_{l}} = \\int d^{3}r\\psi_{1,0,0}(\\vec{r})^{*}(-e\\vec{r})\\psi_{n,l,m_{l}}(\\vec{r}).\n",
    "\\end{equation}"
   ]
  },
  {
   "cell_type": "markdown",
   "id": "f0faf3e8",
   "metadata": {},
   "source": [
    "_SOL._ Teremos que\n",
    "\\begin{align}\n",
    "\\langle\\psi_{1,0,0}^{(0)}|H_{1}|\\psi_{m,l,m_{l}}^{(0)}\\rangle & = \\langle\\psi_{1,0,0}^{(0)}|(-\\vec{E}\\cdot\\vec{d})|\\psi_{m,l,m_{l}}^{(0)}\\rangle \\\\\n",
    "& = -\\vec{E}\\cdot\\langle\\psi_{1,0,0}^{(0)}|(\\vec{d})|\\psi_{m,l,m_{l}}^{(0)}\\rangle \\\\\n",
    "& = -\\vec{E}\\cdot\\langle\\vec{d}\\rangle_{100,nlm_l}\n",
    "\\end{align}\n",
    "com\n",
    "\\begin{align}\n",
    "\\langle\\vec{d}\\rangle_{100,nlm_l} & = \\langle\\psi_{1,0,0}^{(0)}|(\\vec{d})|\\psi_{m,l,m_{l}}^{(0)}\\rangle \\\\\n",
    "& = \\langle\\psi_{1,0,0}^{(0)}|(-e\\vec{R})|\\psi_{m,l,m_{l}}^{(0)}\\rangle \\\\\n",
    "& = \\int d^3 r \\langle\\psi_{1,0,0}^{(0)}|(-e\\vec{R})|\\vec{r}\\rangle\\langle\\vec{r}||\\psi_{m,l,m_{l}}^{(0)}\\rangle \\\\\n",
    "& = \\int d^3 r \\langle\\psi_{1,0,0}^{(0)}|(-e\\vec{r})|\\vec{r}\\rangle\\langle\\vec{r}|\\psi_{m,l,m_{l}}^{(0)}\\rangle \\\\\n",
    "& = \\int d^3 r \\langle\\psi_{1,0,0}^{(0)}|\\vec{r}\\rangle(-e\\vec{r})\\langle\\vec{r}|\\psi_{m,l,m_{l}}^{(0)}\\rangle \\\\\n",
    "& = \\int d^3 r \\big(\\psi_{1,0,0}^{(0)}(\\vec{r})\\big)^* (-e\\vec{r})\\psi_{m,l,m_{l}}^{(0)}(\\vec{r}).\n",
    "\\end{align}"
   ]
  },
  {
   "cell_type": "markdown",
   "id": "e5d595ab",
   "metadata": {},
   "source": [
    "---\n",
    "$3.$ Considere um operador linear qualquer $A$ tal que $A^{2}=I$, com $I$ sendo o operador identidade. Verifique que para $A|a\\rangle=a|a\\rangle$ devemos ter $a=\\pm1$."
   ]
  },
  {
   "cell_type": "markdown",
   "id": "db96f03f",
   "metadata": {},
   "source": [
    "_SOL._ Neste caso teremos que\n",
    "\\begin{align}\n",
    "& A^2|a\\rangle = AA|a\\rangle = Aa|a\\rangle = a^2|a\\rangle \\\\\n",
    "& = I|a\\rangle = (1)|a\\rangle.\n",
    "\\end{align}\n",
    "Portanto\n",
    "$$a^2=1\\ \\therefore\\ a=\\pm1.$$"
   ]
  },
  {
   "cell_type": "markdown",
   "id": "46f47568",
   "metadata": {},
   "source": [
    "---\n",
    "$4.$ Verifique que podemos escrever\n",
    "\\begin{equation}\n",
    "z = r\\cos\\theta = r\\sqrt{\\frac{4\\pi}{3}}\\Upsilon_{1,0}(\\theta,\\phi).\n",
    "\\end{equation}"
   ]
  },
  {
   "cell_type": "markdown",
   "id": "a30333e3",
   "metadata": {},
   "source": [
    "_SOL._ Temos que\n",
    "$$P_{l}(\\cos\\theta) = \\frac{1}{l!2^{l}}\\frac{\\partial^{l}}{\\partial (\\cos\\theta)^{l}}(\\cos^{2}\\theta-1)^{l}.$$\n",
    "Assim\n",
    "\\begin{align}\n",
    "P_{1}(\\cos\\theta) & = \\frac{1}{1!2^{1}}\\frac{\\partial^{1}}{\\partial (\\cos\\theta)^{1}}(\\cos^{2}\\theta-1)^{1} \\\\\n",
    "& = \\frac{1}{2}2\\cos\\theta \\\\\n",
    "& = \\cos\\theta.\n",
    "\\end{align}\n",
    "Usando esse resultado e\n",
    "$$\\Upsilon_{l,m_{l}}(\\theta,\\phi) = \\sqrt{\\frac{2l+1}{4\\pi}\\frac{(l-|m_{l}|)!}{(l+|m_{l}|)!}}(\\sin\\theta)^{|m_{l}|}\\frac{\\partial^{|m_{l}|}P_{l}(\\cos\\theta)}{\\partial (\\cos\\theta)^{|m_{l}|}}e^{im_{l}\\phi},$$\n",
    "vem que\n",
    "\\begin{align}\n",
    "\\Upsilon_{1,0}(\\theta,\\phi) & = \\sqrt{\\frac{2(1)+1}{4\\pi}\\frac{(1-0)!}{(1+0)!}}(\\sin\\theta)^{0}\\frac{\\partial^{0}P_{1}(\\cos\\theta)}{\\partial (\\cos\\theta)^{0}}e^{0} \\\\\n",
    "& = \\sqrt{\\frac{3}{4\\pi}}\\cos\\theta,\n",
    "\\end{align}\n",
    "cqd."
   ]
  },
  {
   "cell_type": "markdown",
   "id": "5c6af394",
   "metadata": {},
   "source": [
    "---\n",
    "$5.$ Verifique que\n",
    "\\begin{equation}\n",
    "\\Upsilon_{0,0}(\\theta,\\phi)=\\sqrt{\\frac{1}{4\\pi}} \\ \\therefore\\ \\psi_{1,0,0}(r,\\theta,\\phi)=\\Omega_{1,0}(r).\n",
    "\\end{equation}"
   ]
  },
  {
   "cell_type": "markdown",
   "id": "1d3d7145",
   "metadata": {},
   "source": [
    "_SOL._ Usando\n",
    "\\begin{align}\n",
    "P_{0}(\\cos\\theta) & = \\frac{1}{0!2^{0}}\\frac{\\partial^{0}}{\\partial (\\cos\\theta)^{0}}(\\cos^{2}\\theta-1)^{0} \\\\\n",
    "& = 1\n",
    "\\end{align}\n",
    "teremos\n",
    "\\begin{align}\n",
    "\\Upsilon_{0,0}(\\theta,\\phi) & = \\sqrt{\\frac{2(0)+1}{4\\pi}\\frac{(0-0)!}{(0+0)!}}(\\sin\\theta)^{0}\\frac{\\partial^{0}P_{0}(\\cos\\theta)}{\\partial (\\cos\\theta)^{0}}e^{0} \\\\\n",
    "& = \\sqrt{\\frac{1}{4\\pi}}P_{0}(\\cos\\theta) \\\\\n",
    "& = \\sqrt{\\frac{1}{4\\pi}}.\n",
    "\\end{align}\n",
    "Por conseguinte\n",
    "\\begin{align}\n",
    "\\psi_{1,0,0}(r,\\theta,\\phi) & = \\Omega_{1,0}(r)\\sqrt{\\frac{4\\pi}{2(0)+1}\\frac{(0+0)!}{(0-0)!}}\\Upsilon_{1,0} \\\\\n",
    "& = \\Omega_{1,0}(r)\\sqrt{4\\pi}\\sqrt{\\frac{1}{4\\pi}} \\\\\n",
    "& = \\Omega_{1,0}(r).\n",
    "\\end{align}"
   ]
  },
  {
   "cell_type": "markdown",
   "id": "9cfe4c17",
   "metadata": {},
   "source": [
    "---\n",
    "$6.$ Mostre que, para um par de vetores de estado $|\\psi\\rangle,|\\phi\\rangle$ e um observável $A$, se $\\langle\\psi|A|\\phi\\rangle=0$ então $\\langle\\phi|A|\\psi\\rangle=0$. Explique todos os passos da sua resolução."
   ]
  },
  {
   "cell_type": "markdown",
   "id": "c7571ee7",
   "metadata": {},
   "source": [
    "_SOL._ Teremos que\n",
    "\\begin{align}\n",
    "& (|\\psi\\rangle,A|\\phi\\rangle)^*=0^* \\\\\n",
    "& = (A|\\phi\\rangle,|\\psi\\rangle) = (|\\phi\\rangle,A^\\dagger|\\psi\\rangle) = (|\\phi\\rangle,A|\\psi\\rangle) = \\langle \\phi|A|\\psi\\rangle = 0.\n",
    "\\end{align}"
   ]
  },
  {
   "cell_type": "markdown",
   "id": "55612fd5-f981-4ffe-abd5-73c081fa2757",
   "metadata": {},
   "source": [
    "---\n",
    "$7.$ No contexto do efeito Stark no átomo de Hidrogênio, calcule o momento de dipolo elétrico de transição $\\langle d_{z}\\rangle_{100,n10} = \\frac{-e\\sqrt{4\\pi}}{\\sqrt{3}}\\int_{0}^{\\infty}r^{2}\\Omega_{1,0}(r)\\Omega_{n,1}(r)dr$ para $n=2$."
   ]
  },
  {
   "cell_type": "markdown",
   "id": "a1160e00-d4a3-48b3-907b-778f6a9b3641",
   "metadata": {},
   "source": [
    "_SOL._ Temos que $\\Omega_{1,0} = \\sqrt{\\frac{4Z^3}{a_0^3}}e^{-Zr/a_0}$ e $\\Omega_{2,1} = \\frac{1}{12}\\sqrt{\\frac{6Z^5}{a_0^5}}re^{-Zr/2a_0}$. Para o Hidrogênio, temos que $Z=1$. Vem assim que\n",
    "\\begin{align}\n",
    "\\langle d_{z}\\rangle_{100,210} & = \\frac{-e\\sqrt{4\\pi}}{\\sqrt{3}}\\int_{0}^{\\infty}r^{2}\\Omega_{1,0}(r)\\Omega_{n,1}(r)dr \\\\\n",
    "& = \\frac{-e\\sqrt{4\\pi}}{\\sqrt{3}}\\int_{0}^{\\infty}r^{2}\\sqrt{\\frac{4Z^3}{a_0^3}}e^{-Zr/a_0}\\frac{1}{12}\\sqrt{\\frac{6Z^5}{a_0^5}}re^{-Zr/2a_0}dr \\\\\n",
    "& = \\frac{-e\\sqrt{4\\pi}}{\\sqrt{3}}\\sqrt{\\frac{4Z^3}{a_0^3}}\\frac{1}{12}\\sqrt{\\frac{6Z^5}{a_0^5}}\\int_{0}^{\\infty}r^{3}e^{-3Zr/2a_0}dr \\\\\n",
    "& = \\frac{-e\\sqrt{4\\pi}}{\\sqrt{3}}\\sqrt{\\frac{4Z^3}{a_0^3}}\\frac{1}{12}\\sqrt{\\frac{6Z^5}{a_0^5}}\\frac{32a_0^4}{27Z^4},\n",
    "\\end{align}\n",
    "em que foi feita a intergração por partes (3 vezes)."
   ]
  },
  {
   "cell_type": "code",
   "execution_count": 2,
   "id": "407de350-2c97-48c5-84d0-9888e2513abd",
   "metadata": {},
   "outputs": [
    {
     "data": {
      "text/latex": [
       "$\\displaystyle \\frac{32 a_{0}^{4}}{27 Z^{4}}$"
      ],
      "text/plain": [
       "32*a_0**4/(27*Z**4)"
      ]
     },
     "execution_count": 2,
     "metadata": {},
     "output_type": "execute_result"
    }
   ],
   "source": [
    "from sympy import integrate, symbols, exp, oo\n",
    "r,a0,Z = symbols('r a_0 Z', positive=True)\n",
    "integrate(r**3*exp(-(3*r*Z)/(2*a0)),(r,0,oo))"
   ]
  },
  {
   "cell_type": "code",
   "execution_count": null,
   "id": "d528d7d2-675d-456c-9845-a1a9ae7f7c35",
   "metadata": {},
   "outputs": [],
   "source": []
  }
 ],
 "metadata": {
  "kernelspec": {
   "display_name": "Python 3 (ipykernel)",
   "language": "python",
   "name": "python3"
  },
  "language_info": {
   "codemirror_mode": {
    "name": "ipython",
    "version": 3
   },
   "file_extension": ".py",
   "mimetype": "text/x-python",
   "name": "python",
   "nbconvert_exporter": "python",
   "pygments_lexer": "ipython3",
   "version": "3.12.2"
  }
 },
 "nbformat": 4,
 "nbformat_minor": 5
}
