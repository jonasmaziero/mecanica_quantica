{
 "cells": [
  {
   "cell_type": "markdown",
   "metadata": {},
   "source": [
    "### Notas de aula de Mecânica Quântica <br> Autor: Jonas Maziero\n",
    "# Exercícios"
   ]
  },
  {
   "cell_type": "markdown",
   "metadata": {},
   "source": [
    "---\n",
    "$1.$ Calcule os valores possíveis da correção perturbativa relativística para $n=2$."
   ]
  },
  {
   "cell_type": "markdown",
   "metadata": {},
   "source": [
    "_SOL._ Para $n=2$ podemos ter $l=0$ ou $l=1$. A correção perturbativa de 1ª ordem, nesse caso, é $E_{n}^{r(1)}= -\\alpha^{4}mc^{2}\\frac{1}{8n^{4}}\\left(\\frac{4n}{l+1/2} -3 \\right).$ Assim\n",
    "\\begin{align}\n",
    "E_{n=2,l=0}^{r(1)} = -\\alpha^{4}mc^{2}\\frac{1}{8(2^{4})}\\left(\\frac{4(2)}{0+1/2} -3 \\right) \\approx -1,47\\text{x}10^{-4}\\text{ eV}, \\\\\n",
    "E_{n=2,l=1}^{r(1)} = -\\alpha^{4}mc^{2}\\frac{1}{8(2^{4})}\\left(\\frac{4(2)}{1+1/2} -3 \\right) \\approx -2,64\\text{x}10^{-5}\\text{ eV}.\n",
    "\\end{align}"
   ]
  },
  {
   "cell_type": "code",
   "execution_count": 4,
   "metadata": {},
   "outputs": [
    {
     "data": {
      "text/plain": [
       "(-0.0001470884064030586, -2.6400483200548978e-05)"
      ]
     },
     "execution_count": 4,
     "metadata": {},
     "output_type": "execute_result"
    }
   ],
   "source": [
    "me = 9.109382*10**-31 # kg (massa do elétron)\n",
    "mp = 1.6726219*10**-27 # kg (massa do próton)\n",
    "h = 6.626069*10**-34 # Js (constante de Planck)\n",
    "import math\n",
    "hb = h/(2*math.pi) # hbar\n",
    "k = 8.9875517923*10**9 # Nm^2/C^2 (constante de Coulomb)\n",
    "e = 1.60217662*10**-19 # C (carga elementar)\n",
    "c = 2.99792458*10**8 # m/s (velocidade da luz no vácuo)\n",
    "al = (k*e**2)/(hb*c) # ~1/137.035999084 (constante de estrutura fina)\n",
    "\n",
    "def Erel(n,l): # em eV\n",
    "    return -(al**4*m*c**2/e)*(1/(8*n**4))*((4*n)/(l+1/2)-3)\n",
    "\n",
    "m = (me*mp)/(me+mp); Erel(2,0), Erel(2,1)"
   ]
  },
  {
   "cell_type": "markdown",
   "metadata": {},
   "source": [
    "---\n",
    "$2.$ Calcule os valores possíveis da correção perturbativa pela interação spin-órbita para $n=2$."
   ]
  },
  {
   "cell_type": "markdown",
   "metadata": {},
   "source": [
    "_SOL._ Para $n=2$ podemos ter $l=0$ ou $l=1$. Ademais, $s=1/2$. Assim, para $l=0$ temos que $j=1/2$. Para $l=1$ podemos ter $j=1/2$ e $j=3/2$. A correção perturbativa de 1ª ordem, nesse caso, é $E_{n}^{so(1)}= \\alpha^{4}mc^{2}\\frac{1}{2n^{3}}\\left(\\frac{j(j+1)-l(l+1)-3/4}{l(l+1/2)(l+1)}\\right).$ Assim\n",
    "\\begin{align}\n",
    "E_{n=2,l=0,j=1/2}^{so(1)} & = -\\frac{\\alpha^{4}mc^{2}}{n^{3}} \\approx 1,81\\text{x}10^{-4}\\text{ eV}, \\\\\n",
    "E_{n=2,l=1,j=1/2}^{so(1)} & = \\alpha^{4}mc^{2}\\frac{1}{2(2^{3})}\\left(\\frac{(1/2)(1/2+1)-1(1+1)-3/4}{1(1+1/2)(1+1)}\\right) \\approx -6,03\\text{x}10^{-5}\\text{ eV}, \\\\\n",
    "E_{n=2,l=1,j=3/2}^{so(1)} & = \\alpha^{4}mc^{2}\\frac{1}{2(2^{3})}\\left(\\frac{(3/2)(3/2+1)-1(1+1)-3/4}{1(1+1/2)(1+1)}\\right) \\approx -3,02\\text{x}10^{-5}\\text{ eV}.\n",
    "\\end{align}"
   ]
  },
  {
   "cell_type": "code",
   "execution_count": 5,
   "metadata": {},
   "outputs": [
    {
     "data": {
      "text/plain": [
       "(0.00018103188480376447, -6.034396160125482e-05, 3.017198080062741e-05)"
      ]
     },
     "execution_count": 5,
     "metadata": {},
     "output_type": "execute_result"
    }
   ],
   "source": [
    "def bohrH(m,n): # em eV\n",
    "    return (-(al**2*m*c**2)/(2*n**2))/e\n",
    "def Eso(n,l,j):\n",
    "    if l==0:\n",
    "        return ((2*n*e*bohrH(m,n)**2)/(m*c**2))*2 # j=0+1/2=1/2\n",
    "    else:\n",
    "        return ((2*n*e*bohrH(m,n)**2)/(m*c**2))*((j*(j+1)-l*(l+1)-3/4)/(l*(l+1/2)*(l+1)))\n",
    "Eso(2,0,1/2), Eso(2,1,1/2), Eso(2,1,3/2)"
   ]
  },
  {
   "cell_type": "markdown",
   "metadata": {},
   "source": [
    "---\n",
    "$3.$ Calcule os valores possíveis da correção perturbativa pelo termo de Darwin para $n=2$."
   ]
  },
  {
   "cell_type": "markdown",
   "metadata": {},
   "source": [
    "_SOL._ Como visto nas notas de aula, $\\psi_{n,l>0,m_{l}}(r,\\theta,\\phi)=0\\Rightarrow E_{n}^{d(1)}=0.$ Assim, nos resta analisar $n=2,l=0,m_{l}=0.$ Temos assim que\n",
    "$$\\psi_{2,0,0}(r,\\theta,\\phi) = \\frac{1}{4\\sqrt{2\\pi}}\\left(\\frac{Z}{a_{0}}\\right)^{3/2}\\left(2-\\frac{Zr}{a_{0}}\\right)e^{-Zr/2a_{0}}.$$\n",
    "Com isso, a correção de Darwin é dada por (usamos o raio de Bohr $a_{0}=\\frac{\\hbar^{2}}{kme^{2}}$ e $\\alpha = \\frac{ke^{2}}{\\hbar c}$)\n",
    "\\begin{align}\n",
    "E_{n=2,l=0,m_{l}=0}^{d(1)} &= \\frac{2\\pi\\hbar^{2}ke^{2}}{5m^{2}c^{2}}\\left|\\psi_{2,0,0}^{(0)}(\\vec{0})\\right|^{2} \\\\\n",
    "& = \\frac{2\\pi\\hbar^{2}ke^{2}}{5m^{2}c^{2}}\\left|\\frac{1}{4\\sqrt{2\\pi}}\\left(\\frac{Z}{a_{0}}\\right)^{3/2}\\left(2-\\frac{Z(0)}{a_{0}}\\right)e^{-Z(0)/2a_{0}}\\right|^{2} \\\\\n",
    "& = \\frac{2\\pi\\hbar^{2}ke^{2}}{5m^{2}c^{2}}\\frac{1}{4(2\\pi)}\\left(\\frac{1}{a_{0}}\\right)^{3} \\\\\n",
    "& = \\frac{\\hbar^{2}ke^{2}}{20m^{2}c^{2}}\\frac{k^{3}m^{3}e^{6}}{\\hbar^{6}} \\\\\n",
    "& = \\frac{k^{4}e^{8}}{\\hbar^{4}c^{4}}mc^{2}\\frac{1}{20} \\\\ \n",
    "& = \\alpha^{4}mc^{2}\\frac{1}{20} \\\\\n",
    "& \\approx 7,24\\text{x}10^{-5}\\text{ eV}.\n",
    "\\end{align}"
   ]
  },
  {
   "cell_type": "code",
   "execution_count": 6,
   "metadata": {},
   "outputs": [
    {
     "data": {
      "text/plain": [
       "7.241275392150578e-05"
      ]
     },
     "execution_count": 6,
     "metadata": {},
     "output_type": "execute_result"
    }
   ],
   "source": [
    "(al**4*m*c**2*(1/20))/e"
   ]
  },
  {
   "cell_type": "markdown",
   "metadata": {},
   "source": [
    "---\n",
    "$4.$ Calcule os possíveis valores de energia do átomo de Hidrogênio para $n=2$, incluindo as correções relativística, de interação spin-órbita e de Darwin."
   ]
  },
  {
   "cell_type": "markdown",
   "metadata": {},
   "source": [
    "_SOL._ Usando os resultados dos exercícios 2, 3 e 7, obtemos\n",
    "\\begin{align}\n",
    "E_{n=2,l=0,m_{l}=0}^{(1)} &= E_{n=2,l=0,m_{l}=0}^{r(1)} + E_{n=2,l=0,m_{l}=0}^{so(1)} + E_{n=2,l=0,m_{l}=0}^{d(1)} \\approx -1,47\\text{x}10^{-4}\\text{ eV} + 1,81\\text{x}10^{-4}\\text{ eV} + 7,24\\text{x}10^{-5}\\text{ eV} \\\\\n",
    "& = 1,06\\text{x}10^{-4}\\text{ eV}, \\\\\n",
    "E_{n=2,l=1,j=1/2}^{(1)} &= E_{n=2,l=1,j=1/2}^{r(1)} + E_{n=2,l=1,j=1/2}^{so(1)} + E_{n=2,l=1,j=1/2}^{d(1)} \\approx -2,64\\text{x}10^{-5}\\text{ eV} -6,03\\text{x}10^{-5}\\text{ eV} + 0 \\\\\n",
    "& = -8,67\\text{x}10^{-5}\\text{ eV}, \\\\\n",
    "E_{n=2,l=1,j=3/2}^{(1)} &= E_{n=2,l=1,j=3/2}^{r(1)} + E_{n=2,l=1,j=3/2}^{so(1)} + E_{n=2,l=1,j=3/2}^{d(1)} \\approx -2,64\\text{x}10^{-5}\\text{ eV} -3,02\\text{x}10^{-5}\\text{ eV} + 0 \\\\\n",
    "& = -5,66\\text{x}10^{-5}\\text{ eV}.\n",
    "\\end{align}"
   ]
  },
  {
   "cell_type": "code",
   "execution_count": 7,
   "metadata": {},
   "outputs": [
    {
     "data": {
      "text/plain": [
       "(0.00010640000000000002, -8.670000000000002e-05, -5.660000000000001e-05)"
      ]
     },
     "execution_count": 7,
     "metadata": {},
     "output_type": "execute_result"
    }
   ],
   "source": [
    "-1.47*10**-4 + 1.81*10**-4 + 7.24*10**-5, -2.64*10**-5-6.03*10**-5, -2.64*10**-5-3.02*10**-5"
   ]
  },
  {
   "cell_type": "markdown",
   "metadata": {},
   "source": [
    "---\n",
    "$5.$ Considere a correção de Darwin para a estrutura fina do átomo de Hidrogênio. Na expansão em série de Taylor para o potencial elétrico $\\Phi$, obtenha o 4º e 5º termos. Desenvolva os cálculos necessários para obter $\\tilde{U}$ incluindo esses termos. Feito isso, use os termos correspondentes de $\\tilde{U}$ como hamiltoniano de perturbação e desenvolva os cálculos necessários para obter a correção perturbativa de 1ª ordem correspondente."
   ]
  },
  {
   "cell_type": "markdown",
   "metadata": {},
   "source": [
    "_SOL._ A expansão em série de Taylor até quarta ordem de uma função de $n$ variáveis $f(\\vec{x}) = f(x_1,x_2,\\cdots,x_n)$ em torno de $\\vec{x}$ é dada por\n",
    "$$f(\\vec{x}+\\Delta\\vec{x}) \\approx f(\\vec{x}) + \\vec{\\nabla}f(\\vec{x})^T \\Delta\\vec{x} + \\frac{1}{2!}\\Delta\\vec{x}^T H(\\vec{x})\\Delta\\vec{x} + \\frac{1}{3!}D^3 f(\\vec{x})\\Delta\\vec{x}^{\\otimes 3} + \\frac{1}{4!}D^4 f(\\vec{x})\\Delta\\vec{x}^{\\otimes 4},$$\n",
    "com \n",
    "$$\\Delta\\vec{x} = \\begin{bmatrix} \\Delta x_1 & \\Delta x_2 & \\cdots & \\Delta x_n \\end{bmatrix}^T,$$\n",
    "o gradiente é \n",
    "$$\\vec{\\nabla}f(\\vec{x}) = \\begin{bmatrix} \\partial_{x_1}f & \\partial_{x_2}f & \\cdots & \\partial_{x_n}f \\end{bmatrix}^T$$\n",
    "e a matriz Hessiana é dada por\n",
    "$$H(\\vec{x}) = \\begin{bmatrix} \\partial_{x_1 x_1}f & \\partial_{x_1 x_2}f & \\cdots & \\partial_{x_1 x_n}f \\\\  \\partial_{x_2 x_1}f & \\partial_{x_2 x_2}f & \\cdots & \\partial_{x_2 x_n}f \\\\ \\vdots & \\vdots & \\ddots & \\vdots \\\\ \\partial_{x_n x_1}f & \\partial_{x_n x_2}f & \\cdots & \\partial_{x_n x_n}f \\end{bmatrix},$$\n",
    "e as generalizações da matriz Hessiana são tensores tais que\n",
    "$$D^3 f(\\vec{x})\\Delta\\vec{x}^{\\otimes 3} = \\sum_{j,k,l}(\\partial_{x_j x_k x_l}f) \\Delta x_j\\Delta x_k\\Delta x_l$$\n",
    "e \n",
    "$$D^4 f(\\vec{x})\\Delta\\vec{x}^{\\otimes 4} = \\sum_{j,k,l,m}(\\partial_{x_j x_k x_l x_m}f) \\Delta x_j\\Delta x_k\\Delta x_l \\Delta x_m$$\n",
    "Acima todas as derivadas são calculadas em $\\vec{x}$."
   ]
  },
  {
   "cell_type": "markdown",
   "metadata": {},
   "source": [
    "Aplicando para o potencial elétrico gerado pelo próton vem que\n",
    "\\begin{align}\n",
    "\\Phi(||\\vec{r}+\\vec{r}'||) & = \\Phi(r) + \\sum_{j=1}^{3}\\left(\\frac{\\partial \\Phi}{\\partial x_{j}'}\\right)_{r}x_{j}' + \\frac{1}{2}\\sum_{j,k=1}^{3}\\left(\\frac{\\partial^{2} \\Phi}{\\partial x_{j}'\\partial x_{k}'}\\right)_{r}x_{j}'x_{k}' \\\\\n",
    "& + \\frac{1}{6}\\sum_{j,k,l=1}^{3}\\left(\\frac{\\partial^{3} \\Phi}{\\partial x_{j}'\\partial x_{k}'\\partial x_{l}'}\\right)_{r}x_{j}'x_{k}'x_{l}' + \\frac{1}{24}\\sum_{j,k,l,m=1}^{3}\\left(\\frac{\\partial^{4} \\Phi}{\\partial x_{j}'\\partial x_{k}'\\partial x_{l}'\\partial x_{m}'}\\right)_{r}x_{j}'x_{k}'x_{l}'x_{m}' +\\cdots.\n",
    "\\end{align}\n",
    "\n",
    "Usando $\\tilde{U} = -e\\int_{e^{-}}d^{3}r'\\rho_{0}(\\vec{r}')\\Phi(||\\vec{r}+\\vec{r}'||)$ para o __4º termo__ teremos\n",
    "\\begin{align}\n",
    "\\tilde{U}_4 & = -e\\int_{e^{-}}d^{3}r'\\rho_{0}(\\vec{r}')\\frac{1}{6}\\sum_{j,k,l=1}^{3}\\left(\\frac{\\partial^{3} \\Phi}{\\partial x_{j}'\\partial x_{k}'\\partial x_{l}'}\\right)_{r}x_{j}'x_{k}'x_{l}' \\\\\n",
    "& = -e\\frac{1}{6}\\sum_{j,k,l=1}^{3}\\left(\\frac{\\partial^{3} \\Phi}{\\partial x_{j}'\\partial x_{k}'\\partial x_{l}'}\\right)_{r}\\int_{e^{-}}d^{3}r'\\rho_{0}(\\vec{r}')x_{j}'x_{k}'x_{l}' \\\\\n",
    "& = -e\\frac{1}{6}\\sum_{j,k,l=1}^{3}\\left(\\frac{\\partial^{3} \\Phi}{\\partial x_{j}'\\partial x_{k}'\\partial x_{l}'}\\right)_{r}\\frac{1}{4\\pi R_{e^-}^3/3} \\int_0^{R_{e^-}}\\int_0^\\pi\\int_0^{2\\pi}r'\\sin\\theta' dr'd\\theta' d\\phi' x_{j}'x_{k}'x_{l}' \\\\\n",
    "& = 0\n",
    "\\end{align}\n",
    "pois $\\rho_{0}(\\vec{r}')x_{j}'x_{k}'x_{l}'$ é uma função ímpar. Esse resultado também está verificado explicitamente abaixo."
   ]
  },
  {
   "cell_type": "code",
   "execution_count": 64,
   "metadata": {},
   "outputs": [
    {
     "name": "stdout",
     "output_type": "stream",
     "text": [
      "[0, 0, 0, 0, 0, 0, 0, 0, 0, 0, 0, 0, 0, 0, 0, 0, 0, 0, 0, 0, 0, 0, 0, 0, 0, 0, 0]\n"
     ]
    }
   ],
   "source": [
    "from sympy import * # exemplos x=rsin(th)cos(ph), y=rsin(th)sin(ph), z=rcos(th)\n",
    "init_printing(use_unicode=True)\n",
    "r, ph, th, x1, x2, x3, Re = symbols('r phi theta x_1 x_2 x_3 R_e')\n",
    "x1=r*sin(th)*cos(ph); x2=r*sin(th)*sin(ph); x3=r*cos(th); x = (x1,x2,x3)\n",
    "Il = []\n",
    "for j in range(0,3):\n",
    "    for k in range(0,3):\n",
    "        for l in range(0,3):\n",
    "            I = integrate(x[j]*x[k]*x[l],(r,0,Re),(th,0,pi),(ph,0,2*pi))\n",
    "            Il.append(I)\n",
    "print(Il)"
   ]
  },
  {
   "cell_type": "markdown",
   "metadata": {},
   "source": [
    "Para o 5º termo teremos\n",
    "\\begin{align}\n",
    "\\tilde{U}_5 & = -e\\int_{e^{-}}d^{3}r'\\rho_{0}(\\vec{r}')\\frac{1}{24}\\sum_{j,k,l,m=1}^{3}\\left(\\frac{\\partial^{4} \\Phi}{\\partial x_{j}'\\partial x_{k}'\\partial x_{l}'\\partial x_{m}'}\\right)_{r}x_{j}'x_{k}'x_{l}'x_{m}' \\\\\n",
    "& = -e\\frac{1}{24}\\sum_{j,k,l,m=1}^{3}\\left(\\frac{\\partial^{4} \\Phi}{\\partial x_{j}'\\partial x_{k}'\\partial x_{l}'\\partial x_{m}'}\\right)_{r}\\int_{e^{-}}d^{3}r'\\rho_{0}(\\vec{r}')x_{j}'x_{k}'x_{l}'x_{m}' \\\\\n",
    "& = \\frac{-e}{24}\\sum_{j,k,l,m=1}^{3}\\left(\\frac{\\partial^{4} \\Phi}{\\partial x_{j}'\\partial x_{k}'\\partial x_{l}'\\partial x_{m}'}\\right)_{r}\\int_{e^{-}}d^{3}r'\\rho_{0}(\\vec{r}')x_{j}'x_{k}'x_{l}'x_{m}' \\\\\n",
    "& = \\frac{-e}{24}\\sum_{j,k,l,m=1}^{3}\\left(\\frac{\\partial^{4} \\Phi}{\\partial x_{j}'\\partial x_{k}'\\partial x_{l}'\\partial x_{m}'}\\right)_{r}\\frac{1}{4\\pi R_{e^-}^3/3}\\int_0^{R_{e^-}}\\int_0^\\pi\\int_0^{2\\pi}r'\\sin\\theta' dr'd\\theta' d\\phi'x_{j}'x_{k}'x_{l}'x_{m}',\n",
    "\\end{align}\n",
    "em que usamos que $\\int_{e^{-}}d^{3}r'\\rho_{0}(\\vec{r}')x_{j}'x_{k}'x_{l}'x_{m}'=0$ se houver um número ímpar de indices com um certo valor, pois nesses casos a função $\\rho_{0}(\\vec{r}')x_{j}'x_{k}'x_{l}'x_{m}'$ é ímpar. Abaixo os resultados de todas as integrais estão mostrados explicitamente."
   ]
  },
  {
   "cell_type": "code",
   "execution_count": 217,
   "metadata": {},
   "outputs": [
    {
     "name": "stdout",
     "output_type": "stream",
     "text": [
      "[(0, 0, 0, 0, 2*pi*R_e**6/15), (0, 0, 0, 1, 0), (0, 0, 0, 2, 0), (0, 0, 1, 0, 0), (0, 0, 1, 1, 2*pi*R_e**6/45), (0, 0, 1, 2, 0), (0, 0, 2, 0, 0), (0, 0, 2, 1, 0), (0, 0, 2, 2, 2*pi*R_e**6/45), (0, 1, 0, 0, 0), (0, 1, 0, 1, 2*pi*R_e**6/45), (0, 1, 0, 2, 0), (0, 1, 1, 0, 2*pi*R_e**6/45), (0, 1, 1, 1, 0), (0, 1, 1, 2, 0), (0, 1, 2, 0, 0), (0, 1, 2, 1, 0), (0, 1, 2, 2, 0), (0, 2, 0, 0, 0), (0, 2, 0, 1, 0), (0, 2, 0, 2, 2*pi*R_e**6/45), (0, 2, 1, 0, 0), (0, 2, 1, 1, 0), (0, 2, 1, 2, 0), (0, 2, 2, 0, 2*pi*R_e**6/45), (0, 2, 2, 1, 0), (0, 2, 2, 2, 0), (1, 0, 0, 0, 0), (1, 0, 0, 1, 2*pi*R_e**6/45), (1, 0, 0, 2, 0), (1, 0, 1, 0, 2*pi*R_e**6/45), (1, 0, 1, 1, 0), (1, 0, 1, 2, 0), (1, 0, 2, 0, 0), (1, 0, 2, 1, 0), (1, 0, 2, 2, 0), (1, 1, 0, 0, 2*pi*R_e**6/45), (1, 1, 0, 1, 0), (1, 1, 0, 2, 0), (1, 1, 1, 0, 0), (1, 1, 1, 1, 2*pi*R_e**6/15), (1, 1, 1, 2, 0), (1, 1, 2, 0, 0), (1, 1, 2, 1, 0), (1, 1, 2, 2, 2*pi*R_e**6/45), (1, 2, 0, 0, 0), (1, 2, 0, 1, 0), (1, 2, 0, 2, 0), (1, 2, 1, 0, 0), (1, 2, 1, 1, 0), (1, 2, 1, 2, 2*pi*R_e**6/45), (1, 2, 2, 0, 0), (1, 2, 2, 1, 2*pi*R_e**6/45), (1, 2, 2, 2, 0), (2, 0, 0, 0, 0), (2, 0, 0, 1, 0), (2, 0, 0, 2, 2*pi*R_e**6/45), (2, 0, 1, 0, 0), (2, 0, 1, 1, 0), (2, 0, 1, 2, 0), (2, 0, 2, 0, 2*pi*R_e**6/45), (2, 0, 2, 1, 0), (2, 0, 2, 2, 0), (2, 1, 0, 0, 0), (2, 1, 0, 1, 0), (2, 1, 0, 2, 0), (2, 1, 1, 0, 0), (2, 1, 1, 1, 0), (2, 1, 1, 2, 2*pi*R_e**6/45), (2, 1, 2, 0, 0), (2, 1, 2, 1, 2*pi*R_e**6/45), (2, 1, 2, 2, 0), (2, 2, 0, 0, 2*pi*R_e**6/45), (2, 2, 0, 1, 0), (2, 2, 0, 2, 0), (2, 2, 1, 0, 0), (2, 2, 1, 1, 2*pi*R_e**6/45), (2, 2, 1, 2, 0), (2, 2, 2, 0, 0), (2, 2, 2, 1, 0), (2, 2, 2, 2, 2*pi*R_e**6/15)]\n"
     ]
    }
   ],
   "source": [
    "r, ph, th, x1, x2, x3, Re = symbols('r phi theta x_1 x_2 x_3 R_e')\n",
    "x1=r*sin(th)*cos(ph); x2=r*sin(th)*sin(ph); x3=r*cos(th); x = (x1,x2,x3)\n",
    "Il = []\n",
    "for j in range(0,3):\n",
    "    for k in range(0,3):\n",
    "        for l in range(0,3):\n",
    "            for m in range(0,3):\n",
    "                I = integrate(r*sin(th)*x[j]*x[k]*x[l]*x[m],(r,0,Re),(th,0,pi),(ph,0,2*pi))\n",
    "                Il.append((j,k,l,m,I))\n",
    "print(Il)"
   ]
  },
  {
   "cell_type": "code",
   "execution_count": 218,
   "metadata": {},
   "outputs": [
    {
     "name": "stdout",
     "output_type": "stream",
     "text": [
      "0 0 0 0 2*pi*R_e**6/15\n",
      "0 0 1 1 2*pi*R_e**6/45\n",
      "0 0 2 2 2*pi*R_e**6/45\n",
      "0 1 0 1 2*pi*R_e**6/45\n",
      "0 1 1 0 2*pi*R_e**6/45\n",
      "0 2 0 2 2*pi*R_e**6/45\n",
      "0 2 2 0 2*pi*R_e**6/45\n",
      "1 0 0 1 2*pi*R_e**6/45\n",
      "1 0 1 0 2*pi*R_e**6/45\n",
      "1 1 0 0 2*pi*R_e**6/45\n",
      "1 1 1 1 2*pi*R_e**6/15\n",
      "1 1 2 2 2*pi*R_e**6/45\n",
      "1 2 1 2 2*pi*R_e**6/45\n",
      "1 2 2 1 2*pi*R_e**6/45\n",
      "2 0 0 2 2*pi*R_e**6/45\n",
      "2 0 2 0 2*pi*R_e**6/45\n",
      "2 1 1 2 2*pi*R_e**6/45\n",
      "2 1 2 1 2*pi*R_e**6/45\n",
      "2 2 0 0 2*pi*R_e**6/45\n",
      "2 2 1 1 2*pi*R_e**6/45\n",
      "2 2 2 2 2*pi*R_e**6/15\n"
     ]
    }
   ],
   "source": [
    "for j in range(0,3):\n",
    "    for k in range(0,3):\n",
    "        for l in range(0,3):\n",
    "            for m in range(0,3):\n",
    "                I = integrate(r*sin(th)*x[j]*x[k]*x[l]*x[m],(r,0,Re),(th,0,pi),(ph,0,2*pi))\n",
    "                if I != 0:\n",
    "                    print(j,k,l,m,I)"
   ]
  },
  {
   "cell_type": "markdown",
   "metadata": {},
   "source": [
    "Vemos assim que a integral\n",
    "$$I = \\int_0^{R_{e^-}}\\int_0^\\pi\\int_0^{2\\pi}r'\\sin\\theta' dr'd\\theta' d\\phi'x_{j}'x_{k}'x_{l}'x_{m}'$$\n",
    "é igual a\n",
    "$$I = \\frac{2\\pi R_e^6}{15}$$\n",
    "se os quatro índices são iguais, o que ocorre 3 vezes. Nos outros 18 casos não nulos, temos 2 pares de índices iguais e a integral é dada por\n",
    "$$I = \\frac{2\\pi R_e^6}{45}.$$"
   ]
  },
  {
   "cell_type": "markdown",
   "metadata": {},
   "source": [
    "Com isso vem que\n",
    "\\begin{align}\n",
    "\\tilde{U}_5 & = -\\frac{e}{24}\\sum_{j=1}^{3}\\left(\\frac{\\partial^{4} \\Phi}{\\partial (x_{j}')^4}\\right)_{r}\\frac{1}{4\\pi R_{e^-}^3/3}3\\frac{2\\pi R_e^6}{15} - \\frac{e}{24}\\sum_{j\\ne k}\\left(\\frac{\\partial^{4} \\Phi}{\\partial (x_{j}')^2(x_{k}')^2}\\right)_{r}\\frac{1}{4\\pi R_{e^-}^3/3}18\\frac{2\\pi R_e^6}{45} \\\\\n",
    "& = -\\frac{eR_{e^-}^3}{80}\\Big(\\sum_{j=k}\\left(\\frac{\\partial^{4} \\Phi}{\\partial (x_{j}')^2\\partial (x_{k}')^2}\\right)_{r} + 2 \\sum_{j\\ne k}\\left(\\frac{\\partial^{4} \\Phi}{\\partial (x_{j}')^2(x_{k}')^2}\\right)_{r}\\Big) \\\\\n",
    "& = -\\frac{eR_{e^-}^3}{80}\\Big(2 \\sum_{j,k=1}^3\\left(\\frac{\\partial^{4} \\Phi}{\\partial (x_{j}')^2(x_{k}')^2}\\right)_{r} - \\sum_{j=k}\\left(\\frac{\\partial^{4} \\Phi}{\\partial (x_{j}')^2\\partial (x_{k}')^2}\\right)_{r}\\Big) \\\\\n",
    "& = \\frac{R_{e^-}^3}{40}\\nabla^4 U(r) - \\frac{R_{e^-}^3}{80}\\tilde{\\nabla}^4 U(r) \\\\\n",
    "& = \\frac{\\hbar^3}{40 m^3 c^3}\\nabla^4 U(r) - \\frac{\\hbar^3}{80 m^3 c^3}\\tilde{\\nabla}^4 U(r) \\\\\n",
    "& = H_1^D,\n",
    "\\end{align}\n",
    "em que usamos $U(r)=-e\\Phi(r)=-ke^2/r$ e definimos"
   ]
  },
  {
   "cell_type": "markdown",
   "metadata": {},
   "source": [
    "em que definimos os operadores diferenciais\n",
    "\\begin{align}\n",
    "\\tilde{\\nabla}^4 U(r) & = \\sum_{j=k}\\frac{\\partial^{4} U(r)}{\\partial (x_{j}')^2\\partial (x_{k}')^2} = \\sum_{j=1}^3\\frac{\\partial^4 U}{\\partial x_j^4} \\\\\n",
    "\\end{align}\n",
    "e\n",
    "\\begin{align}\n",
    "\\nabla^4 U(r) & = \\nabla^2(\\nabla^2 U(r)) = \\sum_{j=1}^3 \\frac{\\partial^2}{\\partial x_j^2}\\sum_{k=1}^3 \\frac{\\partial^2 U(r)}{\\partial x_k^2} = \\sum_{j,k=1}^3 \\frac{\\partial^4 U(r)}{\\partial x_j^2\\partial x_k^2}.\n",
    "\\end{align}\n",
    "Este operador é bem conhecido e é chamado de operador biharmônico ou operador bilaplaciano."
   ]
  },
  {
   "cell_type": "markdown",
   "metadata": {},
   "source": [
    "Sabemos das notas de aula sobre a correção de Darwin que \n",
    "$$\\nabla^2 U(r\\ne 0) = -ke^2\\nabla^2 (1/r)=0.$$\n",
    "Por conseguinte, teremos que\n",
    "$$\\nabla^4 U(r\\ne 0) = \\nabla^2(\\nabla^2 U(r\\ne 0)) = \\nabla^2(0) = 0.$$\n",
    "Também mostramos que\n",
    "$$\\nabla^2 U(r=0) = -4\\pi\\delta(\\vec{r}).$$\n",
    "Assim\n",
    "$$\\nabla^4 U(r=0) = \\nabla^2(\\nabla^4 U(r=0)) = -4\\pi\\nabla^2(\\delta(\\vec{r})).$$\n",
    "\n",
    "Seguindo o Deepseek, que cita a referência (Gelfand & Shilov, Generalized Functions, Vol. 1), temos a interessante propriedade\n",
    "$$\\int d^3\\vec{r} f(\\vec{r})\\nabla^2\\delta(\\vec{r}) = \\big(\\nabla^2 f(\\vec{r})\\big)_{\\vec{r}=\\vec{0}}.$$\n",
    "Vamos usar essa propriedade sem prova por enquanto."
   ]
  },
  {
   "cell_type": "markdown",
   "metadata": {},
   "source": [
    "Nos falta ainda lidar com o termo\n",
    "$$\\tilde{\\nabla}^4 U(r) = \\sum_{j=1}^3\\frac{\\partial^4 U}{\\partial x_j^4}.$$"
   ]
  },
  {
   "cell_type": "code",
   "execution_count": 262,
   "metadata": {},
   "outputs": [
    {
     "data": {
      "image/png": "[encoded data removed]",
      "text/latex": [
       "$\\displaystyle \\frac{6 \\left(- x^{4} + 3 x^{2} y^{2} + 3 x^{2} z^{2} - y^{4} + 3 y^{2} z^{2} - z^{4}\\right)}{\\sqrt{x^{2} + y^{2} + z^{2}} \\left(x^{6} + 3 x^{4} y^{2} + 3 x^{4} z^{2} + 3 x^{2} y^{4} + 6 x^{2} y^{2} z^{2} + 3 x^{2} z^{4} + y^{6} + 3 y^{4} z^{2} + 3 y^{2} z^{4} + z^{6}\\right)}$"
      ],
      "text/plain": [
       "                              ⎛   4      2  2      2  2    4      2  2    4⎞   ↪\n",
       "                            6⋅⎝- x  + 3⋅x ⋅y  + 3⋅x ⋅z  - y  + 3⋅y ⋅z  - z ⎠   ↪\n",
       "────────────────────────────────────────────────────────────────────────────── ↪\n",
       "   ______________                                                              ↪\n",
       "  ╱  2    2    2  ⎛ 6      4  2      4  2      2  4      2  2  2      2  4     ↪\n",
       "╲╱  x  + y  + z  ⋅⎝x  + 3⋅x ⋅y  + 3⋅x ⋅z  + 3⋅x ⋅y  + 6⋅x ⋅y ⋅z  + 3⋅x ⋅z  + y ↪\n",
       "\n",
       "↪                            \n",
       "↪                            \n",
       "↪ ───────────────────────────\n",
       "↪                            \n",
       "↪ 6      4  2      2  4    6⎞\n",
       "↪   + 3⋅y ⋅z  + 3⋅y ⋅z  + z ⎠"
      ]
     },
     "execution_count": 262,
     "metadata": {},
     "output_type": "execute_result"
    }
   ],
   "source": [
    "r,x,y,z = symbols('r x y z')\n",
    "def r(x,y,z):\n",
    "    return 1/sqrt(x**2 + y**2 + z**2)\n",
    "f = diff(1/r(x,y,z), x, 4) + diff(1/r(x,y,z), y, 4) + diff(1/r(x,y,z), z, 4); simplify(f)"
   ]
  },
  {
   "cell_type": "code",
   "execution_count": null,
   "metadata": {},
   "outputs": [],
   "source": []
  }
 ],
 "metadata": {
  "kernelspec": {
   "display_name": "Python 3 (ipykernel)",
   "language": "python",
   "name": "python3"
  },
  "language_info": {
   "codemirror_mode": {
    "name": "ipython",
    "version": 3
   },
   "file_extension": ".py",
   "mimetype": "text/x-python",
   "name": "python",
   "nbconvert_exporter": "python",
   "pygments_lexer": "ipython3",
   "version": "3.12.2"
  }
 },
 "nbformat": 4,
 "nbformat_minor": 4
}
