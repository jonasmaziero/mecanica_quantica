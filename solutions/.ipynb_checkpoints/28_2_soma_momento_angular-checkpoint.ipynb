{
 "cells": [
  {
   "cell_type": "markdown",
   "metadata": {},
   "source": [
    "### Notas de aula de Mecânica Quântica <br> Autor: Jonas Maziero\n",
    "\n",
    "# Exercícios"
   ]
  },
  {
   "cell_type": "markdown",
   "metadata": {},
   "source": [
    "---\n",
    "$1.$ Verifique que $J^{2} = J_{a}^{2}\\otimes\\mathbb{I}_{b} +  \\mathbb{I}_{a}\\otimes J_{b}^{2} + 2\\sum_{j=1}^{3}J_{j}^{a}\\otimes J_{j}^{b}$."
   ]
  },
  {
   "cell_type": "markdown",
   "metadata": {},
   "source": [
    "_SOL._ Usando a definição $\\vec{J} = \\sum_{j=1}^{3}\\hat{e}_{j}J_{j} = \\sum_{k=1}^{3}\\hat{e}_{j}(J_{j}^{a}\\otimes\\mathbb{I}_{b} + \\mathbb{I}_{a}\\otimes J_{j}^{b}),$ teremos\n",
    "\\begin{align}\n",
    "J^{2} & = \\vec{J}\\cdot\\vec{J} = \\sum_{j=1}^{3}J_{j}^{2} = \\sum_{j=1}^{3}(J_{j}^{a}\\otimes\\mathbb{I}_{b} + \\mathbb{I}_{a}\\otimes J_{j}^{b})^{2} \\\\\n",
    "& = \\sum_{j=1}^{3}\\big((J_{j}^{a}\\otimes\\mathbb{I}_{b})(J_{j}^{a}\\otimes\\mathbb{I}_{b}) + (J_{j}^{a}\\otimes\\mathbb{I}_{b})(\\mathbb{I}_{a}\\otimes J_{j}^{b}) + (\\mathbb{I}_{a}\\otimes J_{j}^{b})(J_{j}^{a}\\otimes\\mathbb{I}_{b}) + (\\mathbb{I}_{a}\\otimes J_{j}^{b})(\\mathbb{I}_{a}\\otimes J_{j}^{b})\\big) \\\\\n",
    "& = \\sum_{j=1}^{3}\\big((J_{j}^{a})^{2}\\otimes\\mathbb{I}_{b} + J_{j}^{a}\\otimes J_{j}^{b} + J_{j}^{a}\\otimes J_{j}^{b} + \\mathbb{I}_{a}\\otimes (J_{j}^{b})^{2}\\big) \\\\\n",
    "& = J_{a}^{2}\\otimes\\mathbb{I}_{b} +  \\mathbb{I}_{a}\\otimes J_{b}^{2} + 2\\sum_{j=1}^{3}J_{j}^{a}\\otimes J_{j}^{b}.\n",
    "\\end{align}"
   ]
  },
  {
   "cell_type": "markdown",
   "metadata": {},
   "source": [
    "---\n",
    "$2.$ Verifique que $[A\\otimes B,A'\\otimes\\mathbb{I}] = [A,A']\\otimes B$."
   ]
  },
  {
   "cell_type": "markdown",
   "metadata": {},
   "source": [
    "_SOL._ A verificação é uma aplicação direta de $(A\\otimes B)(C\\otimes D)=AC\\otimes BD$:\n",
    "\\begin{align}\n",
    "[A\\otimes B,A'\\otimes\\mathbb{I}] & = (A\\otimes B)(A'\\otimes\\mathbb{I}) - (A'\\otimes\\mathbb{I})(A\\otimes B) \\\\\n",
    "&= AA'\\otimes B\\mathbb{I} - A'A\\otimes\\mathbb{I}B = (AA'- A'A)\\otimes B \\\\\n",
    "&= [A,A']\\otimes B.\n",
    "\\end{align}"
   ]
  },
  {
   "cell_type": "markdown",
   "metadata": {},
   "source": [
    "---\n",
    "$3.$ Verifique que $[J^{2},J_{b}^{2}] = 0$."
   ]
  },
  {
   "cell_type": "markdown",
   "metadata": {},
   "source": [
    "_SOL._\n",
    "\\begin{align}\n",
    "[J^{2},J_{b}^{2}] & = \\left[J_{a}^{2}\\otimes\\mathbb{I}_{b} +  \\mathbb{I}_{a}\\otimes J_{b}^{2} + 2\\sum_{j=1}^{3}J_{j}^{a}\\otimes J_{j}^{b},\\mathbb{I}_{b}\\otimes J_{b}^{2}\\right] \\\\\n",
    "& = [J_{a}^{2}\\otimes\\mathbb{I}_{b},\\mathbb{I}_{b}\\otimes J_{b}^{2}] + [\\mathbb{I}_{a}\\otimes J_{b}^{2},\\mathbb{I}_{b}\\otimes J_{b}^{2}] + [2\\sum_{j=1}^{3}J_{j}^{a}\\otimes J_{j}^{b},\\mathbb{I}_{b}\\otimes J_{b}^{2}] \\\\\n",
    "& = \\mathbb{O}  + \\mathbb{O} + 2\\sum_{j=1}^{3}J_{j}^{a}\\otimes[J_{j}^{b},J_{b}^{2}] = 2\\sum_{j=1}^{3}J_{j}^{a}\\otimes\\mathbb{O} = \\mathbb{O} .\n",
    "\\end{align}"
   ]
  },
  {
   "cell_type": "markdown",
   "metadata": {},
   "source": [
    "---\n",
    "$4.$ Verifique que $[J_{b}^{2},J_{3}] = \\mathbb{O}$."
   ]
  },
  {
   "cell_type": "markdown",
   "metadata": {},
   "source": [
    "_SOL._\n",
    "\\begin{align}\n",
    "[J_{b}^{2},J_{3}] & = [\\mathbb{I}_{a}\\otimes J_{b}^{2},J_{3}^{a}\\otimes\\mathbb{I}_{b} + \\mathbb{I}_{a}\\otimes J_{3}^{b}] = [\\mathbb{I}_{a}\\otimes J_{b}^{2},J_{3}^{a}\\otimes\\mathbb{I}_{b}] + [\\mathbb{I}_{a}\\otimes J_{b}^{2},\\mathbb{I}_{a}\\otimes J_{3}^{b}] \\\\\n",
    "& = \\mathbb{O} + \\mathbb{I}_{a}\\otimes[ J_{b}^{2},J_{3}^{b}] = \\mathbb{O} + \\mathbb{I}_{a}\\otimes\\mathbb{O} = \\mathbb{O}.\n",
    "\\end{align}"
   ]
  },
  {
   "cell_type": "markdown",
   "metadata": {},
   "source": [
    "---\n",
    "$5.$ Verifique que $[J^{2},J_{3}^{b}]= 2i\\hbar(J_{2}^{a}\\otimes J_{1}^{b}-J_{1}^{a}\\otimes J_{2}^{b}) \\ne 0$."
   ]
  },
  {
   "cell_type": "markdown",
   "metadata": {},
   "source": [
    "_SOL._ \n",
    "\\begin{align}\n",
    "[J^{2},J_{3}^{b}] & = \\sum_{j=1}^{3}[J_{j}^{2},\\mathbb{I}_{b}\\otimes J_{3}^{b}] = \\sum_{j=1}^{3}\\left(J_{j}[J_{j},\\mathbb{I}_{b}\\otimes J_{3}^{b}] + [J_{j},\\mathbb{I}_{b}\\otimes J_{3}^{b}]J_{j} \\right) \\\\\n",
    "& = \\sum_{j=1}^{3}\\left(J_{j}[J_{j}^{a}\\otimes\\mathbb{I}_{b}+\\mathbb{I}_{a}\\otimes J_{j}^{b},\\mathbb{I}_{b}\\otimes J_{3}^{b}] + [J_{j}^{a}\\otimes\\mathbb{I}_{b}+\\mathbb{I}_{a}\\otimes J_{j}^{b},\\mathbb{I}_{b}\\otimes J_{3}^{b}]J_{j} \\right) \\\\\n",
    "& = \\sum_{j=1}^{3}\\left(J_{j}(0+\\mathbb{I}_{a}\\otimes[J_{j}^{b},J_{3}^{b}]) + (0+\\mathbb{I}_{a}\\otimes[J_{j}^{b},J_{3}^{b}])J_{j} \\right) \\\\\n",
    "& = \\sum_{j=1}^{3}i\\hbar \\varepsilon_{j3k}\\left(J_{j}\\mathbb{I}_{a}\\otimes J_{k}^{b} + \\mathbb{I}_{a}\\otimes J_{k}^{b}J_{j} \\right) \\\\\n",
    "& = i\\hbar \\varepsilon_{13k}\\left(J_{1}\\mathbb{I}_{a}\\otimes J_{k}^{b} + \\mathbb{I}_{a}\\otimes J_{k}^{b}J_{1} \\right) + i\\hbar \\varepsilon_{23k}\\left(J_{2}\\mathbb{I}_{a}\\otimes J_{k}^{b} + \\mathbb{I}_{a}\\otimes J_{k}^{b}J_{2} \\right) \\\\\n",
    "& = i\\hbar \\varepsilon_{132}\\left(J_{1}\\mathbb{I}_{a}\\otimes J_{2}^{b} + \\mathbb{I}_{a}\\otimes J_{2}^{b}J_{1} \\right) + i\\hbar \\varepsilon_{231}\\left(J_{2}\\mathbb{I}_{a}\\otimes J_{1}^{b} + \\mathbb{I}_{a}\\otimes J_{1}^{b}J_{2} \\right) \\\\\n",
    "& = i\\hbar\\left(-J_{1}\\mathbb{I}_{a}\\otimes J_{2}^{b} - \\mathbb{I}_{a}\\otimes J_{2}^{b}J_{1} + J_{2}\\mathbb{I}_{a}\\otimes J_{1}^{b} + \\mathbb{I}_{a}\\otimes J_{1}^{b}J_{2}\\right) \\\\\n",
    "& = i\\hbar\\big(-(J_{1}^{a}\\otimes\\mathbb{I}_{b}+\\mathbb{I}_{a}\\otimes J_{1}^{b})\\mathbb{I}_{a}\\otimes J_{2}^{b} - \\mathbb{I}_{a}\\otimes J_{2}^{b}(J_{1}^{a}\\otimes\\mathbb{I}_{b}+\\mathbb{I}_{a}\\otimes J_{1}^{b})  \\\\\n",
    "& \\hspace{1.2cm} + (J_{2}^{a}\\otimes\\mathbb{I}_{b}+\\mathbb{I}_{a}\\otimes J_{2}^{b})\\mathbb{I}_{a}\\otimes J_{1}^{b} + \\mathbb{I}_{a}\\otimes J_{1}^{b}(J_{2}^{a}\\otimes\\mathbb{I}_{b}+\\mathbb{I}_{a}\\otimes J_{2}^{b})\\big) \\\\\n",
    "& = i\\hbar\\big( -J_{1}^{a}\\otimes J_{2}^{b} - \\mathbb{I}_{a}\\otimes J_{1}^{b}J_{2}^{b} - J_{1}^{a}\\otimes J_{2}^{b} - \\mathbb{I}_{a}\\otimes J_{2}^{b}J_{1}^{b}  \\\\\n",
    "& \\hspace{1.2cm} + J_{2}^{a}\\otimes J_{1}^{b} + \\mathbb{I}_{a}\\otimes J_{2}^{b}J_{1}^{b}  + J_{2}^{a}\\otimes J_{1}^{b} + \\mathbb{I}_{a}\\otimes J_{1}^{b}J_{2}^{b} \\big) \\\\\n",
    "& = 2i\\hbar(J_{2}^{a}\\otimes J_{1}^{b}-J_{1}^{a}\\otimes J_{2}^{b}) \\\\\n",
    "& \\ne 0.                \n",
    "\\end{align}"
   ]
  },
  {
   "cell_type": "markdown",
   "metadata": {},
   "source": [
    "---\n",
    "$6.$ Obtenha a base $|j,m\\rangle$ em termos da base $|m_{a}\\rangle\\otimes|m_{b}\\rangle$ para $j_{a}=1$ e $j_{b}=1/2$."
   ]
  },
  {
   "cell_type": "markdown",
   "metadata": {},
   "source": [
    "_SOL._ Temos que $j_{a}=1\\therefore m_{a}=-j_{a},-j_{a}+1,\\cdots,j_{b}=-1,0,1$ e $j_{b}=1/2\\therefore m_{b}=-1/2,1/2.$ Ademais $j=|j_{a}-j_{b}|,|j_{a}-j_{b}|+1,\\cdots,j_{a}+j_{b}= 1/2,3/2.$ Tendo isso, e considerando a restrição $$m_{a}+m_{b}\\ne m\\Rightarrow C^{j_{a}j_{b}j}_{m_{a}m_{b}m}=0,$$ começamos com o maior valor de $j$ e maior valor de $m$: \n",
    "$$|j=3/2,m=3/2\\rangle = |m_{a}=1\\rangle\\otimes|m_{b}=1/2\\rangle.$$\n",
    "Lembrando, $J_{-}|j,m\\rangle=\\hbar\\sqrt{j(j+1)-m(m-1)}|j,m-1\\rangle$ e $J_{-}=J_{-}^{a}\\otimes\\mathbb{I}_{b}+\\mathbb{I}_{a}\\otimes J_{-}^{b}$ e $J_{-}^{s}|m_{s}\\rangle \\equiv J_{-}^{s}|j_{s},m_{s}\\rangle = \\hbar\\sqrt{j_{s}(j_{s}+1)-m_{s}(m_{s}-1)}|j_{s},m_{s}-1\\rangle$ para $s=a,b.$ Assim \n",
    "\\begin{align}\n",
    "|j=3/2,m=1/2\\rangle &= |j=3/2,m=3/2-1\\rangle = \\frac{1}{\\hbar\\sqrt{(3/2)(3/2+1)-(3/2)(3/2-1)}}J_{-}|j=3/2,m=3/2\\rangle \\\\\n",
    "& = \\frac{1}{\\hbar\\sqrt{(3/2)(5/2)-(3/2)(1/2)}}(J_{-}^{a}\\otimes\\mathbb{I}_{b}+\\mathbb{I}_{a}\\otimes J_{-}^{b})|m_{a}=1\\rangle\\otimes|m_{b}=1/2\\rangle \\\\\n",
    "& = \\frac{1}{\\hbar\\sqrt{15/4-3/4}} \\big( J_{-}^{a}|m_{a}=1\\rangle\\otimes|m_{b}=1/2\\rangle + |m_{a}=1\\rangle\\otimes J_{-}^{b}|m_{b}=1/2\\rangle \\big) \\\\\n",
    "& = \\frac{1}{\\hbar\\sqrt{15/4-3/4}} \\big( \\hbar\\sqrt{1(1+1)-1(1-1)}|m_{a}=1-1\\rangle\\otimes|m_{b}=1/2\\rangle \\\\\n",
    "& \\hspace{3.5cm} + |m_{a}=1\\rangle\\otimes \\hbar\\sqrt{(1/2)(1/2+1)-(1/2)(1/2-1)}|m_{b}=1/2-1\\rangle \\big) \\\\\n",
    "& = \\frac{1}{\\sqrt{3}} \\big( \\sqrt{2}|m_{a}=0\\rangle\\otimes|m_{b}=1/2\\rangle + |m_{a}=1\\rangle\\otimes \\sqrt{3/4+1/4}|m_{b}=-1/2\\rangle \\big) \\\\\n",
    "& = \\sqrt{2/3}|m_{a}=0\\rangle\\otimes|m_{b}=1/2\\rangle + \\sqrt{1/3}|m_{a}=1\\rangle\\otimes |m_{b}=-1/2\\rangle.\n",
    "\\end{align}"
   ]
  },
  {
   "cell_type": "markdown",
   "metadata": {},
   "source": [
    "Usando que $J_{-}|j,m=-j\\rangle = |\\oslash\\rangle$ teremos\n",
    "\\begin{align}\n",
    "|j=3/2,m=-1/2\\rangle & = |j=3/2,m=1/2-1\\rangle = \\frac{1}{\\hbar\\sqrt{(3/2)(3/2+1)-(1/2)(1/2-1)}}J_{-}|j=3/2,m=1/2\\rangle \\\\\n",
    "& = \\frac{1}{\\hbar\\sqrt{15/4+1/4}}(J_{-}^{a}\\otimes\\mathbb{I}_{b}+\\mathbb{I}_{a}\\otimes J_{-}^{b})\\big( \\sqrt{2/3}|m_{a}=0\\rangle\\otimes|m_{b}=1/2\\rangle + \\sqrt{1/3}|m_{a}=1\\rangle\\otimes |m_{b}=-1/2\\rangle \\big) \\\\\n",
    "& = \\frac{1}{\\hbar 2}\\big( \\sqrt{2/3}J_{-}^{a}|m_{a}=0\\rangle\\otimes|m_{b}=1/2\\rangle + \\sqrt{1/3}J_{-}^{a}|m_{a}=1\\rangle\\otimes |m_{b}=-1/2\\rangle \\\\\n",
    "& \\hspace{1.5cm} + \\sqrt{2/3}|m_{a}=0\\rangle\\otimes J_{-}^{b}|m_{b}=1/2\\rangle + \\sqrt{1/3}|m_{a}=1\\rangle\\otimes  J_{-}^{b}|m_{b}=-1/2\\rangle \\big) \\\\\n",
    "& = \\frac{1}{\\hbar 2}\\big( \\sqrt{2/3}\\hbar\\sqrt{1(1+1)-0(0-1)}|m_{a}=0-1\\rangle\\otimes|m_{b}=1/2\\rangle \\\\\n",
    "& \\hspace{1.5cm} + \\sqrt{1/3}\\hbar\\sqrt{1(1+1)-1(1-1)}|m_{a}=1-1\\rangle\\otimes |m_{b}=-1/2\\rangle \\\\\n",
    "& \\hspace{1.5cm} + \\sqrt{2/3}|m_{a}=0\\rangle\\otimes \\hbar\\sqrt{(1/2)(1/2+1)-(1/2)(1/2-1)}|m_{b}=1/2-1\\rangle + \\sqrt{1/3}|m_{a}=1\\rangle\\otimes  |\\oslash\\rangle \\big) \\\\\n",
    "& = \\frac{1}{2}\\big( \\sqrt{2/3}\\sqrt{2}|m_{a}=-1\\rangle\\otimes|m_{b}=1/2\\rangle + \\sqrt{1/3}\\sqrt{2}|m_{a}=0\\rangle\\otimes |m_{b}=-1/2\\rangle \\\\\n",
    "& \\hspace{1.5cm} + \\sqrt{2/3}|m_{a}=0\\rangle\\otimes \\sqrt{3/4+1/4}|m_{b}=-1/2\\rangle \\\\\n",
    "& = \\sqrt{1/3}|m_{a}=-1\\rangle\\otimes|m_{b}=1/2\\rangle + \\sqrt{2/3}|m_{a}=0\\rangle\\otimes |m_{b}=-1/2\\rangle. \n",
    "\\end{align}"
   ]
  },
  {
   "cell_type": "markdown",
   "metadata": {},
   "source": [
    "Seguindo,\n",
    "\\begin{align}\n",
    "|j=3/2,m=-3/2\\rangle & = |j=3/2,m=-1/2-1\\rangle = \\frac{1}{\\hbar\\sqrt{(3/2)(3/2+1)-(-1/2)(-1/2-1)}}J_{-}|j=3/2,m=-1/2\\rangle \\\\\n",
    "& = \\frac{1}{\\hbar\\sqrt{15/4-3/4}}(J_{-}^{a}\\otimes\\mathbb{I}_{b}+\\mathbb{I}_{a}\\otimes J_{-}^{b}) \\big( \\sqrt{1/3}|m_{a}=-1\\rangle\\otimes|m_{b}=1/2\\rangle + \\sqrt{2/3}|m_{a}=0\\rangle\\otimes |m_{b}=-1/2\\rangle \\big) \\\\\n",
    "& = \\frac{1}{\\hbar\\sqrt{3}}\\big( \\sqrt{1/3}J_{-}^{a}|m_{a}=-1\\rangle\\otimes|m_{b}=1/2\\rangle + \\sqrt{2/3}J_{-}^{a}|m_{a}=0\\rangle\\otimes |m_{b}=-1/2\\rangle \\\\\n",
    "& \\hspace{2cm} + \\sqrt{1/3}|m_{a}=-1\\rangle\\otimes J_{-}^{b}|m_{b}=1/2\\rangle + \\sqrt{2/3}|m_{a}=0\\rangle\\otimes J_{-}^{b}|m_{b}=-1/2\\rangle \\big) \\\\\n",
    "& = \\frac{1}{\\hbar\\sqrt{3}}\\big( \\sqrt{1/3}|\\oslash\\rangle\\otimes|m_{b}=1/2\\rangle + \\sqrt{2/3}\\hbar\\sqrt{1(1+1)-0(0-1)}|m_{a}=0-1\\rangle\\otimes |m_{b}=-1/2\\rangle \\\\\n",
    "& \\hspace{2cm} + \\sqrt{1/3}|m_{a}=-1\\rangle\\otimes \\hbar\\sqrt{(1/2)(1/2+1)-(1/2)(1/2-1)}|m_{b}=1/2-1\\rangle + \\sqrt{2/3}|m_{a}=0\\rangle\\otimes |\\oslash\\rangle \\big) \\\\\n",
    "& = \\frac{1}{\\sqrt{3}}\\big(\\sqrt{2/3}\\sqrt{2}|m_{a}=-1\\rangle\\otimes |m_{b}=-1/2\\rangle + \\sqrt{1/3}|m_{a}=-1\\rangle\\otimes\\sqrt{3/4+1/4}|m_{b}=-1/2\\rangle \\big) \\\\\n",
    "& = |m_{a}=-1\\rangle\\otimes |m_{b}=-1/2\\rangle.\n",
    "\\end{align}"
   ]
  },
  {
   "cell_type": "markdown",
   "metadata": {},
   "source": [
    "Para $j=1/2$, usamos a restrição $m_{a}+m_{b}\\ne m\\Rightarrow C^{j_{a}j_{b}j}_{m_{a}m_{b}m}=0$ para escrever\n",
    "\\begin{align}\n",
    "|j=1/2,m=1/2\\rangle = C^{1,1/2,1/2}_{1,-1/2,1/2}|m_{a}=1\\rangle\\otimes|m_{b}=-1/2\\rangle + C^{1,1/2,1/2}_{0,1/2,1/2}|m_{a}=0\\rangle\\otimes|m_{b}=1/2\\rangle.\n",
    "\\end{align}\n",
    "Pela ortogonalidade teremos\n",
    "\\begin{align}\n",
    "0 & = \\langle j=3/2,m=1/2|j=1/2,m=1/2\\rangle \\\\\n",
    "& = \\big( \\sqrt{2/3}\\langle m_{a}=0|\\otimes\\langle m_{b}=1/2| + \\sqrt{1/3}\\langle m_{a}=1|\\otimes\\langle m_{b}=-1/2|\\big)\\big( C^{1,1/2,1/2}_{1,-1/2,1/2}|m_{a}=1\\rangle\\otimes|m_{b}=-1/2\\rangle + C^{1,1/2,1/2}_{0,1/2,1/2}|m_{a}=0\\rangle\\otimes|m_{b}=1/2\\rangle \\big) \\\\\n",
    "& = \\sqrt{2/3}C^{1,1/2,1/2}_{0,1/2,1/2} + \\sqrt{1/3}C^{1,1/2,1/2}_{1,-1/2,1/2}, \\\\\n",
    "& \\therefore C^{1,1/2,1/2}_{1,-1/2,1/2} = - \\sqrt{2}C^{1,1/2,1/2}_{0,1/2,1/2}.\n",
    "\\end{align}\n",
    "Pela normalização teremos (assumimos coeficientes reais)\n",
    "\\begin{align}\n",
    "& |C^{1,1/2,1/2}_{1,-1/2,1/2}|^{2}+|C^{1,1/2,1/2}_{0,1/2,1/2}|^{2}=1 \\therefore |- \\sqrt{2}C^{1,1/2,1/2}_{0,1/2,1/2}|^{2}+|C^{1,1/2,1/2}_{0,1/2,1/2}|^{2}=1 \\\\\n",
    "& \\therefore C^{1,1/2,1/2}_{0,1/2,1/2} = \\sqrt{1/3}, C^{1,1/2,1/2}_{1,-1/2,1/2} = - \\sqrt{2/3}.\n",
    "\\end{align}\n",
    "Assim\n",
    "\\begin{align}\n",
    "|j=1/2,m=1/2\\rangle = \\sqrt{1/3}|m_{a}=0\\rangle\\otimes|m_{b}=1/2\\rangle - \\sqrt{2/3}|m_{a}=1\\rangle\\otimes|m_{b}=-1/2\\rangle.\n",
    "\\end{align}"
   ]
  },
  {
   "cell_type": "markdown",
   "metadata": {},
   "source": [
    "Por fim, aplicamos o operador de abaixamento para obter\n",
    "\\begin{align}\n",
    "|j=1/2,m=-1/2\\rangle & = |j=1/2,m=1/2-1\\rangle = \\frac{1}{\\hbar\\sqrt{(1/2)(1/2+1)-(1/2)(1/2-1)}}J_{-}|j=1/2,m=1/2\\rangle \\\\\n",
    "& = \\frac{1}{\\hbar\\sqrt{3/4+1/4}}(J_{-}^{a}\\otimes\\mathbb{I}_{b}+\\mathbb{I}_{a}\\otimes J_{-}^{b}) \\big( \\sqrt{1/3}|m_{a}=0\\rangle\\otimes|m_{b}=1/2\\rangle - \\sqrt{2/3}|m_{a}=1\\rangle\\otimes|m_{b}=-1/2\\rangle \\big) \\\\\n",
    "& = \\frac{1}{\\hbar}\\big( \\sqrt{1/3}J_{-}^{a}|m_{a}=0\\rangle\\otimes|m_{b}=1/2\\rangle - \\sqrt{2/3}J_{-}^{a}|m_{a}=1\\rangle\\otimes|m_{b}=-1/2\\rangle \\\\ \n",
    "& \\hspace{1cm} +\\sqrt{1/3}|m_{a}=0\\rangle\\otimes J_{-}^{b}|m_{b}=1/2\\rangle - \\sqrt{2/3}|m_{a}=1\\rangle\\otimes J_{-}^{b}|m_{b}=-1/2\\rangle \\big) \\\\\n",
    "& = \\frac{1}{\\hbar}\\big( \\sqrt{1/3}\\hbar\\sqrt{1(1+1)-0(0-1)}|m_{a}=0-1\\rangle\\otimes|m_{b}=1/2\\rangle \\\\\n",
    "& \\hspace{1cm}- \\sqrt{2/3}\\hbar\\sqrt{1(1+1)-1(1-1)}|m_{a}=1-1\\rangle\\otimes|m_{b}=-1/2\\rangle \\\\ \n",
    "& \\hspace{1cm} +\\sqrt{1/3}|m_{a}=0\\rangle\\otimes \\hbar\\sqrt{(1/2)(1/2+1)-(1/2)(1/2-1)}|m_{b}=1/2-1\\rangle - \\sqrt{2/3}|m_{a}=1\\rangle\\otimes|\\oslash\\rangle \\big) \\\\\n",
    "& = \\sqrt{1/3}\\sqrt{2}|m_{a}=-1\\rangle\\otimes|m_{b}=1/2\\rangle - \\sqrt{2/3}\\sqrt{2}|m_{a}=0\\rangle\\otimes|m_{b}=-1/2\\rangle \\\\ \n",
    "& \\hspace{1cm} +\\sqrt{1/3}|m_{a}=0\\rangle\\otimes\\sqrt{3/4+1/4}|m_{b}=-1/2\\rangle \\\\\n",
    "& = \\sqrt{2/3}|m_{a}=-1\\rangle\\otimes|m_{b}=1/2\\rangle - \\sqrt{1/3}|m_{a}=0\\rangle\\otimes|m_{b}=-1/2\\rangle,\n",
    "\\end{align}\n",
    "que é ortogonal a $|j=3/2,m=-1/2\\rangle.$"
   ]
  },
  {
   "cell_type": "markdown",
   "metadata": {},
   "source": [
    "---\n",
    "$7.$ O oscilador de Schwinger é um mapa entre a álgebra do momento angular (AMA) e a álgebra de osciladores harmônicos desacoplados. Esse mapa pode ser definido por: $J_{1}= (\\hbar/2)(a_{1}^{\\dagger}\\otimes a_{2}+a_{1}\\otimes a_{2}^{\\dagger})$, $J_{2}= (\\hbar/2i)(a_{1}^{\\dagger}\\otimes a_{2}-a_{1}\\otimes a_{2}^{\\dagger})$, e $J_{3} := (\\hbar/2)(a_{1}^{\\dagger}a_{1}\\otimes\\mathbb{I}_{2} - \\mathbb{I}_{1}\\otimes a_{2}^{\\dagger}a_{2})$, com $a_{j}^{\\dagger}$ e $a_{j}$  sendo, respectivamente, os operadores de criação e aniquilação do oscilador harmônico unidimensional $j=1,2$. Verifique que as componentes de $\\vec{J}$, construídas dessa forma, satisfazem as relações de comutação que definem a álgebra do momento angular."
   ]
  },
  {
   "cell_type": "markdown",
   "metadata": {},
   "source": [
    "_SOL._ Usaremos \n",
    "\\begin{align}\n",
    "& [a_{j},a_{j}^{\\dagger}]=a_{j}a_{j}^{\\dagger}-a_{j}^{\\dagger}a_{j}=\\mathbb{I}_{j}, \\\\\n",
    "& [a_{j},a_{j}^{\\dagger}a_{j}]=a_{j}, \\\\\n",
    "& [a_{j}^{\\dagger},a_{j}^{\\dagger}a_{j}]=-a_{j}^{\\dagger},\n",
    "\\end{align}\n",
    "para obter\n",
    "\\begin{align}\n",
    "[J_{1},J_{2}] & = (\\hbar^{2}/4i)[a_{1}^{\\dagger}\\otimes a_{2}+a_{1}\\otimes a_{2}^{\\dagger},a_{1}^{\\dagger}\\otimes a_{2}-a_{1}\\otimes a_{2}^{\\dagger}] \\\\\n",
    "& = (\\hbar^{2}/4i)([a_{1}^{\\dagger}\\otimes a_{2},a_{1}^{\\dagger}\\otimes a_{2}] - [a_{1}^{\\dagger}\\otimes a_{2},a_{1}\\otimes a_{2}^{\\dagger}] + [a_{1}\\otimes a_{2}^{\\dagger},a_{1}^{\\dagger}\\otimes a_{2}] - [a_{1}\\otimes a_{2}^{\\dagger},a_{1}\\otimes a_{2}^{\\dagger}]) \\\\\n",
    "& = (\\hbar^{2}/4i)(\\mathbb{O} - a_{1}^{\\dagger}a_{1}\\otimes a_{2}a_{2}^{\\dagger} + a_{1}a_{1}^{\\dagger}\\otimes a_{2}^{\\dagger}a_{2} + a_{1}a_{1}^{\\dagger}\\otimes a_{2}^{\\dagger}a_{2} - a_{1}^{\\dagger}a_{1}\\otimes a_{2}a_{2}^{\\dagger} - \\mathbb{O}) \\\\\n",
    "& = (\\hbar^{2}/2i)( a_{1}a_{1}^{\\dagger}\\otimes a_{2}^{\\dagger}a_{2} - a_{1}^{\\dagger}a_{1}\\otimes a_{2}a_{2}^{\\dagger} ) \\\\\n",
    "& = -i(\\hbar^{2}/2)(- a_{1}^{\\dagger}a_{1}\\otimes(\\mathbb{I}_{2}+a_{2}^{\\dagger}a_{2}) + (\\mathbb{I}_{1} + a_{1}^{\\dagger}a_{1})\\otimes a_{2}^{\\dagger}a_{2} ) \\\\\n",
    "& = i(\\hbar^{2}/2)(a_{1}^{\\dagger}a_{1}\\otimes\\mathbb{I}_{2} + a_{1}^{\\dagger}a_{1}\\otimes a_{2}^{\\dagger}a_{2} - \\mathbb{I}_{1}\\otimes a_{2}^{\\dagger}a_{2} - a_{1}^{\\dagger}a_{1}\\otimes a_{2}^{\\dagger}a_{2} ) \\\\\n",
    "& = i\\hbar\\epsilon_{123}J_{3},\n",
    "\\end{align}\n",
    "\n",
    "\\begin{align}\n",
    "[J_{1},J_{3}] & = (\\hbar^{2}/4)[a_{1}^{\\dagger}\\otimes a_{2}+a_{1}\\otimes a_{2}^{\\dagger},a_{1}^{\\dagger}a_{1}\\otimes\\mathbb{I}_{2} - \\mathbb{I}_{1}\\otimes a_{2}^{\\dagger}a_{2}] \\\\\n",
    "& = (\\hbar^{2}/4)([a_{1}^{\\dagger}\\otimes a_{2},a_{1}^{\\dagger}a_{1}\\otimes\\mathbb{I}_{2}] - [a_{1}^{\\dagger}\\otimes a_{2},\\mathbb{I}_{1}\\otimes a_{2}^{\\dagger}a_{2}] + [a_{1}\\otimes a_{2}^{\\dagger},a_{1}^{\\dagger}a_{1}\\otimes\\mathbb{I}_{2}] - [a_{1}\\otimes a_{2}^{\\dagger},\\mathbb{I}_{1}\\otimes a_{2}^{\\dagger}a_{2}]) \\\\\n",
    "& = (\\hbar^{2}/4)([a_{1}^{\\dagger},a_{1}^{\\dagger}a_{1}]\\otimes a_{2} - a_{1}^{\\dagger}\\otimes[a_{2},a_{2}^{\\dagger}a_{2}] + [a_{1},a_{1}^{\\dagger}a_{1}]\\otimes a_{2}^{\\dagger} - a_{1}\\otimes[a_{2}^{\\dagger},a_{2}^{\\dagger}a_{2}]) \\\\\n",
    "& = (\\hbar^{2}/4)(-a_{1}^{\\dagger}\\otimes a_{2} - a_{1}^{\\dagger}\\otimes a_{2} + a_{1}\\otimes a_{2}^{\\dagger} + a_{1}\\otimes a_{2}^{\\dagger}) \\\\\n",
    "& = i\\epsilon_{132}(\\hbar^{2}/2i)(a_{1}^{\\dagger}\\otimes a_{2}- a_{1}\\otimes a_{2}^{\\dagger}) \\\\\n",
    "& = i\\epsilon_{132}\\hbar J_{2},\n",
    "\\end{align}\n",
    "\n",
    "e\n",
    "\\begin{align}\n",
    "[J_{2},J_{3}] & = (\\hbar^{2}/4i)[a_{1}^{\\dagger}\\otimes a_{2}-a_{1}\\otimes a_{2}^{\\dagger},a_{1}^{\\dagger}a_{1}\\otimes\\mathbb{I}_{2} - \\mathbb{I}_{1}\\otimes a_{2}^{\\dagger}a_{2}] \\\\\n",
    "& = (\\hbar^{2}/4i)([a_{1}^{\\dagger}\\otimes a_{2},a_{1}^{\\dagger}a_{1}\\otimes\\mathbb{I}_{2}] - [a_{1}^{\\dagger}\\otimes a_{2},\\mathbb{I}_{1}\\otimes a_{2}^{\\dagger}a_{2}] - [a_{1}\\otimes a_{2}^{\\dagger},a_{1}^{\\dagger}a_{1}\\otimes\\mathbb{I}_{2}] + [a_{1}\\otimes a_{2}^{\\dagger},\\mathbb{I}_{1}\\otimes a_{2}^{\\dagger}a_{2}]) \\\\\n",
    "& = (\\hbar^{2}/4i)([a_{1}^{\\dagger},a_{1}^{\\dagger}a_{1}]\\otimes a_{2} - a_{1}^{\\dagger}\\otimes[a_{2},a_{2}^{\\dagger}a_{2}] - [a_{1},a_{1}^{\\dagger}a_{1}]\\otimes a_{2}^{\\dagger} + a_{1}\\otimes[a_{2}^{\\dagger},a_{2}^{\\dagger}a_{2}]) \\\\\n",
    "& = (\\hbar^{2}/4i)(-a_{1}^{\\dagger}\\otimes a_{2} - a_{1}^{\\dagger}\\otimes a_{2} - a_{1}\\otimes a_{2}^{\\dagger} - a_{1}\\otimes a_{2}^{\\dagger}) \\\\\n",
    "& = (-1/i)\\epsilon_{231}(\\hbar^{2}/2)(a_{1}^{\\dagger}\\otimes a_{2}+ a_{1}\\otimes a_{2}^{\\dagger}) \\\\\n",
    "& = i\\epsilon_{231}\\hbar J_{1}.\n",
    "\\end{align}"
   ]
  },
  {
   "cell_type": "markdown",
   "metadata": {},
   "source": [
    "---\n",
    "$8.$ Considere a soma de momentos angulares para dois quantons de spin 3/2, ou seja, considere $j_a=j_b=3/2$. Escreva os seguintes estados da base de autovetores do momento angular total\n",
    "$$|j_a=3/2,j_b=3/2,j=3,m=3\\rangle,\\ |j_a=3/2,j_b=3/2,j=3,m=2\\rangle$$\n",
    "em termos dos estados da base de autovetores de $J_3^a$ e  $J_3^b$: \n",
    "$$\\left\\{|j_a=3/2,m_a\\rangle\\otimes|j_b=3/2,m_b\\rangle\\right\\}.$$"
   ]
  },
  {
   "cell_type": "markdown",
   "metadata": {},
   "source": [
    "_SOL._ Usamos a restrição \n",
    "$$m\\ne m_a+m_b\\Rightarrow C_{m_a m_b m}^{j_a j_b j}=0$$\n",
    "para notar que temos um único coeficiente de Clebsch-Gordan não nulo no caso de\n",
    "$$|j_a=3/2,j_b=3/2,j=3,m=3\\rangle = |j_a=3/2,m_a=3/2\\rangle\\otimes|j_b=3/2,m_b=3/2\\rangle.$$\n",
    "\n",
    "Para o caso de $|j_a=3/2,j_b=3/2,j=3,m=2\\rangle$, vamos usar o operador escada\n",
    "\\begin{align}\n",
    "J_-|j_a=3/2,j_b=3/2,j=3,m=3\\rangle & = \\hbar\\sqrt{j(j+1)-m(m-1)}|j_a=3/2,j_b=3/2,j=3,m-1\\rangle \\\\\n",
    "& = \\hbar\\sqrt{3(3+1)-3(3-1)}|j_a=3/2,j_b=3/2,j=3,m=3-1\\rangle \\\\\n",
    "& = \\hbar\\sqrt{6}|j_a=3/2,j_b=3/2,j=3,m=2\\rangle.\n",
    "\\end{align}\n",
    "Vem assim que\n",
    "\\begin{align}\n",
    "& |j_a=3/2,j_b=3/2,j=3,m=2\\rangle = \\frac{1}{\\hbar\\sqrt{6}}J_-|j_a=3/2,j_b=3/2,j=3,m=3\\rangle \\\\\n",
    "& = \\frac{1}{\\hbar\\sqrt{6}}(J_-^a\\otimes I_b + I_a\\otimes J_-^b)(|j_a=3/2,m_a=3/2\\rangle\\otimes|j_b=3/2,m_b=3/2\\rangle) \\\\\n",
    "& = \\frac{1}{\\hbar\\sqrt{6}}\\big(J_-^a|j_a=3/2,m_a=3/2\\rangle\\otimes|j_b=3/2,m_b=3/2\\rangle) + |j_a=3/2,m_a=3/2\\rangle\\otimes J_-^b|j_b=3/2,m_b=3/2\\rangle\\big) \\\\\n",
    "& = \\frac{1}{\\hbar\\sqrt{6}}\\big(\\hbar\\sqrt{(3/2)(3/2+1)-(3/2)(3/2-1)}|j_a=3/2,m_a=3/2-1\\rangle\\otimes|j_b=3/2,m_b=3/2\\rangle) \\\\\n",
    "& + |j_a=3/2,m_a=3/2\\rangle\\otimes \\hbar\\sqrt{(3/2)(3/2+1)-(3/2)(3/2-1)}|j_b=3/2,m_b=3/2-1\\rangle\\big) \\\\\n",
    "& = \\frac{\\sqrt{3}}{\\sqrt{6}}\\big(|j_a=3/2,m_a=1/2\\rangle\\otimes|j_b=3/2,m_b=3/2\\rangle) + |j_a=3/2,m_a=3/2\\rangle\\otimes |j_b=3/2,m_b=1/2\\rangle\\big) \\\\\n",
    "& = \\frac{1}{\\sqrt{2}}\\big(|j_a=3/2,m_a=1/2\\rangle\\otimes|j_b=3/2,m_b=3/2\\rangle) + |j_a=3/2,m_a=3/2\\rangle\\otimes |j_b=3/2,m_b=1/2\\rangle\\big).\n",
    "\\end{align}"
   ]
  },
  {
   "cell_type": "code",
   "execution_count": null,
   "metadata": {},
   "outputs": [],
   "source": []
  }
 ],
 "metadata": {
  "kernelspec": {
   "display_name": "Python 3 (ipykernel)",
   "language": "python",
   "name": "python3"
  },
  "language_info": {
   "codemirror_mode": {
    "name": "ipython",
    "version": 3
   },
   "file_extension": ".py",
   "mimetype": "text/x-python",
   "name": "python",
   "nbconvert_exporter": "python",
   "pygments_lexer": "ipython3",
   "version": "3.11.1"
  }
 },
 "nbformat": 4,
 "nbformat_minor": 4
}
