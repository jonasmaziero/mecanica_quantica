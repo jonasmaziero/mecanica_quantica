{
 "cells": [
  {
   "cell_type": "markdown",
   "metadata": {},
   "source": [
    "### Notas de aula de Mecânica Quântica <br> Autor: Jonas Maziero\n",
    "# Exercícios"
   ]
  },
  {
   "cell_type": "markdown",
   "metadata": {},
   "source": [
    "---\n",
    "$1.$ Obtenha o momento angular $\\vec{L}$ em coordenadas cilíndricas."
   ]
  },
  {
   "cell_type": "markdown",
   "metadata": {},
   "source": [
    "_Sol._ Usando $\\vec{r}=\\hat{\\rho}\\rho+\\hat{z}z$ da questão seguinte, teremos que\n",
    "\\begin{align}\n",
    "& \\vec{r}\\mathrm{x}\\hat{\\rho} = (\\hat{\\rho}\\rho+\\hat{z}z)\\mathrm{x}\\hat{\\rho} = \\hat{\\phi}z, \\\\\n",
    "& \\vec{r}\\mathrm{x}\\hat{\\phi} = (\\hat{\\rho}\\rho+\\hat{z}z)\\mathrm{x}\\hat{\\phi} = \\hat{z}\\rho-\\hat{\\rho}z, \\\\\n",
    "& \\vec{r}\\mathrm{x}\\hat{z} = (\\hat{\\rho}\\rho+\\hat{z}z)\\mathrm{x}\\hat{z} = -\\hat{\\phi}\\rho, \\\\\n",
    "\\end{align}\n",
    "Assim, como $\\vec{\\nabla}=\\hat{\\rho}\\frac{\\partial}{\\partial \\rho} + \\hat{\\phi}\\frac{1}{\\rho}\\frac{\\partial}{\\partial \\phi} + \\hat{z}\\frac{\\partial}{\\partial z}$ em coordenadas cilíndricas, vem que\n",
    "\\begin{align}\n",
    "\\vec{L} &= \\vec{r}\\mathrm{x}\\vec{P} \\\\\n",
    "& = -i\\hbar \\vec{r}\\mathrm{x}\\vec{\\nabla} \\\\\n",
    "& = -i\\hbar \\left(\\vec{r}\\mathrm{x}\\hat{\\rho}\\frac{\\partial}{\\partial \\rho} + \\vec{r}\\mathrm{x}\\hat{\\phi}\\frac{1}{\\rho}\\frac{\\partial}{\\partial \\phi} + \\vec{r}\\mathrm{x}\\hat{z}\\frac{\\partial}{\\partial \\phi} \\right) \\\\\n",
    "& = -i\\hbar \\left(\\hat{\\phi}z\\frac{\\partial}{\\partial \\rho} + (\\hat{z}\\rho-\\hat{\\rho}z)\\frac{1}{\\rho}\\frac{\\partial}{\\partial \\phi} + (-\\hat{\\phi}\\rho)\\frac{\\partial}{\\partial \\phi} \\right) \\\\\n",
    "& = -i\\hbar \\left(-\\hat{\\rho}\\frac{z}{\\rho}\\frac{\\partial}{\\partial \\phi} + \\hat{\\phi}\\left(z\\frac{\\partial}{\\partial \\rho}-\\rho\\frac{\\partial}{\\partial \\phi}\\right) + \\hat{z}\\frac{\\partial}{\\partial \\phi}\\right).\n",
    "\\end{align}"
   ]
  },
  {
   "cell_type": "markdown",
   "metadata": {},
   "source": [
    "---\n",
    "$2.$ Escreva os versores $\\hat{\\rho},\\hat{\\theta},\\hat{z}$ do sistema de coordenadas cilíndricas em termos dos versores $\\hat{i},\\hat{j},\\hat{k}$ do sistema de coordenadas retangulares. "
   ]
  },
  {
   "cell_type": "markdown",
   "metadata": {},
   "source": [
    "_Sol._ Usando\n",
    "\\begin{equation}\n",
    "\\vec{r}=\\hat{i}\\rho\\cos\\phi+\\hat{j}\\rho\\sin\\phi+\\hat{k}z,\n",
    "\\end{equation}\n",
    "teremos que os versores do sistema de coordenadas cilíndricas são\n",
    "\\begin{align}\n",
    "\\hat{\\rho} & = \\frac{1}{h_{1}}\\frac{\\partial\\vec{r}}{\\partial \\rho} =\\hat{i}\\cos\\phi+\\hat{j}\\sin\\phi, \\\\\n",
    "\\hat{\\phi} & = \\frac{1}{h_{2}}\\frac{\\partial\\vec{r}}{\\partial \\phi} = \\frac{1}{\\rho}(-\\hat{i}\\rho\\sin\\phi+\\hat{j}\\rho\\cos\\phi) = -\\hat{i}\\sin\\phi+\\hat{j}\\cos\\phi, \\\\\n",
    "\\hat{z} & = \\frac{1}{h_{3}}\\frac{\\partial\\vec{r}}{\\partial z} = \\hat{k},\n",
    "\\end{align}\n",
    "onde usamos $h_{1}=h_{3}=1$ e $h_{2}=\\rho$. Vemos assim que $\\vec{r}=\\hat{\\rho}\\rho+\\hat{z}z$."
   ]
  },
  {
   "cell_type": "markdown",
   "metadata": {},
   "source": [
    "---\n",
    "$3.$ Conforme os cálculos que fizemos nas notas de aula, para coordenadas esféricas, verifique que $L_{y}^{2} = -\\hbar^{2}(\\cos^{2}\\phi\\partial_{\\theta\\theta} - \\cos\\phi\\sin\\phi(\\partial_{\\theta}\\cot\\theta)\\partial_{\\phi} - 2\\cot\\theta\\cos\\phi\\sin\\phi\\partial_{\\theta\\phi} + \\cot\\theta\\sin^{2}\\phi\\partial_{\\theta} + \\cot^{2}\\theta\\sin\\phi\\cos\\phi\\partial_{\\phi} + \\cot^{2}\\theta\\sin^{2}\\phi\\partial_{\\phi\\phi})$."
   ]
  },
  {
   "cell_type": "markdown",
   "metadata": {},
   "source": [
    "_SOL._ Temos que\n",
    "\\begin{align}\n",
    "L_{y}^{2} & = \\frac{\\hbar}{i}\\left(\\cos\\phi\\frac{\\partial}{\\partial \\theta}-\\cot\\theta\\sin\\phi\\frac{\\partial}{\\partial \\phi}\\right)\\frac{\\hbar}{i}\\left(\\cos\\phi\\frac{\\partial}{\\partial \\theta}-\\cot\\theta\\sin\\phi\\frac{\\partial}{\\partial \\phi}\\right) \\\\\n",
    "& = -\\hbar^{2}\\Big(0 + \\cos^{2}\\phi\\partial_{\\theta\\theta} - \\csc^{2}\\theta\\sin\\phi\\cos\\phi\\partial_{\\phi} - \\cot\\theta\\sin\\phi\\cos\\phi\\partial_{\\theta\\phi} \\\\\n",
    "& \\hspace{1.5cm} + \\cot\\theta\\sin^{2}\\phi\\partial_{\\theta}  - \\cot\\theta\\sin\\phi\\cos\\phi\\partial_{\\phi\\theta} +  \\cot^{2}\\theta\\sin\\phi\\cos\\phi\\partial_{\\phi} + \\cot^{2}\\theta\\sin^{2}\\phi\\partial_{\\phi} \\Big).\n",
    "\\end{align}"
   ]
  },
  {
   "cell_type": "markdown",
   "metadata": {},
   "source": [
    "---\n",
    "$4.$ Desenhe um diagrama vetorial mostrando as possíveis orientações do momento angular $\\vec{L}$ para o número quântico de momento angular $l=5$. Determine o menor valor possível dentre os possíveis ângulos que $\\vec{L}$ pode fazer como o eixo $z$ nesse caso."
   ]
  },
  {
   "cell_type": "markdown",
   "metadata": {},
   "source": [
    "_Sol._ Para $l=5$ temos $m_{l}=-5,-4,-3,-2,-1,0,1,2,3,4,5.$ Portanto teremos as orientações como mostrado abaixo. O ângulo é obtido de\n",
    "\\begin{align}\n",
    "& L_z = L\\cos\\theta \\ \\therefore\\ \\cos\\theta = \\frac{L_z}{L} = \\frac{\\hbar m_l}{\\hbar\\sqrt{l(l+1)}} \\\\\n",
    "& \\therefore\\ \\theta_\\min = \\arccos\\frac{5}{\\sqrt{5(5+1)}} \\approx 24.09^\\circ.\n",
    "\\end{align}"
   ]
  },
  {
   "cell_type": "code",
   "execution_count": 3,
   "metadata": {},
   "outputs": [
    {
     "data": {
      "image/png": "[encoded data removed]",
      "text/plain": [
       "<matplotlib.figure.Figure at 0x7fd49e4f49e8>"
      ]
     },
     "metadata": {
      "needs_background": "light"
     },
     "output_type": "display_data"
    }
   ],
   "source": [
    "def plot_angular(l):\n",
    "    if l == 0:\n",
    "        print('l deve ser > 0')\n",
    "        return\n",
    "    else:\n",
    "        fig = plt.figure(figsize=(2/l,2/l)); hbb = 1; L = hbb*sqrt(l*(l+1))\n",
    "        for ml in range(-l,l+1):\n",
    "            th = acos((hbb*ml)/L); x = L*sin(th); z = L*cos(th)\n",
    "            plt.text(x,z,r'$m_{l}=$'+str(ml),color='black', fontsize=14)\n",
    "            plt.annotate(\"\", xy=(0,0), xytext=(x,z), arrowprops=dict(arrowstyle=\"<-\"))\n",
    "    plt.annotate(\"\", xy=(0,0), xytext=(0,1.1*L), arrowprops=dict(arrowstyle=\"<-\",color='blue'))\n",
    "    plt.text(0,1.1*L,r'$z$',color='blue', fontsize=14)\n",
    "    plt.annotate(\"\", xy=(0,0), xytext=(1.5*L,0), arrowprops=dict(arrowstyle=\"<-\",color='blue'))\n",
    "    plt.text(1.5*L,0,r'$x$',color='blue', fontsize=14); plt.axis('off'); plt.show()\n",
    "plot_angular(5)"
   ]
  },
  {
   "cell_type": "code",
   "execution_count": 4,
   "metadata": {},
   "outputs": [
    {
     "data": {
      "text/plain": [
       "24.094842552110695"
      ]
     },
     "execution_count": 4,
     "metadata": {},
     "output_type": "execute_result"
    }
   ],
   "source": [
    "import numpy as np\n",
    "l = 5; ml = 5\n",
    "np.arccos(ml/np.sqrt(l*(l+1)))*180/np.pi"
   ]
  },
  {
   "cell_type": "markdown",
   "metadata": {},
   "source": [
    "---\n",
    "$5.$ Determine o momento angular $L=I\\omega$ de um CD com momento de inércia $I\\approx 10^{-5}\\text{ kg}\\cdot\\text{m}^{2}$ e velocidade angular $\\omega\\approx 2\\pi\\cdot 735\\text{ rpm}$. Determine o número quantico $l$ correspondente a esse momento angular quando quantizado."
   ]
  },
  {
   "cell_type": "markdown",
   "metadata": {},
   "source": [
    "_Sol._ Temos que \n",
    "\\begin{equation}\n",
    "L=I\\omega=10^{-5}\\text{ kg}\\cdot\\text{m}^{2} 2\\pi\\cdot 735\\frac{1}{1\\text{min}}\\frac{1\\text{ min}}{60\\text{ s}}\\approx 7,69\\mathrm{x}10^{-4} \\text{kg m}^{2}\\text{/s}.\n",
    "\\end{equation}\n",
    "Se quantizado, $L^{2}=\\hbar^{2}l(l+1)$. Assim\n",
    "\\begin{align}\n",
    "& l^{2}+l-L^{2}/\\hbar^{2}=0, \\\\\n",
    "& \\therefore l = \\frac{-1\\pm\\sqrt{1+4L^{2}/\\hbar^{2}}}{2} \\approx 10^{31}.\n",
    "\\end{align}\n",
    "Note que desconsideramos a raiz negativa."
   ]
  },
  {
   "cell_type": "code",
   "execution_count": 7,
   "metadata": {},
   "outputs": [
    {
     "data": {
      "text/plain": [
       "(0.0007696902001294994, 1.4597210371741634e+31)"
      ]
     },
     "execution_count": 7,
     "metadata": {},
     "output_type": "execute_result"
    }
   ],
   "source": [
    "h = 6.626069*10**-34 # Js (constante de Planck)\n",
    "hb = h/(2*np.pi) # hbar\n",
    "L=float(((10**-5)*2*np.pi*735)/60); l = -1/2+np.sqrt(1+4*L**2/hb**2); L,l"
   ]
  },
  {
   "cell_type": "markdown",
   "metadata": {},
   "source": [
    "---\n",
    "$6.$ Para valores grandes de $l$, mostre que o menor ângulo entre o eixo $z$ e $\\vec{L}$ pode ser escrito como $\\theta_{\\min}\\approx 1/\\sqrt{l}$."
   ]
  },
  {
   "cell_type": "markdown",
   "metadata": {},
   "source": [
    "_Sol._ Usando as séries de Taylor $\\cos x\\approx 1-x^{2}/2$ e $(1+x)^{-1/2}\\approx 1-x/2$ e $\\cos\\theta=L_{z}/L=m_{l}/\\sqrt{l(l+1)}$, notando que o ângulo mínimo é obtido quando $m_{l}=l$ teremos\n",
    "\\begin{align}\n",
    "\\cos\\theta_{\\min} &= 1-\\frac{\\theta_{\\min}^{2}}{2} = \\frac{l}{\\sqrt{l(l+1)}} = \\sqrt{\\frac{l^{2}}{l(l+1)}} = \\sqrt{\\frac{l}{l+1}} \\\\\n",
    "& =  \\sqrt{\\frac{1}{1+1/l}} = (1+1/l)^{-1/2} \\approx 1-(1/l)/2, \\\\\n",
    "& \\therefore \\theta_{\\min}^{2}\\approx 1/l \\ \\therefore \\theta_{\\min}\\approx 1/\\sqrt{l}.\n",
    "\\end{align}"
   ]
  }
 ],
 "metadata": {
  "kernelspec": {
   "display_name": "Python 3 (ipykernel)",
   "language": "python",
   "name": "python3"
  },
  "language_info": {
   "codemirror_mode": {
    "name": "ipython",
    "version": 3
   },
   "file_extension": ".py",
   "mimetype": "text/x-python",
   "name": "python",
   "nbconvert_exporter": "python",
   "pygments_lexer": "ipython3",
   "version": "3.12.2"
  }
 },
 "nbformat": 4,
 "nbformat_minor": 4
}
