{
 "cells": [
  {
   "cell_type": "markdown",
   "metadata": {},
   "source": [
    "# Exercícios"
   ]
  },
  {
   "cell_type": "markdown",
   "metadata": {},
   "source": [
    "---\n",
    "$1.$ Usando a função gama generalizada, verifique que $\\int_{0}^{\\infty}x^{2s+1}e^{-ax^{2}}dx=s!/(2a^{s+1})$."
   ]
  },
  {
   "cell_type": "markdown",
   "metadata": {},
   "source": [
    "_SOL._ Função gama generalizada: $\\Gamma_{m}(n)=\\int_{0}^{\\infty}x^{n-1}e^{-mx}dx=(n-1)!/m^{n}.$ Fazendo a troca de variável $y=ax^{2}\\ \\therefore dy=2axdx, \\  x=(y/a)^{1/2}.$ Assim\n",
    "\\begin{align}\n",
    "\\int_{0}^{\\infty}x^{2s+1}e^{-ax^{2}}dx & = \\int_{0}^{\\infty}((y/a)^{1/2})^{2s+1}e^{-y}\\frac{dy}{2a(y/a)^{1/2}} \\\\\n",
    "& = \\frac{1}{2a}\\int_{0}^{\\infty}((y/a)^{1/2})^{2s+1-1}e^{-y}dy \\\\\n",
    "& = \\frac{1}{2a^{1+s}}\\int_{0}^{\\infty}y^{s}e^{-y}dy \\\\\n",
    "&= \\frac{s!}{2a^{1+s}}.\n",
    "\\end{align}"
   ]
  },
  {
   "cell_type": "markdown",
   "metadata": {},
   "source": [
    "---\n",
    "$2.$ Verifique que $G(x,t) = e^{-x t/(1-t)}/(1-t)^{1+k}$ é a função geradora do polinômio associado de Laguerre $L_{j}^{k}(x)=(e^{x}x^{-k}/j!)\\partial_{x^{j}}(e^{-x}x^{j+k})$."
   ]
  },
  {
   "cell_type": "markdown",
   "metadata": {},
   "source": [
    "_SOL._"
   ]
  },
  {
   "cell_type": "markdown",
   "metadata": {},
   "source": [
    "---\n",
    "$3.$ Verifique a validade da relação $(j+1)L_{j+1}^{k}(x) = (2j+k+1-x)L_{j}^{k}(x) - (j+k)L_{j-1}^{k}(x)$ para os polinômios associados de Laguerre."
   ]
  },
  {
   "cell_type": "markdown",
   "metadata": {},
   "source": [
    "_SOL._"
   ]
  },
  {
   "cell_type": "markdown",
   "metadata": {},
   "source": [
    "---\n",
    "$4.$ Escreva explicitamente as autofunções $\\psi_{3,2,m_{l}}(r,\\theta,\\phi)$ de átomos hidrogenóides, para $m_{l}=0,\\pm1,\\pm2$."
   ]
  },
  {
   "cell_type": "markdown",
   "metadata": {},
   "source": [
    "_SOL._ Usando o código fornecido nas notas de aula, e depois de algumas manipulações, obtemos\n",
    "\\begin{align}\n",
    "& \\psi_{3,2,0} = \\frac{\\sqrt{6}}{54\\sqrt{\\pi}}\\sqrt{\\frac{Z^{7}}{a_{0}^{7}}}\\frac{1}{n^{2}}(3\\cos^{2}\\theta-1)r^{2}e^{-Zr/2na_{0}}, \\\\\n",
    "& \\psi_{3,2,\\pm1} = \\frac{\\sqrt{4}}{36\\sqrt{\\pi}}\\sqrt{\\frac{Z^{7}}{a_{0}^{7}}}\\frac{1}{n^{2}}\\cos\\theta\\sin\\theta r^{2}e^{-Zr/2na_{0}}, \\\\\n",
    "& \\psi_{3,2,\\pm2} = \\frac{\\sqrt{4}}{72\\sqrt{\\pi}}\\sqrt{\\frac{Z^{7}}{a_{0}^{7}}}\\frac{1}{n^{2}}\\sin^{2}\\theta r^{2}e^{-Zr/2na_{0}}.\n",
    "\\end{align}"
   ]
  },
  {
   "cell_type": "markdown",
   "metadata": {},
   "source": [
    "---\n",
    "$5.$ Verifique explicitamente a normalização da autofunção na Eq. $(\\bullet)$."
   ]
  },
  {
   "cell_type": "markdown",
   "metadata": {},
   "source": [
    "_SOL._ Usando $\\psi_{1,0,0}(r,\\theta,\\phi)=\\frac{1}{\\sqrt{\\pi}}\\left(\\frac{Z}{a_{0}}\\right)^{3/2}e^{-Zr/a_{0}}$ teremos\n",
    "\\begin{align}\n",
    "& \\iiint |\\psi_{1,0,0}(r,\\theta,\\phi)|^{2}d^{3}x = \\int_{0}^{\\infty}\\int_{0}^{\\pi}\\int_{0}^{2\\pi}\\frac{1}{\\pi}\\left(\\frac{Z}{a_{0}}\\right)^{3}e^{-2Zr/a_{0}}r^{2}\\sin\\theta drd\\theta d\\phi \\\\\n",
    "& = \\frac{1}{\\pi}\\left(\\frac{Z}{a_{0}}\\right)^{3}2\\pi\\left(-\\cos\\theta\\right)_{0}^{\\pi}\\int_{0}^{\\infty}r^{2}e^{-2Zr/a_{0}}dr = 4\\left(\\frac{Z}{a_{0}}\\right)^{3}\\int_{0}^{\\infty}r^{3-1}e^{-(2Z/a_{0})r}dr \\\\\n",
    "&= 4\\left(\\frac{Z}{a_{0}}\\right)^{3}\\Gamma_{2Z/a_{0}}(3) = 4\\left(\\frac{Z}{a_{0}}\\right)^{3}\\frac{(3-1)!}{(2Z/a_{0})^{3}} = 1,\n",
    "\\end{align}\n",
    "em que usamos a função Gama generalizada: $\\Gamma_{m}(n):=\\int_{0}^{\\infty}x^{n-1}e^{-mx}dx = \\frac{(n-1)!}{m^{n}}.$"
   ]
  },
  {
   "cell_type": "markdown",
   "metadata": {},
   "source": [
    "---\n",
    "$6.$ Verifique que para $n\\ne n'$ temos $I_r=0$, e portanto que $\\langle\\psi_{n,l,m_l}|\\psi_{n',l,m_l}\\rangle=0$ nestes casos."
   ]
  },
  {
   "cell_type": "markdown",
   "metadata": {},
   "source": [
    "_SOL._ "
   ]
  },
  {
   "cell_type": "markdown",
   "metadata": {},
   "source": [
    "---\n",
    "$7.$ Verifique o valor médio da coordenada radial para o estado fundamental do átomo de Hidrogênio é igual ao raio de Bohr: $\\langle R\\rangle_{\\psi_{1,0,0}}=3a_0/2.$"
   ]
  },
  {
   "cell_type": "markdown",
   "metadata": {},
   "source": [
    "_SOL._ A função de onda deste estado é $\\psi_{1,0,0}(r,\\theta,\\phi) = \\frac{1}{\\sqrt{\\pi}}\\left(\\frac{Z}{a_{0}}\\right)^{3/2}e^{-Zr/a_{0}}$. O valor médio da coordenada radial é calculado como segue\n",
    "\\begin{align}\n",
    "\\langle R\\rangle_{\\psi_{1,0,0}} & = \\int d^3 r \\psi_{1,0,0}^* r \\psi_{1,0,0} \\\\\n",
    "& = \\int_0^\\infty\\int_0^\\pi\\int_0^{2\\pi} r^2\\sin\\theta \\frac{1}{\\sqrt{\\pi}}\\left(\\frac{Z}{a_{0}}\\right)^{3/2}e^{-Zr/a_{0}} r \\frac{1}{\\sqrt{\\pi}}\\left(\\frac{Z}{a_{0}}\\right)^{3/2}e^{-Zr/a_{0}} \\\\\n",
    "& = \\frac{1}{\\pi}\\left(\\frac{Z}{a_{0}}\\right)^{3} \\int_{0}^{2\\pi}d\\phi \\int_{0}^{\\pi}\\sin\\theta d\\theta \\int_{0}^{\\infty} r^3 e^{-2Zr/a_0} \\\\\n",
    "& = \\frac{1}{\\pi}\\left(\\frac{Z}{a_{0}}\\right)^{3} 4\\pi \\frac{3a_0^4}{8Z^4} \\\\\n",
    "& = \\frac{3a_0}{2Z} \\\\\n",
    "& = \\frac{3a_0}{2},\n",
    "\\end{align}\n",
    "pois $Z=1$ para o átomo de Hidrogênio.\n",
    "\n",
    "A integral em $r$ é feita por partes:\n",
    "\n",
    "Define $u=r^3\\ \\therefore\\ du=3r^2 dr$ e $dv=e^{-2Zr/a_0} dr\\ \\therefore\\ v = -\\frac{a_0}{2Z}e^{-2Zr/a_0}$. Assim\n",
    "\\begin{align}\n",
    "I & = \\int_{0}^{\\infty} r^3 e^{-2Zr/a_0} \\\\\n",
    "& = \\Big(-r^3\\frac{a_0}{2Z}e^{-2Zr/a_0}\\Big)_0^\\infty - \\int_0^\\infty (-1)\\frac{a_0}{2Z}e^{-2Zr/a_0}3r^2 dr \\\\\n",
    "& = 0 + \\frac{3a_0}{2Z}\\int_0^\\infty r^2 e^{-2Zr/a_0} dr.\n",
    "\\end{align}\n",
    "Define $u=r^2\\ \\therefore\\ du=2r dr$ e $dv=e^{-2Zr/a_0} dr\\ \\therefore\\ v = -\\frac{a_0}{2Z}e^{-2Zr/a_0}$. Assim\n",
    "\\begin{align}\n",
    "I & = \\frac{3a_0}{2Z}\\Big(\\Big(-r^2\\frac{a_0}{2Z}e^{-2Zr/a_0}\\Big)_0^\\infty - \\int_0^\\infty (-1)\\frac{a_0}{2Z}e^{-2Zr/a_0}2r dr\\Big) \\\\\n",
    "& = \\frac{3a_0^2}{2Z^2}\\Big(0 + \\int_0^\\infty r e^{-2Zr/a_0} dr\\Big) \\\\\n",
    "\\end{align}\n",
    "Define $u=r\\ \\therefore\\ du=dr$ e $dv=e^{-2Zr/a_0} dr\\ \\therefore\\ v = -\\frac{a_0}{2Z}e^{-2Zr/a_0}$. Assim\n",
    "\\begin{align}\n",
    "I & = \\frac{3a_0^2}{2Z^2}\\Big(\\Big(-r\\frac{a_0}{2Z}e^{-2Zr/a_0}\\Big)_0^\\infty - \\int_0^\\infty (-1)\\frac{a_0}{2Z}e^{-2Zr/a_0} dr\\Big) \\\\\n",
    "& = \\frac{3a_0^3}{4Z^3}\\Big(0 + \\int_0^\\infty e^{-2Zr/a_0} dr\\Big) \\\\\n",
    "& = \\frac{3a_0^3}{4Z^3}\\Big(-\\frac{a_0}{2Z}e^{-2Zr/a_0}\\Big)_0^\\infty \\\\\n",
    "& = \\frac{3a_0^4}{8Z^4}.\n",
    "\\end{align}"
   ]
  },
  {
   "cell_type": "code",
   "execution_count": 12,
   "metadata": {},
   "outputs": [
    {
     "data": {
      "text/latex": [
       "$\\displaystyle \\frac{3 a_{0}^{4}}{8 Z^{4}}$"
      ],
      "text/plain": [
       "3*a_0**4/(8*Z**4)"
      ]
     },
     "execution_count": 12,
     "metadata": {},
     "output_type": "execute_result"
    }
   ],
   "source": [
    "from sympy import integrate, symbols, exp, oo, sin, sqrt, pi\n",
    "a0,Z,r = symbols('a_0 Z e', positive=True)\n",
    "integrate(r**3*exp(-2*Z*r/a0),(r,0,oo)) # ok"
   ]
  },
  {
   "cell_type": "code",
   "execution_count": 15,
   "metadata": {},
   "outputs": [
    {
     "data": {
      "text/latex": [
       "$\\displaystyle 1$"
      ],
      "text/plain": [
       "1"
      ]
     },
     "execution_count": 15,
     "metadata": {},
     "output_type": "execute_result"
    }
   ],
   "source": [
    "th, ph = symbols('theta phi')\n",
    "integrate(r**2*sin(th)*((1/sqrt(pi))*((Z/a0)**(3/2))*exp(-Z*r/a0))**2, (r,0,oo), (th,0,pi), (ph,0,2*pi)) # ok"
   ]
  },
  {
   "cell_type": "code",
   "execution_count": 16,
   "metadata": {},
   "outputs": [
    {
     "data": {
      "text/latex": [
       "$\\displaystyle \\frac{3 a_{0}}{2 Z}$"
      ],
      "text/plain": [
       "3*a_0/(2*Z)"
      ]
     },
     "execution_count": 16,
     "metadata": {},
     "output_type": "execute_result"
    }
   ],
   "source": [
    "integrate(r*r**2*sin(th)*((1/sqrt(pi))*((Z/a0)**(3/2))*exp(-Z*r/a0))**2, (r,0,oo), (th,0,pi), (ph,0,2*pi)) # ok"
   ]
  },
  {
   "cell_type": "markdown",
   "metadata": {},
   "source": [
    "---\n",
    "$8.$ O Muónio é um sistema constituído por um antimuón e por um elétron, sendo que o antimuón é uma partícula elementar de carga elétrica $+e$, spin 1/2 e massa $m_m \\approx 1,883531627\\times 10^{-28}\\text{ kg}.$ Dado que a energia de um átomo hidrogenóide é $E_n = -\\mu k^2 Z^2 e^4/2\\hbar^2 n^2,$ obtenha a energia do estado fundamental do Muónio e a compare com aquela do átomo de Hidrogênio. Já o positrônio é um sistema constituído por um elétron e pelo sua antipartícula, o pósitron que tem carga elétrica $+e$, spin $1/2$ e massa igual à massa do elétron. Calcule também a energia do estado fundamental do positrônio."
   ]
  },
  {
   "cell_type": "markdown",
   "metadata": {},
   "source": [
    "_SOL._ Usando o código abaixo, vemos que a energia do estado fundamental do muónio é \n",
    "$$E_1(\\text{Muónio}) \\approx -13,54\\text{ eV},$$\n",
    "que é um pouco maior que a energia correspondente do átomo de Hidrogênio\n",
    "$$E_1(\\text{Hodrigênio}) \\approx -13,60\\text{ eV}.$$\n",
    "Já a energia do estado fundamental do positrônio é\n",
    "$$E_1(\\text{Positrônio}) \\approx -6,80\\text{ eV},$$\n",
    "que é bem maior que a energia do estado fundamental do Hidrogênio. Por conseguinte\n",
    "\\begin{align}\n",
    "& E_1(\\text{Muónio}) \\approx 0.9957 E_1(\\text{Hodrigênio}), \\\\\n",
    "& E_1(\\text{Positrônio}) \\approx 0.5 E_1(\\text{Hodrigênio}).\n",
    "\\end{align}"
   ]
  },
  {
   "cell_type": "code",
   "execution_count": 1,
   "metadata": {},
   "outputs": [],
   "source": [
    "import math\n",
    "me = 9.109382*10**-31 # kg (massa do elétron)\n",
    "mp = 1.67262192*10**-27 # kg (massa do próton)\n",
    "mm = 1.883531627*10**-28 # kg (massa do múon)\n",
    "e = 1.60217662*10**-19 # C (carga elementar)\n",
    "k = 8.9875517923*10**9 # Nm^2/C^2 (constante de Coulomb)\n",
    "h = 6.626069*10**-34 # Js (constante de Planck)\n",
    "heV = h/e # em eV\n",
    "hb = h/(2*math.pi) # hbar\n",
    "hbeV = hb/e # em eV\n",
    "c = 2.99792458*10**8 # m/s (velocidade da luz no vácuo)\n",
    "from matplotlib import pyplot as plt\n",
    "\n",
    "def bohr(Z,mu,n): # em eV\n",
    "    return (-((mu*Z**2*e**4*k**2)/(2*hb**2))/n**2)/e\n",
    "\n",
    "def bohr_ed(Z,mu,xmin,xmax):\n",
    "    plt.hlines(bohr(Z,mu,1),xmin,xmax,color='magenta')\n",
    "    plt.text(-0.15,bohr(Z,mu,1),'1',color='magenta'); \n",
    "    plt.text(1.01,bohr(Z,mu,1),'%3.3f' % (bohr(Z,mu,1)),color='magenta')\n",
    "    plt.hlines(bohr(Z,mu,2),xmin,xmax,color='blue')\n",
    "    plt.text(-0.15,bohr(Z,mu,2),'2',color='blue'); \n",
    "    plt.text(1.01,bohr(Z,mu,2),'%3.3f' % (bohr(Z,mu,2)),color='blue')\n",
    "    plt.hlines(bohr(Z,mu,3),xmin,xmax,color='cyan') \n",
    "    plt.text(-0.15,bohr(Z,mu,3),'3',color='cyan'); \n",
    "    plt.text(1.01,bohr(Z,mu,3),'%3.3f' % (bohr(Z,mu,3)),color='cyan')\n",
    "    plt.hlines(bohr(Z,mu,4),xmin,xmax,color='green')\n",
    "    plt.text(-0.15,bohr(Z,mu,4),'4',color='green'); \n",
    "    plt.text(1.01,bohr(Z,mu,4),'%3.3f' % (bohr(Z,mu,4)),color='green')\n",
    "    plt.hlines(bohr(Z,mu,5),xmin,xmax,color='gray'); \n",
    "    plt.hlines(bohr(Z,mu,6),xmin,xmax,color='brown')\n",
    "    plt.hlines(bohr(Z,mu,7),xmin,xmax,color='brown'); \n",
    "    plt.hlines(bohr(Z,mu,8),xmin,xmax,color='brown')\n",
    "    plt.hlines(bohr(Z,mu,9),xmin,xmax,color='gray'); \n",
    "    plt.hlines(bohr(Z,mu,10),xmin,xmax,color='brown')\n",
    "    plt.hlines(bohr(Z,mu,11),xmin,xmax,color='brown')\n",
    "    plt.hlines(0,0,1,color='red')\n",
    "    plt.text(-0.15,0,r'$n=\\infty$',color='red'); \n",
    "    plt.text(1.01,0.1,r'0 (eV)',color='red')\n",
    "    plt.xlim(0,2); plt.ylim(bohr(Z,mu,1)-0.1,0)\n",
    "    plt.annotate(\"\", xy=(0.5,bohr(Z,mu,1)), xytext=(0.5,bohr(Z,mu,2)), \n",
    "                 arrowprops=dict(arrowstyle=\"<->\"))\n",
    "    plt.text(0.51,(bohr(Z,mu,1)+bohr(Z,mu,2))/2,\n",
    "             (c*heV)/(bohr(Z,mu,2)-bohr(Z,mu,1)))\n",
    "    plt.annotate(\"\", xy=(0.7,bohr(Z,mu,2)), xytext=(0.7,bohr(Z,mu,3)), \n",
    "                 arrowprops=dict(arrowstyle=\"<->\"))\n",
    "    plt.text(0.71,(bohr(Z,mu,2)+bohr(Z,mu,3))/2,\n",
    "             (c*heV)/(bohr(Z,mu,3)-bohr(Z,mu,2))) # lambda em metros\n",
    "    plt.axis('off'); plt.show()"
   ]
  },
  {
   "cell_type": "code",
   "execution_count": 2,
   "metadata": {},
   "outputs": [
    {
     "data": {
      "image/png": "[encoded data removed]",
      "text/plain": [
       "<Figure size 640x480 with 1 Axes>"
      ]
     },
     "metadata": {},
     "output_type": "display_data"
    }
   ],
   "source": [
    "Z=1; mu = (mm*me)/(mm+me); bohr_ed(Z,mu,0,1) # muónio"
   ]
  },
  {
   "cell_type": "code",
   "execution_count": 3,
   "metadata": {},
   "outputs": [],
   "source": [
    "EM1 = -13.54 # eV"
   ]
  },
  {
   "cell_type": "code",
   "execution_count": 4,
   "metadata": {},
   "outputs": [
    {
     "data": {
      "image/png": "[encoded data removed]",
      "text/plain": [
       "<Figure size 640x480 with 1 Axes>"
      ]
     },
     "metadata": {},
     "output_type": "display_data"
    }
   ],
   "source": [
    "Z=1; mu = (mp*me)/(mp+me); bohr_ed(Z,mu,0,1)"
   ]
  },
  {
   "cell_type": "code",
   "execution_count": 5,
   "metadata": {},
   "outputs": [
    {
     "data": {
      "text/plain": [
       "0.9957346668627738"
      ]
     },
     "execution_count": 5,
     "metadata": {},
     "output_type": "execute_result"
    }
   ],
   "source": [
    "EH1 = -13.598 # eV\n",
    "EM1/EH1"
   ]
  },
  {
   "cell_type": "code",
   "execution_count": 6,
   "metadata": {},
   "outputs": [
    {
     "data": {
      "image/png": "[encoded data removed]",
      "text/plain": [
       "<Figure size 640x480 with 1 Axes>"
      ]
     },
     "metadata": {},
     "output_type": "display_data"
    }
   ],
   "source": [
    "Z=1; mu = (me*me)/(me+me); bohr_ed(Z,mu,0,1) # positrônio"
   ]
  },
  {
   "cell_type": "code",
   "execution_count": 7,
   "metadata": {},
   "outputs": [
    {
     "data": {
      "text/plain": [
       "0.5002941609060155"
      ]
     },
     "execution_count": 7,
     "metadata": {},
     "output_type": "execute_result"
    }
   ],
   "source": [
    "EP1 = -6.803 # eV\n",
    "EP1/EH1"
   ]
  },
  {
   "cell_type": "code",
   "execution_count": null,
   "metadata": {},
   "outputs": [],
   "source": []
  }
 ],
 "metadata": {
  "kernelspec": {
   "display_name": "Python 3 (ipykernel)",
   "language": "python",
   "name": "python3"
  },
  "language_info": {
   "codemirror_mode": {
    "name": "ipython",
    "version": 3
   },
   "file_extension": ".py",
   "mimetype": "text/x-python",
   "name": "python",
   "nbconvert_exporter": "python",
   "pygments_lexer": "ipython3",
   "version": "3.11.1"
  }
 },
 "nbformat": 4,
 "nbformat_minor": 4
}
