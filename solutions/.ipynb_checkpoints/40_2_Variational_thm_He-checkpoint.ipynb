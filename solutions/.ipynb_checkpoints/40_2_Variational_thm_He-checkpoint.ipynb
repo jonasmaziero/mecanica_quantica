{
 "cells": [
  {
   "cell_type": "markdown",
   "id": "b1ac625b-1377-4483-83ac-b631ce58127a",
   "metadata": {},
   "source": [
    "### Notas de aula de Mecânica Quântica <br> Autor: Jonas Maziero\n",
    "# Exercícios"
   ]
  },
  {
   "cell_type": "markdown",
   "id": "7f0239a2",
   "metadata": {},
   "source": [
    "---\n",
    "$1.$ Verifique que para a função de onda teste da eq. ($*$), o valor médio do hamiltoniano da eq. ($\\star$) é dado pela expressão na eq. ($\\diamond$)."
   ]
  },
  {
   "cell_type": "markdown",
   "id": "e16ee09c",
   "metadata": {},
   "source": [
    "_SOL._ Usando a eq. $(*)$, $\\phi = \\frac{Z^{3}}{\\pi a_{0}^{3}}e^{-Z(r_{1}+r_{2})/a_{0}}$, e a eq. $(\\star)$, $H = -\\frac{\\hbar^{2}}{2m_{e}}\\big(\\nabla_{1}^{2}+\\nabla_{2}^{2}\\big)-ke^{2}\\Big(\\frac{Z}{r_{1}}+\\frac{Z}{r_{2}}\\Big) + ke^{2}\\Big(\\frac{Z-2}{r_{1}}+\\frac{Z-2}{r_{2}}+\\frac{1}{||\\vec{r}_{1}-\\vec{r}_{2}||}\\Big)$, obtemos\n",
    "\\begin{align}\n",
    "\\langle H\\rangle_\\phi & = \\langle\\phi|H|\\phi\\rangle \\\\\n",
    "\\end{align}"
   ]
  }
 ],
 "metadata": {
  "kernelspec": {
   "display_name": "Python 3 (ipykernel)",
   "language": "python",
   "name": "python3"
  },
  "language_info": {
   "codemirror_mode": {
    "name": "ipython",
    "version": 3
   },
   "file_extension": ".py",
   "mimetype": "text/x-python",
   "name": "python",
   "nbconvert_exporter": "python",
   "pygments_lexer": "ipython3",
   "version": "3.11.1"
  }
 },
 "nbformat": 4,
 "nbformat_minor": 5
}
