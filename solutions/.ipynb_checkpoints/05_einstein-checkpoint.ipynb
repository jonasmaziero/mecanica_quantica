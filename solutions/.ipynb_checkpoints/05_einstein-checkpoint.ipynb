{
 "cells": [
  {
   "cell_type": "markdown",
   "metadata": {},
   "source": [
    "### Notas de aula de Mecânica Quântica <br> Autor: Jonas Maziero\n",
    "\n",
    "# Exercícios"
   ]
  },
  {
   "cell_type": "markdown",
   "metadata": {},
   "source": [
    "---\n",
    "$1.$ Os comprimentos de onda da luz visível vão aproximadamente de $380\\text{ nm}$ a $750\\text{ nm}$. Qual é o intervalo de energia, em $\\text{eV}$, dos fótons nesse intervalo? Qual é a energia, em $\\text{eV}$, dos fótons de uma onda de rádio FM, cuja frequência típica é $100\\text{ MHz}$? Qual é a energia, em $\\text{eV}$, associada a raios X de comprimento de onda $0,1\\text{ nm}$."
   ]
  },
  {
   "cell_type": "markdown",
   "metadata": {},
   "source": [
    "_SOL._ Segundo Einstein, a energia de um fóton de frequência $\\nu=c/\\lambda$ é \n",
    "\\begin{equation}\n",
    "E=h\\nu=hc/\\lambda.\n",
    "\\end{equation}\n",
    "Um elétron-volt é a energia ganha por uma carga elementar $e$ ao ser acelerada por uma ddp de $1V$, i.e., $1\\text{ eV}=(e)(1V)\\approx (1,6\\mathrm{x}10^{-19}\\text{ C})(1V)=1,6\\mathrm{x}10^{-19}\\text{ J}$. Temos assim que\n",
    "\\begin{align}\n",
    "& E(380\\text{ nm})= hc/380\\text{ nm} \\approx 5,23\\mathrm{x}10^{-19}\\text{ J} \\approx 3,26\\text{ eV}, \\\\\n",
    "& E(750\\text{ nm})= hc/750\\text{ nm} \\approx 2,65\\mathrm{x}10^{-19}\\text{ J} \\approx 1,65\\text{ eV}.\n",
    "\\end{align}\n",
    "Para frequências de rádio FM $(\\lambda\\approx 3\\text{ m})$ teremos \n",
    "\\begin{equation}\n",
    "E(100\\text{ MHz}) = h(100\\mathrm{x}10^{6}\\text{ Hz}) \\approx 6,63\\mathrm{x}10^{-26}\\text{ J} \\approx 4,14\\mathrm{x}10^{-7}\\text{ eV}.\n",
    "\\end{equation}\n",
    "Já para os raios X teremos\n",
    "\\begin{equation}\n",
    "E(0,1\\text{ nm})= hc/0,1\\text{ nm} \\approx 1,99\\mathrm{x}10^{-15}\\text{ J} \\approx 1,24\\mathrm{x}10^{4}\\text{ eV}.\n",
    "\\end{equation}"
   ]
  },
  {
   "cell_type": "code",
   "execution_count": 2,
   "metadata": {},
   "outputs": [
    {
     "data": {
      "text/plain": [
       "(3.2627415262704864,\n",
       " 1.6531223733103797,\n",
       " 4.1356670152882396e-07,\n",
       " 2.99792458,\n",
       " 12398.417799827846)"
      ]
     },
     "execution_count": 2,
     "metadata": {},
     "output_type": "execute_result"
    }
   ],
   "source": [
    "h = 6.626069*10**-34 # Js (constante de Planck)\n",
    "c = 2.99792458*10**8 # m/s (velocidade da luz no vácuo)\n",
    "e = 1.60217662*10**-19 # C (carga elementar)\n",
    "(h*c/(380*10**-9))/e, (h*c/(750*10**-9))/e, (h*100*10**6)/e, c/(100*10**6), (h*c/(0.1*10**-9))/e"
   ]
  },
  {
   "cell_type": "markdown",
   "metadata": {},
   "source": [
    "---\n",
    "$2.$ Um experimento sobre o efeito fotoelétrico com césio obteve $V_{0}(\\lambda=435,8\\text{ nm})=-0,95\\text{ V}$ e $V_{0}(\\lambda=546,1\\text{ nm})=-0,38\\text{ V}$. Usando esses dados, determine a frequência de corte e a função trabalho para o césio e a constante de Planck $h$."
   ]
  },
  {
   "cell_type": "markdown",
   "metadata": {},
   "source": [
    "_SOL._ A equação do efeito fotoelétrico é $$|V_{0}(\\nu)|=-(\\tau/e)+(h/e)\\nu.$$ Portanto\n",
    "\\begin{align}\n",
    "h&= e\\frac{|V_{0}(\\nu_{2})|-|V_{0}(\\nu_{1})|}{\\nu_{2}-\\nu_{1}} = e\\frac{|V_{0}(\\lambda_{2})|-|V_{0}(\\lambda_{1})|}{c(\\lambda_{2}-\\lambda_{1})}\\lambda_{2}\\lambda_{1} \\\\\n",
    "& \\approx 6,57\\mathrm{x}10^{-34}\\text{ Js}.\n",
    "\\end{align}"
   ]
  },
  {
   "cell_type": "code",
   "execution_count": 3,
   "metadata": {},
   "outputs": [
    {
     "data": {
      "text/plain": [
       "-6.572769959873076e-34"
      ]
     },
     "execution_count": 3,
     "metadata": {},
     "output_type": "execute_result"
    }
   ],
   "source": [
    "e*(0.38-0.95)*(546.1*(10**-9)*435.8*(10**-9))/(c*(546.1*(10**-9)-435.8*(10**-9)))"
   ]
  },
  {
   "cell_type": "markdown",
   "metadata": {},
   "source": [
    "Tendo $h$, para obter a função trabalho, podemos usar qualquer uma das 2 eqs.:\n",
    "\\begin{align}\n",
    "& V_{0}(\\lambda=435,8\\text{ nm})=-0,95\\text{ V} \\ \\therefore \\ 0,95\\text{ V} = -(\\tau/e) + (h/e)(c/\\lambda) \\\\\n",
    "& \\therefore \\ \\tau = -0,95\\text{ V}e + \\frac{hc}{435,8\\text{ nm}} \\approx 3,04\\text{x}10^{-19}\\text{ J}\\approx 1,9\\text{ eV}.\n",
    "\\end{align}"
   ]
  },
  {
   "cell_type": "code",
   "execution_count": 4,
   "metadata": {},
   "outputs": [],
   "source": [
    "ft = (-0.95*e + (h*c)/(435.8*10**-9))#/e"
   ]
  },
  {
   "cell_type": "markdown",
   "metadata": {},
   "source": [
    "A frequência de corte corresponde à energia m\\'inima do f\\'oton para arrancar o el\\'etron, i.e., $h\\nu_{c}=\\tau$. Assim $$\\nu_{c} = \\tau/h \\approx 4,58\\text{x}10^{14}\\text{ Hz},$$ que corresponde a $$\\lambda_{c} = \\frac{c}{\\nu_{c}}\\approx 654,28\\text{ nm}.$$"
   ]
  },
  {
   "cell_type": "code",
   "execution_count": 5,
   "metadata": {},
   "outputs": [
    {
     "data": {
      "text/plain": [
       "(458203921268700.3, 6.542773732051836e-07)"
      ]
     },
     "execution_count": 5,
     "metadata": {},
     "output_type": "execute_result"
    }
   ],
   "source": [
    "fc = ft/h; lc = c/fc; fc, lc"
   ]
  },
  {
   "cell_type": "markdown",
   "metadata": {},
   "source": [
    "---\n",
    "$3.$ O olho humano consegue sentir um sinal de luz quando 60 ou mais fótons chegam até a córnea. Qual é a energia total associada a esses 60 fótons se o comprimento de onda da radiação eletromagnética incidente é $550\\text{ nm}$?"
   ]
  },
  {
   "cell_type": "markdown",
   "metadata": {},
   "source": [
    "_SOL._ A energia de um fóton é $h\\nu=hc/\\lambda$. Para 60 fótons teremos\n",
    "\\begin{equation}\n",
    "E=60\\frac{hc}{\\lambda} \\approx 2,17\\mathrm{x}10^{-17}\\text{ J} \\approx 135,26\\text{ eV}.\n",
    "\\end{equation}"
   ]
  },
  {
   "cell_type": "code",
   "execution_count": 7,
   "metadata": {},
   "outputs": [
    {
     "data": {
      "text/plain": [
       "135.2554669072129"
      ]
     },
     "execution_count": 7,
     "metadata": {},
     "output_type": "execute_result"
    }
   ],
   "source": [
    "heV = h/e # em eV\n",
    "lbda = 550*10**-9; (60*heV*c)/lbda"
   ]
  },
  {
   "cell_type": "markdown",
   "metadata": {},
   "source": [
    "---\n",
    "$4.$ A molécula de NaCl possui uma energia de ligação de $4,26\\text{ eV}$, que é a energia necessária pra 'quebrar' a molécula e obter os íons Na$^{+}$ e Cl$^{-}$ separados. Qual é a frequência mínima (comprimento de onda máximo) para que um fóton forneça energia suficiente para dissociar a molécula NaCl? Em qual parte do espectro eletromagnético está este fóton?"
   ]
  },
  {
   "cell_type": "markdown",
   "metadata": {},
   "source": [
    "_SOL._ A princípio, a energia do fóton precisa ser maior ou igual a energia de ligação:\n",
    "\\begin{equation}\n",
    "h\\nu\\ge 4,26\\text{ eV} = h\\nu_{\\min} \\therefore \\nu_{\\min} = \\frac{4,26\\text{ eV}}{h} \\approx 1,03\\text{x}10^{15}\\text{ Hz},\n",
    "\\end{equation}\n",
    "que está na região do ultravioleta do espectro eletromagnético, que está ilustrado abaixo.\n",
    "<figure>\n",
    "    <img src=\"fig_03_electromagnetic_spectrum.png\" width=\"600\">\n",
    "    <div class=\"caption\">Fonte: https://commons.wikimedia.org/wiki/File:EM_Spectrum_Properties_edit.svg.</div>\n",
    "</figure>"
   ]
  },
  {
   "cell_type": "code",
   "execution_count": 8,
   "metadata": {},
   "outputs": [
    {
     "data": {
      "text/plain": [
       "1030063586901977.5"
      ]
     },
     "execution_count": 8,
     "metadata": {},
     "output_type": "execute_result"
    }
   ],
   "source": [
    "4.26/heV"
   ]
  },
  {
   "cell_type": "markdown",
   "metadata": {},
   "source": [
    "---\n",
    "$5.$ Calcule o comprimento de onda de Compton de um elétron, de um próton e da molécula $H_{2}$. Calcule quais seriam as energias de fótons com esses comprimentos de onda."
   ]
  },
  {
   "cell_type": "markdown",
   "metadata": {},
   "source": [
    "_SOL._ Aplicando a definição, teremos\n",
    "\\begin{align}\n",
    "\\lambda_{c}^{e} &= \\frac{h}{m_{e}c} \\approx 242,63\\text{x}10^{-14}\\text{ m}, \\\\\n",
    "\\lambda_{c}^{p} &= \\frac{h}{m_{p}c} \\approx 132,14\\text{x}10^{-17}\\text{ m}, \\\\\n",
    "\\lambda_{c}^{H_{2}} &= \\frac{h}{m_{H_{2}}c} \\approx 660,30\\text{x}10^{-18}\\text{ m}.\n",
    "\\end{align}"
   ]
  },
  {
   "cell_type": "code",
   "execution_count": 13,
   "metadata": {},
   "outputs": [
    {
     "data": {
      "text/plain": [
       "(9.109382e-31, 1.6726219e-27, 0.001)"
      ]
     },
     "execution_count": 13,
     "metadata": {},
     "output_type": "execute_result"
    }
   ],
   "source": [
    "me = 9.109382*10**-31 # kg (massa do elétron)\n",
    "mp = 1.6726219*10**-27 # kg (massa do próton)\n",
    "mH2 = 10**-3 # kg (massa da molécula H2)\n",
    "me, mp, mH2"
   ]
  },
  {
   "cell_type": "code",
   "execution_count": 12,
   "metadata": {},
   "outputs": [
    {
     "data": {
      "text/plain": [
       "(2.4263102707796467e-12, 1.3214096447652182e-15, 2.2102187107055243e-39)"
      ]
     },
     "execution_count": 12,
     "metadata": {},
     "output_type": "execute_result"
    }
   ],
   "source": [
    "h/(me*c), h/(mp*c), h/(mH2*c)"
   ]
  },
  {
   "cell_type": "markdown",
   "metadata": {},
   "source": [
    "---\n",
    "$6.$ Calcule o deslocamento Compton para um ângulo $\\varphi=2\\pi/3$ entre $\\vec{p}_{i}^{f}$ e $\\vec{p}_{f}^{f}$ para espalhamento por um elétron, por de um próton ou por uma molécula $H_{2}$."
   ]
  },
  {
   "cell_type": "markdown",
   "metadata": {},
   "source": [
    "_SOL._ O deslocamento Compton é $\\Delta\\lambda = \\frac{h}{mc}(1-\\cos\\varphi)$. Usando $m_{H_{2}}=2,01588u$ teremos\n",
    "\\begin{align}\n",
    "& \\Delta\\lambda(\\text{elétron}) = \\frac{h}{m_{e}c}(1-\\cos(2\\pi/3)) \\approx 3,64\\mathrm{x}10^{-12}\\text{ m}, \\\\\n",
    "& \\Delta\\lambda(\\text{próton}) = \\frac{h}{m_{p}c}(1-\\cos(2\\pi/3)) \\approx 1,98\\mathrm{x}10^{-15}\\text{ m}, \\\\\n",
    "& \\Delta\\lambda(H_{2}) = \\frac{h}{m_{H_{2}}c}(1-\\cos(2\\pi/3)) \\approx 9,9\\mathrm{x}10^{-16}\\text{ m}.\n",
    "\\end{align}"
   ]
  },
  {
   "cell_type": "code",
   "execution_count": 16,
   "metadata": {},
   "outputs": [
    {
     "data": {
      "text/plain": [
       "(3.63946540616947e-12, 1.98211446714783e-15, 3.31532806605829e-39)"
      ]
     },
     "execution_count": 16,
     "metadata": {},
     "output_type": "execute_result"
    }
   ],
   "source": [
    "from sympy import cos, pi\n",
    "(h/(me*c))*(1-cos(2*pi/3)), (h/(mp*c))*(1-cos(2*pi/3)), (h/(mH2*c))*(1-cos(2*pi/3))"
   ]
  },
  {
   "cell_type": "markdown",
   "metadata": {},
   "source": [
    "---\n",
    "$7.$ Considere um fóton de um raio gama com energia $0,511\\text{ MeV}$, produzido pela aniquilação de um elétron e de um pósitron. Se este fóton sofre espalhamento Compton, com $\\varphi=110^{\\circ}$, por um elétron livre, quais são as energias do fóton e do elétron após a colisão? Qual é a direção do movimento do elétron após a colisão, em relação à direção do fóton incidente?"
   ]
  },
  {
   "cell_type": "markdown",
   "metadata": {},
   "source": [
    "_SOL._ Da eq. de Compton temos que \n",
    "\\begin{equation}\n",
    "\\lambda_{f}=\\lambda_{i}+\\lambda_{c}^{e}(1-\\cos\\varphi) = \\frac{hc}{0,511\\text{ MeV}}+\\frac{h}{m_{e}c}(1-\\cos 110^{\\circ}) \\approx 5,68\\text{x}10^{-12}\\text{ m}.\n",
    "\\end{equation}\n",
    "A energia final do fóton é portanto\n",
    "\\begin{equation}\n",
    "E_{f}^{f} = h\\nu_{f} = \\frac{hc}{\\lambda_{f}} \\approx 0,218\\text{ MeV}.\n",
    "\\end{equation}\n",
    "O momento linear final do elétron pode ser obtido de\n",
    "\\begin{align}\n",
    "(p_{f}^{e})^{2} &= (p_{i}^{f})^{2}+(p_{f}^{f})^{2}-2p_{i}^{f}p_{f}^{f} + 2(p_{i}^{f}-p_{f}^{f})m_{e}c \\\\\n",
    "&= (h/\\lambda_{i})^{2}+(h/\\lambda_{f})^{2}-2h^{2}/\\lambda_{i}\\lambda_{f} + 2h((1/\\lambda_{i}-1/\\lambda_{f})m_{e}c, \\\\\n",
    "\\therefore p_{f}^{e} &\\approx 3,32\\text{x}10^{-22}\\text{ kgm/s}.\n",
    "\\end{align}\n",
    "Como a componente $y$ do momento angular inicial é igual a zero, conservação do momento linear exige que $(\\vec{p}_{f}^{f})_{y}=(\\vec{p}_{f}^{e})_{y}$. Usando um pouco de trigonometria, podemos ver que $(\\vec{p}_{f}^{f})_{y}=p_{f}^{f}\\sin(\\pi-\\varphi)$ e o ângulo entre $\\vec{p}_{f}^{e}$ e $\\vec{p}_{i}^{f}$ é\n",
    "\\begin{equation}\n",
    "\\theta = \\arcsin\\frac{(\\vec{p}_{f}^{e})_{y}}{p_{f}^{e}} = \\arcsin\\frac{(\\vec{p}_{f}^{f})_{y}}{p_{f}^{e}} = \\arcsin\\frac{p_{f}^{f}\\sin(\\pi-\\varphi)}{p_{f}^{e}} \\approx 19,30^{\\circ}.\n",
    "\\end{equation}"
   ]
  },
  {
   "cell_type": "code",
   "execution_count": 18,
   "metadata": {},
   "outputs": [
    {
     "data": {
      "text/plain": [
       "(2.426304853195274e-12, 5.68246211053952e-12)"
      ]
     },
     "execution_count": 18,
     "metadata": {},
     "output_type": "execute_result"
    }
   ],
   "source": [
    "import math\n",
    "lbda_i=(heV*c)/(0.511*10**6); ph = (110*math.pi)/180; lbda_f = lbda_i + (h/(me*c))*(1-cos(ph))\n",
    "lbda_i, lbda_f"
   ]
  },
  {
   "cell_type": "code",
   "execution_count": 19,
   "metadata": {},
   "outputs": [
    {
     "data": {
      "text/latex": [
       "$\\displaystyle 218187.425778554$"
      ],
      "text/plain": [
       "218187.425778554"
      ]
     },
     "execution_count": 19,
     "metadata": {},
     "output_type": "execute_result"
    }
   ],
   "source": [
    "Ef = (h*c)/lbda_f; Ef/e"
   ]
  },
  {
   "cell_type": "code",
   "execution_count": 21,
   "metadata": {},
   "outputs": [
    {
     "data": {
      "text/latex": [
       "$\\displaystyle 3.31601201798922 \\cdot 10^{-22}$"
      ],
      "text/plain": [
       "3.31601201798922e-22"
      ]
     },
     "execution_count": 21,
     "metadata": {},
     "output_type": "execute_result"
    }
   ],
   "source": [
    "from sympy import sqrt\n",
    "pfe = sqrt((h/lbda_i)**2 + (h/lbda_f)**2 -2*(h/lbda_i)*(h/lbda_f) + 2*((h/lbda_i)-(h/lbda_f))*(me*c) ); pfe"
   ]
  },
  {
   "cell_type": "code",
   "execution_count": 24,
   "metadata": {},
   "outputs": [
    {
     "data": {
      "text/latex": [
       "$\\displaystyle 19.295322785701$"
      ],
      "text/plain": [
       "19.2953227857010"
      ]
     },
     "execution_count": 24,
     "metadata": {},
     "output_type": "execute_result"
    }
   ],
   "source": [
    "from sympy import asin, sin\n",
    "th = asin(((h/lbda_f)*sin(pi-ph))/pfe); th*180/math.pi"
   ]
  },
  {
   "cell_type": "markdown",
   "metadata": {},
   "source": [
    "--- \n",
    "$8.$ Tubos de raios X usados atualmente por dentistas possuem voltagem de aceleração de $80\\text{ kV}$. Qual é o comprimento de onda mínimo dos raios X que esses tubos produzem?"
   ]
  },
  {
   "cell_type": "markdown",
   "metadata": {},
   "source": [
    "_SOL._ Um elétron acelerado com essa ddp ganha uma energia cinética $E_{c}=8\\text{x}10^{4}\\text{ eV}$. Se toda essa energia é usada para arrancar um elétron do alvo, e a diferença entre as energias inicial e final do elétron que faz a transição para ocupar aquele estado desocupado inicialmente for $\\Delta E=E_{c}=h\\nu=hc/\\lambda$. Assim o comprimento de onda mínimo (que corresponde a energia máxima) é\n",
    "\\begin{equation}\n",
    "\\lambda_{\\min} = \\frac{hc}{E_{c}} = \\frac{hc}{8\\text{x}10^{4}\\text{ eV}} \\approx 154,98\\text{x}10^{-13}\\text{ m}.\n",
    "\\end{equation}"
   ]
  },
  {
   "cell_type": "code",
   "execution_count": 25,
   "metadata": {},
   "outputs": [
    {
     "data": {
      "text/plain": [
       "(1.5498022249784812e-11, 1.9343917124919767e+19)"
      ]
     },
     "execution_count": 25,
     "metadata": {},
     "output_type": "execute_result"
    }
   ],
   "source": [
    "lbda_min=(heV*c)/(8*10**4); f_min = c/lbda_min; lbda_min, f_min "
   ]
  },
  {
   "cell_type": "code",
   "execution_count": null,
   "metadata": {},
   "outputs": [],
   "source": []
  }
 ],
 "metadata": {
  "kernelspec": {
   "display_name": "Python 3 (ipykernel)",
   "language": "python",
   "name": "python3"
  },
  "language_info": {
   "codemirror_mode": {
    "name": "ipython",
    "version": 3
   },
   "file_extension": ".py",
   "mimetype": "text/x-python",
   "name": "python",
   "nbconvert_exporter": "python",
   "pygments_lexer": "ipython3",
   "version": "3.11.1"
  }
 },
 "nbformat": 4,
 "nbformat_minor": 4
}
