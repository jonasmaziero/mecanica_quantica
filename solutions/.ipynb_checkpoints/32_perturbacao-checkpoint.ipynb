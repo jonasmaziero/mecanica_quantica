{
 "cells": [
  {
   "cell_type": "markdown",
   "metadata": {},
   "source": [
    "### Notas de aula de Mecânica Quântica <br> Autor: Jonas Maziero\n",
    "# Exercícios"
   ]
  },
  {
   "cell_type": "markdown",
   "metadata": {},
   "source": [
    "---\n",
    "$1.$ Verifique que a constante de normalização na eq. $(\\star)$, considerada $\\in\\mathbb{R}$, é dada por $N_{n} = 1/\\sqrt{1+\\langle\\chi_{n}|\\chi_{n}\\rangle}$, i.e., verifique que $|\\psi_{n}\\rangle=(|\\psi_{n}^{(0)}\\rangle+|\\chi_{n}\\rangle)/\\sqrt{1+\\langle\\chi_{n}|\\chi_{n}\\rangle}$."
   ]
  },
  {
   "cell_type": "markdown",
   "metadata": {},
   "source": [
    "_SOL._ Começando com $|\\psi_{n}\\rangle = N_{n}(|\\psi_{n}^{(0)}\\rangle + |\\chi_{n}\\rangle)$, devemos ter que \n",
    "\\begin{align}\n",
    "& \\langle\\psi_{n}|\\psi_{n}\\rangle = 1 = N_{n}^{*}(\\langle\\psi_{n}^{(0)}| + \\langle\\chi_{n}|)N_{n}(|\\psi_{n}^{(0)}\\rangle + |\\chi_{n}\\rangle) \\\\\n",
    "&= |N_{n}|^{2}(\\langle\\psi_{n}^{(0)}|\\psi_{n}^{(0)}\\rangle + \\langle\\chi_{n}|\\psi_{n}^{(0)}\\rangle + \\langle\\psi_{n}^{(0)}|\\chi_{n}\\rangle + \\langle\\chi_{n}|\\chi_{n}\\rangle) \\\\\n",
    "&= |N_{n}|^{2}(1 + 0 + 0 + \\langle\\chi_{n}|\\chi_{n}\\rangle), \\\\\n",
    "& \\therefore |N_{n}| := N_{n} = \\frac{1}{\\sqrt{1 + \\langle\\chi_{n}|\\chi_{n}\\rangle}}.\n",
    "\\end{align}"
   ]
  },
  {
   "cell_type": "markdown",
   "metadata": {},
   "source": [
    "---\n",
    "$2.$ Considere o Hamiltoniano $H=H_{0}+H_{1}$ com $H_{0}=\\omega\\sigma_{z}$ e Hamiltoniano perturbativo $H_{1}=\\epsilon\\sigma_{x}$, i.e., $\\omega\\gg\\epsilon$. Calcule as correções perturbativas de primeira e de segunda ordens para as auto-energias desse sistema. Calcule os autovetores de $H$ com correção perturbativa de primeira ordem."
   ]
  },
  {
   "cell_type": "markdown",
   "metadata": {},
   "source": [
    "_SOL._ Temos que $E_{1}^{(0)}=-\\omega,E_{2}^{(0)}=\\omega$ e $|\\psi_{1}^{(0)}\\rangle=|z_{+}\\rangle,|\\psi_{2}^{(0)}\\rangle=|z_{-}\\rangle.$ As correções de 1ª ordem para a energia são\n",
    "\\begin{align}\n",
    "E_{1}^{(1)} &= \\langle\\psi_{1}^{(0)}|H_{1}|\\psi_{1}^{(0)}\\rangle = \\langle z_{+}|\\epsilon\\sigma_{x}|z_{+}\\rangle = \\epsilon\\langle z_{+}|z_{-}\\rangle = 0, \\\\\n",
    "E_{2}^{(1)} &= \\langle\\psi_{2}^{(0)}|H_{1}|\\psi_{2}^{(0)}\\rangle = \\langle z_{-}|\\epsilon\\sigma_{x}|z_{-}\\rangle = \\epsilon\\langle z_{-}|z_{+}\\rangle = 0.\n",
    "\\end{align}\n",
    "As correções de 2ª ordem para a energia são\n",
    "\\begin{align}\n",
    "E_{1}^{(2)} &= \\sum_{m\\ne 1}\\frac{|\\langle\\psi_{1}^{(0)}|H_{1}|\\psi_{m}^{(0)}\\rangle|^{2}}{E_{1}^{(0)}-E_{m}^{(0)}} = \\frac{|\\langle\\psi_{1}^{(0)}|H_{1}|\\psi_{2}^{(0)}\\rangle|^{2}}{E_{1}^{(0)}-E_{2}^{(0)}} = \\frac{|\\langle z_{+}|\\epsilon\\sigma_{x}|z_{-}\\rangle|^{2}}{-\\omega-\\omega} = \\frac{\\epsilon^{2}|\\langle z_{+}|z_{+}\\rangle|^{2}}{-2\\omega} = -\\frac{\\epsilon^{2}}{2\\omega}, \\\\\n",
    "E_{2}^{(2)} &= \\sum_{m\\ne 2}\\frac{|\\langle\\psi_{2}^{(0)}|H_{1}|\\psi_{m}^{(0)}\\rangle|^{2}}{E_{2}^{(0)}-E_{m}^{(0)}} = \\frac{|\\langle\\psi_{2}^{(0)}|H_{1}|\\psi_{1}^{(0)}\\rangle|^{2}}{E_{2}^{(0)}-E_{1}^{(0)}} = \\frac{|\\langle z_{-}|\\epsilon|z_{+}\\rangle|^{2}}{\\omega-(-\\omega)} = \\frac{\\epsilon^{2}|\\langle z_{-}|z_{-}\\rangle|^{2}}{2\\omega} = \\frac{\\epsilon^{2}}{2\\omega}.\n",
    "\\end{align}\n",
    "Assim\n",
    "\\begin{align}\n",
    "& E_{1} \\approx E_{1}^{(0)} + E_{1}^{(1)} + E_{1}^{(2)} = -\\omega + 0 - \\frac{\\epsilon^{2}}{2\\omega}, \\\\\n",
    "& E_{2} \\approx E_{2}^{(0)} + E_{2}^{(1)} + E_{2}^{(2)} = \\omega + 0 + \\frac{\\epsilon^{2}}{2\\omega}.\n",
    "\\end{align}"
   ]
  },
  {
   "cell_type": "markdown",
   "metadata": {},
   "source": [
    "Correções de 1ª ordem para os autovetores\n",
    "\\begin{align}\n",
    "|\\psi_{1}^{(1)}\\rangle &= \\sum_{m\\ne 1}\\frac{\\langle\\psi_{m}^{(0)}|H_{1}|\\psi_{1}^{(0)}\\rangle}{E_{1}^{(0)}-E_{m}^{(0)}}|\\psi_{m}^{(0)}\\rangle = \\frac{\\langle\\psi_{2}^{(0)}|H_{1}|\\psi_{1}^{(0)}\\rangle}{E_{1}^{(0)}-E_{2}^{(0)}}|\\psi_{2}^{(0)}\\rangle = \\frac{\\langle z_{-}|\\epsilon\\sigma_{x}|z_{+}\\rangle}{-\\omega-\\omega}|z_{-}\\rangle = \\frac{\\epsilon\\langle z_{-}|z_{-}\\rangle}{-2\\omega}|z_{-}\\rangle = -\\frac{\\epsilon}{2\\omega}|z_{-}\\rangle, \\\\\n",
    "|\\psi_{2}^{(1)}\\rangle &= \\sum_{m\\ne 2}\\frac{\\langle\\psi_{m}^{(0)}|H_{1}|\\psi_{2}^{(0)}\\rangle}{E_{2}^{(0)}-E_{m}^{(0)}}|\\psi_{m}^{(0)}\\rangle = \\frac{\\langle\\psi_{1}^{(0)}|H_{1}|\\psi_{2}^{(0)}\\rangle}{E_{2}^{(0)}-E_{1}^{(0)}}|\\psi_{1}^{(0)}\\rangle = \\frac{\\langle z_{+}|\\epsilon\\sigma_{x}|z_{-}\\rangle}{\\omega-(-\\omega)}|z_{+}\\rangle = \\frac{\\epsilon\\langle z_{+}|z_{+}\\rangle}{2\\omega}|z_{+}\\rangle = \\frac{\\epsilon}{2\\omega}|z_{+}\\rangle.\n",
    "\\end{align}\n",
    "Usando $N_{n}=1/\\sqrt{1+\\langle\\chi_{n}|\\chi_{n}\\rangle}=1/\\sqrt{1+\\sum_{j,k=1}^{M}\\langle\\psi_{n}^{(j)}|\\psi_{n}^{(k)}\\rangle}$ teremos\n",
    "\\begin{align}\n",
    "N_{1} &= \\frac{1}{\\sqrt{1+\\sum_{j,k=1}^{M}\\langle\\psi_{1}^{(j)}|\\psi_{1}^{(k)}\\rangle}} = \\frac{1}{\\sqrt{1+\\langle\\psi_{1}^{(1)}|\\psi_{1}^{(1)}\\rangle}} = \\frac{1}{\\sqrt{1+\\epsilon^{2}/4\\omega^{2}}}, \\\\\n",
    "N_{2} &= \\frac{1}{\\sqrt{1+\\sum_{j,k=1}^{M}\\langle\\psi_{2}^{(j)}|\\psi_{2}^{(k)}\\rangle}} = \\frac{1}{\\sqrt{1+\\langle\\psi_{2}^{(1)}|\\psi_{2}^{(1)}\\rangle}} = \\frac{1}{\\sqrt{1+\\epsilon^{2}/4\\omega^{2}}},\n",
    "\\end{align}\n",
    "obteremos ($|\\psi_{n}\\rangle \\approx N_{n}\\left(|\\psi_{n}^{(0)}\\rangle+|\\psi_{n}^{(1)}\\rangle+|\\psi_{n}^{(2)}\\rangle+\\cdots\\right)$)\n",
    "\\begin{align}\n",
    "|\\psi_{1}\\rangle & \\approx N_{1}\\left(|\\psi_{1}^{(0)}\\rangle+|\\psi_{1}^{(1)}\\rangle\\right) = \\frac{1}{\\sqrt{1+\\epsilon^{2}/4\\omega^{2}}}\\left(|z_{+}\\rangle-\\frac{\\epsilon}{2\\omega}|z_{-}\\rangle\\right), \\\\ \n",
    "|\\psi_{2}\\rangle & \\approx N_{2}\\left(|\\psi_{2}^{(0)}\\rangle+|\\psi_{2}^{(1)}\\rangle\\right) = \\frac{1}{\\sqrt{1+\\epsilon^{2}/4\\omega^{2}}}\\left(|z_{-}\\rangle+\\frac{\\epsilon}{2\\omega}|z_{+}\\rangle\\right).\n",
    "\\end{align}"
   ]
  },
  {
   "cell_type": "markdown",
   "metadata": {},
   "source": [
    "---\n",
    "$3.$ Para espectros discretos não degenerados, obtenha as expressões que devemos usar para calcular as correções perturbativas de 4ª ordem para as autoenergias, $E_{n}^{(4)}$, e de 3ª ordem para as autofunções, $|\\psi_{n}^{(3)}\\rangle$."
   ]
  },
  {
   "cell_type": "markdown",
   "metadata": {},
   "source": [
    "_SOL._ Para os autovetores, substituindo no 3º termo o 1º termo da Eq. ($\\square$), obteremos\n",
    "\\begin{align}\n",
    "|\\chi_{n}\\rangle & = \\xi\\sum_{m\\ne n}\\frac{\\langle\\psi_{m}^{(0)}|H_{1}|\\psi_{n}^{(0)}\\rangle}{E_{n}-E_{m}^{(0)}}|\\psi_{m}^{(0)}\\rangle + \\xi^{2}\\sum_{m\\ne n}\\sum_{m'\\ne n}\\frac{\\langle\\psi_{m}^{(0)}|H_{1}|\\psi_{m'}^{(0)}\\rangle}{E_{n}-E_{m}^{(0)}}\\frac{\\langle\\psi_{m'}^{(0)}|H_{1}|\\psi_{n}^{(0)}\\rangle}{E_{n}-E_{m'}^{(0)}}|\\psi_{m}^{(0)}\\rangle \\\\ \n",
    "& \\hspace{0.4cm} + \\xi^{2}\\sum_{m\\ne n}\\sum_{m'\\ne n}\\frac{\\langle\\psi_{m}^{(0)}|H_{1}|\\psi_{m'}^{(0)}\\rangle}{E_{n}-E_{m}^{(0)}}\\frac{\\langle\\psi_{m'}^{(0)}|H_{1}|\\chi_{n}\\rangle}{E_{n}-E_{m'}^{(0)}}|\\psi_{m}^{(0)}\\rangle \\\\\n",
    "& = \\xi\\sum_{m\\ne n}\\frac{\\langle\\psi_{m}^{(0)}|H_{1}|\\psi_{n}^{(0)}\\rangle}{E_{n}-E_{m}^{(0)}}|\\psi_{m}^{(0)}\\rangle + \\xi^{2}\\sum_{m,m'\\ne n}\\frac{\\langle\\psi_{m}^{(0)}|H_{1}|\\psi_{m'}^{(0)}\\rangle\\langle\\psi_{m'}^{(0)}|H_{1}|\\psi_{n}^{(0)}\\rangle}{(E_{n}-E_{m}^{(0)})(E_{n}-E_{m'}^{(0)})}|\\psi_{m}^{(0)}\\rangle \\\\ \n",
    "& \\hspace{0.4cm} + \\xi^{3}\\sum_{m,m',m''\\ne n}\\frac{\\langle\\psi_{m}^{(0)}|H_{1}|\\psi_{m'}^{(0)}\\rangle\\langle\\psi_{m'}^{(0)}|H_{1}|\\psi_{m''}^{(0)}\\rangle\\langle\\psi_{m''}^{(0)}|H_{1}|\\psi_{n}^{(0)}\\rangle}{(E_{n}-E_{m}^{(0)})(E_{n}-E_{m'}^{(0)})(E_{n}-E_{m''}^{(0)})}|\\psi_{m}^{(0)}\\rangle + \\cdots.\n",
    "\\end{align}"
   ]
  },
  {
   "cell_type": "markdown",
   "metadata": {},
   "source": [
    "Ainda nos falta usar a expansão de Rayleigh-Schrödinger:\n",
    "\\begin{align}\n",
    "\\frac{1}{E_{n}-E_{m}^{(0)}} & = \\xi^{0}\\frac{1}{E_{n}^{(0)} - E_{m}^{(0)}} - \\xi\\frac{E_{n}^{(1)}}{(E_{n}^{(0)}-E_{m}^{(0)})^{2}} + \\xi^{2}\\left( \\frac{E_{n}^{(2)}}{(E_{n}^{(0)}-E_{m}^{(0)})^{2}} + \\frac{(E_{n}^{(1)})^{2}}{(E_{n}^{(0)}-E_{m}^{(0)})^{3}}\\right) \\\\ \n",
    "& \\hspace{0.5cm}  - \\xi^{3}\\left(\\frac{E_{n}^{(3)}}{(E_{n}^{(0)}-E_{m}^{(0)})^{2}} + \\frac{(E_{n}^{(1)})^{3}}{(E_{n}^{(0)}-E_{m}^{(0)})^{4}} \\right) + \\cdots.\n",
    "\\end{align}"
   ]
  },
  {
   "cell_type": "markdown",
   "metadata": {},
   "source": [
    "Com isso, teremos\n",
    "\\begin{align}\n",
    "|\\chi_{n}\\rangle & = \\xi\\sum_{m\\ne n}\\frac{\\langle\\psi_{m}^{(0)}|H_{1}|\\psi_{n}^{(0)}\\rangle}{E_{n}-E_{m}^{(0)}}|\\psi_{m}^{(0)}\\rangle + \\xi^{2}\\sum_{m,m'\\ne n}\\frac{\\langle\\psi_{m}^{(0)}|H_{1}|\\psi_{m'}^{(0)}\\rangle\\langle\\psi_{m'}^{(0)}|H_{1}|\\psi_{n}^{(0)}\\rangle}{(E_{n}-E_{m}^{(0)})(E_{n}-E_{m'}^{(0)})}|\\psi_{m}^{(0)}\\rangle \\\\ \n",
    "& \\hspace{0.4cm} + \\xi^{3}\\sum_{m,m',m''\\ne n}\\frac{\\langle\\psi_{m}^{(0)}|H_{1}|\\psi_{m'}^{(0)}\\rangle\\langle\\psi_{m'}^{(0)}|H_{1}|\\psi_{m''}^{(0)}\\rangle\\langle\\psi_{m''}^{(0)}|H_{1}|\\psi_{n}^{(0)}\\rangle}{(E_{n}-E_{m}^{(0)})(E_{n}-E_{m'}^{(0)})(E_{n}-E_{m''}^{(0)})}|\\psi_{m}^{(0)}\\rangle + \\cdots \\\\\n",
    "& = \\xi\\sum_{m\\ne n}\\frac{\\langle\\psi_{m}^{(0)}|H_{1}|\\psi_{n}^{(0)}\\rangle}{E_{n}^{(0)}-E_{m}^{(0)}}|\\psi_{m}^{(0)}\\rangle \\\\\n",
    "& + \\xi^{2}\\Big(\\sum_{m,m'\\ne n}\\frac{\\langle\\psi_{m}^{(0)}|H_{1}|\\psi_{m'}^{(0)}\\rangle\\langle\\psi_{m'}^{(0)}|H_{1}|\\psi_{n}^{(0)}\\rangle}{(E_{n}^{(0)}-E_{m}^{(0)})(E_{n}^{(0)}-E_{m'}^{(0)})}|\\psi_{m}^{(0)}\\rangle - \\sum_{m\\ne n}\\frac{E_{n}^{(1)}\\langle\\psi_{m}^{(0)}|H_{1}|\\psi_{n}^{(0)}\\rangle}{\\big(E_{n}^{(0)}-E_{m}^{(0)}\\big)^{2}\n",
    "}|\\psi_{m}^{(0)}\\rangle\\Big)\\\\ \n",
    "& + \\xi^{3}\\Big(\\sum_{m,m',m''\\ne n}\\frac{\\langle\\psi_{m}^{(0)}|H_{1}|\\psi_{m'}^{(0)}\\rangle\\langle\\psi_{m'}^{(0)}|H_{1}|\\psi_{m''}^{(0)}\\rangle\\langle\\psi_{m''}^{(0)}|H_{1}|\\psi_{n}^{(0)}\\rangle}{(E_{n}^{(0)}-E_{m}^{(0)})(E_{n}^{(0)}-E_{m'}^{(0)})(E_{n}^{(0)}-E_{m''}^{(0)})}|\\psi_{m}^{(0)}\\rangle \\\\\n",
    "& \\hspace{1cm} - E_{n}^{(1)}\\Big(\\sum_{m,m'\\ne n}\\frac{\\langle\\psi_{m}^{(0)}|H_{1}|\\psi_{m'}^{(0)}\\rangle\\langle\\psi_{m'}^{(0)}|H_{1}|\\psi_{n}^{(0)}\\rangle}{(E_{n}^{(0)}-E_{m}^{(0)})(E_{n}^{(0)}-E_{m'}^{(0)})^{2}}|\\psi_{m}^{(0)}\\rangle + \\sum_{m,m'\\ne n}\\frac{\\langle\\psi_{m}^{(0)}|H_{1}|\\psi_{m'}^{(0)}\\rangle\\langle\\psi_{m'}^{(0)}|H_{1}|\\psi_{n}^{(0)}\\rangle}{(E_{n}^{(0)}-E_{m}^{(0)})^{2}(E_{n}^{(0)}-E_{m'}^{(0)})}|\\psi_{m}^{(0)}\\rangle \\Big) \\\\\n",
    "& \\hspace{1cm} + \\sum_{m\\ne n}\\Big( \\frac{E_{n}^{(2)}}{(E_{n}^{(0)}-E_{m}^{(0)})^{2}} + \\frac{(E_{n}^{(1)})^{2}}{(E_{n}^{(0)}-E_{m}^{(0)})^{3}}\\Big)\\langle\\psi_{m}^{(0)}|H_{1}|\\psi_{n}^{(0)}\\rangle|\\psi_{m}^{(0)}\\rangle \\Big) \\\\\n",
    "& + \\cdots.\n",
    "\\end{align}"
   ]
  },
  {
   "cell_type": "markdown",
   "metadata": {},
   "source": [
    "Com isso, temos que:\n",
    "\\begin{align}\n",
    "|\\psi_{n}^{(3)}\\rangle &= \\sum_{m,m',m''\\ne n}\\frac{\\langle\\psi_{m}^{(0)}|H_{1}|\\psi_{m'}^{(0)}\\rangle\\langle\\psi_{m'}^{(0)}|H_{1}|\\psi_{m''}^{(0)}\\rangle\\langle\\psi_{m''}^{(0)}|H_{1}|\\psi_{n}^{(0)}\\rangle}{(E_{n}^{(0)}-E_{m}^{(0)})(E_{n}^{(0)}-E_{m'}^{(0)})(E_{n}^{(0)}-E_{m''}^{(0)})}|\\psi_{m}^{(0)}\\rangle \\\\\n",
    "& \\hspace{1cm} - E_{n}^{(1)}\\Big(\\sum_{m,m'\\ne n}\\frac{\\langle\\psi_{m}^{(0)}|H_{1}|\\psi_{m'}^{(0)}\\rangle\\langle\\psi_{m'}^{(0)}|H_{1}|\\psi_{n}^{(0)}\\rangle}{(E_{n}^{(0)}-E_{m}^{(0)})(E_{n}^{(0)}-E_{m'}^{(0)})^{2}}|\\psi_{m}^{(0)}\\rangle + \\sum_{m,m'\\ne n}\\frac{\\langle\\psi_{m}^{(0)}|H_{1}|\\psi_{m'}^{(0)}\\rangle\\langle\\psi_{m'}^{(0)}|H_{1}|\\psi_{n}^{(0)}\\rangle}{(E_{n}^{(0)}-E_{m}^{(0)})^{2}(E_{n}^{(0)}-E_{m'}^{(0)})}|\\psi_{m}^{(0)}\\rangle \\Big) \\\\\n",
    "& \\hspace{1cm} + \\sum_{m\\ne n}\\Big( \\frac{E_{n}^{(2)}}{(E_{n}^{(0)}-E_{m}^{(0)})^{2}} + \\frac{(E_{n}^{(1)})^{2}}{(E_{n}^{(0)}-E_{m}^{(0)})^{3}}\\Big)\\langle\\psi_{m}^{(0)}|H_{1}|\\psi_{n}^{(0)}\\rangle|\\psi_{m}^{(0)}\\rangle.\n",
    "\\end{align}"
   ]
  },
  {
   "cell_type": "markdown",
   "metadata": {},
   "source": [
    "Para a energia temos\n",
    "\\begin{align}\n",
    "E_{n} = & \\xi^{0}E_{n}^{(0)} + \\xi^{1}\\langle\\psi_{n}^{(0)}|H_{1}|\\psi_{n}^{(0)}\\rangle + \\xi^{2}\\sum_{m\\ne n}\\frac{\\langle\\psi_{n}^{(0)}|H_{1}|\\psi_{m}^{(0)}\\rangle\\langle\\psi_{m}^{(0)}|H_{1}|\\psi_{n}^{(0)}\\rangle}{E_{n}-E_{m}^{(0)}} \\\\\n",
    "& + \\xi^{3}\\sum_{m\\ne n}\\sum_{m'\\ne n}\\frac{\\langle\\psi_{n}^{(0)}|H_{1}|\\psi_{m}^{(0)}\\rangle\\langle\\psi_{m}^{(0)}|H_{1}|\\psi_{m'}^{(0)}\\rangle\\langle\\psi_{m'}^{(0)}|H_{1}|\\psi_{n}^{(0)}\\rangle}{(E_{n}-E_{m}^{(0)})(E_{n}-E_{m'}^{(0)})} \\\\\n",
    "& + \\xi^{3}\\sum_{m\\ne n}\\sum_{m'\\ne n}\\frac{\\langle\\psi_{n}^{(0)}|H_{1}|\\psi_{m}^{(0)}\\rangle\\langle\\psi_{m}^{(0)}|H_{1}|\\psi_{m'}^{(0)}\\rangle\\langle\\psi_{m'}^{(0)}|H_{1}|\\chi_{n}\\rangle}{(E_{n}-E_{m}^{(0)})(E_{n}-E_{m'}^{(0)})} \\\\\n",
    "= & \\xi^{0}E_{n}^{(0)} + \\xi^{1}\\langle\\psi_{n}^{(0)}|H_{1}|\\psi_{n}^{(0)}\\rangle + \\xi^{2}\\sum_{m\\ne n}\\frac{\\langle\\psi_{n}^{(0)}|H_{1}|\\psi_{m}^{(0)}\\rangle\\langle\\psi_{m}^{(0)}|H_{1}|\\psi_{n}^{(0)}\\rangle}{E_{n}-E_{m}^{(0)}} \\\\\n",
    "& + \\xi^{3}\\sum_{m\\ne n}\\sum_{m'\\ne n}\\frac{\\langle\\psi_{n}^{(0)}|H_{1}|\\psi_{m}^{(0)}\\rangle\\langle\\psi_{m}^{(0)}|H_{1}|\\psi_{m'}^{(0)}\\rangle\\langle\\psi_{m'}^{(0)}|H_{1}|\\psi_{n}^{(0)}\\rangle}{(E_{n}-E_{m}^{(0)})(E_{n}-E_{m'}^{(0)})} \\\\\n",
    "& + \\xi^{4}\\sum_{m,m',m''\\ne n}\\frac{\\langle\\psi_{n}^{(0)}|H_{1}|\\psi_{m}^{(0)}\\rangle\\langle\\psi_{m}^{(0)}|H_{1}|\\psi_{m'}^{(0)}\\rangle\\langle\\psi_{m'}^{(0)}|H_{1}|\\psi_{m''}^{(0)}\\rangle\\langle\\psi_{m''}^{(0)}|H_{1}|\\psi_{n}^{(0)}\\rangle}{(E_{n}-E_{m}^{(0)})(E_{n}-E_{m'}^{(0)})(E_{n}-E_{m''}^{(0)})} \\\\\n",
    "& +\\cdots.\n",
    "\\end{align}"
   ]
  },
  {
   "cell_type": "markdown",
   "metadata": {},
   "source": [
    "Novamente usaremos a expansão de Rayleigh-Schrödinger:\n",
    "\\begin{align}\n",
    "\\frac{1}{E_{n}-E_{m}^{(0)}} & = \\xi^{0}\\frac{1}{E_{n}^{(0)} - E_{m}^{(0)}} - \\xi\\frac{E_{n}^{(1)}}{(E_{n}^{(0)}-E_{m}^{(0)})^{2}} + \\xi^{2}\\left( \\frac{E_{n}^{(2)}}{(E_{n}^{(0)}-E_{m}^{(0)})^{2}} + \\frac{(E_{n}^{(1)})^{2}}{(E_{n}^{(0)}-E_{m}^{(0)})^{3}}\\right) \\\\ \n",
    "& \\hspace{0.5cm}  - \\xi^{3}\\left(\\frac{E_{n}^{(3)}}{(E_{n}^{(0)}-E_{m}^{(0)})^{2}} + \\frac{(E_{n}^{(1)})^{3}}{(E_{n}^{(0)}-E_{m}^{(0)})^{4}} \\right) + \\cdots.\n",
    "\\end{align}"
   ]
  },
  {
   "cell_type": "markdown",
   "metadata": {},
   "source": [
    "Assim\n",
    "\\begin{align}\n",
    "E_{n} = & \\xi^{0}E_{n}^{(0)} + \\xi^{1}\\langle\\psi_{n}^{(0)}|H_{1}|\\psi_{n}^{(0)}\\rangle + \\xi^{2}\\sum_{m\\ne n}\\frac{\\langle\\psi_{n}^{(0)}|H_{1}|\\psi_{m}^{(0)}\\rangle\\langle\\psi_{m}^{(0)}|H_{1}|\\psi_{n}^{(0)}\\rangle}{E_{n}^{(0)}-E_{m}^{(0)}} \\\\\n",
    "& + \\xi^{3}\\Big(\\sum_{m\\ne n}\\sum_{m'\\ne n}\\frac{\\langle\\psi_{n}^{(0)}|H_{1}|\\psi_{m}^{(0)}\\rangle\\langle\\psi_{m}^{(0)}|H_{1}|\\psi_{m'}^{(0)}\\rangle\\langle\\psi_{m'}^{(0)}|H_{1}|\\psi_{n}^{(0)}\\rangle}{(E_{n}^{(0)}-E_{m}^{(0)})(E_{n}^{(0)}-E_{m'}^{(0)})} - E_{n}^{(1)}\\sum_{m\\ne n}\\frac{\\langle\\psi_{n}^{(0)}|H_{1}|\\psi_{m}^{(0)}\\rangle\\langle\\psi_{m}^{(0)}|H_{1}|\\psi_{n}^{(0)}\\rangle}{(E_{n}^{(0)}-E_{m}^{(0)})^{2}} \\Big) \\\\\n",
    "& + \\xi^{4}\\Big( \\sum_{m,m',m''\\ne n}\\frac{\\langle\\psi_{n}^{(0)}|H_{1}|\\psi_{m}^{(0)}\\rangle\\langle\\psi_{m}^{(0)}|H_{1}|\\psi_{m'}^{(0)}\\rangle\\langle\\psi_{m'}^{(0)}|H_{1}|\\psi_{m''}^{(0)}\\rangle\\langle\\psi_{m''}^{(0)}|H_{1}|\\psi_{n}^{(0)}\\rangle}{(E_{n}^{(0)}-E_{m}^{(0)})(E_{n}^{(0)}-E_{m'}^{(0)})(E_{n}^{(0)}-E_{m''}^{(0)})} \\\\\n",
    "& \\hspace{1cm} - E_{n}^{(1)}\\sum_{m\\ne n}\\sum_{m'\\ne n}\\langle\\psi_{n}^{(0)}|H_{1}|\\psi_{m}^{(0)}\\rangle\\langle\\psi_{m}^{(0)}|H_{1}|\\psi_{m'}^{(0)}\\rangle\\langle\\psi_{m'}^{(0)}|H_{1}|\\psi_{n}^{(0)}\\rangle\\Big(\\frac{1}{(E_{n}^{(0)}-E_{m}^{(0)})(E_{n}^{(0)}-E_{m'}^{(0)})^{2}}+\\frac{1}{(E_{n}^{(0)}-E_{m}^{(0)})^{2}(E_{n}^{(0)}-E_{m'}^{(0)})}\\Big) \\\\\n",
    "& \\hspace{1cm} + \\sum_{m\\ne n}\\langle\\psi_{n}^{(0)}|H_{1}|\\psi_{m}^{(0)}\\rangle\\langle\\psi_{m}^{(0)}|H_{1}|\\psi_{n}^{(0)}\\rangle\\Big( \\frac{E_{n}^{(2)}}{(E_{n}^{(0)}-E_{m}^{(0)})^{2}} + \\frac{(E_{n}^{(1)})^{2}}{(E_{n}^{(0)}-E_{m}^{(0)})^{3}}\\Big) \\Big) \\\\\n",
    "& +\\cdots.\n",
    "\\end{align}"
   ]
  },
  {
   "cell_type": "markdown",
   "metadata": {},
   "source": [
    "Com isso, temos as correções de 4ª orderm:\n",
    "\\begin{align}\n",
    "E_{n}^{(4)} &= \\sum_{m,m',m''\\ne n}\\frac{\\langle\\psi_{n}^{(0)}|H_{1}|\\psi_{m}^{(0)}\\rangle\\langle\\psi_{m}^{(0)}|H_{1}|\\psi_{m'}^{(0)}\\rangle\\langle\\psi_{m'}^{(0)}|H_{1}|\\psi_{m''}^{(0)}\\rangle\\langle\\psi_{m''}^{(0)}|H_{1}|\\psi_{n}^{(0)}\\rangle}{(E_{n}^{(0)}-E_{m}^{(0)})(E_{n}^{(0)}-E_{m'}^{(0)})(E_{n}^{(0)}-E_{m''}^{(0)})} \\\\\n",
    "& \\hspace{1cm} - E_{n}^{(1)}\\sum_{m\\ne n}\\sum_{m'\\ne n}\\langle\\psi_{n}^{(0)}|H_{1}|\\psi_{m}^{(0)}\\rangle\\langle\\psi_{m}^{(0)}|H_{1}|\\psi_{m'}^{(0)}\\rangle\\langle\\psi_{m'}^{(0)}|H_{1}|\\psi_{n}^{(0)}\\rangle\\Big(\\frac{1}{(E_{n}^{(0)}-E_{m}^{(0)})(E_{n}^{(0)}-E_{m'}^{(0)})^{2}}+\\frac{1}{(E_{n}^{(0)}-E_{m}^{(0)})^{2}(E_{n}^{(0)}-E_{m'}^{(0)})}\\Big) \\\\\n",
    "& \\hspace{1cm} + \\sum_{m\\ne n}\\langle\\psi_{n}^{(0)}|H_{1}|\\psi_{m}^{(0)}\\rangle\\langle\\psi_{m}^{(0)}|H_{1}|\\psi_{n}^{(0)}\\rangle\\Big( \\frac{E_{n}^{(2)}}{(E_{n}^{(0)}-E_{m}^{(0)})^{2}} + \\frac{(E_{n}^{(1)})^{2}}{(E_{n}^{(0)}-E_{m}^{(0)})^{3}}\\Big).\n",
    "\\end{align}"
   ]
  },
  {
   "cell_type": "markdown",
   "metadata": {},
   "source": [
    "---\n",
    "$4.$ Considere um sistema físico com Hamiltoniano $H=H_{0}+H_{1}$, onde $H_{0}=\\omega S_{z}$, com $\\omega\\in\\mathbb{R}_{>0}$, e o Hamiltoniano de perturbação é $H_{1}=\\epsilon S_{x}$, com $\\epsilon\\in\\mathbb{R}_{>0}$ e $\\epsilon \\ll \\omega$. Considere $S_{x} = \\frac{\\hbar}{\\sqrt{2}}\\begin{bmatrix} 0 & 1 & 0 \\\\ 1 & 0 & 1 \\\\ 0 & 1 & 0 \\end{bmatrix}$ e $S_{z} = \\hbar\\begin{bmatrix} 1 & 0 & 0 \\\\ 0 & 0 & 0 \\\\ 0 & 0 & -1 \\end{bmatrix}$. Dado que as expressões para as correções perturbativas de primeira e segunda ordem são obtidas, respectivamente, de $E_{n}^{(1)} = \\langle E_{n}^{(0)}|H_{1}|E_{n}^{(0)}\\rangle$ e $E_{n}^{(2)} = \\sum_{m\\ne n}|\\langle E_{n}^{(0)}|H_{1}|E_{m}^{(0)}\\rangle|^{2}/(E_{n}^{(0)}-E_{m}^{(0)})$, as calcule para o estado fundamental deste sistema."
   ]
  },
  {
   "cell_type": "markdown",
   "metadata": {},
   "source": [
    "_SOL._ Os autovalores do Hamiltoniano não perturbado são $E_{1}^{(0)}=-\\hbar\\omega$, $E_{2}^{(0)}=0$ e $E_{3}^{(0)}=\\hbar\\omega$. Os respectivos autovetores são $|E_{1}^{(0)}\\rangle=|z_{-\\hbar}\\rangle$, $|E_{2}^{(0)}\\rangle=|z_{0}\\rangle$, $|E_{3}^{(0)}\\rangle=|z_{\\hbar}\\rangle$. A correção de primeira ordem para o estado fundamental é\n",
    "\\begin{align}\n",
    "E_{1}^{(1)} & = \\langle E_{0}^{(0)}|H_{1}|E_{0}^{(0)}\\rangle = \\langle z_{-\\hbar}|\\epsilon S_{x}|z_{-\\hbar}\\rangle \\propto \\langle z_{-\\hbar}|z_{0}\\rangle = 0. \n",
    "\\end{align}\n",
    "Já a correção de segunda ordem para o estado fundamental é\n",
    "\\begin{align}\n",
    "E_{1}^{(2)} & = \\sum_{m\\ne 1}\\frac{|\\langle E_{1}^{(0)}|H_{1}|E_{m}^{(0)}\\rangle|^{2}}{E_{1}^{(0)}-E_{m}^{(0)}} = \\frac{|\\langle z_{-\\hbar}|\\epsilon S_{x}|z_{0}\\rangle|^{2}}{-\\hbar\\omega-0} + \\frac{|\\langle z_{-\\hbar}|\\epsilon S_{x}|z_{\\hbar}\\rangle|^{2}}{-\\hbar\\omega-\\hbar\\omega} \\\\ \n",
    "&  = \\frac{|2^{-1/2}\\hbar\\epsilon\\langle z_{-\\hbar}|(|z_{-\\hbar}\\rangle+|z_{\\hbar}\\rangle)|^{2}}{-\\hbar\\omega} + \\frac{|2^{-1/2}\\hbar\\epsilon\\langle z_{-\\hbar}|z_{0}\\rangle|^{2}}{-2\\hbar\\omega} \\\\ \n",
    "& = -\\frac{\\hbar\\epsilon^{2}}{2\\omega}.\n",
    "\\end{align}"
   ]
  },
  {
   "cell_type": "code",
   "execution_count": null,
   "metadata": {},
   "outputs": [],
   "source": []
  }
 ],
 "metadata": {
  "kernelspec": {
   "display_name": "Python 3 (ipykernel)",
   "language": "python",
   "name": "python3"
  },
  "language_info": {
   "codemirror_mode": {
    "name": "ipython",
    "version": 3
   },
   "file_extension": ".py",
   "mimetype": "text/x-python",
   "name": "python",
   "nbconvert_exporter": "python",
   "pygments_lexer": "ipython3",
   "version": "3.11.1"
  }
 },
 "nbformat": 4,
 "nbformat_minor": 4
}
