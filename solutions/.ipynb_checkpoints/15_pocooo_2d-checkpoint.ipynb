{
 "cells": [
  {
   "cell_type": "markdown",
   "metadata": {},
   "source": [
    "# Exercícios\n",
    "As primeiras 5 questões são sobre o poço quadrado infinito 2D. As últimas 2 questões são sobre o poço quadrado infinito 3D."
   ]
  },
  {
   "cell_type": "markdown",
   "metadata": {},
   "source": [
    "---\n",
    "$1.$ Verifique que $\\langle Y\\rangle=L_{y}/2$."
   ]
  },
  {
   "cell_type": "markdown",
   "metadata": {},
   "source": [
    "_SOL._ \\begin{align}\n",
    "\\langle Y\\rangle & = \\int_{-\\infty}^{+\\infty}\\int_{-\\infty}^{+\\infty}y|\\Lambda(x,y)|^{2}dxdy = \\int_{0}^{L_{x}}|\\Xi(x)|^{2}dx\\int_{0}^{L_{y}}y|\\Upsilon(y)|^{2}dy \\\\\n",
    "& = (1)\\frac{2}{L_{y}}\\int_{0}^{L_{y}}y\\sin^{2}\\left(\\frac{n_{y}\\pi y}{L_{y}}\\right)dy = \\frac{2}{L_{y}}\\int_{0}^{L_{y}}y\\left(\\frac{1}{2}-\\frac{1}{2}\\cos\\left(\\frac{2n_{y}\\pi y}{L_{y}}\\right)\\right)dy \\\\\n",
    "& = \\frac{1}{L_{y}}\\left(\\frac{L_{y}^{2}}{2}-\\int_{0}^{L_{y}}y\\cos\\left(\\frac{2n_{y}\\pi y}{L_{y}}\\right)dy\\right) = \\frac{L_{y}}{2},\n",
    "\\end{align}\n",
    "em que, definindo $u=x\\therefore du=dy$, $dv=\\cos\\left(\\frac{2n_{y}\\pi y}{L_{y}}\\right)dy \\therefore v=\\frac{L_{y}}{2n_{y}\\pi}\\sin\\left(\\frac{2n_{y}\\pi y}{L_{y}}\\right)$, usamos\n",
    "\\begin{align}\n",
    "& \\int_{0}^{L_{y}}y\\cos\\left(\\frac{2n_{y}\\pi y}{L_{y}}\\right)dy = \\left(y\\frac{L_{y}}{2n_{y}\\pi}\\sin\\left(\\frac{2n_{y}\\pi y}{L_{y}}\\right)\\right)_{0}^{L_{y}} -\\int_{0}^{L_{y}}\\frac{L_{y}}{2n_{y}\\pi}\\sin\\left(\\frac{2n_{y}\\pi y}{L_{y}}\\right)dy \\\\\n",
    "&= 0 +\\left(\\frac{L_{y}}{2n_{y}\\pi}\\right)^{2}\\left(\\cos\\left(\\frac{2n_{y}\\pi y}{L_{y}}\\right)\\right)_{0}^{L_{y}} =+\\left(\\frac{L_{x}}{2n_{x}\\pi}\\right)^{2}\\left(\\cos\\left(2n_{x}\\pi\\right)-\\cos(0)\\right) \\\\\n",
    "& =+\\left(\\frac{L_{y}}{2n_{y}\\pi}\\right)^{2}\\left(1-1\\right) = 0.\n",
    "\\end{align}"
   ]
  },
  {
   "cell_type": "markdown",
   "metadata": {},
   "source": [
    "---\n",
    "$2.$ Verifique que $\\langle Y^{2}\\rangle=L_{y}^{2}\\left(\\frac{1}{3}-\\frac{1}{2n_{y}^{2}\\pi^{2}}\\right)$."
   ]
  },
  {
   "cell_type": "markdown",
   "metadata": {},
   "source": [
    "_SOL._\n",
    "\\begin{align}\n",
    "\\langle Y^{2}\\rangle & = \\int_{-\\infty}^{+\\infty}\\int_{-\\infty}^{+\\infty}y^{2}|\\Lambda(x,y)|^{2}dxdy = \\int_{0}^{L_{x}}|\\Xi(x)|^{2}dx\\int_{0}^{L_{y}}y^{2}|\\Upsilon(y)|^{2}dy \\\\\n",
    "& = (1)\\int_{0}^{L_{y}}y^{2}\\frac{2}{L_{y}}\\sin^{2}\\left(\\frac{n_{y}\\pi y}{L_{y}}\\right)dy = \\frac{2}{L_{y}}\\int_{0}^{L_{y}}y^{2}\\left(\\frac{1}{2}-\\frac{1}{2}\\cos\\left(\\frac{2n_{y}\\pi y}{L_{y}}\\right)\\right)dy \\\\\n",
    "&  = \\frac{1}{L_{y}}\\left(\\frac{L_{y}^{3}}{3}-\\int_{0}^{L_{y}}y^{2}\\cos\\left(\\frac{2n_{y}\\pi y}{L_{y}}\\right)\\right)dy.\n",
    "\\end{align}\n",
    "A integral que falta resolvermos é idêntica àquela resolvida em aula: $\\int_{0}^{L_{x}}x^{2}\\cos\\left(\\frac{2n_{x}\\pi x}{L_{x}}\\right)dx = \\frac{L_{x}^{3}}{2n_{x}^{2}\\pi^{2}}$. Com isso, vem que\n",
    "\\begin{align}\n",
    "\\langle Y^{2}\\rangle &= \\frac{1}{L_{y}}\\left(\\frac{L_{y}^{3}}{3}-\\frac{L_{y}^{3}}{2n_{y}^{2}\\pi^{2}}\\right) = L_{y}^{2}\\left(\\frac{1}{3}-\\frac{1}{2n_{y}^{2}\\pi^{2}}\\right).\n",
    "\\end{align}"
   ]
  },
  {
   "cell_type": "markdown",
   "metadata": {},
   "source": [
    "---\n",
    "$3.$ Verifique que $\\langle P_{y}\\rangle=0$."
   ]
  },
  {
   "cell_type": "markdown",
   "metadata": {},
   "source": [
    "_SOL._  Temos que $\\Lambda_{n_{x}n_{y}}(x,y)=\\Xi_{n_{x}}(x)\\Upsilon_{n_{y}}(y) = \\sqrt{\\frac{2}{L_{x}}}\\sin\\left(\\frac{n_{x}\\pi x}{L_{x}}\\right)\\sqrt{\\frac{2}{L_{y}}}\\sin\\left(\\frac{n_{y}\\pi y}{L_{y}}\\right).$ Usando $\\sin(2x)=2\\sin(x)\\cos(x)$ teremos\n",
    "\\begin{align}\n",
    "\\langle P_{y}\\rangle & = \\int_{-\\infty}^{+\\infty}\\int_{-\\infty}^{+\\infty} \\Lambda(x,y)^{*}\\left(\\frac{\\hbar}{i}\\partial_{y}\\Lambda(x,y)\\right)dxdy = \\frac{\\hbar}{i}\\int_{0}^{L_{y}}|\\Xi(x)|^{2}dx\\int_{0}^{L_{y}}\\Upsilon(y)\\partial_{y}\\Upsilon(y)dy \\\\\n",
    "& = \\frac{\\hbar}{i}\\frac{2}{L_{y}}\\frac{n_{y}\\pi}{L_{y}}\\int_{0}^{L_{y}}\\sin\\left(\\frac{n_{y}\\pi y}{L_{y}}\\right)\\cos\\left(\\frac{n_{y}\\pi y}{L_{y}}\\right)dy = \\frac{\\hbar n_{y}\\pi}{iL_{y}^{2}}\\int_{0}^{L_{y}}\\sin\\left(\\frac{2n_{y}\\pi y}{L_{y}}\\right)dy \\\\\n",
    "& = \\frac{\\hbar n_{y}\\pi}{iL_{y}^{2}}\\left(-\\frac{L_{y}}{2n_{y}\\pi}\\cos\\left(\\frac{2n_{y}\\pi y}{L_{y}}\\right)\\right)_{0}^{L_{y}} = \\frac{\\hbar n_{y}\\pi}{iL_{y}^{2}}\\frac{L_{y}}{2n_{y}\\pi}(-\\cos(2n_{y}\\pi)+\\cos(0)) \\\\\n",
    "& = \\frac{\\hbar n_{y}\\pi}{iL_{y}^{2}}\\frac{L_{y}}{2n_{y}\\pi}(-1+1) = 0.\n",
    "\\end{align}"
   ]
  },
  {
   "cell_type": "markdown",
   "metadata": {},
   "source": [
    "---\n",
    "$4.$ Verifique que $\\langle P_{y}^{2}\\rangle=\\left(\\frac{\\hbar n_{y}\\pi}{L_{y}}\\right)^{2}$."
   ]
  },
  {
   "cell_type": "markdown",
   "metadata": {},
   "source": [
    "_SOL._ Usando\n",
    "\\begin{equation}\n",
    "\\partial_{yy}\\Upsilon(y) = \\partial_{yy}\\sqrt{\\frac{2}{L_{y}}}\\sin\\left(\\frac{n_{y}\\pi y}{L_{y}}\\right) = -\\sqrt{\\frac{2}{L_{y}}}\\left(\\frac{n_{y}\\pi}{L_{y}}\\right)^{2}\\sin\\left(\\frac{n_{y}\\pi y}{L_{y}}\\right)  = -\\left(\\frac{n_{y}\\pi}{L_{y}}\\right)^{2}\\Upsilon(y)\n",
    "\\end{equation}\n",
    "teremos o valor médio do quadrado da componente $x$ do momento linear:\n",
    "\\begin{align}\n",
    "\\langle P_{y}^{2}\\rangle & = \\int_{-\\infty}^{+\\infty}\\int_{-\\infty}^{+\\infty} \\Lambda(x,y)^{*}\\left(-\\hbar^{2}\\partial_{yy}\\Lambda(x,y)\\right)dxdy = -\\hbar^{2}\\int_{0}^{L_{x}}|\\Xi(x)|^{2}dx\\int_{0}^{L_{y}}\\Upsilon(y)^{*}\\partial_{yy}\\Upsilon(y)dy \\\\\n",
    "& =\\hbar^{2}\\left(\\frac{n_{y}\\pi}{L_{y}}\\right)^{2}\\int_{0}^{L_{y}}\\Upsilon(y)^{*}\\Upsilon(y)dy = \\left(\\frac{\\hbar n_{x}\\pi}{L_{x}}\\right)^{2}.\n",
    "\\end{align}"
   ]
  },
  {
   "cell_type": "markdown",
   "metadata": {},
   "source": [
    "---\n",
    "$5.$ Verifique que $\\langle\\vec{P}\\rangle=\\vec{0}$ e $\\langle P^{2}\\rangle=Var(\\vec{P})=\\left(\\frac{\\hbar n_{x}\\pi}{L_{x}}\\right)^{2}+\\left(\\frac{\\hbar n_{y}\\pi}{L_{y}}\\right)^{2}$."
   ]
  },
  {
   "cell_type": "markdown",
   "metadata": {},
   "source": [
    "_SOL._ Usando $\\vec{P}=P_{x}\\hat{i}+P_{y}\\hat{j}$ teremos que \n",
    "$$\\langle\\vec{P}\\rangle=\\langle P_{x}\\rangle\\hat{i}+\\langle P_{y}\\rangle\\hat{j} = 0\\hat{i}+0\\hat{j}=\\vec{0}$$\n",
    "em que usamos $\\langle P_{x}\\rangle=0$ obtido em aula e $\\langle P_{y}\\rangle=0$ obtido no exercício 3. \n",
    "\n",
    "Por sua vez $P^{2}=\\vec{P}\\cdot\\vec{P}=P_{x}^{2}+P_{y}^{2}$. Usando os resultados obtidos em aula e no exercício 4, teremos \n",
    "$$\\langle P^{2}\\rangle = \\langle P_{x}^{2}\\rangle+\\langle P_{y}^{2}\\rangle = \\left(\\frac{\\hbar n_{x}\\pi}{L_{x}}\\right)^{2} + \\left(\\frac{\\hbar n_{y}\\pi}{L_{y}}\\right)^{2}.$$"
   ]
  },
  {
   "cell_type": "markdown",
   "metadata": {},
   "source": [
    "---\n",
    "$6.$ Obtenha as autoenergias e autofunções do poço quadrado infinito 3D, cuja energia potencial é:\n",
    "\\begin{cases}\n",
    "U(0<x<L_{x},0<y<L_{y},0<z<L_{z})=0, \\\\\n",
    "U(x,y,z)=\\infty \\text{ nos outros casos}.\n",
    "\\end{cases}"
   ]
  },
  {
   "cell_type": "markdown",
   "metadata": {},
   "source": [
    "_SOL._ Fora do poço, $\\psi=0$. Dentro do poço a função de onda deve satisfazer\n",
    "\\begin{equation}\n",
    "-\\frac{\\hbar^{2}}{2m}\\nabla^{2}\\psi(x,y,z)=-\\frac{\\hbar^{2}}{2m}\\left(\\partial_{xx}+\\partial_{yy}+\\partial_{zz}\\right)\\psi(x,y,z)=E\\psi(x,y,z).\n",
    "\\end{equation}\n",
    "Usando separação de variáveis, $\\psi(x,y,z)=\\Xi(x)\\Theta(y,z)$, obteremos\n",
    "\\begin{align}\n",
    "& -\\frac{\\hbar^{2}}{2m}\\left(\\Theta(y,z)\\partial_{xx}\\Xi(x)+\\Xi(x)(\\partial_{yy}+\\partial_{zz})\\Theta(y,z)\\right)=E\\Xi(x)\\Theta(y,z), \\\\\n",
    "& -\\frac{\\hbar^{2}}{2mX(x)}\\partial_{xx}\\Xi(x) = \\frac{\\hbar^{2}}{2m\\Theta(y,z)}(\\partial_{yy}+\\partial_{zz})\\Theta(y,z) + E := C.\n",
    "\\end{align}\n",
    "A solução da equação $\\partial_{xx}\\Xi(x)+(2mC/\\hbar^{2})X(x)=:\\partial_{xx}\\Xi(x)+k_{x}^{2}X(x)=0 \\therefore X(x)=c_{xd}e^{ik_{x}x}+c_{xe}e^{-ik_{x}x}$. Aplicando as condições de contorno, teremos que $X(x=0)=c_{xd}+c_{xe}=0\\therefore c_{xd}=-c_{xe}=:-c_{x}$. Assim $X(x)=c_{xd}(e^{ik_{x}x}-e^{-ik_{x}x})=:c_{x}\\sin(k_{x}x)$. Agora, aplicando a condição de contorno $X(x=L_{x})=0=c_{x}\\sin(k_{x}L_{x})$, vemos que $k_{x}L_{x}=n_{x}\\pi$ com $n_{x}=1,2,3,\\cdots$. Assim $X(x)=c_{x}\\sin(n\\pi x/L_{x})$.\n",
    "\n",
    "Aplicando separação de variáveis novamente, $\\Theta(y,z)=Y(y)Z(z)$, teremos\n",
    "\\begin{align}\n",
    "\\frac{\\hbar^{2}}{2mY(y)}\\partial_{yy}Y(y) + E-C = -\\frac{\\hbar^{2}}{2mZ(z)}\\partial_{zz}Z(z) = D.\n",
    "\\end{align}\n",
    "A solução de $\\partial_{zz}Z(z)+(2mD/\\hbar^{2})Z(z)=\\partial_{zz}Z(z)+k_{z}^{2}Z(z)=0$ é $Z(z)=c_{zd}e^{ik_{z}z}+c_{ze}e^{-ik_{z}z}=c_{z}\\sin(k_{z}z)=c_{z}\\sin(n_{z}\\pi z/L_{z})$, com $n_{z}=1,2,3,\\cdots$, em que aplicamos as condições de contorno $Z(z=0)=0=Z(z=L_{z})$.\n",
    "\n",
    "Por fim, a solução de $\\partial_{yy}Y(y)+(2m(E-C-D)/\\hbar^{2})Y(y)=\\partial_{yy}Y(y)+k_{y}^{2}Y(y)=0$ é $Y(y)=c_{y}\\sin(k_{y}y)=c_{y}\\sin(n_{y}\\pi y/L_{y})$, com $n_{y}=1,2,3,\\cdots$, em que aplicamos as condições de contorno $Y(y=0)=0=Y(y=L_{y})$."
   ]
  },
  {
   "cell_type": "markdown",
   "metadata": {},
   "source": [
    "Vemos assim que as energias possíveis são\n",
    "\\begin{align}\n",
    "E&=\\frac{\\hbar^{2}k_{y}^{2}}{2m}+C+D = \\frac{\\hbar^{2}k_{y}^{2}}{2m} + \\frac{\\hbar^{2}k_{x}^{2}}{2m} + \\frac{\\hbar^{2}k_{z}^{2}}{2m} \\\\\n",
    "&= \\frac{\\hbar^{2}n_{x}^{2}\\pi^{2}}{2mL_{x}^{2}} + \\frac{\\hbar^{2}n_{y}^{2}\\pi^{2}}{2mL_{y}^{2}} + \\frac{\\hbar^{2}n_{z}^{2}\\pi^{2}}{2mL_{z}^{2}} \\\\\n",
    "&= \\frac{\\hbar^{2}\\pi^{2}}{2m}\\left(\\frac{n_{x}^{2}}{L_{x}^{2}}+\\frac{n_{y}^{2}}{L_{y}^{2}}+\\frac{n_{z}^{2}}{L_{z}^{2}}\\right) = E_{n_{x},n_{y},n_{z}}.\n",
    "\\end{align}\n",
    "\n",
    "A função de onda completa é $\\psi(x,y,z)=A\\sin(n_{x}\\pi x/L_{x})\\sin(n_{y}\\pi y/L_{y})\\sin(n_{z}\\pi z/L_{z})$ com $A:=c_{x}c_{y}c_{z}$. Pela normalização da função de onda, devemos ter\n",
    "\\begin{equation}\n",
    "1 = |A|^{2}\\int_{0}^{L_{x}}\\int_{0}^{L_{y}}\\int_{0}^{L_{z}}\\sin^{2}\\frac{n_{x}\\pi x}{L_{x}}\\sin^{2}\\frac{n_{y}\\pi y}{L_{y}}\\sin^{2}\\frac{n_{z}\\pi z}{L_{z}}dxdydz.\n",
    "\\end{equation}\n",
    "Usando $\\int_{0}^{L}\\sin^{2}(n_{x}\\pi x/L)dx = \\int_{0}^{L}\\left(1/2-\\cos(2n_{x}\\pi x/L)/2\\right)dx = L/2 -0$ teremos que $1=|A|^{2}(L_{x}/2)(L_{y}/2)(L_{z}/2)$. Assim\n",
    "\\begin{equation}\n",
    "\\psi(x,y,z) = \\sqrt{\\frac{8}{L_{x}L_{y}L_{z}}}\\sin\\frac{n_{x}\\pi x}{L_{x}}\\sin\\frac{n_{y}\\pi y}{L_{y}}\\sin\\frac{n_{z}\\pi z}{L_{z}}.\n",
    "\\end{equation}"
   ]
  },
  {
   "cell_type": "markdown",
   "metadata": {},
   "source": [
    "---\n",
    "$7.$ Quais são as dimensões dos subespaços degenerados no caso do poço quadrado infinito 3D simétrico, $L_{x}=L_{y}=L_{z}=:L$?"
   ]
  },
  {
   "cell_type": "markdown",
   "metadata": {},
   "source": [
    "_SOL._ Para obter a solução desse exercício, vamos utilizar o código abaixo. \n",
    "Energias:\n",
    "\\begin{align}\n",
    "& E_{1,1,1} = 3E_{0}, \\\\\n",
    "& E_{1,1,2} = E_{1,2,1} = E_{2,1,1} = 6E_{0}, \\\\\n",
    "& E_{1,2,2} = E_{2,1,2} = E_{2,2,1} = 9E_{0}, \\\\\n",
    "& E_{1,1,3} = E_{1,3,1} = E_{3,1,1} = 11E_{0}, \\\\\n",
    "& E_{1,2,3} = E_{1,3,2} = E_{2,1,3} = E_{2,3,1} = E_{3,1,2} = E_{3,2,1} = 14E_{0}, \\\\\n",
    "& \\vdots,\n",
    "\\end{align}\n",
    "com $E_{0}=\\hbar^{2}\\pi^{2}/2m$. Em geral, vemos que a degenerescência é $$d(n_{x}=n_{y}=n_{z})=1=\\frac{3!}{3!}$$ quando todos os números quânticos são iguais. Quando 2 números quânticos são iguais teremos \n",
    "$$d((n_{a}=n_{b})\\ne n_{c}) = 3=\\frac{3!}{2!},$$ \n",
    "em que $(a,b,c)$ é alguma permutação de $(x,y,z)$.\n",
    "Se todos os 3 números quânticos são diferentes, teremos \n",
    "$$d(n_{x}\\ne n_{y}, n_{x}\\ne n_{z}, n_{z}\\ne n_{y})= 6 = \\frac{3!}{1!}.$$\n",
    "De forma geral, a dimensão do subespaço degenerado pode ser escrita como \n",
    "$$d = \\frac{n!}{n_{r}!},$$ \n",
    "em que $n$ é o número de números quânticos e $n_{r}$ é o número de números quânticos que são iguais, o nº de repetições."
   ]
  },
  {
   "cell_type": "code",
   "execution_count": 1,
   "metadata": {},
   "outputs": [],
   "source": [
    "def E_poco3d(nx,ny,nz,E_111):\n",
    "    return E_111*(nx**2+ny**2+nz**2)"
   ]
  },
  {
   "cell_type": "code",
   "execution_count": 2,
   "metadata": {},
   "outputs": [
    {
     "name": "stdout",
     "output_type": "stream",
     "text": [
      "nx =  1 , ny =  1 , nz =  1 , E_nx,ny,nz =  3*E111\n",
      "nx =  1 , ny =  1 , nz =  2 , E_nx,ny,nz =  6*E111\n",
      "nx =  1 , ny =  1 , nz =  3 , E_nx,ny,nz =  11*E111\n",
      "nx =  1 , ny =  1 , nz =  4 , E_nx,ny,nz =  18*E111\n",
      "nx =  1 , ny =  2 , nz =  1 , E_nx,ny,nz =  6*E111\n",
      "nx =  1 , ny =  2 , nz =  2 , E_nx,ny,nz =  9*E111\n",
      "nx =  1 , ny =  2 , nz =  3 , E_nx,ny,nz =  14*E111\n",
      "nx =  1 , ny =  2 , nz =  4 , E_nx,ny,nz =  21*E111\n",
      "nx =  1 , ny =  3 , nz =  1 , E_nx,ny,nz =  11*E111\n",
      "nx =  1 , ny =  3 , nz =  2 , E_nx,ny,nz =  14*E111\n",
      "nx =  1 , ny =  3 , nz =  3 , E_nx,ny,nz =  19*E111\n",
      "nx =  1 , ny =  3 , nz =  4 , E_nx,ny,nz =  26*E111\n",
      "nx =  1 , ny =  4 , nz =  1 , E_nx,ny,nz =  18*E111\n",
      "nx =  1 , ny =  4 , nz =  2 , E_nx,ny,nz =  21*E111\n",
      "nx =  1 , ny =  4 , nz =  3 , E_nx,ny,nz =  26*E111\n",
      "nx =  1 , ny =  4 , nz =  4 , E_nx,ny,nz =  33*E111\n",
      "nx =  2 , ny =  1 , nz =  1 , E_nx,ny,nz =  6*E111\n",
      "nx =  2 , ny =  1 , nz =  2 , E_nx,ny,nz =  9*E111\n",
      "nx =  2 , ny =  1 , nz =  3 , E_nx,ny,nz =  14*E111\n",
      "nx =  2 , ny =  1 , nz =  4 , E_nx,ny,nz =  21*E111\n",
      "nx =  2 , ny =  2 , nz =  1 , E_nx,ny,nz =  9*E111\n",
      "nx =  2 , ny =  2 , nz =  2 , E_nx,ny,nz =  12*E111\n",
      "nx =  2 , ny =  2 , nz =  3 , E_nx,ny,nz =  17*E111\n",
      "nx =  2 , ny =  2 , nz =  4 , E_nx,ny,nz =  24*E111\n",
      "nx =  2 , ny =  3 , nz =  1 , E_nx,ny,nz =  14*E111\n",
      "nx =  2 , ny =  3 , nz =  2 , E_nx,ny,nz =  17*E111\n",
      "nx =  2 , ny =  3 , nz =  3 , E_nx,ny,nz =  22*E111\n",
      "nx =  2 , ny =  3 , nz =  4 , E_nx,ny,nz =  29*E111\n",
      "nx =  2 , ny =  4 , nz =  1 , E_nx,ny,nz =  21*E111\n",
      "nx =  2 , ny =  4 , nz =  2 , E_nx,ny,nz =  24*E111\n",
      "nx =  2 , ny =  4 , nz =  3 , E_nx,ny,nz =  29*E111\n",
      "nx =  2 , ny =  4 , nz =  4 , E_nx,ny,nz =  36*E111\n",
      "nx =  3 , ny =  1 , nz =  1 , E_nx,ny,nz =  11*E111\n",
      "nx =  3 , ny =  1 , nz =  2 , E_nx,ny,nz =  14*E111\n",
      "nx =  3 , ny =  1 , nz =  3 , E_nx,ny,nz =  19*E111\n",
      "nx =  3 , ny =  1 , nz =  4 , E_nx,ny,nz =  26*E111\n",
      "nx =  3 , ny =  2 , nz =  1 , E_nx,ny,nz =  14*E111\n",
      "nx =  3 , ny =  2 , nz =  2 , E_nx,ny,nz =  17*E111\n",
      "nx =  3 , ny =  2 , nz =  3 , E_nx,ny,nz =  22*E111\n",
      "nx =  3 , ny =  2 , nz =  4 , E_nx,ny,nz =  29*E111\n",
      "nx =  3 , ny =  3 , nz =  1 , E_nx,ny,nz =  19*E111\n",
      "nx =  3 , ny =  3 , nz =  2 , E_nx,ny,nz =  22*E111\n",
      "nx =  3 , ny =  3 , nz =  3 , E_nx,ny,nz =  27*E111\n",
      "nx =  3 , ny =  3 , nz =  4 , E_nx,ny,nz =  34*E111\n",
      "nx =  3 , ny =  4 , nz =  1 , E_nx,ny,nz =  26*E111\n",
      "nx =  3 , ny =  4 , nz =  2 , E_nx,ny,nz =  29*E111\n",
      "nx =  3 , ny =  4 , nz =  3 , E_nx,ny,nz =  34*E111\n",
      "nx =  3 , ny =  4 , nz =  4 , E_nx,ny,nz =  41*E111\n",
      "nx =  4 , ny =  1 , nz =  1 , E_nx,ny,nz =  18*E111\n",
      "nx =  4 , ny =  1 , nz =  2 , E_nx,ny,nz =  21*E111\n",
      "nx =  4 , ny =  1 , nz =  3 , E_nx,ny,nz =  26*E111\n",
      "nx =  4 , ny =  1 , nz =  4 , E_nx,ny,nz =  33*E111\n",
      "nx =  4 , ny =  2 , nz =  1 , E_nx,ny,nz =  21*E111\n",
      "nx =  4 , ny =  2 , nz =  2 , E_nx,ny,nz =  24*E111\n",
      "nx =  4 , ny =  2 , nz =  3 , E_nx,ny,nz =  29*E111\n",
      "nx =  4 , ny =  2 , nz =  4 , E_nx,ny,nz =  36*E111\n",
      "nx =  4 , ny =  3 , nz =  1 , E_nx,ny,nz =  26*E111\n",
      "nx =  4 , ny =  3 , nz =  2 , E_nx,ny,nz =  29*E111\n",
      "nx =  4 , ny =  3 , nz =  3 , E_nx,ny,nz =  34*E111\n",
      "nx =  4 , ny =  3 , nz =  4 , E_nx,ny,nz =  41*E111\n",
      "nx =  4 , ny =  4 , nz =  1 , E_nx,ny,nz =  33*E111\n",
      "nx =  4 , ny =  4 , nz =  2 , E_nx,ny,nz =  36*E111\n",
      "nx =  4 , ny =  4 , nz =  3 , E_nx,ny,nz =  41*E111\n",
      "nx =  4 , ny =  4 , nz =  4 , E_nx,ny,nz =  48*E111\n"
     ]
    }
   ],
   "source": [
    "from sympy import symbols\n",
    "E111 = symbols('E111'); E = []; j = -1\n",
    "for nx in range(1, 5):\n",
    "    for ny in range(1, 5):\n",
    "        for nz in range(1, 5):\n",
    "            j += 1\n",
    "            E.append(E_poco3d(nx,ny,nz,E111))\n",
    "            print('nx = ', nx, ', ny = ', ny, ', nz = ', nz, ', E_nx,ny,nz = ', E[j])"
   ]
  }
 ],
 "metadata": {
  "kernelspec": {
   "display_name": "Python 3 (ipykernel)",
   "language": "python",
   "name": "python3"
  },
  "language_info": {
   "codemirror_mode": {
    "name": "ipython",
    "version": 3
   },
   "file_extension": ".py",
   "mimetype": "text/x-python",
   "name": "python",
   "nbconvert_exporter": "python",
   "pygments_lexer": "ipython3",
   "version": "3.11.1"
  }
 },
 "nbformat": 4,
 "nbformat_minor": 4
}
