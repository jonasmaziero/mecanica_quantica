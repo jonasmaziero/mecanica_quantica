{
 "cells": [
  {
   "cell_type": "markdown",
   "metadata": {},
   "source": [
    "### Notas de aula de Mecânica Quântica <br> Autor: Jonas Maziero\n",
    "\n",
    "# Exercícios"
   ]
  },
  {
   "cell_type": "markdown",
   "metadata": {},
   "source": [
    "---\n",
    "$1.$ Verifique que se duas funções $\\Psi_{1}(\\vec{r},t)$ e $\\Psi_{2}(\\vec{r},t)$ satisfazem a equação de Schrödinger (EqS), então qualquer combinação linear delas, $\\Psi(\\vec{r},t)=c_{1}\\Psi_{1}(\\vec{r},t)+c_{2}\\Psi_{2}(\\vec{r},t)$ com $c_{1},c_{2}\\in\\mathbb{C}$ constantes, também satisfaz a EqS."
   ]
  },
  {
   "cell_type": "markdown",
   "metadata": {},
   "source": [
    "_SOL._ A EqS lê-se $-(\\hbar^{2}/2m)\\nabla^{2}\\Psi+U\\Psi=i\\hbar\\partial_{t}\\Psi$ com $U=U(\\vec{r},t)$ e $\\Psi=\\Psi(\\vec{r},t)$. Como $\\Psi_{1}$ e $\\Psi_{2}$ são soluções da EqS, então $-(\\hbar^{2}/2m)\\nabla^{2}\\Psi_{1}+U\\Psi_{1}-i\\hbar\\partial_{t}\\Psi_{1}=0$ e $-(\\hbar^{2}/2m)\\nabla^{2}\\Psi_{2}+U\\Psi_{2}-i\\hbar\\partial_{t}\\Psi_{2}=0$. Assim, usando a linearidade da derivada, podemos escrever\n",
    "\\begin{align}\n",
    "& -(\\hbar^{2}/2m)\\nabla^{2}\\Psi_{1}+U\\Psi_{1}-i\\hbar\\partial_{t}\\Psi_{1}-(\\hbar^{2}/2m)\\nabla^{2}\\Psi_{2}+U\\Psi_{2}-i\\hbar\\partial_{t}\\Psi_{2}=0+0, \\\\\n",
    "& \\therefore c_{1}\\left(-(\\hbar^{2}/2m)\\nabla^{2}+U-i\\hbar\\partial_{t}\\right)\\Psi_{1}+c_{2}\\left(-(\\hbar^{2}/2m)\\nabla^{2}+U-i\\hbar\\partial_{t}\\right)\\Psi_{2}=0+0, \\\\\n",
    "& \\therefore \\left(-(\\hbar^{2}/2m)\\nabla^{2}+U-i\\hbar\\partial_{t}\\right)(c_{1}\\Psi_{1}) + \\left(-(\\hbar^{2}/2m)\\nabla^{2}+U-i\\hbar\\partial_{t}\\right)(c_{2}\\Psi_{2})=0+0, \\\\\n",
    "& \\therefore \\left(-(\\hbar^{2}/2m)\\nabla^{2}+U-i\\hbar\\partial_{t}\\right)(c_{1}\\Psi_{1}+c_{2}\\Psi_{2})=0, \\\\\n",
    "& \\therefore \\left(-(\\hbar^{2}/2m)\\nabla^{2}+U-i\\hbar\\partial_{t}\\right)\\Psi=0.\n",
    "\\end{align}"
   ]
  },
  {
   "cell_type": "markdown",
   "metadata": {},
   "source": [
    "---\n",
    "$2.$ Verifique que a função $\\Psi(\\vec{r},t)=Ae^{(\\vec{k}\\cdot\\vec{r}-\\omega t)}$ não satisfaz a eq. de Schrödinger."
   ]
  },
  {
   "cell_type": "markdown",
   "metadata": {},
   "source": [
    "_SOL._ A EqS lê-se $-(\\hbar^{2}/2m)\\nabla^{2}\\Psi+U\\Psi=i\\hbar\\partial_{t}\\Psi$. Podemos escrever $\\Psi=Ae^{\\sum_{j}k_{j}x_{j}-\\omega t}$. Assim $\\partial_{x_{j}}\\Psi=\\Psi\\sum_{l}k_{l}\\partial_{x_{j}}x_{l}=k_{j}\\Psi \\therefore \\partial_{x_{j}x_{j}}\\Psi=k_{j}^{2}\\Psi$ e $\\partial_{t}\\Psi=-\\omega\\Psi$. Usando $\\nabla^{2}=\\sum_{j}\\partial_{x_{j}x_{j}}$ e substituindo na EqS teremos $-(\\hbar^{2}/2m)k^{2}\\Psi+U\\Psi=-i\\hbar\\omega\\Psi \\therefore ((U-\\hbar^{2}k^{2}/2m)+\\hbar\\omega i)\\Psi=0$. Note que essa eq. só é satisfeita se $U=\\hbar^{2}k^{2}/2m$ e $\\hbar\\omega=0$, que não pode ocorrer (a última igualdade, pelo menos)."
   ]
  },
  {
   "cell_type": "markdown",
   "metadata": {},
   "source": [
    "---\n",
    "$3.$ Verifique que as funções $\\Psi_{d}(\\vec{r},t)=Ae^{i(\\vec{k}\\cdot\\vec{r}-\\omega t)}$ e $\\Psi_{e}(\\vec{r},t)=Ae^{i(-\\vec{k}\\cdot\\vec{r}-\\omega t)}$ satisfazem a eq. de Schrödinger tridimensional, assumindo que $\\hbar\\omega=\\hbar^{2}k^{2}/2m+U$."
   ]
  },
  {
   "cell_type": "markdown",
   "metadata": {},
   "source": [
    "_SOL._ Novamente escrevemos $\\Psi_{d}=Ae^{i(\\sum_{j}k_{j}x_{j}-\\omega t)}$ e $\\Psi_{e}=Ae^{-i(\\sum_{j}k_{j}x_{j}+\\omega t)}$. Vem assim que $\\partial_{x_{j}}\\Psi_{d}=ik_{j}\\Psi_{d} \\therefore \\partial_{x_{j}x_{j}}\\Psi_{d}=-k_{j}^{2}\\Psi_{d}$, $\\partial_{t}\\Psi_{d}=-i\\omega\\Psi_{d}$, $\\partial_{x_{j}}\\Psi_{e}=-ik_{j}\\Psi_{e} \\therefore \\partial_{x_{j}x_{j}}\\Psi_{e}=-k_{j}^{2}\\Psi_{e}$, $\\partial_{t}\\Psi_{e}=-i\\omega\\Psi_{e}$. Substituindo na EqS teremos $-(\\hbar^{2}/2m)\\nabla^{2}\\Psi_{d}+U\\Psi_{d}= -(\\hbar^{2}/2m)(-k^{2})\\Psi_{d}+U\\Psi_{d}=i\\hbar\\partial_{t}\\Psi_{d}=i\\hbar(-i\\omega)\\Psi_{d} \\therefore(\\hbar^{2}/2m+U-\\hbar\\omega)\\Psi_{d}=0$. Ademais $-(\\hbar^{2}/2m)\\nabla^{2}\\Psi_{e}+U\\Psi_{e}= -(\\hbar^{2}/2m)(-k^{2})\\Psi_{e}+U\\Psi_{e}=i\\hbar\\partial_{t}\\Psi_{e}=i\\hbar(-i\\omega)\\Psi_{e} \\therefore(\\hbar^{2}/2m+U-\\hbar\\omega)\\Psi_{e}=0$."
   ]
  },
  {
   "cell_type": "markdown",
   "metadata": {},
   "source": [
    "---\n",
    "$4.$ Normalize a função de onda $\\Psi_{d}(\\vec{r},t)=Ae^{i(\\vec{k}\\cdot\\vec{r}-\\omega t)}$  no intervalo $x,y,z\\in[-L,L]$ para $L\\in\\mathbb{R}$ finito. Verifique que esta função de onda não pode ser normalizada se $L=\\infty$."
   ]
  },
  {
   "cell_type": "markdown",
   "metadata": {},
   "source": [
    "_SOL._ Pela normalização, devemos ter\n",
    "\\begin{align}\n",
    "1 &= \\int_{-L}^{L}\\int_{-L}^{L}\\int_{-L}^{L}dxdydz|\\Psi_{d}|^{2} = A^{2}\\int_{-L}^{L}\\int_{-L}^{L}\\int_{-L}^{L}dxdydze^{i(\\vec{k}\\cdot\\vec{r}-\\omega t)}e^{-i(\\vec{k}\\cdot\\vec{r}-\\omega t)} = A^{2}(2L)(2L)(2L), \\\\\n",
    "& \\therefore A = 1/\\sqrt{(2L)^{3}}.\n",
    "\\end{align}\n",
    "Como $A$ diverge para $L\\rightarrow\\infty$, a função de onda não é normalizável nesse limite $(\\Psi_{d}(L\\rightarrow\\infty)\\rightarrow 0)$."
   ]
  },
  {
   "cell_type": "markdown",
   "metadata": {},
   "source": [
    "---\n",
    "$5.$ Verifique que para a função de onda $\\Psi_{e}(\\vec{r},t)=Ae^{i(-\\vec{k}\\cdot\\vec{r}-\\omega t)}$ temos que $\\langle\\vec{P}(t)\\rangle=-\\sqrt{2mE}\\hat{k}$, o momento de uma partícula clássica livre se movimentando na direção $-\\hat{k}$ com velocidade $\\omega/k$, e que $\\langle\\vec{R}(t)\\rangle=0$ (use $x,y,z\\in[-L,L]$)."
   ]
  },
  {
   "cell_type": "markdown",
   "metadata": {},
   "source": [
    "_SOL._ Para essa função de onda, usando\n",
    "\\begin{equation}\n",
    "\\nabla_{\\vec{r}}\\Psi_{e} = (\\hat{i}\\partial_{x}+\\hat{j}\\partial_{y}+\\hat{k}\\partial_{z})Ae^{-i(k_{x}x+k_{y}y+k_{z}z+\\omega t)} = -(\\hat{i}ik_{x}+\\hat{j}ik_{y}+\\hat{k}ik_{z})\\Psi_{e} = -i\\vec{k}\\Psi_{e},\n",
    "\\end{equation}\n",
    "obteremos o valor esperado do momento linear:\n",
    "\\begin{equation}\n",
    "\\langle\\vec{P}(t)\\rangle = \\iiint \\Psi_{e}^{*}\\vec{P}\\Psi_{e}d^{3}r = \\iiint \\Psi_{e}^{*}(\\hbar/i)\\vec{\\nabla}_{\\vec{r}}\\Psi_{e}d^{3}r = \\iiint \\Psi_{e}^{*}(\\hbar/i)(-i\\vec{k})\\Psi_{e}d^{3}r=-\\hbar k\\hat{k}=-\\sqrt{2mE}\\hat{k}. \n",
    "\\end{equation}"
   ]
  },
  {
   "cell_type": "markdown",
   "metadata": {},
   "source": [
    "---\n",
    "$6.$ Usando a EqSIT, obtenha a função energia potencial de um quanton com função de onda $\\psi(x)=Ae^{-x^{2}/2L^{2}}$ e energia $E=\\hbar^{2}/2mL^{2}$. Que potencial clássico possui essa forma?"
   ]
  },
  {
   "cell_type": "markdown",
   "metadata": {},
   "source": [
    "_SOL._ Consideremos a EqSIT1D $-(\\hbar^{2}/2m)\\partial_{xx}\\psi+U\\psi=E\\psi$. Para essa função de onda, $\\partial_{x}\\psi=-(x/L^{2})\\psi \\therefore \\partial_{xx}\\psi = -(1/L^{2})\\psi-(x/L^{2})\\partial_{x}\\psi = -(1/L^{2})\\psi+(x^{2}/L^{4})\\psi$. Substituindo na EqSIT1D teremos\n",
    "\\begin{align}\n",
    "& (\\hbar^{2}/2mL^{2})\\psi -(\\hbar^{2}x^{2}/2mL^{4}) + U\\psi = (\\hbar^{2}/2mL^{2})\\psi, \\\\\n",
    "& \\therefore (U-(\\hbar^{2}x^{2}/2mL^{4})\\psi=0, \\\\\n",
    "& \\therefore U=\\hbar^{2}x^{2}/2mL^{4} = kx^{2}/2,\n",
    "\\end{align}\n",
    "que é o potencial do oscilador harmônico para a constante elástica $k=\\hbar^{2}/mL^{4}$."
   ]
  },
  {
   "cell_type": "markdown",
   "metadata": {},
   "source": [
    "---\n",
    "$7.$ Escreva as equações a serem resolvidas para calcularmos $\\langle X(t)\\rangle,\\langle Y(t)\\rangle,\\langle Z(t)\\rangle,\\langle P_{x}(t)\\rangle,\\langle P_{y}(t)\\rangle,\\langle P_{z}(t)\\rangle$ para um sistema restrito a se movimentar na direção $x$, com $y=z=0$ e cuja função de onda pode ser escrita como\n",
    "$\\Psi(x,y,z,t)=\\Xi(x,t)\\psi_{G}(y)\\psi_{G}(z).$"
   ]
  },
  {
   "cell_type": "markdown",
   "metadata": {},
   "source": [
    "_SOL._ Aplicando as definições, para a posição teremos \n",
    "\\begin{align}\n",
    "\\langle X(t)\\rangle & = \\iiint x|\\Xi(x,t)\\psi_{G}(y)\\psi_{G}(z)|^{2}dxdydz = \\int x|\\Xi(x,t)|^{2}dx\\int|\\psi_{G}(y)|^{2}dy\\int|\\psi_{G}(z)|^{2}dz \\\\\n",
    "& = \\int x|\\Xi(x,t)|^{2}dx(1)(1)=\\int x|\\Xi(x,t)|^{2}dx\n",
    "\\end{align}\n",
    "e\n",
    "\\begin{align}\n",
    "\\langle Y(t)\\rangle &= \\iiint y|\\Xi(x,t)\\psi_{G}(y)\\psi_{G}(z)|^{2}dxdydz = \\int|\\Xi(x,t)|^{2}dx\\int y\\psi_{G}(y)dy\\int \\psi_{G}(z)dz \\\\\n",
    "&= (1)(0)(1)=0.\n",
    "\\end{align}\n",
    "O mesmo feito para $\\langle Y(t)\\rangle$ segue para $\\langle Z(t)\\rangle.$ "
   ]
  },
  {
   "cell_type": "markdown",
   "metadata": {},
   "source": [
    "Para o momento linear teremos\n",
    "\\begin{align}\n",
    "\\langle P_{x}(t)\\rangle & = \\iiint \\Xi(x,t)^{*}\\psi_{G}(y)^{*}\\psi_{G}(z)^{*}\\left(\\frac{\\hbar}{i}\\partial_{x}\\right)\\Xi(x,t)\\psi_{G}(y)\\psi_{G}(z)dxdydz \\\\\n",
    "&= \\int \\Xi(x,t)^{*}\\left(\\frac{\\hbar}{i}\\partial_{x}\\right)\\Xi(x,t)dx\\int|\\psi_{G}(y)|^{2}dy\\int|\\psi_{G}(z)|^{2}dz \\\\\n",
    "& = \\int \\Xi(x,t)^{*}\\left(\\frac{\\hbar}{i}\\partial_{x}\\right)\\Xi(x,t)dx.\n",
    "\\end{align}\n",
    "Já\n",
    "\\begin{align}\n",
    "\\langle P_{y}(t)\\rangle & = \\iiint \\Xi(x,t)^{*}\\psi_{G}(y)^{*}\\psi_{G}(z)^{*}\\left(\\frac{\\hbar}{i}\\partial_{y}\\right)\\Xi(x,t)\\psi_{G}(y)\\psi_{G}(z)dxdydz \\\\\n",
    "&= \\int|\\Xi(x,t)|^{2}dx\\int\\psi_{G}(y)^{*}\\left(\\frac{\\hbar}{i}\\partial_{y}\\right)\\psi_{G}(y)dy\\int|\\psi_{G}(z)|^{2}dz \\\\\n",
    "& \\propto \\int y|\\psi_{G}(y)|^{2}dy = 0.\n",
    "\\end{align}\n",
    "Analogamente, $\\langle P_{z}(t)\\rangle=0.$"
   ]
  },
  {
   "cell_type": "markdown",
   "metadata": {},
   "source": [
    "---\n",
    "$8.$ Partindo da EqS independente do tempo, mostre que $\\langle P^{2}\\rangle=2m(E-\\langle U\\rangle)$."
   ]
  },
  {
   "cell_type": "markdown",
   "metadata": {},
   "source": [
    "_SOL._ A eq. de Schrödinger independente do tempo lê-se $(P^{2}/2m+U(\\vec{r}))\\psi(\\vec(r))=E\\psi(\\vec(r))$. Se multiplicamos essa eq. pela esquerda por $\\psi(\\vec(r))^{*}$ e integramos em $\\mathrm{R}^{3}$, teremos\n",
    "\\begin{align}\n",
    "&\\frac{1}{2m}\\int_{\\mathrm{R}^{3}}\\psi(\\vec{r})^{*}P^{2}\\psi(\\vec{r})d^{3}r + \\int_{\\mathrm{R}^{3}}\\psi(\\vec{r})^{*}U(\\vec{r})\\psi(\\vec{r})d^{3}r = E\\int_{\\mathrm{R}^{3}}\\psi(\\vec{r})^{*}\\psi(\\vec{r})d^{3}r, \\\\\n",
    "& \\therefore \\frac{1}{2m}\\langle P^{2}\\rangle + \\langle U(\\vec{r})\\rangle = E(1), \\\\\n",
    "& \\therefore \\langle P^{2}\\rangle=2m(E-\\langle U(\\vec{r})\\rangle).\n",
    "\\end{align}"
   ]
  },
  {
   "cell_type": "markdown",
   "metadata": {},
   "source": [
    "---\n",
    "$9.$ Mostre que se a energia potencial é simétrica em relação ao ponto $\\vec{r}_{0}$, i.e., $U(\\vec{r}_{0}+\\vec{r})=U(\\vec{r}_{0}-\\vec{r})$, então a função de onda deve ser par, $\\psi(\\vec{r}_{0}+\\vec{r})=\\psi(\\vec{r}_{0}-\\vec{r})$, ou ímpar, $\\psi(\\vec{r}_{0}+\\vec{r})=-\\psi(\\vec{r}_{0}-\\vec{r})$."
   ]
  },
  {
   "cell_type": "markdown",
   "metadata": {},
   "source": [
    "_SOL._ A EqSIT aplicada nas posições $\\vec{r}_{0}+\\vec{r}$ e $\\vec{r}_{0}+\\vec{r}$ fica:\n",
    "\\begin{equation}\n",
    "-\\frac{\\hbar^{2}}{2m}\\nabla^{2}_{\\vec{r}}\\psi(\\vec{r}_{0}+\\vec{r})+U(\\vec{r}_{0}+\\vec{r})\\psi(\\vec{r}_{0}+\\vec{r}) = E\\psi(\\vec{r}_{0}+\\vec{r}) \\text{ e } -\\frac{\\hbar^{2}}{2m}\\nabla^{2}_{\\vec{r}}\\psi(\\vec{r}_{0}-\\vec{r})+U(\\vec{r}_{0}-\\vec{r})\\psi(\\vec{r}_{0}-\\vec{r}) = E\\psi(\\vec{r}_{0}-\\vec{r}).\n",
    "\\end{equation}\n",
    "Vamos considerar uma simetria do energia potencial do tipo $U(\\vec{r}_{0}+\\vec{r})=U(\\vec{r}_{0}-\\vec{r})$ para escrever\n",
    "\\begin{align}\n",
    "& \\left(\\nabla^{2}_{\\vec{r}}+\\frac{2m}{\\hbar^{2}}(E-U(\\vec{r}_{0}+\\vec{r}))\\right)\\psi(\\vec{r}_{0}+\\vec{r}) = 0, \\\\\n",
    "& \\left(\\nabla^{2}_{\\vec{r}}+\\frac{2m}{\\hbar^{2}}(E-U(\\vec{r}_{0}-\\vec{r}))\\right)\\psi(\\vec{r}_{0}-\\vec{r})=\\left(\\nabla^{2}_{\\vec{r}}+\\frac{2m}{\\hbar^{2}}(E-U(\\vec{r}_{0}+\\vec{r}))\\right)\\psi(\\vec{r}_{0}-\\vec{r})=0.\n",
    "\\end{align}\n",
    "Subtraindo e somando essas equações obteremos\n",
    "\\begin{align}\n",
    "& \\left(\\nabla^{2}_{\\vec{r}}+\\frac{2m}{\\hbar^{2}}(E-U(\\vec{r}_{0}+\\vec{r}))\\right)(\\psi(\\vec{r}_{0}+\\vec{r})-\\psi(\\vec{r}_{0}-\\vec{r})) = 0, \\\\\n",
    "& \\left(\\nabla^{2}_{\\vec{r}}+\\frac{2m}{\\hbar^{2}}(E-U(\\vec{r}_{0}+\\vec{r}))\\right)(\\psi(\\vec{r}_{0}+\\vec{r})+\\psi(\\vec{r}_{0}-\\vec{r})) = 0.\n",
    "\\end{align}\n",
    "Para que essas equações sejam satisfeitas de forma geral, é necessário que a função de onda seja par ou ímpar, i.e.,\n",
    "\\begin{equation}\n",
    "\\psi(\\vec{r}_{0}+\\vec{r})=\\psi(\\vec{r}_{0}-\\vec{r}) \\text{ ou } \\psi(\\vec{r}_{0}+\\vec{r})=-\\psi(\\vec{r}_{0}-\\vec{r}) \\text{, respectivamente.}\n",
    "\\end{equation}"
   ]
  },
  {
   "cell_type": "markdown",
   "metadata": {},
   "source": [
    "---\n",
    "$10.$ Verifique que a derivada primeira de uma função ímpar é uma função par."
   ]
  },
  {
   "cell_type": "markdown",
   "metadata": {},
   "source": [
    "_SOL._ Para $\\psi(\\vec{r})=-\\psi(-\\vec{r})$ teremos\n",
    "\\begin{align}\n",
    "\\partial_{x}\\psi(x,y,z) &= \\lim_{\\Delta x\\rightarrow 0}\\frac{\\psi(x+\\Delta x,y,z)-\\psi(x,y,z)}{\\Delta x} = \\lim_{\\Delta x\\rightarrow 0}\\frac{-\\psi(-x-\\Delta x,-y,-z)+\\psi(-x,-y,-z)}{\\Delta x} \\\\ \n",
    "& = \\lim_{\\Delta x\\rightarrow 0}\\frac{\\psi(-x,-y,-z)-\\psi(-x-\\Delta x,-y,-z)}{\\Delta x} = \\partial_{x}\\psi(-x,-y,-z).\n",
    "\\end{align}"
   ]
  },
  {
   "cell_type": "markdown",
   "metadata": {},
   "source": [
    "---\n",
    "$11.$ Verifique que a função $f(x)=x^{n}$ é uma função ímpar se $n$ é ímpar."
   ]
  },
  {
   "cell_type": "markdown",
   "metadata": {},
   "source": [
    "_SOL._ Para $n$ ímpar podemos escrever $n=2j+1$ para algum $j\\in\\mathbb{Z}$. Assim\n",
    "\\begin{equation}\n",
    "f(-x) = (-x)^{n} = (-x)^{2j+1} = (-x)^{2j}(-x)^{1} = -(x)^{2j}(x)^{1} = -x^{2j+1} = -x^{n} = -f(x).\n",
    "\\end{equation}"
   ]
  },
  {
   "cell_type": "markdown",
   "metadata": {},
   "source": [
    "---\n",
    "$12.$ Verifique que o produto de uma função par por uma função ímpar, ou vice versa, é uma função ímpar."
   ]
  },
  {
   "cell_type": "markdown",
   "metadata": {},
   "source": [
    "_SOL._ Seja $f(-x)=f(x)$ uma função par e $g(-x)=-g(x)$ uma função ímpar. O produto dessas funções,\n",
    "\\begin{equation}\n",
    "h(-x)=f(-x)g(-x)=f(x)(-g(x)) = -f(x)g(x) =-h(x),\n",
    "\\end{equation}\n",
    "é uma função ímpar. O mesmo racionínio se aplica no outro caso, $f\\leftrightarrow g$."
   ]
  },
  {
   "cell_type": "code",
   "execution_count": null,
   "metadata": {},
   "outputs": [],
   "source": []
  }
 ],
 "metadata": {
  "kernelspec": {
   "display_name": "Python 3 (ipykernel)",
   "language": "python",
   "name": "python3"
  },
  "language_info": {
   "codemirror_mode": {
    "name": "ipython",
    "version": 3
   },
   "file_extension": ".py",
   "mimetype": "text/x-python",
   "name": "python",
   "nbconvert_exporter": "python",
   "pygments_lexer": "ipython3",
   "version": "3.11.1"
  }
 },
 "nbformat": 4,
 "nbformat_minor": 4
}
