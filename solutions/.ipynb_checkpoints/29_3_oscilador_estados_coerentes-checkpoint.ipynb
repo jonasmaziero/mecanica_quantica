{
 "cells": [
  {
   "cell_type": "markdown",
   "metadata": {},
   "source": [
    "### Notas de aula de Mecânica Quântica <br> Autor: Jonas Maziero\n",
    "\n",
    "# Exercícios"
   ]
  },
  {
   "cell_type": "markdown",
   "metadata": {},
   "source": [
    "---\n",
    "$1.$ Verifique que $\\langle P\\rangle_{\\alpha} = i\\sqrt{\\hbar m\\omega/2}(\\alpha^{*}-\\alpha)$, $\\langle P^{2}\\rangle_{\\alpha} = -(\\hbar m\\omega/2)((\\alpha^{*})^{2}-2|\\alpha|^{2}-1+\\alpha^{2})$ e $Var(P)_{\\alpha} = \\hbar m\\omega/2$.                                                                              "
   ]
  },
  {
   "cell_type": "markdown",
   "metadata": {},
   "source": [
    "_SOL._ Usando $a|\\alpha\\rangle=\\alpha|\\alpha\\rangle\\ \\therefore \\langle\\alpha|a^{\\dagger}=\\langle\\alpha|\\alpha^{*}$ obteremos\n",
    "\\begin{align}\n",
    "\\langle P\\rangle_{\\alpha} &= i\\sqrt{\\frac{\\hbar m\\omega}{2}}(\\langle\\alpha|a^{\\dagger}|\\alpha\\rangle-\\langle\\alpha|a|\\alpha\\rangle) = i\\sqrt{\\frac{\\hbar m\\omega}{2}}(\\langle\\alpha|\\alpha^{*}|\\alpha\\rangle-\\langle\\alpha|\\alpha|\\alpha\\rangle) \\\\\n",
    "&= i\\sqrt{\\frac{\\hbar m\\omega}{2}}(\\alpha^{*}-\\alpha), \\\\\n",
    "\\langle P^{2}\\rangle_{\\alpha} &= -\\frac{\\hbar m\\omega}{2}\\langle\\alpha|(a^{\\dagger}-a)^{2}|\\alpha\\rangle \\\\ \n",
    "&= -\\frac{\\hbar m\\omega}{2}(\\langle\\alpha|(a^{\\dagger})^{2}|\\alpha\\rangle - \\langle\\alpha|a^{\\dagger}a|\\alpha\\rangle - \\langle\\alpha|aa^{\\dagger}|\\alpha\\rangle + \\langle\\alpha|a^{2}|\\alpha\\rangle) \\\\\n",
    "&= -\\frac{\\hbar m\\omega}{2}((\\alpha^{*})^{2} - |\\alpha|^{2} -1 - |\\alpha|^{2} + \\alpha^{2}).\n",
    "\\end{align}\n",
    "Assim\n",
    "\\begin{align}\n",
    "Var(P)_{\\alpha} &= \\langle P^{2}\\rangle_{\\alpha} - \\langle P\\rangle_{\\alpha}^{2} = -\\frac{\\hbar m\\omega}{2}((\\alpha^{*})^{2} - 2|\\alpha|^{2} + \\alpha^{2}) - i^{2}\\sqrt{\\frac{\\hbar m\\omega}{2}}^{2}(\\alpha^{*}-\\alpha)^{2} \\\\\n",
    "& = -\\frac{\\hbar m\\omega}{2}((\\alpha^{*})^{2} -1- 2|\\alpha|^{2} + \\alpha^{2}) + \\frac{\\hbar m\\omega}{2}((\\alpha^{*})^{2}+\\alpha^{2}- 2|\\alpha|^{2}) \\\\\n",
    "&= \\frac{\\hbar m\\omega}{2}.\n",
    "\\end{align}"
   ]
  },
  {
   "cell_type": "markdown",
   "metadata": {},
   "source": [
    "---\n",
    "$2.$ Para $|\\alpha\\rangle=e^{-|\\alpha|^2/2}\\sum_{m=0}^\\infty \\frac{\\alpha^m}{\\sqrt{m!}}|m\\rangle$, verifique que $\\langle\\alpha|\\alpha\\rangle=1.$"
   ]
  },
  {
   "cell_type": "markdown",
   "metadata": {},
   "source": [
    "_SOL._ Teremos que\n",
    "\\begin{align}\n",
    "\\langle\\alpha|\\alpha\\rangle & = e^{-|\\alpha|^2/2}\\sum_{n=0}^\\infty \\frac{(\\alpha^n)^*}{\\sqrt{n!}}\\langle n|e^{-|\\alpha|^2/2}\\sum_{m=0}^\\infty \\frac{\\alpha^m}{\\sqrt{m!}}|m\\rangle \\\\\n",
    "& = e^{-|\\alpha|^2}\\sum_{n,m=0}^\\infty\\frac{(\\alpha^n)^*\\alpha^m}{\\sqrt{n!m!}}\\langle n|m\\rangle \\\\\n",
    "& = e^{-|\\alpha|^2}\\sum_{n,m=0}^\\infty\\frac{(\\alpha^*)^n\\alpha^m}{\\sqrt{n!m!}}\\delta_{n,m} \\\\\n",
    "& = e^{-|\\alpha|^2}\\sum_{n=0}^\\infty\\frac{(\\alpha^*)^n\\alpha^n}{n!} \\\\\n",
    "& = e^{-|\\alpha|^2}\\sum_{n=0}^\\infty\\frac{(\\alpha^*\\alpha)^n}{n!} \\\\\n",
    "& = e^{-|\\alpha|^2}\\sum_{n=0}^\\infty\\frac{(|\\alpha|^2)^n}{n!} \\\\\n",
    "& = e^{-|\\alpha|^2}e^{|\\alpha|^2} \\\\\n",
    "& = 1.\n",
    "\\end{align}"
   ]
  },
  {
   "cell_type": "code",
   "execution_count": null,
   "metadata": {},
   "outputs": [],
   "source": []
  }
 ],
 "metadata": {
  "kernelspec": {
   "display_name": "Python 3 (ipykernel)",
   "language": "python",
   "name": "python3"
  },
  "language_info": {
   "codemirror_mode": {
    "name": "ipython",
    "version": 3
   },
   "file_extension": ".py",
   "mimetype": "text/x-python",
   "name": "python",
   "nbconvert_exporter": "python",
   "pygments_lexer": "ipython3",
   "version": "3.11.1"
  }
 },
 "nbformat": 4,
 "nbformat_minor": 4
}
