{
 "cells": [
  {
   "cell_type": "markdown",
   "metadata": {},
   "source": [
    "### Notas de aula de Mecânica Quântica <br> Autor: Jonas Maziero\n",
    "\n",
    "# Exercícios"
   ]
  },
  {
   "cell_type": "markdown",
   "metadata": {},
   "source": [
    "---\n",
    "$1.$ Mostre que o valor médio de uma variável aleatória qualquer, discreta, está entre seus valores mínimo e máximo, i.e., $X_{min}\\le \\langle X\\rangle\\le X_{max}$."
   ]
  },
  {
   "cell_type": "markdown",
   "metadata": {},
   "source": [
    "_SOL._ Vamos considerar, sem perda de generalidade, que $x_{\\min}=x_{1}\\therefore x_{j>1}>x_{1}$. Assim o valor médio é (usamos $x_{j}p_{j}\\ge x_{\\min}p_{j}\\ \\forall j$)\n",
    "\\begin{equation}\n",
    "\\langle X\\rangle = \\sum_{j=1}^{N}x_{j}p_{j} \\ge \\sum_{j=1}^{N}x_{1}p_{j} = x_{\\min}\\sum_{j=1}^{N}p_{j} = x_{\\min}.\n",
    "\\end{equation}\n",
    "Agora, também sem perda de generalidade, vamos assumir que $x_{\\max}=x_{1}\\therefore x_{j>1}<x_{1}$. Assim o valor médio é (usamos $x_{j}p_{j}\\le x_{\\max}p_{j}\\ \\forall j$)\n",
    "\\begin{equation}\n",
    "\\langle X\\rangle = \\sum_{j=1}^{N}x_{j}p_{j} \\le \\sum_{j=1}^{N}x_{1}p_{j} = x_{\\max}\\sum_{j=1}^{N}p_{j} = x_{\\max}.\n",
    "\\end{equation}"
   ]
  },
  {
   "cell_type": "markdown",
   "metadata": {},
   "source": [
    "---\n",
    "$2.$ Verifique que $\\mathrm{Var}(X)=\\langle X^{2}\\rangle - \\langle X\\rangle^{2}$."
   ]
  },
  {
   "cell_type": "markdown",
   "metadata": {},
   "source": [
    "_SOL._ A verificação é feita como segue\n",
    "\\begin{align}\n",
    "Var(X) &= \\langle(X-\\langle X\\rangle)^{2}\\rangle  = \\sum_{j}(X_{j}-\\langle X\\rangle)^{2}p_{j} \\\\\n",
    "& = \\sum_{j}(X_{j}^{2}-2X_{j}\\langle X\\rangle+\\langle X\\rangle^{2})p_{j} \\\\\n",
    "& = \\sum_{j}X_{j}^{2}p_{j} -2\\langle X\\rangle\\sum_{j}X_{j}p_{j} + \\langle X\\rangle^{2}\\sum_{j}p_{j} \\\\\n",
    "& = \\langle X^{2}\\rangle -2\\langle X\\rangle\\langle X\\rangle + \\langle X\\rangle^{2}(1) \\\\\n",
    "& = \\langle X^{2}\\rangle - \\langle X\\rangle^{2}.\n",
    "\\end{align}"
   ]
  },
  {
   "cell_type": "markdown",
   "metadata": {},
   "source": [
    "---\n",
    "$3.$ Considere duas variáveis aleatórias $Y=aX+b$ com $a$ e $b$ constantes reais. Verifique que $\\sigma_{Y}=a\\sigma_{X}$."
   ]
  },
  {
   "cell_type": "markdown",
   "metadata": {},
   "source": [
    "_SOL._ Teremos \n",
    "$$\\langle Y\\rangle = \\sum_{j}Y_{j}p_{j}=\\sum_{j}(aX_{j}+b)p_{j} = a\\sum_{j}X_{j}p_{j}+b\\sum_{j}p_{j} =a\\langle X\\rangle+b.$$ \n",
    "Ademais \n",
    "\\begin{align}\n",
    "\\langle Y^{2}\\rangle &= \\sum_{j}Y_{j}^{2}p_{j} = \\sum_{j}(aX_{j}+b)^{2}p_{j} = \\sum_{j}(a^{2}X_{j}^{2}+2abX_{j}+b^{2})p_{j} \\\\\n",
    "& = a^{2}\\sum_{j}X_{j}^{2}p_{j} + 2ab\\sum_{j}X_{j}p_{j} + b^{2}\\sum_{j}p_{j} \\\\\n",
    "& = a^{2}\\langle X^{2}\\rangle + 2ab\\langle X\\rangle+b^{2}.\n",
    "\\end{align}\n",
    "Assim \n",
    "\\begin{align}\n",
    "Var(Y) &=\\langle Y^{2}\\rangle-\\langle Y\\rangle^{2} = a^{2}\\langle X^{2}\\rangle + 2ab\\langle X\\rangle+b^{2} - (a\\langle X\\rangle+b)^{2} \\\\\n",
    "& = a^{2}\\langle X^{2}\\rangle + 2ab\\langle X\\rangle+b^{2} - a^{2}\\langle X\\rangle^{2} - 2ab\\langle X\\rangle -b^{2} \\\\\n",
    "& = a^{2}(\\langle X^{2}\\rangle - \\langle X\\rangle^{2}) = a^{2}Var(X).\n",
    "\\end{align}\n",
    "Portanto \n",
    "$$\\sigma_{Y}=a\\sigma_{X}.$$"
   ]
  },
  {
   "cell_type": "markdown",
   "metadata": {},
   "source": [
    "---\n",
    "$4.$ Para $p_{j} = (1-e^{-\\beta\\hbar\\omega})e^{-\\beta\\hbar\\omega j}$, com $\\beta,\\hbar,\\omega\\in\\mathbb{R}$ constantes, verifique que $\\sum_{j=0}^{\\infty}p_{j} = 1$."
   ]
  },
  {
   "cell_type": "markdown",
   "metadata": {},
   "source": [
    "_SOL._ Temos que \n",
    "\\begin{align}\n",
    "\\sum_{j=0}^{\\infty}p_{j} &= \\sum_{j=0}^{\\infty}(1-e^{-\\beta\\hbar\\omega})e^{-\\beta\\hbar\\omega j} =  (1-e^{-\\beta\\hbar\\omega})\\sum_{j=0}^{\\infty}(e^{-\\beta\\hbar\\omega})^{j} \\\\\n",
    "&= (1-e^{-\\beta\\hbar\\omega})\\frac{1}{1-e^{-\\beta\\hbar\\omega}}=1,\n",
    "\\end{align}\n",
    "em que usamos $\\sum_{j=0}^{\\infty}x^{j}=1/(1-x).$"
   ]
  },
  {
   "cell_type": "markdown",
   "metadata": {},
   "source": [
    "---\n",
    "$5.$ Considere as energias $E_{j} = \\hbar\\omega(j+1/2)$ de um oscilador harmônico quântico em equilíbrio térmico, onde $j=0,1,\\cdots,\\infty$. As respectivas probabilidades são $p_{j} = (1-e^{-\\beta\\hbar\\omega})e^{-\\beta\\hbar\\omega j}$. Mostre que $\\sigma_{E} = \\hbar\\omega\\sigma_{N}$ e verifique que $\\sigma_{N} = \\sqrt{\\langle N\\rangle(\\langle N\\rangle +1)},$ em que o operador número $N$ pode assumir os valores $j.$"
   ]
  },
  {
   "cell_type": "markdown",
   "metadata": {},
   "source": [
    "_SOL._ Usando o exercício 3, $Y=aX+b\\ \\therefore \\ \\sigma_{Y}=a\\sigma_{X}$, temos que $\\sigma_{E} = \\hbar\\omega\\sigma_{N}.$ Para o valor médio do operador número, usando $p_{j}=(1-e^{-\\beta\\hbar\\omega})e^{-\\beta\\hbar\\omega j}$ teremos\n",
    "\\begin{align}\n",
    "\\langle N\\rangle &= \\sum_{j=0}^{\\infty}jp_{j} = \\sum_{j=0}^{\\infty}j(1-e^{-\\beta\\hbar\\omega})e^{-\\beta\\hbar\\omega j} = (1-e^{-\\beta\\hbar\\omega})\\sum_{j=0}^{\\infty}j(e^{-\\beta\\hbar\\omega})^{j} \\\\\n",
    "&= (1-e^{-\\beta\\hbar\\omega})\\frac{e^{-\\beta\\hbar\\omega}}{(1-e^{-\\beta\\hbar\\omega})^{2}} = \\frac{e^{-\\beta\\hbar\\omega}}{1-e^{-\\beta\\hbar\\omega}}\\frac{e^{\\beta\\hbar\\omega}}{e^{\\beta\\hbar\\omega}} \\\\\n",
    "&= \\frac{1}{e^{\\beta\\hbar\\omega}-1},\n",
    "\\end{align}\n",
    "onde usamos $\\sum_{j=0}^{\\infty}jx^{j}=x/(1-x)^{2}.$ Com isso, usando $\\sigma_{E}= \\hbar\\omega\\frac{e^{\\beta\\hbar\\omega/2}}{e^{\\beta\\hbar\\omega}-1}$ da notas de aula, teremos que\n",
    "\\begin{align}\n",
    "\\langle N\\rangle(\\langle N\\rangle+1) &= \\frac{1}{e^{\\beta\\hbar\\omega}-1}\\left(\\frac{1}{e^{\\beta\\hbar\\omega}-1}+1\\right) = \\frac{1}{e^{\\beta\\hbar\\omega}-1}\\left(\\frac{1+e^{\\beta\\hbar\\omega}-1}{e^{\\beta\\hbar\\omega}-1}\\right) \\\\\n",
    "&= \\frac{e^{\\beta\\hbar\\omega}}{\\left(e^{\\beta\\hbar\\omega}-1\\right)^{2}} = \\frac{\\sigma_{E}^{2}}{(\\hbar\\omega)^{2}} = \\sigma_{N}^{2}.\n",
    "\\end{align}"
   ]
  },
  {
   "cell_type": "markdown",
   "metadata": {},
   "source": [
    "---\n",
    "$6.$ Verifique a normalização da densidade de probabilidade Gaussiana $\\rho_{G}(x) = e^{-(x-\\mu)^{2}/2\\sigma^{2}}/\\sqrt{2\\pi \\sigma^{2}}$, i.e., verifique que $\\int_{-\\infty}^{+\\infty}\\rho_{G}(x)dx = 1$."
   ]
  },
  {
   "cell_type": "markdown",
   "metadata": {},
   "source": [
    "_SOL._ Fazemos a mudança de variável $y=(x-\\mu)/\\sqrt{2}\\sigma\\ \\therefore\\ dy=dx/\\sqrt{2}\\sigma$ para escrever\n",
    "\\begin{align}\n",
    "\\int_{-\\infty}^{+\\infty}\\rho_{G}(x)dx &= \\frac{1}{\\sqrt{2\\pi\\sigma^{2}}}\\int_{-\\infty}^{+\\infty}e^{-(x-\\mu)^{2}/2\\sigma^{2}}dx = \\frac{1}{\\sqrt{2\\pi\\sigma^{2}}}\\int_{-\\infty}^{+\\infty}e^{-y^{2}}\\sqrt{2}\\sigma dy \\\\\n",
    "&= \\frac{1}{\\sqrt{\\pi}}\\sqrt{\\frac{\\pi}{1}} = 1,\n",
    "\\end{align}\n",
    "em que usamos a integral Gaussiana $\\int_{-\\infty}^{+\\infty}e^{-ax^{2}}dx=\\sqrt{\\pi/a}.$"
   ]
  },
  {
   "cell_type": "markdown",
   "metadata": {},
   "source": [
    "---\n",
    "$7.$ Verifique que para uma função par no intervalo simétrico $x\\in[-a,a]$ em torno de $x=0$, i.e., $f(x)=f(-x)$, temos que $\\int_{-a}^{a}f(x)dx = 2\\int_{0}^{a}f(x)dx.$"
   ]
  },
  {
   "cell_type": "markdown",
   "metadata": {},
   "source": [
    "_SOL._ Fazendo a mudança de variável $u=-x$ para a integral no intervalo $[-a,0]$ teremos\n",
    "\\begin{align}\n",
    "\\int_{-a}^{a}f(x)dx &= \\int_{-a}^{0}f(x)dx + \\int_{0}^{a}f(x)dx = \\int_{a}^{0}f(-u)(-du) + \\int_{0}^{a}f(x)dx \\\\\n",
    "& = \\int_{0}^{a}f(u)du + \\int_{0}^{a}f(x)dx = \\int_{0}^{a}f(x)dx + \\int_{0}^{a}f(x)dx \\\\\n",
    "&= 2\\int_{0}^{a}f(x)dx.\n",
    "\\end{align}"
   ]
  },
  {
   "cell_type": "markdown",
   "metadata": {},
   "source": [
    "---\n",
    "$8.$ Verifique que $Cov(X,Y)= \\langle XY\\rangle-\\langle X\\rangle\\langle Y\\rangle.$"
   ]
  },
  {
   "cell_type": "markdown",
   "metadata": {},
   "source": [
    "_SOL._ Começando com a definição, teremos\n",
    "\\begin{align}\n",
    "Cov(X,Y) &= \\langle(X-\\langle X\\rangle)(Y-\\langle Y\\rangle)\\rangle = \\sum_{j,k}(X_{j}-\\langle X\\rangle)(Y_{k}-\\langle Y\\rangle)p_{j,k} \\\\\n",
    "&= \\sum_{j,k}X_{j}Y_{k}p_{j,k} - \\langle Y\\rangle\\sum_{j}X_{j}\\sum_{k}p_{j,k} - \\langle X\\rangle\\sum_{k}Y_{k}\\sum_{j}p_{j,k} + \\langle X\\rangle\\langle Y\\rangle\\sum_{j,k}p_{j,k} \\\\\n",
    "&= \\langle XY\\rangle - \\langle Y\\rangle\\sum_{j}X_{j}p_{j} - \\langle X\\rangle\\sum_{k}Y_{k}p_{k} + \\langle X\\rangle\\langle Y\\rangle \\\\\n",
    "&= \\langle XY\\rangle - \\langle Y\\rangle\\langle X\\rangle - \\langle X\\rangle\\langle Y\\rangle + \\langle X\\rangle\\langle Y\\rangle \\\\\n",
    "&= \\langle XY\\rangle - \\langle Y\\rangle\\langle X\\rangle.\n",
    "\\end{align}"
   ]
  },
  {
   "cell_type": "markdown",
   "metadata": {},
   "source": [
    "---\n",
    "$9.$ Verifique que se a distribuição de probabilidades conjunta é o produto das distribuições de probabilidade marginais, i.e., se $p_{j,k}=p_{j}p_{k}$, então $Cov(X,Y)=0$ e não existe correlação entre essas variáveis aleatórias."
   ]
  },
  {
   "cell_type": "markdown",
   "metadata": {},
   "source": [
    "_SOL._ Se $p_{j,k}=p_{j}p_{k}$ teremos que $$\\langle XY\\rangle=\\sum_{j,k}X_{j}Y_{k}p_{j,k}=\\sum_{j,k}X_{j}Y_{k}p_{j}p_{k} = \\sum_{j}X_{j}p_{j}\\sum_{k}Y_{k}p_{k} =\\langle X\\rangle\\langle Y\\rangle.$$ Portanto, neste caso, $Cov(X,Y)=\\langle XY\\rangle-\\langle X\\rangle\\langle Y\\rangle=\\langle X\\rangle\\langle Y\\rangle-\\langle X\\rangle\\langle Y\\rangle=0.$"
   ]
  },
  {
   "cell_type": "markdown",
   "metadata": {},
   "source": [
    "---\n",
    "$10.$ Verifique que $Var(X+Y) = Var(X) + Var(Y) + Cov(X,Y) + Cov(Y,X)$."
   ]
  },
  {
   "cell_type": "markdown",
   "metadata": {},
   "source": [
    "_SOL._ Temos que\n",
    "\\begin{align}\n",
    "Var(X+Y) & = \\langle(X+Y)^2\\rangle - \\langle(X+Y)\\rangle^2 \\\\\n",
    "& = \\langle(XX+XY+YX+YY)\\rangle - (\\langle X\\rangle+\\langle Y\\rangle)^2 \\\\\n",
    "& = \\langle X^2\\rangle + \\langle XY\\rangle + \\langle YX\\rangle + \\langle Y^2\\rangle - \\langle X\\rangle^2 - \\langle Y\\rangle^2 - 2\\langle X\\rangle\\langle Y\\rangle \\\\\n",
    "& = \\langle X^2\\rangle - \\langle X\\rangle^2 + \\langle Y^2\\rangle - \\langle Y\\rangle^2 + \\langle XY\\rangle - \\langle X\\rangle\\langle Y\\rangle + \\langle YX\\rangle - \\langle Y\\rangle\\langle X\\rangle \\\\\n",
    "& = Var(X) +Var(Y) +Cov(X,Y) +Cov(Y,X),\n",
    "\\end{align}\n",
    "em que usamos que o valor médio da soma é a soma dos valores médios e que a variância é dada por \n",
    "$$Var(X) = \\langle (X-\\langle X\\rangle)^2\\rangle = \\langle X^2\\rangle-\\langle X\\rangle^2$$\n",
    "e a covariância é definida como \n",
    "$$Cov(X,Y) = \\langle(X-\\langle X\\rangle)(Y-\\langle Y\\rangle)\\rangle = \\langle XY\\rangle - \\langle X\\rangle\\langle Y\\rangle,$$\n",
    "em que $X$ e $Y$ são variáveis aleatórias."
   ]
  },
  {
   "cell_type": "markdown",
   "metadata": {},
   "source": [
    "---\n",
    "$11.$ Considere a densidade de probabilidade Gaussiana para duas variáveis aleatórias $X$ e $Y$:\n",
    "\\begin{equation}\n",
    "\\rho(x,y) = \\frac{1}{\\sqrt{2\\pi\\sigma_{X}^{2}}\\sqrt{2\\pi\\sigma_{Y}^{2}}\\sqrt{1-\\kappa^{2}}}\\exp\\left(-\\frac{1}{(1-\\kappa^{2})}\\left(\\frac{(x-\\mu_{X})^{2}}{2\\sigma_{X}^{2}}+\\frac{(y-\\mu_{Y})^{2}}{2\\sigma_{Y}^{2}}-\\frac{\\kappa(x-\\mu_{X})(y-\\mu_{Y})}{\\sigma_{X}\\sigma_{Y}}\\right)\\right),\n",
    "\\end{equation}\n",
    "em que $\\kappa$ é a correlação entre $X$ e $Y$. Obtenha a densidade de probabilidade marginal $\\rho(x)$."
   ]
  },
  {
   "cell_type": "markdown",
   "metadata": {},
   "source": [
    "_SOL._ Para simplificar as expressões, vamos definir $c:=\\frac{1}{\\sqrt{2\\pi\\sigma_{X}^{2}}\\sqrt{2\\pi\\sigma_{Y}^{2}}\\sqrt{1-\\kappa^{2}}}$ e fazer as mudanças de variáveis $u:=(x-\\mu_{X})/\\sigma_{X}$ e $v:=(y-\\mu_{Y})/\\sigma_{Y}\\ \\therefore\\ dv=dy/\\sigma_{Y}.$ Assim vem que\n",
    "\\begin{align}\n",
    "\\rho(x) &= \\int_{-\\infty}^{\\infty}\\rho(x,y)dy = c\\int_{-\\infty}^{\\infty}\\exp\\left(-\\frac{1}{2(1-\\kappa^{2})}\\left(u^{2}+v^{2}-2\\kappa uv\\right)\\right)\\sigma_{Y}dv \\\\\n",
    "&= c\\sigma_{Y}\\exp\\left(-\\frac{u^{2}}{2(1-\\kappa^{2})}\\right)\\int_{-\\infty}^{\\infty}\\exp\\left(-\\frac{1}{2(1-\\kappa^{2})}\\left(v^{2}-2\\kappa uv +\\rho^{2}u^{2}-\\kappa^{2}u^{2}\\right)\\right)dv \\\\\n",
    "&= c\\sigma_{Y}\\exp\\left(-\\frac{u^{2}}{2(1-\\kappa^{2})}\\right)\\exp\\left(\\frac{\\kappa^{2}u^{2}}{2(1-\\kappa^{2})}\\right)\\int_{-\\infty}^{\\infty}\\exp\\left(-\\frac{1}{2(1-\\kappa^{2})}(v-\\rho u)^{2}\\right)dv.\n",
    "\\end{align}\n",
    "Fazemos outra mudança de variável, $w:=(v-u\\kappa)/\\sqrt{2(1-\\kappa^{2})}\\ \\therefore\\ dw=dv/\\sqrt{2(1-\\kappa^{2})}$, para escrever\n",
    "\\begin{align}\n",
    "\\rho(x) &= c\\sigma_{Y}\\exp\\left(-\\frac{u^{2}(1-\\kappa^{2})}{2(1-\\kappa^{2})}\\right)\\int_{-\\infty}^{\\infty}\\exp\\left(-w^{2}\\right)\\sqrt{2(1-\\kappa^{2})}dw \\\\ \n",
    "&= \\frac{1}{\\sqrt{2\\pi\\sigma_{X}^{2}}\\sqrt{2\\pi\\sigma_{Y}^{2}}\\sqrt{1-\\kappa^{2}}}\\sigma_{Y}\\exp\\left(-\\frac{u^{2}}{2}\\right)\\int_{-\\infty}^{\\infty}\\exp\\left(-w^{2}\\right)\\sqrt{2(1-\\kappa^{2})}dw \\\\\n",
    "& = \\frac{1}{\\sqrt{2\\pi\\sigma_{X}^{2}}}\\exp\\left(-\\frac{(x-\\mu_{X})^{2}}{2\\sigma_{X}^{2}}\\right),\n",
    "\\end{align}\n",
    "em que usamos $\\int_{-\\infty}^{\\infty}\\exp\\left(-w^{2}\\right)dw=\\sqrt{\\pi}.$"
   ]
  }
 ],
 "metadata": {
  "kernelspec": {
   "display_name": "Python 3 (ipykernel)",
   "language": "python",
   "name": "python3"
  },
  "language_info": {
   "codemirror_mode": {
    "name": "ipython",
    "version": 3
   },
   "file_extension": ".py",
   "mimetype": "text/x-python",
   "name": "python",
   "nbconvert_exporter": "python",
   "pygments_lexer": "ipython3",
   "version": "3.11.1"
  }
 },
 "nbformat": 4,
 "nbformat_minor": 4
}
