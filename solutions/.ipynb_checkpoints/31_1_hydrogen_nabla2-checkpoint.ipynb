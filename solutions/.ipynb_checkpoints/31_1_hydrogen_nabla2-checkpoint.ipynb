{
 "cells": [
  {
   "cell_type": "markdown",
   "metadata": {},
   "source": [
    "### Notas de aula de Mecânica Quântica <br> Autor: Jonas Maziero\n",
    "# Exercícios"
   ]
  },
  {
   "cell_type": "markdown",
   "metadata": {},
   "source": [
    "---\n",
    "$1.$ Verifique a igualdade \n",
    "$$\\frac{\\partial \\vec{r}}{\\partial q_{j}}\\cdot\\frac{\\partial \\vec{r}}{\\partial q_{l}} = \\sum_{k=1}^{3}\\frac{\\partial x_{k}}{\\partial q_{j}}\\frac{\\partial x_{k}}{\\partial q_{l}}.$$"
   ]
  },
  {
   "cell_type": "markdown",
   "metadata": {},
   "source": [
    "_SOL._ Usando $\\vec{r}=\\sum_j \\hat{x}_j x_j$, para $\\{x_j\\}$ sendo coordenadas de um referencial cartesiano ortogonal, teremos que\n",
    "\\begin{align}\n",
    "\\frac{\\partial \\vec{r}}{\\partial q_{j}}\\cdot\\frac{\\partial \\vec{r}}{\\partial q_{l}} & = \\frac{\\partial \\sum_m \\hat{x}_m x_m}{\\partial q_{j}}\\cdot\\frac{\\partial \\sum_p \\hat{x}_p x_p}{\\partial q_{l}} \\\\\n",
    "& = \\sum_{m,p} \\hat{x}_m\\cdot\\hat{x}_p \\frac{\\partial x_{m}}{\\partial q_{j}}\\frac{\\partial x_{p}}{\\partial q_{l}} \\\\\n",
    "& = \\sum_{m,p} \\delta_{m,p} \\frac{\\partial x_{m}}{\\partial q_{j}}\\frac{\\partial x_{p}}{\\partial q_{l}} \\\\\n",
    "& = \\sum_{m} \\frac{\\partial x_{m}}{\\partial q_{j}}\\frac{\\partial x_{m}}{\\partial q_{l}}.\n",
    "\\end{align}"
   ]
  },
  {
   "cell_type": "markdown",
   "metadata": {},
   "source": [
    "---\n",
    "$2.$ Quais são as figuras geométricas que correspondem às superfícies $r=\\text{constante}$, $\\theta=\\text{constante}$ e $\\phi=\\text{constante}$ que definem o sistema de coordenadas esféricas?"
   ]
  },
  {
   "cell_type": "markdown",
   "metadata": {},
   "source": [
    "_SOL._ \n",
    "* Se mantemos $r$ constante e mudamos $\\theta$ e $\\phi$, obtemos uma _esfera_. \n",
    "* Se mativermos $\\theta$ constante e mudarmos $r$ e $\\phi$, obteremos um _cone_. \n",
    "* Se fixarmos $\\phi$ e modificarmos $r$ e $\\theta$, obteremos um _disco plano_."
   ]
  },
  {
   "cell_type": "markdown",
   "metadata": {},
   "source": [
    "---\n",
    "$3.$ Obtenha o operador gradiente em coordenadas cilíndricas ($x=\\rho\\cos\\phi$, $y=\\rho\\sin\\phi$, $z$)."
   ]
  },
  {
   "cell_type": "markdown",
   "metadata": {},
   "source": [
    "_SOL._ Temos que $h_{j} = \\sqrt{g_{jj}} = \\sqrt{\\sum_{k=1}^{3}\\left(\\frac{\\partial x_{k}}{\\partial q_{j}}\\right)^{2}}$. Então ($q_{1}=\\rho$, $q_{2}=\\phi$, $q_{3}=z$)\n",
    "\\begin{align}\n",
    "h_{1} &= \\sqrt{\\left(\\frac{\\partial x}{\\partial \\rho}\\right)^{2} + \\left(\\frac{\\partial y}{\\partial \\rho}\\right)^{2} + \\left(\\frac{\\partial z}{\\partial \\rho}\\right)^{2}} = \\sqrt{\\cos^{2}\\phi+\\sin^{2}\\phi+0} =1, \\\\\n",
    "h_{2} &= \\sqrt{\\left(\\frac{\\partial x}{\\partial \\phi}\\right)^{2} + \\left(\\frac{\\partial y}{\\partial \\phi}\\right)^{2} + \\left(\\frac{\\partial z}{\\partial \\phi}\\right)^{2}} = \\sqrt{\\rho^{2}\\sin^{2}\\phi+\\rho^{2}\\cos^{2}\\phi+0} =\\rho, \\\\\n",
    "h_{3} &= \\sqrt{\\left(\\frac{\\partial x}{\\partial z}\\right)^{2} + \\left(\\frac{\\partial y}{\\partial z}\\right)^{2} + \\left(\\frac{\\partial z}{\\partial z}\\right)^{2}} = \\sqrt{0+0+1} =1.\n",
    "\\end{align}\n",
    "Assim\n",
    "\\begin{align}\n",
    "\\vec{\\nabla}\\psi(\\{q_{j}\\}) &= \\sum_{j=1}^{3}\\hat{q}_{j}\\frac{1}{h_{j}}\\frac{\\partial\\psi}{\\partial q_{j}} = \\hat{q}_{1}\\frac{1}{h_{1}}\\frac{\\partial\\psi}{\\partial q_{1}} + \\hat{q}_{2}\\frac{1}{h_{2}}\\frac{\\partial\\psi}{\\partial q_{2}} + \\hat{q}_{3}\\frac{1}{h_{3}}\\frac{\\partial\\psi}{\\partial q_{3}} \\\\\n",
    "&= \\hat{\\rho}\\frac{1}{1}\\frac{\\partial\\psi}{\\partial \\rho} + \\hat{\\phi}\\frac{1}{\\rho}\\frac{\\partial\\psi}{\\partial \\phi} + \\hat{z}\\frac{1}{1}\\frac{\\partial\\psi}{\\partial z}.\n",
    "\\end{align}"
   ]
  },
  {
   "cell_type": "markdown",
   "metadata": {},
   "source": [
    "---\n",
    "$4.$ Obtenha o divergente de um campo vetorial $\\vec{v}$ em coordenadas cilíndricas."
   ]
  },
  {
   "cell_type": "markdown",
   "metadata": {},
   "source": [
    "_SOL._ Das notas de aula, temos que $\\vec{\\nabla}\\cdot\\vec{v} = \\frac{1}{h_{1}h_{2}h_{3}}\\left(\\frac{\\partial(v_{1}h_{2}h_{3})}{\\partial q_{1}} + \\frac{\\partial(v_{2}h_{1}h_{3})}{\\partial q_{2}} + \\frac{\\partial(v_{3}h_{1}h_{2})}{\\partial q_{3}}\\right).$ Assim, em coordenadas cilíndricas, usando os resultados do exercício anterior ($h_{1}=1$, $h_{2}=\\rho$ e $h_{3}=1$), obteremos\n",
    "\\begin{align}\n",
    "\\vec{\\nabla}\\cdot\\vec{v} &= \\frac{1}{(1)(\\rho)(1)}\\left(\\frac{\\partial(v_{1}(\\rho)(1))}{\\partial \\rho} + \\frac{\\partial(v_{2}(1)(1))}{\\partial \\phi} + \\frac{\\partial(v_{3}(1)(\\rho))}{\\partial z}\\right) \\\\\n",
    "&= \\frac{1}{\\rho}\\frac{\\partial(\\rho v_{1})}{\\partial \\rho} + \\frac{1}{\\rho}\\frac{\\partial v_{2}}{\\partial \\phi} + \\frac{\\partial v_{3}}{\\partial z}.\n",
    "\\end{align}"
   ]
  },
  {
   "cell_type": "markdown",
   "metadata": {},
   "source": [
    "---\n",
    "$5.$ Obtenha o operador Laplaciano em coordenadas cilíndricas."
   ]
  },
  {
   "cell_type": "markdown",
   "metadata": {},
   "source": [
    "_SOL._ Das notas de aula, temos que $\\nabla^{2}\\psi = \\frac{1}{h_{1}h_{2}h_{3}}\\left(\\frac{\\partial}{\\partial q_{1}}\\left(\\frac{h_{2}h_{3}}{h_{1}}\\frac{\\partial\\psi}{\\partial q_{1}}\\right) + \\frac{\\partial}{\\partial q_{2}}\\left(\\frac{h_{1}h_{3}}{h_{2}}\\frac{\\partial\\psi}{\\partial q_{2}}\\right) + \\frac{\\partial}{\\partial q_{3}}\\left(\\frac{h_{1}h_{2}}{h_{3}}\\frac{\\partial\\psi}{\\partial q_{3}}\\right) \\right).$ Assim, usando $h_{1}=1$, $h_{2}=\\rho$ e $h_{3}=1$, teremos\n",
    "\\begin{align}\n",
    "\\nabla^{2}\\psi & = \\frac{1}{(1)(\\rho)(1)}\\left(\\frac{\\partial}{\\partial \\rho}\\left(\\frac{(\\rho)(1)}{(1)}\\frac{\\partial\\psi}{\\partial \\rho}\\right) + \\frac{\\partial}{\\partial \\phi}\\left(\\frac{(1)(1)}{(\\rho)}\\frac{\\partial\\psi}{\\partial \\phi}\\right) + \\frac{\\partial}{\\partial z}\\left(\\frac{(1)(\\rho)}{(1)}\\frac{\\partial\\psi}{\\partial z}\\right) \\right) \\\\\n",
    "&= \\frac{1}{\\rho}\\frac{\\partial}{\\partial \\rho}\\left(\\rho\\frac{\\partial\\psi}{\\partial \\rho}\\right) + \\frac{1}{\\rho^{2}}\\frac{\\partial^{2}\\psi}{\\partial \\phi^{2}} + \\frac{\\partial^{2}\\psi}{\\partial z^{2}}.\n",
    "\\end{align}"
   ]
  },
  {
   "cell_type": "markdown",
   "metadata": {},
   "source": [
    "---\n",
    "$6.$ Considere uma energia potencial do tipo $U=U(\\rho)$ e obtenha a EqSIT em coordenadas cilíndricas, para uma quanton de massa de repouso $m$. Aplique separação de variáveis, $\\psi(\\rho,\\phi,z)=\\Omega(\\rho,z)\\Phi(\\phi)$, e obtenha as equações diferencias a serem resolvidas para obtenção de $\\Omega$ e $\\Phi$. Aplique separação de variáveis novamente, $\\Omega(\\rho,z)=\\Xi(\\rho)\\Gamma(z)$, e obtenha as equações diferenciais a serem resolvidas para obtermos $\\Xi$ e $\\Gamma$."
   ]
  },
  {
   "cell_type": "markdown",
   "metadata": {},
   "source": [
    "_SOL._ A EqSIT é $-\\frac{\\hbar^{2}}{2m}\\nabla^{2}\\psi+U(\\vec{r})\\psi=E\\psi$. Usando o operador Laplaciano obtido no último exercício, obteremos\n",
    "$$\n",
    "-\\frac{\\hbar^{2}}{2m}\\left(\\frac{1}{\\rho}\\frac{\\partial}{\\partial \\rho}\\left(\\rho\\frac{\\partial}{\\partial \\rho}\\right) + \\frac{1}{\\rho^{2}}\\frac{\\partial^{2}}{\\partial \\phi^{2}} + \\frac{\\partial^{2}}{\\partial z^{2}}\\right)\\psi(\\rho,\\phi,z)+U(\\rho)\\psi(\\rho,\\phi,z)=E\\psi(\\rho,\\phi,z).\n",
    "$$\n",
    "Usando $\\psi(\\rho,\\phi,z)=\\Omega(\\rho,z)\\Phi(\\phi)$ teremos\n",
    "\\begin{align}\n",
    "& -\\frac{\\hbar^{2}}{2m}\\left(\\frac{\\Phi(\\phi)}{\\rho}\\frac{\\partial}{\\partial \\rho}\\left(\\rho\\frac{\\partial \\Omega(\\rho,z)}{\\partial \\rho}\\right) + \\frac{\\Omega(\\rho,z)}{\\rho^{2}}\\frac{\\partial^{2}\\Phi(\\phi)}{\\partial \\phi^{2}} + \\Phi(\\phi)\\frac{\\partial^{2}\\Omega(\\rho,z)}{\\partial z^{2}}\\right)+U(\\rho)\\Omega(\\rho,z)\\Phi(\\phi) = E\\Omega(\\rho,z)\\Phi(\\phi) \\\\\n",
    "& \\therefore\\ \\frac{\\rho^{2}}{\\Omega(\\rho,z)\\rho}\\frac{\\partial}{\\partial \\rho}\\left(\\rho\\frac{\\partial \\Omega(\\rho,z)}{\\partial \\rho}\\right) + \\frac{1}{\\Phi(\\phi)}\\frac{\\partial^{2}\\Phi(\\phi)}{\\partial \\phi^{2}} + \\frac{\\rho^{2}}{\\Omega(\\rho,z)}\\frac{\\partial^{2}\\Omega(\\rho,z)}{\\partial z^{2}} + 2m\\rho^{2}(E-U(\\rho))/\\hbar^{2} = 0 \\\\\n",
    "& \\therefore\\ \\frac{\\rho^{2}}{\\Omega(\\rho,z)\\rho}\\frac{\\partial}{\\partial \\rho}\\left(\\rho\\frac{\\partial \\Omega(\\rho,z)}{\\partial \\rho}\\right) + \\frac{\\rho^{2}}{\\Omega(\\rho,z)}\\frac{\\partial^{2}\\Omega(\\rho,z)}{\\partial z^{2}} + 2m\\rho^{2}(E-U(\\rho))/\\hbar^{2} = -\\frac{1}{\\Phi(\\phi)}\\frac{\\partial^{2}\\Phi(\\phi)}{\\partial \\phi^{2}} = C.\n",
    "\\end{align}\n",
    "Temos assim que\n",
    "\\begin{equation}\n",
    "\\frac{\\partial^{2}\\Phi(\\phi)}{\\partial \\phi^{2}} + C\\Phi(\\phi)=0.\n",
    "\\end{equation}\n",
    "e \n",
    "\\begin{equation}\n",
    "\\rho\\frac{\\partial}{\\partial \\rho}\\left(\\rho\\frac{\\partial \\Omega(\\rho,z)}{\\partial \\rho}\\right) + \\rho^{2}\\frac{\\partial^{2}\\Omega(\\rho,z)}{\\partial z^{2}} + \\big(2m\\rho^{2}(E-U(\\rho))/\\hbar^{2}-C\\big)\\Omega(\\rho,z) = 0.\n",
    "\\end{equation}"
   ]
  },
  {
   "cell_type": "markdown",
   "metadata": {},
   "source": [
    "Usando $\\Omega(\\rho,z)=\\Xi(\\rho)\\Gamma(z)$ podemos reescrever essa última equação como segue:\n",
    "\\begin{align}\n",
    "& \\frac{1}{\\rho}\\frac{\\partial}{\\partial \\rho}\\left(\\rho\\frac{\\partial \\Xi(\\rho)\\Gamma(z)}{\\partial \\rho}\\right) + \\frac{\\partial^{2}\\Xi(\\rho)\\Gamma(z)}{\\partial z^{2}} + \\big(2m(E-U(\\rho))/\\hbar^{2}-C/\\rho^{2}\\big)\\Xi(\\rho)\\Gamma(z) = 0 \\\\\n",
    "& \\therefore\\ \\frac{\\Gamma(z)}{\\rho}\\frac{\\partial}{\\partial \\rho}\\left(\\rho\\frac{\\partial \\Xi(\\rho)}{\\partial \\rho}\\right) + \\Xi(\\rho)\\frac{\\partial^{2}\\Gamma(z)}{\\partial z^{2}} + \\big(2m(E-U(\\rho))/\\hbar^{2}-C/\\rho^{2}\\big)\\Xi(\\rho)\\Gamma(z) = 0 \\\\\n",
    "& \\therefore\\ \\frac{1}{\\Xi(\\rho)\\rho}\\frac{\\partial}{\\partial \\rho}\\left(\\rho\\frac{\\partial \\Xi(\\rho)}{\\partial \\rho}\\right) + \\frac{1}{\\Gamma(z)}\\frac{\\partial^{2}\\Gamma(z)}{\\partial z^{2}} + \\big(2m(E-U(\\rho))/\\hbar^{2}-C/\\rho^{2}\\big) = 0 \\\\\n",
    "& \\therefore\\ \\frac{1}{\\Xi(\\rho)\\rho}\\frac{\\partial}{\\partial \\rho}\\left(\\rho\\frac{\\partial \\Xi(\\rho)}{\\partial \\rho}\\right) + \\big(2m(E-U(\\rho))/\\hbar^{2}-C/\\rho^{2}\\big) = -\\frac{1}{\\Gamma(z)}\\frac{\\partial^{2}\\Gamma(z)}{\\partial z^{2}} = B.\n",
    "\\end{align}\n",
    "Teremos assim que\n",
    "\\begin{equation}\n",
    "\\frac{\\partial^{2}\\Gamma(z)}{\\partial z^{2}}+B\\Gamma(z)=0\n",
    "\\end{equation}\n",
    "e \n",
    "\\begin{equation}\n",
    "\\frac{1}{\\rho}\\frac{\\partial}{\\partial \\rho}\\left(\\rho\\frac{\\partial \\Xi(\\rho)}{\\partial \\rho}\\right) + \\big(2m(E-U(\\rho))/\\hbar^{2}-C/\\rho^{2}-B\\big)\\Xi(\\rho) = 0.\n",
    "\\end{equation}"
   ]
  },
  {
   "cell_type": "markdown",
   "metadata": {},
   "source": [
    "---\n",
    "$7.$ Obtenha o operador rotacional em um sistema de coordenadas curvilíneas qualquer."
   ]
  },
  {
   "cell_type": "markdown",
   "metadata": {},
   "source": [
    "_SOL._ Aqui usaremos o teorema que Stokes:\n",
    "$$\\oint_c \\vec{B}\\cdot d\\vec{c} = \\iint_S (\\vec{\\nabla}\\times\\vec{B})\\cdot d\\vec{A},$$\n",
    "aplicado a uma superfície infinitesimal\n",
    "$$\\sum_j \\vec{B}\\cdot d\\vec{c_j} = (\\vec{\\nabla}\\times\\vec{B})\\cdot d\\vec{A}.$$\n",
    "Veja a figura abaixo.\n",
    "\n",
    "<img src='fig_curl.png' width='400'>\n",
    "\n",
    "Para um sistema de coordenadas curvilíneas qualquer $(q_1,q_2,q_3)$, consideremos uma superfície infinitesimal com a coordenada $q_3$ constante. A circulação do campo vetorial ao redor dessa superfície é\n",
    "\\begin{align}\n",
    "\\sum_j \\vec{B}\\cdot d\\vec{c_j} & = B_2 ds_2\\big|_{q_1+dq_1} - B_2 ds_2\\big|_{q_1} - B_1 ds_1\\big|_{q_2+dq_2} + B_1 ds_1\\big|_{q_2} \\\\\n",
    "& = B_2 h_2 dq_2\\big|_{q_1+dq_1} - B_2 h_2 dq_2\\big|_{q_1} - B_1 h_1 dq_1\\big|_{q_2+dq_2} + B_1 h_1 dq_1\\big|_{q_2} \\\\\n",
    "& = \\Big(\\frac{B_2 h_2\\big|_{q_1+dq_1} - B_2 h_2\\big|_{q_1}}{dq_1} - \\frac{B_1 h_1\\big|_{q_2+dq_2} - B_1 h_1\\big|_{q_2}}{ dq_2}\\Big)dq_1 dq_2 \\\\\n",
    "& = \\Big(\\frac{\\partial(B_2 h_2)}{\\partial q_1} - \\frac{\\partial(B_1 h_1)}{\\partial q_2}\\Big)dq_1 dq_2 \\\\\n",
    "& = (\\vec{\\nabla}\\times\\vec{B})\\cdot dA\\hat{k} \\\\\n",
    "& = (\\vec{\\nabla}\\times\\vec{B})_3 ds_1 ds_2 \\\\\n",
    "& = (\\vec{\\nabla}\\times\\vec{B})_3 h_1 dq_1 h_2 dq_2.\n",
    "\\end{align}"
   ]
  },
  {
   "cell_type": "markdown",
   "metadata": {},
   "source": [
    "Por conseguinte\n",
    "$$(\\vec{\\nabla}\\times\\vec{B})_3 = \\frac{1}{h_1 h_2}\\Big(\\frac{\\partial(B_2 h_2)}{\\partial q_1} - \\frac{\\partial(B_1 h_1)}{\\partial q_2}\\Big).$$\n",
    "\n",
    "Fazendo o mesmo para as outras componentes, obteremos\n",
    "\\begin{align}\n",
    "\\vec{\\nabla}\\times\\vec{B} & = \\hat{q}_1 \\frac{1}{h_2 h_3}\\Big(\\frac{\\partial(B_3 h_3)}{\\partial q_2} - \\frac{\\partial(B_2 h_2)}{\\partial q_3}\\Big) + \\hat{q}_2 \\frac{1}{h_1 h_3}\\Big(\\frac{\\partial(B_1 h_1)}{\\partial q_3} - \\frac{\\partial(B_3 h_3)}{\\partial q_1}\\Big) + \\hat{q}_3 \\frac{1}{h_1 h_2}\\Big(\\frac{\\partial(B_2 h_2)}{\\partial q_1} - \\frac{\\partial(B_1 h_1)}{\\partial q_2}\\Big) \\\\\n",
    "& = \\frac{1}{h_1 h_2 h_3}\\det\\begin{bmatrix} h_1\\hat{q}_1 & h_2\\hat{q}_2 & h_3\\hat{q}_3 \\\\ \\frac{\\partial}{\\partial q_1} & \\frac{\\partial}{\\partial q_2} & \\frac{\\partial}{\\partial q_3} \\\\ h_1 B_1 & h_2 B_2 & h_3 B_3  \\end{bmatrix}.\n",
    "\\end{align}\n",
    "No determinante acima, a multimplicação deve ser feita na ordem das linhas, começando com a 1ª (por causa das derivadas)."
   ]
  },
  {
   "cell_type": "markdown",
   "metadata": {},
   "source": [
    "---\n",
    "$8.$ Obtenha o operador rotacional no sistema de coordenadas esféricas."
   ]
  },
  {
   "cell_type": "markdown",
   "metadata": {},
   "source": [
    "_SOL._ Em coordenadas esféricas, temos que $h_1=1,\\ h_2=r,\\ h_3=r\\sin\\theta$. Por conseguinte\n",
    "\\begin{align}\n",
    "\\vec{\\nabla}\\times\\vec{B} & = \\hat{q}_1 \\frac{1}{h_2 h_3}\\Big(\\frac{\\partial(B_3 h_3)}{\\partial q_2} - \\frac{\\partial(B_2 h_2)}{\\partial q_3}\\Big) + \\hat{q}_2 \\frac{1}{h_1 h_3}\\Big(\\frac{\\partial(B_1 h_1)}{\\partial q_3} - \\frac{\\partial(B_3 h_3)}{\\partial q_1}\\Big) + \\hat{q}_3 \\frac{1}{h_1 h_2}\\Big(\\frac{\\partial(B_2 h_2)}{\\partial q_1} - \\frac{\\partial(B_1 h_1)}{\\partial q_2}\\Big) \\\\\n",
    "& = \\hat{r} \\frac{1}{(r)(r\\sin\\theta)}\\Big(\\frac{\\partial(B_3 (r\\sin\\theta))}{\\partial \\theta} - \\frac{\\partial(B_2 (r))}{\\partial \\phi}\\Big) + \\hat{\\theta} \\frac{1}{(1)(r\\sin\\theta)}\\Big(\\frac{\\partial(B_1 (1))}{\\partial \\phi} - \\frac{\\partial(B_3 (r\\sin\\theta))}{\\partial r}\\Big) + \\hat{\\phi} \\frac{1}{(1)(r)}\\Big(\\frac{\\partial(B_2 (r))}{\\partial r} - \\frac{\\partial(B_1 (1))}{\\partial \\theta}\\Big) \\\\\n",
    "& = \\hat{r} \\frac{1}{r\\sin\\theta}\\Big(\\frac{\\partial(B_\\phi \\sin\\theta)}{\\partial \\theta} - \\frac{\\partial B_\\theta}{\\partial \\phi}\\Big) + \\hat{\\theta} \\frac{1}{r\\sin\\theta}\\Big(\\frac{\\partial B_r}{\\partial \\phi} - \\sin\\theta \\frac{\\partial(B_\\phi r)}{\\partial r}\\Big) + \\hat{\\phi} \\frac{1}{r}\\Big(\\frac{\\partial(B_\\theta r)}{\\partial r} - \\frac{\\partial B_r}{\\partial \\theta}\\Big),\n",
    "\\end{align}\n",
    "em que usamos $\\vec{B} = \\sum_j \\hat{q}_j B_j = \\hat{r}B_r + \\hat{\\theta}B_\\theta + \\hat{\\phi}B_\\phi.$"
   ]
  },
  {
   "cell_type": "code",
   "execution_count": null,
   "metadata": {},
   "outputs": [],
   "source": []
  }
 ],
 "metadata": {
  "kernelspec": {
   "display_name": "Python 3 (ipykernel)",
   "language": "python",
   "name": "python3"
  },
  "language_info": {
   "codemirror_mode": {
    "name": "ipython",
    "version": 3
   },
   "file_extension": ".py",
   "mimetype": "text/x-python",
   "name": "python",
   "nbconvert_exporter": "python",
   "pygments_lexer": "ipython3",
   "version": "3.12.2"
  }
 },
 "nbformat": 4,
 "nbformat_minor": 4
}
