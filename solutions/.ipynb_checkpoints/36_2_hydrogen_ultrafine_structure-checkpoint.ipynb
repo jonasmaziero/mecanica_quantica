{
 "cells": [
  {
   "cell_type": "markdown",
   "id": "ee6cfac5",
   "metadata": {},
   "source": [
    "### Notas de aula de Mecânica Quântica <br> Autor: Jonas Maziero\n",
    "# Exercícios"
   ]
  },
  {
   "cell_type": "markdown",
   "id": "8970d0ae",
   "metadata": {},
   "source": [
    "---\n",
    "$1.$ Considerando duas funções $f=f(\\vec{r})$ e $g=g(\\vec{r})$, verifique a seguinte igualdade\n",
    "$$\\nabla_\\vec{r}^2(fg) = f\\nabla_\\vec{r}^2(g) + g\\nabla_\\vec{r}^2(f) + \\nabla_\\vec{r}(f)\\cdot\\nabla_\\vec{r}(g).$$"
   ]
  },
  {
   "cell_type": "markdown",
   "id": "b34b0c05",
   "metadata": {},
   "source": [
    "_SOL._ Vamos usar $\\vec{r}=(x,y,z)$, $f=f(x,y,z)$, $g=g(x,y,z)$ e \n",
    "$$\\nabla_{\\vec{r}}^2 = \\partial_{xx}+\\partial_{yy}+\\partial_{zz}.$$\n",
    "Temos e.g. que\n",
    "\\begin{align}\n",
    "\\partial_{xx}(fg) & = \\partial_x\\big(g(\\partial_x f) + f(\\partial_x g)\\big) \\\\\n",
    "& = (\\partial_x g)(\\partial_x f) + g(\\partial_{xx} f) + (\\partial_x f)(\\partial_x g) + f(\\partial_{xx} g) \\\\\n",
    "& = g\\partial_{xx}f + f\\partial_{xx}g + 2(\\partial_x g)(\\partial_x f).\n",
    "\\end{align}\n",
    "Com isso, notamos que\n",
    "\\begin{align}\n",
    "\\nabla_{\\vec{r}}^2(fg) & = \\partial_{xx}(fg) + \\partial_{yy}(fg) + \\partial_{zz}(fg) \\\\\n",
    "& = g\\partial_{xx}f + f\\partial_{xx}g + 2(\\partial_x g)(\\partial_x f) + g\\partial_{yy}f + f\\partial_{yy}g + 2(\\partial_y g)(\\partial_y f) + g\\partial_{zz}f + f\\partial_{zz}g + 2(\\partial_z g)(\\partial_z f) \\\\\n",
    "& = g(\\partial_{xx}+\\partial_{yy}+\\partial_{zz})f + f(\\partial_{xx}+\\partial_{yy}+\\partial_{zz})g + 2\\big((\\hat{i}\\partial_x g + \\hat{j}\\partial_y g + \\hat{k}\\partial_z g)\\cdot(\\hat{i}\\partial_x f + \\hat{j}\\partial_y f + \\hat{k}\\partial_z f)\\big) \\\\\n",
    "& = g\\nabla_\\vec{r}^2(f) + f\\nabla_\\vec{r}^2(g) + \\nabla_\\vec{r}(f)\\cdot\\nabla_\\vec{r}(g).\n",
    "\\end{align}"
   ]
  },
  {
   "cell_type": "markdown",
   "id": "b1ef9aba-e319-461a-a3bc-a47691c4337d",
   "metadata": {},
   "source": []
  }
 ],
 "metadata": {
  "kernelspec": {
   "display_name": "Python 3 (ipykernel)",
   "language": "python",
   "name": "python3"
  },
  "language_info": {
   "codemirror_mode": {
    "name": "ipython",
    "version": 3
   },
   "file_extension": ".py",
   "mimetype": "text/x-python",
   "name": "python",
   "nbconvert_exporter": "python",
   "pygments_lexer": "ipython3",
   "version": "3.11.1"
  }
 },
 "nbformat": 4,
 "nbformat_minor": 5
}
