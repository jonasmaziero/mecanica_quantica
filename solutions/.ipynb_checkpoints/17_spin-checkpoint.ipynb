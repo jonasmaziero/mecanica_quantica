{
 "cells": [
  {
   "cell_type": "markdown",
   "metadata": {},
   "source": [
    "# Exercícios"
   ]
  },
  {
   "cell_type": "markdown",
   "metadata": {},
   "source": [
    "---\n",
    "$1.$ Considere um momento magnético $\\vec{\\mu}$ sujeito a um campo magnético constante $\\vec{B}=b\\hat{i}$, com $b\\in\\mathbb{R}$ constante. Calcule $\\vec{\\mu}(t)$."
   ]
  },
  {
   "cell_type": "markdown",
   "metadata": {},
   "source": [
    "_SOL._ Começamos usando $\\partial_{t}\\vec{L} = \\gamma\\vec{L}\\mathrm{x}\\vec{B} = \\gamma b(L_{x}\\hat{i}+L_{y}\\hat{j}+L_{z}\\hat{k})\\mathrm{x}\\hat{i} = \\gamma b(0\\hat{i}+L_{y}(-\\hat{k})+L_{z}\\hat{j}),$ i.e.,\n",
    "Ou seja ($\\omega:=\\gamma b$), $\\partial_{t}L_{x}=0 \\therefore L_{x}(t)=L_{x}(0)=\\text{constante},$ $\\partial_{t}L_{y}=\\omega L_{z}$ e $\\partial_{t}L_{z}=-\\omega L_{y}$. Definindo $L_{\\pm}:=L_{y}\\pm i L_{z}$ vemos que $\\partial_{t}L_{\\pm} = \\partial_{t}L_{y}\\pm i \\partial_{t}L_{z} = \\omega L_{z} \\pm i (-\\omega L_{y}) = \\mp i\\omega(L_{y}\\pm i L_{z}) = \\mp i\\omega L_{\\pm}$. Assim $L_{\\pm}(t)=L_{\\pm}(0)e^{\\mp i\\omega t}$, e com isso\n",
    "\\begin{align}\n",
    "L_{y}(t) & = \\frac{1}{2}\\left(L_{+}(t)+L_{-}(t)\\right) = \\frac{1}{2}\\left(L_{+}(0)e^{- i\\omega t}+L_{-}(0)e^{+ i\\omega t}\\right) \\\\\n",
    "& = \\cos\\omega t\\frac{1}{2}\\left(L_{+}(0)+L_{-}(0)\\right) + \\sin\\omega t\\frac{1}{2i}\\left(L_{+}(0)-L_{-}(0)\\right) \\\\\n",
    "& = \\cos\\omega L_{y}(0) + \\sin\\omega t L_{z}(0), \\\\\n",
    "L_{z}(t) &= \\frac{1}{2i}\\left(L_{+}(t)-L_{-}(t)\\right) = \\frac{1}{2i}\\left(L_{+}(0)e^{- i\\omega t}-L_{-}(0)e^{+ i\\omega t}\\right) \\\\\n",
    "& = \\cos\\omega t\\frac{1}{2i}\\left(L_{+}(0)-L_{-}(0)\\right) - \\sin\\omega t\\frac{1}{2}\\left(L_{+}(0)+L_{-}(0)\\right) \\\\\n",
    "& = \\cos\\omega t L_{z}(0) - \\sin\\omega t L_{y}(0).\n",
    "\\end{align}\n",
    "Ou seja, $\\vec{L}(t)=R_{x}(\\omega t)\\vec{L}(0)$ com $R_{x}(\\omega t)=\\begin{bmatrix} 1&0&0 \\\\ 0&\\cos\\omega t & \\sin\\omega t \\\\ 0&-\\sin\\omega t & \\cos\\omega t \\end{bmatrix}$."
   ]
  },
  {
   "cell_type": "markdown",
   "metadata": {},
   "source": [
    "---\n",
    "$2.$ Verifique que um campo magnético do tipo $\\vec{B}_{nf}=bz^{a}\\hat{e}_{3}$ não satisfaz a lei de Maxwell $\\vec{\\nabla}\\cdot\\vec{B}=0$. Verifique que $\\vec{B}_{f}=-ax\\hat{e}_{1}+(b+az)\\hat{e}_{3}$ satisfaz essa lei. Nos dois casos, $a,b\\in\\mathbb{R}$ são constantes não nulas."
   ]
  },
  {
   "cell_type": "markdown",
   "metadata": {},
   "source": [
    "_SOL._ Temos \n",
    "\\begin{align}\n",
    "\\vec{\\nabla}\\cdot\\vec{B}_{nf} &= \\left(\\hat{e}_{1}\\partial_{x}+\\hat{e}_{2}\\partial_{y}+\\hat{e}_{3}\\partial_{z}\\right)\\cdot(bz^{a}\\hat{e}_{3}) = 0+0+abz^{a-1}\\ne 0, \\\\\n",
    "\\vec{\\nabla}\\cdot\\vec{B}_{f} &= \\left(\\hat{e}_{1}\\partial_{x}+\\hat{e}_{2}\\partial_{y}+\\hat{e}_{3}\\partial_{z}\\right)\\cdot(-ax\\hat{e}_{1}+(b+az)\\hat{e}_{3}) = -a+0+a=0.\n",
    "\\end{align}\n",
    "Ao resolver essa questão, usamos a independência dos versores $\\hat{e}_{j}$ com as coordenadas $x,y,z$."
   ]
  },
  {
   "cell_type": "markdown",
   "metadata": {},
   "source": [
    "---\n",
    "$3.$ Considerando o mesmo exemplo usado nas notas de aula, obtenha (as expressões para) as posições $z_{d}$ nas quais os quantons chegam no detector, no experimento de Stern-Gerlach, para $l=2$."
   ]
  },
  {
   "cell_type": "markdown",
   "metadata": {},
   "source": [
    "_SOL._ Para $l=2$ temos que $m_l = -2,-1,0,1,2$. Da notas de aula temos que\n",
    "$$z_{d} = A\\mu_{z} = Ag\\mu_{B}m_{l} = \\begin{cases} 2Ag\\mu_{B}, \\\\ Ag\\mu_{B}, \\\\ 0, \\\\ -Ag\\mu_{B}, \\\\ -2Ag\\mu_{B}. \\end{cases}$$"
   ]
  },
  {
   "cell_type": "markdown",
   "metadata": {},
   "source": [
    "---\n",
    "$4.$ Supondo que o elétron se comporte, classicamente, como uma esfera maciça de raio $r=10^{-15}\\text{ m}$, e usando o módulo do seu momento angular intrínseco como $S=\\hbar\\sqrt{s(s+1)}=\\hbar\\sqrt{3}/2$, calcule a velocidade tangencial de um ponto situado no equador do elétron. Compare essa velocidade com a velocidade da luz no vácuo."
   ]
  },
  {
   "cell_type": "markdown",
   "metadata": {},
   "source": [
    "_SOL._ Para uma esfera rígida o momento de inércia é $I=2m_{e}r^{2}/5$ e, usando $S=I\\omega$, teremos\n",
    "\\begin{equation}\n",
    "v=\\omega r = \\frac{S}{I}r = \\frac{\\hbar\\sqrt{3}r/2}{2m_{e}r^{2}/5} = \\frac{5\\sqrt{3}\\hbar}{4m_{e}r} \\approx 2,51\\mathrm{x}10^{11}\\text{ m/s} \\approx 1000c.\n",
    "\\end{equation}"
   ]
  },
  {
   "cell_type": "code",
   "execution_count": 3,
   "metadata": {},
   "outputs": [
    {
     "data": {
      "text/plain": [
       "250644287858.8373"
      ]
     },
     "execution_count": 3,
     "metadata": {},
     "output_type": "execute_result"
    }
   ],
   "source": [
    "from sympy import sqrt, pi\n",
    "me = 9.109382*10**-31 # kg (massa do elétron)\n",
    "h = 6.626069*10**-34 # Js (constante de Planck)\n",
    "hb = h/(2*pi) # hbar\n",
    "float((5*sqrt(3)*hb)/(4*me*10**-15))"
   ]
  }
 ],
 "metadata": {
  "kernelspec": {
   "display_name": "Python 3 (ipykernel)",
   "language": "python",
   "name": "python3"
  },
  "language_info": {
   "codemirror_mode": {
    "name": "ipython",
    "version": 3
   },
   "file_extension": ".py",
   "mimetype": "text/x-python",
   "name": "python",
   "nbconvert_exporter": "python",
   "pygments_lexer": "ipython3",
   "version": "3.11.1"
  }
 },
 "nbformat": 4,
 "nbformat_minor": 4
}
