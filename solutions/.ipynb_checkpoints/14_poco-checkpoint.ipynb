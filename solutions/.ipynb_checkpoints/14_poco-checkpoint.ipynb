{
 "cells": [
  {
   "cell_type": "markdown",
   "metadata": {},
   "source": [
    "# Exercícios"
   ]
  },
  {
   "cell_type": "markdown",
   "metadata": {},
   "source": [
    "---\n",
    "$1.$ Calcule o valor do coeficiente de transmissão para um elétron de energia $E=4\\text{ eV}$ em um poço quadrado finito com $U_{0}=2\\text{ eV}$ e larguras $a=1\\text{ nm}$ ou $a=1\\text{ }\\mathring{A}$."
   ]
  },
  {
   "cell_type": "markdown",
   "metadata": {},
   "source": [
    "_SOL._ Nesse caso $T=\\left(\\frac{(k_{e}^{2}-k_{i}^{2})^{2}}{4k_{e}^{2}k_{i}^{2}}\\sin^{2}(ak_{i})+1\\right)^{-1}$, com $k_{e} = \\frac{\\sqrt{2m(E-U_{0})}}{\\hbar} \\text{ e } k_{i} = \\frac{\\sqrt{2mE}}{\\hbar}.$ Através do código abaixo, obtemos $T(a=1\\text{nm})\\approx 0,94$ e $T(a=1\\text{ }\\mathring{A})\\approx 0,92.$"
   ]
  },
  {
   "cell_type": "code",
   "execution_count": 1,
   "metadata": {},
   "outputs": [],
   "source": [
    "me = 9.109382*10**-31 # kg (massa do elétron)\n",
    "e = 1.60217662*10**-19 # C (carga elementar)\n",
    "import math\n",
    "h = 6.626069*10**-34 # Js (constante de Planck)\n",
    "hb = h/(2*math.pi) # hbar"
   ]
  },
  {
   "cell_type": "code",
   "execution_count": 2,
   "metadata": {},
   "outputs": [
    {
     "name": "stdout",
     "output_type": "stream",
     "text": [
      "ki =  10246335215.971977 , ke =  7245253113.524314\n",
      "((ke**2-ki**2)**2)/(4*ki**2*ke**2) =  0.12499999999999986\n",
      "a =  1e-09 , math.sin(ki*a)**2 =  0.5361275818550265 , T =  0.9372071227741331\n",
      "a =  1e-10 , math.sin(ki*a)**2 =  0.7302110846488908 , T =  0.9163802978235968\n"
     ]
    }
   ],
   "source": [
    "m = me; E = 4*e; U0 = 2*e ; ki = math.sqrt(2*m*E)/hb; ke = math.sqrt(2*m*(E-U0))/hb; \n",
    "print('ki = ',ki,', ke = ',ke)\n",
    "print('((ke**2-ki**2)**2)/(4*ki**2*ke**2) = ', ((ke**2-ki**2)**2)/(4*ki**2*ke**2))\n",
    "#T = 1/(1+(((ke**2-ki**2)**2)/(4*ki**2*ke**2))*(math.sin(ki*a)**2))\n",
    "a = 10**-9; print('a = ',a,', math.sin(ki*a)**2 = ',math.sin(ki*a)**2, ', T = ', 1/(1+0.125*0.536))\n",
    "a = 10**-10; print('a = ',a,', math.sin(ki*a)**2 = ',math.sin(ki*a)**2, ', T = ', 1/(1+0.125*0.730))"
   ]
  },
  {
   "cell_type": "markdown",
   "metadata": {},
   "source": [
    "---\n",
    "$2.$ Para $c_{ie} = \\frac{ik_{i}-k_{d}}{ik_{i}+k_{d}}c_{id}$, verifique que $|c_{ie}|=|c_{id}|$."
   ]
  },
  {
   "cell_type": "markdown",
   "metadata": {},
   "source": [
    "_SOL._ Temos\n",
    "\\begin{align}\n",
    "|c_{ie}|^{2} &= c_{ie}^{*}c_{ie} = \\frac{-ik_{i}-k_{d}}{-ik_{i}+k_{d}}c_{id}^{*}\\frac{ik_{i}-k_{d}}{ik_{i}+k_{d}}c_{id} = \\frac{k_{i}^{2}+ik_{i}k_{d}-ik_{i}k_{d}+k_{d}^{2}}{k_{i}^{2}-ik_{i}k_{d}+ik_{i}k_{d}+k_{d}^{2}}|c_{id}|^{2} \\\\\n",
    "& = |c_{id}|^{2}.\n",
    "\\end{align}"
   ]
  },
  {
   "cell_type": "markdown",
   "metadata": {},
   "source": [
    "---\n",
    "$3.$ Verifique que a onda estacionária $\\Xi_{i}(x)=A\\sin(k_{i}x)+B\\cos(k_{i}x)$ satisfaz a EqSIT1D dentro do poço, i.e., para $0<x<a$."
   ]
  },
  {
   "cell_type": "markdown",
   "metadata": {},
   "source": [
    "_SOL._ Como\n",
    "\\begin{align}\n",
    "\\partial_{xx}\\Xi_{i}(x) & = k_{i}\\partial_{x}\\left(A\\cos(k_{i}x)-B\\sin(k_{i}x)\\right) \\\\\n",
    "& = -k_{i}^{2}\\partial_{x}\\Xi_{i}(x)\n",
    "\\end{align}\n",
    "e $E=\\hbar^{2}k_{i}^{2}/2m$, vemos que $\\Xi_{i}$ é solução da EqSIT dentro do poço ($U=0$): $-(\\hbar^{2}/2m)\\partial_{xx}\\Xi(x)=E\\Xi(x)$."
   ]
  },
  {
   "cell_type": "markdown",
   "metadata": {},
   "source": [
    "---\n",
    "$4.$ Verifique que a condição $\\sin\\left(\\frac{k_{i}a}{2}\\right)\\ne 0$ é equivalente à condição $E\\ne4\\left(\\frac{\\pi^{2}\\hbar^{2}}{2ma^{2}}\\right)n^{2}$ com $n=1,2,3,\\cdots$."
   ]
  },
  {
   "cell_type": "markdown",
   "metadata": {},
   "source": [
    "_SOL._ Para termos $\\sin\\left(\\frac{k_{i}a}{2}\\right)\\ne 0$ devemos ter $\\frac{k_{i}a}{2}\\ne n\\pi$ para $n=1,2,3,\\cdots$. Não consideramos $n=0$ pois esse valor equivaleria a $E=0$. Como $k_{i}=\\sqrt{2mE}/\\hbar$, devemos ter $\\frac{\\sqrt{2mE}a}{2\\hbar}\\ne n\\pi\\therefore E\\ne \\frac{4\\hbar^{2}n^{2}\\pi^{2}}{2ma^{2}}.$"
   ]
  },
  {
   "cell_type": "markdown",
   "metadata": {},
   "source": [
    "---\n",
    "$5.$ Verifique que a condição $\\cos\\left(\\frac{k_{i}a}{2}\\right)\\ne 0$ é equivalente à condição $E\\ne\\left(\\frac{\\pi^{2}\\hbar^{2}}{2ma^{2}}\\right)n^{2}$ com $n=1,3,5,\\cdots$."
   ]
  },
  {
   "cell_type": "markdown",
   "metadata": {},
   "source": [
    "_SOL._ Para que $\\cos\\left(\\frac{k_{i}a}{2}\\right)\\ne 0$ devemos ter $\\frac{k_{i}a}{2}\\ne n\\pi/2$ para $n=1,3,5,\\cdots.$ Ou seja, devemos ter $\\frac{\\sqrt{2mE}a}{2\\hbar}\\ne n\\pi/2 \\therefore E\\ne\\frac{\\hbar^{2}n^{2}\\pi^{2}}{2ma^{2}}.$"
   ]
  },
  {
   "cell_type": "markdown",
   "metadata": {},
   "source": [
    "---\n",
    "$6.$ Uma vez que as energias do quanton em um poço quadrado finito são $E = \\left(\\frac{2\\hbar^{2}}{ma^{2}}\\right)x^{2}$, verifique que, para que as condições obtidas nos problemas 4 e 5 sejam respeitadas, $x$ não pode assumir os valores $x\\ne n\\pi$, com $n=1,2,3,\\cdots$, e $x\\ne\\frac{n\\pi}{2}$, com $n=1,3,5,\\cdots$, respectivamente."
   ]
  },
  {
   "cell_type": "markdown",
   "metadata": {},
   "source": [
    "_SOL._ Vamos reescrever $E =  \\left(\\frac{2\\hbar^{2}}{ma^{2}}\\right)x^{2} = \\left(\\frac{\\pi^{2}\\hbar^{2}}{2ma^{2}}\\right)\\frac{4x^{2}}{\\pi^{2}} $. De 4 temos que $4n^{2}\\ne 4x^{2}/\\pi^{2}\\therefore x\\ne n\\pi$ para $n=1,2,3,\\cdots.$ De 5 temos que $n^{2}\\ne 4x^{2}/\\pi^{2}\\therefore x\\ne n\\pi/2$ para $n=1,3,5,\\cdots.$ "
   ]
  },
  {
   "cell_type": "markdown",
   "metadata": {},
   "source": [
    "---\n",
    "$7.$ Isole $c_{de}$ em uma das eqs. ($**$) ou ($\\star\\star$) e substitua na outra para obter\n",
    "\\begin{equation}\n",
    "c_{ie} = \\frac{ik_{i}+k_{d}}{ik_{i}-k_{d}}e^{2ik_{i}a}c_{id}.\n",
    "\\end{equation}\n",
    "Verifique que neste caso também temos que $|c_{ie}|=|c_{id}|$. Substitua $c_{ie}$ em ($**$) ou em ($\\star\\star$) para obter\n",
    "\\begin{equation}\n",
    "c_{de} = \\frac{2ik_{i}e^{(ik_{i}+k_{d})a}}{ik_{i}-k_{d}}c_{id}.\n",
    "\\end{equation}"
   ]
  },
  {
   "cell_type": "markdown",
   "metadata": {},
   "source": [
    "_SOL._ Lembrando, $(\\star\\star)=c_{id}e^{ik_{i}a}+c_{ie}e^{-ik_{i}a} = c_{de}e^{-k_{d}a}$ e\n",
    "$(**)=ik_{i}\\left(c_{id}e^{ik_{i}a}-c_{ie}e^{-ik_{i}a}\\right) = -k_{d}c_{de}e^{-k_{d}a}.$ Substituindo $(\\star\\star)$ em $(**)$ teremos\n",
    "\\begin{align}\n",
    "& ik_{i}\\left(c_{id}e^{ik_{i}a}-c_{ie}e^{-ik_{i}a}\\right) = -k_{d}(c_{id}e^{ik_{i}a}+c_{ie}e^{-ik_{i}a}), \\\\\n",
    "& \\therefore c_{id}e^{ik_{i}a}(ik_{i}+k_{d}) = c_{ie}e^{-ik_{i}a}(ik_{i}-k_{d}), \\\\\n",
    "& \\therefore c_{ie} = \\frac{ik_{i}+k_{d}}{ik_{i}-k_{d}}e^{2ik_{i}a}c_{id}.\n",
    "\\end{align}\n",
    "Assim $$|c_{ie}|^{2} = \\left(\\frac{ik_{i}+k_{d}}{ik_{i}-k_{d}}\\right)\\left(\\frac{-ik_{i}+k_{d}}{-ik_{i}-k_{d}}\\right)e^{0}|c_{id}|^{2} = \\frac{k_{i}^{2}+k_{d}^{2}}{k_{i}^{2}+k_{d}^{2}}|c_{id}|^{2} = |c_{id}|^{2}.$$\n",
    "Substituindo $c_{ie}$ em $(\\star\\star)$ teremos\n",
    "\\begin{align}\n",
    "c_{de} &= e^{k_{d}a}\\left(c_{id}e^{ik_{i}a}+\\frac{ik_{i}+k_{d}}{ik_{i}-k_{d}}e^{2ik_{i}a}c_{id}e^{-ik_{i}a}\\right) \\\\\n",
    "& = \\frac{c_{id}e^{ik_{i}a}e^{k_{d}a}}{ik_{i}-k_{d}}(ik_{i}-k_{d}+ik_{i}+k_{d}) \\\\\n",
    "& = \\frac{c_{id}e^{ik_{i}a}e^{k_{d}a}}{ik_{i}-k_{d}}2ik_{i}.\n",
    "\\end{align}"
   ]
  },
  {
   "cell_type": "markdown",
   "metadata": {},
   "source": [
    "---\n",
    "$8.$ Substituindo o $c_{ie}$ da última questão em $\\Xi_{i}(0<x<a)=c_{id}e^{ik_{i}x}+c_{ie}e^{-ik_{i}x}$, obtenha a onda estacionária\n",
    "\\begin{equation}\n",
    "\\Xi_{i}(0<x<a) = \\frac{2ik_{i}c_{id}e^{ik_{i}a}}{ik_{i}-k_{d}}\\left(\\cos(k_{i}(x-a))-\\frac{k_{d}}{k_{i}}\\sin(k_{i}(x-a))\\right).\n",
    "\\end{equation}"
   ]
  },
  {
   "cell_type": "markdown",
   "metadata": {},
   "source": [
    "_SOL._ Aqui teremos\n",
    "\\begin{align}\n",
    "\\Xi_{i}(0<x<a) &= c_{id}e^{ik_{i}x} + \\frac{ik_{i}+k_{d}}{ik_{i}-k_{d}}e^{2ik_{i}a}c_{id}e^{-ik_{i}x} \\\\\n",
    "&= \\frac{c_{id}e^{ik_{i}a}}{ik_{i}-k_{d}}\\left((ik_{i}-k_{d})e^{ik_{i}(x-a)} + (ik_{i}+k_{d})e^{-ik_{i}(x-a)}\\right) \\\\\n",
    "&= \\frac{c_{id}e^{ik_{i}a}}{ik_{i}-k_{d}}\\left(ik_{i}(e^{ik_{i}(x-a)}+e^{-ik_{i}(x-a)}) -k_{d}(e^{ik_{i}(x-a)}-e^{-ik_{i}(x-a)})\\right) \\\\\n",
    "&= \\frac{c_{id}e^{ik_{i}a}}{ik_{i}-k_{d}}\\left(ik_{i}2\\cos(k_{i}(x-a)) -k_{d}2i\\sin(k_{i}(x-a))\\right).\n",
    "\\end{align}"
   ]
  },
  {
   "cell_type": "markdown",
   "metadata": {},
   "source": [
    "---\n",
    "$9.$ Substitua $c_{ie}$ do problema 7 na eq. ($\\star$) para obter\n",
    "\\begin{equation}\n",
    "c_{ed} = \\frac{2ik_{i}c_{id}e^{ik_{i}a}}{ik_{i}-k_{d}}\\left(\\cos(k_{i}a)+\\frac{k_{d}}{k_{i}}\\sin(k_{i}a)\\right).\n",
    "\\end{equation}\n",
    "Impondo $|c_{ed}|^{2}:=|c_{de}|^{2}e^{-2k_{d}a}$, eusando o $c_{de}$ do problema 7, obtenha a eq. trascendental\n",
    "\\begin{equation}\n",
    "k_{d}=k_{i}\\tan\\left(\\frac{k_{i}a}{2}\\right).\n",
    "\\end{equation}"
   ]
  },
  {
   "cell_type": "markdown",
   "metadata": {},
   "source": [
    "_SOL._ Temos \n",
    "\\begin{align}\n",
    "(\\star)= c_{ed} &= c_{id}+c_{ie}  = c_{id} + \\frac{ik_{i}+k_{d}}{ik_{i}-k_{d}}e^{2ik_{i}a}c_{id} = \\frac{c_{id}}{ik_{i}-k_{d}}\\left(ik_{i}-k_{d} + (ik_{i}+k_{d})e^{2ik_{i}a}\\right) \\\\ \n",
    "&= \\frac{c_{id}e^{ik_{i}a}}{ik_{i}-k_{d}}\\left((ik_{i}-k_{d})e^{-ik_{i}a} + (ik_{i}+k_{d})e^{ik_{i}a}\\right) = \\frac{c_{id}e^{ik_{i}a}}{ik_{i}-k_{d}}\\left(2ik_{i}\\cos(k_{i}a) + 2ik_{d}\\sin(k_{i}a)\\right) \\\\\n",
    "&= \\frac{2ik_{i}c_{id}e^{ik_{i}a}}{ik_{i}-k_{d}}\\left(\\cos(k_{i}a)+\\frac{k_{d}}{k_{i}}\\sin(k_{i}a)\\right).\n",
    "\\end{align}\n",
    "Do problema 7, temos que $c_{de} = \\frac{2ik_{i}e^{(ik_{i}+k_{d})a}}{ik_{i}-k_{d}}c_{id} \\therefore |c_{de}|^{2} =  \\frac{4k_{i}^{2}}{k_{i}^{2}+k_{d}^{2}}|c_{id}|^{2}$. Como $|c_{ed}|^{2}=\\frac{4k_{i}^{2}}{k_{i}^{2}+k_{d}^{2}}|c_{id}|^{2}\\left(\\cos(k_{i}a)+\\frac{k_{d}}{k_{i}}\\sin(k_{i}a)\\right)^{2}$. Impondo $|c_{ed}|^{2}:=|c_{de}|^{2}e^{-2k_{d}a}$ devemos ter \n",
    "\\begin{align}\n",
    "& \\cos(k_{i}a) + \\frac{k_{d}}{k_{i}}\\sin(k_{i}a)=1, \\\\\n",
    "& \\therefore \\cos^{2}(k_{i}a/2)-\\sin^{2}(k_{i}a/2) + \\frac{k_{d}}{k_{i}}2\\sin(k_{i}a/2)\\cos(k_{i}a/2) = \\cos^{2}(k_{i}a/2) + \\sin^{2}(k_{i}a/2), \\\\\n",
    "& \\therefore \\frac{k_{d}}{k_{i}}2\\sin(k_{i}a/2)\\cos(k_{i}a/2) = 2\\sin^{2}(k_{i}a/2), \\\\\n",
    "& \\therefore \\frac{k_{d}}{k_{i}} = \\tan(k_{i}a/2).\n",
    "\\end{align}"
   ]
  },
  {
   "cell_type": "markdown",
   "metadata": {},
   "source": [
    "---\n",
    "$10.$ Substitua $c_{ie}$ do problema 7 na eq. ($*$) para obter\n",
    "\\begin{equation}\n",
    "c_{ed} = \\frac{-2ik_{i}c_{id}e^{ik_{i}a}}{ik_{i}-k_{d}}\\left(\\cos(k_{i}a)-\\frac{k_{i}}{k_{d}}\\sin(k_{i}a)\\right).\n",
    "\\end{equation}\n",
    "Impondo $|c_{ed}|^{2}=|c_{de}|^{2}e^{-2k_{d}a}$, usando o $c_{de}$ do problema 7, obtenha a eq. trascendental\n",
    "\\begin{equation}\n",
    "-k_{d}=k_{i}\\cot\\left(\\frac{k_{i}a}{2}\\right).\n",
    "\\end{equation}"
   ]
  },
  {
   "cell_type": "markdown",
   "metadata": {},
   "source": [
    "_SOL._ Temos\n",
    "\\begin{align}\n",
    "(*) = c_{ed} &= (ik_{i}/k_{d})(c_{id}-c_{ie}) = \\frac{ik_{i}}{k_{d}}\\left(c_{id}-\\frac{ik_{i}+k_{d}}{ik_{i}-k_{d}}e^{2ik_{i}a}c_{id}\\right) \\\\\n",
    "& = \\frac{ik_{i}c_{id}e^{ik_{i}a}}{k_{d}(ik_{i}-k_{d})}\\left((ik_{i}-k_{d})e^{-ik_{i}a}-(ik_{i}+k_{d})e^{ik_{i}a}\\right) \\\\\n",
    "& = \\frac{ik_{i}c_{id}e^{ik_{i}a}}{k_{d}(ik_{i}-k_{d})}\\left(-ik_{i}(2i\\sin(k_{i}a))-2k_{d}\\cos(k_{i}a)\\right).\n",
    "\\end{align}\n",
    "Do problema 7, temos que $|c_{de}|^{2} =  \\frac{4k_{i}^{2}}{k_{i}^{2}+k_{d}^{2}}|c_{id}|^{2}$. Do $c_{ed}$ obtido aqui, devemos ter $|c_{ed}|^{2} = \\frac{4k_{i}^{2}|c_{id}|^{2}}{k_{i}^{2}+k_{d}^{2}}\\left(\\cos(k_{i}a)-\\frac{k_{i}}{k_{d}}\\sin(k_{i}a)\\right)^{2}.$ Impondo $|c_{ed}|^{2}=|c_{de}|^{2}e^{-2k_{d}a}$ teremos\n",
    "\\begin{align}\n",
    "& \\cos(k_{i}a)-\\frac{k_{i}}{k_{d}}\\sin(k_{i}a) = 1, \\\\\n",
    "& \\cos^{2}(k_{i}a/2)-\\sin^{2}(k_{i}a/2) -\\frac{k_{i}}{k_{d}}2\\sin(k_{i}a/2)\\cos(k_{i}a/2) = \\cos^{2}(k_{i}a/2)+\\sin^{2}(k_{i}a/2), \\\\\n",
    "& -\\frac{k_{i}}{k_{d}}-\\frac{k_{i}}{k_{d}}2\\sin(k_{i}a/2)\\cos(k_{i}a/2) = 2\\sin^{2}(k_{i}a/2), \\\\\n",
    "& -\\frac{k_{i}}{k_{d}} = \\tan(k_{i}a/2).\n",
    "\\end{align}"
   ]
  },
  {
   "cell_type": "markdown",
   "metadata": {},
   "source": [
    "---\n",
    "$11.$ Usando os coeficientes obtidos no problema 7 e a condição usada no problema 9, aplique normalização para obter $c_{id}^{2}$."
   ]
  },
  {
   "cell_type": "markdown",
   "metadata": {},
   "source": [
    "_SOL._ Aplicando normalização\n",
    "\\begin{align}\n",
    "& \\int_{-\\infty}^{\\infty}|\\Xi(x)|^{2}dx=1, \\\\\n",
    "& \\therefore \\int_{-\\infty}^{0}|\\Xi_{e}(x)|^{2}dx + \\int_{0}^{a}|\\Xi_{i}(x)|^{2}dx + \\int_{a}^{\\infty}|\\Xi_{d}(x)|^{2}dx = 1, \\\\\n",
    "& \\therefore \\int_{-\\infty}^{0}|c_{ed}e^{k_{d}x}|^{2}dx + \\int_{0}^{a}|c_{id}e^{ik_{i}x}+c_{ie}e^{-ik_{i}x}|^{2}dx + \\int_{a}^{\\infty}|c_{de}e^{-k_{d}x}|^{2}dx = 1, \\\\\n",
    "& \\therefore \\frac{|c_{ed}|^{2}}{2k_{d}}\\left(e^{2k_{d}x}\\right)_{-\\infty}^{0} + (|c_{id}|^{2} + |c_{ie}|^{2})a + \\frac{2\\Re\\left(c_{id}c_{ie}^{*}\\right)}{2k_{i}}\\left(\\sin(2k_{i}x)\\right)_{0}^{a} + \\frac{\\Im\\left(c_{id}c_{ie}^{*}\\right)}{2k_{i}}\\left(\\cos(2k_{i}x)\\right)_{0}^{a}+ \\frac{|c_{de}|^{2}}{-2k_{d}}\\left(e^{-2k_{d}x}\\right)_{a}^{\\infty} = 1, \\\\\n",
    "& \\therefore \\frac{|c_{ed}|^{2}}{2k_{d}} + (|c_{id}|^{2} + |c_{ie}|^{2})a + \\frac{2\\Re\\left(c_{id}c_{ie}^{*}\\right)}{2k_{i}}\\sin(2k_{i}a) + \\frac{\\Im\\left(c_{id}c_{ie}^{*}\\right)}{2k_{i}}\\left(\\cos(2k_{i}a)-1\\right) + \\frac{|c_{de}|^{2}}{2k_{d}}e^{-2k_{d}a} = 1. \\hspace{3cm} (\\star)\n",
    "\\end{align}"
   ]
  },
  {
   "cell_type": "markdown",
   "metadata": {},
   "source": [
    "Acima usamos\n",
    "\\begin{align}\n",
    "|c_{id}e^{ik_{i}x}+c_{ie}e^{-ik_{i}x}|^{2} & = \\left(c_{id}e^{ik_{i}x}+c_{ie}e^{-ik_{i}x}\\right)\\left(c_{id}^{*}e^{-ik_{i}x}+c_{ie}^{*}e^{ik_{i}x}\\right) \\\\\n",
    "&= |c_{id}|^{2} + |c_{ie}|^{2} + c_{id}c_{ie}^{*}e^{2ik_{i}x} + c_{id}^{*}c_{ie}e^{-2ik_{i}x} \\\\\n",
    "&= |c_{id}|^{2} + |c_{ie}|^{2} + 2\\Re\\left(c_{id}c_{ie}^{*}e^{2ik_{i}x}\\right) \\\\\n",
    "&= |c_{id}|^{2} + |c_{ie}|^{2} + 2\\left(\\Re\\left(c_{id}c_{ie}^{*}\\right)\\Re\\left(e^{2ik_{i}x}\\right)-\\Im\\left(c_{id}c_{ie}^{*}\\right)\\Im\\left(e^{2ik_{i}x}\\right)\\right) \\\\\n",
    "&= |c_{id}|^{2} + |c_{ie}|^{2} + 2\\left(\\Re\\left(c_{id}c_{ie}^{*}\\right)\\cos(2k_{i}x)-\\Im\\left(c_{id}c_{ie}^{*}\\right)\\sin(2k_{i}x)\\right).\n",
    "\\end{align}\n",
    "Do exercício 7, temos que $c_{ie} = \\frac{ik_{i}+k_{d}}{ik_{i}-k_{d}}e^{2ik_{i}a}c_{id}$ e $c_{de} = \\frac{2ik_{i}e^{(ik_{i}+k_{d})a}}{ik_{i}-k_{d}}c_{id}$. Já do exercício 9 temos que $|c_{ed}|^{2}=|c_{de}|^{2}e^{-2k_{d}a}.$ Com isso, vemos que \n",
    "\\begin{align}\n",
    "c_{id}c_{ie}^{*} &= \\frac{-ik_{i}+k_{d}}{-ik_{i}-k_{d}}e^{-i2k_{i}a}|c_{id}|^{2} = \\frac{-ik_{i}+k_{d}}{-ik_{i}-k_{d}}\\frac{ik_{i}-k_{d}}{ik_{i}-k_{d}}\\big(\\cos(2k_{i}a)-i\\sin(2k_{i}a)\\big)|c_{id}|^{2} \\\\\n",
    "& = \\frac{k_{i}^{2}-k_{d}^{2}}{k_{i}^{2}+k_{d}^{2}}\\big(\\cos(2k_{i}a)-i\\sin(2k_{i}a)\\big)|c_{id}|^{2}.\n",
    "\\end{align}"
   ]
  },
  {
   "cell_type": "markdown",
   "metadata": {},
   "source": [
    "Ademais $$|c_{ie}|^{2} = \\frac{ik_{i}+k_{d}}{ik_{i}-k_{d}}\\frac{-ik_{i}+k_{d}}{-ik_{i}-k_{d}}e^{0}|c_{id}|^{2} = |c_{id}|^{2}$$\n",
    "e \n",
    "$$|c_{de}|^{2} = \\frac{2ik_{i}e^{(ik_{i}+k_{d})a}}{ik_{i}-k_{d}}\\frac{-2ik_{i}e^{(-ik_{i}+k_{d})a}}{-ik_{i}-k_{d}}|c_{id}|^{2} = \\frac{4k_{i}^{2}e^{2k_{d}a}}{k_{i}^{2}+k_{d}^{2}}|c_{id}|^{2}.$$\n",
    "\n",
    "Substituindo tudo na eq. (\\star), teremos que\n",
    "\\begin{align}\n",
    "& \\frac{\\frac{4k_{i}^{2}}{k_{i}^{2}+k_{d}^{2}}|c_{id}|^{2}}{2k_{d}} + 2|c_{id}|^{2}a + \\frac{\\frac{k_{i}^{2}-k_{d}^{2}}{k_{i}^{2}+k_{d}^{2}}\\cos(2k_{i}a)|c_{id}|^{2}}{k_{i}}\\sin(2k_{i}a) + \\frac{\\frac{k_{i}^{2}-k_{d}^{2}}{k_{i}^{2}+k_{d}^{2}}\\sin(2k_{i}a)|c_{id}|^{2}}{2k_{i}}\\left(\\cos(2k_{i}a)-1\\right) + \\frac{\\frac{4k_{i}^{2}e^{2k_{d}a}}{k_{i}^{2}+k_{d}^{2}}|c_{id}|^{2}}{2k_{d}}e^{-2k_{d}a} = 1 \\\\\n",
    "& \\therefore \\frac{4k_{i}^{2}}{k_{d}(k_{i}^{2}+k_{d}^{2})}|c_{id}|^{2} + 2|c_{id}|^{2}a + \\frac{k_{i}^{2}-k_{d}^{2}}{k_{i}(k_{i}^{2}+k_{d}^{2)}}\\sin(2k_{i}a)\\left(\\frac{3\\cos(2k_{i}a)}{2}-\\frac{1}{2}\\right)|c_{id}|^{2}   = 1 \\\\\n",
    "& \\therefore |c_{id}|^{2} = \\left(\\frac{4k_{i}^{2}}{k_{d}(k_{i}^{2}+k_{d}^{2})} + 2a + \\frac{k_{i}^{2}-k_{d}^{2}}{k_{i}(k_{i}^{2}+k_{d}^{2)}}\\sin(2k_{i}a)\\left(\\frac{3\\cos(2k_{i}a)}{2}-\\frac{1}{2}\\right)\\right)^{-1}.\n",
    "\\end{align}"
   ]
  },
  {
   "cell_type": "code",
   "execution_count": null,
   "metadata": {},
   "outputs": [],
   "source": []
  }
 ],
 "metadata": {
  "kernelspec": {
   "display_name": "Python 3 (ipykernel)",
   "language": "python",
   "name": "python3"
  },
  "language_info": {
   "codemirror_mode": {
    "name": "ipython",
    "version": 3
   },
   "file_extension": ".py",
   "mimetype": "text/x-python",
   "name": "python",
   "nbconvert_exporter": "python",
   "pygments_lexer": "ipython3",
   "version": "3.11.1"
  }
 },
 "nbformat": 4,
 "nbformat_minor": 4
}
