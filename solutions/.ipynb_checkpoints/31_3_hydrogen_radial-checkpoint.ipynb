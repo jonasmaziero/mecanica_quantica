{
 "cells": [
  {
   "cell_type": "markdown",
   "metadata": {},
   "source": [
    "### Notas de aula de Mecânica Quântica <br> Autor: Jonas Maziero\n",
    "# Exercícios"
   ]
  },
  {
   "cell_type": "markdown",
   "metadata": {},
   "source": [
    "---\n",
    "$1.$ Verifique que para $\\rho\\gg 1$ a função $\\Omega(\\rho)=c_{+}e^{\\rho/2}+c_{-}e^{-\\rho/2}$ é solução da eq. diferencial $\\frac{1}{\\rho^{2}}\\frac{\\partial}{\\partial\\rho}\\left(\\rho^{2}\\frac{\\partial\\Omega(\\rho)}{\\partial \\rho}\\right) - \\frac{1}{4}\\Omega(\\rho)=0$. Argumente sobre a razão de termos que impor $c_{+}=0$."
   ]
  },
  {
   "cell_type": "markdown",
   "metadata": {},
   "source": [
    "_SOL._ Usemos $\\partial_{\\rho}\\Omega(\\rho)=c_{+}e^{\\rho/2}/2-c_{-}e^{-\\rho/2}/2$ e $\\partial_{\\rho\\rho}\\Omega(\\rho)=c_{+}e^{\\rho/2}/4+c_{-}e^{-\\rho/2}/4.$ A eq. diferencial pode ser escrita como\n",
    "\\begin{align}\n",
    "& \\frac{2}{\\rho}\\partial_{\\rho}\\Omega(\\rho) + \\partial_{\\rho\\rho}\\Omega(\\rho) - \\frac{1}{4}\\Omega(\\rho)=0, \\\\\n",
    "& \\therefore \\frac{2}{\\rho}(c_{+}e^{\\rho/2}/2-c_{-}e^{-\\rho/2}/2) + c_{+}e^{\\rho/2}/4+c_{-}e^{-\\rho/2}/4 - \\frac{1}{4}(c_{+}e^{\\rho/2}+c_{-}e^{-\\rho/2}) = 0?, \\\\\n",
    "& \\therefore c_{+}e^{\\rho/2}\\left(\\frac{1}{\\rho}+\\frac{1}{4}-\\frac{1}{4}\\right) + c_{-}e^{-\\rho/2}\\left(-\\frac{1}{\\rho}+\\frac{1}{4}-\\frac{1}{4}\\right)=0?\n",
    "\\end{align}\n",
    "Como $e^{\\rho/2}\\rightarrow\\infty$ para $\\rho\\rightarrow\\infty$ devemos ter $c_{+}=0$ para que a função de onda não apresente divergências. Com isso, como $1/\\rho\\rightarrow 0$ para $\\rho\\rightarrow\\infty$, vemos que a solução proposta satisfaz a referida eq. diferencial. Assim, teremos, de forma geral, que  $\\Omega(\\rho)=c_{-}e^{-\\rho/2}.$"
   ]
  },
  {
   "cell_type": "markdown",
   "metadata": {},
   "source": [
    "---\n",
    "$2.$ Relacionado à solução para a função de onda radial, se $n=4$, quais são os possíveis valores de $l$? "
   ]
  },
  {
   "cell_type": "markdown",
   "metadata": {},
   "source": [
    "_SOL._ Em geral $l=0,\\cdots,n-1$. Então \n",
    "$$n=4\\ \\therefore\\ l=0,1,2,3.$$\n",
    "Ademais, $m_l = -l,-l+1,\\cdots,l$. Então $m_l(l=0) = 0$, $m_l(l=1) = -1,0,1$, $m_l(l=2) = -2,-1,0,1,2$ e $m_l(l=3) = -3,-2,-1,0,1,2,3$."
   ]
  },
  {
   "cell_type": "markdown",
   "metadata": {},
   "source": [
    "---\n",
    "$3.$ Obtenha as funções de onda radiais $\\Omega_{4,l}(\\rho)$, a partir do cálculo de $F_{n,l}(\\rho)$."
   ]
  },
  {
   "cell_type": "markdown",
   "metadata": {},
   "source": [
    "_SOL._ Temos que $\\Omega_{n,l}(\\rho)=e^{-\\rho/2}F_{n,l}(\\rho)$, $F_{n,l}(\\rho)=\\sum_{j=0}^{n-l-1}a_{j}(n,l)\\rho^{j+l}$, $a_{j+1}(n,l) = \\frac{j+l+1-n}{(j+l+1)(j+l+2)-l(l+1)}a_{j}(n,l)$, $n=1,2,3,\\cdots$ e $l=0,1,2,\\cdots,n-1$. \n",
    "* $n=4,l=0$ <br>\n",
    "Usando\n",
    "\\begin{align}\n",
    "a_{1}(4,0) & = a_{0+1}(4,0) = \\frac{0+0+1-4}{(0+0+1)(0+0+2)-0(0+1)}a_{0}(4,0) = \\frac{-3}{2}a_{0}, \\\\\n",
    "a_{2}(4,0) & = a_{1+1}(4,0) = \\frac{1+0+1-4}{(1+0+1)(1+0+2)-0(0+1)}a_{1}(4,0) = \\frac{-2}{6}\\frac{-3}{2}a_{0} = \\frac{1}{2}a_{0}, \\\\\n",
    "a_{3}(4,0) & = a_{2+1}(4,0) = \\frac{2+0+1-4}{(2+0+1)(2+0+2)-0(0+1)}a_{2}(4,0) = \\frac{-1}{12}\\frac{1}{2}a_{0} = \\frac{-1}{24}a_{0},\n",
    "\\end{align}\n",
    "obteremos\n",
    "\\begin{align}\n",
    "F_{4,0}(\\rho) & = \\sum_{j=0}^{4-0-1}a_{j}(4,0)\\rho^{j+0} \\\\\n",
    "& = a_{0}(4,0)\\rho^{0+0} + a_{1}(4,0)\\rho^{1+0} + a_{2}(4,0)\\rho^{2+0} + a_{3}(4,0)\\rho^{3+0} \\\\\n",
    "& = a_{0} + \\frac{-3}{2}a_{0}\\rho + \\frac{1}{2}a_{0}\\rho^{2} + \\frac{-1}{24}a_{0}\\rho^{3} \\\\\n",
    "& = \\frac{a_{0}}{24}\\left(24 - 36\\rho + 12\\rho^{2} - \\rho^{3}\\right)\n",
    "\\end{align}\n",
    "e assim\n",
    "\\begin{equation}\n",
    "\\Omega_{4,0}(\\rho) = e^{-\\rho/2}\\frac{a_{0}}{24}\\left(24 - 36\\rho + 12\\rho^{2} - \\rho^{3}\\right).\n",
    "\\end{equation}"
   ]
  },
  {
   "cell_type": "markdown",
   "metadata": {},
   "source": [
    "* $n=4,l=1$ <br>\n",
    "Usando\n",
    "\\begin{align}\n",
    "a_{1}(4,1) & = a_{0+1}(4,1) = \\frac{0+1+1-4}{(0+1+1)(0+1+2)-1(1+1)}a_{0}(4,1) = \\frac{-2}{4}a_{0} = \\frac{-1}{2}a_{0}, \\\\\n",
    "a_{2}(4,1) & = a_{1+1}(4,1) = \\frac{1+1+1-4}{(1+1+1)(1+1+2)-1(1+1)}a_{1}(4,1) = \\frac{-1}{10}\\frac{-1}{2}a_{0} = \\frac{1}{20}a_{0},\n",
    "\\end{align}\n",
    "obteremos\n",
    "\\begin{align}\n",
    "F_{4,1}(\\rho) & = \\sum_{j=0}^{4-1-1}a_{j}(4,1)\\rho^{j+1} = a_{0}(4,1)\\rho^{0+1} + a_{1}(4,1)\\rho^{1+1} + a_{2}(4,1)\\rho^{2+1} \\\\\n",
    "& = a_{0}\\rho - \\frac{1}{2}a_{0}\\rho^{2} + \\frac{1}{20}a_{0}\\rho^{3} = \\frac{1}{20}a_{0}\\left(20\\rho - 10\\rho^{2} + \\rho^{3}\\right)\n",
    "\\end{align}\n",
    "e assim\n",
    "\\begin{equation}\n",
    "\\Omega_{4,1}(\\rho) = e^{-\\rho/2}\\frac{1}{18}a_{0}\\left(20\\rho - 10\\rho^{2} + \\rho^{3}\\right).\n",
    "\\end{equation}"
   ]
  },
  {
   "cell_type": "markdown",
   "metadata": {},
   "source": [
    "* $n=4,l=2$ <br>\n",
    "Usando\n",
    "\\begin{align}\n",
    "a_{1}(4,2) & = a_{0+1}(4,2) = \\frac{0+2+1-4}{(0+2+1)(0+2+2)-2(2+1)}a_{0}(4,2) = \\frac{-1}{6}a_{0},\n",
    "\\end{align}\n",
    "obteremos\n",
    "\\begin{align}\n",
    "F_{4,2}(\\rho) & = \\sum_{j=0}^{4-2-1}a_{j}(4,2)\\rho^{j+2} = a_{0}(4,2)\\rho^{0+2} + a_{1}(4,2)\\rho^{1+2} \\\\\n",
    "& = a_{0}\\rho^{2} - \\frac{1}{6}a_{0}\\rho^{3} = \\frac{a_{0}}{6}\\left(6\\rho^{2} - \\rho^{3}\\right)\n",
    "\\end{align}\n",
    "e assim\n",
    "\\begin{equation}\n",
    "\\Omega_{4,2}(\\rho) = e^{-\\rho/2}\\frac{a_{0}}{6}\\left(6\\rho^{2} - \\rho^{3}\\right).\n",
    "\\end{equation}"
   ]
  },
  {
   "cell_type": "markdown",
   "metadata": {},
   "source": [
    "* $n=4,l=3$ <br>\n",
    "Aqui\n",
    "\\begin{align}\n",
    "F_{4,3}(\\rho) & = \\sum_{j=0}^{4-3-1}a_{j}(4,3)\\rho^{j+3} = a_{0}(4,3)\\rho^{0+3} \\\\\n",
    "& = a_{0}\\rho^{3}\n",
    "\\end{align}\n",
    "e assim\n",
    "\\begin{equation}\n",
    "\\Omega_{4,3}(\\rho) = e^{-\\rho/2}a_{0}\\rho^{3}.\n",
    "\\end{equation}"
   ]
  },
  {
   "cell_type": "markdown",
   "metadata": {},
   "source": [
    "---\n",
    "\n",
    "$4.$ Obtenha as funções de onda radiais $\\Omega_{4,l}(\\rho)$, a partir do cálculo de $L^{2l+1}_{n-l-l}(\\rho)$. Compare os resultados com aqueles obtidos na questão anterior."
   ]
  },
  {
   "cell_type": "markdown",
   "metadata": {},
   "source": [
    "_SOL._ Temos que $\\Omega_{n,l}(\\rho) = e^{-\\rho/2}F_{n,l}(\\rho) = C_{n,l}e^{-\\rho/2}\\rho^{l}L_{n-l-1}^{2l+1}(\\rho)$\n",
    "com $L_{n-l-1}^{2l+1}(\\rho) = \\frac{e^{\\rho}\\rho^{-(2l+1)}}{(n-l-1)!}\\frac{\\partial^{n-l-1}}{\\partial\\rho^{n-l-1}}\\left(e^{-\\rho}\\rho^{n+l}\\right)$.\n",
    "\n",
    "* $n=4,l=0$ <br>\n",
    "Usando\n",
    "\\begin{align}\n",
    "L_{4-0-1}^{2(0)+1}(\\rho) & = \\frac{e^{\\rho}\\rho^{-(2(0)+1)}}{(4-0-1)!}\\frac{\\partial^{4-0-1}}{\\partial\\rho^{4-0-1}}\\left(e^{-\\rho}\\rho^{4+0}\\right) = \\frac{e^{\\rho}\\rho^{-1}}{3!}\\frac{\\partial^{3}}{\\partial\\rho^{3}}\\left(e^{-\\rho}\\rho^{4}\\right) \\\\\n",
    "L_{3}^{1}(\\rho) & = \\frac{e^{\\rho}\\rho^{-1}}{3!}\\frac{\\partial^{2}}{\\partial\\rho^{2}}\\left(-e^{-\\rho}\\rho^{4} + 4e^{-\\rho}\\rho^{3}\\right) = \\frac{e^{\\rho}\\rho^{-1}}{3!}\\frac{\\partial^{1}}{\\partial\\rho^{1}}\\left(e^{-\\rho}\\rho^{4} -4e^{-\\rho}\\rho^{3} - 4e^{-\\rho}\\rho^{3} + 12e^{-\\rho}\\rho^{2}\\right) \\\\\n",
    "& = \\frac{e^{\\rho}\\rho^{-1}}{3!}\\left(-e^{-\\rho}\\rho^{4} + 4e^{-\\rho}\\rho^{3} + 4e^{-\\rho}\\rho^{3}  - 12e^{-\\rho}\\rho^{2} + 4e^{-\\rho}\\rho^{3} - 12e^{-\\rho}\\rho^{2} - 12e^{-\\rho}\\rho^{2} + 24e^{-\\rho}\\rho\\right) \\\\\n",
    "& = \\frac{1}{6}\\left(-\\rho^{3} + 12\\rho^{2} - 36\\rho + 24\\right),\n",
    "\\end{align}\n",
    "obteremos\n",
    "\\begin{align}\n",
    "\\Omega_{4,0}(\\rho) &= C_{4,0}e^{-\\rho/2}\\rho^{0}L_{4-0-1}^{2(0)+1}(\\rho) = C_{4,0}e^{-\\rho/2}L_{3}^{1}(\\rho) = C_{4,0}e^{-\\rho/2}\\frac{1}{6}\\left(-\\rho^{3} + 12\\rho^{2} - 36\\rho + 24\\right) \\\\\n",
    "& = e^{-\\rho/2}F_{4,0}(\\rho)\n",
    "\\end{align}\n",
    "com $C_{4,0}=6a_{0}/24=a_{0}/4$."
   ]
  },
  {
   "cell_type": "markdown",
   "metadata": {},
   "source": [
    "* $n=4,l=1$ <br>\n",
    "Usando\n",
    "\\begin{align}\n",
    "L_{4-1-1}^{2(1)+1}(\\rho) & = \\frac{e^{\\rho}\\rho^{-(2(1)+1)}}{(4-1-1)!}\\frac{\\partial^{4-1-1}}{\\partial\\rho^{4-1-1}}\\left(e^{-\\rho}\\rho^{4+1}\\right) = \\frac{e^{\\rho}\\rho^{-3}}{2!}\\frac{\\partial^{2}}{\\partial\\rho^{2}}\\left(e^{-\\rho}\\rho^{5}\\right) \\\\\n",
    "L_{2}^{3}(\\rho) & = \\frac{e^{\\rho}\\rho^{-3}}{2}\\frac{\\partial^{1}}{\\partial\\rho^{1}}\\left(-e^{-\\rho}\\rho^{5} + 5e^{-\\rho}\\rho^{4}\\right)  = \\frac{e^{\\rho}\\rho^{-3}}{2}\\left(e^{-\\rho}\\rho^{5} - 5e^{-\\rho}\\rho^{4} - 5e^{-\\rho}\\rho^{4}  + 20e^{-\\rho}\\rho^{3} \\right) \\\\\n",
    "& = \\frac{1}{2}\\left(\\rho^{2} - 10\\rho  + 20 \\right),\n",
    "\\end{align}\n",
    "obteremos\n",
    "\\begin{align}\n",
    "\\Omega_{4,1}(\\rho) &= C_{4,1}e^{-\\rho/2}\\rho^{1}L_{4-1-1}^{2(1)+1}(\\rho) = C_{4,1}e^{-\\rho/2}\\rho L_{2}^{3}(\\rho) = C_{4,1}e^{-\\rho/2}\\rho\\frac{1}{2}\\left(\\rho^{2} - 10\\rho  + 20 \\right) \\\\\n",
    "& = C_{4,1}e^{-\\rho/2}\\frac{1}{2}\\left(\\rho^{3} - 10\\rho^{2}  + 20\\rho \\right).\n",
    "\\end{align}"
   ]
  },
  {
   "cell_type": "markdown",
   "metadata": {},
   "source": [
    "* $n=4,l=2$ <br>\n",
    "Usando\n",
    "\\begin{align}\n",
    "L_{4-2-1}^{2(2)+1}(\\rho) & = \\frac{e^{\\rho}\\rho^{-(2(2)+1)}}{(4-2-1)!}\\frac{\\partial^{4-2-1}}{\\partial\\rho^{4-2-1}}\\left(e^{-\\rho}\\rho^{4+2}\\right) = \\frac{e^{\\rho}\\rho^{-5}}{1!}\\frac{\\partial^{1}}{\\partial\\rho^{1}}\\left(e^{-\\rho}\\rho^{6}\\right) \\\\\n",
    "L_{1}^{5}(\\rho) & = e^{\\rho}\\rho^{-5}\\left(-e^{-\\rho}\\rho^{6} + 6e^{-\\rho}\\rho^{5}\\right) = -\\rho + 6,\n",
    "\\end{align}\n",
    "obteremos\n",
    "\\begin{align}\n",
    "\\Omega_{4,2}(\\rho) &= C_{4,2}e^{-\\rho/2}\\rho^{2}L_{4-2-1}^{2(2)+1}(\\rho) = C_{4,2}e^{-\\rho/2}\\rho^{2}L_{1}^{5}(\\rho) = C_{4,2}e^{-\\rho/2}\\rho^{2}\\left( -\\rho + 6 \\right) \\\\\n",
    "& = C_{4,2}e^{-\\rho/2}\\left( -\\rho^{3} + 6\\rho^{2} \\right) \\\\\n",
    "& = e^{-\\rho/2}F_{4,2}(\\rho)\n",
    "\\end{align}\n",
    "com $C_{4,2}=a_{0}/6$."
   ]
  },
  {
   "cell_type": "markdown",
   "metadata": {},
   "source": [
    "* $n=4,l=3$\n",
    "Usando\n",
    "\\begin{align}\n",
    "L_{4-3-1}^{2(3)+1}(\\rho) & = \\frac{e^{\\rho}\\rho^{-(2(3)+1)}}{(4-3-1)!}\\frac{\\partial^{4-3-1}}{\\partial\\rho^{4-3-1}}\\left(e^{-\\rho}\\rho^{4+3}\\right) = \\frac{e^{\\rho}\\rho^{-7}}{0!}\\frac{\\partial^{0}}{\\partial\\rho^{0}}\\left(e^{-\\rho}\\rho^{7}\\right) \\\\\n",
    "L_{0}^{7}(\\rho) & = e^{\\rho}\\rho^{-7}\\left(e^{-\\rho}\\rho^{7}\\right) = 1,\n",
    "\\end{align}\n",
    "obteremos\n",
    "\\begin{align}\n",
    "\\Omega_{4,3}(\\rho) &= C_{4,3}e^{-\\rho/2}\\rho^{3}L_{4-3-1}^{2(3)+1}(\\rho) = C_{4,3}e^{-\\rho/2}\\rho^{3}L_{0}^{7}(\\rho) = C_{4,3}e^{-\\rho/2}\\rho^{3}\\left(1\\right) \\\\\n",
    "& = e^{-\\rho/2}F_{4,3}(\\rho)\n",
    "\\end{align}\n",
    "com $C_{4,3}=a_{0}$."
   ]
  },
  {
   "cell_type": "markdown",
   "metadata": {},
   "source": [
    "---\n",
    "$5.$ Mostre que uma certa energia $E_{n}$ de um átomo hidrogenóide possui degenerescência $d_{E_{n}}=n^{2}$."
   ]
  },
  {
   "cell_type": "markdown",
   "metadata": {},
   "source": [
    "_SOL._ Neste caso, a energia \n",
    "\\begin{equation}\n",
    "E=E_{n}=E_{1}/n^{2}\n",
    "\\end{equation}\n",
    "depende somente do número quântico principal $n=1,2,3,\\cdots$. No entanto, as autofunções dependem dos três números quânticos:\n",
    "\\begin{align}\n",
    "\\psi = \\psi_{n,l,m_{l}}(r,\\theta,\\phi).\n",
    "\\end{align}\n",
    "Os outros dois números quânticos assumem os valores: $l=0,1,2,\\cdots,n-1$ e $m_{l}=-l,-l+1,\\cdots,l-1,l$. Como para cada valor de $l$ temos $2l+1$ possíveis valores de $m_{l}$, a degenerescência é (conforme a figura abaixo)\n",
    "\\begin{align}\n",
    "d_{E_{n}} &= \\sum_{l=0}^{n-1}(2l+1) = 1 + 3 + 5 + 7+ \\cdots + (2n-3) + (2n-1) \\\\ \n",
    "&= \\sum_{j=1}^{n}(2j-1) = \\text{área de um quadrado de lado } n \\\\\n",
    "& = n^{2}.\n",
    "\\end{align}\n",
    "\n",
    "<img src='fig_16_degE.png' width='200'>"
   ]
  },
  {
   "cell_type": "markdown",
   "metadata": {},
   "source": [
    "---\n",
    "$6.$ Qual é a massa reduzida $\\mu$ para átomo de Hélio uma vez ionizado? Qual é o número atômico $Z$ deste átomo? Faça o diagrama de níveis de energia deste átomo."
   ]
  },
  {
   "cell_type": "markdown",
   "metadata": {},
   "source": [
    "_SOL._ O átomo de Hélio possui 2 prótons e 2 nêutrons no núcleo e possui 2 elétrons. Quando for ionizado uma vez, terá 1 elétron. A massa reduzida desse sistema é \n",
    "$$\\mu= \\frac{m_{e}(2m_{p}+2m_{n})}{m_{e}+(2m_{p}+2m_{n})}\\approx 9,11\\mathrm{x}10^{-31}\\text{ kg}.$$\n",
    "O número atômico é o número de prótons no núcleo de um átomo, e portanto nesse caso $Z=2$. "
   ]
  },
  {
   "cell_type": "code",
   "execution_count": 1,
   "metadata": {},
   "outputs": [
    {
     "data": {
      "text/plain": [
       "9.108142741938634e-31"
      ]
     },
     "execution_count": 1,
     "metadata": {},
     "output_type": "execute_result"
    }
   ],
   "source": [
    "me = 9.109382*10**-31 # kg (massa do elétron)\n",
    "mp = 1.6726219*10**-27 # kg (massa do próton)\n",
    "mn = 1.67492749804*10**-27 # kg (massa do nêutron)\n",
    "\n",
    "mu=(me*(2*mp+2*mn))/(me+(2*mp+2*mn)); mu"
   ]
  },
  {
   "cell_type": "code",
   "execution_count": 8,
   "metadata": {},
   "outputs": [
    {
     "data": {
      "image/png": "[encoded data removed]",
      "text/plain": [
       "<Figure size 640x480 with 1 Axes>"
      ]
     },
     "metadata": {},
     "output_type": "display_data"
    }
   ],
   "source": [
    "from matplotlib import pyplot as plt\n",
    "e = 1.60217662*10**-19 # C (carga elementar)\n",
    "k = 8.9875517923*10**9 # Nm^2/C^2 (constante de Coulomb)\n",
    "h = 6.626069*10**-34 # Js (constante de Planck)\n",
    "heV = h/e # em eV\n",
    "import math\n",
    "hb = h/(2*math.pi) # hbar\n",
    "c = 2.99792458*10**8 # m/s (velocidade da luz no vácuo)\n",
    "\n",
    "def bohr(Z,mu,n): # em eV\n",
    "    return (-((mu*Z**2*e**4*k**2)/(2*hb**2))/n**2)/e\n",
    "def bohr_ed(Z,mu,xmin,xmax):\n",
    "    plt.hlines(bohr(Z,mu,1),xmin,xmax,color='magenta')\n",
    "    plt.text(-0.15,bohr(Z,mu,1),'1',color='magenta'); plt.text(1.01,bohr(Z,mu,1),'%3.2f' % (bohr(Z,mu,1)),color='magenta')\n",
    "    plt.hlines(bohr(Z,mu,2),xmin,xmax,color='blue')\n",
    "    plt.text(-0.15,bohr(Z,mu,2),'2',color='blue'); plt.text(1.01,bohr(Z,mu,2),'%3.2f' % (bohr(Z,mu,2)),color='blue')\n",
    "    plt.hlines(bohr(Z,mu,3),xmin,xmax,color='cyan') \n",
    "    plt.text(-0.15,bohr(Z,mu,3),'3',color='cyan'); plt.text(1.01,bohr(Z,mu,3),'%3.2f' % (bohr(Z,mu,3)),color='cyan')\n",
    "    plt.hlines(bohr(Z,mu,4),xmin,xmax,color='green')\n",
    "    plt.text(-0.15,bohr(Z,mu,4),'4',color='green'); plt.text(1.01,bohr(Z,mu,4),'%3.2f' % (bohr(Z,mu,4)),color='green')\n",
    "    plt.hlines(bohr(Z,mu,5),xmin,xmax,color='gray'); plt.hlines(bohr(Z,mu,6),xmin,xmax,color='brown')\n",
    "    plt.hlines(bohr(Z,mu,7),xmin,xmax,color='brown'); plt.hlines(bohr(Z,mu,8),xmin,xmax,color='brown')\n",
    "    plt.hlines(bohr(Z,mu,9),xmin,xmax,color='gray'); plt.hlines(bohr(Z,mu,10),xmin,xmax,color='brown')\n",
    "    plt.hlines(bohr(Z,mu,11),xmin,xmax,color='brown')\n",
    "    plt.hlines(0,0,1,color='red')\n",
    "    plt.text(-0.15,0,r'$n=\\infty$',color='red'); plt.text(1.01,0.1,r'0 (eV)',color='red')\n",
    "    plt.xlim(0,2); plt.ylim(bohr(Z,mu,1)-0.1,0)\n",
    "    plt.annotate(\"\", xy=(0.5,bohr(Z,mu,1)), xytext=(0.5,bohr(Z,mu,2)), arrowprops=dict(arrowstyle=\"<->\"))\n",
    "    plt.text(0.51,(bohr(Z,mu,1)+bohr(Z,mu,2))/2,(c*heV)/(bohr(Z,mu,2)-bohr(Z,mu,1)))\n",
    "    plt.annotate(\"\", xy=(0.7,bohr(Z,mu,2)), xytext=(0.7,bohr(Z,mu,3)), arrowprops=dict(arrowstyle=\"<->\"))\n",
    "    plt.text(0.71,(bohr(Z,mu,2)+bohr(Z,mu,3))/2,(c*heV)/(bohr(Z,mu,3)-bohr(Z,mu,2))) # lambda em metros\n",
    "    plt.axis('off'); plt.show()\n",
    "    \n",
    "Z=2; bohr_ed(Z,mu,0,1)"
   ]
  }
 ],
 "metadata": {
  "kernelspec": {
   "display_name": "Python 3 (ipykernel)",
   "language": "python",
   "name": "python3"
  },
  "language_info": {
   "codemirror_mode": {
    "name": "ipython",
    "version": 3
   },
   "file_extension": ".py",
   "mimetype": "text/x-python",
   "name": "python",
   "nbconvert_exporter": "python",
   "pygments_lexer": "ipython3",
   "version": "3.11.1"
  }
 },
 "nbformat": 4,
 "nbformat_minor": 4
}
