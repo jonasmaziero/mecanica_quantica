{
 "cells": [
  {
   "cell_type": "markdown",
   "metadata": {},
   "source": [
    "### Notas de aula de Mecânica Quântica <br> Autor: Jonas Maziero\n",
    "\n",
    "# Exercícios"
   ]
  },
  {
   "cell_type": "markdown",
   "metadata": {},
   "source": [
    "---\n",
    "$1.$ Verifique que o estado $|\\Psi_{-}\\rangle_{AB} = (1/\\sqrt{2})\\left(|z_{+}\\rangle_{A}\\otimes|z_{-}\\rangle_{B} - |z_{-}\\rangle_{A}\\otimes|z_{+}\\rangle_{B}\\right)$ pode ser reescrito como $|\\Psi_{-}\\rangle_{AB} = (e^{i\\pi}/\\sqrt{2})(|x_{+}\\rangle_{A}\\otimes|x_{-}\\rangle_{B} - |x_{-}\\rangle_{A}\\otimes|x_{+}\\rangle_{B}),$ em que $|x_{\\pm}\\rangle_{S}=(|z_{+}\\rangle_{S}\\pm|z_{-}\\rangle_{S})/\\sqrt{2}$ para $S=A,B$."
   ]
  },
  {
   "cell_type": "markdown",
   "metadata": {},
   "source": [
    "_SOL._ Usando $|z_{\\pm}\\rangle_{S}=(|x_{+}\\rangle_{S}\\pm|x_{-}\\rangle_{S})/\\sqrt{2}$ para $S=A,B$ podemos escrever\n",
    "\\begin{align}\n",
    "|\\Psi_{-}\\rangle_{AB} &= (1/\\sqrt{2})\\left(|z_{+}\\rangle_{A}\\otimes|z_{-}\\rangle_{B} - |z_{-}\\rangle_{A}\\otimes|z_{+}\\rangle_{B}\\right) \\\\\n",
    "&= (1/2\\sqrt{2})\\left((|x_{+}\\rangle_{A}+|x_{-}\\rangle_{A})\\otimes(|x_{+}\\rangle_{B}-|x_{-}\\rangle_{B}) - (|x_{+}\\rangle_{A}-|x_{-}\\rangle_{A})\\otimes(|x_{+}\\rangle_{B}+|x_{-}\\rangle_{B})\\right) \\\\\n",
    "&= (1/2\\sqrt{2})(+|x_{+}\\rangle_{A}\\otimes|x_{+}\\rangle_{B} - |x_{+}\\rangle_{A}\\otimes|x_{-}\\rangle_{B} + |x_{-}\\rangle_{A}\\otimes|x_{+}\\rangle_{B} - |x_{-}\\rangle_{A}\\otimes|x_{-}\\rangle_{B} \\\\ \n",
    "& \\hspace{2cm} -|x_{+}\\rangle_{A}\\otimes|x_{+}\\rangle_{B} - |x_{+}\\rangle_{A}\\otimes|x_{-}\\rangle_{B} + |x_{-}\\rangle_{A}\\otimes|x_{+}\\rangle_{B} + |x_{-}\\rangle_{A}\\otimes|x_{-}\\rangle_{B}) \\\\\n",
    "&= -(1/\\sqrt{2})(|x_{+}\\rangle_{A}\\otimes|x_{-}\\rangle_{B} - |x_{-}\\rangle_{A}\\otimes|x_{+}\\rangle_{B}) \\\\\n",
    "&= e^{i\\pi}(1/\\sqrt{2})(|x_{+}\\rangle_{A}\\otimes|x_{-}\\rangle_{B} - |x_{-}\\rangle_{A}\\otimes|x_{+}\\rangle_{B}).\n",
    "\\end{align}"
   ]
  },
  {
   "cell_type": "markdown",
   "metadata": {},
   "source": [
    "---\n",
    "$2.$ Para o estado conjunto de dois quantons de spin 1/2 da questão anterior, obtenha o estado conjunto pós-medida se Alice mede $\\sigma_{z}^{A}$ e obtém $z_{-}^{A}$ e se Alice mede $\\sigma_{x}^{A}$ e obtém $x_{-}^{A}$."
   ]
  },
  {
   "cell_type": "markdown",
   "metadata": {},
   "source": [
    "_SOL._ Aplicando os projetores correspondentes, teremos o estado pós-medida não normalizado:\n",
    "\\begin{align}\n",
    "\\Pi_{z_{-}^{A}}\\otimes\\Pi_{x_{-}^{A}}|\\Psi_{-}\\rangle_{AB} &= |z_{-}^{A}\\rangle\\langle z_{-}^{A}|\\otimes|x_{-}^{A}\\rangle\\langle x_{-}^{A}|(1/\\sqrt{2})\\left(|z_{+}\\rangle_{A}\\otimes|z_{-}\\rangle_{B} - |z_{-}\\rangle_{A}\\otimes|z_{+}\\rangle_{B}\\right) \\\\\n",
    "& = (1/\\sqrt{2})\\left(|z_{-}^{A}\\rangle\\langle z_{-}^{A}||z_{+}\\rangle_{A}\\otimes|x_{-}^{A}\\rangle\\langle x_{-}^{A}||z_{-}\\rangle_{B} - |z_{-}^{A}\\rangle\\langle z_{-}^{A}||z_{-}\\rangle_{A}\\otimes|x_{-}^{A}\\rangle\\langle x_{-}^{A}||z_{+}\\rangle_{B}\\right) \\\\\n",
    "& = (1/\\sqrt{2})\\left(|z_{-}^{A}\\rangle0\\otimes|x_{-}^{A}\\rangle(-1/\\sqrt{2}) - |z_{-}^{A}\\rangle1\\otimes|x_{-}^{A}\\rangle(1/\\sqrt{2})\\right) \\\\\n",
    "&= |z_{-}^{A}\\rangle\\otimes|x_{-}^{A}\\rangle/2.\n",
    "\\end{align}\n",
    "Normalizando teremos o estado pós-medida: $|z_{-}^{A}\\rangle\\otimes|x_{-}^{A}\\rangle$."
   ]
  },
  {
   "cell_type": "markdown",
   "metadata": {},
   "source": [
    "---\n",
    "$3.$ Verifique que, para observáveis dicotômicos com valores possíveis $A_{j}=\\pm1$ e $B_{k}=\\pm1$, os valores possíveis da combinação $A_{1}B_{1} + A_{1}B_{2} + A_{2}B_{1} - A_{2}B_{2}$ são $\\pm 2$."
   ]
  },
  {
   "cell_type": "markdown",
   "metadata": {},
   "source": [
    "_SOL._ Podemos escrever \n",
    "\\begin{equation}\n",
    "A_{1}B_{1} + A_{1}B_{2} + A_{2}B_{1} - A_{2}B_{2} = A_{1}(B_{1}+B_{2}) + A_{2}(B_{1}-B_{2}) = \\pm 2,\n",
    "\\end{equation}\n",
    "pois se $A_{2}=B_{2}$ o segundo termo é nulo, e se $A_{2}=-B_{2}$ o primeiro termo é nulo.  Este resultado também está verificado com o código abaixo."
   ]
  },
  {
   "cell_type": "code",
   "execution_count": 1,
   "metadata": {},
   "outputs": [
    {
     "name": "stdout",
     "output_type": "stream",
     "text": [
      "A1B1+A1B2+A2B1-A2B2= 2\n",
      "A1B1+A1B2+A2B1-A2B2= 2\n",
      "A1B1+A1B2+A2B1-A2B2= -2\n",
      "A1B1+A1B2+A2B1-A2B2= -2\n",
      "A1B1+A1B2+A2B1-A2B2= 2\n",
      "A1B1+A1B2+A2B1-A2B2= -2\n",
      "A1B1+A1B2+A2B1-A2B2= 2\n",
      "A1B1+A1B2+A2B1-A2B2= -2\n",
      "A1B1+A1B2+A2B1-A2B2= -2\n",
      "A1B1+A1B2+A2B1-A2B2= 2\n",
      "A1B1+A1B2+A2B1-A2B2= -2\n",
      "A1B1+A1B2+A2B1-A2B2= 2\n",
      "A1B1+A1B2+A2B1-A2B2= -2\n",
      "A1B1+A1B2+A2B1-A2B2= -2\n",
      "A1B1+A1B2+A2B1-A2B2= 2\n",
      "A1B1+A1B2+A2B1-A2B2= 2\n"
     ]
    }
   ],
   "source": [
    "for A1 in {-1,1}:\n",
    "    for A2 in {-1,1}:\n",
    "        for B1 in {-1,1}:\n",
    "            for B2 in {-1,1}:\n",
    "                print('A1B1+A1B2+A2B1-A2B2=',A1*B1+A1*B2+A2*B1-A2*B2)"
   ]
  },
  {
   "cell_type": "markdown",
   "metadata": {},
   "source": [
    "---\n",
    "$4.$ Verifique que para $A_{1}=\\sigma_{z}^{A}$, $A_{2}=\\sigma_{x}^{A}$, $B_{1}=(\\sigma_{z}^{B}+\\sigma_{x}^{B})/\\sqrt{2}$,  $B_{2}=(\\sigma_{z}^{B}-\\sigma_{x}^{B})/\\sqrt{2}$ temos que $O=A_{1}\\otimes B_{1} + A_{1}\\otimes B_{2} + A_{2}\\otimes B_{1} - A_{2}\\otimes B_{2}=\\sqrt{2}(\\sigma_{z}\\otimes\\sigma_{z}+\\sigma_{x}\\otimes\\sigma_{x})$."
   ]
  },
  {
   "cell_type": "markdown",
   "metadata": {},
   "source": [
    "_SOL._ Aplicando a linearidade do produto tensorial, teremos que\n",
    "\\begin{align}\n",
    "O &= A_{1}\\otimes B_{1} + A_{1}\\otimes B_{2} + A_{2}\\otimes B_{1} - A_{2}\\otimes B_{2} \\\\\n",
    "&= \\sigma_{z}^{A}\\otimes (\\sigma_{z}^{B}+\\sigma_{x}^{B})/\\sqrt{2} + \\sigma_{z}^{A}\\otimes (\\sigma_{z}^{B}-\\sigma_{x}^{B})/\\sqrt{2} + \\sigma_{x}^{A}\\otimes (\\sigma_{z}^{B}+\\sigma_{x}^{B})/\\sqrt{2} - \\sigma_{x}^{A}\\otimes (\\sigma_{z}^{B}-\\sigma_{x}^{B})/\\sqrt{2} \\\\\n",
    "&= \\sigma_{z}^{A}\\otimes\\sigma_{z}^{B}/\\sqrt{2} + \\sigma_{z}^{A}\\otimes\\sigma_{x}^{B}/\\sqrt{2} + \\sigma_{z}^{A}\\otimes\\sigma_{z}^{B}/\\sqrt{2} - \\sigma_{z}^{A}\\otimes\\sigma_{x}^{B}/\\sqrt{2} \\\\ \n",
    "& \\hspace{0.5cm} + \\sigma_{x}^{A}\\otimes\\sigma_{z}^{B}/\\sqrt{2} + \\sigma_{x}^{A}\\otimes\\sigma_{x}^{B}/\\sqrt{2}  - \\sigma_{x}^{A}\\otimes\\sigma_{z}^{B}/\\sqrt{2} + \\sigma_{x}^{A}\\otimes\\sigma_{x}^{B}/\\sqrt{2} \\\\\n",
    "&= 2\\sigma_{z}^{A}\\otimes\\sigma_{z}^{B}/\\sqrt{2} + 2 \\sigma_{x}^{A}\\otimes\\sigma_{x}^{B}/\\sqrt{2} = \\sqrt{2}(\\sigma_{z}^{A}\\otimes\\sigma_{z}^{B}+\\sigma_{x}^{A}\\otimes\\sigma_{x}^{B}).\n",
    "\\end{align}"
   ]
  },
  {
   "cell_type": "markdown",
   "metadata": {},
   "source": [
    "---\n",
    "$5.$ Verifique que $\\sigma_{x}\\otimes\\sigma_{x}|\\Psi_{-}\\rangle_{AB}=-|\\Psi_{-}\\rangle_{AB}$, com $|\\Psi_{-}\\rangle_{AB}$ sendo o estado mostrado na questão 1."
   ]
  },
  {
   "cell_type": "markdown",
   "metadata": {},
   "source": [
    "_SOL._ Usando que $\\sigma_{x}|z_{\\pm}\\rangle = |z_{\\mp}\\rangle$ e \n",
    "\\begin{align}\n",
    "\\sigma_{x}\\otimes\\sigma_{x}|\\Psi_{-}\\rangle_{AB} &= \\sigma_{x}\\otimes\\sigma_{x}(1/\\sqrt{2})\\left(|z_{+}\\rangle_{A}\\otimes|z_{-}\\rangle_{B} - |z_{-}\\rangle_{A}\\otimes|z_{+}\\rangle_{B}\\right) \\\\\n",
    "&= (1/\\sqrt{2})\\left(\\sigma_{x}|z_{+}\\rangle_{A}\\otimes\\sigma_{x}|z_{-}\\rangle_{B} - \\sigma_{x}|z_{-}\\rangle_{A}\\otimes\\sigma_{x}|z_{+}\\rangle_{B}\\right) \\\\\n",
    "&= (1/\\sqrt{2})\\left(|z_{-}\\rangle_{A}\\otimes|z_{+}\\rangle_{B} - |z_{+}\\rangle_{A}\\otimes|z_{-}\\rangle_{B}\\right) \\\\\n",
    "&= -(1/\\sqrt{2})\\left(-|z_{-}\\rangle_{A}\\otimes|z_{+}\\rangle_{B} + |z_{+}\\rangle_{A}\\otimes|z_{-}\\rangle_{B}\\right) \\\\\n",
    "&=-|\\Psi_{-}\\rangle_{AB}.\n",
    "\\end{align}"
   ]
  },
  {
   "cell_type": "markdown",
   "metadata": {},
   "source": [
    "---\n",
    "$6.$ Para o estado composto da questão 1, verifique que se Alice mede $\\sigma_{x}^{A}$, para qualquer um dos resultados possíveis, Bob obterá a distribuição de probabilidades $\\{Pr(z_{+}^{B}),Pr(z_{-}^{B})\\}=\\{1/2,1/2\\}$ ao medir $\\sigma_{z}^{B}$."
   ]
  },
  {
   "cell_type": "markdown",
   "metadata": {},
   "source": [
    "_SOL._ Se Alice mede $\\sigma_{x}$ e ontém $\\pm x,$ o estado global \n",
    "$$|\\Psi_{-}\\rangle_{AB}=(e^{i\\pi}/\\sqrt{2})(|x_{+}\\rangle_{A}\\otimes|x_{-}\\rangle_{B} - |x_{-}\\rangle_{A}\\otimes|x_{+}\\rangle_{B})$$\n",
    "colapsa para \n",
    "$$\\Pi_{ x_{\\pm}}\\otimes\\mathbb{I}_{B}|\\Psi_{-}\\rangle_{AB}\\equiv |x_{\\pm}\\rangle_{A}\\otimes|x_{\\mp}\\rangle_{B}.$$ Como \n",
    "$$|x_{\\pm}\\rangle=(|z_{+}\\rangle\\pm|z_{-}\\rangle)/\\sqrt{2},$$\n",
    "temos que as probabilidades para Bob obter $z_{\\pm}$ são \n",
    "$$|\\pm 1/\\sqrt{2}|^{2}=1/2.$$"
   ]
  },
  {
   "cell_type": "markdown",
   "metadata": {},
   "source": [
    "---\n",
    "$7.$ Verifique que $CNOT_{s\\rightarrow a} = |z_{+}\\rangle_{s}\\langle z_{+}|\\otimes\\mathbb{I}_{a}+|z_{-}\\rangle_{s}\\langle z_{-}|\\otimes\\sigma_{x}^{a}$ é uma transformação unitária."
   ]
  },
  {
   "cell_type": "markdown",
   "metadata": {},
   "source": [
    "_SOL._ Como o adjunto de um projetor é ele próprio e as matrizes de Pauli são Hermitianas e $(A\\otimes B)^{\\dagger}=A^{\\dagger}\\otimes B^{\\dagger},$ teremos que\n",
    "\\begin{align}\n",
    "CNOT_{s\\rightarrow a}CNOT_{s\\rightarrow a}^{\\dagger} &= CNOT_{s\\rightarrow a}^{\\dagger}CNOT_{s\\rightarrow a}  = CNOT_{s\\rightarrow a}^{2} \\\\\n",
    "&= \\big(|z_{+}\\rangle_{s}\\langle z_{+}|\\otimes\\mathbb{I}_{a}+|z_{-}\\rangle_{s}\\langle z_{-}|\\otimes\\sigma_{x}^{a}\\big)\\big(|z_{+}\\rangle_{s}\\langle z_{+}|\\otimes\\mathbb{I}_{a}+|z_{-}\\rangle_{s}\\langle z_{-}|\\otimes\\sigma_{x}^{a}\\big) \\\\\n",
    "&= |z_{+}\\rangle_{s}\\langle z_{+}||z_{+}\\rangle_{s}\\langle z_{+}|\\otimes\\mathbb{I}_{a} + |z_{+}\\rangle_{s}\\langle z_{+}||z_{-}\\rangle_{s}\\langle z_{-}|\\otimes\\mathbb{I}_{a}\\sigma_{x}^{a} + |z_{-}\\rangle_{s}\\langle z_{-}||z_{+}\\rangle_{s}\\langle z_{+}|\\otimes\\sigma_{x}^{a} + |z_{-}\\rangle_{s}\\langle z_{-}||z_{-}\\rangle_{s}\\langle z_{-}|\\otimes\\sigma_{x}^{a}\\sigma_{x}^{a} \\\\\n",
    "&= |z_{+}\\rangle_{s}1\\langle z_{+}|\\otimes\\mathbb{I}_{a} + |z_{+}\\rangle_{s}0\\langle z_{-}|\\otimes\\sigma_{x}^{a} + |z_{-}\\rangle_{s}0\\langle z_{+}|\\otimes\\sigma_{x}^{a} + |z_{-}\\rangle_{s}1\\langle z_{-}|\\otimes\\mathbb{I}_{a} \\\\\n",
    "&= (|z_{+}\\rangle_{s}\\langle z_{+}| + |z_{-}\\rangle_{s}\\langle z_{-}|)\\otimes\\mathbb{I}_{a} = \\mathbb{I}_{s}\\otimes\\mathbb{I}_{a}.\n",
    "\\end{align}"
   ]
  },
  {
   "cell_type": "markdown",
   "metadata": {},
   "source": [
    "---\n",
    "$8.$ Verifique que $CNOT_{s\\rightarrow a}|z_{-}\\rangle_{s}\\otimes|z_{+}\\rangle_{a} = |z_{-}\\rangle_{s}\\otimes|z_{-}\\rangle_{a}$, com $CNOT_{s\\rightarrow a}$ dada na questão anterior."
   ]
  },
  {
   "cell_type": "markdown",
   "metadata": {},
   "source": [
    "_SOL._ \\begin{align}\n",
    "CNOT_{s\\rightarrow a}|z_{-}\\rangle_{s}\\otimes|z_{+}\\rangle_{a}  & \\big(|z_{+}\\rangle_{s}\\langle z_{+}|\\otimes\\mathbb{I}_{a}+|z_{-}\\rangle_{s}\\langle z_{-}|\\otimes\\sigma_{x}^{a}\\big)|z_{-}\\rangle_{s}\\otimes|z_{+}\\rangle_{a} \\\\\n",
    "& = |z_{+}\\rangle_{s}\\langle z_{+}||z_{-}\\rangle_{s}\\otimes\\mathbb{I}_{a}|z_{+}\\rangle_{a} + |z_{-}\\rangle_{s}\\langle z_{-}||z_{-}\\rangle_{s}\\otimes\\sigma_{x}^{a}|z_{+}\\rangle_{a} \\\\\n",
    "& = |z_{+}\\rangle_{s}0\\otimes\\mathbb{I}_{a}|z_{+}\\rangle_{a} + |z_{-}\\rangle_{s}1\\otimes|z_{-}\\rangle_{a} = |z_{-}\\rangle_{s}\\otimes|z_{-}\\rangle_{a}.\n",
    "\\end{align}"
   ]
  },
  {
   "cell_type": "markdown",
   "metadata": {},
   "source": [
    "---\n",
    "$9.$ Para $c_{\\pm}\\in\\mathbb{C}$ e $|\\psi\\rangle_{S}=c_{+}|z_{+}\\rangle_{S}+c_{-}|z_{-}\\rangle_{S}$, com $S=s,a$, verifique que a única maneira de termos $CNOT_{s\\rightarrow a}|\\psi\\rangle_{s}\\otimes|z_{+}\\rangle_{a}=c_{+}|z_{+}\\rangle_{s}\\otimes|z_{+}\\rangle_{a}+c_{-}|z_{-}\\rangle_{s}\\otimes|z_{-}\\rangle_{a}=|\\psi\\rangle_{s}\\otimes|\\psi\\rangle_{a}$ é com $c_{+}=1,c_{-}=0$ ou com $c_{+}=0,c_{-}=1$."
   ]
  },
  {
   "cell_type": "markdown",
   "metadata": {},
   "source": [
    "_SOL._ Teremos que $|\\psi\\rangle_{s}\\otimes|\\psi\\rangle_{a} = (c_{+}|z_{+}\\rangle_{s}+c_{-}|z_{-}\\rangle_{s})\\otimes(c_{+}|z_{+}\\rangle_{a}+c_{-}|z_{-}\\rangle_{a}) = c_{+}^{2}|z_{+}\\rangle_{s}\\otimes|z_{+}\\rangle_{a} +c_{+}c_{-}|z_{+}\\rangle_{s}\\otimes|z_{-}\\rangle_{a}+c_{-}c_{+}|z_{-}\\rangle_{s}\\otimes|z_{-}\\rangle_{a}+c_{-}^{2}|z_{-}\\rangle_{s}\\otimes|z_{-}\\rangle_{a}$. Para que este estado seja igual a $CNOT_{s\\rightarrow a}|\\psi\\rangle_{s}\\otimes|z_{+}\\rangle_{a}$ deveríamos ter\n",
    "\\begin{cases}\n",
    "c_{+}^{2}=c_{+}, \\\\\n",
    "c_{+}c_{-}=0, \\\\\n",
    "c_{-}c_{+}=0, \\\\\n",
    "c_{-}^{2}=c_{-},\n",
    "\\end{cases}\n",
    "que são satisfeitas somente se \n",
    "\\begin{cases}\n",
    "c_{+}=1 \\text{ e } c_{-}=0 \\\\\n",
    "\\text{ou}\\\\\n",
    "c_{+}=0 \\text{ e } c_{-}=1.\n",
    "\\end{cases}"
   ]
  },
  {
   "cell_type": "markdown",
   "metadata": {},
   "source": [
    "---\n",
    "$10.$ Se Alice quer mandar a mensagem $Q\\equiv 1010001$ pra Bob e a chave criptográfica compartilhada é $C\\equiv 1110111$, qual é a mensagem criptografada $K$ que será enviada por Alice através de um canal clássico de comunicação?"
   ]
  },
  {
   "cell_type": "markdown",
   "metadata": {},
   "source": [
    "_SOL._ Temos que $Q\\oplus C = K = 1010001\\oplus 1110111 = 11001000.$ "
   ]
  }
 ],
 "metadata": {
  "kernelspec": {
   "display_name": "Python 3 (ipykernel)",
   "language": "python",
   "name": "python3"
  },
  "language_info": {
   "codemirror_mode": {
    "name": "ipython",
    "version": 3
   },
   "file_extension": ".py",
   "mimetype": "text/x-python",
   "name": "python",
   "nbconvert_exporter": "python",
   "pygments_lexer": "ipython3",
   "version": "3.11.1"
  }
 },
 "nbformat": 4,
 "nbformat_minor": 4
}
