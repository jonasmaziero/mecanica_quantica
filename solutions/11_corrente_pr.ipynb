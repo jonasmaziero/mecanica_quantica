{
 "cells": [
  {
   "cell_type": "markdown",
   "metadata": {},
   "source": [
    "### Notas de aula de Mecânica Quântica <br> Autor: Jonas Maziero\n",
    "\n",
    "# Exercícios"
   ]
  },
  {
   "cell_type": "markdown",
   "metadata": {},
   "source": [
    "---\n",
    "$1.$ Verifique que $(\\partial_{\\alpha}f)^{*}=\\partial_{\\alpha}f^{*}$ para $f=f(\\vec{r},t)$ e $\\alpha=x,y,z,t$."
   ]
  },
  {
   "cell_type": "markdown",
   "metadata": {},
   "source": [
    "_SOL._ Temos que\n",
    "\\begin{align}\n",
    "\\partial_{\\alpha}f^{*} &= \\frac{f^{*}(\\alpha+\\delta \\alpha)-f^{*}(\\alpha)}{\\delta \\alpha} \\\\\n",
    "& = \\frac{(f(\\alpha+\\delta \\alpha)-f(\\alpha))^{*}}{(\\delta \\alpha)^{*}} \\\\\n",
    "& = \\left(\\frac{f(\\alpha+\\delta \\alpha)-f(\\alpha)}{\\delta \\alpha}\\right)^{*} \\\\\n",
    "&= \\left(\\partial_{\\alpha}f\\right)^{*}.\n",
    "\\end{align}"
   ]
  },
  {
   "cell_type": "markdown",
   "metadata": {},
   "source": [
    "---\n",
    "$2.$ Verifique que $\\vec{\\nabla}\\cdot(f\\vec{\\nabla}g)=(\\vec{\\nabla}f)\\cdot(\\vec{\\nabla}g)+f\\nabla^{2}g$  para $f=f(\\vec{r},t)$ e $g=g(\\vec{r},t)$."
   ]
  },
  {
   "cell_type": "markdown",
   "metadata": {},
   "source": [
    "_SOL._ Usando $\\vec{\\nabla}=\\sum_{j=1}^{3}\\hat{e}_{j}\\partial_{x_{j}}$ teremos\n",
    "\\begin{align}\n",
    "\\vec{\\nabla}\\cdot(f\\vec{\\nabla}g) &= \\sum_{j=1}^{3}\\hat{e}_{j}\\partial_{x_{j}}\\cdot(f\\sum_{j=k}^{3}\\hat{e}_{k}\\partial_{x_{k}}g) \\\\\n",
    "& = \\sum_{j,k=1}^{3}\\hat{e}_{j}\\cdot\\hat{e}_{k}\\left((\\partial_{x_{j}}f)(\\partial_{x_{k}}g)+f\\partial_{x_{j}}\\partial_{x_{k}}g\\right) \\\\\n",
    "&= \\sum_{j,k=1}^{3}\\delta_{j,k}\\left((\\partial_{x_{j}}f)(\\partial_{x_{k}}g)+f\\partial_{x_{j}}\\partial_{x_{k}}g\\right) \\\\\n",
    "& = \\sum_{j=1}^{3}\\left((\\partial_{x_{j}}f)(\\partial_{x_{j}}g)+f\\partial_{x_{j}}\\partial_{x_{j}}g\\right) \\\\\n",
    "&=(\\vec{\\nabla}f)\\cdot(\\vec{\\nabla}g)+f\\nabla^{2}g.\n",
    "\\end{align}"
   ]
  },
  {
   "cell_type": "markdown",
   "metadata": {},
   "source": [
    "---\n",
    "3. Analogamente ao que fizemos no caso unidimensional, obtenha as expressões simplificadas para a densidade de corrente de probabilidade e para a equação da continuidade no caso bidimensional, i.e., para $\\Psi=\\Psi(x,y,t)$."
   ]
  },
  {
   "cell_type": "markdown",
   "metadata": {},
   "source": [
    "_SOL._ No caso bidimensional temos a corrente de probabilidade\n",
    "\\begin{align}\n",
    "\\vec{J} & = \\frac{h}{m}\\Im\\big(\\Psi^*(\\hat{i}\\partial_x + \\hat{j}\\partial_y)\\Psi\\Big) = \\frac{h}{m}\\Im\\big(\\hat{i}\\Psi^* \\partial_x \\Psi + \\hat{j}\\Psi^* \\partial_y \\Psi\\Big) \\\\\n",
    "& = \\hat{i} J_x + \\hat{j} J_y + \\hat{k}0.\n",
    "\\end{align}\n",
    "\n",
    "A equação da continuidade fica escrita como segue\n",
    "\\begin{align}\n",
    "\\partial_t \\rho & = -\\vec{\\nabla}\\cdot\\vec{J} \\\\\n",
    "& = -\\partial_x J_x - \\partial_y J_y \\\\\n",
    "& = -\\frac{\\hbar}{m}\\Big(\\partial_x\\Im(\\Psi^* \\partial_x \\Psi) + \\partial_y\\Im(\\Psi^* \\partial_y \\Psi)\\Big).\n",
    "\\end{align}"
   ]
  }
 ],
 "metadata": {
  "kernelspec": {
   "display_name": "Python 3 (ipykernel)",
   "language": "python",
   "name": "python3"
  },
  "language_info": {
   "codemirror_mode": {
    "name": "ipython",
    "version": 3
   },
   "file_extension": ".py",
   "mimetype": "text/x-python",
   "name": "python",
   "nbconvert_exporter": "python",
   "pygments_lexer": "ipython3",
   "version": "3.11.1"
  }
 },
 "nbformat": 4,
 "nbformat_minor": 4
}
