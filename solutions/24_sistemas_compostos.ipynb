{
 "cells": [
  {
   "cell_type": "markdown",
   "metadata": {},
   "source": [
    "### Notas de aula de Mecânica Quântica <br> Autor: Jonas Maziero\n",
    "\n",
    "# Exercícios"
   ]
  },
  {
   "cell_type": "markdown",
   "metadata": {},
   "source": [
    "---\n",
    "$1.$ Verifique a igualdade $(A\\otimes B)(C\\otimes D)=AC\\otimes BD$ para $A,C\\in\\mathbb{C}^{m\\mathrm{x}n}$ e $B,D\\in\\mathbb{C}^{p\\mathrm{x}q}$ com $m,n,p,q\\in\\mathbb{N}_{>1}$."
   ]
  },
  {
   "cell_type": "markdown",
   "metadata": {},
   "source": [
    "_SOL._ Teremos\n",
    "\\begin{align}\n",
    "(A\\otimes B)(C\\otimes D) & = \\begin{bmatrix}A_{1,1}B & A_{1,2}B & \\cdots \\\\ A_{2,1}B & A_{2,2}B & \\cdots \\\\ \\vdots & \\vdots & \\vdots\\end{bmatrix} \\begin{bmatrix}C_{1,1}D & C_{1,2}D & \\cdots \\\\ C_{2,1}D & C_{2,2}D & \\cdots \\\\ \\vdots & \\vdots & \\vdots\\end{bmatrix} \\\\\n",
    "& = \\begin{bmatrix}(A_{1,1}BC_{1,1}D+A_{1,2}BC_{2,1}D+\\cdots) & (A_{1,1}BC_{1,2}D+A_{1,2}BC_{2,2}D+\\cdots)& \\cdots \\\\ (A_{2,1}BC_{1,1}D+A_{2,2}BC_{2,1}D+\\cdots) & (A_{2,1}BC_{1,2}D+A_{2,2}BC_{2,2}D+\\cdots) & \\cdots \\\\ \\vdots & \\vdots & \\vdots\\end{bmatrix} \\\\\n",
    "& = \\begin{bmatrix}(A_{1,1}C_{1,1}+A_{1,2}C_{2,1}+\\cdots)BD & (A_{1,1}C_{1,2}+A_{1,2}C_{2,2}+\\cdots)BD & \\cdots \\\\ (A_{2,1}C_{1,1}+A_{2,2}C_{2,1}+\\cdots)BD & (A_{2,1}C_{1,2}+A_{2,2}C_{2,2}+\\cdots)BD & \\cdots \\\\ \\vdots & \\vdots & \\vdots\\end{bmatrix} \\\\\n",
    "& = \\begin{bmatrix}(A_{1,1}C_{1,1}+A_{1,2}C_{2,1}+\\cdots) & (A_{1,1}C_{1,2}+A_{1,2}C_{2,2}+\\cdots) & \\cdots \\\\ (A_{2,1}C_{1,1}+A_{2,2}C_{2,1}+\\cdots) & (A_{2,1}C_{1,2}+A_{2,2}C_{2,2}+\\cdots) & \\cdots \\\\ \\vdots & \\vdots & \\vdots\\end{bmatrix}\\otimes BD \\\\\n",
    "& = AC\\otimes BD.\n",
    "\\end{align}"
   ]
  },
  {
   "cell_type": "markdown",
   "metadata": {},
   "source": [
    "---\n",
    "$2.$ Verifique a igualdade $(A\\otimes B)^{\\dagger}=A^{\\dagger}\\otimes B^{\\dagger}$ para $A\\in\\mathbb{C}^{m\\mathrm{x}n}$ e $B\\in\\mathbb{C}^{p\\mathrm{x}q}$ com $m,n,p,q\\in\\mathbb{N}_{>1}$."
   ]
  },
  {
   "cell_type": "markdown",
   "metadata": {},
   "source": [
    "_SOL._ Usando \n",
    "\\begin{equation}\n",
    "A\\otimes B = \\begin{bmatrix} \n",
    "A_{1,1}B_{1,1} & \\cdots & A_{1,1}B_{1,q} & A_{1,2}B_{1,1} & \\cdots  & A_{1,2}B_{1,q} & \\cdots\n",
    "\\\\ \\vdots & \\ddots & \\vdots & \\vdots & \\ddots & \\cdots & \\cdots\n",
    "\\\\ A_{1,1}B_{p,1} & \\cdots & A_{1,1}B_{p,q} & A_{1,2}B_{p,1} & \\cdots  & A_{1,2}B_{p,q} & \\cdots\n",
    "\\\\ A_{2,1}B_{1,1} & \\cdots & A_{2,1}B_{1,q} & A_{2,2}B_{1,1} & \\cdots  & A_{2,2}B_{1,q} & \\cdots\n",
    "\\\\ \\vdots & \\ddots & \\vdots & \\vdots & \\ddots & \\vdots & \\cdots\n",
    "\\\\ A_{2,1}B_{p,1} & \\cdots & A_{2,1}B_{p,q} & A_{2,2}B_{p,1} & \\cdots  & A_{2,2}B_{p,q} & \\cdots\n",
    "\\\\ \\vdots & \\vdots & \\vdots & \\vdots & \\vdots & \\vdots & \\ddots\n",
    "\\end{bmatrix}. \n",
    "\\end{equation}\n",
    "teremos\n",
    "\\begin{align}\n",
    "(A\\otimes B)^{\\dagger} & = \\begin{bmatrix} \n",
    "A_{1,1}^{*}B_{1,1}^{*} & \\cdots & A_{1,1}^{*}B_{p,1}^{*} & A_{2,1}^{*}B_{1,1}^{*} & \\cdots  & A_{2,1}^{*}B_{p,1}^{*} & \\cdots\n",
    "\\\\ \\vdots & \\ddots & \\vdots & \\vdots & \\ddots & \\cdots & \\cdots\n",
    "\\\\ A_{1,1}^{*}B_{1,q}^{*} & \\cdots & A_{1,1}^{*}B_{p,q}^{*} & A_{2,1}^{*}B_{1,q}^{*} & \\cdots  & A_{2,1}^{*}B_{p,q}^{*} & \\cdots\n",
    "\\\\ A_{1,2}^{*}B_{1,1}^{*} & \\cdots & A_{1,2}^{*}B_{p,1}^{*} & A_{2,2}^{*}B_{1,1}^{*} & \\cdots  & A_{2,2}^{*}B_{p,1}^{*} & \\cdots\n",
    "\\\\ \\vdots & \\ddots & \\vdots & \\vdots & \\ddots & \\vdots & \\cdots\n",
    "\\\\ A_{1,2}^{*}B_{1,q}^{*} & \\cdots & A_{1,2}^{*}B_{p,q}^{*} & A_{2,2}^{*}B_{1,q}^{*} & \\cdots  & A_{2,2}^{*}B_{p,q}^{*} & \\cdots\n",
    "\\\\ \\vdots & \\vdots & \\vdots & \\vdots & \\vdots & \\vdots & \\ddots\n",
    "\\end{bmatrix} \\\\\n",
    "&= \\begin{bmatrix} A_{1,1}^{*} & A_{2,1}^{*} & \\cdots \\\\ A_{1,2}^{*} & A_{2,2}^{*} & \\cdots \\\\ \\vdots & \\vdots & \\ddots \\end{bmatrix}\\otimes\\begin{bmatrix} B_{1,1}^{*} & \\cdots & B_{p,1}^{*} \\\\ \\vdots & \\ddots & \\vdots \\\\ B_{1,q}^{*} & \\cdots & A_{p,q}^{*} \\end{bmatrix} = A^{\\dagger}\\otimes B^{\\dagger}.\n",
    "\\end{align}"
   ]
  },
  {
   "cell_type": "markdown",
   "metadata": {},
   "source": [
    "---\n",
    "$3.$ Forneça a representação matricial do vetor de estado $|z_{-}\\rangle\\otimes|z_{-}\\rangle$ na base $\\{|z_{+}\\rangle\\otimes|z_{+}\\rangle, |z_{+}\\rangle\\otimes|z_{-}\\rangle, |z_{-}\\rangle\\otimes|z_{+}\\rangle, |z_{-}\\rangle\\otimes|z_{-}\\rangle\\}$."
   ]
  },
  {
   "cell_type": "markdown",
   "metadata": {},
   "source": [
    "_SOL._ Aplicando a definição\n",
    "\\begin{equation}\n",
    "|z_{-}\\rangle\\otimes|z_{-}\\rangle \\doteq \\begin{bmatrix} (\\langle z_{+}|\\otimes\\langle z_{+}|)(|z_{-}\\rangle\\otimes|z_{-}\\rangle) \\\\ (\\langle z_{+}|\\otimes\\langle z_{-}|)(|z_{-}\\rangle\\otimes|z_{-}\\rangle) \\\\ (\\langle z_{-}|\\otimes\\langle z_{+}|)(|z_{-}\\rangle\\otimes|z_{-}\\rangle) \\\\ (\\langle z_{-}|\\otimes\\langle z_{-}|)(|z_{-}\\rangle\\otimes|z_{-}\\rangle) \\end{bmatrix} \n",
    "= \\begin{bmatrix} \\langle z_{+}|z_{-}\\rangle\\otimes\\langle z_{+}|z_{-}\\rangle \\\\ \\langle z_{+}|z_{-}\\rangle\\otimes\\langle z_{-}|z_{-}\\rangle \\\\ \\langle z_{-}||z_{-}\\rangle\\otimes\\langle z_{+}|z_{-}\\rangle \\\\ \\langle z_{-}|z_{-}\\rangle\\otimes\\langle z_{-}|z_{-}\\rangle \\end{bmatrix}\n",
    "= \\begin{bmatrix} 0 \\\\ 0 \\\\ 0 \\\\ 1 \\end{bmatrix}.\n",
    "\\end{equation}"
   ]
  },
  {
   "cell_type": "markdown",
   "metadata": {},
   "source": [
    "---\n",
    "$4.$ Verifique que para $\\hat{n} = \\hat{k}$, o Hamiltoniano da interação dipolar magnética pode ser escrito como $H_{dd} = (\\hbar D/2)(\\sigma_{1}\\otimes\\sigma_{1}+\\sigma_{2}\\otimes\\sigma_{2}-2\\sigma_{3}\\otimes\\sigma_{3})$."
   ]
  },
  {
   "cell_type": "markdown",
   "metadata": {},
   "source": [
    "_SOL._ Aqui, usando o Hamiltoniano original $H_{dd}= (\\hbar D/2)\\left((\\vec{\\sigma}_{a}\\otimes\\sigma_{0}^{b})\\cdot(\\sigma_{0}^{a}\\otimes\\vec{\\sigma}_{b})-3(\\hat{n}\\cdot(\\vec{\\sigma}_{a}\\otimes\\sigma_{0}^{b}))(\\hat{n}\\cdot(\\sigma_{0}^{a}\\otimes\\vec{\\sigma}_{b}))\\right),$ teremos\n",
    "\\begin{align}\n",
    "H_{dd} &= \\frac{\\hbar D}{2}\\left((\\sum_{j=1}^{3}\\hat{e}_{j}\\sigma_{j}^{a}\\otimes\\sigma_{0}^{b})\\cdot(\\sigma_{0}^{a}\\otimes\\sum_{k=1}^{3}\\hat{e}_{k}\\sigma_{k}^{b})-3(\\hat{e}_{3}\\cdot(\\sum_{j=1}^{3}\\hat{e}_{j}\\sigma_{j}^{a}\\otimes\\sigma_{0}^{b}))(\\hat{e}_{3}\\cdot(\\sigma_{0}^{a}\\otimes\\sum_{k=1}^{3}\\hat{e}_{k}\\sigma_{k}^{b}))\\right) \\\\\n",
    "&= \\frac{\\hbar D}{2}\\left(\\sum_{j,k=1}^{3}\\hat{e}_{j}\\cdot\\hat{e}_{k}\\sigma_{j}^{a}\\sigma_{0}^{a}\\otimes\\sigma_{0}^{b}\\sigma_{k}^{b} - 3\\big(\\sum_{j=1}^{3}\\hat{e}_{3}\\cdot\\hat{e}_{j}\\sigma_{j}^{a}\\otimes\\sigma_{0}^{b}\\big)\\big(\\sum_{k=1}^{3}\\hat{e}_{3}\\cdot\\hat{e}_{k}\\sigma_{0}^{a}\\otimes\\sigma_{k}^{b}\\big)\\right) \\\\\n",
    "&= \\frac{\\hbar D}{2}\\left(\\sum_{j,k=1}^{3}\\delta_{j,k}\\sigma_{j}^{a}\\otimes\\sigma_{k}^{b} - 3\\big(\\sum_{j=1}^{3}\\delta_{3,j}\\sigma_{j}^{a}\\otimes\\sigma_{0}^{b}\\big)\\big(\\sum_{k=1}^{3}\\delta_{3,k}\\sigma_{0}^{a}\\otimes\\sigma_{k}^{b}\\big)\\right) \\\\\n",
    "&= \\frac{\\hbar D}{2}\\left(\\sum_{j=1}^{3}\\sigma_{j}^{a}\\otimes\\sigma_{j}^{b} - 3\\big(\\sigma_{3}^{a}\\otimes\\sigma_{0}^{b}\\big)\\big(\\sigma_{0}^{a}\\otimes\\sigma_{3}^{b}\\big)\\right) \\\\\n",
    "&= \\frac{\\hbar D}{2}\\left(\\sigma_{1}^{a}\\otimes\\sigma_{1}^{b} + \\sigma_{2}^{a}\\otimes\\sigma_{2}^{b} + \\sigma_{3}^{a}\\otimes\\sigma_{3}^{b} - 3\\sigma_{3}^{a}\\sigma_{0}^{a}\\otimes\\sigma_{0}^{b}\\sigma_{3}^{b}\\right) \\\\\n",
    "&= \\frac{\\hbar D}{2}\\left(\\sigma_{1}^{a}\\otimes\\sigma_{1}^{b} + \\sigma_{2}^{a}\\otimes\\sigma_{2}^{b} - 2\\sigma_{3}^{a}\\otimes\\sigma_{3}^{b}\\right).\n",
    "\\end{align}"
   ]
  },
  {
   "cell_type": "markdown",
   "metadata": {},
   "source": [
    "---\n",
    "$5.$ Obtenha a representação matricial do Hamiltoniano $H_{dd}$, da última questão, na base $\\{|z_{+}\\rangle\\otimes|z_{+}\\rangle, |z_{+}\\rangle\\otimes|z_{-}\\rangle, |z_{-}\\rangle\\otimes|z_{+}\\rangle, |z_{-}\\rangle\\otimes|z_{-}\\rangle\\}$."
   ]
  },
  {
   "cell_type": "markdown",
   "metadata": {},
   "source": [
    "_SOL._ Aqui usaremos a representação matricial de $\\{\\sigma_{j}\\}_{j=1}^{3}$ na base padrão $\\{|z_{+}\\rangle,|z_{-}\\rangle\\},$\n",
    "\\begin{align}\n",
    "\\sigma_{1} = \\begin{bmatrix}0&1\\\\1&0\\end{bmatrix}\\text{, }\\sigma_{2} = \\begin{bmatrix}0&-i\\\\i&0\\end{bmatrix} \\text{, }\\sigma_{3} = \\begin{bmatrix}1&0\\\\0&-1\\end{bmatrix},\n",
    "\\end{align}\n",
    "para obter\n",
    "\\begin{align}\n",
    "& \\sigma_{1}\\otimes\\sigma_{1} = \\begin{bmatrix}0&1\\\\1&0\\end{bmatrix}\\otimes\\begin{bmatrix}0&1\\\\1&0\\end{bmatrix} = \\begin{bmatrix}0&0&0&1\\\\0&0&1&0\\\\0&1&0&0\\\\1&0&0&0\\end{bmatrix}, \\\\\n",
    "& \\sigma_{2}\\otimes\\sigma_{2} = \\begin{bmatrix}0&-i\\\\i&0\\end{bmatrix}\\otimes\\begin{bmatrix}0&-i\\\\i&0\\end{bmatrix} = \\begin{bmatrix}0&0&0&-1\\\\0&0&1&0\\\\0&1&0&0\\\\-1&0&0&0\\end{bmatrix}, \\\\\n",
    "& \\sigma_{3}\\otimes\\sigma_{3} = \\begin{bmatrix}1&0\\\\0&-1\\end{bmatrix}\\otimes\\begin{bmatrix}1&0\\\\0&-1\\end{bmatrix} = \\begin{bmatrix}1&0&0&0\\\\0&-1&0&0\\\\0&0&-1&0\\\\0&0&0&1\\end{bmatrix}, \\\\\n",
    "\\end{align}\n",
    "na base $\\{|z_{+}\\rangle\\otimes|z_{+}\\rangle, |z_{+}\\rangle\\otimes|z_{-}\\rangle, |z_{-}\\rangle\\otimes|z_{+}\\rangle, |z_{-}\\rangle\\otimes|z_{-}\\rangle\\}.$ Assim\n",
    "\\begin{align}\n",
    "H_{dd} &= \\frac{\\hbar D}{2}\\left(\\sigma_{1}^{a}\\otimes\\sigma_{1}^{b} + \\sigma_{2}^{a}\\otimes\\sigma_{2}^{b} - 2\\sigma_{3}^{a}\\otimes\\sigma_{3}^{b}\\right) \\\\\n",
    "&= \\frac{\\hbar D}{2}\\left(\\begin{bmatrix}0&0&0&1\\\\0&0&1&0\\\\0&1&0&0\\\\1&0&0&0\\end{bmatrix} + \\begin{bmatrix}0&0&0&-1\\\\0&0&1&0\\\\0&1&0&0\\\\-1&0&0&0\\end{bmatrix} -2\\begin{bmatrix}1&0&0&0\\\\0&-1&0&0\\\\0&0&-1&0\\\\0&0&0&1\\end{bmatrix}\\right) \\\\\n",
    "& = \\frac{\\hbar D}{2}\\begin{bmatrix}-2&0&0&0\\\\0&2&2&0\\\\0&2&2&0\\\\0&0&0&-2\\end{bmatrix} \\\\\n",
    "& = \\hbar D\\begin{bmatrix}-1&0&0&0\\\\0&1&1&0\\\\0&1&1&0\\\\0&0&0&-1\\end{bmatrix}.\n",
    "\\end{align}"
   ]
  },
  {
   "cell_type": "markdown",
   "metadata": {},
   "source": [
    "---\n",
    "$6.$ Verifique que a base de Bell $\\{|\\Psi_{\\pm}\\rangle,|\\Phi_{\\pm}\\rangle\\}$ é uma base ortonormal completa para $\\mathbb{C}^{4}$."
   ]
  },
  {
   "cell_type": "markdown",
   "metadata": {},
   "source": [
    "_SOL._ Lembrando, na base padrão $|\\Psi_{\\pm}\\rangle=(|z_{+}\\rangle\\otimes|z_{-}\\rangle\\pm |z_{-}\\rangle\\otimes|z_{+}\\rangle)/\\sqrt{2}$ e $|\\Phi_{\\pm}\\rangle=(|z_{+}\\rangle\\otimes|z_{+}\\rangle\\pm |z_{-}\\rangle\\otimes|z_{-}\\rangle)/\\sqrt{2}$. Usando a notação $|z_{+}\\rangle=:|0\\rangle$ e $|z_{-}\\rangle=:|1\\rangle$ e $|\\psi\\rangle\\otimes|\\phi\\rangle=:|\\psi,\\phi\\rangle$ podemos verificar que qualquer um destes estados pode ser escrito como \n",
    "$$|\\beta_{j,k}\\rangle=2^{-1/2}\\big(|0,j\\rangle+(-1)^{k}|1,1\\oplus j\\rangle\\big),$$ com \n",
    "$$|\\beta_{0,0}\\rangle=|\\Phi_{+}\\rangle,|\\beta_{0,1}\\rangle=|\\Phi_{-}\\rangle,|\\beta_{1,0}\\rangle=|\\Psi_{+}\\rangle,|\\beta_{1,1}\\rangle=|\\Psi_{-}\\rangle.$$\n",
    "Assim, teremos que\n",
    "\\begin{align}\n",
    "\\langle\\beta_{j,k}|\\beta_{l,m}\\rangle &= 2^{-1}\\big(\\langle 0,j|+(-1)^{k}\\langle 1,1\\oplus j|\\big)\\big(|0,l\\rangle+(-1)^{m}|1,1\\oplus l\\rangle\\big) \\\\\n",
    "&= 2^{-1}\\big(\\langle 0,j||0,l\\rangle+(-1)^{k}\\langle 1,1\\oplus j||0,l\\rangle +(-1)^{m}\\langle 0,j||1,1\\oplus l\\rangle+(-1)^{k}(-1)^{m}\\langle 1,1\\oplus j||1,1\\oplus l\\rangle\\big) \\\\\n",
    "&= 2^{-1}\\big(1\\delta_{j,l}+(-1)^{k}0\\delta_{1\\oplus j,l} +(-1)^{m}0\\delta_{j,1\\oplus l}+(-1)^{k+m}1\\delta_{1\\oplus j,1\\oplus l}\\big) \\\\\n",
    "&= 2^{-1}\\big(\\delta_{j,l}+0 +0+(-1)^{k+m}\\delta_{j,l}\\big) = 2^{-1}\\delta_{j,l}\\big(1+(-1)^{k+m}\\big) \\\\\n",
    "& = 2^{-1}\\delta_{j,l}2\\delta_{k,m} = \\delta_{j,l}\\delta_{k,m}.\n",
    "\\end{align}"
   ]
  },
  {
   "cell_type": "markdown",
   "metadata": {},
   "source": [
    "---\n",
    "$7.$ Verifique que $\\langle\\Psi_{+}|(|z_{+}\\rangle\\otimes|z_{-}\\rangle) = 2^{-1/2}$ e que $\\langle\\Phi_{+}|(|z_{+}\\rangle\\otimes|z_{-}\\rangle) = \\langle\\Phi_{-}|(|z_{+}\\rangle\\otimes|z_{-}\\rangle) = 0$."
   ]
  },
  {
   "cell_type": "markdown",
   "metadata": {},
   "source": [
    "_SOL._ Aqui teremos que\n",
    "\\begin{align}\n",
    "\\langle\\Psi_{+}|(|z_{+}\\rangle\\otimes|z_{-}\\rangle) &= 2^{-1/2}\\big(\\langle z_{+}|\\otimes\\langle z_{-}|+\\langle z_{-}|\\otimes\\langle z_{+}|\\big)(|z_{+}\\rangle\\otimes|z_{-}\\rangle)  = 2^{-1/2}\\big(\\langle z_{+}||z_{+}\\rangle\\otimes\\langle z_{-}||z_{-}\\rangle+\\langle z_{-}||z_{+}\\rangle\\otimes\\langle z_{+}||z_{-}\\rangle\\big) \\\\\n",
    "& = 2^{-1/2}\\big(1\\otimes1+0\\otimes0\\big) = 2^{-1/2}, \\\\\n",
    "\\langle\\Phi_{+}|(|z_{+}\\rangle\\otimes|z_{-}\\rangle) &= 2^{-1/2}\\big(\\langle z_{+}|\\otimes\\langle z_{+}|+\\langle z_{-}|\\otimes\\langle z_{-}|\\big)(|z_{+}\\rangle\\otimes|z_{-}\\rangle)  = 2^{-1/2}\\big(\\langle z_{+}||z_{+}\\rangle\\otimes\\langle z_{+}||z_{-}\\rangle+\\langle z_{-}||z_{+}\\rangle\\otimes\\langle z_{-}||z_{-}\\rangle\\big) \\\\\n",
    "& = 2^{-1/2}\\big(1\\otimes0+0\\otimes1\\big) = 0, \\\\\n",
    "\\langle\\Phi_{-}|(|z_{+}\\rangle\\otimes|z_{-}\\rangle) &= 2^{-1/2}\\big(\\langle z_{+}|\\otimes\\langle z_{+}|-\\langle z_{-}|\\otimes\\langle z_{-}|\\big)(|z_{+}\\rangle\\otimes|z_{-}\\rangle)  = 2^{-1/2}\\big(\\langle z_{+}||z_{+}\\rangle\\otimes\\langle z_{+}||z_{-}\\rangle-\\langle z_{-}||z_{+}\\rangle\\otimes\\langle z_{-}||z_{-}\\rangle\\big) \\\\\n",
    "& = 2^{-1/2}\\big(1\\otimes0-0\\otimes1\\big) = 0.\n",
    "\\end{align}"
   ]
  },
  {
   "cell_type": "markdown",
   "metadata": {},
   "source": [
    "---\n",
    "$8.$ Partindo do operador densidade $\\rho_{ab} = \\cos^{2}(Dt)|z_{+}\\rangle\\langle z_{+}|\\otimes|z_{-}\\rangle\\langle z_{-}| + \\sin^{2}(Dt)|z_{-}\\rangle\\langle z_{-}|\\otimes|z_{+}\\rangle\\langle z_{+}| + (i\\sin(Dt)\\cos(Dt)|z_{+}\\rangle\\langle z_{-}|\\otimes|z_{-}\\rangle\\langle z_{+}|+t.c.)$ do sistema composto $\\mathcal{H}_{ab}$, use o traço parcial para obter o estado reduzido $\\rho_{b}$ do subsistema $\\mathcal{H}_{b}$."
   ]
  },
  {
   "cell_type": "markdown",
   "metadata": {},
   "source": [
    "_SOL._ Aplicando uma das definições de traço parcial apresentadas nas notas de aula teremos\n",
    "\\begin{align}\n",
    "\\rho_{b} &= Tr_{a}(\\rho_{ab}) \\\\\n",
    "&= \\cos^{2}(Dt)Tr_{a}(|z_{+}\\rangle\\langle z_{+}|)\\otimes |z_{-}\\rangle\\langle z_{-}| + \\sin^{2}(Dt)Tr_{a}(|z_{-}\\rangle\\langle z_{-}|)\\otimes|z_{+}\\rangle\\langle z_{+}| \\\\\n",
    "&\\hspace{0.5cm}+ i\\sin(Dt)\\cos(Dt)Tr_{a}(|z_{+}\\rangle\\langle z_{-}|)\\otimes|z_{-}\\rangle\\langle z_{+}|-i\\sin(Dt)\\cos(Dt)Tr_{a}(|z_{-}\\rangle\\langle z_{+}|)\\otimes|z_{+}\\rangle\\langle z_{-}| \\\\\n",
    "&= \\cos^{2}(Dt)\\langle z_{+}|z_{+}\\rangle\\otimes|z_{-}\\rangle\\langle z_{-}| + \\sin^{2}(Dt)\\langle z_{-}|z_{-}\\rangle\\otimes|z_{+}\\rangle\\langle z_{+}| \\\\\n",
    "&\\hspace{0.5cm}+ i\\sin(Dt)\\cos(Dt)\\langle z_{-}|z_{+}\\rangle\\otimes|z_{-}\\rangle\\langle z_{+}| -i\\sin(Dt)\\cos(Dt)\\langle z_{+}|z_{-}\\rangle\\otimes|z_{+}\\rangle\\langle z_{-}| \\\\\n",
    "&= \\cos^{2}(Dt) 1\\otimes|z_{-}\\rangle\\langle z_{-}| + \\sin^{2}(Dt)1\\otimes|z_{+}\\rangle\\langle z_{+}| \\\\\n",
    "&\\hspace{0.5cm} + i\\sin(Dt)\\cos(Dt)0\\otimes|z_{+}\\rangle\\langle z_{-}| - i\\sin(Dt)\\cos(Dt)0\\otimes|z_{-}\\rangle\\langle z_{+}| \\\\\n",
    "&= \\cos^{2}(Dt)|z_{-}\\rangle\\langle z_{-}| + \\sin^{2}(Dt)|z_{+}\\rangle\\langle z_{+}|.\n",
    "\\end{align}"
   ]
  },
  {
   "cell_type": "markdown",
   "metadata": {},
   "source": [
    "---\n",
    "$9.$ Considere dois dipolos magnéticos interagindo segundo o Hamiltoniano $H_{dd}$ e em equilíbrio térmico com um ambiente com temperatura $T$. Quais são as probabilidades para as diferentes energias possíveis desses dipolos? (OBS. Aqui vocês devem usar resultados discutinos em aulas anteriores.)"
   ]
  },
  {
   "cell_type": "markdown",
   "metadata": {},
   "source": [
    "_SOL._ Como visto nas notas de aula, temos a seguinte decomposição espectral $H_{dd}= 0|\\Psi_{-}\\rangle\\langle\\Psi_{-}|+2\\hbar D|\\Psi_{+}\\rangle\\langle\\Psi_{+}|-\\hbar D(|\\Phi_{-}\\rangle\\langle\\Phi_{-}|+|\\Phi_{+}\\rangle\\langle\\Phi_{+}|).$ Como vimos nas aulas sobre operador densidade, as probabilidades são $Pr(E_{j})=e^{-\\beta E_{j}}/Z$ com $Z=\\sum_{j}e^{-\\beta E_{j}}.$ Aqui temos que\n",
    "\\begin{align}\n",
    "Z &= e^{-\\beta 0}+e^{-\\beta 2\\hbar D} +e^{-\\beta (-\\hbar D)}+e^{-\\beta (-\\hbar D)} = 1+e^{-\\beta 2\\hbar D} +2e^{\\beta\\hbar D}.\n",
    "\\end{align}\n",
    "As probabilidade são então $$Pr(0)=1/Z, Pr(2\\hbar D)=e^{-\\beta 2\\hbar D}/Z \\text{ e } Pr(-\\hbar D)=e^{\\beta\\hbar D}/Z.$$"
   ]
  },
  {
   "cell_type": "markdown",
   "metadata": {},
   "source": [
    "---\n",
    "$10.$ Mostre que se o estado de um sistema composto é descrito pelo operador densidade $\\rho_{ab}=\\sum_{j}p_{j}|\\Psi_{j}^{ab}\\rangle\\langle\\Psi_{j}^{ab}|$, e medimos um observável local $O^{a}$, as probabilidades dos seus possíveis valores são dadas por: $Pr(o_{j}^{a}|\\rho_{ab}) = \\mathrm{Tr}\\left(\\rho_{ab}\\left(|o_{j}^{(a)}\\rangle\\langle o_{j}^{(a)}|\\otimes\\mathbb{I}_{2}\\right)\\right)$. (OBS. Aqui a solução fica fácil se usar a ideia de operador densidade como representando um ensemble de estados puros.)"
   ]
  },
  {
   "cell_type": "markdown",
   "metadata": {},
   "source": [
    "_SOL._ Nas notas de aula, mostramos que para um estado global puro, $Pr\\left(o_{j}^{(a)}|\\Psi_{ab}\\right)=Tr_{ab}\\left(|\\Psi_{ab}\\rangle\\langle\\Psi_{ab}|\\left(|o_{j}^{(a)}\\rangle\\langle o_{j}^{(a)}|\\otimes\\mathbb{I}_{2}\\right)\\right).$ Para o operador densidade $\\rho_{ab}$, tomamos a média sobre os estados puros que aparecem na mistura estatística (e usamos a linearidade do traço):\n",
    "\\begin{align}\n",
    "Pr\\left(o_{j}^{(a)}|\\rho_{ab}\\right) &= \\sum_{k}p_{k}Pr\\left(o_{j}^{(a)}|\\Psi^{ab}_{k}\\right) = \\sum_{k}p_{k}Tr_{ab}\\left(|\\Psi_{k}^{ab}\\rangle\\langle\\Psi_{k}^{ab}|\\left(|o_{j}^{(a)}\\rangle\\langle o_{j}^{(a)}|\\otimes\\mathbb{I}_{2}\\right)\\right) \\\\\n",
    "& = Tr_{ab}\\left(\\sum_{k}p_{k}|\\Psi_{k}^{ab}\\rangle\\langle\\Psi_{k}^{ab}|\\left(|o_{j}^{(a)}\\rangle\\langle o_{j}^{(a)}|\\otimes\\mathbb{I}_{2}\\right)\\right) = Tr_{ab}\\left(\\rho_{ab}\\left(|o_{j}^{(a)}\\rangle\\langle o_{j}^{(a)}|\\otimes\\mathbb{I}_{2}\\right)\\right).\n",
    "\\end{align}"
   ]
  },
  {
   "cell_type": "markdown",
   "metadata": {},
   "source": [
    "---\n",
    "$11.$ Para o estado evoluído dos dois dipolos magnéticos, $|\\psi_{t}\\rangle = \\cos(Dt)|z_{+}^{a}\\rangle\\otimes|z_{-}^{b}\\rangle -i\\sin(Dt)|z_{-}^{a}\\rangle\\otimes|z_{+}^{b}\\rangle$, calcule a probabilidade de obtermos $z_{+}^{a}$ usando $Pr(z_{+}^{a}|\\psi_{t})=Pr(z_{+}^{a},x_{+}^{b}|\\psi_{t})+Pr(z_{+}^{a},x_{-}^{b}|\\psi_{t})$."
   ]
  },
  {
   "cell_type": "markdown",
   "metadata": {},
   "source": [
    "_SOL._ Usando $\\langle x_{+}|z_{\\pm}\\rangle=1/\\sqrt{2}$ e $\\langle x_{-}|z_{\\pm}\\rangle=\\pm1/\\sqrt{2}$ teremos\n",
    "\\begin{align}\n",
    "(\\langle z_{+}^{a}|\\otimes\\langle x_{+}^{b}|)|\\psi_{t}\\rangle &= \\cos(Dt)(\\langle z_{+}^{a}|\\otimes\\langle x_{+}^{b}|)(|z_{+}^{a}\\rangle\\otimes|z_{-}^{b}\\rangle) -i\\sin(Dt)(\\langle z_{+}^{a}|\\otimes\\langle x_{+}^{b}|)(|z_{-}^{a}\\rangle\\otimes|z_{+}^{b}\\rangle) \\\\\n",
    "&= \\cos(Dt)\\langle z_{+}^{a}|z_{+}^{a}\\rangle\\otimes\\langle x_{+}^{b}|z_{-}^{b}\\rangle -i\\sin(Dt)\\langle z_{+}^{a}|z_{-}^{a}\\rangle\\otimes\\langle x_{+}^{b}|z_{+}^{b}\\rangle \\\\\n",
    "&= (1/\\sqrt{2})\\cos(Dt), \\\\\n",
    "(\\langle z_{+}^{a}|\\otimes\\langle x_{-}^{b}|)|\\psi_{t}\\rangle &= \\cos(Dt)(\\langle z_{+}^{a}|\\otimes\\langle x_{-}^{b}|)(|z_{+}^{a}\\rangle\\otimes|z_{-}^{b}\\rangle) -i\\sin(Dt)(\\langle z_{+}^{a}|\\otimes\\langle x_{-}^{b}|)(|z_{-}^{a}\\rangle\\otimes|z_{+}^{b}\\rangle) \\\\\n",
    "&= \\cos(Dt)\\langle z_{+}^{a}|z_{+}^{a}\\rangle\\otimes\\langle x_{-}^{b}|z_{-}^{b}\\rangle -i\\sin(Dt)\\langle z_{+}^{a}|z_{-}^{a}\\rangle\\otimes\\langle x_{-}^{b}|z_{+}^{b}\\rangle \\\\\n",
    "&= -(1/\\sqrt{2})\\cos(Dt), \\\\\n",
    "\\end{align}\n",
    "e assim\n",
    "\\begin{align}\n",
    "Pr(z_{+}^{a}|\\psi_{t}) &= Pr(z_{+}^{a},x_{+}^{b}|\\psi_{t})+Pr(z_{+}^{a},x_{-}^{b}|\\psi_{t}) = |(\\langle z_{+}^{a}|\\otimes\\langle x_{+}^{b}|)|\\psi_{t}\\rangle|^{2} + |(\\langle z_{+}^{a}|\\otimes\\langle x_{-}^{b}|)|\\psi_{t}\\rangle|^{2} \\\\\n",
    "&= \\cos^{2}(Dt).\n",
    "\\end{align}"
   ]
  },
  {
   "cell_type": "markdown",
   "metadata": {},
   "source": [
    "---\n",
    "$12.$ Usando projetores, obtenha o estado pós-medida para as medidas locais de $\\sigma_{x}^{a}$ e $\\sigma_{z}^{b}$ com resultados $+1$ e  $-1$, respectivamente, para os dipolos preparados no estado $|\\psi_{t}\\rangle$ da questão anterior."
   ]
  },
  {
   "cell_type": "markdown",
   "metadata": {},
   "source": [
    "_SOL._ Neste caso, o estado não normalizado pós-medida será\n",
    "\\begin{align}\n",
    "|\\psi_{m}\\rangle &= (\\Pi_{x_{+}}\\otimes\\Pi_{z_{-}})|\\psi_{t}\\rangle = (|x_{+}\\rangle\\langle x_{+}|\\otimes|z_{-}\\rangle\\langle z_{-}|)|\\psi_{t}\\rangle \\\\\n",
    "& =\\cos(Dt)|x_{+}\\rangle\\langle x_{+}|z_{+}^{a}\\rangle\\otimes|z_{-}\\rangle\\langle z_{-}|z_{-}^{b}\\rangle -i\\sin(Dt)|x_{+}\\rangle\\langle x_{+}|z_{-}^{a}\\rangle\\otimes|z_{-}\\rangle\\langle z_{-}|z_{+}^{b}\\rangle \\\\\n",
    "& =\\cos(Dt)|x_{+}\\rangle2^{-1/2}\\otimes|z_{-}\\rangle1 -i\\sin(Dt)|x_{+}\\rangle2^{1/2}\\otimes|z_{-}\\rangle0 \\\\\n",
    "& =2^{-1/2}\\cos(Dt)|x_{+}\\rangle\\otimes|z_{-}\\rangle.\n",
    "\\end{align}\n",
    "Normalizando teremos\n",
    "\\begin{align}\n",
    "||\\tilde{\\psi}_{m}\\rangle &= \\frac{|\\psi_{m}\\rangle}{||\\psi_{m}||} = \\frac{|\\psi_{m}\\rangle}{\\sqrt{\\langle\\psi_{m}|\\psi_{m}\\rangle}} = \\frac{2^{-1/2}\\cos(Dt)|x_{+}\\rangle\\otimes|z_{-}\\rangle}{\\sqrt{2^{-1/2}\\cos(Dt)\\langle x_{+}\\otimes\\langle z_{-}|2^{-1/2}\\cos(Dt)|x_{+}\\rangle\\otimes|z_{-}\\rangle}} \\\\\n",
    "& = \\frac{2^{-1/2}\\cos(Dt)|x_{+}\\rangle\\otimes|z_{-}\\rangle}{2^{-1/2}\\cos(Dt)} = |x_{+}\\rangle\\otimes|z_{-}\\rangle.\n",
    "\\end{align}"
   ]
  },
  {
   "cell_type": "markdown",
   "metadata": {},
   "source": [
    "---\n",
    "$13.$ Para dois operadores normais quaisquer $X:\\mathcal{H}^{a}\\rightarrow\\mathcal{H}^{a}$ e $Y:\\mathcal{H}^{b}\\rightarrow\\mathcal{H}^{b}$, como devemos escrever esses operadores, individualmente, para atuá-los no espaço de Hilbert composto $\\mathcal{H}^{ab}=\\mathcal{H}^{a}\\otimes \\mathcal{H}^{b}$? Baseado na resposta a essa pergunta, verifique que $[X,Y]=\\mathbb{O}$."
   ]
  },
  {
   "cell_type": "markdown",
   "metadata": {},
   "source": [
    "_SOL._ Esses operadores devem ser escritos como $X\\otimes\\mathbb{I}_{b}$ e $\\mathbb{I}_{a}\\otimes Y.$ Usando as propriedades do produto tensorial, teremos que\n",
    "\\begin{align}\n",
    "[X,Y] &= [X\\otimes\\mathbb{I}_{b},\\mathbb{I}_{a}\\otimes Y] = (X\\otimes\\mathbb{I}_{b})(\\mathbb{I}_{a}\\otimes Y) - (\\mathbb{I}_{a}\\otimes Y)(X\\otimes\\mathbb{I}_{b}) \\\\\n",
    "& = X\\mathbb{I}_{a}\\otimes \\mathbb{I}_{b}Y - \\mathbb{I}_{a}X\\otimes Y\\mathbb{I}_{b} = X\\otimes Y - X\\otimes Y = \\mathbb{O}.\n",
    "\\end{align}"
   ]
  },
  {
   "cell_type": "markdown",
   "metadata": {},
   "source": [
    "---\n",
    "$14.$ Para $X$ um operador normal, verifique que $e^{X\\otimes \\mathbb{I}_{b}}=e^{X}\\otimes \\mathbb{I}_{b}$ (o mesmo raciocínio pode ser aplicado para verificar que $e^{\\mathbb{I}_{a}\\otimes Y}=\\mathbb{I}_{a}\\otimes e^{Y}$). "
   ]
  },
  {
   "cell_type": "markdown",
   "metadata": {},
   "source": [
    "_SOL._ Consideremos a decomposição espectral \n",
    "$$X=\\sum_{j}x_{j}|x_{j}\\rangle\\langle x_{j}|$$\n",
    "e uma base ortonormal $\\{|b_{j}\\rangle\\}\\in\\mathcal{H}_{b}$. Com isso teremos\n",
    "\\begin{align}\n",
    "e^{X\\otimes \\mathbb{I}_{b}} &= e^{\\sum_{j}x_{j}|x_{j}\\rangle\\langle x_{j}|\\otimes \\sum_{k}|b_{k}\\rangle\\langle b_{k}|} = e^{\\sum_{j,k}x_{j}(|x_{j}\\rangle\\otimes |b_{k}\\rangle)(\\langle x_{j}|\\otimes\\langle b_{k}|)} \\\\\n",
    "& = \\sum_{j,k}e^{x_{j}}(|x_{j}\\rangle\\otimes |b_{k}\\rangle)(\\langle x_{j}|\\otimes\\langle b_{k}|) = \\sum_{j}e^{x_{j}}|x_{j}\\rangle\\langle x_{j}|\\otimes \\sum_{k}|b_{k}\\rangle\\langle b_{k}| \\\\\n",
    "& = e^{X}\\otimes \\mathbb{I}_{b}.\n",
    "\\end{align}"
   ]
  },
  {
   "cell_type": "markdown",
   "metadata": {},
   "source": [
    "---\n",
    "$15.$ Disserte sobre porque dizemos que a dinâmica unitária é reversível."
   ]
  },
  {
   "cell_type": "markdown",
   "metadata": {},
   "source": [
    "_SOL._ Como a dinâmica quântica de um sistema fechado é unitária, i.e., $$\\rho_{t}=U_{t}\\rho_{0}U_{t}^{\\dagger},$$ podemos aplicar a operação inversa $$\\rho_{t+t}=U_{t}^{\\dagger}U_{t}\\rho_{0}U_{t}^{\\dagger}U_{t}=\\mathbb{I}\\rho_{0}\\mathbb{I}=\\rho_{0}.$$ Para ilustrar, se $H_{t}=H$ então $$U_{t}=e^{-iHt/\\hbar}\\ \\therefore\\ U_{t}^{\\dagger}=e^{iHt/\\hbar}=e^{-i(-H)t/\\hbar}.$$ No exemplo da precessão de spin, se $H=-(\\hbar\\omega/2)\\sigma_{z}$, que corresponde a um campo magnético constante na direção $\\hat{z}$, então $-H=(\\hbar\\omega/2)\\sigma_{z}$ corresponde a um campo magnético constante na direção $-\\hat{z}.$"
   ]
  }
 ],
 "metadata": {
  "kernelspec": {
   "display_name": "Python 3 (ipykernel)",
   "language": "python",
   "name": "python3"
  },
  "language_info": {
   "codemirror_mode": {
    "name": "ipython",
    "version": 3
   },
   "file_extension": ".py",
   "mimetype": "text/x-python",
   "name": "python",
   "nbconvert_exporter": "python",
   "pygments_lexer": "ipython3",
   "version": "3.11.1"
  }
 },
 "nbformat": 4,
 "nbformat_minor": 4
}
