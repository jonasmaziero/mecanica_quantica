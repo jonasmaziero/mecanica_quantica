{
 "cells": [
  {
   "cell_type": "markdown",
   "metadata": {},
   "source": [
    "### Notas de aula de Mecânica Quântica <br> Autor: Jonas Maziero\n",
    "\n",
    "# Exercícios"
   ]
  },
  {
   "cell_type": "markdown",
   "metadata": {},
   "source": [
    "---\n",
    "$1.$ Considere a densidade de probabilidade $\\rho(x\\in[0,10])=A(10-x)^{2}/10$, com $A$ uma constante real, e $\\rho(x<0)=\\rho(x>10)=0$. Normalize essa distribuição de probabilidades usando $\\int_{-\\infty}^{\\infty}\\rho(x)dx=1$ e, usando a definição $\\bar{x}=\\int_{-\\infty}^{\\infty}x\\rho(x)dx$, calcule $\\bar{x}$."
   ]
  },
  {
   "cell_type": "markdown",
   "metadata": {},
   "source": [
    "_SOL._ Para a normalização:\n",
    "\\begin{align}\n",
    "& \\int_{-\\infty}^{\\infty}\\rho(x)dx = 0 + \\int_{0}^{10}A((10-x)^{2}/10)dx + 0 = A\\left(10(x)_{0}^{10} - 2(x^{2}/2)_{0}^{10} + (1/10)(x^{2})_{0}^{10}\\right) \\\\\n",
    "&= A\\left(100 - 100 + (1/10)(x^{3}/3)_{0}^{10}\\right) \\\\\n",
    "&=A\\frac{100}{3}=1 \\\\\n",
    "&\\therefore A = 3/100.\n",
    "\\end{align}"
   ]
  },
  {
   "cell_type": "code",
   "execution_count": 1,
   "metadata": {},
   "outputs": [
    {
     "data": {
      "text/plain": [
       "(33.3333333333333, 33.333333333333336)"
      ]
     },
     "execution_count": 1,
     "metadata": {},
     "output_type": "execute_result"
    }
   ],
   "source": [
    "from sympy import symbols, integrate\n",
    "x=symbols('x'); integrate((1/10)*(10-x)**2,(x,0,10)), 10**3/30"
   ]
  },
  {
   "cell_type": "markdown",
   "metadata": {},
   "source": [
    "Para o valor médio\n",
    "\\begin{align}\n",
    "\\bar{x} &= 0 + \\int_{0}^{10}x(3/1000)(10-x)^{2}dx + 0 = (3/1000)\\left(50x^{2} -20x^{3}/3 + x^{4}/4 \\right)_{0}^{10} \\\\\n",
    "&= (3/1000)\\left( 5000 - 20000/3 + 10000/4 \\right) \\\\\n",
    "& \\approx 2,5.\n",
    "\\end{align}"
   ]
  },
  {
   "cell_type": "code",
   "execution_count": 2,
   "metadata": {},
   "outputs": [
    {
     "data": {
      "text/plain": [
       "(2.50000000000000, 2.499999999999999)"
      ]
     },
     "execution_count": 2,
     "metadata": {},
     "output_type": "execute_result"
    }
   ],
   "source": [
    "integrate(x*(3/1000)*(10-x)**2,(x,0,10)), (3/1000)*(5000-20000/3 +10000/4)"
   ]
  },
  {
   "cell_type": "markdown",
   "metadata": {},
   "source": [
    "---\n",
    "$2.$ Verifique que a eq. de Planck pode ser escrita em termos da frequência como segue:\n",
    "\\begin{equation}\n",
    "u_{T}(\\nu)=\\frac{8\\pi h\\nu^{3}}{c^{3}\\left(e^{h\\nu/k_{B}T}-1\\right)}.\n",
    "\\end{equation}"
   ]
  },
  {
   "cell_type": "markdown",
   "metadata": {},
   "source": [
    "_SOL._ $u(\\lambda)d\\lambda=u(\\nu)d\\nu$ é a densidade de energia na cavidade no intevalo de comprimento de ondas entre $\\lambda$ e $\\lambda+d\\lambda$, que equivale ao intervalo de frequências entre $\\nu$ e $\\nu-d\\nu$, pois $\\lambda\\nu=c$. Assim, usando $\\lambda=c/\\nu\\therefore d\\lambda=-(c/\\nu^{2})d\\nu$, teremos\n",
    "\\begin{align}\n",
    "& u_{T}(\\lambda)d\\lambda = \\frac{8\\pi hc}{\\lambda^{5}(e^{hc/k_{B}T\\lambda}-1)}d\\lambda = \\frac{8\\pi hc}{(c/\\nu)^{5}(e^{hc/k_{B}Tc/\\nu}-1)}(-(c/\\nu^{2})d\\nu) \\\\\n",
    "&= \\frac{8\\pi h\\nu^{3}}{c^{3}\\left(e^{h\\nu/k_{B}T}-1\\right)}(-d\\nu) = u_{T}(\\nu)(-d\\nu).\n",
    "\\end{align}"
   ]
  },
  {
   "cell_type": "markdown",
   "metadata": {},
   "source": [
    "---\n",
    "$3.$ Qual é o valor do comprimento de onda no qual a taxa de emissão de radiação eletromagnética pelo corpo humano é máxima? Em que faixa do espectro eletromagnético se encontra esse comprimento de onda? Explicite todas as suposições que você precisou fazer para obter a sua resposta."
   ]
  },
  {
   "cell_type": "markdown",
   "metadata": {},
   "source": [
    "_SOL._ Vamos fazer a suposição que o corpo humano é um corpo negro em equilíbrio térmico a uma temperatura $T=27\\text{ } ^{\\circ}\\text{C}=300,15\\text{ K}$. Para essa temperatura, pela lei de deslocamento de Wien, temos que o comprimento de onda para o qual a intensidade da radiação emitida é máxima é \n",
    "\\begin{equation}\n",
    "\\lambda_{\\max} \\approx \\left(\\frac{hc}{4,965k_{B}}\\right)\\frac{1}{T} \\approx 9,65\\mathrm{x}10^{-6}\\text{ m},\n",
    "\\end{equation}\n",
    "que está na faixa de microondas."
   ]
  },
  {
   "cell_type": "code",
   "execution_count": 4,
   "metadata": {},
   "outputs": [
    {
     "data": {
      "text/plain": [
       "9.654626098789526e-06"
      ]
     },
     "execution_count": 4,
     "metadata": {},
     "output_type": "execute_result"
    }
   ],
   "source": [
    "h = 6.626069*10**-34 # Js (constante de Planck)\n",
    "c = 2.99792458*10**8 # m/s (velocidade da luz no vácuo)\n",
    "kB = 1.38065*10**-23 # J/K (constante de Boltzmann)\n",
    "T=300.15; lbda_max=((h*c)/(4.965*kB))/T; lbda_max"
   ]
  },
  {
   "cell_type": "markdown",
   "metadata": {},
   "source": [
    "---\n",
    "$4.$ Obtenha e simplifique a expressão para $u_{T}(\\lambda_{\\max})$, verificando que $u_{T}(\\lambda_{\\max})\\propto T^{5}$."
   ]
  },
  {
   "cell_type": "markdown",
   "metadata": {},
   "source": [
    "_Sol._ Temos que $\\lambda_{\\max}=hc/xk_{B}T$ com $x\\approx 4,965$. Usando $u_{T}(\\lambda)$ da questão 2, obteremos\n",
    "\\begin{align}\n",
    "u_{T}(\\lambda_{\\max}) &= \\frac{8\\pi hc}{\\lambda_{\\max}^{5}(e^{hc/k_{B}T\\lambda_{\\max}}-1)} \\\\\n",
    "& = \\frac{8\\pi hc}{\\left(\\frac{hc}{xk_{B}T}\\right)^{5}(e^{xhc/xk_{B}T\\lambda_{\\max}}-1)} \\\\\n",
    "& = \\frac{8\\pi (xk_{B})^{5}}{(hc)^{4}(1/T)^{5}(e^{x}-1)} \\propto T^{5}.\n",
    "\\end{align}"
   ]
  },
  {
   "cell_type": "code",
   "execution_count": null,
   "metadata": {},
   "outputs": [],
   "source": []
  }
 ],
 "metadata": {
  "kernelspec": {
   "display_name": "Python 3 (ipykernel)",
   "language": "python",
   "name": "python3"
  },
  "language_info": {
   "codemirror_mode": {
    "name": "ipython",
    "version": 3
   },
   "file_extension": ".py",
   "mimetype": "text/x-python",
   "name": "python",
   "nbconvert_exporter": "python",
   "pygments_lexer": "ipython3",
   "version": "3.11.1"
  }
 },
 "nbformat": 4,
 "nbformat_minor": 4
}
