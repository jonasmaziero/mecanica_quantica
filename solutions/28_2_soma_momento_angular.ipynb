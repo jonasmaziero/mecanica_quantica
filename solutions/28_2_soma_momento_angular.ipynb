{
 "cells": [
  {
   "cell_type": "markdown",
   "metadata": {},
   "source": [
    "### Notas de aula de Mecânica Quântica <br> Autor: Jonas Maziero\n",
    "\n",
    "# Exercícios"
   ]
  },
  {
   "cell_type": "markdown",
   "metadata": {},
   "source": [
    "---\n",
    "$1.$ Verifique que $J^{2} = J_{a}^{2}\\otimes\\mathbb{I}_{b} +  \\mathbb{I}_{a}\\otimes J_{b}^{2} + 2\\sum_{j=1}^{3}J_{j}^{a}\\otimes J_{j}^{b}$."
   ]
  },
  {
   "cell_type": "markdown",
   "metadata": {},
   "source": [
    "_SOL._ Usando a definição $\\vec{J} = \\sum_{j=1}^{3}\\hat{e}_{j}J_{j} = \\sum_{k=1}^{3}\\hat{e}_{j}(J_{j}^{a}\\otimes\\mathbb{I}_{b} + \\mathbb{I}_{a}\\otimes J_{j}^{b}),$ teremos\n",
    "\\begin{align}\n",
    "J^{2} & = \\vec{J}\\cdot\\vec{J} = \\sum_{j=1}^{3}J_{j}^{2} = \\sum_{j=1}^{3}(J_{j}^{a}\\otimes\\mathbb{I}_{b} + \\mathbb{I}_{a}\\otimes J_{j}^{b})^{2} \\\\\n",
    "& = \\sum_{j=1}^{3}\\big((J_{j}^{a}\\otimes\\mathbb{I}_{b})(J_{j}^{a}\\otimes\\mathbb{I}_{b}) + (J_{j}^{a}\\otimes\\mathbb{I}_{b})(\\mathbb{I}_{a}\\otimes J_{j}^{b}) + (\\mathbb{I}_{a}\\otimes J_{j}^{b})(J_{j}^{a}\\otimes\\mathbb{I}_{b}) + (\\mathbb{I}_{a}\\otimes J_{j}^{b})(\\mathbb{I}_{a}\\otimes J_{j}^{b})\\big) \\\\\n",
    "& = \\sum_{j=1}^{3}\\big((J_{j}^{a})^{2}\\otimes\\mathbb{I}_{b} + J_{j}^{a}\\otimes J_{j}^{b} + J_{j}^{a}\\otimes J_{j}^{b} + \\mathbb{I}_{a}\\otimes (J_{j}^{b})^{2}\\big) \\\\\n",
    "& = J_{a}^{2}\\otimes\\mathbb{I}_{b} +  \\mathbb{I}_{a}\\otimes J_{b}^{2} + 2\\sum_{j=1}^{3}J_{j}^{a}\\otimes J_{j}^{b}.\n",
    "\\end{align}"
   ]
  },
  {
   "cell_type": "markdown",
   "metadata": {},
   "source": [
    "---\n",
    "$2.$ Verifique que $[A\\otimes B,A'\\otimes\\mathbb{I}] = [A,A']\\otimes B$."
   ]
  },
  {
   "cell_type": "markdown",
   "metadata": {},
   "source": [
    "_SOL._ A verificação é uma aplicação direta de $(A\\otimes B)(C\\otimes D)=AC\\otimes BD$:\n",
    "\\begin{align}\n",
    "[A\\otimes B,A'\\otimes\\mathbb{I}] & = (A\\otimes B)(A'\\otimes\\mathbb{I}) - (A'\\otimes\\mathbb{I})(A\\otimes B) \\\\\n",
    "&= AA'\\otimes B\\mathbb{I} - A'A\\otimes\\mathbb{I}B = (AA'- A'A)\\otimes B \\\\\n",
    "&= [A,A']\\otimes B.\n",
    "\\end{align}"
   ]
  },
  {
   "cell_type": "markdown",
   "metadata": {},
   "source": [
    "---\n",
    "$3.$ Verifique que $[J^{2},J_{b}^{2}] = 0$."
   ]
  },
  {
   "cell_type": "markdown",
   "metadata": {},
   "source": [
    "_SOL._\n",
    "\\begin{align}\n",
    "[J^{2},J_{b}^{2}] & = \\left[J_{a}^{2}\\otimes\\mathbb{I}_{b} +  \\mathbb{I}_{a}\\otimes J_{b}^{2} + 2\\sum_{j=1}^{3}J_{j}^{a}\\otimes J_{j}^{b},\\mathbb{I}_{b}\\otimes J_{b}^{2}\\right] \\\\\n",
    "& = [J_{a}^{2}\\otimes\\mathbb{I}_{b},\\mathbb{I}_{b}\\otimes J_{b}^{2}] + [\\mathbb{I}_{a}\\otimes J_{b}^{2},\\mathbb{I}_{b}\\otimes J_{b}^{2}] + [2\\sum_{j=1}^{3}J_{j}^{a}\\otimes J_{j}^{b},\\mathbb{I}_{b}\\otimes J_{b}^{2}] \\\\\n",
    "& = \\mathbb{O}  + \\mathbb{O} + 2\\sum_{j=1}^{3}J_{j}^{a}\\otimes[J_{j}^{b},J_{b}^{2}] = 2\\sum_{j=1}^{3}J_{j}^{a}\\otimes\\mathbb{O} = \\mathbb{O} .\n",
    "\\end{align}"
   ]
  },
  {
   "cell_type": "markdown",
   "metadata": {},
   "source": [
    "---\n",
    "$4.$ Verifique que $[J_{b}^{2},J_{3}] = \\mathbb{O}$."
   ]
  },
  {
   "cell_type": "markdown",
   "metadata": {},
   "source": [
    "_SOL._\n",
    "\\begin{align}\n",
    "[J_{b}^{2},J_{3}] & = [\\mathbb{I}_{a}\\otimes J_{b}^{2},J_{3}^{a}\\otimes\\mathbb{I}_{b} + \\mathbb{I}_{a}\\otimes J_{3}^{b}] = [\\mathbb{I}_{a}\\otimes J_{b}^{2},J_{3}^{a}\\otimes\\mathbb{I}_{b}] + [\\mathbb{I}_{a}\\otimes J_{b}^{2},\\mathbb{I}_{a}\\otimes J_{3}^{b}] \\\\\n",
    "& = \\mathbb{O} + \\mathbb{I}_{a}\\otimes[ J_{b}^{2},J_{3}^{b}] = \\mathbb{O} + \\mathbb{I}_{a}\\otimes\\mathbb{O} = \\mathbb{O}.\n",
    "\\end{align}"
   ]
  },
  {
   "cell_type": "markdown",
   "metadata": {},
   "source": [
    "---\n",
    "$5.$ Verifique que $[J^{2},J_{3}^{b}]= 2i\\hbar(J_{2}^{a}\\otimes J_{1}^{b}-J_{1}^{a}\\otimes J_{2}^{b}) \\ne 0$."
   ]
  },
  {
   "cell_type": "markdown",
   "metadata": {},
   "source": [
    "_SOL._ \n",
    "\\begin{align}\n",
    "[J^{2},J_{3}^{b}] & = \\sum_{j=1}^{3}[J_{j}^{2},\\mathbb{I}_{b}\\otimes J_{3}^{b}] = \\sum_{j=1}^{3}\\left(J_{j}[J_{j},\\mathbb{I}_{b}\\otimes J_{3}^{b}] + [J_{j},\\mathbb{I}_{b}\\otimes J_{3}^{b}]J_{j} \\right) \\\\\n",
    "& = \\sum_{j=1}^{3}\\left(J_{j}[J_{j}^{a}\\otimes\\mathbb{I}_{b}+\\mathbb{I}_{a}\\otimes J_{j}^{b},\\mathbb{I}_{b}\\otimes J_{3}^{b}] + [J_{j}^{a}\\otimes\\mathbb{I}_{b}+\\mathbb{I}_{a}\\otimes J_{j}^{b},\\mathbb{I}_{b}\\otimes J_{3}^{b}]J_{j} \\right) \\\\\n",
    "& = \\sum_{j=1}^{3}\\left(J_{j}(0+\\mathbb{I}_{a}\\otimes[J_{j}^{b},J_{3}^{b}]) + (0+\\mathbb{I}_{a}\\otimes[J_{j}^{b},J_{3}^{b}])J_{j} \\right) \\\\\n",
    "& = \\sum_{j=1}^{3}i\\hbar \\varepsilon_{j3k}\\left(J_{j}\\mathbb{I}_{a}\\otimes J_{k}^{b} + \\mathbb{I}_{a}\\otimes J_{k}^{b}J_{j} \\right) \\\\\n",
    "& = i\\hbar \\varepsilon_{13k}\\left(J_{1}\\mathbb{I}_{a}\\otimes J_{k}^{b} + \\mathbb{I}_{a}\\otimes J_{k}^{b}J_{1} \\right) + i\\hbar \\varepsilon_{23k}\\left(J_{2}\\mathbb{I}_{a}\\otimes J_{k}^{b} + \\mathbb{I}_{a}\\otimes J_{k}^{b}J_{2} \\right) \\\\\n",
    "& = i\\hbar \\varepsilon_{132}\\left(J_{1}\\mathbb{I}_{a}\\otimes J_{2}^{b} + \\mathbb{I}_{a}\\otimes J_{2}^{b}J_{1} \\right) + i\\hbar \\varepsilon_{231}\\left(J_{2}\\mathbb{I}_{a}\\otimes J_{1}^{b} + \\mathbb{I}_{a}\\otimes J_{1}^{b}J_{2} \\right) \\\\\n",
    "& = i\\hbar\\left(-J_{1}\\mathbb{I}_{a}\\otimes J_{2}^{b} - \\mathbb{I}_{a}\\otimes J_{2}^{b}J_{1} + J_{2}\\mathbb{I}_{a}\\otimes J_{1}^{b} + \\mathbb{I}_{a}\\otimes J_{1}^{b}J_{2}\\right) \\\\\n",
    "& = i\\hbar\\big(-(J_{1}^{a}\\otimes\\mathbb{I}_{b}+\\mathbb{I}_{a}\\otimes J_{1}^{b})\\mathbb{I}_{a}\\otimes J_{2}^{b} - \\mathbb{I}_{a}\\otimes J_{2}^{b}(J_{1}^{a}\\otimes\\mathbb{I}_{b}+\\mathbb{I}_{a}\\otimes J_{1}^{b})  \\\\\n",
    "& \\hspace{1.2cm} + (J_{2}^{a}\\otimes\\mathbb{I}_{b}+\\mathbb{I}_{a}\\otimes J_{2}^{b})\\mathbb{I}_{a}\\otimes J_{1}^{b} + \\mathbb{I}_{a}\\otimes J_{1}^{b}(J_{2}^{a}\\otimes\\mathbb{I}_{b}+\\mathbb{I}_{a}\\otimes J_{2}^{b})\\big) \\\\\n",
    "& = i\\hbar\\big( -J_{1}^{a}\\otimes J_{2}^{b} - \\mathbb{I}_{a}\\otimes J_{1}^{b}J_{2}^{b} - J_{1}^{a}\\otimes J_{2}^{b} - \\mathbb{I}_{a}\\otimes J_{2}^{b}J_{1}^{b}  \\\\\n",
    "& \\hspace{1.2cm} + J_{2}^{a}\\otimes J_{1}^{b} + \\mathbb{I}_{a}\\otimes J_{2}^{b}J_{1}^{b}  + J_{2}^{a}\\otimes J_{1}^{b} + \\mathbb{I}_{a}\\otimes J_{1}^{b}J_{2}^{b} \\big) \\\\\n",
    "& = 2i\\hbar(J_{2}^{a}\\otimes J_{1}^{b}-J_{1}^{a}\\otimes J_{2}^{b}) \\\\\n",
    "& \\ne 0.                \n",
    "\\end{align}"
   ]
  },
  {
   "cell_type": "markdown",
   "metadata": {},
   "source": [
    "---\n",
    "$6.$ Obtenha a base $|j,m\\rangle$ em termos da base $|m_{a}\\rangle\\otimes|m_{b}\\rangle$ para $j_{a}=1$ e $j_{b}=1/2$."
   ]
  },
  {
   "cell_type": "markdown",
   "metadata": {},
   "source": [
    "_SOL._ Temos que $j_{a}=1\\therefore m_{a}=-j_{a},-j_{a}+1,\\cdots,j_{b}=-1,0,1$ e $j_{b}=1/2\\therefore m_{b}=-1/2,1/2.$ Ademais $j=|j_{a}-j_{b}|,|j_{a}-j_{b}|+1,\\cdots,j_{a}+j_{b}= 1/2,3/2.$ Tendo isso, e considerando a restrição $$m_{a}+m_{b}\\ne m\\Rightarrow C^{j_{a}j_{b}j}_{m_{a}m_{b}m}=0,$$ começamos com o maior valor de $j$ e maior valor de $m$: \n",
    "$$|j=3/2,m=3/2\\rangle = |m_{a}=1\\rangle\\otimes|m_{b}=1/2\\rangle.$$\n",
    "Lembrando, $J_{-}|j,m\\rangle=\\hbar\\sqrt{j(j+1)-m(m-1)}|j,m-1\\rangle$ e $J_{-}=J_{-}^{a}\\otimes\\mathbb{I}_{b}+\\mathbb{I}_{a}\\otimes J_{-}^{b}$ e $J_{-}^{s}|m_{s}\\rangle \\equiv J_{-}^{s}|j_{s},m_{s}\\rangle = \\hbar\\sqrt{j_{s}(j_{s}+1)-m_{s}(m_{s}-1)}|j_{s},m_{s}-1\\rangle$ para $s=a,b.$ Assim \n",
    "\\begin{align}\n",
    "|j=3/2,m=1/2\\rangle &= |j=3/2,m=3/2-1\\rangle = \\frac{1}{\\hbar\\sqrt{(3/2)(3/2+1)-(3/2)(3/2-1)}}J_{-}|j=3/2,m=3/2\\rangle \\\\\n",
    "& = \\frac{1}{\\hbar\\sqrt{(3/2)(5/2)-(3/2)(1/2)}}(J_{-}^{a}\\otimes\\mathbb{I}_{b}+\\mathbb{I}_{a}\\otimes J_{-}^{b})|m_{a}=1\\rangle\\otimes|m_{b}=1/2\\rangle \\\\\n",
    "& = \\frac{1}{\\hbar\\sqrt{15/4-3/4}} \\big( J_{-}^{a}|m_{a}=1\\rangle\\otimes|m_{b}=1/2\\rangle + |m_{a}=1\\rangle\\otimes J_{-}^{b}|m_{b}=1/2\\rangle \\big) \\\\\n",
    "& = \\frac{1}{\\hbar\\sqrt{15/4-3/4}} \\big( \\hbar\\sqrt{1(1+1)-1(1-1)}|m_{a}=1-1\\rangle\\otimes|m_{b}=1/2\\rangle \\\\\n",
    "& \\hspace{3.5cm} + |m_{a}=1\\rangle\\otimes \\hbar\\sqrt{(1/2)(1/2+1)-(1/2)(1/2-1)}|m_{b}=1/2-1\\rangle \\big) \\\\\n",
    "& = \\frac{1}{\\sqrt{3}} \\big( \\sqrt{2}|m_{a}=0\\rangle\\otimes|m_{b}=1/2\\rangle + |m_{a}=1\\rangle\\otimes \\sqrt{3/4+1/4}|m_{b}=-1/2\\rangle \\big) \\\\\n",
    "& = \\sqrt{2/3}|m_{a}=0\\rangle\\otimes|m_{b}=1/2\\rangle + \\sqrt{1/3}|m_{a}=1\\rangle\\otimes |m_{b}=-1/2\\rangle.\n",
    "\\end{align}"
   ]
  },
  {
   "cell_type": "markdown",
   "metadata": {},
   "source": [
    "Usando que $J_{-}|j,m=-j\\rangle = |\\oslash\\rangle$ teremos\n",
    "\\begin{align}\n",
    "|j=3/2,m=-1/2\\rangle & = |j=3/2,m=1/2-1\\rangle = \\frac{1}{\\hbar\\sqrt{(3/2)(3/2+1)-(1/2)(1/2-1)}}J_{-}|j=3/2,m=1/2\\rangle \\\\\n",
    "& = \\frac{1}{\\hbar\\sqrt{15/4+1/4}}(J_{-}^{a}\\otimes\\mathbb{I}_{b}+\\mathbb{I}_{a}\\otimes J_{-}^{b})\\big( \\sqrt{2/3}|m_{a}=0\\rangle\\otimes|m_{b}=1/2\\rangle + \\sqrt{1/3}|m_{a}=1\\rangle\\otimes |m_{b}=-1/2\\rangle \\big) \\\\\n",
    "& = \\frac{1}{\\hbar 2}\\big( \\sqrt{2/3}J_{-}^{a}|m_{a}=0\\rangle\\otimes|m_{b}=1/2\\rangle + \\sqrt{1/3}J_{-}^{a}|m_{a}=1\\rangle\\otimes |m_{b}=-1/2\\rangle \\\\\n",
    "& \\hspace{1.5cm} + \\sqrt{2/3}|m_{a}=0\\rangle\\otimes J_{-}^{b}|m_{b}=1/2\\rangle + \\sqrt{1/3}|m_{a}=1\\rangle\\otimes  J_{-}^{b}|m_{b}=-1/2\\rangle \\big) \\\\\n",
    "& = \\frac{1}{\\hbar 2}\\big( \\sqrt{2/3}\\hbar\\sqrt{1(1+1)-0(0-1)}|m_{a}=0-1\\rangle\\otimes|m_{b}=1/2\\rangle \\\\\n",
    "& \\hspace{1.5cm} + \\sqrt{1/3}\\hbar\\sqrt{1(1+1)-1(1-1)}|m_{a}=1-1\\rangle\\otimes |m_{b}=-1/2\\rangle \\\\\n",
    "& \\hspace{1.5cm} + \\sqrt{2/3}|m_{a}=0\\rangle\\otimes \\hbar\\sqrt{(1/2)(1/2+1)-(1/2)(1/2-1)}|m_{b}=1/2-1\\rangle + \\sqrt{1/3}|m_{a}=1\\rangle\\otimes  |\\oslash\\rangle \\big) \\\\\n",
    "& = \\frac{1}{2}\\big( \\sqrt{2/3}\\sqrt{2}|m_{a}=-1\\rangle\\otimes|m_{b}=1/2\\rangle + \\sqrt{1/3}\\sqrt{2}|m_{a}=0\\rangle\\otimes |m_{b}=-1/2\\rangle \\\\\n",
    "& \\hspace{1.5cm} + \\sqrt{2/3}|m_{a}=0\\rangle\\otimes \\sqrt{3/4+1/4}|m_{b}=-1/2\\rangle \\\\\n",
    "& = \\sqrt{1/3}|m_{a}=-1\\rangle\\otimes|m_{b}=1/2\\rangle + \\sqrt{2/3}|m_{a}=0\\rangle\\otimes |m_{b}=-1/2\\rangle. \n",
    "\\end{align}"
   ]
  },
  {
   "cell_type": "markdown",
   "metadata": {},
   "source": [
    "Seguindo,\n",
    "\\begin{align}\n",
    "|j=3/2,m=-3/2\\rangle & = |j=3/2,m=-1/2-1\\rangle = \\frac{1}{\\hbar\\sqrt{(3/2)(3/2+1)-(-1/2)(-1/2-1)}}J_{-}|j=3/2,m=-1/2\\rangle \\\\\n",
    "& = \\frac{1}{\\hbar\\sqrt{15/4-3/4}}(J_{-}^{a}\\otimes\\mathbb{I}_{b}+\\mathbb{I}_{a}\\otimes J_{-}^{b}) \\big( \\sqrt{1/3}|m_{a}=-1\\rangle\\otimes|m_{b}=1/2\\rangle + \\sqrt{2/3}|m_{a}=0\\rangle\\otimes |m_{b}=-1/2\\rangle \\big) \\\\\n",
    "& = \\frac{1}{\\hbar\\sqrt{3}}\\big( \\sqrt{1/3}J_{-}^{a}|m_{a}=-1\\rangle\\otimes|m_{b}=1/2\\rangle + \\sqrt{2/3}J_{-}^{a}|m_{a}=0\\rangle\\otimes |m_{b}=-1/2\\rangle \\\\\n",
    "& \\hspace{2cm} + \\sqrt{1/3}|m_{a}=-1\\rangle\\otimes J_{-}^{b}|m_{b}=1/2\\rangle + \\sqrt{2/3}|m_{a}=0\\rangle\\otimes J_{-}^{b}|m_{b}=-1/2\\rangle \\big) \\\\\n",
    "& = \\frac{1}{\\hbar\\sqrt{3}}\\big( \\sqrt{1/3}|\\oslash\\rangle\\otimes|m_{b}=1/2\\rangle + \\sqrt{2/3}\\hbar\\sqrt{1(1+1)-0(0-1)}|m_{a}=0-1\\rangle\\otimes |m_{b}=-1/2\\rangle \\\\\n",
    "& \\hspace{2cm} + \\sqrt{1/3}|m_{a}=-1\\rangle\\otimes \\hbar\\sqrt{(1/2)(1/2+1)-(1/2)(1/2-1)}|m_{b}=1/2-1\\rangle + \\sqrt{2/3}|m_{a}=0\\rangle\\otimes |\\oslash\\rangle \\big) \\\\\n",
    "& = \\frac{1}{\\sqrt{3}}\\big(\\sqrt{2/3}\\sqrt{2}|m_{a}=-1\\rangle\\otimes |m_{b}=-1/2\\rangle + \\sqrt{1/3}|m_{a}=-1\\rangle\\otimes\\sqrt{3/4+1/4}|m_{b}=-1/2\\rangle \\big) \\\\\n",
    "& = |m_{a}=-1\\rangle\\otimes |m_{b}=-1/2\\rangle.\n",
    "\\end{align}"
   ]
  },
  {
   "cell_type": "markdown",
   "metadata": {},
   "source": [
    "Para $j=1/2$, usamos a restrição $m_{a}+m_{b}\\ne m\\Rightarrow C^{j_{a}j_{b}j}_{m_{a}m_{b}m}=0$ para escrever\n",
    "\\begin{align}\n",
    "|j=1/2,m=1/2\\rangle = C^{1,1/2,1/2}_{1,-1/2,1/2}|m_{a}=1\\rangle\\otimes|m_{b}=-1/2\\rangle + C^{1,1/2,1/2}_{0,1/2,1/2}|m_{a}=0\\rangle\\otimes|m_{b}=1/2\\rangle.\n",
    "\\end{align}\n",
    "Pela ortogonalidade teremos\n",
    "\\begin{align}\n",
    "0 & = \\langle j=3/2,m=1/2|j=1/2,m=1/2\\rangle \\\\\n",
    "& = \\big( \\sqrt{2/3}\\langle m_{a}=0|\\otimes\\langle m_{b}=1/2| + \\sqrt{1/3}\\langle m_{a}=1|\\otimes\\langle m_{b}=-1/2|\\big)\\big( C^{1,1/2,1/2}_{1,-1/2,1/2}|m_{a}=1\\rangle\\otimes|m_{b}=-1/2\\rangle + C^{1,1/2,1/2}_{0,1/2,1/2}|m_{a}=0\\rangle\\otimes|m_{b}=1/2\\rangle \\big) \\\\\n",
    "& = \\sqrt{2/3}C^{1,1/2,1/2}_{0,1/2,1/2} + \\sqrt{1/3}C^{1,1/2,1/2}_{1,-1/2,1/2}, \\\\\n",
    "& \\therefore C^{1,1/2,1/2}_{1,-1/2,1/2} = - \\sqrt{2}C^{1,1/2,1/2}_{0,1/2,1/2}.\n",
    "\\end{align}\n",
    "Pela normalização teremos (assumimos coeficientes reais)\n",
    "\\begin{align}\n",
    "& |C^{1,1/2,1/2}_{1,-1/2,1/2}|^{2}+|C^{1,1/2,1/2}_{0,1/2,1/2}|^{2}=1 \\therefore |- \\sqrt{2}C^{1,1/2,1/2}_{0,1/2,1/2}|^{2}+|C^{1,1/2,1/2}_{0,1/2,1/2}|^{2}=1 \\\\\n",
    "& \\therefore C^{1,1/2,1/2}_{0,1/2,1/2} = \\sqrt{1/3}, C^{1,1/2,1/2}_{1,-1/2,1/2} = - \\sqrt{2/3}.\n",
    "\\end{align}\n",
    "Assim\n",
    "\\begin{align}\n",
    "|j=1/2,m=1/2\\rangle = \\sqrt{1/3}|m_{a}=0\\rangle\\otimes|m_{b}=1/2\\rangle - \\sqrt{2/3}|m_{a}=1\\rangle\\otimes|m_{b}=-1/2\\rangle.\n",
    "\\end{align}"
   ]
  },
  {
   "cell_type": "markdown",
   "metadata": {},
   "source": [
    "Por fim, aplicamos o operador de abaixamento para obter\n",
    "\\begin{align}\n",
    "|j=1/2,m=-1/2\\rangle & = |j=1/2,m=1/2-1\\rangle = \\frac{1}{\\hbar\\sqrt{(1/2)(1/2+1)-(1/2)(1/2-1)}}J_{-}|j=1/2,m=1/2\\rangle \\\\\n",
    "& = \\frac{1}{\\hbar\\sqrt{3/4+1/4}}(J_{-}^{a}\\otimes\\mathbb{I}_{b}+\\mathbb{I}_{a}\\otimes J_{-}^{b}) \\big( \\sqrt{1/3}|m_{a}=0\\rangle\\otimes|m_{b}=1/2\\rangle - \\sqrt{2/3}|m_{a}=1\\rangle\\otimes|m_{b}=-1/2\\rangle \\big) \\\\\n",
    "& = \\frac{1}{\\hbar}\\big( \\sqrt{1/3}J_{-}^{a}|m_{a}=0\\rangle\\otimes|m_{b}=1/2\\rangle - \\sqrt{2/3}J_{-}^{a}|m_{a}=1\\rangle\\otimes|m_{b}=-1/2\\rangle \\\\ \n",
    "& \\hspace{1cm} +\\sqrt{1/3}|m_{a}=0\\rangle\\otimes J_{-}^{b}|m_{b}=1/2\\rangle - \\sqrt{2/3}|m_{a}=1\\rangle\\otimes J_{-}^{b}|m_{b}=-1/2\\rangle \\big) \\\\\n",
    "& = \\frac{1}{\\hbar}\\big( \\sqrt{1/3}\\hbar\\sqrt{1(1+1)-0(0-1)}|m_{a}=0-1\\rangle\\otimes|m_{b}=1/2\\rangle \\\\\n",
    "& \\hspace{1cm}- \\sqrt{2/3}\\hbar\\sqrt{1(1+1)-1(1-1)}|m_{a}=1-1\\rangle\\otimes|m_{b}=-1/2\\rangle \\\\ \n",
    "& \\hspace{1cm} +\\sqrt{1/3}|m_{a}=0\\rangle\\otimes \\hbar\\sqrt{(1/2)(1/2+1)-(1/2)(1/2-1)}|m_{b}=1/2-1\\rangle - \\sqrt{2/3}|m_{a}=1\\rangle\\otimes|\\oslash\\rangle \\big) \\\\\n",
    "& = \\sqrt{1/3}\\sqrt{2}|m_{a}=-1\\rangle\\otimes|m_{b}=1/2\\rangle - \\sqrt{2/3}\\sqrt{2}|m_{a}=0\\rangle\\otimes|m_{b}=-1/2\\rangle \\\\ \n",
    "& \\hspace{1cm} +\\sqrt{1/3}|m_{a}=0\\rangle\\otimes\\sqrt{3/4+1/4}|m_{b}=-1/2\\rangle \\\\\n",
    "& = \\sqrt{2/3}|m_{a}=-1\\rangle\\otimes|m_{b}=1/2\\rangle - \\sqrt{1/3}|m_{a}=0\\rangle\\otimes|m_{b}=-1/2\\rangle,\n",
    "\\end{align}\n",
    "que é ortogonal a $|j=3/2,m=-1/2\\rangle.$"
   ]
  },
  {
   "cell_type": "markdown",
   "metadata": {},
   "source": [
    "---\n",
    "$7.$ O oscilador de Schwinger é um mapa entre a álgebra do momento angular (AMA) e a álgebra de osciladores harmônicos desacoplados. Esse mapa pode ser definido por: $J_{1}= (\\hbar/2)(a_{1}^{\\dagger}\\otimes a_{2}+a_{1}\\otimes a_{2}^{\\dagger})$, $J_{2}= (\\hbar/2i)(a_{1}^{\\dagger}\\otimes a_{2}-a_{1}\\otimes a_{2}^{\\dagger})$, e $J_{3} := (\\hbar/2)(a_{1}^{\\dagger}a_{1}\\otimes\\mathbb{I}_{2} - \\mathbb{I}_{1}\\otimes a_{2}^{\\dagger}a_{2})$, com $a_{j}^{\\dagger}$ e $a_{j}$  sendo, respectivamente, os operadores de criação e aniquilação do oscilador harmônico unidimensional $j=1,2$. Verifique que as componentes de $\\vec{J}$, construídas dessa forma, satisfazem as relações de comutação que definem a álgebra do momento angular."
   ]
  },
  {
   "cell_type": "markdown",
   "metadata": {},
   "source": [
    "_SOL._ Usaremos \n",
    "\\begin{align}\n",
    "& [a_{j},a_{j}^{\\dagger}]=a_{j}a_{j}^{\\dagger}-a_{j}^{\\dagger}a_{j}=\\mathbb{I}_{j}, \\\\\n",
    "& [a_{j},a_{j}^{\\dagger}a_{j}]=a_{j}, \\\\\n",
    "& [a_{j}^{\\dagger},a_{j}^{\\dagger}a_{j}]=-a_{j}^{\\dagger},\n",
    "\\end{align}\n",
    "para obter\n",
    "\\begin{align}\n",
    "[J_{1},J_{2}] & = (\\hbar^{2}/4i)[a_{1}^{\\dagger}\\otimes a_{2}+a_{1}\\otimes a_{2}^{\\dagger},a_{1}^{\\dagger}\\otimes a_{2}-a_{1}\\otimes a_{2}^{\\dagger}] \\\\\n",
    "& = (\\hbar^{2}/4i)([a_{1}^{\\dagger}\\otimes a_{2},a_{1}^{\\dagger}\\otimes a_{2}] - [a_{1}^{\\dagger}\\otimes a_{2},a_{1}\\otimes a_{2}^{\\dagger}] + [a_{1}\\otimes a_{2}^{\\dagger},a_{1}^{\\dagger}\\otimes a_{2}] - [a_{1}\\otimes a_{2}^{\\dagger},a_{1}\\otimes a_{2}^{\\dagger}]) \\\\\n",
    "& = (\\hbar^{2}/4i)(\\mathbb{O} - a_{1}^{\\dagger}a_{1}\\otimes a_{2}a_{2}^{\\dagger} + a_{1}a_{1}^{\\dagger}\\otimes a_{2}^{\\dagger}a_{2} + a_{1}a_{1}^{\\dagger}\\otimes a_{2}^{\\dagger}a_{2} - a_{1}^{\\dagger}a_{1}\\otimes a_{2}a_{2}^{\\dagger} - \\mathbb{O}) \\\\\n",
    "& = (\\hbar^{2}/2i)( a_{1}a_{1}^{\\dagger}\\otimes a_{2}^{\\dagger}a_{2} - a_{1}^{\\dagger}a_{1}\\otimes a_{2}a_{2}^{\\dagger} ) \\\\\n",
    "& = -i(\\hbar^{2}/2)(- a_{1}^{\\dagger}a_{1}\\otimes(\\mathbb{I}_{2}+a_{2}^{\\dagger}a_{2}) + (\\mathbb{I}_{1} + a_{1}^{\\dagger}a_{1})\\otimes a_{2}^{\\dagger}a_{2} ) \\\\\n",
    "& = i(\\hbar^{2}/2)(a_{1}^{\\dagger}a_{1}\\otimes\\mathbb{I}_{2} + a_{1}^{\\dagger}a_{1}\\otimes a_{2}^{\\dagger}a_{2} - \\mathbb{I}_{1}\\otimes a_{2}^{\\dagger}a_{2} - a_{1}^{\\dagger}a_{1}\\otimes a_{2}^{\\dagger}a_{2} ) \\\\\n",
    "& = i\\hbar\\epsilon_{123}J_{3},\n",
    "\\end{align}\n",
    "\n",
    "\\begin{align}\n",
    "[J_{1},J_{3}] & = (\\hbar^{2}/4)[a_{1}^{\\dagger}\\otimes a_{2}+a_{1}\\otimes a_{2}^{\\dagger},a_{1}^{\\dagger}a_{1}\\otimes\\mathbb{I}_{2} - \\mathbb{I}_{1}\\otimes a_{2}^{\\dagger}a_{2}] \\\\\n",
    "& = (\\hbar^{2}/4)([a_{1}^{\\dagger}\\otimes a_{2},a_{1}^{\\dagger}a_{1}\\otimes\\mathbb{I}_{2}] - [a_{1}^{\\dagger}\\otimes a_{2},\\mathbb{I}_{1}\\otimes a_{2}^{\\dagger}a_{2}] + [a_{1}\\otimes a_{2}^{\\dagger},a_{1}^{\\dagger}a_{1}\\otimes\\mathbb{I}_{2}] - [a_{1}\\otimes a_{2}^{\\dagger},\\mathbb{I}_{1}\\otimes a_{2}^{\\dagger}a_{2}]) \\\\\n",
    "& = (\\hbar^{2}/4)([a_{1}^{\\dagger},a_{1}^{\\dagger}a_{1}]\\otimes a_{2} - a_{1}^{\\dagger}\\otimes[a_{2},a_{2}^{\\dagger}a_{2}] + [a_{1},a_{1}^{\\dagger}a_{1}]\\otimes a_{2}^{\\dagger} - a_{1}\\otimes[a_{2}^{\\dagger},a_{2}^{\\dagger}a_{2}]) \\\\\n",
    "& = (\\hbar^{2}/4)(-a_{1}^{\\dagger}\\otimes a_{2} - a_{1}^{\\dagger}\\otimes a_{2} + a_{1}\\otimes a_{2}^{\\dagger} + a_{1}\\otimes a_{2}^{\\dagger}) \\\\\n",
    "& = i\\epsilon_{132}(\\hbar^{2}/2i)(a_{1}^{\\dagger}\\otimes a_{2}- a_{1}\\otimes a_{2}^{\\dagger}) \\\\\n",
    "& = i\\epsilon_{132}\\hbar J_{2},\n",
    "\\end{align}\n",
    "\n",
    "e\n",
    "\\begin{align}\n",
    "[J_{2},J_{3}] & = (\\hbar^{2}/4i)[a_{1}^{\\dagger}\\otimes a_{2}-a_{1}\\otimes a_{2}^{\\dagger},a_{1}^{\\dagger}a_{1}\\otimes\\mathbb{I}_{2} - \\mathbb{I}_{1}\\otimes a_{2}^{\\dagger}a_{2}] \\\\\n",
    "& = (\\hbar^{2}/4i)([a_{1}^{\\dagger}\\otimes a_{2},a_{1}^{\\dagger}a_{1}\\otimes\\mathbb{I}_{2}] - [a_{1}^{\\dagger}\\otimes a_{2},\\mathbb{I}_{1}\\otimes a_{2}^{\\dagger}a_{2}] - [a_{1}\\otimes a_{2}^{\\dagger},a_{1}^{\\dagger}a_{1}\\otimes\\mathbb{I}_{2}] + [a_{1}\\otimes a_{2}^{\\dagger},\\mathbb{I}_{1}\\otimes a_{2}^{\\dagger}a_{2}]) \\\\\n",
    "& = (\\hbar^{2}/4i)([a_{1}^{\\dagger},a_{1}^{\\dagger}a_{1}]\\otimes a_{2} - a_{1}^{\\dagger}\\otimes[a_{2},a_{2}^{\\dagger}a_{2}] - [a_{1},a_{1}^{\\dagger}a_{1}]\\otimes a_{2}^{\\dagger} + a_{1}\\otimes[a_{2}^{\\dagger},a_{2}^{\\dagger}a_{2}]) \\\\\n",
    "& = (\\hbar^{2}/4i)(-a_{1}^{\\dagger}\\otimes a_{2} - a_{1}^{\\dagger}\\otimes a_{2} - a_{1}\\otimes a_{2}^{\\dagger} - a_{1}\\otimes a_{2}^{\\dagger}) \\\\\n",
    "& = (-1/i)\\epsilon_{231}(\\hbar^{2}/2)(a_{1}^{\\dagger}\\otimes a_{2}+ a_{1}\\otimes a_{2}^{\\dagger}) \\\\\n",
    "& = i\\epsilon_{231}\\hbar J_{1}.\n",
    "\\end{align}"
   ]
  },
  {
   "cell_type": "markdown",
   "metadata": {},
   "source": [
    "---\n",
    "$8.$ Considere a soma de momentos angulares para dois quantons de spin 3/2, ou seja, considere $j_a=j_b=3/2$. Escreva os seguintes estados da base de autovetores do momento angular total\n",
    "$$|j_a=3/2,j_b=3/2,j=3,m=3\\rangle,\\ |j_a=3/2,j_b=3/2,j=3,m=2\\rangle$$\n",
    "em termos dos estados da base de autovetores de $J_3^a$ e  $J_3^b$: \n",
    "$$\\left\\{|j_a=3/2,m_a\\rangle\\otimes|j_b=3/2,m_b\\rangle\\right\\}.$$"
   ]
  },
  {
   "cell_type": "markdown",
   "metadata": {},
   "source": [
    "_SOL._ Usamos a restrição \n",
    "$$m\\ne m_a+m_b\\Rightarrow C_{m_a m_b m}^{j_a j_b j}=0$$\n",
    "para notar que temos um único coeficiente de Clebsch-Gordan não nulo no caso de\n",
    "$$|j_a=3/2,j_b=3/2,j=3,m=3\\rangle = |j_a=3/2,m_a=3/2\\rangle\\otimes|j_b=3/2,m_b=3/2\\rangle.$$\n",
    "\n",
    "Para o caso de $|j_a=3/2,j_b=3/2,j=3,m=2\\rangle$, vamos usar o operador escada\n",
    "\\begin{align}\n",
    "J_-|j_a=3/2,j_b=3/2,j=3,m=3\\rangle & = \\hbar\\sqrt{j(j+1)-m(m-1)}|j_a=3/2,j_b=3/2,j=3,m-1\\rangle \\\\\n",
    "& = \\hbar\\sqrt{3(3+1)-3(3-1)}|j_a=3/2,j_b=3/2,j=3,m=3-1\\rangle \\\\\n",
    "& = \\hbar\\sqrt{6}|j_a=3/2,j_b=3/2,j=3,m=2\\rangle.\n",
    "\\end{align}\n",
    "Vem assim que\n",
    "\\begin{align}\n",
    "& |j_a=3/2,j_b=3/2,j=3,m=2\\rangle = \\frac{1}{\\hbar\\sqrt{6}}J_-|j_a=3/2,j_b=3/2,j=3,m=3\\rangle \\\\\n",
    "& = \\frac{1}{\\hbar\\sqrt{6}}(J_-^a\\otimes I_b + I_a\\otimes J_-^b)(|j_a=3/2,m_a=3/2\\rangle\\otimes|j_b=3/2,m_b=3/2\\rangle) \\\\\n",
    "& = \\frac{1}{\\hbar\\sqrt{6}}\\big(J_-^a|j_a=3/2,m_a=3/2\\rangle\\otimes|j_b=3/2,m_b=3/2\\rangle) + |j_a=3/2,m_a=3/2\\rangle\\otimes J_-^b|j_b=3/2,m_b=3/2\\rangle\\big) \\\\\n",
    "& = \\frac{1}{\\hbar\\sqrt{6}}\\big(\\hbar\\sqrt{(3/2)(3/2+1)-(3/2)(3/2-1)}|j_a=3/2,m_a=3/2-1\\rangle\\otimes|j_b=3/2,m_b=3/2\\rangle) \\\\\n",
    "& + |j_a=3/2,m_a=3/2\\rangle\\otimes \\hbar\\sqrt{(3/2)(3/2+1)-(3/2)(3/2-1)}|j_b=3/2,m_b=3/2-1\\rangle\\big) \\\\\n",
    "& = \\frac{\\sqrt{3}}{\\sqrt{6}}\\big(|j_a=3/2,m_a=1/2\\rangle\\otimes|j_b=3/2,m_b=3/2\\rangle) + |j_a=3/2,m_a=3/2\\rangle\\otimes |j_b=3/2,m_b=1/2\\rangle\\big) \\\\\n",
    "& = \\frac{1}{\\sqrt{2}}\\big(|j_a=3/2,m_a=1/2\\rangle\\otimes|j_b=3/2,m_b=3/2\\rangle) + |j_a=3/2,m_a=3/2\\rangle\\otimes |j_b=3/2,m_b=1/2\\rangle\\big).\n",
    "\\end{align}"
   ]
  },
  {
   "cell_type": "markdown",
   "metadata": {},
   "source": [
    "---\n",
    "$9.$ Faça a soma de três momentos angulares $j_a=j_b=j_c=1/2$. Ou seja, neste caso, escreva a base de autovetores do momento angular total $\\{|j,m\\rangle\\}$ em termos da bases de autovetores das componentes $z$ individuais $\\{|m_a\\rangle\\otimes|m_b\\rangle\\otimes|m_c\\rangle\\}$."
   ]
  },
  {
   "cell_type": "markdown",
   "metadata": {},
   "source": [
    "_SOL._ Escrevendo $\\vec{J}_{ab}=\\vec{J}_a + \\vec{J}_b$, temos do exemplo feito em aula para a soma de dois momentos angulares $j_a=j_b=1/2$ que \n",
    "\\begin{align}\n",
    "& |j_{ab}=1,m_{ab}=1\\rangle = |m_a=1/2\\rangle\\otimes|m_b=1/2\\rangle = |\\uparrow\\uparrow\\rangle, \\\\\n",
    "& |j_{ab}=1,m_{ab}=0\\rangle = \\big(|m_a=1/2\\rangle\\otimes|m_b=-1/2\\rangle + |m_a=-1/2\\rangle\\otimes|m_b=1/2\\rangle\\big)/\\sqrt{2} = (|\\uparrow\\downarrow\\rangle+|\\downarrow\\uparrow\\rangle)/\\sqrt{2} \\\\\n",
    "& |j_{ab}=1,m_{ab}=-1\\rangle = |m_a=-1/2\\rangle\\otimes|m_b=-1/2\\rangle = |\\downarrow\\downarrow\\rangle \\\\\n",
    "& |j_{ab}=0,m_{ab}=0\\rangle = \\big(|m_a=1/2\\rangle\\otimes|m_b=-1/2\\rangle - |m_a=-1/2\\rangle\\otimes|m_b=1/2\\rangle\\big)/\\sqrt{2} = (|\\uparrow\\downarrow\\rangle-|\\downarrow\\uparrow\\rangle)/\\sqrt{2}.\n",
    "\\end{align}\n",
    "Vemos assim que o momento angular resultante dessa soma pode ser especificado por\n",
    "$$j_{ab}=0,1.$$\n",
    "\n",
    "Seguindo, vamos considerar \n",
    "$$\\vec{J} = \\vec{J}_{ab} + \\vec{J}_c$$\n",
    "para cada um desses casos. Para\n",
    "$$j_{ab}=0$$ \n",
    "temos que\n",
    "\\begin{align}\n",
    "& j = |j_{ab}-j_c|, |j_{ab}-j_c|+1,\\cdots, j_{ab}+j_c = 1/2\\\\\n",
    "& \\therefore\\ m_j = m_{1/2} = -j,-j+1,\\cdots,j = -1/2,1/2.\n",
    "\\end{align}\n",
    "Para\n",
    "$$j_{ab}=1$$ \n",
    "temos que\n",
    "\\begin{align}\n",
    "& j = |1-1/2|, |1-1/2|+1,\\cdots, 1+1/2 = 1/2,3/2\\\\\n",
    "& \\therefore\\ m_{1/2} = -1/2,1/2,\\\\\n",
    "& \\therefore\\ m_{3/2}=-3/2,-1/2,1/2,3/2.\n",
    "\\end{align}"
   ]
  },
  {
   "cell_type": "markdown",
   "metadata": {},
   "source": [
    "Lembrando da restrição\n",
    "$$m=m_{ab}+m_c$$\n",
    "começamos com \n",
    "$$j_{ab}=1\\ \\therefore\\ m_{ab}=-1,0,1$$\n",
    "o maior valor de $j=3/2$ e maior valor correspondente de $m=3/2$, e lambramos que $j_c=1/2\\ \\therefore\\ m_c=-1/2,1/2$ para obter:\n",
    "\\begin{align}\n",
    "|j=3/2,m=3/2\\rangle & = |j_{ab}=1,m_{ab}=1\\rangle\\otimes|j_c=1/2,m_c=1/2\\rangle = |m_a=1/2\\rangle\\otimes|m_b=1/2\\rangle \\otimes|j_c=1/2,m_c=1/2\\rangle \\\\\n",
    "& = |\\uparrow\\uparrow\\uparrow\\rangle\n",
    "\\end{align}\n",
    "\n",
    "Agora, lembrando de\n",
    "$$J_- = J_-^{ab}\\otimes I_c + I_{ab}\\otimes J_-^c,$$\n",
    "Teremos que\n",
    "\\begin{align}\n",
    "J_-|j=3/2,m=3/2\\rangle & = \\hbar\\sqrt{(3/2)(3/2+1) - (3/2)(3/2-1)}|j=3/2,m=3/2-1\\rangle = \\hbar\\sqrt{3}|j=3/2,m=1/2\\rangle\n",
    "\\end{align}\n",
    "e assim\n",
    "\\begin{align}\n",
    "|j=3/2,m=1/2\\rangle & = \\frac{1}{\\hbar\\sqrt{3}}(J_-^{ab}\\otimes I_c + I_{ab}\\otimes J_-^c)|j=3/2,m=3/2\\rangle \\\\\n",
    "& = \\frac{1}{\\hbar\\sqrt{3}}\\Big((J_-^{ab}\\otimes I_c)|j_{ab}=1,m_{ab}=1\\rangle\\otimes|j_c=1/2,m_c=1/2\\rangle + (I_{ab}\\otimes J_-^c)|j_{ab}=1,m_{ab}=1\\rangle\\otimes|j_c=1/2,m_c=1/2\\rangle\\Big) \\\\\n",
    "& = \\frac{1}{\\hbar\\sqrt{3}}\\Big(\\hbar\\sqrt{1(1+1)-1(1-1)}|j_{ab}=1,m_{ab}=1-1\\rangle\\otimes|j_c=1/2,m_c=1/2\\rangle + \\hbar\\sqrt{(1/2)(1/2+1)-(1/2)(1/2-1)}|j_{ab}=1,m_{ab}=1\\rangle\\otimes|j_c=1/2,m_c=1/2-1\\rangle\\Big) \\\\\n",
    "& = \\frac{1}{\\sqrt{3}}\\Big(\\sqrt{2}|j_{ab}=1,m_{ab}=0\\rangle\\otimes|j_c=1/2,m_c=1/2\\rangle + |j_{ab}=1,m_{ab}=1\\rangle\\otimes|j_c=1/2,m_c=-1/2\\rangle\\Big) \\\\\n",
    "& = \\frac{1}{\\sqrt{3}}\\Big(\\sqrt{2}\\frac{1}{\\sqrt{2}}(|\\uparrow\\downarrow\\rangle+|\\downarrow\\uparrow\\rangle)\\otimes|\\uparrow\\rangle + |\\uparrow\\uparrow\\rangle\\otimes|\\downarrow\\rangle\\Big) \\\\\n",
    "& = \\frac{1}{\\sqrt{3}}\\Big(|\\uparrow\\downarrow\\uparrow\\rangle+|\\downarrow\\uparrow\\uparrow\\rangle) + |\\uparrow\\uparrow\\downarrow\\rangle\\Big).\n",
    "\\end{align}"
   ]
  },
  {
   "cell_type": "markdown",
   "metadata": {},
   "source": [
    "Aplicando o operador de abaixamento novamente\n",
    "\\begin{align}\n",
    "J_-|j=3/2,m=1/2\\rangle & = \\hbar\\sqrt{(3/2)(3/2+1) - (1/2)(1/2-1)}|j=3/2,m=1/2-1\\rangle \\\\\n",
    "& = \\hbar 2|j=3/2,m=-1/2\\rangle\n",
    "\\end{align}\n",
    "teremos que\n",
    "\\begin{align}\n",
    "|j=3/2,m=-1/2\\rangle & = \\frac{1}{2\\hbar}(J_-^{ab}\\otimes I_c + I_{ab}\\otimes J_-^c)|j=3/2,m=1/2\\rangle \\\\\n",
    "& = \\frac{1}{2\\hbar\\sqrt{3}}\\Big(\\sqrt{2}J_-^{ab}|j_{ab}=1,m_{ab}=0\\rangle\\otimes|j_c=1/2,m_c=1/2\\rangle + J_-^{ab}|j_{ab}=1,m_{ab}=1\\rangle\\otimes|j_c=1/2,m_c=-1/2\\rangle + \\sqrt{2}|j_{ab}=1,m_{ab}=0\\rangle\\otimes J_-^c|j_c=1/2,m_c=1/2\\rangle + |j_{ab}=1,m_{ab}=1\\rangle\\otimes J_-^c|j_c=1/2,m_c=-1/2\\rangle\\Big) \\\\\n",
    "& = \\frac{1}{2\\hbar\\sqrt{3}}\\Big(\\sqrt{2}\\hbar\\sqrt{1(1+1)-0(0-1)}|j_{ab}=1,m_{ab}=0-1\\rangle\\otimes|j_c=1/2,m_c=1/2\\rangle + \\hbar\\sqrt{1(1+1)-1(1-1)}|j_{ab}=1,m_{ab}=1-1\\rangle\\otimes|j_c=1/2,m_c=-1/2\\rangle + \\sqrt{2}|j_{ab}=1,m_{ab}=0\\rangle\\otimes \\hbar\\sqrt{(1/2)(1/2+1)-(1/2)(1/2-1)}|j_c=1/2,m_c=1/2-1\\rangle + |j_{ab}=1,m_{ab}=1\\rangle\\otimes |\\oslash\\rangle\\Big) \\\\\n",
    "& = \\frac{1}{2\\sqrt{3}}\\Big(\\sqrt{2}\\sqrt{2}|j_{ab}=1,m_{ab}=-1\\rangle\\otimes|j_c=1/2,m_c=1/2\\rangle + \\sqrt{2}|j_{ab}=1,m_{ab}=0\\rangle\\otimes|j_c=1/2,m_c=-1/2\\rangle + \\sqrt{2}|j_{ab}=1,m_{ab}=0\\rangle\\otimes |j_c=1/2,m_c=-1/2\\rangle \\Big) \\\\\n",
    "& = \\frac{1}{2\\sqrt{3}}\\Big(\\sqrt{2}\\sqrt{2}|j_{ab}=1,m_{ab}=-1\\rangle\\otimes|j_c=1/2,m_c=1/2\\rangle + 2\\sqrt{2}|j_{ab}=1,m_{ab}=0\\rangle\\otimes|j_c=1/2,m_c=-1/2\\rangle \\Big) \\\\\n",
    "& = \\frac{1}{\\sqrt{3}}\\Big(|\\downarrow\\downarrow\\rangle\\otimes|\\uparrow\\rangle + \\sqrt{2}\\frac{1}{\\sqrt{2}}(|\\uparrow\\downarrow\\rangle+|\\downarrow\\uparrow\\rangle)\\otimes|\\downarrow\\rangle \\Big) \\\\\n",
    "& = \\frac{1}{\\sqrt{3}}\\Big(|\\downarrow\\downarrow\\uparrow\\rangle + |\\uparrow\\downarrow\\downarrow\\rangle + |\\downarrow\\uparrow\\downarrow\\rangle \\Big).\n",
    "\\end{align}\n",
    "\n",
    "Por fim teremos a única possibilidade\n",
    "\\begin{align}\n",
    "|j=3/2,m=-3/2\\rangle & = |j_{ab}=1,m_{ab}=-1\\rangle\\otimes|j_c=1/2,m_c=-1/2\\rangle \\\\\n",
    "& = |\\downarrow\\downarrow\\downarrow\\rangle.\n",
    "\\end{align}\n",
    "\n",
    "Note que esses quatro estados são todos simétricos por troca de pares de quantons."
   ]
  },
  {
   "cell_type": "markdown",
   "metadata": {},
   "source": [
    "Agora passamos para o caso \n",
    "$$j=1/2.$$\n",
    "Usando a restrição $m\\ne m_{ab}+m_c\\ \\Rightarrow\\ C_{m m_{ab}m_c}^{j j_{ab}j_c}=0$, lembrando que $m_{ab}=-1,0,1$ e $m_c=-1/2,1/2$, teremos que\n",
    "\\begin{align}\n",
    "|j=1/2,m=1/2\\rangle & = C_{1/2,1,-1/2}^{1/2,1,1/2}|j_{ab}=1,m_{ab}=1\\rangle\\otimes|j_c=1/2,m_c=-1/2\\rangle + C_{1/2,0,1/2}^{1/2,1,1/2}|j_{ab}=1,m_{ab}=0\\rangle\\otimes|j_c=1/2,m_c=1/2\\rangle \\\\\n",
    "& =: \\alpha|\\uparrow\\uparrow\\downarrow\\rangle + \\beta\\frac{1}{\\sqrt{2}}(|\\uparrow\\downarrow\\rangle+|\\downarrow\\uparrow\\rangle)\\otimes|\\uparrow\\rangle \\\\\n",
    "& =: \\alpha|\\uparrow\\uparrow\\downarrow\\rangle + \\frac{\\beta}{\\sqrt{2}}|\\uparrow\\downarrow\\uparrow\\rangle + \\frac{\\beta}{\\sqrt{2}}|\\downarrow\\uparrow\\uparrow\\rangle.\n",
    "\\end{align}\n",
    "Como a base deve ser ortonormal, vem que\n",
    "\\begin{align}\n",
    "& \\langle j=3/2,m=1/2|j=1/2,m=1/2\\rangle = \\frac{1}{\\sqrt{3}}\\big(\\alpha + 2\\beta/\\sqrt{2}) = 0 \\\\\n",
    "& \\therefore\\ \\alpha = -\\sqrt{2}\\beta.\n",
    "\\end{align}\n",
    "Da normalização do vetor de estado, obtemos\n",
    "\\begin{align}\n",
    "& \\langle j=1/2,m=1/2|j=1/2,m=1/2\\rangle = 1\\ \\therefore\\ |\\alpha|^2 + 2\\frac{|\\beta|^2}{2} =  |-\\sqrt{2}\\beta|^2 + |\\beta|^2 = 1 \\\\\n",
    "& \\therefore\\ 3|\\beta|^2=1\\ \\therefore\\ \\beta = \\frac{1}{\\sqrt{3}} \\\\\n",
    "& \\therefore\\ \\alpha = -\\sqrt{\\frac{2}{3}}.\n",
    "\\end{align}\n",
    "\n",
    "Assim\n",
    "$$|j=1/2,m=1/2\\rangle = -\\sqrt{\\frac{2}{3}}|\\uparrow\\uparrow\\downarrow\\rangle + \\frac{1}{\\sqrt{6}}|\\uparrow\\downarrow\\uparrow\\rangle + \\frac{1}{\\sqrt{6}}|\\downarrow\\uparrow\\uparrow\\rangle.$$"
   ]
  },
  {
   "cell_type": "markdown",
   "metadata": {},
   "source": [
    "Novamente, aplicamos o operador de abaixamento\n",
    "\\begin{align}\n",
    "J_-|j=1/2,m=1/2\\rangle = \\hbar\\sqrt{(1/2)(1/2+1)-(1/2)(1/2-1)}|j=1/2,m=1/2-1\\rangle = \\hbar|j=1/2,m=-1/2\\rangle.\n",
    "\\end{align}\n",
    "Assim, usando\n",
    "$$J_- = J_-^a\\otimes I_b\\otimes I_c + I_a\\otimes J_-^b\\otimes I_c  + I_a\\otimes I_b\\otimes J_-^c,  $$\n",
    "teremos\n",
    "\\begin{align}\n",
    "|j=1/2,m=-1/2\\rangle & = \\frac{1}{\\hbar}\\big(J_-^a\\otimes I_b\\otimes I_c + I_a\\otimes J_-^b\\otimes I_c  + I_a\\otimes I_b\\otimes J_-^c)\\Big(-\\sqrt{\\frac{2}{3}}|\\uparrow\\uparrow\\downarrow\\rangle + \\frac{1}{\\sqrt{6}}|\\uparrow\\downarrow\\uparrow\\rangle + \\frac{1}{\\sqrt{6}}|\\downarrow\\uparrow\\uparrow\\rangle\\Big) \\\\\n",
    "& = \\frac{1}{\\hbar}\\Big(-\\sqrt{\\frac{2}{3}}\\hbar\\sqrt{(1/2)(1/2+1)-(1/2)(1/2-1)}|\\downarrow\\uparrow\\downarrow\\rangle + \\frac{1}{\\sqrt{6}}\\hbar\\sqrt{1}|\\downarrow\\downarrow\\uparrow\\rangle + \\frac{1}{\\sqrt{6}}|\\oslash\\rangle|\\uparrow\\uparrow\\rangle \\\\\n",
    "& -\\sqrt{\\frac{2}{3}}\\hbar\\sqrt{1}|\\uparrow\\downarrow\\downarrow\\rangle + \\frac{1}{\\sqrt{6}}|\\uparrow\\rangle|\\oslash\\rangle|\\uparrow\\rangle + \\frac{1}{\\sqrt{6}}\\hbar\\sqrt{1}|\\downarrow\\downarrow\\uparrow\\rangle \\\\\n",
    "& -\\sqrt{\\frac{2}{3}}|\\uparrow\\uparrow\\rangle|\\oslash\\rangle + \\frac{1}{\\sqrt{6}}\\hbar\\sqrt{1}|\\uparrow\\downarrow\\downarrow\\rangle + \\frac{1}{\\sqrt{6}}\\hbar\\sqrt{1}|\\downarrow\\uparrow\\downarrow\\rangle \\Big) \\\\\n",
    "& = -\\sqrt{\\frac{2}{3}}|\\downarrow\\uparrow\\downarrow\\rangle + \\frac{1}{\\sqrt{6}}|\\downarrow\\downarrow\\uparrow\\rangle -\\sqrt{\\frac{2}{3}}|\\uparrow\\downarrow\\downarrow\\rangle + \\frac{1}{\\sqrt{6}}|\\downarrow\\downarrow\\uparrow\\rangle + \\frac{1}{\\sqrt{6}}|\\uparrow\\downarrow\\downarrow\\rangle + \\frac{1}{\\sqrt{6}}|\\downarrow\\uparrow\\downarrow\\rangle \\\\\n",
    "& = \\Big(-\\sqrt{\\frac{2}{3}}+\\frac{1}{\\sqrt{6}}\\Big)(|\\downarrow\\uparrow\\downarrow\\rangle+|\\uparrow\\downarrow\\downarrow\\rangle) + \\frac{2}{\\sqrt{6}}|\\downarrow\\downarrow\\uparrow\\rangle \\\\\n",
    "& = -\\frac{1}{\\sqrt{6}}(|\\downarrow\\uparrow\\downarrow\\rangle+|\\uparrow\\downarrow\\downarrow\\rangle) + \\sqrt{\\frac{2}{3}}|\\downarrow\\downarrow\\uparrow\\rangle \\\\\n",
    "\\end{align}\n",
    "\n",
    "OBS. Esse cálculo não deu certo usando $J_- = J_-^{ab}\\otimes I_c + I_{ab}\\otimes J_-^c.$ Entender ..."
   ]
  },
  {
   "cell_type": "markdown",
   "metadata": {},
   "source": [
    "Acima consideramos todas as possibilidades da soma com $j_{ab}=1$. Agora vamos considerar o que falta, que é\n",
    "$$j_{ab}=0\\ \\therefore\\ m_{ab}=0.$$\n",
    "Neste caso teremos que\n",
    "$$j = 1/2\\ \\therefore\\ m=-1/2,1/2.$$\n",
    "Lembrando da restrição \n",
    "$$m=m_{ab}+m_c = 0 + m_c = m_c$$\n",
    "teremos que\n",
    "\\begin{align}\n",
    "|j=1/2,m=-1/2\\rangle & = |j_{ab}=0,m_{ab}=0\\rangle\\otimes|j_c=1/2,m_c=-1/2\\rangle \\\\\n",
    "& = \\frac{1}{\\sqrt{2}}\\big(|\\uparrow\\downarrow\\rangle - |\\downarrow\\uparrow\\rangle\\big)|\\downarrow\\rangle \\\\\n",
    "|j=1/2,m=1/2\\rangle & = |j_{ab}=0,m_{ab}=0\\rangle\\otimes|j_c=1/2,m_c=1/2\\rangle \\\\\n",
    "& = \\frac{1}{\\sqrt{2}}\\big(|\\uparrow\\downarrow\\rangle - |\\downarrow\\uparrow\\rangle\\big)|\\uparrow\\rangle.\n",
    "\\end{align}"
   ]
  }
 ],
 "metadata": {
  "kernelspec": {
   "display_name": "Python 3 (ipykernel)",
   "language": "python",
   "name": "python3"
  },
  "language_info": {
   "codemirror_mode": {
    "name": "ipython",
    "version": 3
   },
   "file_extension": ".py",
   "mimetype": "text/x-python",
   "name": "python",
   "nbconvert_exporter": "python",
   "pygments_lexer": "ipython3",
   "version": "3.12.2"
  }
 },
 "nbformat": 4,
 "nbformat_minor": 4
}
