{
 "cells": [
  {
   "cell_type": "markdown",
   "metadata": {},
   "source": [
    "# Exercícios"
   ]
  },
  {
   "cell_type": "markdown",
   "metadata": {},
   "source": [
    "---\n",
    "$1.$ Usando a função gama generalizada, verifique que $\\int_{0}^{\\infty}x^{2s+1}e^{-ax^{2}}dx=s!/(2a^{s+1})$."
   ]
  },
  {
   "cell_type": "markdown",
   "metadata": {},
   "source": [
    "_SOL._ Função gama generalizada: $\\Gamma_{m}(n)=\\int_{0}^{\\infty}x^{n-1}e^{-mx}dx=(n-1)!/m^{n}.$ Fazendo a troca de variável $y=ax^{2}\\ \\therefore dy=2axdx, \\  x=(y/a)^{1/2}.$ Assim\n",
    "\\begin{align}\n",
    "& \\int_{0}^{\\infty}x^{2s+1}e^{-ax^{2}}dx = \\int_{0}^{\\infty}((y/a)^{1/2})^{2s+1}e^{-y}\\frac{dy}{2a(y/a)^{1/2}} \\\\\n",
    "& = \\frac{1}{2a}\\int_{0}^{\\infty}((y/a)^{1/2})^{2s+1-1}e^{-y}dy = \\frac{1}{2a^{1+s}}\\int_{0}^{\\infty}y^{s}e^{-y}dy \\\\\n",
    "&= \\frac{s!}{2a^{1+s}}.\n",
    "\\end{align}"
   ]
  },
  {
   "cell_type": "markdown",
   "metadata": {},
   "source": [
    "---\n",
    "$2.$ Verifique que $G(x,t) = e^{-x t/(1-t)}/(1-t)^{1+k}$ é a função geradora do polinômio associado de Laguerre $L_{j}^{k}(x)=(e^{x}x^{-k}/j!)\\partial_{x^{j}}(e^{-x}x^{j+k})$."
   ]
  },
  {
   "cell_type": "markdown",
   "metadata": {},
   "source": [
    "_SOL._"
   ]
  },
  {
   "cell_type": "markdown",
   "metadata": {},
   "source": [
    "---\n",
    "$3.$ Verifique a validade da relação $(j+1)L_{j+1}^{k}(x) = (2j+k+1-x)L_{j}^{k}(x) - (j+k)L_{j-1}^{k}(x)$ para os polinômios associados de Laguerre."
   ]
  },
  {
   "cell_type": "markdown",
   "metadata": {},
   "source": [
    "_SOL._"
   ]
  },
  {
   "cell_type": "markdown",
   "metadata": {},
   "source": [
    "---\n",
    "$4.$ Escreva explicitamente as autofunções $\\psi_{3,2,m_{l}}(r,\\theta,\\phi)$ de átomos hidrogenóides, para $m_{l}=0,\\pm1,\\pm2$."
   ]
  },
  {
   "cell_type": "markdown",
   "metadata": {},
   "source": [
    "_SOL._ Usando o código fornecido nas notas de aula, e depois de algumas manipulações, obtemos\n",
    "\\begin{align}\n",
    "& \\psi_{3,2,0} = \\frac{\\sqrt{6}}{54\\sqrt{\\pi}}\\sqrt{\\frac{Z^{7}}{a_{0}^{7}}}\\frac{1}{n^{2}}(3\\cos^{2}\\theta-1)r^{2}e^{-Zr/2na_{0}}, \\\\\n",
    "& \\psi_{3,2,\\pm1} = \\frac{\\sqrt{4}}{36\\sqrt{\\pi}}\\sqrt{\\frac{Z^{7}}{a_{0}^{7}}}\\frac{1}{n^{2}}\\cos\\theta\\sin\\theta r^{2}e^{-Zr/2na_{0}}, \\\\\n",
    "& \\psi_{3,2,\\pm2} = \\frac{\\sqrt{4}}{72\\sqrt{\\pi}}\\sqrt{\\frac{Z^{7}}{a_{0}^{7}}}\\frac{1}{n^{2}}\\sin^{2}\\theta r^{2}e^{-Zr/2na_{0}}.\n",
    "\\end{align}"
   ]
  },
  {
   "cell_type": "markdown",
   "metadata": {},
   "source": [
    "---\n",
    "$5.$ Verifique explicitamente a normalização da autofunção na Eq. $(\\bullet)$."
   ]
  },
  {
   "cell_type": "markdown",
   "metadata": {},
   "source": [
    "_SOL._ Usando $\\psi_{1,0,0}(r,\\theta,\\phi)=\\frac{1}{\\sqrt{\\pi}}\\left(\\frac{Z}{a_{0}}\\right)^{3/2}e^{-Zr/a_{0}}$ teremos\n",
    "\\begin{align}\n",
    "& \\iiint |\\psi_{1,0,0}(r,\\theta,\\phi)|^{2}d^{3}x = \\int_{0}^{\\infty}\\int_{0}^{\\pi}\\int_{0}^{2\\pi}\\frac{1}{\\pi}\\left(\\frac{Z}{a_{0}}\\right)^{3}e^{-2Zr/a_{0}}r^{2}\\sin\\theta drd\\theta d\\phi \\\\\n",
    "& = \\frac{1}{\\pi}\\left(\\frac{Z}{a_{0}}\\right)^{3}2\\pi\\left(-\\cos\\theta\\right)_{0}^{\\pi}\\int_{0}^{\\infty}r^{2}e^{-2Zr/a_{0}}dr = 4\\left(\\frac{Z}{a_{0}}\\right)^{3}\\int_{0}^{\\infty}r^{3-1}e^{-(2Z/a_{0})r}dr \\\\\n",
    "&= 4\\left(\\frac{Z}{a_{0}}\\right)^{3}\\Gamma_{2Z/a_{0}}(3) = 4\\left(\\frac{Z}{a_{0}}\\right)^{3}\\frac{(3-1)!}{(2Z/a_{0})^{3}} = 1,\n",
    "\\end{align}\n",
    "em que usamos a função Gama generalizada: $\\Gamma_{m}(n):=\\int_{0}^{\\infty}x^{n-1}e^{-mx}dx = \\frac{(n-1)!}{m^{n}}.$"
   ]
  },
  {
   "cell_type": "code",
   "execution_count": null,
   "metadata": {},
   "outputs": [],
   "source": []
  }
 ],
 "metadata": {
  "kernelspec": {
   "display_name": "Python 3 (ipykernel)",
   "language": "python",
   "name": "python3"
  },
  "language_info": {
   "codemirror_mode": {
    "name": "ipython",
    "version": 3
   },
   "file_extension": ".py",
   "mimetype": "text/x-python",
   "name": "python",
   "nbconvert_exporter": "python",
   "pygments_lexer": "ipython3",
   "version": "3.9.13"
  }
 },
 "nbformat": 4,
 "nbformat_minor": 4
}
