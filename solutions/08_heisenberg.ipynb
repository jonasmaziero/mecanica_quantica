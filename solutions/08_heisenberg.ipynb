{
 "cells": [
  {
   "cell_type": "markdown",
   "metadata": {},
   "source": [
    "### Notas de aula de Mecânica Quântica <br> Autor: Jonas Maziero\n",
    "\n",
    "# Exercícios"
   ]
  },
  {
   "cell_type": "markdown",
   "metadata": {},
   "source": [
    "---\n",
    "$1.$ Verifique que se duas funções $f_{1}(x,t)$ e $f_{2}(x,t)$ são soluções da equação de onda $v^{2}\\partial_{xx}f=\\partial_{tt}f$, então qualquer combinação linear $f=c_{1}f_{1}+c_{2}f_{2}$ também é solução, para $c_{1},c_{2}\\in\\mathbb{C}$ constantes."
   ]
  },
  {
   "cell_type": "markdown",
   "metadata": {},
   "source": [
    "_SOL._ A derivada em relação a um parâmetro $p$ é um operador linear, ou seja, para $f(p)=c_{1}f_{1}(p)+c_{2}f_{2}(p)$ com $c_{1},c_{2}\\in\\mathbb{C}$ constantes temos\n",
    "\\begin{align}\n",
    "\\partial_{p}f(p) &= \\partial_{p}(c_{1}f_{1}(p)+c_{2}f_{2}(p)) \\\\\n",
    "\\lim_{h\\rightarrow 0}\\frac{f(p+h)-f(p)}{h} & = \\lim_{h\\rightarrow 0}\\frac{c_{1}f_{1}(p+h)+c_{2}f_{2}(p+h)-c_{1}f_{1}(p)-c_{2}f_{2}(p)}{h} \\\\\n",
    "&= \\lim_{h\\rightarrow 0}\\left(c_{1}\\frac{f_{1}(p+h)-f_{1}(p)}{h} + c_{2}\\frac{f_{2}(p+h)-f_{2}(p)}{h}\\right) \\\\\n",
    "&=c_{1}\\lim_{h\\rightarrow 0}\\frac{f_{1}(p+h)-f_{1}(p)}{h} + c_{2}\\lim_{h\\rightarrow 0}\\frac{f_{2}(p+h)-f_{2}(p)}{h} \\\\\n",
    "&= c_{1}\\partial_{p}f_{1}(p) + c_{2}\\partial_{p}f_{2}(p).\n",
    "\\end{align}\n",
    "Então, se $v^{2}\\partial_{xx}f_{1}-\\partial_{tt}f_{1}=0$ e $v^{2}\\partial_{xx}f_{2}-\\partial_{tt}f_{2}=0$ podemos escrever\n",
    "\\begin{align}\n",
    "& v^{2}\\partial_{xx}f_{1}-\\partial_{tt}f_{1}+v^{2}\\partial_{xx}f_{2}-\\partial_{tt}f_{2}=0+0=0, \\\\\n",
    "& \\therefore c_{1}(v^{2}\\partial_{xx}f_{1}-\\partial_{tt}f_{1}) + c_{2}(v^{2}\\partial_{xx}f_{2}-\\partial_{tt}f_{2})=0, \\\\ \n",
    "& \\therefore v^{2}\\partial_{xx}(c_{1}f_{1}+c_{2}f_{2}) -\\partial_{tt}(c_{1}f_{1}+c_{2}f_{2})=0, \\\\\n",
    "& \\therefore v^{2}\\partial_{xx}f -\\partial_{tt}f=0.\n",
    "\\end{align}"
   ]
  },
  {
   "cell_type": "markdown",
   "metadata": {},
   "source": [
    "---\n",
    "$2.$ Verifique que $\\sin\\alpha+\\sin\\beta=2\\cos((\\alpha-\\beta)/2)\\sin((\\alpha+\\beta)/2)$."
   ]
  },
  {
   "cell_type": "markdown",
   "metadata": {},
   "source": [
    "_SOL._ Usando as igualdades trigonométricas $\\sin(\\alpha\\pm\\beta)=\\sin\\alpha\\cos\\beta\\pm\\cos\\alpha\\sin\\beta$,  $\\cos(\\alpha\\pm\\beta)=\\cos\\alpha\\cos\\beta\\mp\\sin\\alpha\\sin\\beta$, $2\\sin\\alpha\\cos\\alpha=\\sin(2\\alpha)$ e $\\sin^{2}\\alpha+\\cos^{2}\\alpha=1$ teremos\n",
    "\\begin{align}\n",
    "& \\cos((\\alpha-\\beta)/2)\\sin((\\alpha+\\beta)/2) = \\left(\\cos(\\alpha/2)\\cos(\\beta/2)+\\sin(\\alpha/2)\\sin(\\beta/2)\\right)\\left(\\sin(\\alpha/2)\\cos(\\beta/2)+\\cos(\\alpha/2)\\sin(\\beta/2)\\right) \\\\\n",
    "& = \\sin(\\alpha/2)\\cos(\\alpha/2)\\cos^{2}(\\beta/2) + \\cos^{2}(\\alpha/2)\\sin(\\beta/2)\\cos(\\beta/2) + \\sin^{2}(\\alpha/2)\\sin(\\beta/2)\\cos(\\beta/2) + \\sin(\\alpha/2)\\cos(\\alpha/2)\\sin^{2}(\\beta/2) \\\\\n",
    "& = \\sin(\\alpha/2)\\cos(\\alpha/2) + \\sin(\\beta/2)\\cos(\\beta/2) \\\\\n",
    "& = (\\sin\\alpha+\\sin\\beta)/2.\n",
    "\\end{align}"
   ]
  },
  {
   "cell_type": "markdown",
   "metadata": {},
   "source": [
    "---\n",
    "$3.$ O pacote de ondas Gaussiano unidimensional, centrado em $x=0$, é associado com a função de onda (em $t=0$): \n",
    "\\begin{equation}\n",
    "\\psi(x)=Ae^{-x^{2}/4\\sigma^{2}},\n",
    "\\end{equation}\n",
    "com $\\sigma\\in\\mathbb{R}$. Segundo a interpretação de Born da função de onda, se somarmos a probabilidade de todas as posições possíveis do quanton, temos que ter $\\int_{-\\infty}^{+\\infty}|\\psi(x)|^{2}dx=1$. Use essa condição de normalização para obter a constante de normalização $A$. Calcule também o valor médio e desvio padrão de $X$."
   ]
  },
  {
   "cell_type": "markdown",
   "metadata": {},
   "source": [
    "_SOL._ Usaremos a integral Gaussiana $\\int_{-\\infty}^{+\\infty}e^{-ax^{2}}dx=\\sqrt{\\pi/a}$. Pela condição de normalização segue que\n",
    "\\begin{align}\n",
    "1 &= \\int_{-\\infty}^{+\\infty}|\\psi(x)|^{2}dx = A^{2}\\int_{-\\infty}^{+\\infty}e^{-x^{2}/2\\sigma^{2}}dx = A^{2}\\sqrt{\\pi2\\sigma^{2}}, \\\\\n",
    "& \\therefore A = 1/\\sqrt{\\sqrt{2\\pi\\sigma^{2}}}.\n",
    "\\end{align}\n",
    "Assim o valor médio de $X$ é\n",
    "\\begin{equation}\n",
    "\\langle X\\rangle = \\int_{-\\infty}^{+\\infty}x|\\psi(x)|^{2}dx = \\frac{1}{\\sqrt{2\\pi\\sigma^{2}}}\\int_{-\\infty}^{+\\infty}xe^{-x^{2}/2\\sigma^{2}}dx = 0,\n",
    "\\end{equation}\n",
    "pois é a integral de uma função ímpar. Para calcular o desvio padrão, $\\sigma_{x}=\\sqrt{\\langle X^{2}\\rangle-\\langle X\\rangle^{2}}$, precisamos ainda calcular $\\langle X^{2}\\rangle$. Usando $\\int_{-\\infty}^{+\\infty}x^{2}e^{-ax^{2}}dx=\\sqrt{\\pi/4a^{3}}$ teremos\n",
    "\\begin{equation}\n",
    "\\langle X^{2}\\rangle = \\int_{-\\infty}^{+\\infty}x^{2}|\\psi(x)|^{2}dx = \\frac{1}{\\sqrt{2\\pi\\sigma^{2}}}\\int_{-\\infty}^{+\\infty}x^{2}e^{-x^{2}/2\\sigma^{2}}dx = \\frac{1}{\\sqrt{2\\pi\\sigma^{2}}}\\sqrt{\\pi 2^{3}\\sigma^{6}/4} = \\sigma^{2}.\n",
    "\\end{equation}"
   ]
  },
  {
   "cell_type": "markdown",
   "metadata": {},
   "source": [
    "---\n",
    "$4.$ Vimos que a velocidade de fase de uma onda harmônica é $v_{f}=\\omega/k$ e que a velocidade de grupo de uma combinação linear de ondas harmônicas, um pacote de ondas, é $v_{g}=d\\omega/dk$. Usando essas relações, mostre que \\begin{equation}\n",
    "v_{g}=v_{f}+k\\frac{dv_{f}}{dk}=v_{f}-\\lambda\\frac{dv_{f}}{d\\lambda}.\n",
    "\\end{equation}\n",
    "O vidro é um meio dispersivo, pois nele a velocidade de fase depende do comprimento de onda da radiação eletromagnética. Discorra sobre a forma dessa dependência $v_{f}=v_{f}(\\lambda)$ para o vidro."
   ]
  },
  {
   "cell_type": "markdown",
   "metadata": {},
   "source": [
    "_SOL._ Como $\\omega=kv_{f}$, $k=2\\pi/\\lambda\\therefore \\lambda=2\\pi/k$ e $k\\frac{d}{dk} = \\frac{2\\pi}{\\lambda}\\frac{d\\lambda}{d k}\\frac{d}{d\\lambda} = \\frac{2\\pi}{\\lambda}\\left(\\frac{-2\\pi}{k^{2}}\\right)\\frac{d}{d\\lambda}= \\frac{2\\pi}{\\lambda}\\left(\\frac{-2\\pi\\lambda^{2}}{(2\\pi)^{2}}\\right)\\frac{d}{d\\lambda} = -\\lambda\\frac{d}{d\\lambda}$ teremos\n",
    "\\begin{equation}\n",
    "v_{g} = \\frac{d(kv_{f})}{dk} = v_{f} + k\\frac{dv_{f}}{dk} = v_{f} - \\lambda\\frac{dv_{f}}{d\\lambda}.\n",
    "\\end{equation}"
   ]
  },
  {
   "cell_type": "markdown",
   "metadata": {},
   "source": [
    "---\n",
    "$5.$ No interior do núcleo atômico os prótons e nêutrons estão confinados em uma região de aproximadamente $10^{-15}\\text{ m}$ de diâmetro. Quais são a velocidade mínima e a energia cinética mínima desses quantons nessas condições? Qual seriam a velocidade e energia cinética mínimas de um elétron nessas condições?"
   ]
  },
  {
   "cell_type": "markdown",
   "metadata": {},
   "source": [
    "_SOL._ Pela relação de indeterminação de Heisenberg entre posição e momento linear, teremos $\\sigma_{x}\\sigma_{p}=d\\sigma_{p}\\ge \\hbar$. Aplicando um tratamento não relativístico ao próton e nêutron, aproximamos suas velocidade por $v\\approx p/m\\approx \\sigma_{p}/m \\approx \\hbar/dm$. Para o próton $v_{p}\\approx 6,31\\mathrm{x}10^{7}\\text{ m/s}$ e para o nêutron $v_{n}\\approx 6,30\\mathrm{x}10^{7}\\text{ m/s}$. A energia cinética mínima desses quantons é então da ordem $E_{c}\\approx mv^{2}/2\\approx 20,75\\text{ MeV}$. Disso esperamos que o elétron tenha movimento relativístico. No entanto, se usamos novamente $v_{e}=p_{e}/m_{e}$ teremos a velocidade mínima $v_{e}\\approx 1,16\\mathrm{x}10^{11}\\text{ m/s}>c$, que não é possível. Na realidade, para esse regime de movimento, $v\\approx c$, teremos uma energia cinética mínima $E_{c}\\approx pc \\approx \\sigma_{p}c\\approx \\hbar c/\\sigma_{x}\\approx 197,33\\text{ MeV}$."
   ]
  },
  {
   "cell_type": "code",
   "execution_count": 4,
   "metadata": {},
   "outputs": [
    {
     "data": {
      "text/plain": [
       "(63049015.119195305,\n",
       " 62962225.87855483,\n",
       " 20749804.392758835,\n",
       " 115767637652.91342,\n",
       " 197326947.9361143)"
      ]
     },
     "execution_count": 4,
     "metadata": {},
     "output_type": "execute_result"
    }
   ],
   "source": [
    "h = 6.626069*10**-34 # Js (constante de Planck)\n",
    "import math\n",
    "hb = h/(2*math.pi) # hbar\n",
    "me = 9.109382*10**-31 # kg (massa do elétron)\n",
    "mp = 1.6726219*10**-27 # kg (massa do próton)\n",
    "mn = 1.67492749804*10**-27 # kg (massa do nêutron)\n",
    "c = 2.99792458*10**8 # m/s (velocidade da luz no vácuo)\n",
    "e = 1.60217662*10**-19 # C (carga elementar)\n",
    "d = 10**-15; vp = hb/(mp*d); vn = hb/(mn*d); Ecp = (mp*vp**2)/2; ve = hb/(me*d); Ece = (hb*c)/d\n",
    "vp, vn, Ecp/e, ve, Ece/e"
   ]
  },
  {
   "cell_type": "markdown",
   "metadata": {},
   "source": [
    "---\n",
    "$6.$ Usando LASERs, pode-se produzir pulsos de luz com duração da ordem de fentosegundos ($10^{-15}\\text{ s}$). Tais pulsos são tão curtos que não é possível associar uma cor específica a eles. Para suportar tal afirmação, calcule a duração de um pulso de laser cujo intervalo de frequência cobre tada a faixa visível ($4-7,5\\mathrm{x}10^{14}\\text{ Hz}$)."
   ]
  },
  {
   "cell_type": "markdown",
   "metadata": {},
   "source": [
    "_SOL._ Usando que para tal pacote de onda, o tempo de chagada e a energia devem obedecer uma relação de indeterminação de Heisenberg $\\sigma_{E}\\sigma_{t}= \\sigma_{\\hbar\\omega}\\sigma_{t}= \\hbar 2\\pi\\sigma_{\\nu}\\sigma_{t}\\ge \\hbar$. Assim, a duração mínima do pulso de luz visível seria $t\\approx \\sigma_{t}\\approx 1/2\\pi\\sigma_{\\nu}\\approx 4,55\\mathrm{x}10^{-16}\\text{ s}$."
   ]
  },
  {
   "cell_type": "code",
   "execution_count": 5,
   "metadata": {},
   "outputs": [
    {
     "data": {
      "text/plain": [
       "4.547284088339867e-16"
      ]
     },
     "execution_count": 5,
     "metadata": {},
     "output_type": "execute_result"
    }
   ],
   "source": [
    "from sympy import pi\n",
    "float(1/(2*pi*(7.5-4)*10**14))"
   ]
  },
  {
   "cell_type": "markdown",
   "metadata": {},
   "source": [
    "---\n",
    "$7.$ Um estado excitado de um certo núcleo tem uma meia-vida de $0,85\\text{ ns}$. Considerando que esse tempo é a indeterminação do tempo de emissão de um fóton, calcule a indeterminação de sua frequência. Calcule também $\\sigma_{\\nu}/\\nu$ para $\\lambda=0,01\\text{ nm}$."
   ]
  },
  {
   "cell_type": "markdown",
   "metadata": {},
   "source": [
    "_SOL._ Temos que $E=h\\nu$ e que $\\sigma_{E}\\sigma_{t}=h\\sigma_{\\nu}\\sigma_{t}\\approx \\hbar = h/2\\pi$. Teremos assim que $\\sigma_{\\nu}\\approx \\sigma_{t}/2\\pi = 0,85\\text{ ns}/2\\pi \\approx 1,14\\text{x}10^{-10}\\text{ Hz}$. Ademais $\\nu=c\\lambda\\approx 3\\text{x}10^{19}\\text{ Hz}$ e $\\sigma_{\\nu}/\\nu\\approx 4,51\\text{x}10^{-21}$."
   ]
  },
  {
   "cell_type": "code",
   "execution_count": 6,
   "metadata": {},
   "outputs": [
    {
     "data": {
      "text/plain": [
       "(0.13528170162811104, 2.9979245799999996e+19, 4.512511840044724e-21)"
      ]
     },
     "execution_count": 6,
     "metadata": {},
     "output_type": "execute_result"
    }
   ],
   "source": [
    "df = 0.85/(2*math.pi); f = c/(0.01*10**-9); df, f, df/f"
   ]
  },
  {
   "cell_type": "code",
   "execution_count": null,
   "metadata": {},
   "outputs": [],
   "source": []
  }
 ],
 "metadata": {
  "kernelspec": {
   "display_name": "Python 3 (ipykernel)",
   "language": "python",
   "name": "python3"
  },
  "language_info": {
   "codemirror_mode": {
    "name": "ipython",
    "version": 3
   },
   "file_extension": ".py",
   "mimetype": "text/x-python",
   "name": "python",
   "nbconvert_exporter": "python",
   "pygments_lexer": "ipython3",
   "version": "3.11.1"
  }
 },
 "nbformat": 4,
 "nbformat_minor": 4
}
