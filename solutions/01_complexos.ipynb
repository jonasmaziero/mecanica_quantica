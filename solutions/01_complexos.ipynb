{
 "cells": [
  {
   "cell_type": "markdown",
   "metadata": {
    "slideshow": {
     "slide_type": "-"
    }
   },
   "source": [
    "### Notas de aula de Mecânica Quântica <br> Autor: Jonas Maziero\n",
    "\n",
    "# Exercícios"
   ]
  },
  {
   "cell_type": "markdown",
   "metadata": {},
   "source": [
    "---\n",
    "$1.$ Considere o número complexo $z=3+5i$. Quais são suas partes real e imaginária? Calcule o conjugado e o módulo de $z$. Represente $z$ no plano complexo."
   ]
  },
  {
   "cell_type": "markdown",
   "metadata": {},
   "source": [
    "_SOL._ $\\Re(z)=3$, $\\Im(z)=5$, $z^{*}=3-5i$, $|z|=\\sqrt{3^{2}+5^{2}}=\\sqrt{34}$. A representação é a de um vetor no plano cartesiano com componentes $x=3$ e $y=5.$"
   ]
  },
  {
   "cell_type": "markdown",
   "metadata": {},
   "source": [
    "---\n",
    "$2.$ Verifique que $|z|=|z^{*}|$ para qualquer $z\\in\\mathbb{C}$."
   ]
  },
  {
   "cell_type": "markdown",
   "metadata": {},
   "source": [
    "_SOL._ $|z^{*}|=|\\Re(z)+i(-\\Im{(z)})|=\\sqrt{\\Re(z)^{2}+(-\\Im{(z)})^{2}}=\\sqrt{\\Re(z)^{2}+\\Im(z)^{2}}=|z|$."
   ]
  },
  {
   "cell_type": "markdown",
   "metadata": {},
   "source": [
    "---\n",
    "$3.$ Para $z=3+5i$ e $w=4+7i$, calcule $z+w$, $z-w$, $zw$, $z/w$, $|z+w|$, $|z-w|$, $|zw|$ e $|z/w|$."
   ]
  },
  {
   "cell_type": "markdown",
   "metadata": {},
   "source": [
    "_SOL._ $z+w=7+12i$, $z-w=-1-2i$, $zw=(12-35)+i(21+20)=-23+i41$, $|w|^{2}=4^{2}+7^{2}=16+49=65$, $z/w=zw^{*}/|w|^{2}=(12+35)/65+i(-21+20)/65=47/65+i(-1/65)\\approx 0,72-0,02i$, $|z+w|=\\sqrt{7^{2}+12^{2}}=\\sqrt{49+144}=\\sqrt{193}$, $|z-w|=\\sqrt{(-1)^{2}+(-2)^{2}}=\\sqrt{5}$, $|zw|=\\sqrt{23**2+41**2}=\\sqrt{529+1681}=\\sqrt{2210}$, $|z/w|\\approx\\sqrt{0,72^{2}+(-0,02)^{2}}\\approx 0,52$."
   ]
  },
  {
   "cell_type": "code",
   "execution_count": 1,
   "metadata": {},
   "outputs": [
    {
     "data": {
      "text/plain": [
       "(0.7230769230769231, -0.015384615384615385, 0.5187999999999999)"
      ]
     },
     "execution_count": 1,
     "metadata": {},
     "output_type": "execute_result"
    }
   ],
   "source": [
    "47/65., -1/65., 0.72**2+0.02**2"
   ]
  },
  {
   "cell_type": "markdown",
   "metadata": {},
   "source": [
    "---\n",
    "$4.$ Verifique que $\\Re(zw^{*})=\\Re(z)\\Re(w)+\\Im(z)\\Im(w)$ e que $\\Im(zw^{*})=-\\Re(z)\\Im(w)+\\Im(z)\\Re(w)$."
   ]
  },
  {
   "cell_type": "markdown",
   "metadata": {},
   "source": [
    "_SOL._ Temos que\n",
    "\\begin{align}\n",
    "zw^{*} &= \\left(\\Re(z)+i\\Im(z)\\right)\\left(\\Re(w)-i\\Im(w)\\right) \\\\\n",
    "&= \\left(\\Re(z)\\Re(w)+\\Im(z)\\Im(w)\\right) +i\\left(-\\Re(z)\\Im(w)+\\Im(z)\\Re(w)\\right) \\\\\n",
    "&= \\Re(zw^{*}) +i\\Im(zw^{*}).\n",
    "\\end{align}"
   ]
  },
  {
   "cell_type": "markdown",
   "metadata": {},
   "source": [
    "---\n",
    "$5.$ Usando expansões em série de Taylor, verifique que $e^{x}e^{y}=e^{x+y}$ e $e^{ix}e^{iy}=e^{i(x+y)}$ para $x,y\\in\\mathbb{R}$."
   ]
  },
  {
   "cell_type": "markdown",
   "metadata": {},
   "source": [
    "_SOL._ Teremos que \n",
    "\\begin{align}\n",
    "e^{x+y} &= \\sum_{j=0}^{\\infty}\\frac{(x+y)^{j}}{j!} \\\\\n",
    "&= 1 + x+y + \\frac{(x+y)^{2}}{2} + \\frac{(x+y)^{3}}{3!} + \\cdots \\\\\n",
    "&= 1 + x+y + \\frac{x^{2}+y^{2}+2xy}{2} + \\frac{x^{3}+y^{3}+2x^{2}y+3xy^{2}}{3!} + \\cdots.\n",
    "\\end{align}\n",
    "Também temos\n",
    "\\begin{align}\n",
    "e^{x}e^{y} &= \\left(1+x+\\frac{x^{2}}{2}+\\frac{x^{3}}{3!}+\\cdots\\right)\\left(1+y+\\frac{y^{2}}{2}+\\frac{y^{3}}{3!}+\\cdots\\right) \\\\\n",
    "&= 1 + x + y + \\frac{2xy}{2} + \\frac{x^{2}}{2} + \\frac{y^{2}}{2} + \\frac{3xy^{2}}{(3)(2)} + \\frac{3x^{2}y}{(3)(2)}+\\frac{x^{3}}{3!}+\\frac{y^{3}}{3!}+\\cdots.\n",
    "\\end{align}\n",
    "Com isso fica \"mostrado\" que $e^{x}e^{y}=e^{x+y}$."
   ]
  },
  {
   "cell_type": "markdown",
   "metadata": {},
   "source": [
    "Teremos que \n",
    "\\begin{align}\n",
    "e^{i(x+y)} &= \\sum_{j=0}^{\\infty}\\frac{(i(x+y))^{j}}{j!} \\\\\n",
    "&= 1 + i(x+y) + \\frac{i^{2}(x+y)^{2}}{2} + \\frac{i^{2}i(x+y)^{3}}{3!} + \\cdots \\\\\n",
    "&= 1 + i(x+y) - \\frac{x^{2}+y^{2}+2xy}{2} -i \\frac{x^{3}+y^{3}+2x^{2}y+3xy^{2}}{3!} + \\cdots.\n",
    "\\end{align}\n",
    "Também temos\n",
    "\\begin{align}\n",
    "e^{ix}e^{iy} &= \\left(1+ix-\\frac{x^{2}}{2}-i\\frac{x^{3}}{3!}+\\cdots\\right)\\left(1+iy-\\frac{y^{2}}{2}-i\\frac{y^{3}}{3!}+\\cdots\\right) \\\\\n",
    "&= 1 + ix + iy - \\frac{2xy}{2} - \\frac{x^{2}}{2} - \\frac{y^{2}}{2} -i\\frac{3xy^{2}}{(3)(2)} -i\\frac{3x^{2}y}{(3)(2)}-i\\frac{x^{3}}{3!}-i\\frac{y^{3}}{3!}+\\cdots.\n",
    "\\end{align}\n",
    "Com isso fica \"mostrado\" que $e^{ix}e^{iy}=e^{i(x+y)}$."
   ]
  },
  {
   "cell_type": "code",
   "execution_count": 2,
   "metadata": {},
   "outputs": [
    {
     "data": {
      "text/latex": [
       "$\\displaystyle x^{3} + 3 x^{2} y + 3 x y^{2} + y^{3}$"
      ],
      "text/plain": [
       "x**3 + 3*x**2*y + 3*x*y**2 + y**3"
      ]
     },
     "execution_count": 2,
     "metadata": {},
     "output_type": "execute_result"
    }
   ],
   "source": [
    "from sympy import symbols, expand \n",
    "\n",
    "x,y=symbols('x y'); expand((x+y)**3)"
   ]
  },
  {
   "cell_type": "code",
   "execution_count": null,
   "metadata": {},
   "outputs": [],
   "source": []
  }
 ],
 "metadata": {
  "kernelspec": {
   "display_name": "Python 3 (ipykernel)",
   "language": "python",
   "name": "python3"
  },
  "language_info": {
   "codemirror_mode": {
    "name": "ipython",
    "version": 3
   },
   "file_extension": ".py",
   "mimetype": "text/x-python",
   "name": "python",
   "nbconvert_exporter": "python",
   "pygments_lexer": "ipython3",
   "version": "3.11.1"
  }
 },
 "nbformat": 4,
 "nbformat_minor": 4
}
