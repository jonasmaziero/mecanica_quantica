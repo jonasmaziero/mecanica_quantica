{
 "cells": [
  {
   "cell_type": "markdown",
   "id": "ce992859-f0f7-4168-b41e-f34cb3878554",
   "metadata": {},
   "source": [
    "### Notas de aula de Mecânica Quântica <br> Autor: Jonas Maziero\n",
    "# Exercícios"
   ]
  },
  {
   "cell_type": "markdown",
   "id": "694ee2e5",
   "metadata": {},
   "source": [
    "---\n",
    "$1.$ Obtenha o potencial vetor magnético gerado por um solenóide infinito de raio $a$, com $n$ voltas por unidade de comprimento, pelo qual passa uma corrente elétrica $I$. Use a condição de calibre $\\vec{\\nabla}\\cdot\\vec{A}=0$."
   ]
  },
  {
   "cell_type": "markdown",
   "id": "0593c338",
   "metadata": {},
   "source": [
    "_SOL._"
   ]
  },
  {
   "cell_type": "markdown",
   "id": "8f81df46",
   "metadata": {},
   "source": [
    "---\n",
    "$2.$ Impondo a condição de calibre $\\vec{\\nabla}\\cdot\\vec{A}=0$, verifique que $\\big(-i\\hbar\\vec{\\nabla} -q\\vec{A}\\big)^{2} = -\\hbar^{2}\\nabla^{2} + 2i\\hbar q\\vec{A}\\cdot\\vec{\\nabla}+q^{2}A^{2}.$"
   ]
  },
  {
   "cell_type": "markdown",
   "id": "98061490",
   "metadata": {},
   "source": [
    "_SOL._ Usando\n",
    "\\begin{align}\n",
    "\\nabla\\cdot(\\vec{A}\\psi) & = \\sum_{j}\\hat{e}_{j}\\nabla_{j}\\cdot\\sum_{k}\\hat{e}_{k}A_{k}\\psi = \\sum_{j,k}\\hat{e}_{j}\\cdot\\hat{e}_{k}\\nabla_{j}(A_{k}\\psi) \\\\\n",
    "& = \\sum_{j,k}\\delta_{j,k}\\big((\\nabla_{j}A_{k})\\psi + A_{k}(\\nabla_{j}\\psi)\\big) \\\\\n",
    "& = \\sum_{j}\\big((\\nabla_{j}A_{j})\\psi + A_{j}(\\nabla_{j}\\psi)\\big) \\\\\n",
    "& = \\nabla\\cdot\\vec{A} + \\vec{A}\\cdot\\nabla\\psi\n",
    "\\end{align}\n",
    "vemos que\n",
    "\\begin{align}\n",
    "\\big(-i\\hbar\\nabla -q\\vec{A}\\big)^{2}\\psi & = \\big(-i\\hbar\\nabla -q\\vec{A}\\big)\\cdot\\big(-i\\hbar\\nabla\\psi -q\\vec{A}\\psi\\big) \\\\\n",
    "& = -\\hbar^{2}\\nabla\\cdot\\nabla\\psi + i\\hbar q\\nabla\\cdot(\\vec{A}\\psi) + i\\hbar q\\vec{A}\\cdot\\nabla\\psi + q^{2}\\vec{A}\\cdot\\vec{A}\\psi \\\\\n",
    "& = -\\hbar^{2}\\nabla^{2}\\psi + i\\hbar q(\\nabla\\cdot\\vec{A})\\psi  + i\\hbar q\\vec{A}\\cdot\\nabla\\psi + i\\hbar q\\vec{A}\\cdot\\nabla\\psi + q^{2}A^{2}\\psi \\\\\n",
    "& = -\\hbar^{2}\\nabla^{2}\\psi + 2i\\hbar q\\vec{A}\\cdot\\nabla\\psi + q^{2}A^{2}\\psi.\n",
    "\\end{align}"
   ]
  },
  {
   "cell_type": "markdown",
   "id": "cc919c92",
   "metadata": {},
   "source": [
    "---\n",
    "$3.$ Para $g=\\frac{q}{\\hbar}\\int_{\\mathcal{O}}^{r}\\vec{A}(\\vec{r}')\\cdot d\\vec{r}'$, verifique que $\\vec{\\nabla}g=q\\hbar^{-1}\\vec{A}$."
   ]
  },
  {
   "cell_type": "markdown",
   "id": "73daaeb2",
   "metadata": {},
   "source": [
    "_SOL._\n",
    "\\begin{align}\n",
    "\\vec{\\nabla}g & = \\vec{\\nabla}\\frac{q}{\\hbar}\\int_{\\mathcal{O}}^{r}\\vec{A}(\\vec{r}')\\cdot d\\vec{r}' \\\\\n",
    "& = \\frac{q}{\\hbar}\\sum_j \\hat{e}_j\\partial_j \\int_{0}^{x_k}\\sum_k A_k(\\vec{r}')dx'_k \\\\\n",
    "& = \\frac{q}{\\hbar}\\sum_{j,k} \\hat{e}_j \\delta_{j,k}\\frac{\\partial }{\\partial x_j}\\int_0^{x_j} A_k(x_1',x_2',x_3')dx'_k \\\\\n",
    "& = \\frac{q}{\\hbar}\\sum_{j} \\hat{e}_j A_j(x_1,x_2,x_3) \\\\\n",
    "& = \\frac{q}{\\hbar}\\vec{A}.\n",
    "\\end{align}"
   ]
  },
  {
   "cell_type": "markdown",
   "id": "5a614a32",
   "metadata": {},
   "source": [
    "---\n",
    "$4.$ Para funções $f$ e $g$ quaisquer, verifique que $\\vec{\\nabla}\\cdot(f\\vec{\\nabla}g) = (\\vec{\\nabla}f)\\cdot(\\vec{\\nabla}g)+f\\nabla^{2}g$."
   ]
  },
  {
   "cell_type": "markdown",
   "id": "c5f1af19",
   "metadata": {},
   "source": [
    "_SOL._ Nesse caso, partimos direto do lado esquerdo\n",
    "\\begin{align}\n",
    "\\vec{\\nabla}\\cdot(f\\vec{\\nabla}g) & = \\sum_j \\hat{e}_j\\nabla_j \\cdot \\big(f\\sum_k\\hat{e}_k\\nabla_k g\\big) \\\\\n",
    "& = \\sum_{j,k} \\hat{e}_j \\cdot\\hat{e}_k \\nabla_j \\big(f\\nabla_k g\\big) \\\\\n",
    "& = \\sum_{j}\\hat{e}_j (\\nabla_j f)\\cdot\\sum_k \\hat{e}_k(\\nabla_k g) +  f\\sum_{j,k}\\delta_{j,k}\\nabla_{j}\\nabla_k g  \\\\\n",
    "& = (\\vec{\\nabla}f)\\cdot(\\vec{\\nabla}g)  +  f\\sum_{j}\\nabla_{j}\\nabla_j g  \\\\\n",
    "& = (\\vec{\\nabla}f)\\cdot(\\vec{\\nabla}g) +  f\\sum_{j}\\nabla_{jj} g  \\\\\n",
    "& = (\\vec{\\nabla}f)\\cdot(\\vec{\\nabla}g)+f\\nabla^{2}g.\n",
    "\\end{align}"
   ]
  }
 ],
 "metadata": {
  "kernelspec": {
   "display_name": "Python 3 (ipykernel)",
   "language": "python",
   "name": "python3"
  },
  "language_info": {
   "codemirror_mode": {
    "name": "ipython",
    "version": 3
   },
   "file_extension": ".py",
   "mimetype": "text/x-python",
   "name": "python",
   "nbconvert_exporter": "python",
   "pygments_lexer": "ipython3",
   "version": "3.12.2"
  }
 },
 "nbformat": 4,
 "nbformat_minor": 5
}
