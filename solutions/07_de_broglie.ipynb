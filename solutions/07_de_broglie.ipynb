{
 "cells": [
  {
   "cell_type": "markdown",
   "metadata": {},
   "source": [
    "### Notas de aula de Mecânica Quântica <br> Autor: Jonas Maziero\n",
    "\n",
    "# Exercícios"
   ]
  },
  {
   "cell_type": "markdown",
   "metadata": {},
   "source": [
    "---\n",
    "$1.$ Se a energia cinética de uma partícula for muito maior que sua energia de repouso, podemos usar a aproximação $pc\\approx E_{c}\\approx E$. Verifique que essa aproximação é razoável para um elétron com energia cinética $100\\text{ GeV}$, e calcule seu comprimento de onda de de Broglie."
   ]
  },
  {
   "cell_type": "markdown",
   "metadata": {},
   "source": [
    "_SOL._ A energia de repouso do elétron é $E_{0}=m_{e}c^{2}\\approx 0,51\\text{ MeV}$. Com isso $E_{c}\\approx 10^{4}E_{0}$, que justifica a aproximação. Nesse caso $E\\approx 100\\text{ GeV}=h\\nu=hc/\\lambda$. Assim\n",
    "$\\lambda=hc/100\\text{ GeV}\\approx 123,98\\text{x}10^{-15}\\text{ m}$."
   ]
  },
  {
   "cell_type": "code",
   "execution_count": 3,
   "metadata": {},
   "outputs": [
    {
     "data": {
      "text/plain": [
       "(510998.8590141796, 1.2398417799827851e-17)"
      ]
     },
     "execution_count": 3,
     "metadata": {},
     "output_type": "execute_result"
    }
   ],
   "source": [
    "me = 9.109382*10**-31 # kg (massa do elétron)\n",
    "c = 2.99792458*10**8 # m/s (velocidade da luz no vácuo)\n",
    "e = 1.60217662*10**-19 # C (carga elementar)\n",
    "h = 6.626069*10**-34 # Js (constante de Planck)\n",
    "heV = h/e # em eV\n",
    "(me*c**2)/e, (heV*c)/(100*10**9)"
   ]
  },
  {
   "cell_type": "markdown",
   "metadata": {},
   "source": [
    "---\n",
    "$2.$ Os elétrons de um microscópio eletrônico são acelerados por uma ddp $V_{0}$ que faz com que eles tenham comprimento de onda de de Broglie igual a $0,04\\text{ nm}$. Determine o valor de $V_{0}$."
   ]
  },
  {
   "cell_type": "markdown",
   "metadata": {},
   "source": [
    "_SOL._ O comprimento de onda de de Broglie pode ser escrito como $\\lambda_{d}=\\lambda_{c}/\\sqrt{(E_{c}/E_{0})(E_{c}/E_{0}+2)}$, com o comprimento de onda de Compton sendo $\\lambda_{c}=h/m_{0}c$. Assim\n",
    "\\begin{align}\n",
    "& (E_{c}/E_{0})^{2}+2(E_{c}/E_{0})-(\\lambda_{c}/\\lambda_{d})^{2}=0, \\\\\n",
    "& \\therefore \\frac{E_{c}}{E_{0}} = \\frac{-2\\pm\\sqrt{4+4(\\lambda_{c}/\\lambda_{d})^{2}}}{2}, \\\\\n",
    "& \\therefore V_{0} = \\frac{E_{c}}{e} = \\frac{E_{0}}{e}\\left(-1\\pm\\sqrt{1+(\\lambda_{c}/\\lambda_{d})^{2}}\\right) \\approx 939.21\\text{ V}.\n",
    "\\end{align}\n",
    "Acima usamos somente a solução positiva."
   ]
  },
  {
   "cell_type": "code",
   "execution_count": 15,
   "metadata": {},
   "outputs": [],
   "source": [
    "def E0(m0):\n",
    "    return m0*c**2\n",
    "def lambda_compton(m0):\n",
    "    return h/(m0*c)"
   ]
  },
  {
   "cell_type": "code",
   "execution_count": 16,
   "metadata": {},
   "outputs": [
    {
     "data": {
      "text/latex": [
       "$\\displaystyle 939.212131552528$"
      ],
      "text/plain": [
       "939.212131552528"
      ]
     },
     "execution_count": 16,
     "metadata": {},
     "output_type": "execute_result"
    }
   ],
   "source": [
    "from sympy import sqrt\n",
    "(E0(me)/e)*(-1+sqrt(1+(lambda_compton(me)/(0.04*10**-9))**2))"
   ]
  },
  {
   "cell_type": "markdown",
   "metadata": {},
   "source": [
    "---\n",
    "$3.$ De acordo com a Mecânica Estatística, a energia cinética média, $\\bar{E}_{c}$, de uma partícula de um gás em equilíbrio térmico a uma temperatura $T$ é igual a $3k_{B}T/2$, com $k_{B}\\approx 1,38\\mathrm{x}10^{-23} \\text{ J/K}$ sendo a constante de Boltzmann. Obtenha  $\\bar{E}_{c}$, em elétron-volts, para $T=300\\text{ K}$ (temperatura ambiente). Obtenha o comprimento de onda de de Broglie médio para um gás de moléculas de Nitrogênio $(m_{0}(N_{2})\\approx 28,02 \\text{u}\\approx 4,65\\mathrm{x}10^{-26}\\text{ kg})$ nessa temperatura."
   ]
  },
  {
   "cell_type": "markdown",
   "metadata": {},
   "source": [
    "_SOL._ Temos $\\bar{E}_{c}=\\frac{3}{2}k_{B}T\\approx 6,21\\mathrm{x}10^{-21}\\text{ J}\\approx 3,88\\mathrm{x}10^{-2}\\text{ eV}$. Para o comprimento de onda de de Broglie $\\bar{\\lambda}_{d}=h/\\bar{p}$. Lembrando, a energia relativística é $E^{2}=(E_{0}+E_{c})^{2}=p^{2}c^{2}+E_{0}^{2}$. A energia de repouso de uma molécula de Nitrogênio é $E_{0}(H_{2})=m_{0}(H_{2})c^{2}\\approx 4,18\\mathrm{x}10^{-9}\\text{ J}\\approx 2,61\\mathrm{x}10^{10}\\text{ eV}$. Assim $\\bar{p}=\\frac{1}{c}\\sqrt{(E_{0}+\\bar{E}_{c})^{2}-E_{0}^{2}}$ e\n",
    "\\begin{align}\n",
    "\\bar{\\lambda}_{d} &= \\frac{hc}{\\sqrt{(E_{0}+\\bar{E}_{c})^{2}-E_{0}^{2}}} \\approx 2,76\\mathrm{x}10^{-11}\\text{ m}.\n",
    "\\end{align}"
   ]
  },
  {
   "cell_type": "code",
   "execution_count": 17,
   "metadata": {},
   "outputs": [
    {
     "data": {
      "text/plain": [
       "(0.03877802810529091,\n",
       " 4.6528300566419997e-26,\n",
       " 26100462689.246567,\n",
       " 2.75578586473676e-11,\n",
       " 2.75571503396725e-11)"
      ]
     },
     "execution_count": 17,
     "metadata": {},
     "output_type": "execute_result"
    }
   ],
   "source": [
    "kB = 1.38065*10**-23 # J/K (constante de Boltzmann)\n",
    "u = 1.660538921*10**-27 # kg (unidade de massa atômica)\n",
    "Ec=(1.5*kB*300)/e; mH2=28.02*u; E0=(mH2*c**2)/e; ld= (heV*c)/sqrt((E0+Ec)**2-E0**2); Ec, mH2, E0, ld, h/sqrt(2*mH2*Ec*e)"
   ]
  },
  {
   "cell_type": "markdown",
   "metadata": {},
   "source": [
    "---\n",
    "$4.$ Qual é a energia cinética de um próton com comprimento de onda de de Broglie é $0,25\\text{ nm}$. Se um feixe de prótons com esse comprimento de onda é difratado por um cristal de calcita com distância entre planos de Bragg igual a $0,304\\text{ nm}$, qual é o ângulo correspondente ao máximo de difração de Bragg de primeira ordem?"
   ]
  },
  {
   "cell_type": "markdown",
   "metadata": {},
   "source": [
    "_SOL._ O comprimento de onda de de Broglie é $\\lambda_{d}= \\lambda_{c}/\\sqrt{(E_{c}/E_{0})(E_{c}/E_{0}+2)}$ com o comprimento de onda de Compton sendo $\\lambda_{c}=h/m_{p}c$. Para obter a energia cinética, consideremos\n",
    "\\begin{align}\n",
    "& (E_{c}/E_{0})(E_{c}/E_{0}+2) = (E_{c}/E_{0})^{2}+2(E_{c}/E_{0})= (\\lambda_{c}/\\lambda_{d})^{2}, \\\\\n",
    "& \\therefore E_{c}/E_{0} = \\frac{-2\\pm\\sqrt{4-4(-(\\lambda_{c}/\\lambda_{d})^{2})}}{2} = -1\\pm\\sqrt{1+(\\lambda_{c}/\\lambda_{d})^{2}}, \\\\\n",
    "& \\therefore E_{c} = E_{0}\\left(\\sqrt{1+(\\lambda_{c}/\\lambda_{d})^{2}}-1\\right).\n",
    "\\end{align}"
   ]
  },
  {
   "cell_type": "code",
   "execution_count": 19,
   "metadata": {},
   "outputs": [
    {
     "data": {
      "text/latex": [
       "$\\displaystyle 2.09990232940383 \\cdot 10^{-21}$"
      ],
      "text/plain": [
       "2.09990232940383e-21"
      ]
     },
     "execution_count": 19,
     "metadata": {},
     "output_type": "execute_result"
    }
   ],
   "source": [
    "mp = 1.6726219*10**-27 # kg (massa do próton)\n",
    "lbda_c=h/(mp*c); E0 = mp*c**2; lbda_d = 0.25*10**-9; Ec = E0*(sqrt(1+(lbda_c/lbda_d)**2)-1); lbda_c, E0/e; Ec"
   ]
  },
  {
   "cell_type": "markdown",
   "metadata": {},
   "source": [
    "---\n",
    "$5.$ Qual é o ângulo de Bragg $\\theta$ para elétrons com energias cinéticas de $75\\text{ eV}$ e $100\\text{ eV}$ difratados por um cristal de Níquel."
   ]
  },
  {
   "cell_type": "markdown",
   "metadata": {},
   "source": [
    "_SOL._ A energia de repouso do elétron é $E_{0}=m_{e}c^{2}\\approx 0,51\\text{ MeV}.$ O seu comprimento de onda de de Broglie é $\\lambda_{d}=hc/\\sqrt{E_{c}(E_{c}+2E_{0})}$. Assim, usando o código abaixo, teremos $\\lambda_{d}(75\\text{ eV})\\approx 1,42\\text{x}10^{-10}\\text{ m}$ e $\\lambda_{d}(100\\text{ eV})\\approx 1,23\\text{x}10^{-10}\\text{ m}.$ A distância entre planos de Bragg para o cristal de Níquel é $d=0,215\\text{ nm}.$ Usando a condição de Bragg para interferência construtiva, $2d\\cos(\\theta/2)=n\\lambda$, teremos, para $n=1$, que $\\theta=2\\arccos(\\lambda/2d).$ Assim, $\\theta(75\\text{ eV})\\approx 141,54^{\\circ}$ e $\\theta(100\\text{ eV})\\approx 146,86^{\\circ}.$"
   ]
  },
  {
   "cell_type": "code",
   "execution_count": 20,
   "metadata": {},
   "outputs": [
    {
     "data": {
      "text/plain": [
       "(1.41610265619084e-10, 1.22636587620416e-10)"
      ]
     },
     "execution_count": 20,
     "metadata": {},
     "output_type": "execute_result"
    }
   ],
   "source": [
    "E0 = me*c**2/e; E0\n",
    "Ec=75; lbda_d1 = (heV*c)/sqrt(Ec*(Ec+2*E0)); Ec=100; lbda_d2 = (heV*c)/sqrt(Ec*(Ec+2*E0)); lbda_d1, lbda_d2"
   ]
  },
  {
   "cell_type": "code",
   "execution_count": 23,
   "metadata": {},
   "outputs": [
    {
     "data": {
      "text/plain": [
       "(141.544232734331, 146.858228788008)"
      ]
     },
     "execution_count": 23,
     "metadata": {},
     "output_type": "execute_result"
    }
   ],
   "source": [
    "from sympy import acos\n",
    "import math\n",
    "d = 0.215*10**-9; th1 = (2*acos(lbda_d1/(2*d)))*(180./math.pi); th2 = (2*acos(lbda_d2/(2*d)))*(180./math.pi)\n",
    "th1, th2"
   ]
  },
  {
   "cell_type": "markdown",
   "metadata": {},
   "source": [
    "---\n",
    "$6.$ Um feixe de nêutrons incide em um cristal cujo espaçamento entre planos de Bragg é $0,3\\text{ nm}$ e o primeiro máximo de difração é observado para $\\theta=42^{\\circ}$. Determine o comprimento de onda de de Broglie e a energia cinética dos nêutrons."
   ]
  },
  {
   "cell_type": "markdown",
   "metadata": {},
   "source": [
    "_SOL._ O comprimento de onda é $\\lambda_{d}=2d\\cos(\\theta/2)=2(0,3\\text{ nm})\\cos(42^{\\circ}/2) \\approx 4,45\\text{x}10^{-10}\\text{ m}.$ De $\\lambda_{d}=hc/\\sqrt{E_{c}(E_{c}+2E_{0})}$ temos que $E_{c}^{2}+2E_{0}E_{c}-(hv/\\lambda_{d})^{2}=0$. Assim $E_{c}= 0.5\\left(-2E_{0}\\pm\\sqrt{4E_{0}^{2}+4(hc/\\lambda_{d})^{2}}\\right)$. Para o nêuron $E_{0}=m_{n}c^{2}\\approx 0,94\\text{ GeV}.$ A solução aceitável é $E_{c}= -E_{0}+\\sqrt{E_{0}^{2}+(hc/\\lambda_{d})^{2}}\\approx0,004\\text{ eV}.$"
   ]
  },
  {
   "cell_type": "code",
   "execution_count": 26,
   "metadata": {},
   "outputs": [
    {
     "data": {
      "text/plain": [
       "(4.45886895286437e-10, 939565428.7304174, 0.00411463437040181)"
      ]
     },
     "execution_count": 26,
     "metadata": {},
     "output_type": "execute_result"
    }
   ],
   "source": [
    "from sympy import cos\n",
    "mn = 1.67492749804*10**-27 # kg (massa do nêutron)\n",
    "lbda_d = 2*0.3*10**-9*cos((42*math.pi)/180); E0 = mn*c**2; Ec=-E0+sqrt(E0**2+(h*c/lbda_d)**2)\n",
    "lbda_d, E0/e, Ec/e"
   ]
  },
  {
   "cell_type": "markdown",
   "metadata": {},
   "source": [
    "---\n",
    "$7.$ Um elétron e um pósitron (que possui massa de repouso $m_{e}$ e carga elétrica $+e$) se movem com velocidade $3\\mathrm{x}10^{6}\\text{ m/s}$ um em direção ao outro, sendo aniquilados, e emitindo dois fótons de mesma energia. Quais eram os comprimentos de onda de de Broglie do elétron e do pósitron? Qual é a energia, comprimento de onda e momento linear dos fótons. "
   ]
  },
  {
   "cell_type": "markdown",
   "metadata": {},
   "source": [
    "_SOL._ O movimento é com velocidade duas ordens de grandeza menor que a velocidade da luz, e assim podemos usar a aproximação $\\lambda_{d}=h/p\\approx h/mv \\approx 2.42\\mathrm{x}10^{-10}\\text{ m}$, que é o mesmo para o elétron e para o prósitron. Por conservação da energia temos $E_{i}^{e}+E_{i}^{p}=2E_{i}=2\\sqrt{p^{2}c^{2}+m_{e}^{2}c^{4}}\\approx 2\\sqrt{m_{e}^{2}v_{2}c^{2}+m_{e}^{2}c^{4}}=2m_{e}c^{2}\\sqrt{v^{2}/c^{2}+1}=h\\nu+h\\nu=2h\\nu$ com $v=3\\mathrm{x}10^{6}\\text{ m/s}$. A energia do fóton é $E^{f}=h\\nu=m_{e}c^{2}\\sqrt{v^{2}/c^{2}+1}\\approx 0,511\\text{ MeV}$, que corresponde a um comprimento de onda $\\lambda=hc/E^{f}\\approx 2,43\\mathrm{x}10^{-12}\\text{ m}$ e momento linear $p=h/\\lambda\\approx 2,73\\mathrm{x}10^{-22}\\text{ kg}\\cdot\\text{m/s}$."
   ]
  },
  {
   "cell_type": "code",
   "execution_count": 27,
   "metadata": {},
   "outputs": [
    {
     "data": {
      "text/plain": [
       "(2.4246317331589195e-10,\n",
       " 511024.443704603,\n",
       " 2.42618879636112e-12,\n",
       " 2.73106075254242e-22)"
      ]
     },
     "execution_count": 27,
     "metadata": {},
     "output_type": "execute_result"
    }
   ],
   "source": [
    "v=3*10**6; lbda = h/(me*v); Ef=me*c**2*sqrt((v/c)**2+1); lbda_f=(h*c)/Ef; pf=h/lbda_f;  lbda, Ef/e, lbda_f, pf"
   ]
  },
  {
   "cell_type": "markdown",
   "metadata": {},
   "source": [
    "---\n",
    "$8.$ De início, de Broglie aplicou $\\lambda=h/p$ para fótons, imaginando que tivessem uma massa pequena mas finita. Ele supôs que ondas eletromagnéticas de radiofrequência, com $\\lambda=30\\text{ m}$, viajam com velocidade $v_{rf}>0,99c$, com $c$ sendo a velocidade da luz visível ($\\lambda=500\\text{ nm}$) no vácuo. Partindo de $h\\nu=\\gamma mc^{2}$, com $\\gamma=1/\\sqrt{1-v^{2}/c^{2}}$, verifique a conclusão de de Broglie de que a massa de repouso do fóton é menor que $10^{-44}\\text{ kg}$."
   ]
  },
  {
   "cell_type": "markdown",
   "metadata": {},
   "source": [
    "_SOL._ Teremos que \n",
    "\\begin{align}\n",
    "m &= \\frac{h\\nu}{\\gamma c^{2}} = \\frac{h\\nu\\sqrt{1-v^{2}/c^{2}}}{c^{2}} < \\frac{h\\nu\\sqrt{1-(0,99c)^{2}/c^{2}}}{c^{2}} \\approx 1,04\\text{x}10^{-44}\\text{ kg}.\n",
    "\\end{align}"
   ]
  },
  {
   "cell_type": "code",
   "execution_count": 28,
   "metadata": {},
   "outputs": [
    {
     "data": {
      "text/latex": [
       "$\\displaystyle 1.03929906030801 \\cdot 10^{-44}$"
      ],
      "text/plain": [
       "1.03929906030801e-44"
      ]
     },
     "execution_count": 28,
     "metadata": {},
     "output_type": "execute_result"
    }
   ],
   "source": [
    "lbda=30; m=(h*c*sqrt(1-0.99**2))/(c**2*lbda); m"
   ]
  },
  {
   "cell_type": "code",
   "execution_count": null,
   "metadata": {},
   "outputs": [],
   "source": []
  }
 ],
 "metadata": {
  "kernelspec": {
   "display_name": "Python 3 (ipykernel)",
   "language": "python",
   "name": "python3"
  },
  "language_info": {
   "codemirror_mode": {
    "name": "ipython",
    "version": 3
   },
   "file_extension": ".py",
   "mimetype": "text/x-python",
   "name": "python",
   "nbconvert_exporter": "python",
   "pygments_lexer": "ipython3",
   "version": "3.11.1"
  }
 },
 "nbformat": 4,
 "nbformat_minor": 4
}
