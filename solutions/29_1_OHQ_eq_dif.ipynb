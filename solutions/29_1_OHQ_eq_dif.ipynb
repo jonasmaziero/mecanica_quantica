{
 "cells": [
  {
   "cell_type": "markdown",
   "metadata": {},
   "source": [
    "### Notas de aula de Mecânica Quântica <br> Autor: Jonas Maziero\n",
    "# Exercícios"
   ]
  },
  {
   "cell_type": "markdown",
   "metadata": {},
   "source": [
    "---\n",
    "$1.$ Verifique, no limite $|u|\\gg1$, que a função $\\Xi(u) = c_{c}e^{u^{2}/2}+c_{d}e^{-u^{2}/2}$ é solução da eq. diferencial $\\partial_{uu}\\Xi(u) -u^{2}\\Xi(u)=0$."
   ]
  },
  {
   "cell_type": "markdown",
   "metadata": {},
   "source": [
    "_SOL._ Usando \n",
    "\\begin{align}\n",
    "\\partial_{uu}\\Xi &= \\partial_{u}\\left(c_{c}ue^{u^{2}/2}-c_{d}ue^{-u^{2}/2}\\right) = (1+u^{2})c_{c}e^{u^{2}/2}-(1-u^{2})c_{d}e^{-u^{2}/2} \\\\\n",
    "& \\approx u^{2}c_{c}e^{u^{2}/2}+u^{2}c_{d}e^{-u^{2}/2} = u^{2}\\Xi,\n",
    "\\end{align}\n",
    "vemos que $\\Xi(u) = c_{c}e^{u^{2}/2}+c_{d}e^{-u^{2}/2}$ satisfaz aproximadamente a eq. $\\partial_{uu}\\Xi(u) -u^{2}\\Xi(u)=0$ para $|u|\\gg 1$."
   ]
  },
  {
   "cell_type": "markdown",
   "metadata": {},
   "source": [
    "---\n",
    "$2.$ Vocês podem ter se perguntado porquê fizemos tantas manipulações nas eqs. diferenciais antes de aplicar o método de solução por série de potências. Para ver o motivo, aplique esse método na eq. $(\\star)$, para então notar que as equações obtidas envolvem 3 coeficientes, e não 2, impossibilitando a obtenção de uma relação de recursão simples."
   ]
  },
  {
   "cell_type": "markdown",
   "metadata": {},
   "source": [
    "_SOL._ A eq. ($\\star$) é $\\partial_{uu}\\Xi(u)+(\\beta/\\alpha-u^{2})\\Xi(u)=0$. Substituindo $\\Xi(u)=\\sum_{l=0}^{\\infty}a_{l}u^{l}$ nessa equação, vem que\n",
    "\\begin{align}\n",
    "\\partial_{u}\\Xi(u) & = \\partial_{u}\\left(a_{0}+\\sum_{l=1}^{\\infty}a_{l}u^{l}\\right) = 0 + \\sum_{l=1}^{\\infty}a_{l}lu^{l-1} =: \\sum_{l'=0}^{\\infty}a_{l'+1}(l'+1)u^{l'} \\\\ \n",
    "& \\equiv \\sum_{l=0}^{\\infty}a_{l+1}(l+1)u^{l}, \\\\\n",
    "\\partial_{uu}\\Xi(u) & = \\partial_{u}\\left(a_{1} + \\sum_{l=1}^{\\infty}a_{l+1}(l+1)u^{l}\\right) = 0 + \\sum_{l=1}^{\\infty}a_{l+1}(l+1)lu^{l-1} =: \\sum_{l'=0}^{\\infty}a_{l'+2}(l'+2)(l'+1)u^{l'} \\\\\n",
    "& \\equiv \\sum_{l=0}^{\\infty}a_{l+2}(l+2)(l+1)u^{l},\n",
    "\\end{align}\n",
    "em que usamos a troca de variável $l':=l-1$. Substituindo na eq. ($\\star$) obtemos\n",
    "\\begin{align}\n",
    "& \\sum_{l=0}^{\\infty}a_{l+2}(l+2)(l+1)u^{l} + (\\beta/\\alpha-u^{2})\\sum_{l=0}^{\\infty}a_{l}u^{l} = 0 \\\\\n",
    "& \\therefore \\sum_{l=0}^{\\infty}\\big(a_{l+2}(l+2)(l+1) + a_{l}(\\beta/\\alpha)\\big)u^{l} - \\sum_{l=0}^{\\infty}a_{l}u^{l+2} = 0 \\\\\n",
    "& \\therefore \\sum_{l=0}^{\\infty}\\big(a_{l+2}(l+2)(l+1) + a_{l}(\\beta/\\alpha)\\big)u^{l} - \\sum_{l'=2}^{\\infty}a_{l'-2}u^{l'} = 0 \\\\\n",
    "& \\therefore \\sum_{l=0}^{\\infty}\\big(a_{l+2}(l+2)(l+1) + a_{l}(\\beta/\\alpha)\\big)u^{l} - \\sum_{l=2}^{\\infty}a_{l-2}u^{l} = 0,\n",
    "\\end{align}\n",
    "em que usamos a troca de variável $l':=l+2$."
   ]
  },
  {
   "cell_type": "markdown",
   "metadata": {},
   "source": [
    "Por conseguite\n",
    "\\begin{align}\n",
    "& l=0:\\ a_{0+2}(0+2)(0+1)+a_{0}\\beta/\\alpha = 0 \\therefore a_{2} = -a_{0}\\beta/2\\alpha, \\\\\n",
    "& l=1:\\ a_{1+2}(1+2)(1+1)+a_{1}\\beta/\\alpha = 0 \\therefore a_{3} = -a_{1}\\beta/6\\alpha.\n",
    "\\end{align}\n",
    "Para $l\\ge 2$ teremos\n",
    "\\begin{align}\n",
    "& a_{l+2}(l+2)(l+1) + a_{l}(\\beta/\\alpha) - a_{l-2}=0 \\\\\n",
    "& \\therefore a_{l+2} = \\frac{a_{l}(\\beta/\\alpha) - a_{l-2}}{(l+2)(l+1)}.\n",
    "\\end{align}\n",
    "Assim\n",
    "\\begin{align}\n",
    "& l=2:\\ a_{2+2} = \\frac{a_{2}(\\beta/\\alpha) - a_{2-2}}{(2+2)(2+1)} \\therefore a_{4} = \\frac{a_{2}(\\beta/\\alpha) - a_{0}}{12} = -\\frac{(\\beta/\\alpha)^{2}/2 + 1}{12}a_{0}, \\\\\n",
    "& l=3:\\ a_{3+2} = \\frac{a_{3}(\\beta/\\alpha) - a_{3-2}}{(3+2)(3+1)} \\therefore a_{5} = \\frac{a_{3}(\\beta/\\alpha) - a_{1}}{24} = -\\frac{(\\beta/\\alpha)^{2}/6 + 1}{24}a_{1}, \\\\\n",
    "& l=4:\\ a_{4+2} = \\frac{a_{4}(\\beta/\\alpha) - a_{4-2}}{(4+2)(4+1)} \\therefore a_{6} = \\frac{a_{4}(\\beta/\\alpha) - a_{2}}{30} = \\frac{-\\frac{(\\beta/\\alpha)^{2}/2 + 1}{12}a_{0}(\\beta/\\alpha) -(-a_{0}\\beta/2\\alpha)}{30} \\\\\n",
    "& \\hspace{2.3cm}  = \\frac{-\\frac{(\\beta/\\alpha)^{2}/2 + 1}{12} + 1/2}{30}a_{0}(\\beta/\\alpha), \\\\\n",
    "& \\vdots.\n",
    "\\end{align}"
   ]
  },
  {
   "cell_type": "markdown",
   "metadata": {},
   "source": [
    "--- \n",
    "$3.$ Verifique que a diferença de energia entre dois níveis quaisquer $n$ e $n'$ do OHQ1D é um múltiplo inteiro de $h\\nu$ (e que, portanto, a frequência da radiação eletromagnética emitida ou absorvida quando de transições entre esses níveis é um múltiplo inteiro de $\\nu$)."
   ]
  },
  {
   "cell_type": "markdown",
   "metadata": {},
   "source": [
    "_SOL._ A energia de um nível $n$ é $E_{n}=h\\nu(n+1/2).$ Assim, a diferença de energia entre dois níveis $n$ e $n'$ é $$E_{n}-E_{n'}=h\\nu(n+1/2-n'-1/2)=(n-n')h\\nu=mh\\nu$$ com $m\\in\\mathbb{Z}.$"
   ]
  },
  {
   "cell_type": "markdown",
   "metadata": {},
   "source": [
    "---\n",
    "$4.$ Calcule explicitamente $H_{n}^{i}$ para $n=1,3,5,7$ e verifique que estas funções podem ser escritas como $H_{n}^{i} = -ca_{1}R_{n}(u)=-ca_{1}e^{u^{2}}\\frac{\\partial^{n}}{\\partial u^{n}}e^{-u^{2}}$, com $c$ sendo uma constante real."
   ]
  },
  {
   "cell_type": "markdown",
   "metadata": {},
   "source": [
    "_SOL._ Lembrando, $H_{n}^{i} = \\sum_{j=0}^{(n-1)/2}a_{2j+1}(n)u^{2j+1}$ com $a_{l}(n) = \\frac{2(l-n-2)}{l(l-1)}a_{l-2}(n)$. Assim \n",
    "\\begin{align}\n",
    "H_{1}^{i}(u) &= \\sum_{j=0}^{(1-1)/2}a_{(2(0)+1}(1)u^{2(0)+1} = a_{1}(1)u^{1} = a_{1}u, \\\\\n",
    "H_{3}^{i}(u) &= \\sum_{j=0}^{(3-1)/2}a_{2j+1}(3)u^{2j+1} = a_{1}(3)u^{1} + a_{3}(3)u^{3} = a_{1}\\left(u-\\frac{2}{3}u^{3}\\right), \\\\\n",
    "H_{5}^{i}(u) &= \\sum_{j=0}^{(5-1)/2}a_{2j+1}(5)u^{2j+1} = a_{1}(5)u^{1} + a_{3}(5)u^{3} + a_{5}(5)u^{5} = a_{1}\\left(u -\\frac{4}{3}u^{3} + \\frac{4}{15}u^{5}\\right), \\\\\n",
    "H_{7}^{i}(u) &= a_{1}(7)u^{1} + a_{3}(7)u^{3} + a_{5}(7)u^{5} + a_{7}(7)u^{7} = a_{1}\\left(u-2u^{3} +\\frac{4}{5}u^{5} -\\frac{8}{105}u^{7}\\right),\n",
    "\\end{align}\n"
   ]
  },
  {
   "cell_type": "markdown",
   "metadata": {},
   "source": [
    "em que usamos\n",
    "\\begin{align}\n",
    "a_{3}(3) & = \\frac{2(3-3-2)}{3(3-1)}a_{3-2}(3) = -\\frac{2}{3}a_{1}, \\\\\n",
    "a_{3}(5) &= \\frac{2(3-5-2)}{3(3-1)}a_{3-2}(5) = -\\frac{4}{3}a_{1}, \\\\\n",
    "a_{5}(5) &= \\frac{2(5-5-2)}{5(5-1)}a_{5-2}(5) = -\\frac{4}{20}a_{3}(5) = \\frac{16}{60}a_{1} = \\frac{4}{15}a_{1}, \\\\\n",
    "a_{3}(7) &= \\frac{2(3-7-2)}{3(3-1)}a_{3-2}(7) = -2a_{1}, \\\\\n",
    "a_{5}(7) &= \\frac{2(5-7-2)}{5(5-1)}a_{5-2}(7) = -\\frac{2}{5}a_{3}(7) = \\frac{4}{5}a_{1}, \\\\\n",
    "a_{7}(7) &= \\frac{2(7-7-2)}{7(7-1)}a_{7-2}(7) = -\\frac{4}{42}a_{5}(7) = -\\frac{16}{210}a_{1} = -\\frac{8}{105}a_{1}.\n",
    "\\end{align}"
   ]
  },
  {
   "cell_type": "markdown",
   "metadata": {},
   "source": [
    "Agora, usando ($\\partial_{u^{n}}\\equiv\\frac{\\partial^{n}}{\\partial u^{n}}$)\n",
    "\\begin{align}\n",
    "\\partial_{u}e^{-u^{2}} &= -2ue^{-u^{2}}, \\\\\n",
    "\\partial_{u^{2}}e^{-u^{2}} &= \\partial_{u}(-2ue^{-u^{2}}) = -2e^{-u^{2}}+ (-2u)^{2}e^{-u^{2}} = -2e^{-u^{2}}(1-2u^{2}), \\\\\n",
    "\\partial_{u^{3}}e^{-u^{2}} &= \\partial_{u}(-2e^{-u^{2}}(1-2u^{2})) = 4ue^{-u^{2}}(1-2u^{2}) -2e^{-u^{2}}(0-4u) \\\\\n",
    "&= e^{-u^{2}}(4u-8u^{3}+8u) = 12e^{-u^{2}}(u-(8/12)u^{3}) = 12e^{-u^{2}}(u-(2/3)u^{3}), \\\\\n",
    "\\partial_{u^{4}}e^{-u^{2}} &= \\partial_{u}(12e^{-u^{2}}(u-(2/3)u^{3})) = -24ue^{-u^{2}}(u-(2/3)u^{3}) + 12e^{-u^{2}}(1-2u^{2}) \\\\\n",
    "&  = e^{-u^{2}}(-24u^{2}+(48/3)u^{4}+12-24u^{2}) = e^{-u^{2}}(12-48u^{2}+16u^{4}), \\\\\n",
    "\\partial_{u^{5}}e^{-u^{2}} &= \\partial_{u}(e^{-u^{2}}(12-48u^{2}+16u^{4})) = -2ue^{-u^{2}}(12-48u^{2}+16u^{4}) + e^{-u^{2}}(0-96u+64u^{3}) \\\\\n",
    "& = e^{-u^{2}}(-24u+96u^{3}-32u^{5}) + e^{-u^{2}}(-96u+64u^{3}) =  e^{-u^{2}}(-120u+160u^{3}-32u^{5}) \\\\\n",
    "& = -120e^{-u^{2}}(u-(4/3)u^{3}+(4/15)u^{5}), \\\\ \n",
    "\\partial_{u^{6}}e^{-u^{2}} &= \\partial_{u}(-120e^{-u^{2}}(u-(4/3)u^{3}+(4/15)u^{5})) = 240ue^{-u^{2}}(u-(4/3)u^{3}+(4/15)u^{5}) -120e^{-u^{2}}(1-4u^{2}+(4/3)u^{4}) \\\\\n",
    "& = e^{-u^{2}}(240u^{2}-(960/3)u^{4}+(960/15)u^{6}-120+480u^{2}-(480/3)u^{4}) \\\\\n",
    "& = e^{-u^{2}}(-120 + 720u^{2} - 480u^{4} + 64u^{6}), \\\\\n",
    "\\partial_{u^{6}}e^{-u^{2}} &= \\partial_{u}(e^{-u^{2}}(-120 + 720u^{2} - 480u^{4} + 64u^{6})) \\\\\n",
    "&= -2ue^{-u^{2}}(-120 + 720u^{2} - 480u^{4} + 64u^{6}) + e^{-u^{2}}(0 + 1440u - 1920u^{3} + 384u^{5}) \\\\\n",
    "&= e^{-u^{2}}(240u - 1440u^{3} + 960u^{5} - 128u^{7} + 1440u - 1920u^{3} + 384u^{5}) \\\\\n",
    "&= e^{-u^{2}}(1680u - 3360u^{3} + 1344u^{5} - 128u^{7}) \\\\\n",
    "&= 1680e^{-u^{2}}(u - 2u^{3} + (4/5)u^{5} - (8/105)u^{7})\n",
    "\\end{align}\n",
    "e\n",
    "$H_{n}^{i}(u) = -c_{n}a_{1}e^{u^{2}}\\partial_{u^{n}}e^{-u^{2}}$ teremos"
   ]
  },
  {
   "cell_type": "markdown",
   "metadata": {},
   "source": [
    "\\begin{align}\n",
    "H_{1}^{i}(u) &= -c_{1}a_{1}e^{u^{2}}\\partial_{u}e^{-u^{2}} = -c_{1}a_{1}e^{u^{2}}e^{-u^{2}}(-2u) = 2c_{1}a_{1}u := a_{1}u, \\\\\n",
    "H_{3}^{i}(u) &= -c_{3}a_{1}e^{u^{2}}\\partial_{u^{3}}e^{-u^{2}} = -c_{3}a_{1}e^{u^{2}}12e^{-u^{2}}(u-(2/3)u^{3}) := a_{1}(u-(2/3)u^{3}), \\\\\n",
    "H_{5}^{i}(u) &= -c_{5}a_{1}e^{u^{2}}\\partial_{u^{5}}e^{-u^{2}} = -c_{5}a_{1}e^{u^{2}}(-120e^{-u^{2}}(u-(4/3)u^{3}+(4/15)u^{5})) \\\\\n",
    "&:= a_{1}(u-(4/3)u^{3}+(4/15)u^{5}), \\\\\n",
    "H_{7}^{i}(u) &= -c_{7}a_{1}e^{u^{2}}\\partial_{u^{7}}e^{-u^{2}} = -c_{7}a_{1}e^{u^{2}}1680e^{-u^{2}}(u - 2u^{3} + (4/5)u^{5} - (8/105)u^{7}) \\\\\n",
    "&:= a_{1}(u - 2u^{3} + (4/5)u^{5} - (8/105)u^{7}), \\\\\n",
    "\\end{align}\n",
    "em que usamos\n",
    "\\begin{align}\n",
    "c_{1} &= 1/2, \\\\\n",
    "c_{3} &= -1/12, \\\\\n",
    "c_{5} &= 1/120, \\\\\n",
    "c_{7} &= -1/1680.\n",
    "\\end{align}"
   ]
  },
  {
   "cell_type": "code",
   "execution_count": 1,
   "metadata": {},
   "outputs": [
    {
     "data": {
      "text/plain": [
       "(3360, 1344, 2.0, 0.8, 8.0, 105.0)"
      ]
     },
     "execution_count": 1,
     "metadata": {},
     "output_type": "execute_result"
    }
   ],
   "source": [
    "1440+1920, 960+384, 3360/1680, 1344/1680, 128/16, 1680/16"
   ]
  },
  {
   "cell_type": "markdown",
   "metadata": {},
   "source": [
    "---\n",
    "$5.$ Calcule a diferença de energia entre estados 'vizinhos' por unidade de energia, i.e., calcule $(E_{n}-E_{n-1})/E_{n}$, verificando que esta tende a zero para $n\\gg 1$, estando assim de acordo com o princípio de correspondência de Bohr."
   ]
  },
  {
   "cell_type": "markdown",
   "metadata": {},
   "source": [
    "_SOL._ Aplicando $E_{n}=h\\nu(n+1/2)$ teremos $$\\frac{E_{n}-E_{n-1}}{E_{n}} = \\frac{h\\nu(n+1/2)-h\\nu(n-1+1/2)}{h\\nu(n+1/2)} = \\frac{1}{n+1/2}.$$ Para $n\\gg 1$ temos $n+1/2\\approx n$ e $$\\frac{E_{n}-E_{n-1}}{E_{n}}\\approx \\frac{1}{n}\\rightarrow 0.$$"
   ]
  },
  {
   "cell_type": "markdown",
   "metadata": {},
   "source": [
    "---\n",
    "$6.$ Partindo da equação de autovalores e autovetores para o Hamiltoniano do OHQ1D, $H\\Xi_{n}=E_{n}\\Xi_{n}$ com $H=P^{2}/2m+kX^{2}/2$, verifique que os valores médios do quadrado do memonto linear e do quadrado da posição são relacionados por:\n",
    "\\begin{equation}\n",
    "\\langle P^{2}\\rangle = 2mE_{n}-mk\\langle X^{2}\\rangle.\n",
    "\\end{equation}"
   ]
  },
  {
   "cell_type": "markdown",
   "metadata": {},
   "source": [
    "_SOL._ Usando a EqSIT, teremos\n",
    "\\begin{align}\n",
    "& H\\Xi_{n}=(P^{2}/2m)\\Xi_{n}+(kX^{2}/2)\\Xi_{n}=E_{n}\\Xi_{n}, \\\\\n",
    "& \\therefore \\frac{1}{2m}\\int_{\\mathbb{R}}dx\\Xi_{n}^{*}P^{2}\\Xi_{n} + \\frac{k}{2}\\int_{\\mathbb{R}}dx\\Xi_{n}^{*}X^{2}\\Xi_{n} = \\int_{\\mathbb{R}}dx\\Xi_{n}^{*}E_{n}\\Xi_{n} = E_{n}\\int_{\\mathbb{R}}dx\\Xi_{n}^{*}\\Xi_{n}, \\\\\n",
    "& \\therefore \\langle P^{2}\\rangle = 2mE_{n}(1)-mk\\langle X^{2}\\rangle,\n",
    "\\end{align}\n",
    "em que usamos \n",
    "\\begin{equation}\n",
    "\\langle P^{2}\\rangle=\\int_{\\mathbb{R}}dx\\Xi_{n}^{*}P^{2}\\Xi_{n} \\text{, } \\langle X^{2}\\rangle=\\int_{\\mathbb{R}}dx\\Xi_{n}^{*}X^{2}\\Xi_{n} \\text{ e } \\int_{\\mathbb{R}}dx\\Xi_{n}^{*}\\Xi_{n}=1.\n",
    "\\end{equation}"
   ]
  },
  {
   "cell_type": "markdown",
   "metadata": {},
   "source": [
    "---\n",
    "$7.$ Verifique que as autofunções do OHQ1D correspondentes a autoenergias diferentes são ortogonais, i.e., verifique que $\\langle\\Xi_{n}|\\Xi_{m}\\rangle=\\int_{-\\infty}^{+\\infty}\\Xi_{n}^{*}(x)\\Xi_{m}(x)dx=0$ para $m\\ne n$."
   ]
  },
  {
   "cell_type": "markdown",
   "metadata": {},
   "source": [
    "_SOL._ Usando a função de onda $\\Xi_{n}(x) = \\sqrt{\\frac{\\sqrt{\\alpha}}{\\sqrt{\\pi}2^{n}n!}}e^{-\\alpha x^{2}/2}R_{n}(\\sqrt{\\alpha}x)$ teremos que\n",
    "\\begin{align}\n",
    "\\langle\\Xi_{n}|\\Xi_{m}\\rangle &= \\int_{-\\infty}^{+\\infty}\\Xi_{n}^{*}(x)\\Xi_{m}(x)dx = \\sqrt{\\frac{\\sqrt{\\alpha}}{\\sqrt{\\pi}2^{n}n!}}\\sqrt{\\frac{\\sqrt{\\alpha}}{\\sqrt{\\pi}2^{m}m!}}\\int_{-\\infty}^{+\\infty}e^{-\\alpha x^{2}}R_{n}^{*}(\\sqrt{\\alpha}x)R_{m}(\\sqrt{\\alpha}x)dx \\\\\n",
    "&= \\sqrt{\\frac{\\sqrt{\\alpha}}{\\sqrt{\\pi}2^{n}n!}}\\sqrt{\\frac{\\sqrt{\\alpha}}{\\sqrt{\\pi}2^{m}m!}}\\frac{1}{\\sqrt{\\alpha}}\\int_{-\\infty}^{+\\infty}e^{-u^{2}}R_{n}^{*}(u)R_{m}(u)du = 0,\n",
    "\\end{align}\n",
    "como mostrado em aula. Acima usamos a mudança de variável $u=\\sqrt{\\alpha}x\\ \\therefore\\ du=\\sqrt{\\alpha}dx$."
   ]
  },
  {
   "cell_type": "markdown",
   "metadata": {},
   "source": [
    "---\n",
    "$8.$ Para uma partícula clássica sujeita a um potencial do tipo do oscilador harmônico, obtenha a densidade de probabilidade $\\rho(x)$, de encontrarmos a partícula entre as posições $x$ e $x+dx$."
   ]
  },
  {
   "cell_type": "markdown",
   "metadata": {},
   "source": [
    "_SOL._ A densidade de probabilidade é inversamente proporcional à velocidade:\n",
    "$$\\rho(x) \\propto \\frac{1}{v(x)} =: \\frac{N}{v(x)},$$\n",
    "com $N$ sendo uma constante de normalização. A energia total do oscilador clássico é\n",
    "$$E_{t} = E_{c}+E_{p} = \\frac{mv^{2}}{2}+\\frac{kx^{2}}{2}=\\text{constante}.$$\n",
    "Podemos escrever então $v(x) = \\sqrt{m^{-1}(2E_{t}-kx^{2})}.$ Por conseguinte\n",
    "$$\\rho(x) = \\frac{N}{\\sqrt{m^{-1}(2E_{t}-kx^{2})}}.$$"
   ]
  },
  {
   "cell_type": "code",
   "execution_count": 2,
   "metadata": {},
   "outputs": [
    {
     "data": {
      "image/png": "[encoded data removed]",
      "text/plain": [
       "<Figure size 640x480 with 1 Axes>"
      ]
     },
     "metadata": {},
     "output_type": "display_data"
    }
   ],
   "source": [
    "from sympy import sqrt\n",
    "import numpy as np\n",
    "import math\n",
    "from matplotlib import pyplot as plt\n",
    "\n",
    "E = 1; m = 1; k = 1; a = sqrt(2*E/k); x = np.arange(-a+10**-2,a,0.01); y = np.zeros(len(x))\n",
    "for j in range(0, len(x)):\n",
    "    y[j] = 1/math.sqrt((2*E-k*x[j]**2)/m)\n",
    "plt.plot(x,y); plt.ylim(0,5); plt.xlabel('x'); plt.ylabel(r'$\\rho(x)$'); plt.show()"
   ]
  },
  {
   "cell_type": "code",
   "execution_count": 3,
   "metadata": {},
   "outputs": [
    {
     "data": {
      "text/latex": [
       "$\\displaystyle \\begin{cases} - \\frac{i \\operatorname{acosh}{\\left(\\frac{\\sqrt{a} x}{\\sqrt{c}} \\right)}}{\\sqrt{a}} & \\text{for}\\: \\left|{\\frac{a x^{2}}{c}}\\right| > 1 \\\\\\frac{\\operatorname{asin}{\\left(\\frac{\\sqrt{a} x}{\\sqrt{c}} \\right)}}{\\sqrt{a}} & \\text{otherwise} \\end{cases}$"
      ],
      "text/plain": [
       "Piecewise((-I*acosh(sqrt(a)*x/sqrt(c))/sqrt(a), Abs(a*x**2/c) > 1), (asin(sqrt(a)*x/sqrt(c))/sqrt(a), True))"
      ]
     },
     "execution_count": 3,
     "metadata": {},
     "output_type": "execute_result"
    }
   ],
   "source": [
    "from sympy import symbols, integrate\n",
    "x, a, b, c = symbols('x a b c'); integrate(1/sqrt(-a*x**2+c),x)"
   ]
  },
  {
   "cell_type": "markdown",
   "metadata": {},
   "source": [
    "Algumas integrais relacionadas ao último exercício\n",
    "\\begin{align}\n",
    "I &= \\int\\frac{dx}{\\sqrt{ax^{2}+bx+c}} = \\int\\frac{dx}{\\sqrt{a\\big(x^{2}+(b/a)x+(c/a)\\big)}} = \\frac{1}{\\sqrt{a}}\\int\\frac{dx}{\\sqrt{x^{2}+2(b/2a)x+(b/2a)^{2}-(b/2a)^{2}+(c/a)}} \\\\\n",
    "&= \\frac{1}{\\sqrt{a}}\\int\\frac{dx}{\\sqrt{\\big(x+b/2a\\big)^{2}-(b/2a)^{2}+(c/a)}} = \\frac{1}{\\sqrt{a}}\\int\\frac{du}{\\sqrt{u^{2}+d}},\n",
    "\\end{align}\n",
    "em que definimos $d:= -(b/2a)^{2}+(c/a)$ e $u := x+b/2a\\ \\therefore\\ du=dx.$ Teremos assim que\n",
    "\\begin{equation}\n",
    "\\begin{cases}\n",
    "d > 0\\ \\therefore\\ e^{2}:=d\\ \\therefore\\ I = \\frac{1}{\\sqrt{a}}\\int\\frac{du}{\\sqrt{u^{2}+e^{2}}}, \\\\\n",
    "d < 0\\ \\therefore\\ e^{2}:=-d\\ \\therefore\\ I = \\frac{1}{\\sqrt{a}}\\int\\frac{du}{\\sqrt{u^{2}-e^{2}}}.\n",
    "\\end{cases}\n",
    "\\end{equation}"
   ]
  },
  {
   "cell_type": "markdown",
   "metadata": {},
   "source": [
    "Por outro lado, para $$u=e\\tan\\theta\\ \\therefore\\ du = e\\frac{d}{d\\theta}\\left(\\frac{\\sin\\theta}{\\cos\\theta}\\right)d\\theta=e\\sec^{2}\\theta d\\theta.$$ Assim\n",
    "\\begin{align}\n",
    "I_{1} = \\int\\frac{du}{\\sqrt{u^{2}+e^{2}}} = \\int\\frac{e\\sec^{2}\\theta d\\theta}{\\sqrt{e^{2}\\tan^{2}\\theta+e^{2}}}  = \\int\\frac{\\sec^{2}\\theta d\\theta}{\\sqrt{\\sec^{2}\\theta}} = \\int\\sec\\theta d\\theta.\n",
    "\\end{align}\n",
    "\n",
    "Fazendo $$u=e\\sec\\theta\\ \\therefore\\ du = e\\frac{d}{d\\theta}\\left(\\frac{1}{\\cos\\theta}\\right)d\\theta=e\\frac{\\sin\\theta}{\\cos^{2}\\theta} d\\theta = \\sec\\theta\\tan\\theta d\\theta.$$ Assim\n",
    "\\begin{align}\n",
    "I_{2} &= \\int\\frac{du}{\\sqrt{u^{2}-e^{2}}} = \\int\\frac{e\\sec\\theta\\tan\\theta d\\theta}{\\sqrt{e^{2}\\sec^{2}\\theta-e^{2}}}  = \\int\\frac{\\sec\\theta\\tan\\theta d\\theta}{\\sqrt{\\frac{1}{cos^{2}\\theta}-1}} \\\\\n",
    "& = \\int\\frac{\\sec\\theta\\tan\\theta d\\theta}{\\sqrt{\\frac{1-\\cos^{2}\\theta}{\\cos^{2}\\theta}}} = \\int\\frac{\\sec\\theta\\tan\\theta d\\theta}{\\sqrt{\\frac{\\sin^{2}\\theta}{\\cos^{2}\\theta}}} = \\int\\sec\\theta d\\theta.\n",
    "\\end{align}"
   ]
  },
  {
   "cell_type": "markdown",
   "metadata": {},
   "source": [
    "Notando que\n",
    "\\begin{align}\n",
    "&\\frac{d}{dx}(\\sec x+\\tan x) = \\frac{d}{dx}\\Big(\\frac{1}{\\cos x}+\\frac{\\sin x}{\\cos x}\\Big) = \\frac{\\sin x}{\\cos^{2}x}+\\frac{\\cos^{2}x+\\sin^{2}x}{\\cos^{2}x} \\\\\n",
    "& = \\tan x\\sec x+\\sec^{2}x = \\sec x(\\sec x+\\tan x) \\\\\n",
    "& \\therefore d(\\sec x+\\tan x)=\\sec x(\\sec x+\\tan x)dx.\n",
    "\\end{align}\n",
    "Por conseguinte\n",
    "\\begin{align}\n",
    "\\int\\sec x dx &= \\int \\frac{\\sec x(\\sec x+\\tan x)}{\\sec x+\\tan x} dx = \\int \\frac{d(\\sec x+\\tan x)}{\\sec x+\\tan x} \\\\\n",
    "& = \\ln|\\sec x+\\tan x|.\n",
    "\\end{align}\n",
    "\n",
    "Com isso, vem que\n",
    "\\begin{align}\n",
    "\\int\\frac{dx}{\\sqrt{ax^{2}+bx+c}} = \\int\\sec\\theta d\\theta = \\ln|\\sec\\theta+\\tan\\theta|\n",
    "\\end{align}"
   ]
  },
  {
   "cell_type": "code",
   "execution_count": null,
   "metadata": {},
   "outputs": [],
   "source": []
  }
 ],
 "metadata": {
  "kernelspec": {
   "display_name": "Python 3 (ipykernel)",
   "language": "python",
   "name": "python3"
  },
  "language_info": {
   "codemirror_mode": {
    "name": "ipython",
    "version": 3
   },
   "file_extension": ".py",
   "mimetype": "text/x-python",
   "name": "python",
   "nbconvert_exporter": "python",
   "pygments_lexer": "ipython3",
   "version": "3.11.1"
  }
 },
 "nbformat": 4,
 "nbformat_minor": 4
}
