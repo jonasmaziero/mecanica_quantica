{
 "cells": [
  {
   "cell_type": "markdown",
   "id": "ee6cfac5",
   "metadata": {},
   "source": [
    "### Notas de aula de Mecânica Quântica <br> Autor: Jonas Maziero\n",
    "# Exercícios"
   ]
  },
  {
   "cell_type": "markdown",
   "id": "8970d0ae",
   "metadata": {},
   "source": [
    "---\n",
    "$1.$ Para uma função escalar qualquer $\\phi=\\phi(\\vec{r})$ e para um campo vetorial qualquer $\\vec{A}=\\vec{A}(\\vec{r})$, verifique a igualdade\n",
    "\\begin{equation}\n",
    "\\vec{\\nabla}\\cdot\\big(\\phi\\vec{A}\\big) = \\vec{\\nabla}\\phi\\cdot\\vec{A} + \\phi\\vec{\\nabla}\\cdot\\vec{A}.\n",
    "\\end{equation}"
   ]
  },
  {
   "cell_type": "markdown",
   "id": "b34b0c05",
   "metadata": {},
   "source": [
    "_SOL._ Decompondo o operador nabla e o campo vetorial na base padrão, teremos\n",
    "\\begin{align}\n",
    "\\vec{\\nabla}\\cdot\\big(\\phi\\vec{A}\\big) & = \\big(\\sum_{j}\\hat{e}_{j}\\partial_{x_{j}}\\big)\\cdot\\big(\\phi\\sum_{k}\\hat{e}_{k}A_{k}\\big) \\\\\n",
    "& = \\sum_{j,k}\\hat{e}_{j}\\cdot\\hat{e}_{k}\\partial_{x_{j}}\\big(\\phi A_{k}\\big) \\\\\n",
    "& = \\sum_{j,k}\\delta_{jk}\\big((\\partial_{x_{j}}\\phi) A_{k} + \\phi\\partial_{x_{j}}A_{k}\\big) \\\\\n",
    "& = \\sum_{j}(\\partial_{x_{j}}\\phi)A_{j} + \\phi\\sum_{j}\\partial_{x_{j}}A_{j} \\\\\n",
    "& = \\vec{\\nabla}\\phi\\cdot\\vec{A} + \\phi\\vec{\\nabla}\\cdot\\vec{A}. \\hspace{1cm} (\\star)\n",
    "\\end{align}"
   ]
  },
  {
   "cell_type": "markdown",
   "id": "7a1467fa",
   "metadata": {},
   "source": [
    "---\n",
    "$2.$ Verifique a igualdade\n",
    "\\begin{equation}\n",
    "\\vec{\\nabla}\\times(\\vec{A}\\times\\vec{B}) = (\\vec{\\nabla}\\cdot\\vec{B})\\vec{A} - (\\vec{\\nabla}\\cdot\\vec{A})\\vec{B} + (\\vec{B}\\cdot\\vec{\\nabla})\\vec{A} - (\\vec{A}\\cdot\\vec{\\nabla})\\vec{B}.\n",
    "\\end{equation}"
   ]
  },
  {
   "cell_type": "markdown",
   "id": "d171277f",
   "metadata": {},
   "source": [
    "_SOL._ Usando $(\\vec{A}\\times\\vec{B})_{i}=\\sum_{jk}\\epsilon_{ijk}A_{j}B_{k}$ teremos\n",
    "\\begin{align}\n",
    "\\vec{\\nabla}\\times(\\vec{A}\\times\\vec{B}) & = \\sum_{i}\\hat{e}_{i}\\big(\\vec{\\nabla}\\times(\\vec{A}\\times\\vec{B})\\big)_{i} \\\\\n",
    "& = \\sum_{i}\\hat{e}_{i}\\sum_{jk}\\epsilon_{ijk}\\nabla_{j}(\\vec{A}\\times\\vec{B})_{k} \\\\\n",
    "& = \\sum_{i}\\hat{e}_{i}\\sum_{jk}\\epsilon_{ijk}\\nabla_{j}\\sum_{lm}\\epsilon_{klm}A_{l}B_{m} \\\\\n",
    "& = \\sum_{ijlm}\\hat{e}_{i}\\big(\\sum_{k}\\epsilon_{ijk}\\epsilon_{klm}\\big)\\nabla_{j}(A_{l}B_{m}) \\\\\n",
    "& = \\sum_{ijlm}\\hat{e}_{i}\\big(\\sum_{k}\\epsilon_{kij}\\epsilon_{klm}\\big)\\big((\\partial_{x_{j}}A_{l})B_{m} + A_{l}(\\partial_{x_{j}}B_{m})\\big) \\\\\n",
    "& = \\sum_{ijlm}\\hat{e}_{i}\\big(\\delta_{il}\\delta_{jm}-\\delta_{im}\\delta_{jl}\\big)\\big((\\partial_{x_{j}}A_{l})B_{m} + A_{l}(\\partial_{x_{j}}B_{m})\\big) \\\\\n",
    "& = \\sum_{ijlm}\\hat{e}_{i}\\delta_{il}\\delta_{jm}(\\partial_{x_{j}}A_{l})B_{m} + \\sum_{ijlm}\\hat{e}_{i}\\delta_{il}\\delta_{jm}A_{l}(\\partial_{x_{j}}B_{m}) \\\\\n",
    "& - \\sum_{ijlm}\\hat{e}_{i}\\delta_{im}\\delta_{jl}(\\partial_{x_{j}}A_{l})B_{m} - \\sum_{ijlm}\\hat{e}_{i}\\delta_{im}\\delta_{jl}A_{l}(\\partial_{x_{j}}B_{m}) \\\\\n",
    "& = \\sum_{ij}\\hat{e}_{i}(\\partial_{x_{j}}A_{i})B_{j} + \\sum_{ij}\\hat{e}_{i}A_{i}(\\partial_{x_{j}}B_{j}) - \\sum_{ij}\\hat{e}_{i}(\\partial_{x_{j}}A_{j})B_{i} - \\sum_{ij}\\hat{e}_{i}A_{j}(\\partial_{x_{j}}B_{i}) \\\\\n",
    "& = \\sum_{j}B_{j}\\partial_{x_{j}}\\sum_{i}\\hat{e}_{i}A_{i} + (\\sum_{j}\\partial_{x_{j}}B_{j})\\sum_{i}\\hat{e}_{i}A_{i} - (\\sum_{j}\\partial_{x_{j}}A_{j})\\sum_{i}\\hat{e}_{i}B_{i} - \\sum_{j}A_{j}\\partial_{x_{j}}\\sum_{i}\\hat{e}_{i}B_{i} \\\\\n",
    "& = (\\vec{B}\\cdot\\vec{\\nabla})\\vec{A} + (\\vec{\\nabla}\\cdot\\vec{B})\\vec{A} - (\\vec{\\nabla}\\cdot\\vec{A})\\vec{B} -(\\vec{A}\\cdot\\vec{\\nabla})\\vec{B}.\n",
    "\\end{align}"
   ]
  },
  {
   "cell_type": "markdown",
   "id": "d041636b",
   "metadata": {},
   "source": [
    "---\n",
    "$3.$ Para $\\vec{\\sigma}=\\sum_{j=1}^{3}\\hat{e}_{j}\\sigma_{j}$, com\n",
    "\\begin{equation}\n",
    "\\sigma_{1} = \\begin{bmatrix}0&1\\\\1&0\\end{bmatrix},\\ \\sigma_{2} = \\begin{bmatrix}0&-i\\\\i&0\\end{bmatrix}, \\ \\sigma_{3} = \\begin{bmatrix}1&0\\\\0&-1\\end{bmatrix}\n",
    "\\end{equation}\n",
    "e $\\hat{r}$ um versor e $\\{\\hat{e}_{j}\\}$ a base padrão de $\\mathbb{R}^{3}$, verifique que\n",
    "\\begin{equation}\n",
    "(\\vec{\\sigma}\\cdot\\hat{r})^{2}=\\sigma_{0},\n",
    "\\end{equation}\n",
    "com $\\sigma_{0}=\\begin{bmatrix}1&0\\\\0&1\\end{bmatrix}$."
   ]
  },
  {
   "cell_type": "markdown",
   "id": "4e2a6545",
   "metadata": {},
   "source": [
    "_SOL._ Com o código abaixo, ou fazendo as multiplicações de matrizes, pode-se verificar que\n",
    "\\begin{equation}\n",
    "\\sigma_{j}^{2} = \\mathbb{I},\\ j=1,2,3.\n",
    "\\end{equation}\n",
    "Verifica-se também que o anticomutador, $[X,Y]:=XY+YX$, entre pares de matrizes de Pauli é nulo\n",
    "\\begin{equation}\n",
    "\\{\\sigma_{j},\\sigma_{k}\\} = \\mathbb{O},\\ \\forall j\\ne k.\n",
    "\\end{equation}\n",
    "Usando esses resultados, teremos que\n",
    "\\begin{align}\n",
    "(\\vec{\\sigma}\\cdot\\hat{r})^{2} & = (\\vec{\\sigma}\\cdot\\hat{r})(\\vec{\\sigma}\\cdot\\hat{r}) \\\\\n",
    "& = \\big(\\sigma_{1}\\hat{r}_{1}+\\sigma_{2}\\hat{r}_{2}+\\sigma_{3}\\hat{r}_{3}\\big)\\big(\\sigma_{1}\\hat{r}_{1}+\\sigma_{2}\\hat{r}_{2}+\\sigma_{3}\\hat{r}_{3}\\big) \\\\\n",
    "& = \\sigma_{1}^{2}\\hat{r}_{1}^{2} + \\sigma_{2}^{2}\\hat{r}_{2}^{2} + \\sigma_{3}^{2}\\hat{r}_{3}^{2} + \\hat{r}_{1}\\hat{r}_{2}(\\sigma_{1}\\sigma_{2}+\\sigma_{2}\\sigma_{1}) + \\hat{r}_{1}\\hat{r}_{3}(\\sigma_{1}\\sigma_{3}+\\sigma_{3}\\sigma_{1}) + \\hat{r}_{2}\\hat{r}_{3}(\\sigma_{2}\\sigma_{3}+\\sigma_{3}\\sigma_{2}) \\\\\n",
    "& = \\mathbb{I}(\\hat{r}_{1}^{2} + \\hat{r}_{2}^{2} + \\hat{r}_{3}^{2}) + \\hat{r}_{1}\\hat{r}_{2}\\{\\sigma_{1},\\sigma_{2}\\} + \\hat{r}_{1}\\hat{r}_{3}\\{\\sigma_{1},\\sigma_{3}\\} + \\hat{r}_{2}\\hat{r}_{3}\\{\\sigma_{2},\\sigma_{3}\\} \\\\ \n",
    "& = \\mathbb{I}|\\hat{r}|^{2} + \\hat{r}_{1}\\hat{r}_{2}\\mathbb{O} + \\hat{r}_{1}\\hat{r}_{3}\\mathbb{O} + \\hat{r}_{2}\\hat{r}_{3}\\mathbb{O} \\\\\n",
    "& = \\mathbb{I}.\n",
    "\\end{align}"
   ]
  },
  {
   "cell_type": "code",
   "execution_count": 5,
   "id": "89a31036",
   "metadata": {},
   "outputs": [
    {
     "data": {
      "image/png": "[encoded data removed]",
      "text/latex": [
       "$\\displaystyle \\left( \\left[\\begin{matrix}0 & 1\\\\1 & 0\\end{matrix}\\right], \\  \\left[\\begin{matrix}0 & - 1.0 i\\\\1.0 i & 0\\end{matrix}\\right], \\  \\left[\\begin{matrix}1 & 0\\\\0 & -1\\end{matrix}\\right], \\  \\left[\\begin{matrix}1 & 0\\\\0 & 1\\end{matrix}\\right], \\  \\left[\\begin{matrix}1.0 & 0\\\\0 & 1.0\\end{matrix}\\right], \\  \\left[\\begin{matrix}1 & 0\\\\0 & 1\\end{matrix}\\right]\\right)$"
      ],
      "text/plain": [
       "⎛⎡0  1⎤  ⎡  0    -1.0⋅ⅈ⎤  ⎡1  0 ⎤  ⎡1  0⎤  ⎡1.0   0 ⎤  ⎡1  0⎤⎞\n",
       "⎜⎢    ⎥, ⎢             ⎥, ⎢     ⎥, ⎢    ⎥, ⎢        ⎥, ⎢    ⎥⎟\n",
       "⎝⎣1  0⎦  ⎣1.0⋅ⅈ    0   ⎦  ⎣0  -1⎦  ⎣0  1⎦  ⎣ 0   1.0⎦  ⎣0  1⎦⎠"
      ]
     },
     "execution_count": 5,
     "metadata": {},
     "output_type": "execute_result"
    }
   ],
   "source": [
    "from sympy import Matrix, init_printing\n",
    "init_printing(use_unicode=True)\n",
    "s1 = Matrix([[0,1],[1,0]]); s2 = Matrix([[0,-1j],[1j,0]]); s3 = Matrix([[1,0],[0,-1]])\n",
    "s1, s2, s3, s1**2, s2**2, s3**2"
   ]
  },
  {
   "cell_type": "code",
   "execution_count": 7,
   "id": "ae11760e",
   "metadata": {},
   "outputs": [
    {
     "data": {
      "image/png": "[encoded data removed]",
      "text/latex": [
       "$\\displaystyle \\left( \\left[\\begin{matrix}0 & 0\\\\0 & 0\\end{matrix}\\right], \\  \\left[\\begin{matrix}0 & 0\\\\0 & 0\\end{matrix}\\right], \\  \\left[\\begin{matrix}0 & 0\\\\0 & 0\\end{matrix}\\right]\\right)$"
      ],
      "text/plain": [
       "⎛⎡0  0⎤  ⎡0  0⎤  ⎡0  0⎤⎞\n",
       "⎜⎢    ⎥, ⎢    ⎥, ⎢    ⎥⎟\n",
       "⎝⎣0  0⎦  ⎣0  0⎦  ⎣0  0⎦⎠"
      ]
     },
     "execution_count": 7,
     "metadata": {},
     "output_type": "execute_result"
    }
   ],
   "source": [
    "def acomm(x, y):\n",
    "    return x*y+y*x\n",
    "\n",
    "acomm(s1, s2), acomm(s1, s3), acomm(s2, s3)"
   ]
  },
  {
   "cell_type": "markdown",
   "id": "26b28652",
   "metadata": {},
   "source": [
    "---\n",
    "$4$. Verifique que\n",
    "\\begin{align}\n",
    "& \\int_{0}^{\\pi}\\sin^{3}x dx = \\frac{4}{3}, \\\\\n",
    "& \\int_{0}^{\\pi}\\sin x\\cos^{2}x dx = \\frac{2}{3}, \\\\\n",
    "& \\int_{0}^{2\\pi}\\sin^{2}x dx = \\int_{0}^{2\\pi}\\cos^{2}x dx = \\pi. \n",
    "\\end{align}"
   ]
  },
  {
   "cell_type": "markdown",
   "id": "884de1b7",
   "metadata": {},
   "source": [
    "_SOL._ Começamos com\n",
    "\\begin{align}\n",
    "\\int_{0}^{\\pi}\\sin^{3}x dx & = \\int_{0}^{\\pi}\\sin^{2}x\\sin x dx \\\\\n",
    "& = \\int_{0}^{\\pi}(1-\\cos^{2}x)\\sin x dx \\\\\n",
    "& = \\int_{0}^{\\pi}\\sin x dx + \\int_{0}^{\\pi}\\cos^{2}x d(\\cos x) \\\\\n",
    "& = \\Big(-\\cos x\\Big)_0^\\pi + \\Big(\\frac{\\cos^{3}x}{3}\\Big)_0^\\pi \\\\\n",
    "& = 1+1 +\\frac{-1-1}{3} \\\\\n",
    "& = 4/3.\n",
    "\\end{align}"
   ]
  },
  {
   "cell_type": "markdown",
   "id": "505cb8a4",
   "metadata": {},
   "source": [
    "Similarmente, teremos que\n",
    "\\begin{align}\n",
    "\\int_{0}^{\\pi}\\sin x\\cos^{2}x dx & = -\\int_{0}^{\\pi}\\cos^{2}x d(\\cos x) \\\\\n",
    "& = \\Big(-\\frac{cos^3 x}{3}\\Big)_0^\\pi \\\\\n",
    "& = \\frac{1+1}{3} \\\\\n",
    "& = \\frac{2}{3}.\n",
    "\\end{align}"
   ]
  },
  {
   "cell_type": "markdown",
   "id": "534feff4",
   "metadata": {},
   "source": [
    "Por fim, teremos que\n",
    "\\begin{align}\n",
    "\\int_{0}^{2\\pi}\\sin^{2}x dx & = \\int_{0}^{2\\pi}\\frac{1}{2}\\big(1-\\cos 2x\\big) dx \\\\\n",
    "& = \\frac{1}{2}\\int_{0}^{2\\pi} dx - \\frac{1}{2}\\int_{0}^{2\\pi}\\cos 2x dx \\\\\n",
    "& = \\frac{1}{2}2\\pi - \\frac{1}{4}\\big(\\sin 2x\\big)_0^{2\\pi} \\\\\n",
    "& = \\pi -0.\n",
    "\\end{align}\n",
    "e\n",
    "\\begin{align}\n",
    "\\int_{0}^{2\\pi}\\cos^{2}x dx & = \\int_{0}^{2\\pi}\\frac{1}{2}\\big(1+\\cos 2x\\big) dx \\\\\n",
    "& = \\frac{1}{2}\\int_{0}^{2\\pi} dx + \\frac{1}{2}\\int_{0}^{2\\pi}\\cos 2x dx \\\\\n",
    "& = \\frac{1}{2}2\\pi + \\frac{1}{4}\\big(\\sin 2x\\big)_0^{2\\pi} \\\\\n",
    "& = \\pi + 0.\n",
    "\\end{align}"
   ]
  },
  {
   "cell_type": "markdown",
   "id": "fcbffc14-4b99-49c1-ba71-30ae26e33ff0",
   "metadata": {},
   "source": [
    "---\n",
    "$5.$ Verifique que $$\\psi_{n,0,0}(\\vec{0}) = \\sqrt{\\frac{1}{a_{0}^{3}\\pi n^{3}}}.$$"
   ]
  },
  {
   "cell_type": "markdown",
   "id": "4a975b41-369c-4f22-9c17-2b7e1d18ac73",
   "metadata": {},
   "source": [
    "_SOL._ Temos que\n",
    "\\begin{align}\n",
    "& \\psi_{n,l,m_{l}}(r,\\theta,\\phi) = \\sqrt{\\left(\\frac{2Z}{a_{0}n}\\right)^{3}\\frac{(n-l-1)!}{(n+l)!2n}}e^{-Zr/a_{0}n}\\left(\\frac{2Zr}{a_{0}n}\\right)^{l}L_{n-l-1}^{2l+1}\\left(\\frac{2Zr}{a_{0}n}\\right)\\sqrt{\\frac{2l+1}{4\\pi}\\frac{(l-|m_{l}|)!}{(l+|m_{l}|)!}}(\\sin\\theta)^{|m_{l}|}\\frac{\\partial^{|m_{l}|}P_{l}(\\cos\\theta)}{\\partial z^{|m_{l}|}}e^{im_{l}\\phi}, \\\\\n",
    "& \\therefore\\ \\psi_{n,0,0}(r,\\theta,\\phi) = \\sqrt{\\left(\\frac{2Z}{a_{0}n}\\right)^{3}\\frac{1}{2n^{2}}}e^{-Zr/a_{0}n}(1)L_{n-1}^{1}\\left(\\frac{2Zr}{a_{0}n}\\right)\\sqrt{\\frac{1}{4\\pi}}(1)(1)(1) \\equiv \\psi_{n,0,0}(r).\n",
    "\\end{align}\n",
    "Nas notas de aula sobre a correção de Darwin para a estrutura fina do átomo de Hidrogênio, provamos que\n",
    "$$\\lim_{\\rho\\rightarrow 0}L_{n-1}^1(\\rho) = n.$$\n",
    "Vem assim que\n",
    "\\begin{align}\n",
    "\\lim_{r\\rightarrow 0}\\psi_{n,0,0}(r) & = \\sqrt{\\left(\\frac{2Z}{a_{0}n}\\right)^{3}\\frac{1}{2n^{2}}}(1)(n)\\sqrt{\\frac{1}{4\\pi}} \\\\\n",
    "& = \\sqrt{\\frac{8Z^3}{a_{0}^3 n^3}\\frac{1}{8\\pi}} \\\\\n",
    "& = \\sqrt{\\frac{1}{a_{0}^3 n^3\\pi}},\n",
    "\\end{align}\n",
    "em que usamos $Z=1$."
   ]
  },
  {
   "cell_type": "markdown",
   "id": "3abf2519",
   "metadata": {},
   "source": [
    "---\n",
    "$6$. Calcule as correções de 1ª ordem para a estrutura hiperfina do átomo de Hidrogênio para $n=2$ e $l=0$."
   ]
  },
  {
   "cell_type": "markdown",
   "id": "4cd98bb8",
   "metadata": {},
   "source": [
    "_SOL._ Como mostrado nas notas de aula, a correção perturbativa de 1ª ordem devido à interação spin-spin é dada pela seguinte expressão (para $l=0$):\n",
    "$$E_{n,l=0,s}^{ss(1)} = -\\frac{\\mu_{0}g_{e}\\mu_{be}g_{p}\\mu_{bp}(1-d)}{2}|\\psi_{n,l=0,m_{l}=0}(\\vec{0})|^{2}\\big(s(s+1) - 3/2\\big).$$\n",
    "Com o auxílio do código abaixo, obtemos que\n",
    "\\begin{align}\n",
    "& E_{n=2,l=0,s=0}^{ss(1)} \\approx -5.5\\times 10^{-7}\\text{ eV}, \\\\\n",
    "& E_{n=2,l=0,s=1}^{ss(1)} \\approx 1.83\\times 10^{-7}\\text{ eV}.\n",
    "\\end{align}"
   ]
  },
  {
   "cell_type": "code",
   "execution_count": 8,
   "id": "f0857610-3136-489a-8cc3-1b1a902e07a1",
   "metadata": {},
   "outputs": [
    {
     "data": {
      "image/png": "[encoded data removed]",
      "text/latex": [
       "$\\displaystyle \\left( -9.27401012000648 \\cdot 10^{-24}, \\  5.05078289690006 \\cdot 10^{-27}\\right)$"
      ],
      "text/plain": [
       "(-9.274010120006478e-24, 5.050782896900062e-27)"
      ]
     },
     "execution_count": 8,
     "metadata": {},
     "output_type": "execute_result"
    }
   ],
   "source": [
    "mu0 = 1.25663706212*10**-6 # N/A^2 (permeabilidade do vácuo)\n",
    "ge = 2 # (fator giromagnetico do eletron)\n",
    "gp = 5.58 # (fator giromagnetico do proton)\n",
    "h = 6.626069*10**-34 # Js (constante de Planck)\n",
    "import math\n",
    "hb = h/(2*math.pi) # hbar\n",
    "e = 1.60217662*10**-19 # C (carga elementar)\n",
    "me = 9.109382*10**-31 # kg (massa do elétron)\n",
    "mp = 1.6726219*10**-27 # kg (massa do próton)\n",
    "mbe = -(e*hb)/(2*me) # magneton de Bohr do elétron\n",
    "mbp = (e*hb)/(2*mp) # magneton de Bohr do elétron\n",
    "mbe, mbp"
   ]
  },
  {
   "cell_type": "code",
   "execution_count": 13,
   "id": "1b0223dd-902e-4b1a-9ad4-335d0942cd53",
   "metadata": {},
   "outputs": [
    {
     "data": {
      "image/png": "[encoded data removed]",
      "text/latex": [
       "$\\displaystyle \\left( -5.50448721640183 \\cdot 10^{-7}, \\  1.83482907213394 \\cdot 10^{-7}\\right)$"
      ],
      "text/plain": [
       "(-5.504487216401829e-07, 1.8348290721339432e-07)"
      ]
     },
     "execution_count": 13,
     "metadata": {},
     "output_type": "execute_result"
    }
   ],
   "source": [
    "d = 1/3\n",
    "k = 8.9875517923*10**9 # Nm^2/C^2 (constante de Coulomb)\n",
    "a0=(hb**2)/(me*k*e**2) # ~ 0.52917710^-10 m (raio de Bohr)\n",
    "\n",
    "def Ess1(n,s):\n",
    "    psi_n00_0 = 1/(math.pi*n**3*a0**3)\n",
    "    return (-((mu0*ge*mbe*gp*mbp*(1-d))/2)*psi_n00_0*(s*(s+1)-3/2))/e # em eV\n",
    "\n",
    "Ess1(2,0), Ess1(2,1) "
   ]
  },
  {
   "cell_type": "markdown",
   "id": "3dbb7eee",
   "metadata": {},
   "source": [
    "---\n",
    "$7$. Calcule o comprimento de onda da radiação eletromagnética emitida em uma transição entre os estados hiperfinos do átomo de hidrogênio: $n=1,l=0,s=0\\longrightarrow n=1,l=0,s=1$. Em qual faixa do espectro eletromagnético está este comprimento de onda?"
   ]
  },
  {
   "cell_type": "markdown",
   "id": "fdf537ba",
   "metadata": {},
   "source": [
    "_SOL._ Com a ajuda do código acima, obtermos as correções perturbativas para essa energia:\n",
    "\\begin{align}\n",
    "& E_{n=1,l=0,s=0}^{ss(1)} \\approx -4.4\\times 10^{-6}\\text{ eV}, \\\\\n",
    "& E_{n=1,l=0,s=1}^{ss(1)} \\approx 1.47\\times 10^{-6}\\text{ eV}.\n",
    "\\end{align}\n",
    "As energias corrigidas são\n",
    "$$E_1 \\rightarrow \\begin{cases} E_1 + E_{n=1,l=0,s=1}^{ss(1)} \\\\ E_1 + E_{n=1,l=0,s=0}^{ss(1)}  \\end{cases} = \\begin{cases} −13.6056934798542\\text{ eV} \\\\ −13.6056993513073\\text{ eV}\\end{cases}. $$\n",
    "\n",
    "A frequência do fóton emitido ou abservido em uma transição entre esses níveis de energia é dada por\n",
    "\\begin{align}\n",
    "\\nu & = E_f/h \\\\\n",
    "& = \\big|(E_1 + E_{n=1,l=0,s=1}^{ss(1)}) - (E_1 + E_{n=1,l=0,s=0}^{ss(1)})\\big|/h \\\\\n",
    "& = \\big|E_{n=1,l=0,s=1}^{ss(1)} - E_{n=1,l=0,s=0}^{ss(1)}\\big|/h \\\\\n",
    "& \\approx 5.87\\times 10^{-6}\\text{ eV}/h \\\\\n",
    "& \\approx 1.42\\times 10^{9}\\text{ Hz},\n",
    "\\end{align}\n",
    "que está na faixa de microondas."
   ]
  },
  {
   "cell_type": "code",
   "execution_count": 14,
   "id": "350695ba-1004-452d-863f-3119403ea659",
   "metadata": {},
   "outputs": [
    {
     "data": {
      "image/png": "[encoded data removed]",
      "text/latex": [
       "$\\displaystyle \\left( -4.40358977312146 \\cdot 10^{-6}, \\  1.46786325770715 \\cdot 10^{-6}\\right)$"
      ],
      "text/plain": [
       "(-4.403589773121463e-06, 1.4678632577071545e-06)"
      ]
     },
     "execution_count": 14,
     "metadata": {},
     "output_type": "execute_result"
    }
   ],
   "source": [
    "Ess1(1,0), Ess1(1,1) "
   ]
  },
  {
   "cell_type": "code",
   "execution_count": 20,
   "id": "5aef0ed9",
   "metadata": {},
   "outputs": [
    {
     "data": {
      "image/png": "[encoded data removed]",
      "text/latex": [
       "$\\displaystyle \\left( -13.6056993513073, \\  -13.6056934798542, \\  -1419711260.72496\\right)$"
      ],
      "text/plain": [
       "(-13.605699351307257, -13.605693479854224, -1419711260.7249556)"
      ]
     },
     "execution_count": 20,
     "metadata": {},
     "output_type": "execute_result"
    }
   ],
   "source": [
    "def bohr(Z,mu,n): # em eV\n",
    "    return (-((mu*Z**2*e**4*k**2)/(2*hb**2))/n**2)/e\n",
    "\n",
    "heV = h/e # em eV\n",
    "bohr(1,me,1) + Ess1(1,0), bohr(1,me,1) + Ess1(1,1), ((bohr(1,me,1) + Ess1(1,0)) - (bohr(1,me,1) + Ess1(1,1)))/heV"
   ]
  },
  {
   "cell_type": "markdown",
   "id": "b1ef9aba-e319-461a-a3bc-a47691c4337d",
   "metadata": {},
   "source": []
  }
 ],
 "metadata": {
  "kernelspec": {
   "display_name": "Python 3 (ipykernel)",
   "language": "python",
   "name": "python3"
  },
  "language_info": {
   "codemirror_mode": {
    "name": "ipython",
    "version": 3
   },
   "file_extension": ".py",
   "mimetype": "text/x-python",
   "name": "python",
   "nbconvert_exporter": "python",
   "pygments_lexer": "ipython3",
   "version": "3.11.1"
  }
 },
 "nbformat": 4,
 "nbformat_minor": 5
}
