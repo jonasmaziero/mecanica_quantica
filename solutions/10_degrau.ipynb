{
 "cells": [
  {
   "cell_type": "markdown",
   "metadata": {},
   "source": [
    "### Notas de aula de Mecânica Quântica <br> Autor: Jonas Maziero\n",
    "\n",
    "# Exercícios"
   ]
  },
  {
   "cell_type": "markdown",
   "metadata": {},
   "source": [
    "---\n",
    "$1.$ Verifique que, para $U=U_{0}$ constante, nem $\\xi(x,t)=A\\sin(kx-\\omega t)$ nem $\\sigma(x,t)=A\\cos(kx-\\omega t)$, com $A$ constante, satisfaz a EqS:\n",
    "\\begin{equation}\n",
    "-\\frac{\\hbar^{2}}{2m}\\partial_{xx}\\psi(x,t)+U_{0}\\psi(x,t)=i\\hbar\\partial_{t}\\psi(x,t).\n",
    "\\end{equation}\n",
    "Dica. Use o fato que $a\\sin\\phi+b\\cos\\phi=0\\ \\forall\\phi$ se e somente se $a=b=0$."
   ]
  },
  {
   "cell_type": "markdown",
   "metadata": {},
   "source": [
    "_SOL._ Vamos usar $\\partial_{x}\\xi=kA\\cos(kx-\\omega t)\\therefore \\partial_{xx}\\xi=-k^{2}\\xi$ e $\\partial_{t}\\xi=-\\omega A\\cos(kx-\\omega t)$ para escrever\n",
    "\\begin{align}\n",
    "& -\\frac{\\hbar^{2}}{2m}\\partial_{xx}\\xi(x,t)+U_{0}\\xi(x,t)=i\\hbar\\partial_{t}\\xi(x,t), \\\\\n",
    "& \\therefore \\frac{(\\hbar k)^{2}}{2m}\\xi(x,t)+U_{0}\\xi(x,t)=- i\\hbar\\omega A\\cos(kx-\\omega t), \\\\\n",
    "& \\therefore \\left(\\frac{(\\hbar k)^{2}}{2m}+U_{0}\\right)A\\sin(kx-\\omega t) + \\left(i\\hbar\\omega A\\right)\\cos(kx-\\omega t)=0,\n",
    "\\end{align}\n",
    "que só é verdade se $A=0$. Portanto $\\xi(x,t)$ não é solução da EqSIT. A verificação análoga segue para $\\sigma(x,t)$."
   ]
  },
  {
   "cell_type": "markdown",
   "metadata": {},
   "source": [
    "---\n",
    "$2.$ Resolva o sistema de equações lineares\n",
    "\\begin{cases}\n",
    "c_{ed}+c_{ee}=c_{dd}, \\\\\n",
    "k_{e}(c_{ed}-c_{ee})=k_{d}c_{dd},\n",
    "\\end{cases}\n",
    "para obter $c_{dd}=(2k_{e}/(k_{e}+k_{d}))c_{ed}$ e $c_{ee}=((k_{e}-k_{d})/(k_{e}+k_{d}))c_{ed}$."
   ]
  },
  {
   "cell_type": "markdown",
   "metadata": {},
   "source": [
    "_SOL._ Começamos substituindo a 1ª eq., $c_{ee}=c_{dd}-c_{ed}$, na 2ª eq.,\n",
    "\\begin{align}\n",
    "& k_{e}(c_{ed}-c_{dd}+c_{ed})=k_{d}c_{dd}, \\\\\n",
    "& \\therefore (k_{d}+k_{e})c_{dd} = 2k_{e}c_{ed}, \\\\\n",
    "& \\therefore c_{dd}= \\frac{2k_{e}c_{ed}}{k_{d}+k_{e}}.\n",
    "\\end{align}\n",
    "Substituindo esse resultado na eq. acima para $c_{ee}$ vem que\n",
    "\\begin{align}\n",
    "c_{ee}&=\\frac{2k_{e}c_{ed}}{k_{d}+k_{e}}-c_{ed} = \\frac{2k_{e}-k_{d}-k_{e}}{k_{d}+k_{e}}c_{ed} \\\\\n",
    "&= \\frac{k_{e}-k_{d}}{k_{d}+k_{e}}c_{ed}.\n",
    "\\end{align}"
   ]
  },
  {
   "cell_type": "markdown",
   "metadata": {},
   "source": [
    "---\n",
    "$3.$ Resolva o sistema de equações lineares\n",
    "\\begin{cases}\n",
    "\\tilde{c}_{ed}+\\tilde{c}_{ee}=\\tilde{c}_{dd}, \\\\\n",
    "ik_{e}(\\tilde{c}_{ed}-\\tilde{c}_{ee})=-\\tilde{k}_{d}\\tilde{c}_{dd},\n",
    "\\end{cases}\n",
    "para obter $\\tilde{c}_{dd}=(2ik_{e}/(ik_{e}-\\tilde{k}_{d}))\\tilde{c}_{ed}$ e $\\tilde{c}_{ee}=((ik_{e}+\\tilde{k}_{d})/(ik_{e}-\\tilde{k}_{d}))c_{ed}$."
   ]
  },
  {
   "cell_type": "markdown",
   "metadata": {},
   "source": [
    "_SOL._ Substituindo a 1ª eq. na 2ª: $ik_{e}(\\tilde{c}_{ed}-\\tilde{c}_{ee})=-\\tilde{k}_{d}(\\tilde{c}_{ed}+\\tilde{c}_{ee}) \\therefore \\tilde{c}_{ed}(ik_{e}+\\tilde{k}_{d})=\\tilde{c}_{ee}(ik_{e}-\\tilde{k}_{d}) \\therefore \\tilde{c}_{ee}=\\tilde{c}_{ed}(ik_{e}+\\tilde{k}_{d})/(ik_{e}-\\tilde{k}_{d}).$ Substituindo esse resultado na 1ª eq. teremos $\\tilde{c}_{dd} = \\tilde{c}_{ed}+\\tilde{c}_{ed}(ik_{e}+\\tilde{k}_{d})/(ik_{e}-\\tilde{k}_{d}) = \\tilde{c}_{ed}(ik_{e}-\\tilde{k}_{d}+ik_{e}+\\tilde{k}_{d})/(ik_{e}-\\tilde{k}_{d})) = \\tilde{c}_{ed}2ik_{e}/(ik_{e}-\\tilde{k}_{d}).$"
   ]
  },
  {
   "cell_type": "markdown",
   "metadata": {},
   "source": [
    "---\n",
    "$4.$ Calcule e faça um gráfico da densidade de probabilidade $|\\Xi(x)|^{2}$ nos dois casos $E>U_{0}$ e $E<U_{0}$. Considere $c_{ed},\\tilde{c}_{ed}\\in\\mathbb{R}$ e use $k_{d}=k_{e}/2$."
   ]
  },
  {
   "cell_type": "markdown",
   "metadata": {},
   "source": [
    "_SOL._ Para $E>U_{0}$ <br> \n",
    "teremos $\\Xi(x<0)=\\Xi_{e}=c_{ed}e^{ik_{e}x}+c_{ee}e^{-ik_{e}x}$, com $k_{e}=\\sqrt{2mE}/\\hbar,$ e $\\Xi(x>0)=\\Xi_{d}=c_{dd}e^{ik_{d}x}$, com $k_{d}=\\sqrt{2m(E-U_{0})}/\\hbar.$ Os coeficientes são $c_{ee}=((k_{e}-k_{d})/(k_{e}+k_{d}))c_{ed}$ e $c_{dd}=((2k_{e})/(k_{e}+k_{d}))c_{ed}.$ A densidade de probabilidade é $|\\Xi_{e}|^{2}=|c_{ed}|^{2}+|c_{ee}|^{2}+2c_{ed}c_{ee}\\cos(k_{e}x)$ e $|\\Xi_{d}|^{2}=|c_{dd}|^{2}.$ O gráfico correspondente está mostrado abaixo."
   ]
  },
  {
   "cell_type": "code",
   "execution_count": 1,
   "metadata": {},
   "outputs": [],
   "source": [
    "from ipywidgets import interactive\n",
    "from matplotlib import pyplot as plt\n",
    "import math\n",
    "import numpy as np"
   ]
  },
  {
   "cell_type": "code",
   "execution_count": 2,
   "metadata": {},
   "outputs": [
    {
     "data": {
      "application/vnd.jupyter.widget-view+json": {
       "model_id": "6849b6a84c094eed8b74c9034fbfa1d1",
       "version_major": 2,
       "version_minor": 0
      },
      "text/plain": [
       "interactive(children=(FloatSlider(value=2.901, description='E', max=5.0, min=1.001), Output()), _dom_classes=(…"
      ]
     },
     "execution_count": 2,
     "metadata": {},
     "output_type": "execute_result"
    }
   ],
   "source": [
    "def pd_E_gt_U0(E):\n",
    "    fig = plt.figure(figsize=(13,5)); m = 1; hbb = 1; U0 = 1; ke = math.sqrt(2*m*E)/hbb\n",
    "    kd = math.sqrt(2*m*(E-U0))/hbb; ced = 1.0; cee = ((ke-kd)/(ke+kd))*ced; cdd = ((2*ke)/(ke+kd))*ced\n",
    "    N = 500; xmin = -10*math.pi; xmax = -xmin; dx = (xmax-xmin)/N; x = np.zeros(N); y = np.zeros(N)\n",
    "    for j in range(0,N):\n",
    "        x[j] = xmin + j*dx\n",
    "        if x[j] < 0:\n",
    "            y[j] = ced**2+cee**2+2*ced*cee*math.cos(ke*x[j])\n",
    "        else:\n",
    "            y[j] = cdd**2\n",
    "    plt.annotate(r'$E/U_{0}=$'+str(E)[:4], xy=(xmax-8,1.8), xytext=(xmax-8,1.8), fontsize=12)\n",
    "    plt.annotate(\"\", xy=(0,-0.03), xytext=(0,1.02*U0), arrowprops=dict(arrowstyle=\"-\"))\n",
    "    plt.annotate(\"\", xy=(-0.07,U0), xytext=(xmax,U0), arrowprops=dict(arrowstyle=\"-\"))\n",
    "    plt.annotate(\"\", xy=(-xmax,0), xytext=(0.1,0), arrowprops=dict(arrowstyle=\"-\"))\n",
    "    plt.annotate(r'$U_{0}=$'+str(U0)[:4], xy=(xmax-4,1.05*U0), xytext=(xmax-4,1.05*U0), fontsize=12)\n",
    "    plt.plot(x,y); plt.xlabel('x',fontsize=10); plt.ylabel(r'$|\\Xi|^{2}$',fontsize=15)\n",
    "    plt.xlim(xmin,xmax); plt.ylim(-0.1,2*ced)\n",
    "    plt.show()\n",
    "interactive(pd_E_gt_U0, E=(1+10**-3,5,0.1))"
   ]
  },
  {
   "cell_type": "markdown",
   "metadata": {},
   "source": [
    "Para $E<U_{0}$ <br>\n",
    "teremos $\\tilde{\\Xi}(x<0)=\\tilde{\\Xi}_{e}=\\tilde{c}_{ed}e^{ik_{e}x}+\\tilde{c}_{ee}e^{-ik_{e}x}$ e $\\tilde{\\Xi}(x>0)=\\tilde{\\Xi}_{d}=\\tilde{c}_{dd}e^{-\\tilde{k}_{d}x}$, com $\\tilde{k}_{d}=\\sqrt{2m(U_{0}-E)}/\\hbar.$ A densidade de probabilidade é $|\\tilde{\\Xi}_{e}|^{2}=\\tilde{c}_{ed}^{2}+\\tilde{c}_{ee}^{2}+2\\tilde{c}_{ed}\\tilde{c}_{ee}\\cos(k_{2}x)$ e $|\\tilde{\\Xi}_{d}|^{2}=\\tilde{c}_{dd}^{2}e^{-2\\tilde{k}_{d}x}.$ Os coeficientes são $\\tilde{c}_{ee}=\\frac{ik_{e}+\\tilde{k}_{d}}{ik_{e}-\\tilde{k}_{d}}\\tilde{c}_{ed}\\therefore |\\tilde{c}_{ee}|^{2}=|\\tilde{c}_{ed}|^{2}$ e $\\tilde{c}_{dd} = \\frac{2ik_{e}}{ik_{e}-\\tilde{k}_{d}}\\tilde{c}_{ed}  \\therefore |\\tilde{c}_{dd}|^{2}=((4k_{e}^{2})/(k_{e}^{2}+\\tilde{k}_{d}^{2}))|\\tilde{c}_{ed}|^{2}.$ Para $c_{ed}\\in\\mathbb{R}$ teremos $|\\tilde{\\Xi}_{e}|^{2}=c_{ed}^{2}+|c_{ee}|^{2}+2c_{ed}\\Re(c_{ee}e^{-i2k_{e}x}=c_{ed}^{2}+|c_{ee}|^{2}+2c_{ed}\\left(\\Re(c_{ee})\\cos(2k_{e}x)+\\Im(c_{ee})\\sin(2k_{e}x)\\right).$ Ademais $\\Re(c_{ee})=\\frac{k_{e}^{2}-k_{d}^{2}}{k_{e}^{2}+k_{d}^{2}}c_{ed}$ e $\\Im(c_{ee})=-\\frac{2k_{e}k_{d}}{k_{e}^{2}+k_{d}^{2}}c_{ed}.$"
   ]
  },
  {
   "cell_type": "code",
   "execution_count": 3,
   "metadata": {},
   "outputs": [
    {
     "data": {
      "application/vnd.jupyter.widget-view+json": {
       "model_id": "62d5892ee8fb4dc59499dcb7fc7feb78",
       "version_major": 2,
       "version_minor": 0
      },
      "text/plain": [
       "interactive(children=(FloatSlider(value=0.491, description='E', max=0.999, min=0.001, step=0.01), Output()), _…"
      ]
     },
     "execution_count": 3,
     "metadata": {},
     "output_type": "execute_result"
    }
   ],
   "source": [
    "def pd_E_lt_U0(E):\n",
    "    fig = plt.figure(figsize=(13,5)); m = 1; U0 = 1; hbb = 1; ke = math.sqrt(2*m*E)/hbb\n",
    "    kd = math.sqrt(2*m*(U0-E))*ke; ced = 1; ced2 = 1.0; cee2 = ced2; cdd2 = (4*ke**2)/(ke**2+kd**2)*ced2\n",
    "    rcee = ((ke**2-kd**2)/(ke**2+kd**2))*ced; icee = -((2*ke*kd)/(ke**2+kd**2))*ced\n",
    "    N = 1000; xmin = -10*math.pi; xmax = -xmin; dx = (xmax-xmin)/N; x = np.zeros(N); y = np.zeros(N)\n",
    "    for j in range(0,N):\n",
    "        x[j] = xmin + j*dx\n",
    "        if x[j] < 0:\n",
    "            y[j] = ced2+rcee**2+icee**2+2*ced*(rcee*math.cos(2*ke*x[j])+icee*math.sin(2*ke*x[j]))\n",
    "        else:\n",
    "            y[j] = cdd2*math.exp(-2*ke*x[j])\n",
    "    plt.annotate(r'$E/U_{0}=$'+str(E)[:5], xy=(xmax-8,1.8), xytext=(xmax-8,1.8), fontsize=12)\n",
    "    plt.annotate(\"\", xy=(0,-0.03), xytext=(0,1.03*U0), arrowprops=dict(arrowstyle=\"-\"))\n",
    "    plt.annotate(\"\", xy=(-0.07,U0), xytext=(xmax,U0), arrowprops=dict(arrowstyle=\"-\"))\n",
    "    plt.annotate(\"\", xy=(-xmax,0), xytext=(0.1,0), arrowprops=dict(arrowstyle=\"-\"))\n",
    "    plt.annotate(r'$U_{0}=$'+str(U0)[:4], xy=(xmax-4,1.05*U0), xytext=(xmax-4,1.05*U0), fontsize=12)\n",
    "    plt.plot(x,y); plt.xlabel('x',fontsize=10); plt.ylabel(r'$\\Re(\\Xi)$',fontsize=15)\n",
    "    plt.xlim(xmin,xmax); plt.ylim(-0.1,5*ced**2); plt.show()\n",
    "interactive(pd_E_lt_U0, E=(0+10**-3,1-10**-3,0.01))"
   ]
  },
  {
   "cell_type": "markdown",
   "metadata": {},
   "source": [
    "---\n",
    "$5.$ Que fração de um feixe de prótons com energia cinética de $40\\text{ MeV}$ que incidem em um degrau de potencial de $30\\text{ MeV}$ é refletida? Que fração é transmitida? Quais seriam os valores de $R$ e $T$ se o feixe fosse constituído por elétrons?"
   ]
  },
  {
   "cell_type": "markdown",
   "metadata": {},
   "source": [
    "_SOL._ Nesse caso, temos que $R= \\frac{\\left(\\sqrt{E}-\\sqrt{E-U_{0}}\\right)^{2}}{\\left(\\sqrt{E}+\\sqrt{E-U_{0}}\\right)^{2}}=1/9$ e $T=1-R=8/9$. Como $R$ e $T$ não dependem da massa dos quantons, os valores seriam os mesmos."
   ]
  },
  {
   "cell_type": "code",
   "execution_count": 4,
   "metadata": {},
   "outputs": [
    {
     "data": {
      "text/plain": [
       "(1/9, 8/9)"
      ]
     },
     "execution_count": 4,
     "metadata": {},
     "output_type": "execute_result"
    }
   ],
   "source": [
    "from sympy import sqrt\n",
    "E=40; U0=30; R=(sqrt(E)-sqrt(E-U0))**2/(sqrt(E)+sqrt(E-U0))**2; T = 1 - R; R, T"
   ]
  },
  {
   "cell_type": "markdown",
   "metadata": {},
   "source": [
    "---\n",
    "$6.$ Que fração de um feixe de quantons com energia cinética de $E_{c}=2U_{0}$, que incidem em um degrau de potencial de altura $U_{0}$, é refletida? Que fração é transmitida?"
   ]
  },
  {
   "cell_type": "markdown",
   "metadata": {},
   "source": [
    "_SOL._ Aqui usamos a eq. do exercício anterior manipulada para obter $R= \\frac{\\left(\\sqrt{\\frac{E}{U_{0}}}-\\sqrt{\\frac{E}{U_{0}}-1}\\right)^{2}}{\\left(\\sqrt{\\frac{E}{U_{0}}}+\\sqrt{\\frac{E}{U_{0}}-1}\\right)^{2}}\\approx 0,03$ e $T\\approx0,97.$"
   ]
  },
  {
   "cell_type": "code",
   "execution_count": 5,
   "metadata": {},
   "outputs": [
    {
     "data": {
      "text/plain": [
       "(0.029437251522859413, 0.9705627484771406)"
      ]
     },
     "execution_count": 5,
     "metadata": {},
     "output_type": "execute_result"
    }
   ],
   "source": [
    "from sympy import symbols\n",
    "U0 = symbols('U_{0}'); E=2*U0; R = (sqrt(E/U0)-sqrt(E/U0-1))**2/(sqrt(E/U0)+sqrt(E/U0-1))**2; T = 1 - R\n",
    "float(R), float(T)"
   ]
  },
  {
   "cell_type": "markdown",
   "metadata": {},
   "source": [
    "---\n",
    "$7.$ Analogamente ao que fizemos para o caso do quanton movimentando-se inicialmente da esquerda para a direita, obtenha os coeficientes de transmissão e de reflexão para o caso do quanton movimentando-se inicialmente da direita para a esquerda na região $x>0$, para $E>U_{0}$."
   ]
  },
  {
   "cell_type": "markdown",
   "metadata": {},
   "source": [
    "_SOL._ Para $x<0$ temos $U=0$ e $\\partial_{xx}\\Xi_{e}+k_{e}^{2}\\Xi_{e}=0$ com $k_{e}:=\\sqrt{2mE}/\\hbar.$ A solução dessa eq. é $\\Xi_{e}(x<0)=c_{ed}^{ik_{e}x}+c_{ee}e^{-ik_{e}x}$. Como depois do quanton passar por $x=0$ não há motivo para esse se movimentar no sentido de $x$ crescente, fazemos $c_{ed}=0$. Na região $x>0$ temos $U=U_{0}$ e $\\partial_{xx}\\Xi_{d}+k_{d}^{2}\\Xi_{d}=0$ com $k_{d}:=\\sqrt{2m(E-U_{0})}/\\hbar.$ A solução desta eq. é $\\Xi_{d}(x>0)=c_{dd}^{ik_{e}x}+c_{de}e^{-ik_{e}x}$. O coeficiente que determina a intensidade de feixe de quantons incidente é $c_{de}$, e vamos escrever os outros coeficientes em termos deste. Pela continuidade da função de onda, teremos $\\Xi_{e}(0)=\\Xi_{d}(0) \\therefore c_{ee}=c_{dd}+c_{de}.$ Pela continuidade da derivada 1ª da função de onda, teremos $\\partial\\Xi_{e}(0)=\\partial\\Xi_{d}(0) \\therefore -ik_{e}c_{ee}=ik_{d}(c_{dd}-c_{de}) \\therefore c_{ee}=(k_{d}/k_{e})(c_{de}-c_{dd}).$ Assim, $(k_{d}/k_{e})(c_{de}-c_{dd})=c_{dd}+c_{de} \\therefore c_{dd}(1+k_{d}/k_{e})=c_{de}(1-k_{d}/k_{e}) \\therefore c_{dd} = \\frac{k_{d}-k_{e}}{k_{d}-k_{e}}c_{de}.$ Com isso, temos o coeficiente de reflexão $R=\\frac{|c_{dd}|^{2}}{|c_{de}|^{2}} = \\frac{(k_{d}-k_{e})^{2}}{(k_{d}+k_{e})^{2}},$ que é igual àquele obtido para o quanton movimentando-se inicialmente em $x<0$ e da esquerda para a direita."
   ]
  }
 ],
 "metadata": {
  "kernelspec": {
   "display_name": "Python 3 (ipykernel)",
   "language": "python",
   "name": "python3"
  },
  "language_info": {
   "codemirror_mode": {
    "name": "ipython",
    "version": 3
   },
   "file_extension": ".py",
   "mimetype": "text/x-python",
   "name": "python",
   "nbconvert_exporter": "python",
   "pygments_lexer": "ipython3",
   "version": "3.11.1"
  }
 },
 "nbformat": 4,
 "nbformat_minor": 4
}
