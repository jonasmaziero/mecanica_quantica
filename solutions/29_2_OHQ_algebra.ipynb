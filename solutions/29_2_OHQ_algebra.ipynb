{
 "cells": [
  {
   "cell_type": "markdown",
   "metadata": {},
   "source": [
    "### Notas de aula de Mecânica Quântica <br> Autor: Jonas Maziero\n",
    "\n",
    "# Exercícios"
   ]
  },
  {
   "cell_type": "markdown",
   "metadata": {},
   "source": [
    "---\n",
    "$1.$ Verifique que para quaisquer três operadores lineares $A,B,C:\\mathcal{H}\\rightarrow\\mathcal{H}$, teremos as seguintes igualdades para relações de comutação: $[A,BC]=[A,B]C+B[A,C]$ e $[AB,C]=A[B,C]+[A,C]B$."
   ]
  },
  {
   "cell_type": "markdown",
   "metadata": {},
   "source": [
    "_SOL._ Aplicando a definição, termos $[A,BC]=ABC-BCA$ e $[A,B]C+B[A,C]=(AB-BA)C+B(AC-CA) = ABC-BAC+BAC-BCA=ABC-BCA,$ que resulta na 1ª igualdade. Teremos também que $[AB,C]=ABC-CAB$ e $A[B,C]+[A,C]B=A(BC-CB)+(AC-CA)B = ABC-ACB+ACB-CAB=ABC-CAB,$ que resulta na 2ª igualdade."
   ]
  },
  {
   "cell_type": "markdown",
   "metadata": {},
   "source": [
    "---\n",
    "$2.$ Verifique que o operador número, $N=a^{\\dagger}a$, e o Hamiltoniano do oscilador harmônico, $H=\\hbar\\omega(a^{\\dagger}a+\\mathbb{I}/2)$ são observáveis compatíveis, i.e., mostre que $[N,H]=0$."
   ]
  },
  {
   "cell_type": "markdown",
   "metadata": {},
   "source": [
    "_SOL._ É direto ver que\n",
    "\\begin{align}\n",
    "[N,H] &= [N,\\hbar\\omega(N+\\mathbb{I}/2)] = \\hbar\\omega(([N,N]+[N,\\mathbb{I}]/2) = \\hbar\\omega(\\mathbb{O}+\\mathbb{O})=\\mathbb{O}.\n",
    "\\end{align}"
   ]
  },
  {
   "cell_type": "markdown",
   "metadata": {},
   "source": [
    "---\n",
    "$3.$ Mostre que para qualquer operador $A:\\mathcal{H}\\rightarrow\\mathcal{H}$, o operador $B:=A^{\\dagger}A$ é positivo semidefinido, $B\\ge 0$. Ou seja, mostre que $\\langle B\\rangle_{\\psi}\\ge 0$ para qualquer $|\\psi\\rangle\\in\\mathcal{H}$. Mostre que os autovalores de $B$ são não negativos. Utilize esses resultados para mostrar que os autovalores do operador número são não negativos: $n\\ge 0$."
   ]
  },
  {
   "cell_type": "markdown",
   "metadata": {},
   "source": [
    "_SOL._ Temos que $\\langle\\psi|B|\\psi\\rangle = \\langle\\psi|A^{\\dagger}A|\\psi\\rangle = \\langle\\phi|\\phi\\rangle\\ge0.$ Como $B\\ge\\mathbb{O}\\Rightarrow B=B^{\\dagger}$ podemos escrever a decomposição espectral $B=\\sum_{j}b_{j}|b_{j}\\rangle\\langle b_{j}|$ com $b_{j}\\in\\mathbb{R}$ e $\\{|b_{j}\\rangle\\}$ é uma base ortonormal. Assim $\\langle b_{k}|B|b_{k}\\rangle = \\sum_{j}b_{j}\\langle b_{k}|b_{j}\\rangle\\langle b_{j}|b_{k}\\rangle=b_{k}\\ge 0\\ \\forall k.$ Como o operador número pode ser escrito como $N=a^{\\dagger}a$, em analogia com $B=A^{\\dagger}A$, temos que $N\\ge\\mathbb{O}$, e portanto $n\\ge0.$"
   ]
  },
  {
   "cell_type": "markdown",
   "metadata": {},
   "source": [
    "---\n",
    "$4.$ Verifique que $N(a^{\\dagger}|n\\rangle)=(n+1)(a^{\\dagger}|n\\rangle)$ e $a^{\\dagger}|n\\rangle=\\sqrt{n+1}|n+1\\rangle$."
   ]
  },
  {
   "cell_type": "markdown",
   "metadata": {},
   "source": [
    "_SOL._ Usando $[a,a^{\\dagger}] = aa^{\\dagger}-a^{\\dagger}a = \\mathbb{I}$ teremos\n",
    "\\begin{align}\n",
    "N(a^{\\dagger}|n\\rangle) &= a^{\\dagger}aa^{\\dagger}|n\\rangle = a^{\\dagger}(a^{\\dagger}a+\\mathbb{I})|n\\rangle = a^{\\dagger}(n+1)|n\\rangle \\\\\n",
    " &= (n+1)(a^{\\dagger}|n\\rangle).\n",
    "\\end{align}\n",
    "Por conseguinte\n",
    "\\begin{align}\n",
    "& a^{\\dagger}|n\\rangle \\propto |n+1\\rangle = c|n+1\\rangle \\therefore \\langle n|aa^{\\dagger}|n\\rangle = \\langle n+1|c^{*}c|n+1\\rangle \\\\\n",
    "& \\therefore \\langle n|(a^{\\dagger}a+\\mathbb{I})|n\\rangle = \\langle n|(n+1)|n\\rangle= n+1 = |c|^{2}.\n",
    "\\end{align}\n",
    "Impondo que $c\\in\\mathbb{R},$ teremos que $c=\\sqrt{n+1}.$ Obtemos assim $a^{\\dagger}|n\\rangle=\\sqrt{n+1}|n+1\\rangle$."
   ]
  },
  {
   "cell_type": "markdown",
   "metadata": {},
   "source": [
    "---\n",
    "$5.$ Usando $|n\\rangle=\\frac{1}{\\sqrt{n!}}(a^\\dagger)^n|0\\rangle$, $a^{\\dagger} := \\sqrt{\\frac{m\\omega}{2\\hbar}}\\left(X - \\frac{i}{m\\omega}P\\right)$, $\\psi_0 (x) = \\Big(\\frac{m\\omega}{\\pi\\hbar}\\Big)^{1/4} e^{-m\\omega x^2 /2\\hbar}$, $[X,P]=i\\hbar I$ e $\\langle x|P|\\psi\\rangle = -i\\hbar\\partial_x\\langle x|\\psi\\rangle$, obtenha a função de onda na base de posição para o 2º estado excitado do oscilador harmônico quântico unidimensional, i.e., obtenha $\\psi_2 (x)$."
   ]
  },
  {
   "cell_type": "markdown",
   "metadata": {},
   "source": [
    "_SOL._  Teremos que\n",
    "\\begin{align}\n",
    "\\psi_2(x) & = \\langle x|2\\rangle \\\\\n",
    "& = \\langle x|\\frac{1}{\\sqrt{2!}}(a^\\dagger)^2|0\\rangle \\\\\n",
    "& = \\frac{m\\omega}{2\\hbar\\sqrt{2}}\\langle x|\\Big(X - \\frac{i}{m\\omega}P\\Big)^2|0\\rangle \\\\\n",
    "& = \\frac{m\\omega}{2\\hbar\\sqrt{2}}\\Big(\\langle x|X^2|0\\rangle - \\frac{i}{m\\omega}\\langle x|XP|0\\rangle - \\frac{i}{m\\omega}\\langle x|PX|0\\rangle - \\frac{1}{m^2\\omega^2}\\langle x|P^2|0\\rangle\\Big) \\\\\n",
    "& = \\frac{m\\omega}{2\\hbar\\sqrt{2}}\\Big(x^2\\langle x|0\\rangle - \\frac{i}{m\\omega}x\\langle x|P|0\\rangle - \\frac{i}{m\\omega}\\langle x|(XP-i\\hbar I)|0\\rangle - \\frac{1}{m^2\\omega^2}\\langle x|P\\int dx'|x'\\rangle\\langle x'|P|0\\rangle\\Big) \\\\\n",
    "& = \\frac{m\\omega}{2\\hbar\\sqrt{2}}\\Big(x^2\\langle x|0\\rangle - \\frac{i}{m\\omega}x\\frac{\\hbar}{i}\\partial_x\\langle x|0\\rangle - \\frac{i}{m\\omega}x\\frac{\\hbar}{i}\\partial_x\\langle x|0\\rangle - \\frac{\\hbar}{m\\omega}\\langle x|0\\rangle - \\frac{1}{m^2\\omega^2}\\langle x|P\\int dx'|x'\\rangle\\frac{\\hbar}{i}\\partial_{x'}\\langle x'|0\\rangle\\Big) \\\\\n",
    "& = \\frac{m\\omega}{2\\hbar\\sqrt{2}}\\Big(x^2\\psi_0(x) - \\frac{2\\hbar x}{m\\omega}\\partial_x\\psi_0(x) - \\frac{\\hbar}{m\\omega}\\psi_0(x) - \\frac{\\hbar}{i m^2\\omega^2}\\langle x|P\\int dx'(\\partial_{x'}\\psi_0(x'))|x'\\rangle\\Big) \\\\\n",
    "& = \\frac{m\\omega}{2\\hbar\\sqrt{2}}\\Big(x^2\\psi_0(x) - \\frac{2\\hbar x}{m\\omega}\\Big(-\\frac{m\\omega x}{\\hbar}\\Big)\\psi_0(x) - \\frac{\\hbar}{m\\omega}\\psi_0(x) - \\frac{\\hbar}{i m^2\\omega^2}\\frac{\\hbar}{i}\\partial_x\\langle x|\\int dx'(\\partial_{x'}\\psi_0(x'))|x'\\rangle\\Big) \\\\\n",
    "& = \\frac{m\\omega}{2\\hbar\\sqrt{2}}\\Big(x^2\\psi_0(x) + 2x^2\\psi_0(x) - \\frac{\\hbar}{m\\omega}\\psi_0(x) + \\frac{\\hbar^2}{m^2\\omega^2}\\partial_{xx}\\psi_0(x)\\Big) \\\\\n",
    "& = \\frac{m\\omega}{2\\hbar\\sqrt{2}}\\Big(3x^2\\psi_0(x) - \\frac{\\hbar}{m\\omega}\\psi_0(x) + \\frac{\\hbar^2}{m^2\\omega^2}\\frac{m\\omega}{\\hbar}\\Big(\\frac{m\\omega x^2}{\\hbar}-1\\Big)\\psi_0(x) \\Big) \\\\\n",
    "& = \\frac{m\\omega}{2\\hbar\\sqrt{2}}\\Big(\\frac{m\\omega}{\\hbar}\\frac{\\hbar}{m\\omega}3x^2\\psi_0(x) - \\frac{\\hbar}{m\\omega}\\psi_0(x) + \\frac{\\hbar}{m\\omega}\\Big(\\frac{m\\omega x^2}{\\hbar}-1\\Big)\\psi_0(x) \\Big) \\\\\n",
    "& = \\sqrt{2}\\Big(\\frac{m\\omega x^2}{\\hbar}-\\frac{1}{2}\\Big)\\psi_0(x).\n",
    "\\end{align}"
   ]
  },
  {
   "cell_type": "markdown",
   "metadata": {},
   "source": [
    "em que usamos que $\\partial_x\\psi_0(x) = -\\frac{m\\omega x}{\\hbar}\\psi_0(x)$ e $\\partial_{xx}\\psi_0(x) = \\frac{m\\omega}{\\hbar}\\Big(\\frac{m\\omega x^2}{\\hbar}-1\\Big)\\psi_0(x)$. "
   ]
  },
  {
   "cell_type": "markdown",
   "metadata": {},
   "source": [
    "---\n",
    "$6.$ Verifique que $\\langle P\\rangle_{n} = 0$ e $\\langle P^{2}\\rangle_{n}=\\hbar m\\omega(2n+1)/2$."
   ]
  },
  {
   "cell_type": "markdown",
   "metadata": {},
   "source": [
    "_SOL._ Usando $a|n\\rangle=\\sqrt{n}|n-1\\rangle$ e o exercício 4 obteremos\n",
    "\\begin{align}\n",
    "\\langle P\\rangle_{n} &= \\langle n|P|n\\rangle = i\\sqrt{\\frac{\\hbar m\\omega}{2}}(\\langle n|a^{\\dagger}|n\\rangle-\\langle n|a|n\\rangle) \\\\\n",
    "& = i\\sqrt{\\frac{\\hbar m\\omega}{2}}(\\langle n|\\sqrt{n+1}|n+1\\rangle-\\langle n|\\sqrt{n}|n-1\\rangle) \\\\\n",
    "&= 0+0 =0\n",
    "\\end{align}\n",
    "e\n",
    "\\begin{align}\n",
    "\\langle P^{2}\\rangle_{n} &= \\langle n|P^{2}|n\\rangle = -\\frac{\\hbar m\\omega}{2}(\\langle n|(a^{\\dagger}-a)^{2}|n\\rangle) \\\\\n",
    "& = -\\frac{\\hbar m\\omega}{2}(\\langle n|(a^{\\dagger})^{2}|n\\rangle-\\langle n|a^{\\dagger}a|n\\rangle - \\langle n|aa^{\\dagger}|n\\rangle + \\langle n|a^{2}|n\\rangle) \\\\\n",
    "& = -\\frac{\\hbar m\\omega}{2}(\\langle n|a^{\\dagger}\\sqrt{n+1}|n+1\\rangle-\\langle n|n|n\\rangle - \\langle n|(a^{\\dagger}a+\\mathbb{I})|n\\rangle + \\langle n|a\\sqrt{n}|n-1\\rangle) \\\\\n",
    "& = -\\frac{\\hbar m\\omega}{2}(\\langle n|\\sqrt{n+1}\\sqrt{n+2}|n+2\\rangle-n - \\langle n|(n+1)|n\\rangle + \\langle n|\\sqrt{n}\\sqrt{n-1}|n-2\\rangle) \\\\\n",
    "& = -\\frac{\\hbar m\\omega}{2}(0-n -n-1 +0) = \\frac{\\hbar m\\omega}{2}(2n+1).\n",
    "\\end{align}"
   ]
  },
  {
   "cell_type": "markdown",
   "metadata": {},
   "source": [
    "---\n",
    "$7.$ Calcule $\\langle P\\rangle_{\\psi}$ para $|\\psi\\rangle=\\sum_{n}c_{n}|n\\rangle$."
   ]
  },
  {
   "cell_type": "markdown",
   "metadata": {},
   "source": [
    "_SOL._ Usando $a^{\\dagger}|n\\rangle=\\sqrt{n+1}|n+1\\rangle$ e $a|n\\rangle=\\sqrt{n}|n-1\\rangle$ teremos\n",
    "\\begin{align}\n",
    "\\langle P\\rangle_{\\psi} &= \\sum_{n}c_{n}^{*}\\langle n|i\\sqrt{\\frac{\\hbar m\\omega}{2}}(a^{\\dagger}-a)\\sum_{m}c_{m}|m\\rangle \\\\\n",
    "&= i\\sqrt{\\frac{\\hbar m\\omega}{2}}\\sum_{n,m}c_{n}^{*}c_{m}\\langle n|(\\sqrt{m+1}|m+1\\rangle-\\sqrt{m}|m-1\\rangle) \\\\\n",
    "&= i\\sqrt{\\frac{\\hbar m\\omega}{2}}\\sum_{n,m}c_{n}^{*}c_{m}(\\sqrt{m+1}\\delta_{n,m+1}-\\sqrt{m}\\delta_{n,m-1}) \\\\\n",
    "&= i\\sqrt{\\frac{\\hbar m\\omega}{2}}\\sum_{n,m}c_{n}^{*}(c_{n-1}\\sqrt{n}-c_{n+1}\\sqrt{n+1}).\n",
    "\\end{align}"
   ]
  },
  {
   "cell_type": "markdown",
   "metadata": {},
   "source": [
    "---\n",
    "$8.$ Resolvendo a eq. de Heisenberg, verifique que $a_{H}^{\\dagger} = e^{i\\omega t}a_{S}^{\\dagger}$, para a dinâmica gerada pelo Hamiltoniano do OHQ."
   ]
  },
  {
   "cell_type": "markdown",
   "metadata": {},
   "source": [
    "_SOL._ Aqui teremos\n",
    "\\begin{align}\n",
    "i\\hbar\\partial_{t}a_{H}^{\\dagger} &= [a_{H}^{\\dagger},H_{ohq}^{H}] + \\mathbb{O} = \\hbar\\omega([a_{H}^{\\dagger},a_{H}^{\\dagger}a_{H}]+[a_{H}^{\\dagger},\\mathbb{I}]/2) \\\\\n",
    "& = \\hbar\\omega(a_{H}^{\\dagger}[a_{H}^{\\dagger},a_{H}] + [a_{H}^{\\dagger},a_{H}^{\\dagger}]a_{H} + \\mathbb{O}) = \\hbar\\omega(-\\mathbb{I}a_{H}^{\\dagger} +\\mathbb{O} + \\mathbb{O}) \\\\\n",
    "& = -\\hbar\\omega a_{H}^{\\dagger}, \\\\\n",
    "& \\therefore \\partial_{t}a_{H}^{\\dagger} = i\\omega a_{H}^{\\dagger} \\ \\therefore a_{H}^{\\dagger}=e^{i\\omega t}a_{S}^{\\dagger}.\n",
    "\\end{align}"
   ]
  },
  {
   "cell_type": "markdown",
   "metadata": {},
   "source": [
    "---\n",
    "$9.$ Para a dinâmica do OHQ, verifique que podemos escrever as soluções apresentadas na seção correspondente como: $X_{t}^{H} = X\\cos\\omega t + \\frac{P}{m\\omega}\\sin\\omega t$ e $P_{t}^{H} = -m\\omega X\\sin\\omega t + P\\cos\\omega t$."
   ]
  },
  {
   "cell_type": "markdown",
   "metadata": {},
   "source": [
    "_SOL._ Usando $a_{H}=e^{-i\\omega t}a_{S}$ e o exercício anterior, obteremos\n",
    "\\begin{align}\n",
    "X_{t}^{H} &= \\sqrt{\\frac{\\hbar}{2m\\omega}}(a^{\\dagger}_{H}+a_{H}) = \\sqrt{\\frac{\\hbar}{2m\\omega}}(e^{i\\omega t}a_{S}^{\\dagger}+e^{-i\\omega t}a_{S}) \\\\\n",
    "& = \\cos(\\omega t)\\sqrt{\\frac{\\hbar}{2m\\omega}}(a_{S}^{\\dagger}+a_{S}) + \\sin(\\omega t)i\\sqrt{\\frac{\\hbar}{2m\\omega}}(a_{S}^{\\dagger}-a_{S}) \\\\\n",
    "& = \\cos(\\omega t)X + \\sin(\\omega t)\\frac{P}{m\\omega}, \\\\\n",
    "P_{t}^{H} &= i\\sqrt{\\frac{\\hbar m\\omega}{2}}(a^{\\dagger}_{H}-a_{H}) = i\\sqrt{\\frac{\\hbar m\\omega}{2}}(e^{i\\omega t}a_{S}^{\\dagger}-e^{-i\\omega t}a_{S}) \\\\\n",
    "& = \\cos(\\omega t)i\\sqrt{\\frac{\\hbar m\\omega}{2}}(a_{S}^{\\dagger}-a_{S}) + i\\sin(\\omega t)i\\sqrt{\\frac{\\hbar m\\omega}{2}}(a_{S}^{\\dagger}+a_{S}) \\\\\n",
    "& = \\cos(\\omega t)P - \\sin(\\omega t)m\\omega X.\n",
    "\\end{align}"
   ]
  },
  {
   "cell_type": "markdown",
   "metadata": {},
   "source": [
    "---\n",
    "$10.$ Considerando o estado fundamental do oscilador harmônico quântico unidimensional, calcule a função correlação temporal \n",
    "$$C_t = \\langle X_t X_0 \\rangle,$$\n",
    "com $X_t$ sendo o operador posição na representação de Heisenberg."
   ]
  },
  {
   "cell_type": "markdown",
   "metadata": {},
   "source": [
    "_SOL._ Temos que $X_t = \\sqrt{\\frac{\\hbar}{2m\\omega}}(a_t^{\\dagger}+a_t)$. Vamos começar obtendo $a_t$ usando a equação de movimento de Heisenberg:\n",
    "\\begin{align}\n",
    "i\\hbar\\partial_t a_t & = [a_t,H_t^H] \\\\\n",
    "& = [a_t,\\hbar\\omega(a_t^\\dagger a_t + I/2)] \\\\\n",
    "& = \\hbar\\omega\\big([a_t,a_t^\\dagger a_t] +0\\big) \\\\\n",
    "& = \\hbar\\omega\\big([a_t,a_t^\\dagger ]a_t + a_t^\\dagger[a_t, a_t]\\big) \\\\\n",
    "& = \\hbar\\omega a_t.\n",
    "\\end{align}\n",
    "Segue assim que\n",
    "\\begin{align}\n",
    "& a_t = a_0 e^{-i\\omega t}\\ \\therefore\\ a_t^\\dagger = a_0^\\dagger e^{i\\omega t} \\\\\n",
    "& \\therefore\\ X_t = \\sqrt{\\frac{\\hbar}{2m\\omega}}(a_t^{\\dagger}+a_t) = \\sqrt{\\frac{\\hbar}{2m\\omega}}(a_0^\\dagger e^{i\\omega t}+a_0 e^{-i\\omega t}).\n",
    "\\end{align}\n",
    "Com isso, para um estado qualquer, vem que\n",
    "\\begin{align}\n",
    "C_t & = \\langle X_t X_0 \\rangle \\\\\n",
    "& = \\Big\\langle \\sqrt{\\frac{\\hbar}{2m\\omega}}(a_0^\\dagger e^{i\\omega t}+a_0 e^{-i\\omega t}) \\sqrt{\\frac{\\hbar}{2m\\omega}}(a_0^\\dagger+a_0)\\Big\\rangle \\\\\n",
    "& = \\frac{\\hbar}{2m\\omega}\\Big\\langle (a_0^\\dagger e^{i\\omega t}+a_0 e^{-i\\omega t})(a_0^\\dagger+a_0)\\Big\\rangle \\\\\n",
    "& = \\frac{\\hbar}{2m\\omega}\\Big( e^{i\\omega t}\\big\\langle (a_0^\\dagger)^2\\big\\rangle + e^{i\\omega t}\\big\\langle a_0^\\dagger a_0\\big\\rangle + e^{-i\\omega t}\\big\\langle a_0 a_0^\\dagger\\big\\rangle + e^{-i\\omega t}\\big\\langle a_0^2\\big\\rangle \\Big).\n",
    "\\end{align}\n",
    "Se o estado é o estado fundamental do OHQ1D, então\n",
    "\\begin{align}\n",
    "& \\big\\langle (a_0^\\dagger)^2\\big\\rangle_0 = \\langle 0| a_0^\\dagger a_0^\\dagger |0\\rangle \\propto \\langle 0|2\\rangle = 0,\\\\\n",
    "& \\big\\langle a_0^\\dagger a_0\\big\\rangle_0 = \\langle 0| a_0^\\dagger a_0|0\\rangle = 0, \\\\\n",
    "& \\big\\langle a_0 a_0^\\dagger \\big\\rangle_0 = \\langle 0| (I+a_0^\\dagger a_0)|0\\rangle = 1+0, \\\\\n",
    "& \\big\\langle a_0^2\\big\\rangle_0 = \\langle 0| a_0 a_0 |0\\rangle \\propto \\langle 0|\\oslash\\rangle = 0.\n",
    "\\end{align}\n",
    "Obtemos assim que\n",
    "$$C_t = \\frac{\\hbar}{2m\\omega}e^{-i\\omega t} = \\frac{\\hbar}{2m\\omega}\\big(\\cos(\\omega t)+i\\sin(\\omega t)\\big).$$"
   ]
  },
  {
   "cell_type": "code",
   "execution_count": null,
   "metadata": {},
   "outputs": [],
   "source": []
  }
 ],
 "metadata": {
  "kernelspec": {
   "display_name": "Python 3 (ipykernel)",
   "language": "python",
   "name": "python3"
  },
  "language_info": {
   "codemirror_mode": {
    "name": "ipython",
    "version": 3
   },
   "file_extension": ".py",
   "mimetype": "text/x-python",
   "name": "python",
   "nbconvert_exporter": "python",
   "pygments_lexer": "ipython3",
   "version": "3.11.1"
  }
 },
 "nbformat": 4,
 "nbformat_minor": 4
}
