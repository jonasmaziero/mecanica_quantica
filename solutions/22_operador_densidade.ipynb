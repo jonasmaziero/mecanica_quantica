{
 "cells": [
  {
   "cell_type": "markdown",
   "metadata": {},
   "source": [
    "### Notas de aula de Mecânica Quântica <br> Autor: Jonas Maziero\n",
    "\n",
    "# Exercícios"
   ]
  },
  {
   "cell_type": "markdown",
   "metadata": {},
   "source": [
    "---\n",
    "$1.$ Para um sistema físico de dimensão $d=\\dim\\mathcal{H}$ e ensembles $\\rho\\equiv\\{|\\psi_{j}\\rangle\\}_{j=1}^{n}$, forneça exemplos de ensembles com $n<d$, $n=d$ e $n>d$."
   ]
  },
  {
   "cell_type": "markdown",
   "metadata": {},
   "source": [
    "_SOL._ Para um spin 1/2, para o qual $d=2$, podemos considerar como exemplos $\\rho_{1}=|z_{+}\\rangle\\langle z_{+}|$, $\\rho_{2}=0.5|z_{+}\\rangle\\langle z_{+}|+0.5|z_{-}\\rangle\\langle z_{-}|$ e $\\rho_{2}=0.5|z_{+}\\rangle\\langle z_{+}|+0.25|z_{-}\\rangle\\langle z_{-}|+0.25|x_{+}\\rangle\\langle x_{+}|.$"
   ]
  },
  {
   "cell_type": "markdown",
   "metadata": {},
   "source": [
    "---\n",
    "$2.$ Para sistemas de dois níveis, forneça dois ensembles \"diferentes\" que levam ao mesmo estado $\\rho=\\sigma_{0}/2$."
   ]
  },
  {
   "cell_type": "markdown",
   "metadata": {},
   "source": [
    "_SOL._ Para um spin 1/2, temos que $0.5|x_{+}\\rangle\\langle x_{+}|+0.5|x_{-}\\rangle\\langle x_{-}|=0.5\\sigma_{0}$ e $0.5|z_{+}\\rangle\\langle zz_{+}|+0.5|z_{-}\\rangle\\langle z_{-}|=0.5\\sigma_{0}.$"
   ]
  },
  {
   "cell_type": "markdown",
   "metadata": {},
   "source": [
    "---\n",
    "$3.$ Verifique que o valor médio de um observável $O$, para um sistema preparado no estado $\\rho\\equiv\\{|\\psi_{j}\\rangle,p_{j}\\}_{j=1}^{n}$, pode ser escrito como:\n",
    "\\begin{equation}\n",
    "\\langle O\\rangle_{\\rho} = \\mathrm{Tr}(\\rho O).\n",
    "\\end{equation}"
   ]
  },
  {
   "cell_type": "markdown",
   "metadata": {},
   "source": [
    "_SOL._ O valor médio é\n",
    "\\begin{align}\n",
    "\\langle O\\rangle_{\\rho} &= \\sum_{j=1}^{n}\\langle O\\rangle_{\\psi_{j}}p_{j} = \\sum_{j=1}^{n}\\langle\\psi_{j}| O|\\psi_{j}\\rangle p_{j} = \\sum_{j=1}^{n}Tr\\left(|\\psi_{j}\\rangle\\langle\\psi_{j}| O\\right) p_{j} \\\\\n",
    "&=  Tr\\left(\\sum_{j=1}^{n}p_{j}|\\psi_{j}\\rangle\\langle\\psi_{j}| O\\right) = Tr(\\rho O).\n",
    "\\end{align}"
   ]
  },
  {
   "cell_type": "markdown",
   "metadata": {},
   "source": [
    "---\n",
    "$4.$ Considere que $|z_{+}\\rangle$ é preparado com probabilidade $3/4$ e que $|y_{+}\\rangle$ é preparado como probabilidade $1/4$. Obtenha a matriz densidade, na base padrão, para o operador densidade que representa esse ensemble. Use esse operador para calcular as probabilidades para a componente de spin na direção $\\hat{n} = (1/\\sqrt{2},0,1/\\sqrt{2})$."
   ]
  },
  {
   "cell_type": "markdown",
   "metadata": {},
   "source": [
    "_SOL._ Neste caso, usando $|y_{\\pm}\\rangle=(|z_{+}\\rangle\\pm i|z_{-}\\rangle)/\\sqrt{2}$, o operador densidade é \n",
    "\\begin{align}\n",
    "\\rho &= \\frac{3}{4}|z_{+}\\rangle\\langle z_{+}| + \\frac{1}{4}|y_{+}\\rangle\\langle y_{+}| = \\frac{3}{4}|z_{+}\\rangle\\langle z_{+}| + \\frac{1}{4}(|z_{+}\\rangle+ i|z_{-}\\rangle)/\\sqrt{2}(\\langle z_{+}|- i\\langle z_{-}|)/\\sqrt{2} \\\\\n",
    "&= \\frac{3}{4}|z_{+}\\rangle\\langle z_{+}| + \\frac{1}{8}(|z_{+}\\rangle\\langle z_{+}| + i|z_{-}\\rangle\\langle z_{+}| -i|z_{+}\\rangle\\langle z_{-}| + |z_{-}\\rangle\\langle z_{-}|) \\\\\n",
    "&= \\frac{7}{8}|z_{+}\\rangle\\langle z_{+}| + \\frac{1}{8}(i|z_{-}\\rangle\\langle z_{+}| -i|z_{+}\\rangle\\langle z_{-}| + |z_{-}\\rangle\\langle z_{-}|) \\\\\n",
    "& \\doteq \\begin{bmatrix} 7/8 & -i/8 \\\\ i/8 & 1/8 \\end{bmatrix}.\n",
    "\\end{align}\n",
    "O versor $\\hat{n} = \\big(1/\\sqrt{2},0,1/\\sqrt{2}\\big) = (\\sin\\theta\\cos\\phi,\\sin\\theta\\sin\\phi,\\cos\\theta)$ corresponde a $\\theta=\\pi/4,\\phi=0.$ Os autovetores desse observável são $|n_{+}\\rangle=\\cos(\\pi/8)|z_{+}\\rangle+e^{i0}\\sin(\\pi/8)|z_{-}\\rangle = \\begin{bmatrix}\\cos(\\pi/8)\\\\\\sin(\\pi/8)\\end{bmatrix}$ e $|n_{-}\\rangle=\\sin(\\pi/8)|z_{+}\\rangle-e^{i0}\\cos(\\pi/8)|z_{-}\\rangle = \\begin{bmatrix}\\sin(\\pi/8)\\\\-\\cos(\\pi/8)\\end{bmatrix}.$  A respectivas probabilidade são\n",
    "\\begin{align}\n",
    "Pr(n_{+}) &= Tr(\\rho|n_{+}\\rangle\\langle n_{+}|) = \\langle n_{+}|\\rho|n_{+}\\rangle = \\begin{bmatrix}\\cos(\\pi/8)&\\sin(\\pi/8)\\end{bmatrix} \\begin{bmatrix} 7/8 & -i/8 \\\\ i/8 & 1/8 \\end{bmatrix} \\begin{bmatrix}\\cos(\\pi/8)\\\\\\sin(\\pi/8)\\end{bmatrix} \\\\\n",
    "& = \\begin{bmatrix}\\cos(\\pi/8)&\\sin(\\pi/8)\\end{bmatrix} \\begin{bmatrix}(7\\cos(\\pi/8)-i\\sin(\\pi/8))/8\\\\(i\\cos(\\pi/8)+\\sin(\\pi/8))/8\\end{bmatrix} \\\\\n",
    "& = \\cos(\\pi/8)(7\\cos(\\pi/8)-i\\sin(\\pi/8))/8 + \\sin(\\pi/8)(i\\cos(\\pi/8)+\\sin(\\pi/8))/8 \\\\\n",
    "&= \\big(7\\cos^{2}(\\pi/8) -i\\sin(\\pi/8)\\cos(\\pi/8) + i\\sin(\\pi/8)\\cos(\\pi/8) + \\sin^{2}(\\pi/8)\\big)/8 \\\\\n",
    "&= (1+6\\cos^{2}(\\pi/8))/8 \\approx 0,23, \\\\\n",
    "Pr(n_{-}) &= 1-Pr(n_{+}) \\approx 0,73.\n",
    "\\end{align}"
   ]
  },
  {
   "cell_type": "code",
   "execution_count": 3,
   "metadata": {},
   "outputs": [
    {
     "data": {
      "text/plain": [
       "0.23169417382415922"
      ]
     },
     "execution_count": 3,
     "metadata": {},
     "output_type": "execute_result"
    }
   ],
   "source": [
    "from sympy import cos, pi\n",
    "float((1+cos(pi/8)**2)/8)"
   ]
  },
  {
   "cell_type": "markdown",
   "metadata": {},
   "source": [
    "---\n",
    "$5.$ Verifique que os autovalores de $\\rho=\\frac{1}{2}\\begin{bmatrix} 1+r_{3} & r_{1}-i r_{2} \\\\ r_{1}+i r_{2} & 1-r_{3}  \\end{bmatrix}$ são $(1\\pm r)/2$, com $r = \\sqrt{\\sum_{j=1}^{3}r_{j}^{2}}$."
   ]
  },
  {
   "cell_type": "markdown",
   "metadata": {},
   "source": [
    "_SOL._ Aplicando a equação característica, teremos\n",
    "\\begin{align}\n",
    "& \\det(\\rho-\\lambda\\sigma_{0})= \\det\\begin{bmatrix} (1+r_{3})/2-\\lambda & (r_{1}-i r_{2})/2 \\\\ (r_{1}+i r_{2})/2 & (1-r_{3})/2-\\lambda  \\end{bmatrix} = 0, \\\\\n",
    "& \\therefore\\  \\big((1+r_{3})/2-\\lambda\\big)\\big((1-r_{3})/2-\\lambda\\big) - \\big((r_{1}-i r_{2})(r_{1}+i r_{2})/4\\big) =0, \\\\\n",
    "& \\therefore\\ (1-r_{3}^{2})/4 - (1-r_{3}+1+r_{3})\\lambda/2 + \\lambda^{2} -r_{1}^{2}/4 -r_{2}^{2}/4 =0, \\\\\n",
    "& \\therefore \\lambda^{2} - \\lambda + (1-r_{1}^{2}-r_{2}^{2}-r_{3}^{2})/4 = 0, \\\\\n",
    "& \\therefore \\lambda = \\frac{1\\pm\\sqrt{1-4(1-r_{1}^{2}-r_{2}^{2}-r_{3}^{2})/4}}{2} = \\frac{1\\pm\\sqrt{r_{1}^{2}+r_{2}^{2}+r_{3}^{2}}}{2} =: \\frac{1\\pm r}{2}.\n",
    "\\end{align} "
   ]
  },
  {
   "cell_type": "markdown",
   "metadata": {},
   "source": [
    "---\n",
    "$6.$ Os autovalores das matrizes de Pauli $\\{\\sigma_{j}\\}_{j=1}^{3}$ são $\\pm 1$. Mostre que $\\langle\\sigma_{j}\\rangle_{\\rho}\\in[-1,+1]$ para qualquer estado $\\rho$."
   ]
  },
  {
   "cell_type": "markdown",
   "metadata": {},
   "source": [
    "_SOL._ Quando discutimos teoria de probabilidade e estatística, mostramos que o valor médio de uma variável aleatória $X$ com valores entre $x_{\\min}$ e $x_{\\max}$ está neste intervalo, i.e., $\\langle X\\rangle\\in[x_{\\min},x_{\\max}].$ Com os observáveis $\\sigma_{j}$ são variáveis aleatórias que só podem assumir os valores $\\pm1$, devemos ter que $\\langle\\sigma_{j}\\rangle\\in[-1,+1].$"
   ]
  },
  {
   "cell_type": "markdown",
   "metadata": {},
   "source": [
    "---\n",
    "$7.$ Para o Hamiltoniano $H=-2^{-1}\\hbar\\omega\\sigma_{x}$ e o estado inicial $\\rho_{0}=\\begin{bmatrix}\\rho_{1,1}(0)&\\rho_{1,2}(0)\\\\\\rho_{2,1}(0)&\\rho_{2,2}(0)\\end{bmatrix}$, resolva a equação de von Neumann para obter o estado evoluído $\\rho_{t}=\\begin{bmatrix}\\rho_{1,1}(t)&\\rho_{1,2}(t)\\\\\\rho_{2,1}(t)&\\rho_{2,2}(t)\\end{bmatrix}=\\begin{bmatrix}\\rho_{1,1}(t)&\\Re(\\rho_{1,2}(t))+i\\Im(\\rho_{1,2}(t))\\\\\\Re(\\rho_{1,2}(t))-i\\Im(\\rho_{1,2}(t))&1-\\rho_{1,1}(t)\\end{bmatrix}$."
   ]
  },
  {
   "cell_type": "markdown",
   "metadata": {},
   "source": [
    "_SOL._ Vamos aplicar a equação de von Neumann\n",
    "\\begin{align}\n",
    "& i\\hbar\\partial_{t}\\rho_{t} = [H_{t},\\rho_{t}], \\\\\n",
    "& i\\hbar\\begin{bmatrix}\\partial_{t}\\rho_{1,1}(t)&\\partial_{t}\\rho_{1,2}(t)\\\\\\partial_{t}\\rho_{2,1}(t)&\\partial_{t}\\rho_{2,2}(t)\\end{bmatrix} = \\left[-\\frac{\\hbar\\omega}{2}\\begin{bmatrix}0&1\\\\1&0\\end{bmatrix},\\begin{bmatrix}\\rho_{1,1}(t)&\\rho_{1,2}(t)\\\\\\rho_{2,1}(t)&\\rho_{2,2}(t)\\end{bmatrix}\\right] \\\\\n",
    "& = -\\frac{\\hbar\\omega}{2}\\left(\\begin{bmatrix}0&1\\\\1&0\\end{bmatrix}\\begin{bmatrix}\\rho_{1,1}(t)&\\rho_{1,2}(t)\\\\\\rho_{2,1}(t)&\\rho_{2,2}(t)\\end{bmatrix} - \\begin{bmatrix}\\rho_{1,1}(t)&\\rho_{1,2}(t)\\\\\\rho_{2,1}(t)&\\rho_{2,2}(t)\\end{bmatrix}\\begin{bmatrix}0&1\\\\1&0\\end{bmatrix}\\right) \\\\\n",
    "& = -\\frac{\\hbar\\omega}{2}\\left(\\begin{bmatrix}\\rho_{2,1}(t)&\\rho_{2,2}(t)\\\\\\rho_{1,1}(t)&\\rho_{1,2}(t)\\end{bmatrix} - \\begin{bmatrix}\\rho_{1,2}(t)&\\rho_{1,1}(t)\\\\\\rho_{2,2}(t)&\\rho_{2,1}(t)\\end{bmatrix}\\right) = -\\frac{\\hbar\\omega}{2}\\begin{bmatrix}\\rho_{2,1}(t)-\\rho_{1,2}(t)&\\rho_{2,2}(t)-\\rho_{1,1}(t)\\\\\\rho_{1,1}(t)-\\rho_{2,2}(t)&\\rho_{1,2}(t)-\\rho_{2,1}(t)\\end{bmatrix}.\n",
    "\\end{align}\n",
    "Como $Tr(\\rho)=1\\Rightarrow \\rho_{1,1}(t)+\\rho_{2,2}(t)=1$ e $\\rho^{\\dagger}=\\rho\\Rightarrow \\rho_{1,2}(t)=\\rho_{2,1}(t)^{*} \\text{ e }\\rho_{1,1}(t),\\rho_{2,2}(t)\\in\\mathbb{R},$ a equação matricial acima resulta em um conjunto com dias equações acopladas:\n",
    "\\begin{align}\n",
    " i\\hbar\\partial_{t}\\rho_{1,1}(t) &= -\\frac{\\hbar\\omega}{2}(\\rho_{2,1}(t)-\\rho_{2,1}(t)^{*}) = -\\hbar\\omega i\\Im(\\rho_{2,1}(t)), \\\\\n",
    "i\\hbar\\partial_{t}\\rho_{2,1}(t) &= -\\frac{\\hbar\\omega}{2}(\\rho_{1,1}(t)-\\rho_{2,2}(t)) = -\\frac{\\hbar\\omega}{2}(2\\rho_{1,1}(t)-1), \\\\\n",
    "i\\hbar\\partial_{t}\\rho_{1,2}(t) &= i\\hbar\\partial_{t}\\rho_{2,1}(t)^{*} = -\\frac{\\hbar\\omega}{2}(\\rho_{2,2}(t)-\\rho_{1,1}(t)) = \\frac{\\hbar\\omega}{2}(2\\rho_{1,1}(t)-1), \\\\\n",
    "i\\hbar\\partial_{t}(\\rho_{2,1}(t)+\\rho_{2,1}(t)^{*}) &= i\\hbar\\partial_{t}2\\Re(\\rho_{2,1}(t)) = 0, \\\\\n",
    "i\\hbar\\partial_{t}(\\rho_{2,1}(t)-\\rho_{2,1}(t)^{*}) &= i\\hbar\\partial_{t}2i\\Im(\\rho_{2,1}(t)) = -\\hbar\\omega(2\\rho_{1,1}(t)-1)\n",
    "\\end{align}"
   ]
  },
  {
   "cell_type": "markdown",
   "metadata": {},
   "source": [
    "ou\n",
    "\\begin{align}\n",
    "& \\partial_{t}\\rho_{1,1}(t) = -\\omega\\Im(\\rho_{2,1}(t)), \\\\\n",
    "& \\partial_{t}\\Im(\\rho_{2,1}(t)) = \\omega(\\rho_{1,1}(t)-1/2), \\\\\n",
    "& \\partial_{t}\\Re(\\rho_{2,1}(t)) = 0 \\ \\therefore\\ \\Re(\\rho_{2,1}(t))=\\text{constante}=\\Re(\\rho_{2,1}(0))\n",
    "\\end{align}\n",
    "ou\n",
    "\\begin{align}\n",
    "& \\partial_{tt}\\rho_{1,1}(t) = -\\omega\\partial_{t}\\Im(\\rho_{2,1}(t)) = -\\omega^{2}(\\rho_{1,1}(t)-1/2), \\\\\n",
    "& \\partial_{tt}\\Im(\\rho_{2,1}(t)) = \\omega\\partial_{t}\\rho_{1,1}(t) = -\\omega^{2}\\Im(\\rho_{2,1}(t)).\n",
    "\\end{align}\n",
    "Vemos que essas equações tem como solução geral\n",
    "\\begin{align}\n",
    "& \\rho_{1,1}(t) = A\\cos(\\omega t)+B\\sin(\\omega t), \\\\\n",
    "& \\Im(\\rho_{2,1}(t)) = C\\cos(\\omega t)+D\\sin(\\omega t).\n",
    "\\end{align}\n",
    "Agora aplicamos as condições iniciais $\\rho_{1,1}(0)=A$ e $\\partial_{t}\\rho_{1,1}(0)=\\omega B = -\\omega\\Im(\\rho_{2,1}(0)).$ Também $\\Im(\\rho_{2,1}(0))=C$ e $\\partial_{t}\\Im(\\rho_{2,1}(0))=\\omega D=\\omega(\\rho_{1,1}(0)-1/2).$ Assim\n",
    "\\begin{align}\n",
    "& \\rho_{1,1}(t) = \\rho_{1,1}(0)\\cos(\\omega t)-\\Im(\\rho_{2,1}(0))\\sin(\\omega t), \\\\\n",
    "& \\Im(\\rho_{2,1}(t)) = \\Im(\\rho_{2,1}(0))\\cos(\\omega t)+(\\rho_{1,1}(0)-1/2)\\sin(\\omega t)\n",
    "\\end{align}\n",
    "e\n",
    "$$\\rho_{t}=\\begin{bmatrix} \\big(\\rho_{1,1}(0)\\cos(\\omega t)-\\Im(\\rho_{2,1}(0))\\sin(\\omega t)\\big) & \\big(\\Re(\\rho_{2,1}(0)-i\\big(\\Im(\\rho_{2,1}(0))\\cos(\\omega t)+(\\rho_{1,1}(0)-1/2)\\sin(\\omega t)\\big) \\\\\n",
    "\\big(\\Re(\\rho_{2,1}(0)+i\\big(\\Im(\\rho_{2,1}(0))\\cos(\\omega t)+(\\rho_{1,1}(0)-1/2)\\sin(\\omega t)\\big)\\big) & \\big(1-\\big(\\rho_{1,1}(0)\\cos(\\omega t)-\\Im(\\rho_{2,1}(0))\\sin(\\omega t)\\big)\\big) \\end{bmatrix}.$$"
   ]
  },
  {
   "cell_type": "markdown",
   "metadata": {},
   "source": [
    "---\n",
    "$8.$ Obtenha o estado térmico de um spin 1/2 com Hamiltoniano $H=-(\\hbar\\omega/2)\\sigma_{y}$. Calcule a energia média e entropia desse sistema."
   ]
  },
  {
   "cell_type": "markdown",
   "metadata": {},
   "source": [
    "_SOL._ Usando a decomposição espectral $H=-(\\hbar\\omega/2)\\sigma_{y} = E_{+}|y_{+}\\rangle\\langle y_{+}|+E_{-}|y_{-}\\rangle\\langle y_{-}|,$ com $E_{\\pm}=\\mp\\hbar\\omega/2$, a função de partição fica escrita como \n",
    "\\begin{align}\n",
    "Z & = \\mathrm{Tr}(e^{-\\beta H}) = \\sum_{j}e^{-\\beta E_{j}} = e^{-\\beta E_{+}} + e^{-\\beta E_{-}} = e^{-\\beta (-\\hbar\\omega/2)} + e^{-\\beta(\\hbar\\omega/2)} = 2\\cosh\\frac{\\beta\\hbar\\omega}{2}.\n",
    "\\end{align}\n",
    "Assim o estado térmico de Gibbs é obtido como segue:\n",
    "\\begin{align}\n",
    "\\rho_{th}&= \\frac{e^{-\\beta H}}{Z} = Z^{-1}e^{-\\beta(-\\hbar\\omega/2)}|y_{+}\\rangle\\langle y_{+}| + Z^{-1}e^{-\\beta(\\hbar\\omega/2)}|y_{-}\\rangle\\langle y_{-}|  \\\\\n",
    "&= Z^{-1}e^{\\beta\\hbar\\omega/2}2^{-1}(|z_{+}\\rangle+i|z_{-}\\rangle)(\\langle z_{+}|-i\\langle z_{-}|) + Z^{-1}e^{-\\beta\\hbar\\omega/2}2^{-1}(|z_{+}\\rangle-i|z_{-}\\rangle)(\\langle z_{+}|+i\\langle z_{-}|)  \\\\\n",
    "&= Z^{-1}e^{\\beta\\hbar\\omega/2}2^{-1}(|z_{+}\\rangle\\langle z_{+}|+i|z_{-}\\rangle\\langle z_{+}| -i |z_{+}\\rangle\\langle z_{-}| + |z_{-}\\rangle\\langle z_{-}|) \\\\ \n",
    "& \\hspace{0.5cm}+ Z^{-1}e^{-\\beta\\hbar\\omega/2}2^{-1}(|z_{+}\\rangle\\langle z_{+}|-i|z_{-}\\rangle\\langle z_{+}|+i|z_{+}\\rangle\\langle z_{-}|+|z_{-}\\rangle\\langle z_{-}|)  \\\\\n",
    "&= (2Z)^{-1}\\big(|z_{+}\\rangle\\langle z_{+}|2\\cosh(\\beta\\hbar\\omega/2) +i|z_{-}\\rangle\\langle z_{+}|2\\sinh(\\beta\\hbar\\omega/2) -i |z_{+}\\rangle\\langle z_{+}|2\\sinh(\\beta\\hbar\\omega/2) + |z_{+}\\rangle\\langle z_{+}|2\\cosh(\\beta\\hbar\\omega/2)\\big)\\\\\n",
    "& = \\begin{bmatrix} Z^{-1}\\cosh(\\beta\\hbar\\omega/2) & Z^{-1}i\\sinh(\\beta\\hbar\\omega/2) \\\\ -Z^{-1}i\\sinh(\\beta\\hbar\\omega/2) & Z^{-1}e^{-\\beta\\hbar\\omega/2} \\end{bmatrix} = \\begin{bmatrix} 1/2 & i\\tanh(\\beta\\hbar\\omega/2)/2 \\\\ -i\\tanh(\\beta\\hbar\\omega/2)/2 & 1/2 \\end{bmatrix}.\n",
    "\\end{align}"
   ]
  },
  {
   "cell_type": "markdown",
   "metadata": {},
   "source": [
    "Energia média\n",
    "Energia média:\n",
    "\\begin{align}\n",
    "\\langle H\\rangle & = E_{+}Pr(E_{+}) + E_{-}Pr(E_{-}) = \\frac{-\\hbar\\omega}{2}\\frac{e^{\\beta\\hbar\\omega/2}}{Z} + \\frac{\\hbar\\omega}{2}\\frac{e^{-\\beta\\hbar\\omega/2}}{Z} \\\\\n",
    "                 & = -\\frac{\\hbar\\omega}{2}\\frac{2\\sinh(\\beta\\hbar\\omega/2)}{2\\cosh(\\beta\\hbar\\omega/2)} = -\\frac{\\hbar\\omega}{2}\\tanh\\frac{\\beta\\hbar\\omega}{2}.\n",
    "\\end{align}\n",
    "\n",
    "Entropia (essa relação termodinâmica vale para qualquer estado térmico de Gibbs):\n",
    "\\begin{align}\n",
    "\\frac{S_{th}}{k_{B}} & = \\frac{\\langle H\\rangle}{k_{B}T} + \\ln Z = \\frac{-\\frac{\\hbar\\omega}{2}\\tanh\\frac{\\beta\\hbar\\omega}{2}}{k_{B}T} + \\ln\\left(2\\cosh\\frac{\\beta\\hbar\\omega}{2}\\right) \\\\\n",
    "                     & = -\\frac{\\beta\\hbar\\omega}{2}\\tanh\\frac{\\beta\\hbar\\omega}{2} + \\ln\\left(2\\cosh\\frac{\\beta\\hbar\\omega}{2}\\right).\n",
    "\\end{align}"
   ]
  }
 ],
 "metadata": {
  "kernelspec": {
   "display_name": "Python 3 (ipykernel)",
   "language": "python",
   "name": "python3"
  },
  "language_info": {
   "codemirror_mode": {
    "name": "ipython",
    "version": 3
   },
   "file_extension": ".py",
   "mimetype": "text/x-python",
   "name": "python",
   "nbconvert_exporter": "python",
   "pygments_lexer": "ipython3",
   "version": "3.11.1"
  }
 },
 "nbformat": 4,
 "nbformat_minor": 4
}
