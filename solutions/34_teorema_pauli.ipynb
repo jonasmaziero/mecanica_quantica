{
 "cells": [
  {
   "cell_type": "markdown",
   "metadata": {},
   "source": [
    "### Notas de aula de Mecânica Quântica <br> Autor: Jonas Maziero\n",
    "# Exercícios"
   ]
  },
  {
   "cell_type": "markdown",
   "metadata": {},
   "source": [
    "--- \n",
    "$1.$ Considerando o oscilador harmônico quântico unidimensional, use o teorema de Pauli, $\\partial_{\\alpha}E(\\alpha) = \\langle\\partial_{\\alpha}H(\\alpha)\\rangle$, para mostrar que $\\langle p^{2}\\rangle_{\\Xi_{n}}=m^{2}\\omega^{2}\\langle x^{2}\\rangle_{\\Xi_{n}}=mE_{n}$."
   ]
  },
  {
   "cell_type": "markdown",
   "metadata": {},
   "source": [
    "_SOL._ Como $H=p^{2}/2m+m\\omega^{2}x^{2}/2$ temos que $\\partial_{m}H=-p^{2}/2m^{2}+\\omega^{2}x^{2}/2$. Como $E_{n}=\\hbar\\omega(n+1/2)$, teremos que $\\partial_{m}E_{n}=0$. Assim (usando $\\langle x^{2}\\rangle_{\\Xi_{n}} = E_{n}/m\\omega^{2}$):\n",
    "\\begin{align}\n",
    "& \\partial_{m}E_{n}=0 = \\langle \\partial_{m}H\\rangle_{\\Xi_{n}} \\\\\n",
    "& = -\\langle p^{2}\\rangle_{\\Xi_{n}}/2m^{2}+ (\\omega^{2}/2)\\langle x^{2}\\rangle_{\\Xi_{n}}, \\\\\n",
    "& \\therefore \\langle p^{2}\\rangle_{\\Xi_{n}} = m^{2}\\omega^{2}\\langle x^{2}\\rangle_{\\Xi_{n}} = mE_{n}.\n",
    "\\end{align}"
   ]
  },
  {
   "cell_type": "markdown",
   "metadata": {},
   "source": [
    "A relação com a energia é obtida como segue. Temos que $\\partial_\\omega E(\\omega) = \\partial_\\omega \\hbar\\omega(n+1/2) = \\hbar(n+1/2) = \\langle \\partial_\\omega H(\\omega)\\rangle = \\langle \\partial_\\omega \\big(p^{2}/2m+m\\omega^{2}x^{2}/2\\big)\\rangle  = 0 + m\\omega\\langle x^2\\rangle$. Portanto $\\langle x^2\\rangle = \\hbar\\omega(n+1/2)/m\\omega^2 = E_n/m\\omega^2.$ "
   ]
  },
  {
   "cell_type": "markdown",
   "metadata": {},
   "source": [
    "---\n",
    "$2.$ Para átomos hidrogenóides, use o teorema de Pauli para mostrar que $\\langle p^{2}\\rangle=-2\\mu E_{n}$."
   ]
  },
  {
   "cell_type": "markdown",
   "metadata": {},
   "source": [
    "_SOL._ Aqui teremos\n",
    "\\begin{align}\n",
    "& \\partial_{\\mu}E_{n} = \\partial_{\\mu}\\left(-\\frac{\\mu k^{2}Z^{2}e^{4}}{2\\hbar^{2}n^{2}}\\right) = -\\frac{k^{2}Z^{2}e^{4}}{2\\hbar^{2}n^{2}} \\\\\n",
    "&= \\langle \\partial_{\\mu}H\\rangle = \\left\\langle\\partial_{\\mu}\\left(\\frac{p^{2}}{2\\mu}-\\frac{kZe^{2}}{r}\\right)\\right\\rangle = \\left\\langle\\left(-\\frac{p^{2}}{2\\mu^{2}}+0\\right)\\right\\rangle = \\frac{-\\langle p^{2}\\rangle}{2\\mu^{2}}.\n",
    "\\end{align}\n",
    "Assim\n",
    "\\begin{equation}\n",
    "\\langle p^{2}\\rangle = -2\\mu\\left(-\\frac{\\mu k^{2}Z^{2}e^{4}}{2\\hbar^{2}n^{2}}\\right) = -2\\mu E_{n}.\n",
    "\\end{equation}"
   ]
  },
  {
   "cell_type": "markdown",
   "metadata": {},
   "source": [
    "---\n",
    "$3.$ O Hamiltoniano do oscilador harmônico quântico bidimensional é dado por $H=\\frac{P_1^2}{2m}+\\frac{P_2^2}{2m} + \\frac{m\\omega^2 X_1^2}{2} + \\frac{m\\omega^2 X_2^2}{2}$, enquanto que as energias possíveis são dadas por $E_{n_1,n_2} = \\hbar\\omega(n_1+n_2+1),$ com $n_1,n_2\\in\\mathbb{N}_0.$ Aplique o teorema de Pauli para mostrar que para qualquer estado deste sistema são válidas as seguintes igualdades: $\\langle R^2\\rangle=\\frac{\\hbar}{m\\omega}(n_1+n_2+1)$ e $\\langle P^2\\rangle=m^2\\omega^2\\langle X^2\\rangle$, em que $\\vec{R}=X_1\\hat{e}_1+X_2\\hat{e}_2$ e $\\vec{P}=P_1\\hat{e}_1+P_2\\hat{e}_2$, com $\\{\\hat{e}_1,\\hat{e}_2\\}$ sendo a base padrão normalizada para $\\mathbb{R}^2$."
   ]
  },
  {
   "cell_type": "markdown",
   "metadata": {},
   "source": [
    "_SOL._ Aplicando o teorema de Pauli com $\\alpha =\\omega$ obtemos:\n",
    "\\begin{align}\n",
    "& \\partial_\\omega E_{n_1,n_2} = \\hbar(n_1+n_2+1) \\\\\n",
    "& = \\langle \\partial_\\omega H\\rangle \\\\\n",
    "& = \\Big\\langle\\Big(\\partial_\\omega\\frac{P_1^2}{2m} + \\partial_\\omega\\frac{P_2^2}{2m} + \\partial_\\omega\\frac{m\\omega^2 X_1^2}{2} + \\partial_\\omega\\frac{m\\omega^2 X_2^2}{2}\\Big)\\Big\\rangle \\\\\n",
    "& = \\Big\\langle\\Big(0 + 0 + m\\omega X_1^2 + m\\omega X_2^2\\Big)\\Big\\rangle \\\\\n",
    "& = m\\omega\\big\\langle\\big(X_1^2 + X_2^2\\big)\\big\\rangle \\\\\n",
    "& = m\\omega\\big\\langle R^2\\big\\rangle.\n",
    "\\end{align}\n",
    "Vemos assim que\n",
    "$$\\langle R^2\\rangle = \\frac{\\hbar}{m\\omega}(n_1+n_2+1).$$\n",
    "\n",
    "Aplicando o teorema de Pauli com $\\alpha =m$ obtemos:\n",
    "\\begin{align}\n",
    "& \\partial_m E_{n_1,n_2} = 0 \\\\\n",
    "& = \\langle \\partial_m H\\rangle \\\\\n",
    "& = \\Big\\langle\\Big(\\partial_m\\frac{P_1^2}{2m} + \\partial_m\\frac{P_2^2}{2m} + \\partial_m\\frac{m\\omega^2 X_1^2}{2} + \\partial_m\\frac{m\\omega^2 X_2^2}{2}\\Big)\\Big\\rangle \\\\\n",
    "& = \\Big\\langle\\Big(-\\frac{P_1^2}{2m^2} - \\frac{P_2^2}{2m^2} + \\frac{\\omega^2 X_1^2}{2} + \\frac{\\omega^2 X_2^2}{2}\\Big)\\Big\\rangle \\\\\n",
    "\\end{align}\n",
    "Vemos assim que\n",
    "\\begin{align}\n",
    "& \\frac{1}{m^2}\\langle(P_1^2 + P_2^2)\\rangle = \\omega^2\\langle(X_1^2 + X_2^2)\\rangle \\\\\n",
    "& \\therefore\\ \\langle P^2\\rangle = m^2\\omega^2\\langle X^2\\rangle.\n",
    "\\end{align}"
   ]
  },
  {
   "cell_type": "code",
   "execution_count": null,
   "metadata": {},
   "outputs": [],
   "source": []
  }
 ],
 "metadata": {
  "kernelspec": {
   "display_name": "Python 3 (ipykernel)",
   "language": "python",
   "name": "python3"
  },
  "language_info": {
   "codemirror_mode": {
    "name": "ipython",
    "version": 3
   },
   "file_extension": ".py",
   "mimetype": "text/x-python",
   "name": "python",
   "nbconvert_exporter": "python",
   "pygments_lexer": "ipython3",
   "version": "3.11.1"
  }
 },
 "nbformat": 4,
 "nbformat_minor": 4
}
