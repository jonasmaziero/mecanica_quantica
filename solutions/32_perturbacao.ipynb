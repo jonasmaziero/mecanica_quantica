{
 "cells": [
  {
   "cell_type": "markdown",
   "metadata": {},
   "source": [
    "### Notas de aula de Mecânica Quântica <br> Autor: Jonas Maziero\n",
    "# Exercícios"
   ]
  },
  {
   "cell_type": "markdown",
   "metadata": {},
   "source": [
    "---\n",
    "$1.$ Verifique que a constante de normalização na eq. $(\\star)$, considerada $\\in\\mathbb{R}$, é dada por $N_{n} = 1/\\sqrt{1+\\langle\\chi_{n}|\\chi_{n}\\rangle}$, i.e., verifique que $|\\psi_{n}\\rangle=(|\\psi_{n}^{(0)}\\rangle+|\\chi_{n}\\rangle)/\\sqrt{1+\\langle\\chi_{n}|\\chi_{n}\\rangle}$."
   ]
  },
  {
   "cell_type": "markdown",
   "metadata": {},
   "source": [
    "_SOL._ Começando com $|\\psi_{n}\\rangle = N_{n}(|\\psi_{n}^{(0)}\\rangle + |\\chi_{n}\\rangle)$, devemos ter que \n",
    "\\begin{align}\n",
    "& \\langle\\psi_{n}|\\psi_{n}\\rangle = 1 = N_{n}^{*}(\\langle\\psi_{n}^{(0)}| + \\langle\\chi_{n}|)N_{n}(|\\psi_{n}^{(0)}\\rangle + |\\chi_{n}\\rangle) \\\\\n",
    "&= |N_{n}|^{2}(\\langle\\psi_{n}^{(0)}|\\psi_{n}^{(0)}\\rangle + \\langle\\chi_{n}|\\psi_{n}^{(0)}\\rangle + \\langle\\psi_{n}^{(0)}|\\chi_{n}\\rangle + \\langle\\chi_{n}|\\chi_{n}\\rangle) \\\\\n",
    "&= |N_{n}|^{2}(1 + 0 + 0 + \\langle\\chi_{n}|\\chi_{n}\\rangle), \\\\\n",
    "& \\therefore |N_{n}| := N_{n} = \\frac{1}{\\sqrt{1 + \\langle\\chi_{n}|\\chi_{n}\\rangle}}.\n",
    "\\end{align}"
   ]
  },
  {
   "cell_type": "markdown",
   "metadata": {},
   "source": [
    "---\n",
    "$2.$ Considere o Hamiltoniano $H=H_{0}+H_{1}$ com $H_{0}=\\omega\\sigma_{z}$ e Hamiltoniano perturbativo $H_{1}=\\epsilon\\sigma_{x}$, i.e., $\\omega\\gg\\epsilon$. Calcule as correções perturbativas de primeira e de segunda ordens para as auto-energias desse sistema. Calcule os autovetores de $H$ com correção perturbativa de primeira ordem."
   ]
  },
  {
   "cell_type": "markdown",
   "metadata": {},
   "source": [
    "_SOL._ Temos que $E_{1}^{(0)}=-\\omega,E_{2}^{(0)}=\\omega$ e $|\\psi_{1}^{(0)}\\rangle=|z_{+}\\rangle,|\\psi_{2}^{(0)}\\rangle=|z_{-}\\rangle.$ As correções de 1ª ordem para a energia são\n",
    "\\begin{align}\n",
    "E_{1}^{(1)} &= \\langle\\psi_{1}^{(0)}|H_{1}|\\psi_{1}^{(0)}\\rangle = \\langle z_{+}|\\epsilon\\sigma_{x}|z_{+}\\rangle = \\epsilon\\langle z_{+}|z_{-}\\rangle = 0, \\\\\n",
    "E_{2}^{(1)} &= \\langle\\psi_{2}^{(0)}|H_{1}|\\psi_{2}^{(0)}\\rangle = \\langle z_{-}|\\epsilon\\sigma_{x}|z_{-}\\rangle = \\epsilon\\langle z_{-}|z_{+}\\rangle = 0.\n",
    "\\end{align}\n",
    "As correções de 2ª ordem para a energia são\n",
    "\\begin{align}\n",
    "E_{1}^{(2)} &= \\sum_{m\\ne 1}\\frac{|\\langle\\psi_{1}^{(0)}|H_{1}|\\psi_{m}^{(0)}\\rangle|^{2}}{E_{1}^{(0)}-E_{m}^{(0)}} = \\frac{|\\langle\\psi_{1}^{(0)}|H_{1}|\\psi_{2}^{(0)}\\rangle|^{2}}{E_{1}^{(0)}-E_{2}^{(0)}} = \\frac{|\\langle z_{+}|\\epsilon\\sigma_{x}|z_{-}\\rangle|^{2}}{-\\omega-\\omega} = \\frac{\\epsilon^{2}|\\langle z_{+}|z_{+}\\rangle|^{2}}{-2\\omega} = -\\frac{\\epsilon^{2}}{2\\omega}, \\\\\n",
    "E_{2}^{(2)} &= \\sum_{m\\ne 2}\\frac{|\\langle\\psi_{2}^{(0)}|H_{1}|\\psi_{m}^{(0)}\\rangle|^{2}}{E_{2}^{(0)}-E_{m}^{(0)}} = \\frac{|\\langle\\psi_{2}^{(0)}|H_{1}|\\psi_{1}^{(0)}\\rangle|^{2}}{E_{2}^{(0)}-E_{1}^{(0)}} = \\frac{|\\langle z_{-}|\\epsilon|z_{+}\\rangle|^{2}}{\\omega-(-\\omega)} = \\frac{\\epsilon^{2}|\\langle z_{-}|z_{-}\\rangle|^{2}}{2\\omega} = \\frac{\\epsilon^{2}}{2\\omega}.\n",
    "\\end{align}\n",
    "Assim\n",
    "\\begin{align}\n",
    "& E_{1} \\approx E_{1}^{(0)} + E_{1}^{(1)} + E_{1}^{(2)} = -\\omega + 0 - \\frac{\\epsilon^{2}}{2\\omega}, \\\\\n",
    "& E_{2} \\approx E_{2}^{(0)} + E_{2}^{(1)} + E_{2}^{(2)} = \\omega + 0 + \\frac{\\epsilon^{2}}{2\\omega}.\n",
    "\\end{align}"
   ]
  },
  {
   "cell_type": "markdown",
   "metadata": {},
   "source": [
    "Correções de 1ª ordem para os autovetores\n",
    "\\begin{align}\n",
    "|\\psi_{1}^{(1)}\\rangle &= \\sum_{m\\ne 1}\\frac{\\langle\\psi_{m}^{(0)}|H_{1}|\\psi_{1}^{(0)}\\rangle}{E_{1}^{(0)}-E_{m}^{(0)}}|\\psi_{m}^{(0)}\\rangle = \\frac{\\langle\\psi_{2}^{(0)}|H_{1}|\\psi_{1}^{(0)}\\rangle}{E_{1}^{(0)}-E_{2}^{(0)}}|\\psi_{2}^{(0)}\\rangle = \\frac{\\langle z_{-}|\\epsilon\\sigma_{x}|z_{+}\\rangle}{-\\omega-\\omega}|z_{-}\\rangle = \\frac{\\epsilon\\langle z_{-}|z_{-}\\rangle}{-2\\omega}|z_{-}\\rangle = -\\frac{\\epsilon}{2\\omega}|z_{-}\\rangle, \\\\\n",
    "|\\psi_{2}^{(1)}\\rangle &= \\sum_{m\\ne 2}\\frac{\\langle\\psi_{m}^{(0)}|H_{1}|\\psi_{2}^{(0)}\\rangle}{E_{2}^{(0)}-E_{m}^{(0)}}|\\psi_{m}^{(0)}\\rangle = \\frac{\\langle\\psi_{1}^{(0)}|H_{1}|\\psi_{2}^{(0)}\\rangle}{E_{2}^{(0)}-E_{1}^{(0)}}|\\psi_{1}^{(0)}\\rangle = \\frac{\\langle z_{+}|\\epsilon\\sigma_{x}|z_{-}\\rangle}{\\omega-(-\\omega)}|z_{+}\\rangle = \\frac{\\epsilon\\langle z_{+}|z_{+}\\rangle}{2\\omega}|z_{+}\\rangle = \\frac{\\epsilon}{2\\omega}|z_{+}\\rangle.\n",
    "\\end{align}\n",
    "Usando $N_{n}=1/\\sqrt{1+\\langle\\chi_{n}|\\chi_{n}\\rangle}=1/\\sqrt{1+\\sum_{j,k=1}^{M}\\langle\\psi_{n}^{(j)}|\\psi_{n}^{(k)}\\rangle}$ teremos\n",
    "\\begin{align}\n",
    "N_{1} &= \\frac{1}{\\sqrt{1+\\sum_{j,k=1}^{M}\\langle\\psi_{1}^{(j)}|\\psi_{1}^{(k)}\\rangle}} = \\frac{1}{\\sqrt{1+\\langle\\psi_{1}^{(1)}|\\psi_{1}^{(1)}\\rangle}} = \\frac{1}{\\sqrt{1+\\epsilon^{2}/4\\omega^{2}}}, \\\\\n",
    "N_{2} &= \\frac{1}{\\sqrt{1+\\sum_{j,k=1}^{M}\\langle\\psi_{2}^{(j)}|\\psi_{2}^{(k)}\\rangle}} = \\frac{1}{\\sqrt{1+\\langle\\psi_{2}^{(1)}|\\psi_{2}^{(1)}\\rangle}} = \\frac{1}{\\sqrt{1+\\epsilon^{2}/4\\omega^{2}}},\n",
    "\\end{align}\n",
    "obteremos ($|\\psi_{n}\\rangle \\approx N_{n}\\left(|\\psi_{n}^{(0)}\\rangle+|\\psi_{n}^{(1)}\\rangle+|\\psi_{n}^{(2)}\\rangle+\\cdots\\right)$)\n",
    "\\begin{align}\n",
    "|\\psi_{1}\\rangle & \\approx N_{1}\\left(|\\psi_{1}^{(0)}\\rangle+|\\psi_{1}^{(1)}\\rangle\\right) = \\frac{1}{\\sqrt{1+\\epsilon^{2}/4\\omega^{2}}}\\left(|z_{+}\\rangle-\\frac{\\epsilon}{2\\omega}|z_{-}\\rangle\\right), \\\\ \n",
    "|\\psi_{2}\\rangle & \\approx N_{2}\\left(|\\psi_{2}^{(0)}\\rangle+|\\psi_{2}^{(1)}\\rangle\\right) = \\frac{1}{\\sqrt{1+\\epsilon^{2}/4\\omega^{2}}}\\left(|z_{-}\\rangle+\\frac{\\epsilon}{2\\omega}|z_{+}\\rangle\\right).\n",
    "\\end{align}"
   ]
  },
  {
   "cell_type": "markdown",
   "metadata": {},
   "source": [
    "---\n",
    "$3.$ Para espectros discretos não degenerados, obtenha as expressões que devemos usar para calcular as correções perturbativas de 4ª ordem para as autoenergias, $E_{n}^{(4)}$, e de 3ª ordem para as autofunções, $|\\psi_{n}^{(3)}\\rangle$."
   ]
  },
  {
   "cell_type": "markdown",
   "metadata": {},
   "source": [
    "_SOL._ Para os autovetores, substituindo no 3º termo o 1º termo da Eq. ($\\square$), obteremos\n",
    "\\begin{align}\n",
    "|\\chi_{n}\\rangle & = \\xi\\sum_{m\\ne n}\\frac{\\langle\\psi_{m}^{(0)}|H_{1}|\\psi_{n}^{(0)}\\rangle}{E_{n}-E_{m}^{(0)}}|\\psi_{m}^{(0)}\\rangle + \\xi^{2}\\sum_{m\\ne n}\\sum_{m'\\ne n}\\frac{\\langle\\psi_{m}^{(0)}|H_{1}|\\psi_{m'}^{(0)}\\rangle}{E_{n}-E_{m}^{(0)}}\\frac{\\langle\\psi_{m'}^{(0)}|H_{1}|\\psi_{n}^{(0)}\\rangle}{E_{n}-E_{m'}^{(0)}}|\\psi_{m}^{(0)}\\rangle \\\\ \n",
    "& \\hspace{0.4cm} + \\xi^{2}\\sum_{m\\ne n}\\sum_{m'\\ne n}\\frac{\\langle\\psi_{m}^{(0)}|H_{1}|\\psi_{m'}^{(0)}\\rangle}{E_{n}-E_{m}^{(0)}}\\frac{\\langle\\psi_{m'}^{(0)}|H_{1}|\\chi_{n}\\rangle}{E_{n}-E_{m'}^{(0)}}|\\psi_{m}^{(0)}\\rangle \\\\\n",
    "& = \\xi\\sum_{m\\ne n}\\frac{\\langle\\psi_{m}^{(0)}|H_{1}|\\psi_{n}^{(0)}\\rangle}{E_{n}-E_{m}^{(0)}}|\\psi_{m}^{(0)}\\rangle + \\xi^{2}\\sum_{m,m'\\ne n}\\frac{\\langle\\psi_{m}^{(0)}|H_{1}|\\psi_{m'}^{(0)}\\rangle\\langle\\psi_{m'}^{(0)}|H_{1}|\\psi_{n}^{(0)}\\rangle}{(E_{n}-E_{m}^{(0)})(E_{n}-E_{m'}^{(0)})}|\\psi_{m}^{(0)}\\rangle \\\\ \n",
    "& \\hspace{0.4cm} + \\xi^{3}\\sum_{m,m',m''\\ne n}\\frac{\\langle\\psi_{m}^{(0)}|H_{1}|\\psi_{m'}^{(0)}\\rangle\\langle\\psi_{m'}^{(0)}|H_{1}|\\psi_{m''}^{(0)}\\rangle\\langle\\psi_{m''}^{(0)}|H_{1}|\\psi_{n}^{(0)}\\rangle}{(E_{n}-E_{m}^{(0)})(E_{n}-E_{m'}^{(0)})(E_{n}-E_{m''}^{(0)})}|\\psi_{m}^{(0)}\\rangle + \\cdots.\n",
    "\\end{align}"
   ]
  },
  {
   "cell_type": "markdown",
   "metadata": {},
   "source": [
    "Ainda nos falta usar a expansão de Rayleigh-Schrödinger:\n",
    "\\begin{align}\n",
    "\\frac{1}{E_{n}-E_{m}^{(0)}} & = \\xi^{0}\\frac{1}{E_{n}^{(0)} - E_{m}^{(0)}} - \\xi\\frac{E_{n}^{(1)}}{(E_{n}^{(0)}-E_{m}^{(0)})^{2}} + \\xi^{2}\\left( \\frac{E_{n}^{(2)}}{(E_{n}^{(0)}-E_{m}^{(0)})^{2}} + \\frac{(E_{n}^{(1)})^{2}}{(E_{n}^{(0)}-E_{m}^{(0)})^{3}}\\right) \\\\ \n",
    "& \\hspace{0.5cm}  - \\xi^{3}\\left(\\frac{E_{n}^{(3)}}{(E_{n}^{(0)}-E_{m}^{(0)})^{2}} + \\frac{(E_{n}^{(1)})^{3}}{(E_{n}^{(0)}-E_{m}^{(0)})^{4}} \\right) + \\cdots.\n",
    "\\end{align}"
   ]
  },
  {
   "cell_type": "markdown",
   "metadata": {},
   "source": [
    "Com isso, teremos\n",
    "\\begin{align}\n",
    "|\\chi_{n}\\rangle & = \\xi\\sum_{m\\ne n}\\frac{\\langle\\psi_{m}^{(0)}|H_{1}|\\psi_{n}^{(0)}\\rangle}{E_{n}-E_{m}^{(0)}}|\\psi_{m}^{(0)}\\rangle + \\xi^{2}\\sum_{m,m'\\ne n}\\frac{\\langle\\psi_{m}^{(0)}|H_{1}|\\psi_{m'}^{(0)}\\rangle\\langle\\psi_{m'}^{(0)}|H_{1}|\\psi_{n}^{(0)}\\rangle}{(E_{n}-E_{m}^{(0)})(E_{n}-E_{m'}^{(0)})}|\\psi_{m}^{(0)}\\rangle \\\\ \n",
    "& \\hspace{0.4cm} + \\xi^{3}\\sum_{m,m',m''\\ne n}\\frac{\\langle\\psi_{m}^{(0)}|H_{1}|\\psi_{m'}^{(0)}\\rangle\\langle\\psi_{m'}^{(0)}|H_{1}|\\psi_{m''}^{(0)}\\rangle\\langle\\psi_{m''}^{(0)}|H_{1}|\\psi_{n}^{(0)}\\rangle}{(E_{n}-E_{m}^{(0)})(E_{n}-E_{m'}^{(0)})(E_{n}-E_{m''}^{(0)})}|\\psi_{m}^{(0)}\\rangle + \\cdots \\\\\n",
    "& = \\xi\\sum_{m\\ne n}\\frac{\\langle\\psi_{m}^{(0)}|H_{1}|\\psi_{n}^{(0)}\\rangle}{E_{n}^{(0)}-E_{m}^{(0)}}|\\psi_{m}^{(0)}\\rangle \\\\\n",
    "& + \\xi^{2}\\Big(\\sum_{m,m'\\ne n}\\frac{\\langle\\psi_{m}^{(0)}|H_{1}|\\psi_{m'}^{(0)}\\rangle\\langle\\psi_{m'}^{(0)}|H_{1}|\\psi_{n}^{(0)}\\rangle}{(E_{n}^{(0)}-E_{m}^{(0)})(E_{n}^{(0)}-E_{m'}^{(0)})}|\\psi_{m}^{(0)}\\rangle - \\sum_{m\\ne n}\\frac{E_{n}^{(1)}\\langle\\psi_{m}^{(0)}|H_{1}|\\psi_{n}^{(0)}\\rangle}{\\big(E_{n}^{(0)}-E_{m}^{(0)}\\big)^{2}\n",
    "}|\\psi_{m}^{(0)}\\rangle\\Big)\\\\ \n",
    "& + \\xi^{3}\\Big(\\sum_{m,m',m''\\ne n}\\frac{\\langle\\psi_{m}^{(0)}|H_{1}|\\psi_{m'}^{(0)}\\rangle\\langle\\psi_{m'}^{(0)}|H_{1}|\\psi_{m''}^{(0)}\\rangle\\langle\\psi_{m''}^{(0)}|H_{1}|\\psi_{n}^{(0)}\\rangle}{(E_{n}^{(0)}-E_{m}^{(0)})(E_{n}^{(0)}-E_{m'}^{(0)})(E_{n}^{(0)}-E_{m''}^{(0)})}|\\psi_{m}^{(0)}\\rangle \\\\\n",
    "& \\hspace{1cm} - E_{n}^{(1)}\\Big(\\sum_{m,m'\\ne n}\\frac{\\langle\\psi_{m}^{(0)}|H_{1}|\\psi_{m'}^{(0)}\\rangle\\langle\\psi_{m'}^{(0)}|H_{1}|\\psi_{n}^{(0)}\\rangle}{(E_{n}^{(0)}-E_{m}^{(0)})(E_{n}^{(0)}-E_{m'}^{(0)})^{2}}|\\psi_{m}^{(0)}\\rangle + \\sum_{m,m'\\ne n}\\frac{\\langle\\psi_{m}^{(0)}|H_{1}|\\psi_{m'}^{(0)}\\rangle\\langle\\psi_{m'}^{(0)}|H_{1}|\\psi_{n}^{(0)}\\rangle}{(E_{n}^{(0)}-E_{m}^{(0)})^{2}(E_{n}^{(0)}-E_{m'}^{(0)})}|\\psi_{m}^{(0)}\\rangle \\Big) \\\\\n",
    "& \\hspace{1cm} + \\sum_{m\\ne n}\\Big( \\frac{E_{n}^{(2)}}{(E_{n}^{(0)}-E_{m}^{(0)})^{2}} + \\frac{(E_{n}^{(1)})^{2}}{(E_{n}^{(0)}-E_{m}^{(0)})^{3}}\\Big)\\langle\\psi_{m}^{(0)}|H_{1}|\\psi_{n}^{(0)}\\rangle|\\psi_{m}^{(0)}\\rangle \\Big) \\\\\n",
    "& + \\cdots.\n",
    "\\end{align}"
   ]
  },
  {
   "cell_type": "markdown",
   "metadata": {},
   "source": [
    "Com isso, temos que:\n",
    "\\begin{align}\n",
    "|\\psi_{n}^{(3)}\\rangle &= \\sum_{m,m',m''\\ne n}\\frac{\\langle\\psi_{m}^{(0)}|H_{1}|\\psi_{m'}^{(0)}\\rangle\\langle\\psi_{m'}^{(0)}|H_{1}|\\psi_{m''}^{(0)}\\rangle\\langle\\psi_{m''}^{(0)}|H_{1}|\\psi_{n}^{(0)}\\rangle}{(E_{n}^{(0)}-E_{m}^{(0)})(E_{n}^{(0)}-E_{m'}^{(0)})(E_{n}^{(0)}-E_{m''}^{(0)})}|\\psi_{m}^{(0)}\\rangle \\\\\n",
    "& \\hspace{1cm} - E_{n}^{(1)}\\Big(\\sum_{m,m'\\ne n}\\frac{\\langle\\psi_{m}^{(0)}|H_{1}|\\psi_{m'}^{(0)}\\rangle\\langle\\psi_{m'}^{(0)}|H_{1}|\\psi_{n}^{(0)}\\rangle}{(E_{n}^{(0)}-E_{m}^{(0)})(E_{n}^{(0)}-E_{m'}^{(0)})^{2}}|\\psi_{m}^{(0)}\\rangle + \\sum_{m,m'\\ne n}\\frac{\\langle\\psi_{m}^{(0)}|H_{1}|\\psi_{m'}^{(0)}\\rangle\\langle\\psi_{m'}^{(0)}|H_{1}|\\psi_{n}^{(0)}\\rangle}{(E_{n}^{(0)}-E_{m}^{(0)})^{2}(E_{n}^{(0)}-E_{m'}^{(0)})}|\\psi_{m}^{(0)}\\rangle \\Big) \\\\\n",
    "& \\hspace{1cm} + \\sum_{m\\ne n}\\Big( \\frac{E_{n}^{(2)}}{(E_{n}^{(0)}-E_{m}^{(0)})^{2}} + \\frac{(E_{n}^{(1)})^{2}}{(E_{n}^{(0)}-E_{m}^{(0)})^{3}}\\Big)\\langle\\psi_{m}^{(0)}|H_{1}|\\psi_{n}^{(0)}\\rangle|\\psi_{m}^{(0)}\\rangle.\n",
    "\\end{align}"
   ]
  },
  {
   "cell_type": "markdown",
   "metadata": {},
   "source": [
    "Para a energia temos\n",
    "\\begin{align}\n",
    "E_{n} = & \\xi^{0}E_{n}^{(0)} + \\xi^{1}\\langle\\psi_{n}^{(0)}|H_{1}|\\psi_{n}^{(0)}\\rangle + \\xi^{2}\\sum_{m\\ne n}\\frac{\\langle\\psi_{n}^{(0)}|H_{1}|\\psi_{m}^{(0)}\\rangle\\langle\\psi_{m}^{(0)}|H_{1}|\\psi_{n}^{(0)}\\rangle}{E_{n}-E_{m}^{(0)}} \\\\\n",
    "& + \\xi^{3}\\sum_{m\\ne n}\\sum_{m'\\ne n}\\frac{\\langle\\psi_{n}^{(0)}|H_{1}|\\psi_{m}^{(0)}\\rangle\\langle\\psi_{m}^{(0)}|H_{1}|\\psi_{m'}^{(0)}\\rangle\\langle\\psi_{m'}^{(0)}|H_{1}|\\psi_{n}^{(0)}\\rangle}{(E_{n}-E_{m}^{(0)})(E_{n}-E_{m'}^{(0)})} \\\\\n",
    "& + \\xi^{3}\\sum_{m\\ne n}\\sum_{m'\\ne n}\\frac{\\langle\\psi_{n}^{(0)}|H_{1}|\\psi_{m}^{(0)}\\rangle\\langle\\psi_{m}^{(0)}|H_{1}|\\psi_{m'}^{(0)}\\rangle\\langle\\psi_{m'}^{(0)}|H_{1}|\\chi_{n}\\rangle}{(E_{n}-E_{m}^{(0)})(E_{n}-E_{m'}^{(0)})} \\\\\n",
    "= & \\xi^{0}E_{n}^{(0)} + \\xi^{1}\\langle\\psi_{n}^{(0)}|H_{1}|\\psi_{n}^{(0)}\\rangle + \\xi^{2}\\sum_{m\\ne n}\\frac{\\langle\\psi_{n}^{(0)}|H_{1}|\\psi_{m}^{(0)}\\rangle\\langle\\psi_{m}^{(0)}|H_{1}|\\psi_{n}^{(0)}\\rangle}{E_{n}-E_{m}^{(0)}} \\\\\n",
    "& + \\xi^{3}\\sum_{m\\ne n}\\sum_{m'\\ne n}\\frac{\\langle\\psi_{n}^{(0)}|H_{1}|\\psi_{m}^{(0)}\\rangle\\langle\\psi_{m}^{(0)}|H_{1}|\\psi_{m'}^{(0)}\\rangle\\langle\\psi_{m'}^{(0)}|H_{1}|\\psi_{n}^{(0)}\\rangle}{(E_{n}-E_{m}^{(0)})(E_{n}-E_{m'}^{(0)})} \\\\\n",
    "& + \\xi^{4}\\sum_{m,m',m''\\ne n}\\frac{\\langle\\psi_{n}^{(0)}|H_{1}|\\psi_{m}^{(0)}\\rangle\\langle\\psi_{m}^{(0)}|H_{1}|\\psi_{m'}^{(0)}\\rangle\\langle\\psi_{m'}^{(0)}|H_{1}|\\psi_{m''}^{(0)}\\rangle\\langle\\psi_{m''}^{(0)}|H_{1}|\\psi_{n}^{(0)}\\rangle}{(E_{n}-E_{m}^{(0)})(E_{n}-E_{m'}^{(0)})(E_{n}-E_{m''}^{(0)})} \\\\\n",
    "& +\\cdots.\n",
    "\\end{align}"
   ]
  },
  {
   "cell_type": "markdown",
   "metadata": {},
   "source": [
    "Novamente usaremos a expansão de Rayleigh-Schrödinger:\n",
    "\\begin{align}\n",
    "\\frac{1}{E_{n}-E_{m}^{(0)}} & = \\xi^{0}\\frac{1}{E_{n}^{(0)} - E_{m}^{(0)}} - \\xi\\frac{E_{n}^{(1)}}{(E_{n}^{(0)}-E_{m}^{(0)})^{2}} + \\xi^{2}\\left( \\frac{E_{n}^{(2)}}{(E_{n}^{(0)}-E_{m}^{(0)})^{2}} + \\frac{(E_{n}^{(1)})^{2}}{(E_{n}^{(0)}-E_{m}^{(0)})^{3}}\\right) \\\\ \n",
    "& \\hspace{0.5cm}  - \\xi^{3}\\left(\\frac{E_{n}^{(3)}}{(E_{n}^{(0)}-E_{m}^{(0)})^{2}} + \\frac{(E_{n}^{(1)})^{3}}{(E_{n}^{(0)}-E_{m}^{(0)})^{4}} \\right) + \\cdots.\n",
    "\\end{align}"
   ]
  },
  {
   "cell_type": "markdown",
   "metadata": {},
   "source": [
    "Assim\n",
    "\\begin{align}\n",
    "E_{n} = & \\xi^{0}E_{n}^{(0)} + \\xi^{1}\\langle\\psi_{n}^{(0)}|H_{1}|\\psi_{n}^{(0)}\\rangle + \\xi^{2}\\sum_{m\\ne n}\\frac{\\langle\\psi_{n}^{(0)}|H_{1}|\\psi_{m}^{(0)}\\rangle\\langle\\psi_{m}^{(0)}|H_{1}|\\psi_{n}^{(0)}\\rangle}{E_{n}^{(0)}-E_{m}^{(0)}} \\\\\n",
    "& + \\xi^{3}\\Big(\\sum_{m\\ne n}\\sum_{m'\\ne n}\\frac{\\langle\\psi_{n}^{(0)}|H_{1}|\\psi_{m}^{(0)}\\rangle\\langle\\psi_{m}^{(0)}|H_{1}|\\psi_{m'}^{(0)}\\rangle\\langle\\psi_{m'}^{(0)}|H_{1}|\\psi_{n}^{(0)}\\rangle}{(E_{n}^{(0)}-E_{m}^{(0)})(E_{n}^{(0)}-E_{m'}^{(0)})} - E_{n}^{(1)}\\sum_{m\\ne n}\\frac{\\langle\\psi_{n}^{(0)}|H_{1}|\\psi_{m}^{(0)}\\rangle\\langle\\psi_{m}^{(0)}|H_{1}|\\psi_{n}^{(0)}\\rangle}{(E_{n}^{(0)}-E_{m}^{(0)})^{2}} \\Big) \\\\\n",
    "& + \\xi^{4}\\Big( \\sum_{m,m',m''\\ne n}\\frac{\\langle\\psi_{n}^{(0)}|H_{1}|\\psi_{m}^{(0)}\\rangle\\langle\\psi_{m}^{(0)}|H_{1}|\\psi_{m'}^{(0)}\\rangle\\langle\\psi_{m'}^{(0)}|H_{1}|\\psi_{m''}^{(0)}\\rangle\\langle\\psi_{m''}^{(0)}|H_{1}|\\psi_{n}^{(0)}\\rangle}{(E_{n}^{(0)}-E_{m}^{(0)})(E_{n}^{(0)}-E_{m'}^{(0)})(E_{n}^{(0)}-E_{m''}^{(0)})} \\\\\n",
    "& \\hspace{1cm} - E_{n}^{(1)}\\sum_{m\\ne n}\\sum_{m'\\ne n}\\langle\\psi_{n}^{(0)}|H_{1}|\\psi_{m}^{(0)}\\rangle\\langle\\psi_{m}^{(0)}|H_{1}|\\psi_{m'}^{(0)}\\rangle\\langle\\psi_{m'}^{(0)}|H_{1}|\\psi_{n}^{(0)}\\rangle\\Big(\\frac{1}{(E_{n}^{(0)}-E_{m}^{(0)})(E_{n}^{(0)}-E_{m'}^{(0)})^{2}}+\\frac{1}{(E_{n}^{(0)}-E_{m}^{(0)})^{2}(E_{n}^{(0)}-E_{m'}^{(0)})}\\Big) \\\\\n",
    "& \\hspace{1cm} + \\sum_{m\\ne n}\\langle\\psi_{n}^{(0)}|H_{1}|\\psi_{m}^{(0)}\\rangle\\langle\\psi_{m}^{(0)}|H_{1}|\\psi_{n}^{(0)}\\rangle\\Big( \\frac{E_{n}^{(2)}}{(E_{n}^{(0)}-E_{m}^{(0)})^{2}} + \\frac{(E_{n}^{(1)})^{2}}{(E_{n}^{(0)}-E_{m}^{(0)})^{3}}\\Big) \\Big) \\\\\n",
    "& +\\cdots.\n",
    "\\end{align}"
   ]
  },
  {
   "cell_type": "markdown",
   "metadata": {},
   "source": [
    "Com isso, temos as correções de 4ª orderm:\n",
    "\\begin{align}\n",
    "E_{n}^{(4)} &= \\sum_{m,m',m''\\ne n}\\frac{\\langle\\psi_{n}^{(0)}|H_{1}|\\psi_{m}^{(0)}\\rangle\\langle\\psi_{m}^{(0)}|H_{1}|\\psi_{m'}^{(0)}\\rangle\\langle\\psi_{m'}^{(0)}|H_{1}|\\psi_{m''}^{(0)}\\rangle\\langle\\psi_{m''}^{(0)}|H_{1}|\\psi_{n}^{(0)}\\rangle}{(E_{n}^{(0)}-E_{m}^{(0)})(E_{n}^{(0)}-E_{m'}^{(0)})(E_{n}^{(0)}-E_{m''}^{(0)})} \\\\\n",
    "& \\hspace{1cm} - E_{n}^{(1)}\\sum_{m\\ne n}\\sum_{m'\\ne n}\\langle\\psi_{n}^{(0)}|H_{1}|\\psi_{m}^{(0)}\\rangle\\langle\\psi_{m}^{(0)}|H_{1}|\\psi_{m'}^{(0)}\\rangle\\langle\\psi_{m'}^{(0)}|H_{1}|\\psi_{n}^{(0)}\\rangle\\Big(\\frac{1}{(E_{n}^{(0)}-E_{m}^{(0)})(E_{n}^{(0)}-E_{m'}^{(0)})^{2}}+\\frac{1}{(E_{n}^{(0)}-E_{m}^{(0)})^{2}(E_{n}^{(0)}-E_{m'}^{(0)})}\\Big) \\\\\n",
    "& \\hspace{1cm} + \\sum_{m\\ne n}\\langle\\psi_{n}^{(0)}|H_{1}|\\psi_{m}^{(0)}\\rangle\\langle\\psi_{m}^{(0)}|H_{1}|\\psi_{n}^{(0)}\\rangle\\Big( \\frac{E_{n}^{(2)}}{(E_{n}^{(0)}-E_{m}^{(0)})^{2}} + \\frac{(E_{n}^{(1)})^{2}}{(E_{n}^{(0)}-E_{m}^{(0)})^{3}}\\Big).\n",
    "\\end{align}"
   ]
  },
  {
   "cell_type": "markdown",
   "metadata": {},
   "source": [
    "---\n",
    "$4.$ Considere um sistema físico com Hamiltoniano $H=H_{0}+H_{1}$, onde $H_{0}=\\omega S_{z}$, com $\\omega\\in\\mathbb{R}_{>0}$, e o Hamiltoniano de perturbação é $H_{1}=\\epsilon S_{x}$, com $\\epsilon\\in\\mathbb{R}_{>0}$ e $\\epsilon \\ll \\omega$. Considere $S_{x} = \\frac{\\hbar}{\\sqrt{2}}\\begin{bmatrix} 0 & 1 & 0 \\\\ 1 & 0 & 1 \\\\ 0 & 1 & 0 \\end{bmatrix}$ e $S_{z} = \\hbar\\begin{bmatrix} 1 & 0 & 0 \\\\ 0 & 0 & 0 \\\\ 0 & 0 & -1 \\end{bmatrix}$. Dado que as expressões para as correções perturbativas de primeira e segunda ordem são obtidas, respectivamente, de $E_{n}^{(1)} = \\langle E_{n}^{(0)}|H_{1}|E_{n}^{(0)}\\rangle$ e $E_{n}^{(2)} = \\sum_{m\\ne n}|\\langle E_{n}^{(0)}|H_{1}|E_{m}^{(0)}\\rangle|^{2}/(E_{n}^{(0)}-E_{m}^{(0)})$, as calcule para o estado fundamental deste sistema."
   ]
  },
  {
   "cell_type": "markdown",
   "metadata": {},
   "source": [
    "_SOL._ Os autovalores do Hamiltoniano não perturbado são $E_{1}^{(0)}=-\\hbar\\omega$, $E_{2}^{(0)}=0$ e $E_{3}^{(0)}=\\hbar\\omega$. Os respectivos autovetores são $|E_{1}^{(0)}\\rangle=|z_{-\\hbar}\\rangle$, $|E_{2}^{(0)}\\rangle=|z_{0}\\rangle$, $|E_{3}^{(0)}\\rangle=|z_{\\hbar}\\rangle$. A correção de primeira ordem para o estado fundamental é\n",
    "\\begin{align}\n",
    "E_{1}^{(1)} & = \\langle E_{0}^{(0)}|H_{1}|E_{0}^{(0)}\\rangle = \\langle z_{-\\hbar}|\\epsilon S_{x}|z_{-\\hbar}\\rangle \\propto \\langle z_{-\\hbar}|z_{0}\\rangle = 0. \n",
    "\\end{align}\n",
    "Já a correção de segunda ordem para o estado fundamental é\n",
    "\\begin{align}\n",
    "E_{1}^{(2)} & = \\sum_{m\\ne 1}\\frac{|\\langle E_{1}^{(0)}|H_{1}|E_{m}^{(0)}\\rangle|^{2}}{E_{1}^{(0)}-E_{m}^{(0)}} = \\frac{|\\langle z_{-\\hbar}|\\epsilon S_{x}|z_{0}\\rangle|^{2}}{-\\hbar\\omega-0} + \\frac{|\\langle z_{-\\hbar}|\\epsilon S_{x}|z_{\\hbar}\\rangle|^{2}}{-\\hbar\\omega-\\hbar\\omega} \\\\ \n",
    "&  = \\frac{|2^{-1/2}\\hbar\\epsilon\\langle z_{-\\hbar}|(|z_{-\\hbar}\\rangle+|z_{\\hbar}\\rangle)|^{2}}{-\\hbar\\omega} + \\frac{|2^{-1/2}\\hbar\\epsilon\\langle z_{-\\hbar}|z_{0}\\rangle|^{2}}{-2\\hbar\\omega} \\\\ \n",
    "& = -\\frac{\\hbar\\epsilon^{2}}{2\\omega}.\n",
    "\\end{align}"
   ]
  },
  {
   "cell_type": "markdown",
   "metadata": {},
   "source": [
    "---\n",
    "$5.$ O modelo de Ising em um campo tranverso é dado por $H_I = \\sum_{\\langle jk\\rangle}J_{jk}\\sigma_j^z\\sigma_k^z + \\sum_j h_j\\sigma_j^x,$ em que $\\langle jk\\rangle$ denota a soma sobre primeiros vizinhos, $J_{jk}$ é a interação de troca entre spins 1/2 e $h_j$ é proporcional ao campo magnético externo aplicado no spin $j=1,\\cdots,N$. Para dois spins 1/2 com $J_{12}=h_1=h_2=1$, obtemos o Hamiltoniano não perturbado: $H_0=H_I= J_{12}\\sigma_1^z\\otimes\\sigma_2^z + h_1\\sigma_1^x\\otimes I_2 + h_2 I_1\\otimes\\sigma_2^x=\\begin{bmatrix}1&1&1&0 \\\\ 1&-1&0&1 \\\\ 1&0&-1&1 \\\\ 0&1&1&1\\end{bmatrix}$, em que usamos $I_j = \\begin{bmatrix}1&0\\\\0&1\\end{bmatrix}$,  $\\sigma_j^z = \\begin{bmatrix}1&0\\\\0&-1\\end{bmatrix}$ e  $\\sigma_j^x = \\begin{bmatrix}0&1\\\\1&0\\end{bmatrix}$ para $j=1,2$, e $\\otimes$ denota o produto tensorial. Esse hamiltoniano tem autovalores $\\lambda_1 = -\\sqrt{5},\\ \\lambda_2 = -1,\\ \\lambda_3 = 1,\\ \\lambda_4=\\sqrt{5}$. Os respectivos autovetores são $|\\lambda_1\\rangle = \\frac{1}{\\sqrt{5+\\sqrt{5}}}\\begin{bmatrix}1 & -(\\sqrt{5}+1)/2 & -(\\sqrt{5}+1)/2 & 1 \\end{bmatrix}^T$, $|\\lambda_2\\rangle = \\frac{1}{\\sqrt{2}}\\begin{bmatrix}0 & -1 & 1 & 0 \\end{bmatrix}^T$, $|\\lambda_3\\rangle = \\frac{1}{\\sqrt{2}}\\begin{bmatrix}-1 & 0 & 0 & 1 \\end{bmatrix}^T$ e $|\\lambda_4\\rangle = \\frac{1}{\\sqrt{5+\\sqrt{5}}}\\begin{bmatrix}1 & (\\sqrt{5}-1)/2 & (\\sqrt{5}-1)/2 & 1 \\end{bmatrix}^T$, em que $T$ denota a transposta matricial. Aplique teoria de perturbação para espectros discretos não degenerados para calcular as correções de 1ª ordem para todos os autovalores de $H_0$, dado que o Hamiltoniano de perturbação é $H_1 = g\\sigma_1^y\\otimes\\sigma_2^y = g\\begin{bmatrix}0&0&0&-1 \\\\ 0&0&1&0 \\\\ 0&1&0&0 \\\\ -1&0&0&0\\end{bmatrix},$ em que $\\sigma_j^y = \\begin{bmatrix}0&-i\\\\i&0\\end{bmatrix}$ para $j=1,2.$ Desenhe o diagrama de níveis de energia sem e com a correção perturbativa."
   ]
  },
  {
   "cell_type": "markdown",
   "metadata": {},
   "source": [
    "_SOL._ A correção perturbativa de 1ª ordem é dada pelo valor médio de $H_1$ nos autovetores de $H_0$:\n",
    "\\begin{align}\n",
    "E_1^{(1)} & = \\langle\\lambda_1|H_1|\\lambda_1\\rangle \\\\\n",
    "& = g\\frac{1}{\\sqrt{5+\\sqrt{5}}}\\langle\\lambda_1|\\begin{bmatrix}0&0&0&-1 \\\\ 0&0&1&0 \\\\ 0&1&0&0 \\\\ -1&0&0&0\\end{bmatrix}\\begin{bmatrix}1 \\\\ -(\\sqrt{5}+1)/2 \\\\ -(\\sqrt{5}+1)/2 \\\\ 1 \\end{bmatrix} \\\\\n",
    "& = \\frac{g}{5+\\sqrt{5}}\\begin{bmatrix}1 & -(\\sqrt{5}+1)/2 & -(\\sqrt{5}+1)/2 & 1 \\end{bmatrix}\\begin{bmatrix}-1 \\\\ -(\\sqrt{5}+1)/2 \\\\ -(\\sqrt{5}+1)/2 \\\\ -1 \\end{bmatrix} \\\\\n",
    "& = \\frac{g}{5+\\sqrt{5}}\\big(-2 + (\\sqrt{5}+1)^2/2\\big) = \\frac{g}{5+\\sqrt{5}}\\big(-2 + (5+2\\sqrt{5}+1)/2\\big)  \\\\\n",
    "& = \\frac{g}{5+\\sqrt{5}}(1+\\sqrt{5}) = \\frac{\\sqrt{5}g}{5}, \\\\\n",
    "E_2^{(1)} & = \\langle\\lambda_2|H_1|\\lambda_2\\rangle \\\\\n",
    "& = g\\frac{1}{\\sqrt{2}}\\langle\\lambda_2|\\begin{bmatrix}0&0&0&-1 \\\\ 0&0&1&0 \\\\ 0&1&0&0 \\\\ -1&0&0&0\\end{bmatrix}\\begin{bmatrix}0 \\\\ -1 \\\\ 1 \\\\ 0 \\end{bmatrix} = \\frac{g}{2}\\begin{bmatrix}0 & -1 & 1 & 0 \\end{bmatrix}\\begin{bmatrix}0 \\\\ 1 \\\\ -1 \\\\ 0 \\end{bmatrix} \\\\\n",
    "& = \\frac{g}{2}(-2) = -g, \\\\\n",
    "E_3^{(1)} & = \\langle\\lambda_3|H_1|\\lambda_3\\rangle \\\\\n",
    "& = g\\frac{1}{\\sqrt{2}}\\langle\\lambda_3|\\begin{bmatrix}0&0&0&-1 \\\\ 0&0&1&0 \\\\ 0&1&0&0 \\\\ -1&0&0&0\\end{bmatrix}\\begin{bmatrix}-1 \\\\ 0 \\\\ 0 \\\\ 1 \\end{bmatrix} = \\frac{g}{2}\\begin{bmatrix}-1 & 0 & 0 & 1 \\end{bmatrix}\\begin{bmatrix}-1 \\\\ 0 \\\\ 0 \\\\ 1 \\end{bmatrix} \\\\\n",
    "& = \\frac{g}{2}(2) = g, \\\\\n",
    "E_4^{(1)} & = \\langle\\lambda_4|H_1|\\lambda_4\\rangle \\\\\n",
    "& = g\\frac{1}{\\sqrt{5+\\sqrt{5}}}\\langle\\lambda_4|\\begin{bmatrix}0&0&0&-1 \\\\ 0&0&1&0 \\\\ 0&1&0&0 \\\\ -1&0&0&0\\end{bmatrix}\\begin{bmatrix}1 \\\\ (\\sqrt{5}-1)/2 \\\\ (\\sqrt{5}-1)/2 \\\\ 1 \\end{bmatrix} \\\\\n",
    "& = \\frac{g}{5+\\sqrt{5}}\\begin{bmatrix}1 & (\\sqrt{5}-1)/2 & (\\sqrt{5}-1)/2 & 1 \\end{bmatrix}\\begin{bmatrix}-1 \\\\ (\\sqrt{5}-1)/2 \\\\ (\\sqrt{5}-1)/2 \\\\ -1 \\end{bmatrix} \\\\\n",
    "& = \\frac{g}{5+\\sqrt{5}}\\big(-2 + (\\sqrt{5}-1)^2/2\\big) = \\frac{g}{5+\\sqrt{5}}\\big(-2 + (5-2\\sqrt{5}+1)/2\\big)  \\\\\n",
    "& = \\frac{g}{5+\\sqrt{5}}(1-\\sqrt{5}) = \\frac{5-3\\sqrt{5}g}{10}.\n",
    "\\end{align}\n",
    "\n",
    "\n",
    "<img src='Screenshot 2024-04-27 152731.png' width='400'>"
   ]
  },
  {
   "cell_type": "code",
   "execution_count": null,
   "metadata": {},
   "outputs": [],
   "source": [
    "from sympy import Matrix, eye, init_printing, symbols\n",
    "init_printing(use_unicode=True)\n",
    "\n",
    "sx = Matrix([[0,1],[1,0]]); sy = Matrix([[0,-1j],[1j,0]]); sz = Matrix([[1,0],[0,-1]]); I = eye(2)\n",
    "sx, sy, sz, I"
   ]
  },
  {
   "cell_type": "code",
   "execution_count": null,
   "metadata": {},
   "outputs": [],
   "source": [
    "from sympy.physics.quantum import TensorProduct\n",
    "def tp(x,y):\n",
    "    return TensorProduct(x,y)\n",
    "\n",
    "J12, h1, h2 = symbols('J_{12} h_1 h_2', Positive=True)\n",
    "H = J12*tp(sz,sz) + h1*tp(I,sx) + h2*tp(sx,I); H # caso geral"
   ]
  },
  {
   "cell_type": "code",
   "execution_count": null,
   "metadata": {},
   "outputs": [],
   "source": [
    "H.eigenvects()"
   ]
  },
  {
   "cell_type": "code",
   "execution_count": null,
   "metadata": {},
   "outputs": [],
   "source": [
    "J, h = symbols('J h')\n",
    "J12 = J; h1 = h; h2 = h\n",
    "H = J12*tp(sz,sz) + h1*tp(I,sx) + h2*tp(sx,I); H # caso particular"
   ]
  },
  {
   "cell_type": "code",
   "execution_count": null,
   "metadata": {},
   "outputs": [],
   "source": [
    "H.eigenvects()"
   ]
  },
  {
   "cell_type": "code",
   "execution_count": null,
   "metadata": {},
   "outputs": [],
   "source": [
    "J12 = 1; h1 = 1; h2 = 1\n",
    "H = J12*tp(sz,sz) + h1*tp(I,sx) + h2*tp(sx,I); H # caso mais particular"
   ]
  },
  {
   "cell_type": "code",
   "execution_count": null,
   "metadata": {},
   "outputs": [],
   "source": [
    "H.eigenvects()"
   ]
  },
  {
   "cell_type": "code",
   "execution_count": null,
   "metadata": {},
   "outputs": [],
   "source": [
    "g = symbols('g')\n",
    "H1 = g*tp(sy,sy); H1 # perturbation"
   ]
  },
  {
   "cell_type": "code",
   "execution_count": null,
   "metadata": {},
   "outputs": [],
   "source": [
    "from sympy import sqrt, simplify"
   ]
  },
  {
   "cell_type": "code",
   "execution_count": null,
   "metadata": {},
   "outputs": [],
   "source": [
    "psi1 = Matrix([[1],[-(sqrt(5)+1)/2],[-(sqrt(5)+1)/2],[1]])/sqrt(5+sqrt(5)); E11 = psi1.T*H1*psi1\n",
    "psi1, E11, simplify(E11) # correções perturbativas"
   ]
  },
  {
   "cell_type": "code",
   "execution_count": null,
   "metadata": {},
   "outputs": [],
   "source": [
    "psi2 = Matrix([[0],[-1],[1],[0]])/sqrt(2); E21 = psi2.T*H1*psi2\n",
    "psi2, E21"
   ]
  },
  {
   "cell_type": "code",
   "execution_count": null,
   "metadata": {},
   "outputs": [],
   "source": [
    "psi3 = Matrix([[-1],[0],[0],[1]])/sqrt(2); E31 = psi3.T*H1*psi3\n",
    "psi3, E31"
   ]
  },
  {
   "cell_type": "code",
   "execution_count": null,
   "metadata": {},
   "outputs": [],
   "source": [
    "psi4 = Matrix([[1],[(sqrt(5)-1)/2],[(sqrt(5)-1)/2],[1]])/sqrt(5+sqrt(5)); E41 = psi4.T*H1*psi4\n",
    "psi4, E41, simplify(E41)"
   ]
  },
  {
   "cell_type": "markdown",
   "metadata": {},
   "source": [
    "---\n",
    "$6.$ Considere o hamiltoniano $H=H_0+H_1$, com $H_0=\\hbar\\omega(a^\\dagger a+I/2)$ e $H_1=\\hbar g(a^\\dagger+a)^4$. Obtenha os elementos de matriz de $H_1$ na base de autovetores de $H_0$.\n"
   ]
  },
  {
   "cell_type": "markdown",
   "metadata": {},
   "source": [
    "_SOL._ Os autovalores de $H_0$ são $E_n=\\hbar\\omega(n+1/2)$ com $n=0,1,2,\\cdots$, e seus autovetores são os estados de Fock $|n\\rangle$. Nessa base, os elementos de matriz de $H_1$ são\n",
    "\\begin{align}\n",
    "\\langle n|H_1|m\\rangle & = \\hbar g\\langle n|(a^\\dagger + a)^4|m\\rangle \\\\\n",
    "& = \\hbar g\\langle n|(a^\\dagger + a)^2(a^\\dagger + a)^2|m\\rangle \\\\\n",
    "& = \\hbar g\\langle n|\\big((a^\\dagger)^2 + a^\\dagger a + aa^\\dagger + a^2\\big)\\big((a^\\dagger)^2 + a^\\dagger a + aa^\\dagger + a^2\\big)|m\\rangle \\\\\n",
    "& = \\hbar g\\langle n|\\big((a^\\dagger)^4 + (a^\\dagger)^3 a + (a^\\dagger)^2aa^\\dagger + (a^\\dagger)^2a^2 + a^\\dagger a(a^\\dagger)^2 + a^\\dagger aa^\\dagger a + a^\\dagger a^2a^\\dagger + a^\\dagger a^3 \\\\\n",
    "& + a(a^\\dagger)^3 + a(a^\\dagger)^2a + aa^\\dagger aa^\\dagger + aa^\\dagger a^2 + a^2(a^\\dagger)^2 + a^2a^\\dagger a + a^3a^\\dagger + a^4\\big)|m\\rangle \\\\\n",
    "& = \\hbar g\\langle n|\\Big(\\sqrt{(m+1)(m+2)(m+3)(m+4)}|m+4\\rangle + m\\sqrt{m(m+1)(m+2)}|m+2\\rangle + \\sqrt{(m+1)^3(m+2)}|m+2\\rangle \\\\\n",
    "& + m(m-1)|m\\rangle + \\sqrt{(m+1)(m+2)^3}|m+2\\rangle + m^2|m\\rangle + m(m+1)|m\\rangle + (m-2)\\sqrt{m(m-1)}|m-2\\rangle \\\\\n",
    "& + (m+3)\\sqrt{(m+1)(m+2)}|m+2\\rangle + m(m+1)|m\\rangle + (m+1)^2|m\\rangle + \\sqrt{m(m-1)^2}|m-2\\rangle \\\\\n",
    "& + (m+1)(m+2)|m\\rangle + \\sqrt{m^3(m-1)}|m-2\\rangle + (m+1)\\sqrt{m(m-1)}|m-2\\rangle + \\sqrt{m(m-1)(m-2)(m-3)}|m-4\\rangle\\Big) \\\\\n",
    "& = \\hbar g\\Big(\\sqrt{(m+1)(m+2)(m+3)(m+4)}\\delta_{n,m+4} + m\\sqrt{m(m+1)(m+2)}\\delta_{n,m+2} + \\sqrt{(m+1)^3(m+2)}\\delta_{n,m+2} \\\\\n",
    "& + m(m-1)\\delta_{n,m} + \\sqrt{(m+1)(m+2)^3}\\delta_{n,m+2} + m^2\\delta_{n,m} + m(m+1)\\delta_{n,m} + (m-2)\\sqrt{m(m-1)}\\delta_{n,m-2} \\\\\n",
    "& + (m+3)\\sqrt{(m+1)(m+2)}\\delta_{n,m+2} + m(m+1)\\delta_{n,m} + (m+1)^2\\delta_{n,m} + \\sqrt{m(m-1)^2}\\delta_{n,m-2} \\\\\n",
    "& + (m+1)(m+2)\\delta_{n,m} + \\sqrt{m^3(m-1)}\\delta_{n,m-2} + (m+1)\\sqrt{m(m-1)}\\delta_{n,m-2} + \\sqrt{m(m-1)(m-2)(m-3)}\\delta_{n,m-4}\\Big) \\\\\n",
    "& = \\hbar g\\Big(\\sqrt{(m+1)(m+2)(m+3)(m+4)}\\delta_{n,m+4} \\\\\n",
    "& + \\big(m\\sqrt{(m+1)(m+2)} + \\sqrt{(m+1)^3(m+2)} + \\sqrt{(m+1)(m+2)^3} + (m+3)\\sqrt{(m+1)(m+2)}\\big)\\delta_{n,m+2} \\\\\n",
    "& + \\big(m(m-1)  + m^2 + m(m+1) + m(m+1) + (m+1)^2 + (m+1)(m+2)\\big)\\delta_{n,m} \\\\\n",
    "& + \\big((m-2)\\sqrt{m(m-1)} + \\sqrt{m(m-1)^2} + \\sqrt{m^3(m-1)} + (m+1)\\sqrt{m(m-1)}\\big)\\delta_{n,m-2} \\\\\n",
    "& + \\sqrt{m(m-1)(m-2)(m-3)}\\delta_{n,m-4}\\Big).\n",
    "\\end{align}"
   ]
  },
  {
   "cell_type": "markdown",
   "metadata": {},
   "source": [
    "Assim\n",
    "$$H \\doteq \\hbar g\\begin{bmatrix} 3 & 0 & 6\\sqrt{2} & 0 & 2\\sqrt{6} & 0 & 0 & \\cdots \\\\\n",
    "                                  0 & 15 & 0 & \\\\  \\end{bmatrix}$$"
   ]
  },
  {
   "cell_type": "code",
   "execution_count": 917,
   "metadata": {},
   "outputs": [],
   "source": [
    "from sympy import sqrt, symbols, simplify\n",
    "from sympy.physics.quantum import Ket\n",
    "\n",
    "# retorna uma lista com as componentes na base de Fock de um estado sob ação do operador de levantamento bosônico\n",
    "def ad(ket):\n",
    "    if type(ket) is not list and ket.is_zero: # test if ket=0\n",
    "        return 0\n",
    "    else:\n",
    "        if isinstance(ket, Ket):\n",
    "            inl = ket.as_ordered_terms()\n",
    "        elif isinstance(ket, Add):\n",
    "            inl = list(ket.args)\n",
    "        else:\n",
    "            inl = ket\n",
    "        outl = []\n",
    "        for j in range(0,len(inl)):\n",
    "            ket_part = list(inl[j].atoms(Ket))[0]\n",
    "            scalar = inl[j]/ket_part\n",
    "            lab = ket_part.label[0]\n",
    "            outl.append(scalar*sqrt(lab+1)*Ket(lab+1))    \n",
    "    return outl\n",
    "\n",
    "# retorna uma lista com as componentes na base de Fock de um estado sob ação do operador de abaixamento bosônico\n",
    "def a(ket):\n",
    "    if type(ket) is not list and ket.is_zero: # test if ket=0\n",
    "        return 0\n",
    "    else:\n",
    "        if isinstance(ket, Ket):\n",
    "            inl = ket.as_ordered_terms()\n",
    "        elif isinstance(ket, Add):\n",
    "            inl = list(ket.args)\n",
    "        else:\n",
    "            inl = ket\n",
    "        outl = []\n",
    "        for j in range(0,len(inl)):\n",
    "            ket_part = list(inl[j].atoms(Ket))[0]\n",
    "            scalar = inl[j]/ket_part\n",
    "            lab = ket_part.label[0]\n",
    "            if lab == 0:\n",
    "                outl.append(0)\n",
    "            else:\n",
    "                outl.append(scalar*sqrt(lab)*Ket(lab-1))    \n",
    "    return outl"
   ]
  },
  {
   "cell_type": "code",
   "execution_count": 919,
   "metadata": {},
   "outputs": [],
   "source": [
    "m = symbols('m', integer=True, positive=True)"
   ]
  },
  {
   "cell_type": "code",
   "execution_count": 877,
   "metadata": {},
   "outputs": [],
   "source": [
    "H1_m = ad(ad(ad(ad(Ket(m)))))[0] + ad(ad(ad(a(Ket(m)))))[0] + ad(ad(a(ad(Ket(m)))))[0] + ad(ad(a(a(Ket(m)))))[0]\n",
    "H1_m += ad(a(ad(ad(Ket(m)))))[0] + ad(a(ad(a(Ket(m)))))[0] + ad(a(a(ad(Ket(m)))))[0] + ad(a(a(a(Ket(m)))))[0]\n",
    "H1_m += a(ad(ad(ad(Ket(m)))))[0] + a(ad(ad(a(Ket(m)))))[0] + a(ad(a(ad(Ket(m)))))[0] + a(ad(a(a(Ket(m)))))[0]\n",
    "H1_m += a(a(ad(ad(Ket(m)))))[0] + a(a(ad(a(Ket(m)))))[0] + a(a(a(ad(Ket(m)))))[0] + a(a(a(a(Ket(m)))))[0]"
   ]
  },
  {
   "cell_type": "code",
   "execution_count": 915,
   "metadata": {},
   "outputs": [
    {
     "data": {
      "text/latex": [
       "$\\displaystyle m^{2} {\\left|m\\right\\rangle }$"
      ],
      "text/plain": [
       "m**2*|m>"
      ]
     },
     "execution_count": 915,
     "metadata": {},
     "output_type": "execute_result"
    }
   ],
   "source": [
    "H1m = list(H1_m.args)\n",
    "H1m[0]"
   ]
  },
  {
   "cell_type": "code",
   "execution_count": 999,
   "metadata": {},
   "outputs": [],
   "source": [
    "ketl = []\n",
    "for ket in H1m:\n",
    "    ket_part = list(ket.atoms(Ket))[0]#; print(ket_part)\n",
    "    if ket_part not in ketl:\n",
    "        ketl.append(ket_part)\n",
    "coefl = [0]*len(ketl)\n",
    "for ket in H1m:\n",
    "    ket_part = list(ket.atoms(Ket))[0]#; print(ket_part)\n",
    "    index = ketl.index(ket_part)#; print(index)\n",
    "    scalar = ket/ket_part#; print(scalar)\n",
    "    coefl[index] += scalar"
   ]
  },
  {
   "cell_type": "code",
   "execution_count": 1001,
   "metadata": {},
   "outputs": [
    {
     "data": {
      "text/plain": [
       "[|m>, |m - 2>, |m + 2>, |m - 4>, |m + 4>]"
      ]
     },
     "execution_count": 1001,
     "metadata": {},
     "output_type": "execute_result"
    }
   ],
   "source": [
    "ketl"
   ]
  },
  {
   "cell_type": "code",
   "execution_count": 1007,
   "metadata": {},
   "outputs": [
    {
     "data": {
      "text/plain": [
       "[m**2 + m*(m - 1) + 2*m*(m + 1) + (m + 1)**2 + (m + 1)*(m + 2),\n",
       " m**(3/2)*sqrt(m - 1) + sqrt(m)*(m - 2)*sqrt(m - 1) + sqrt(m)*(m - 1)**(3/2) + sqrt(m)*sqrt(m - 1)*(m + 1),\n",
       " m*sqrt(m + 1)*sqrt(m + 2) + (m + 1)**(3/2)*sqrt(m + 2) + sqrt(m + 1)*(m + 2)**(3/2) + sqrt(m + 1)*sqrt(m + 2)*(m + 3),\n",
       " sqrt(m)*sqrt(m - 3)*sqrt(m - 2)*sqrt(m - 1),\n",
       " sqrt(m + 1)*sqrt(m + 2)*sqrt(m + 3)*sqrt(m + 4)]"
      ]
     },
     "execution_count": 1007,
     "metadata": {},
     "output_type": "execute_result"
    }
   ],
   "source": [
    "coefl"
   ]
  },
  {
   "cell_type": "code",
   "execution_count": 1016,
   "metadata": {},
   "outputs": [
    {
     "data": {
      "text/plain": [
       "[6*m**2 + 6*m + 3,\n",
       " sqrt(m)*sqrt(m - 1)*(4*m - 2),\n",
       " m*sqrt(m**2 + 3*m + 2) + (m + 1)**(3/2)*sqrt(m + 2) + sqrt(m + 1)*(m + 2)**(3/2) + (m + 3)*sqrt(m**2 + 3*m + 2),\n",
       " sqrt(m)*sqrt(m - 3)*sqrt(m - 2)*sqrt(m - 1),\n",
       " sqrt(m**4 + 10*m**3 + 35*m**2 + 50*m + 24)]"
      ]
     },
     "execution_count": 1016,
     "metadata": {},
     "output_type": "execute_result"
    }
   ],
   "source": [
    "coefls = coefl\n",
    "for j in range(0,len(coefl)):\n",
    "    coefls[j] = simplify(coefl[j])\n",
    "coefls"
   ]
  },
  {
   "cell_type": "markdown",
   "metadata": {},
   "source": [
    "---\n",
    "## Código para atuar os operadores escada bosônicos\n",
    "Abaixo fizemos testes para construir o código acima. \n",
    "\n",
    "Ainda falta lidar com o caso $0|n\\rangle.$"
   ]
  },
  {
   "cell_type": "code",
   "execution_count": 598,
   "metadata": {},
   "outputs": [
    {
     "data": {
      "text/latex": [
       "$\\displaystyle {\\left|1\\right\\rangle }$"
      ],
      "text/plain": [
       "|1>"
      ]
     },
     "execution_count": 598,
     "metadata": {},
     "output_type": "execute_result"
    }
   ],
   "source": [
    "from sympy import sqrt, symbols, simplify, S, Add\n",
    "from sympy.physics.quantum import Ket\n",
    "\n",
    "n,m = symbols('n m', integer=True, positive=True)\n",
    "n = 1; Ket(n)"
   ]
  },
  {
   "cell_type": "code",
   "execution_count": 600,
   "metadata": {},
   "outputs": [
    {
     "data": {
      "text/plain": [
       "(sqrt(2)*|2>, |2>)"
      ]
     },
     "execution_count": 600,
     "metadata": {},
     "output_type": "execute_result"
    }
   ],
   "source": [
    "# access the ket part\n",
    "n=2; ket = sqrt(n)*Ket(n)\n",
    "ket_part = list(ket.atoms(Ket))[0]\n",
    "ket, ket_part "
   ]
  },
  {
   "cell_type": "code",
   "execution_count": 602,
   "metadata": {},
   "outputs": [
    {
     "data": {
      "text/latex": [
       "$\\displaystyle 2$"
      ],
      "text/plain": [
       "2"
      ]
     },
     "execution_count": 602,
     "metadata": {},
     "output_type": "execute_result"
    }
   ],
   "source": [
    "# access the label of the Ket object\n",
    "lab = ket_part.label[0]\n",
    "lab"
   ]
  },
  {
   "cell_type": "code",
   "execution_count": 604,
   "metadata": {},
   "outputs": [
    {
     "data": {
      "text/latex": [
       "$\\displaystyle \\sqrt{2}$"
      ],
      "text/plain": [
       "sqrt(2)"
      ]
     },
     "execution_count": 604,
     "metadata": {},
     "output_type": "execute_result"
    }
   ],
   "source": [
    "scalar = ket/ket_part; scalar"
   ]
  },
  {
   "cell_type": "code",
   "execution_count": 787,
   "metadata": {},
   "outputs": [],
   "source": [
    "# retorna uma lista com as componentes na base de Fock de um estado sob ação do operador de levantamento bosônico\n",
    "def ad(ket):\n",
    "    if type(ket) is not list and ket.is_zero:\n",
    "        return 0\n",
    "    else:\n",
    "        if isinstance(ket, Ket):\n",
    "            inl = ket.as_ordered_terms()\n",
    "        elif isinstance(ket, Add):\n",
    "            inl = list(ket.args)\n",
    "        else:\n",
    "            inl = ket\n",
    "        outl = []\n",
    "        for j in range(0,len(inl)):\n",
    "            ket_part = list(inl[j].atoms(Ket))[0]\n",
    "            scalar = inl[j]/ket_part\n",
    "            lab = ket_part.label[0]\n",
    "            outl.append(scalar*sqrt(lab+1)*Ket(lab+1))    \n",
    "    return outl"
   ]
  },
  {
   "cell_type": "code",
   "execution_count": 789,
   "metadata": {},
   "outputs": [
    {
     "data": {
      "text/latex": [
       "$\\displaystyle \\sqrt{3} {\\left|3\\right\\rangle }$"
      ],
      "text/plain": [
       "sqrt(3)*|3>"
      ]
     },
     "execution_count": 789,
     "metadata": {},
     "output_type": "execute_result"
    }
   ],
   "source": [
    "n=2; ad(Ket(n))[0]"
   ]
  },
  {
   "cell_type": "code",
   "execution_count": 801,
   "metadata": {},
   "outputs": [
    {
     "data": {
      "text/latex": [
       "$\\displaystyle 2 \\sqrt{3} {\\left|4\\right\\rangle }$"
      ],
      "text/plain": [
       "2*sqrt(3)*|4>"
      ]
     },
     "execution_count": 801,
     "metadata": {},
     "output_type": "execute_result"
    }
   ],
   "source": [
    "n=2; ad(ad(Ket(n)))[0] # ok, it's working"
   ]
  },
  {
   "cell_type": "code",
   "execution_count": 793,
   "metadata": {},
   "outputs": [],
   "source": [
    "# retorna uma lista com as componentes na base de Fock de um estado sob ação do operador de abaixamento bosônico\n",
    "def a(ket):\n",
    "    if type(ket) is not list and ket.is_zero:\n",
    "        return 0\n",
    "    else:\n",
    "        if isinstance(ket, Ket):\n",
    "            inl = ket.as_ordered_terms()\n",
    "        elif isinstance(ket, Add):\n",
    "            inl = list(ket.args)\n",
    "        else:\n",
    "            inl = ket\n",
    "        outl = []\n",
    "        for j in range(0,len(inl)):\n",
    "            ket_part = list(inl[j].atoms(Ket))[0]\n",
    "            scalar = inl[j]/ket_part\n",
    "            lab = ket_part.label[0]\n",
    "            if lab == 0:\n",
    "                outl.append(0)\n",
    "            else:\n",
    "                outl.append(scalar*sqrt(lab)*Ket(lab-1))    \n",
    "    return outl"
   ]
  },
  {
   "cell_type": "code",
   "execution_count": 803,
   "metadata": {},
   "outputs": [
    {
     "data": {
      "text/latex": [
       "$\\displaystyle \\sqrt{2} {\\left|1\\right\\rangle }$"
      ],
      "text/plain": [
       "sqrt(2)*|1>"
      ]
     },
     "execution_count": 803,
     "metadata": {},
     "output_type": "execute_result"
    }
   ],
   "source": [
    "n=2; a(Ket(n))[0]"
   ]
  },
  {
   "cell_type": "code",
   "execution_count": 805,
   "metadata": {},
   "outputs": [
    {
     "data": {
      "text/plain": [
       "0"
      ]
     },
     "execution_count": 805,
     "metadata": {},
     "output_type": "execute_result"
    }
   ],
   "source": [
    "n=0; a(Ket(n))[0]"
   ]
  },
  {
   "cell_type": "code",
   "execution_count": 799,
   "metadata": {},
   "outputs": [
    {
     "name": "stdout",
     "output_type": "stream",
     "text": [
      "0 <class 'sympy.core.numbers.Zero'>\n"
     ]
    }
   ],
   "source": [
    "n=2; ket = 0*Ket(n); print(ket, type(ket))"
   ]
  },
  {
   "cell_type": "code",
   "execution_count": 809,
   "metadata": {},
   "outputs": [
    {
     "data": {
      "text/plain": [
       "0"
      ]
     },
     "execution_count": 809,
     "metadata": {},
     "output_type": "execute_result"
    }
   ],
   "source": [
    "n=2; a(0*Ket(n))"
   ]
  },
  {
   "cell_type": "code",
   "execution_count": 811,
   "metadata": {},
   "outputs": [
    {
     "data": {
      "text/plain": [
       "0"
      ]
     },
     "execution_count": 811,
     "metadata": {},
     "output_type": "execute_result"
    }
   ],
   "source": [
    "n=2; ad(0*Ket(n))"
   ]
  },
  {
   "cell_type": "code",
   "execution_count": 813,
   "metadata": {},
   "outputs": [
    {
     "data": {
      "text/latex": [
       "$\\displaystyle 2 {\\left|3\\right\\rangle } + 4 {\\left|5\\right\\rangle }$"
      ],
      "text/plain": [
       "2*|3> + 4*|5>"
      ]
     },
     "execution_count": 813,
     "metadata": {},
     "output_type": "execute_result"
    }
   ],
   "source": [
    "# teste para estados de superposição\n",
    "ket = 2*Ket(3) + 4*Ket(5) + 0*Ket(6); ket"
   ]
  },
  {
   "cell_type": "code",
   "execution_count": 815,
   "metadata": {},
   "outputs": [
    {
     "name": "stdout",
     "output_type": "stream",
     "text": [
      "<class 'sympy.core.add.Add'>\n"
     ]
    }
   ],
   "source": [
    "print(type(ket))"
   ]
  },
  {
   "cell_type": "code",
   "execution_count": 817,
   "metadata": {},
   "outputs": [
    {
     "name": "stdout",
     "output_type": "stream",
     "text": [
      "[2*|3>, 4*|5>] 2*|3> 2\n"
     ]
    }
   ],
   "source": [
    "ordered_terms = ket.as_ordered_terms()\n",
    "print(ordered_terms, ordered_terms[0], len(ordered_terms))"
   ]
  },
  {
   "cell_type": "code",
   "execution_count": 831,
   "metadata": {},
   "outputs": [
    {
     "data": {
      "text/plain": [
       "(2*|3> + 4*|5>, [2*|3>, 4*|5>], 2, 2*sqrt(3)*|2> + 4*sqrt(5)*|4>)"
      ]
     },
     "execution_count": 831,
     "metadata": {},
     "output_type": "execute_result"
    }
   ],
   "source": [
    "inl = ket.as_ordered_terms()\n",
    "ket, inl, len(inl), Add(*a(ket))"
   ]
  },
  {
   "cell_type": "code",
   "execution_count": 825,
   "metadata": {},
   "outputs": [
    {
     "data": {
      "text/latex": [
       "$\\displaystyle 4 {\\left|4\\right\\rangle } + 4 \\sqrt{6} {\\left|6\\right\\rangle }$"
      ],
      "text/plain": [
       "4*|4> + 4*sqrt(6)*|6>"
      ]
     },
     "execution_count": 825,
     "metadata": {},
     "output_type": "execute_result"
    }
   ],
   "source": [
    "Add(*ad(ket)) # transform a list of Kets in a Ket!?"
   ]
  },
  {
   "cell_type": "markdown",
   "metadata": {},
   "source": [
    "---"
   ]
  },
  {
   "cell_type": "markdown",
   "metadata": {},
   "source": [
    "## Representação matricial na base de Fock\n",
    "\n",
    "Abaixo vamos partir de um operador que será dado por uma lista de $N$ operadores, cada operador sendo um produto de $n$ operadores de criação/aniquilação. O 1º elemento de cada lista individual é o escalar que multiplicar os operadores de criação/aniquilação daquele termo."
   ]
  },
  {
   "cell_type": "code",
   "execution_count": 339,
   "metadata": {},
   "outputs": [
    {
     "ename": "TypeError",
     "evalue": "list.append() takes exactly one argument (4 given)",
     "output_type": "error",
     "traceback": [
      "\u001b[0;31m---------------------------------------------------------------------------\u001b[0m",
      "\u001b[0;31mTypeError\u001b[0m                                 Traceback (most recent call last)",
      "Cell \u001b[0;32mIn[339], line 26\u001b[0m\n\u001b[1;32m     24\u001b[0m                     \u001b[38;5;28;01melse\u001b[39;00m:\n\u001b[1;32m     25\u001b[0m                         d \u001b[38;5;241m=\u001b[39m an\n\u001b[0;32m---> 26\u001b[0m                     H1sl\u001b[38;5;241m.\u001b[39mappend(a,b,c,d)\n\u001b[1;32m     28\u001b[0m     H1l\u001b[38;5;241m.\u001b[39mappend(H1sl)    \n\u001b[1;32m     30\u001b[0m \u001b[38;5;28mprint\u001b[39m(H1l)\n",
      "\u001b[0;31mTypeError\u001b[0m: list.append() takes exactly one argument (4 given)"
     ]
    }
   ],
   "source": [
    "a, b, c, d, cr, an = symbols('a b c d cr an')\n",
    "n_op = 4; n_terms = 2**n_op\n",
    "H1l = []\n",
    "for t in range(0,n_terms):\n",
    "    H1sl = []\n",
    "    for j in range(0,2):\n",
    "        if j == 0:\n",
    "            a = cr\n",
    "        else:\n",
    "            a = an\n",
    "        for k in range(0,2):\n",
    "            if k == 0:\n",
    "                b = cr\n",
    "            else:\n",
    "                b = an\n",
    "            for l in range(0,2):\n",
    "                if l == 0:\n",
    "                    c = cr\n",
    "                else:\n",
    "                    c = an\n",
    "                for m in range(0,2):\n",
    "                    if m == 0:\n",
    "                        d = cr\n",
    "                    else:\n",
    "                        d = an\n",
    "        H1sl.append(a,b,c,d)\n",
    "    H1l.append(H1sl)    \n",
    "\n",
    "print(H1l)"
   ]
  },
  {
   "cell_type": "code",
   "execution_count": null,
   "metadata": {},
   "outputs": [],
   "source": []
  }
 ],
 "metadata": {
  "kernelspec": {
   "display_name": "Python 3 (ipykernel)",
   "language": "python",
   "name": "python3"
  },
  "language_info": {
   "codemirror_mode": {
    "name": "ipython",
    "version": 3
   },
   "file_extension": ".py",
   "mimetype": "text/x-python",
   "name": "python",
   "nbconvert_exporter": "python",
   "pygments_lexer": "ipython3",
   "version": "3.12.2"
  }
 },
 "nbformat": 4,
 "nbformat_minor": 4
}
