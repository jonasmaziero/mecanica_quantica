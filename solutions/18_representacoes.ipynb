{
 "cells": [
  {
   "cell_type": "markdown",
   "metadata": {},
   "source": [
    "### Notas de aula de Mecânica Quântica <br> Autor: Jonas Maziero\n",
    "\n",
    "# Exercícios"
   ]
  },
  {
   "cell_type": "markdown",
   "metadata": {},
   "source": [
    "---\n",
    "$1.$ Escrevendo o estado evoluído do sistema, na RS, em termos da base de autovetores do observável de interesse,\n",
    "$|\\psi_{t}^{S}\\rangle = \\sum_{j=1}^{d}c_{j}(t)|o_{j}^{S}\\rangle$,\n",
    "substituindo na equação de Schrödinger $i\\hbar\\partial_{t}|\\psi_{t}^{S}\\rangle=H_{t}|\\psi_{t}^{S}\\rangle$ e tomando o produto interno com $|o_{k}^{S}\\rangle$, para $k=1,\\cdots,d$, mostre que $i\\hbar\\partial_{t}c_{k}(t) = \\sum_{j=1}^{d}H_{kj}c_{j}(t)$ com $H_{kj}:=\\langle o_{k}^{S}|H_{t}|o_{j}^{S}\\rangle$. Argumente que essas $d$ equações acopladas podem ser escritas como uma única equação diferencial matricial: $i\\hbar\\partial_{t}\\vec{c}(t)=H_{t}^{O}\\vec{c}(t)$ identificando $\\vec{c}$ e $H_{t}$."
   ]
  },
  {
   "cell_type": "markdown",
   "metadata": {},
   "source": [
    "_SOL._ Teremos que\n",
    "\\begin{align}\n",
    "& i\\hbar\\partial_{t}\\sum_{j=1}^{d}c_{j}(t)|o_{j}^{S}\\rangle=H_{t}\\sum_{j=1}^{d}c_{j}(t)|o_{j}^{S}\\rangle,\\\\\n",
    "& \\therefore i\\hbar\\partial_{t}\\sum_{j=1}^{d}c_{j}(t)\\langle o_{k}^{S}|o_{j}^{S}\\rangle = i\\hbar\\partial_{t}\\sum_{j=1}^{d}c_{j}(t)\\delta_{k,j} = \\sum_{j=1}^{d}c_{j}(t)\\langle o_{k}^{S}|H_{t}|o_{j}^{S}\\rangle, \\\\\n",
    "& \\therefore  i\\hbar\\partial_{t}c_{k}(t) = \\sum_{j=1}^{d}H_{k,j} c_{j}(t), \\\\\n",
    "& \\therefore i\\hbar\\begin{bmatrix} \\partial_{t}c_{1}(t) \\\\ \\vdots \\\\ \\partial_{t}c_{d}(t)\\end{bmatrix} = \\begin{bmatrix} H_{1,1} & \\cdots & H_{1,d} \\\\ \\vdots & \\cdots & \\vdots \\\\ H_{d,1} & \\cdots & H_{d,d} \\end{bmatrix}\\begin{bmatrix} c_{1}(t) \\\\ \\vdots \\\\ c_{d}(t)\\end{bmatrix}, \\\\\n",
    "& \\therefore i\\hbar\\partial_{t}\\vec{c}(t) = H_{t}^{O}\\vec{c}(t).\n",
    "\\end{align}"
   ]
  },
  {
   "cell_type": "markdown",
   "metadata": {},
   "source": [
    "---\n",
    "$2.$ Obtenha $|\\psi_{t}^{S}\\rangle$ do último exercício usando como observável o próprio Hamiltoniano, o considerando independente do tempo, na RS."
   ]
  },
  {
   "cell_type": "markdown",
   "metadata": {},
   "source": [
    "_SOL._ Para $H|e_{j}\\rangle=E_{j}|E_{j}\\rangle$ e $O=H$ teremos $H_{j,k}=\\langle E_{j}|H|E_{k}\\rangle=E_{k}\\delta_{j,k}.$ Assim\n",
    "\\begin{align}\n",
    "& i\\hbar\\begin{bmatrix} \\partial_{t}c_{1}(t) \\\\ \\vdots \\\\ \\partial_{t}c_{d}(t)\\end{bmatrix} = \\begin{bmatrix} E_{1} & \\cdots & 0 \\\\ \\vdots & \\cdots & \\vdots \\\\ 0 & \\cdots & E_{d} \\end{bmatrix}\\begin{bmatrix} c_{1}(t) \\\\ \\vdots \\\\ c_{d}(t)\\end{bmatrix}, \\\\\n",
    "& \\therefore\\ i\\hbar\\partial_{t}c_{j}(t)=E_{j}c_{j}(t) \\therefore\\ \\partial_{t}c_{j}(t)=(-iE_{j}/\\hbar)c_{j}(t) \\\\\n",
    "& \\therefore\\ c_{j}(t)=e^{-iE_{j}t/\\hbar}c_{j}(0).\n",
    "\\end{align}\n",
    "Por conseguinte, $|\\psi_{t}^{S}\\rangle=\\sum_{j}c_{j}(0)e^{-iE_{j}t/\\hbar}|E_{j}\\rangle.$"
   ]
  },
  {
   "cell_type": "markdown",
   "metadata": {},
   "source": [
    "---\n",
    "$3.$ Verifique, usando a definição de derivada, que $(i\\hbar\\partial_{t}U_{t})^{\\dagger} = -i\\hbar\\partial_{t}U_{t}^{\\dagger}$. Verifique assim que $-i\\hbar\\partial_{t}U_{t}^{\\dagger}=U_{t}^{\\dagger} H_{t}$."
   ]
  },
  {
   "cell_type": "markdown",
   "metadata": {},
   "source": [
    "_SOL._ Aplicando a definição, vem que\n",
    "\\begin{align}\n",
    "(i\\hbar\\partial_{t}U_{t})^{\\dagger} &= -i\\hbar\\left(\\lim_{\\delta t\\rightarrow0}\\frac{U_{t+\\delta t}-U_{t}}{\\delta t}\\right)^{\\dagger} = -i\\hbar\\lim_{\\delta t\\rightarrow0}\\frac{U_{t+\\delta t}^{\\dagger}-U_{t}^{\\dagger}}{\\delta t} \\\\\n",
    "& = -i\\hbar\\partial_{t}U_{t}^{\\dagger}.\n",
    "\\end{align}\n",
    "Aplicando na eq. de Schödinger teremos $(i\\hbar\\partial_{t}U_{t})^{\\dagger} = -i\\hbar\\partial_{t}U_{t}^{\\dagger} =  (H_{t}U_{t})^{\\dagger} = U_{t}^{\\dagger}H_{t}.$ "
   ]
  },
  {
   "cell_type": "markdown",
   "metadata": {},
   "source": [
    "---\n",
    "$4.$ Consideremos que a relação de comutação entre dois observáveis na representação de Schrödinger é\n",
    "$[A_{t}^{S},B_{t}^{S}]=C_{t}^{S}$. Mostre que essa relação de comutação é preservada quando mudamos para a representação de Heisenberg, i.e., verifique que $[A_{t}^{H},B_{t}^{H}] = C_{t}^{H}$ (ou seja, se dois observáveis são incompatíveis (compatíveis) na RS, suas versões na RH também serão incompatíveis (compatíveis))."
   ]
  },
  {
   "cell_type": "markdown",
   "metadata": {},
   "source": [
    "_SOL._ Como a relação entre as RH e RS de um operador é $O_{t}^{H}=U_{t}^{\\dagger}O_{t}^{S}U_{t}$, teremos\n",
    "\\begin{align}\n",
    "[A_{t}^{H},B_{t}^{H}] &= [U_{t}^{\\dagger}A_{t}^{S}U_{t},U_{t}^{\\dagger}B_{t}^{S}U_{t}] = U_{t}^{\\dagger}A_{t}^{S}U_{t}U_{t}^{\\dagger}B_{t}^{S}U_{t}-U_{t}^{\\dagger}B_{t}^{S}U_{t}U_{t}^{\\dagger}A_{t}^{S}U_{t}\\\\\n",
    "&= U_{t}^{\\dagger}A_{t}^{S}\\mathbb{I}B_{t}^{S}U_{t}-U_{t}^{\\dagger}B_{t}^{S}\\mathbb{I}A_{t}^{S}U_{t} = U_{t}^{\\dagger}(A_{t}^{S}B_{t}^{S}-B_{t}^{S}A_{t}^{S})U_{t} \\\\\n",
    "& = U_{t}^{\\dagger}[A_{t}^{S},B_{t}^{S}]U_{t} = U_{t}^{\\dagger}C_{t}^{S}U_{t} \\\\\n",
    "&= C_{t}^{H}.\n",
    "\\end{align}"
   ]
  },
  {
   "cell_type": "markdown",
   "metadata": {},
   "source": [
    "---\n",
    "$5.$ Sejam $A$ e $B$ operadores Hermitianos comutantes ($[A,B]=\\mathbb{O}$). Verifique que $e^{A}e^{B}=e^{A+B}.$"
   ]
  },
  {
   "cell_type": "markdown",
   "metadata": {},
   "source": [
    "_SOL._ Como os operadores são Hermitianos e comutam, estes podem ser diagonalizados na mesma base, e podemos usar as decomposições espectrais $A=\\sum_{j}a_{j}|\\alpha_{j}\\rangle\\langle\\alpha_{j}|$ e $B=\\sum_{j}b_{j}|\\alpha_{j}\\rangle\\langle\\alpha_{j}|.$ Assim \n",
    "\\begin{align}\n",
    "A+B=\\sum_{j}a_{j}|\\alpha_{j}\\rangle\\langle\\alpha_{j}|+\\sum_{j}b_{j}|\\alpha_{j}\\rangle\\langle\\alpha_{j}| = \\sum_{j}(a_{j}+b_{j})|\\alpha_{j}\\rangle\\langle\\alpha_{j}|\n",
    "\\end{align}\n",
    "e\n",
    "\\begin{align}\n",
    "e^{A}e^{B} &= e^{\\sum_{j}a_{j}|\\alpha_{j}\\rangle\\langle\\alpha_{j}|}e^{\\sum_{k}b_{k}|\\alpha_{k}\\rangle\\langle\\alpha_{k}|} = \\sum_{j}e^{a_{j}}|\\alpha_{j}\\rangle\\langle\\alpha_{j}|\\sum_{k}e^{b_{k}}|\\alpha_{k}\\rangle\\langle\\alpha_{k}| \\\\\n",
    "& = \\sum_{j,k}e^{a_{j}}e^{b_{k}}|\\alpha_{j}\\rangle\\langle\\alpha_{j}|\\alpha_{k}\\rangle\\langle\\alpha_{k}| = \\sum_{j,k}e^{a_{j}+b_{k}}|\\alpha_{j}\\rangle\\delta_{j,k}\\langle\\alpha_{k}| \\\\\n",
    "& = \\sum_{j}e^{a_{j}+b_{j}}|\\alpha_{j}\\rangle\\langle\\alpha_{j}| = e^{A+B}.\n",
    "\\end{align}"
   ]
  },
  {
   "cell_type": "markdown",
   "metadata": {},
   "source": [
    "---\n",
    "$6.$ Para $H=H^{\\dagger}$ e $U=e^{-iH},$ verifique que $U^{\\dagger}=e^{iH}.$"
   ]
  },
  {
   "cell_type": "markdown",
   "metadata": {},
   "source": [
    "_SOL._ Usando a Hermiticidade, escrevemos $H=\\sum_{j}h_{j}|h_{j}\\rangle\\langle h_{j}|$ com $h_{j}\\in\\mathbb{R}.$ Assim\n",
    "\\begin{align}\n",
    "U = e^{-iH} = e^{-i\\sum_{j}h_{j}|h_{j}\\rangle\\langle h_{j}|} = \\sum_{j}e^{-ih_{j}}|h_{j}\\rangle\\langle h_{j}|.\n",
    "\\end{align}\n",
    "Assim\n",
    "\\begin{align}\n",
    "U^{\\dagger} &= \\left(\\sum_{j}e^{-ih_{j}}|h_{j}\\rangle\\langle h_{j}|\\right)^{\\dagger} = \\sum_{j}\\left(e^{-ih_{j}}\\right)^{*}|h_{j}\\rangle\\langle h_{j}| = \\sum_{j}e^{ih_{j}}|h_{j}\\rangle\\langle h_{j}| \\\\\n",
    "&= e^{iH},\n",
    "\\end{align}\n",
    "em que usamos que $(|h_{j}\\rangle\\langle h_{j}|)^{\\dagger}=|h_{j}\\rangle\\langle h_{j}|.$"
   ]
  },
  {
   "cell_type": "markdown",
   "metadata": {},
   "source": [
    "---\n",
    "$7.$ Verifique que $W_{t}= e^{-iH_{c}t/\\hbar}$ é um operador unitário, com $H_{c}$ sendo um operador Hermitiano."
   ]
  },
  {
   "cell_type": "markdown",
   "metadata": {},
   "source": [
    "_SOL._ Usando os dois últimos exercícios, teremos que $W^{\\dagger}=e^{iH_{c}t/\\hbar}$ e\n",
    "\\begin{align}\n",
    "W_{t}W_{t}^{\\dagger} = e^{-iH_{c}t/\\hbar}e^{iH_{c}t/\\hbar} = e^{-i(H_{c}-H_{c})t/\\hbar} = e^{\\mathbb{O}} = \\mathbb{I} = \\cdots = W_{t}^{\\dagger}W_{t}.\n",
    "\\end{align}"
   ]
  },
  {
   "cell_type": "markdown",
   "metadata": {},
   "source": [
    "---\n",
    "$8.$ Verifique que $[W_{t},H_{c}]=0$, que $i\\hbar\\partial_{t}W_{t}=H_{c}W_{t}$ e que $-i\\hbar\\partial_{t}W_{t}^{\\dagger}=W_{t}^{\\dagger}H_{c}$."
   ]
  },
  {
   "cell_type": "markdown",
   "metadata": {},
   "source": [
    "_SOL._ Aplicando a definição, teremos\n",
    "\\begin{align}\n",
    "[W_{t},H_{c}] &= [e^{-iH_{c}t/\\hbar},H_{c}]  = \\left[\\sum_{j=0}^{\\infty}(-it/\\hbar)^{j}H_{c}^{j}/j!,H_{c}\\right] \\\\\n",
    "&= \\sum_{j=0}^{\\infty}((-it/\\hbar)^{j}/j!)[H_{c}^{j},H_{c}] = \\sum_{j=0}^{\\infty}((-it/\\hbar)^{j}/j!)\\mathbb{O} = \\mathbb{O}.\n",
    "\\end{align}\n",
    "\n",
    "Como $H_{c}$ é independente do tempo, a verificação é idêntica àquela feita na aula sobre o postulado da dinâmica quântica.\n",
    "\n",
    "O resultado $-i\\hbar\\partial_{t}W_{t}^{\\dagger}=W_{t}^{\\dagger}H_{c}$ segue direto do exercício 3, substituindo $U_{t}\\rightarrow W_{t}$ e $H_{t}\\rightarrow H_{c}.$"
   ]
  },
  {
   "cell_type": "markdown",
   "metadata": {},
   "source": [
    "---\n",
    "$9.$ Verifique que se expandirmos o estado evoluído na RI na base de autovetores de $H_{c}$, $|\\psi_{t}^{I}\\rangle = \\sum_{j=1}^{d} c_{j}(t)|E^{c}_{j}\\rangle$, podemos escrever: $Pr(E_{j}^{c}(t)) = |c_{j}(t)|^{2}$."
   ]
  },
  {
   "cell_type": "markdown",
   "metadata": {},
   "source": [
    "_SOL._ De forma geral, na RI, as probabilidades são escritas como $Pr(o_{j}(t)) = \\left|\\langle o_{j}^{I}(t)|\\psi_{t}^{I}\\rangle\\right|^{2}$ com $|o_{j}^{I}(t)\\rangle = W_{t}^{\\dagger} |o_{j}^{S}\\rangle = e^{iH_{c}t/\\hbar}|o_{j}^{S}\\rangle$. Para $O=H_{c}$, teremos $|o_{j}^{I}(t)\\rangle = e^{iH_{c}t/\\hbar}|E_{j}^{c}\\rangle = e^{iE_{j}^{c}t/\\hbar}|E_{j}^{c}\\rangle$. Assim $Pr(E_{j}^{c}) = \\left|e^{-iE_{j}^{c}t/\\hbar}\\langle E_{j}^{c}|\\psi_{t}^{I}\\rangle\\right|^{2} = |c_{j}(t)|^{2}$."
   ]
  }
 ],
 "metadata": {
  "kernelspec": {
   "display_name": "Python 3 (ipykernel)",
   "language": "python",
   "name": "python3"
  },
  "language_info": {
   "codemirror_mode": {
    "name": "ipython",
    "version": 3
   },
   "file_extension": ".py",
   "mimetype": "text/x-python",
   "name": "python",
   "nbconvert_exporter": "python",
   "pygments_lexer": "ipython3",
   "version": "3.11.1"
  }
 },
 "nbformat": 4,
 "nbformat_minor": 4
}
