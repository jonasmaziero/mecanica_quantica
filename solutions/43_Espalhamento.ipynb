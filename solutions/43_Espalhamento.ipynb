{
 "cells": [
  {
   "cell_type": "markdown",
   "id": "4c7cfce9",
   "metadata": {},
   "source": [
    "---\n",
    "$1.$ Verifique que, para $U(\\vec{r})=0$, a função $e^{i\\vec{k}\\cdot\\vec{r}}$ satisfaz $\\left(\\nabla^{2}+k^{2}-\\frac{2m}{\\hbar^{2}}U(\\vec{r})\\right)\\psi(\\vec{r})=0$."
   ]
  },
  {
   "cell_type": "markdown",
   "id": "e312e8e5",
   "metadata": {},
   "source": [
    "_SOL._ Teremos que\n",
    "\\begin{align}\n",
    "\\nabla^{2}e^{i\\vec{k}\\cdot\\vec{r}} & = \\big(\\partial_{xx}+\\partial_{yy}+\\partial_{zz}\\big)e^{i(k_{x}x+k_{y}y+k_{z}z)} \\\\\n",
    "& = \\big((ik_{x})^{2}+(ik_{y})^{2}+(ik_{z})^{2}\\big)e^{i(k_{x}x+k_{y}y+k_{z}z)} \\\\\n",
    "& = \\big(-k_{x}^{2}-k_{y}^{2}-k_{z}^{2}\\big)e^{i\\vec{k}\\cdot\\vec{r}} \\\\\n",
    "& = -k^{2}e^{i\\vec{k}\\cdot\\vec{r}}.\n",
    "\\end{align}\n",
    "Por conseguinte, para $U=0$, teremos\n",
    "\\begin{align}\n",
    "\\left(\\nabla^{2}+k^{2}-\\frac{2m}{\\hbar^{2}}U(\\vec{r})\\right)\\psi(\\vec{r})e^{i\\vec{k}\\cdot\\vec{r}}=\\left(-k^{2}+k^{2}-\\frac{2m}{\\hbar^{2}}0\\right)e^{i\\vec{k}\\cdot\\vec{r}}=0e^{i\\vec{k}\\cdot\\vec{r}}.\n",
    "\\end{align}"
   ]
  },
  {
   "cell_type": "code",
   "execution_count": null,
   "id": "d8a7bcbf",
   "metadata": {},
   "outputs": [],
   "source": []
  }
 ],
 "metadata": {
  "kernelspec": {
   "display_name": "Python 3 (ipykernel)",
   "language": "python",
   "name": "python3"
  },
  "language_info": {
   "codemirror_mode": {
    "name": "ipython",
    "version": 3
   },
   "file_extension": ".py",
   "mimetype": "text/x-python",
   "name": "python",
   "nbconvert_exporter": "python",
   "pygments_lexer": "ipython3",
   "version": "3.8.8"
  }
 },
 "nbformat": 4,
 "nbformat_minor": 5
}
