{
 "cells": [
  {
   "cell_type": "markdown",
   "metadata": {},
   "source": [
    "### Notas de aula de Mecânica Quântica <br> Autor: Jonas Maziero\n",
    "\n",
    "# Exercícios"
   ]
  },
  {
   "cell_type": "markdown",
   "metadata": {},
   "source": [
    "---\n",
    "$1.$ Considere uma fonte de informação que emite os símbolos $\\{X_{1},X_{2},X_{3},X_{4}\\}$ com probabilidades respectivas $\\{1/2,1/4,1/8,1/8\\}$. Verifique que a entropia de Shannon dessa variável aleatória é $H(X)=7/4$. <br>\n",
    "OBS. Podemos, claro, codificar esses símbols usando dois bits de informação através da representação $X_{1}\\rightarrow 00,  X_{2}\\rightarrow 01, X_{3}\\rightarrow 10, X_{4}\\rightarrow 11$. É interessante notar que se codificarmos símbolos mais prováveis usando menos bits e símbolos menos prováveis usando mais bits, podemos diminuir, em média, a quantidade de bits necessários para armazenar essa fonte. Consideremos a codificação $X_{1}\\rightarrow 0,  X_{2}\\rightarrow 10, X_{3}\\rightarrow 110, X_{4}\\rightarrow 111$. O número médio de bits necessários para armazer uma sequência de símbolos é nesse caso:\n",
    "\\begin{equation}\n",
    "1\\frac{1}{2}+2\\frac{1}{4}+3\\frac{1}{8}+3\\frac{1}{8} = \\frac{7}{4} = 1.75 \\text{ bits por símbolo.}\n",
    "\\end{equation}"
   ]
  },
  {
   "cell_type": "markdown",
   "metadata": {},
   "source": [
    "_SOL._ Aplicando a definição,\n",
    "\\begin{align}\n",
    "H(X) &= -\\sum_{j}p_{j}\\log_{2}(p_{j}) = -\\frac{1}{2}\\log_{2}(1/2) -\\frac{1}{4}\\log_{2}(1/4) -2\\frac{1}{8}\\log_{2}(1/8) \\\\\n",
    "& = -\\frac{1}{2}(-1) -\\frac{1}{4}(-2) -2\\frac{1}{8}(-3) = \\frac{1}{2} + \\frac{1}{2} + \\frac{3}{4} = \\frac{7}{4}.\n",
    "\\end{align}"
   ]
  },
  {
   "cell_type": "markdown",
   "metadata": {},
   "source": [
    "---\n",
    "$2.$ Verifique que $S_{vN}(\\mathbb{I}/d) = \\log_{2}d$ e que $S_{vN}(|\\psi\\rangle\\langle\\psi|)=0$."
   ]
  },
  {
   "cell_type": "markdown",
   "metadata": {},
   "source": [
    "_SOL._ Para a decomposição espectral $\\rho=\\sum_{j=1}^{d}r_{j}|r_{j}\\rangle\\langle r_{j}|$, temos que $S_{vn}(\\rho)=-Tr(\\rho\\log_{2}(\\rho))=-\\sum_{j=1}^{d}r_{j}\\log_{2}(r_{j})$. Para $\\rho=\\mathbb{I}/d$ temos $r_{j}=1/d$ para $j=1,\\cdots,d$. Assim\n",
    "\\begin{align}\n",
    "S_{vn}(\\mathbb{I}/d)&=-\\sum_{j=1}^{d}\\frac{1}{d}\\log_{2}\\left(\\frac{1}{d}\\right)=-\\frac{1}{d}\\sum_{j=1}^{d}\\log_{2}(d^{-1}) = \\frac{1}{d}d\\log_{2}(d) \\\\\n",
    "& = \\log_{2}(d).\n",
    "\\end{align}\n",
    "Já para $\\rho=|\\psi\\rangle\\langle\\psi|$ temos $\\rho\\equiv 1|\\psi\\rangle\\langle\\psi|+\\sum_{j=0}^{d}0|r_{j}\\rangle\\langle r_{j}|$. Assim\n",
    "\\begin{equation}\n",
    "S_{vn}(|\\psi\\rangle) = -1\\log_{2}(1)-\\sum_{j=2}^{d}0\\log_{2}(0)=0,\n",
    "\\end{equation}\n",
    "em que usamos $\\lim_{x\\rightarrow \\infty}(x\\log(x))=0$ para fazer $0\\log(0)=0$."
   ]
  },
  {
   "cell_type": "markdown",
   "metadata": {},
   "source": [
    "---\n",
    "$3.$ Verifique que a entropia de von Neumann é invariante por mudança de base, i.e., verifique que $S_{vN}(U\\rho U^{\\dagger})=S_{vN}(\\rho)$ para $UU^{\\dagger}=U^{\\dagger}U=\\mathbb{I}$."
   ]
  },
  {
   "cell_type": "markdown",
   "metadata": {},
   "source": [
    "_SOL._ Como $S_{vN}$ só depende dos autovalores de $\\rho$, e esses autovalores não mudam por uma transformação unitária, vemos que a entropia de von Neumman também não muda sob esse tipo de transformação. Não obstante, vamos verificar isso explicitamente. Para $\\rho=\\sum_{j}r_{j}|r_{j}\\rangle\\langle r_{j}|$ temos que $U\\rho U^{\\dagger}=\\sum_{j}r_{j}U|r_{j}\\rangle\\langle r_{j}|U^{\\dagger}.$ Por conseguinte,\n",
    "\\begin{align}\n",
    "S_{vN}(U\\rho U^{\\dagger}) &= -Tr\\big(U\\rho U^{\\dagger}\\log_{2}(U\\rho U^{\\dagger})\\big) = -Tr\\big(\\sum_{j}r_{j}U|r_{j}\\rangle\\langle r_{j}|U^{\\dagger}\\log_{2}\\big(\\sum_{k}r_{k}U|r_{k}\\rangle\\langle r_{k}|U^{\\dagger}\\big)\\big) \\\\\n",
    "&= -Tr\\big(\\sum_{j}r_{j}U|r_{j}\\rangle\\langle r_{j}|U^{\\dagger}\\sum_{k}\\log_{2}(r_{k})U|r_{k}\\rangle\\langle r_{k}|U^{\\dagger}\\big) = -Tr\\big(\\sum_{j,k}r_{j}\\log_{2}(r_{k})U|r_{j}\\rangle\\langle r_{j}|U^{\\dagger}U|r_{k}\\rangle\\langle r_{k}|U^{\\dagger}\\big) \\\\\n",
    "&= -Tr\\big(\\sum_{j,k}r_{j}\\log_{2}(r_{k})U|r_{j}\\rangle\\langle r_{j}|\\mathbb{I}|r_{k}\\rangle\\langle r_{k}|U^{\\dagger}\\big) = -Tr\\big(\\sum_{j,k}r_{j}\\log_{2}(r_{k})U|r_{j}\\rangle\\delta_{j,k}\\langle r_{k}|U^{\\dagger}\\big) \\\\\n",
    "&= -Tr\\big(\\sum_{j}r_{j}\\log_{2}(r_{j})U|r_{j}\\rangle\\langle r_{j}|U^{\\dagger}\\big) = -\\sum_{j}r_{j}\\log_{2}(r_{j})Tr(U|r_{j}\\rangle\\langle r_{j}|U^{\\dagger}) \\\\ \n",
    "&= -\\sum_{j}r_{j}\\log_{2}(r_{j})Tr(U^{\\dagger}U|r_{j}\\rangle\\langle r_{j}|) = -\\sum_{j}r_{j}\\log_{2}(r_{j})Tr(\\mathbb{I}|r_{j}\\rangle\\langle r_{j}|) = -\\sum_{j}r_{j}\\log_{2}(r_{j})1 \\\\ \n",
    "&= S_{vN}(\\rho).\n",
    "\\end{align}"
   ]
  },
  {
   "cell_type": "markdown",
   "metadata": {},
   "source": [
    "---\n",
    "$4.$ Verifique que a representação matricial do operador densidade $\\rho_{3}=p_{1}|x_{+}\\rangle\\langle x_{+}|+p_{2}|z_{+}\\rangle\\langle z_{+}|$ na base $\\{|z_{+}\\rangle,|z_{-}\\rangle\\}$ é $\\rho_{3}\\doteq\\begin{bmatrix}-p_{1}/2+1 & p_{1}/2 \\\\ p_{1}/2&p_{1}/2\\end{bmatrix}$. Diagonalizando essa matriz, obtenha a entropia de von Neumann $S_{vN}(\\rho_{3})=-\\lambda_{1}\\log_{2}(\\lambda_{1})-(1-\\lambda_{1})\\log_{2}(1-\\lambda_{1})$ com $\\lambda_{1}=(1+\\sqrt{1-2p_{1}(1-p_{1})})/2$."
   ]
  },
  {
   "cell_type": "markdown",
   "metadata": {},
   "source": [
    "_SOL._ Operador densidade\n",
    "\\begin{align}\n",
    "\\rho_{3} &= p_{1}2^{-1}(|z_{+}\\rangle+|z_{-}\\rangle)(\\langle z_{+}|+\\langle z_{-}|) + p_{2}|z_{+}\\rangle\\langle z_{+}| \\\\\n",
    "& =p_{1}2^{-1}(|z_{+}\\rangle\\langle z_{+}|+|z_{-}\\rangle\\langle z_{+}|+|z_{+}\\rangle\\langle z_{-}|+|z_{-}\\rangle\\langle z_{-}|) + p_{2}|z_{+}\\rangle\\langle z_{+}| \\\\\n",
    "& = (p_{1}/2+p_{2}) |z_{+}\\rangle\\langle z_{+}|+p_{1}2^{-1}(|z_{-}\\rangle\\langle z_{+}|+|z_{+}\\rangle\\langle z_{-}|+|z_{-}\\rangle\\langle z_{-}|) \\\\\n",
    "&\\doteq \\begin{bmatrix}p_{1}/2+1-p_{1} & p_{1}/2 \\\\ p_{1}/2&p_{1}/2\\end{bmatrix} = \\begin{bmatrix}1-p_{1}/2 & p_{1}/2 \\\\ p_{1}/2&p_{1}/2\\end{bmatrix}.\n",
    "\\end{align}\n",
    "\n",
    "Autovalores\n",
    "\\begin{align}\n",
    "& \\det\\begin{bmatrix}(1-p_{1}/2-\\lambda) & p_{1}/2 \\\\ p_{1}/2 & (p_{1}/2-\\lambda)\\end{bmatrix} = 0 \\therefore\\ (1-p_{1}/2-\\lambda)(p_{1}/2-\\lambda) -p_{1}^{2}/4 =0 \\\\\n",
    "& \\therefore p_{1}/2-\\lambda - p_{1}^{2}/4 + (p_{1}/2)\\lambda -(p_{1}/2)\\lambda +\\lambda^{2} -p_{1}^{2}/4 =0 \\\\\n",
    "& \\therefore\\ \\lambda^{2} -\\lambda -p_{1}(p_{1}-1)/2=0 \\therefore\\ \\lambda = \\frac{1\\pm\\sqrt{1+4p_{1}(p_{1}-1)/2}}{2}.\n",
    "\\end{align}\n",
    "Notando que, para $\\lambda_{1}=\\big(1+\\sqrt{1+2p_{1}(p_{1}-1)}\\big)/2$, temos que $\\lambda_{2}=\\big(1-\\sqrt{1+2p_{1}(p_{1}-1)}\\big)/2=1-\\lambda_{1}.$ Assim $S_{vN}(\\rho_{3})=-\\lambda_{1}\\log_{2}(\\lambda_{1})-\\lambda_{2}\\log_{2}\\lambda_{2}=-\\lambda_{1}\\log_{2}(\\lambda_{1})-(1-\\lambda_{1})\\log_{2}(1-\\lambda_{1}).$"
   ]
  },
  {
   "cell_type": "markdown",
   "metadata": {},
   "source": [
    "---\n",
    "$5.$ Verifique que se $[\\rho,O]=\\mathbb{O}$ então $S_{wy}(O|\\rho)=0$."
   ]
  },
  {
   "cell_type": "markdown",
   "metadata": {},
   "source": [
    "_SOL._ Se $[\\rho,O]=\\mathbb{O}$ então $\\rho$ e $O$ compartilham a mesma base de autovetores. Agora, notando que se $\\rho=\\sum_{j}r_{j}|r_{j}\\rangle\\langle r_{j}|$ então $\\sqrt{\\rho}=\\sum_{j}\\sqrt{r_{j}}|r_{j}\\rangle\\langle r_{j}|.$ Como $\\sqrt{\\rho}$ e $O$ compartilham a mesma base de autovetores, então $[\\sqrt{\\rho},O]=\\mathbb{O}$. Agora, aplicando a a definição de entropia de Wigner-Yanase, obteremos $$S_{wy}(O|\\rho) = -\\frac{1}{2}Tr\\left([\\sqrt{\\rho},O]^{2}\\right)=-\\frac{1}{2}Tr\\left(\\mathbb{O}^{2}\\right)=0.$$"
   ]
  },
  {
   "cell_type": "markdown",
   "metadata": {},
   "source": [
    "---\n",
    "$6.$ Verifique que para estados puros, $\\rho=|\\psi\\rangle\\langle\\psi|$, a entropia de Wigner-Yanase coincide com a variância: $S_{wy}(O|\\rho)=\\mathrm{Var}(O)_{\\psi}$."
   ]
  },
  {
   "cell_type": "markdown",
   "metadata": {},
   "source": [
    "_SOL._ Nesse caso $\\sqrt{\\rho}=\\sqrt{|\\psi\\rangle\\langle\\psi|}=|\\psi\\rangle\\langle\\psi|=\\rho$. Assim\n",
    "\\begin{align}\n",
    "S_{wy}(O|\\rho) & = \\langle O^{2}\\rangle_{\\rho} - \\mathrm{Tr}\\left((O\\sqrt{\\rho})^{2}\\right) \\\\\n",
    "& = \\langle O^{2}\\rangle_{\\rho} - \\mathrm{Tr}\\left((O|\\psi\\rangle\\langle\\psi|)^{2}\\right) \\\\\n",
    "& = \\langle O^{2}\\rangle_{\\rho} - \\mathrm{Tr}\\left(O|\\psi\\rangle\\langle\\psi|O|\\psi\\rangle\\langle\\psi|\\right) \\\\\n",
    "& = \\langle O^{2}\\rangle_{\\rho} - \\langle\\psi|O|\\psi\\rangle\\langle\\psi|O|\\psi\\rangle \\\\\n",
    "& = \\langle O^{2}\\rangle_{\\rho} - \\langle O\\rangle_{\\rho}^{2} \\\\\n",
    "& = Var(O)_{\\rho}.\n",
    "\\end{align}"
   ]
  },
  {
   "cell_type": "code",
   "execution_count": null,
   "metadata": {},
   "outputs": [],
   "source": []
  }
 ],
 "metadata": {
  "kernelspec": {
   "display_name": "Python 3 (ipykernel)",
   "language": "python",
   "name": "python3"
  },
  "language_info": {
   "codemirror_mode": {
    "name": "ipython",
    "version": 3
   },
   "file_extension": ".py",
   "mimetype": "text/x-python",
   "name": "python",
   "nbconvert_exporter": "python",
   "pygments_lexer": "ipython3",
   "version": "3.11.1"
  }
 },
 "nbformat": 4,
 "nbformat_minor": 4
}
