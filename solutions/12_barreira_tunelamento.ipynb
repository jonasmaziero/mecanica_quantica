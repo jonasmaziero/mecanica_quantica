{
 "cells": [
  {
   "cell_type": "markdown",
   "metadata": {},
   "source": [
    "### Notas de aula de Mecânica Quântica <br> Autor: Jonas Maziero\n",
    "\n",
    "# Exercícios"
   ]
  },
  {
   "cell_type": "markdown",
   "metadata": {},
   "source": [
    "---\n",
    "$1.$ Dadas as definições $\\sinh x:=(e^{x}-e^{-x})/2$ e $\\cosh x:=(e^{x}+e^{-x})/2$, verifique que $\\cosh^{2}x-\\sinh^{2}x=1$."
   ]
  },
  {
   "cell_type": "markdown",
   "metadata": {},
   "source": [
    "_SOL._ Temos \n",
    "\\begin{align}\n",
    "& \\cosh^{2}x-\\sinh^{2}x = (e^{x}+e^{-x})(e^{x}+e^{-x})/4 - (e^{x}-e^{-x})(e^{x}-e^{-x})/4 \\\\\n",
    "& = (e^{2x}+e^{-2x}+2)/4 - (e^{2x}+e^{-2x}-2)/4 = 1.\n",
    "\\end{align}"
   ]
  },
  {
   "cell_type": "markdown",
   "metadata": {},
   "source": [
    "---\n",
    "$2.$ Uma camada de óxido, em um dispositivo semicondutor, forma uma barreira de $0,6\\text{ nm}$ de largura e $9\\text{ eV}$ de altura. Para elétrons acelerados com uma ddp de $4\\text{ V}$, qual é a fração deles que consegue atravessar a barreira? Qual deveria ser a ddp de aceleração para que o valor de $T$ seja o dobro desse valor?"
   ]
  },
  {
   "cell_type": "markdown",
   "metadata": {},
   "source": [
    "_SOL._ Aqui $E<U_{0}$ e o coeficiente de transmissão é $T = \\left(\\frac{\\sinh^{2}\\left(ak_{e}\\sqrt{\\frac{U_{0}}{E}-1}\\right)}{4\\frac{E}{U_{0}}\\left(1-\\frac{E}{U_{0}}\\right)}+1\\right)^{-1}$. Assim, para esses parâmetros, $T\\approx 4,23\\mathrm{x}10^{-6}$. Para resolver a segunda parte da questão, precisamos resolver uma equação transcendental. Fazendo isso obtemos que para dobrar $T$ devemos aplicar ao elétron uma ddp $V=4,48\\text{ V}$."
   ]
  },
  {
   "cell_type": "code",
   "execution_count": 6,
   "metadata": {},
   "outputs": [
    {
     "name": "stdout",
     "output_type": "stream",
     "text": [
      "ke =  10246335215.971977 , lambda =  6.132129366005285e-10\n",
      "kb =  11455751031.581665 , kb*a = 6.873450618948999\n",
      "ts =  483.1380194419781\n"
     ]
    },
    {
     "data": {
      "text/plain": [
       "4.231172206495169e-06"
      ]
     },
     "execution_count": 6,
     "metadata": {},
     "output_type": "execute_result"
    }
   ],
   "source": [
    "e = 1.60217662*10**-19 # C (carga elementar)\n",
    "me = 9.109382*10**-31 # kg (massa do elétron)\n",
    "import math\n",
    "h = 6.626069*10**-34 # Js (constante de Planck)\n",
    "hb = h/(2*math.pi) # hbar\n",
    "\n",
    "def T(E,U0,a,m): #2\n",
    "    ke = math.sqrt(2*m*E)/hb; kb = ke*math.sqrt(U0/E-1)\n",
    "    print('ke = ',ke,', lambda = ',2*math.pi/ke)\n",
    "    print('kb = ',kb,', kb*a =',kb*a)\n",
    "    ts = (math.exp(kb*a)-math.exp(-kb*a))/2; print('ts = ', ts)\n",
    "    return (1+ts**2/(4*(E/U0)*(1-E/U0)))**-1\n",
    "T(4*e,9*e,0.6*10**-9,me)"
   ]
  },
  {
   "cell_type": "code",
   "execution_count": 8,
   "metadata": {},
   "outputs": [
    {
     "data": {
      "image/png": "[encoded data removed]",
      "text/plain": [
       "<Figure size 640x480 with 1 Axes>"
      ]
     },
     "metadata": {},
     "output_type": "display_data"
    }
   ],
   "source": [
    "import numpy as np\n",
    "from matplotlib import pyplot as plt\n",
    "m = me; U0 = 9; a = 0.6*10**-9\n",
    "N = 1000; xmin = 2; xmax = 5; dx = (xmax-xmin)/N; x = np.zeros(N); y = np.zeros(N)\n",
    "for j in range(0,N):\n",
    "    x[j] = xmin + j*dx\n",
    "    ke = math.sqrt(2*m*x[j]*e)/hb; kb = ke*math.sqrt(U0/x[j]-1); ts = (math.exp(kb*a)-math.exp(-kb*a))/2\n",
    "    y[j] = (1+ts**2/(4*(x[j]/U0)*(1-x[j]/U0)))**-1 - 2*4.231171982709953*10**-6\n",
    "plt.plot(x,y); plt.xlabel(r'$E(eV)$'); plt.ylabel(r'$T(E)-2T(4eV)$'); plt.show()"
   ]
  },
  {
   "cell_type": "code",
   "execution_count": 10,
   "metadata": {},
   "outputs": [
    {
     "name": "stdout",
     "output_type": "stream",
     "text": [
      "4.482935428619385\n"
     ]
    }
   ],
   "source": [
    "from sympy import sqrt\n",
    "\n",
    "def fb(E):\n",
    "    U0 = 9; a = 0.6*10**-9; ke = sqrt(2*m*E*e)/hb; kb = sqrt((U0/E)-1)*ke\n",
    "    ts = (math.exp(kb*a)-math.exp(-kb*a))/2\n",
    "    return (1+ts**2/(4*(E/U0)*(1-E/U0)))**-1 - 2*4.231171982709953*10**-6\n",
    "%run numerics.ipynb\n",
    "xr,er = bissection(fb, 4, 5, 10**-6, 10**3); print(xr)"
   ]
  },
  {
   "cell_type": "markdown",
   "metadata": {},
   "source": [
    "---\n",
    "$3.$ Faça todos os cálculos necessários para obter o coeficiente de trasmissão para $E>U_{0}$, sob as mesmas condições iniciais usadas acima. Faça um gráfico de $T$ e $R$ versus $E/U_{0}$."
   ]
  },
  {
   "cell_type": "markdown",
   "metadata": {},
   "source": [
    "_SOL._ Para $k_{e}=\\sqrt{2mE}/\\hbar$ e $k_{b}=\\sqrt{2m(E-U_{0})}/\\hbar$, as soluções da EqSIT1D nas 3 regiões são\n",
    "\\begin{align}\n",
    "& \\Xi_{e} = c_{ed}e^{ik_{e}x}+c_{ee}e^{-ik_{e}x}, \\\\\n",
    "& \\Xi_{b} = c_{bd}e^{ik_{b}x}+c_{be}e^{-ik_{b}x}, \\\\\n",
    "& \\Xi_{d} = c_{dd}e^{ik_{e}x}+c_{de}e^{-ik_{e}x}.\n",
    "\\end{align}\n",
    "Pela condição inicial, temos $c_{de}=0$. Pela continuidade da função de onda e da sua derivada 1ª teremos\n",
    "\\begin{align}\n",
    "& \\Xi_{e}(0) = \\Xi_{b}(0) \\therefore c_{ed}+c_{ee}=c_{bd}+c_{be}, \\\\\n",
    "& \\Xi_{b}(a) = \\Xi_{d}(a) \\therefore c_{bd}e^{ik_{b}a}+c_{be}e^{-ik_{b}a}=c_{dd}e^{ik_{e}a}, \\\\\n",
    "& \\partial_{x}\\Xi_{e}(0) = \\partial_{x}\\Xi_{b}(0) \\therefore ik_{e}(c_{ed}-c_{ee})=ik_{b}(c_{bd}-c_{be}), \\\\\n",
    "& \\partial_{x}\\Xi_{b}(a) = \\partial_{x}\\Xi_{d}(a) \\therefore ik_{b}(c_{bd}e^{ik_{b}a}-c_{be}e^{-ik_{b}a})=ik_{e}c_{dd}e^{ik_{e}a}.\n",
    "\\end{align}\n",
    "Esse sistema de eqs. pode ser escrito como \n",
    "$$\\begin{bmatrix}1&-1&-1&0 \\\\ 0&e^{ik_{b}a}&e^{-ik_{b}a}&-e^{ik_{e}a}\\\\ -k_{e}&-k_{b}&k_{b}&0 \\\\ 0&k_{b}e^{ik_{b}a}&-k_{b}e^{-ik_{b}a}&-k_{e}e^{ik_{e}a} \\end{bmatrix}\\begin{bmatrix}c_{ee}\\\\c_{bd}\\\\c_{be}\\\\c_{dd}\\end{bmatrix}=\\begin{bmatrix}-1\\\\0\\\\-k_{e}\\\\ 0 \\end{bmatrix}.$$"
   ]
  },
  {
   "cell_type": "code",
   "execution_count": 14,
   "metadata": {},
   "outputs": [
    {
     "data": {
      "text/latex": [
       "$\\displaystyle \\left[\\begin{matrix}1 & -1 & -1 & 0\\\\0 & e^{1.0 i a k_{b}} & e^{- 1.0 i a k_{b}} & - e^{1.0 i a k_{e}}\\\\- k_{e} & - k_{b} & k_{b} & 0\\\\0 & k_{b} e^{1.0 i a k_{b}} & - k_{b} e^{- 1.0 i a k_{b}} & - k_{e} e^{1.0 i a k_{e}}\\end{matrix}\\right]$"
      ],
      "text/plain": [
       "Matrix([\n",
       "[     1,                       -1,                         -1,                         0],\n",
       "[     0,       exp(1.0*I*a*k_{b}),        exp(-1.0*I*a*k_{b}),       -exp(1.0*I*a*k_{e})],\n",
       "[-k_{e},                   -k_{b},                      k_{b},                         0],\n",
       "[     0, k_{b}*exp(1.0*I*a*k_{b}), -k_{b}*exp(-1.0*I*a*k_{b}), -k_{e}*exp(1.0*I*a*k_{e})]])"
      ]
     },
     "execution_count": 14,
     "metadata": {},
     "output_type": "execute_result"
    }
   ],
   "source": [
    "from sympy import symbols, Matrix, exp, simplify\n",
    "a,kb,ke = symbols('a k_{b} k_{e}')\n",
    "A = Matrix([[1,-1,-1,0],[0,exp(1j*kb*a),exp(-1j*kb*a),-exp(1j*ke*a)],\n",
    "            [-ke,-kb,kb,0],[0,kb*exp(1j*kb*a),-kb*exp(-1j*kb*a),-ke*exp(1j*ke*a)]])\n",
    "A # matrix de coeficientes"
   ]
  },
  {
   "cell_type": "code",
   "execution_count": 16,
   "metadata": {},
   "outputs": [
    {
     "data": {
      "text/latex": [
       "$\\displaystyle \\frac{4 c_{ed} k_{b} k_{e} e^{1.0 i a \\left(k_{b} - k_{e}\\right)}}{- k_{b}^{2} e^{2.0 i a k_{b}} + k_{b}^{2} + 2 k_{b} k_{e} e^{2.0 i a k_{b}} + 2 k_{b} k_{e} - k_{e}^{2} e^{2.0 i a k_{b}} + k_{e}^{2}}$"
      ],
      "text/plain": [
       "4*c_{ed}*k_{b}*k_{e}*exp(1.0*I*a*(k_{b} - k_{e}))/(-k_{b}**2*exp(2.0*I*a*k_{b}) + k_{b}**2 + 2*k_{b}*k_{e}*exp(2.0*I*a*k_{b}) + 2*k_{b}*k_{e} - k_{e}**2*exp(2.0*I*a*k_{b}) + k_{e}**2)"
      ]
     },
     "execution_count": 16,
     "metadata": {},
     "output_type": "execute_result"
    }
   ],
   "source": [
    "ced = symbols('c_{ed}') # cdd = |x>_4 = A^-1[4,1]|y>_1 + A^-1[4,3]|y>_3 \n",
    "Ainv = A.inv(); \n",
    "cdd = Ainv[3,0]*(-ced) + Ainv[3,2]*(-ke*ced); simplify(cdd) # inversa"
   ]
  },
  {
   "cell_type": "markdown",
   "metadata": {},
   "source": [
    "Para $A|x\\rangle=|y\\rangle,$ temos que $|x\\rangle=A^{-1}|y\\rangle.$ Simplificando essa expressão, obtemos o coeficiente de transmissão:\n",
    "\\begin{equation}\n",
    "T = \\frac{|c_{dd}|^{2}}{|c_{ed}|^{2}} = \\left(1+\\frac{(k_{b}^{2}-k_{e}^{2})^{2}}{4k_{b}^{2}k_{e}^{2}}\\sin^{2}(k_{b}a)\\right)^{-1}.\n",
    "\\end{equation}\n",
    "O gráficos de $T$ e $R$ estão mostrados na figura abaixo, tanto para $E<U_{0}$ quanto para $E>U_{0}.$"
   ]
  },
  {
   "cell_type": "code",
   "execution_count": 18,
   "metadata": {},
   "outputs": [
    {
     "data": {
      "application/vnd.jupyter.widget-view+json": {
       "model_id": "1c2c26d43eba43e995c73b5538cf54e4",
       "version_major": 2,
       "version_minor": 0
      },
      "text/plain": [
       "interactive(children=(FloatSlider(value=2.41, description='a', max=5.0, min=0.01), Output()), _dom_classes=('w…"
      ]
     },
     "execution_count": 18,
     "metadata": {},
     "output_type": "execute_result"
    }
   ],
   "source": [
    "from ipywidgets import interactive\n",
    "\n",
    "def EltU0(a):\n",
    "    fig = plt.figure(figsize=(8,5)); U0 = 1; m = 1; hbb = 1\n",
    "    x = np.arange(0.01,0.999,0.005); ke = np.sqrt(2*m*x)/hbb; kb = np.sqrt((U0/x)-1)*ke\n",
    "    T = 1/(1+((np.sinh(kb*a)**2)*((kb**2+ke**2)**2/(4*kb**2*ke**2)))); R = 1-T\n",
    "    plt.plot(x,R,color='blue'); plt.plot(x,T,color='red')\n",
    "    x = np.arange(1.001,12,0.005); ke = np.sqrt(2*m*x)/hbb; kb = np.sqrt(1-U0/x)*ke\n",
    "    T = 1/(1+(((np.sin(kb*a))**2)*((kb**2-ke**2)**2/(4*kb**2*ke**2)))); R = 1-T\n",
    "    plt.plot(x,R,color='blue'); plt.plot(x,T,color='red')\n",
    "    plt.xlim(0,12); plt.ylim(-0.01,1.01)\n",
    "    plt.xlabel(r'$E/U_{0}$'); plt.legend((r'$R$',r'$T$'),loc=(1.01,0.5))\n",
    "    plt.annotate(r'$a=$'+str(a)[:5], xy=(12,0.9), xytext=(12.1,0.9), fontsize=12)\n",
    "    plt.show()\n",
    "    \n",
    "interactive(EltU0, a=(0.01,5,0.1))"
   ]
  }
 ],
 "metadata": {
  "kernelspec": {
   "display_name": "Python 3 (ipykernel)",
   "language": "python",
   "name": "python3"
  },
  "language_info": {
   "codemirror_mode": {
    "name": "ipython",
    "version": 3
   },
   "file_extension": ".py",
   "mimetype": "text/x-python",
   "name": "python",
   "nbconvert_exporter": "python",
   "pygments_lexer": "ipython3",
   "version": "3.12.2"
  }
 },
 "nbformat": 4,
 "nbformat_minor": 4
}
