{
 "cells": [
  {
   "cell_type": "markdown",
   "id": "c0ed1de1-24bc-4657-aa3b-426842d98ff3",
   "metadata": {},
   "source": [
    "### Notas de aula de Mecânica Quântica <br> Autor: Jonas Maziero\n",
    "# Exercícios"
   ]
  },
  {
   "cell_type": "markdown",
   "id": "d0dd03ae",
   "metadata": {},
   "source": [
    "---\n",
    "$1.$ Para o exemplo do oscilador harmônico com força constante, no contexto da teoria de perturbação dependente do tempo, dado que a probabilidade de transição de um estado inicial $|\\psi_{i}\\rangle$ para um estado final $|\\psi_{f}\\rangle$ é dada por $Pr(|\\psi_{i}\\rangle\\rightarrow|\\psi_{f}\\rangle) = |\\langle\\psi_{f}|\\psi_{t}\\rangle|^{2}$, obtenha $Pr(|0\\rangle\\rightarrow|1\\rangle)$."
   ]
  },
  {
   "cell_type": "markdown",
   "id": "f14a4629",
   "metadata": {},
   "source": [
    "_SOL._ Obtivemos nas notas de aula o estado corrigido perturbativamente mas não normalizado:\n",
    "\\begin{align}\n",
    "|\\tilde{\\psi}_{t}\\rangle & = \\left(1+\\left(\\frac{g}{\\hbar\\omega}\\right)^{2}\\left(i\\omega t + e^{-i\\omega t}-1 \\right)\\right)e^{-i\\omega t/2}|0\\rangle + \\frac{g}{\\hbar\\omega}\\left(e^{i\\omega t}-1\\right)e^{-3i\\omega t/2}|1\\rangle + \\left(\\frac{g}{\\hbar\\omega}\\right)^{2}2^{-1/2}\\left(e^{2i\\omega t}-1\\right)^{2}e^{-5i\\omega t/2}|2\\rangle \\\\\n",
    "& = \\tilde{c}_0 (t)|0\\rangle + \\tilde{c}_1 (t)|1\\rangle + \\tilde{c}_2 (t)|2\\rangle.\n",
    "\\end{align}\n",
    "O estado evoluído normalizado é\n",
    "\\begin{align}\n",
    "|\\psi_t\\rangle & = \\frac{|\\tilde{\\psi}_{t}\\rangle}{|||\\tilde{\\psi}_{t}\\rangle||} = \\frac{|\\tilde{\\psi}_{t}\\rangle}{\\sqrt{\\langle\\tilde{\\psi}_{t}|\\tilde{\\psi}_{t}\\rangle}} \\\\\n",
    "& = \\frac{|\\tilde{\\psi}_{t}\\rangle}{\\sqrt{|\\tilde{c}_0 (t)|^2 + |\\tilde{c}_1 (t)|^2+ |\\tilde{c}_2 (t)|^2}} \\\\\n",
    "& = \\frac{\\tilde{c}_0 (t)|0\\rangle + \\tilde{c}_1 (t)|1\\rangle + \\tilde{c}_2 (t)|2\\rangle}{\\sqrt{|\\tilde{c}_0 (t)|^2 + |\\tilde{c}_1 (t)|^2+ |\\tilde{c}_2 (t)|^2}} \\\\\n",
    "& = \\frac{\\tilde{c}_0 (t)|0\\rangle + \\tilde{c}_1 (t)|1\\rangle + \\tilde{c}_2 (t)|2\\rangle}{\\sqrt{1+ \\Big(\\frac{g}{\\hbar\\omega}\\Big)^4\\big((\\omega t)^2-2\\omega t\\sin(\\omega t) + 2\\sin^2(\\omega t) - 2\\cos(\\omega t) + 2\\big)}}.\n",
    "\\end{align}\n",
    "\n",
    "Com isso, a probabilidade de transição do estado fundamental para o 1º estado excitado é obtida como segue:\n",
    "\\begin{align}\n",
    "Pr(|0\\rangle\\rightarrow|1\\rangle) & = |\\langle 1|\\psi_t\\rangle|^2 \\\\\n",
    "& =\\frac{|\\tilde{c}_1 (t)|^2}{1+ \\Big(\\frac{g}{\\hbar\\omega}\\Big)^4\\big((\\omega t)^2-2\\omega t\\sin(\\omega t) + 2\\sin^2(\\omega t) - 2\\cos(\\omega t) + 2\\big)} \\\\\n",
    "& =\\frac{\\Big(\\frac{g}{\\hbar\\omega}\\Big)^2 2(1-\\cos(\\omega t))}{1+ \\Big(\\frac{g}{\\hbar\\omega}\\Big)^4\\big((\\omega t)^2-2\\omega t\\sin(\\omega t) + 2\\sin^2(\\omega t) - 2\\cos(\\omega t) + 2\\big)}.\n",
    "\\end{align}"
   ]
  },
  {
   "cell_type": "code",
   "execution_count": 10,
   "id": "83d28bd6",
   "metadata": {},
   "outputs": [
    {
     "data": {
      "text/latex": [
       "$\\displaystyle \\frac{g^{4} \\omega^{2} t^{2} - 2.0 g^{4} \\omega t \\sin{\\left(\\omega t \\right)} + 2.0 g^{4} \\sin^{2}{\\left(\\omega t \\right)} - 2.0 g^{4} \\cos{\\left(\\omega t \\right)} + 2.0 g^{4} + \\hbar^{4} \\omega^{4}}{\\hbar^{4} \\omega^{4}}$"
      ],
      "text/plain": [
       "(g**4*omega**2*t**2 - 2.0*g**4*omega*t*sin(omega*t) + 2.0*g**4*sin(omega*t)**2 - 2.0*g**4*cos(omega*t) + 2.0*g**4 + hbar**4*omega**4)/(hbar**4*omega**4)"
      ]
     },
     "execution_count": 10,
     "metadata": {},
     "output_type": "execute_result"
    }
   ],
   "source": [
    "from sympy import symbols, conjugate, simplify, sin, cos, sqrt\n",
    "g,hb,om,t = symbols('g hbar omega t', positive=True)\n",
    "c0t = 1+((g/(hb*om))**2)*(1j*om*t+cos(om*t)-1j*sin(om*t)-1); c0t\n",
    "c1t = (g/(hb*om))*(cos(om*t)+1j*sin(om*t)-1); c1t\n",
    "c2t = ((g/(hb*om))**2)*(cos(2*om*t)+1j*sin(2*om*t)-1)/sqrt(2); c2t\n",
    "N2 = c0t*conjugate(c0t) + c1t*conjugate(c1t) + c2t*conjugate(c2t); simplify(N2)"
   ]
  },
  {
   "cell_type": "code",
   "execution_count": 11,
   "id": "21e3ba9b-4e7b-4496-8562-a6ec788e8a5e",
   "metadata": {},
   "outputs": [
    {
     "data": {
      "text/latex": [
       "$\\displaystyle \\frac{g^{2} \\cdot \\left(2.0 - 2.0 \\cos{\\left(\\omega t \\right)}\\right)}{\\hbar^{2} \\omega^{2}}$"
      ],
      "text/plain": [
       "g**2*(2.0 - 2.0*cos(omega*t))/(hbar**2*omega**2)"
      ]
     },
     "execution_count": 11,
     "metadata": {},
     "output_type": "execute_result"
    }
   ],
   "source": [
    "simplify(c1t*conjugate(c1t))"
   ]
  },
  {
   "cell_type": "markdown",
   "id": "6c5c0c83-d14c-4394-8b9f-5c66a171e124",
   "metadata": {},
   "source": [
    "---\n",
    "$2.$ Considere um sistema quântico constituído por um átomo de 2 níveis (AT) e por um oscilador harmônico quântico unidimensional (OH). Se AT e OH não interagirem, o hamiltoniano do sistema é dado por $H_0 = -\\frac{\\hbar\\omega_a}{2}\\sigma_z + \\hbar\\omega_o(a^\\dagger a+I/2),$ com $\\sigma_z = |1\\rangle\\langle 1|-|2\\rangle\\langle 2|.$ Mostre que os autovalores e autovetores de $H_0$ são dados, respectivamente, por $E_{j,n}^{(0)} = -\\frac{\\hbar\\omega_a}{2}(-1)^{j-1} + \\hbar\\omega_o(n+1/2)$ e $|\\psi_{j,n}^{(0)}\\rangle = |j\\rangle_a\\otimes|n\\rangle_o$. Consideremos agora que a interação do AT com o OH é descrita pelo seguinte hamiltoniano de interação $H_1 = \\frac{-i\\hbar g}{2}(\\sigma_+ a + \\sigma_- a^\\dagger),$ em que $\\sigma_+ = |2\\rangle\\langle 1|$ e $\\sigma_- = |1\\rangle\\langle 2|$ são, respectivamente, os operadores de levantamento e abaixamento para AT. Sempre podemos escrever o estado evoluído como $|\\psi_t\\rangle = \\sum_{j=1}^{2}\\sum_{n=0}^{\\infty}a_{j,n}(t)e^{-iE_{j,n}^{(0)}t/\\hbar}|j\\rangle\\otimes|n\\rangle.$ Para o sistema preparado em um estado inicial $|\\psi_{t=0}\\rangle = |1\\rangle_a\\otimes|1\\rangle_o$, usando teoria de perturbação dependente do tempo de 1ª ordem, mostre que, no instante de tempo $t$, encontraremos o sistema no estado $|2\\rangle_a\\otimes|0\\rangle_o$ com probabilidade proporcioanal a $Pr(|2\\rangle_a\\otimes|0\\rangle_o)_t = \\frac{g^2}{2\\omega_{(2,0),(1,1)}^2} \\big(1 - \\cos(\\omega_{(2,0),(1,1)}t)\\big)$, em que $\\omega_{(j,n),(j',n')} = E_{j,n}^{(0)} - E_{j',n'}^{(0)}$ é a frequência de Bohr."
   ]
  },
  {
   "cell_type": "markdown",
   "id": "ae6f30a0-d4d4-4557-9ede-2fdc2d0dd2e6",
   "metadata": {},
   "source": [
    "_SOL._ Primeiramente temos que notar que AT e OH são graus de liberdade diferentes. Sabemos que $\\sigma_z = |1\\rangle\\langle 1| - |2\\rangle\\langle 2|$. Portanto $\\{|1\\rangle,|2\\rangle\\}$ são os autovetores do átomo. Já os autovetores do OHQ1D são $|n\\rangle$ com $n=0,1,\\cdots,\\infty$. Por conseguinte, a base conjunta atua no espaço vetorial conjunto $\\mathcal{H}_a\\otimes\\mathcal{H}_o$ e é\n",
    "$$|\\psi_{j,n}^{(0)}\\rangle = \\{|j\\rangle\\otimes|n\\rangle\\},\\ j=1,2,\\ n=0,1,\\cdots,\\infty.$$\n",
    "Esses são os autovetores de $H_0$. Os autovalores são obtidos como segue\n",
    "\\begin{align}\n",
    "H_0|j\\rangle\\otimes|n\\rangle & = \\Big(-\\frac{\\hbar\\omega_a}{2}\\sigma_z\\otimes I_o + I_a\\otimes\\hbar\\omega_o(a^\\dagger a+I/2)\\Big)(|j\\rangle\\otimes|n\\rangle) \\\\\n",
    "& = -\\frac{\\hbar\\omega_a}{2}\\sigma_z|j\\rangle\\otimes I_o|n\\rangle + I_a|j\\rangle\\otimes\\hbar\\omega_o(a^\\dagger a+I/2)|n\\rangle \\\\\n",
    "& = -\\frac{\\hbar\\omega_a}{2}(-1)^{j-1}|j\\rangle\\otimes |n\\rangle + |j\\rangle\\otimes\\hbar\\omega_o(n+1/2)|n\\rangle \\\\\n",
    "& = \\Big(-\\frac{\\hbar\\omega_a}{2}(-1)^{j-1} + \\hbar\\omega_o(n+1/2)\\Big)|j\\rangle\\otimes|n\\rangle.\n",
    "\\end{align}\n",
    "Os autovalores de $H_0$ são\n",
    "$$E_{j,n}^{(0)} = -\\frac{\\hbar\\omega_a}{2}(-1)^{j-1} + \\hbar\\omega_o(n+1/2).$$\n",
    "\n",
    "A probabilidade de, em uma medida da energia do átomo e do número de excitações do OHQ1D, obtermos o valor correspondente ao autovetor $|2\\rangle\\otimes|0\\rangle$ é dado por\n",
    "\\begin{align}\n",
    "Pr(|2\\rangle_a\\otimes|0\\rangle_o)_t & = |(\\langle 2|\\otimes\\langle 0|)|\\psi_t\\rangle|^2 \\\\\n",
    "& = |(\\langle 2|\\otimes\\langle 0|)\\sum_{j=1}^{2}\\sum_{n=0}^{\\infty}a_{j,n}(t)e^{-iE_{j,n}^{(0)}t/\\hbar}|j\\rangle\\otimes|n\\rangle|^2 \\\\\n",
    "& = |\\sum_{j=1}^{2}\\sum_{n=0}^{\\infty}a_{j,n}(t)e^{-iE_{j,n}^{(0)}t/\\hbar}(\\langle 2|\\otimes\\langle 0|)(|j\\rangle\\otimes|n\\rangle)|^2 \\\\\n",
    "& = |\\sum_{j=1}^{2}\\sum_{n=0}^{\\infty}a_{j,n}(t)e^{-iE_{j,n}^{(0)}t/\\hbar}\\delta_{2,j}\\delta_{0,n}|^2 \\\\\n",
    "& = |a_{2,0}(t)e^{-iE_{2,0}^{(0)}t/\\hbar}|^2 \\\\\n",
    "& = |a_{2,0}(t)|^2.\n",
    "\\end{align}\n",
    "\n",
    "Da expansão de Rayleigh-Schrödinger $a_{j,n}(t) = \\sum_{k=0}^{\\infty}a_{j,n}^{(k)}(t)\\xi^k$, considerando correção teremos que\n",
    "$$a_{j,n}(t) \\approx a_{j,n}^{(0)}(t) + a_{j,n}^{(1)}(t) = a_{j,n}(0) + a_{j,n}^{(1)}(t).$$\n",
    "Temos das condições iniciais que\n",
    "$$a_{j,n}(0) = \\delta_{j,1}\\delta_{n,1}.$$\n",
    "As correções de ordem $k$ são calculadas usando\n",
    "$$a_{j,n}^{(k)}(t) = \\frac{1}{i\\hbar}\\int_0^t dt' \\sum_{j'=1}^2 \\sum_{n'=0}^\\infty a_{j',n'}^{(k-1)}(t) e^{i\\omega_{(j,n),(j',n')}t'}\\langle\\psi_{j',n'}^{(0)}|H_1|\\psi_{j,n}^{(0)}\\rangle,$$\n",
    "em que a frequência de Bohr é\n",
    "$$\\omega_{(j,n),(j',n')} = E_{j,n}^{(0)} - E_{j',n'}^{(0)}.$$\n",
    "\n",
    "A correção de 1ª ordem é então dada por\n",
    "\\begin{align}\n",
    "a_{j,n}^{(1)}(t) & = \\frac{1}{i\\hbar}\\int_0^t dt' \\sum_{j'=1}^2 \\sum_{n'=0}^\\infty a_{j',n'}^{(0)}(t) e^{i\\omega_{(j,n),(j',n')}t'}\\langle\\psi_{j',n'}^{(0)}|H_1|\\psi_{j,n}^{(0)}\\rangle \\\\\n",
    "& = \\frac{1}{i\\hbar}\\int_0^t dt' \\sum_{j'=1}^2 \\sum_{n'=0}^\\infty a_{j',n'}(0) e^{i\\omega_{(j,n),(j',n')}t'}\\langle\\psi_{j',n'}^{(0)}|H_1|\\psi_{j,n}^{(0)}\\rangle \\\\\n",
    "& = \\frac{1}{i\\hbar}\\int_0^t dt' \\sum_{j'=1}^2 \\sum_{n'=0}^\\infty \\delta_{j',1}\\delta_{n',1} e^{i\\omega_{(j,n),(j',n')}t'}\\langle\\psi_{j',n'}^{(0)}|H_1|\\psi_{j,n}^{(0)}\\rangle \\\\\n",
    "& = \\frac{1}{i\\hbar}\\int_0^t dt' e^{i\\omega_{(j,n),(1,1)}t'}\\langle\\psi_{1,1}^{(0)}|H_1|\\psi_{j,n}^{(0)}\\rangle.\n",
    "\\end{align}\n",
    "\n",
    "Neste problema, queremos calcular\n",
    "\\begin{align}\n",
    "a_{2,0}^{(1)}(t) & = \\frac{1}{i\\hbar}\\int_0^t dt' e^{i\\omega_{(2,0),(1,1)}t'}\\langle\\psi_{1,1}^{(0)}|H_1|\\psi_{2,0}^{(0)}\\rangle \\\\\n",
    "& = \\frac{1}{i\\hbar}\\int_0^t dt' e^{i\\omega_{(2,0),(1,1)}t'}(-i\\hbar g/2) \\\\\n",
    "& = -\\frac{g}{2} \\Big(\\frac{ e^{i\\omega_{(2,0),(1,1)}t'} }{ i\\omega_{(2,0),(1,1)} }\\Big)_0^t \\\\\n",
    "& = \\frac{ig}{2\\omega_{(2,0),(1,1)}} \\Big(e^{i\\omega_{(2,0),(1,1)}t} -1\\Big),\n",
    "\\end{align}\n",
    "em que usamos\n",
    "\\begin{align}\n",
    "\\langle\\psi_{1,1}^{(0)}|H_1|\\psi_{2,0}^{(0)}\\rangle & = (\\langle 1|\\otimes\\langle 1|)(-i\\hbar g/2)(\\sigma_+ a + \\sigma_- a^\\dagger)(|2\\rangle\\otimes|0\\rangle) \\\\\n",
    "& = (\\langle 1|\\otimes\\langle 1|)(-i\\hbar g/2)\\big(|\\oslash\\rangle\\otimes|\\oslash\\rangle)  + |1\\rangle\\otimes \\sqrt{0+1}|0+1\\rangle\\big) \\\\\n",
    "& = -i\\hbar g/2.\n",
    "\\end{align}\n",
    "\n",
    "Com isso, podemos escrever a probabilidade aproximada como\n",
    "\\begin{align}\n",
    "Pr(|2\\rangle_a\\otimes|0\\rangle_o)_t & = |a_{2,0}(t)|^2 \\approx |a_{2,0}^{(0)}(t)|^2 + |a_{2,0}^{(1)}(t)|^2 \\\\\n",
    "& = |a_{2,0}(0)|^2 + \\frac{g^2}{4\\omega_{(2,0),(1,1)^2}} \\Big(e^{i\\omega_{(2,0),(1,1)}t} -1\\Big)\\Big(e^{-i\\omega_{(2,0),(1,1)}t} -1\\Big) \\\\\n",
    "& = 0 + \\frac{g^2}{4\\omega_{(2,0),(1,1)}^2} \\Big(1 -e^{-i\\omega_{(2,0),(1,1)}t}  e^{i\\omega_{(2,0),(1,1)}t} +1\\Big) \\\\\n",
    "& = \\frac{g^2}{2\\omega_{(2,0),(1,1)}^2} \\big(1 - \\cos(\\omega_{(2,0),(1,1)}t)\\big).\n",
    "\\end{align}"
   ]
  },
  {
   "cell_type": "code",
   "execution_count": null,
   "id": "e316de25-7728-4739-a51e-1343c80e9785",
   "metadata": {},
   "outputs": [],
   "source": []
  }
 ],
 "metadata": {
  "kernelspec": {
   "display_name": "Python 3 (ipykernel)",
   "language": "python",
   "name": "python3"
  },
  "language_info": {
   "codemirror_mode": {
    "name": "ipython",
    "version": 3
   },
   "file_extension": ".py",
   "mimetype": "text/x-python",
   "name": "python",
   "nbconvert_exporter": "python",
   "pygments_lexer": "ipython3",
   "version": "3.11.1"
  }
 },
 "nbformat": 4,
 "nbformat_minor": 5
}
