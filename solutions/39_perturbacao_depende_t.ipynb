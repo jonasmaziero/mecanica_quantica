{
 "cells": [
  {
   "cell_type": "markdown",
   "id": "c0ed1de1-24bc-4657-aa3b-426842d98ff3",
   "metadata": {},
   "source": [
    "### Notas de aula de Mecânica Quântica <br> Autor: Jonas Maziero\n",
    "# Exercícios"
   ]
  },
  {
   "cell_type": "markdown",
   "id": "d0dd03ae",
   "metadata": {},
   "source": [
    "---\n",
    "$1.$ Para o exemplo do oscilador harmônico com força constante, no contexto da teoria de perturbação dependente do tempo, dado que a probabilidade de transição de um estado inicial $|\\psi_{i}\\rangle$ para um estado final $|\\psi_{f}\\rangle$ é dada por $Pr(|\\psi_{i}\\rangle\\rightarrow|\\psi_{f}\\rangle) = |\\langle\\psi_{f}|\\psi_{t}\\rangle|^{2}$, obtenha $Pr(|0\\rangle\\rightarrow|1\\rangle)$."
   ]
  },
  {
   "cell_type": "markdown",
   "id": "f14a4629",
   "metadata": {},
   "source": [
    "_SOL._ Obtivemos nas notas de aula o estado corrigido perturbativamente mas não normalizado:\n",
    "\\begin{align}\n",
    "|\\tilde{\\psi}_{t}\\rangle & = \\left(1+\\left(\\frac{g}{\\hbar\\omega}\\right)^{2}\\left(i\\omega t + e^{-i\\omega t}-1 \\right)\\right)e^{-i\\omega t/2}|0\\rangle + \\frac{g}{\\hbar\\omega}\\left(e^{i\\omega t}-1\\right)e^{-3i\\omega t/2}|1\\rangle + \\left(\\frac{g}{\\hbar\\omega}\\right)^{2}2^{-1/2}\\left(e^{2i\\omega t}-1\\right)^{2}e^{-5i\\omega t/2}|2\\rangle \\\\\n",
    "& = \\tilde{c}_0 (t)|0\\rangle + \\tilde{c}_1 (t)|1\\rangle + \\tilde{c}_2 (t)|2\\rangle.\n",
    "\\end{align}\n",
    "O estado evoluído normalizado é\n",
    "\\begin{align}\n",
    "|\\psi_t\\rangle & = \\frac{|\\tilde{\\psi}_{t}\\rangle}{|||\\tilde{\\psi}_{t}\\rangle||} = \\frac{|\\tilde{\\psi}_{t}\\rangle}{\\sqrt{\\langle\\tilde{\\psi}_{t}|\\tilde{\\psi}_{t}\\rangle}} \\\\\n",
    "& = \\frac{|\\tilde{\\psi}_{t}\\rangle}{\\sqrt{|\\tilde{c}_0 (t)|^2 + |\\tilde{c}_1 (t)|^2+ |\\tilde{c}_2 (t)|^2}} \\\\\n",
    "& = \\frac{\\tilde{c}_0 (t)|0\\rangle + \\tilde{c}_1 (t)|1\\rangle + \\tilde{c}_2 (t)|2\\rangle}{\\sqrt{|\\tilde{c}_0 (t)|^2 + |\\tilde{c}_1 (t)|^2+ |\\tilde{c}_2 (t)|^2}} \\\\\n",
    "& = \\frac{\\tilde{c}_0 (t)|0\\rangle + \\tilde{c}_1 (t)|1\\rangle + \\tilde{c}_2 (t)|2\\rangle}{\\sqrt{1+ \\Big(\\frac{g}{\\hbar\\omega}\\Big)^4\\big((\\omega t)^2-2\\omega t\\sin(\\omega t) + 2\\sin^2(\\omega t) - 2\\cos(\\omega t) + 2\\big)}}.\n",
    "\\end{align}\n",
    "\n",
    "Com isso, a probabilidade de transição do estado fundamental para o 1º estado excitado é obtida como segue:\n",
    "\\begin{align}\n",
    "Pr(|0\\rangle\\rightarrow|1\\rangle) & = |\\langle 1|\\psi_t\\rangle|^2 \\\\\n",
    "& =\\frac{|\\tilde{c}_1 (t)|^2}{1+ \\Big(\\frac{g}{\\hbar\\omega}\\Big)^4\\big((\\omega t)^2-2\\omega t\\sin(\\omega t) + 2\\sin^2(\\omega t) - 2\\cos(\\omega t) + 2\\big)} \\\\\n",
    "& =\\frac{\\Big(\\frac{g}{\\hbar\\omega}\\Big)^2 2(1-\\cos(\\omega t))}{1+ \\Big(\\frac{g}{\\hbar\\omega}\\Big)^4\\big((\\omega t)^2-2\\omega t\\sin(\\omega t) + 2\\sin^2(\\omega t) - 2\\cos(\\omega t) + 2\\big)}.\n",
    "\\end{align}"
   ]
  },
  {
   "cell_type": "code",
   "execution_count": 10,
   "id": "83d28bd6",
   "metadata": {},
   "outputs": [
    {
     "data": {
      "text/latex": [
       "$\\displaystyle \\frac{g^{4} \\omega^{2} t^{2} - 2.0 g^{4} \\omega t \\sin{\\left(\\omega t \\right)} + 2.0 g^{4} \\sin^{2}{\\left(\\omega t \\right)} - 2.0 g^{4} \\cos{\\left(\\omega t \\right)} + 2.0 g^{4} + \\hbar^{4} \\omega^{4}}{\\hbar^{4} \\omega^{4}}$"
      ],
      "text/plain": [
       "(g**4*omega**2*t**2 - 2.0*g**4*omega*t*sin(omega*t) + 2.0*g**4*sin(omega*t)**2 - 2.0*g**4*cos(omega*t) + 2.0*g**4 + hbar**4*omega**4)/(hbar**4*omega**4)"
      ]
     },
     "execution_count": 10,
     "metadata": {},
     "output_type": "execute_result"
    }
   ],
   "source": [
    "from sympy import symbols, conjugate, simplify, sin, cos, sqrt\n",
    "g,hb,om,t = symbols('g hbar omega t', positive=True)\n",
    "c0t = 1+((g/(hb*om))**2)*(1j*om*t+cos(om*t)-1j*sin(om*t)-1); c0t\n",
    "c1t = (g/(hb*om))*(cos(om*t)+1j*sin(om*t)-1); c1t\n",
    "c2t = ((g/(hb*om))**2)*(cos(2*om*t)+1j*sin(2*om*t)-1)/sqrt(2); c2t\n",
    "N2 = c0t*conjugate(c0t) + c1t*conjugate(c1t) + c2t*conjugate(c2t); simplify(N2)"
   ]
  },
  {
   "cell_type": "code",
   "execution_count": 11,
   "id": "21e3ba9b-4e7b-4496-8562-a6ec788e8a5e",
   "metadata": {},
   "outputs": [
    {
     "data": {
      "text/latex": [
       "$\\displaystyle \\frac{g^{2} \\cdot \\left(2.0 - 2.0 \\cos{\\left(\\omega t \\right)}\\right)}{\\hbar^{2} \\omega^{2}}$"
      ],
      "text/plain": [
       "g**2*(2.0 - 2.0*cos(omega*t))/(hbar**2*omega**2)"
      ]
     },
     "execution_count": 11,
     "metadata": {},
     "output_type": "execute_result"
    }
   ],
   "source": [
    "simplify(c1t*conjugate(c1t))"
   ]
  },
  {
   "cell_type": "markdown",
   "id": "6c5c0c83-d14c-4394-8b9f-5c66a171e124",
   "metadata": {},
   "source": [
    "---\n",
    "$2.$ Considere um sistema quântico constituído por um átomo de 2 níveis (AT) e por um oscilador harmônico quântico unidimensional (OH). Se AT e OH não interagirem, o hamiltoniano do sistema é dado por $H_0 = -\\frac{\\hbar\\omega_a}{2}\\sigma_z + \\hbar\\omega_o(a^\\dagger a+I/2),$ com $\\sigma_z = |1\\rangle\\langle 1|-|2\\rangle\\langle 2|.$ Mostre que os autovalores e autovetores de $H_0$ são dados, respectivamente, por $E_{j,n}^{(0)} = -\\frac{\\hbar\\omega_a}{2}(-1)^{j-1} + \\hbar\\omega_o(n+1/2)$ e $|\\psi_{j,n}^{(0)}\\rangle = |j\\rangle_a\\otimes|n\\rangle_o$. Consideremos agora que a interação do AT com o OH é descrita pelo seguinte hamiltoniano de interação $H_1 = \\frac{-i\\hbar g}{2}(\\sigma_+ a + \\sigma_- a^\\dagger),$ em que $\\sigma_+ = |2\\rangle\\langle 1|$ e $\\sigma_- = |1\\rangle\\langle 2|$ são, respectivamente, os operadores de levantamento e abaixamento para AT. Sempre podemos escrever o estado evoluído como $|\\psi_t\\rangle = \\sum_{j=1}^{2}\\sum_{n=0}^{\\infty}a_{j,n}(t)e^{-iE_{j,n}^{(0)}t/\\hbar}|j\\rangle\\otimes|n\\rangle.$ Para o sistema preparado em um estado inicial $|\\psi_{t=0}\\rangle = |1\\rangle_a\\otimes|1\\rangle_o$, usando teoria de perturbação dependente do tempo de 1ª ordem, mostre que, no instante de tempo $t$, encontraremos o sistema no estado $|2\\rangle_a\\otimes|0\\rangle_o$ com probabilidade proporcioanal a $Pr(|2\\rangle_a\\otimes|0\\rangle_o)_t = \\frac{g^2}{2\\omega_{(2,0),(1,1)}^2} \\big(1 - \\cos(\\omega_{(2,0),(1,1)}t)\\big)$, em que $\\omega_{(j,n),(j',n')} = E_{j,n}^{(0)} - E_{j',n'}^{(0)}$ é a frequência de Bohr."
   ]
  },
  {
   "cell_type": "markdown",
   "id": "ae6f30a0-d4d4-4557-9ede-2fdc2d0dd2e6",
   "metadata": {},
   "source": [
    "_SOL._ Primeiramente temos que notar que AT e OH são graus de liberdade diferentes. Sabemos que $\\sigma_z = |1\\rangle\\langle 1| - |2\\rangle\\langle 2|$. Portanto $\\{|1\\rangle,|2\\rangle\\}$ são os autovetores do átomo. Já os autovetores do OHQ1D são $|n\\rangle$ com $n=0,1,\\cdots,\\infty$. Por conseguinte, a base conjunta atua no espaço vetorial conjunto $\\mathcal{H}_a\\otimes\\mathcal{H}_o$ e é\n",
    "$$|\\psi_{j,n}^{(0)}\\rangle = \\{|j\\rangle\\otimes|n\\rangle\\},\\ j=1,2,\\ n=0,1,\\cdots,\\infty.$$\n",
    "Esses são os autovetores de $H_0$. Os autovalores são obtidos como segue\n",
    "\\begin{align}\n",
    "H_0|j\\rangle\\otimes|n\\rangle & = \\Big(-\\frac{\\hbar\\omega_a}{2}\\sigma_z\\otimes I_o + I_a\\otimes\\hbar\\omega_o(a^\\dagger a+I/2)\\Big)(|j\\rangle\\otimes|n\\rangle) \\\\\n",
    "& = -\\frac{\\hbar\\omega_a}{2}\\sigma_z|j\\rangle\\otimes I_o|n\\rangle + I_a|j\\rangle\\otimes\\hbar\\omega_o(a^\\dagger a+I/2)|n\\rangle \\\\\n",
    "& = -\\frac{\\hbar\\omega_a}{2}(-1)^{j-1}|j\\rangle\\otimes |n\\rangle + |j\\rangle\\otimes\\hbar\\omega_o(n+1/2)|n\\rangle \\\\\n",
    "& = \\Big(-\\frac{\\hbar\\omega_a}{2}(-1)^{j-1} + \\hbar\\omega_o(n+1/2)\\Big)|j\\rangle\\otimes|n\\rangle.\n",
    "\\end{align}\n",
    "Os autovalores de $H_0$ são\n",
    "$$E_{j,n}^{(0)} = -\\frac{\\hbar\\omega_a}{2}(-1)^{j-1} + \\hbar\\omega_o(n+1/2).$$\n",
    "\n",
    "A probabilidade de, em uma medida da energia do átomo e do número de excitações do OHQ1D, obtermos o valor correspondente ao autovetor $|2\\rangle\\otimes|0\\rangle$ é dado por\n",
    "\\begin{align}\n",
    "Pr(|2\\rangle_a\\otimes|0\\rangle_o)_t & = |(\\langle 2|\\otimes\\langle 0|)|\\psi_t\\rangle|^2 \\\\\n",
    "& = |(\\langle 2|\\otimes\\langle 0|)\\sum_{j=1}^{2}\\sum_{n=0}^{\\infty}a_{j,n}(t)e^{-iE_{j,n}^{(0)}t/\\hbar}|j\\rangle\\otimes|n\\rangle|^2 \\\\\n",
    "& = |\\sum_{j=1}^{2}\\sum_{n=0}^{\\infty}a_{j,n}(t)e^{-iE_{j,n}^{(0)}t/\\hbar}(\\langle 2|\\otimes\\langle 0|)(|j\\rangle\\otimes|n\\rangle)|^2 \\\\\n",
    "& = |\\sum_{j=1}^{2}\\sum_{n=0}^{\\infty}a_{j,n}(t)e^{-iE_{j,n}^{(0)}t/\\hbar}\\delta_{2,j}\\delta_{0,n}|^2 \\\\\n",
    "& = |a_{2,0}(t)e^{-iE_{2,0}^{(0)}t/\\hbar}|^2 \\\\\n",
    "& = |a_{2,0}(t)|^2.\n",
    "\\end{align}\n",
    "\n",
    "Da expansão de Rayleigh-Schrödinger $a_{j,n}(t) = \\sum_{k=0}^{\\infty}a_{j,n}^{(k)}(t)\\xi^k$, considerando correção teremos que\n",
    "$$a_{j,n}(t) \\approx a_{j,n}^{(0)}(t) + a_{j,n}^{(1)}(t) = a_{j,n}(0) + a_{j,n}^{(1)}(t).$$\n",
    "Temos das condições iniciais que\n",
    "$$a_{j,n}(0) = \\delta_{j,1}\\delta_{n,1}.$$\n",
    "As correções de ordem $k$ são calculadas usando\n",
    "$$a_{j,n}^{(k)}(t) = \\frac{1}{i\\hbar}\\int_0^t dt' \\sum_{j'=1}^2 \\sum_{n'=0}^\\infty a_{j',n'}^{(k-1)}(t) e^{i\\omega_{(j,n),(j',n')}t'}\\langle\\psi_{j',n'}^{(0)}|H_1|\\psi_{j,n}^{(0)}\\rangle,$$\n",
    "em que a frequência de Bohr é\n",
    "$$\\omega_{(j,n),(j',n')} = E_{j,n}^{(0)} - E_{j',n'}^{(0)}.$$\n",
    "\n",
    "A correção de 1ª ordem é então dada por\n",
    "\\begin{align}\n",
    "a_{j,n}^{(1)}(t) & = \\frac{1}{i\\hbar}\\int_0^t dt' \\sum_{j'=1}^2 \\sum_{n'=0}^\\infty a_{j',n'}^{(0)}(t) e^{i\\omega_{(j,n),(j',n')}t'}\\langle\\psi_{j',n'}^{(0)}|H_1|\\psi_{j,n}^{(0)}\\rangle \\\\\n",
    "& = \\frac{1}{i\\hbar}\\int_0^t dt' \\sum_{j'=1}^2 \\sum_{n'=0}^\\infty a_{j',n'}(0) e^{i\\omega_{(j,n),(j',n')}t'}\\langle\\psi_{j',n'}^{(0)}|H_1|\\psi_{j,n}^{(0)}\\rangle \\\\\n",
    "& = \\frac{1}{i\\hbar}\\int_0^t dt' \\sum_{j'=1}^2 \\sum_{n'=0}^\\infty \\delta_{j',1}\\delta_{n',1} e^{i\\omega_{(j,n),(j',n')}t'}\\langle\\psi_{j',n'}^{(0)}|H_1|\\psi_{j,n}^{(0)}\\rangle \\\\\n",
    "& = \\frac{1}{i\\hbar}\\int_0^t dt' e^{i\\omega_{(j,n),(1,1)}t'}\\langle\\psi_{1,1}^{(0)}|H_1|\\psi_{j,n}^{(0)}\\rangle.\n",
    "\\end{align}\n",
    "\n",
    "Neste problema, queremos calcular\n",
    "\\begin{align}\n",
    "a_{2,0}^{(1)}(t) & = \\frac{1}{i\\hbar}\\int_0^t dt' e^{i\\omega_{(2,0),(1,1)}t'}\\langle\\psi_{1,1}^{(0)}|H_1|\\psi_{2,0}^{(0)}\\rangle \\\\\n",
    "& = \\frac{1}{i\\hbar}\\int_0^t dt' e^{i\\omega_{(2,0),(1,1)}t'}(-i\\hbar g/2) \\\\\n",
    "& = -\\frac{g}{2} \\Big(\\frac{ e^{i\\omega_{(2,0),(1,1)}t'} }{ i\\omega_{(2,0),(1,1)} }\\Big)_0^t \\\\\n",
    "& = \\frac{ig}{2\\omega_{(2,0),(1,1)}} \\Big(e^{i\\omega_{(2,0),(1,1)}t} -1\\Big),\n",
    "\\end{align}\n",
    "em que usamos\n",
    "\\begin{align}\n",
    "\\langle\\psi_{1,1}^{(0)}|H_1|\\psi_{2,0}^{(0)}\\rangle & = (\\langle 1|\\otimes\\langle 1|)(-i\\hbar g/2)(\\sigma_+ a + \\sigma_- a^\\dagger)(|2\\rangle\\otimes|0\\rangle) \\\\\n",
    "& = (\\langle 1|\\otimes\\langle 1|)(-i\\hbar g/2)\\big(|\\oslash\\rangle\\otimes|\\oslash\\rangle)  + |1\\rangle\\otimes \\sqrt{0+1}|0+1\\rangle\\big) \\\\\n",
    "& = -i\\hbar g/2.\n",
    "\\end{align}\n",
    "\n",
    "Com isso, podemos escrever a probabilidade aproximada como\n",
    "\\begin{align}\n",
    "Pr(|2\\rangle_a\\otimes|0\\rangle_o)_t & = |a_{2,0}(t)|^2 \\approx |a_{2,0}^{(0)}(t)|^2 + |a_{2,0}^{(1)}(t)|^2 \\\\\n",
    "& = |a_{2,0}(0)|^2 + \\frac{g^2}{4\\omega_{(2,0),(1,1)^2}} \\Big(e^{i\\omega_{(2,0),(1,1)}t} -1\\Big)\\Big(e^{-i\\omega_{(2,0),(1,1)}t} -1\\Big) \\\\\n",
    "& = 0 + \\frac{g^2}{4\\omega_{(2,0),(1,1)}^2} \\Big(1 -e^{-i\\omega_{(2,0),(1,1)}t}  e^{i\\omega_{(2,0),(1,1)}t} +1\\Big) \\\\\n",
    "& = \\frac{g^2}{2\\omega_{(2,0),(1,1)}^2} \\big(1 - \\cos(\\omega_{(2,0),(1,1)}t)\\big).\n",
    "\\end{align}"
   ]
  },
  {
   "cell_type": "markdown",
   "id": "f3a114f8-d039-4a3e-8186-1f37ebd944e5",
   "metadata": {},
   "source": [
    "---\n",
    "$3.$ Desenvolva a teoria de perturbação dependente do tempo para resolver a equação de Schrödinger  $i\\hbar\\partial_t|\\psi_t\\rangle = H_t|\\psi_t\\rangle$ com $H_t=H_0+H_1$ para espectros degenerados, i.e., para $H_{0}|\\psi_{nk}^{(0)}\\rangle=E_{n}^{(0)}|\\psi_{nk}^{(0)}\\rangle;\\ k=1,\\cdots,d_n.$"
   ]
  },
  {
   "cell_type": "markdown",
   "id": "b85b5dc4-03b4-4e96-ad1e-d68824c8d389",
   "metadata": {},
   "source": [
    "_SOL._ Queremos resolver $i\\hbar\\partial_t|\\psi_t\\rangle = H_t|\\psi_t\\rangle$ com $H_t=H_0+H_1$ em que conhecemos\n",
    "$$H_{0}|\\psi_{nk}^{(0)}\\rangle=E_{n}^{(0)}|\\psi_{nk}^{(0)}\\rangle;\\ k=1,\\cdots,d_n.$$\n",
    "\n",
    "Podemos escrever o estado inicial em termos da base de autovetores de $H_0$ como segue\n",
    "$$|\\psi_0\\rangle = \\sum_{n,k}c_{nk}|\\psi_{nk}^{(0)}\\rangle.$$\n",
    "Como um prelúdio, vamos considerar $H_1=0\\ \\therefore\\ W_t = e^{-iH_0 t/\\hbar}.$ Assim o estado evoluído terá a forma\n",
    "\\begin{align}\n",
    "|\\psi_{t}'\\rangle &= W_{t}|\\psi_0\\rangle = \\sum_{n,k}c_{nk}e^{-iH_{0}t/\\hbar}|\\psi_{n,k}^{(0)}\\rangle = \\sum_{n,k}c_{nk}e^{-iE_{n}^{(0)}t/\\hbar}|\\psi_{n,k}^{(0)}\\rangle \\\\ \n",
    "& =: \\sum_{n,k}c_{nk}(t)|\\psi_{nk}^{(0)}\\rangle.\n",
    "\\end{align}"
   ]
  },
  {
   "cell_type": "markdown",
   "id": "0e0148b0-0ad5-46a6-ac1d-9d957139b62e",
   "metadata": {},
   "source": [
    "Analogamente, para $H_1\\ne 0$, vamos escrever\n",
    "$$|\\psi_t\\rangle = \\sum_{n,k}A_{nk}(t)|\\psi_{nk}\\rangle = \\sum_{n,k}a_{nk}(t)e^{-iE_n^{(0)}t/\\hbar}|\\psi_{nk}\\rangle.$$\n",
    "substituindo tudo na equação de Schrödinger, teremos\n",
    "\\begin{align}\n",
    "& i\\hbar\\partial_{t}|\\psi_{t}\\rangle  = H|\\psi_{t}\\rangle \\\\\n",
    "& \\therefore i\\hbar\\partial_{t}\\sum_{n,k}a_{nk}(t)e^{-iE_{n}^{(0)}t/\\hbar}|\\psi_{nk}^{(0)}\\rangle = (H_{0}+\\xi H_{1})\\sum_{n,k}a_{nk}(t)e^{-iE_{n}^{(0)}t/\\hbar}|\\psi_{nk}^{(0)}\\rangle \\\\\n",
    "& \\therefore i\\hbar\\sum_{n,k}\\left(\\partial_{t}a_{nk}(t) -i\\hbar^{-1}E_{n}^{(0)}a_{nk}(t)\\right)e^{-iE_{n}^{(0)}t/\\hbar}|\\psi_{nk}^{(0)}\\rangle = \\sum_{n,k}a_{nk}(t)e^{-iE_{n}^{(0)}t/\\hbar}(E_{n}^{(0)}\\mathbb{I}+\\xi H_{1})|\\psi_{nk}^{(0)}\\rangle \\\\\n",
    "& \\therefore i\\hbar\\sum_{n,k}e^{-iE_{n}^{(0)}t/\\hbar}\\partial_{t}a_{nk}(t)|\\psi_{nk}^{(0)}\\rangle = \\xi\\sum_{n,k}a_{nk}(t)e^{-iE_{n}^{(0)}t/\\hbar}H_{1}|\\psi_{nk}^{(0)}\\rangle.\n",
    "\\end{align}"
   ]
  },
  {
   "cell_type": "markdown",
   "id": "471eab6d-eabb-4e66-bc5e-404346c689bf",
   "metadata": {},
   "source": [
    "Toma o produto interno com $|\\psi_{ml}^{(0)}\\rangle$:\n",
    "\\begin{align}\n",
    "& i\\hbar\\sum_{n,k}e^{-iE_{n}^{(0)}t/\\hbar}\\partial_{t}a_{nk}(t)\\langle\\psi_{ml}^{(0)}|\\psi_{nk}^{(0)}\\rangle = \\xi\\sum_{nk}a_{nk}(t)e^{-iE_{n}^{(0)}t/\\hbar}\\langle\\psi_{ml}^{(0)}|H_{1}|\\psi_{n,k}^{(0)}\\rangle \\\\\n",
    "& \\therefore\\ i\\hbar e^{-iE_{m}^{(0)}t/\\hbar}\\partial_{t}a_{ml}(t) = \\xi\\sum_{n,k}a_{nk}(t)e^{-iE_{n}^{(0)}t/\\hbar}\\langle\\psi_{ml}^{(0)}|H_{1}|\\psi_{nk}^{(0)}\\rangle \\\\\n",
    "& \\therefore\\ i\\hbar\\partial_{t}a_{ml}(t) = \\xi\\sum_{n,k}a_{nk}(t)e^{i(E_{m}^{(0)}-E_{n}^{(0)})t/\\hbar}\\langle\\psi_{ml}^{(0)}|H_{1}|\\psi_{nk}^{(0)}\\rangle \\\\\n",
    "& \\therefore\\ i\\hbar\\partial_{t}a_{ml}(t) = \\xi\\sum_{n,k}a_{nk}(t)e^{i\\omega_{mn}t}\\langle\\psi_{ml}^{(0)}|H_{1}|\\psi_{nk}^{(0)}\\rangle.\n",
    "\\end{align}\n",
    "Usa expansão de Rayleigh-Schrödinger, $a_{nk}(t) = \\sum_{j=0}^{\\infty}a_{nk}^{(j)}(t)\\xi^{j},$ para escrever"
   ]
  },
  {
   "cell_type": "markdown",
   "id": "8f1302b8-17b5-48e8-9f52-47031786222c",
   "metadata": {},
   "source": [
    "\\begin{align}\n",
    "& i\\hbar\\partial_{t}\\sum_{j=0}^{\\infty}a_{ml}^{(j)}(t)\\xi^{j} = i\\hbar\\sum_{j=0}^{\\infty}\\big(\\partial_{t}a_{ml}^{(j)}(t)\\big)\\xi^{j} = \\xi\\sum_{n,k}\\sum_{j=0}^{\\infty}a_{nk}^{(j)}(t)\\xi^{j}e^{i\\omega_{mn}t}\\langle\\psi_{ml}^{(0)}|H_{1}|\\psi_{nk}^{(0)}\\rangle =  \\sum_{j=0}^{\\infty}\\sum_{n,k}a_{nk}^{(j)}(t)\\xi^{j+1}e^{i\\omega_{mn}t}\\langle\\psi_{ml}^{(0)}|H_{1}|\\psi_{nk}^{(0)}\\rangle \\\\\n",
    "& \\therefore\\ i\\hbar\\partial_{t}a_{ml}^{(0)}(t) = 0\\ \\therefore\\ a_{ml}^{(0)}(t)=a_{ml}^{(0)}(t=0) = c_{ml}, \\\\\n",
    "& \\therefore\\ i\\hbar\\partial_{t}a_{ml}^{(1)}(t) = \\sum_{n,k}a_{nk}^{(0)}(t)e^{i\\omega_{mn}t}\\langle\\psi_{ml}^{(0)}|H_{1}|\\psi_{nk}^{(0)}\\rangle \\\\\n",
    "& \\vdots \\\\\n",
    "& \\therefore\\ i\\hbar\\partial_{t}a_{ml}^{(j)}(t) = \\sum_{n,k}a_{nk}^{(j-1)}(t)e^{i\\omega_{mn}t}\\langle\\psi_{ml}^{(0)}|H_{1}|\\psi_{nk}^{(0)}\\rangle \\\\\n",
    "\\end{align}\n",
    "\n",
    "Integrando e usando que $a_{nk}^{(j)}(0)=0$ para $j>0$ teremos que\n",
    "$$a_{ml}^{(j)}(t) = \\frac{1}{i\\hbar}\\int_0^t dt' \\sum_{n,k}a_{nk}^{(j-1)}(t')e^{i\\omega_{mn}t'}\\langle\\psi_{ml}^{(0)}|H_{1}|\\psi_{nk}^{(0)}\\rangle.$$\n",
    "Obtidas essas correções, definimos uma ordem máxima de teoria de perturbação a ser aplicadas e obtemos cada um dos coeficientes aproximados\n",
    "$$a_{ml}(t) \\approx \\sum_{j=0}^{N}a_{ml}^{(j)}(t)$$\n",
    "para substitutir e obter o vetor de estado evoluído no tempo não normalizado\n",
    "$$|\\tilde{\\psi}_t\\rangle \\approx \\sum_{m,l}a_{ml}(t)e^{-iE_m^{(0)}t/\\hbar}|\\psi_{ml}\\rangle.$$\n",
    "Normalizando este vetor, podemos calcular probabilidades de transição, por exemplo."
   ]
  },
  {
   "cell_type": "markdown",
   "id": "cf7fabab-8d04-4a2b-a986-4ef55f09b08d",
   "metadata": {},
   "source": [
    "---\n",
    "$4.$ Considere o oscilador harmônico quântico bidimensional (OHQ2D) preparado incialmente no estado fundamental $|00\\rangle$ e sujeito a uma força constante $\\vec{F} = -g(\\hat{i}+\\hat{j})$. Obtenha o hamiltoniano de perturbação (energia potencial) correspondente a esta força. Use teoria de perturbação dependente do tempo degenerada para calcular a probabilidade do OHQ2D transitar para o estado $|01\\rangle$ no instante de tempo $t$."
   ]
  },
  {
   "cell_type": "markdown",
   "id": "73d3e5f4-ee4d-49a5-a7d4-ba72c8d3736f",
   "metadata": {},
   "source": [
    "_SOL._ Podemos verifivar que\n",
    "$$H_1 = g(X+Y) = \\gamma\\big(a_1^\\dagger + a_1 + a_2^\\dagger + a_2\\big),$$\n",
    "com $\\gamma\\in\\mathbb{R}_+$, nos leva a\n",
    "$$\\vec{F} = -\\vec{\\nabla}U = -\\hat{i}\\partial_X U - \\hat{j}\\partial_Y U = -\\hat{i}g - \\hat{j}g -g(\\hat{i} + \\hat{j}).$$\n",
    "\n",
    "Lembrando, os autovalores e autovetores de $H_0=\\hbar\\omega(a_1^\\dagger a_1 + a_2^\\dagger a_1 + I)$ são $E_{n_1+n_2}=\\hbar\\omega(n_1+n_2+1)$ e $|n_1\\rangle\\otimes|n_2\\rangle\\equiv|n_1n_2\\rangle$, respectivamente. As frequências de Bohr são $\\omega_{n_1+n_2,m_1+m_2} = (E_{n_1+n_2}-E_{m_1+m_2})/\\hbar = \\omega(n_1+n_2-m_1-m_2) = \\omega((n_1+n_2)-(m_1+m_2)).$\n",
    "\n",
    "Seguindo, vamos escrever as equações do exercício $3$ adaptadas para o sistema considerado neste exercício. O estado evoluído é escritco como\n",
    "$$|\\psi_t\\rangle = \\sum_{m_1,m_2=0}^{\\infty} a_{m_1m_2}(t)e^{-iE_{m_1+m_2}t/\\hbar}|m_1m_2\\rangle$$\n",
    "com os coeficientes dados por\n",
    "$$a_{m_1m_2}(t) = \\sum_{j=0}^{\\infty}a_{m_1m_2}^{(j)}(t)$$\n",
    "e as correções perturbativas dadas por\n",
    "$$a_{m_1m_2}^{(j)}(t) = \\frac{1}{i\\hbar}\\int_0^t dt' \\sum_{n_1n_2}a_{n_1n_2}^{(j-1)}(t')e^{i\\omega_{m_1+m_2,n_1+n_2}t'}\\langle m_1m_2|H_{1}|n_1n_2\\rangle.$$"
   ]
  },
  {
   "cell_type": "markdown",
   "id": "9e798ab6-bfa0-40e2-bffc-1b6a675e632b",
   "metadata": {},
   "source": [
    "Vale notar que não precisamos calcular todos os coeficientes pois\n",
    "\\begin{align}\n",
    "Pr(|00\\rangle\\rightarrow|01\\rangle) & = |\\langle 01|\\psi_t\\rangle|^2 \\\\\n",
    "& = \\Big|\\langle 01|\\sum_{m_1,m_2=0}^{\\infty} a_{m_1m_2}(t)e^{-iE_{m_1+m_2}t/\\hbar}|m_1m_2\\rangle\\Big|^2 \\\\\n",
    "& = \\Big| a_{01}(t)e^{-iE_{0+1}t/\\hbar}\\Big|^2 \\\\\n",
    "& = |a_{01}(t)|^2 \\\\\n",
    "& = \\Big|\\sum_{j=0}^{\\infty}a_{01}^{(j)}(t)\\Big|^2.\\\\\n",
    "\\end{align}\n",
    "Ou seja, temos que calcular as correções perturbativas\n",
    "\\begin{align}\n",
    "a_{01}^{(j)}(t) = \\frac{1}{i\\hbar}\\int_0^t dt' \\sum_{n_1n_2}a_{n_1n_2}^{(j-1)}(t')e^{i\\omega_{0+1,n_1+n_2}t'}\\langle 01|H_{1}|n_1n_2\\rangle.\n",
    "\\end{align}"
   ]
  },
  {
   "cell_type": "markdown",
   "id": "60a2da6a-d5f8-43b3-b45b-09d52c87c155",
   "metadata": {},
   "source": [
    "Vamos olhar para os elementos de matriz do hamiltoniano de perturbação\n",
    "\\begin{align}\n",
    "\\langle m_1m_2|H_{1}|n_1n_2\\rangle & = \\langle m_1m_2|\\gamma\\big(a_1^\\dagger + a_1 + a_2^\\dagger + a_2\\big)|n_1n_2\\rangle \\\\\n",
    "& = \\gamma\\langle m_1m_2|\\big(\\sqrt{n_1+1}|n_1+1,n_2\\rangle + \\sqrt{n_1}|n_1-1,n_2\\rangle + \\sqrt{n_2+1}|n_1,n_2+1\\rangle + \\sqrt{n_2}|n_1,n_2-1\\rangle\\big) \\\\\n",
    "& = \\gamma\\big(\\sqrt{n_1+1}\\delta_{m_1,n_1+1}\\delta_{m_2,n_2} + \\sqrt{n_1}\\delta_{m_1,n_1-1}\\delta_{m_2,n_2} + \\sqrt{n_2+1}\\delta_{m_1,n_1}\\delta_{m_2,n_2+1} + \\sqrt{n_2}\\delta_{m_1,n_1}\\delta_{m_2,n_2-1}\\big).\n",
    "\\end{align}\n",
    "\n",
    "No caso particular que estamos considerando, segue que\n",
    "\\begin{align}\n",
    "\\langle 01|H_{1}|n_1n_2\\rangle & = \\gamma\\big(\\sqrt{n_1+1}\\delta_{0,n_1+1}\\delta_{1,n_2} + \\sqrt{n_1}\\delta_{0,n_1-1}\\delta_{1,n_2} + \\sqrt{n_2+1}\\delta_{0,n_1}\\delta_{1,n_2+1} + \\sqrt{n_2}\\delta_{0,n_1}\\delta_{1,n_2-1}\\big) \\\\\n",
    "& = \\gamma\\big(\\sqrt{n_1+1}(0)\\delta_{1,n_2} + \\sqrt{1}\\delta_{0,n_1-1}\\delta_{1,n_2} + \\sqrt{0+1}\\delta_{0,n_1}\\delta_{1,n_2+1} + \\sqrt{2}\\delta_{0,n_1}\\delta_{1,n_2-1}\\big) \\\\\n",
    "& = \\gamma\\big(\\delta_{0,n_1-1}\\delta_{1,n_2} + \\delta_{0,n_1}\\delta_{1,n_2+1} + \\sqrt{2}\\delta_{0,n_1}\\delta_{1,n_2-1}\\big).\n",
    "\\end{align}\n",
    "Então os únicos elementos de matriz que são não nulos são\n",
    "$$\\langle 01|H_{1}|11\\rangle=\\langle 01|H_{1}|00\\rangle=\\langle 01|H_{1}|02\\rangle=\\gamma.$$"
   ]
  },
  {
   "cell_type": "markdown",
   "id": "eb012e80-a019-4c0e-a3ad-4038a9013668",
   "metadata": {},
   "source": [
    "Substituindo nas correções perturbativas, obteremos\n",
    "\\begin{align}\n",
    "a_{01}^{(j)}(t) & = \\frac{1}{i\\hbar}\\int_0^t dt' \\sum_{n_1n_2}a_{n_1n_2}^{(j-1)}(t')e^{i\\omega_{0+1,n_1+n_2}t'}\\langle 01|H_{1}|n_1n_2\\rangle \\\\\n",
    "& = \\frac{1}{i\\hbar}\\int_0^t dt' \\sum_{n_1n_2}a_{n_1n_2}^{(j-1)}(t')e^{i\\omega_{0+1,n_1+n_2}t'}\\gamma\\big(\\delta_{0,n_1-1}\\delta_{1,n_2} + \\delta_{0,n_1}\\delta_{1,n_2+1} + \\sqrt{2}\\delta_{0,n_1}\\delta_{1,n_2-1}\\big) \\\\\n",
    "& = \\frac{\\gamma}{i\\hbar}\\int_0^t dt' \\Big(a_{11}^{(j-1)}(t')e^{i\\omega_{0+1,1+1}t'} + a_{00}^{(j-1)}(t')e^{i\\omega_{0+1,0+0}t'} + a_{02}^{(j-1)}(t')e^{i\\omega_{0+1,0+2}t'}\\Big) \\\\\n",
    "& = \\frac{\\gamma}{i\\hbar}\\int_0^t dt' \\Big(a_{11}^{(j-1)}(t')e^{-i\\omega t'} + a_{00}^{(j-1)}(t')e^{i\\omega t'} + a_{02}^{(j-1)}(t')e^{-i\\omega t'}\\Big).\n",
    "\\end{align}"
   ]
  },
  {
   "cell_type": "markdown",
   "id": "726eb42a-1f65-4944-9704-2e16e3385556",
   "metadata": {},
   "source": [
    "1ª ordem\n",
    "\\begin{align}\n",
    "a_{01}^{(1)}(t) & = \\frac{\\gamma}{i\\hbar}\\int_0^t dt' \\Big(a_{11}^{(0)}(t')e^{-i\\omega t'} + a_{00}^{(0)}(t')e^{i\\omega t'} + a_{02}^{(0)}(t')e^{-i\\omega t'}\\Big) \\\\\n",
    "& = \\frac{\\gamma}{i\\hbar}\\int_0^t dt' \\Big(c_{11}e^{-i\\omega t'} + c_{00}e^{i\\omega t'} + c_{02}e^{-i\\omega t'}\\Big) \\\\\n",
    "& = \\frac{\\gamma}{i\\hbar}\\int_0^t dt' \\Big((0)e^{-i\\omega t'} + (1)e^{i\\omega t'} + (0)e^{-i\\omega t'}\\Big) \\\\\n",
    "& = \\frac{\\gamma}{i\\hbar}\\Big(\\frac{e^{-i\\omega t'}}{-i\\omega}\\Big)_0^t \\\\\n",
    "& = \\frac{\\gamma}{\\hbar\\omega}\\big(e^{-i\\omega t}-1\\big).\n",
    "\\end{align}"
   ]
  },
  {
   "cell_type": "markdown",
   "id": "7cce82b6-e8aa-44e3-812b-a48ccd2ac9fc",
   "metadata": {},
   "source": [
    "2ª ordem\n",
    "\\begin{align}\n",
    "a_{01}^{(2)}(t) & = \\frac{\\gamma}{i\\hbar}\\int_0^t dt' \\Big(a_{11}^{(1)}(t')e^{-i\\omega t'} + a_{00}^{(1)}(t')e^{i\\omega t'} + a_{02}^{(1)}(t')e^{-i\\omega t'}\\Big).\n",
    "\\end{align}\n",
    "Note que para obter essa correção perturbativa de 2ª ordem, precisamos obter outras três correções perturbativas de 1ª ordem: $a_{11}^{(1)}(t'),\\ a_{00}^{(1)}(t'),\\ a_{02}^{(1)}(t').$\n",
    "Para isso precisaremos dos seguinte elementos de matriz do hamiltoniano de perturbação\n",
    "\\begin{align}\n",
    "\\langle 00|H_{1}|n_1n_2\\rangle & = \\gamma\\big(\\sqrt{n_1+1}\\delta_{0,n_1+1}\\delta_{m_2,n_2} + \\sqrt{n_1}\\delta_{0,n_1-1}\\delta_{0,n_2} + \\sqrt{n_2+1}\\delta_{0,n_1}\\delta_{0,n_2+1} + \\sqrt{n_2}\\delta_{0,n_1}\\delta_{0,n_2-1}\\big) \\\\\n",
    " & = \\gamma\\big(\\sqrt{n_1+1}(0)\\delta_{m_2,n_2} + \\sqrt{1}\\delta_{1,n_1}\\delta_{0,n_2} + \\sqrt{n_2+1}\\delta_{0,n_1}(0) + \\sqrt{1}\\delta_{0,n_1}\\delta_{1,n_2}\\big) \\\\\n",
    " & = \\gamma\\big(\\delta_{1,n_1}\\delta_{0,n_2} + \\delta_{0,n_1}\\delta_{1,n_2}\\big), \\\\\n",
    "\\langle 02|H_{1}|n_1n_2\\rangle & = \\gamma\\big(\\sqrt{n_1+1}\\delta_{0,n_1+1}\\delta_{2,n_2} + \\sqrt{n_1}\\delta_{0,n_1-1}\\delta_{2,n_2} + \\sqrt{n_2+1}\\delta_{0,n_1}\\delta_{2,n_2+1} + \\sqrt{n_2}\\delta_{0,n_1}\\delta_{2,n_2-1}\\big) \\\\\n",
    " & = \\gamma\\big(\\sqrt{n_1+1}(0)\\delta_{2,n_2} + \\sqrt{1}\\delta_{1,n_1}\\delta_{2,n_2} + \\sqrt{1+1}\\delta_{0,n_1}\\delta_{1,n_2} + \\sqrt{3}\\delta_{0,n_1}\\delta_{3,n_2}\\big) \\\\\n",
    " & = \\gamma\\big(\\delta_{1,n_1}\\delta_{2,n_2} + \\sqrt{2}\\delta_{0,n_1}\\delta_{1,n_2} + \\sqrt{3}\\delta_{0,n_1}\\delta_{3,n_2}\\big), \\\\\n",
    "\\langle 11|H_{1}|n_1n_2\\rangle & = \\gamma\\big(\\sqrt{n_1+1}\\delta_{1,n_1+1}\\delta_{1,n_2} + \\sqrt{n_1}\\delta_{1,n_1-1}\\delta_{1,n_2} + \\sqrt{n_2+1}\\delta_{1,n_1}\\delta_{1,n_2+1} + \\sqrt{n_2}\\delta_{1,n_1}\\delta_{1,n_2-1}\\big) \\\\\n",
    " & = \\gamma\\big(\\sqrt{0+1}\\delta_{0,n_1}\\delta_{1,n_2} + \\sqrt{2}\\delta_{2,n_1}\\delta_{1,n_2} + \\sqrt{0+1}\\delta_{1,n_1}\\delta_{0,n_2} + \\sqrt{2}\\delta_{1,n_1}\\delta_{2,n_2}\\big) \\\\\n",
    " & = \\gamma\\big(\\delta_{0,n_1}\\delta_{1,n_2} + \\sqrt{2}\\delta_{2,n_1}\\delta_{1,n_2} + \\delta_{1,n_1}\\delta_{0,n_2} + \\sqrt{2}\\delta_{1,n_1}\\delta_{2,n_2}\\big).\n",
    "\\end{align}"
   ]
  },
  {
   "cell_type": "markdown",
   "id": "fe277488-9157-4f62-8592-1b6bddda78dd",
   "metadata": {},
   "source": [
    "As correções perturbativas de 1ª ordem que precisamos são então dadas por\n",
    "\\begin{align}\n",
    "a_{00}^{(1)}(t) & = \\frac{1}{i\\hbar}\\int_0^t dt' \\sum_{n_1n_2}a_{n_1n_2}^{(0)}(t')e^{i\\omega_{0+0,n_1+n_2}t'}\\langle 00|H_{1}|n_1n_2\\rangle \\\\\n",
    " & = \\frac{1}{i\\hbar}\\int_0^t dt' \\sum_{n_1n_2}a_{n_1n_2}^{(0)}(t')e^{i\\omega_{0+0,n_1+n_2}t'}\\gamma\\big(\\delta_{1,n_1}\\delta_{0,n_2} + \\delta_{0,n_1}\\delta_{1,n_2}\\big) \\\\\n",
    " & = \\frac{\\gamma}{i\\hbar}\\int_0^t dt' \\Big(a_{10}^{(0)}(t')e^{i\\omega_{0+0,1+0}t'} + a_{01}^{(0)}(t')e^{i\\omega_{0+0,0+1}t'}\\Big) \\\\\n",
    " & = \\frac{\\gamma}{i\\hbar}\\int_0^t dt' \\Big(c_{10}e^{-i\\omega t'} + c_{01}e^{-i\\omega t'}\\Big) \\\\\n",
    " & = \\frac{\\gamma}{i\\hbar}\\int_0^t dt' \\Big((0)e^{-i\\omega t'} + (0)e^{-i\\omega t'}\\Big) \\\\\n",
    " & = 0, \\\\\n",
    "a_{02}^{(1)}(t) & = \\frac{1}{i\\hbar}\\int_0^t dt' \\sum_{n_1n_2}a_{n_1n_2}^{(0)}(t')e^{i\\omega_{0+2,n_1+n_2}t'}\\langle 02|H_{1}|n_1n_2\\rangle \\\\\n",
    " & = \\frac{1}{i\\hbar}\\int_0^t dt' \\sum_{n_1n_2}a_{n_1n_2}^{(0)}(t')e^{i\\omega_{0+2,n_1+n_2}t'}\\gamma\\big(\\delta_{1,n_1}\\delta_{2,n_2} + \\sqrt{2}\\delta_{0,n_1}\\delta_{1,n_2} + \\sqrt{3}\\delta_{0,n_1}\\delta_{3,n_2}\\big) \\\\\n",
    " & = \\frac{\\gamma}{i\\hbar}\\int_0^t dt' \\Big(a_{12}^{(0)}(t')e^{i\\omega_{0+2,1+2}t'}+a_{01}^{(0)}(t')e^{i\\omega_{0+2,0+1}t'} + a_{03}^{(0)}(t')e^{i\\omega_{0+2,0+3}t'}\\Big) \\\\\n",
    " & = \\frac{\\gamma}{i\\hbar}\\int_0^t dt' \\Big(c_{12}e^{i\\omega_{0+2,1+2}t'} + c_{01}e^{i\\omega_{0+2,0+1}t'} + c_{03}e^{i\\omega_{0+2,0+3}t'}\\Big) \\\\\n",
    " & = \\frac{\\gamma}{i\\hbar}\\int_0^t dt' \\Big((0)e^{i\\omega_{0+2,1+2}t'} + (0)e^{i\\omega_{0+2,0+1}t'} + (0)e^{i\\omega_{0+2,0+3}t'}\\Big) \\\\\n",
    " & = 0, \\\\\n",
    "a_{11}^{(1)}(t) & = \\frac{1}{i\\hbar}\\int_0^t dt' \\sum_{n_1n_2}a_{n_1n_2}^{(0)}(t')e^{i\\omega_{1+1,n_1+n_2}t'}\\langle 11|H_{1}|n_1n_2\\rangle \\\\\n",
    " & = \\frac{1}{i\\hbar}\\int_0^t dt' \\sum_{n_1n_2}a_{n_1n_2}^{(0)}(t')e^{i\\omega_{1+1,n_1+n_2}t'}\\gamma\\big(\\delta_{0,n_1}\\delta_{1,n_2} + \\sqrt{2}\\delta_{2,n_1}\\delta_{1,n_2} + \\delta_{1,n_1}\\delta_{0,n_2} + \\sqrt{2}\\delta_{1,n_1}\\delta_{2,n_2}\\big) \\\\\n",
    " & = \\frac{\\gamma}{i\\hbar}\\int_0^t dt' \\Big(a_{01}^{(0)}(t')e^{i\\omega_{1+1,0+1}t'} + a_{21}^{(0)}(t')e^{i\\omega_{1+1,2+1}t'} + a_{10}^{(0)}(t')e^{i\\omega_{1+1,1+0}t'} + a_{12}^{(0)}(t')e^{i\\omega_{1+1,1+2}t'}\\Big) \\\\\n",
    " & = \\frac{\\gamma}{i\\hbar}\\int_0^t dt' \\Big(c_{01}e^{i\\omega_{1+1,0+1}t'} + c_{21}e^{i\\omega_{1+1,2+1}t'} + c_{10}e^{i\\omega_{1+1,1+0}t'} + c_{12}e^{i\\omega_{1+1,1+2}t'}\\Big) \\\\\n",
    " & = \\frac{\\gamma}{i\\hbar}\\int_0^t dt' \\Big((0)e^{i\\omega_{1+1,0+1}t'} + (0)e^{i\\omega_{1+1,2+1}t'} + (0)e^{i\\omega_{1+1,1+0}t'} + (0)e^{i\\omega_{1+1,1+2}t'}\\Big) \\\\\n",
    " & = 0.\n",
    "\\end{align}"
   ]
  },
  {
   "cell_type": "markdown",
   "id": "546f549c-b82c-48d4-9536-20c1aedd2ebc",
   "metadata": {},
   "source": [
    "Por conseguinte \n",
    "$$a_{01}^{(2)}(t) = a_{01}^{(3)}(t) = \\cdots = 0.$$\n",
    "\n",
    "Teremos assim que\n",
    "\\begin{align}\n",
    "Pr(|00\\rangle\\rightarrow|01\\rangle) & = \\Big|\\sum_{j=0}^{\\infty}a_{01}^{(j)}(t)\\Big|^2 \\\\\n",
    "& = \\Big|a_{01}^{(0)}(t) + a_{01}^{(1)}(t) + a_{01}^{(2)}(t) + \\cdots+a_{01}^{(\\infty)}(t)\\Big|^2 \\\\\n",
    "& = \\Big|0 + \\frac{\\gamma}{\\hbar\\omega}\\big(e^{-i\\omega t}-1\\big) + 0 + \\cdots+0\\Big|^2 \\\\\n",
    "& = \\Big(\\frac{\\gamma}{\\hbar\\omega}\\Big)^2\\big(1-e^{-i\\omega t}-e^{i\\omega t}+1\\big) \\\\\n",
    "& = \\Big(\\frac{\\gamma}{\\hbar\\omega}\\Big)^2 2\\big(1-\\cos(\\omega t)\\big) \\\\\n",
    "\\end{align}"
   ]
  },
  {
   "cell_type": "code",
   "execution_count": null,
   "id": "5df71558-1b89-41eb-9b6c-285bab3a1c79",
   "metadata": {},
   "outputs": [],
   "source": []
  }
 ],
 "metadata": {
  "kernelspec": {
   "display_name": "Python 3 (ipykernel)",
   "language": "python",
   "name": "python3"
  },
  "language_info": {
   "codemirror_mode": {
    "name": "ipython",
    "version": 3
   },
   "file_extension": ".py",
   "mimetype": "text/x-python",
   "name": "python",
   "nbconvert_exporter": "python",
   "pygments_lexer": "ipython3",
   "version": "3.12.2"
  }
 },
 "nbformat": 4,
 "nbformat_minor": 5
}
