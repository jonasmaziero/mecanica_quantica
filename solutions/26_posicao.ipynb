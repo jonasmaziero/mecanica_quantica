{
 "cells": [
  {
   "cell_type": "markdown",
   "metadata": {},
   "source": [
    "### Notas de aula de Mecânica Quântica <br> Autor: Jonas Maziero\n",
    "\n",
    "# Exercícios"
   ]
  },
  {
   "cell_type": "markdown",
   "metadata": {},
   "source": [
    "---\n",
    "$1.$ Para o operador de translação espacial $T(\\delta x_{j}) = \\mathbb{I} - \\frac{i}{\\hbar}P_{j}\\delta x_{j}$, considerando $O(\\delta x_{j}^{2})\\approx 0$, verifique que $\\lim_{\\delta x_{j}\\rightarrow 0}T(\\delta x_{j}) = \\mathbb{I}$, que $T(\\delta x_{j})T(\\delta x_{j}') = T(\\delta x_{j}+\\delta x_{j}')$, que $T^{\\dagger}(\\delta x_{j}) = T(-\\delta x_{j})$ e que $T^{\\dagger}(\\delta x_{j})T(\\delta x_{j}) = T(\\delta x_{j})T^{\\dagger}(\\delta x_{j}) = \\mathbb{I}.$"
   ]
  },
  {
   "cell_type": "markdown",
   "metadata": {},
   "source": [
    "_SOL._ \n",
    "\\begin{align}\n",
    "\\lim_{\\delta x_{j}\\rightarrow 0}T(\\delta x_{j}) &= \\lim_{\\delta x_{j}\\rightarrow 0}\\big(\\mathbb{I} - \\frac{i}{\\hbar}P_{j}\\delta x_{j}\\big) = \\mathbb{I} - \\frac{i}{\\hbar}P_{j}\\lim_{\\delta x_{j}\\rightarrow 0}\\delta x_{j} = \\mathbb{I} - \\frac{i}{\\hbar}P_{j}0 = \\mathbb{I}, \\\\\n",
    "T(\\delta x_{j})T(\\delta x_{j}') &= \\big(\\mathbb{I} - \\frac{i}{\\hbar}P_{j}\\delta x_{j}\\big)\\big(\\mathbb{I} - \\frac{i}{\\hbar}P_{j}\\delta x_{j}'\\big) = \\mathbb{I} - \\frac{i}{\\hbar}P_{j}\\delta x_{j} - \\frac{i}{\\hbar}P_{j}\\delta x_{j}' + (i/\\hbar)^{2}P_{j}^{2}\\delta x_{j}\\delta x_{j}' \\\\\n",
    "& = \\mathbb{I} - \\frac{i}{\\hbar}P_{j}(\\delta x_{j} + \\delta x_{j}') + (i/\\hbar)^{2}P_{j}^{2}\\mathcal{O}(\\delta x_{j}^{2}) \\approx \\mathbb{I} - \\frac{i}{\\hbar}P_{j}(\\delta x_{j} + \\delta x_{j}') \\\\\n",
    "&= T(\\delta x_{j} + \\delta x_{j}'), \\\\\n",
    "T^{\\dagger}(\\delta x_{j}) &= \\big(\\mathbb{I} - \\frac{i}{\\hbar}P_{j}\\delta x_{j}\\big)^{\\dagger} = \\mathbb{I} + \\frac{i}{\\hbar}P_{j}\\delta x_{j} = \\mathbb{I} - \\frac{i}{\\hbar}P_{j}(-\\delta x_{j}) = T(-\\delta x_{j}), \\\\\n",
    "T^{\\dagger}(\\delta x_{j})T(\\delta x_{j}) &= T(-\\delta x_{j})T(\\delta x_{j}) = \\big(\\mathbb{I} + \\frac{i}{\\hbar}P_{j}\\delta x_{j}\\big)\\big(\\mathbb{I} - \\frac{i}{\\hbar}P_{j}\\delta x_{j}\\big) \\\\\n",
    "&  = \\mathbb{I} - \\frac{i}{\\hbar}P_{j}\\delta x_{j} + \\frac{i}{\\hbar}P_{j}\\delta x_{j} + (i/\\hbar)^{2}P_{j}^{2}\\delta x_{j}^{2} \\approx \\mathbb{I}, \\\\\n",
    "T(\\delta x_{j})T^{\\dagger}(\\delta x_{j}) &= T(\\delta x_{j})T(-\\delta x_{j}) = \\big(\\mathbb{I} - \\frac{i}{\\hbar}P_{j}\\delta x_{j}\\big)\\big(\\mathbb{I} + \\frac{i}{\\hbar}P_{j}\\delta x_{j}\\big) \\\\\n",
    "&  = \\mathbb{I} + \\frac{i}{\\hbar}P_{j}\\delta x_{j} - \\frac{i}{\\hbar}P_{j}\\delta x_{j} + (i/\\hbar)^{2}P_{j}^{2}\\delta x_{j}^{2} \\approx \\mathbb{I}.\n",
    "\\end{align}"
   ]
  },
  {
   "cell_type": "markdown",
   "metadata": {},
   "source": [
    "---\n",
    "$2.$ Mostre que se a relação $[X_{j},T(\\delta x_{j})]|x_{j}\\rangle = \\delta x_{j}\\mathbb{I}|x_{j}\\rangle$ vale para os estados da base $\\{|x_{j}\\rangle\\}$, então ela vale também para um estado qualquer $|\\psi\\rangle\\in\\mathcal{H}.$"
   ]
  },
  {
   "cell_type": "markdown",
   "metadata": {},
   "source": [
    "_SOL._ Como $\\{|x_{j}\\rangle\\}$ forma uma base completa, podemos escrever qualquer vetor $|\\psi\\rangle=\\int dx_{j}c_{j}|x_{j}\\rangle$. Com isso, vem que\n",
    "\\begin{align}\n",
    "[X_{j},T(\\delta x_{j})]|\\psi\\rangle & = [X_{j},T(\\delta x_{j})]\\left(\\int dx_{j}c_{j}|x_{j}\\rangle\\right) = \\int dx_{j}c_{j}[X_{j},T(\\delta x_{j})]|x_{j}\\rangle \\\\\n",
    "&= \\int dx_{j}c_{j}\\delta x_{j}\\mathbb{I}|x_{j}\\rangle = \\delta x_{j}\\mathbb{I}\\int dx_{j}c_{j}|x_{j}\\rangle = \\delta x_{j}\\mathbb{I}|\\psi\\rangle.\n",
    "\\end{align}"
   ]
  },
  {
   "cell_type": "markdown",
   "metadata": {},
   "source": [
    "---\n",
    "$3.$ Prove que $\\lim_{n\\rightarrow\\infty}\\left(1+\\frac{1}{n}\\right)^{n}=e$."
   ]
  },
  {
   "cell_type": "markdown",
   "metadata": {},
   "source": [
    "_SOL._ Definimos $y=\\left(1+1/n\\right)^{n}$. Assim \n",
    "$$\\ln y=\\ln\\left(1+1/n\\right)^{n}=n\\ln (1+1/n) = \\frac{\\ln (1+1/n)}{1/n}$$ \n",
    "e \n",
    "$$\\lim_{n\\rightarrow\\infty}\\ln y = \\lim_{n\\rightarrow\\infty}\\frac{\\ln (1+1/n)}{1/n} = \\frac{\\ln (1+0)}{0} =\\frac{0}{0},$$ que é uma indefinição. Seguindo, usamos a regra de L'Hopital para obter\n",
    "\\begin{align}\n",
    "\\lim_{n\\rightarrow\\infty}\\ln y &= \\lim_{n\\rightarrow\\infty}\\frac{\\partial_{n}\\ln (1+1/n)}{\\partial_{n}(1/n)} = \\lim_{n\\rightarrow\\infty} \\frac{\\frac{1}{1+1/n}(0-1/n^{2})}{(-1/n^{2})}  = \\lim_{n\\rightarrow\\infty} \\frac{1}{1+1/n} = \\frac{1}{1+0} = 1, \\\\\n",
    "\\therefore e^{\\lim_{n\\rightarrow\\infty}\\ln y} &= e^{\\lim_{n\\rightarrow\\infty}\\ln\\left(1+1/n\\right)^{n}} = \\lim_{n\\rightarrow\\infty}e^{\\ln\\left(1+1/n\\right)^{n}} = \\lim_{n\\rightarrow\\infty}\\left(1+1/n\\right)^{n} = e^{1} = e.\n",
    "\\end{align}"
   ]
  },
  {
   "cell_type": "markdown",
   "metadata": {},
   "source": [
    "---\n",
    "$4.$ Verifique que $\\langle X_{j}^{2}\\rangle_{\\psi} = \\int dx_{j}|\\psi(x_{j})|^{2}x_{j}^{2}$."
   ]
  },
  {
   "cell_type": "markdown",
   "metadata": {},
   "source": [
    "_SOL._ \n",
    "\\begin{align}\n",
    "\\langle X_{j}^{2}\\rangle_{\\psi} &= \\langle\\psi|X_{j}^{2}|\\psi\\rangle =  \\langle\\psi|X_{j}^{2}\\mathbb{I}|\\psi\\rangle =  \\langle\\psi|X_{j}^{2}\\int dx_{j}|x_{j}\\rangle\\langle x_{j}|\\psi\\rangle =  \\int dx_{j}\\langle\\psi|X_{j}^{2}|x_{j}\\rangle \\psi(x_{j}) \\\\\n",
    "& = \\int dx_{j}\\langle\\psi|x_{j}^{2}|x_{j}\\rangle\\psi(x_{j}) = \\int dx_{j}x_{j}^{2}\\langle\\psi|x_{j}\\rangle\\psi(x_{j}) = \\int dx_{j}x_{j}^{2}\\psi(x_{j})^{*}\\psi(x_{j}) \\\\\n",
    "& = \\int dx_{j}x_{j}^{2}|\\psi(x_{j})|^{2}.\n",
    "\\end{align}"
   ]
  },
  {
   "cell_type": "markdown",
   "metadata": {},
   "source": [
    "---\n",
    "$5.$ Verifique que $\\langle P_{j}^{3}\\rangle_{\\psi} = \\int dx_{j}\\psi^{*}(x_{j})\\left(\\frac{\\hbar}{i}\\partial_{x_{j}}\\right)^{3}\\psi(x_{j})$."
   ]
  },
  {
   "cell_type": "markdown",
   "metadata": {},
   "source": [
    "_SOL._ Usando $\\langle x_{j}|P_{j}|\\psi\\rangle=\\frac{\\hbar}{i}\\partial_{x_{j}}\\langle x_{j}|\\psi\\rangle$, teremos\n",
    "\\begin{align}\n",
    "\\langle P_{j}^{3}\\rangle_{\\psi} &= \\langle\\psi|P_{j}^{3}|\\psi\\rangle = \\langle\\psi|P_{j}P_{j}P_{j}|\\psi\\rangle = \\langle\\psi|P_{j}P_{j}\\int dx_{j}|x_{j}\\rangle\\langle x_{j}|P_{j}|\\psi\\rangle \\\\\n",
    "& = \\int dx_{j}\\langle\\psi|P_{j}P_{j}|x_{j}\\rangle\\frac{\\hbar}{i}\\partial_{x_{j}}\\psi(x_{j}) = \\int dx_{j}\\langle\\psi|P_{j}\\int dx_{j}'|x_{j}'\\rangle\\langle x_{j}'|P_{j}\\big(\\frac{\\hbar}{i}\\partial_{x_{j}}\\psi(x_{j})|x_{j}\\rangle\\big) \\\\\n",
    "&  = \\int dx_{j}\\int dx_{j}'\\langle\\psi|P_{j}|x_{j}'\\rangle\\frac{\\hbar}{i}\\partial_{x_{j}'}\\langle x_{j}'|\\big(\\frac{\\hbar}{i}\\partial_{x_{j}}\\psi(x_{j})|x_{j}\\rangle\\big)  = \\int dx_{j}\\int dx_{j}'\\langle\\psi|P_{j}|x_{j}'\\rangle\\frac{\\hbar}{i}\\partial_{x_{j}'}\\big(\\frac{\\hbar}{i}\\partial_{x_{j}}\\psi(x_{j})\\langle x_{j}'||x_{j}\\rangle\\big) \\\\\n",
    "&  = \\int dx_{j}\\int dx_{j}'\\langle\\psi|P_{j}|x_{j}'\\rangle\\frac{\\hbar}{i}\\partial_{x_{j}'}\\big(\\frac{\\hbar}{i}\\partial_{x_{j}}\\psi(x_{j})\\delta(x_{j}'-x_{j})\\big)  = \\int dx_{j}\\langle\\psi|P_{j}|x_{j}\\rangle\\big(\\frac{\\hbar}{i}\\big)^{2}\\partial_{x_{j}}\\partial_{x_{j}}\\psi(x_{j}) \\\\\n",
    "&  = \\int dx_{j}\\langle\\psi|\\int dx_{j}'|x_{j}'\\rangle\\langle x_{j}'|P_{j}|x_{j}\\rangle\\big(\\frac{\\hbar}{i}\\big)^{2}\\partial_{x_{j}}\\partial_{x_{j}}\\psi(x_{j})  = \\int dx_{j}\\int dx_{j}'\\langle\\psi|x_{j}'\\rangle\\langle x_{j}'|P_{j}\\left(\\big(\\frac{\\hbar}{i}\\big)^{2}\\partial_{x_{j}}\\partial_{x_{j}}\\psi(x_{j})|x_{j}\\rangle\\right) \\\\\n",
    "&  = \\int dx_{j}\\int dx_{j}'\\langle\\psi|x_{j}'\\rangle\\frac{\\hbar}{i}\\partial_{x_{j}'}\\langle x_{j}'|\\left(\\big(\\frac{\\hbar}{i}\\big)^{2}\\partial_{x_{j}}\\partial_{x_{j}}\\psi(x_{j})|x_{j}\\rangle\\right)  = \\int dx_{j}\\int dx_{j}'\\psi(x_{j}')^{*}\\big(\\frac{\\hbar}{i}\\big)^{3}\\partial_{x_{j}'}\\partial_{x_{j}}\\partial_{x_{j}}\\psi(x_{j})\\langle x_{j}'||x_{j}\\rangle \\\\\n",
    "&  = \\int dx_{j}\\int dx_{j}'\\psi(x_{j}')^{*}\\big(\\frac{\\hbar}{i}\\big)^{3}\\partial_{x_{j}'}\\partial_{x_{j}}\\partial_{x_{j}}\\psi(x_{j})\\delta(x_{j}'-x_{j})  = \\int dx_{j}\\psi(x_{j})^{*}\\big(\\frac{\\hbar}{i}\\big)^{3}\\partial_{x_{j}}\\partial_{x_{j}}\\partial_{x_{j}}\\psi(x_{j}) \\\\\n",
    "& = \\int dx_{j}\\psi(x_{j})^{*}\\big(\\frac{\\hbar}{i}\\partial_{x_{j}}\\big)^{3}\\psi(x_{j}).\n",
    "\\end{align}"
   ]
  },
  {
   "cell_type": "markdown",
   "metadata": {},
   "source": [
    "---\n",
    "$6.$ Verifique que $\\langle x_{j}|P_{j}^{2}|\\psi\\rangle = -\\hbar^{2}\\partial_{x_{j}x_{j}}\\psi(x_{j})$."
   ]
  },
  {
   "cell_type": "markdown",
   "metadata": {},
   "source": [
    "_SOL._ Analogamente ao exercício 5, teremos\n",
    "\\begin{align}\n",
    "\\langle x_{j}|P_{j}^{2}|\\psi\\rangle &= \\langle x_{j}|P_{j}\\int dx_{j}'|x_{j}'\\rangle\\langle x_{j}'|P_{j}|\\psi\\rangle = \\int dx_{j}'\\langle x_{j}|P_{j}|x_{j}'\\rangle\\frac{\\hbar}{i}\\partial_{x_{j}'}\\langle x_{j}'|\\psi\\rangle \\\\\n",
    "& = \\int dx_{j}'\\langle x_{j}|P_{j}\\big(\\frac{\\hbar}{i}\\partial_{x_{j}'}\\psi(x_{j}')|x_{j}'\\rangle\\big) = \\int dx_{j}'\\frac{\\hbar}{i}\\partial_{x_{j}}\\langle x_{j}|\\big(\\frac{\\hbar}{i}\\partial_{x_{j}'}\\psi(x_{j}')|x_{j}'\\rangle\\big) \\\\\n",
    "& = \\int dx_{j}'\\frac{\\hbar}{i}\\partial_{x_{j}}\\frac{\\hbar}{i}\\partial_{x_{j}'}\\psi(x_{j}')\\langle x_{j}||x_{j}'\\rangle = \\int dx_{j}'\\frac{\\hbar}{i}\\partial_{x_{j}}\\frac{\\hbar}{i}\\partial_{x_{j}'}\\psi(x_{j}')\\delta(x_{j}-x_{j}') \\\\\n",
    "& = \\big(\\frac{\\hbar}{i}\\partial_{x_{j}}\\big)^{2}\\psi(x_{j}) = -\\hbar^{2}\\partial_{x_{j}x_{j}}\\psi(x_{j}).\n",
    "\\end{align}"
   ]
  },
  {
   "cell_type": "markdown",
   "metadata": {},
   "source": [
    "---\n",
    "$7.$ Verifique que $\\langle-\\vec{r}|\\vec{P}|\\psi\\rangle = i\\hbar\\vec{\\nabla}\\langle-\\vec{r}|\\psi\\rangle\\ \\forall\\ |\\psi\\rangle.$"
   ]
  },
  {
   "cell_type": "markdown",
   "metadata": {},
   "source": [
    "_SOL._ Começamos com a expressão obtida nas notas de aula\n",
    "$$T(\\delta x_{j})|\\psi\\rangle = \\int_{-\\infty}^{\\infty} dx_{j}'\\left(\\psi(x_{j}') - \\delta x_{j}\\partial_{x_{j}'}\\psi(x_{j}')\\right)|x_{j}'\\rangle,$$\n",
    "e tomamos o produto interno\n",
    "\\begin{align}\n",
    "\\langle -x_j|T(\\delta x_{j})|\\psi\\rangle & = \\int_{-\\infty}^{\\infty} dx_{j}'\\left(\\psi(x_{j}') - \\delta x_{j}\\partial_{x_{j}'}\\psi(x_{j}')\\right)\\langle -x_j|x_{j}'\\rangle \\\\\n",
    "& = \\int_{-\\infty}^{\\infty} dx_{j}'\\left(\\psi(x_{j}') - \\delta x_{j}\\partial_{x_{j}'}\\psi(x_{j}')\\right)\\delta(x'_j-(-x_{j})) \\\\\n",
    "& = \\psi(-x_j) - \\delta x_{j}\\partial_{-x_j}\\psi(-x_j) \\\\\n",
    "& = \\psi(-x_j) + \\delta x_{j}\\partial_{x_j}\\psi(-x_j),\n",
    "\\end{align}\n",
    "em que usamos que $\\partial_{-x_j}=\\partial_{x_j}.$ Seguindo, consideramos"
   ]
  },
  {
   "cell_type": "markdown",
   "metadata": {},
   "source": [
    "\\begin{align}\n",
    "\\langle -x_{j}|T(\\delta x_{j})|\\psi\\rangle & = \\langle -x_{j}|\\left(\\mathbb{I} - \\frac{i}{\\hbar}P_{j}\\delta x_{j}\\right)|\\psi\\rangle \\\\\n",
    "& = \\langle -x_{j}|\\psi\\rangle - \\delta x_{j}\\frac{i}{\\hbar}\\langle -x_{j}|P_{j}|\\psi\\rangle \\\\\n",
    "& = \\psi(-x_{j}) - \\delta x_{j}\\frac{i}{\\hbar}\\langle -x_{j}|P_{j}|\\psi\\rangle.\n",
    "\\end{align}\n",
    "\n",
    "Igualando essas expressões, obtemos\n",
    "$$\\langle -x_{j}|P_{j}|\\psi\\rangle = -\\frac{\\hbar}{i}\\partial_{x_j}\\psi(-x_j) = -\\frac{\\hbar}{i}\\partial_{x_j}\\langle -x_j|\\psi\\rangle.$$\n",
    "\n",
    "Como esta expressão vale para cada componente, usamos $|\\vec{r}\\rangle = |x_1\\rangle\\otimes|x_2\\rangle\\otimes|x_3\\rangle$ e $\\vec{P}=\\hat{e}_1 P_1\\otimes I_2\\otimes I_3 + \\hat{e}_2 I_1\\otimes P_2\\otimes I_3 + \\hat{e}_3 I_1\\otimes I_2\\otimes P_3$ para obter $\\langle-\\vec{r}|\\vec{P}|\\psi\\rangle = i\\hbar\\vec{\\nabla}\\langle-\\vec{r}|\\psi\\rangle\\ \\forall\\ |\\psi\\rangle$, analogamente ao procedimento feito nas notas de aula."
   ]
  }
 ],
 "metadata": {
  "kernelspec": {
   "display_name": "Python 3 (ipykernel)",
   "language": "python",
   "name": "python3"
  },
  "language_info": {
   "codemirror_mode": {
    "name": "ipython",
    "version": 3
   },
   "file_extension": ".py",
   "mimetype": "text/x-python",
   "name": "python",
   "nbconvert_exporter": "python",
   "pygments_lexer": "ipython3",
   "version": "3.12.2"
  }
 },
 "nbformat": 4,
 "nbformat_minor": 4
}
