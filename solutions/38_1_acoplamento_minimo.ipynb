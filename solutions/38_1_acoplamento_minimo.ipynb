{
 "cells": [
  {
   "cell_type": "markdown",
   "id": "f5a13c6b",
   "metadata": {},
   "source": [
    "### Notas de aula de Mecânica Quântica <br> Autor: Jonas Maziero\n",
    "# Exercícios: Acoplamento mínimo"
   ]
  },
  {
   "cell_type": "markdown",
   "id": "3448a220",
   "metadata": {},
   "source": [
    "---\n",
    "$1.$ Considere um oscilador harmônico quântico unidimensional (OHQ1D) com carga $q$ e massa $m$ sob a influência de um campo elétrico $\\vec{E}=-E\\hat{i}$ aplicado na mesma direção de oscilação do OHQ1D. Escolha um gauge no qual $\\vec{A}=\\vec{0}$; com isso teremos que $\\vec{E}=-\\vec{\\nabla}\\Phi\\ \\therefore\\ \\Phi = -EX.$ O Hamiltoniano desse sistema fica escrito como $H = \\frac{P^2}{2m} + \\frac{m\\omega^2}{2}X^2 + q\\Phi$. Faça a mudança de variável $\\Xi = aX + B$ e escolha $a=1$ e $B = \\frac{-qE}{m\\omega^2}I = bI$ para obter o hamiltoniano reescalado $H' = H - C =  \\frac{P_\\Xi^2}{2m} + \\frac{m\\omega^2}{2}\\Xi^2.$ Argumente que os autovalores e autofunções de $H$ são $E_n = \\hbar\\omega(n+1/2) + C$ e $\\psi_n(\\xi) = \\psi_n(x+b),$ repsectivamente."
   ]
  },
  {
   "cell_type": "markdown",
   "id": "553e7da4",
   "metadata": {},
   "source": [
    "_SOL._ Fazemos a mudança de variável\n",
    "$$\\Xi = aX + B,$$\n",
    "com $a$ e $B$ constantes. Teremos assim que\n",
    "$$P = \\frac{\\hbar}{i}\\frac{\\partial}{\\partial X} = \\frac{\\hbar}{i}\\frac{\\partial\\Xi}{\\partial X}\\frac{\\partial}{\\partial \\Xi} = a\\frac{\\hbar}{i}\\frac{\\partial}{\\partial \\Xi} = aP_\\Xi.$$\n",
    "Então, para\n",
    "$$a=1\\ \\therefore\\ P = P_\\Xi.$$\n",
    "Substituindo a mudança de variável no hamiltoniano, obteremos\n",
    "\\begin{align}\n",
    "H & = \\frac{P_\\Xi^2}{2m} + \\frac{m\\omega^2}{2}(\\Xi-B)^2 - qE(\\Xi-B) \\\\\n",
    "& = \\frac{P_\\Xi^2}{2m} + \\frac{m\\omega^2}{2}(\\Xi^2-2\\Xi B+B^2) - qE\\Xi + qEB \\\\\n",
    "& = \\frac{P_\\Xi^2}{2m} + \\frac{m\\omega^2}{2}\\Xi^2 - m\\omega^2\\Xi B + \\frac{m\\omega^2}{2}B^2 - qE\\Xi + qEB.\n",
    "\\end{align}\n",
    "\n",
    "Devemos ter\n",
    "$$-m\\omega^2 B - qE=0\\ \\therefore\\ B = \\frac{-qE}{m\\omega^2}I = bI.$$\n",
    "Com isso teremos que a constante\n",
    "\\begin{align}\n",
    "C & = \\frac{m\\omega^2}{2}B^2 + qEB = \\Big(\\frac{m\\omega^2}{2}\\Big(\\frac{-qE}{m\\omega^2}\\Big) + qE\\Big)B \\\\\n",
    "& = \\frac{qE}{2}B = \\frac{-q^2E^2}{2m\\omega^2}I\n",
    "\\end{align}\n",
    "pode ser utilizada para reescalar o hamiltoniano para um equivalente àquele do OHQ1D:\n",
    "$$H' = H - C =  \\frac{P_\\Xi^2}{2m} + \\frac{m\\omega^2}{2}\\Xi^2.$$\n",
    "Os autovalores e autovetores de $H'$ são obtidos como usual:\n",
    "$$E'_{n} = \\hbar\\omega(n+1/2);\\ |\\psi'_{n}\\rangle=|n\\rangle;\\ n=0,1,2,\\cdots.$$\n",
    "Os autovalores de $H$ são então\n",
    "$$E_n = E'_n + C$$\n",
    "e as autofunções na base da posição são\n",
    "$$\\psi_n(\\xi) = \\psi_n(x+b).$$\n",
    "Ou seja, o sistema obtido é um OHQ1D deslocado."
   ]
  },
  {
   "cell_type": "code",
   "execution_count": null,
   "id": "65e5daaf-8378-4f5c-a005-0102abe6b99c",
   "metadata": {},
   "outputs": [],
   "source": []
  }
 ],
 "metadata": {
  "kernelspec": {
   "display_name": "Python 3 (ipykernel)",
   "language": "python",
   "name": "python3"
  },
  "language_info": {
   "codemirror_mode": {
    "name": "ipython",
    "version": 3
   },
   "file_extension": ".py",
   "mimetype": "text/x-python",
   "name": "python",
   "nbconvert_exporter": "python",
   "pygments_lexer": "ipython3",
   "version": "3.11.1"
  }
 },
 "nbformat": 4,
 "nbformat_minor": 5
}
