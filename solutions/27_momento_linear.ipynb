{
 "cells": [
  {
   "cell_type": "markdown",
   "metadata": {},
   "source": [
    "### Notas de aula de Mecânica Quântica <br> Autor: Jonas Maziero\n",
    "\n",
    "# Exercícios"
   ]
  },
  {
   "cell_type": "markdown",
   "metadata": {},
   "source": [
    "---\n",
    "$1.$ Usando o operador de mudança de momento linear $T_{p}(\\delta p_{j})=\\mathbb{I}-(i/\\hbar)X_{j}\\delta p_{j}$, tal que $T_{p}(\\delta p_{j})|p_{j}\\rangle=|p_{j}+\\delta p_{j}\\rangle$, verifique que, na base de momento linear, o operador posição atua de forma tal que $\\langle p_{j}|X_{j}|\\psi\\rangle=-i\\hbar\\partial_{p_{j}}\\langle p_{j}|\\psi\\rangle$."
   ]
  },
  {
   "cell_type": "markdown",
   "metadata": {},
   "source": [
    "_SOL._ Começamos notando que\n",
    "\\begin{align}\n",
    "\\langle p_{j}|T_{p}(\\delta p_{j})|\\psi\\rangle &= \\langle p_{j}|\\big(\\mathbb{I}-(i/\\hbar)X_{j}\\delta p_{j}\\big)|\\psi\\rangle = \\langle p_{j}|\\psi\\rangle-(i/\\hbar)\\delta p_{j}\\langle p_{j}|X_{j}|\\psi\\rangle.\n",
    "\\end{align}\n",
    "Mas também podemos escrever\n",
    "\\begin{align}\n",
    "\\langle p_{j}|T_{p}(\\delta p_{j})|\\psi\\rangle &= \\langle p_{j}|T_{p}(\\delta p_{j})\\mathbb{I}_{p}|\\psi\\rangle = \\langle p_{j}|T_{p}(\\delta p_{j})\\int_{-\\infty}^{+\\infty}dp_{j}'|p_{j}'\\rangle\\langle p_{j}'|\\psi\\rangle \\\\\n",
    "& = \\langle p_{j}|\\int_{-\\infty}^{+\\infty}dp_{j}'\\psi(p_{j}')T_{p}(\\delta p_{j})|p_{j}'\\rangle = \\langle p_{j}|\\int_{-\\infty}^{+\\infty}dp_{j}'\\psi(p_{j}')|p_{j}'+\\delta p_{j}\\rangle \\\\\n",
    "& = \\langle p_{j}|\\int_{-\\infty}^{+\\infty}dp_{j}'\\psi(p_{j}'-\\delta p_{j})|p_{j}'\\rangle \\approx \\langle p_{j}|\\int_{-\\infty}^{+\\infty}dp_{j}'\\big(\\psi(p_{j}')-\\delta p_{j}\\partial_{p_{j}'}\\psi(p_{j}')\\big)|p_{j}'\\rangle \\\\\n",
    "& = \\int_{-\\infty}^{+\\infty}dp_{j}'\\big(\\psi(p_{j}')-\\delta p_{j}\\partial_{p_{j}'}\\psi(p_{j}')\\big)\\langle p_{j}|p_{j}'\\rangle  = \\int_{-\\infty}^{+\\infty}dp_{j}'\\big(\\psi(p_{j}')-\\delta p_{j}\\partial_{p_{j}'}\\psi(p_{j}')\\big)\\delta(p_{j}-p_{j}') \\\\\n",
    "& = \\psi(p_{j})-\\delta p_{j}\\partial_{p_{j}}\\psi(p_{j}) = \\langle p_{j}|\\psi\\rangle - \\delta p_{j}\\partial_{p_{j}}\\langle p_{j}|\\psi\\rangle.\n",
    "\\end{align}\n",
    "Comparando essas duas equações, vemos que $$\\langle p_{j}|X_{j}|\\psi\\rangle=-i\\hbar\\partial_{p_{j}}\\langle p_{j}|\\psi\\rangle.$$\n"
   ]
  },
  {
   "cell_type": "markdown",
   "metadata": {},
   "source": [
    "---\n",
    "$2.$ Verifique que a função $\\langle\\vec{x}|\\vec{p}\\rangle = Ce^{i\\vec{p}\\cdot\\vec{x}/\\hbar}$, com $C\\in\\mathbb{C}$ constante, satisfaz a eq. diferencial $\\vec{\\nabla}_{\\vec{x}}\\langle\\vec{x}|\\vec{p}\\rangle =(i\\vec{p}/\\hbar)\\langle\\vec{x}|\\vec{p}\\rangle$."
   ]
  },
  {
   "cell_type": "markdown",
   "metadata": {},
   "source": [
    "_SOL._ \n",
    "\\begin{align}\n",
    "\\vec{\\nabla}_{\\vec{x}}\\langle\\vec{x}|\\vec{p}\\rangle &= \\vec{\\nabla}_{\\vec{x}}Ce^{i\\vec{p}\\cdot\\vec{x}/\\hbar} = (\\hat{i}\\partial_{x}+\\hat{j}\\partial_{y}+\\hat{k}\\partial_{z})Ce^{(i/\\hbar)(p_{x}x+p_{y}y+p_{z}z)} \\\\\n",
    "&= (\\hat{i}(i/\\hbar)p_{x}+\\hat{j}(i/\\hbar)p_{y}+\\hat{k}(i/\\hbar)p_{z})Ce^{(i/\\hbar)(p_{x}x+p_{y}y+p_{z}z)} \\\\\n",
    "&= (i\\vec{p}/\\hbar)Ce^{i\\vec{p}\\cdot\\vec{x}/\\hbar}.\n",
    "\\end{align}"
   ]
  }
 ],
 "metadata": {
  "kernelspec": {
   "display_name": "Python 3 (ipykernel)",
   "language": "python",
   "name": "python3"
  },
  "language_info": {
   "codemirror_mode": {
    "name": "ipython",
    "version": 3
   },
   "file_extension": ".py",
   "mimetype": "text/x-python",
   "name": "python",
   "nbconvert_exporter": "python",
   "pygments_lexer": "ipython3",
   "version": "3.11.1"
  }
 },
 "nbformat": 4,
 "nbformat_minor": 4
}
