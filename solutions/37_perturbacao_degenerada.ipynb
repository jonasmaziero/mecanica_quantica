{
 "cells": [
  {
   "cell_type": "markdown",
   "id": "799cb586",
   "metadata": {},
   "source": [
    "### Notas de aula de Mecânica Quântica <br> Autor: Jonas Maziero\n",
    "# Exercícios"
   ]
  },
  {
   "cell_type": "markdown",
   "id": "86bb22bf-119d-4056-90c9-70c8b172d566",
   "metadata": {},
   "source": [
    "---\n",
    "$1.$ Para espectros discretos degenerados, mostre que as correções de 2ª ordem para a energia são obtidas diagonalizando o operador (não esqueça de usar a expansão de Rayleigh-Schrödinger):\n",
    "\\begin{equation}\n",
    "H_{2}^{(n)}=\\sum_{m\\ne n}\\sum_{j=1}^{d_{m}}\\frac{H_{1}|\\psi_{m,j}^{(0)}\\rangle\\langle\\psi_{m,j}^{(0)}|H_{1}}{E_{n}^{(0)}-E_{m}^{(0)}}.\n",
    "\\end{equation}"
   ]
  },
  {
   "cell_type": "markdown",
   "id": "c29ba1b1-e737-410c-ab61-fe1d9519043e",
   "metadata": {},
   "source": [
    "_SOL._ Temos que igualar os coeficientes de $\\xi^2$ na eq. ($\\diamond$) das notas de aula. Primeiramente lembremos da expansão de Rayleigh-Schrödinger (que foi introduzina nas notas de aula sobre teoria de perturbação independente do tempo para estados não degenerados):\n",
    "$$\\frac{1}{E_{n}-E_{m}^{(0)}} = \\xi^{0}\\frac{1}{E_{n}^{(0)} - E_{m}^{(0)}} - \\xi^{1}\\frac{E_{n}^{(1)}}{(E_{n}^{(0)}-E_{m}^{(0)})^{2}} + \\xi^{2}\\left( \\frac{E_{n}^{(2)}}{(E_{n}^{(0)}-E_{m}^{(0)})^{2}} + \\frac{(E_{n}^{(1)})^{2}}{(E_{n}^{(0)}-E_{m}^{(0)})^{3}}\\right) - \\cdots.$$\n",
    "Substituindo essa equação na na eq. ($\\diamond$) das notas de aula, vemos os únicos termos que multiplicam $\\xi^2$ são:\n",
    "\\begin{align}\n",
    "E_n^{(2)} c_{n,l} & = \\sum_{k=1}^{d_{n}}\\sum_{m\\ne n}\\sum_{j=1}^{d_{m}}\\frac{\\langle\\psi_{n,l}^{(0)}|H_{1}|\\psi_{m,j}^{(0)}\\rangle\\langle\\psi_{m,j}^{(0)}|H_{1}|\\psi_{n,k}^{(0)}\\rangle}{E_{n}-E_{m}^{(0)}}c_{n,k} \\\\\n",
    "& = \\sum_{k=1}^{d_{n}} \\langle\\psi_{n,l}^{(0)}|\\Big(\\sum_{m\\ne n}\\sum_{j=1}^{d_{m}}\\frac{H_{1}|\\psi_{m,j}^{(0)}\\rangle\\langle\\psi_{m,j}^{(0)}|H_{1}}{E_{n}-E_{m}^{(0)}}\\Big)|\\psi_{n,k}^{(0)}\\rangle c_{n,k} \\\\\n",
    "& = \\sum_{k=1}^{d_{n}} \\langle\\psi_{n,l}^{(0)}|H_2^{(n)}|\\psi_{n,k}^{(0)}\\rangle c_{n,k}.\n",
    "\\end{align}\n",
    "Essas $d_n$ equações são equivalentes a uma única equação matricial:\n",
    "\\begin{equation}\n",
    "E_{n}^{(2)}\\begin{bmatrix} c_{n,1} \\\\ c_{n,2} \\\\ \\vdots \\\\ c_{n,d_{n}} \\end{bmatrix} =\n",
    "\\begin{bmatrix} \n",
    "H_{2}^{n(1,1)} & H_{2}^{n(1,2)} & \\cdots & H_{2}^{n(1,d_{n})} \\\\\n",
    "H_{2}^{n(2,1)} & H_{2}^{n(2,2)} & \\cdots & H_{2}^{n(2,d_{n})} \\\\\n",
    "\\vdots & \\vdots & \\ddots & \\vdots \\\\\n",
    "H_{2}^{n(d_{n},1)} & H_{2}^{n(d_{n},2)} & \\cdots & H_{2}^{n(d_{n},d_{n})}\n",
    "\\end{bmatrix} \n",
    "\\begin{bmatrix} c_{n,1} \\\\ c_{n,2} \\\\ \\vdots \\\\ c_{n,d_{n}} \\end{bmatrix},\n",
    "\\end{equation}\n",
    "com \n",
    "$$H_2^{n(l,k)} = \\langle\\psi_{n,l}^{(0)}|H_2^{(n)}|\\psi_{n,k}^{(0)}\\rangle.$$"
   ]
  },
  {
   "cell_type": "markdown",
   "id": "c7b4846b",
   "metadata": {},
   "source": [
    "---\n",
    "$2.$ Calcule as correções perturbativas de 1ª ordem para as energias do oscilador carregado bidimensional em um campo magnético, para o qual $H_{1} = gi\\hbar(a_{2}^{\\dagger}a_{1} - a_{1}^{\\dagger}a_{2})$, no caso em que $n_{1}+n_{2}=3$."
   ]
  },
  {
   "cell_type": "markdown",
   "id": "09121b42",
   "metadata": {},
   "source": [
    "_SOL._ A combinação de estados locais que satisfaz essa restrição é a seguinte:\n",
    "$$\\{|3,0\\rangle,|0,3\\rangle,|2,1\\rangle,|1,2\\rangle\\}.$$\n",
    "Vamos usar o resultado demonstrado nas notas de aula:\n",
    "$$\\langle n_{1},n_{2}|H_{1}|n_{1}',n_{2}'\\rangle = i\\hbar g\\left(\\sqrt{(n_{2}'+1)n_{1}'}\\delta_{n_{1},n_{1}'-1}\\delta_{n_{2},n_{2}'+1} - \\sqrt{(n_{1}'+1)n_{2}'}\\delta_{n_{1},n_{1}'+1}\\delta_{n_{2},n_{2}'-1}\\right).$$\n",
    "Esse resultado implica que todos os elementos na diagonal principal da matriz que representa $H_{1}$ neste sub-espaço são nulos:\n",
    "$$\\langle3,0|H_{1}|3,0\\rangle=\\langle0,3|H_{1}|0,3\\rangle=\\langle2,1|H_{1}|2,1\\rangle=\\langle1,2|H_{1}|1,2\\rangle=0.$$"
   ]
  },
  {
   "cell_type": "markdown",
   "id": "7071b99c",
   "metadata": {},
   "source": [
    "Ademais\n",
    "\\begin{align}\n",
    "\\langle3,0|H_{1}|0,3\\rangle & =  \\langle0,3|H_{1}|3,0\\rangle = 0 \\text{ pois } \\delta_{3,0-1}\\delta_{0,3+1}=\\delta_{3,0+1}\\delta_{0,3-1}=0, \\\\\n",
    "\\langle3,0|H_{1}|2,1\\rangle & = i\\hbar g\\left(\\sqrt{(1+1)2}\\delta_{3,2-1}\\delta_{0,1+1} - \\sqrt{(2+1)1}\\delta_{3,2+1}\\delta_{0,1-1}\\right) = i\\hbar g\\sqrt{3} \\\\\n",
    "& = \\langle3,0|H_{1}|2,1\\rangle^{*}, \\\\\n",
    "\\langle3,0|H_{1}|1,2\\rangle & =  \\langle1,2|H_{1}|3,0\\rangle = 0 \\text{ pois } \\delta_{3,1-1}\\delta_{0,2+1}=\\delta_{3,1+1}\\delta_{0,2-1}=0, \\\\\n",
    "\\langle0,3|H_{1}|1,2\\rangle & =  \\langle1,2|H_{1}|0,3\\rangle = 0 \\text{ pois } \\delta_{0,2-1}\\delta_{3,1+1}=\\delta_{0,2+1}\\delta_{3,1-1}=0, \\\\\n",
    "\\langle0,3|H_{1}|1,2\\rangle & = i\\hbar g\\left(\\sqrt{(2+1)1}\\delta_{0,1-1}\\delta_{3,2+1} - \\sqrt{(1+1)2}\\delta_{0,1+1}\\delta_{3,2-1}\\right) = i\\hbar g\\sqrt{3} \\\\\n",
    "& = \\langle1,2|H_{1}|0,3\\rangle^{*}, \\\\\n",
    "\\langle2,1|H_{1}|1,2\\rangle & = i\\hbar g\\left(\\sqrt{(2+1)1}\\delta_{2,1-1}\\delta_{1,2+1} - \\sqrt{(1+1)2}\\delta_{2,1+1}\\delta_{1,2-1}\\right) = i\\hbar g2 \\\\\n",
    "& = \\langle1,2|H_{1}|2,1\\rangle^{*}.\n",
    "\\end{align}"
   ]
  },
  {
   "cell_type": "markdown",
   "id": "9f93a062",
   "metadata": {},
   "source": [
    "Com isso, obtemos\n",
    "$$H_{1} = \n",
    "\\begin{bmatrix} \n",
    "0 & 0 & i\\hbar g\\sqrt{3} & 0 \\\\\n",
    "0 & 0 & 0 & i\\hbar g\\sqrt{3} \\\\ \n",
    "-i\\hbar g\\sqrt{3} & 0 & 0 & i\\hbar g2 \\\\\n",
    "0 & -i\\hbar g\\sqrt{3} & -i\\hbar g2 & 0\n",
    "\\end{bmatrix}.$$\n",
    "Usamos o código abaixo para obter os autovalores dessa matriz. Com isso, teremos as seguintes correções perturbativas para a energia\n",
    "\\begin{equation}\n",
    "E_{3}^{(0)} = 4\\hbar\\omega \\longrightarrow \\begin{cases} 4\\hbar\\omega + 3g\\hbar \\\\ 4\\hbar\\omega +g\\hbar \\\\ 4\\hbar\\omega -g\\hbar \\\\ 4\\hbar\\omega -3g\\hbar \\end{cases}.\n",
    "\\end{equation}"
   ]
  },
  {
   "cell_type": "code",
   "execution_count": 102,
   "id": "d20d7858",
   "metadata": {},
   "outputs": [
    {
     "data": {
      "image/png": "[encoded data removed]",
      "text/latex": [
       "$\\displaystyle \\left[\\begin{matrix}0 & 0 & 1.0 \\sqrt{3} i g \\hbar & 0\\\\0 & 0 & 0 & 1.0 \\sqrt{3} i g \\hbar\\\\- 1.0 \\sqrt{3} i g \\hbar & 0 & 0 & 2.0 i g \\hbar\\\\0 & - 1.0 \\sqrt{3} i g \\hbar & - 2.0 i g \\hbar & 0\\end{matrix}\\right]$"
      ],
      "text/plain": [
       "⎡      0              0        1.0⋅√3⋅ⅈ⋅g⋅h̅       0      ⎤\n",
       "⎢                                                        ⎥\n",
       "⎢      0              0             0        1.0⋅√3⋅ⅈ⋅g⋅h̅⎥\n",
       "⎢                                                        ⎥\n",
       "⎢-1.0⋅√3⋅ⅈ⋅g⋅h̅        0             0         2.0⋅ⅈ⋅g⋅h̅  ⎥\n",
       "⎢                                                        ⎥\n",
       "⎣      0        -1.0⋅√3⋅ⅈ⋅g⋅h̅   -2.0⋅ⅈ⋅g⋅h̅        0      ⎦"
      ]
     },
     "execution_count": 102,
     "metadata": {},
     "output_type": "execute_result"
    }
   ],
   "source": [
    "from sympy import symbols, Matrix, sqrt, init_printing\n",
    "init_printing(use_unicode=True)\n",
    "\n",
    "hbb, g = symbols('hbar g')\n",
    "H1 = Matrix([[0,0,1j*hbb*g*sqrt(3),0],\n",
    "             [0,0,0,1j*hbb*g*sqrt(3)],\n",
    "             [-1j*hbb*g*sqrt(3),0,0,1j*hbb*g*2],\n",
    "             [0,-1j*hbb*g*sqrt(3),-1j*hbb*g*2,0]])\n",
    "H1"
   ]
  },
  {
   "cell_type": "code",
   "execution_count": 5,
   "id": "b3b4f40c",
   "metadata": {},
   "outputs": [
    {
     "data": {
      "image/png": "[encoded data removed]",
      "text/latex": [
       "$\\displaystyle \\left\\{ - 3.0 g \\hbar : 1, \\  - 1.0 g \\hbar : 1, \\  1.0 g \\hbar : 1, \\  3.0 g \\hbar : 1\\right\\}$"
      ],
      "text/plain": [
       "{-3.0⋅g⋅h̅: 1, -1.0⋅g⋅h̅: 1, 1.0⋅g⋅h̅: 1, 3.0⋅g⋅h̅: 1}"
      ]
     },
     "execution_count": 5,
     "metadata": {},
     "output_type": "execute_result"
    }
   ],
   "source": [
    "H1.eigenvals()"
   ]
  },
  {
   "cell_type": "markdown",
   "id": "9f54dc2f-95f9-4424-b805-f6cc0305629f",
   "metadata": {},
   "source": [
    "---\n",
    "$3.$ Considere um oscilador harmônico quântico carregado eletricamente e na presença de um campo magnético constante no tempo e no espaço. Calcule as correções de 1ª ordem para autovalor de energia $5\\hbar\\omega$, no contexto de exemplo feito em aula."
   ]
  },
  {
   "cell_type": "markdown",
   "id": "e7d8bc5b-238e-4371-9834-ad40225c2c60",
   "metadata": {},
   "source": [
    "_SOL._ $E = \\hbar\\omega(n_1+n_2+1) = 5 \\hbar\\omega$. Assim $n_1+n_2=4$, que é satisfeito por $\\{|4,0\\rangle,|0,4\\rangle,|3,1\\rangle,|1,3\\rangle,|2,2\\rangle\\}.$ Como obtido com o código abaixo, as correções são\n",
    "$$5\\hbar\\omega \\rightarrow \\begin{cases}5\\hbar+4g\\hbar\\\\5\\hbar+2g\\hbar\\\\5\\hbar+0\\\\5\\hbar-2g\\hbar\\\\5\\hbar-4g\\hbar\\end{cases}.$$"
   ]
  },
  {
   "cell_type": "code",
   "execution_count": 6,
   "id": "ac94177e-e382-4771-8366-8aebf0e1c84a",
   "metadata": {},
   "outputs": [
    {
     "data": {
      "image/png": "[encoded data removed]",
      "text/latex": [
       "$\\displaystyle \\left[\\begin{matrix}0 & 0 & - 2.0 i g \\hbar & 0 & 0\\\\0 & 0 & 0 & 2.0 i g \\hbar & 0\\\\2.0 i g \\hbar & 0 & 0 & 0 & - 1.0 \\sqrt{6} i g \\hbar\\\\0 & - 2.0 i g \\hbar & 0 & 0 & 1.0 \\sqrt{6} i g \\hbar\\\\0 & 0 & 1.0 \\sqrt{6} i g \\hbar & - 1.0 \\sqrt{6} i g \\hbar & 0\\end{matrix}\\right]$"
      ],
      "text/plain": [
       "⎡    0          0        -2.0⋅ⅈ⋅g⋅h̅         0              0      ⎤\n",
       "⎢                                                                 ⎥\n",
       "⎢    0          0            0          2.0⋅ⅈ⋅g⋅h̅          0      ⎥\n",
       "⎢                                                                 ⎥\n",
       "⎢2.0⋅ⅈ⋅g⋅h̅      0            0              0        -1.0⋅√6⋅ⅈ⋅g⋅h̅⎥\n",
       "⎢                                                                 ⎥\n",
       "⎢    0      -2.0⋅ⅈ⋅g⋅h̅       0              0        1.0⋅√6⋅ⅈ⋅g⋅h̅ ⎥\n",
       "⎢                                                                 ⎥\n",
       "⎣    0          0       1.0⋅√6⋅ⅈ⋅g⋅h̅  -1.0⋅√6⋅ⅈ⋅g⋅h̅        0      ⎦"
      ]
     },
     "execution_count": 6,
     "metadata": {},
     "output_type": "execute_result"
    }
   ],
   "source": [
    "from sympy import symbols, sqrt, Matrix, init_printing\n",
    "init_printing(use_unicode=True)\n",
    "g,hbb = symbols('g hbar')\n",
    "\n",
    "def H1_OHQ2D(n1,n2,n1l,n2l):\n",
    "    if n1 == n1l-1 and n2 == n2l+1:\n",
    "        return 1j*g*hbb*sqrt(n1l*(n2l+1))\n",
    "    elif n1 == n1l+1 and n2 == n2l-1:\n",
    "        return -1j*g*hbb*sqrt((n1l+1)*n2l)\n",
    "    else:\n",
    "        return 0\n",
    "    \n",
    "H1 = Matrix([[H1_OHQ2D(4,0,4,0),H1_OHQ2D(4,0,0,4),H1_OHQ2D(4,0,3,1),H1_OHQ2D(4,0,1,3),H1_OHQ2D(4,0,2,2)],\n",
    "            [H1_OHQ2D(0,4,4,0),H1_OHQ2D(0,4,0,4),H1_OHQ2D(0,4,3,1),H1_OHQ2D(0,4,1,3),H1_OHQ2D(0,4,2,2)],\n",
    "            [H1_OHQ2D(3,1,4,0),H1_OHQ2D(3,1,0,4),H1_OHQ2D(3,1,3,1),H1_OHQ2D(3,1,1,3),H1_OHQ2D(3,1,2,2)],\n",
    "            [H1_OHQ2D(1,3,4,0),H1_OHQ2D(1,3,0,4),H1_OHQ2D(1,3,3,1),H1_OHQ2D(1,3,1,3),H1_OHQ2D(1,3,2,2)],\n",
    "            [H1_OHQ2D(2,2,4,0),H1_OHQ2D(2,2,0,4),H1_OHQ2D(2,2,3,1),H1_OHQ2D(2,2,1,3),H1_OHQ2D(2,2,2,2)]])\n",
    "H1"
   ]
  },
  {
   "cell_type": "code",
   "execution_count": 7,
   "id": "bd04419a-ed4d-46aa-be8a-bc806dc9b436",
   "metadata": {},
   "outputs": [
    {
     "data": {
      "image/png": "[encoded data removed]",
      "text/latex": [
       "$\\displaystyle \\left\\{ 0 : 1, \\  - 4.0 g \\hbar : 1, \\  - 2.0 g \\hbar : 1, \\  2.0 g \\hbar : 1, \\  4.0 g \\hbar : 1\\right\\}$"
      ],
      "text/plain": [
       "{0: 1, -4.0⋅g⋅h̅: 1, -2.0⋅g⋅h̅: 1, 2.0⋅g⋅h̅: 1, 4.0⋅g⋅h̅: 1}"
      ]
     },
     "execution_count": 7,
     "metadata": {},
     "output_type": "execute_result"
    }
   ],
   "source": [
    "H1.eigenvals()"
   ]
  },
  {
   "cell_type": "markdown",
   "id": "6ab703c9-4b27-4908-806f-0c4b818cbf30",
   "metadata": {},
   "source": [
    "---\n",
    "$4.$ Considere um sistema de três níveis com Hamiltoniano não perturbado $H_{0} = \\begin{bmatrix} a & 0 & 0 \\\\ 0 & b & 0 \\\\ 0 & 0 & a \\end{bmatrix}$ e sujeito a uma interação perturbativa $H_{1} = \\begin{bmatrix} 0 & 0 & c \\\\ 0 & 0 & 0 \\\\ c & 0 & 0 \\end{bmatrix}$, com $a,b,c\\in\\mathbb{R}_{+}$. Calcule as correções perturbativas de primeira ordem (caso degenerado) para a energia desse sistema."
   ]
  },
  {
   "cell_type": "markdown",
   "id": "388eb050-6d96-4b01-9cf2-61e6d715754e",
   "metadata": {},
   "source": [
    "_SOL._ Nossa equação essencial aqui é $E_{n}^{(1)}c_{n,l} = \\sum_{k=1}^{d_{n}}\\langle\\psi_{n,l}^{(0)}|H_{1}|\\psi_{n,k}^{(0)}\\rangle c_{n,k}$. Neste problema teremos $E_{1}^{(0)}=a$, $|\\psi_{1,1}^{(0)}\\rangle=|1\\rangle$, $|\\psi_{1,2}^{(0)}\\rangle=|3\\rangle$ e\n",
    "\\begin{align}\n",
    "& E_{1}^{(1)}\\begin{bmatrix} c_{1,1} \\\\ c_{1,2} \\end{bmatrix} = \\begin{bmatrix} \\langle\\psi_{1,1}^{(0)}|H_{1}|\\psi_{1,1}^{(0)}\\rangle & \\langle\\psi_{1,1}^{(0)}|H_{1}|\\psi_{1,2}^{(0)}\\rangle \\\\ \\langle\\psi_{1,2}^{(0)}|H_{1}|\\psi_{1,1}^{(0)}\\rangle & \\langle\\psi_{1,2}^{(0)}|H_{1}|\\psi_{1,2}^{(0)}\\rangle \\end{bmatrix}\\begin{bmatrix} c_{1,1} \\\\ c_{1,2} \\end{bmatrix}=\\begin{bmatrix} \\langle 1|H_{1}|1\\rangle & \\langle 1|H_{1}|3\\rangle \\\\ \\langle3|H_{1}|1\\rangle & \\langle 3|H_{1}|3\\rangle \\end{bmatrix}\\begin{bmatrix} c_{1,1} \\\\ c_{1,2} \\end{bmatrix} \\\\ \n",
    "& = \\begin{bmatrix} 0 & c \\\\ c & 0 \\end{bmatrix}\\begin{bmatrix} c_{1,1} \\\\ c_{1,2} \\end{bmatrix} =\\tilde{H}_{1}\\begin{bmatrix} c_{1,1} \\\\ c_{1,2}\\end{bmatrix}.\n",
    "\\end{align}\n",
    "As correções de primeira ordem, $E_{1}^{(1)}$, são dadas pelos autovalores de $\\tilde{H}_{1}$, que são obtidos de:\n",
    "\\begin{equation}\n",
    "\\det(\\tilde{H}_{1}-\\lambda\\mathbb{I}_{3})=\\det\\begin{bmatrix} -\\lambda & c \\\\ c & -\\lambda\\end{bmatrix} = \\lambda^{2}- c^{2}.\n",
    "\\end{equation}\n",
    "Ou seja, $E_{1}^{(1)}=\\pm c$ e $E_{1}=E_{1}^{(0)}+E_{1}^{(1)} = a\\pm c$. <br>\n",
    "Abaixo está mostrado o resultado exato."
   ]
  },
  {
   "cell_type": "markdown",
   "id": "b0160c43-c30a-4c9b-b2d1-2a3d223f3117",
   "metadata": {},
   "source": [
    "---\n",
    "$5.$ Considere um sistema quântico de quatro níveis com Hamiltoniano não perturbado $H_{0} = \\begin{bmatrix} \n",
    " a & 0 & 0 & 0 \\\\ \n",
    " 0 & a & 0 & 0 \\\\\n",
    " 0 & 0 & b & 0 \\\\ \n",
    " 0 & 0 & 0 & c \n",
    "\\end{bmatrix},$ e sujeito a uma interação perturbativa $H_{1} = \\begin{bmatrix} \n",
    " d & 0 & 0 & e \\\\ \n",
    " 0 & f & 0 & 0 \\\\\n",
    " 0 & 0 & 0 & 0 \\\\ \n",
    " e & 0 & 0 & d \n",
    "\\end{bmatrix},$\n",
    "com $a,b,c,d,f \\in \\mathbb{R}$ e $e \\in \\mathbb{C}$. Calcule as correções perturbativas de 1ª ordem para as energias desse sistema."
   ]
  },
  {
   "cell_type": "markdown",
   "id": "1cf95443-e5e3-45d4-9ab8-f8fd86efe670",
   "metadata": {},
   "source": [
    "_SOL._ De $H_{0}$, temos os seguintes estados degenerados $|0\\rangle$ e $|1\\rangle$, com $E_{1}^{(0)} = a$. Para resolver este problema devemos obter a seguinte matriz\n",
    "\\begin{equation}\n",
    "    H_{2} = \\begin{pmatrix} \n",
    "                \\langle 0 |H_{1}| 0 \\rangle & \\langle 0 |H_{1}| 1 \\rangle \\\\\n",
    "                \\langle 1 |H_{1}| 0 \\rangle & \\langle 1 |H_{1}| 1 \\rangle\n",
    "            \\end{pmatrix}.\n",
    "\\end{equation}\n",
    "Sabendo que $H_{1}|0\\rangle = d|0\\rangle + e |3\\rangle$ e $H_{1}|1\\rangle = f|1\\rangle$, vem que\n",
    "\\begin{equation}\n",
    "    H_{2} = \\begin{pmatrix} \n",
    "                d & 0 \\\\\n",
    "                0 & f\n",
    "            \\end{pmatrix},\n",
    "\\end{equation}\n",
    "cujos autovalores são $\\lambda=d,f$.\n",
    "\n",
    "Para os autovalores não perturbados $b$ e $b$ teremos as seguintes correções\n",
    "\\begin{align}\n",
    "E_b^{(1)} & = \\langle b|H_1|b\\rangle = \\begin{bmatrix} 0 & 0 & 1 & 0 \\end{bmatrix}\\begin{bmatrix} d & 0 & 0 & e \\\\ 0 & f & 0 & 0 \\\\ 0 & 0 & 0 & 0 \\\\ e & 0 & 0 & d \n",
    "\\end{bmatrix}\\begin{bmatrix} 0 \\\\ 0 \\\\ 1 \\\\ 0 \\end{bmatrix} = 0, \\\\\n",
    "E_c^{(1)} & = \\langle c|H_1|c\\rangle = \\begin{bmatrix} 0 & 0 & 0 & 1 \\end{bmatrix}\\begin{bmatrix} d & 0 & 0 & e \\\\ 0 & f & 0 & 0 \\\\ 0 & 0 & 0 & 0 \\\\ e & 0 & 0 & d \n",
    "\\end{bmatrix}\\begin{bmatrix} 0 \\\\ 0 \\\\ 0 \\\\ 1 \\end{bmatrix} = \\begin{bmatrix} 0 & 0 & 0 & 1 \\end{bmatrix}\\begin{bmatrix} e \\\\ 0 \\\\ 0 \\\\ d \\end{bmatrix} = d.\n",
    "\\end{align}\n",
    "\n",
    "\n",
    "As correções para os autovalores são\n",
    "\\begin{equation}\n",
    "\\begin{cases}a\\\\a\\\\b\\\\c\\end{cases} \\rightarrow \\begin{cases}a +d \\\\a + f \\\\ b \\\\c +d \\end{cases}.\n",
    "\\end{equation}"
   ]
  },
  {
   "cell_type": "markdown",
   "id": "e7fe4506-119c-4cab-84c1-d706f8cc5f09",
   "metadata": {},
   "source": [
    "---\n",
    "$6.$ Considere o potencial tipo poço retangular infinito bidimensional: $U = \\begin{cases}0\\ \\text{para}\\ 0\\le x\\le L_x\\ \\text{e}\\ 0\\le y\\le L_y \\\\ \\infty\\ \\text{para os outros casos}\\end{cases}$, para o qual as autofunções e autoenergias das equação de Schrödinger independente do tempo são, respectivamente, dadas por $\\psi_{n_x,n_y}(x,y)=\\sqrt{\\frac{4}{L_x L_y}}\\sin\\Big(\\frac{n_x \\pi x}{L_x}\\Big)\\sin\\Big(\\frac{n_y \\pi y}{L_y}\\Big)$ e $E_{n_x,n_y}=\\frac{\\hbar^2 \\pi^2}{2m}\\Big(\\frac{n_x^2}{L_x^2}+\\frac{n_y^2}{L_y^2}\\Big)$, com $n_x,n_y=1,2,3,\\cdots.$ Esse sistema está sujeito a uma perturbação linear do tipo $H_1=CX\\otimes Y$, com $C$ sendo constante. Considerando $L_x=L_y=L$, calcule a correção perturbativa de 1ª ordem para a energia do estado fundamental e do 1º estado excitado desse sistema."
   ]
  },
  {
   "cell_type": "markdown",
   "id": "6e135862-a10d-4541-903b-792a91dec4be",
   "metadata": {},
   "source": [
    "_SOL._ O estado fundamental é não degenerado e tem energia\n",
    "$$E_{1,1} = \\frac{\\hbar^2 \\pi^2}{2m L^2}(1^2+1^2)=\\frac{\\hbar^2 \\pi^2}{m L^2}.$$\n",
    "Com isso, a correção perturbativa para a energia do estado fundamental desse sistema é\n",
    "\\begin{align}\n",
    "E_{1,1}^{(1)} & = \\langle \\psi_{1,1}|H_1|\\psi_{1,1}\\rangle \\\\\n",
    "& = \\langle \\psi_{1,1}|I H_1 I|\\psi_{1,1}\\rangle \\\\\n",
    "& = \\langle \\psi_{1,1}|\\int_{-\\infty}^{+\\infty}\\int_{-\\infty}^{+\\infty}dxdy(|x\\rangle\\langle x|\\otimes|y\\rangle\\langle y|)(CX\\otimes Y) \\int_{-\\infty}^{+\\infty}\\int_{-\\infty}^{+\\infty}dx'dy'(|x'\\rangle\\langle x'|\\otimes|y'\\rangle\\langle y'|) |\\psi_{1,1}\\rangle \\\\\n",
    "& = C\\langle \\psi_{1,1}|\\int_{-\\infty}^{+\\infty}\\int_{-\\infty}^{+\\infty}\\int_{-\\infty}^{+\\infty}\\int_{-\\infty}^{+\\infty}dx'dy'dxdy(|x\\rangle\\langle x|\\otimes|y\\rangle\\langle y|)( X|x'\\rangle\\langle x'|\\otimes Y|y'\\rangle\\langle y'|) |\\psi_{1,1}\\rangle \\\\\n",
    "& = C\\langle \\psi_{1,1}|\\int_{-\\infty}^{+\\infty}\\int_{-\\infty}^{+\\infty}\\int_{-\\infty}^{+\\infty}\\int_{-\\infty}^{+\\infty}dx'dy'dxdy(|x\\rangle\\langle x|\\otimes|y\\rangle\\langle y|) (x'|x'\\rangle\\langle x'|\\otimes y'|y'\\rangle\\langle y'|) |\\psi_{1,1}\\rangle \\\\\n",
    "& = C\\langle \\psi_{1,1}|\\int_{-\\infty}^{+\\infty}\\int_{-\\infty}^{+\\infty}\\int_{-\\infty}^{+\\infty}\\int_{-\\infty}^{+\\infty}dx'dy'dxdy x'y'(|x\\rangle\\langle x|x'\\rangle\\langle x'|\\otimes|y\\rangle\\langle y|y'\\rangle\\langle y'|) |\\psi_{1,1}\\rangle \\\\\n",
    "& = C\\langle \\psi_{1,1}|\\int_{-\\infty}^{+\\infty}\\int_{-\\infty}^{+\\infty}\\int_{-\\infty}^{+\\infty}\\int_{-\\infty}^{+\\infty}dx'dy'dxdy x'y'(|x\\rangle\\langle x'|\\otimes|y\\rangle\\langle y'|)\\delta(x-x')\\delta(y-y') |\\psi_{1,1}\\rangle \\\\\n",
    "& = C\\int_{-\\infty}^{+\\infty}\\int_{-\\infty}^{+\\infty}dxdy xy\\langle \\psi_{1,1}|(|x\\rangle\\otimes|y\\rangle)(\\langle x|\\otimes\\langle y|)|\\psi_{1,1}\\rangle \\\\\n",
    "& = C\\int_{-\\infty}^{+\\infty}\\int_{-\\infty}^{+\\infty}dxdy xy\\psi_{1,1}(x,y)^*\\psi_{1,1}(x,y) \\\\\n",
    "& = C\\int_{-\\infty}^{+\\infty}\\int_{-\\infty}^{+\\infty}dxdy xy |\\psi_{1,1}|^2 \\\\\n",
    "& = C\\int_{-\\infty}^{+\\infty}\\int_{-\\infty}^{+\\infty}dxdy xy\\langle \\psi_{1,1}|(|x\\rangle\\otimes|y\\rangle)(\\langle x|\\otimes\\langle y|)|\\psi_{1,1}\\rangle \\\\\n",
    "& = C\\int_{0}^{L}\\int_{0}^{L}dxdy xy \\frac{4}{L^2}\\sin^2\\Big(\\frac{n_x \\pi x}{L}\\Big)\\sin^2\\Big(\\frac{n_y \\pi y}{L}\\Big) \\\\\n",
    "& = \\frac{4C}{L^2}\\int_{0}^{L}dx x \\sin^2\\Big(\\frac{n_x \\pi x}{L}\\Big)\\int_{0}^{L}dy y\\sin^2\\Big(\\frac{n_y \\pi y}{L}\\Big) \\\\\n",
    "& = \\frac{4C}{L^2}\\frac{L^2}{4}\\frac{L^2}{4} \\\\\n",
    "& = \\frac{CL^2}{4}.\n",
    "\\end{align}"
   ]
  },
  {
   "cell_type": "code",
   "execution_count": 8,
   "id": "97fd6d39-3578-4a6a-8f11-24ea33461bc8",
   "metadata": {},
   "outputs": [
    {
     "data": {
      "image/png": "[encoded data removed]",
      "text/latex": [
       "$\\displaystyle \\frac{L^{2}}{4}$"
      ],
      "text/plain": [
       " 2\n",
       "L \n",
       "──\n",
       "4 "
      ]
     },
     "execution_count": 8,
     "metadata": {},
     "output_type": "execute_result"
    }
   ],
   "source": [
    "from sympy import symbols, integrate, sin, pi, simplify\n",
    "L = symbols('L', positive=True)\n",
    "n = symbols('n', integer=True, positive=True)\n",
    "x = symbols('x')\n",
    "simplify(integrate(x*(sin(n*pi*x/L)**2),(x,0,L)))"
   ]
  },
  {
   "cell_type": "markdown",
   "id": "c609e98d-5a1f-4c97-a1f8-e2cbe1359fab",
   "metadata": {},
   "source": [
    "O 1º estado excitado tem energia\n",
    "$$E_{1,2} = E_{2,1} = \\frac{\\hbar^2 \\pi^2}{2m L^2}(1^2+2^2)=\\frac{5\\hbar^2 \\pi^2}{2m L^2},$$\n",
    "que é duplamente degenerado, com $\\psi_{1,2}$ e $\\psi_{2,1}$ sendo uma base para o subespaço correspondente. As correções perturbativas de 1ª ordem são calculadas dizgonalizando a seguinte matrix\n",
    "$$H_1 \\doteq \\begin{bmatrix} H_1^{((1,2),(1,2))} & H_1^{((1,2),(2,1))} \\\\ H_1^{((2,1),(1,2))} & H_1^{((2,1),(2,1))} \\end{bmatrix},$$\n",
    "com\n",
    "\\begin{align}\n",
    "& H_1^{((j,k),(l,m))} = \\langle\\psi_{j,k}|H_1|\\psi_{l,m}\\rangle \\\\\n",
    "& = C\\int_{-\\infty}^{+\\infty}\\int_{-\\infty}^{+\\infty}dxdy xy\\psi_{j,k}(x,y)^*\\psi_{l,m}(x,y) \\\\\n",
    "& = \\frac{4C}{L^2}\\int_{0}^{L}\\int_{0}^{L}dxdy xy\\sin\\Big(\\frac{j \\pi x}{L}\\Big)\\sin\\Big(\\frac{k \\pi y}{L}\\Big)\\sin\\Big(\\frac{l \\pi x}{L}\\Big)\\sin\\Big(\\frac{m \\pi y}{L}\\Big) \\\\\n",
    "& = \\frac{4C}{L^2}\\int_{0}^{L}dx x\\sin\\Big(\\frac{j \\pi x}{L}\\Big)\\sin\\Big(\\frac{l \\pi x}{L}\\Big) \\int_{0}^{L}dy y \\sin\\Big(\\frac{k \\pi y}{L}\\Big)\\sin\\Big(\\frac{m \\pi y}{L}\\Big).\n",
    "\\end{align}\n",
    "Usando as integrais obtidas de forma geral usando o código abaixo, para os elementos da diagonal principal temos que\n",
    "$$H_1^{((1,2),(1,2))} = \\langle\\psi_{1,2}|H_1|\\psi_{1,2}\\rangle = H_1^{((2,1),(2,1))} = \\langle\\psi_{2,1}|H_1|\\psi_{2,1}\\rangle = \\frac{4C}{L^2}\\frac{L^2}{4}\\frac{L^2}{4} = \\frac{C L^2}{4}.$$\n",
    "Os elementos na diagonal secundária são\n",
    "$$H_1^{((1,2),(2,1))} = \\langle\\psi_{1,2}|H_1|\\psi_{2,1}\\rangle = H_1^{((2,1),(1,2))} = \\langle\\psi_{2,1}|H_1|\\psi_{1,2}\\rangle = \\frac{4C}{L^2}\\frac{-8L^2}{9\\pi^2}\\frac{-8L^2}{9\\pi^2} = \\frac{256 C L^2}{81\\pi^4},$$\n",
    "em que usamos e.g. que\n",
    "$$\\frac{2L^2jl((-1)^{j+l}-1)}{\\pi^2(j^2-l^2)^2} = \\frac{2L^2(1)(2)((-1)^{1+2}-1)}{\\pi^2(1^2-2^2)^2} = \\frac{-8L^2}{9\\pi^2}.$$\n",
    "\n",
    "As correções perturbativas são então das por\n",
    "$$E_\\pm = \\Big(\\frac{81}{324} \\pm \\frac{1024}{324\\pi^4}\\Big)CL^2 = \\Big(\\frac{1}{4} \\pm \\frac{256}{81\\pi^4}\\Big)CL^2.$$"
   ]
  },
  {
   "cell_type": "code",
   "execution_count": 9,
   "id": "e2f15400-bfb4-4a93-916e-9a096f6b0163",
   "metadata": {},
   "outputs": [
    {
     "data": {
      "image/png": "[encoded data removed]",
      "text/latex": [
       "$\\displaystyle \\begin{cases} \\frac{2 L^{2} j l \\left(\\left(-1\\right)^{j + l} - 1\\right)}{\\pi^{2} \\left(j^{4} - 2 j^{2} l^{2} + l^{4}\\right)} & \\text{for}\\: j \\neq l \\\\\\frac{L^{2}}{4} & \\text{otherwise} \\end{cases}$"
      ],
      "text/plain": [
       "⎧   2     ⎛    j + l    ⎞           \n",
       "⎪2⋅L ⋅j⋅l⋅⎝(-1)      - 1⎠           \n",
       "⎪────────────────────────  for j ≠ l\n",
       "⎪  2 ⎛ 4      2  2    4⎞            \n",
       "⎪ π ⋅⎝j  - 2⋅j ⋅l  + l ⎠            \n",
       "⎨                                   \n",
       "⎪            2                      \n",
       "⎪           L                       \n",
       "⎪           ──             otherwise\n",
       "⎪           4                       \n",
       "⎩                                   "
      ]
     },
     "execution_count": 9,
     "metadata": {},
     "output_type": "execute_result"
    }
   ],
   "source": [
    "j,l = symbols('j l', integer=True, positive=True)\n",
    "x = symbols('x')\n",
    "simplify(integrate(x*(sin(j*pi*x/L)*sin(l*pi*x/L)),(x,0,L)))"
   ]
  },
  {
   "cell_type": "code",
   "execution_count": 10,
   "id": "0252735e-fd6d-43da-8234-6ef45bb4259c",
   "metadata": {},
   "outputs": [
    {
     "data": {
      "image/png": "[encoded data removed]",
      "text/latex": [
       "$\\displaystyle \\left[\\begin{matrix}\\frac{C L^{2}}{4} & \\frac{256 C L^{2}}{81 \\pi^{4}}\\\\\\frac{256 C L^{2}}{81 \\pi^{4}} & \\frac{C L^{2}}{4}\\end{matrix}\\right]$"
      ],
      "text/plain": [
       "⎡     2           2⎤\n",
       "⎢  C⋅L     256⋅C⋅L ⎥\n",
       "⎢  ────    ────────⎥\n",
       "⎢   4           4  ⎥\n",
       "⎢           81⋅π   ⎥\n",
       "⎢                  ⎥\n",
       "⎢       2       2  ⎥\n",
       "⎢256⋅C⋅L     C⋅L   ⎥\n",
       "⎢────────    ────  ⎥\n",
       "⎢     4       4    ⎥\n",
       "⎣ 81⋅π             ⎦"
      ]
     },
     "execution_count": 10,
     "metadata": {},
     "output_type": "execute_result"
    }
   ],
   "source": [
    "C,L = symbols('C L', positive=True)\n",
    "H1 = Matrix([[(C*L**2)/4, (256*C*L**2)/(81*pi**4)],[(256*C*L**2)/(81*pi**4), (C*L**2)/4]]); H1"
   ]
  },
  {
   "cell_type": "code",
   "execution_count": 11,
   "id": "64ee0b8f-d08a-44fc-b01a-504b4408c257",
   "metadata": {},
   "outputs": [
    {
     "data": {
      "image/png": "[encoded data removed]",
      "text/latex": [
       "$\\displaystyle \\left\\{ \\frac{- 1024 C L^{2} + 81 \\pi^{4} C L^{2}}{324 \\pi^{4}} : 1, \\  \\frac{1024 C L^{2} + 81 \\pi^{4} C L^{2}}{324 \\pi^{4}} : 1\\right\\}$"
      ],
      "text/plain": [
       "⎧          2       4    2             2       4    2   ⎫\n",
       "⎪- 1024⋅C⋅L  + 81⋅π ⋅C⋅L      1024⋅C⋅L  + 81⋅π ⋅C⋅L    ⎪\n",
       "⎨────────────────────────: 1, ──────────────────────: 1⎬\n",
       "⎪              4                           4           ⎪\n",
       "⎩         324⋅π                       324⋅π            ⎭"
      ]
     },
     "execution_count": 11,
     "metadata": {},
     "output_type": "execute_result"
    }
   ],
   "source": [
    "simplify(H1.eigenvals())"
   ]
  },
  {
   "cell_type": "code",
   "execution_count": 12,
   "id": "205257b8-f99c-4b0f-ad0d-532f57b6a087",
   "metadata": {},
   "outputs": [
    {
     "data": {
      "image/png": "[encoded data removed]",
      "text/latex": [
       "$\\displaystyle \\left( 0.25, \\  256.0, \\  81.0\\right)$"
      ],
      "text/plain": [
       "(0.25, 256.0, 81.0)"
      ]
     },
     "execution_count": 12,
     "metadata": {},
     "output_type": "execute_result"
    }
   ],
   "source": [
    "81/324, 1024/4, 324/4"
   ]
  },
  {
   "cell_type": "markdown",
   "id": "339b384f-1198-4d6f-ab44-84f6e60a3c35",
   "metadata": {},
   "source": [
    "---\n",
    "$7.$ Verifique que as correções de 2ª ordem para os autovetores são obtidas de\n",
    "\\begin{align}\n",
    "|\\psi_n^{(2)}\\rangle & = \\sum_{m\\ne n}\\sum_{j=1}^{d_{m}}\\sum_{m'\\ne n}\\sum_{j'=1}^{d_{m'}}\\sum_{k=1}^{d_{n}}\\frac{c_{n,k}\\langle\\psi_{m,j}^{(0)}|H_{1}|\\psi_{m',j'}^{(0)}\\rangle\\langle\\psi_{m',j'}^{(0)}|H_{1}|\\psi_{n,k}^{(0)}\\rangle}{(E_{n}-E_{m}^{(0)})(E_{n}-E_{m'}^{(0)})}|\\psi_{m,j}^{(0)}\\rangle \\\\\n",
    "& - \\sum_{m\\ne n}\\sum_{j=1}^{d_{m}}\\sum_{k=1}^{d_{n}}\\frac{c_{n,k}\\langle\\psi_{m,j}^{(0)}|H_{1}|\\psi_{n,k}^{(0)}\\rangle E_n^{(1)}}{\\big(E_{n}^{(0)}-E_{m}^{(0)}\\big)^2}|\\psi_{m,j}^{(0)}\\rangle.\n",
    "\\end{align}"
   ]
  },
  {
   "cell_type": "markdown",
   "id": "ff8f50dc-153b-4884-a550-815479d607b0",
   "metadata": {},
   "source": [
    "_SOL._"
   ]
  },
  {
   "cell_type": "markdown",
   "id": "852f1a3b-86a9-44c0-86e3-2d08c7a49117",
   "metadata": {},
   "source": [
    "---\n",
    "$8.$ Considere o oscilador harmônico quântico em três dimensões (OHQ3D). Determine o hamiltoniano $H_0$ desse sistema. Obtenha os autovalores e autovetores de $H_0$. Quantifique as degenerescências dos autovalores de $H_0$."
   ]
  },
  {
   "cell_type": "markdown",
   "id": "64678f87-6c9b-4ca1-870e-e550504d44af",
   "metadata": {},
   "source": [
    "_SOL._ Usando \n",
    "$$||\\vec{P}||^2 = \\sum_{j=1}^3 P_j^2 \\text{ e } ||\\vec{R}||^2 = \\sum_{j=1}^3 X_j^2$$\n",
    "vemos que \n",
    "$$H=\\sum_{j=1}^3 \\Big(\\frac{P_j^2}{2m}+\\frac{m\\omega^2 X_j^2}{2}\\Big) = \\sum_{j=1}^3 H_j^{ohq}$$\n",
    "com \n",
    "$$H_j^{ohq}=\\hbar\\omega(a_j^\\dagger a_j + I/2)$$\n",
    "sendo o OHQ1D para a direção $j=1,2,3=x,y,z$. Aqui é importante notar que essas direções espaciais são graus de liberdade diferentes, ou seja, \n",
    "$$\\mathcal{H}=\\mathcal{H}_x\\otimes\\mathcal{H}_y\\otimes\\mathcal{H}_z$$ e e.g. \n",
    "$$a_2 \\equiv I_1\\otimes a_2\\otimes I_3.$$\n",
    "Como \n",
    "$$H_j^{ohq}|n_j\\rangle=\\hbar\\omega(n_j+1/2)|n_j\\rangle$$"
   ]
  },
  {
   "cell_type": "markdown",
   "id": "394057e6-47e0-4423-9577-30ff72714b39",
   "metadata": {},
   "source": [
    "para o OHQ1D, para o OHQ3D teremos \n",
    "$$H = H_1^{ohq}\\otimes I_2\\otimes I_3 + I_1\\otimes H_1^{ohq}\\otimes I_3 + I_1\\otimes I_2\\otimes H_1^{ohq}$$\n",
    "e assim\n",
    "\\begin{align}\n",
    "H|n_1\\rangle\\otimes|n_2\\rangle\\otimes|n_3\\rangle & = (H_1^{ohq}|n_1\\rangle)\\otimes|n_2\\rangle\\otimes|n_3\\rangle + |n_1\\rangle\\otimes(H_2^{ohq}|n_2\\rangle)\\otimes|n_3\\rangle + |n_1\\rangle\\otimes|n_2\\rangle\\otimes(H_3^{ohq}|n_3\\rangle) \\\\\n",
    "& = \\hbar\\omega(n_1+1/2)|n_1\\rangle\\otimes|n_2\\rangle\\otimes|n_3\\rangle + |n_1\\rangle\\otimes \\hbar\\omega(n_2+1/2)|n_2\\rangle\\otimes|n_3\\rangle + |n_1\\rangle\\otimes|n_2\\rangle\\otimes \\hbar\\omega(n_3+1/2)|n_3\\rangle \\\\\n",
    "& = \\hbar\\omega(n_1+n_2+n_3+3/2)|n_1\\rangle\\otimes|n_2\\rangle\\otimes|n_3\\rangle \\\\\n",
    "& = \\hbar\\omega(n+3/2)|n_1\\rangle\\otimes|n_2\\rangle\\otimes|n_3\\rangle.\n",
    "\\end{align}\n",
    "\n",
    "A degerescência de uma certa energia \n",
    "$$E_n = \\hbar\\omega(n+1/2)$$\n",
    "é o número de combinações de $(n_1,n_2,n_3)$ tais que\n",
    "$$n=n_1+n_2+n_3.$$"
   ]
  },
  {
   "cell_type": "markdown",
   "id": "f8f228ee-cdbd-494d-8b67-579e418b1521",
   "metadata": {},
   "source": [
    "Com \n",
    "$$n_j = 0,1,2,\\cdots,\\infty$$\n",
    "temos que \n",
    "\\begin{align}\n",
    "& n = 0,\\ \\therefore\\ (n_1,n_2,n_3)=(0,0,0)\\ \\therefore\\ d_0=1=\\frac{(0+1)(0+2)}{2}, \\\\\n",
    "& n = 1,\\ \\therefore\\ (n_1,n_2,n_3)=(1,0,0),(0,1,0),(0,0,1)\\ \\therefore\\ d_1=3=\\frac{(1+1)(1+2)}{2}, \\\\\n",
    "& n = 2,\\ \\therefore\\ (n_1,n_2,n_3)=(2,0,0),(0,2,0),(0,0,2),(1,1,0),(1,0,1),(0,1,1)\\ \\therefore\\ d_2=6=\\frac{(2+1)(2+2)}{2}, \\\\\n",
    "& n = 3,\\ \\therefore\\ (n_1,n_2,n_3)=(3,0,0),(0,3,0),(0,0,3),(2,1,0),(2,0,1),(0,2,1),(1,2,0),(1,0,2),(0,1,2),(1,1,1),\\ \\therefore\\ d_3=10=\\frac{(3+1)(3+2)}{2}, \\\\\n",
    "& \\vdots \\\\\n",
    "& n\\ \\therefore\\ d_n = \\frac{(n+1)(n+2)}{2} = \\binom{n+2}{2} = \\frac{(n+2)!}{(n+2-2)!2!} = \\frac{(n+2)(n+1)(n!)}{n!2}.\n",
    "\\end{align}"
   ]
  },
  {
   "cell_type": "markdown",
   "id": "dde48f2f-3438-469d-86b4-a1195e3b056a",
   "metadata": {},
   "source": [
    "---\n",
    "$9.$ Considere que o OHQ3D da questão anterior é carregado eletricamente e é submetido a um campo magnético constante na direção $z$. Considere essa interação como um hamiltoniano $H_1$ de perturbação e calcule as correções perturbativas de 1ª ordem para o menor autovalor de energia degenerado de $H_0.$"
   ]
  },
  {
   "cell_type": "markdown",
   "id": "f111ffbf-20c0-406b-98f3-7446a100d382",
   "metadata": {},
   "source": [
    "_SOL._ Assim como nas notas de aula, teremos que \n",
    "\\begin{align}\n",
    "H_1 & = -\\vec{\\mu}\\cdot\\vec{B} = -\\frac{gq}{2m}\\vec{L}\\cdot B\\hat{l} \\\\\n",
    "& =: gL_3 = g(X_1 P_2 - X_2 P_1) \\\\\n",
    "& = gi\\hbar(a_{2}^{\\dagger}a_{1} - a_{1}^{\\dagger}a_{2}).\n",
    "\\end{align}\n",
    "\n",
    "A menor energia degenerada desse sistema é $E_1$, para a qual $d_1=3.$ O elementos de matriz do hamiltoniano de perturbação $H_1$ na base de autovetores de $H_0$ nesse subespaço $\\{|100\\rangle,|010\\rangle,|001\\rangle\\}$. Vamos considerar um elemento de matriz geral\n",
    "\\begin{align}\n",
    "\\langle n'_1,n'_2,n'_3|H_1|n_1,n_2,n_3\\rangle & = \\langle n'_1,n'_2,n'_3|gi\\hbar(a_{2}^{\\dagger}a_{1} - a_{1}^{\\dagger}a_{2})|n_1,n_2,n_3\\rangle \\\\\n",
    "& = gi\\hbar\\langle n'_1,n'_2,n'_3|\\Big(\\sqrt{n_2+1}\\sqrt{n_1}|n_1-1,n_2+1,n_3\\rangle - \\sqrt{n_1+1}\\sqrt{n_2}|n_1+1,n_2-1,n_3\\rangle\\Big) \\\\\n",
    "& = gi\\hbar\\Big(\\sqrt{(n_2+1)n_1}\\delta_{n'_1,n_1-1}\\delta_{n'_2,n_2+1}\\delta_{n'_3,n_3} - \\sqrt{(n_1+1)n_2}\\delta_{n'_1,n_1+1}\\delta_{n'_2,n_2-1}\\delta_{n'_3,n_3}\\Big) \\\\\n",
    "& = gi\\hbar\\Big(\\sqrt{(n_2+1)n_1}\\delta_{n'_1,n_1-1}\\delta_{n'_2,n_2+1} - \\sqrt{(n_1+1)n_2}\\delta_{n'_1,n_1+1}\\delta_{n'_2,n_2-1}\\Big)\\delta_{n'_3,n_3}.\n",
    "\\end{align}"
   ]
  },
  {
   "cell_type": "markdown",
   "id": "7c8e6339-2c35-4ead-8d79-ceaa4f525c75",
   "metadata": {},
   "source": [
    "Assim\n",
    "\\begin{align}\n",
    "H_1 & = \\begin{bmatrix} \\langle 100|H_1|100\\rangle & \\langle 100|H_1|010\\rangle & \\langle 100|H_1|001\\rangle \\\\  \\langle 010|H_1|100\\rangle & \\langle 010|H_1|010\\rangle & \\langle 010|H_1|001\\rangle \\\\  \\langle 001|H_1|100\\rangle & \\langle 001|H_1|010\\rangle & \\langle 001|H_1|001\\rangle \\end{bmatrix} \\\\\n",
    "& = gi\\hbar\\begin{bmatrix} 0 & -\\sqrt{(0+1)1} & 0 \\\\  \\sqrt{1(0+1)} & 0 & 0 \\\\  0 & 0 & 0 \\end{bmatrix}  = gi\\hbar\\begin{bmatrix} 0 & -1 & 0 \\\\ 1 & 0 & 0 \\\\  0 & 0 & 0 \\end{bmatrix}.\n",
    "\\end{align}\n",
    "Temos assim que\n",
    "$$E_2=3\\hbar\\omega/2 \\rightarrow \\begin{cases} 3\\hbar\\omega/2 + \\hbar g \\\\ 3\\hbar\\omega/2 \\\\ 3\\hbar\\omega/2 - \\hbar g \\end{cases}. $$"
   ]
  },
  {
   "cell_type": "code",
   "execution_count": 110,
   "id": "0542e954-b506-4ca1-b095-321e0f8597a3",
   "metadata": {},
   "outputs": [
    {
     "data": {
      "image/png": "[encoded data removed]",
      "text/latex": [
       "$\\displaystyle \\left[ \\left( 0, \\  1, \\  \\left[ \\left[\\begin{matrix}0\\\\0\\\\1.0\\end{matrix}\\right]\\right]\\right), \\  \\left( - g \\hbar, \\  1, \\  \\left[ \\left[\\begin{matrix}1.0 i\\\\1.0\\\\0\\end{matrix}\\right]\\right]\\right), \\  \\left( g \\hbar, \\  1, \\  \\left[ \\left[\\begin{matrix}- 1.0 i\\\\1.0\\\\0\\end{matrix}\\right]\\right]\\right)\\right]$"
      ],
      "text/plain": [
       "⎡⎛      ⎡⎡ 0 ⎤⎤⎞  ⎛         ⎡⎡1.0⋅ⅈ⎤⎤⎞  ⎛        ⎡⎡-1.0⋅ⅈ⎤⎤⎞⎤\n",
       "⎢⎜      ⎢⎢   ⎥⎥⎟  ⎜         ⎢⎢     ⎥⎥⎟  ⎜        ⎢⎢      ⎥⎥⎟⎥\n",
       "⎢⎜0, 1, ⎢⎢ 0 ⎥⎥⎟, ⎜-g⋅h̅, 1, ⎢⎢ 1.0 ⎥⎥⎟, ⎜g⋅h̅, 1, ⎢⎢ 1.0  ⎥⎥⎟⎥\n",
       "⎢⎜      ⎢⎢   ⎥⎥⎟  ⎜         ⎢⎢     ⎥⎥⎟  ⎜        ⎢⎢      ⎥⎥⎟⎥\n",
       "⎣⎝      ⎣⎣1.0⎦⎦⎠  ⎝         ⎣⎣  0  ⎦⎦⎠  ⎝        ⎣⎣  0   ⎦⎦⎠⎦"
      ]
     },
     "execution_count": 110,
     "metadata": {},
     "output_type": "execute_result"
    }
   ],
   "source": [
    "g, hbb = symbols('g hbar')\n",
    "H1 = g*1j*hbb*Matrix([[0,-1,0],[1,0,0],[0,0,0]]); H1\n",
    "H1.eigenvects()"
   ]
  },
  {
   "cell_type": "code",
   "execution_count": null,
   "id": "61933331-22e2-4b11-905e-84ae3876f80e",
   "metadata": {},
   "outputs": [],
   "source": []
  }
 ],
 "metadata": {
  "kernelspec": {
   "display_name": "Python 3 (ipykernel)",
   "language": "python",
   "name": "python3"
  },
  "language_info": {
   "codemirror_mode": {
    "name": "ipython",
    "version": 3
   },
   "file_extension": ".py",
   "mimetype": "text/x-python",
   "name": "python",
   "nbconvert_exporter": "python",
   "pygments_lexer": "ipython3",
   "version": "3.12.2"
  }
 },
 "nbformat": 4,
 "nbformat_minor": 5
}
